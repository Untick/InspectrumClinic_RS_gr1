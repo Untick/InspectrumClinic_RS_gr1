{
  "nbformat": 4,
  "nbformat_minor": 0,
  "metadata": {
    "colab": {
      "provenance": [],
      "authorship_tag": "ABX9TyPm2dJre1oUwhavVOSWE++B",
      "include_colab_link": true
    },
    "kernelspec": {
      "name": "python3",
      "display_name": "Python 3"
    },
    "language_info": {
      "name": "python"
    },
    "gpuClass": "standard"
  },
  "cells": [
    {
      "cell_type": "markdown",
      "metadata": {
        "id": "view-in-github",
        "colab_type": "text"
      },
      "source": [
        "<a href=\"https://colab.research.google.com/github/Untick/InspectrumClinic_RS_gr1/blob/Kozlov-Alexey-folder/Kozlov%20Alexey/InspectrumClinic_gr1_akozlov_20230515_02week.ipynb\" target=\"_parent\"><img src=\"https://colab.research.google.com/assets/colab-badge.svg\" alt=\"Open In Colab\"/></a>"
      ]
    },
    {
      "cell_type": "markdown",
      "source": [
        "**Рекомендательная система для профпатолога (INSPECTRUM CLINIC)**"
      ],
      "metadata": {
        "id": "ALJziHyQWOSU"
      }
    },
    {
      "cell_type": "markdown",
      "source": [
        "Цель: \n",
        "Разработать прототип системы, реализующей функцию рекомендательной системы для врача профпатолога.\n",
        "\n",
        "Алексей Козлов 2023.05.15 - 2023.05.22 (2-я неделя):\n",
        "обработка данных, создание модели DL-точности первой точности"
      ],
      "metadata": {
        "id": "eUKhn2kaWQzi"
      }
    },
    {
      "cell_type": "code",
      "source": [
        "# Загрузка файлов из облака\n",
        "import gdown\n",
        "# Библиотека для работы с массивами данных\n",
        "import numpy as np\n",
        "# Библиотека для обработки и анализа данных\n",
        "import pandas as pd\n",
        "# Библиотека для построения графиков\n",
        "import matplotlib.pyplot as plt\n",
        "# Библиотека для построения графиков\n",
        "import seaborn as sns"
      ],
      "metadata": {
        "id": "HLK8en0QYFUy"
      },
      "execution_count": 1,
      "outputs": []
    },
    {
      "cell_type": "code",
      "source": [
        "# Загрузка файла датасета\n",
        "url1 = 'https://storage.yandexcloud.net/terratraineeship/23_InspectrumClinic_RS/datasets/%D0%B4%D0%B0%D1%82%D0%B0%D1%81%D0%B5%D1%82%20%D0%BF%D1%80%D0%BE%D1%84%D0%BF%D0%B0%D1%82%D0%BE%D0%BB%D0%BE%D0%B3%20%D1%87%D0%B0%D1%81%D1%82%D1%8C.xlsx'\n",
        "url2 = '/content/InspectrumClinic1.xlsx'\n",
        "gdown.download(url1, url2, quiet=False)"
      ],
      "metadata": {
        "colab": {
          "base_uri": "https://localhost:8080/",
          "height": 127
        },
        "id": "jcvZhMKcYbB6",
        "outputId": "937607e1-c5c1-4445-f487-340bb97f77b5"
      },
      "execution_count": 2,
      "outputs": [
        {
          "output_type": "stream",
          "name": "stderr",
          "text": [
            "Downloading...\n",
            "From: https://storage.yandexcloud.net/terratraineeship/23_InspectrumClinic_RS/datasets/%D0%B4%D0%B0%D1%82%D0%B0%D1%81%D0%B5%D1%82%20%D0%BF%D1%80%D0%BE%D1%84%D0%BF%D0%B0%D1%82%D0%BE%D0%BB%D0%BE%D0%B3%20%D1%87%D0%B0%D1%81%D1%82%D1%8C.xlsx\n",
            "To: /content/InspectrumClinic1.xlsx\n",
            "100%|██████████| 32.4M/32.4M [00:03<00:00, 10.3MB/s]\n"
          ]
        },
        {
          "output_type": "execute_result",
          "data": {
            "text/plain": [
              "'/content/InspectrumClinic1.xlsx'"
            ],
            "application/vnd.google.colaboratory.intrinsic+json": {
              "type": "string"
            }
          },
          "metadata": {},
          "execution_count": 2
        }
      ]
    },
    {
      "cell_type": "code",
      "source": [
        "# Чтение данных (df - DataFrame)\n",
        "df = pd.read_excel(url2)"
      ],
      "metadata": {
        "id": "_NhMIB6gYrra"
      },
      "execution_count": 3,
      "outputs": []
    },
    {
      "cell_type": "markdown",
      "source": [
        "---\n",
        "**Шаг 1. Обработка и анализ данных**\n",
        "---"
      ],
      "metadata": {
        "id": "x1Rco7X2ZdlR"
      }
    },
    {
      "cell_type": "code",
      "source": [
        "# Выведем информацию о заполненности ячеек каждого признака\n",
        "df.info()"
      ],
      "metadata": {
        "colab": {
          "base_uri": "https://localhost:8080/"
        },
        "id": "FFaBGLcZ2GMX",
        "outputId": "84f9afa7-0067-40ae-e394-ab24f04555bd"
      },
      "execution_count": 4,
      "outputs": [
        {
          "output_type": "stream",
          "name": "stdout",
          "text": [
            "<class 'pandas.core.frame.DataFrame'>\n",
            "RangeIndex: 1982 entries, 0 to 1981\n",
            "Columns: 4587 entries, ДокументПрохождениеМедосмотра to Офтальмология1_ДвигательныйАппаратГлазДополнение_ЗначениеПредставление\n",
            "dtypes: bool(1), datetime64[ns](43), float64(1253), object(3290)\n",
            "memory usage: 69.3+ MB\n"
          ]
        }
      ]
    },
    {
      "cell_type": "markdown",
      "source": [
        "**Функции для обработки и представления данных:**"
      ],
      "metadata": {
        "id": "QvEwALMZZvm8"
      }
    },
    {
      "cell_type": "code",
      "source": [
        "def printRowColCount():\n",
        "  '''\n",
        "    Отображаем текущее количества строк и столбцов в датасете\n",
        "  '''\n",
        "  print(f'Текущий датасет: число строк: {df.shape[0]}, число колонок: {df.shape[1]}, {df.shape}')\n",
        "\n",
        "def getColInx(colName):\n",
        "  '''\n",
        "    Получение индекса колонки\n",
        "    вход:\n",
        "        colName - название колонки\n",
        "    выход:\n",
        "        retVal - индекс колонки\n",
        "  '''\n",
        "  retVal = df.columns.get_loc(colName)\n",
        "  return retVal\n",
        "\n",
        "def getColVals(colInx):\n",
        "  '''\n",
        "    Получение списка значений колонки\n",
        "    вход:\n",
        "        colInx - индекс колонки\n",
        "    выход:\n",
        "        retVal - список значений\n",
        "  '''\n",
        "  retVal = df.iloc[:, colInx].tolist()\n",
        "  return retVal\n",
        "\n",
        "def getColUniqueVals(colName):\n",
        "  '''\n",
        "    Получение списка уникальных значений колонки\n",
        "    вход:\n",
        "        colName - название колонки\n",
        "    выход:\n",
        "        retVal - список уникальных значений\n",
        "  '''\n",
        "  retVal = df[colName].unique().tolist()\n",
        "  return retVal\n",
        "\n",
        "def getBoolColNames():\n",
        "  '''\n",
        "    Получение списка названий колонок типа bool\n",
        "  '''\n",
        "  retVal = list(df.select_dtypes(include=['bool']).columns)\n",
        "  return retVal\n",
        "\n",
        "def getDateTimeColNames():\n",
        "  '''\n",
        "    Получение списка названий колонок типа datetime64\n",
        "  '''\n",
        "  # retVal = list(df.select_dtypes(include=['datetime64[ns]']).columns)\n",
        "  retVal = list(df.select_dtypes(include=['datetime64']).columns)\n",
        "  return retVal\n",
        "\n",
        "def getObjStrColNames():\n",
        "  '''\n",
        "    Получение списка названий колонок типа object-string\n",
        "  '''\n",
        "  retVal = list(df.select_dtypes(include=['object']).columns)\n",
        "  return retVal\n",
        "\n",
        "def patchTextCol(colName):\n",
        "  '''\n",
        "    Удаляем в описаниях(текстовых полях) неразрывные пробелы, перевод каретки: \\xa0 \\n\n",
        "    вход:\n",
        "        colName - название колонки\n",
        "  '''\n",
        "  # Цикл по всем строкам\n",
        "  for i in range(df.shape[0]):\n",
        "    #заменяем фрагменты кодировки ASCII на отсутствие символов\n",
        "    df.values[i][j] = df.values[i][j].replace(\"\\xa0\",\"\")\n",
        "    df.values[i][j] = df.values[i][j].replace(\"\\n\",\" \")\n",
        "#TODO\n",
        "#    привести к нижнему регистру и удалить пробелы слева и справа\n",
        "\n",
        "def print1Row(rowInx):\n",
        "  '''\n",
        "    Печать одной строки с индексом rowInx\n",
        "    вход:\n",
        "        rowInx - индекс строки\n",
        "  '''\n",
        "  # Цикл по всем колонкам\n",
        "#  for j in range(df.shape[1]):\n",
        "  for j in range(14):\n",
        "   print(f'{j}: {df.values[rowInx][j]}')\n",
        "\n",
        "def errRowRemove(colName, errVals):\n",
        "  '''\n",
        "    Удаляем строки в датасете\n",
        "    вход:\n",
        "        colName - название колонки\n",
        "        errVals - список запрещенных значений\n",
        "  '''\n",
        "\n",
        "  print(f'1>>>>>>>>>>colName: {colName}')\n",
        "  print(f'2>>>>>>>>>>errVals: {errVals}')\n",
        "\n",
        "  dropInxList = df[df[colName].isin(errVals)].index\n",
        "  print(f'3>>>>>>>>>>dropInxList: {dropInxList}')\n",
        "\n",
        "  print()\n",
        "\n",
        "def nanRowRemove(colName):\n",
        "  '''\n",
        "    Удаляем строки в датасете, которые не имеют значений\n",
        "    вход:\n",
        "        colName - название колонки\n",
        "  '''\n",
        "\n",
        "  print(f'1>>>>>>>>>>colName: {colName}')\n",
        "\n",
        "\n",
        "\n",
        "# def drop_rows_by_condition(df, column_name, forbidden_values):\n",
        "#     indexes_to_drop = df[df[column_name].isin(forbidden_values)].index\n",
        "#     df = df.drop(index=indexes_to_drop)\n",
        "#     return df"
      ],
      "metadata": {
        "id": "q0LYqUV8ZhgZ"
      },
      "execution_count": 42,
      "outputs": []
    },
    {
      "cell_type": "code",
      "source": [
        "printRowColCount()\n",
        "#print1Row(1024)"
      ],
      "metadata": {
        "colab": {
          "base_uri": "https://localhost:8080/"
        },
        "id": "7D-yzgt0tcHA",
        "outputId": "111e7241-3f38-4517-ffb7-e8263f5af916"
      },
      "execution_count": 41,
      "outputs": [
        {
          "output_type": "stream",
          "name": "stdout",
          "text": [
            "Текущий датасет: число строк: 1982, число колонок: 4587, (1982, 4587)\n",
            "0: 59fb827b-616e-11ed-8109-0cc47aab8067\n",
            "1: abe3549b-4042-11ec-80fa-0cc47aab8067\n",
            "2: 1989-07-10 00:00:00\n",
            "3: Мужской\n",
            "4: Мужской\n",
            "5: 2022-11-11 00:00:00\n",
            "6: Периодический\n",
            "7: Периодический\n",
            "8: False\n",
            "9: 00bbe942-2944-11ea-80d7-0cc47aab8067\n",
            "10: nan\n",
            "11: Оператор технологических установок 5 разряда\n",
            "12:  Газоспасатель\n",
            "13: Годен\n"
          ]
        }
      ]
    },
    {
      "cell_type": "markdown",
      "source": [
        "**Целевой столбец “ЗаключениеМК”**"
      ],
      "metadata": {
        "id": "0DWwdFBYwYwn"
      }
    },
    {
      "cell_type": "code",
      "source": [
        "targetColName = 'ЗаключениеМК'\n",
        "\n",
        "strCols = getObjStrColNames()\n",
        "if targetColName in strCols:\n",
        "    print(f'\"{targetColName}\" найдено в списке колонок типа object-string')\n",
        "else:\n",
        "    print(f'\"{targetColName}\" не найдено в списке колонок типа object-string')\n",
        "\n",
        "# inx = strCols.index(targetColName)\n",
        "# colInx = getColInx(targetColName)\n",
        "# print(f'\"{targetColName}\": индекс в списке: {inx}, индекс в таблице: {colInx}')\n",
        "# icol = 0\n",
        "# for colVal in strCols:\n",
        "#   print(f'col:{icol} |{colVal}|')\n",
        "#   icol += 1\n",
        "\n",
        "сolUVals = getColUniqueVals(targetColName)\n",
        "print(f'сolUVals: {сolUVals}')\n",
        "\n",
        "# Удаление строк по значению колонки\n",
        "forbiddenVals = list()\n",
        "forbiddenVals.append('машинист бульдозера')\n",
        "forbiddenVals.append('Газоспасатель')\n",
        "forbiddenVals.append(' Газоспасатель')\n",
        "errRowRemove(targetColName, forbiddenVals)\n",
        "\n",
        "print('!!!!!!!!!!!!!!!!')\n"
      ],
      "metadata": {
        "colab": {
          "base_uri": "https://localhost:8080/"
        },
        "id": "NJEyLWyCyZSQ",
        "outputId": "1480d19d-a857-43a2-c7f5-de39583da07d"
      },
      "execution_count": 43,
      "outputs": [
        {
          "output_type": "stream",
          "name": "stdout",
          "text": [
            "\"ЗаключениеМК\" найдено в списке колонок типа object-string\n",
            "сolUVals: ['Годен', 'ГоденСКоррекциейЗрения', 'ГоденБезРаботНаВысотах', 'НуждаетсяВДообследованииИЛечении', 'ВременноНегоден', 'ОграниченноГоден', nan, 'машинист бульдозера', 'Газоспасатель', ' Газоспасатель']\n",
            "1>>>>>>>>>>colName: ЗаключениеМК\n",
            "2>>>>>>>>>>errVals: ['машинист бульдозера', 'Газоспасатель', ' Газоспасатель']\n",
            "3>>>>>>>>>>dropInxList: Int64Index([843, 851, 1022, 1024], dtype='int64')\n",
            "\n",
            "!!!!!!!!!!!!!!!!\n"
          ]
        }
      ]
    },
    {
      "cell_type": "markdown",
      "source": [
        "**Колонка “ПсихОсвидетельствование” типа bool**"
      ],
      "metadata": {
        "id": "-PPQ8SyqZ73Z"
      }
    },
    {
      "cell_type": "code",
      "source": [
        "boolCols = getBoolColNames()\n",
        "icol = 0\n",
        "for colVal in boolCols:\n",
        "  print(f'col:{icol} |{colVal}|')\n",
        "  icol += 1\n",
        "\n",
        "colInx = getColInx(boolCols[0])\n",
        "сolVals = getColVals(colInx)\n",
        "сolUVals = getColUniqueVals(boolCols[0])\n",
        "print(f'colInx: {colInx}')\n",
        "#print(f'сolVals: {сolVals}')\n",
        "print(f'сolUVals: {сolUVals}')"
      ],
      "metadata": {
        "colab": {
          "base_uri": "https://localhost:8080/"
        },
        "id": "mU7wKuVddA8o",
        "outputId": "4b7366ff-59a1-4a1e-8b08-776f064c0edc"
      },
      "execution_count": null,
      "outputs": [
        {
          "output_type": "stream",
          "name": "stdout",
          "text": [
            "col:0 |ПсихОсвидетельствование|\n",
            "colInx: 8\n",
            "сolUVals: [False, True]\n"
          ]
        }
      ]
    },
    {
      "cell_type": "markdown",
      "source": [
        "Значений типа 'nan', поэтому колонку не исправляем.\n",
        "Считаю поле важным, поэтому его оставляю для постоения нейросети."
      ],
      "metadata": {
        "id": "ayM5EiZxsQGR"
      }
    },
    {
      "cell_type": "markdown",
      "source": [
        "**Колонки типа datetime64**"
      ],
      "metadata": {
        "id": "kWFZblItsx6o"
      }
    },
    {
      "cell_type": "code",
      "source": [
        "dtCols = getDateTimeColNames()\n",
        "icol = 0\n",
        "for colVal in dtCols:\n",
        "  print(f'col:{icol} |{colVal}|')\n",
        "  icol += 1"
      ],
      "metadata": {
        "colab": {
          "base_uri": "https://localhost:8080/"
        },
        "id": "pe6EYUz8tnQA",
        "outputId": "fd4e2481-a9f2-49d7-d12b-5a1cd92f2f60"
      },
      "execution_count": null,
      "outputs": [
        {
          "output_type": "stream",
          "name": "stdout",
          "text": [
            "col:0 |КлиентДатаРождения|\n",
            "col:1 |ДатаЗавершенияМедосмотра|\n",
            "col:2 |ЛабораторныеИсследования1_ДатаПриема|\n",
            "col:3 |Рентгенология1_ДатаПриема|\n",
            "col:4 |Рентгенология2_ДатаПриема|\n",
            "col:5 |ПсихиатрияНаркология1_ДатаПриема|\n",
            "col:6 |Офтальмология1_ДатаПриема|\n",
            "col:7 |Оториноларингология1_ДатаПриема|\n",
            "col:8 |ХирургНеИсп1_ДатаПриема|\n",
            "col:9 |Гинекология1_ДатаПриема|\n",
            "col:10 |ФункциональнаяДиагностика1_ДатаПриема|\n",
            "col:11 |Стоматология1_ДатаПриема|\n",
            "col:12 |Эндоскопия1_ДатаПриема|\n",
            "col:13 |Терапия1_ДатаПриема|\n",
            "col:14 |Дерматовенерология1_ДатаПриема|\n",
            "col:15 |Неврология1_ДатаПриема|\n",
            "col:16 |УЗИДиагностика1_ДатаПриема|\n",
            "col:17 |Хирургия1_ДатаПриема|\n",
            "col:18 |Хирургия2_ДатаПриема|\n",
            "col:19 |Терапия2_ДатаПриема|\n",
            "col:20 |Неврология2_ДатаПриема|\n",
            "col:21 |Неврология2_ДатаПриема_Значение|\n",
            "col:22 |Неврология2_ДатаПриема_ЗначениеПредставление|\n",
            "col:23 |УЗИДиагностика2_ДатаПриема|\n",
            "col:24 |ЭКГНеИсп1_ДатаПриема|\n",
            "col:25 |ПроцедурнаяМедсестра1_ДатаПриема|\n",
            "col:26 |ПсихиатрияНаркология2_ДатаПриема|\n",
            "col:27 |ПсихиатрияНаркология2_ДатаПриема_Значение|\n",
            "col:28 |ПсихиатрияНаркология2_ДатаПриема_ЗначениеПредставление|\n",
            "col:29 |ЛабораторныеИсследования2_ДатаПриема|\n",
            "col:30 |Психиатрия1_ДатаПриема|\n",
            "col:31 |Психиатрия1_ДатаПриема_Значение|\n",
            "col:32 |Психиатрия1_ДатаПриема_ЗначениеПредставление|\n",
            "col:33 |Гинекология2_ДатаПриема|\n",
            "col:34 |Гинекология2_ДатаПриема_Значение|\n",
            "col:35 |Гинекология2_ДатаПриема_ЗначениеПредставление|\n",
            "col:36 |Гинекология2_ДатаПоследнейMensis_Значение|\n",
            "col:37 |Гинекология2_ДатаПоследнейMensis_ЗначениеПредставление|\n",
            "col:38 |Эндоскопия2_ДатаПриема|\n",
            "col:39 |Стоматология2_ДатаПриема|\n",
            "col:40 |Стоматология2_ДатаПриема_Значение|\n",
            "col:41 |Стоматология2_ДатаПриема_ЗначениеПредставление|\n",
            "col:42 |ФункциональнаяДиагностика2_ДатаПриема|\n"
          ]
        }
      ]
    },
    {
      "cell_type": "markdown",
      "source": [
        "Полей типа МКБ\n",
        "\n",
        "```\n",
        "# Выбран кодовый формат\n",
        "```\n",
        "\n"
      ],
      "metadata": {
        "id": "QGzGWq7yupIf"
      }
    },
    {
      "cell_type": "code",
      "source": [
        "\n",
        "\n",
        "\n",
        "\n",
        "\n",
        "# print('-'*50)\n",
        "# print(boolCols)\n",
        "# print(len(boolCols))\n",
        "\n",
        "\n",
        "\n",
        "# print('='*50)\n",
        "# for col2 in dtCols:\n",
        "#   print(f'col:{i2} |{col2}|')\n",
        "#   i2 += 1\n",
        "\n",
        "\n",
        "# # Удаляем в описаниях(текстовых полях) неразрывные пробелы, перевод каретки: \\xa0 \\n\n",
        "# print('-'*50)\n",
        "# patchTextField()\n"
      ],
      "metadata": {
        "colab": {
          "base_uri": "https://localhost:8080/"
        },
        "id": "TzFlzHVaaFxb",
        "outputId": "eaf30f9b-ab56-4512-b3f8-6a61fb2416a0"
      },
      "execution_count": null,
      "outputs": [
        {
          "output_type": "stream",
          "name": "stdout",
          "text": [
            "Текущий датасет: число строк: 1982, число колонок: 4587, (1982, 4587)\n",
            "--------------------------------------------------\n",
            "['ПсихОсвидетельствование']\n",
            "1\n",
            "col1: |ПсихОсвидетельствование|\n",
            "==================================================\n",
            "col:0 |КлиентДатаРождения|\n",
            "col:1 |ДатаЗавершенияМедосмотра|\n",
            "col:2 |ЛабораторныеИсследования1_ДатаПриема|\n",
            "col:3 |Рентгенология1_ДатаПриема|\n",
            "col:4 |Рентгенология2_ДатаПриема|\n",
            "col:5 |ПсихиатрияНаркология1_ДатаПриема|\n",
            "col:6 |Офтальмология1_ДатаПриема|\n",
            "col:7 |Оториноларингология1_ДатаПриема|\n",
            "col:8 |ХирургНеИсп1_ДатаПриема|\n",
            "col:9 |Гинекология1_ДатаПриема|\n",
            "col:10 |ФункциональнаяДиагностика1_ДатаПриема|\n",
            "col:11 |Стоматология1_ДатаПриема|\n",
            "col:12 |Эндоскопия1_ДатаПриема|\n",
            "col:13 |Терапия1_ДатаПриема|\n",
            "col:14 |Дерматовенерология1_ДатаПриема|\n",
            "col:15 |Неврология1_ДатаПриема|\n",
            "col:16 |УЗИДиагностика1_ДатаПриема|\n",
            "col:17 |Хирургия1_ДатаПриема|\n",
            "col:18 |Хирургия2_ДатаПриема|\n",
            "col:19 |Терапия2_ДатаПриема|\n",
            "col:20 |Неврология2_ДатаПриема|\n",
            "col:21 |Неврология2_ДатаПриема_Значение|\n",
            "col:22 |Неврология2_ДатаПриема_ЗначениеПредставление|\n",
            "col:23 |УЗИДиагностика2_ДатаПриема|\n",
            "col:24 |ЭКГНеИсп1_ДатаПриема|\n",
            "col:25 |ПроцедурнаяМедсестра1_ДатаПриема|\n",
            "col:26 |ПсихиатрияНаркология2_ДатаПриема|\n",
            "col:27 |ПсихиатрияНаркология2_ДатаПриема_Значение|\n",
            "col:28 |ПсихиатрияНаркология2_ДатаПриема_ЗначениеПредставление|\n",
            "col:29 |ЛабораторныеИсследования2_ДатаПриема|\n",
            "col:30 |Психиатрия1_ДатаПриема|\n",
            "col:31 |Психиатрия1_ДатаПриема_Значение|\n",
            "col:32 |Психиатрия1_ДатаПриема_ЗначениеПредставление|\n",
            "col:33 |Гинекология2_ДатаПриема|\n",
            "col:34 |Гинекология2_ДатаПриема_Значение|\n",
            "col:35 |Гинекология2_ДатаПриема_ЗначениеПредставление|\n",
            "col:36 |Гинекология2_ДатаПоследнейMensis_Значение|\n",
            "col:37 |Гинекология2_ДатаПоследнейMensis_ЗначениеПредставление|\n",
            "col:38 |Эндоскопия2_ДатаПриема|\n",
            "col:39 |Стоматология2_ДатаПриема|\n",
            "col:40 |Стоматология2_ДатаПриема_Значение|\n",
            "col:41 |Стоматология2_ДатаПриема_ЗначениеПредставление|\n",
            "col:42 |ФункциональнаяДиагностика2_ДатаПриема|\n"
          ]
        }
      ]
    },
    {
      "cell_type": "code",
      "source": [
        "def printDFRowColCount():\n",
        "  '''\n",
        "    Отображение текущего количества строк и столбцов в датасете\n",
        "  '''\n",
        "  print(f'Текущий датасет: число строк: {df.shape[0]}, число колонок: {df.shape[1]}, {df.shape}')\n",
        "\n",
        "##############################################\n",
        "####Убрать кодировку в описаниях \\xa0 \\n\n",
        "##############################################\n",
        "fixed_df = fixed_df.drop(fixed_df.columns[0],axis = 1) # Убираем первый столбец с продублированными индексами. Он нам не нужен\n",
        "\n",
        "i=0\n",
        "for j in range(12):  # Для каждого из столбцов таблицы\n",
        "    for i in range(fixed_df.shape[0]): # По всем резюме\n",
        "        if type(fixed_df.values[i][j])!=float: # если данные текстовые, то заменяем фрагменты кодировки ASCII на отсутствие символов\n",
        "            fixed_df.values[i][j] = fixed_df.values[i][j].replace(\"\\xa0\",\"\")\n",
        "            fixed_df.values[i][j] = fixed_df.values[i][j].replace(\"\\n\",\" \")"
      ],
      "metadata": {
        "id": "w_NqkhyqqAMP"
      },
      "execution_count": null,
      "outputs": []
    }
  ]
}