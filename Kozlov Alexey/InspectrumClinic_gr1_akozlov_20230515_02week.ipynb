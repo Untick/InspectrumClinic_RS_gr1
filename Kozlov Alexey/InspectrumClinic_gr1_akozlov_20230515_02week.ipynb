{
  "nbformat": 4,
  "nbformat_minor": 0,
  "metadata": {
    "colab": {
      "provenance": [],
      "gpuType": "T4",
      "authorship_tag": "ABX9TyPEUoAMGVSxEls9Tx/F1PH2",
      "include_colab_link": true
    },
    "kernelspec": {
      "name": "python3",
      "display_name": "Python 3"
    },
    "language_info": {
      "name": "python"
    },
    "gpuClass": "standard",
    "accelerator": "GPU"
  },
  "cells": [
    {
      "cell_type": "markdown",
      "metadata": {
        "id": "view-in-github",
        "colab_type": "text"
      },
      "source": [
        "<a href=\"https://colab.research.google.com/github/Untick/InspectrumClinic_RS_gr1/blob/Kozlov-Alexey-folder/Kozlov%20Alexey/InspectrumClinic_gr1_akozlov_20230515_02week.ipynb\" target=\"_parent\"><img src=\"https://colab.research.google.com/assets/colab-badge.svg\" alt=\"Open In Colab\"/></a>"
      ]
    },
    {
      "cell_type": "markdown",
      "source": [
        "**Рекомендательная система для профпатолога (INSPECTRUM CLINIC)**"
      ],
      "metadata": {
        "id": "ALJziHyQWOSU"
      }
    },
    {
      "cell_type": "markdown",
      "source": [
        "Цель: \n",
        "Разработать прототип системы, реализующей функцию рекомендательной системы для врача профпатолога.\n",
        "\n",
        "Алексей Козлов 2023.05.15 - 2023.05.22 (2-я неделя):\n",
        "обработка данных, создание модели DL-точности первой точности"
      ],
      "metadata": {
        "id": "eUKhn2kaWQzi"
      }
    },
    {
      "cell_type": "code",
      "source": [
        "# Загрузка файлов из облака\n",
        "import gdown\n",
        "# Библиотека для работы с массивами данных\n",
        "import numpy as np\n",
        "# Библиотека для обработки и анализа данных\n",
        "import pandas as pd\n",
        "# Библиотека для построения графиков\n",
        "import matplotlib.pyplot as plt\n",
        "# Команда для отображения графики в ячейках среды Google Colaboratory\n",
        "%matplotlib inline\n",
        "# Библиотека для построения графиков\n",
        "import seaborn as sns\n",
        "\n",
        "# Подключение класса создания модели Sequential\n",
        "# Sequential – модуль для создания последовательной модели нейронной сети\n",
        "from tensorflow.keras.models import Sequential\n",
        "# Подключение класса Dense - полносвязный слой\n",
        "# Dense – линейный (полносвязный) слой. Из таких слоев будет создана ваша нейросеть\n",
        "from tensorflow.keras.layers import Dense\n",
        "# utils – модуль с полезными инструментами для подготовки данных\n",
        "from tensorflow.keras import utils"
      ],
      "metadata": {
        "id": "HLK8en0QYFUy"
      },
      "execution_count": 2,
      "outputs": []
    },
    {
      "cell_type": "code",
      "source": [
        "# Загрузка файла датасета\n",
        "url1 = 'https://storage.yandexcloud.net/terratraineeship/23_InspectrumClinic_RS/datasets/%D0%B4%D0%B0%D1%82%D0%B0%D1%81%D0%B5%D1%82%20%D0%BF%D1%80%D0%BE%D1%84%D0%BF%D0%B0%D1%82%D0%BE%D0%BB%D0%BE%D0%B3%20%D1%87%D0%B0%D1%81%D1%82%D1%8C.xlsx'\n",
        "url2 = '/content/InspectrumClinic1.xlsx'\n",
        "gdown.download(url1, url2, quiet=False)"
      ],
      "metadata": {
        "colab": {
          "base_uri": "https://localhost:8080/",
          "height": 127
        },
        "id": "jcvZhMKcYbB6",
        "outputId": "5a9fd0a8-74b7-497e-f660-c19780c4f7fd"
      },
      "execution_count": 3,
      "outputs": [
        {
          "output_type": "stream",
          "name": "stderr",
          "text": [
            "Downloading...\n",
            "From: https://storage.yandexcloud.net/terratraineeship/23_InspectrumClinic_RS/datasets/%D0%B4%D0%B0%D1%82%D0%B0%D1%81%D0%B5%D1%82%20%D0%BF%D1%80%D0%BE%D1%84%D0%BF%D0%B0%D1%82%D0%BE%D0%BB%D0%BE%D0%B3%20%D1%87%D0%B0%D1%81%D1%82%D1%8C.xlsx\n",
            "To: /content/InspectrumClinic1.xlsx\n",
            "100%|██████████| 32.4M/32.4M [00:00<00:00, 38.4MB/s]\n"
          ]
        },
        {
          "output_type": "execute_result",
          "data": {
            "text/plain": [
              "'/content/InspectrumClinic1.xlsx'"
            ],
            "application/vnd.google.colaboratory.intrinsic+json": {
              "type": "string"
            }
          },
          "metadata": {},
          "execution_count": 3
        }
      ]
    },
    {
      "cell_type": "code",
      "source": [
        "# Чтение данных (df - DataFrame)\n",
        "df = pd.read_excel(url2)"
      ],
      "metadata": {
        "id": "_NhMIB6gYrra"
      },
      "execution_count": 4,
      "outputs": []
    },
    {
      "cell_type": "markdown",
      "source": [
        "---\n",
        "**Шаг 1. Обработка и анализ данных**\n",
        "---"
      ],
      "metadata": {
        "id": "x1Rco7X2ZdlR"
      }
    },
    {
      "cell_type": "code",
      "source": [
        "# Выведем информацию о заполненности ячеек каждого признака\n",
        "df.info()"
      ],
      "metadata": {
        "colab": {
          "base_uri": "https://localhost:8080/"
        },
        "id": "FFaBGLcZ2GMX",
        "outputId": "d1c5b876-63dc-43e4-ae11-e063c41afc3b"
      },
      "execution_count": 5,
      "outputs": [
        {
          "output_type": "stream",
          "name": "stdout",
          "text": [
            "<class 'pandas.core.frame.DataFrame'>\n",
            "RangeIndex: 1982 entries, 0 to 1981\n",
            "Columns: 4587 entries, ДокументПрохождениеМедосмотра to Офтальмология1_ДвигательныйАппаратГлазДополнение_ЗначениеПредставление\n",
            "dtypes: bool(1), datetime64[ns](43), float64(1253), object(3290)\n",
            "memory usage: 69.3+ MB\n"
          ]
        }
      ]
    },
    {
      "cell_type": "code",
      "source": [
        "# Блок переменных\n",
        "\n",
        "# Задание константы количества распознаваемых классов\n",
        "CLASS_COUNT = 3\n",
        "AGE_CLASS_COUNT = 11\n",
        "GENDER_CLASS_COUNT = 2\n",
        "\n",
        "# Процентное соотношение тренировочной и тестовых выборок\n",
        "# например: 80% на обучающую выборку и 20% на тестовую\n",
        "trainPercent = 80\n",
        "\n",
        "# Названия колонок, которые используются для обучения(для работы нейросети)\n",
        "targetColName = 'ЗаключениеМК'\n",
        "dt1ColName = 'КлиентДатаРождения'\n",
        "dt2ColName = 'ДатаЗавершенияМедосмотра'\n",
        "genderColName = 'КлиентПол'\n",
        "psychColName = 'ПсихОсвидетельствование' # Psych Examination\n",
        "harmfulColName = 'ВредныеФакторы'\n",
        "psychnark1_MKB101 = 'ПсихиатрияНаркология1_МКБ101'\n",
        "\n",
        "xTrainList = list()\n",
        "xTestList = list()\n",
        "\n",
        "#~~~~~~~~~~~~~~~~~~~~~~~~\n",
        "print(f'CLASS_COUNT: {CLASS_COUNT}')\n",
        "print(f'AGE_CLASS_COUNT: {AGE_CLASS_COUNT}')\n",
        "print(f'GENDER_CLASS_COUNT: {GENDER_CLASS_COUNT}')\n",
        "\n",
        "print('~'*50)\n",
        "print(f'trainPercent: {trainPercent}')\n",
        "print('~'*50)\n",
        "print(f'targetColName: |{targetColName}|')\n",
        "print(f'dt1ColName: |{dt1ColName}|')\n",
        "print(f'dt2ColName: |{dt2ColName}|')\n",
        "print(f'genderColName: |{genderColName}|')\n",
        "print(f'psychColName: |{psychColName}|')\n",
        "print(f'harmfulColName: |{harmfulColName}|')\n",
        "print(f'psychnark1_MKB101: |{psychnark1_MKB101}|')\n",
        "print('~'*50)\n",
        "print(f'xTrainList: {xTrainList}')\n",
        "print(f'xTestList: {xTestList}')"
      ],
      "metadata": {
        "colab": {
          "base_uri": "https://localhost:8080/"
        },
        "id": "U9tc3gPoLjun",
        "outputId": "d283e553-7fd7-421f-88e4-60b4b0b7664e"
      },
      "execution_count": 6,
      "outputs": [
        {
          "output_type": "stream",
          "name": "stdout",
          "text": [
            "CLASS_COUNT: 3\n",
            "AGE_CLASS_COUNT: 11\n",
            "GENDER_CLASS_COUNT: 2\n",
            "~~~~~~~~~~~~~~~~~~~~~~~~~~~~~~~~~~~~~~~~~~~~~~~~~~\n",
            "trainPercent: 80\n",
            "~~~~~~~~~~~~~~~~~~~~~~~~~~~~~~~~~~~~~~~~~~~~~~~~~~\n",
            "targetColName: |ЗаключениеМК|\n",
            "dt1ColName: |КлиентДатаРождения|\n",
            "dt2ColName: |ДатаЗавершенияМедосмотра|\n",
            "genderColName: |КлиентПол|\n",
            "psychColName: |ПсихОсвидетельствование|\n",
            "harmfulColName: |ВредныеФакторы|\n",
            "psychnark1_MKB101: |ПсихиатрияНаркология1_МКБ101|\n",
            "~~~~~~~~~~~~~~~~~~~~~~~~~~~~~~~~~~~~~~~~~~~~~~~~~~\n",
            "xTrainList: []\n",
            "xTestList: []\n"
          ]
        }
      ]
    },
    {
      "cell_type": "markdown",
      "source": [
        "**Функции обработки данных:**"
      ],
      "metadata": {
        "id": "QvEwALMZZvm8"
      }
    },
    {
      "cell_type": "code",
      "source": [
        "def printRowColCount():\n",
        "  '''\n",
        "    Отображаем текущее количества строк и столбцов в датасете\n",
        "  '''\n",
        "  print(f'Текущий датасет: число строк: {df.shape[0]}, число колонок: {df.shape[1]}, {df.shape}')\n",
        "\n",
        "def getColInx(colName):\n",
        "  '''\n",
        "    Получение индекса колонки\n",
        "    вход:\n",
        "        colName - название колонки\n",
        "    выход:\n",
        "        retVal - индекс колонки\n",
        "  '''\n",
        "  retVal = df.columns.get_loc(colName)\n",
        "  return retVal\n",
        "\n",
        "def getColVals(colInx):\n",
        "  '''\n",
        "    Получение списка значений колонки\n",
        "    вход:\n",
        "        colInx - индекс колонки\n",
        "    выход:\n",
        "        retVal - список значений\n",
        "  '''\n",
        "  retVal = df.iloc[:, colInx].tolist()\n",
        "  return retVal\n",
        "\n",
        "def getColVals_ByName(colName):\n",
        "  '''\n",
        "    Получение списка значений колонки\n",
        "    вход:\n",
        "        colName - название колонки\n",
        "    выход:\n",
        "        retVal - список значений\n",
        "  '''\n",
        "  inx = getColInx(colName)\n",
        "  retVal = getColVals(inx)\n",
        "  return retVal\n",
        "\n",
        "def getColUniqueVals(colName):\n",
        "  '''\n",
        "    Получение списка уникальных значений колонки\n",
        "    вход:\n",
        "        colName - название колонки\n",
        "    выход:\n",
        "        retVal - список уникальных значений\n",
        "  '''\n",
        "  retVal = df[colName].unique().tolist()\n",
        "  return retVal\n",
        "\n",
        "def getBoolColNames():\n",
        "  '''\n",
        "    Получение списка названий колонок типа bool\n",
        "  '''\n",
        "  retVal = list(df.select_dtypes(include=['bool']).columns)\n",
        "  return retVal\n",
        "\n",
        "def getDateTimeColNames():\n",
        "  '''\n",
        "    Получение списка названий колонок типа datetime64\n",
        "  '''\n",
        "  # retVal = list(df.select_dtypes(include=['datetime64[ns]']).columns)\n",
        "  retVal = list(df.select_dtypes(include=['datetime64']).columns)\n",
        "  return retVal\n",
        "\n",
        "def getObjStrColNames():\n",
        "  '''\n",
        "    Получение списка названий колонок типа object-string\n",
        "  '''\n",
        "  retVal = list(df.select_dtypes(include=['object']).columns)\n",
        "  return retVal\n",
        "\n",
        "# def patchTextCol(colName):\n",
        "#   '''\n",
        "#     Удаляем в описаниях(текстовых полях) неразрывные пробелы, перевод каретки: \\xa0 \\n\n",
        "#     вход:\n",
        "#         colName - название колонки\n",
        "#   '''\n",
        "#   # Цикл по всем строкам\n",
        "#   for i in range(df.shape[0]):\n",
        "#     #заменяем фрагменты кодировки ASCII на отсутствие символов\n",
        "#     df.values[i][j] = df.values[i][j].replace(\"\\xa0\",\"\")\n",
        "#     df.values[i][j] = df.values[i][j].replace(\"\\n\",\" \")\n",
        "# #TODO\n",
        "# #    привести к нижнему регистру и удалить пробелы слева и справа\n",
        "\n",
        "def print1Row(rowInx):\n",
        "  '''\n",
        "    Печать одной строки с индексом rowInx\n",
        "    вход:\n",
        "        rowInx - индекс строки\n",
        "  '''\n",
        "  # Цикл по всем колонкам\n",
        "  for j in range(df.shape[1]):\n",
        "    print(f'{j}: {df.values[rowInx][j]}')\n",
        "\n",
        "def print1RowCol14(rowInx):\n",
        "  '''\n",
        "    Печать 14-и колонок одной строки с индексом rowInx\n",
        "    вход:\n",
        "        rowInx - индекс строки\n",
        "  '''\n",
        "  # Цикл по всем колонкам\n",
        "  for j in range(14):\n",
        "    print(f'{j}: {df.values[rowInx][j]}')\n",
        "\n",
        "def printColNames(colNames):\n",
        "  '''\n",
        "    Печать названий колонок по списку\n",
        "    вход:\n",
        "        colNames - список названий колонок\n",
        "  '''\n",
        "  ilen = len(colNames)\n",
        "  for icol in range(ilen):\n",
        "    print(f'col:{icol} |{colNames[icol]}|')\n",
        "\n",
        "def getForbiddenRowInxs(colName, forbiddenVals):\n",
        "  '''\n",
        "    Получение индексов запрещенных строк в датасете\n",
        "    вход:\n",
        "        colName - название колонки\n",
        "        forbiddenVals - список запрещенных значений\n",
        "    выход:\n",
        "        retVal - список индексов строк\n",
        "  '''\n",
        "  retVal = df[df[colName].isin(forbiddenVals)].index\n",
        "  return retVal\n",
        "\n",
        "def getNanRowInxs(colName):\n",
        "  '''\n",
        "    Получение индексов пустых строк в датасете\n",
        "    вход:\n",
        "        colName - название колонки\n",
        "    выход:\n",
        "        retVal - список индексов строк\n",
        "  '''\n",
        "  retVal = df[df[colName].isnull()].index\n",
        "  return retVal\n",
        "\n",
        "def removeCols(colNames, df):\n",
        "  '''\n",
        "    Удаление в датасете колонок\n",
        "    вход:\n",
        "        colNames - список названий колонок\n",
        "  '''\n",
        "  for rcol in colNames:\n",
        "    if rcol in df.columns:\n",
        "      df.drop(rcol, axis=1, inplace=True)\n",
        "\n",
        "  return df\n",
        "\n",
        "def removeRows(rowInxs, df):\n",
        "  '''\n",
        "    Удаление в датасете строк\n",
        "    вход:\n",
        "        rowInxs - индексы строк для удаления\n",
        "  '''\n",
        "  if (len(rowInxs) > 0):\n",
        "    df.drop(rowInxs, axis=0, inplace=True)\n",
        "  return df\n",
        "\n",
        "def getColumnsWithString(str):\n",
        "  '''\n",
        "    Возвращает список названий колонок, в которых содержится заданная строка\n",
        "    вход:\n",
        "        str - часть названия колонки, например мкб\n",
        "    выход:\n",
        "        retVal - список названий колонок, содержащих заданную строку\n",
        "  '''\n",
        "  totalCols = list(df.columns)\n",
        "  retVal = [col for col in totalCols if str in col]\n",
        "  return retVal\n",
        "\n"
      ],
      "metadata": {
        "id": "q0LYqUV8ZhgZ"
      },
      "execution_count": 7,
      "outputs": []
    },
    {
      "cell_type": "markdown",
      "source": [
        "**Функции представления данных:**"
      ],
      "metadata": {
        "id": "981wiXgFDwau"
      }
    },
    {
      "cell_type": "code",
      "source": [
        "# ЗаключениеМК\n",
        "def getTargetCategory(arg):\n",
        "  '''\n",
        "    Получение целевого категориального значения по текстовому описанию\n",
        "    вход (arg):\n",
        "        ['Годен', 'ГоденСКоррекциейЗрения', 'ГоденБезРаботНаВысотах', 'НуждаетсяВДообследованииИЛечении', 'ВременноНегоден', 'ОграниченноГоден']\n",
        "    выход:\n",
        "        retVal: 0 - не годен, 1 - годен с ограничениями, 2 - годен\n",
        "  '''\n",
        "  if ('ГоденСКоррекциейЗрения' == arg) or ('ГоденБезРаботНаВысотах' == arg) or ('ОграниченноГоден' == arg):\n",
        "    retVal = 1\n",
        "  elif ('НуждаетсяВДообследованииИЛечении' == arg) or ('ВременноНегоден' == arg):\n",
        "    retVal = 0\n",
        "  else:\n",
        "    retVal = 2\n",
        "\n",
        "  return retVal\n",
        "\n",
        "\n",
        "def getYTrainTestCategorical(colName, trnInxs, tstInxs):\n",
        "  '''\n",
        "    Создание целевого категориального массива для обучения сетки\n",
        "    вход:\n",
        "        colName - название целевой колонки\n",
        "        trnInxs - индексы для обучения\n",
        "        tstInxs - индексы для проверки и для обратного переобучения\n",
        "    выход:\n",
        "        два категориальных массива: train и test\n",
        "  '''\n",
        "  colVals = getColVals_ByName(colName)\n",
        "\n",
        "  vecSize1 = trnInxs.size\n",
        "  vecSize2 = tstInxs.size\n",
        "\n",
        "  y_train = np.zeros(vecSize1, dtype=int)\n",
        "  y_test = np.zeros(vecSize2, dtype=int)\n",
        "\n",
        "  # Заполняем обучающий массив\n",
        "  for i in range(vecSize1):\n",
        "    inx = trnInxs[i]\n",
        "    y_train[i] = getTargetCategory(colVals[inx])\n",
        "\n",
        "  # Заполняем тестовый массив\n",
        "  for i in range(vecSize2):\n",
        "    inx = tstInxs[i]\n",
        "    y_test[i] = getTargetCategory(colVals[inx])\n",
        "\n",
        "  # Преобразование ответов в формат one_hot_encoding\n",
        "  y_train2 = utils.to_categorical(y_train, CLASS_COUNT)\n",
        "  y_test2 = utils.to_categorical(y_test, CLASS_COUNT)\n",
        "  return (y_train2, y_test2)"
      ],
      "metadata": {
        "id": "fyyjX2-HB_n6"
      },
      "execution_count": 8,
      "outputs": []
    },
    {
      "cell_type": "code",
      "source": [
        "# Возраст пациента\n",
        "def getAgeCategory(arg):\n",
        "  '''\n",
        "    Возраст превращаем в категориальный: до 18лет, далее через 5, всего 11 классов\n",
        "    вход (arg):\n",
        "        arg - возраст в годах\n",
        "    выход:\n",
        "        retVal: индекс категории: 0-17: 0, 18-22: 1, 23-27: 2, ...., 73..: 10\n",
        "  '''\n",
        "  age2 = int((arg-13)/5)\n",
        "  retVal = max(0, min((AGE_CLASS_COUNT-1),age2))\n",
        "  return retVal\n",
        "\n",
        "\n",
        "def getAgeTrainTestCategorical(birthDateColName, checkDateColName, trnInxs, tstInxs):\n",
        "  '''\n",
        "    Расчет возраста при проведении медосмотра\n",
        "    Возраст превращаем в категориальный: до 18лет, далее через 5, всего 11 классов\n",
        "    вход:\n",
        "        birthDateColName - название колонки даты рождения\n",
        "        checkDateColName - название колонки даты проведении медосмотра\n",
        "        trnInxs - индексы для обучения\n",
        "        tstInxs - индексы для проверки и для обратного переобучения\n",
        "    выход:\n",
        "        два категориальных массива: train и test\n",
        "  '''\n",
        "\n",
        "  dt1 = pd.to_datetime(df[birthDateColName])\n",
        "  dt2 = pd.to_datetime(df[checkDateColName])\n",
        "  dt12 = (dt2 - dt1).dt.days // 365\n",
        "  #print(dt12)\n",
        "\n",
        "  vecSize1 = trnInxs.size\n",
        "  vecSize2 = tstInxs.size\n",
        "  x_train = np.zeros(vecSize1, dtype=int)\n",
        "  x_test = np.zeros(vecSize2, dtype=int)\n",
        "  #print(x_train)\n",
        "  #print(x_test)\n",
        "\n",
        "  # Заполняем обучающий массив\n",
        "  for i in range(vecSize1):\n",
        "    inx = trnInxs[i]\n",
        "    x_train[i] = getAgeCategory(dt12[inx])\n",
        "\n",
        "  # Заполняем тестовый массив\n",
        "  for i in range(vecSize2):\n",
        "    inx = tstInxs[i]\n",
        "    x_test[i] = getAgeCategory(dt12[inx])\n",
        "\n",
        "  #print(x_train)\n",
        "  #print(x_test)\n",
        "  # Преобразование ответов в формат one_hot_encoding\n",
        "  x_train2 = utils.to_categorical(x_train, AGE_CLASS_COUNT)\n",
        "  x_test2 = utils.to_categorical(x_test, AGE_CLASS_COUNT)\n",
        "  return (x_train2, x_test2)"
      ],
      "metadata": {
        "id": "aA81B6waJHsK"
      },
      "execution_count": 9,
      "outputs": []
    },
    {
      "cell_type": "code",
      "source": [
        "# Клиент Пол\n",
        "def getGenderCategory(arg):\n",
        "  '''\n",
        "    Категориальный пол клиента\n",
        "    вход (arg):\n",
        "        arg - уникальные значения: ['Женский', 'Мужской']\n",
        "    выход:\n",
        "        retVal: 0 - Женский, 1 - Мужской\n",
        "  '''\n",
        "  if 'Женский' == arg:\n",
        "    retVal = 0\n",
        "  else:\n",
        "    retVal = 1\n",
        "  return retVal\n",
        "\n",
        "def getXTrainTestCategorical(colName, trnInxs, tstInxs):\n",
        "  '''\n",
        "    Создание целевого категориального массива для обучения сетки\n",
        "    вход:\n",
        "        colName - название целевой колонки\n",
        "        trnInxs - индексы для обучения\n",
        "        tstInxs - индексы для проверки и для обратного переобучения\n",
        "        clsCount - число категориальных классов\n",
        "    выход:\n",
        "        два категориальных массива: train и test\n",
        "  '''\n",
        "  modeTrain = 0\n",
        "  clsCount = 0\n",
        "  if genderColName == colName:\n",
        "    modeTrain = 1\n",
        "    clsCount = GENDER_CLASS_COUNT\n",
        "\n",
        "  colVals = getColVals_ByName(colName)\n",
        "\n",
        "  vecSize1 = trnInxs.size\n",
        "  vecSize2 = tstInxs.size\n",
        "\n",
        "  y_train = np.zeros(vecSize1, dtype=int)\n",
        "  y_test = np.zeros(vecSize2, dtype=int)\n",
        "\n",
        "  # Заполняем обучающий массив\n",
        "  for i in range(vecSize1):\n",
        "    inx = trnInxs[i]\n",
        "    if (1 == modeTrain):\n",
        "      y_train[i] = getGenderCategory(colVals[inx])\n",
        "\n",
        "  # Заполняем тестовый массив\n",
        "  for i in range(vecSize2):\n",
        "    inx = tstInxs[i]\n",
        "    if (1 == modeTrain):\n",
        "      y_test[i] = getGenderCategory(colVals[inx])\n",
        "\n",
        "  # Преобразование ответов в формат one_hot_encoding\n",
        "  y_train2 = utils.to_categorical(y_train, clsCount)\n",
        "  y_test2 = utils.to_categorical(y_test, clsCount)\n",
        "  return (y_train2, y_test2)"
      ],
      "metadata": {
        "id": "RJr_heOzcdQL"
      },
      "execution_count": 10,
      "outputs": []
    },
    {
      "cell_type": "code",
      "source": [
        "def addVecsToXTrainTest(x_train, x_test):\n",
        "  '''\n",
        "    Добавление данных по одному параметру\n",
        "    вход:\n",
        "        x_train,x_test - обучающие и тестовые выборки по одному парметру\n",
        "  '''\n",
        "  xTrainLen = len(xTrainList)\n",
        "  xTestLen = len(xTestList)\n",
        "  addFlag = False\n",
        "  if 0 == xTrainLen:\n",
        "    addFlag = True\n",
        "\n",
        "  # print(f'xTrainList: {xTrainList}')\n",
        "  # print(f'xTestList: {xTestList}')\n",
        "  # print(f'xTrainLen: {xTrainLen}')\n",
        "  # print(f'xTestLen: {xTestLen}')\n",
        "  # print(f'addFlag: {addFlag}')\n",
        "\n",
        "  #print(f'Количество осей: {x_train.ndim}')\n",
        "  #print(f'Форма массива: {x_train.shape}')\n",
        "  #print(f'Количество значений: {x_train.size}')\n",
        "  #print(f'Количество осей: {x_test.ndim}')\n",
        "  #print(f'Форма массива: {x_test.shape}')\n",
        "  #print(f'Количество значений: {x_test.size}')\n",
        "\n",
        "  trainRowCount, trainColCount = x_train.shape\n",
        "  testRowCount, testColCount = x_test.shape\n",
        "  # print(f'train число: строк: {trainRowCount}, столбцов: {trainColCount}')\n",
        "  # print(f'test число: строк: {testRowCount}, столбцов: {testRowCount}')\n",
        "\n",
        "  for i in range(trainRowCount):\n",
        "    trainLine = list(x_train[i])\n",
        "    if True == addFlag:\n",
        "      xTrainList.append(trainLine)\n",
        "    else:\n",
        "      trainList = xTrainList[i]\n",
        "      xTrainList[i] = trainList + trainLine\n",
        "\n",
        "  for i in range(testRowCount):\n",
        "    testLine = list(x_test[i])\n",
        "    if True == addFlag:\n",
        "      xTestList.append(testLine)\n",
        "    else:\n",
        "      testList = xTestList[i]\n",
        "      xTestList[i] = testList + testLine\n"
      ],
      "metadata": {
        "id": "p_jwvLyDepIO"
      },
      "execution_count": 11,
      "outputs": []
    },
    {
      "cell_type": "code",
      "source": [
        "printRowColCount()\n",
        "print1RowCol14(843)"
      ],
      "metadata": {
        "colab": {
          "base_uri": "https://localhost:8080/"
        },
        "id": "7D-yzgt0tcHA",
        "outputId": "37fe8ae2-a523-431e-8c17-e1b230342df3"
      },
      "execution_count": 12,
      "outputs": [
        {
          "output_type": "stream",
          "name": "stdout",
          "text": [
            "Текущий датасет: число строк: 1982, число колонок: 4587, (1982, 4587)\n",
            "0: 7b644813-5fdd-11ed-8109-0cc47aab8067\n",
            "1: 956edb54-4047-11ec-80fa-0cc47aab8067\n",
            "2: 1979-05-06 00:00:00\n",
            "3: Мужской\n",
            "4: Мужской\n",
            "5: 2022-11-09 00:00:00\n",
            "6: Периодический\n",
            "7: Периодический\n",
            "8: False\n",
            "9: 00bbe942-2944-11ea-80d7-0cc47aab8067\n",
            "10: nan\n",
            "11: Слесарь-ремонтник\n",
            "12: машинист бульдозера\n",
            "13: тракторист\n"
          ]
        }
      ]
    },
    {
      "cell_type": "markdown",
      "source": [
        "**Целевая колонка “ЗаключениеМК” типа object-string**"
      ],
      "metadata": {
        "id": "0DWwdFBYwYwn"
      }
    },
    {
      "cell_type": "code",
      "source": [
        "strCols = getObjStrColNames()\n",
        "if targetColName in strCols:\n",
        "    print(f'\"{targetColName}\": найдено в списке колонок типа object-string')\n",
        "else:\n",
        "    print(f'\"{targetColName}\": не найдено в списке колонок типа object-string')\n",
        "\n",
        "сolUVals = getColUniqueVals(targetColName)\n",
        "print(f'Список уникальных значений целевой колонки: {сolUVals}')"
      ],
      "metadata": {
        "colab": {
          "base_uri": "https://localhost:8080/"
        },
        "id": "NJEyLWyCyZSQ",
        "outputId": "f63e181e-d6fa-4e93-edf8-baddd0afa10c"
      },
      "execution_count": 13,
      "outputs": [
        {
          "output_type": "stream",
          "name": "stdout",
          "text": [
            "\"ЗаключениеМК\": найдено в списке колонок типа object-string\n",
            "Список уникальных значений целевой колонки: ['Годен', 'ГоденСКоррекциейЗрения', 'ГоденБезРаботНаВысотах', 'НуждаетсяВДообследованииИЛечении', 'ВременноНегоден', 'ОграниченноГоден', nan, 'машинист бульдозера', 'Газоспасатель', ' Газоспасатель']\n"
          ]
        }
      ]
    },
    {
      "cell_type": "code",
      "source": [
        "print('Размер датасета до удаления строк с заперещенными и пустыми значениями:')\n",
        "printRowColCount()\n",
        "\n",
        "# Удаление строк с запрещенными значениями\n",
        "forbiddenVals = list()\n",
        "forbiddenVals.append('машинист бульдозера')\n",
        "forbiddenVals.append('Газоспасатель')\n",
        "forbiddenVals.append(' Газоспасатель')\n",
        "forbiddenRowInxs = getForbiddenRowInxs(targetColName, forbiddenVals)\n",
        "df = removeRows(forbiddenRowInxs, df)\n",
        "\n",
        "# Удаление строк c пустыми значениями\n",
        "nanRowInxs = getNanRowInxs(targetColName)\n",
        "df = removeRows(nanRowInxs, df)\n",
        "\n",
        "print('Размер датасета после удаления строк:')\n",
        "printRowColCount()\n",
        "сolUVals = getColUniqueVals(targetColName)\n",
        "print(f'Список уникальных значений целевой колонки: {сolUVals}')"
      ],
      "metadata": {
        "colab": {
          "base_uri": "https://localhost:8080/"
        },
        "id": "az6Eb8UKHlF9",
        "outputId": "079eb4a0-b34c-4f54-862c-50bd3159c4c2"
      },
      "execution_count": 14,
      "outputs": [
        {
          "output_type": "stream",
          "name": "stdout",
          "text": [
            "Размер датасета до удаления строк с заперещенными и пустыми значениями:\n",
            "Текущий датасет: число строк: 1982, число колонок: 4587, (1982, 4587)\n",
            "Размер датасета после удаления строк:\n",
            "Текущий датасет: число строк: 1571, число колонок: 4587, (1571, 4587)\n",
            "Список уникальных значений целевой колонки: ['Годен', 'ГоденСКоррекциейЗрения', 'ГоденБезРаботНаВысотах', 'НуждаетсяВДообследованииИЛечении', 'ВременноНегоден', 'ОграниченноГоден']\n"
          ]
        }
      ]
    },
    {
      "cell_type": "markdown",
      "source": [
        "**Колонки “КлиентДатаРождения”, “ДатаЗавершенияМедосмотра” типа datetime**"
      ],
      "metadata": {
        "id": "Bg4J9izZS0ha"
      }
    },
    {
      "cell_type": "code",
      "source": [
        "# Получаем список всех колонок типа datetime\n",
        "datetimeCols = getDateTimeColNames()\n",
        "printColNames(datetimeCols)"
      ],
      "metadata": {
        "colab": {
          "base_uri": "https://localhost:8080/"
        },
        "id": "tphMdSwmTdAE",
        "outputId": "e8b02b52-2295-4b8b-ac2f-ee18f8b50fd3"
      },
      "execution_count": 15,
      "outputs": [
        {
          "output_type": "stream",
          "name": "stdout",
          "text": [
            "col:0 |КлиентДатаРождения|\n",
            "col:1 |ДатаЗавершенияМедосмотра|\n",
            "col:2 |ЛабораторныеИсследования1_ДатаПриема|\n",
            "col:3 |Рентгенология1_ДатаПриема|\n",
            "col:4 |Рентгенология2_ДатаПриема|\n",
            "col:5 |ПсихиатрияНаркология1_ДатаПриема|\n",
            "col:6 |Офтальмология1_ДатаПриема|\n",
            "col:7 |Оториноларингология1_ДатаПриема|\n",
            "col:8 |ХирургНеИсп1_ДатаПриема|\n",
            "col:9 |Гинекология1_ДатаПриема|\n",
            "col:10 |ФункциональнаяДиагностика1_ДатаПриема|\n",
            "col:11 |Стоматология1_ДатаПриема|\n",
            "col:12 |Эндоскопия1_ДатаПриема|\n",
            "col:13 |Терапия1_ДатаПриема|\n",
            "col:14 |Дерматовенерология1_ДатаПриема|\n",
            "col:15 |Неврология1_ДатаПриема|\n",
            "col:16 |УЗИДиагностика1_ДатаПриема|\n",
            "col:17 |Хирургия1_ДатаПриема|\n",
            "col:18 |Хирургия2_ДатаПриема|\n",
            "col:19 |Терапия2_ДатаПриема|\n",
            "col:20 |Неврология2_ДатаПриема|\n",
            "col:21 |Неврология2_ДатаПриема_Значение|\n",
            "col:22 |Неврология2_ДатаПриема_ЗначениеПредставление|\n",
            "col:23 |УЗИДиагностика2_ДатаПриема|\n",
            "col:24 |ЭКГНеИсп1_ДатаПриема|\n",
            "col:25 |ПроцедурнаяМедсестра1_ДатаПриема|\n",
            "col:26 |ПсихиатрияНаркология2_ДатаПриема|\n",
            "col:27 |ПсихиатрияНаркология2_ДатаПриема_Значение|\n",
            "col:28 |ПсихиатрияНаркология2_ДатаПриема_ЗначениеПредставление|\n",
            "col:29 |ЛабораторныеИсследования2_ДатаПриема|\n",
            "col:30 |Психиатрия1_ДатаПриема|\n",
            "col:31 |Психиатрия1_ДатаПриема_Значение|\n",
            "col:32 |Психиатрия1_ДатаПриема_ЗначениеПредставление|\n",
            "col:33 |Гинекология2_ДатаПриема|\n",
            "col:34 |Гинекология2_ДатаПриема_Значение|\n",
            "col:35 |Гинекология2_ДатаПриема_ЗначениеПредставление|\n",
            "col:36 |Гинекология2_ДатаПоследнейMensis_Значение|\n",
            "col:37 |Гинекология2_ДатаПоследнейMensis_ЗначениеПредставление|\n",
            "col:38 |Эндоскопия2_ДатаПриема|\n",
            "col:39 |Стоматология2_ДатаПриема|\n",
            "col:40 |Стоматология2_ДатаПриема_Значение|\n",
            "col:41 |Стоматология2_ДатаПриема_ЗначениеПредставление|\n",
            "col:42 |ФункциональнаяДиагностика2_ДатаПриема|\n"
          ]
        }
      ]
    },
    {
      "cell_type": "code",
      "source": [
        "# Проверяем колонки 'КлиентДатаРождения','ДатаЗавершенияМедосмотра' на пустые значения\n",
        "nanRowInxs = getNanRowInxs(dt1ColName)\n",
        "print(f'Колонка: \"{dt1ColName}\":')\n",
        "print(f'  число пустых значений: {len(nanRowInxs)}')\n",
        "\n",
        "nanRowInxs = getNanRowInxs(dt2ColName)\n",
        "print(f'Колонка: \"{dt2ColName}\":')\n",
        "print(f'  число пустых значений: {len(nanRowInxs)}')"
      ],
      "metadata": {
        "colab": {
          "base_uri": "https://localhost:8080/"
        },
        "id": "ar9a_Hr-S5T2",
        "outputId": "6760c864-e4b5-4a7d-f30d-49e5675c083c"
      },
      "execution_count": 16,
      "outputs": [
        {
          "output_type": "stream",
          "name": "stdout",
          "text": [
            "Колонка: \"КлиентДатаРождения\":\n",
            "  число пустых значений: 0\n",
            "Колонка: \"ДатаЗавершенияМедосмотра\":\n",
            "  число пустых значений: 0\n"
          ]
        }
      ]
    },
    {
      "cell_type": "markdown",
      "source": [
        "На этом этапе оставляем для анализа, только две колонки “КлиентДатаРождения”, “ДатаЗавершенияМедосмотра”. Проверили, что эти колонки полностью заполнены."
      ],
      "metadata": {
        "id": "bRYUADR9gUKl"
      }
    },
    {
      "cell_type": "markdown",
      "source": [
        "**Колонка “КлиентПол” типа object-string**"
      ],
      "metadata": {
        "id": "ieaJ0gLj11j2"
      }
    },
    {
      "cell_type": "code",
      "source": [
        "nanRowInxs = getNanRowInxs(genderColName)\n",
        "сolUVals = getColUniqueVals(genderColName)\n",
        "print(f'Колонка: \"{genderColName}\":')\n",
        "print(f'  число пустых значений: {len(nanRowInxs)}')\n",
        "print(f'  уникальные значения: {сolUVals}')"
      ],
      "metadata": {
        "colab": {
          "base_uri": "https://localhost:8080/"
        },
        "id": "ZhrGhdOF2vfo",
        "outputId": "1ec9b657-682e-4fdd-bd43-8b125d86b1cc"
      },
      "execution_count": 17,
      "outputs": [
        {
          "output_type": "stream",
          "name": "stdout",
          "text": [
            "Колонка: \"КлиентПол\":\n",
            "  число пустых значений: 0\n",
            "  уникальные значения: ['Женский', 'Мужской']\n"
          ]
        }
      ]
    },
    {
      "cell_type": "markdown",
      "source": [
        "**Колонка “ПсихОсвидетельствование” типа bool**"
      ],
      "metadata": {
        "id": "-PPQ8SyqZ73Z"
      }
    },
    {
      "cell_type": "code",
      "source": [
        "# Получаем список всех колонок типа bool\n",
        "boolCols = getBoolColNames()\n",
        "printColNames(boolCols)"
      ],
      "metadata": {
        "colab": {
          "base_uri": "https://localhost:8080/"
        },
        "id": "mU7wKuVddA8o",
        "outputId": "226d551e-e8f6-445b-c61c-81d114acdf5c"
      },
      "execution_count": 18,
      "outputs": [
        {
          "output_type": "stream",
          "name": "stdout",
          "text": [
            "col:0 |ПсихОсвидетельствование|\n"
          ]
        }
      ]
    },
    {
      "cell_type": "code",
      "source": [
        "# Проверяем колонки 'ПсихОсвидетельствование' на пустые значения\n",
        "nanRowInxs = getNanRowInxs(psychColName)\n",
        "сolUVals = getColUniqueVals(psychColName)\n",
        "print(f'Колонка: \"{psychColName}\":')\n",
        "print(f'  число пустых значений: {len(nanRowInxs)}')\n",
        "print(f'  уникальные значения: {сolUVals}')"
      ],
      "metadata": {
        "colab": {
          "base_uri": "https://localhost:8080/"
        },
        "id": "VH3HaC9gx1nu",
        "outputId": "881d0864-9d45-463d-f852-128ed36daf32"
      },
      "execution_count": 19,
      "outputs": [
        {
          "output_type": "stream",
          "name": "stdout",
          "text": [
            "Колонка: \"ПсихОсвидетельствование\":\n",
            "  число пустых значений: 0\n",
            "  уникальные значения: [False, True]\n"
          ]
        }
      ]
    },
    {
      "cell_type": "markdown",
      "source": [
        "**Колонка “ВредныеФакторы” типа object-string**"
      ],
      "metadata": {
        "id": "Ik04YA0nzqYH"
      }
    },
    {
      "cell_type": "code",
      "source": [
        "nanRowInxs = getNanRowInxs(harmfulColName)\n",
        "сolUVals = getColUniqueVals(harmfulColName)\n",
        "print(f'Колонка: \"{harmfulColName}\":')\n",
        "print(f'  число пустых значений: {len(nanRowInxs)}')\n",
        "print(f'  уникальные значения: {сolUVals}')"
      ],
      "metadata": {
        "id": "TjRQVlCkRWtT",
        "colab": {
          "base_uri": "https://localhost:8080/"
        },
        "outputId": "223f1b27-e05c-4977-84e6-4ae572160e12"
      },
      "execution_count": 20,
      "outputs": [
        {
          "output_type": "stream",
          "name": "stdout",
          "text": [
            "Колонка: \"ВредныеФакторы\":\n",
            "  число пустых значений: 0\n",
            "  уникальные значения: ['11.4', '4.2.5', '11.1', '4.3.1,10,11.1', '1.50,4.2.5,4.1,1.8.1.1', '1.30.1,1.34.1,1.37.1', '5.1,6.1,6.2', '5.1,6', '5.1,6.2,6.1', '5.1', '6.1,6.2,15', '6.1,6.2', '1.8.1.1,1.8.2.1,1.14.2,1.19.1,1.34.1,1.37.1,1.50', '1.34.1,1.19.1,1.14.2,1.50,1.37.1,1.8.1.1,1.8.2.1', '1.8.1.1,1.8.2.1,1.14.2,1.19.1,1.37.1,1.50,1.34.1', '1.8.1.1,1.8.2.1,1.14.2,1.34.1,1.37.1,1.50,1.19.1', '23', '4.4', '1.23,1.46,3.4', '1.50,1.34.1,1.37.1', '1.8.1.1,1.50', '1.34.1,1.37.1,1.50', '1.50,4.3.1', '1.50,1.8.1.1', '1.1,1.8.1.1,1.8.1.2,1.14.2,1.18.3,1.19.1,1.29.1,1.29.2,1.30.1,1.36.1,1.37.1.1,1.34.1,1.50', '1.1,1.8.1.1,1.8.1.2,1.14.2,1.18.3,1.19.1,1.29.1,1.29.2,1.30.1,1.34.1,1.36.1,1.37.1,1.50', '1.37.1,1.29.2,1.50,1.14.2,1.8.1.1,17,6.1', '1.1,1.8.1.1,1.8.1.2,1.14.2,1.18.3,1.19.1,1.29.1,1.29.2,1.30.1,1.34.1,1.36.1,1.50,1.37.1', '1.1,1.8.1.1,1.8.1.2,1.14.2,1.18.3,1.19.1,1.29.1,1.29.2,1.30.1,1.36.1,1.37.1,1.34.1,1.50', '1.1,1.8.1.1,1.8.1.2,1.14.2,1.18.3,1.29.1,1.29.2,1.30.1,1.34.1,1.36.1,1.37.1,1.50,6.1', '1.8.1.1,1.14.2,1.29.2,1.37.1,1.50,6.1,17', '1.14.2,1.29.2,1.29.4,1.30.1,1.34.1,1.36.1,1.37.1,1.50', '1.30.1,1.29.2,1.34.1,1.36.1,1.14.2,1.50,1.37.1,1.29.4', '1.1,1.8.1.1,1.8.1.2,1.14.2,1.18.3,1.19.1,1.29.2,1.30.1,1.29.1,1.37.1,1.34.1,1.50', '1.14.2,1.29.2,1.29.4,1.30.1,1.34.1,1.36.1,1.37.1', '1.8.1.1,1.14.2,1.37.1,1.50,17', '1.14.1,1.50', '18,18.1', '6.1,1.50,3.1.2,4.3.1,15', '6.1,9,15', '4.7,4.8,5.1', '11.1,4.2.5', '4.4,18.1', '6.1,15', '4.2.5,23', '1.30.1,1.29.2,1.34.1,1.36.1,1.14.2,1.37.1.1,1.29.4', '18.2,18.1,18,4.3.2,11.1,11.3,11.4', '1.29.2,4.1,4.3.2,5.1,11.1,11.3,18.2', '1.50,4.3.1,4.3.2,5.1,11.1,18.2', '11.1,18.2', '4.3.2,11.4,1.29.2,17,11.1', '1.29.2,4.1,4.3.2,11.1,11.4,18.2', '18.2,11.1', '18.1', '25', '4.2.5,15', '1.30.1,1.29.2,1.34.1,1.14.2,1.29.4,1.36.1,1.37.1,1.50', '1.29.2,4.1,4.3.2,5.1,11.1,11.3,17,18.2', '6.2,9', '4.7,4.8,6.1,5.1,9,11.1', '4.7,4.8,6.1,5.1,11.1', '4.2.1,4.4,4.7,11.1,4.8,4.9,6.1,5.1,3.1.7', '4.2.1,4.4,4.7,4.8,4.9,6.1,3.1.7,5.1,11.1', '18.2,18.1,1.1,1.39,1.50,4.3.2,5.1,11.1,11.3,11.4', '1.29.2,4.2.5,4.4,4.7,4.1,11.1,6.2', '18,18.1,18.2', '4.7,5.1,11.1', '11.1,18.1', '11.1,18.1,18.2', '11', '6.1,9', '4.2.5,4.7,5.1,11.1', '4.3.1,4.3.2,8', '8,11.1,18.2', '11,18', '11,18,18.1,18.2', '1.15,4.4,4.7,6.2,12,17', '4.4,5.1,6.1,15', '15', '3.1.8.2,11.1', '4.2.5,11.1,11.4,13', '1.29.2,4.1,4.3.2,11.4,11.2,17,18.2', '1.1,3.1.7,4.2.1,4.2.3,5.1,6.1', '4.2.5,1.29.2,4.1,4.7,4.4,6.2,11.1', '4.2.5,6.2,9', '1.29.2,4.1,4.3.2,11.1,17,18.2,11.4', '18.2,18.1,18,4.3.2,11.1,11.3,11.4,18,18.1,18.2', '18.1,22', '9,6.2', '4.2.5,11.1,11.4', '22', '4.2.5,5.1,11.1', '4.4,11.1', '4.4,11.1,18.1', '4.3.2,4.4,11.1,18.1', '4.2.5,6.2,9,27', '1.36,4.7,5.1,11.1', '1.29.1,5.1,6.1,9,11.1,15', '4.1,4.2.5,4.4,6.2,1.29.2,4.7,11.1', '1.29.2,4.2.5,4.4,4.7,6.2,11.1', '4.2.3,4.2.4,9,26,4.7,2.4', '6.1,1.17,1.36.1,4.3.1,5.1,3.1.7,26', '4.2.3,4.5', '23,25', '6.2,11.1', '6.2,1.14.2,1.37.1.1,1.3,26', '6.2,1.14.2,1.37.1.1,1.3', '4.2.5,11.1', '4.2.3,6.1,11.1', '4.2.5,4.3.2', '1.29.2,1.29.4,1.30.1,1.34.1,1.36.1,1.37.1,1.50,1.14.2', '4.3.2,11.1,11.3,11.4,18,18.1,18.2', '1.29.2,4.3.2,11.1,11.4,13', '5.1,15', '3.1.2,4.4,15', '4.3.1,4.4,5.1,15', '4.2.5,5.1', '4.2.5,4.3.1,4.4,5.1,15', '1.8.1.1,1.8.1.2,1.8.2.1,1.8.2.2,1.8.3.1,1.8.3.2,1.48,5.1', '1.3,1.14.2,5.1', '4.3.2,4.4,4.7,18.2', '4.3.1,4.4,15', '4.7,4.8,5.1,6.2', '18.1,18.2', '1.1,1.23,1.39,3.1.7,4.2.1,5.1,9,15', '4.4,5.1,15', '1.39,3.1.7,4.4,4.7,4.8,5.1,6,12,17', '4.4,4.7,4.8,5.1,6,15,17', '4.7,4.8,5.1,6,17,26', '4.7,4.8,5.1,6,17', '4.4,15', '1.29.2,4.3.2,11.1,18.2,11.4', '6.2,4.1,6.2,4.1', '4.1,4.1', '4.1,6.2,18.1,18.2,4.1,6.2,18.1,18.2', '1.14.2,1.37.1,1.45.1,1.49.14,13', '4.1,6.2,4.1,6.2', '4.1,4.2.5,4.4,4.1,4.2.5,4.4', '1.34.1,1.8.1.1,1.29.1', '1.1,1.30.1,1.36.1', '25,25', '1.36.1,1.1,1.8.1.1', '4.2.5,6.2,4.2.5,6.2', '4.1,4.2.5,4.1,4.2.5', '4.1,4.7,4.8,5.1,6.2,4.1,4.7,4.8,5.1,6.2', '4.1,4.7,4.8,5.1,4.1,4.7,4.8,5.1', '1.1,1.8.1.1,1.36.1', '1.1,1.8.1.1', '1.29.2,1.50', '1.1,1.8.1.1,1.34.1', '4.1,4.3.2,11.1,11.4,4.2.5,13,17', '1.50,3.1.2,4.3.1,15', '1.29.2,4.4,4.2.5,4.1,4.7,6.2,11.1', '1.14.2,1.29.1,1.37.1,1.50', '1.3,1.37.1,1.37.1.1,1.49.2,15', '1.14.2,1.23,3.1.7', '9,6.1,6.2', '1.29.2,4.1,4.3.2,11.1,11.4,17,18.2', '1.50,3.1.8.2', '1.50,5.1', '18.2,18.1', '4.4,4.5,6.1', '4.7,11.1,11.4', '4.4,5.1,11.1,6.1,15', '4.1,5.1,6.1,11.1', '5.1,6.1,9,11.1', '6.1,9,18.1', '9', '4.2.5,6.1,9', '1.49,5.1', '3.1,4.3.1,4.4,5.1', '1.30.1,4.4,6.1,6.2', '4.7,5.1,6,9', '3.1.8.3,4.4,15,3.1.8.3,4.4,15', '1.14.2,1.24,1.37.1,1.37.1.2,1.49.14,1.14.2,1.24,1.37.1,1.37.1.2,1.49.14', '4.2.5,6.1,11.1', '4.3.2,4.4,5.1,6.2,11.1,11.4,18.1', '5.1,6.2,11.1,11.4', '6.1,11.1,4.2.1,12,4.7,5.1,13,3.1.7', '1.30.1,1.50,4.4,6.1,6.2,18.1', '6.2,11.1,4.4,5.1', '1.14.2,1.30.1,4.3.1,4.4,5.1,6.1,6.2,15', '1.50,4.2.5,6,6.1,6.2,9,11,11.1,11.4', '5.1,11.1,6.1', '1.1,1.29.1,1.29.2,1.30.1,3.1.8.2,5.1,1.15', '1.37.1,4.8,15', '4.3.1,4.4,6.1,11.1,18.1', '4.4,11.1,11.4,18', '1.30.1,3.1.8.1', '1.3,1.14.2,1.50,5.1,6.1,11.1,18.1', '4.2.5,23,4.2.5,23', '18.1,23', '11.1,11.4', '4.2.5,4.4,11.1,18.1', '18.1,1.30.1,1.50,4.4,6.1,6.2', '26', '3.1.7,11.1,5.1,6.1', '5.1,18.1', '5.1,9,11.1,6.1', '6.2', '4.7,5.1,23', '3.1.7,4.2.1,6.2,9,12,13,15,17,24', '1.30.1,4.4,5.1,6.1,6.2', '4.4,5.1', '2.4.3', '5.1,6.2,3.1.7,4.8,4.2,4.4,11.1', '1.30.1', '4.2.5,4.3.2,4.4,4.7,4.8,5.1,6.1,6.2,9,11.1,11.4', '4.2.5,4.3.1,4.4,4.7,4.8,4.9,5.1,6,9', '1.1,1.30.1,3.1.8.2,1.29.2,1.15,1.29.1', '3.1,4.4,5.1,18.1,11', '4.4,18.1,3.1,11,5.1', '1.1,1.15,1.29.1,1.29.2,1.30.1,3.1.8.2,5.1', '4.3.1,6.1,9', '4.3.2,11.1,11.3,11.4,18.1,18.2', '4.3.2,8,11.1,11.3,11.4,18.1,18.2', '4.3.2,11.1,11.3,11.4,12,18.1,18.2', '4.4,5.1,6.1', '6', '1.1,5.1,6.1', '4.3.2,11.1,11.3,11.4,18.1,18.2,12', '5.1,6.1,11.1', '27', '1.1,1.23,1.39,4.4,5.1,6.1,11.1,1.17', '1.50,3.4,4.4,5.1', '5.1,11,13', '5.1,6,11.1,11.4', '4.7,6.1,11.1,12,13,15', '1.50,4.3.1,4.3.2,4.4,4.7,4.9,5.1,11.1,18.2', '1.50,4.3.2,4.4,18.1', '6,9', '6.1,6.2,9', '4.4,5.1,15,23', '1.1,1.39,4.4,15', '4.4,5.1,6.2,11.1,11.4', '3.1.7,4.7,5.1,6.1,11.1,12,13,15', '1.1,1.8.1.1,1.29,4.2.5,5.1', '15,23', '1.50,3.4,4.4', '4.4,6.1,11', '4.2.5,4.4,12,13,6.1', '5.1,6.1', '4.4,6.1', '1.50,6.2,11.1,18.2', '6.1', '1.29.2,4.3.2,11.1,13,11.4', '1.1,1.8.1.1,1.8.1.2,1.8.2.1,1.8.2.2,1.8.3.1,1.8.3.2,18.1,18.2', '4.3.1,4.3.2,4.4,6.1,8', '11.3', '1.36.1,4.3.2,4.4,4.7,5.1,6.1,11.1', '6,6.1,9,6,6.1,9', '6,6.1,9,18.1,6,6.1,9,18.1', '6,6.1,9,18.1,18.2,6,6.1,9,18.1,18.2', '4.2.5,4.2.5', '6.1,9,6.1,9', '3.1.7,5.1,3.1.7,5.1', '4.2.5,4.4,4.7,4.8,4.9,4.10,5.1,6.1,9,11.1,11.3', '1.1,1.39,5.1,11.4,18.1,18.2,4.3.1,4.3.2', '4.2.5,4.7,6.1,18.1', '1.1,4.2.5', '5.1,11.4,9,6.1', '15,9,6.1,11.4', '4.2.5,11.1,27', '27,4.2.5,4.4', '4.3.2,11.1,11.3,11.4,18.1,18.2,8', '11.1,18.1,18.2,6.2,8', '6.2,11.1,18.2', '1.29.1', '4.2.5,27', '1.1,1.8.1.1,1.8.1.2,1.8.2.2,1.8.3.1,1.8.3.2,4.2.5,18.1,18.2', '1.1,4.2.5,4.4', '3.4,4.2.5', '4.2.5,4.4', '4.2.5,4.7,5.1,6.2,11.1', '1.39,3.1.7,4.2,4.4,4.7,5.1,6,17', '1.48,1.48', '1.50,4.3.2,4.4,8,18.1,18.2', '4.4,5.1,6.1,11.1,15', '1.1,1.8.1.1,1.8.1.2,1.8.2.2,1.8.3.1,1.8.3.2,4.2.5', '18.1,18.2,23', '9,23', '4.4,5.1,6,11.1', '4.1,5.1,6.1', '4.1,5.1', '23,5.2', '1.1,1.39,4.4,5.1,6.1,11.4', '18,9,11.1,11.4', '4.2.5,6.1,9,15,18.1', '4.4,6,11.1', '1.8.1,1.8.2,1.8.3,1.24,1.48', '4.1,5.1,18.1', '4.1', '18.2,18.1,11.1', '18.2', '4.3.2,6.1,11.1', '3.1.2,4.3.1,4.4,5.1,6.2,11.4', '5.1,23,15', '6.2,4.1', '4.4,5.1,11.4', '18,1.1,1.50,4.3.1,4.3.2,4.6,18', '4.1,6.1,11.1', '4.2.5,4.7,5.1,6.1,9,18.1', '4.2.5,6,11', '1.1,1.8.1.1,1.8.1.2,1.8.2.1,1.8.2.2,1.8.3.1,1.8.3.2,4.2.5', '8,11.1,11.4,18,18.2', '6,11.1', '4.2.5,4.7,5.1,6.1,18.1', '11.1,6', '23,5.1,15', '5.1,9,11.1,6,4.4', '11.1,3.1.7,6,5.1,4.4,4.2.1', '1.50,4.3.1,15', '18.2,18,4.3.2,11.1,11.3,11.4,18.2,18,4.3.2,11.1,11.3,11.4', '4.3.2,11.1,11.3,11.4,18,18.2,4.3.2,11.1,11.3,11.4,18,18.2', '4.2.5,18.1,23', '1.39,3.1.7,4.2,4.4,4.7,4.8,5.1,6,17', '1.37.1,5.1,6,17', '6,17', '6.2,18.1,23', '4.2.5,4.9,11', '4.4,11.1,11.4,13', '11.1,4.4,6,5.1', '5.1,11.1,23,11.4', '3.1.7,1.39,4.2.3,4.2.1,1.1,5.1,6.1', '1.50,4.3.1,3.1.2,15', '4.3.2,11.4,18.1,18.2', '4.3.2,8,11.1,11.3,11.4,18,18.1', '3.1.7,1.39,4.2.1,4.2.3,1.1,5.1,6.1', '1.50,4.4,15', '4.1,12', '6.1,11.1', '4.4,11.1,11.4,18.1,18.2', '3.1.7,5.1', '1.50,4.3.1,4.3.2,11.1,18', '4.2.5,4.3.2,4.4,4.7,6.2,11.1,12', '4.7,11.4', '1.50,4.3.2,4.4,18.1,18.2', '3.1.2,4.8,15', '3.1.7,4.2.1,4.7,5.1,6.1,11.1,12,13', '1.50,4.3.1,4.3.2,4.4,11.1,18', '1.30.1,1.45.1,5.1', '1.1,1.23,1.39,3.1.7,4.2.1,4.4,4.8,5.1,6.1,9', '11.1,18.2,4.3.2,4.4', '1.50,5.1,18.1', '1.1,1.3,1.50,4.3.1,4.3.2,4.6,6.1,18.1,18.2', '6.1,11.1,11.4,18.2', '5.1,11.4,11.1', '4.4,11.1,13,11.4', '11,18.2', '1.8.1.1,1.8.1.2,1.8.2.1,1.8.2.2,1.8.3.1,1.8.3.2,1.48,1.49,4.2.4,4.2.5,4.7,5.1', '1.50,4.2.5,4.4,18.1', '1.1,1.50,4.3.1,4.3.2,4.6,18.1,18.2,26', '1.1,4.3.1,4.3.2,4.6,18.1', '1.1,1.23,1.39,3.1.2,3.1.7,4.2.1,4.3.1,5.1,9,13', '1.36.1,3.1.7,4.4,4.7,5.1,12', '1.36.1,3.1.7,4.4,4.7,5.1', '1.3,1.50,6,6.1,9', '12,15,6.1', '6.1,12,15', '4.4,11.1,9', '5.1,6,11.1,4.4', '1.1,1.50,4.3.1,4.3.2,4.4,4.6,5.1,6.1', '18.2,1.1,1.29.2,1.36.1,1.39,1.50,11.1,12', '3.1.2,1.19.1,4.3.1,15,1.50,6.1', '1.50,3.1.2,4.3.1,6.1,15', '1.19.1,1.50,3.1.2,4.3.1,6.1,15', '4.3.2,11.1,11.3,11.4,4.3.2,11.1,11.3,11.4', '5.1,6.2,11.1,11.3,11.4', '5.1,5.1', '1.1,4.3.1,4.3.2,4.6,18.1,18.2', '1.1,1.3,1.50,4.3.1,4.3.2,4.6,5.1,6,6.1,8,18.2', '4.4,4.7', '1.1,1.3,1.39,1.50,4.3.1,4.3.2,4.6,4.7,4.8,5.1,6.1,18.1,18.2', '4.3.2,4.6', '17,27', '4.2.5,11.1,11.4,18.1', '23,15,4.4,5.1', '1.1,1.23,1.39,3.1.7,4.2.1,4.4,4.8,5.1,9', '4.1,4.2.5,4.7,5.1,11.1', '4.2.5,6,14,11.3,11.4', '15,4.4,5.1', '6.1,6.2,4.4,9', '1.48,1.2,1.37', '6.1,6.2,9,4.4', '1.48,1.37,1.2', '1.2,1.37,1.48', '3.1.8.2', '4.2.5,6.1']\n"
          ]
        }
      ]
    },
    {
      "cell_type": "markdown",
      "source": [
        "**Колонки “*-МКБ-*” типа object-string**"
      ],
      "metadata": {
        "id": "gvmTTwPj0_w1"
      }
    },
    {
      "cell_type": "code",
      "source": [
        "mkbStr = '_МКБ'\n",
        "mkbCols = getColumnsWithString(mkbStr)\n",
        "print(mkbCols)\n",
        "print(f'Число колонок, содержащих \"{mkbStr}\": {len(mkbCols)}')"
      ],
      "metadata": {
        "colab": {
          "base_uri": "https://localhost:8080/"
        },
        "id": "197irnMi3iG-",
        "outputId": "b8c92312-e824-43e1-aa7e-7e17f912b790"
      },
      "execution_count": 21,
      "outputs": [
        {
          "output_type": "stream",
          "name": "stdout",
          "text": [
            "['ПсихиатрияНаркология1_МКБ101', 'Офтальмология1_МКБ101', 'Оториноларингология1_МКБ101', 'ХирургНеИсп1_МКБ101', 'Гинекология1_МКБ101', 'Стоматология1_МКБ101', 'Дерматовенерология1_МКБ101', 'Рентгенология1_МКБ101', 'Неврология1_МКБ101', 'Терапия1_МКБ101', 'Хирургия1_МКБ101', 'Офтальмология1_МКБ102', 'Терапия2_МКБ101', 'Неврология2_МКБ101', 'ЛабораторныеИсследования1_МКБ101', 'ЭКГНеИсп1_МКБ101', 'УЗИДиагностика1_МКБ101', 'УЗИДиагностика2_МКБ101', 'ПсихиатрияНаркология2_МКБ101', 'Терапия1_МКБ102', 'ЛабораторныеИсследования2_МКБ101', 'Терапия1_МКБ103', 'Психиатрия1_МКБ101', 'Гинекология1_МКБ102', 'Рентгенология2_МКБ101', 'Гинекология2_МКБ101', 'Хирургия2_МКБ101', 'ПроцедурнаяМедсестра1_МКБ101', 'ФункциональнаяДиагностика1_МКБ101', 'УЗИДиагностика1_МКБ102', 'Стоматология2_МКБ101', 'Неврология1_МКБ102', 'Оториноларингология2_МКБ101', 'Дерматовенерология1_МКБ102', 'Дерматовенерология2_МКБ101', 'Дерматовенерология2_МКБ102', 'Хирургия1_МКБ102', 'Хирургия2_МКБ102', 'Офтальмология2_МКБ101', 'Офтальмология2_МКБ102', 'Неврология2_МКБ102', 'ПсихиатрияНаркология1_МКБ102', 'ПсихиатрияНаркология2_МКБ102', 'УЗИДиагностика2_МКБ102', 'Оториноларингология1_МКБ102', 'Оториноларингология2_МКБ102', 'Терапия2_МКБ102', 'Оториноларингология1_МКБ103', 'Оториноларингология1_МКБ104', 'Оториноларингология2_МКБ103', 'Оториноларингология2_МКБ104', 'Терапия3_МКБ101', 'Терапия3_МКБ102', 'Терапия4_МКБ101', 'Терапия4_МКБ102', 'Гинекология2_МКБ102', 'УЗИДиагностика1_МКБ103', 'УЗИДиагностика1_МКБ104', 'УЗИДиагностика2_МКБ103', 'УЗИДиагностика2_МКБ104', 'Стоматология1_МКБ102', 'Стоматология2_МКБ102', 'Терапия1_МКБ104', 'Терапия2_МКБ103', 'Терапия2_МКБ104', 'Офтальмология1_МКБ103', 'Офтальмология1_МКБ104', 'Офтальмология2_МКБ103', 'Офтальмология2_МКБ104', 'ЛабораторныеИсследования1_МКБ102', 'ЛабораторныеИсследования2_МКБ102', 'Хирургия3_МКБ101', 'Гинекология3_МКБ101', 'Гинекология3_МКБ102', 'Гинекология4_МКБ101', 'Гинекология4_МКБ102', 'ТерапевтНеИсп1_МКБ101', 'Эндоскопия1_МКБ101', 'ТерапевтНеИсп1_МКБ102', 'ХирургНеИсп1_МКБ102', 'ХирургНеИсп2_МКБ101', 'ХирургНеИсп2_МКБ102', 'Психиатрия1_МКБ102', 'Психиатрия2_МКБ101', 'Психиатрия2_МКБ102', 'Рентгенология1_МКБ102', 'Рентгенология2_МКБ102', 'Психиатрия3_МКБ101', 'Психиатрия3_МКБ102', 'Психиатрия4_МКБ101', 'Психиатрия4_МКБ102', 'Оториноларингология3_МКБ101']\n",
            "Число колонок, содержащих \"_МКБ\": 92\n"
          ]
        }
      ]
    },
    {
      "cell_type": "code",
      "source": [
        "# ПсихиатрияНаркология1_МКБ101\n",
        "nanRowInxs = getNanRowInxs(psychnark1_MKB101)\n",
        "сolUVals = getColUniqueVals(psychnark1_MKB101)\n",
        "print(f'Колонка: \"{psychnark1_MKB101}\":')\n",
        "print(f'  число пустых значений: {len(nanRowInxs)}')\n",
        "print(f'  уникальные значения: {сolUVals}')"
      ],
      "metadata": {
        "colab": {
          "base_uri": "https://localhost:8080/"
        },
        "id": "6yHH-1vf8mP8",
        "outputId": "d88641af-538c-4f20-cfdd-0f2785b76a98"
      },
      "execution_count": 22,
      "outputs": [
        {
          "output_type": "stream",
          "name": "stdout",
          "text": [
            "Колонка: \"ПсихиатрияНаркология1_МКБ101\":\n",
            "  число пустых значений: 363\n",
            "  уникальные значения: ['Z00.0', nan, 'F06.6', 'F06.7', 'F41.0', 'R25.1', 'F98.5', 'F07.0']\n"
          ]
        }
      ]
    },
    {
      "cell_type": "markdown",
      "source": [
        "**~~~~~~~~~~~~~~~~~~~~~~~~HARD-CODE~~~~~~~~~~~~~~~~~~~~~~~~**\n",
        "**ТОЛЬКО ДЛЯ ОТЛАДКИ**\n",
        "**~~~~~~~~~~~~~~~~~~~~~~~~HARD-CODE~~~~~~~~~~~~~~~~~~~~~~~~:**"
      ],
      "metadata": {
        "id": "vhFyzKHIwX33"
      }
    },
    {
      "cell_type": "code",
      "source": [
        "df = df.iloc[:10]\n",
        "print('Размер датасета после удаления строк:')\n",
        "printRowColCount()"
      ],
      "metadata": {
        "colab": {
          "base_uri": "https://localhost:8080/"
        },
        "id": "cALCH5HvwPww",
        "outputId": "67f89ebd-5ee8-43a3-9cc9-a4f741961d0d"
      },
      "execution_count": 28,
      "outputs": [
        {
          "output_type": "stream",
          "name": "stdout",
          "text": [
            "Размер датасета после удаления строк:\n",
            "Текущий датасет: число строк: 10, число колонок: 4587, (10, 4587)\n"
          ]
        }
      ]
    },
    {
      "cell_type": "markdown",
      "source": [
        "---\n",
        "**Формирование массивов индексов для обучающей и тестовых выборок**\n",
        "---"
      ],
      "metadata": {
        "id": "3Ev6FDSTGOSd"
      }
    },
    {
      "cell_type": "code",
      "source": [
        "#print('Размер датасета после удаления строк:')\n",
        "#printRowColCount()\n",
        "\n",
        "# Определяем количество строк после обработки(подготовки) датасета\n",
        "rowCount = df.shape[0]\n",
        "#print(f'Текущее количество строк в датасете: {rowCount}')\n",
        "\n",
        "#создаем массив индексов\n",
        "inxVec = np.zeros(rowCount, dtype=int)\n",
        "#print(inxVec)\n",
        "for i in range(rowCount):\n",
        "  inxVec[i] = i\n",
        "\n",
        "#print(inxVec)\n",
        "\n",
        "# Перемешиваем элементы массива в случайном порядке, для того чтобы\n",
        "# наша модель научилась правильнее предсказывать результат,\n",
        "# а не заучила ответы\n",
        "np.random.shuffle(inxVec)\n",
        "#print(inxVec)\n",
        "\n",
        "trainVecLen = int(rowCount*trainPercent/100)\n",
        "testVecLen = rowCount - trainVecLen;\n",
        "#print(f'trainPercent: {trainPercent}, rowCount: {rowCount}, trainVecLen: {trainVecLen}, testVecLen: {testVecLen}')\n",
        "\n",
        "# И теперь делим массивы на тренировочную и тествые выборки\n",
        "testInxs = inxVec[:testVecLen]\n",
        "trainInxs = inxVec[testVecLen:]\n",
        "#print(testInxs)\n",
        "#print(trainInxs)"
      ],
      "metadata": {
        "id": "IxNnT1lS6RAd"
      },
      "execution_count": 29,
      "outputs": []
    },
    {
      "cell_type": "markdown",
      "source": [
        "**Создаем массивы для обучения нейросети**"
      ],
      "metadata": {
        "id": "54J5RHbmt9Cd"
      }
    },
    {
      "cell_type": "code",
      "source": [
        "# ЗаключениеМК - обучающая и тестовые выборки\n",
        "(yTrain, yTest) = getYTrainTestCategorical(targetColName, trainInxs, testInxs)\n",
        "#print(yTrain)\n",
        "#print(yTest)"
      ],
      "metadata": {
        "id": "dbjGhkmGqYHe"
      },
      "execution_count": 30,
      "outputs": []
    },
    {
      "cell_type": "markdown",
      "source": [
        "Начинаем формировать-собирать массив векторов xTrain и такой же xTest, одна строка которого(которых) будет содержать значения по всем параметрам, которые будем использовать для обучения сети."
      ],
      "metadata": {
        "id": "rShnUm4BMIke"
      }
    },
    {
      "cell_type": "code",
      "source": [
        "print(f'len(xTrainList): {len(xTrainList)}')\n",
        "print(f'len(xTestList): {len(xTestList)}')\n",
        "\n",
        "# Возраст пациента - обучающая и тестовые выборки\n",
        "(xTrain_age, xTest_age) = getAgeTrainTestCategorical(dt1ColName, dt2ColName, trainInxs, testInxs)\n",
        "#print(xTrain_age)\n",
        "#print(xTest_age)\n",
        "\n",
        "# И после того как рассчитали категориальные значений, добавляем их в суммарный вектор\n",
        "addVecsToXTrainTest(xTrain_age, xTest_age)\n",
        "\n",
        "print(f'len(xTrainList): {len(xTrainList)}')\n",
        "print(f'len(xTestList): {len(xTestList)}')\n",
        "if len(xTrainList) > 0:\n",
        "  print(f'len(xTrainList[0]): {len(xTrainList[0])}')\n",
        "  print(f'len(xTestList[0]): {len(xTestList[0])}')"
      ],
      "metadata": {
        "colab": {
          "base_uri": "https://localhost:8080/"
        },
        "id": "emmPKdTiKSc5",
        "outputId": "4702e694-0ea3-4535-92ed-5b6c7bc1e215"
      },
      "execution_count": 31,
      "outputs": [
        {
          "output_type": "stream",
          "name": "stdout",
          "text": [
            "len(xTrainList): 0\n",
            "len(xTestList): 0\n",
            "len(xTrainList): 8\n",
            "len(xTestList): 2\n",
            "len(xTrainList[0]): 11\n",
            "len(xTestList[0]): 11\n"
          ]
        }
      ]
    },
    {
      "cell_type": "code",
      "source": [
        "# Пол пациента - обучающая и тестовые выборки\n",
        "(xTrain_gender, xTest_gender) = getXTrainTestCategorical(genderColName, trainInxs, testInxs)\n",
        "# print(xTrain_gender)\n",
        "# print(xTest_gender)\n",
        "\n",
        "# И после того как рассчитали категориальные значений, добавляем их в суммарный вектор\n",
        "addVecsToXTrainTest(xTrain_gender, xTest_gender)\n",
        "\n",
        "print(f'len(xTrainList): {len(xTrainList)}')\n",
        "print(f'len(xTestList): {len(xTestList)}')\n",
        "if len(xTrainList) > 0:\n",
        "  print(f'len(xTrainList[0]): {len(xTrainList[0])}')\n",
        "  print(f'len(xTestList[0]): {len(xTestList[0])}')"
      ],
      "metadata": {
        "colab": {
          "base_uri": "https://localhost:8080/"
        },
        "id": "nhd0LKvbgsTI",
        "outputId": "bcd686cd-28df-4da1-983b-19946c60977a"
      },
      "execution_count": 32,
      "outputs": [
        {
          "output_type": "stream",
          "name": "stdout",
          "text": [
            "len(xTrainList): 8\n",
            "len(xTestList): 2\n",
            "len(xTrainList[0]): 13\n",
            "len(xTestList[0]): 13\n"
          ]
        }
      ]
    },
    {
      "cell_type": "markdown",
      "source": [
        "---\n",
        "**Шаг 2. Обучение модели**\n",
        "---"
      ],
      "metadata": {
        "id": "gYi0-h-2gpP1"
      }
    },
    {
      "cell_type": "code",
      "source": [
        "# Создание последовательной модели\n",
        "model = Sequential()\n",
        "\n",
        "intputVecLen = len(xTrainList[0])\n",
        "\n",
        "# Добавление полносвязного слоя на 800 нейронов с relu-активацией\n",
        "model.add(Dense(800, input_dim=intputVecLen, activation='relu')) \n",
        "\n",
        "# Добавление полносвязного слоя на 400 нейронов с relu-активацией\n",
        "model.add(Dense(400, activation='relu')) \n",
        "\n",
        "# Добавление полносвязного слоя с количеством нейронов по числу классов с softmax-активацией\n",
        "model.add(Dense(CLASS_COUNT, activation='softmax')) "
      ],
      "metadata": {
        "id": "8HCWatLYhP9L"
      },
      "execution_count": 33,
      "outputs": []
    },
    {
      "cell_type": "code",
      "source": [
        "# Компиляция модели\n",
        "model.compile(loss='categorical_crossentropy', optimizer='adam', metrics=['accuracy'])\n",
        "\n",
        "# Вывод структуры модели\n",
        "print(model.summary())"
      ],
      "metadata": {
        "colab": {
          "base_uri": "https://localhost:8080/"
        },
        "id": "Izu_JTPjaGBz",
        "outputId": "0a680694-86a7-43b1-e76c-3b1d9da01f73"
      },
      "execution_count": 34,
      "outputs": [
        {
          "output_type": "stream",
          "name": "stdout",
          "text": [
            "Model: \"sequential\"\n",
            "_________________________________________________________________\n",
            " Layer (type)                Output Shape              Param #   \n",
            "=================================================================\n",
            " dense (Dense)               (None, 800)               11200     \n",
            "                                                                 \n",
            " dense_1 (Dense)             (None, 400)               320400    \n",
            "                                                                 \n",
            " dense_2 (Dense)             (None, 3)                 1203      \n",
            "                                                                 \n",
            "=================================================================\n",
            "Total params: 332,803\n",
            "Trainable params: 332,803\n",
            "Non-trainable params: 0\n",
            "_________________________________________________________________\n",
            "None\n"
          ]
        }
      ]
    },
    {
      "cell_type": "code",
      "source": [
        "# xTrainList = list()\n",
        "# xTestList = list()\n",
        "xTrain = np.array(xTrainList)\n",
        "xTest = np.array(xTestList)\n",
        "\n",
        "#yTrain, yTest\n",
        "\n",
        "print(len(xTrain))\n",
        "print(len(yTrain))\n",
        "\n",
        "model.fit(xTrain,        # обучающая выборка, входные данные\n",
        "          yTrain,        # обучающая выборка, выходные данные\n",
        "          #batch_size=128, # кол-во примеров, которое обрабатывает нейронка перед одним изменением весов\n",
        "          epochs=15,      # количество эпох, когда нейронка обучается на всех примерах выборки\n",
        "          verbose=1)      # 0 - не визуализировать ход обучения, 1 - визуализировать"
      ],
      "metadata": {
        "colab": {
          "base_uri": "https://localhost:8080/"
        },
        "id": "5Dzc5gflh21y",
        "outputId": "cdc66bfe-7d6b-4e38-ea5c-eef615e72311"
      },
      "execution_count": 40,
      "outputs": [
        {
          "output_type": "stream",
          "name": "stdout",
          "text": [
            "8\n",
            "8\n",
            "Epoch 1/15\n",
            "1/1 [==============================] - 0s 13ms/step - loss: 0.2937 - accuracy: 0.8750\n",
            "Epoch 2/15\n",
            "1/1 [==============================] - 0s 11ms/step - loss: 0.2902 - accuracy: 0.8750\n",
            "Epoch 3/15\n",
            "1/1 [==============================] - 0s 11ms/step - loss: 0.2869 - accuracy: 0.8750\n",
            "Epoch 4/15\n",
            "1/1 [==============================] - 0s 13ms/step - loss: 0.2849 - accuracy: 0.8750\n",
            "Epoch 5/15\n",
            "1/1 [==============================] - 0s 11ms/step - loss: 0.2846 - accuracy: 0.8750\n",
            "Epoch 6/15\n",
            "1/1 [==============================] - 0s 11ms/step - loss: 0.2851 - accuracy: 0.8750\n",
            "Epoch 7/15\n",
            "1/1 [==============================] - 0s 11ms/step - loss: 0.2845 - accuracy: 0.8750\n",
            "Epoch 8/15\n",
            "1/1 [==============================] - 0s 10ms/step - loss: 0.2831 - accuracy: 0.8750\n",
            "Epoch 9/15\n",
            "1/1 [==============================] - 0s 10ms/step - loss: 0.2823 - accuracy: 0.8750\n",
            "Epoch 10/15\n",
            "1/1 [==============================] - 0s 10ms/step - loss: 0.2825 - accuracy: 0.8750\n",
            "Epoch 11/15\n",
            "1/1 [==============================] - 0s 10ms/step - loss: 0.2830 - accuracy: 0.8750\n",
            "Epoch 12/15\n",
            "1/1 [==============================] - 0s 10ms/step - loss: 0.2827 - accuracy: 0.8750\n",
            "Epoch 13/15\n",
            "1/1 [==============================] - 0s 11ms/step - loss: 0.2819 - accuracy: 0.8750\n",
            "Epoch 14/15\n",
            "1/1 [==============================] - 0s 10ms/step - loss: 0.2817 - accuracy: 0.8750\n",
            "Epoch 15/15\n",
            "1/1 [==============================] - 0s 10ms/step - loss: 0.2821 - accuracy: 0.8750\n"
          ]
        },
        {
          "output_type": "execute_result",
          "data": {
            "text/plain": [
              "<keras.callbacks.History at 0x7fce8ca469b0>"
            ]
          },
          "metadata": {},
          "execution_count": 40
        }
      ]
    }
  ]
}