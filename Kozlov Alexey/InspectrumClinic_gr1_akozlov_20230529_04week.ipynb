{
  "nbformat": 4,
  "nbformat_minor": 0,
  "metadata": {
    "colab": {
      "provenance": [],
      "gpuType": "T4",
      "collapsed_sections": [
        "38ICOkSC9BMV",
        "cqz6QQVAM-8p",
        "q-yFxZpa0Kh0",
        "ZJNfW435ddAN",
        "KRYITxYqFAd6",
        "crULPocvIVrf",
        "0fXR_iNyNNrF",
        "KQBOw2E-Qhe7",
        "9f1tmBhhVmOI",
        "9ih0G8rLdTDd",
        "uXSh4C2YqdVm",
        "70r2sOfD-GAM",
        "X9F3GByj_SGU",
        "m9m4niPGFQsy",
        "kpBs-1q1CMCa",
        "TGSEw8mYVVh8",
        "a1ZcKAKcRegL",
        "2s9nf5lbU2py",
        "NAdIXRz_O7U3"
      ],
      "authorship_tag": "ABX9TyOt2M/zq+YtBnqyx6ke3Buf",
      "include_colab_link": true
    },
    "kernelspec": {
      "name": "python3",
      "display_name": "Python 3"
    },
    "language_info": {
      "name": "python"
    }
  },
  "cells": [
    {
      "cell_type": "markdown",
      "metadata": {
        "id": "view-in-github",
        "colab_type": "text"
      },
      "source": [
        "<a href=\"https://colab.research.google.com/github/Untick/InspectrumClinic_RS_gr1/blob/main/Kozlov%20Alexey/InspectrumClinic_gr1_akozlov_20230529_04week.ipynb\" target=\"_parent\"><img src=\"https://colab.research.google.com/assets/colab-badge.svg\" alt=\"Open In Colab\"/></a>"
      ]
    },
    {
      "cell_type": "markdown",
      "source": [
        "**Рекомендательная система для профпатолога (INSPECTRUM CLINIC)**\n",
        "\n",
        "Алексей Козлов 2023.05.29 - 2023.06.05 (4-я неделя): Балансировка датасета (Resample, метрика F1Score), построить модель FunctionalAPI"
      ],
      "metadata": {
        "id": "ALJziHyQWOSU"
      }
    },
    {
      "cell_type": "markdown",
      "source": [
        "# Импорт библиотек"
      ],
      "metadata": {
        "id": "38ICOkSC9BMV"
      }
    },
    {
      "cell_type": "code",
      "source": [
        "# Загрузка файлов из облака\n",
        "import gdown\n",
        "# Библиотека для работы с массивами данных\n",
        "import numpy as np\n",
        "# Библиотека для обработки и анализа данных\n",
        "import pandas as pd\n",
        "# Библиотека для построения графиков\n",
        "import matplotlib.pyplot as plt\n",
        "# Команда для отображения графики в ячейках среды Google Colaboratory\n",
        "%matplotlib inline\n",
        "# Библиотека для построения графиков\n",
        "import seaborn as sns\n",
        "#Для генерации случайных чисел\n",
        "import random \n",
        "# Для округления\n",
        "import math\n",
        "import re\n",
        "\n",
        "# Подключение класса создания модели Sequential\n",
        "# Sequential – модуль для создания последовательной модели нейронной сети\n",
        "from tensorflow.keras.models import Sequential, Model\n",
        "# Подключение класса Dense - полносвязный слой\n",
        "# Dense – линейный (полносвязный) слой. Из таких слоев будет создана ваша нейросеть\n",
        "from tensorflow.keras.layers import concatenate, Input, Dense, Dropout, BatchNormalization, Flatten\n",
        "# utils – модуль с полезными инструментами для подготовки данных\n",
        "#Используем для to_categoricall\n",
        "from tensorflow.keras import utils\n",
        "from tensorflow.keras.optimizers import Adam,Adadelta,SGD,Adagrad,RMSprop\n",
        "from tensorflow.keras.preprocessing.text import Tokenizer, text_to_word_sequence\n",
        "from tensorflow.keras.preprocessing.sequence import pad_sequences\n",
        "# подключаем колбэки\n",
        "from tensorflow.keras.callbacks import LambdaCallback\n",
        "\n",
        "from sklearn.preprocessing import StandardScaler\n",
        "# Для разбивки на выборки\n",
        "from sklearn.model_selection import train_test_split\n",
        "from sklearn.metrics import mean_squared_error, mean_absolute_error\n",
        "\n",
        "from IPython.display import clear_output\n",
        "\n",
        "# Для работы с датами\n",
        "from datetime import datetime\n",
        "\n",
        "#from keras import metrics"
      ],
      "metadata": {
        "id": "Oe2mran7NIGx"
      },
      "execution_count": 1,
      "outputs": []
    },
    {
      "cell_type": "markdown",
      "source": [
        "# Загрузка файла с исходными данными"
      ],
      "metadata": {
        "id": "cqz6QQVAM-8p"
      }
    },
    {
      "cell_type": "code",
      "source": [
        "# Загрузка файла датасета от 2023.05.08\n",
        "url1 = 'https://storage.yandexcloud.net/terratraineeship/23_InspectrumClinic_RS/datasets/%D0%B4%D0%B0%D1%82%D0%B0%D1%81%D0%B5%D1%82%20%D0%BF%D1%80%D0%BE%D1%84%D0%BF%D0%B0%D1%82%D0%BE%D0%BB%D0%BE%D0%B3%20%D1%87%D0%B0%D1%81%D1%82%D1%8C.xlsx'\n",
        "url2 = '/content/InspectrumClinic1.xlsx'\n",
        "gdown.download(url1, url2, quiet=False)"
      ],
      "metadata": {
        "colab": {
          "base_uri": "https://localhost:8080/",
          "height": 680
        },
        "id": "wSUxwx5W_H9f",
        "outputId": "5ee997f4-9dfb-40a5-8002-57e891307791"
      },
      "execution_count": 2,
      "outputs": [
        {
          "output_type": "stream",
          "name": "stderr",
          "text": [
            "Downloading...\n",
            "From: https://storage.yandexcloud.net/terratraineeship/23_InspectrumClinic_RS/datasets/%D0%B4%D0%B0%D1%82%D0%B0%D1%81%D0%B5%D1%82%20%D0%BF%D1%80%D0%BE%D1%84%D0%BF%D0%B0%D1%82%D0%BE%D0%BB%D0%BE%D0%B3%20%D1%87%D0%B0%D1%81%D1%82%D1%8C.xlsx\n",
            "To: /content/InspectrumClinic1.xlsx\n",
            "100%|██████████| 32.4M/32.4M [00:02<00:00, 15.7MB/s]\n"
          ]
        },
        {
          "output_type": "execute_result",
          "data": {
            "text/plain": [
              "'/content/InspectrumClinic1.xlsx'"
            ],
            "application/vnd.google.colaboratory.intrinsic+json": {
              "type": "string"
            }
          },
          "metadata": {},
          "execution_count": 2
        }
      ]
    },
    {
      "cell_type": "code",
      "source": [
        "# Чтение данных (df - DataFrame)\n",
        "df1 = pd.read_excel(url2)"
      ],
      "metadata": {
        "id": "ogmAAOOp_VQM"
      },
      "execution_count": 3,
      "outputs": []
    },
    {
      "cell_type": "code",
      "source": [
        "# Выведем информацию о заполненности ячеек каждого признака\n",
        "df1.info()"
      ],
      "metadata": {
        "colab": {
          "base_uri": "https://localhost:8080/"
        },
        "id": "ozZrIXLHBJVA",
        "outputId": "c137256d-076d-4b77-b30d-76b3c765757e"
      },
      "execution_count": 4,
      "outputs": [
        {
          "output_type": "stream",
          "name": "stdout",
          "text": [
            "<class 'pandas.core.frame.DataFrame'>\n",
            "RangeIndex: 1982 entries, 0 to 1981\n",
            "Columns: 4587 entries, ДокументПрохождениеМедосмотра to Офтальмология1_ДвигательныйАппаратГлазДополнение_ЗначениеПредставление\n",
            "dtypes: bool(1), datetime64[ns](43), float64(1253), object(3290)\n",
            "memory usage: 69.3+ MB\n"
          ]
        }
      ]
    },
    {
      "cell_type": "code",
      "source": [
        "print(f'размеры датафрейма: df1: {df1.shape}')"
      ],
      "metadata": {
        "colab": {
          "base_uri": "https://localhost:8080/"
        },
        "id": "eCXG33dllBz2",
        "outputId": "5e0f3daa-d435-4fa6-9cb3-7f06633f48d8"
      },
      "execution_count": 5,
      "outputs": [
        {
          "output_type": "stream",
          "name": "stdout",
          "text": [
            "размеры датафрейма: df1: (1982, 4587)\n"
          ]
        }
      ]
    },
    {
      "cell_type": "code",
      "source": [
        "# общее количество пропусков во всей таблице\n",
        "nan_cell_count = df1.isna().sum().sum()\n",
        "# Переведем полученное значение в проценты. Для этого поделим количество пропусков на количество ячеек и умножим на 100:\n",
        "nan_cell_count_proc = nan_cell_count*100/df1.size\n",
        "print(f'общее количество пропусков во всей таблице: {nan_cell_count}, {round(nan_cell_count_proc, 2)}%')"
      ],
      "metadata": {
        "colab": {
          "base_uri": "https://localhost:8080/"
        },
        "id": "g6_IyWpRQE6c",
        "outputId": "b83bb5b5-c6a4-4c58-e756-ddb0bae03d1b"
      },
      "execution_count": 6,
      "outputs": [
        {
          "output_type": "stream",
          "name": "stdout",
          "text": [
            "общее количество пропусков во всей таблице: 8106978, 89.17%\n"
          ]
        }
      ]
    },
    {
      "cell_type": "markdown",
      "source": [
        "# Балансировка датасета Resample"
      ],
      "metadata": {
        "id": "q-yFxZpa0Kh0"
      }
    },
    {
      "cell_type": "code",
      "source": [
        "# Целевая колонка 'ЗаключениеМК'\n",
        "nan_lst = df1[df1['ЗаключениеМК'].isnull()].index\n",
        "print(f'\"ЗаключениеМК\": число строк с пустыми значениями: {len(nan_lst)}')\n",
        "u_lst = df1['ЗаключениеМК'].unique().tolist()\n",
        "print(f'{len(u_lst)}: {u_lst}')"
      ],
      "metadata": {
        "colab": {
          "base_uri": "https://localhost:8080/"
        },
        "id": "75Nyi2580YHa",
        "outputId": "c3b19fc4-da07-4d40-92ba-ad29fc168477"
      },
      "execution_count": 7,
      "outputs": [
        {
          "output_type": "stream",
          "name": "stdout",
          "text": [
            "\"ЗаключениеМК\": число строк с пустыми значениями: 407\n",
            "10: ['Годен', 'ГоденСКоррекциейЗрения', 'ГоденБезРаботНаВысотах', 'НуждаетсяВДообследованииИЛечении', 'ВременноНегоден', 'ОграниченноГоден', nan, 'машинист бульдозера', 'Газоспасатель', ' Газоспасатель']\n"
          ]
        }
      ]
    },
    {
      "cell_type": "code",
      "source": [
        "# Подсчитаем число строк по каждому целевому значению\n",
        "# Получаем список значений колонки\n",
        "col_inx = df1.columns.get_loc('ЗаключениеМК')\n",
        "col_lst = df1.iloc[:, col_inx].tolist()\n",
        "# print(f'df1.shape[0]: {df1.shape[0]}: len(col_lst): {len(col_lst)}, col_lst: {col_lst}')\n",
        "\n",
        "# 6: ['Годен', 'ГоденСКоррекциейЗрения', 'ГоденБезРаботНаВысотах', 'НуждаетсяВДообследованииИЛечении', 'ВременноНегоден', 'ОграниченноГоден']\n",
        "\n",
        "lst0 = list() #0 - ВременноНегоден\n",
        "lst1 = list() #1 - ГоденСКоррекциейЗрения\n",
        "lst2 = list() #2 - ГоденБезРаботНаВысотах\n",
        "lst3 = list() #3 - НуждаетсяВДообследованииИЛечении\n",
        "lst4 = list() #4 - ОграниченноГоден\n",
        "lst5 = list() #5 - Годен\n",
        "\n",
        "# Подсчитываем число целевых значений по категориям\n",
        "# и заполняем списки индексов соответствующих значений\n",
        "# Пробегаем по всем строкам текущей колонки\n",
        "for i in range(df1.shape[0]):\n",
        "  i_elem = col_lst[i]\n",
        "  # print(f'{i}->{df1.shape[0]}: i_elem: {i_elem}')\n",
        "  # проверяем на nan\n",
        "  if (i_elem == i_elem):\n",
        "    # проверяем, что строка не пустая\n",
        "    if i_elem:\n",
        "      if not (('машинист бульдозера' == i_elem) or ('Газоспасатель' == i_elem) or (' Газоспасатель' == i_elem)):\n",
        "        # print(f'{i}=>{df1.shape[0]}: i_elem: {i_elem}')\n",
        "        if 'ВременноНегоден' == i_elem:\n",
        "          lst0.append(i)\n",
        "        elif 'ГоденСКоррекциейЗрения' == i_elem:\n",
        "          lst1.append(i)\n",
        "        elif 'ГоденБезРаботНаВысотах' == i_elem:\n",
        "          lst2.append(i)\n",
        "        elif 'НуждаетсяВДообследованииИЛечении' == i_elem:\n",
        "          lst3.append(i)\n",
        "        elif 'ОграниченноГоден' == i_elem:\n",
        "          lst4.append(i)\n",
        "        elif 'Годен' == i_elem:\n",
        "          lst5.append(i)\n",
        "        else:\n",
        "          print(f'{i}->{df1.shape[0]}: i_elem: {i_elem} -> НЕИЗВЕСТНЫЙ ИНДЕКС-ТИП')\n",
        "\n",
        "print(f'df1 число строк: {df1.shape[0]}')\n",
        "\n",
        "print(f'0: ВременноНегоден: {len(lst0)}')\n",
        "print(f'1: ГоденСКоррекциейЗрения: {len(lst1)}')\n",
        "print(f'2: ГоденБезРаботНаВысотах: {len(lst2)}')\n",
        "print(f'3: НуждаетсяВДообследованииИЛечении: {len(lst3)}')\n",
        "print(f'4: ОграниченноГоден: {len(lst4)}')\n",
        "print(f'5: Годен: {len(lst5)}')\n",
        "\n",
        "print('проверочная сумма по отдельным значениям, c учетом nan и запрещенных значений:')\n",
        "print(f'  {df1.shape[0]} -> {len(lst0)+len(lst1)+len(lst2)+len(lst3)+len(lst4)+len(lst5)}')"
      ],
      "metadata": {
        "colab": {
          "base_uri": "https://localhost:8080/"
        },
        "id": "wXEp2MC_0RyS",
        "outputId": "e3b17fa5-905f-4f62-c878-337cbc7a6c7a"
      },
      "execution_count": 8,
      "outputs": [
        {
          "output_type": "stream",
          "name": "stdout",
          "text": [
            "df1 число строк: 1982\n",
            "0: ВременноНегоден: 9\n",
            "1: ГоденСКоррекциейЗрения: 123\n",
            "2: ГоденБезРаботНаВысотах: 1\n",
            "3: НуждаетсяВДообследованииИЛечении: 2\n",
            "4: ОграниченноГоден: 2\n",
            "5: Годен: 1434\n",
            "проверочная сумма по отдельным значениям, c учетом nan и запрещенных значений:\n",
            "  1982 -> 1571\n"
          ]
        }
      ]
    },
    {
      "cell_type": "code",
      "source": [
        "# создаем копию нужных строк и добавляем их в отдельный df\n",
        "adf0 = df1.loc[lst0].copy()\n",
        "print(f'размеры датафрейма adf0: {adf0.shape}, len(lst0): {len(lst0)}')\n",
        "\n",
        "adf1 = df1.loc[lst1].copy()\n",
        "print(f'размеры датафрейма adf1: {adf1.shape}, len(lst1): {len(lst1)}')\n",
        "\n",
        "adf2 = df1.loc[lst2].copy()\n",
        "print(f'размеры датафрейма adf2: {adf2.shape}, len(lst2): {len(lst2)}')\n",
        "\n",
        "adf3 = df1.loc[lst3].copy()\n",
        "print(f'размеры датафрейма adf3: {adf3.shape}, len(lst3): {len(lst3)}')\n",
        "\n",
        "adf4 = df1.loc[lst4].copy()\n",
        "print(f'размеры датафрейма adf4: {adf4.shape}, len(lst4): {len(lst4)}')"
      ],
      "metadata": {
        "colab": {
          "base_uri": "https://localhost:8080/"
        },
        "id": "ZYWXudY27WyQ",
        "outputId": "f141c977-f805-4665-cc5d-99e948c7a13f"
      },
      "execution_count": 9,
      "outputs": [
        {
          "output_type": "stream",
          "name": "stdout",
          "text": [
            "размеры датафрейма adf0: (9, 4587), len(lst0): 9\n",
            "размеры датафрейма adf1: (123, 4587), len(lst1): 123\n",
            "размеры датафрейма adf2: (1, 4587), len(lst2): 1\n",
            "размеры датафрейма adf3: (2, 4587), len(lst3): 2\n",
            "размеры датафрейма adf4: (2, 4587), len(lst4): 2\n"
          ]
        }
      ]
    },
    {
      "cell_type": "code",
      "source": [
        "print(f'размеры датафрейма: df1: {df1.shape}')\n",
        "\n",
        "# добавляем новый df в исходный df\n",
        "\n",
        "for i in range(1):\n",
        "  for j in range(20):\n",
        "    df1 = pd.concat([df1, adf0], ignore_index=True)\n",
        "  df1 = pd.concat([df1, adf1], ignore_index=True)\n",
        "  for j in range(200):\n",
        "    df1 = pd.concat([df1, adf2], ignore_index=True)\n",
        "  for j in range(100):\n",
        "    df1 = pd.concat([df1, adf3], ignore_index=True)\n",
        "    df1 = pd.concat([df1, adf4], ignore_index=True)\n",
        "\n",
        "print('='*50)\n",
        "print(f'размеры датафрейма: df1: {df1.shape}')"
      ],
      "metadata": {
        "colab": {
          "base_uri": "https://localhost:8080/"
        },
        "id": "DOsRMIWC-98t",
        "outputId": "8e865193-1565-4962-a873-2e39f889b9f4"
      },
      "execution_count": 10,
      "outputs": [
        {
          "output_type": "stream",
          "name": "stdout",
          "text": [
            "размеры датафрейма: df1: (1982, 4587)\n",
            "==================================================\n",
            "размеры датафрейма: df1: (2885, 4587)\n"
          ]
        }
      ]
    },
    {
      "cell_type": "code",
      "source": [
        "# Смотрим новые значения целевой колонки\n",
        "lst0.clear()\n",
        "lst1.clear()\n",
        "lst2.clear()\n",
        "lst3.clear()\n",
        "lst4.clear()\n",
        "lst5.clear()\n",
        "\n",
        "col_lst = df1.iloc[:, col_inx].tolist()\n",
        "for i in range(df1.shape[0]):\n",
        "  i_elem = col_lst[i]\n",
        "  if (i_elem == i_elem):\n",
        "    if i_elem:\n",
        "      if not (('машинист бульдозера' == i_elem) or ('Газоспасатель' == i_elem) or (' Газоспасатель' == i_elem)):\n",
        "        if 'ВременноНегоден' == i_elem:\n",
        "          lst0.append(i)\n",
        "        elif 'ГоденСКоррекциейЗрения' == i_elem:\n",
        "          lst1.append(i)\n",
        "        elif 'ГоденБезРаботНаВысотах' == i_elem:\n",
        "          lst2.append(i)\n",
        "        elif 'НуждаетсяВДообследованииИЛечении' == i_elem:\n",
        "          lst3.append(i)\n",
        "        elif 'ОграниченноГоден' == i_elem:\n",
        "          lst4.append(i)\n",
        "        elif 'Годен' == i_elem:\n",
        "          lst5.append(i)\n",
        "        else:\n",
        "          print(f'{i}->{df1.shape[0]}: i_elem: {i_elem} -> НЕИЗВЕСТНЫЙ ИНДЕКС-ТИП')\n",
        "\n",
        "print(f'df1 число строк: {df1.shape[0]}')\n",
        "\n",
        "print(f'0: ВременноНегоден: {len(lst0)}')\n",
        "print(f'1: ГоденСКоррекциейЗрения: {len(lst1)}')\n",
        "print(f'2: ГоденБезРаботНаВысотах: {len(lst2)}')\n",
        "print(f'3: НуждаетсяВДообследованииИЛечении: {len(lst3)}')\n",
        "print(f'4: ОграниченноГоден: {len(lst4)}')\n",
        "print(f'5: Годен: {len(lst5)}')\n",
        "\n",
        "print('проверочная сумма по отдельным значениям, c учетом nan и запрещенных значений:')\n",
        "print(f'  {df1.shape[0]} -> {len(lst0)+len(lst1)+len(lst2)+len(lst3)+len(lst4)+len(lst5)}')\n",
        "print(f'  Годен: {len(lst5)}')\n",
        "print(f'  Негоден, Ограниченно годен: {len(lst0)+len(lst1)+len(lst2)+len(lst3)+len(lst4)}')"
      ],
      "metadata": {
        "colab": {
          "base_uri": "https://localhost:8080/"
        },
        "id": "dFLopL0QCnjt",
        "outputId": "ac063f10-4040-4fa7-eb04-c66c9a090755"
      },
      "execution_count": 11,
      "outputs": [
        {
          "output_type": "stream",
          "name": "stdout",
          "text": [
            "df1 число строк: 2885\n",
            "0: ВременноНегоден: 189\n",
            "1: ГоденСКоррекциейЗрения: 246\n",
            "2: ГоденБезРаботНаВысотах: 201\n",
            "3: НуждаетсяВДообследованииИЛечении: 202\n",
            "4: ОграниченноГоден: 202\n",
            "5: Годен: 1434\n",
            "проверочная сумма по отдельным значениям, c учетом nan и запрещенных значений:\n",
            "  2885 -> 2474\n",
            "  Годен: 1434\n",
            "  Негоден, Ограниченно годен: 1040\n"
          ]
        }
      ]
    },
    {
      "cell_type": "code",
      "source": [
        "del lst0\n",
        "del lst1\n",
        "del lst2\n",
        "del lst3\n",
        "del lst4\n",
        "del lst5\n",
        "\n",
        "del adf0\n",
        "del adf1\n",
        "del adf2\n",
        "del adf3\n",
        "del adf4"
      ],
      "metadata": {
        "id": "DM4nGUDfCADk"
      },
      "execution_count": 12,
      "outputs": []
    },
    {
      "cell_type": "markdown",
      "source": [
        "# Удаление из датафрейма строк с пустыми и ошибочными целевыми значениями"
      ],
      "metadata": {
        "id": "ZJNfW435ddAN"
      }
    },
    {
      "cell_type": "code",
      "source": [
        "# Целевая колонка 'ЗаключениеМК'\n",
        "nan_lst = df1[df1['ЗаключениеМК'].isnull()].index\n",
        "print(f'\"ЗаключениеМК\": число строк с пустыми значениями: {len(nan_lst)}')\n",
        "u_lst = df1['ЗаключениеМК'].unique().tolist()\n",
        "print(f'{len(u_lst)}: {u_lst}')"
      ],
      "metadata": {
        "colab": {
          "base_uri": "https://localhost:8080/"
        },
        "id": "ktKeL0_rN8GU",
        "outputId": "bfae926a-a636-476b-9cd8-33008dc7c779"
      },
      "execution_count": 13,
      "outputs": [
        {
          "output_type": "stream",
          "name": "stdout",
          "text": [
            "\"ЗаключениеМК\": число строк с пустыми значениями: 407\n",
            "10: ['Годен', 'ГоденСКоррекциейЗрения', 'ГоденБезРаботНаВысотах', 'НуждаетсяВДообследованииИЛечении', 'ВременноНегоден', 'ОграниченноГоден', nan, 'машинист бульдозера', 'Газоспасатель', ' Газоспасатель']\n"
          ]
        }
      ]
    },
    {
      "cell_type": "code",
      "source": [
        "# Удаляем строки с пустыми и запрещенными значениями в целевой колонке 'ЗаключениеМК'\n",
        "# nan, 'машинист бульдозера', 'Газоспасатель', ' Газоспасатель'\n",
        "df1 = df1.drop(df1[(df1['ЗаключениеМК'].isnull()) | (df1['ЗаключениеМК'] == 'машинист бульдозера') | (df1['ЗаключениеМК'] == 'Газоспасатель') | (df1['ЗаключениеМК'] == ' Газоспасатель') ].index)\n",
        "print(f'размеры датафрейма после удаления строк: {df1.shape}')\n",
        "u_lst = df1['ЗаключениеМК'].unique().tolist()\n",
        "print(f'{len(u_lst)}: {u_lst}')"
      ],
      "metadata": {
        "colab": {
          "base_uri": "https://localhost:8080/"
        },
        "id": "-bfQxSeAAo-6",
        "outputId": "0144386c-cb85-4bcc-de32-7a2152d9f0c0"
      },
      "execution_count": 14,
      "outputs": [
        {
          "output_type": "stream",
          "name": "stdout",
          "text": [
            "размеры датафрейма после удаления строк: (2474, 4587)\n",
            "6: ['Годен', 'ГоденСКоррекциейЗрения', 'ГоденБезРаботНаВысотах', 'НуждаетсяВДообследованииИЛечении', 'ВременноНегоден', 'ОграниченноГоден']\n"
          ]
        }
      ]
    },
    {
      "cell_type": "markdown",
      "source": [
        "# Создаем второй датафрейм для обучения нейросети"
      ],
      "metadata": {
        "id": "KRYITxYqFAd6"
      }
    },
    {
      "cell_type": "code",
      "source": [
        "# Заполняем колонку ЗаключениеМКК категориальными признаками\n",
        "# по данным колонки ЗаключениеМК\n",
        "# 0 - негоден, 1 - годен с ограничениями, 2 - годен\n",
        "#~~~~~~~~~~~~~~~~~~~~~~~~\n",
        "# Получение категориального кода 'ЗаключениеМК'\n",
        "#~~~~~~~~~~~~~~~~~~~~~~~~\n",
        "def getConclusionCategory(arg):\n",
        "  '''\n",
        "    Получение целевого категориального значения по текстовому описанию\n",
        "    вход:\n",
        "        arg: ['Годен', 'ГоденСКоррекциейЗрения', 'ГоденБезРаботНаВысотах', 'НуждаетсяВДообследованииИЛечении', 'ВременноНегоден', 'ОграниченноГоден']\n",
        "    выход:\n",
        "        retVal: 0 - негоден, 1 - годен с ограничениями, 2 - годен\n",
        "  '''\n",
        "  if ('ГоденСКоррекциейЗрения' == arg) or ('ГоденБезРаботНаВысотах' == arg) or ('ОграниченноГоден' == arg):\n",
        "    retVal = 1\n",
        "  elif ('НуждаетсяВДообследованииИЛечении' == arg) or ('ВременноНегоден' == arg):\n",
        "    retVal = 0\n",
        "  else:\n",
        "    retVal = 2\n",
        "\n",
        "  return retVal"
      ],
      "metadata": {
        "id": "HSWsI0WXq9Au"
      },
      "execution_count": 15,
      "outputs": []
    },
    {
      "cell_type": "code",
      "source": [
        "# Получаем список значений колонки\n",
        "col_inx = df1.columns.get_loc('ЗаключениеМК')\n",
        "col_lst = df1.iloc[:, col_inx].tolist()\n",
        "\n",
        "# создаем numpy массив integer из нулей, число элементов равно числу строк нашего data frame\n",
        "i_arr = np.zeros(df1.shape[0], dtype=int)\n",
        "\n",
        "# Заполняем массив категориальными индексами\n",
        "for i in range(df1.shape[0]):\n",
        "  i_arr[i] = getConclusionCategory(col_lst[i])\n",
        "\n",
        "# Преобразование массива в формат one_hot_encoding (3-класса)\n",
        "i_arr2 = utils.to_categorical(i_arr, 3)\n",
        "ohe_lst2 = i_arr2.astype(int).tolist()\n",
        "# добавляем новую колонку 'ЗаключениеМКК' в DataFrame 'df1' из массива 'ohe_lst2'\n",
        "df1 = df1.assign(ЗаключениеМКК=ohe_lst2)\n",
        "\n",
        "# создаем новый датафрейм, в который будем заносить колонки для обучения нейросети\n",
        "# и копируем колонку 'ЗаключениеМКК' в новый дата фрэйм\n",
        "df2 = df1[['ЗаключениеМКК']].copy()\n",
        "print(f'размеры датафрейма: df1: {df1.shape}, df2: {df2.shape}')\n",
        "df2.head(3)"
      ],
      "metadata": {
        "colab": {
          "base_uri": "https://localhost:8080/",
          "height": 161
        },
        "id": "jSvsNYXwssee",
        "outputId": "08e75597-cb15-4ff7-bec1-5d93314afa06"
      },
      "execution_count": 16,
      "outputs": [
        {
          "output_type": "stream",
          "name": "stdout",
          "text": [
            "размеры датафрейма: df1: (2474, 4588), df2: (2474, 1)\n"
          ]
        },
        {
          "output_type": "execute_result",
          "data": {
            "text/plain": [
              "  ЗаключениеМКК\n",
              "0     [0, 0, 1]\n",
              "1     [0, 0, 1]\n",
              "2     [0, 1, 0]"
            ],
            "text/html": [
              "\n",
              "  <div id=\"df-94916c68-ad77-4364-a243-de5d01d6d3d8\">\n",
              "    <div class=\"colab-df-container\">\n",
              "      <div>\n",
              "<style scoped>\n",
              "    .dataframe tbody tr th:only-of-type {\n",
              "        vertical-align: middle;\n",
              "    }\n",
              "\n",
              "    .dataframe tbody tr th {\n",
              "        vertical-align: top;\n",
              "    }\n",
              "\n",
              "    .dataframe thead th {\n",
              "        text-align: right;\n",
              "    }\n",
              "</style>\n",
              "<table border=\"1\" class=\"dataframe\">\n",
              "  <thead>\n",
              "    <tr style=\"text-align: right;\">\n",
              "      <th></th>\n",
              "      <th>ЗаключениеМКК</th>\n",
              "    </tr>\n",
              "  </thead>\n",
              "  <tbody>\n",
              "    <tr>\n",
              "      <th>0</th>\n",
              "      <td>[0, 0, 1]</td>\n",
              "    </tr>\n",
              "    <tr>\n",
              "      <th>1</th>\n",
              "      <td>[0, 0, 1]</td>\n",
              "    </tr>\n",
              "    <tr>\n",
              "      <th>2</th>\n",
              "      <td>[0, 1, 0]</td>\n",
              "    </tr>\n",
              "  </tbody>\n",
              "</table>\n",
              "</div>\n",
              "      <button class=\"colab-df-convert\" onclick=\"convertToInteractive('df-94916c68-ad77-4364-a243-de5d01d6d3d8')\"\n",
              "              title=\"Convert this dataframe to an interactive table.\"\n",
              "              style=\"display:none;\">\n",
              "        \n",
              "  <svg xmlns=\"http://www.w3.org/2000/svg\" height=\"24px\"viewBox=\"0 0 24 24\"\n",
              "       width=\"24px\">\n",
              "    <path d=\"M0 0h24v24H0V0z\" fill=\"none\"/>\n",
              "    <path d=\"M18.56 5.44l.94 2.06.94-2.06 2.06-.94-2.06-.94-.94-2.06-.94 2.06-2.06.94zm-11 1L8.5 8.5l.94-2.06 2.06-.94-2.06-.94L8.5 2.5l-.94 2.06-2.06.94zm10 10l.94 2.06.94-2.06 2.06-.94-2.06-.94-.94-2.06-.94 2.06-2.06.94z\"/><path d=\"M17.41 7.96l-1.37-1.37c-.4-.4-.92-.59-1.43-.59-.52 0-1.04.2-1.43.59L10.3 9.45l-7.72 7.72c-.78.78-.78 2.05 0 2.83L4 21.41c.39.39.9.59 1.41.59.51 0 1.02-.2 1.41-.59l7.78-7.78 2.81-2.81c.8-.78.8-2.07 0-2.86zM5.41 20L4 18.59l7.72-7.72 1.47 1.35L5.41 20z\"/>\n",
              "  </svg>\n",
              "      </button>\n",
              "      \n",
              "  <style>\n",
              "    .colab-df-container {\n",
              "      display:flex;\n",
              "      flex-wrap:wrap;\n",
              "      gap: 12px;\n",
              "    }\n",
              "\n",
              "    .colab-df-convert {\n",
              "      background-color: #E8F0FE;\n",
              "      border: none;\n",
              "      border-radius: 50%;\n",
              "      cursor: pointer;\n",
              "      display: none;\n",
              "      fill: #1967D2;\n",
              "      height: 32px;\n",
              "      padding: 0 0 0 0;\n",
              "      width: 32px;\n",
              "    }\n",
              "\n",
              "    .colab-df-convert:hover {\n",
              "      background-color: #E2EBFA;\n",
              "      box-shadow: 0px 1px 2px rgba(60, 64, 67, 0.3), 0px 1px 3px 1px rgba(60, 64, 67, 0.15);\n",
              "      fill: #174EA6;\n",
              "    }\n",
              "\n",
              "    [theme=dark] .colab-df-convert {\n",
              "      background-color: #3B4455;\n",
              "      fill: #D2E3FC;\n",
              "    }\n",
              "\n",
              "    [theme=dark] .colab-df-convert:hover {\n",
              "      background-color: #434B5C;\n",
              "      box-shadow: 0px 1px 3px 1px rgba(0, 0, 0, 0.15);\n",
              "      filter: drop-shadow(0px 1px 2px rgba(0, 0, 0, 0.3));\n",
              "      fill: #FFFFFF;\n",
              "    }\n",
              "  </style>\n",
              "\n",
              "      <script>\n",
              "        const buttonEl =\n",
              "          document.querySelector('#df-94916c68-ad77-4364-a243-de5d01d6d3d8 button.colab-df-convert');\n",
              "        buttonEl.style.display =\n",
              "          google.colab.kernel.accessAllowed ? 'block' : 'none';\n",
              "\n",
              "        async function convertToInteractive(key) {\n",
              "          const element = document.querySelector('#df-94916c68-ad77-4364-a243-de5d01d6d3d8');\n",
              "          const dataTable =\n",
              "            await google.colab.kernel.invokeFunction('convertToInteractive',\n",
              "                                                     [key], {});\n",
              "          if (!dataTable) return;\n",
              "\n",
              "          const docLinkHtml = 'Like what you see? Visit the ' +\n",
              "            '<a target=\"_blank\" href=https://colab.research.google.com/notebooks/data_table.ipynb>data table notebook</a>'\n",
              "            + ' to learn more about interactive tables.';\n",
              "          element.innerHTML = '';\n",
              "          dataTable['output_type'] = 'display_data';\n",
              "          await google.colab.output.renderOutput(dataTable, element);\n",
              "          const docLink = document.createElement('div');\n",
              "          docLink.innerHTML = docLinkHtml;\n",
              "          element.appendChild(docLink);\n",
              "        }\n",
              "      </script>\n",
              "    </div>\n",
              "  </div>\n",
              "  "
            ]
          },
          "metadata": {},
          "execution_count": 16
        }
      ]
    },
    {
      "cell_type": "markdown",
      "source": [
        "# Категориальные признаки TODO ГоденНегоден"
      ],
      "metadata": {
        "id": "Auak_Y0Y9jID"
      }
    },
    {
      "cell_type": "markdown",
      "source": [
        "## Возраст"
      ],
      "metadata": {
        "id": "crULPocvIVrf"
      }
    },
    {
      "cell_type": "code",
      "source": [
        "nan_lst = df1[df1['КлиентДатаРождения'].isnull()].index\n",
        "print(f'\"КлиентДатаРождения\": число строк с пустыми значениями: {len(nan_lst)}')"
      ],
      "metadata": {
        "colab": {
          "base_uri": "https://localhost:8080/"
        },
        "id": "bgyRqEz4NxRd",
        "outputId": "fd06772d-fbf1-419a-9fd8-9977057dd26c"
      },
      "execution_count": 17,
      "outputs": [
        {
          "output_type": "stream",
          "name": "stdout",
          "text": [
            "\"КлиентДатаРождения\": число строк с пустыми значениями: 0\n"
          ]
        }
      ]
    },
    {
      "cell_type": "code",
      "source": [
        "#~~~~~~~~~~~~~~~~~~~~~~~~\n",
        "# Получение категориального кода Возраст клиента\n",
        "#~~~~~~~~~~~~~~~~~~~~~~~~\n",
        "# Возраст клиента = ДатаЗавершенияМедосмотра - КлиентДатаРождения\n",
        "#~~~~~~~~~~~~~~~~~~~~~~~~\n",
        "def getAgeCategory(ageN, ageClassCount):\n",
        "  '''\n",
        "    Возраст превращаем в категориальный: до 18лет, далее через 5, всего 11 классов\n",
        "    вход:\n",
        "        ageN: возраст в годах\n",
        "        ageClassCount: число классов\n",
        "    выход:\n",
        "        retVal: индекс категории: 0-17: 0, 18-22: 1, 23-27: 2, ...., 73..: 10\n",
        "  '''\n",
        "  #age2 = int((arg-13)/5)\n",
        "  age2 = (ageN-13)/5\n",
        "  retVal = max(0, min((ageClassCount-1),age2))\n",
        "  return retVal"
      ],
      "metadata": {
        "id": "r6pt8AcD30TX"
      },
      "execution_count": 18,
      "outputs": []
    },
    {
      "cell_type": "code",
      "source": [
        "age_class_count = 11\n",
        "\n",
        "# КлиентДатаРождения\n",
        "col_inx = df1.columns.get_loc('КлиентДатаРождения')\n",
        "col_lst = df1.iloc[:, col_inx].tolist()\n",
        "\n",
        "datetime_lst1 = []\n",
        "for time_stamp in col_lst:\n",
        "  datetime_obj = time_stamp.to_pydatetime()\n",
        "  datetime_lst1.append(datetime_obj)\n",
        "\n",
        "# ДатаЗавершенияМедосмотра\n",
        "nan_lst = df1[df1['ДатаЗавершенияМедосмотра'].isnull()].index\n",
        "print(f'\"ДатаЗавершенияМедосмотра\": число строк с пустыми значениями: {len(nan_lst)}')\n",
        "col_inx = df1.columns.get_loc('ДатаЗавершенияМедосмотра')\n",
        "col_lst = df1.iloc[:, col_inx].tolist()\n",
        "\n",
        "datetime_lst2 = []\n",
        "for time_stamp in col_lst:\n",
        "  datetime_obj = time_stamp.to_pydatetime()\n",
        "  datetime_lst2.append(datetime_obj)\n",
        "\n",
        "# рассчитываю возраст клиента\n",
        "for i in range(df1.shape[0]):\n",
        "  delta_dates21 = datetime_lst2[i].date() - datetime_lst1[i].date()\n",
        "  delta_days21 = delta_dates21.days\n",
        "  delta_years21 = delta_days21 // 365\n",
        "  i_arr[i] = getAgeCategory(delta_years21, age_class_count)\n",
        "\n",
        "# Преобразование массива в формат one_hot_encoding\n",
        "i_arr2 = utils.to_categorical(i_arr, age_class_count)\n",
        "ohe_lst2 = i_arr2.astype(int).tolist()\n",
        "\n",
        "# добавляем новую колонку 'Возраст' в 'df2'\n",
        "df2 = df2.assign(Возраст=ohe_lst2)\n",
        "\n",
        "# удаление переменных, освобождение памяти\n",
        "del datetime_lst1\n",
        "del datetime_lst2\n",
        "\n",
        "print(f'размеры датафрейма: df1: {df1.shape}, df2: {df2.shape}')\n",
        "df2.head(3)"
      ],
      "metadata": {
        "colab": {
          "base_uri": "https://localhost:8080/",
          "height": 400
        },
        "id": "Gxx3AgsFgnjR",
        "outputId": "31561efc-3e10-4ca5-b3e8-2e6ad658f3ea"
      },
      "execution_count": 19,
      "outputs": [
        {
          "output_type": "stream",
          "name": "stdout",
          "text": [
            "\"ДатаЗавершенияМедосмотра\": число строк с пустыми значениями: 0\n",
            "размеры датафрейма: df1: (2474, 4588), df2: (2474, 2)\n"
          ]
        },
        {
          "output_type": "execute_result",
          "data": {
            "text/plain": [
              "  ЗаключениеМКК                            Возраст\n",
              "0     [0, 0, 1]  [0, 0, 0, 0, 0, 0, 1, 0, 0, 0, 0]\n",
              "1     [0, 0, 1]  [0, 0, 0, 0, 1, 0, 0, 0, 0, 0, 0]\n",
              "2     [0, 1, 0]  [0, 0, 0, 0, 1, 0, 0, 0, 0, 0, 0]"
            ],
            "text/html": [
              "\n",
              "  <div id=\"df-0284480e-30b7-4445-8cbe-4dd832427d38\">\n",
              "    <div class=\"colab-df-container\">\n",
              "      <div>\n",
              "<style scoped>\n",
              "    .dataframe tbody tr th:only-of-type {\n",
              "        vertical-align: middle;\n",
              "    }\n",
              "\n",
              "    .dataframe tbody tr th {\n",
              "        vertical-align: top;\n",
              "    }\n",
              "\n",
              "    .dataframe thead th {\n",
              "        text-align: right;\n",
              "    }\n",
              "</style>\n",
              "<table border=\"1\" class=\"dataframe\">\n",
              "  <thead>\n",
              "    <tr style=\"text-align: right;\">\n",
              "      <th></th>\n",
              "      <th>ЗаключениеМКК</th>\n",
              "      <th>Возраст</th>\n",
              "    </tr>\n",
              "  </thead>\n",
              "  <tbody>\n",
              "    <tr>\n",
              "      <th>0</th>\n",
              "      <td>[0, 0, 1]</td>\n",
              "      <td>[0, 0, 0, 0, 0, 0, 1, 0, 0, 0, 0]</td>\n",
              "    </tr>\n",
              "    <tr>\n",
              "      <th>1</th>\n",
              "      <td>[0, 0, 1]</td>\n",
              "      <td>[0, 0, 0, 0, 1, 0, 0, 0, 0, 0, 0]</td>\n",
              "    </tr>\n",
              "    <tr>\n",
              "      <th>2</th>\n",
              "      <td>[0, 1, 0]</td>\n",
              "      <td>[0, 0, 0, 0, 1, 0, 0, 0, 0, 0, 0]</td>\n",
              "    </tr>\n",
              "  </tbody>\n",
              "</table>\n",
              "</div>\n",
              "      <button class=\"colab-df-convert\" onclick=\"convertToInteractive('df-0284480e-30b7-4445-8cbe-4dd832427d38')\"\n",
              "              title=\"Convert this dataframe to an interactive table.\"\n",
              "              style=\"display:none;\">\n",
              "        \n",
              "  <svg xmlns=\"http://www.w3.org/2000/svg\" height=\"24px\"viewBox=\"0 0 24 24\"\n",
              "       width=\"24px\">\n",
              "    <path d=\"M0 0h24v24H0V0z\" fill=\"none\"/>\n",
              "    <path d=\"M18.56 5.44l.94 2.06.94-2.06 2.06-.94-2.06-.94-.94-2.06-.94 2.06-2.06.94zm-11 1L8.5 8.5l.94-2.06 2.06-.94-2.06-.94L8.5 2.5l-.94 2.06-2.06.94zm10 10l.94 2.06.94-2.06 2.06-.94-2.06-.94-.94-2.06-.94 2.06-2.06.94z\"/><path d=\"M17.41 7.96l-1.37-1.37c-.4-.4-.92-.59-1.43-.59-.52 0-1.04.2-1.43.59L10.3 9.45l-7.72 7.72c-.78.78-.78 2.05 0 2.83L4 21.41c.39.39.9.59 1.41.59.51 0 1.02-.2 1.41-.59l7.78-7.78 2.81-2.81c.8-.78.8-2.07 0-2.86zM5.41 20L4 18.59l7.72-7.72 1.47 1.35L5.41 20z\"/>\n",
              "  </svg>\n",
              "      </button>\n",
              "      \n",
              "  <style>\n",
              "    .colab-df-container {\n",
              "      display:flex;\n",
              "      flex-wrap:wrap;\n",
              "      gap: 12px;\n",
              "    }\n",
              "\n",
              "    .colab-df-convert {\n",
              "      background-color: #E8F0FE;\n",
              "      border: none;\n",
              "      border-radius: 50%;\n",
              "      cursor: pointer;\n",
              "      display: none;\n",
              "      fill: #1967D2;\n",
              "      height: 32px;\n",
              "      padding: 0 0 0 0;\n",
              "      width: 32px;\n",
              "    }\n",
              "\n",
              "    .colab-df-convert:hover {\n",
              "      background-color: #E2EBFA;\n",
              "      box-shadow: 0px 1px 2px rgba(60, 64, 67, 0.3), 0px 1px 3px 1px rgba(60, 64, 67, 0.15);\n",
              "      fill: #174EA6;\n",
              "    }\n",
              "\n",
              "    [theme=dark] .colab-df-convert {\n",
              "      background-color: #3B4455;\n",
              "      fill: #D2E3FC;\n",
              "    }\n",
              "\n",
              "    [theme=dark] .colab-df-convert:hover {\n",
              "      background-color: #434B5C;\n",
              "      box-shadow: 0px 1px 3px 1px rgba(0, 0, 0, 0.15);\n",
              "      filter: drop-shadow(0px 1px 2px rgba(0, 0, 0, 0.3));\n",
              "      fill: #FFFFFF;\n",
              "    }\n",
              "  </style>\n",
              "\n",
              "      <script>\n",
              "        const buttonEl =\n",
              "          document.querySelector('#df-0284480e-30b7-4445-8cbe-4dd832427d38 button.colab-df-convert');\n",
              "        buttonEl.style.display =\n",
              "          google.colab.kernel.accessAllowed ? 'block' : 'none';\n",
              "\n",
              "        async function convertToInteractive(key) {\n",
              "          const element = document.querySelector('#df-0284480e-30b7-4445-8cbe-4dd832427d38');\n",
              "          const dataTable =\n",
              "            await google.colab.kernel.invokeFunction('convertToInteractive',\n",
              "                                                     [key], {});\n",
              "          if (!dataTable) return;\n",
              "\n",
              "          const docLinkHtml = 'Like what you see? Visit the ' +\n",
              "            '<a target=\"_blank\" href=https://colab.research.google.com/notebooks/data_table.ipynb>data table notebook</a>'\n",
              "            + ' to learn more about interactive tables.';\n",
              "          element.innerHTML = '';\n",
              "          dataTable['output_type'] = 'display_data';\n",
              "          await google.colab.output.renderOutput(dataTable, element);\n",
              "          const docLink = document.createElement('div');\n",
              "          docLink.innerHTML = docLinkHtml;\n",
              "          element.appendChild(docLink);\n",
              "        }\n",
              "      </script>\n",
              "    </div>\n",
              "  </div>\n",
              "  "
            ]
          },
          "metadata": {},
          "execution_count": 19
        }
      ]
    },
    {
      "cell_type": "markdown",
      "source": [
        "## КлиентПол"
      ],
      "metadata": {
        "id": "CywpIEcFIpCX"
      }
    },
    {
      "cell_type": "code",
      "source": [
        "nan_lst = df1[df1['КлиентПол'].isnull()].index\n",
        "print(f'\"КлиентПол\": число строк с пустыми значениями: {len(nan_lst)}')\n",
        "u_lst = df1['КлиентПол'].unique().tolist()\n",
        "print(f'{len(u_lst)}: {u_lst}')"
      ],
      "metadata": {
        "colab": {
          "base_uri": "https://localhost:8080/"
        },
        "id": "qrcZvFu2OgIb",
        "outputId": "4c33311e-716f-4a8a-9d43-8f57a0e1ba1d"
      },
      "execution_count": 20,
      "outputs": [
        {
          "output_type": "stream",
          "name": "stdout",
          "text": [
            "\"КлиентПол\": число строк с пустыми значениями: 0\n",
            "2: ['Женский', 'Мужской']\n"
          ]
        }
      ]
    },
    {
      "cell_type": "code",
      "source": [
        "#~~~~~~~~~~~~~~~~~~~~~~~~\n",
        "# Получение категориального кода 'КлиентПол'\n",
        "#~~~~~~~~~~~~~~~~~~~~~~~~\n",
        "def getGenderCategory(arg):\n",
        "  '''\n",
        "    Бинарный пол клиента\n",
        "    вход:\n",
        "        arg: ['Женский', 'Мужской']\n",
        "    выход:\n",
        "        retVal: 0 - Женский, 1 - Мужской\n",
        "  '''\n",
        "  if 'Женский' == arg:\n",
        "    retVal = 0\n",
        "  else:\n",
        "    retVal = 1\n",
        "  return retVal"
      ],
      "metadata": {
        "id": "g71RwRLP6BeO"
      },
      "execution_count": 21,
      "outputs": []
    },
    {
      "cell_type": "code",
      "source": [
        "col_inx = df1.columns.get_loc('КлиентПол')\n",
        "col_lst = df1.iloc[:, col_inx].tolist()\n",
        "\n",
        "for i in range(df1.shape[0]):\n",
        "  i_arr[i] = getGenderCategory(col_lst[i])\n",
        "\n",
        "# Преобразование массива в формат one_hot_encoding не провожу, так как бинарный тип\n",
        "# добавляем новую колонку 'КлиентПол' в 'df2'\n",
        "df2 = df2.assign(КлиентПол=i_arr)\n",
        "\n",
        "print(f'размеры датафрейма: df1: {df1.shape}, df2: {df2.shape}')\n",
        "df2.head(3)"
      ],
      "metadata": {
        "colab": {
          "base_uri": "https://localhost:8080/",
          "height": 161
        },
        "id": "l6W-9LZq-Z5b",
        "outputId": "71868ac9-de42-41fa-e585-1ffc1e5328ef"
      },
      "execution_count": 22,
      "outputs": [
        {
          "output_type": "stream",
          "name": "stdout",
          "text": [
            "размеры датафрейма: df1: (2474, 4588), df2: (2474, 3)\n"
          ]
        },
        {
          "output_type": "execute_result",
          "data": {
            "text/plain": [
              "  ЗаключениеМКК                            Возраст  КлиентПол\n",
              "0     [0, 0, 1]  [0, 0, 0, 0, 0, 0, 1, 0, 0, 0, 0]          0\n",
              "1     [0, 0, 1]  [0, 0, 0, 0, 1, 0, 0, 0, 0, 0, 0]          1\n",
              "2     [0, 1, 0]  [0, 0, 0, 0, 1, 0, 0, 0, 0, 0, 0]          1"
            ],
            "text/html": [
              "\n",
              "  <div id=\"df-71503c59-f5a2-4b8b-a9fd-99b85534d435\">\n",
              "    <div class=\"colab-df-container\">\n",
              "      <div>\n",
              "<style scoped>\n",
              "    .dataframe tbody tr th:only-of-type {\n",
              "        vertical-align: middle;\n",
              "    }\n",
              "\n",
              "    .dataframe tbody tr th {\n",
              "        vertical-align: top;\n",
              "    }\n",
              "\n",
              "    .dataframe thead th {\n",
              "        text-align: right;\n",
              "    }\n",
              "</style>\n",
              "<table border=\"1\" class=\"dataframe\">\n",
              "  <thead>\n",
              "    <tr style=\"text-align: right;\">\n",
              "      <th></th>\n",
              "      <th>ЗаключениеМКК</th>\n",
              "      <th>Возраст</th>\n",
              "      <th>КлиентПол</th>\n",
              "    </tr>\n",
              "  </thead>\n",
              "  <tbody>\n",
              "    <tr>\n",
              "      <th>0</th>\n",
              "      <td>[0, 0, 1]</td>\n",
              "      <td>[0, 0, 0, 0, 0, 0, 1, 0, 0, 0, 0]</td>\n",
              "      <td>0</td>\n",
              "    </tr>\n",
              "    <tr>\n",
              "      <th>1</th>\n",
              "      <td>[0, 0, 1]</td>\n",
              "      <td>[0, 0, 0, 0, 1, 0, 0, 0, 0, 0, 0]</td>\n",
              "      <td>1</td>\n",
              "    </tr>\n",
              "    <tr>\n",
              "      <th>2</th>\n",
              "      <td>[0, 1, 0]</td>\n",
              "      <td>[0, 0, 0, 0, 1, 0, 0, 0, 0, 0, 0]</td>\n",
              "      <td>1</td>\n",
              "    </tr>\n",
              "  </tbody>\n",
              "</table>\n",
              "</div>\n",
              "      <button class=\"colab-df-convert\" onclick=\"convertToInteractive('df-71503c59-f5a2-4b8b-a9fd-99b85534d435')\"\n",
              "              title=\"Convert this dataframe to an interactive table.\"\n",
              "              style=\"display:none;\">\n",
              "        \n",
              "  <svg xmlns=\"http://www.w3.org/2000/svg\" height=\"24px\"viewBox=\"0 0 24 24\"\n",
              "       width=\"24px\">\n",
              "    <path d=\"M0 0h24v24H0V0z\" fill=\"none\"/>\n",
              "    <path d=\"M18.56 5.44l.94 2.06.94-2.06 2.06-.94-2.06-.94-.94-2.06-.94 2.06-2.06.94zm-11 1L8.5 8.5l.94-2.06 2.06-.94-2.06-.94L8.5 2.5l-.94 2.06-2.06.94zm10 10l.94 2.06.94-2.06 2.06-.94-2.06-.94-.94-2.06-.94 2.06-2.06.94z\"/><path d=\"M17.41 7.96l-1.37-1.37c-.4-.4-.92-.59-1.43-.59-.52 0-1.04.2-1.43.59L10.3 9.45l-7.72 7.72c-.78.78-.78 2.05 0 2.83L4 21.41c.39.39.9.59 1.41.59.51 0 1.02-.2 1.41-.59l7.78-7.78 2.81-2.81c.8-.78.8-2.07 0-2.86zM5.41 20L4 18.59l7.72-7.72 1.47 1.35L5.41 20z\"/>\n",
              "  </svg>\n",
              "      </button>\n",
              "      \n",
              "  <style>\n",
              "    .colab-df-container {\n",
              "      display:flex;\n",
              "      flex-wrap:wrap;\n",
              "      gap: 12px;\n",
              "    }\n",
              "\n",
              "    .colab-df-convert {\n",
              "      background-color: #E8F0FE;\n",
              "      border: none;\n",
              "      border-radius: 50%;\n",
              "      cursor: pointer;\n",
              "      display: none;\n",
              "      fill: #1967D2;\n",
              "      height: 32px;\n",
              "      padding: 0 0 0 0;\n",
              "      width: 32px;\n",
              "    }\n",
              "\n",
              "    .colab-df-convert:hover {\n",
              "      background-color: #E2EBFA;\n",
              "      box-shadow: 0px 1px 2px rgba(60, 64, 67, 0.3), 0px 1px 3px 1px rgba(60, 64, 67, 0.15);\n",
              "      fill: #174EA6;\n",
              "    }\n",
              "\n",
              "    [theme=dark] .colab-df-convert {\n",
              "      background-color: #3B4455;\n",
              "      fill: #D2E3FC;\n",
              "    }\n",
              "\n",
              "    [theme=dark] .colab-df-convert:hover {\n",
              "      background-color: #434B5C;\n",
              "      box-shadow: 0px 1px 3px 1px rgba(0, 0, 0, 0.15);\n",
              "      filter: drop-shadow(0px 1px 2px rgba(0, 0, 0, 0.3));\n",
              "      fill: #FFFFFF;\n",
              "    }\n",
              "  </style>\n",
              "\n",
              "      <script>\n",
              "        const buttonEl =\n",
              "          document.querySelector('#df-71503c59-f5a2-4b8b-a9fd-99b85534d435 button.colab-df-convert');\n",
              "        buttonEl.style.display =\n",
              "          google.colab.kernel.accessAllowed ? 'block' : 'none';\n",
              "\n",
              "        async function convertToInteractive(key) {\n",
              "          const element = document.querySelector('#df-71503c59-f5a2-4b8b-a9fd-99b85534d435');\n",
              "          const dataTable =\n",
              "            await google.colab.kernel.invokeFunction('convertToInteractive',\n",
              "                                                     [key], {});\n",
              "          if (!dataTable) return;\n",
              "\n",
              "          const docLinkHtml = 'Like what you see? Visit the ' +\n",
              "            '<a target=\"_blank\" href=https://colab.research.google.com/notebooks/data_table.ipynb>data table notebook</a>'\n",
              "            + ' to learn more about interactive tables.';\n",
              "          element.innerHTML = '';\n",
              "          dataTable['output_type'] = 'display_data';\n",
              "          await google.colab.output.renderOutput(dataTable, element);\n",
              "          const docLink = document.createElement('div');\n",
              "          docLink.innerHTML = docLinkHtml;\n",
              "          element.appendChild(docLink);\n",
              "        }\n",
              "      </script>\n",
              "    </div>\n",
              "  </div>\n",
              "  "
            ]
          },
          "metadata": {},
          "execution_count": 22
        }
      ]
    },
    {
      "cell_type": "markdown",
      "source": [
        "## ТипМедосмотра"
      ],
      "metadata": {
        "id": "0fXR_iNyNNrF"
      }
    },
    {
      "cell_type": "code",
      "source": [
        "nan_lst = df1[df1['ТипМедосмотра'].isnull()].index\n",
        "print(f'\"ТипМедосмотра\": число строк с пустыми значениями: {len(nan_lst)}')\n",
        "u_lst = df1['ТипМедосмотра'].unique().tolist()\n",
        "print(f'{len(u_lst)}: {u_lst}')"
      ],
      "metadata": {
        "colab": {
          "base_uri": "https://localhost:8080/"
        },
        "id": "RYOkZYoROjB-",
        "outputId": "36e123a1-113c-48bf-9642-4c9cea9326ac"
      },
      "execution_count": 23,
      "outputs": [
        {
          "output_type": "stream",
          "name": "stdout",
          "text": [
            "\"ТипМедосмотра\": число строк с пустыми значениями: 0\n",
            "2: ['Периодический', 'Предварительный']\n"
          ]
        }
      ]
    },
    {
      "cell_type": "code",
      "source": [
        "#~~~~~~~~~~~~~~~~~~~~~~~~\n",
        "# Получение категориального кода 'ТипМедосмотра'\n",
        "#~~~~~~~~~~~~~~~~~~~~~~~~\n",
        "def getTypeMedExaminationCategory(arg):\n",
        "  '''\n",
        "    Бинарный Тип Медосмотра\n",
        "    вход:\n",
        "        arg: ['Периодический', 'Предварительный']\n",
        "    выход:\n",
        "        retVal: 0 - Периодический, 1 - Предварительный\n",
        "  '''\n",
        "  if 'Периодический' == arg:\n",
        "    retVal = 0\n",
        "  else:\n",
        "    retVal = 1\n",
        "  return retVal"
      ],
      "metadata": {
        "id": "Zv5FQzEoNV2c"
      },
      "execution_count": 24,
      "outputs": []
    },
    {
      "cell_type": "code",
      "source": [
        "col_inx = df1.columns.get_loc('ТипМедосмотра')\n",
        "col_lst = df1.iloc[:, col_inx].tolist()\n",
        "\n",
        "for i in range(df1.shape[0]):\n",
        "  i_arr[i] = getTypeMedExaminationCategory(col_lst[i])\n",
        "\n",
        "# Преобразование массива в формат one_hot_encoding не провожу, так как бинарный тип\n",
        "# добавляем новую колонку 'ТипМедосмотра' в 'df2'\n",
        "df2 = df2.assign(ТипМедосмотра=i_arr)\n",
        "\n",
        "print(f'размеры датафрейма: df1: {df1.shape}, df2: {df2.shape}')\n",
        "df2.head(3)"
      ],
      "metadata": {
        "colab": {
          "base_uri": "https://localhost:8080/",
          "height": 382
        },
        "id": "6VBteXeMGNEr",
        "outputId": "b11984cb-1bc6-48fd-d20f-e15bc310108f"
      },
      "execution_count": 25,
      "outputs": [
        {
          "output_type": "stream",
          "name": "stdout",
          "text": [
            "размеры датафрейма: df1: (2474, 4588), df2: (2474, 4)\n"
          ]
        },
        {
          "output_type": "execute_result",
          "data": {
            "text/plain": [
              "  ЗаключениеМКК                            Возраст  КлиентПол  ТипМедосмотра\n",
              "0     [0, 0, 1]  [0, 0, 0, 0, 0, 0, 1, 0, 0, 0, 0]          0              0\n",
              "1     [0, 0, 1]  [0, 0, 0, 0, 1, 0, 0, 0, 0, 0, 0]          1              0\n",
              "2     [0, 1, 0]  [0, 0, 0, 0, 1, 0, 0, 0, 0, 0, 0]          1              0"
            ],
            "text/html": [
              "\n",
              "  <div id=\"df-ee130074-a8e0-4789-8721-67c2ad2e91aa\">\n",
              "    <div class=\"colab-df-container\">\n",
              "      <div>\n",
              "<style scoped>\n",
              "    .dataframe tbody tr th:only-of-type {\n",
              "        vertical-align: middle;\n",
              "    }\n",
              "\n",
              "    .dataframe tbody tr th {\n",
              "        vertical-align: top;\n",
              "    }\n",
              "\n",
              "    .dataframe thead th {\n",
              "        text-align: right;\n",
              "    }\n",
              "</style>\n",
              "<table border=\"1\" class=\"dataframe\">\n",
              "  <thead>\n",
              "    <tr style=\"text-align: right;\">\n",
              "      <th></th>\n",
              "      <th>ЗаключениеМКК</th>\n",
              "      <th>Возраст</th>\n",
              "      <th>КлиентПол</th>\n",
              "      <th>ТипМедосмотра</th>\n",
              "    </tr>\n",
              "  </thead>\n",
              "  <tbody>\n",
              "    <tr>\n",
              "      <th>0</th>\n",
              "      <td>[0, 0, 1]</td>\n",
              "      <td>[0, 0, 0, 0, 0, 0, 1, 0, 0, 0, 0]</td>\n",
              "      <td>0</td>\n",
              "      <td>0</td>\n",
              "    </tr>\n",
              "    <tr>\n",
              "      <th>1</th>\n",
              "      <td>[0, 0, 1]</td>\n",
              "      <td>[0, 0, 0, 0, 1, 0, 0, 0, 0, 0, 0]</td>\n",
              "      <td>1</td>\n",
              "      <td>0</td>\n",
              "    </tr>\n",
              "    <tr>\n",
              "      <th>2</th>\n",
              "      <td>[0, 1, 0]</td>\n",
              "      <td>[0, 0, 0, 0, 1, 0, 0, 0, 0, 0, 0]</td>\n",
              "      <td>1</td>\n",
              "      <td>0</td>\n",
              "    </tr>\n",
              "  </tbody>\n",
              "</table>\n",
              "</div>\n",
              "      <button class=\"colab-df-convert\" onclick=\"convertToInteractive('df-ee130074-a8e0-4789-8721-67c2ad2e91aa')\"\n",
              "              title=\"Convert this dataframe to an interactive table.\"\n",
              "              style=\"display:none;\">\n",
              "        \n",
              "  <svg xmlns=\"http://www.w3.org/2000/svg\" height=\"24px\"viewBox=\"0 0 24 24\"\n",
              "       width=\"24px\">\n",
              "    <path d=\"M0 0h24v24H0V0z\" fill=\"none\"/>\n",
              "    <path d=\"M18.56 5.44l.94 2.06.94-2.06 2.06-.94-2.06-.94-.94-2.06-.94 2.06-2.06.94zm-11 1L8.5 8.5l.94-2.06 2.06-.94-2.06-.94L8.5 2.5l-.94 2.06-2.06.94zm10 10l.94 2.06.94-2.06 2.06-.94-2.06-.94-.94-2.06-.94 2.06-2.06.94z\"/><path d=\"M17.41 7.96l-1.37-1.37c-.4-.4-.92-.59-1.43-.59-.52 0-1.04.2-1.43.59L10.3 9.45l-7.72 7.72c-.78.78-.78 2.05 0 2.83L4 21.41c.39.39.9.59 1.41.59.51 0 1.02-.2 1.41-.59l7.78-7.78 2.81-2.81c.8-.78.8-2.07 0-2.86zM5.41 20L4 18.59l7.72-7.72 1.47 1.35L5.41 20z\"/>\n",
              "  </svg>\n",
              "      </button>\n",
              "      \n",
              "  <style>\n",
              "    .colab-df-container {\n",
              "      display:flex;\n",
              "      flex-wrap:wrap;\n",
              "      gap: 12px;\n",
              "    }\n",
              "\n",
              "    .colab-df-convert {\n",
              "      background-color: #E8F0FE;\n",
              "      border: none;\n",
              "      border-radius: 50%;\n",
              "      cursor: pointer;\n",
              "      display: none;\n",
              "      fill: #1967D2;\n",
              "      height: 32px;\n",
              "      padding: 0 0 0 0;\n",
              "      width: 32px;\n",
              "    }\n",
              "\n",
              "    .colab-df-convert:hover {\n",
              "      background-color: #E2EBFA;\n",
              "      box-shadow: 0px 1px 2px rgba(60, 64, 67, 0.3), 0px 1px 3px 1px rgba(60, 64, 67, 0.15);\n",
              "      fill: #174EA6;\n",
              "    }\n",
              "\n",
              "    [theme=dark] .colab-df-convert {\n",
              "      background-color: #3B4455;\n",
              "      fill: #D2E3FC;\n",
              "    }\n",
              "\n",
              "    [theme=dark] .colab-df-convert:hover {\n",
              "      background-color: #434B5C;\n",
              "      box-shadow: 0px 1px 3px 1px rgba(0, 0, 0, 0.15);\n",
              "      filter: drop-shadow(0px 1px 2px rgba(0, 0, 0, 0.3));\n",
              "      fill: #FFFFFF;\n",
              "    }\n",
              "  </style>\n",
              "\n",
              "      <script>\n",
              "        const buttonEl =\n",
              "          document.querySelector('#df-ee130074-a8e0-4789-8721-67c2ad2e91aa button.colab-df-convert');\n",
              "        buttonEl.style.display =\n",
              "          google.colab.kernel.accessAllowed ? 'block' : 'none';\n",
              "\n",
              "        async function convertToInteractive(key) {\n",
              "          const element = document.querySelector('#df-ee130074-a8e0-4789-8721-67c2ad2e91aa');\n",
              "          const dataTable =\n",
              "            await google.colab.kernel.invokeFunction('convertToInteractive',\n",
              "                                                     [key], {});\n",
              "          if (!dataTable) return;\n",
              "\n",
              "          const docLinkHtml = 'Like what you see? Visit the ' +\n",
              "            '<a target=\"_blank\" href=https://colab.research.google.com/notebooks/data_table.ipynb>data table notebook</a>'\n",
              "            + ' to learn more about interactive tables.';\n",
              "          element.innerHTML = '';\n",
              "          dataTable['output_type'] = 'display_data';\n",
              "          await google.colab.output.renderOutput(dataTable, element);\n",
              "          const docLink = document.createElement('div');\n",
              "          docLink.innerHTML = docLinkHtml;\n",
              "          element.appendChild(docLink);\n",
              "        }\n",
              "      </script>\n",
              "    </div>\n",
              "  </div>\n",
              "  "
            ]
          },
          "metadata": {},
          "execution_count": 25
        }
      ]
    },
    {
      "cell_type": "markdown",
      "source": [
        "## ПсихОсвидетельствование"
      ],
      "metadata": {
        "id": "KQBOw2E-Qhe7"
      }
    },
    {
      "cell_type": "code",
      "source": [
        "nan_lst = df1[df1['ПсихОсвидетельствование'].isnull()].index\n",
        "print(f'\"ПсихОсвидетельствование\": число строк с пустыми значениями: {len(nan_lst)}')\n",
        "u_lst = df1['ПсихОсвидетельствование'].unique().tolist()\n",
        "print(f'{len(u_lst)}: {u_lst}')"
      ],
      "metadata": {
        "colab": {
          "base_uri": "https://localhost:8080/"
        },
        "id": "m0u2P3fyQmg7",
        "outputId": "d7b1e7cf-0505-4c3d-a1d6-9ed8e7d45173"
      },
      "execution_count": 26,
      "outputs": [
        {
          "output_type": "stream",
          "name": "stdout",
          "text": [
            "\"ПсихОсвидетельствование\": число строк с пустыми значениями: 0\n",
            "2: [False, True]\n"
          ]
        }
      ]
    },
    {
      "cell_type": "code",
      "source": [
        "#~~~~~~~~~~~~~~~~~~~~~~~~\n",
        "# Получение категориального кода 'ПсихОсвидетельствование'\n",
        "#~~~~~~~~~~~~~~~~~~~~~~~~\n",
        "def getPsychicExaminationCategory(arg):\n",
        "  '''\n",
        "    Бинарный Тип ПсихОсвидетельствование\n",
        "    вход:\n",
        "        arg: [False, True]\n",
        "    выход:\n",
        "        retVal: 0 - False, 1 - True\n",
        "  '''\n",
        "  if False == arg:\n",
        "    retVal = 0\n",
        "  else:\n",
        "    retVal = 1\n",
        "  return retVal"
      ],
      "metadata": {
        "id": "mooig0UJRMNy"
      },
      "execution_count": 27,
      "outputs": []
    },
    {
      "cell_type": "code",
      "source": [
        "col_inx = df1.columns.get_loc('ПсихОсвидетельствование')\n",
        "col_lst = df1.iloc[:, col_inx].tolist()\n",
        "\n",
        "for i in range(df1.shape[0]):\n",
        "  i_arr[i] = getPsychicExaminationCategory(col_lst[i])\n",
        "\n",
        "# Преобразование массива в формат one_hot_encoding не провожу, так как бинарный тип\n",
        "# добавляем новую колонку 'ПсихОсвидетельствование' в 'df2'\n",
        "df2 = df2.assign(ПсихОсвидетельствование=i_arr)\n",
        "\n",
        "print(f'размеры датафрейма: df1: {df1.shape}, df2: {df2.shape}')\n",
        "df2.head(3)"
      ],
      "metadata": {
        "colab": {
          "base_uri": "https://localhost:8080/",
          "height": 382
        },
        "id": "qQYD1FJ2P_GN",
        "outputId": "7ac90121-90f1-49c2-d8a8-fdae02d4334c"
      },
      "execution_count": 28,
      "outputs": [
        {
          "output_type": "stream",
          "name": "stdout",
          "text": [
            "размеры датафрейма: df1: (2474, 4588), df2: (2474, 5)\n"
          ]
        },
        {
          "output_type": "execute_result",
          "data": {
            "text/plain": [
              "  ЗаключениеМКК                            Возраст  КлиентПол  ТипМедосмотра  \\\n",
              "0     [0, 0, 1]  [0, 0, 0, 0, 0, 0, 1, 0, 0, 0, 0]          0              0   \n",
              "1     [0, 0, 1]  [0, 0, 0, 0, 1, 0, 0, 0, 0, 0, 0]          1              0   \n",
              "2     [0, 1, 0]  [0, 0, 0, 0, 1, 0, 0, 0, 0, 0, 0]          1              0   \n",
              "\n",
              "   ПсихОсвидетельствование  \n",
              "0                        0  \n",
              "1                        0  \n",
              "2                        0  "
            ],
            "text/html": [
              "\n",
              "  <div id=\"df-50f65166-fe1e-4cae-8197-c6c700862b7b\">\n",
              "    <div class=\"colab-df-container\">\n",
              "      <div>\n",
              "<style scoped>\n",
              "    .dataframe tbody tr th:only-of-type {\n",
              "        vertical-align: middle;\n",
              "    }\n",
              "\n",
              "    .dataframe tbody tr th {\n",
              "        vertical-align: top;\n",
              "    }\n",
              "\n",
              "    .dataframe thead th {\n",
              "        text-align: right;\n",
              "    }\n",
              "</style>\n",
              "<table border=\"1\" class=\"dataframe\">\n",
              "  <thead>\n",
              "    <tr style=\"text-align: right;\">\n",
              "      <th></th>\n",
              "      <th>ЗаключениеМКК</th>\n",
              "      <th>Возраст</th>\n",
              "      <th>КлиентПол</th>\n",
              "      <th>ТипМедосмотра</th>\n",
              "      <th>ПсихОсвидетельствование</th>\n",
              "    </tr>\n",
              "  </thead>\n",
              "  <tbody>\n",
              "    <tr>\n",
              "      <th>0</th>\n",
              "      <td>[0, 0, 1]</td>\n",
              "      <td>[0, 0, 0, 0, 0, 0, 1, 0, 0, 0, 0]</td>\n",
              "      <td>0</td>\n",
              "      <td>0</td>\n",
              "      <td>0</td>\n",
              "    </tr>\n",
              "    <tr>\n",
              "      <th>1</th>\n",
              "      <td>[0, 0, 1]</td>\n",
              "      <td>[0, 0, 0, 0, 1, 0, 0, 0, 0, 0, 0]</td>\n",
              "      <td>1</td>\n",
              "      <td>0</td>\n",
              "      <td>0</td>\n",
              "    </tr>\n",
              "    <tr>\n",
              "      <th>2</th>\n",
              "      <td>[0, 1, 0]</td>\n",
              "      <td>[0, 0, 0, 0, 1, 0, 0, 0, 0, 0, 0]</td>\n",
              "      <td>1</td>\n",
              "      <td>0</td>\n",
              "      <td>0</td>\n",
              "    </tr>\n",
              "  </tbody>\n",
              "</table>\n",
              "</div>\n",
              "      <button class=\"colab-df-convert\" onclick=\"convertToInteractive('df-50f65166-fe1e-4cae-8197-c6c700862b7b')\"\n",
              "              title=\"Convert this dataframe to an interactive table.\"\n",
              "              style=\"display:none;\">\n",
              "        \n",
              "  <svg xmlns=\"http://www.w3.org/2000/svg\" height=\"24px\"viewBox=\"0 0 24 24\"\n",
              "       width=\"24px\">\n",
              "    <path d=\"M0 0h24v24H0V0z\" fill=\"none\"/>\n",
              "    <path d=\"M18.56 5.44l.94 2.06.94-2.06 2.06-.94-2.06-.94-.94-2.06-.94 2.06-2.06.94zm-11 1L8.5 8.5l.94-2.06 2.06-.94-2.06-.94L8.5 2.5l-.94 2.06-2.06.94zm10 10l.94 2.06.94-2.06 2.06-.94-2.06-.94-.94-2.06-.94 2.06-2.06.94z\"/><path d=\"M17.41 7.96l-1.37-1.37c-.4-.4-.92-.59-1.43-.59-.52 0-1.04.2-1.43.59L10.3 9.45l-7.72 7.72c-.78.78-.78 2.05 0 2.83L4 21.41c.39.39.9.59 1.41.59.51 0 1.02-.2 1.41-.59l7.78-7.78 2.81-2.81c.8-.78.8-2.07 0-2.86zM5.41 20L4 18.59l7.72-7.72 1.47 1.35L5.41 20z\"/>\n",
              "  </svg>\n",
              "      </button>\n",
              "      \n",
              "  <style>\n",
              "    .colab-df-container {\n",
              "      display:flex;\n",
              "      flex-wrap:wrap;\n",
              "      gap: 12px;\n",
              "    }\n",
              "\n",
              "    .colab-df-convert {\n",
              "      background-color: #E8F0FE;\n",
              "      border: none;\n",
              "      border-radius: 50%;\n",
              "      cursor: pointer;\n",
              "      display: none;\n",
              "      fill: #1967D2;\n",
              "      height: 32px;\n",
              "      padding: 0 0 0 0;\n",
              "      width: 32px;\n",
              "    }\n",
              "\n",
              "    .colab-df-convert:hover {\n",
              "      background-color: #E2EBFA;\n",
              "      box-shadow: 0px 1px 2px rgba(60, 64, 67, 0.3), 0px 1px 3px 1px rgba(60, 64, 67, 0.15);\n",
              "      fill: #174EA6;\n",
              "    }\n",
              "\n",
              "    [theme=dark] .colab-df-convert {\n",
              "      background-color: #3B4455;\n",
              "      fill: #D2E3FC;\n",
              "    }\n",
              "\n",
              "    [theme=dark] .colab-df-convert:hover {\n",
              "      background-color: #434B5C;\n",
              "      box-shadow: 0px 1px 3px 1px rgba(0, 0, 0, 0.15);\n",
              "      filter: drop-shadow(0px 1px 2px rgba(0, 0, 0, 0.3));\n",
              "      fill: #FFFFFF;\n",
              "    }\n",
              "  </style>\n",
              "\n",
              "      <script>\n",
              "        const buttonEl =\n",
              "          document.querySelector('#df-50f65166-fe1e-4cae-8197-c6c700862b7b button.colab-df-convert');\n",
              "        buttonEl.style.display =\n",
              "          google.colab.kernel.accessAllowed ? 'block' : 'none';\n",
              "\n",
              "        async function convertToInteractive(key) {\n",
              "          const element = document.querySelector('#df-50f65166-fe1e-4cae-8197-c6c700862b7b');\n",
              "          const dataTable =\n",
              "            await google.colab.kernel.invokeFunction('convertToInteractive',\n",
              "                                                     [key], {});\n",
              "          if (!dataTable) return;\n",
              "\n",
              "          const docLinkHtml = 'Like what you see? Visit the ' +\n",
              "            '<a target=\"_blank\" href=https://colab.research.google.com/notebooks/data_table.ipynb>data table notebook</a>'\n",
              "            + ' to learn more about interactive tables.';\n",
              "          element.innerHTML = '';\n",
              "          dataTable['output_type'] = 'display_data';\n",
              "          await google.colab.output.renderOutput(dataTable, element);\n",
              "          const docLink = document.createElement('div');\n",
              "          docLink.innerHTML = docLinkHtml;\n",
              "          element.appendChild(docLink);\n",
              "        }\n",
              "      </script>\n",
              "    </div>\n",
              "  </div>\n",
              "  "
            ]
          },
          "metadata": {},
          "execution_count": 28
        }
      ]
    },
    {
      "cell_type": "markdown",
      "source": [
        "## ДиспансернаяГруппа"
      ],
      "metadata": {
        "id": "9f1tmBhhVmOI"
      }
    },
    {
      "cell_type": "code",
      "source": [
        "nan_lst = df1[df1['ДиспансернаяГруппа'].isnull()].index\n",
        "print(f'\"ДиспансернаяГруппа\": число строк с пустыми значениями: {len(nan_lst)}')\n",
        "u_lst = df1['ДиспансернаяГруппа'].unique().tolist()\n",
        "print(f'{len(u_lst)}: {u_lst}')"
      ],
      "metadata": {
        "colab": {
          "base_uri": "https://localhost:8080/"
        },
        "id": "SSb-eNndVsAp",
        "outputId": "bc5f67d1-6ef1-41c1-d7de-833c956d83b1"
      },
      "execution_count": 29,
      "outputs": [
        {
          "output_type": "stream",
          "name": "stdout",
          "text": [
            "\"ДиспансернаяГруппа\": число строк с пустыми значениями: 149\n",
            "5: ['I', 'IIIа', 'II', 'IIIб', nan]\n"
          ]
        }
      ]
    },
    {
      "cell_type": "code",
      "source": [
        "#~~~~~~~~~~~~~~~~~~~~~~~~\n",
        "# Получение категориального кода 'ДиспансернаяГруппа'\n",
        "#~~~~~~~~~~~~~~~~~~~~~~~~\n",
        "def getDispensaryGroupCategory(arg):\n",
        "  '''\n",
        "    Категориальный Тип ДиспансернаяГруппа\n",
        "    вход:\n",
        "        один из элементов массива уникальных значений: ['I', 'IIIа', 'II', 'IIIб']\n",
        "    выход:\n",
        "        retVal: индекс элемента в массиве уникальных значений:\n",
        "          0 - nan, 1 - 'I', 2 - 'IIIа', 3 - 'II', 4 - 'IIIб'\n",
        "  '''\n",
        "  if 'I' == arg:\n",
        "    retVal = 1\n",
        "  elif 'IIIа' == arg:\n",
        "    retVal = 2\n",
        "  elif 'II' == arg:\n",
        "    retVal = 3\n",
        "  elif 'IIIб' == arg:\n",
        "    retVal = 4\n",
        "  else:\n",
        "    retVal = 0\n",
        "\n",
        "  return retVal"
      ],
      "metadata": {
        "id": "2Dp2jI_tZ2q2"
      },
      "execution_count": 30,
      "outputs": []
    },
    {
      "cell_type": "code",
      "source": [
        "dispensary_class_count = 5\n",
        "\n",
        "col_inx = df1.columns.get_loc('ДиспансернаяГруппа')\n",
        "col_lst = df1.iloc[:, col_inx].tolist()\n",
        "\n",
        "# Заполняем массив категориальными индексами\n",
        "for i in range(df1.shape[0]):\n",
        "  i_arr[i] = getDispensaryGroupCategory(col_lst[i])\n",
        "\n",
        "# Преобразование массива в формат one_hot_encoding (5-классов)\n",
        "i_arr2 = utils.to_categorical(i_arr, dispensary_class_count)\n",
        "ohe_lst2 = i_arr2.astype(int).tolist()\n",
        "\n",
        "# добавляем новую колонку 'ДиспансернаяГруппа' в 'df2'\n",
        "df2 = df2.assign(ДиспансернаяГруппа=ohe_lst2)\n",
        "\n",
        "print(f'размеры датафрейма: df1: {df1.shape}, df2: {df2.shape}')\n",
        "df2.head(3)"
      ],
      "metadata": {
        "colab": {
          "base_uri": "https://localhost:8080/",
          "height": 382
        },
        "id": "q7WLUc_ga7pJ",
        "outputId": "6d231a74-02d9-49be-c724-39a9195d9d84"
      },
      "execution_count": 31,
      "outputs": [
        {
          "output_type": "stream",
          "name": "stdout",
          "text": [
            "размеры датафрейма: df1: (2474, 4588), df2: (2474, 6)\n"
          ]
        },
        {
          "output_type": "execute_result",
          "data": {
            "text/plain": [
              "  ЗаключениеМКК                            Возраст  КлиентПол  ТипМедосмотра  \\\n",
              "0     [0, 0, 1]  [0, 0, 0, 0, 0, 0, 1, 0, 0, 0, 0]          0              0   \n",
              "1     [0, 0, 1]  [0, 0, 0, 0, 1, 0, 0, 0, 0, 0, 0]          1              0   \n",
              "2     [0, 1, 0]  [0, 0, 0, 0, 1, 0, 0, 0, 0, 0, 0]          1              0   \n",
              "\n",
              "   ПсихОсвидетельствование ДиспансернаяГруппа  \n",
              "0                        0    [0, 1, 0, 0, 0]  \n",
              "1                        0    [0, 0, 1, 0, 0]  \n",
              "2                        0    [0, 0, 0, 1, 0]  "
            ],
            "text/html": [
              "\n",
              "  <div id=\"df-19f7574a-42e1-452f-9b6c-252f657a05d1\">\n",
              "    <div class=\"colab-df-container\">\n",
              "      <div>\n",
              "<style scoped>\n",
              "    .dataframe tbody tr th:only-of-type {\n",
              "        vertical-align: middle;\n",
              "    }\n",
              "\n",
              "    .dataframe tbody tr th {\n",
              "        vertical-align: top;\n",
              "    }\n",
              "\n",
              "    .dataframe thead th {\n",
              "        text-align: right;\n",
              "    }\n",
              "</style>\n",
              "<table border=\"1\" class=\"dataframe\">\n",
              "  <thead>\n",
              "    <tr style=\"text-align: right;\">\n",
              "      <th></th>\n",
              "      <th>ЗаключениеМКК</th>\n",
              "      <th>Возраст</th>\n",
              "      <th>КлиентПол</th>\n",
              "      <th>ТипМедосмотра</th>\n",
              "      <th>ПсихОсвидетельствование</th>\n",
              "      <th>ДиспансернаяГруппа</th>\n",
              "    </tr>\n",
              "  </thead>\n",
              "  <tbody>\n",
              "    <tr>\n",
              "      <th>0</th>\n",
              "      <td>[0, 0, 1]</td>\n",
              "      <td>[0, 0, 0, 0, 0, 0, 1, 0, 0, 0, 0]</td>\n",
              "      <td>0</td>\n",
              "      <td>0</td>\n",
              "      <td>0</td>\n",
              "      <td>[0, 1, 0, 0, 0]</td>\n",
              "    </tr>\n",
              "    <tr>\n",
              "      <th>1</th>\n",
              "      <td>[0, 0, 1]</td>\n",
              "      <td>[0, 0, 0, 0, 1, 0, 0, 0, 0, 0, 0]</td>\n",
              "      <td>1</td>\n",
              "      <td>0</td>\n",
              "      <td>0</td>\n",
              "      <td>[0, 0, 1, 0, 0]</td>\n",
              "    </tr>\n",
              "    <tr>\n",
              "      <th>2</th>\n",
              "      <td>[0, 1, 0]</td>\n",
              "      <td>[0, 0, 0, 0, 1, 0, 0, 0, 0, 0, 0]</td>\n",
              "      <td>1</td>\n",
              "      <td>0</td>\n",
              "      <td>0</td>\n",
              "      <td>[0, 0, 0, 1, 0]</td>\n",
              "    </tr>\n",
              "  </tbody>\n",
              "</table>\n",
              "</div>\n",
              "      <button class=\"colab-df-convert\" onclick=\"convertToInteractive('df-19f7574a-42e1-452f-9b6c-252f657a05d1')\"\n",
              "              title=\"Convert this dataframe to an interactive table.\"\n",
              "              style=\"display:none;\">\n",
              "        \n",
              "  <svg xmlns=\"http://www.w3.org/2000/svg\" height=\"24px\"viewBox=\"0 0 24 24\"\n",
              "       width=\"24px\">\n",
              "    <path d=\"M0 0h24v24H0V0z\" fill=\"none\"/>\n",
              "    <path d=\"M18.56 5.44l.94 2.06.94-2.06 2.06-.94-2.06-.94-.94-2.06-.94 2.06-2.06.94zm-11 1L8.5 8.5l.94-2.06 2.06-.94-2.06-.94L8.5 2.5l-.94 2.06-2.06.94zm10 10l.94 2.06.94-2.06 2.06-.94-2.06-.94-.94-2.06-.94 2.06-2.06.94z\"/><path d=\"M17.41 7.96l-1.37-1.37c-.4-.4-.92-.59-1.43-.59-.52 0-1.04.2-1.43.59L10.3 9.45l-7.72 7.72c-.78.78-.78 2.05 0 2.83L4 21.41c.39.39.9.59 1.41.59.51 0 1.02-.2 1.41-.59l7.78-7.78 2.81-2.81c.8-.78.8-2.07 0-2.86zM5.41 20L4 18.59l7.72-7.72 1.47 1.35L5.41 20z\"/>\n",
              "  </svg>\n",
              "      </button>\n",
              "      \n",
              "  <style>\n",
              "    .colab-df-container {\n",
              "      display:flex;\n",
              "      flex-wrap:wrap;\n",
              "      gap: 12px;\n",
              "    }\n",
              "\n",
              "    .colab-df-convert {\n",
              "      background-color: #E8F0FE;\n",
              "      border: none;\n",
              "      border-radius: 50%;\n",
              "      cursor: pointer;\n",
              "      display: none;\n",
              "      fill: #1967D2;\n",
              "      height: 32px;\n",
              "      padding: 0 0 0 0;\n",
              "      width: 32px;\n",
              "    }\n",
              "\n",
              "    .colab-df-convert:hover {\n",
              "      background-color: #E2EBFA;\n",
              "      box-shadow: 0px 1px 2px rgba(60, 64, 67, 0.3), 0px 1px 3px 1px rgba(60, 64, 67, 0.15);\n",
              "      fill: #174EA6;\n",
              "    }\n",
              "\n",
              "    [theme=dark] .colab-df-convert {\n",
              "      background-color: #3B4455;\n",
              "      fill: #D2E3FC;\n",
              "    }\n",
              "\n",
              "    [theme=dark] .colab-df-convert:hover {\n",
              "      background-color: #434B5C;\n",
              "      box-shadow: 0px 1px 3px 1px rgba(0, 0, 0, 0.15);\n",
              "      filter: drop-shadow(0px 1px 2px rgba(0, 0, 0, 0.3));\n",
              "      fill: #FFFFFF;\n",
              "    }\n",
              "  </style>\n",
              "\n",
              "      <script>\n",
              "        const buttonEl =\n",
              "          document.querySelector('#df-19f7574a-42e1-452f-9b6c-252f657a05d1 button.colab-df-convert');\n",
              "        buttonEl.style.display =\n",
              "          google.colab.kernel.accessAllowed ? 'block' : 'none';\n",
              "\n",
              "        async function convertToInteractive(key) {\n",
              "          const element = document.querySelector('#df-19f7574a-42e1-452f-9b6c-252f657a05d1');\n",
              "          const dataTable =\n",
              "            await google.colab.kernel.invokeFunction('convertToInteractive',\n",
              "                                                     [key], {});\n",
              "          if (!dataTable) return;\n",
              "\n",
              "          const docLinkHtml = 'Like what you see? Visit the ' +\n",
              "            '<a target=\"_blank\" href=https://colab.research.google.com/notebooks/data_table.ipynb>data table notebook</a>'\n",
              "            + ' to learn more about interactive tables.';\n",
              "          element.innerHTML = '';\n",
              "          dataTable['output_type'] = 'display_data';\n",
              "          await google.colab.output.renderOutput(dataTable, element);\n",
              "          const docLink = document.createElement('div');\n",
              "          docLink.innerHTML = docLinkHtml;\n",
              "          element.appendChild(docLink);\n",
              "        }\n",
              "      </script>\n",
              "    </div>\n",
              "  </div>\n",
              "  "
            ]
          },
          "metadata": {},
          "execution_count": 31
        }
      ]
    },
    {
      "cell_type": "code",
      "source": [
        "df2.tail(2)"
      ],
      "metadata": {
        "colab": {
          "base_uri": "https://localhost:8080/",
          "height": 280
        },
        "id": "6TyFww6RzJ4s",
        "outputId": "bbdd343f-9adf-4b82-b50a-d14718628e3f"
      },
      "execution_count": 32,
      "outputs": [
        {
          "output_type": "execute_result",
          "data": {
            "text/plain": [
              "     ЗаключениеМКК                            Возраст  КлиентПол  \\\n",
              "2883     [0, 1, 0]  [0, 0, 0, 1, 0, 0, 0, 0, 0, 0, 0]          1   \n",
              "2884     [0, 1, 0]  [0, 0, 0, 0, 0, 1, 0, 0, 0, 0, 0]          1   \n",
              "\n",
              "      ТипМедосмотра  ПсихОсвидетельствование ДиспансернаяГруппа  \n",
              "2883              0                        0    [0, 0, 0, 1, 0]  \n",
              "2884              0                        0    [0, 1, 0, 0, 0]  "
            ],
            "text/html": [
              "\n",
              "  <div id=\"df-71a8ad4e-2397-4fc2-a501-c101ac395b02\">\n",
              "    <div class=\"colab-df-container\">\n",
              "      <div>\n",
              "<style scoped>\n",
              "    .dataframe tbody tr th:only-of-type {\n",
              "        vertical-align: middle;\n",
              "    }\n",
              "\n",
              "    .dataframe tbody tr th {\n",
              "        vertical-align: top;\n",
              "    }\n",
              "\n",
              "    .dataframe thead th {\n",
              "        text-align: right;\n",
              "    }\n",
              "</style>\n",
              "<table border=\"1\" class=\"dataframe\">\n",
              "  <thead>\n",
              "    <tr style=\"text-align: right;\">\n",
              "      <th></th>\n",
              "      <th>ЗаключениеМКК</th>\n",
              "      <th>Возраст</th>\n",
              "      <th>КлиентПол</th>\n",
              "      <th>ТипМедосмотра</th>\n",
              "      <th>ПсихОсвидетельствование</th>\n",
              "      <th>ДиспансернаяГруппа</th>\n",
              "    </tr>\n",
              "  </thead>\n",
              "  <tbody>\n",
              "    <tr>\n",
              "      <th>2883</th>\n",
              "      <td>[0, 1, 0]</td>\n",
              "      <td>[0, 0, 0, 1, 0, 0, 0, 0, 0, 0, 0]</td>\n",
              "      <td>1</td>\n",
              "      <td>0</td>\n",
              "      <td>0</td>\n",
              "      <td>[0, 0, 0, 1, 0]</td>\n",
              "    </tr>\n",
              "    <tr>\n",
              "      <th>2884</th>\n",
              "      <td>[0, 1, 0]</td>\n",
              "      <td>[0, 0, 0, 0, 0, 1, 0, 0, 0, 0, 0]</td>\n",
              "      <td>1</td>\n",
              "      <td>0</td>\n",
              "      <td>0</td>\n",
              "      <td>[0, 1, 0, 0, 0]</td>\n",
              "    </tr>\n",
              "  </tbody>\n",
              "</table>\n",
              "</div>\n",
              "      <button class=\"colab-df-convert\" onclick=\"convertToInteractive('df-71a8ad4e-2397-4fc2-a501-c101ac395b02')\"\n",
              "              title=\"Convert this dataframe to an interactive table.\"\n",
              "              style=\"display:none;\">\n",
              "        \n",
              "  <svg xmlns=\"http://www.w3.org/2000/svg\" height=\"24px\"viewBox=\"0 0 24 24\"\n",
              "       width=\"24px\">\n",
              "    <path d=\"M0 0h24v24H0V0z\" fill=\"none\"/>\n",
              "    <path d=\"M18.56 5.44l.94 2.06.94-2.06 2.06-.94-2.06-.94-.94-2.06-.94 2.06-2.06.94zm-11 1L8.5 8.5l.94-2.06 2.06-.94-2.06-.94L8.5 2.5l-.94 2.06-2.06.94zm10 10l.94 2.06.94-2.06 2.06-.94-2.06-.94-.94-2.06-.94 2.06-2.06.94z\"/><path d=\"M17.41 7.96l-1.37-1.37c-.4-.4-.92-.59-1.43-.59-.52 0-1.04.2-1.43.59L10.3 9.45l-7.72 7.72c-.78.78-.78 2.05 0 2.83L4 21.41c.39.39.9.59 1.41.59.51 0 1.02-.2 1.41-.59l7.78-7.78 2.81-2.81c.8-.78.8-2.07 0-2.86zM5.41 20L4 18.59l7.72-7.72 1.47 1.35L5.41 20z\"/>\n",
              "  </svg>\n",
              "      </button>\n",
              "      \n",
              "  <style>\n",
              "    .colab-df-container {\n",
              "      display:flex;\n",
              "      flex-wrap:wrap;\n",
              "      gap: 12px;\n",
              "    }\n",
              "\n",
              "    .colab-df-convert {\n",
              "      background-color: #E8F0FE;\n",
              "      border: none;\n",
              "      border-radius: 50%;\n",
              "      cursor: pointer;\n",
              "      display: none;\n",
              "      fill: #1967D2;\n",
              "      height: 32px;\n",
              "      padding: 0 0 0 0;\n",
              "      width: 32px;\n",
              "    }\n",
              "\n",
              "    .colab-df-convert:hover {\n",
              "      background-color: #E2EBFA;\n",
              "      box-shadow: 0px 1px 2px rgba(60, 64, 67, 0.3), 0px 1px 3px 1px rgba(60, 64, 67, 0.15);\n",
              "      fill: #174EA6;\n",
              "    }\n",
              "\n",
              "    [theme=dark] .colab-df-convert {\n",
              "      background-color: #3B4455;\n",
              "      fill: #D2E3FC;\n",
              "    }\n",
              "\n",
              "    [theme=dark] .colab-df-convert:hover {\n",
              "      background-color: #434B5C;\n",
              "      box-shadow: 0px 1px 3px 1px rgba(0, 0, 0, 0.15);\n",
              "      filter: drop-shadow(0px 1px 2px rgba(0, 0, 0, 0.3));\n",
              "      fill: #FFFFFF;\n",
              "    }\n",
              "  </style>\n",
              "\n",
              "      <script>\n",
              "        const buttonEl =\n",
              "          document.querySelector('#df-71a8ad4e-2397-4fc2-a501-c101ac395b02 button.colab-df-convert');\n",
              "        buttonEl.style.display =\n",
              "          google.colab.kernel.accessAllowed ? 'block' : 'none';\n",
              "\n",
              "        async function convertToInteractive(key) {\n",
              "          const element = document.querySelector('#df-71a8ad4e-2397-4fc2-a501-c101ac395b02');\n",
              "          const dataTable =\n",
              "            await google.colab.kernel.invokeFunction('convertToInteractive',\n",
              "                                                     [key], {});\n",
              "          if (!dataTable) return;\n",
              "\n",
              "          const docLinkHtml = 'Like what you see? Visit the ' +\n",
              "            '<a target=\"_blank\" href=https://colab.research.google.com/notebooks/data_table.ipynb>data table notebook</a>'\n",
              "            + ' to learn more about interactive tables.';\n",
              "          element.innerHTML = '';\n",
              "          dataTable['output_type'] = 'display_data';\n",
              "          await google.colab.output.renderOutput(dataTable, element);\n",
              "          const docLink = document.createElement('div');\n",
              "          docLink.innerHTML = docLinkHtml;\n",
              "          element.appendChild(docLink);\n",
              "        }\n",
              "      </script>\n",
              "    </div>\n",
              "  </div>\n",
              "  "
            ]
          },
          "metadata": {},
          "execution_count": 32
        }
      ]
    },
    {
      "cell_type": "markdown",
      "source": [
        "## ВредныеФакторы"
      ],
      "metadata": {
        "id": "9ih0G8rLdTDd"
      }
    },
    {
      "cell_type": "code",
      "source": [
        "an_lst = df1[df1['ВредныеФакторы'].isnull()].index\n",
        "print(f'\"ВредныеФакторы\": число строк с пустыми значениями: {len(nan_lst)}')"
      ],
      "metadata": {
        "colab": {
          "base_uri": "https://localhost:8080/"
        },
        "id": "_QQ6D3l1dY08",
        "outputId": "2d8a9ac3-d717-49f8-c22e-4ac03fc758c9"
      },
      "execution_count": 33,
      "outputs": [
        {
          "output_type": "stream",
          "name": "stdout",
          "text": [
            "\"ВредныеФакторы\": число строк с пустыми значениями: 149\n"
          ]
        }
      ]
    },
    {
      "cell_type": "code",
      "source": [
        "#~~~~~~~~~~~~~~~~~~~~~~~~\n",
        "# Расщепление строки по запятым\n",
        "#~~~~~~~~~~~~~~~~~~~~~~~~\n",
        "def comma_string_split(arg):\n",
        "  '''\n",
        "    Расщепление строки по запятым, удаление пробелов перед словом и после \n",
        "    вход:\n",
        "        arg: строка с запятыми или без запятых\n",
        "    выход:\n",
        "        retVal: список строк\n",
        "  '''\n",
        "  # результирующий список\n",
        "  retVal = list()\n",
        "  # проверяем на nan\n",
        "  if (arg == arg):\n",
        "    # проверяем, что строка не пустая\n",
        "    if arg:\n",
        "      # приводим к нижнему регистру, удаляем пробелы в начале и конце слова\n",
        "      #str1 = arg.lower().strip()\n",
        "      str1 = arg.strip()\n",
        "      # разбиваем строку по запятым и возвращаем список\n",
        "      str_lst1 = str1.split(',')\n",
        "      for str_item1 in str_lst1:\n",
        "        str_item2 = str_item1.strip()\n",
        "        # проверяем, что строка не пустая\n",
        "        if str_item2:\n",
        "          retVal.append(str_item2)\n",
        "\n",
        "  return retVal"
      ],
      "metadata": {
        "id": "054PF19td1Ad"
      },
      "execution_count": 34,
      "outputs": []
    },
    {
      "cell_type": "code",
      "source": [
        "# Формируем список уникальных значений вредных факторов\n",
        "# Harmful Factors\n",
        "u_hf_lst = list()\n",
        "\n",
        "col_inx = df1.columns.get_loc('ВредныеФакторы')\n",
        "col_lst = df1.iloc[:, col_inx].tolist()\n",
        "#print(f'df1 число строк: {df1.shape[0]}, len(col_lst): {len(col_lst)}, {col_lst}')\n",
        "\n",
        "for i in range(df1.shape[0]):\n",
        "  i_elem = col_lst[i]\n",
        "  #print(f'{i}->{df1.shape[0]}: i_elem: {i_elem}')\n",
        "  # проверяем на nan\n",
        "  if (i_elem == i_elem):\n",
        "    # проверяем, что строка не пустая\n",
        "    if i_elem:\n",
        "      #print(f'{i}=>{df1.shape[0]}: i_elem: {i_elem}')\n",
        "      #расщепляем по запятым\n",
        "      elem_lst = comma_string_split(i_elem)\n",
        "      #print(f'  {len(elem_lst)}: {elem_lst}')\n",
        "      if len(elem_lst) > 0:\n",
        "        for elem1_lst in elem_lst:\n",
        "          #print(f'    elem1_lst: {elem1_lst}')\n",
        "          if len(u_hf_lst) > 0:\n",
        "            # проверяем, что этого элемента нет в списке\n",
        "            flag_lst = elem1_lst in u_hf_lst\n",
        "            if not flag_lst:\n",
        "              u_hf_lst.append(elem1_lst)\n",
        "          else:\n",
        "            u_hf_lst.append(elem1_lst)\n",
        "\n",
        "#print(f'{len(u_hf_lst)}: u_hf_lst: {u_hf_lst}')"
      ],
      "metadata": {
        "id": "WRU0gO80kryI"
      },
      "execution_count": 35,
      "outputs": []
    },
    {
      "cell_type": "code",
      "source": [
        "# создаем словарь ВредныеФакторы: ключи - названия вредных факторов, значения - число повторений\n",
        "u_hf_dict = {}\n",
        "for i_elem in u_hf_lst:\n",
        "  u_hf_dict[i_elem] = 0\n",
        "\n",
        "# print(f'{len(u_hf_dict)}: u_hf_lst: {u_hf_dict}')\n",
        "\n",
        "# пробегаемся по всем строкам колонки и заполняем словарь\n",
        "for i in range(df1.shape[0]):\n",
        "  i_elem = col_lst[i]\n",
        "  # проверяем на nan\n",
        "  if (i_elem == i_elem):\n",
        "    # проверяем, что строка не пустая\n",
        "    if i_elem:\n",
        "      #расщепляем по запятым\n",
        "      elem_lst = comma_string_split(i_elem)\n",
        "      if len(elem_lst) > 0:\n",
        "        for elem1_lst in elem_lst:\n",
        "          u_hf_dict[elem1_lst] += 1\n",
        "\n",
        "# print(f'{len(u_hf_dict)}: u_hf_lst: {u_hf_dict}')\n",
        "\n",
        "# сортируем словарь по убыванию\n",
        "u_hf_sort_dict = dict(sorted(u_hf_dict.items(), key=lambda x: x[1], reverse=True))\n",
        "\n",
        "# print(f'{len(u_hf_sort_dict)}: u_hf_sort_dict: {u_hf_sort_dict}')"
      ],
      "metadata": {
        "id": "0w_1l0STz3cR"
      },
      "execution_count": 36,
      "outputs": []
    },
    {
      "cell_type": "code",
      "source": [
        "# Отобразим на столбчатую диаграмму - чачтоту использования наших признаков\n",
        "plt.figure(figsize=(20, 5))\n",
        "plt.bar(u_hf_sort_dict.keys(), u_hf_sort_dict.values(), color='blue')\n",
        "plt.xticks(rotation=90)\n",
        "plt.xlabel('Вредные факторы')\n",
        "plt.ylabel('Общее число повторений')\n",
        "plt.gca().set_facecolor('white')\n",
        "plt.show()"
      ],
      "metadata": {
        "colab": {
          "base_uri": "https://localhost:8080/",
          "height": 508
        },
        "id": "NJpUF7Cf51mm",
        "outputId": "017689cd-aa3e-4af1-efde-11e277335a8c"
      },
      "execution_count": 37,
      "outputs": [
        {
          "output_type": "display_data",
          "data": {
            "text/plain": [
              "<Figure size 2000x500 with 1 Axes>"
            ],
            "image/png": "[encoded data removed]"
          },
          "metadata": {}
        }
      ]
    },
    {
      "cell_type": "code",
      "source": [
        "# Формируем список уникальных значений вредных факторов \n",
        "# из наиболее часто встречающихся -> оставим первые 15\n",
        "u_hf_lst = list(u_hf_sort_dict.keys())[:15]\n",
        "del u_hf_dict\n",
        "del u_hf_sort_dict\n",
        "\n",
        "print(f'{len(u_hf_lst)}: u_hf_lst: {u_hf_lst}')"
      ],
      "metadata": {
        "colab": {
          "base_uri": "https://localhost:8080/"
        },
        "id": "59s0eV4k7-_t",
        "outputId": "6a131e85-aec7-45d1-9bef-d3698182d062"
      },
      "execution_count": 38,
      "outputs": [
        {
          "output_type": "stream",
          "name": "stdout",
          "text": [
            "15: u_hf_lst: ['6.1', '4.4', '9', '5.1', '18.1', '15', '4.2.5', '11.1', '6.2', '18.2', '1.50', '4.3.2', '23', '11.4', '4.1']\n"
          ]
        }
      ]
    },
    {
      "cell_type": "code",
      "source": [
        "#~~~~~~~~~~~~~~~~~~~~~~~~\n",
        "#multi_hot_encoding\n",
        "hf_mhe_lst = list()\n",
        "\n",
        "# число классов\n",
        "harmful_factors_class_count = len(u_hf_lst) + 1\n",
        "# то есть по умолчанию выбираем индекс вредного фактора, которого нет в списке \n",
        "# наших выбранных и ограниченных уникальных вредных факторов\n",
        "nan_inx = len(u_hf_lst)\n",
        "\n",
        "# print(f'{len(col_lst)}: col_lst: {col_lst}')\n",
        "# print(f'{len(u_hf_lst)}: u_hf_lst: {u_hf_lst}')\n",
        "# print(f'harmful_factors_class_count: {harmful_factors_class_count}')\n",
        "# print(f'nan_inx: {nan_inx}')\n",
        "\n",
        "# пробегаемся по всем строкам колонки\n",
        "for i in range(df1.shape[0]):\n",
        "  i_elem = col_lst[i]\n",
        "  # print(f'{i}->{df1.shape[0]}: i_elem: {i_elem}')\n",
        "  # устанавливаем все признаки в нули\n",
        "  i_mhe_lst = [0] * harmful_factors_class_count\n",
        "  # проверяем на nan\n",
        "  if (i_elem == i_elem):\n",
        "    # проверяем, что строка не пустая\n",
        "    if i_elem:\n",
        "      #расщепляем по запятым\n",
        "      elem_lst = comma_string_split(i_elem)\n",
        "      if len(elem_lst) > 0:\n",
        "        for elem1_lst in elem_lst:\n",
        "          # проверяем, есть ли этот элемент в списке\n",
        "          if elem1_lst in u_hf_lst:\n",
        "            inx = u_hf_lst.index(elem1_lst)\n",
        "            i_mhe_lst[inx] = 1\n",
        "          else:\n",
        "            i_mhe_lst[nan_inx] = 1\n",
        "      else:\n",
        "        i_mhe_lst[nan_inx] = 1\n",
        "    else:\n",
        "      i_mhe_lst[nan_inx] = 1\n",
        "  else:\n",
        "    i_mhe_lst[nan_inx] = 1\n",
        "\n",
        "  # print(f'  {len(i_mhe_lst)}: {i_mhe_lst}')\n",
        "  hf_mhe_lst.append(i_mhe_lst)\n",
        "\n",
        "# print(f'{len(hf_mhe_lst)}: hf_mhe_lst: {hf_mhe_lst}')\n",
        "\n",
        "# добавляем новую колонку 'ВредныеФакторы' в 'df2'\n",
        "df2 = df2.assign(ВредныеФакторы=hf_mhe_lst)\n",
        "\n",
        "del hf_mhe_lst\n",
        "\n",
        "print(f'размеры датафрейма: df1: {df1.shape}, df2: {df2.shape}')\n",
        "df2.head(3)"
      ],
      "metadata": {
        "colab": {
          "base_uri": "https://localhost:8080/",
          "height": 161
        },
        "id": "AEc7xqGjWSIs",
        "outputId": "cc2042af-27e0-4c7b-8935-8d86d25cab91"
      },
      "execution_count": 39,
      "outputs": [
        {
          "output_type": "stream",
          "name": "stdout",
          "text": [
            "размеры датафрейма: df1: (2474, 4588), df2: (2474, 7)\n"
          ]
        },
        {
          "output_type": "execute_result",
          "data": {
            "text/plain": [
              "  ЗаключениеМКК                            Возраст  КлиентПол  ТипМедосмотра  \\\n",
              "0     [0, 0, 1]  [0, 0, 0, 0, 0, 0, 1, 0, 0, 0, 0]          0              0   \n",
              "1     [0, 0, 1]  [0, 0, 0, 0, 1, 0, 0, 0, 0, 0, 0]          1              0   \n",
              "2     [0, 1, 0]  [0, 0, 0, 0, 1, 0, 0, 0, 0, 0, 0]          1              0   \n",
              "\n",
              "   ПсихОсвидетельствование ДиспансернаяГруппа  \\\n",
              "0                        0    [0, 1, 0, 0, 0]   \n",
              "1                        0    [0, 0, 1, 0, 0]   \n",
              "2                        0    [0, 0, 0, 1, 0]   \n",
              "\n",
              "                                     ВредныеФакторы  \n",
              "0  [0, 0, 0, 0, 0, 0, 0, 0, 0, 0, 0, 0, 0, 1, 0, 0]  \n",
              "1  [0, 0, 0, 0, 0, 0, 1, 0, 0, 0, 0, 0, 0, 0, 0, 0]  \n",
              "2  [0, 0, 0, 0, 0, 0, 1, 0, 0, 0, 0, 0, 0, 0, 0, 0]  "
            ],
            "text/html": [
              "\n",
              "  <div id=\"df-f6b83a90-c0c1-4fa4-810d-14fe764bfabe\">\n",
              "    <div class=\"colab-df-container\">\n",
              "      <div>\n",
              "<style scoped>\n",
              "    .dataframe tbody tr th:only-of-type {\n",
              "        vertical-align: middle;\n",
              "    }\n",
              "\n",
              "    .dataframe tbody tr th {\n",
              "        vertical-align: top;\n",
              "    }\n",
              "\n",
              "    .dataframe thead th {\n",
              "        text-align: right;\n",
              "    }\n",
              "</style>\n",
              "<table border=\"1\" class=\"dataframe\">\n",
              "  <thead>\n",
              "    <tr style=\"text-align: right;\">\n",
              "      <th></th>\n",
              "      <th>ЗаключениеМКК</th>\n",
              "      <th>Возраст</th>\n",
              "      <th>КлиентПол</th>\n",
              "      <th>ТипМедосмотра</th>\n",
              "      <th>ПсихОсвидетельствование</th>\n",
              "      <th>ДиспансернаяГруппа</th>\n",
              "      <th>ВредныеФакторы</th>\n",
              "    </tr>\n",
              "  </thead>\n",
              "  <tbody>\n",
              "    <tr>\n",
              "      <th>0</th>\n",
              "      <td>[0, 0, 1]</td>\n",
              "      <td>[0, 0, 0, 0, 0, 0, 1, 0, 0, 0, 0]</td>\n",
              "      <td>0</td>\n",
              "      <td>0</td>\n",
              "      <td>0</td>\n",
              "      <td>[0, 1, 0, 0, 0]</td>\n",
              "      <td>[0, 0, 0, 0, 0, 0, 0, 0, 0, 0, 0, 0, 0, 1, 0, 0]</td>\n",
              "    </tr>\n",
              "    <tr>\n",
              "      <th>1</th>\n",
              "      <td>[0, 0, 1]</td>\n",
              "      <td>[0, 0, 0, 0, 1, 0, 0, 0, 0, 0, 0]</td>\n",
              "      <td>1</td>\n",
              "      <td>0</td>\n",
              "      <td>0</td>\n",
              "      <td>[0, 0, 1, 0, 0]</td>\n",
              "      <td>[0, 0, 0, 0, 0, 0, 1, 0, 0, 0, 0, 0, 0, 0, 0, 0]</td>\n",
              "    </tr>\n",
              "    <tr>\n",
              "      <th>2</th>\n",
              "      <td>[0, 1, 0]</td>\n",
              "      <td>[0, 0, 0, 0, 1, 0, 0, 0, 0, 0, 0]</td>\n",
              "      <td>1</td>\n",
              "      <td>0</td>\n",
              "      <td>0</td>\n",
              "      <td>[0, 0, 0, 1, 0]</td>\n",
              "      <td>[0, 0, 0, 0, 0, 0, 1, 0, 0, 0, 0, 0, 0, 0, 0, 0]</td>\n",
              "    </tr>\n",
              "  </tbody>\n",
              "</table>\n",
              "</div>\n",
              "      <button class=\"colab-df-convert\" onclick=\"convertToInteractive('df-f6b83a90-c0c1-4fa4-810d-14fe764bfabe')\"\n",
              "              title=\"Convert this dataframe to an interactive table.\"\n",
              "              style=\"display:none;\">\n",
              "        \n",
              "  <svg xmlns=\"http://www.w3.org/2000/svg\" height=\"24px\"viewBox=\"0 0 24 24\"\n",
              "       width=\"24px\">\n",
              "    <path d=\"M0 0h24v24H0V0z\" fill=\"none\"/>\n",
              "    <path d=\"M18.56 5.44l.94 2.06.94-2.06 2.06-.94-2.06-.94-.94-2.06-.94 2.06-2.06.94zm-11 1L8.5 8.5l.94-2.06 2.06-.94-2.06-.94L8.5 2.5l-.94 2.06-2.06.94zm10 10l.94 2.06.94-2.06 2.06-.94-2.06-.94-.94-2.06-.94 2.06-2.06.94z\"/><path d=\"M17.41 7.96l-1.37-1.37c-.4-.4-.92-.59-1.43-.59-.52 0-1.04.2-1.43.59L10.3 9.45l-7.72 7.72c-.78.78-.78 2.05 0 2.83L4 21.41c.39.39.9.59 1.41.59.51 0 1.02-.2 1.41-.59l7.78-7.78 2.81-2.81c.8-.78.8-2.07 0-2.86zM5.41 20L4 18.59l7.72-7.72 1.47 1.35L5.41 20z\"/>\n",
              "  </svg>\n",
              "      </button>\n",
              "      \n",
              "  <style>\n",
              "    .colab-df-container {\n",
              "      display:flex;\n",
              "      flex-wrap:wrap;\n",
              "      gap: 12px;\n",
              "    }\n",
              "\n",
              "    .colab-df-convert {\n",
              "      background-color: #E8F0FE;\n",
              "      border: none;\n",
              "      border-radius: 50%;\n",
              "      cursor: pointer;\n",
              "      display: none;\n",
              "      fill: #1967D2;\n",
              "      height: 32px;\n",
              "      padding: 0 0 0 0;\n",
              "      width: 32px;\n",
              "    }\n",
              "\n",
              "    .colab-df-convert:hover {\n",
              "      background-color: #E2EBFA;\n",
              "      box-shadow: 0px 1px 2px rgba(60, 64, 67, 0.3), 0px 1px 3px 1px rgba(60, 64, 67, 0.15);\n",
              "      fill: #174EA6;\n",
              "    }\n",
              "\n",
              "    [theme=dark] .colab-df-convert {\n",
              "      background-color: #3B4455;\n",
              "      fill: #D2E3FC;\n",
              "    }\n",
              "\n",
              "    [theme=dark] .colab-df-convert:hover {\n",
              "      background-color: #434B5C;\n",
              "      box-shadow: 0px 1px 3px 1px rgba(0, 0, 0, 0.15);\n",
              "      filter: drop-shadow(0px 1px 2px rgba(0, 0, 0, 0.3));\n",
              "      fill: #FFFFFF;\n",
              "    }\n",
              "  </style>\n",
              "\n",
              "      <script>\n",
              "        const buttonEl =\n",
              "          document.querySelector('#df-f6b83a90-c0c1-4fa4-810d-14fe764bfabe button.colab-df-convert');\n",
              "        buttonEl.style.display =\n",
              "          google.colab.kernel.accessAllowed ? 'block' : 'none';\n",
              "\n",
              "        async function convertToInteractive(key) {\n",
              "          const element = document.querySelector('#df-f6b83a90-c0c1-4fa4-810d-14fe764bfabe');\n",
              "          const dataTable =\n",
              "            await google.colab.kernel.invokeFunction('convertToInteractive',\n",
              "                                                     [key], {});\n",
              "          if (!dataTable) return;\n",
              "\n",
              "          const docLinkHtml = 'Like what you see? Visit the ' +\n",
              "            '<a target=\"_blank\" href=https://colab.research.google.com/notebooks/data_table.ipynb>data table notebook</a>'\n",
              "            + ' to learn more about interactive tables.';\n",
              "          element.innerHTML = '';\n",
              "          dataTable['output_type'] = 'display_data';\n",
              "          await google.colab.output.renderOutput(dataTable, element);\n",
              "          const docLink = document.createElement('div');\n",
              "          docLink.innerHTML = docLinkHtml;\n",
              "          element.appendChild(docLink);\n",
              "        }\n",
              "      </script>\n",
              "    </div>\n",
              "  </div>\n",
              "  "
            ]
          },
          "metadata": {},
          "execution_count": 39
        }
      ]
    },
    {
      "cell_type": "markdown",
      "source": [
        "## МКБ"
      ],
      "metadata": {
        "id": "uXSh4C2YqdVm"
      }
    },
    {
      "cell_type": "code",
      "source": [
        "def getColNamesByFragmentName(str):\n",
        "  '''\n",
        "    Возвращает список названий колонок, в которых содержится заданная строка\n",
        "    вход:\n",
        "        str - часть названия колонки, например мкб\n",
        "    выход:\n",
        "        retVal - список названий колонок, содержащих заданную строку\n",
        "  '''\n",
        "  totalCols = list(df1.columns)\n",
        "  retVal = [col for col in totalCols if str in col]\n",
        "  return retVal"
      ],
      "metadata": {
        "id": "VA-QWhbttXis"
      },
      "execution_count": 40,
      "outputs": []
    },
    {
      "cell_type": "code",
      "source": [
        "# Находим все колонки, в которых присутсвует часть названия '_МКБ'\n",
        "fragment_str = '_МКБ'\n",
        "mkb_cols = getColNamesByFragmentName(fragment_str)\n",
        "print(f'Число колонок, содержащих \"{fragment_str}\": {len(mkb_cols)}')"
      ],
      "metadata": {
        "colab": {
          "base_uri": "https://localhost:8080/"
        },
        "id": "cQfnXD9ntgz0",
        "outputId": "717accb2-d5cc-49f5-b413-647ebe38f66b"
      },
      "execution_count": 41,
      "outputs": [
        {
          "output_type": "stream",
          "name": "stdout",
          "text": [
            "Число колонок, содержащих \"_МКБ\": 92\n"
          ]
        }
      ]
    },
    {
      "cell_type": "code",
      "source": [
        "# Формируем список уникальных значений мкб\n",
        "# MKB Factors\n",
        "u_mkb_lst = list()\n",
        "\n",
        "for mkb_col in mkb_cols:\n",
        "  col_inx = df1.columns.get_loc(mkb_col)\n",
        "  col_lst = df1.iloc[:, col_inx].tolist()\n",
        "  # print(f'df1 число строк: {df1.shape[0]}, mkb_col: {mkb_col}')\n",
        "  # print(f'  len(col_lst): {len(col_lst)}, {col_lst}')\n",
        "  # Пробегаем по всем строкам текущей колонки\n",
        "  for i in range(df1.shape[0]):\n",
        "    i_elem = col_lst[i]\n",
        "    # print(f'{i}->{df1.shape[0]}: i_elem: {i_elem}')\n",
        "    # проверяем на nan\n",
        "    if (i_elem == i_elem):\n",
        "      # проверяем, что строка не пустая\n",
        "      if i_elem:\n",
        "        #print(f'{i}=>{df1.shape[0]}: i_elem: {i_elem}')\n",
        "        #расщепляем по запятым\n",
        "        elem_lst = comma_string_split(i_elem)\n",
        "        #print(f'  {len(elem_lst)}: {elem_lst}')\n",
        "        if len(elem_lst) > 0:\n",
        "          for elem1_lst in elem_lst:\n",
        "            #print(f'    elem1_lst: {elem1_lst}')\n",
        "            if len(u_mkb_lst) > 0:\n",
        "              # проверяем, что этого элемента нет в списке\n",
        "              flag_lst = elem1_lst in u_mkb_lst\n",
        "              if not flag_lst:\n",
        "                u_mkb_lst.append(elem1_lst)\n",
        "            else:\n",
        "              u_mkb_lst.append(elem1_lst)\n",
        "\n",
        "# print(f'{len(u_mkb_lst)}: u_mkb_lst: {u_mkb_lst}')"
      ],
      "metadata": {
        "id": "LBVZVZFUd5zE"
      },
      "execution_count": 42,
      "outputs": []
    },
    {
      "cell_type": "code",
      "source": [
        "# создаем словарь МКБ: ключи - МКБ, значения - число повторений\n",
        "u_mkb_dict = {}\n",
        "for i_elem in u_mkb_lst:\n",
        "  u_mkb_dict[i_elem] = 0\n",
        "\n",
        "# print(f'{len(u_mkb_dict)}: u_mkb_lst: {u_mkb_dict}')\n",
        "\n",
        "# пробегаемся по всем строкам колонок и заполняем словарь\n",
        "for mkb_col in mkb_cols:\n",
        "  col_inx = df1.columns.get_loc(mkb_col)\n",
        "  col_lst = df1.iloc[:, col_inx].tolist()\n",
        "  for i in range(df1.shape[0]):\n",
        "    i_elem = col_lst[i]\n",
        "    # проверяем на nan\n",
        "    if (i_elem == i_elem):\n",
        "      # проверяем, что строка не пустая\n",
        "      if i_elem:\n",
        "        #расщепляем по запятым\n",
        "        elem_lst = comma_string_split(i_elem)\n",
        "        if len(elem_lst) > 0:\n",
        "          for elem1_lst in elem_lst:\n",
        "            u_mkb_dict[elem1_lst] += 1\n",
        "\n",
        "# print(f'{len(u_mkb_dict)}: u_mkb_lst: {u_mkb_dict}')\n",
        "\n",
        "# сортируем словарь по убыванию\n",
        "u_mkb_sort_dict = dict(sorted(u_mkb_dict.items(), key=lambda x: x[1], reverse=True))\n",
        "\n",
        "# print(f'{len(u_mkb_sort_dict)}: u_mkb_sort_dict: {u_mkb_sort_dict}')"
      ],
      "metadata": {
        "id": "4mflq318myGo"
      },
      "execution_count": 43,
      "outputs": []
    },
    {
      "cell_type": "code",
      "source": [
        "# Отобразим на столбчатую диаграмму - чачтоту использования наших признаков\n",
        "plt.figure(figsize=(20, 5))\n",
        "plt.bar(u_mkb_sort_dict.keys(), u_mkb_sort_dict.values(), color='blue')\n",
        "plt.xticks(rotation=90)\n",
        "plt.xlabel('МКБ')\n",
        "plt.ylabel('Общее число повторений')\n",
        "plt.gca().set_facecolor('white')\n",
        "plt.show()"
      ],
      "metadata": {
        "colab": {
          "base_uri": "https://localhost:8080/",
          "height": 494
        },
        "id": "LWaiqf4koazP",
        "outputId": "da6698db-dac8-4d8b-a885-b3dcf8e5ec49"
      },
      "execution_count": 44,
      "outputs": [
        {
          "output_type": "display_data",
          "data": {
            "text/plain": [
              "<Figure size 2000x500 with 1 Axes>"
            ],
            "image/png": "[encoded data removed]"
          },
          "metadata": {}
        }
      ]
    },
    {
      "cell_type": "code",
      "source": [
        "# Формируем список уникальных значений МКБ \n",
        "# из наиболее часто встречающихся -> оставим первые 3\n",
        "u_mkb_lst = list(u_mkb_sort_dict.keys())[:3]\n",
        "del u_mkb_dict\n",
        "del u_mkb_sort_dict\n",
        "\n",
        "print(f'{len(u_mkb_lst)}: u_mkb_lst: {u_mkb_lst}')"
      ],
      "metadata": {
        "colab": {
          "base_uri": "https://localhost:8080/"
        },
        "id": "Rb8oBBngp9kW",
        "outputId": "e85be369-14e7-4a8a-b41f-b4a4320c249f"
      },
      "execution_count": 45,
      "outputs": [
        {
          "output_type": "stream",
          "name": "stdout",
          "text": [
            "3: u_mkb_lst: ['Z00.0', 'I11.9', 'H52.1']\n"
          ]
        }
      ]
    },
    {
      "cell_type": "code",
      "source": [
        "#~~~~~~~~~~~~~~~~~~~~~~~~\n",
        "#multi_hot_encoding\n",
        "mkb_mhe_lst = list()\n",
        "\n",
        "# число классов\n",
        "mkb_class_count = len(u_mkb_lst) + 1\n",
        "# то есть по умолчанию выбираем индекс мкб, которого нет в списке \n",
        "# наших выбранных и ограниченных мкб факторов\n",
        "nan_inx = len(u_mkb_lst)\n",
        "\n",
        "for i in range(df1.shape[0]):\n",
        "  i_mhe_lst = [0] * mkb_class_count\n",
        "  mkb_mhe_lst.append(i_mhe_lst)\n",
        "\n",
        "# print(f'{len(u_mkb_lst)}: u_hf_lst: {u_mkb_lst}')\n",
        "# print(f'mkb_class_count: {mkb_class_count}')\n",
        "# print(f'nan_inx: {nan_inx}')\n",
        "# print(f'{len(mkb_mhe_lst)}: mkb_mhe_lst: {mkb_mhe_lst}')\n",
        "\n",
        "# пробегаемся по всем строкам колонок и заполняем словарь\n",
        "for mkb_col in mkb_cols:\n",
        "  col_inx = df1.columns.get_loc(mkb_col)\n",
        "  col_lst = df1.iloc[:, col_inx].tolist()\n",
        "  # пробегаемся по всем строкам колонки\n",
        "  for i in range(df1.shape[0]):\n",
        "    i_elem = col_lst[i]\n",
        "    # print(f'mkb_col: {mkb_col}: {i}->{df1.shape[0]}: i_elem: {i_elem}')\n",
        "    # устанавливаем все признаки в нули\n",
        "    i_mhe_lst = mkb_mhe_lst[i]\n",
        "    # проверяем на nan\n",
        "    if (i_elem == i_elem):\n",
        "      # проверяем, что строка не пустая\n",
        "      if i_elem:\n",
        "        #расщепляем по запятым\n",
        "        elem_lst = comma_string_split(i_elem)\n",
        "        if len(elem_lst) > 0:\n",
        "          for elem1_lst in elem_lst:\n",
        "            # проверяем, есть ли этот элемент в списке\n",
        "            if elem1_lst in u_mkb_lst:\n",
        "              inx = u_mkb_lst.index(elem1_lst)\n",
        "              i_mhe_lst[inx] = 1\n",
        "            else:\n",
        "              i_mhe_lst[nan_inx] = 1\n",
        "        else:\n",
        "          i_mhe_lst[nan_inx] = 1\n",
        "      else:\n",
        "        i_mhe_lst[nan_inx] = 1\n",
        "    else:\n",
        "      i_mhe_lst[nan_inx] = 1\n",
        "\n",
        "  # print(f'  {len(i_mhe_lst)}: {i_mhe_lst}')\n",
        "  mkb_mhe_lst[i] = i_mhe_lst\n",
        "\n",
        "# print(f'{len(mkb_mhe_lst)}: mkb_mhe_lst: {mkb_mhe_lst}')\n",
        "\n",
        "# добавляем новую колонку 'МКБ' в 'df2'\n",
        "df2 = df2.assign(МКБ=mkb_mhe_lst)\n",
        "\n",
        "del mkb_mhe_lst\n",
        "\n",
        "print(f'размеры датафрейма: df1: {df1.shape}, df2: {df2.shape}')\n",
        "df2.head(3)"
      ],
      "metadata": {
        "colab": {
          "base_uri": "https://localhost:8080/",
          "height": 161
        },
        "id": "crmB76f6siVe",
        "outputId": "aa68d6c6-4b7c-4da3-9ac7-e112bbf1c084"
      },
      "execution_count": 46,
      "outputs": [
        {
          "output_type": "stream",
          "name": "stdout",
          "text": [
            "размеры датафрейма: df1: (2474, 4588), df2: (2474, 8)\n"
          ]
        },
        {
          "output_type": "execute_result",
          "data": {
            "text/plain": [
              "  ЗаключениеМКК                            Возраст  КлиентПол  ТипМедосмотра  \\\n",
              "0     [0, 0, 1]  [0, 0, 0, 0, 0, 0, 1, 0, 0, 0, 0]          0              0   \n",
              "1     [0, 0, 1]  [0, 0, 0, 0, 1, 0, 0, 0, 0, 0, 0]          1              0   \n",
              "2     [0, 1, 0]  [0, 0, 0, 0, 1, 0, 0, 0, 0, 0, 0]          1              0   \n",
              "\n",
              "   ПсихОсвидетельствование ДиспансернаяГруппа  \\\n",
              "0                        0    [0, 1, 0, 0, 0]   \n",
              "1                        0    [0, 0, 1, 0, 0]   \n",
              "2                        0    [0, 0, 0, 1, 0]   \n",
              "\n",
              "                                     ВредныеФакторы           МКБ  \n",
              "0  [0, 0, 0, 0, 0, 0, 0, 0, 0, 0, 0, 0, 0, 1, 0, 0]  [1, 0, 0, 1]  \n",
              "1  [0, 0, 0, 0, 0, 0, 1, 0, 0, 0, 0, 0, 0, 0, 0, 0]  [1, 1, 0, 1]  \n",
              "2  [0, 0, 0, 0, 0, 0, 1, 0, 0, 0, 0, 0, 0, 0, 0, 0]  [1, 0, 1, 1]  "
            ],
            "text/html": [
              "\n",
              "  <div id=\"df-ef1ce63d-f9a2-4a83-85b2-272c32f61a79\">\n",
              "    <div class=\"colab-df-container\">\n",
              "      <div>\n",
              "<style scoped>\n",
              "    .dataframe tbody tr th:only-of-type {\n",
              "        vertical-align: middle;\n",
              "    }\n",
              "\n",
              "    .dataframe tbody tr th {\n",
              "        vertical-align: top;\n",
              "    }\n",
              "\n",
              "    .dataframe thead th {\n",
              "        text-align: right;\n",
              "    }\n",
              "</style>\n",
              "<table border=\"1\" class=\"dataframe\">\n",
              "  <thead>\n",
              "    <tr style=\"text-align: right;\">\n",
              "      <th></th>\n",
              "      <th>ЗаключениеМКК</th>\n",
              "      <th>Возраст</th>\n",
              "      <th>КлиентПол</th>\n",
              "      <th>ТипМедосмотра</th>\n",
              "      <th>ПсихОсвидетельствование</th>\n",
              "      <th>ДиспансернаяГруппа</th>\n",
              "      <th>ВредныеФакторы</th>\n",
              "      <th>МКБ</th>\n",
              "    </tr>\n",
              "  </thead>\n",
              "  <tbody>\n",
              "    <tr>\n",
              "      <th>0</th>\n",
              "      <td>[0, 0, 1]</td>\n",
              "      <td>[0, 0, 0, 0, 0, 0, 1, 0, 0, 0, 0]</td>\n",
              "      <td>0</td>\n",
              "      <td>0</td>\n",
              "      <td>0</td>\n",
              "      <td>[0, 1, 0, 0, 0]</td>\n",
              "      <td>[0, 0, 0, 0, 0, 0, 0, 0, 0, 0, 0, 0, 0, 1, 0, 0]</td>\n",
              "      <td>[1, 0, 0, 1]</td>\n",
              "    </tr>\n",
              "    <tr>\n",
              "      <th>1</th>\n",
              "      <td>[0, 0, 1]</td>\n",
              "      <td>[0, 0, 0, 0, 1, 0, 0, 0, 0, 0, 0]</td>\n",
              "      <td>1</td>\n",
              "      <td>0</td>\n",
              "      <td>0</td>\n",
              "      <td>[0, 0, 1, 0, 0]</td>\n",
              "      <td>[0, 0, 0, 0, 0, 0, 1, 0, 0, 0, 0, 0, 0, 0, 0, 0]</td>\n",
              "      <td>[1, 1, 0, 1]</td>\n",
              "    </tr>\n",
              "    <tr>\n",
              "      <th>2</th>\n",
              "      <td>[0, 1, 0]</td>\n",
              "      <td>[0, 0, 0, 0, 1, 0, 0, 0, 0, 0, 0]</td>\n",
              "      <td>1</td>\n",
              "      <td>0</td>\n",
              "      <td>0</td>\n",
              "      <td>[0, 0, 0, 1, 0]</td>\n",
              "      <td>[0, 0, 0, 0, 0, 0, 1, 0, 0, 0, 0, 0, 0, 0, 0, 0]</td>\n",
              "      <td>[1, 0, 1, 1]</td>\n",
              "    </tr>\n",
              "  </tbody>\n",
              "</table>\n",
              "</div>\n",
              "      <button class=\"colab-df-convert\" onclick=\"convertToInteractive('df-ef1ce63d-f9a2-4a83-85b2-272c32f61a79')\"\n",
              "              title=\"Convert this dataframe to an interactive table.\"\n",
              "              style=\"display:none;\">\n",
              "        \n",
              "  <svg xmlns=\"http://www.w3.org/2000/svg\" height=\"24px\"viewBox=\"0 0 24 24\"\n",
              "       width=\"24px\">\n",
              "    <path d=\"M0 0h24v24H0V0z\" fill=\"none\"/>\n",
              "    <path d=\"M18.56 5.44l.94 2.06.94-2.06 2.06-.94-2.06-.94-.94-2.06-.94 2.06-2.06.94zm-11 1L8.5 8.5l.94-2.06 2.06-.94-2.06-.94L8.5 2.5l-.94 2.06-2.06.94zm10 10l.94 2.06.94-2.06 2.06-.94-2.06-.94-.94-2.06-.94 2.06-2.06.94z\"/><path d=\"M17.41 7.96l-1.37-1.37c-.4-.4-.92-.59-1.43-.59-.52 0-1.04.2-1.43.59L10.3 9.45l-7.72 7.72c-.78.78-.78 2.05 0 2.83L4 21.41c.39.39.9.59 1.41.59.51 0 1.02-.2 1.41-.59l7.78-7.78 2.81-2.81c.8-.78.8-2.07 0-2.86zM5.41 20L4 18.59l7.72-7.72 1.47 1.35L5.41 20z\"/>\n",
              "  </svg>\n",
              "      </button>\n",
              "      \n",
              "  <style>\n",
              "    .colab-df-container {\n",
              "      display:flex;\n",
              "      flex-wrap:wrap;\n",
              "      gap: 12px;\n",
              "    }\n",
              "\n",
              "    .colab-df-convert {\n",
              "      background-color: #E8F0FE;\n",
              "      border: none;\n",
              "      border-radius: 50%;\n",
              "      cursor: pointer;\n",
              "      display: none;\n",
              "      fill: #1967D2;\n",
              "      height: 32px;\n",
              "      padding: 0 0 0 0;\n",
              "      width: 32px;\n",
              "    }\n",
              "\n",
              "    .colab-df-convert:hover {\n",
              "      background-color: #E2EBFA;\n",
              "      box-shadow: 0px 1px 2px rgba(60, 64, 67, 0.3), 0px 1px 3px 1px rgba(60, 64, 67, 0.15);\n",
              "      fill: #174EA6;\n",
              "    }\n",
              "\n",
              "    [theme=dark] .colab-df-convert {\n",
              "      background-color: #3B4455;\n",
              "      fill: #D2E3FC;\n",
              "    }\n",
              "\n",
              "    [theme=dark] .colab-df-convert:hover {\n",
              "      background-color: #434B5C;\n",
              "      box-shadow: 0px 1px 3px 1px rgba(0, 0, 0, 0.15);\n",
              "      filter: drop-shadow(0px 1px 2px rgba(0, 0, 0, 0.3));\n",
              "      fill: #FFFFFF;\n",
              "    }\n",
              "  </style>\n",
              "\n",
              "      <script>\n",
              "        const buttonEl =\n",
              "          document.querySelector('#df-ef1ce63d-f9a2-4a83-85b2-272c32f61a79 button.colab-df-convert');\n",
              "        buttonEl.style.display =\n",
              "          google.colab.kernel.accessAllowed ? 'block' : 'none';\n",
              "\n",
              "        async function convertToInteractive(key) {\n",
              "          const element = document.querySelector('#df-ef1ce63d-f9a2-4a83-85b2-272c32f61a79');\n",
              "          const dataTable =\n",
              "            await google.colab.kernel.invokeFunction('convertToInteractive',\n",
              "                                                     [key], {});\n",
              "          if (!dataTable) return;\n",
              "\n",
              "          const docLinkHtml = 'Like what you see? Visit the ' +\n",
              "            '<a target=\"_blank\" href=https://colab.research.google.com/notebooks/data_table.ipynb>data table notebook</a>'\n",
              "            + ' to learn more about interactive tables.';\n",
              "          element.innerHTML = '';\n",
              "          dataTable['output_type'] = 'display_data';\n",
              "          await google.colab.output.renderOutput(dataTable, element);\n",
              "          const docLink = document.createElement('div');\n",
              "          docLink.innerHTML = docLinkHtml;\n",
              "          element.appendChild(docLink);\n",
              "        }\n",
              "      </script>\n",
              "    </div>\n",
              "  </div>\n",
              "  "
            ]
          },
          "metadata": {},
          "execution_count": 46
        }
      ]
    },
    {
      "cell_type": "markdown",
      "source": [
        "## ГоденНегоден"
      ],
      "metadata": {
        "id": "7SHsYNdesoKV"
      }
    },
    {
      "cell_type": "markdown",
      "source": [
        "# Числовые признаки"
      ],
      "metadata": {
        "id": "70r2sOfD-GAM"
      }
    },
    {
      "cell_type": "markdown",
      "source": [
        "## Определяем числовые колонки"
      ],
      "metadata": {
        "id": "X9F3GByj_SGU"
      }
    },
    {
      "cell_type": "code",
      "source": [
        "float_cols = list(df1.select_dtypes(include=['float64']).columns)\n",
        "float_cols_count = len(float_cols)\n",
        "\n",
        "print(f'Колоноки типа float: {float_cols_count}')\n",
        "# for i in range(float_cols_count):\n",
        "#   print(f'{i}: {float_cols[i]}')"
      ],
      "metadata": {
        "colab": {
          "base_uri": "https://localhost:8080/"
        },
        "id": "R4HwfQZRAtst",
        "outputId": "2fe69f0f-fa90-46b4-9421-585b883d210c"
      },
      "execution_count": 47,
      "outputs": [
        {
          "output_type": "stream",
          "name": "stdout",
          "text": [
            "Колоноки типа float: 1253\n"
          ]
        }
      ]
    },
    {
      "cell_type": "markdown",
      "source": [
        "## Артериальное давление"
      ],
      "metadata": {
        "id": "m9m4niPGFQsy"
      }
    },
    {
      "cell_type": "code",
      "source": [
        "# Находим все колонки, в которых присутсвует часть названия '_Артер'(АртериальноеДавление)\n",
        "fragment_str = '_Артер'\n",
        "# Arterial pressure\n",
        "digit_cols = getColNamesByFragmentName(fragment_str)\n",
        "print(f'Число колонок, содержащих \"{fragment_str}\": {len(digit_cols)}')"
      ],
      "metadata": {
        "colab": {
          "base_uri": "https://localhost:8080/"
        },
        "id": "SNFyHCf5EIWp",
        "outputId": "3f48136b-c095-4177-d794-e29756ead74d"
      },
      "execution_count": 48,
      "outputs": [
        {
          "output_type": "stream",
          "name": "stdout",
          "text": [
            "Число колонок, содержащих \"_Артер\": 20\n"
          ]
        }
      ]
    },
    {
      "cell_type": "code",
      "source": [
        "# # пробегаемся по всем строкам колонок и заполняем словарь\n",
        "# for dig_col in digit_cols:\n",
        "#   col_inx = df1.columns.get_loc(dig_col)\n",
        "#   col_lst = df1.iloc[:, col_inx].tolist()\n",
        "\n",
        "#   # print(f'dig_col: {dig_col}')\n",
        "#   # print(f'  len(col_lst): {len(col_lst)}: col_lst: {col_lst}')\n",
        "\n",
        "#   # Терапия1_АртериальноеДавление_Значение\n",
        "#   #   len(col_lst): 1571: col_lst: ['140/100', '150/100', '120/80', '120\\\\80', '110/70', '110/70', '105/70', '120/70', '140/80', '120/80', '120\\\\80', '130\\\\80', '125/85', '130\\\\80', '120\\\\80', '133', '120', '100', '120', '110',\n",
        "\n",
        "#   # dig_col: Терапия1_АртериальноеДавление21_Значение\n",
        "#   #   len(col_lst): 1571: col_lst: [nan, nan, nan, nan, nan, nan, nan, nan, nan, nan, nan, nan, nan, nan, nan, 82.0, 80.0, 80.0, 80.0, 80.0, 80.0, 80.0, 80.0, 80.0, 60.0, 80.0, 70.0, 90.0, 110.0, nan, 70.0, 80.0, 120.0, 70.\n",
        "\n",
        "#    # 2023.06.02. выбираю колонку Терапия1_АртериальноеДавление21_Значение"
      ],
      "metadata": {
        "id": "qTId8jyPFKj5"
      },
      "execution_count": 49,
      "outputs": []
    },
    {
      "cell_type": "code",
      "source": [
        "# Колонка Терапия1_АртериальноеДавление21_Значение\n",
        "nan_lst = df1[df1['Терапия1_АртериальноеДавление21_Значение'].isnull()].index\n",
        "nan_lst_count_proc = len(nan_lst)*100/df2.size\n",
        "print(f'df1 число строк: {df1.shape[0]}')\n",
        "print(f'\"Терапия1_АртериальноеДавление21_Значение\": число строк с пустыми значениями: {len(nan_lst)}, {round(nan_lst_count_proc, 2)}%')\n",
        "\n",
        "min_val = df1['Терапия1_АртериальноеДавление21_Значение'].min()\n",
        "max_val = df1['Терапия1_АртериальноеДавление21_Значение'].max()\n",
        "mean_val = df1['Терапия1_АртериальноеДавление21_Значение'].mean()\n",
        "print(f'Значения: min: {round(min_val, 2)}, max: {round(max_val, 2)}, mean: {round(mean_val, 2)}')"
      ],
      "metadata": {
        "colab": {
          "base_uri": "https://localhost:8080/"
        },
        "id": "0FEnhfsYd7ci",
        "outputId": "eab47a6d-214a-4b22-cea2-6640d85bee4c"
      },
      "execution_count": 50,
      "outputs": [
        {
          "output_type": "stream",
          "name": "stdout",
          "text": [
            "df1 число строк: 2474\n",
            "\"Терапия1_АртериальноеДавление21_Значение\": число строк с пустыми значениями: 447, 2.26%\n",
            "Значения: min: 20.0, max: 805.0, mean: 80.64\n"
          ]
        }
      ]
    },
    {
      "cell_type": "code",
      "source": [
        "# Находим минимальное максимальное значения, пустые значения заполняем средним\n",
        "f_arr = df1['Терапия1_АртериальноеДавление21_Значение'].values.astype('float64')\n",
        "\n",
        "# f_indices = []\n",
        "# for i in range(len(f_arr)):\n",
        "#   if f_arr[i] > 200.0:\n",
        "#     f_indices.append(i)\n",
        "# print(f_indices)\n",
        "# print(f'f_indices[0]: {f_indices[0]}:, {f_arr[f_indices[0]]}')\n",
        "# print(f'f_indices[1]: {f_indices[1]}:, {f_arr[f_indices[1]]}')\n",
        "# del f_indices\n",
        "\n",
        "f_arr_lst = list()\n",
        "for i in range(len(f_arr)):\n",
        "  # print(f'{i}: {f_arr[i]}')\n",
        "  # проверяем на nan\n",
        "  if (f_arr[i] == f_arr[i]):\n",
        "    f_arr_lst.append(f_arr[i])\n",
        "\n",
        "f_arr2 = np.array(f_arr_lst, dtype=np.float64)\n",
        "\n",
        "# print(f'len(f_arr_lst): {len(f_arr_lst)}:, {f_arr_lst}')\n",
        "# print(f'len(f_arr2): {len(f_arr2)}:, {f_arr2}')\n",
        "\n",
        "del f_arr_lst\n",
        "\n",
        "min_val = np.min(f_arr2)\n",
        "max_val = np.max(f_arr2)\n",
        "mean_val = np.mean(f_arr2)\n",
        "print(f'{f_arr2.shape}: Значения: min: {round(min_val, 2)}, max: {round(max_val, 2)}, mean: {round(mean_val, 2)}')\n",
        "\n",
        "for i in range(len(f_arr2)):\n",
        "  if f_arr2[i] > 200.0:\n",
        "    f_arr2[i] /= 10.0\n",
        "\n",
        "min_val = np.min(f_arr2)\n",
        "max_val = np.max(f_arr2)\n",
        "mean_val = np.mean(f_arr2)\n",
        "print(f'{f_arr2.shape}: Значения: min: {round(min_val, 2)}, max: {round(max_val, 2)}, mean: {round(mean_val, 2)}')\n",
        "\n",
        "# Заполняем пустые ячейки и убираем выбросы\n",
        "for i in range(len(f_arr)):\n",
        "  # проверяем на nan\n",
        "  if (f_arr[i] == f_arr[i]):\n",
        "    if f_arr[i] > 200.0:\n",
        "      f_arr[i] /= 10.0\n",
        "  else:\n",
        "    f_arr[i] = mean_val\n",
        "\n",
        "del f_arr2\n",
        "\n",
        "min_val = np.min(f_arr)\n",
        "max_val = np.max(f_arr)\n",
        "mean_val = np.mean(f_arr)\n",
        "max_min_delta = max_val - min_val\n",
        "print(f'{f_arr.shape}: Значения: min: {round(min_val, 2)}, max: {round(max_val, 2)}, mean: {round(mean_val, 2)}, max_min_delta: {round(max_min_delta, 2)}')\n",
        "\n",
        "# Проведем min-max нормирвоание\n",
        "for i in range(len(f_arr)):\n",
        "  f_arr[i] = (f_arr[i] - min_val)/max_min_delta\n",
        "\n",
        "min_val = np.min(f_arr)\n",
        "max_val = np.max(f_arr)\n",
        "mean_val = np.mean(f_arr)\n",
        "print(f'{f_arr.shape}: Значения: min: {round(min_val, 2)}, max: {round(max_val, 2)}, mean: {round(mean_val, 2)}')"
      ],
      "metadata": {
        "colab": {
          "base_uri": "https://localhost:8080/"
        },
        "id": "u75ewmymqokg",
        "outputId": "447d45c3-6c80-417d-8984-fe7bcee7d5a6"
      },
      "execution_count": 51,
      "outputs": [
        {
          "output_type": "stream",
          "name": "stdout",
          "text": [
            "(2027,): Значения: min: 20.0, max: 805.0, mean: 80.64\n",
            "(2027,): Значения: min: 20.0, max: 120.0, mean: 79.93\n",
            "(2474,): Значения: min: 20.0, max: 120.0, mean: 79.93, max_min_delta: 100.0\n",
            "(2474,): Значения: min: 0.0, max: 1.0, mean: 0.6\n"
          ]
        }
      ]
    },
    {
      "cell_type": "code",
      "source": [
        "# добавляем новую колонку 'АртДавление'('АртериальноеДавление') в 'df2'\n",
        "df2 = df2.assign(АртДавление=f_arr)\n",
        "print(f'размеры датафрейма: df1: {df1.shape}, df2: {df2.shape}')\n",
        "df2.head(3)"
      ],
      "metadata": {
        "colab": {
          "base_uri": "https://localhost:8080/",
          "height": 382
        },
        "id": "Prm-6yHiBPpL",
        "outputId": "3a4f4e2a-6e48-4256-b8c1-4eb0049d3582"
      },
      "execution_count": 52,
      "outputs": [
        {
          "output_type": "stream",
          "name": "stdout",
          "text": [
            "размеры датафрейма: df1: (2474, 4588), df2: (2474, 9)\n"
          ]
        },
        {
          "output_type": "execute_result",
          "data": {
            "text/plain": [
              "  ЗаключениеМКК                            Возраст  КлиентПол  ТипМедосмотра  \\\n",
              "0     [0, 0, 1]  [0, 0, 0, 0, 0, 0, 1, 0, 0, 0, 0]          0              0   \n",
              "1     [0, 0, 1]  [0, 0, 0, 0, 1, 0, 0, 0, 0, 0, 0]          1              0   \n",
              "2     [0, 1, 0]  [0, 0, 0, 0, 1, 0, 0, 0, 0, 0, 0]          1              0   \n",
              "\n",
              "   ПсихОсвидетельствование ДиспансернаяГруппа  \\\n",
              "0                        0    [0, 1, 0, 0, 0]   \n",
              "1                        0    [0, 0, 1, 0, 0]   \n",
              "2                        0    [0, 0, 0, 1, 0]   \n",
              "\n",
              "                                     ВредныеФакторы           МКБ  АртДавление  \n",
              "0  [0, 0, 0, 0, 0, 0, 0, 0, 0, 0, 0, 0, 0, 1, 0, 0]  [1, 0, 0, 1]     0.599268  \n",
              "1  [0, 0, 0, 0, 0, 0, 1, 0, 0, 0, 0, 0, 0, 0, 0, 0]  [1, 1, 0, 1]     0.599268  \n",
              "2  [0, 0, 0, 0, 0, 0, 1, 0, 0, 0, 0, 0, 0, 0, 0, 0]  [1, 0, 1, 1]     0.599268  "
            ],
            "text/html": [
              "\n",
              "  <div id=\"df-8c189082-8a43-46bc-a758-52706c6f6361\">\n",
              "    <div class=\"colab-df-container\">\n",
              "      <div>\n",
              "<style scoped>\n",
              "    .dataframe tbody tr th:only-of-type {\n",
              "        vertical-align: middle;\n",
              "    }\n",
              "\n",
              "    .dataframe tbody tr th {\n",
              "        vertical-align: top;\n",
              "    }\n",
              "\n",
              "    .dataframe thead th {\n",
              "        text-align: right;\n",
              "    }\n",
              "</style>\n",
              "<table border=\"1\" class=\"dataframe\">\n",
              "  <thead>\n",
              "    <tr style=\"text-align: right;\">\n",
              "      <th></th>\n",
              "      <th>ЗаключениеМКК</th>\n",
              "      <th>Возраст</th>\n",
              "      <th>КлиентПол</th>\n",
              "      <th>ТипМедосмотра</th>\n",
              "      <th>ПсихОсвидетельствование</th>\n",
              "      <th>ДиспансернаяГруппа</th>\n",
              "      <th>ВредныеФакторы</th>\n",
              "      <th>МКБ</th>\n",
              "      <th>АртДавление</th>\n",
              "    </tr>\n",
              "  </thead>\n",
              "  <tbody>\n",
              "    <tr>\n",
              "      <th>0</th>\n",
              "      <td>[0, 0, 1]</td>\n",
              "      <td>[0, 0, 0, 0, 0, 0, 1, 0, 0, 0, 0]</td>\n",
              "      <td>0</td>\n",
              "      <td>0</td>\n",
              "      <td>0</td>\n",
              "      <td>[0, 1, 0, 0, 0]</td>\n",
              "      <td>[0, 0, 0, 0, 0, 0, 0, 0, 0, 0, 0, 0, 0, 1, 0, 0]</td>\n",
              "      <td>[1, 0, 0, 1]</td>\n",
              "      <td>0.599268</td>\n",
              "    </tr>\n",
              "    <tr>\n",
              "      <th>1</th>\n",
              "      <td>[0, 0, 1]</td>\n",
              "      <td>[0, 0, 0, 0, 1, 0, 0, 0, 0, 0, 0]</td>\n",
              "      <td>1</td>\n",
              "      <td>0</td>\n",
              "      <td>0</td>\n",
              "      <td>[0, 0, 1, 0, 0]</td>\n",
              "      <td>[0, 0, 0, 0, 0, 0, 1, 0, 0, 0, 0, 0, 0, 0, 0, 0]</td>\n",
              "      <td>[1, 1, 0, 1]</td>\n",
              "      <td>0.599268</td>\n",
              "    </tr>\n",
              "    <tr>\n",
              "      <th>2</th>\n",
              "      <td>[0, 1, 0]</td>\n",
              "      <td>[0, 0, 0, 0, 1, 0, 0, 0, 0, 0, 0]</td>\n",
              "      <td>1</td>\n",
              "      <td>0</td>\n",
              "      <td>0</td>\n",
              "      <td>[0, 0, 0, 1, 0]</td>\n",
              "      <td>[0, 0, 0, 0, 0, 0, 1, 0, 0, 0, 0, 0, 0, 0, 0, 0]</td>\n",
              "      <td>[1, 0, 1, 1]</td>\n",
              "      <td>0.599268</td>\n",
              "    </tr>\n",
              "  </tbody>\n",
              "</table>\n",
              "</div>\n",
              "      <button class=\"colab-df-convert\" onclick=\"convertToInteractive('df-8c189082-8a43-46bc-a758-52706c6f6361')\"\n",
              "              title=\"Convert this dataframe to an interactive table.\"\n",
              "              style=\"display:none;\">\n",
              "        \n",
              "  <svg xmlns=\"http://www.w3.org/2000/svg\" height=\"24px\"viewBox=\"0 0 24 24\"\n",
              "       width=\"24px\">\n",
              "    <path d=\"M0 0h24v24H0V0z\" fill=\"none\"/>\n",
              "    <path d=\"M18.56 5.44l.94 2.06.94-2.06 2.06-.94-2.06-.94-.94-2.06-.94 2.06-2.06.94zm-11 1L8.5 8.5l.94-2.06 2.06-.94-2.06-.94L8.5 2.5l-.94 2.06-2.06.94zm10 10l.94 2.06.94-2.06 2.06-.94-2.06-.94-.94-2.06-.94 2.06-2.06.94z\"/><path d=\"M17.41 7.96l-1.37-1.37c-.4-.4-.92-.59-1.43-.59-.52 0-1.04.2-1.43.59L10.3 9.45l-7.72 7.72c-.78.78-.78 2.05 0 2.83L4 21.41c.39.39.9.59 1.41.59.51 0 1.02-.2 1.41-.59l7.78-7.78 2.81-2.81c.8-.78.8-2.07 0-2.86zM5.41 20L4 18.59l7.72-7.72 1.47 1.35L5.41 20z\"/>\n",
              "  </svg>\n",
              "      </button>\n",
              "      \n",
              "  <style>\n",
              "    .colab-df-container {\n",
              "      display:flex;\n",
              "      flex-wrap:wrap;\n",
              "      gap: 12px;\n",
              "    }\n",
              "\n",
              "    .colab-df-convert {\n",
              "      background-color: #E8F0FE;\n",
              "      border: none;\n",
              "      border-radius: 50%;\n",
              "      cursor: pointer;\n",
              "      display: none;\n",
              "      fill: #1967D2;\n",
              "      height: 32px;\n",
              "      padding: 0 0 0 0;\n",
              "      width: 32px;\n",
              "    }\n",
              "\n",
              "    .colab-df-convert:hover {\n",
              "      background-color: #E2EBFA;\n",
              "      box-shadow: 0px 1px 2px rgba(60, 64, 67, 0.3), 0px 1px 3px 1px rgba(60, 64, 67, 0.15);\n",
              "      fill: #174EA6;\n",
              "    }\n",
              "\n",
              "    [theme=dark] .colab-df-convert {\n",
              "      background-color: #3B4455;\n",
              "      fill: #D2E3FC;\n",
              "    }\n",
              "\n",
              "    [theme=dark] .colab-df-convert:hover {\n",
              "      background-color: #434B5C;\n",
              "      box-shadow: 0px 1px 3px 1px rgba(0, 0, 0, 0.15);\n",
              "      filter: drop-shadow(0px 1px 2px rgba(0, 0, 0, 0.3));\n",
              "      fill: #FFFFFF;\n",
              "    }\n",
              "  </style>\n",
              "\n",
              "      <script>\n",
              "        const buttonEl =\n",
              "          document.querySelector('#df-8c189082-8a43-46bc-a758-52706c6f6361 button.colab-df-convert');\n",
              "        buttonEl.style.display =\n",
              "          google.colab.kernel.accessAllowed ? 'block' : 'none';\n",
              "\n",
              "        async function convertToInteractive(key) {\n",
              "          const element = document.querySelector('#df-8c189082-8a43-46bc-a758-52706c6f6361');\n",
              "          const dataTable =\n",
              "            await google.colab.kernel.invokeFunction('convertToInteractive',\n",
              "                                                     [key], {});\n",
              "          if (!dataTable) return;\n",
              "\n",
              "          const docLinkHtml = 'Like what you see? Visit the ' +\n",
              "            '<a target=\"_blank\" href=https://colab.research.google.com/notebooks/data_table.ipynb>data table notebook</a>'\n",
              "            + ' to learn more about interactive tables.';\n",
              "          element.innerHTML = '';\n",
              "          dataTable['output_type'] = 'display_data';\n",
              "          await google.colab.output.renderOutput(dataTable, element);\n",
              "          const docLink = document.createElement('div');\n",
              "          docLink.innerHTML = docLinkHtml;\n",
              "          element.appendChild(docLink);\n",
              "        }\n",
              "      </script>\n",
              "    </div>\n",
              "  </div>\n",
              "  "
            ]
          },
          "metadata": {},
          "execution_count": 52
        }
      ]
    },
    {
      "cell_type": "markdown",
      "source": [
        "## ИМТ - индекс массы тела"
      ],
      "metadata": {
        "id": "kpBs-1q1CMCa"
      }
    },
    {
      "cell_type": "code",
      "source": [
        "# Находим все колонки, в которых присутсвует часть названия '_Артер'(АртериальноеДавление)\n",
        "fragment_str = '_ИМТ'\n",
        "# Arterial pressure\n",
        "digit_cols = getColNamesByFragmentName(fragment_str)\n",
        "print(f'Число колонок, содержащих \"{fragment_str}\": {len(digit_cols)}')"
      ],
      "metadata": {
        "colab": {
          "base_uri": "https://localhost:8080/"
        },
        "id": "qicbTen9Cejq",
        "outputId": "ceac4184-b9be-480c-cfe5-18527cdfdf98"
      },
      "execution_count": 53,
      "outputs": [
        {
          "output_type": "stream",
          "name": "stdout",
          "text": [
            "Число колонок, содержащих \"_ИМТ\": 10\n"
          ]
        }
      ]
    },
    {
      "cell_type": "code",
      "source": [
        "# # пробегаемся по всем строкам колонок и заполняем словарь\n",
        "# for dig_col in digit_cols:\n",
        "#   col_inx = df1.columns.get_loc(dig_col)\n",
        "#   col_lst = df1.iloc[:, col_inx].tolist()\n",
        "\n",
        "#   print(f'dig_col: {dig_col}')\n",
        "#   print(f'  len(col_lst): {len(col_lst)}: col_lst: {col_lst}')\n",
        "\n",
        "# Терапия1_ИМТ_Значение\n",
        "# len(col_lst): 1571: col_lst: [nan, nan, nan, nan, nan, nan, nan, nan, nan, nan, nan, nan, nan, nan, nan, '22.53', '29.74', '19.92', '29.37', '23.24', '2.52', '30.08'\n",
        "# Терапия1_ИМТ_ЗначениеПредставление\n",
        "# len(col_lst): 1571: col_lst: [nan, nan, nan, nan, nan, nan, nan, nan, nan, nan, nan, nan, nan, nan, nan, 22.53, 29.74, 19.92, 29.37, 23.24, 2.52, 30.08, 24.06, 30.12, 23.92,"
      ],
      "metadata": {
        "id": "61LEHaSYClw7"
      },
      "execution_count": 54,
      "outputs": []
    },
    {
      "cell_type": "code",
      "source": [
        "# df1['Терапия1_ИМТ_Значение'].dtype\n",
        "# dtype('O')\n",
        "\n",
        "# df1['Терапия1_ИМТ_ЗначениеПредставление'].dtype\n",
        "# dtype('float64')"
      ],
      "metadata": {
        "id": "ErvYtM4rEBiD"
      },
      "execution_count": 55,
      "outputs": []
    },
    {
      "cell_type": "code",
      "source": [
        "# Колонка Терапия1_ИМТ_ЗначениеПредставление\n",
        "nan_lst = df1[df1['Терапия1_ИМТ_ЗначениеПредставление'].isnull()].index\n",
        "nan_lst_count_proc = len(nan_lst)*100/df2.size\n",
        "print(f'df1 число строк: {df1.shape[0]}')\n",
        "print(f'\"Терапия1_ИМТ_ЗначениеПредставление\": число строк с пустыми значениями: {len(nan_lst)}, {round(nan_lst_count_proc, 2)}%')\n",
        "\n",
        "min_val = df1['Терапия1_ИМТ_ЗначениеПредставление'].min()\n",
        "max_val = df1['Терапия1_ИМТ_ЗначениеПредставление'].max()\n",
        "mean_val = df1['Терапия1_ИМТ_ЗначениеПредставление'].mean()\n",
        "print(f'Значения: min: {round(min_val, 2)}, max: {round(max_val, 2)}, mean: {round(mean_val, 2)}')"
      ],
      "metadata": {
        "colab": {
          "base_uri": "https://localhost:8080/"
        },
        "id": "AA-3_qfVC9gj",
        "outputId": "cd917679-1927-40a4-9ecb-3c007941ac66"
      },
      "execution_count": 56,
      "outputs": [
        {
          "output_type": "stream",
          "name": "stdout",
          "text": [
            "df1 число строк: 2474\n",
            "\"Терапия1_ИМТ_ЗначениеПредставление\": число строк с пустыми значениями: 512, 2.3%\n",
            "Значения: min: 0.19, max: 49.38, mean: 26.54\n"
          ]
        }
      ]
    },
    {
      "cell_type": "code",
      "source": [
        "plt.figure(figsize=(20, 5))\n",
        "plt.bar(df1.index, df1['Терапия1_ИМТ_ЗначениеПредставление'], color='blue')\n",
        "#plt.xticks(rotation=90)\n",
        "plt.xlabel('Индексы строк')\n",
        "plt.ylabel('ИМТ')\n",
        "#plt.gca().set_facecolor('white')\n",
        "plt.rcParams['axes.facecolor'] = 'white'\n",
        "plt.show()"
      ],
      "metadata": {
        "colab": {
          "base_uri": "https://localhost:8080/",
          "height": 465
        },
        "id": "gQuYOeL-E9kh",
        "outputId": "bfe8b695-fea4-40c1-82c7-e87c260fe633"
      },
      "execution_count": 57,
      "outputs": [
        {
          "output_type": "display_data",
          "data": {
            "text/plain": [
              "<Figure size 2000x500 with 1 Axes>"
            ],
            "image/png": "[encoded data removed]"
          },
          "metadata": {}
        }
      ]
    },
    {
      "cell_type": "code",
      "source": [
        "# Находим минимальное максимальное значения, пустые значения заполняем средним\n",
        "f_arr = df1['Терапия1_ИМТ_ЗначениеПредставление'].values.astype('float64')\n",
        "\n",
        "f_arr_lst = list()\n",
        "for i in range(len(f_arr)):\n",
        "  # проверяем на nan\n",
        "  if (f_arr[i] == f_arr[i]):\n",
        "    f_arr_lst.append(f_arr[i])\n",
        "f_arr2 = np.array(f_arr_lst, dtype=np.float64)\n",
        "del f_arr_lst\n",
        "\n",
        "min_val = np.min(f_arr2)\n",
        "max_val = np.max(f_arr2)\n",
        "mean_val = np.mean(f_arr2)\n",
        "print(f'{f_arr2.shape}: Значения: min: {round(min_val, 2)}, max: {round(max_val, 2)}, mean: {round(mean_val, 2)}')\n",
        "\n",
        "# Заполняем пустые ячейки и убираем выбросы\n",
        "for i in range(len(f_arr)):\n",
        "  # проверяем на nan\n",
        "  if not (f_arr[i] == f_arr[i]):\n",
        "    f_arr[i] = mean_val\n",
        "del f_arr2\n",
        "\n",
        "min_val = np.min(f_arr)\n",
        "max_val = np.max(f_arr)\n",
        "mean_val = np.mean(f_arr)\n",
        "max_min_delta = max_val - min_val\n",
        "print(f'{f_arr.shape}: Значения: min: {round(min_val, 2)}, max: {round(max_val, 2)}, mean: {round(mean_val, 2)}, max_min_delta: {round(max_min_delta, 2)}')\n",
        "\n",
        "# Проведем min-max нормирвоание\n",
        "for i in range(len(f_arr)):\n",
        "  f_arr[i] = (f_arr[i] - min_val)/max_min_delta\n",
        "\n",
        "min_val = np.min(f_arr)\n",
        "max_val = np.max(f_arr)\n",
        "mean_val = np.mean(f_arr)\n",
        "print(f'{f_arr.shape}: Значения: min: {round(min_val, 2)}, max: {round(max_val, 2)}, mean: {round(mean_val, 2)}')"
      ],
      "metadata": {
        "colab": {
          "base_uri": "https://localhost:8080/"
        },
        "id": "sTwUaElSFbxx",
        "outputId": "4744af1c-8923-4ffa-cfb3-db60a7e5a8cf"
      },
      "execution_count": 58,
      "outputs": [
        {
          "output_type": "stream",
          "name": "stdout",
          "text": [
            "(1962,): Значения: min: 0.19, max: 49.38, mean: 26.54\n",
            "(2474,): Значения: min: 0.19, max: 49.38, mean: 26.54, max_min_delta: 49.19\n",
            "(2474,): Значения: min: 0.0, max: 1.0, mean: 0.54\n"
          ]
        }
      ]
    },
    {
      "cell_type": "code",
      "source": [
        "# добавляем новую колонку 'ИМТ' в 'df2'\n",
        "df2 = df2.assign(ИМТ=f_arr)\n",
        "print(f'размеры датафрейма: df1: {df1.shape}, df2: {df2.shape}')\n",
        "df2.head(3)"
      ],
      "metadata": {
        "colab": {
          "base_uri": "https://localhost:8080/",
          "height": 161
        },
        "id": "EeSt_VYfJg4O",
        "outputId": "376f7278-0ddd-4251-cb0b-639a31e6a71c"
      },
      "execution_count": 59,
      "outputs": [
        {
          "output_type": "stream",
          "name": "stdout",
          "text": [
            "размеры датафрейма: df1: (2474, 4588), df2: (2474, 10)\n"
          ]
        },
        {
          "output_type": "execute_result",
          "data": {
            "text/plain": [
              "  ЗаключениеМКК                            Возраст  КлиентПол  ТипМедосмотра  \\\n",
              "0     [0, 0, 1]  [0, 0, 0, 0, 0, 0, 1, 0, 0, 0, 0]          0              0   \n",
              "1     [0, 0, 1]  [0, 0, 0, 0, 1, 0, 0, 0, 0, 0, 0]          1              0   \n",
              "2     [0, 1, 0]  [0, 0, 0, 0, 1, 0, 0, 0, 0, 0, 0]          1              0   \n",
              "\n",
              "   ПсихОсвидетельствование ДиспансернаяГруппа  \\\n",
              "0                        0    [0, 1, 0, 0, 0]   \n",
              "1                        0    [0, 0, 1, 0, 0]   \n",
              "2                        0    [0, 0, 0, 1, 0]   \n",
              "\n",
              "                                     ВредныеФакторы           МКБ  \\\n",
              "0  [0, 0, 0, 0, 0, 0, 0, 0, 0, 0, 0, 0, 0, 1, 0, 0]  [1, 0, 0, 1]   \n",
              "1  [0, 0, 0, 0, 0, 0, 1, 0, 0, 0, 0, 0, 0, 0, 0, 0]  [1, 1, 0, 1]   \n",
              "2  [0, 0, 0, 0, 0, 0, 1, 0, 0, 0, 0, 0, 0, 0, 0, 0]  [1, 0, 1, 1]   \n",
              "\n",
              "   АртДавление       ИМТ  \n",
              "0     0.599268  0.535597  \n",
              "1     0.599268  0.535597  \n",
              "2     0.599268  0.535597  "
            ],
            "text/html": [
              "\n",
              "  <div id=\"df-129a8ab4-0684-44dc-adb7-f59ace220668\">\n",
              "    <div class=\"colab-df-container\">\n",
              "      <div>\n",
              "<style scoped>\n",
              "    .dataframe tbody tr th:only-of-type {\n",
              "        vertical-align: middle;\n",
              "    }\n",
              "\n",
              "    .dataframe tbody tr th {\n",
              "        vertical-align: top;\n",
              "    }\n",
              "\n",
              "    .dataframe thead th {\n",
              "        text-align: right;\n",
              "    }\n",
              "</style>\n",
              "<table border=\"1\" class=\"dataframe\">\n",
              "  <thead>\n",
              "    <tr style=\"text-align: right;\">\n",
              "      <th></th>\n",
              "      <th>ЗаключениеМКК</th>\n",
              "      <th>Возраст</th>\n",
              "      <th>КлиентПол</th>\n",
              "      <th>ТипМедосмотра</th>\n",
              "      <th>ПсихОсвидетельствование</th>\n",
              "      <th>ДиспансернаяГруппа</th>\n",
              "      <th>ВредныеФакторы</th>\n",
              "      <th>МКБ</th>\n",
              "      <th>АртДавление</th>\n",
              "      <th>ИМТ</th>\n",
              "    </tr>\n",
              "  </thead>\n",
              "  <tbody>\n",
              "    <tr>\n",
              "      <th>0</th>\n",
              "      <td>[0, 0, 1]</td>\n",
              "      <td>[0, 0, 0, 0, 0, 0, 1, 0, 0, 0, 0]</td>\n",
              "      <td>0</td>\n",
              "      <td>0</td>\n",
              "      <td>0</td>\n",
              "      <td>[0, 1, 0, 0, 0]</td>\n",
              "      <td>[0, 0, 0, 0, 0, 0, 0, 0, 0, 0, 0, 0, 0, 1, 0, 0]</td>\n",
              "      <td>[1, 0, 0, 1]</td>\n",
              "      <td>0.599268</td>\n",
              "      <td>0.535597</td>\n",
              "    </tr>\n",
              "    <tr>\n",
              "      <th>1</th>\n",
              "      <td>[0, 0, 1]</td>\n",
              "      <td>[0, 0, 0, 0, 1, 0, 0, 0, 0, 0, 0]</td>\n",
              "      <td>1</td>\n",
              "      <td>0</td>\n",
              "      <td>0</td>\n",
              "      <td>[0, 0, 1, 0, 0]</td>\n",
              "      <td>[0, 0, 0, 0, 0, 0, 1, 0, 0, 0, 0, 0, 0, 0, 0, 0]</td>\n",
              "      <td>[1, 1, 0, 1]</td>\n",
              "      <td>0.599268</td>\n",
              "      <td>0.535597</td>\n",
              "    </tr>\n",
              "    <tr>\n",
              "      <th>2</th>\n",
              "      <td>[0, 1, 0]</td>\n",
              "      <td>[0, 0, 0, 0, 1, 0, 0, 0, 0, 0, 0]</td>\n",
              "      <td>1</td>\n",
              "      <td>0</td>\n",
              "      <td>0</td>\n",
              "      <td>[0, 0, 0, 1, 0]</td>\n",
              "      <td>[0, 0, 0, 0, 0, 0, 1, 0, 0, 0, 0, 0, 0, 0, 0, 0]</td>\n",
              "      <td>[1, 0, 1, 1]</td>\n",
              "      <td>0.599268</td>\n",
              "      <td>0.535597</td>\n",
              "    </tr>\n",
              "  </tbody>\n",
              "</table>\n",
              "</div>\n",
              "      <button class=\"colab-df-convert\" onclick=\"convertToInteractive('df-129a8ab4-0684-44dc-adb7-f59ace220668')\"\n",
              "              title=\"Convert this dataframe to an interactive table.\"\n",
              "              style=\"display:none;\">\n",
              "        \n",
              "  <svg xmlns=\"http://www.w3.org/2000/svg\" height=\"24px\"viewBox=\"0 0 24 24\"\n",
              "       width=\"24px\">\n",
              "    <path d=\"M0 0h24v24H0V0z\" fill=\"none\"/>\n",
              "    <path d=\"M18.56 5.44l.94 2.06.94-2.06 2.06-.94-2.06-.94-.94-2.06-.94 2.06-2.06.94zm-11 1L8.5 8.5l.94-2.06 2.06-.94-2.06-.94L8.5 2.5l-.94 2.06-2.06.94zm10 10l.94 2.06.94-2.06 2.06-.94-2.06-.94-.94-2.06-.94 2.06-2.06.94z\"/><path d=\"M17.41 7.96l-1.37-1.37c-.4-.4-.92-.59-1.43-.59-.52 0-1.04.2-1.43.59L10.3 9.45l-7.72 7.72c-.78.78-.78 2.05 0 2.83L4 21.41c.39.39.9.59 1.41.59.51 0 1.02-.2 1.41-.59l7.78-7.78 2.81-2.81c.8-.78.8-2.07 0-2.86zM5.41 20L4 18.59l7.72-7.72 1.47 1.35L5.41 20z\"/>\n",
              "  </svg>\n",
              "      </button>\n",
              "      \n",
              "  <style>\n",
              "    .colab-df-container {\n",
              "      display:flex;\n",
              "      flex-wrap:wrap;\n",
              "      gap: 12px;\n",
              "    }\n",
              "\n",
              "    .colab-df-convert {\n",
              "      background-color: #E8F0FE;\n",
              "      border: none;\n",
              "      border-radius: 50%;\n",
              "      cursor: pointer;\n",
              "      display: none;\n",
              "      fill: #1967D2;\n",
              "      height: 32px;\n",
              "      padding: 0 0 0 0;\n",
              "      width: 32px;\n",
              "    }\n",
              "\n",
              "    .colab-df-convert:hover {\n",
              "      background-color: #E2EBFA;\n",
              "      box-shadow: 0px 1px 2px rgba(60, 64, 67, 0.3), 0px 1px 3px 1px rgba(60, 64, 67, 0.15);\n",
              "      fill: #174EA6;\n",
              "    }\n",
              "\n",
              "    [theme=dark] .colab-df-convert {\n",
              "      background-color: #3B4455;\n",
              "      fill: #D2E3FC;\n",
              "    }\n",
              "\n",
              "    [theme=dark] .colab-df-convert:hover {\n",
              "      background-color: #434B5C;\n",
              "      box-shadow: 0px 1px 3px 1px rgba(0, 0, 0, 0.15);\n",
              "      filter: drop-shadow(0px 1px 2px rgba(0, 0, 0, 0.3));\n",
              "      fill: #FFFFFF;\n",
              "    }\n",
              "  </style>\n",
              "\n",
              "      <script>\n",
              "        const buttonEl =\n",
              "          document.querySelector('#df-129a8ab4-0684-44dc-adb7-f59ace220668 button.colab-df-convert');\n",
              "        buttonEl.style.display =\n",
              "          google.colab.kernel.accessAllowed ? 'block' : 'none';\n",
              "\n",
              "        async function convertToInteractive(key) {\n",
              "          const element = document.querySelector('#df-129a8ab4-0684-44dc-adb7-f59ace220668');\n",
              "          const dataTable =\n",
              "            await google.colab.kernel.invokeFunction('convertToInteractive',\n",
              "                                                     [key], {});\n",
              "          if (!dataTable) return;\n",
              "\n",
              "          const docLinkHtml = 'Like what you see? Visit the ' +\n",
              "            '<a target=\"_blank\" href=https://colab.research.google.com/notebooks/data_table.ipynb>data table notebook</a>'\n",
              "            + ' to learn more about interactive tables.';\n",
              "          element.innerHTML = '';\n",
              "          dataTable['output_type'] = 'display_data';\n",
              "          await google.colab.output.renderOutput(dataTable, element);\n",
              "          const docLink = document.createElement('div');\n",
              "          docLink.innerHTML = docLinkHtml;\n",
              "          element.appendChild(docLink);\n",
              "        }\n",
              "      </script>\n",
              "    </div>\n",
              "  </div>\n",
              "  "
            ]
          },
          "metadata": {},
          "execution_count": 59
        }
      ]
    },
    {
      "cell_type": "markdown",
      "source": [
        "# TODO Простые текстовые признаки"
      ],
      "metadata": {
        "id": "TGSEw8mYVVh8"
      }
    },
    {
      "cell_type": "markdown",
      "source": [
        "TODO -> добавить с использованием токенайзера\n",
        "\n",
        "TODO -> иcпользовать три модели functional api"
      ],
      "metadata": {
        "id": "oOwSrd7tRmBR"
      }
    },
    {
      "cell_type": "code",
      "source": [
        "# #~~~~~~~~~~~~~~~~~~~~~~~~\n",
        "# # TODO добавить с использованием токенайзера\n",
        "# #~~~~~~~~~~~~~~~~~~~~~~~~\n",
        "\n",
        "\n",
        "# # Цех\n",
        "# #~~~~~~~~~~~~~~~~~~~~~~~~\n",
        "# # unique_lst = df1['Цех'].unique().tolist()\n",
        "# # print(f'{len(unique_lst)}: {unique_lst}')\n",
        "# nan_lst = df1[df1['Цех'].isnull()].index\n",
        "# print(f'\"Цех\": число строк с пустыми значениями: {len(nan_lst)}')\n",
        "\n",
        "# # Колонка \"Цех\" содержит пустые значения, заполняем их значением \"x\"\n",
        "# df1['Цех'].fillna('x', inplace=True)\n",
        "# nan_lst = df1[df1['Цех'].isnull()].index\n",
        "# print(f'\"Цех\": число строк с пустыми значениями после заполнения значением \"x\": {len(nan_lst)}')\n",
        "\n",
        "# #TODO -> токенайзер"
      ],
      "metadata": {
        "id": "-neMXAVKVcNT"
      },
      "execution_count": 60,
      "outputs": []
    },
    {
      "cell_type": "code",
      "source": [
        "# #Профессия\n",
        "# #~~~~~~~~~~~~~~~~~~~~~~~~\n",
        "# unique_lst = df1['Профессия'].unique().tolist()\n",
        "# print(f'{len(unique_lst)}: {unique_lst}')\n",
        "# nan_lst = df1[df1['Профессия'].isnull()].index\n",
        "# print(f'\"Профессия\": число строк с пустыми значениями: {len(nan_lst)}')\n",
        "\n",
        "# #~~~~~~~~~~~~~~~~~~~~~~~~\n",
        "# # col_inx = df1.columns.get_loc('Профессия')\n",
        "# # col_lst = df1.iloc[:, col_inx].tolist()\n",
        "\n",
        "# #TODO -> токенайзер"
      ],
      "metadata": {
        "id": "uEBkm-SiWoHj"
      },
      "execution_count": 61,
      "outputs": []
    },
    {
      "cell_type": "markdown",
      "source": [
        "# Проверка таблицы на пустые ячейки"
      ],
      "metadata": {
        "id": "a1ZcKAKcRegL"
      }
    },
    {
      "cell_type": "code",
      "source": [
        "print(f'df2 число строк: {df2.shape[0]}')\n",
        "print(f'df2 число колонок: {df2.shape[1]}')\n",
        "\n",
        "nan_cell_count = df2.isna().sum().sum()\n",
        "nan_cell_count_proc = nan_cell_count*100/df2.size\n",
        "print(f'общее количество пропусков во всей таблице df2: {nan_cell_count}, {round(nan_cell_count_proc, 2)}%')"
      ],
      "metadata": {
        "id": "BebmNVEmRkmb",
        "colab": {
          "base_uri": "https://localhost:8080/"
        },
        "outputId": "58c4b4b2-97e8-4dbf-cc74-853a58c297a8"
      },
      "execution_count": 62,
      "outputs": [
        {
          "output_type": "stream",
          "name": "stdout",
          "text": [
            "df2 число строк: 2474\n",
            "df2 число колонок: 10\n",
            "общее количество пропусков во всей таблице df2: 0, 0.0%\n"
          ]
        }
      ]
    },
    {
      "cell_type": "markdown",
      "source": [
        "# Удаляем переменные, которые не используем, чтобы освободить память"
      ],
      "metadata": {
        "id": "2s9nf5lbU2py"
      }
    },
    {
      "cell_type": "code",
      "source": [
        "# # удаление переменных, освобождение памяти\n",
        "\n",
        "del df1\n",
        "# del nan_cell_count\n",
        "# del nan_cell_count_proc\n",
        "# del i_arr\n",
        "# del u_lst\n",
        "# del col_inx\n",
        "# del col_lst\n",
        "# del i_arr2\n",
        "# del ohe_lst2\n",
        "\n",
        "# del age_class_count\n",
        "# del nan_lst\n",
        "\n",
        "# del dispensary_class_count\n",
        "\n",
        "# del u_hf_lst\n",
        "# del harmful_factors_class_count\n",
        "# del nan_inx\n",
        "# del inx\n",
        "\n",
        "# del fragment_str\n",
        "# del mkb_cols\n",
        "# del u_mkb_lst\n",
        "# del mkb_class_count\n",
        "\n",
        "# del f_arr"
      ],
      "metadata": {
        "id": "9W7dTJeZUvRl"
      },
      "execution_count": 63,
      "outputs": []
    },
    {
      "cell_type": "markdown",
      "source": [
        "# Обучение Нейросети\n"
      ],
      "metadata": {
        "id": "EnV9-9CqRU6Z"
      }
    },
    {
      "cell_type": "markdown",
      "source": [
        "## Разделяем на отдельные выборки"
      ],
      "metadata": {
        "id": "NAdIXRz_O7U3"
      }
    },
    {
      "cell_type": "code",
      "source": [
        "print(f'размеры датафрейма df2: {df2.shape}')\n",
        "df2.head(3)"
      ],
      "metadata": {
        "colab": {
          "base_uri": "https://localhost:8080/",
          "height": 161
        },
        "id": "KYXqzIUdhNYw",
        "outputId": "110d2ee2-7b74-4366-d7df-49013b913ea8"
      },
      "execution_count": 64,
      "outputs": [
        {
          "output_type": "stream",
          "name": "stdout",
          "text": [
            "размеры датафрейма df2: (2474, 10)\n"
          ]
        },
        {
          "output_type": "execute_result",
          "data": {
            "text/plain": [
              "  ЗаключениеМКК                            Возраст  КлиентПол  ТипМедосмотра  \\\n",
              "0     [0, 0, 1]  [0, 0, 0, 0, 0, 0, 1, 0, 0, 0, 0]          0              0   \n",
              "1     [0, 0, 1]  [0, 0, 0, 0, 1, 0, 0, 0, 0, 0, 0]          1              0   \n",
              "2     [0, 1, 0]  [0, 0, 0, 0, 1, 0, 0, 0, 0, 0, 0]          1              0   \n",
              "\n",
              "   ПсихОсвидетельствование ДиспансернаяГруппа  \\\n",
              "0                        0    [0, 1, 0, 0, 0]   \n",
              "1                        0    [0, 0, 1, 0, 0]   \n",
              "2                        0    [0, 0, 0, 1, 0]   \n",
              "\n",
              "                                     ВредныеФакторы           МКБ  \\\n",
              "0  [0, 0, 0, 0, 0, 0, 0, 0, 0, 0, 0, 0, 0, 1, 0, 0]  [1, 0, 0, 1]   \n",
              "1  [0, 0, 0, 0, 0, 0, 1, 0, 0, 0, 0, 0, 0, 0, 0, 0]  [1, 1, 0, 1]   \n",
              "2  [0, 0, 0, 0, 0, 0, 1, 0, 0, 0, 0, 0, 0, 0, 0, 0]  [1, 0, 1, 1]   \n",
              "\n",
              "   АртДавление       ИМТ  \n",
              "0     0.599268  0.535597  \n",
              "1     0.599268  0.535597  \n",
              "2     0.599268  0.535597  "
            ],
            "text/html": [
              "\n",
              "  <div id=\"df-306722e1-ec93-4e41-8acd-4f0d4a32faf9\">\n",
              "    <div class=\"colab-df-container\">\n",
              "      <div>\n",
              "<style scoped>\n",
              "    .dataframe tbody tr th:only-of-type {\n",
              "        vertical-align: middle;\n",
              "    }\n",
              "\n",
              "    .dataframe tbody tr th {\n",
              "        vertical-align: top;\n",
              "    }\n",
              "\n",
              "    .dataframe thead th {\n",
              "        text-align: right;\n",
              "    }\n",
              "</style>\n",
              "<table border=\"1\" class=\"dataframe\">\n",
              "  <thead>\n",
              "    <tr style=\"text-align: right;\">\n",
              "      <th></th>\n",
              "      <th>ЗаключениеМКК</th>\n",
              "      <th>Возраст</th>\n",
              "      <th>КлиентПол</th>\n",
              "      <th>ТипМедосмотра</th>\n",
              "      <th>ПсихОсвидетельствование</th>\n",
              "      <th>ДиспансернаяГруппа</th>\n",
              "      <th>ВредныеФакторы</th>\n",
              "      <th>МКБ</th>\n",
              "      <th>АртДавление</th>\n",
              "      <th>ИМТ</th>\n",
              "    </tr>\n",
              "  </thead>\n",
              "  <tbody>\n",
              "    <tr>\n",
              "      <th>0</th>\n",
              "      <td>[0, 0, 1]</td>\n",
              "      <td>[0, 0, 0, 0, 0, 0, 1, 0, 0, 0, 0]</td>\n",
              "      <td>0</td>\n",
              "      <td>0</td>\n",
              "      <td>0</td>\n",
              "      <td>[0, 1, 0, 0, 0]</td>\n",
              "      <td>[0, 0, 0, 0, 0, 0, 0, 0, 0, 0, 0, 0, 0, 1, 0, 0]</td>\n",
              "      <td>[1, 0, 0, 1]</td>\n",
              "      <td>0.599268</td>\n",
              "      <td>0.535597</td>\n",
              "    </tr>\n",
              "    <tr>\n",
              "      <th>1</th>\n",
              "      <td>[0, 0, 1]</td>\n",
              "      <td>[0, 0, 0, 0, 1, 0, 0, 0, 0, 0, 0]</td>\n",
              "      <td>1</td>\n",
              "      <td>0</td>\n",
              "      <td>0</td>\n",
              "      <td>[0, 0, 1, 0, 0]</td>\n",
              "      <td>[0, 0, 0, 0, 0, 0, 1, 0, 0, 0, 0, 0, 0, 0, 0, 0]</td>\n",
              "      <td>[1, 1, 0, 1]</td>\n",
              "      <td>0.599268</td>\n",
              "      <td>0.535597</td>\n",
              "    </tr>\n",
              "    <tr>\n",
              "      <th>2</th>\n",
              "      <td>[0, 1, 0]</td>\n",
              "      <td>[0, 0, 0, 0, 1, 0, 0, 0, 0, 0, 0]</td>\n",
              "      <td>1</td>\n",
              "      <td>0</td>\n",
              "      <td>0</td>\n",
              "      <td>[0, 0, 0, 1, 0]</td>\n",
              "      <td>[0, 0, 0, 0, 0, 0, 1, 0, 0, 0, 0, 0, 0, 0, 0, 0]</td>\n",
              "      <td>[1, 0, 1, 1]</td>\n",
              "      <td>0.599268</td>\n",
              "      <td>0.535597</td>\n",
              "    </tr>\n",
              "  </tbody>\n",
              "</table>\n",
              "</div>\n",
              "      <button class=\"colab-df-convert\" onclick=\"convertToInteractive('df-306722e1-ec93-4e41-8acd-4f0d4a32faf9')\"\n",
              "              title=\"Convert this dataframe to an interactive table.\"\n",
              "              style=\"display:none;\">\n",
              "        \n",
              "  <svg xmlns=\"http://www.w3.org/2000/svg\" height=\"24px\"viewBox=\"0 0 24 24\"\n",
              "       width=\"24px\">\n",
              "    <path d=\"M0 0h24v24H0V0z\" fill=\"none\"/>\n",
              "    <path d=\"M18.56 5.44l.94 2.06.94-2.06 2.06-.94-2.06-.94-.94-2.06-.94 2.06-2.06.94zm-11 1L8.5 8.5l.94-2.06 2.06-.94-2.06-.94L8.5 2.5l-.94 2.06-2.06.94zm10 10l.94 2.06.94-2.06 2.06-.94-2.06-.94-.94-2.06-.94 2.06-2.06.94z\"/><path d=\"M17.41 7.96l-1.37-1.37c-.4-.4-.92-.59-1.43-.59-.52 0-1.04.2-1.43.59L10.3 9.45l-7.72 7.72c-.78.78-.78 2.05 0 2.83L4 21.41c.39.39.9.59 1.41.59.51 0 1.02-.2 1.41-.59l7.78-7.78 2.81-2.81c.8-.78.8-2.07 0-2.86zM5.41 20L4 18.59l7.72-7.72 1.47 1.35L5.41 20z\"/>\n",
              "  </svg>\n",
              "      </button>\n",
              "      \n",
              "  <style>\n",
              "    .colab-df-container {\n",
              "      display:flex;\n",
              "      flex-wrap:wrap;\n",
              "      gap: 12px;\n",
              "    }\n",
              "\n",
              "    .colab-df-convert {\n",
              "      background-color: #E8F0FE;\n",
              "      border: none;\n",
              "      border-radius: 50%;\n",
              "      cursor: pointer;\n",
              "      display: none;\n",
              "      fill: #1967D2;\n",
              "      height: 32px;\n",
              "      padding: 0 0 0 0;\n",
              "      width: 32px;\n",
              "    }\n",
              "\n",
              "    .colab-df-convert:hover {\n",
              "      background-color: #E2EBFA;\n",
              "      box-shadow: 0px 1px 2px rgba(60, 64, 67, 0.3), 0px 1px 3px 1px rgba(60, 64, 67, 0.15);\n",
              "      fill: #174EA6;\n",
              "    }\n",
              "\n",
              "    [theme=dark] .colab-df-convert {\n",
              "      background-color: #3B4455;\n",
              "      fill: #D2E3FC;\n",
              "    }\n",
              "\n",
              "    [theme=dark] .colab-df-convert:hover {\n",
              "      background-color: #434B5C;\n",
              "      box-shadow: 0px 1px 3px 1px rgba(0, 0, 0, 0.15);\n",
              "      filter: drop-shadow(0px 1px 2px rgba(0, 0, 0, 0.3));\n",
              "      fill: #FFFFFF;\n",
              "    }\n",
              "  </style>\n",
              "\n",
              "      <script>\n",
              "        const buttonEl =\n",
              "          document.querySelector('#df-306722e1-ec93-4e41-8acd-4f0d4a32faf9 button.colab-df-convert');\n",
              "        buttonEl.style.display =\n",
              "          google.colab.kernel.accessAllowed ? 'block' : 'none';\n",
              "\n",
              "        async function convertToInteractive(key) {\n",
              "          const element = document.querySelector('#df-306722e1-ec93-4e41-8acd-4f0d4a32faf9');\n",
              "          const dataTable =\n",
              "            await google.colab.kernel.invokeFunction('convertToInteractive',\n",
              "                                                     [key], {});\n",
              "          if (!dataTable) return;\n",
              "\n",
              "          const docLinkHtml = 'Like what you see? Visit the ' +\n",
              "            '<a target=\"_blank\" href=https://colab.research.google.com/notebooks/data_table.ipynb>data table notebook</a>'\n",
              "            + ' to learn more about interactive tables.';\n",
              "          element.innerHTML = '';\n",
              "          dataTable['output_type'] = 'display_data';\n",
              "          await google.colab.output.renderOutput(dataTable, element);\n",
              "          const docLink = document.createElement('div');\n",
              "          docLink.innerHTML = docLinkHtml;\n",
              "          element.appendChild(docLink);\n",
              "        }\n",
              "      </script>\n",
              "    </div>\n",
              "  </div>\n",
              "  "
            ]
          },
          "metadata": {},
          "execution_count": 64
        }
      ]
    },
    {
      "cell_type": "code",
      "source": [
        "# Перемешиваем строки в нашей таблице\n",
        "df2_shuffle = df2.sample(frac=1).reset_index(drop=True)\n",
        "print(f'размеры датафрейма df2_shuffle: {df2_shuffle.shape}')\n",
        "df2_shuffle.head(3)"
      ],
      "metadata": {
        "colab": {
          "base_uri": "https://localhost:8080/",
          "height": 161
        },
        "id": "NtJeHfZsNfJv",
        "outputId": "a81a598d-4558-4d7f-bebc-faa8422037f5"
      },
      "execution_count": 65,
      "outputs": [
        {
          "output_type": "stream",
          "name": "stdout",
          "text": [
            "размеры датафрейма df2_shuffle: (2474, 10)\n"
          ]
        },
        {
          "output_type": "execute_result",
          "data": {
            "text/plain": [
              "  ЗаключениеМКК                            Возраст  КлиентПол  ТипМедосмотра  \\\n",
              "0     [0, 0, 1]  [0, 0, 0, 0, 0, 0, 1, 0, 0, 0, 0]          1              0   \n",
              "1     [1, 0, 0]  [0, 0, 0, 0, 1, 0, 0, 0, 0, 0, 0]          1              0   \n",
              "2     [0, 1, 0]  [0, 0, 0, 0, 0, 0, 0, 0, 0, 1, 0]          0              0   \n",
              "\n",
              "   ПсихОсвидетельствование ДиспансернаяГруппа  \\\n",
              "0                        0    [0, 0, 0, 1, 0]   \n",
              "1                        0    [1, 0, 0, 0, 0]   \n",
              "2                        0    [0, 0, 0, 1, 0]   \n",
              "\n",
              "                                     ВредныеФакторы           МКБ  \\\n",
              "0  [1, 0, 1, 0, 0, 0, 0, 0, 0, 0, 0, 0, 0, 0, 0, 1]  [1, 0, 0, 1]   \n",
              "1  [0, 0, 0, 1, 1, 0, 0, 1, 0, 1, 1, 1, 0, 1, 0, 1]  [1, 0, 0, 1]   \n",
              "2  [0, 0, 0, 0, 0, 0, 1, 0, 0, 0, 0, 0, 0, 0, 0, 0]  [1, 0, 1, 1]   \n",
              "\n",
              "   АртДавление       ИМТ  \n",
              "0     0.500000  0.573694  \n",
              "1     0.599268  0.535597  \n",
              "2     0.600000  0.418174  "
            ],
            "text/html": [
              "\n",
              "  <div id=\"df-d2a00613-5815-4e01-adca-b80ef5140d4f\">\n",
              "    <div class=\"colab-df-container\">\n",
              "      <div>\n",
              "<style scoped>\n",
              "    .dataframe tbody tr th:only-of-type {\n",
              "        vertical-align: middle;\n",
              "    }\n",
              "\n",
              "    .dataframe tbody tr th {\n",
              "        vertical-align: top;\n",
              "    }\n",
              "\n",
              "    .dataframe thead th {\n",
              "        text-align: right;\n",
              "    }\n",
              "</style>\n",
              "<table border=\"1\" class=\"dataframe\">\n",
              "  <thead>\n",
              "    <tr style=\"text-align: right;\">\n",
              "      <th></th>\n",
              "      <th>ЗаключениеМКК</th>\n",
              "      <th>Возраст</th>\n",
              "      <th>КлиентПол</th>\n",
              "      <th>ТипМедосмотра</th>\n",
              "      <th>ПсихОсвидетельствование</th>\n",
              "      <th>ДиспансернаяГруппа</th>\n",
              "      <th>ВредныеФакторы</th>\n",
              "      <th>МКБ</th>\n",
              "      <th>АртДавление</th>\n",
              "      <th>ИМТ</th>\n",
              "    </tr>\n",
              "  </thead>\n",
              "  <tbody>\n",
              "    <tr>\n",
              "      <th>0</th>\n",
              "      <td>[0, 0, 1]</td>\n",
              "      <td>[0, 0, 0, 0, 0, 0, 1, 0, 0, 0, 0]</td>\n",
              "      <td>1</td>\n",
              "      <td>0</td>\n",
              "      <td>0</td>\n",
              "      <td>[0, 0, 0, 1, 0]</td>\n",
              "      <td>[1, 0, 1, 0, 0, 0, 0, 0, 0, 0, 0, 0, 0, 0, 0, 1]</td>\n",
              "      <td>[1, 0, 0, 1]</td>\n",
              "      <td>0.500000</td>\n",
              "      <td>0.573694</td>\n",
              "    </tr>\n",
              "    <tr>\n",
              "      <th>1</th>\n",
              "      <td>[1, 0, 0]</td>\n",
              "      <td>[0, 0, 0, 0, 1, 0, 0, 0, 0, 0, 0]</td>\n",
              "      <td>1</td>\n",
              "      <td>0</td>\n",
              "      <td>0</td>\n",
              "      <td>[1, 0, 0, 0, 0]</td>\n",
              "      <td>[0, 0, 0, 1, 1, 0, 0, 1, 0, 1, 1, 1, 0, 1, 0, 1]</td>\n",
              "      <td>[1, 0, 0, 1]</td>\n",
              "      <td>0.599268</td>\n",
              "      <td>0.535597</td>\n",
              "    </tr>\n",
              "    <tr>\n",
              "      <th>2</th>\n",
              "      <td>[0, 1, 0]</td>\n",
              "      <td>[0, 0, 0, 0, 0, 0, 0, 0, 0, 1, 0]</td>\n",
              "      <td>0</td>\n",
              "      <td>0</td>\n",
              "      <td>0</td>\n",
              "      <td>[0, 0, 0, 1, 0]</td>\n",
              "      <td>[0, 0, 0, 0, 0, 0, 1, 0, 0, 0, 0, 0, 0, 0, 0, 0]</td>\n",
              "      <td>[1, 0, 1, 1]</td>\n",
              "      <td>0.600000</td>\n",
              "      <td>0.418174</td>\n",
              "    </tr>\n",
              "  </tbody>\n",
              "</table>\n",
              "</div>\n",
              "      <button class=\"colab-df-convert\" onclick=\"convertToInteractive('df-d2a00613-5815-4e01-adca-b80ef5140d4f')\"\n",
              "              title=\"Convert this dataframe to an interactive table.\"\n",
              "              style=\"display:none;\">\n",
              "        \n",
              "  <svg xmlns=\"http://www.w3.org/2000/svg\" height=\"24px\"viewBox=\"0 0 24 24\"\n",
              "       width=\"24px\">\n",
              "    <path d=\"M0 0h24v24H0V0z\" fill=\"none\"/>\n",
              "    <path d=\"M18.56 5.44l.94 2.06.94-2.06 2.06-.94-2.06-.94-.94-2.06-.94 2.06-2.06.94zm-11 1L8.5 8.5l.94-2.06 2.06-.94-2.06-.94L8.5 2.5l-.94 2.06-2.06.94zm10 10l.94 2.06.94-2.06 2.06-.94-2.06-.94-.94-2.06-.94 2.06-2.06.94z\"/><path d=\"M17.41 7.96l-1.37-1.37c-.4-.4-.92-.59-1.43-.59-.52 0-1.04.2-1.43.59L10.3 9.45l-7.72 7.72c-.78.78-.78 2.05 0 2.83L4 21.41c.39.39.9.59 1.41.59.51 0 1.02-.2 1.41-.59l7.78-7.78 2.81-2.81c.8-.78.8-2.07 0-2.86zM5.41 20L4 18.59l7.72-7.72 1.47 1.35L5.41 20z\"/>\n",
              "  </svg>\n",
              "      </button>\n",
              "      \n",
              "  <style>\n",
              "    .colab-df-container {\n",
              "      display:flex;\n",
              "      flex-wrap:wrap;\n",
              "      gap: 12px;\n",
              "    }\n",
              "\n",
              "    .colab-df-convert {\n",
              "      background-color: #E8F0FE;\n",
              "      border: none;\n",
              "      border-radius: 50%;\n",
              "      cursor: pointer;\n",
              "      display: none;\n",
              "      fill: #1967D2;\n",
              "      height: 32px;\n",
              "      padding: 0 0 0 0;\n",
              "      width: 32px;\n",
              "    }\n",
              "\n",
              "    .colab-df-convert:hover {\n",
              "      background-color: #E2EBFA;\n",
              "      box-shadow: 0px 1px 2px rgba(60, 64, 67, 0.3), 0px 1px 3px 1px rgba(60, 64, 67, 0.15);\n",
              "      fill: #174EA6;\n",
              "    }\n",
              "\n",
              "    [theme=dark] .colab-df-convert {\n",
              "      background-color: #3B4455;\n",
              "      fill: #D2E3FC;\n",
              "    }\n",
              "\n",
              "    [theme=dark] .colab-df-convert:hover {\n",
              "      background-color: #434B5C;\n",
              "      box-shadow: 0px 1px 3px 1px rgba(0, 0, 0, 0.15);\n",
              "      filter: drop-shadow(0px 1px 2px rgba(0, 0, 0, 0.3));\n",
              "      fill: #FFFFFF;\n",
              "    }\n",
              "  </style>\n",
              "\n",
              "      <script>\n",
              "        const buttonEl =\n",
              "          document.querySelector('#df-d2a00613-5815-4e01-adca-b80ef5140d4f button.colab-df-convert');\n",
              "        buttonEl.style.display =\n",
              "          google.colab.kernel.accessAllowed ? 'block' : 'none';\n",
              "\n",
              "        async function convertToInteractive(key) {\n",
              "          const element = document.querySelector('#df-d2a00613-5815-4e01-adca-b80ef5140d4f');\n",
              "          const dataTable =\n",
              "            await google.colab.kernel.invokeFunction('convertToInteractive',\n",
              "                                                     [key], {});\n",
              "          if (!dataTable) return;\n",
              "\n",
              "          const docLinkHtml = 'Like what you see? Visit the ' +\n",
              "            '<a target=\"_blank\" href=https://colab.research.google.com/notebooks/data_table.ipynb>data table notebook</a>'\n",
              "            + ' to learn more about interactive tables.';\n",
              "          element.innerHTML = '';\n",
              "          dataTable['output_type'] = 'display_data';\n",
              "          await google.colab.output.renderOutput(dataTable, element);\n",
              "          const docLink = document.createElement('div');\n",
              "          docLink.innerHTML = docLinkHtml;\n",
              "          element.appendChild(docLink);\n",
              "        }\n",
              "      </script>\n",
              "    </div>\n",
              "  </div>\n",
              "  "
            ]
          },
          "metadata": {},
          "execution_count": 65
        }
      ]
    },
    {
      "cell_type": "code",
      "source": [
        "# y_data\n",
        "# преобразуем списки в отдельные колонки\n",
        "df_y = df2_shuffle['ЗаключениеМКК'].apply(pd.Series)\n",
        "print(f'размеры датафрейма df4: {df_y.shape}')\n",
        "# преобразуем в numpy массив типа float\n",
        "y_data = df_y.astype(float).to_numpy()\n",
        "print('Количество осей: ', y_data.ndim)\n",
        "print('Форма массива: ', y_data.shape)\n",
        "print('Количество значений: ', y_data.size)"
      ],
      "metadata": {
        "colab": {
          "base_uri": "https://localhost:8080/"
        },
        "id": "rlzyJATTHOPY",
        "outputId": "14ae30c8-aa62-4197-954e-87dfeb0756a3"
      },
      "execution_count": 66,
      "outputs": [
        {
          "output_type": "stream",
          "name": "stdout",
          "text": [
            "размеры датафрейма df4: (2474, 3)\n",
            "Количество осей:  2\n",
            "Форма массива:  (2474, 3)\n",
            "Количество значений:  7422\n"
          ]
        }
      ]
    },
    {
      "cell_type": "code",
      "source": [
        "# x1_data -> категориальные признаки\n",
        "df_x1 = df2_shuffle.drop(['ЗаключениеМКК','АртДавление','ИМТ'], axis = 1)\n",
        "df_x1.head(3)"
      ],
      "metadata": {
        "colab": {
          "base_uri": "https://localhost:8080/",
          "height": 143
        },
        "id": "_1y0KZ0H3UCh",
        "outputId": "498cab3f-15cb-4097-ca8f-cc345c8e72e8"
      },
      "execution_count": 67,
      "outputs": [
        {
          "output_type": "execute_result",
          "data": {
            "text/plain": [
              "                             Возраст  КлиентПол  ТипМедосмотра  \\\n",
              "0  [0, 0, 0, 0, 0, 0, 1, 0, 0, 0, 0]          1              0   \n",
              "1  [0, 0, 0, 0, 1, 0, 0, 0, 0, 0, 0]          1              0   \n",
              "2  [0, 0, 0, 0, 0, 0, 0, 0, 0, 1, 0]          0              0   \n",
              "\n",
              "   ПсихОсвидетельствование ДиспансернаяГруппа  \\\n",
              "0                        0    [0, 0, 0, 1, 0]   \n",
              "1                        0    [1, 0, 0, 0, 0]   \n",
              "2                        0    [0, 0, 0, 1, 0]   \n",
              "\n",
              "                                     ВредныеФакторы           МКБ  \n",
              "0  [1, 0, 1, 0, 0, 0, 0, 0, 0, 0, 0, 0, 0, 0, 0, 1]  [1, 0, 0, 1]  \n",
              "1  [0, 0, 0, 1, 1, 0, 0, 1, 0, 1, 1, 1, 0, 1, 0, 1]  [1, 0, 0, 1]  \n",
              "2  [0, 0, 0, 0, 0, 0, 1, 0, 0, 0, 0, 0, 0, 0, 0, 0]  [1, 0, 1, 1]  "
            ],
            "text/html": [
              "\n",
              "  <div id=\"df-802d2c1d-4fe2-4cc9-89e9-fc71b4e8c229\">\n",
              "    <div class=\"colab-df-container\">\n",
              "      <div>\n",
              "<style scoped>\n",
              "    .dataframe tbody tr th:only-of-type {\n",
              "        vertical-align: middle;\n",
              "    }\n",
              "\n",
              "    .dataframe tbody tr th {\n",
              "        vertical-align: top;\n",
              "    }\n",
              "\n",
              "    .dataframe thead th {\n",
              "        text-align: right;\n",
              "    }\n",
              "</style>\n",
              "<table border=\"1\" class=\"dataframe\">\n",
              "  <thead>\n",
              "    <tr style=\"text-align: right;\">\n",
              "      <th></th>\n",
              "      <th>Возраст</th>\n",
              "      <th>КлиентПол</th>\n",
              "      <th>ТипМедосмотра</th>\n",
              "      <th>ПсихОсвидетельствование</th>\n",
              "      <th>ДиспансернаяГруппа</th>\n",
              "      <th>ВредныеФакторы</th>\n",
              "      <th>МКБ</th>\n",
              "    </tr>\n",
              "  </thead>\n",
              "  <tbody>\n",
              "    <tr>\n",
              "      <th>0</th>\n",
              "      <td>[0, 0, 0, 0, 0, 0, 1, 0, 0, 0, 0]</td>\n",
              "      <td>1</td>\n",
              "      <td>0</td>\n",
              "      <td>0</td>\n",
              "      <td>[0, 0, 0, 1, 0]</td>\n",
              "      <td>[1, 0, 1, 0, 0, 0, 0, 0, 0, 0, 0, 0, 0, 0, 0, 1]</td>\n",
              "      <td>[1, 0, 0, 1]</td>\n",
              "    </tr>\n",
              "    <tr>\n",
              "      <th>1</th>\n",
              "      <td>[0, 0, 0, 0, 1, 0, 0, 0, 0, 0, 0]</td>\n",
              "      <td>1</td>\n",
              "      <td>0</td>\n",
              "      <td>0</td>\n",
              "      <td>[1, 0, 0, 0, 0]</td>\n",
              "      <td>[0, 0, 0, 1, 1, 0, 0, 1, 0, 1, 1, 1, 0, 1, 0, 1]</td>\n",
              "      <td>[1, 0, 0, 1]</td>\n",
              "    </tr>\n",
              "    <tr>\n",
              "      <th>2</th>\n",
              "      <td>[0, 0, 0, 0, 0, 0, 0, 0, 0, 1, 0]</td>\n",
              "      <td>0</td>\n",
              "      <td>0</td>\n",
              "      <td>0</td>\n",
              "      <td>[0, 0, 0, 1, 0]</td>\n",
              "      <td>[0, 0, 0, 0, 0, 0, 1, 0, 0, 0, 0, 0, 0, 0, 0, 0]</td>\n",
              "      <td>[1, 0, 1, 1]</td>\n",
              "    </tr>\n",
              "  </tbody>\n",
              "</table>\n",
              "</div>\n",
              "      <button class=\"colab-df-convert\" onclick=\"convertToInteractive('df-802d2c1d-4fe2-4cc9-89e9-fc71b4e8c229')\"\n",
              "              title=\"Convert this dataframe to an interactive table.\"\n",
              "              style=\"display:none;\">\n",
              "        \n",
              "  <svg xmlns=\"http://www.w3.org/2000/svg\" height=\"24px\"viewBox=\"0 0 24 24\"\n",
              "       width=\"24px\">\n",
              "    <path d=\"M0 0h24v24H0V0z\" fill=\"none\"/>\n",
              "    <path d=\"M18.56 5.44l.94 2.06.94-2.06 2.06-.94-2.06-.94-.94-2.06-.94 2.06-2.06.94zm-11 1L8.5 8.5l.94-2.06 2.06-.94-2.06-.94L8.5 2.5l-.94 2.06-2.06.94zm10 10l.94 2.06.94-2.06 2.06-.94-2.06-.94-.94-2.06-.94 2.06-2.06.94z\"/><path d=\"M17.41 7.96l-1.37-1.37c-.4-.4-.92-.59-1.43-.59-.52 0-1.04.2-1.43.59L10.3 9.45l-7.72 7.72c-.78.78-.78 2.05 0 2.83L4 21.41c.39.39.9.59 1.41.59.51 0 1.02-.2 1.41-.59l7.78-7.78 2.81-2.81c.8-.78.8-2.07 0-2.86zM5.41 20L4 18.59l7.72-7.72 1.47 1.35L5.41 20z\"/>\n",
              "  </svg>\n",
              "      </button>\n",
              "      \n",
              "  <style>\n",
              "    .colab-df-container {\n",
              "      display:flex;\n",
              "      flex-wrap:wrap;\n",
              "      gap: 12px;\n",
              "    }\n",
              "\n",
              "    .colab-df-convert {\n",
              "      background-color: #E8F0FE;\n",
              "      border: none;\n",
              "      border-radius: 50%;\n",
              "      cursor: pointer;\n",
              "      display: none;\n",
              "      fill: #1967D2;\n",
              "      height: 32px;\n",
              "      padding: 0 0 0 0;\n",
              "      width: 32px;\n",
              "    }\n",
              "\n",
              "    .colab-df-convert:hover {\n",
              "      background-color: #E2EBFA;\n",
              "      box-shadow: 0px 1px 2px rgba(60, 64, 67, 0.3), 0px 1px 3px 1px rgba(60, 64, 67, 0.15);\n",
              "      fill: #174EA6;\n",
              "    }\n",
              "\n",
              "    [theme=dark] .colab-df-convert {\n",
              "      background-color: #3B4455;\n",
              "      fill: #D2E3FC;\n",
              "    }\n",
              "\n",
              "    [theme=dark] .colab-df-convert:hover {\n",
              "      background-color: #434B5C;\n",
              "      box-shadow: 0px 1px 3px 1px rgba(0, 0, 0, 0.15);\n",
              "      filter: drop-shadow(0px 1px 2px rgba(0, 0, 0, 0.3));\n",
              "      fill: #FFFFFF;\n",
              "    }\n",
              "  </style>\n",
              "\n",
              "      <script>\n",
              "        const buttonEl =\n",
              "          document.querySelector('#df-802d2c1d-4fe2-4cc9-89e9-fc71b4e8c229 button.colab-df-convert');\n",
              "        buttonEl.style.display =\n",
              "          google.colab.kernel.accessAllowed ? 'block' : 'none';\n",
              "\n",
              "        async function convertToInteractive(key) {\n",
              "          const element = document.querySelector('#df-802d2c1d-4fe2-4cc9-89e9-fc71b4e8c229');\n",
              "          const dataTable =\n",
              "            await google.colab.kernel.invokeFunction('convertToInteractive',\n",
              "                                                     [key], {});\n",
              "          if (!dataTable) return;\n",
              "\n",
              "          const docLinkHtml = 'Like what you see? Visit the ' +\n",
              "            '<a target=\"_blank\" href=https://colab.research.google.com/notebooks/data_table.ipynb>data table notebook</a>'\n",
              "            + ' to learn more about interactive tables.';\n",
              "          element.innerHTML = '';\n",
              "          dataTable['output_type'] = 'display_data';\n",
              "          await google.colab.output.renderOutput(dataTable, element);\n",
              "          const docLink = document.createElement('div');\n",
              "          docLink.innerHTML = docLinkHtml;\n",
              "          element.appendChild(docLink);\n",
              "        }\n",
              "      </script>\n",
              "    </div>\n",
              "  </div>\n",
              "  "
            ]
          },
          "metadata": {},
          "execution_count": 67
        }
      ]
    },
    {
      "cell_type": "code",
      "source": [
        "# x2_data -> числовые признаки\n",
        "df_x2 = df2_shuffle.drop(['ЗаключениеМКК','Возраст','КлиентПол','ТипМедосмотра','ПсихОсвидетельствование','ДиспансернаяГруппа','ВредныеФакторы','МКБ'], axis = 1)\n",
        "df_x2.head(3)"
      ],
      "metadata": {
        "colab": {
          "base_uri": "https://localhost:8080/",
          "height": 143
        },
        "id": "ANOusa1KMpb1",
        "outputId": "933c42f7-9ae3-4b99-aa72-47447ed194ce"
      },
      "execution_count": 68,
      "outputs": [
        {
          "output_type": "execute_result",
          "data": {
            "text/plain": [
              "   АртДавление       ИМТ\n",
              "0     0.500000  0.573694\n",
              "1     0.599268  0.535597\n",
              "2     0.600000  0.418174"
            ],
            "text/html": [
              "\n",
              "  <div id=\"df-388a3168-7400-481c-aca3-d597238dc9f1\">\n",
              "    <div class=\"colab-df-container\">\n",
              "      <div>\n",
              "<style scoped>\n",
              "    .dataframe tbody tr th:only-of-type {\n",
              "        vertical-align: middle;\n",
              "    }\n",
              "\n",
              "    .dataframe tbody tr th {\n",
              "        vertical-align: top;\n",
              "    }\n",
              "\n",
              "    .dataframe thead th {\n",
              "        text-align: right;\n",
              "    }\n",
              "</style>\n",
              "<table border=\"1\" class=\"dataframe\">\n",
              "  <thead>\n",
              "    <tr style=\"text-align: right;\">\n",
              "      <th></th>\n",
              "      <th>АртДавление</th>\n",
              "      <th>ИМТ</th>\n",
              "    </tr>\n",
              "  </thead>\n",
              "  <tbody>\n",
              "    <tr>\n",
              "      <th>0</th>\n",
              "      <td>0.500000</td>\n",
              "      <td>0.573694</td>\n",
              "    </tr>\n",
              "    <tr>\n",
              "      <th>1</th>\n",
              "      <td>0.599268</td>\n",
              "      <td>0.535597</td>\n",
              "    </tr>\n",
              "    <tr>\n",
              "      <th>2</th>\n",
              "      <td>0.600000</td>\n",
              "      <td>0.418174</td>\n",
              "    </tr>\n",
              "  </tbody>\n",
              "</table>\n",
              "</div>\n",
              "      <button class=\"colab-df-convert\" onclick=\"convertToInteractive('df-388a3168-7400-481c-aca3-d597238dc9f1')\"\n",
              "              title=\"Convert this dataframe to an interactive table.\"\n",
              "              style=\"display:none;\">\n",
              "        \n",
              "  <svg xmlns=\"http://www.w3.org/2000/svg\" height=\"24px\"viewBox=\"0 0 24 24\"\n",
              "       width=\"24px\">\n",
              "    <path d=\"M0 0h24v24H0V0z\" fill=\"none\"/>\n",
              "    <path d=\"M18.56 5.44l.94 2.06.94-2.06 2.06-.94-2.06-.94-.94-2.06-.94 2.06-2.06.94zm-11 1L8.5 8.5l.94-2.06 2.06-.94-2.06-.94L8.5 2.5l-.94 2.06-2.06.94zm10 10l.94 2.06.94-2.06 2.06-.94-2.06-.94-.94-2.06-.94 2.06-2.06.94z\"/><path d=\"M17.41 7.96l-1.37-1.37c-.4-.4-.92-.59-1.43-.59-.52 0-1.04.2-1.43.59L10.3 9.45l-7.72 7.72c-.78.78-.78 2.05 0 2.83L4 21.41c.39.39.9.59 1.41.59.51 0 1.02-.2 1.41-.59l7.78-7.78 2.81-2.81c.8-.78.8-2.07 0-2.86zM5.41 20L4 18.59l7.72-7.72 1.47 1.35L5.41 20z\"/>\n",
              "  </svg>\n",
              "      </button>\n",
              "      \n",
              "  <style>\n",
              "    .colab-df-container {\n",
              "      display:flex;\n",
              "      flex-wrap:wrap;\n",
              "      gap: 12px;\n",
              "    }\n",
              "\n",
              "    .colab-df-convert {\n",
              "      background-color: #E8F0FE;\n",
              "      border: none;\n",
              "      border-radius: 50%;\n",
              "      cursor: pointer;\n",
              "      display: none;\n",
              "      fill: #1967D2;\n",
              "      height: 32px;\n",
              "      padding: 0 0 0 0;\n",
              "      width: 32px;\n",
              "    }\n",
              "\n",
              "    .colab-df-convert:hover {\n",
              "      background-color: #E2EBFA;\n",
              "      box-shadow: 0px 1px 2px rgba(60, 64, 67, 0.3), 0px 1px 3px 1px rgba(60, 64, 67, 0.15);\n",
              "      fill: #174EA6;\n",
              "    }\n",
              "\n",
              "    [theme=dark] .colab-df-convert {\n",
              "      background-color: #3B4455;\n",
              "      fill: #D2E3FC;\n",
              "    }\n",
              "\n",
              "    [theme=dark] .colab-df-convert:hover {\n",
              "      background-color: #434B5C;\n",
              "      box-shadow: 0px 1px 3px 1px rgba(0, 0, 0, 0.15);\n",
              "      filter: drop-shadow(0px 1px 2px rgba(0, 0, 0, 0.3));\n",
              "      fill: #FFFFFF;\n",
              "    }\n",
              "  </style>\n",
              "\n",
              "      <script>\n",
              "        const buttonEl =\n",
              "          document.querySelector('#df-388a3168-7400-481c-aca3-d597238dc9f1 button.colab-df-convert');\n",
              "        buttonEl.style.display =\n",
              "          google.colab.kernel.accessAllowed ? 'block' : 'none';\n",
              "\n",
              "        async function convertToInteractive(key) {\n",
              "          const element = document.querySelector('#df-388a3168-7400-481c-aca3-d597238dc9f1');\n",
              "          const dataTable =\n",
              "            await google.colab.kernel.invokeFunction('convertToInteractive',\n",
              "                                                     [key], {});\n",
              "          if (!dataTable) return;\n",
              "\n",
              "          const docLinkHtml = 'Like what you see? Visit the ' +\n",
              "            '<a target=\"_blank\" href=https://colab.research.google.com/notebooks/data_table.ipynb>data table notebook</a>'\n",
              "            + ' to learn more about interactive tables.';\n",
              "          element.innerHTML = '';\n",
              "          dataTable['output_type'] = 'display_data';\n",
              "          await google.colab.output.renderOutput(dataTable, element);\n",
              "          const docLink = document.createElement('div');\n",
              "          docLink.innerHTML = docLinkHtml;\n",
              "          element.appendChild(docLink);\n",
              "        }\n",
              "      </script>\n",
              "    </div>\n",
              "  </div>\n",
              "  "
            ]
          },
          "metadata": {},
          "execution_count": 68
        }
      ]
    },
    {
      "cell_type": "code",
      "source": [
        "# Формируем массив x1_data\n",
        "# трансформируем списки в отдельные колонки (для df_x1)\n",
        "split_col_names = list()\n",
        "split_col_names.append('Возраст')\n",
        "split_col_names.append('ДиспансернаяГруппа')\n",
        "split_col_names.append('ВредныеФакторы')\n",
        "split_col_names.append('МКБ')\n",
        "\n",
        "for col_name in split_col_names:\n",
        "  df_x1 = pd.concat([df_x1.drop(col_name, axis=1), df_x1[col_name].apply(pd.Series)], axis=1)\n",
        "\n",
        "# преобразуем в numpy массив типа float\n",
        "x1_data = df_x1.astype(float).to_numpy()\n",
        "print('Количество осей: ', x1_data.ndim)\n",
        "print('Форма массива: ', x1_data.shape)\n",
        "print('Количество значений: ', x1_data.size)\n",
        "\n",
        "del split_col_names"
      ],
      "metadata": {
        "colab": {
          "base_uri": "https://localhost:8080/"
        },
        "id": "WcUw2tiX7-yO",
        "outputId": "3e3cc017-e76e-4560-863a-f7a264e1b38b"
      },
      "execution_count": 69,
      "outputs": [
        {
          "output_type": "stream",
          "name": "stdout",
          "text": [
            "Количество осей:  2\n",
            "Форма массива:  (2474, 39)\n",
            "Количество значений:  96486\n"
          ]
        }
      ]
    },
    {
      "cell_type": "code",
      "source": [
        "# Формируем массив x2_data\n",
        "x2_data = df_x2.astype(float).to_numpy()\n",
        "print('Количество осей: ', x2_data.ndim)\n",
        "print('Форма массива: ', x2_data.shape)\n",
        "print('Количество значений: ', x2_data.size)"
      ],
      "metadata": {
        "colab": {
          "base_uri": "https://localhost:8080/"
        },
        "id": "tGxLxYTMKeu5",
        "outputId": "9daa32d8-7321-49eb-c414-8f6ee34d37a9"
      },
      "execution_count": 70,
      "outputs": [
        {
          "output_type": "stream",
          "name": "stdout",
          "text": [
            "Количество осей:  2\n",
            "Форма массива:  (2474, 2)\n",
            "Количество значений:  4948\n"
          ]
        }
      ]
    },
    {
      "cell_type": "code",
      "source": [
        "# del df2\n",
        "\n",
        "del df2_shuffle\n",
        "del df_y\n",
        "del df_x1\n",
        "del df_x2"
      ],
      "metadata": {
        "id": "_UyOlN3qJYf4"
      },
      "execution_count": 71,
      "outputs": []
    },
    {
      "cell_type": "markdown",
      "source": [
        "## Общие настройки и функции"
      ],
      "metadata": {
        "id": "Kx3NwSpgwtXM"
      }
    },
    {
      "cell_type": "code",
      "source": [
        "# Переменные-настройки-параметры-для-обучения-сети\n",
        "LEARNING_RATE = 1e-3\n",
        "BATCH_SIZE = 128\n",
        "EPOCHS = 50\n",
        "VERBOSE = 1\n",
        "TEST_SIZE_PERCENT = 0.2\n",
        "\n",
        "#~~~~~~~~~~~~~~~~~~~~~~~~\n",
        "print(f'LEARNING_RATE: {LEARNING_RATE}')\n",
        "print(f'BATCH_SIZE: {BATCH_SIZE}')\n",
        "print(f'EPOCHS: {EPOCHS}')\n",
        "print(f'VERBOSE: {VERBOSE}')\n",
        "print(f'TEST_SIZE_PERCENT: {TEST_SIZE_PERCENT}')"
      ],
      "metadata": {
        "colab": {
          "base_uri": "https://localhost:8080/"
        },
        "id": "DRPTZgOxxMNU",
        "outputId": "e0cad4e2-a4f9-48db-c294-62452c98d964"
      },
      "execution_count": 72,
      "outputs": [
        {
          "output_type": "stream",
          "name": "stdout",
          "text": [
            "LEARNING_RATE: 0.001\n",
            "BATCH_SIZE: 128\n",
            "EPOCHS: 50\n",
            "VERBOSE: 1\n",
            "TEST_SIZE_PERCENT: 0.2\n"
          ]
        }
      ]
    },
    {
      "cell_type": "code",
      "source": [
        "#~~~~~~~~~~~~~~~~~~~~~~~~\n",
        "# Графическое представление результатов работы нейросети\n",
        "#~~~~~~~~~~~~~~~~~~~~~~~~\n",
        "def printNNChart(history_n):\n",
        "  '''\n",
        "    Отображенние на графике результатов работы нейронной сети (Neural Network)\n",
        "    вход:\n",
        "        history_n: массив результатов работы нейросети\n",
        "  '''\n",
        "  # Создание полотна для рисунка\n",
        "  plt.figure(figsize=(18,5))\n",
        "\n",
        "  # Задание первой (левой) области для построения графиков\n",
        "  plt.subplot(1, 2, 1)\n",
        "  # Отрисовка графиков 'loss' и 'val_loss' из значений словаря history.history\n",
        "  plt.plot(history_n.history['loss'],\n",
        "           label = 'Значение ошибки на обучающем наборе')\n",
        "  plt.plot(history_n.history['val_loss'],\n",
        "           label = 'Значение ошибки на проверочном наборе')\n",
        "  # Задание подписей осей\n",
        "  plt.xlabel('Эпоха обучения')\n",
        "  plt.ylabel('Значение ошибки')\n",
        "  plt.legend()\n",
        "  plt.grid(which = 'major', color = 'black', alpha = 0.3)\n",
        "  plt.minorticks_on()\n",
        "  plt.grid(which = 'minor', color = 'gray', linestyle = '--', alpha = 0.3)\n",
        "\n",
        "  # Задание второй (правой) области для построения графиков\n",
        "  plt.subplot(1, 2, 2)\n",
        "  # Отрисовка графиков 'accuracy' и 'val_accuracy' из значений словаря history.history\n",
        "  plt.plot(history_n.history['accuracy'],\n",
        "         label = 'Доля верных ответов на обучающем наборе')\n",
        "  plt.plot(history_n.history['val_accuracy'],\n",
        "           label = 'Доля верных ответов на проверочном наборе')\n",
        "  # Задание подписей осей\n",
        "  plt.xlabel('Эпоха обучения')\n",
        "  plt.ylabel('Доля верных ответов')\n",
        "  plt.legend()\n",
        "  plt.grid(which = 'major', color = 'black', alpha = 0.3)\n",
        "  plt.minorticks_on()\n",
        "  plt.grid(which = 'minor', color = 'gray', linestyle = '--', alpha = 0.3)\n",
        "\n",
        "  # Фиксация графиков и рисование всей картинки\n",
        "  plt.show()"
      ],
      "metadata": {
        "id": "9yLaUl0-xgt8"
      },
      "execution_count": 73,
      "outputs": []
    },
    {
      "cell_type": "markdown",
      "source": [
        "## Простая нейронка на категориальных признаках"
      ],
      "metadata": {
        "id": "EIFcB3oGPJgt"
      }
    },
    {
      "cell_type": "code",
      "source": [
        "# Создание обучающей и тестовой выборки\n",
        "x_train, x_test, y_train, y_test = train_test_split(x1_data, # набор параметров\n",
        "                                                    y_data, # набор меток классов\n",
        "                                                    test_size=TEST_SIZE_PERCENT, # процент в тестовую\n",
        "                                                    shuffle=True, #  перемешивание\n",
        "                                                    random_state=3) # воспроизводимость\n",
        "# Выведем размерность полученных выборок\n",
        "print('Обучающая выборка параметров', x_train.shape)\n",
        "print('Обучающая выборка меток классов', y_train.shape)\n",
        "print()\n",
        "print('Тестовая выборка параметров', x_test.shape)\n",
        "print('Тестовая выборка меток классов', y_test.shape)"
      ],
      "metadata": {
        "id": "JNGWqEsirY5g",
        "colab": {
          "base_uri": "https://localhost:8080/"
        },
        "outputId": "682e44fd-2cda-459f-95c4-9fa2fc75d7da"
      },
      "execution_count": 74,
      "outputs": [
        {
          "output_type": "stream",
          "name": "stdout",
          "text": [
            "Обучающая выборка параметров (1979, 39)\n",
            "Обучающая выборка меток классов (1979, 3)\n",
            "\n",
            "Тестовая выборка параметров (495, 39)\n",
            "Тестовая выборка меток классов (495, 3)\n"
          ]
        }
      ]
    },
    {
      "cell_type": "code",
      "source": [
        "# Создание модели\n",
        "model1 = Sequential()\n",
        "\n",
        "# Добавление слоев\n",
        "model1.add(Dense(60, input_dim=x_train.shape[1], activation='relu'))\n",
        "\n",
        "model1.add(BatchNormalization())\n",
        "model1.add(Dropout(0.2))\n",
        "model1.add(Dense(30))\n",
        "\n",
        "model1.add(BatchNormalization())\n",
        "model1.add(Dropout(0.2))\n",
        "model1.add(Dense(10))\n",
        "\n",
        "model1.add(Dense(3, activation = 'softmax'))"
      ],
      "metadata": {
        "id": "gDSNkDBwxiqy"
      },
      "execution_count": 75,
      "outputs": []
    },
    {
      "cell_type": "code",
      "source": [
        "# Компиляция\n",
        "model1.compile(loss='categorical_crossentropy', \n",
        "               optimizer=Adam(learning_rate=LEARNING_RATE), \n",
        "               metrics=['accuracy'])"
      ],
      "metadata": {
        "id": "FW33Z1cyRPir"
      },
      "execution_count": 76,
      "outputs": []
    },
    {
      "cell_type": "code",
      "source": [
        "# Обучение нейронной сети\n",
        "history1 = model1.fit(x_train,                             # Обучающая выборка параметров\n",
        "                      y_train,                             # Обучающая выборка меток класса\n",
        "                      batch_size=BATCH_SIZE,               # Размер батча (пакета)\n",
        "                      epochs=EPOCHS,                       # Количество эпох обучения\n",
        "                      validation_split=TEST_SIZE_PERCENT,  # Доля проверочной выборки\n",
        "                      verbose=VERBOSE)                     # Отображение хода обучения"
      ],
      "metadata": {
        "colab": {
          "base_uri": "https://localhost:8080/"
        },
        "id": "k62UzzXMQwBT",
        "outputId": "ea247078-d8bc-481d-cffd-2452001b5432"
      },
      "execution_count": 77,
      "outputs": [
        {
          "output_type": "stream",
          "name": "stdout",
          "text": [
            "Epoch 1/50\n",
            "13/13 [==============================] - 3s 36ms/step - loss: 1.3579 - accuracy: 0.4371 - val_loss: 0.8893 - val_accuracy: 0.6692\n",
            "Epoch 2/50\n",
            "13/13 [==============================] - 0s 8ms/step - loss: 0.8391 - accuracy: 0.6507 - val_loss: 0.7976 - val_accuracy: 0.8611\n",
            "Epoch 3/50\n",
            "13/13 [==============================] - 0s 8ms/step - loss: 0.6708 - accuracy: 0.7252 - val_loss: 0.7310 - val_accuracy: 0.7879\n",
            "Epoch 4/50\n",
            "13/13 [==============================] - 0s 7ms/step - loss: 0.5637 - accuracy: 0.7827 - val_loss: 0.6737 - val_accuracy: 0.8005\n",
            "Epoch 5/50\n",
            "13/13 [==============================] - 0s 6ms/step - loss: 0.4926 - accuracy: 0.8143 - val_loss: 0.6288 - val_accuracy: 0.7980\n",
            "Epoch 6/50\n",
            "13/13 [==============================] - 0s 5ms/step - loss: 0.4475 - accuracy: 0.8200 - val_loss: 0.5922 - val_accuracy: 0.7904\n",
            "Epoch 7/50\n",
            "13/13 [==============================] - 0s 5ms/step - loss: 0.4119 - accuracy: 0.8231 - val_loss: 0.5582 - val_accuracy: 0.7980\n",
            "Epoch 8/50\n",
            "13/13 [==============================] - 0s 6ms/step - loss: 0.3928 - accuracy: 0.8629 - val_loss: 0.5349 - val_accuracy: 0.8056\n",
            "Epoch 9/50\n",
            "13/13 [==============================] - 0s 6ms/step - loss: 0.3298 - accuracy: 0.8692 - val_loss: 0.5106 - val_accuracy: 0.8056\n",
            "Epoch 10/50\n",
            "13/13 [==============================] - 0s 6ms/step - loss: 0.3130 - accuracy: 0.8737 - val_loss: 0.4804 - val_accuracy: 0.8056\n",
            "Epoch 11/50\n",
            "13/13 [==============================] - 0s 6ms/step - loss: 0.3188 - accuracy: 0.8743 - val_loss: 0.4544 - val_accuracy: 0.8056\n",
            "Epoch 12/50\n",
            "13/13 [==============================] - 0s 5ms/step - loss: 0.2946 - accuracy: 0.8774 - val_loss: 0.4280 - val_accuracy: 0.8056\n",
            "Epoch 13/50\n",
            "13/13 [==============================] - 0s 7ms/step - loss: 0.2955 - accuracy: 0.8857 - val_loss: 0.4074 - val_accuracy: 0.8763\n",
            "Epoch 14/50\n",
            "13/13 [==============================] - 0s 6ms/step - loss: 0.2722 - accuracy: 0.8945 - val_loss: 0.3910 - val_accuracy: 0.8763\n",
            "Epoch 15/50\n",
            "13/13 [==============================] - 0s 5ms/step - loss: 0.2553 - accuracy: 0.8958 - val_loss: 0.3701 - val_accuracy: 0.8737\n",
            "Epoch 16/50\n",
            "13/13 [==============================] - 0s 6ms/step - loss: 0.2501 - accuracy: 0.8996 - val_loss: 0.3517 - val_accuracy: 0.8889\n",
            "Epoch 17/50\n",
            "13/13 [==============================] - 0s 5ms/step - loss: 0.2507 - accuracy: 0.8913 - val_loss: 0.3406 - val_accuracy: 0.8813\n",
            "Epoch 18/50\n",
            "13/13 [==============================] - 0s 6ms/step - loss: 0.2370 - accuracy: 0.8996 - val_loss: 0.3193 - val_accuracy: 0.8914\n",
            "Epoch 19/50\n",
            "13/13 [==============================] - 0s 5ms/step - loss: 0.2351 - accuracy: 0.8970 - val_loss: 0.3034 - val_accuracy: 0.8889\n",
            "Epoch 20/50\n",
            "13/13 [==============================] - 0s 6ms/step - loss: 0.2366 - accuracy: 0.9059 - val_loss: 0.2937 - val_accuracy: 0.8864\n",
            "Epoch 21/50\n",
            "13/13 [==============================] - 0s 5ms/step - loss: 0.2182 - accuracy: 0.9027 - val_loss: 0.2823 - val_accuracy: 0.8838\n",
            "Epoch 22/50\n",
            "13/13 [==============================] - 0s 5ms/step - loss: 0.2242 - accuracy: 0.9052 - val_loss: 0.2736 - val_accuracy: 0.8990\n",
            "Epoch 23/50\n",
            "13/13 [==============================] - 0s 5ms/step - loss: 0.2168 - accuracy: 0.9116 - val_loss: 0.2621 - val_accuracy: 0.8990\n",
            "Epoch 24/50\n",
            "13/13 [==============================] - 0s 5ms/step - loss: 0.2171 - accuracy: 0.9078 - val_loss: 0.2500 - val_accuracy: 0.8965\n",
            "Epoch 25/50\n",
            "13/13 [==============================] - 0s 5ms/step - loss: 0.1837 - accuracy: 0.9286 - val_loss: 0.2450 - val_accuracy: 0.9015\n",
            "Epoch 26/50\n",
            "13/13 [==============================] - 0s 6ms/step - loss: 0.1918 - accuracy: 0.9204 - val_loss: 0.2390 - val_accuracy: 0.8990\n",
            "Epoch 27/50\n",
            "13/13 [==============================] - 0s 5ms/step - loss: 0.1978 - accuracy: 0.9166 - val_loss: 0.2355 - val_accuracy: 0.8939\n",
            "Epoch 28/50\n",
            "13/13 [==============================] - 0s 7ms/step - loss: 0.1747 - accuracy: 0.9242 - val_loss: 0.2344 - val_accuracy: 0.8889\n",
            "Epoch 29/50\n",
            "13/13 [==============================] - 0s 5ms/step - loss: 0.1902 - accuracy: 0.9217 - val_loss: 0.2316 - val_accuracy: 0.8914\n",
            "Epoch 30/50\n",
            "13/13 [==============================] - 0s 6ms/step - loss: 0.1696 - accuracy: 0.9324 - val_loss: 0.2303 - val_accuracy: 0.8939\n",
            "Epoch 31/50\n",
            "13/13 [==============================] - 0s 5ms/step - loss: 0.1904 - accuracy: 0.9128 - val_loss: 0.2288 - val_accuracy: 0.8965\n",
            "Epoch 32/50\n",
            "13/13 [==============================] - 0s 6ms/step - loss: 0.1773 - accuracy: 0.9255 - val_loss: 0.2283 - val_accuracy: 0.8965\n",
            "Epoch 33/50\n",
            "13/13 [==============================] - 0s 5ms/step - loss: 0.1738 - accuracy: 0.9242 - val_loss: 0.2299 - val_accuracy: 0.8965\n",
            "Epoch 34/50\n",
            "13/13 [==============================] - 0s 6ms/step - loss: 0.1759 - accuracy: 0.9318 - val_loss: 0.2322 - val_accuracy: 0.8939\n",
            "Epoch 35/50\n",
            "13/13 [==============================] - 0s 5ms/step - loss: 0.1680 - accuracy: 0.9299 - val_loss: 0.2300 - val_accuracy: 0.8889\n",
            "Epoch 36/50\n",
            "13/13 [==============================] - 0s 5ms/step - loss: 0.1705 - accuracy: 0.9223 - val_loss: 0.2279 - val_accuracy: 0.8914\n",
            "Epoch 37/50\n",
            "13/13 [==============================] - 0s 6ms/step - loss: 0.1712 - accuracy: 0.9204 - val_loss: 0.2280 - val_accuracy: 0.8889\n",
            "Epoch 38/50\n",
            "13/13 [==============================] - 0s 6ms/step - loss: 0.1645 - accuracy: 0.9267 - val_loss: 0.2315 - val_accuracy: 0.8889\n",
            "Epoch 39/50\n",
            "13/13 [==============================] - 0s 5ms/step - loss: 0.1525 - accuracy: 0.9394 - val_loss: 0.2282 - val_accuracy: 0.8939\n",
            "Epoch 40/50\n",
            "13/13 [==============================] - 0s 5ms/step - loss: 0.1635 - accuracy: 0.9210 - val_loss: 0.2290 - val_accuracy: 0.8965\n",
            "Epoch 41/50\n",
            "13/13 [==============================] - 0s 6ms/step - loss: 0.1483 - accuracy: 0.9318 - val_loss: 0.2339 - val_accuracy: 0.8990\n",
            "Epoch 42/50\n",
            "13/13 [==============================] - 0s 6ms/step - loss: 0.1564 - accuracy: 0.9330 - val_loss: 0.2278 - val_accuracy: 0.9015\n",
            "Epoch 43/50\n",
            "13/13 [==============================] - 0s 5ms/step - loss: 0.1566 - accuracy: 0.9362 - val_loss: 0.2242 - val_accuracy: 0.8990\n",
            "Epoch 44/50\n",
            "13/13 [==============================] - 0s 5ms/step - loss: 0.1458 - accuracy: 0.9419 - val_loss: 0.2277 - val_accuracy: 0.8965\n",
            "Epoch 45/50\n",
            "13/13 [==============================] - 0s 5ms/step - loss: 0.1472 - accuracy: 0.9400 - val_loss: 0.2343 - val_accuracy: 0.8965\n",
            "Epoch 46/50\n",
            "13/13 [==============================] - 0s 5ms/step - loss: 0.1612 - accuracy: 0.9387 - val_loss: 0.2405 - val_accuracy: 0.8965\n",
            "Epoch 47/50\n",
            "13/13 [==============================] - 0s 5ms/step - loss: 0.1655 - accuracy: 0.9356 - val_loss: 0.2334 - val_accuracy: 0.8990\n",
            "Epoch 48/50\n",
            "13/13 [==============================] - 0s 5ms/step - loss: 0.1412 - accuracy: 0.9394 - val_loss: 0.2325 - val_accuracy: 0.9015\n",
            "Epoch 49/50\n",
            "13/13 [==============================] - 0s 5ms/step - loss: 0.1419 - accuracy: 0.9425 - val_loss: 0.2341 - val_accuracy: 0.9040\n",
            "Epoch 50/50\n",
            "13/13 [==============================] - 0s 5ms/step - loss: 0.1418 - accuracy: 0.9400 - val_loss: 0.2387 - val_accuracy: 0.9040\n"
          ]
        }
      ]
    },
    {
      "cell_type": "code",
      "source": [
        "# Отобразим результаты на графике\n",
        "printNNChart(history1)"
      ],
      "metadata": {
        "colab": {
          "base_uri": "https://localhost:8080/",
          "height": 465
        },
        "id": "TsYLPRY61WWa",
        "outputId": "68c0a83a-31c6-43eb-b1d9-a930dd59a388"
      },
      "execution_count": 78,
      "outputs": [
        {
          "output_type": "display_data",
          "data": {
            "text/plain": [
              "<Figure size 1800x500 with 2 Axes>"
            ],
            "image/png": "[encoded data removed]"
          },
          "metadata": {}
        }
      ]
    },
    {
      "cell_type": "code",
      "source": [
        "# Оценим результат работы нашей сети.\n",
        "# Применим метод .evaluate() к нашей модели, в качестве параметров \n",
        "# передадим ему тестовые выборки и согласие на отображение хода вычисления.\n",
        "\n",
        "scores1 = model1.evaluate(x_test,\n",
        "                          y_test,\n",
        "                          verbose=1)\n",
        "\n",
        "print('Процент верных ответов на тестовых данных:', round(scores1[1],2) * 100, '%')"
      ],
      "metadata": {
        "colab": {
          "base_uri": "https://localhost:8080/"
        },
        "id": "5pOL29ttV2fB",
        "outputId": "1599adc7-169f-47b1-9359-90401bec4bb5"
      },
      "execution_count": 79,
      "outputs": [
        {
          "output_type": "stream",
          "name": "stdout",
          "text": [
            "16/16 [==============================] - 0s 4ms/step - loss: 0.2120 - accuracy: 0.8889\n",
            "Процент верных ответов на тестовых данных: 89.0 %\n"
          ]
        }
      ]
    },
    {
      "cell_type": "code",
      "source": [
        "# Вывод значения точности распознавания на проверочной выборке по эпохам\n",
        "print(f'Эпохи: {EPOCHS}')\n",
        "print(\"=\"*50)\n",
        "\n",
        "# val_accuracy\n",
        "val_acc1 = history1.history['val_accuracy']\n",
        "i_max = 0\n",
        "val_acc_max = -1.0\n",
        "for i in range(EPOCHS):\n",
        "  # print(f'{i}->{EPOCHS}: {round(val_acc1[i], 3)}%')\n",
        "  if val_acc1[i] > val_acc_max:\n",
        "    val_acc_max = val_acc1[i]\n",
        "    i_max = i\n",
        "\n",
        "print(f'Самая точная нейронка под номером: {i_max} из {EPOCHS} эпох')\n",
        "print(f'  достигла точности: {round(val_acc1[i]*100., 3)}%')"
      ],
      "metadata": {
        "colab": {
          "base_uri": "https://localhost:8080/"
        },
        "id": "QHbWPXgz5LRK",
        "outputId": "325f3f0d-763a-48c7-e4ad-7ab604a87c9a"
      },
      "execution_count": 130,
      "outputs": [
        {
          "output_type": "stream",
          "name": "stdout",
          "text": [
            "Эпохи: 50\n",
            "==================================================\n",
            "Самая точная нейронка под номером: 48 из 50 эпох\n",
            "  достигла точности: 90.404%\n"
          ]
        }
      ]
    },
    {
      "cell_type": "markdown",
      "source": [
        "## F1Score"
      ],
      "metadata": {
        "id": "EIZY7qaTFIbC"
      }
    },
    {
      "cell_type": "code",
      "source": [
        "# Распознавание ЗаключениеМК на тестовой выборке\n",
        "# x_test, y_test -> массивы, которые не принимали участия в обучении нейронки\n",
        "print('x_test, y_test -> массивы, которые не принимали участия в обучении нейронки:')\n",
        "print('  x_test:')\n",
        "print('    Количество осей: ',x_test.ndim)\n",
        "print('    Форма массива: ',x_test.shape)\n",
        "print('    Количество значений: ',x_test.size)\n",
        "print('  y_test:')\n",
        "print('    Количество осей: ',y_test.ndim)\n",
        "print('    Форма массива: ',y_test.shape)\n",
        "print('    Количество значений: ',y_test.size)"
      ],
      "metadata": {
        "colab": {
          "base_uri": "https://localhost:8080/"
        },
        "id": "cKO7235TGlaK",
        "outputId": "4e2e9180-c8ee-4713-d710-0556bc8b8414"
      },
      "execution_count": 100,
      "outputs": [
        {
          "output_type": "stream",
          "name": "stdout",
          "text": [
            "x_test, y_test -> массивы, которые не принимали участия в обучении нейронки:\n",
            "  x_test:\n",
            "    Количество осей:  2\n",
            "    Форма массива:  (495, 39)\n",
            "    Количество значений:  19305\n",
            "  y_test:\n",
            "    Количество осей:  2\n",
            "    Форма массива:  (495, 3)\n",
            "    Количество значений:  1485\n"
          ]
        }
      ]
    },
    {
      "cell_type": "code",
      "source": [
        "# print(f'x_test.shape[0]: {x_test.shape[0]}, x_test.shape[1]: {x_test.shape[1]}')\n",
        "# print(f'y_test.shape[0]: {y_test.shape[0]}, y_test.shape[1]: {y_test.shape[1]}')\n",
        "\n",
        "pred1 = model1.predict(x_test)\n",
        "\n",
        "# У нас три класса:\n",
        "# 0 - негоден, 1 - годен с ограничениями, 2 - годен\n",
        "# Подсчитаем по каждому верное и неверное предсказания\n",
        "arr_true = np.zeros(3, dtype=int)\n",
        "arr_false = np.zeros(3, dtype=int)\n",
        "\n",
        "# print(arr_true)\n",
        "# print(arr_false)\n",
        "\n",
        "for i in range(y_test.shape[0]):\n",
        "  # print(f'{i}->{y_test.shape[0]}: {y_test[i,:]}')\n",
        "  # Получение индекса самого большого элемента\n",
        "  y_inx_max = np.argmax(y_test[i,:])\n",
        "  # print(f'  y_inx_max: {y_inx_max}')\n",
        "  #~~~\n",
        "  # print(f'{i}->{pred1.shape[0]}: {pred1[i,:]}')\n",
        "  pred_inx_max = np.argmax(pred1[i,:])\n",
        "  # print(f'  pred_inx_max: {pred_inx_max}')\n",
        "  #~~~\n",
        "  if y_inx_max == pred_inx_max:\n",
        "    # верное предсказание\n",
        "    arr_true[y_inx_max] += 1\n",
        "  else:\n",
        "    # неверное предсказания\n",
        "    arr_false[y_inx_max] += 1\n",
        "\n",
        "# Результаты предсказаний по тестовой выборке\n",
        "print('Результаты предсказаний по тестовой выборке:')\n",
        "print(f'  размер тествой выборки: {y_test.shape[0]}')\n",
        "print(f'  0 - негоден, предсказания:')\n",
        "print(f'     верное: {arr_true[0]}')\n",
        "print(f'     неверное: {arr_false[0]}')\n",
        "print(f'  1 - годен с ограничениями, предсказания:')\n",
        "print(f'     верное: {arr_true[1]}')\n",
        "print(f'     неверное: {arr_false[1]}')\n",
        "print(f'  2 - годен:')\n",
        "print(f'     верное: {arr_true[2]}')\n",
        "print(f'     неверное: {arr_false[2]}')\n",
        "\n",
        "print('проверочная сумма:')\n",
        "\n",
        "print(f'  {y_test.shape[0]} -> {arr_true[0]+arr_false[0]+arr_true[1]+arr_false[1]+arr_true[2]+arr_false[2]}')"
      ],
      "metadata": {
        "colab": {
          "base_uri": "https://localhost:8080/"
        },
        "id": "4Vw2hVe0G_kZ",
        "outputId": "6385641c-474d-44f7-db88-c831e20856cc"
      },
      "execution_count": 120,
      "outputs": [
        {
          "output_type": "stream",
          "name": "stdout",
          "text": [
            "16/16 [==============================] - 0s 1ms/step\n",
            "Результаты предсказаний по тестовой выборке:\n",
            "  размер тествой выборки: 495\n",
            "  0 - негоден, предсказания:\n",
            "     верное: 78\n",
            "     неверное: 0\n",
            "  1 - годен с ограничениями, предсказания:\n",
            "     верное: 112\n",
            "     неверное: 29\n",
            "  2 - годен:\n",
            "     верное: 250\n",
            "     неверное: 26\n",
            "проверочная сумма:\n",
            "  495 -> 495\n"
          ]
        }
      ]
    },
    {
      "cell_type": "code",
      "source": [
        "# Импортирум саму библиотеку Seaborn и указываем, что будем использовать ее под псевдонимом sns\n",
        "import seaborn as sns\n",
        "\n",
        "conclusion_lst = ['негоден', 'годен с ограничениями', 'годен']\n",
        "\n",
        "df_conclusion = pd.DataFrame({'ЗаключениеМК': ['негоден','негоден','годен с ограничениями','годен с ограничениями','годен','годен'],\n",
        "                              'Предсказание': ['верное','неверное','верное','неверное','верное','неверное'],\n",
        "                              'Число ответов': [arr_true[0],arr_false[0],arr_true[1],arr_false[1],arr_true[2],arr_false[2]]})\n",
        "\n",
        "sns.barplot(x=\"ЗаключениеМК\", y=\"Число ответов\", hue=\"Предсказание\", data=df_conclusion)\n",
        "# df_conclusion"
      ],
      "metadata": {
        "colab": {
          "base_uri": "https://localhost:8080/",
          "height": 467
        },
        "id": "oOnzTUpdS9Vt",
        "outputId": "fc4da1d0-6993-4e5a-d92b-5219d3cf1e8f"
      },
      "execution_count": 124,
      "outputs": [
        {
          "output_type": "execute_result",
          "data": {
            "text/plain": [
              "<Axes: xlabel='ЗаключениеМК', ylabel='Число ответов'>"
            ]
          },
          "metadata": {},
          "execution_count": 124
        },
        {
          "output_type": "display_data",
          "data": {
            "text/plain": [
              "<Figure size 640x480 with 1 Axes>"
            ],
            "image/png": "[encoded data removed]"
          },
          "metadata": {}
        }
      ]
    },
    {
      "cell_type": "markdown",
      "source": [
        "## Модель FunctionalAPI (Составная нейронка)"
      ],
      "metadata": {
        "id": "rDXBs0uwYiHQ"
      }
    },
    {
      "cell_type": "code",
      "source": [
        "print('y_data:')\n",
        "print('  Количество осей: ',y_data.ndim)\n",
        "print('  Форма массива: ',y_data.shape)\n",
        "print('  Количество значений: ',y_data.size)\n",
        "\n",
        "print('x1_data:')\n",
        "print('  Количество осей: ',x1_data.ndim)\n",
        "print('  Форма массива: ',x1_data.shape)\n",
        "print('  Количество значений: ',x1_data.size)\n",
        "\n",
        "print('x2_data:')\n",
        "print('  Количество осей: ',x2_data.ndim)\n",
        "print('  Форма массива: ',x2_data.shape)\n",
        "print('  Количество значений: ',x2_data.size)\n",
        "\n",
        "#~~~~~~~~~~~~~~~~~~~~~~~~\n",
        "input1 = Input((x1_data.shape[1],))\n",
        "input2 = Input((x2_data.shape[1],))\n",
        "# input3 = Input((x3_data.shape[1],))\n",
        "\n",
        "#~~~~~~~~~~~~~~~~~~~~~~~~\n",
        "# Создаем ветку х1\n",
        "# x1 = BatchNormalization()(input1) # Создаем ветку х1\n",
        "# x1 = Dropout(0.5)(x1)\n",
        "# x1 = Dense(10, activation=\"relu\")(x1)\n",
        "# x1 = Dense(1000, activation=\"relu\")(x1)\n",
        "# x1 = Dense(100, activation = \"relu\")(x1)\n",
        "\n",
        "x1 = Dense(60, activation=\"relu\")(input1)\n",
        "\n",
        "x1 = BatchNormalization()(x1)\n",
        "x1 = Dropout(0.2)(x1)\n",
        "x1 = Dense(30, activation=\"relu\")(x1)\n",
        "\n",
        "x1 = BatchNormalization()(x1)\n",
        "x1 = Dropout(0.2)(x1)\n",
        "x1 = Dense(10, activation=\"relu\")(x1)\n",
        "\n",
        "#~~~~~~~~~~~~~~~~~~~~~~~~\n",
        "# Создаем ветку х2\n",
        "x2 = Dense(60, activation=\"relu\")(input2)\n",
        "\n",
        "x2 = BatchNormalization()(x2)\n",
        "x2 = Dropout(0.2)(x2)\n",
        "x2 = Dense(30, activation=\"relu\")(x2)\n",
        "\n",
        "x2 = BatchNormalization()(x2)\n",
        "x2 = Dropout(0.2)(x2)\n",
        "x2 = Dense(10, activation=\"relu\")(x2)\n",
        "\n",
        "#~~~~~~~~~~~~~~~~~~~~~~~~\n",
        "# Объединяем все две(три) ветки\n",
        "x = concatenate([x1, x2])\n",
        "x = Dense(5, activation='relu')(x)\n",
        "x = Dropout(0.5)(x)\n",
        "# Финальные нейроны\n",
        "x = Dense(3, activation='softmax')(x) \n",
        "\n",
        "#~~~~~~~~~~~~~~~~~~~~~~~~\n",
        "# В Model загружаем стартовые и последнюю точки \n",
        "model2 = Model((input1, input2), x)\n"
      ],
      "metadata": {
        "colab": {
          "base_uri": "https://localhost:8080/"
        },
        "id": "5QHPAY-uaPgP",
        "outputId": "39fc1379-af45-4216-fa37-df87b69abd41"
      },
      "execution_count": 125,
      "outputs": [
        {
          "output_type": "stream",
          "name": "stdout",
          "text": [
            "y_data:\n",
            "  Количество осей:  2\n",
            "  Форма массива:  (2474, 3)\n",
            "  Количество значений:  7422\n",
            "x1_data:\n",
            "  Количество осей:  2\n",
            "  Форма массива:  (2474, 39)\n",
            "  Количество значений:  96486\n",
            "x2_data:\n",
            "  Количество осей:  2\n",
            "  Форма массива:  (2474, 2)\n",
            "  Количество значений:  4948\n"
          ]
        }
      ]
    },
    {
      "cell_type": "code",
      "source": [
        "# Компиляция\n",
        "model2.compile(loss='categorical_crossentropy', \n",
        "               optimizer=Adam(learning_rate=LEARNING_RATE), \n",
        "               metrics=['accuracy'])"
      ],
      "metadata": {
        "id": "Ys-xgXwneXaV"
      },
      "execution_count": 126,
      "outputs": []
    },
    {
      "cell_type": "code",
      "source": [
        "# history2 = model2.fit([xTrain01[:50000], xTrainRez01[:50000]], \n",
        "#                     yTrain[:50000], \n",
        "#                     epochs= 80, \n",
        "#                     validation_data=([xTrain01[50000:], xTrainRez01[50000:]], \n",
        "#                     yTrain[50000:]), \n",
        "#                     verbose=1, shuffle=True)\n",
        "\n",
        "history2 = model2.fit([x1_data[:1800], x2_data[:1800]], \n",
        "                      y_data[:1800], \n",
        "                      epochs= 50, \n",
        "                      validation_data=([x1_data[1800:], x2_data[1800:]], \n",
        "                      y_data[1800:]), \n",
        "                      verbose=1, shuffle=True)"
      ],
      "metadata": {
        "colab": {
          "base_uri": "https://localhost:8080/"
        },
        "id": "3-ESEsgNei5V",
        "outputId": "6efa7b31-6968-4751-9329-44081d78dd80"
      },
      "execution_count": 127,
      "outputs": [
        {
          "output_type": "stream",
          "name": "stdout",
          "text": [
            "Epoch 1/50\n",
            "57/57 [==============================] - 4s 9ms/step - loss: 1.0984 - accuracy: 0.5222 - val_loss: 1.0566 - val_accuracy: 0.5801\n",
            "Epoch 2/50\n",
            "57/57 [==============================] - 0s 4ms/step - loss: 0.9298 - accuracy: 0.5761 - val_loss: 0.9946 - val_accuracy: 0.5801\n",
            "Epoch 3/50\n",
            "57/57 [==============================] - 0s 4ms/step - loss: 0.8750 - accuracy: 0.5811 - val_loss: 0.8881 - val_accuracy: 0.5801\n",
            "Epoch 4/50\n",
            "57/57 [==============================] - 0s 4ms/step - loss: 0.8118 - accuracy: 0.5933 - val_loss: 0.7863 - val_accuracy: 0.6098\n",
            "Epoch 5/50\n",
            "57/57 [==============================] - 0s 4ms/step - loss: 0.7842 - accuracy: 0.6000 - val_loss: 0.7055 - val_accuracy: 0.6128\n",
            "Epoch 6/50\n",
            "57/57 [==============================] - 0s 4ms/step - loss: 0.7413 - accuracy: 0.6061 - val_loss: 0.6425 - val_accuracy: 0.6142\n",
            "Epoch 7/50\n",
            "57/57 [==============================] - 0s 4ms/step - loss: 0.7093 - accuracy: 0.6172 - val_loss: 0.5925 - val_accuracy: 0.6944\n",
            "Epoch 8/50\n",
            "57/57 [==============================] - 0s 4ms/step - loss: 0.6888 - accuracy: 0.6333 - val_loss: 0.5524 - val_accuracy: 0.8145\n",
            "Epoch 9/50\n",
            "57/57 [==============================] - 0s 4ms/step - loss: 0.6541 - accuracy: 0.6539 - val_loss: 0.5107 - val_accuracy: 0.8086\n",
            "Epoch 10/50\n",
            "57/57 [==============================] - 0s 4ms/step - loss: 0.6393 - accuracy: 0.6911 - val_loss: 0.4877 - val_accuracy: 0.8650\n",
            "Epoch 11/50\n",
            "57/57 [==============================] - 0s 4ms/step - loss: 0.5972 - accuracy: 0.7044 - val_loss: 0.4393 - val_accuracy: 0.8769\n",
            "Epoch 12/50\n",
            "57/57 [==============================] - 0s 4ms/step - loss: 0.6103 - accuracy: 0.7000 - val_loss: 0.4142 - val_accuracy: 0.8813\n",
            "Epoch 13/50\n",
            "57/57 [==============================] - 0s 5ms/step - loss: 0.5785 - accuracy: 0.7067 - val_loss: 0.3864 - val_accuracy: 0.8932\n",
            "Epoch 14/50\n",
            "57/57 [==============================] - 0s 4ms/step - loss: 0.5771 - accuracy: 0.7250 - val_loss: 0.3621 - val_accuracy: 0.8932\n",
            "Epoch 15/50\n",
            "57/57 [==============================] - 0s 4ms/step - loss: 0.5577 - accuracy: 0.7139 - val_loss: 0.3397 - val_accuracy: 0.8991\n",
            "Epoch 16/50\n",
            "57/57 [==============================] - 0s 4ms/step - loss: 0.5445 - accuracy: 0.7250 - val_loss: 0.3226 - val_accuracy: 0.8932\n",
            "Epoch 17/50\n",
            "57/57 [==============================] - 0s 4ms/step - loss: 0.5405 - accuracy: 0.7144 - val_loss: 0.3101 - val_accuracy: 0.8887\n",
            "Epoch 18/50\n",
            "57/57 [==============================] - 0s 4ms/step - loss: 0.5233 - accuracy: 0.7383 - val_loss: 0.2884 - val_accuracy: 0.8961\n",
            "Epoch 19/50\n",
            "57/57 [==============================] - 0s 4ms/step - loss: 0.5165 - accuracy: 0.7228 - val_loss: 0.2528 - val_accuracy: 0.9006\n",
            "Epoch 20/50\n",
            "57/57 [==============================] - 0s 4ms/step - loss: 0.4968 - accuracy: 0.7389 - val_loss: 0.2475 - val_accuracy: 0.9021\n",
            "Epoch 21/50\n",
            "57/57 [==============================] - 0s 4ms/step - loss: 0.5017 - accuracy: 0.7111 - val_loss: 0.2271 - val_accuracy: 0.8961\n",
            "Epoch 22/50\n",
            "57/57 [==============================] - 0s 4ms/step - loss: 0.4937 - accuracy: 0.7422 - val_loss: 0.2349 - val_accuracy: 0.8843\n",
            "Epoch 23/50\n",
            "57/57 [==============================] - 0s 4ms/step - loss: 0.4905 - accuracy: 0.7433 - val_loss: 0.2331 - val_accuracy: 0.8961\n",
            "Epoch 24/50\n",
            "57/57 [==============================] - 0s 4ms/step - loss: 0.4641 - accuracy: 0.7444 - val_loss: 0.2212 - val_accuracy: 0.8961\n",
            "Epoch 25/50\n",
            "57/57 [==============================] - 0s 5ms/step - loss: 0.4682 - accuracy: 0.7489 - val_loss: 0.2154 - val_accuracy: 0.8932\n",
            "Epoch 26/50\n",
            "57/57 [==============================] - 0s 4ms/step - loss: 0.4646 - accuracy: 0.7506 - val_loss: 0.2083 - val_accuracy: 0.8991\n",
            "Epoch 27/50\n",
            "57/57 [==============================] - 0s 4ms/step - loss: 0.4630 - accuracy: 0.7539 - val_loss: 0.2152 - val_accuracy: 0.8917\n",
            "Epoch 28/50\n",
            "57/57 [==============================] - 0s 5ms/step - loss: 0.4731 - accuracy: 0.7578 - val_loss: 0.2126 - val_accuracy: 0.8872\n",
            "Epoch 29/50\n",
            "57/57 [==============================] - 0s 4ms/step - loss: 0.4445 - accuracy: 0.7572 - val_loss: 0.2155 - val_accuracy: 0.8828\n",
            "Epoch 30/50\n",
            "57/57 [==============================] - 0s 4ms/step - loss: 0.4499 - accuracy: 0.7800 - val_loss: 0.2060 - val_accuracy: 0.8872\n",
            "Epoch 31/50\n",
            "57/57 [==============================] - 0s 4ms/step - loss: 0.4479 - accuracy: 0.7744 - val_loss: 0.2114 - val_accuracy: 0.8887\n",
            "Epoch 32/50\n",
            "57/57 [==============================] - 0s 4ms/step - loss: 0.4440 - accuracy: 0.7722 - val_loss: 0.1991 - val_accuracy: 0.8828\n",
            "Epoch 33/50\n",
            "57/57 [==============================] - 0s 4ms/step - loss: 0.4314 - accuracy: 0.7744 - val_loss: 0.2005 - val_accuracy: 0.8858\n",
            "Epoch 34/50\n",
            "57/57 [==============================] - 0s 4ms/step - loss: 0.4283 - accuracy: 0.7872 - val_loss: 0.1922 - val_accuracy: 0.8932\n",
            "Epoch 35/50\n",
            "57/57 [==============================] - 0s 4ms/step - loss: 0.4278 - accuracy: 0.7867 - val_loss: 0.1938 - val_accuracy: 0.9050\n",
            "Epoch 36/50\n",
            "57/57 [==============================] - 0s 4ms/step - loss: 0.4312 - accuracy: 0.7911 - val_loss: 0.1979 - val_accuracy: 0.9110\n",
            "Epoch 37/50\n",
            "57/57 [==============================] - 0s 4ms/step - loss: 0.4227 - accuracy: 0.8061 - val_loss: 0.2026 - val_accuracy: 0.9139\n",
            "Epoch 38/50\n",
            "57/57 [==============================] - 0s 6ms/step - loss: 0.3956 - accuracy: 0.8222 - val_loss: 0.1943 - val_accuracy: 0.9169\n",
            "Epoch 39/50\n",
            "57/57 [==============================] - 0s 6ms/step - loss: 0.4139 - accuracy: 0.8100 - val_loss: 0.1841 - val_accuracy: 0.9139\n",
            "Epoch 40/50\n",
            "57/57 [==============================] - 0s 6ms/step - loss: 0.4236 - accuracy: 0.8117 - val_loss: 0.2004 - val_accuracy: 0.9080\n",
            "Epoch 41/50\n",
            "57/57 [==============================] - 0s 6ms/step - loss: 0.4297 - accuracy: 0.8117 - val_loss: 0.1967 - val_accuracy: 0.9169\n",
            "Epoch 42/50\n",
            "57/57 [==============================] - 0s 6ms/step - loss: 0.4254 - accuracy: 0.8150 - val_loss: 0.1912 - val_accuracy: 0.9169\n",
            "Epoch 43/50\n",
            "57/57 [==============================] - 0s 6ms/step - loss: 0.4051 - accuracy: 0.8267 - val_loss: 0.1939 - val_accuracy: 0.9184\n",
            "Epoch 44/50\n",
            "57/57 [==============================] - 0s 6ms/step - loss: 0.4087 - accuracy: 0.8228 - val_loss: 0.1853 - val_accuracy: 0.9169\n",
            "Epoch 45/50\n",
            "57/57 [==============================] - 0s 6ms/step - loss: 0.4102 - accuracy: 0.8200 - val_loss: 0.1918 - val_accuracy: 0.9199\n",
            "Epoch 46/50\n",
            "57/57 [==============================] - 0s 5ms/step - loss: 0.4343 - accuracy: 0.8139 - val_loss: 0.1998 - val_accuracy: 0.9154\n",
            "Epoch 47/50\n",
            "57/57 [==============================] - 1s 11ms/step - loss: 0.3877 - accuracy: 0.8267 - val_loss: 0.2020 - val_accuracy: 0.9110\n",
            "Epoch 48/50\n",
            "57/57 [==============================] - 1s 11ms/step - loss: 0.4111 - accuracy: 0.8322 - val_loss: 0.1906 - val_accuracy: 0.9214\n",
            "Epoch 49/50\n",
            "57/57 [==============================] - 0s 4ms/step - loss: 0.3788 - accuracy: 0.8356 - val_loss: 0.1972 - val_accuracy: 0.9184\n",
            "Epoch 50/50\n",
            "57/57 [==============================] - 0s 4ms/step - loss: 0.3934 - accuracy: 0.8267 - val_loss: 0.1863 - val_accuracy: 0.9199\n"
          ]
        }
      ]
    },
    {
      "cell_type": "code",
      "source": [
        "# Отобразим результаты на графике\n",
        "printNNChart(history2)"
      ],
      "metadata": {
        "colab": {
          "base_uri": "https://localhost:8080/",
          "height": 465
        },
        "id": "SVxD77PbfnBM",
        "outputId": "530d6dc7-e24b-4875-f947-6ca151d723c0"
      },
      "execution_count": 132,
      "outputs": [
        {
          "output_type": "display_data",
          "data": {
            "text/plain": [
              "<Figure size 1800x500 with 2 Axes>"
            ],
            "image/png": "[encoded data removed]"
          },
          "metadata": {}
        }
      ]
    },
    {
      "cell_type": "code",
      "source": [
        "# Вывод значения точности распознавания на проверочной выборке по эпохам\n",
        "print(f'Эпохи: {EPOCHS}')\n",
        "print(\"=\"*50)\n",
        "\n",
        "# val_accuracy\n",
        "val_acc2 = history2.history['val_accuracy']\n",
        "i_max = 0\n",
        "val_acc_max = -1.0\n",
        "for i in range(EPOCHS):\n",
        "  # print(f'{i}->{EPOCHS}: {round(val_acc1[i], 3)}%')\n",
        "  if val_acc2[i] > val_acc_max:\n",
        "    val_acc_max = val_acc2[2]\n",
        "    i_max = i\n",
        "\n",
        "print(f'Самая точная нейронка под номером: {i_max} из {EPOCHS} эпох')\n",
        "print(f'  достигла точности: {round(val_acc2[i]*100., 3)}%')"
      ],
      "metadata": {
        "colab": {
          "base_uri": "https://localhost:8080/"
        },
        "id": "JjcpSPVJdgXo",
        "outputId": "2715e92b-10e9-4530-b0c2-1c10744a42ec"
      },
      "execution_count": 133,
      "outputs": [
        {
          "output_type": "stream",
          "name": "stdout",
          "text": [
            "Эпохи: 50\n",
            "==================================================\n",
            "Самая точная нейронка под номером: 49 из 50 эпох\n",
            "  достигла точности: 91.988%\n"
          ]
        }
      ]
    }
  ]
}