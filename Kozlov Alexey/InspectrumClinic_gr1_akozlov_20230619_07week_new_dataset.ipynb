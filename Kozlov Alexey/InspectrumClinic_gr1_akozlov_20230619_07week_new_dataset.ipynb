{
  "nbformat": 4,
  "nbformat_minor": 0,
  "metadata": {
    "colab": {
      "provenance": [],
      "gpuType": "T4",
      "collapsed_sections": [
        "f18CBRuoQGJu",
        "38ICOkSC9BMV",
        "7DV1Muqu22RG",
        "IS2HyGqUO1WG",
        "5cwDRJntam5f",
        "20jUmicqa61O",
        "cqz6QQVAM-8p",
        "q-yFxZpa0Kh0",
        "ZJNfW435ddAN",
        "KRYITxYqFAd6",
        "crULPocvIVrf",
        "CywpIEcFIpCX",
        "0fXR_iNyNNrF",
        "KQBOw2E-Qhe7",
        "9f1tmBhhVmOI",
        "9ih0G8rLdTDd",
        "uXSh4C2YqdVm",
        "7SHsYNdesoKV",
        "fhmfJ0WyL2k-",
        "X9F3GByj_SGU",
        "m9m4niPGFQsy",
        "kpBs-1q1CMCa",
        "TGSEw8mYVVh8",
        "a1ZcKAKcRegL",
        "RN7fIBTTmttw",
        "ITjUTc2ZzvaG"
      ],
      "authorship_tag": "ABX9TyOobcYyYTXm5uNhQh0s2Pxb",
      "include_colab_link": true
    },
    "kernelspec": {
      "name": "python3",
      "display_name": "Python 3"
    },
    "language_info": {
      "name": "python"
    }
  },
  "cells": [
    {
      "cell_type": "markdown",
      "metadata": {
        "id": "view-in-github",
        "colab_type": "text"
      },
      "source": [
        "<a href=\"https://colab.research.google.com/github/Untick/InspectrumClinic_RS_gr1/blob/main/Kozlov%20Alexey/InspectrumClinic_gr1_akozlov_20230619_07week_new_dataset.ipynb\" target=\"_parent\"><img src=\"https://colab.research.google.com/assets/colab-badge.svg\" alt=\"Open In Colab\"/></a>"
      ]
    },
    {
      "cell_type": "markdown",
      "source": [
        "**Рекомендательная система для профпатолога (INSPECTRUM CLINIC)**\n",
        "\n",
        "Алексей Козлов 2023.06.19 - 2023.06.26 (7-я неделя): Подбор гиперпараметров, снабжение тектовыми блоками с описанием этапов/экспериментов и выводами"
      ],
      "metadata": {
        "id": "ALJziHyQWOSU"
      }
    },
    {
      "cell_type": "markdown",
      "source": [
        "# ТЕХНИЧЕСКОЕ ЗАДАНИЕ"
      ],
      "metadata": {
        "id": "f18CBRuoQGJu"
      }
    },
    {
      "cell_type": "markdown",
      "source": [
        "**Рекомендательная система для профпатолога (INSPECTRUM CLINIC)**"
      ],
      "metadata": {
        "id": "AW3jk8_AQ0uu"
      }
    },
    {
      "cell_type": "markdown",
      "source": [
        "**Цель:**\n",
        "\n",
        "Разработать прототип системы, реализующей функцию рекомендательной системы для врача профпатолога.\n"
      ],
      "metadata": {
        "id": "kMxxU7qWQLoa"
      }
    },
    {
      "cell_type": "markdown",
      "source": [
        "**Принцип работы:**\n",
        "\n",
        "1.   Система должна помогать врачу вынести решение о том годен, не годен или ограниченно годен человек на определенной должности.\n",
        "2.   В датасете целевым столбцом для предсказания нейросетью является столбец под названием: “ЗаключениеМК”.\n",
        "3.   Система может дополнять вердикт мнением, почему человек не годен, или почему ограниченно годен.\n"
      ],
      "metadata": {
        "id": "JnIMDIKaQMT4"
      }
    },
    {
      "cell_type": "markdown",
      "source": [
        "**Требования интерфейсу:**\n",
        "\n",
        "\n",
        "*Минимальный уровень реализации:*\n",
        "\n",
        "notebook google colaboratory. Требуется реализовать простой веб-интерфейс для загрузки анализируемого моделью нейросети набора данных и удобным выводом результатов вынесенного решения.\n",
        "\n",
        "*Дополнительно:*\n",
        "\n",
        "передача продвинутой системы веб-интерфейса, дополняющей вердикт мнением, почему человек не годен, или почему ограниченно годен."
      ],
      "metadata": {
        "id": "sN-arp3WSAsg"
      }
    },
    {
      "cell_type": "markdown",
      "source": [
        "**Требования к скорости работы:**\n",
        "\n",
        "Не предъявляются"
      ],
      "metadata": {
        "id": "QMHHuD-SUijI"
      }
    },
    {
      "cell_type": "markdown",
      "source": [
        "**Требования к тестированию, метрикам качества:**\n",
        "\n",
        "Оценка результатов работы системы производится Заказчиком на тестовом наборе Заказчика. Метрика точности - точность рекомендации должна быть не ниже 95%.\n"
      ],
      "metadata": {
        "id": "fNeLHjxmUrYb"
      }
    },
    {
      "cell_type": "markdown",
      "source": [
        "# Импорт библиотек"
      ],
      "metadata": {
        "id": "38ICOkSC9BMV"
      }
    },
    {
      "cell_type": "code",
      "source": [
        "# Загрузка файлов из облака\n",
        "import gdown\n",
        "# Библиотека для работы с массивами данных\n",
        "import numpy as np\n",
        "# Библиотека для обработки и анализа данных\n",
        "import pandas as pd\n",
        "# Библиотека для построения графиков\n",
        "import matplotlib.pyplot as plt\n",
        "# Команда для отображения графики в ячейках среды Google Colaboratory\n",
        "%matplotlib inline\n",
        "# Библиотека для построения графиков\n",
        "import seaborn as sns\n",
        "#Для генерации случайных чисел\n",
        "import random\n",
        "# Для округления\n",
        "import math\n",
        "import re\n",
        "\n",
        "# Подключение класса создания модели Sequential\n",
        "# Sequential – модуль для создания последовательной модели нейронной сети\n",
        "from tensorflow.keras.models import Sequential, Model\n",
        "# Подключение класса Dense - полносвязный слой\n",
        "# Dense – линейный (полносвязный) слой. Из таких слоев будет создана ваша нейросеть\n",
        "from tensorflow.keras.layers import concatenate, Input, Dense, Dropout, BatchNormalization, Flatten\n",
        "# utils – модуль с полезными инструментами для подготовки данных\n",
        "#Используем для to_categoricall\n",
        "from tensorflow.keras import utils\n",
        "from tensorflow.keras.optimizers import Adam,Adadelta,SGD,Adagrad,RMSprop\n",
        "from tensorflow.keras.preprocessing.text import Tokenizer, text_to_word_sequence\n",
        "from tensorflow.keras.preprocessing.sequence import pad_sequences\n",
        "# подключаем колбэки\n",
        "from tensorflow.keras.callbacks import LambdaCallback\n",
        "\n",
        "from sklearn.preprocessing import StandardScaler\n",
        "# Для разбивки на выборки\n",
        "from sklearn.model_selection import train_test_split\n",
        "from sklearn.metrics import mean_squared_error, mean_absolute_error\n",
        "\n",
        "from IPython.display import clear_output\n",
        "\n",
        "# Для работы с датами\n",
        "from datetime import datetime\n",
        "\n",
        "#from keras import metrics"
      ],
      "metadata": {
        "id": "Oe2mran7NIGx"
      },
      "execution_count": 1,
      "outputs": []
    },
    {
      "cell_type": "markdown",
      "source": [
        "# Приказ Министерства здравоохранения Российской Федерации от 28.01.2021 №29Н"
      ],
      "metadata": {
        "id": "7DV1Muqu22RG"
      }
    },
    {
      "cell_type": "markdown",
      "source": [
        "https://normativ.kontur.ru/document?moduleId=1&documentId=416520\n",
        "\n",
        "\"МИНИСТЕРСТВО ЗДРАВООХРАНЕНИЯ РОССИЙСКОЙ ФЕДЕРАЦИИ\n",
        "ПРИКАЗ\n",
        "от 28 января 2021 г. N 29н\n",
        "ОБ УТВЕРЖДЕНИИ ПОРЯДКА ПРОВЕДЕНИЯ ОБЯЗАТЕЛЬНЫХ ПРЕДВАРИТЕЛЬНЫХ И ПЕРИОДИЧЕСКИХ МЕДИЦИНСКИХ ОСМОТРОВ РАБОТНИКОВ, ПРЕДУСМОТРЕННЫХ ЧАСТЬЮ ЧЕТВЕРТОЙ СТАТЬИ 213 ТРУДОВОГО КОДЕКСА РОССИЙСКОЙ ФЕДЕРАЦИИ, ПЕРЕЧНЯ МЕДИЦИНСКИХ ПРОТИВОПОКАЗАНИЙ К ОСУЩЕСТВЛЕНИЮ РАБОТ С ВРЕДНЫМИ И (ИЛИ) ОПАСНЫМИ ПРОИЗВОДСТВЕННЫМИ ФАКТОРАМИ, А ТАКЖЕ РАБОТАМ, ПРИ ВЫПОЛНЕНИИ КОТОРЫХ ПРОВОДЯТСЯ ОБЯЗАТЕЛЬНЫЕ ПРЕДВАРИТЕЛЬНЫЕ И ПЕРИОДИЧЕСКИЕ МЕДИЦИНСКИЕ ОСМОТРЫ\""
      ],
      "metadata": {
        "id": "5WKXDrtE4V9j"
      }
    },
    {
      "cell_type": "markdown",
      "source": [
        "\"Приложение N 2\n",
        "к приказу Министерства здравоохранения\n",
        "Российской Федерации\n",
        "от 28 января 2021 г. N 29н\n",
        "\n",
        "ПЕРЕЧЕНЬ МЕДИЦИНСКИХ ПРОТИВОПОКАЗАНИЙ К РАБОТАМ С ВРЕДНЫМИ И (ИЛИ) ОПАСНЫМИ ПРОИЗВОДСТВЕННЫМИ ФАКТОРАМИ, А ТАКЖЕ РАБОТАМ, ПРИ ВЫПОЛНЕНИИ КОТОРЫХ ПРОВОДЯТСЯ ОБЯЗАТЕЛЬНЫЕ ПРЕДВАРИТЕЛЬНЫЕ И ПЕРИОДИЧЕСКИЕ МЕДИЦИНСКИЕ ОСМОТРЫ\""
      ],
      "metadata": {
        "id": "Q4YyFLqJOEkC"
      }
    },
    {
      "cell_type": "markdown",
      "source": [
        "**Использую Приложение №2 для дополнения вердикта мнением, почему человек не годен, или почему ограниченно годен.**"
      ],
      "metadata": {
        "id": "N65--IaVNINH"
      }
    },
    {
      "cell_type": "markdown",
      "source": [
        "## Словарь-датафрейм болезней"
      ],
      "metadata": {
        "id": "IS2HyGqUO1WG"
      }
    },
    {
      "cell_type": "markdown",
      "source": [
        "Поля в таблице Приложения 2:\n",
        "\n",
        "- Наименование болезней, степень нарушения функции организма,\n",
        "- Код по МКБ-10,\n",
        "- Вредные и (или) опасные производственные факторы,\n",
        "- Виды работ\n",
        "\n",
        "Дополнительно таблица Приложения 2 поделена на 17 классов болезней, по числу которых трансформировал оригинальный документ в текстовые-csv файлы с разделителем '|'."
      ],
      "metadata": {
        "id": "9u31OneDPLDT"
      }
    },
    {
      "cell_type": "code",
      "source": [
        "# Создаем списки-классификаторы, которые потом будем использовать для пояснения решения\n",
        "class29_lst = list()\n",
        "class29_lst.append(\"Класс I. Некоторые инфекционные и паразитарные болезни\")\n",
        "class29_lst.append(\"Класс II. Новообразования\")\n",
        "class29_lst.append(\"Класс III. Болезни крови, кроветворных органов и отдельные нарушения, вовлекающие иммунный механизм\")\n",
        "class29_lst.append(\"Класс IV. Болезни эндокринной системы, расстройства питания, нарушения обмена веществ\")\n",
        "class29_lst.append(\"Класс V. Психические расстройства и расстройства поведения - по перечням и в порядке, утвержденным Правительством Российской Федерации\")\n",
        "class29_lst.append(\"Класс VI. Болезни нервной системы\")\n",
        "class29_lst.append(\"Класс VII. Болезни глаза и его придаточного аппарата\")\n",
        "class29_lst.append(\"Класс VIII. Болезни уха и сосцевидного отростка\")\n",
        "class29_lst.append(\"Класс IX. Болезни системы кровообращения\")\n",
        "class29_lst.append(\"Класс X. Болезни органов дыхания\")\n",
        "class29_lst.append(\"Класс XI. Болезни органов пищеварения\")\n",
        "class29_lst.append(\"Класс XII. Болезни кожи и подкожной клетчатки\")\n",
        "class29_lst.append(\"Класс XIII. Болезни костно-мышечной системы и соединительной ткани\")\n",
        "class29_lst.append(\"Класс XIV. Болезни мочеполовой системы\")\n",
        "class29_lst.append(\"Класс XV. Беременность, роды и послеродовой период\")\n",
        "class29_lst.append(\"Класс XVII. Врожденные аномалии, деформации и хромосомные нарушения\")\n",
        "class29_lst.append(\"Класс XIX. Травмы, отравления и некоторые другие последствия воздействий внешних причин\")\n",
        "\n",
        "# Наименование болезней\n",
        "diseases29_lst = list()\n",
        "\n",
        "# Создаю датафрейм из приложения 2 приказа №29Н\n",
        "df29 = pd.DataFrame(columns=['Класс', 'Болезнь', 'МКБ10', 'ВредФакторы', 'ВидыРабот'])\n",
        "df29['Класс'] = df29['Класс'].astype(int)\n",
        "df29['Болезнь'] = df29['Болезнь'].astype(int)\n",
        "df29['МКБ10'] = df29['МКБ10'].astype(str)\n",
        "df29['ВредФакторы'] = df29['ВредФакторы'].astype(str)\n",
        "df29['ВидыРабот'] = df29['ВидыРабот'].astype(str)"
      ],
      "metadata": {
        "id": "TPPPg2K1afun"
      },
      "execution_count": 2,
      "outputs": []
    },
    {
      "cell_type": "markdown",
      "source": [
        "## Загрузка 17 текстовых файлов классов болезней"
      ],
      "metadata": {
        "id": "5cwDRJntam5f"
      }
    },
    {
      "cell_type": "markdown",
      "source": [
        "Подключаю гуугл-диск, на который предварительно скопировал zip-архив, в которых 17 текстовых файлов."
      ],
      "metadata": {
        "id": "9_glSrLAYWFl"
      }
    },
    {
      "cell_type": "code",
      "source": [
        "# from google.colab import drive\n",
        "# drive.mount('/content/drive')"
      ],
      "metadata": {
        "id": "4nsfq_sELmHQ"
      },
      "execution_count": 3,
      "outputs": []
    },
    {
      "cell_type": "code",
      "source": [
        "# dir_name_29 = '/content/drive/MyDrive/akozlov_traineeship1/mkb10_disease/'"
      ],
      "metadata": {
        "id": "kpzmd2qiMbRd"
      },
      "execution_count": 4,
      "outputs": []
    },
    {
      "cell_type": "code",
      "source": [
        "# import os.path\n",
        "\n",
        "# fn_29 = dir_name_29 + 'prikazN29H_2-1.txt'\n",
        "# # print(f'fn_29: {fn_29}')\n",
        "\n",
        "# if not os.path.exists(fn_29):\n",
        "#   # разворачиваем архив\n",
        "#   !unzip -q /content/drive/MyDrive/akozlov_traineeship1/mkb10_disease.zip -d /content/drive/MyDrive/akozlov_traineeship1\n",
        "\n",
        "# # смотрим список файлов\n",
        "# !ls /content/drive/MyDrive/akozlov_traineeship1/mkb10_disease"
      ],
      "metadata": {
        "id": "mcl7gG7hZusg"
      },
      "execution_count": 5,
      "outputs": []
    },
    {
      "cell_type": "markdown",
      "source": [
        "Для того чтобы постоянно не подтверждать скачивание файла с гуугл-диска, делаю скачивание по общедоступной ссылке:"
      ],
      "metadata": {
        "id": "Q9uJ-nb2yv-i"
      }
    },
    {
      "cell_type": "code",
      "source": [
        "gdown.download('https://drive.google.com/uc?export=download&confirm=no_antivirus&id=180prezoaEESrwOpYu7PgOHjytbZ4AceL', None, quiet=True)"
      ],
      "metadata": {
        "colab": {
          "base_uri": "https://localhost:8080/",
          "height": 367
        },
        "id": "pD83pR3mytUs",
        "outputId": "a6f54f6a-eac9-405e-d911-667728a2e22b"
      },
      "execution_count": 6,
      "outputs": [
        {
          "output_type": "execute_result",
          "data": {
            "text/plain": [
              "'mkb10_disease.zip'"
            ],
            "application/vnd.google.colaboratory.intrinsic+json": {
              "type": "string"
            }
          },
          "metadata": {},
          "execution_count": 6
        }
      ]
    },
    {
      "cell_type": "code",
      "source": [
        "dir_name_29 = '/content/mkb10_disease'"
      ],
      "metadata": {
        "id": "CFuNIK6p2cUs"
      },
      "execution_count": 7,
      "outputs": []
    },
    {
      "cell_type": "code",
      "source": [
        "import os.path\n",
        "\n",
        "# /content/mkb10_disease/prikazN29H_2-1.txt\n",
        "fn_29 = dir_name_29 + '/prikazN29H_2-1.txt'\n",
        "# print(f'fn_29: {fn_29}')\n",
        "\n",
        "# разворачиваем архив, если он не развернут\n",
        "if not os.path.exists(fn_29):\n",
        "  !unzip -q mkb10_disease.zip\n",
        "\n",
        "# смотрим список файлов\n",
        "!ls '/content/mkb10_disease'"
      ],
      "metadata": {
        "colab": {
          "base_uri": "https://localhost:8080/"
        },
        "id": "jL6dMt0W2tHc",
        "outputId": "397f0988-32d2-4f94-d5c0-4339f4509c3a"
      },
      "execution_count": 8,
      "outputs": [
        {
          "output_type": "stream",
          "name": "stdout",
          "text": [
            "prikazN29H_2-10.txt  prikazN29H_2-17.txt  prikazN29H_2-5.txt\n",
            "prikazN29H_2-11.txt  prikazN29H_2-19.txt  prikazN29H_2-6.txt\n",
            "prikazN29H_2-12.txt  prikazN29H_2-1.txt   prikazN29H_2-7.txt\n",
            "prikazN29H_2-13.txt  prikazN29H_2-2.txt   prikazN29H_2-8.txt\n",
            "prikazN29H_2-14.txt  prikazN29H_2-3.txt   prikazN29H_2-9.txt\n",
            "prikazN29H_2-15.txt  prikazN29H_2-4.txt\n"
          ]
        }
      ]
    },
    {
      "cell_type": "markdown",
      "source": [
        "## Обработка 17 текстовых файлов классов болезней"
      ],
      "metadata": {
        "id": "20jUmicqa61O"
      }
    },
    {
      "cell_type": "code",
      "source": [
        "#~~~~~~~~~~~~~~~~~~~~~~~~\n",
        "# Расщепление строки `Код по МКБ-10` из приказа 29 по запятым и минусам\n",
        "#~~~~~~~~~~~~~~~~~~~~~~~~\n",
        "def mkb29_split(arg):\n",
        "  '''\n",
        "    Расщепление строки по запятым и минусам, удаление пробелов перед словом и после\n",
        "    вход:\n",
        "        arg: строка с запятыми или без запятых, с минусами или без\n",
        "    выход:\n",
        "        retVal: список строк\n",
        "  '''\n",
        "  # print(f'mkb29_split> arg: {arg}')\n",
        "\n",
        "  # результирующий список\n",
        "  retVal = list()\n",
        "  # проверяем на nan\n",
        "  if (arg == arg):\n",
        "    # проверяем, что строка не пустая\n",
        "    if arg:\n",
        "      # удаляем пробелы в начале и конце слова\n",
        "      str1 = arg.strip()\n",
        "      # разбиваем строку по запятым и возвращаем список\n",
        "      str_lst1 = str1.split(',')\n",
        "      # print(f' str_lst1>: {len(str_lst1)}: {str_lst1}')\n",
        "      for str_item1 in str_lst1:\n",
        "        str_item2 = str_item1.strip()\n",
        "        # проверяем, что строка не пустая\n",
        "        if str_item2:\n",
        "          # проверям строку на минус\n",
        "          # print(f' str_item2: {str_item2}')\n",
        "          if str_item2.find('-') >= 0:\n",
        "            str_lst3 = str_item2.split('-')\n",
        "            str_item31 = str_lst3[0].strip()\n",
        "            str_item32 = str_lst3[1].strip()\n",
        "            # print(f'  str_item31: `{str_item31}`')\n",
        "            # print(f'  str_item32: `{str_item32}`')\n",
        "            last_dot_index31 = str_item31.rfind('.')\n",
        "            last_dot_index32 = str_item32.rfind('.')\n",
        "            if last_dot_index31 >= 0 or last_dot_index32 >= 0:\n",
        "              str41 = str_item31\n",
        "              str42 = \"\"\n",
        "              if last_dot_index31 >= 0:\n",
        "                str41, str42 = str_item31[:last_dot_index31], str_item31[last_dot_index31+1:]\n",
        "              #~\n",
        "              str51 = str_item32\n",
        "              str52 = \"\"\n",
        "              if last_dot_index32 >= 0:\n",
        "                str51, str52 = str_item32[:last_dot_index32], str_item32[last_dot_index32+1:]\n",
        "              #~\n",
        "              jnum42 = 0\n",
        "              jnum52 = 0\n",
        "              # проверяем, что строка не пустая\n",
        "              if str42:\n",
        "                jnum42 = int(str42)\n",
        "              if str52:\n",
        "                jnum52 = int(str52)\n",
        "              #~\n",
        "              # print(f'str41: `{str41}`, str42: `{str42}`, jnum42: `{jnum42}`')\n",
        "              # print(f'str51: `{str51}`, str52: `{str52}`, jnum52: `{jnum52}`')\n",
        "              for j in range(jnum42, jnum52+1):\n",
        "                if (jnum42 == j):\n",
        "                  retVal.append(str_item31)\n",
        "                elif (jnum52+1 == j):\n",
        "                  retVal.append(str_item32)\n",
        "                else:\n",
        "                  retVal.append(str41 + '.' + str(j))\n",
        "            else:\n",
        "              str_item40 = str_item31[:1]\n",
        "              str_item41 = str_item31[1:]\n",
        "              str_item42 = str_item32[1:]\n",
        "              num41 = int(str_item41)\n",
        "              num42 = int(str_item42)\n",
        "              # print(f'  str_item40: `{str_item40}`, str_item41: `{str_item41}`, str_item42: `{str_item42}`')\n",
        "              # print(f'  num41: `{num41}`, num42: `{num42}`')\n",
        "              for i in range(num41, num42+1):\n",
        "                if i < 10:\n",
        "                  retVal.append(str_item40 + '0' + str(i))\n",
        "                else:\n",
        "                  retVal.append(str_item40 + str(i))\n",
        "          else:\n",
        "            # значение не содержит минус, то есть не диапазон\n",
        "            retVal.append(str_item2)\n",
        "\n",
        "  # print(f'    retVal: {retVal}')\n",
        "  return retVal"
      ],
      "metadata": {
        "id": "U_fZvLq8i_uM"
      },
      "execution_count": 9,
      "outputs": []
    },
    {
      "cell_type": "code",
      "source": [
        "#~~~~~~~~~~~~~~~~~~~~~~~~\n",
        "# Расщепление строки `Вредные и (или) опасные производственные факторы` из приказа 29 по запятым и минусам\n",
        "# Harmful Factors\n",
        "#~~~~~~~~~~~~~~~~~~~~~~~~\n",
        "def hf29_split(arg):\n",
        "  '''\n",
        "    Расщепление строки по запятым и минусам, удаление пробелов перед словом и после\n",
        "    вход:\n",
        "        arg: строка с запятыми или без запятых, с минусами или без\n",
        "    выход:\n",
        "        retVal: список строк\n",
        "  '''\n",
        "  # print(f'hf29_split> arg: {arg}')\n",
        "\n",
        "  # результирующий список\n",
        "  retVal = list()\n",
        "  # проверяем на nan\n",
        "  if (arg == arg):\n",
        "    # проверяем, что строка не пустая\n",
        "    if arg:\n",
        "      # удаляем пробелы в начале и конце слова\n",
        "      str1 = arg.strip()\n",
        "      # разбиваем строку по запятым и возвращаем список\n",
        "      str_lst1 = str1.split(',')\n",
        "      for str_item1 in str_lst1:\n",
        "        str_item2 = str_item1.strip()\n",
        "        # проверяем, что строка не пустая\n",
        "        if str_item2:\n",
        "          # проверям строку на минус\n",
        "          if str_item2.find('-') >= 0:\n",
        "            str_lst3 = str_item2.split('-')\n",
        "            str_item31 = str_lst3[0].strip()\n",
        "            str_item32 = str_lst3[1].strip()\n",
        "            if str_item31.find('.') >= 0:\n",
        "              last_dot_index31 = str_item31.rfind('.')\n",
        "              str41, str42 = str_item31[:last_dot_index31], str_item31[last_dot_index31+1:]\n",
        "              # print(f'str41: {str41}')\n",
        "              # print(f'str42: {str42}')\n",
        "              last_dot_index32 = str_item32.rfind('.')\n",
        "              str51, str52 = str_item32[:last_dot_index32], str_item32[last_dot_index32+1:]\n",
        "              # print(f'str51: {str51}')\n",
        "              # print(f'str52: {str52}')\n",
        "              jnum42 = int(str42)\n",
        "              jnum52 = int(str52)\n",
        "              # print(f'jnum42: {jnum42} - jnum52: {jnum52}')\n",
        "              for j in range(jnum42, jnum52+1):\n",
        "                retVal.append(str41 + '.' + str(j))\n",
        "              # print(f'retVal: {retVal}')\n",
        "            else:\n",
        "              num31 = int(str_item31)\n",
        "              num32 = int(str_item32)\n",
        "              for i in range(num31, num32+1):\n",
        "                retVal.append(str(i))\n",
        "          else:\n",
        "            # значение не содержит минус, то есть не диапазон\n",
        "            retVal.append(str_item2)\n",
        "\n",
        "  return retVal"
      ],
      "metadata": {
        "id": "rfa-Vny7LK8D"
      },
      "execution_count": 10,
      "outputs": []
    },
    {
      "cell_type": "code",
      "source": [
        "#~~~~~~~~~~~~~~~~~~~~~~~~\n",
        "# Расщепление строки `Виды работ` из приказа 29 по запятым и минусам\n",
        "# Types of work\n",
        "#~~~~~~~~~~~~~~~~~~~~~~~~\n",
        "def tow29_split(arg):\n",
        "  '''\n",
        "    Расщепление строки по запятым и минусам, удаление пробелов перед словом и после\n",
        "    вход:\n",
        "        arg: строка с запятыми или без запятых, с минусами или без\n",
        "    выход:\n",
        "        retVal: список строк\n",
        "  '''\n",
        "  # результирующий список\n",
        "  retVal = list()\n",
        "  # проверяем на nan\n",
        "  if (arg == arg):\n",
        "    # проверяем, что строка не пустая\n",
        "    if arg:\n",
        "      # удаляем пробелы в начале и конце слова\n",
        "      str1 = arg.strip()\n",
        "      # разбиваем строку по запятым и возвращаем список\n",
        "      str_lst1 = str1.split(',')\n",
        "      for str_item1 in str_lst1:\n",
        "        str_item2 = str_item1.strip()\n",
        "        # проверяем, что строка не пустая\n",
        "        if str_item2:\n",
        "          # проверям строку на минус\n",
        "          if str_item2.find('-') >= 0:\n",
        "            str_lst3 = str_item2.split('-')\n",
        "            str_item31 = str_lst3[0].strip()\n",
        "            str_item32 = str_lst3[1].strip()\n",
        "            num31 = int(str_item31)\n",
        "            num32 = int(str_item32)\n",
        "            for i in range(num31, num32+1):\n",
        "              retVal.append(str(i))\n",
        "          else:\n",
        "            # значение не содержит минус, то есть не диапазон\n",
        "            retVal.append(str_item2)\n",
        "\n",
        "  return retVal"
      ],
      "metadata": {
        "id": "PazwihVWTeL5"
      },
      "execution_count": 11,
      "outputs": []
    },
    {
      "cell_type": "code",
      "source": [
        "def addClassToAccumulator29(file_name29, class29_inx, df_29):\n",
        "  '''\n",
        "    Чтение текстового файла и добавление его значений по спискам\n",
        "    вход:\n",
        "        file_name29: имя текстового файла\n",
        "        class29_inx: индекс класса в списке class29_lst0\n",
        "    выход:\n",
        "        df_29: дополненный дата фрейм\n",
        "  '''\n",
        "  # print()\n",
        "  # print('-'*50)\n",
        "  # print(f'{file_name29}')\n",
        "  # print(f'class29_inx: {class29_inx}')\n",
        "\n",
        "  # чтение файла и создание списка строк\n",
        "  # with open('/content/'+file_name29, 'r') as file29:\n",
        "  with open(file_name29, 'r') as file29:\n",
        "    lines29 = file29.readlines()\n",
        "\n",
        "  # print(f'{len(lines29)}: {lines29}')\n",
        "\n",
        "  for i in range(len(lines29)):\n",
        "    # print(f'{i}->{len(lines29)}: {lines29[i]}')\n",
        "    str1 = lines29[i].strip()\n",
        "    # разбиваем строку по вертикальным линиям\n",
        "    str_lst1 = str1.split('|')\n",
        "    if 4 == len(str_lst1):\n",
        "      # 0: `а) Активный туберкулез.... `\n",
        "      # 1: `A15 - A19`\n",
        "      # 2: `1 - 5`\n",
        "      # 3: `6 - 27`\n",
        "      #~~~0 ~ Наименование болезней\n",
        "      diseases29_lst.append(str_lst1[0].strip())\n",
        "      diseases29_inx = len(diseases29_lst) - 1\n",
        "      # print(f'diseases29_inx: {diseases29_inx}, len(diseases29): {len(diseases29)}, {diseases29}')\n",
        "      #~~~1 ~ МКБ-10\n",
        "      mkb29_lst = mkb29_split(str_lst1[1].strip())\n",
        "      if len(mkb29_lst) < 1:\n",
        "        print(f'ОШИБКА: неверное значение МКБ: {file_name29}')\n",
        "        continue\n",
        "      # print(f'mkb29_lst: `{mkb29_lst}`')\n",
        "      #~~~2 ~ Вредные факторы\n",
        "      hf29_lst = hf29_split(str_lst1[2].strip())\n",
        "      hf29_str = \"\"\n",
        "      if len(hf29_lst) > 0:\n",
        "        hf29_str = ','.join(hf29_lst)\n",
        "      # print(f'hf29_lst: `{hf29_lst}`')\n",
        "      # print(f'hf29_str: `{hf29_str}`')\n",
        "      #~~~3 ~ Виды работ\n",
        "      tow29_lst = tow29_split(str_lst1[3].strip())\n",
        "      tow29_str = \"\"\n",
        "      if len(tow29_lst) > 0:\n",
        "        tow29_str = ','.join(tow29_lst)\n",
        "      # print(f'tow29_lst: `{tow29_lst}`')\n",
        "      # print(f'tow29_str: `{tow29_str}`')\n",
        "      #~~~~~~~~~~~~~~~~~~~~~~~~\n",
        "      #~~~~добавляю сформированне строки в датафрейм\n",
        "      for j in range(len(mkb29_lst)):\n",
        "        # print(f'{j}: {mkb29_lst[j]}')\n",
        "        newrow_29 = {'Класс': class29_inx, 'Болезнь': diseases29_inx, 'МКБ10': mkb29_lst[j], 'ВредФакторы': hf29_str, 'ВидыРабот': tow29_str}\n",
        "        df_29 = pd.concat([df_29, pd.DataFrame(newrow_29, index=[0])], ignore_index=True)\n",
        "    else:\n",
        "      print(f'ОШИБКА: неверное число данных в колонках: {file_name29}')\n",
        "\n",
        "  return df_29"
      ],
      "metadata": {
        "id": "d6LunpLNUWpb"
      },
      "execution_count": 12,
      "outputs": []
    },
    {
      "cell_type": "code",
      "source": [
        "# Формирую-создаю датафрейм из приложения 2 приказа №29Н\n",
        "print(f'число классов: {len(class29_lst)}')\n",
        "for i in range(len(class29_lst)):\n",
        "  print()\n",
        "  print('-'*50)\n",
        "  print(f'{i}: {class29_lst[i]}')\n",
        "  j = i + 1\n",
        "  if 15 == i:\n",
        "    j = 17\n",
        "  elif 16 == i:\n",
        "    j = 19\n",
        "  #~~~\n",
        "  fn_29 = dir_name_29 + '/prikazN29H_2-' + str(j) + '.txt'\n",
        "  print(f'fn_29: `{fn_29}`')\n",
        "  #~~~\n",
        "  df29 = addClassToAccumulator29(fn_29, i, df29);\n",
        "  print(f'размеры датафрейма: df29: {df29.shape}')\n",
        "  print(df29.tail(2))"
      ],
      "metadata": {
        "colab": {
          "base_uri": "https://localhost:8080/"
        },
        "id": "A_aMJBn5tTct",
        "outputId": "3c47a296-b553-4379-d454-907d8e347ffb"
      },
      "execution_count": 13,
      "outputs": [
        {
          "output_type": "stream",
          "name": "stdout",
          "text": [
            "число классов: 17\n",
            "\n",
            "--------------------------------------------------\n",
            "0: Класс I. Некоторые инфекционные и паразитарные болезни\n",
            "fn_29: `/content/mkb10_disease/prikazN29H_2-1.txt`\n",
            "размеры датафрейма: df29: (74, 5)\n",
            "    Класс  Болезнь МКБ10 ВредФакторы       ВидыРабот\n",
            "72      0        6   B82              23,24,25,26,27\n",
            "73      0        6   B83              23,24,25,26,27\n",
            "\n",
            "--------------------------------------------------\n",
            "1: Класс II. Новообразования\n",
            "fn_29: `/content/mkb10_disease/prikazN29H_2-2.txt`\n",
            "размеры датафрейма: df29: (371, 5)\n",
            "     Класс  Болезнь МКБ10 ВредФакторы ВидыРабот\n",
            "369      1       14   D35           Р          \n",
            "370      1       14   D36           Р          \n",
            "\n",
            "--------------------------------------------------\n",
            "2: Класс III. Болезни крови, кроветворных органов и отдельные нарушения, вовлекающие иммунный механизм\n",
            "fn_29: `/content/mkb10_disease/prikazN29H_2-3.txt`\n",
            "размеры датафрейма: df29: (571, 5)\n",
            "     Класс  Болезнь МКБ10                                        ВредФакторы  \\\n",
            "569      2       19   D88  1.12,1.15.1,1.21,1.24,1.27,1.34,1.37.1.1,1.37....   \n",
            "570      2       19   D89  1.12,1.15.1,1.21,1.24,1.27,1.34,1.37.1.1,1.37....   \n",
            "\n",
            "    ВидыРабот  \n",
            "569            \n",
            "570            \n",
            "\n",
            "--------------------------------------------------\n",
            "3: Класс IV. Болезни эндокринной системы, расстройства питания, нарушения обмена веществ\n",
            "fn_29: `/content/mkb10_disease/prikazN29H_2-4.txt`\n",
            "размеры датафрейма: df29: (640, 5)\n",
            "     Класс  Болезнь МКБ10 ВредФакторы ВидыРабот\n",
            "638      3       22   E66              19,20,21\n",
            "639      3       22   E84              19,20,21\n",
            "\n",
            "--------------------------------------------------\n",
            "4: Класс V. Психические расстройства и расстройства поведения - по перечням и в порядке, утвержденным Правительством Российской Федерации\n",
            "fn_29: `/content/mkb10_disease/prikazN29H_2-5.txt`\n",
            "размеры датафрейма: df29: (680, 5)\n",
            "     Класс  Болезнь  МКБ10 ВредФакторы ВидыРабот\n",
            "678      4       25  F98.5              19,20,21\n",
            "679      4       25  F98.6              19,20,21\n",
            "\n",
            "--------------------------------------------------\n",
            "5: Класс VI. Болезни нервной системы\n",
            "fn_29: `/content/mkb10_disease/prikazN29H_2-6.txt`\n",
            "размеры датафрейма: df29: (829, 5)\n",
            "     Класс  Болезнь  МКБ10 ВредФакторы  \\\n",
            "827      5       46    G95   1,2,3,4,5   \n",
            "828      5       46  G99.2   1,2,3,4,5   \n",
            "\n",
            "                                          ВидыРабот  \n",
            "827  6,7,8,9,10,11,12,13,14,15,16,17,18,19,20,21,22  \n",
            "828  6,7,8,9,10,11,12,13,14,15,16,17,18,19,20,21,22  \n",
            "\n",
            "--------------------------------------------------\n",
            "6: Класс VII. Болезни глаза и его придаточного аппарата\n",
            "fn_29: `/content/mkb10_disease/prikazN29H_2-7.txt`\n",
            "размеры датафрейма: df29: (992, 5)\n",
            "     Класс  Болезнь  МКБ10 ВредФакторы              ВидыРабот\n",
            "990      6       65  H53.4              6,9,10,14,15,16,17,19\n",
            "991      6       66  H53.5                           19,20,21\n",
            "\n",
            "--------------------------------------------------\n",
            "7: Класс VIII. Болезни уха и сосцевидного отростка\n",
            "fn_29: `/content/mkb10_disease/prikazN29H_2-8.txt`\n",
            "размеры датафрейма: df29: (1007, 5)\n",
            "      Класс  Болезнь МКБ10       ВредФакторы  \\\n",
            "1005      7       68   H90  1.47.2,4.3.2,4.4   \n",
            "1006      7       68   H91  1.47.2,4.3.2,4.4   \n",
            "\n",
            "                                  ВидыРабот  \n",
            "1005  6,7,8,9,10,12,13,14,15,16,19,20,21,22  \n",
            "1006  6,7,8,9,10,12,13,14,15,16,19,20,21,22  \n",
            "\n",
            "--------------------------------------------------\n",
            "8: Класс IX. Болезни системы кровообращения\n",
            "fn_29: `/content/mkb10_disease/prikazN29H_2-9.txt`\n",
            "размеры датафрейма: df29: (1223, 5)\n",
            "      Класс  Болезнь МКБ10  ВредФакторы      ВидыРабот\n",
            "1221      8       85   I88  4.3,4.7,5.1  11.4,19,20,21\n",
            "1222      8       85   I89  4.3,4.7,5.1  11.4,19,20,21\n",
            "\n",
            "--------------------------------------------------\n",
            "9: Класс X. Болезни органов дыхания\n",
            "fn_29: `/content/mkb10_disease/prikazN29H_2-10.txt`\n",
            "размеры датафрейма: df29: (1505, 5)\n",
            "      Класс  Болезнь МКБ10                                        ВредФакторы  \\\n",
            "1503      9       96   J97  1.4,1.5,1.7,1.8,1.9,1.19,1.23,1.26,1.29,1.31,1...   \n",
            "1504      9       96   J98  1.4,1.5,1.7,1.8,1.9,1.19,1.23,1.26,1.29,1.31,1...   \n",
            "\n",
            "           ВидыРабот  \n",
            "1503  14,16,17,19,21  \n",
            "1504  14,16,17,19,21  \n",
            "\n",
            "--------------------------------------------------\n",
            "10: Класс XI. Болезни органов пищеварения\n",
            "fn_29: `/content/mkb10_disease/prikazN29H_2-11.txt`\n",
            "размеры датафрейма: df29: (1656, 5)\n",
            "      Класс  Болезнь МКБ10 ВредФакторы ВидыРабот\n",
            "1654     10      111   K85               19.1,20\n",
            "1655     10      111   K86               19.1,20\n",
            "\n",
            "--------------------------------------------------\n",
            "11: Класс XII. Болезни кожи и подкожной клетчатки\n",
            "fn_29: `/content/mkb10_disease/prikazN29H_2-12.txt`\n",
            "размеры датафрейма: df29: (2151, 5)\n",
            "      Класс  Болезнь МКБ10 ВредФакторы ВидыРабот\n",
            "2149     11      116   L97         4.1          \n",
            "2150     11      116   L98         4.1          \n",
            "\n",
            "--------------------------------------------------\n",
            "12: Класс XIII. Болезни костно-мышечной системы и соединительной ткани\n",
            "fn_29: `/content/mkb10_disease/prikazN29H_2-13.txt`\n",
            "размеры датафрейма: df29: (2279, 5)\n",
            "      Класс  Болезнь МКБ10 ВредФакторы ВидыРабот\n",
            "2277     12      120   M34                 19,21\n",
            "2278     12      120   M35                 19,21\n",
            "\n",
            "--------------------------------------------------\n",
            "13: Класс XIV. Болезни мочеполовой системы\n",
            "fn_29: `/content/mkb10_disease/prikazN29H_2-14.txt`\n",
            "размеры датафрейма: df29: (2379, 5)\n",
            "      Класс  Болезнь МКБ10 ВредФакторы  \\\n",
            "2377     13      121   N98   1,2,3,4,5   \n",
            "2378     13      121   N99   1,2,3,4,5   \n",
            "\n",
            "                                           ВидыРабот  \n",
            "2377  6,7,8,9,10,11,12,13,14,15,16,17,18,19,20,21,22  \n",
            "2378  6,7,8,9,10,11,12,13,14,15,16,17,18,19,20,21,22  \n",
            "\n",
            "--------------------------------------------------\n",
            "14: Класс XV. Беременность, роды и послеродовой период\n",
            "fn_29: `/content/mkb10_disease/prikazN29H_2-15.txt`\n",
            "размеры датафрейма: df29: (2679, 5)\n",
            "      Класс  Болезнь МКБ10 ВредФакторы ВидыРабот\n",
            "2677     14      124   O98   1,2,3,4,5          \n",
            "2678     14      124   O99   1,2,3,4,5          \n",
            "\n",
            "--------------------------------------------------\n",
            "15: Класс XVII. Врожденные аномалии, деформации и хромосомные нарушения\n",
            "fn_29: `/content/mkb10_disease/prikazN29H_2-17.txt`\n",
            "размеры датафрейма: df29: (3079, 5)\n",
            "      Класс  Болезнь МКБ10 ВредФакторы ВидыРабот\n",
            "3077     15      128   Q98              19,20,21\n",
            "3078     15      128   Q99              19,20,21\n",
            "\n",
            "--------------------------------------------------\n",
            "16: Класс XIX. Травмы, отравления и некоторые другие последствия воздействий внешних причин\n",
            "fn_29: `/content/mkb10_disease/prikazN29H_2-19.txt`\n",
            "размеры датафрейма: df29: (3113, 5)\n",
            "      Класс  Болезнь МКБ10 ВредФакторы  \\\n",
            "3111     16      133   T97   1,2,3,4,5   \n",
            "3112     16      133   T98   1,2,3,4,5   \n",
            "\n",
            "                                           ВидыРабот  \n",
            "3111  6,7,8,9,10,11,12,13,14,15,16,17,18,19,20,21,22  \n",
            "3112  6,7,8,9,10,11,12,13,14,15,16,17,18,19,20,21,22  \n"
          ]
        }
      ]
    },
    {
      "cell_type": "markdown",
      "source": [
        "## Пример работы с df29"
      ],
      "metadata": {
        "id": "EcK3ng3K-w30"
      }
    },
    {
      "cell_type": "code",
      "source": [
        "#~~~~~~~~~~~~~~~~~~~~~~~~\n",
        "# Пример получения информации по коду МКБ-10\n",
        "#~~~~~~~~~~~~~~~~~~~~~~~~\n",
        "\n",
        "mkb_10 = 'A16'\n",
        "\n",
        "inxs29 = df29.index[df29['МКБ10'] == mkb_10].tolist()\n",
        "print(f'{len(inxs29)}: {inxs29}')\n",
        "\n",
        "for i in range(len(inxs29)):\n",
        "  print()\n",
        "  print('='*50)\n",
        "  print(f'{i}->{len(inxs29)-1}')\n",
        "  elems29 = df29.iloc[inxs29[i]].values\n",
        "  print(f'{len(elems29)}: {elems29}')\n",
        "  #~Класс\n",
        "  print('-'*50)\n",
        "  print('Класс:')\n",
        "  ielem = int(elems29[0])\n",
        "  print(f'  {ielem}: {class29_lst[ielem]}')\n",
        "  #~Болезнь\n",
        "  print('-'*50)\n",
        "  print('Наименование болезней, степень нарушения функции организма:')\n",
        "  ielem = int(elems29[1])\n",
        "  print(f'  {ielem}: {diseases29_lst[ielem]}')\n",
        "  #~МКБ10\n",
        "  print('-'*50)\n",
        "  print('Код по МКБ-10:')\n",
        "  print(f'  {elems29[2]}')\n",
        "  #~ВредФакторы\n",
        "  print('-'*50)\n",
        "  print('Вредные и (или) опасные производственные факторы:')\n",
        "  print(f'  {elems29[3]}')\n",
        "  #~ВидыРабот\n",
        "  print('-'*50)\n",
        "  print('Виды работ :')\n",
        "  print(f'  {elems29[4]}')"
      ],
      "metadata": {
        "colab": {
          "base_uri": "https://localhost:8080/"
        },
        "id": "MF95bWT3lEdh",
        "outputId": "cebcc1ad-3c5a-41be-f2a0-8e3839c24878"
      },
      "execution_count": 14,
      "outputs": [
        {
          "output_type": "stream",
          "name": "stdout",
          "text": [
            "2: [11, 16]\n",
            "\n",
            "==================================================\n",
            "0->1\n",
            "5: [0 1 'A16' '' '']\n",
            "--------------------------------------------------\n",
            "Класс:\n",
            "  0: Класс I. Некоторые инфекционные и паразитарные болезни\n",
            "--------------------------------------------------\n",
            "Наименование болезней, степень нарушения функции организма:\n",
            "  1: Туберкулез органов дыхания, других органов и систем:\n",
            "--------------------------------------------------\n",
            "Код по МКБ-10:\n",
            "  A16\n",
            "--------------------------------------------------\n",
            "Вредные и (или) опасные производственные факторы:\n",
            "  \n",
            "--------------------------------------------------\n",
            "Виды работ :\n",
            "  \n",
            "\n",
            "==================================================\n",
            "1->1\n",
            "5: [0 2 'A16' '1,2,3,4,5'\n",
            " '6,7,8,9,10,11,12,13,14,15,16,17,18,19,20,21,22,23,24,25,26,27']\n",
            "--------------------------------------------------\n",
            "Класс:\n",
            "  0: Класс I. Некоторые инфекционные и паразитарные болезни\n",
            "--------------------------------------------------\n",
            "Наименование болезней, степень нарушения функции организма:\n",
            "  2: а) Активный туберкулез органов дыхания; последствия хирургического лечения или выраженные остаточные изменения легких и плевры, сопровождающиеся дыхательной (легочной) недостаточностью II степени и более; при неэффективности лечения или отказе от него. Активный прогрессирующий, генерализованный туберкулез с сочетанным поражением различных органов и систем, независимо от характера течения, давности и исхода\n",
            "--------------------------------------------------\n",
            "Код по МКБ-10:\n",
            "  A16\n",
            "--------------------------------------------------\n",
            "Вредные и (или) опасные производственные факторы:\n",
            "  1,2,3,4,5\n",
            "--------------------------------------------------\n",
            "Виды работ :\n",
            "  6,7,8,9,10,11,12,13,14,15,16,17,18,19,20,21,22,23,24,25,26,27\n"
          ]
        }
      ]
    },
    {
      "cell_type": "markdown",
      "source": [
        "# Загрузка датасета, отображение сводной информации"
      ],
      "metadata": {
        "id": "cqz6QQVAM-8p"
      }
    },
    {
      "cell_type": "code",
      "source": [
        "# Загрузка файла датасета от 2023.05.08\n",
        "# url1 = 'https://storage.yandexcloud.net/terratraineeship/23_InspectrumClinic_RS/datasets/%D0%B4%D0%B0%D1%82%D0%B0%D1%81%D0%B5%D1%82%20%D0%BF%D1%80%D0%BE%D1%84%D0%BF%D0%B0%D1%82%D0%BE%D0%BB%D0%BE%D0%B3%20%D1%87%D0%B0%D1%81%D1%82%D1%8C.xlsx'\n",
        "\n",
        "# Загрузка файла датасета от 2023.06.26\n",
        "url1 = 'https://storage.yandexcloud.net/terratraineeship/23_InspectrumClinic_RS/datasets/26.06%20new%20dataset.zip'\n",
        "\n",
        "#Inspectrum-Clinic-Dataset\n",
        "url2 = '/content/ICD20230626.zip'\n",
        "gdown.download(url1, url2, quiet=False)"
      ],
      "metadata": {
        "colab": {
          "base_uri": "https://localhost:8080/",
          "height": 541
        },
        "id": "wSUxwx5W_H9f",
        "outputId": "1cf3f7b2-b6f3-465f-9dd3-bcc328d4afea"
      },
      "execution_count": 15,
      "outputs": [
        {
          "output_type": "stream",
          "name": "stderr",
          "text": [
            "Downloading...\n",
            "From: https://storage.yandexcloud.net/terratraineeship/23_InspectrumClinic_RS/datasets/26.06%20new%20dataset.zip\n",
            "To: /content/ICD20230626.zip\n",
            "100%|██████████| 6.97M/6.97M [00:02<00:00, 2.78MB/s]\n"
          ]
        },
        {
          "output_type": "execute_result",
          "data": {
            "text/plain": [
              "'/content/ICD20230626.zip'"
            ],
            "application/vnd.google.colaboratory.intrinsic+json": {
              "type": "string"
            }
          },
          "metadata": {},
          "execution_count": 15
        }
      ]
    },
    {
      "cell_type": "code",
      "source": [
        "dir_dataset2606 = '/content/26.06 new dataset'"
      ],
      "metadata": {
        "id": "un3417-WFR25"
      },
      "execution_count": 16,
      "outputs": []
    },
    {
      "cell_type": "code",
      "source": [
        "# /content/26.06 new dataset/neiro-08-22.csv\n",
        "fn2606_1 = dir_dataset2606 + '/neiro-08-22.csv'\n",
        "# print(f'fn2606_1: {fn2606_1}')\n",
        "\n",
        "# разворачиваем архив, если он не развернут\n",
        "if not os.path.exists(fn2606_1):\n",
        "  !unzip -q ICD20230626.zip\n",
        "\n",
        "# смотрим список файлов\n",
        "!ls '/content/26.06 new dataset'"
      ],
      "metadata": {
        "colab": {
          "base_uri": "https://localhost:8080/"
        },
        "id": "AX_pwb1mFD1f",
        "outputId": "d2e0de31-5d84-4ca0-cac0-2093d73ab913"
      },
      "execution_count": 17,
      "outputs": [
        {
          "output_type": "stream",
          "name": "stdout",
          "text": [
            " neiro_01-22.csv   neiro_03_23.csv   neiro_06-22.csv\t    neiro-10-22.csv\n",
            " neiro_01_23.csv   neiro_04-22.csv   neiro_06-23.csv\t    neiro_12-22.csv\n",
            " neiro_02-22.csv   neiro_04_23.csv   neiro_07-22.csv\n",
            " neiro_02_23.csv   neiro_05-22.csv   neiro-08-22.csv\n",
            " neiro_03-22.csv   neiro_05_23.csv  'neiro-09-22 (1).csv'\n"
          ]
        }
      ]
    },
    {
      "cell_type": "markdown",
      "source": [
        "**Отрываю в цикле последовавтельно все 17 csv-файлов и анализирую информацию по ним.**"
      ],
      "metadata": {
        "id": "A4OvPHgRLhFI"
      }
    },
    {
      "cell_type": "code",
      "source": [
        "files2606 = os.listdir(dir_dataset2606)\n",
        "files2606.sort()\n",
        "print(f'число файлов в архиве: {len(files2606)}')\n",
        "print(f'{files2606}')\n",
        "\n",
        "for i in range(len(files2606)):\n",
        "  df17_fn = dir_dataset2606 + '/' + files2606[i]\n",
        "  print()\n",
        "  print('='*50)\n",
        "  print(f'{i}->{len(files2606)}: {df17_fn}')\n",
        "  #~~~ читаем очередной датафрейм\n",
        "  # 2->17: /content/26.06 new dataset/neiro-10-22.csv\n",
        "  if 2 == i: continue\n",
        "  df17 = pd.read_csv(df17_fn, delimiter=';')\n",
        "  #~~~ информация о прочитанном датафрейме\n",
        "  df17.info()\n",
        "  #~~~ отображаю названия колонок текущего датафрейма\n",
        "  print('-'*25)\n",
        "  col17_names = list(df17.columns)\n",
        "  print(f'{len(col17_names)}: {col17_names}')\n",
        "  #~~~ удаляем открытый текущий датафрейм из памяти\n",
        "  del df17"
      ],
      "metadata": {
        "colab": {
          "base_uri": "https://localhost:8080/"
        },
        "id": "mjfYXmzej8hM",
        "outputId": "3e67c7a9-f277-4bc4-b109-1c7470e3e462"
      },
      "execution_count": 18,
      "outputs": [
        {
          "output_type": "stream",
          "name": "stdout",
          "text": [
            "число файлов в архиве: 17\n",
            "['neiro-08-22.csv', 'neiro-09-22 (1).csv', 'neiro-10-22.csv', 'neiro_01-22.csv', 'neiro_01_23.csv', 'neiro_02-22.csv', 'neiro_02_23.csv', 'neiro_03-22.csv', 'neiro_03_23.csv', 'neiro_04-22.csv', 'neiro_04_23.csv', 'neiro_05-22.csv', 'neiro_05_23.csv', 'neiro_06-22.csv', 'neiro_06-23.csv', 'neiro_07-22.csv', 'neiro_12-22.csv']\n",
            "\n",
            "==================================================\n",
            "0->17: /content/26.06 new dataset/neiro-08-22.csv\n",
            "<class 'pandas.core.frame.DataFrame'>\n",
            "RangeIndex: 1727 entries, 0 to 1726\n",
            "Columns: 304 entries, c81ca06c-f5ce-11ec-8102-0cc47aab8067 to Unnamed: 303\n",
            "dtypes: bool(1), object(303)\n",
            "memory usage: 4.0+ MB\n",
            "-------------------------\n",
            "304: ['c81ca06c-f5ce-11ec-8102-0cc47aab8067', '94fbc99b-f159-11ec-8102-0cc47aab8067', '1977-07-18T00:00:00', 'Мужской', 'Мужской.1', '2022-06-27T00:00:00', 'Периодический', 'Периодический.1', 'false', 'c8b811af-dcd2-11e8-80ce-0cc47aab8067', 'Unnamed: 10', 'Заместитель главного инженера', 'Годен', 'Годен к работе в указанных условиях', 'Годен к работе в указанных условиях.1', '4.2.5,6.2,9', '30fc59df-736a-4e65-ab0a-5c226779fd66', '2022-06-27T09:13:47', 'a24e2f71-6d10-425c-8a9c-cb28c6612e68', '2022-06-27T09:21:54', 'Z00.0', 'Общий медицинский осмотр', '[Z00.0] Общий медицинский осмотр\\r\\n', '[Z00.0] Общий медицинский осмотр\\r\\n.1', '91831768-6cc3-437c-8e6f-ae5ee39c85b5', '2022-06-27T09:23:11', 'Z00.0.1', 'Общий медицинский осмотр.1', '[Z00.0] Общий медицинский осмотр\\r\\n.2', '[Z00.0] Общий медицинский осмотр\\r\\n.3', 'f6bfa674-1338-4eeb-b5b5-4ba96a22bb89', '2022-06-27T09:26:43', 'Z00.0.2', 'Общий медицинский осмотр.2', '[Z00.0] Общий медицинский осмотр\\r\\n.4', '[Z00.0] Общий медицинский осмотр\\r\\n.5', '72a15087-2c0c-4d59-8dad-61397246508a', '2022-06-27T09:26:53', 'Z00.0.3', 'Общий медицинский осмотр.3', '[Z00.0] Общий медицинский осмотр\\r\\n.6', '[Z00.0] Общий медицинский осмотр\\r\\n.7', '34ffac59-0b94-423e-88bd-d9ad07639f11', '2022-06-27T09:30:14', 'Z00.0.4', 'Общий медицинский осмотр.4', '[Z00.0] Общий медицинский осмотр\\r\\n.8', '[Z00.0] Общий медицинский осмотр\\r\\n.9', '383b14ad-7cfd-4a56-830b-9084f9af260e', '2022-06-27T09:35:18', 'Z00.0.5', 'Общий медицинский осмотр.5', '[Z00.0] Общий медицинский осмотр\\r\\n.10', '[Z00.0] Общий медицинский осмотр\\r\\n.11', '7113817c-8537-4293-a706-48f02c3fc999', '2022-06-27T09:45:17', '157dfb1f-7f85-426e-8210-a5b0760c47d3', '2022-06-27T09:53:34', 'I11.9', 'Гипертензивная [гипертоническая] болезнь с преимущественным поражением сердца без (застойной) сердечной недостаточности', 'Unnamed: 60', 'Unnamed: 61', 'Unnamed: 62', 'Unnamed: 63', 'Unnamed: 64', 'Unnamed: 65', 'Unnamed: 66', 'Unnamed: 67', 'Unnamed: 68', 'Unnamed: 69', 'Unnamed: 70', 'Unnamed: 71', 'Unnamed: 72', 'Unnamed: 73', 'Unnamed: 74', 'Unnamed: 75', 'Unnamed: 76', 'Unnamed: 77', 'Unnamed: 78', 'Unnamed: 79', 'Unnamed: 80', 'Unnamed: 81', 'Unnamed: 82', 'Unnamed: 83', 'Unnamed: 84', 'Unnamed: 85', 'Unnamed: 86', 'Unnamed: 87', 'Unnamed: 88', 'Unnamed: 89', 'Unnamed: 90', 'Unnamed: 91', 'Unnamed: 92', 'Unnamed: 93', 'Unnamed: 94', 'Unnamed: 95', 'Unnamed: 96', 'Unnamed: 97', 'Unnamed: 98', 'Unnamed: 99', 'Unnamed: 100', 'Unnamed: 101', 'Unnamed: 102', 'Unnamed: 103', 'Unnamed: 104', 'Unnamed: 105', 'Unnamed: 106', 'Unnamed: 107', 'Unnamed: 108', 'Unnamed: 109', 'Unnamed: 110', 'Unnamed: 111', 'Unnamed: 112', 'Unnamed: 113', 'Unnamed: 114', 'Unnamed: 115', 'Unnamed: 116', 'Unnamed: 117', 'Unnamed: 118', 'Unnamed: 119', 'Unnamed: 120', 'Unnamed: 121', 'Unnamed: 122', 'Unnamed: 123', 'Unnamed: 124', 'Unnamed: 125', 'Unnamed: 126', 'Unnamed: 127', 'Unnamed: 128', 'Unnamed: 129', 'Unnamed: 130', 'Unnamed: 131', 'Unnamed: 132', 'Unnamed: 133', 'Unnamed: 134', 'Unnamed: 135', 'Unnamed: 136', 'Unnamed: 137', 'Unnamed: 138', 'Unnamed: 139', 'Unnamed: 140', 'Unnamed: 141', 'Unnamed: 142', 'Unnamed: 143', 'Unnamed: 144', 'Unnamed: 145', 'Unnamed: 146', 'Unnamed: 147', 'Unnamed: 148', 'Unnamed: 149', 'Unnamed: 150', 'Unnamed: 151', 'Unnamed: 152', 'Unnamed: 153', 'Unnamed: 154', 'Unnamed: 155', 'Unnamed: 156', 'Unnamed: 157', 'Unnamed: 158', 'Unnamed: 159', 'Unnamed: 160', 'Unnamed: 161', 'Unnamed: 162', 'Unnamed: 163', 'Unnamed: 164', 'Unnamed: 165', 'Unnamed: 166', 'Unnamed: 167', 'Unnamed: 168', 'Unnamed: 169', 'Unnamed: 170', 'Unnamed: 171', 'Unnamed: 172', 'Unnamed: 173', 'Unnamed: 174', 'Unnamed: 175', 'Unnamed: 176', 'Unnamed: 177', 'Unnamed: 178', 'Unnamed: 179', 'Unnamed: 180', 'Unnamed: 181', 'Unnamed: 182', 'Unnamed: 183', 'Unnamed: 184', 'Unnamed: 185', 'Unnamed: 186', 'Unnamed: 187', 'Unnamed: 188', 'Unnamed: 189', 'Unnamed: 190', 'Unnamed: 191', 'Unnamed: 192', 'Unnamed: 193', 'Unnamed: 194', 'Unnamed: 195', 'Unnamed: 196', 'Unnamed: 197', 'Unnamed: 198', 'Unnamed: 199', 'Unnamed: 200', 'Unnamed: 201', 'Unnamed: 202', 'Unnamed: 203', 'Unnamed: 204', 'Unnamed: 205', 'Unnamed: 206', 'Unnamed: 207', 'Unnamed: 208', 'Unnamed: 209', 'Unnamed: 210', 'Unnamed: 211', 'Unnamed: 212', 'Unnamed: 213', 'Unnamed: 214', 'Unnamed: 215', 'Unnamed: 216', 'Unnamed: 217', 'Unnamed: 218', 'Unnamed: 219', 'Unnamed: 220', 'Unnamed: 221', 'Unnamed: 222', 'Unnamed: 223', 'Unnamed: 224', 'Unnamed: 225', 'Unnamed: 226', 'Unnamed: 227', 'Unnamed: 228', 'Unnamed: 229', 'Unnamed: 230', 'Unnamed: 231', 'Unnamed: 232', 'Unnamed: 233', 'Unnamed: 234', 'Unnamed: 235', 'Unnamed: 236', 'Unnamed: 237', 'Unnamed: 238', 'Unnamed: 239', 'Unnamed: 240', 'Unnamed: 241', 'Unnamed: 242', 'Unnamed: 243', 'Unnamed: 244', 'Unnamed: 245', 'Unnamed: 246', 'Unnamed: 247', 'Unnamed: 248', 'Unnamed: 249', 'Unnamed: 250', 'Unnamed: 251', 'Unnamed: 252', 'Unnamed: 253', 'Unnamed: 254', 'Unnamed: 255', 'Unnamed: 256', 'Unnamed: 257', 'Unnamed: 258', 'Unnamed: 259', 'Unnamed: 260', 'Unnamed: 261', 'Unnamed: 262', 'Unnamed: 263', 'Unnamed: 264', 'Unnamed: 265', 'Unnamed: 266', 'Unnamed: 267', 'Unnamed: 268', 'Unnamed: 269', 'Unnamed: 270', 'Unnamed: 271', 'Unnamed: 272', 'Unnamed: 273', 'Unnamed: 274', 'Unnamed: 275', 'Unnamed: 276', 'Unnamed: 277', 'Unnamed: 278', 'Unnamed: 279', 'Unnamed: 280', 'Unnamed: 281', 'Unnamed: 282', 'Unnamed: 283', 'Unnamed: 284', 'Unnamed: 285', 'Unnamed: 286', 'Unnamed: 287', 'Unnamed: 288', 'Unnamed: 289', 'Unnamed: 290', 'Unnamed: 291', 'Unnamed: 292', 'Unnamed: 293', 'Unnamed: 294', 'Unnamed: 295', 'Unnamed: 296', 'Unnamed: 297', 'Unnamed: 298', 'Unnamed: 299', 'Unnamed: 300', 'Unnamed: 301', 'Unnamed: 302', 'Unnamed: 303']\n",
            "\n",
            "==================================================\n",
            "1->17: /content/26.06 new dataset/neiro-09-22 (1).csv\n",
            "<class 'pandas.core.frame.DataFrame'>\n",
            "RangeIndex: 1746 entries, 0 to 1745\n",
            "Columns: 310 entries, 929cbdbe-fb47-11ec-8102-0cc47aab8067 to Unnamed: 309\n",
            "dtypes: bool(1), object(309)\n",
            "memory usage: 4.1+ MB\n",
            "-------------------------\n",
            "310: ['929cbdbe-fb47-11ec-8102-0cc47aab8067', '961d6501-f7a0-11ec-8102-0cc47aab8067', '1989-02-01T00:00:00', 'Женский', 'Женский.1', '2022-07-04T00:00:00', 'Периодический', 'Периодический.1', 'false', 'c916ecc9-f797-11ec-8102-0cc47aab8067', 'Unnamed: 10', 'Кассир', 'Годен', 'Годен к работе в указанных условиях', 'Годен к работе в указанных условиях.1', '23', '2c952c7c-129a-4074-b30c-658ecbd36b52', '2022-07-04T08:19:10', 'Z00.0', 'Общий медицинский осмотр', '[Z00.0] Общий медицинский осмотр\\r\\n', '[Z00.0] Общий медицинский осмотр\\r\\n.1', 'eb17724a-1b0f-436b-ac7b-a61b288ecef1', '2022-07-04T08:26:48', 'Z00.0.1', 'Общий медицинский осмотр.1', '[Z00.0] Общий медицинский осмотр\\r\\n.2', '[Z00.0] Общий медицинский осмотр\\r\\n.3', 'aa6ddcab-dcb8-4847-95a1-802cbfc1ce5a', '2022-07-04T08:27:58', 'Z00.0.2', 'Общий медицинский осмотр.2', '[Z00.0] Общий медицинский осмотр\\r\\n.4', '[Z00.0] Общий медицинский осмотр\\r\\n.5', '5e919e64-debe-4321-a110-e390d46d7715', '2022-07-04T08:31:30', '693775e2-ecaa-4507-8f35-e6615ef9d58c', '2022-07-04T08:34:56', 'Z00.0.3', 'Общий медицинский осмотр.3', '3a3cee92-7d8e-4be8-8591-0cc592242da5', '2022-07-04T08:35:07', 'Z00.0.4', 'Общий медицинский осмотр.4', '[Z00.0] Общий медицинский осмотр\\r\\n.6', '[Z00.0] Общий медицинский осмотр\\r\\n.7', 'dd0b0dda-ef78-4d51-9e8c-3ff723193364', '2022-07-04T08:36:44', 'Z00.0.5', 'Общий медицинский осмотр.5', '[Z00.0] Общий медицинский осмотр\\r\\n.8', '[Z00.0] Общий медицинский осмотр\\r\\n.9', 'a11d9750-161e-453f-87cf-e457692539fc', '2022-07-04T08:42:25', '5f7024cd-6ac9-4760-97f8-83709ff41e44', '2022-07-04T08:46:33', 'Z00.0.6', 'Общий медицинский осмотр.6', '4f0a9404-a10d-4e21-b798-5cc1f1c78d37', '2022-07-04T08:52:55', 'Z00.0.7', 'Общий медицинский осмотр.7', 'Unnamed: 62', 'Unnamed: 63', 'Unnamed: 64', 'Unnamed: 65', 'Unnamed: 66', 'Unnamed: 67', 'Unnamed: 68', 'Unnamed: 69', 'Unnamed: 70', 'Unnamed: 71', 'Unnamed: 72', 'Unnamed: 73', 'Unnamed: 74', 'Unnamed: 75', 'Unnamed: 76', 'Unnamed: 77', 'Unnamed: 78', 'Unnamed: 79', 'Unnamed: 80', 'Unnamed: 81', 'Unnamed: 82', 'Unnamed: 83', 'Unnamed: 84', 'Unnamed: 85', 'Unnamed: 86', 'Unnamed: 87', 'Unnamed: 88', 'Unnamed: 89', 'Unnamed: 90', 'Unnamed: 91', 'Unnamed: 92', 'Unnamed: 93', 'Unnamed: 94', 'Unnamed: 95', 'Unnamed: 96', 'Unnamed: 97', 'Unnamed: 98', 'Unnamed: 99', 'Unnamed: 100', 'Unnamed: 101', 'Unnamed: 102', 'Unnamed: 103', 'Unnamed: 104', 'Unnamed: 105', 'Unnamed: 106', 'Unnamed: 107', 'Unnamed: 108', 'Unnamed: 109', 'Unnamed: 110', 'Unnamed: 111', 'Unnamed: 112', 'Unnamed: 113', 'Unnamed: 114', 'Unnamed: 115', 'Unnamed: 116', 'Unnamed: 117', 'Unnamed: 118', 'Unnamed: 119', 'Unnamed: 120', 'Unnamed: 121', 'Unnamed: 122', 'Unnamed: 123', 'Unnamed: 124', 'Unnamed: 125', 'Unnamed: 126', 'Unnamed: 127', 'Unnamed: 128', 'Unnamed: 129', 'Unnamed: 130', 'Unnamed: 131', 'Unnamed: 132', 'Unnamed: 133', 'Unnamed: 134', 'Unnamed: 135', 'Unnamed: 136', 'Unnamed: 137', 'Unnamed: 138', 'Unnamed: 139', 'Unnamed: 140', 'Unnamed: 141', 'Unnamed: 142', 'Unnamed: 143', 'Unnamed: 144', 'Unnamed: 145', 'Unnamed: 146', 'Unnamed: 147', 'Unnamed: 148', 'Unnamed: 149', 'Unnamed: 150', 'Unnamed: 151', 'Unnamed: 152', 'Unnamed: 153', 'Unnamed: 154', 'Unnamed: 155', 'Unnamed: 156', 'Unnamed: 157', 'Unnamed: 158', 'Unnamed: 159', 'Unnamed: 160', 'Unnamed: 161', 'Unnamed: 162', 'Unnamed: 163', 'Unnamed: 164', 'Unnamed: 165', 'Unnamed: 166', 'Unnamed: 167', 'Unnamed: 168', 'Unnamed: 169', 'Unnamed: 170', 'Unnamed: 171', 'Unnamed: 172', 'Unnamed: 173', 'Unnamed: 174', 'Unnamed: 175', 'Unnamed: 176', 'Unnamed: 177', 'Unnamed: 178', 'Unnamed: 179', 'Unnamed: 180', 'Unnamed: 181', 'Unnamed: 182', 'Unnamed: 183', 'Unnamed: 184', 'Unnamed: 185', 'Unnamed: 186', 'Unnamed: 187', 'Unnamed: 188', 'Unnamed: 189', 'Unnamed: 190', 'Unnamed: 191', 'Unnamed: 192', 'Unnamed: 193', 'Unnamed: 194', 'Unnamed: 195', 'Unnamed: 196', 'Unnamed: 197', 'Unnamed: 198', 'Unnamed: 199', 'Unnamed: 200', 'Unnamed: 201', 'Unnamed: 202', 'Unnamed: 203', 'Unnamed: 204', 'Unnamed: 205', 'Unnamed: 206', 'Unnamed: 207', 'Unnamed: 208', 'Unnamed: 209', 'Unnamed: 210', 'Unnamed: 211', 'Unnamed: 212', 'Unnamed: 213', 'Unnamed: 214', 'Unnamed: 215', 'Unnamed: 216', 'Unnamed: 217', 'Unnamed: 218', 'Unnamed: 219', 'Unnamed: 220', 'Unnamed: 221', 'Unnamed: 222', 'Unnamed: 223', 'Unnamed: 224', 'Unnamed: 225', 'Unnamed: 226', 'Unnamed: 227', 'Unnamed: 228', 'Unnamed: 229', 'Unnamed: 230', 'Unnamed: 231', 'Unnamed: 232', 'Unnamed: 233', 'Unnamed: 234', 'Unnamed: 235', 'Unnamed: 236', 'Unnamed: 237', 'Unnamed: 238', 'Unnamed: 239', 'Unnamed: 240', 'Unnamed: 241', 'Unnamed: 242', 'Unnamed: 243', 'Unnamed: 244', 'Unnamed: 245', 'Unnamed: 246', 'Unnamed: 247', 'Unnamed: 248', 'Unnamed: 249', 'Unnamed: 250', 'Unnamed: 251', 'Unnamed: 252', 'Unnamed: 253', 'Unnamed: 254', 'Unnamed: 255', 'Unnamed: 256', 'Unnamed: 257', 'Unnamed: 258', 'Unnamed: 259', 'Unnamed: 260', 'Unnamed: 261', 'Unnamed: 262', 'Unnamed: 263', 'Unnamed: 264', 'Unnamed: 265', 'Unnamed: 266', 'Unnamed: 267', 'Unnamed: 268', 'Unnamed: 269', 'Unnamed: 270', 'Unnamed: 271', 'Unnamed: 272', 'Unnamed: 273', 'Unnamed: 274', 'Unnamed: 275', 'Unnamed: 276', 'Unnamed: 277', 'Unnamed: 278', 'Unnamed: 279', 'Unnamed: 280', 'Unnamed: 281', 'Unnamed: 282', 'Unnamed: 283', 'Unnamed: 284', 'Unnamed: 285', 'Unnamed: 286', 'Unnamed: 287', 'Unnamed: 288', 'Unnamed: 289', 'Unnamed: 290', 'Unnamed: 291', 'Unnamed: 292', 'Unnamed: 293', 'Unnamed: 294', 'Unnamed: 295', 'Unnamed: 296', 'Unnamed: 297', 'Unnamed: 298', 'Unnamed: 299', 'Unnamed: 300', 'Unnamed: 301', 'Unnamed: 302', 'Unnamed: 303', 'Unnamed: 304', 'Unnamed: 305', 'Unnamed: 306', 'Unnamed: 307', 'Unnamed: 308', 'Unnamed: 309']\n",
            "\n",
            "==================================================\n",
            "2->17: /content/26.06 new dataset/neiro-10-22.csv\n",
            "\n",
            "==================================================\n",
            "3->17: /content/26.06 new dataset/neiro_01-22.csv\n",
            "<class 'pandas.core.frame.DataFrame'>\n",
            "RangeIndex: 1511 entries, 0 to 1510\n",
            "Columns: 342 entries, 79292387-652a-11eb-80e7-0cc47aab8067 to Unnamed: 341\n",
            "dtypes: bool(1), object(341)\n",
            "memory usage: 3.9+ MB\n",
            "-------------------------\n",
            "342: ['79292387-652a-11eb-80e7-0cc47aab8067', 'dca98d4e-2098-11ea-80d6-0cc47aab8067', '1989-12-31T00:00:00', 'Женский', 'Женский.1', '2021-02-02T00:00:00', 'Периодический', 'Периодический.1', 'false', '3d01b2d6-ae08-11e9-80cf-0cc47aab8067', 'Unnamed: 10', 'Продавец-кассир', 'Годен', 'Годен к работе в указанных условиях', 'Годен к работе в указанных условиях.1', 'Unnamed: 15', '9d00a176-652b-11eb-80e7-0cc47aab8067', '2021-02-02T12:52:36', 'Z00.0', 'Общий медицинский осмотр', 'db370d12-652d-11eb-80e7-0cc47aab8067', '2021-02-02T13:08:48', 'Z00.0.1', 'Общий медицинский осмотр.1', '[Z00.0] Общий медицинский осмотр\\r\\n', '[Z00.0] Общий медицинский осмотр\\r\\n.1', '7b1df30e-652e-11eb-80e7-0cc47aab8067', '2021-02-02T13:13:08', 'Z00.0.2', 'Общий медицинский осмотр.2', '[Z00.0] Общий медицинский осмотр\\r\\n.2', '[Z00.0] Общий медицинский осмотр\\r\\n.3', 'b1e1aace-652e-11eb-80e7-0cc47aab8067', '2021-02-02T13:14:42', 'Z00.0.3', 'Общий медицинский осмотр.3', '[Z00.0] Общий медицинский осмотр\\r\\n.4', '[Z00.0] Общий медицинский осмотр\\r\\n.5', 'f6a5bb28-652f-11eb-80e7-0cc47aab8067', '2021-02-02T13:23:48', 'Z00.0.4', 'Общий медицинский осмотр.4', '[Z00.0] Общий медицинский осмотр\\r\\n.6', '[Z00.0] Общий медицинский осмотр\\r\\n.7', '2b616398-6539-11eb-80e7-0cc47aab8067', '2021-02-02T14:29:39', 'Z00.0.5', 'Общий медицинский осмотр.5', '[Z00.0] Общий медицинский осмотр\\r\\n.8', '[Z00.0] Общий медицинский осмотр\\r\\n.9', '855ab0d8-6539-11eb-80e7-0cc47aab8067', '2021-02-02T14:32:13', '7a123f6e-653b-11eb-80e7-0cc47aab8067', '2021-02-02T14:46:13', 'Z00.0.6', 'Общий медицинский осмотр.6', '[Z00.0] Общий медицинский осмотр\\r\\n.10', '[Z00.0] Общий медицинский осмотр\\r\\n.11', 'Unnamed: 58', 'Unnamed: 59', 'Unnamed: 60', 'Unnamed: 61', 'Unnamed: 62', 'Unnamed: 63', 'Unnamed: 64', 'Unnamed: 65', 'Unnamed: 66', 'Unnamed: 67', 'Unnamed: 68', 'Unnamed: 69', 'Unnamed: 70', 'Unnamed: 71', 'Unnamed: 72', 'Unnamed: 73', 'Unnamed: 74', 'Unnamed: 75', 'Unnamed: 76', 'Unnamed: 77', 'Unnamed: 78', 'Unnamed: 79', 'Unnamed: 80', 'Unnamed: 81', 'Unnamed: 82', 'Unnamed: 83', 'Unnamed: 84', 'Unnamed: 85', 'Unnamed: 86', 'Unnamed: 87', 'Unnamed: 88', 'Unnamed: 89', 'Unnamed: 90', 'Unnamed: 91', 'Unnamed: 92', 'Unnamed: 93', 'Unnamed: 94', 'Unnamed: 95', 'Unnamed: 96', 'Unnamed: 97', 'Unnamed: 98', 'Unnamed: 99', 'Unnamed: 100', 'Unnamed: 101', 'Unnamed: 102', 'Unnamed: 103', 'Unnamed: 104', 'Unnamed: 105', 'Unnamed: 106', 'Unnamed: 107', 'Unnamed: 108', 'Unnamed: 109', 'Unnamed: 110', 'Unnamed: 111', 'Unnamed: 112', 'Unnamed: 113', 'Unnamed: 114', 'Unnamed: 115', 'Unnamed: 116', 'Unnamed: 117', 'Unnamed: 118', 'Unnamed: 119', 'Unnamed: 120', 'Unnamed: 121', 'Unnamed: 122', 'Unnamed: 123', 'Unnamed: 124', 'Unnamed: 125', 'Unnamed: 126', 'Unnamed: 127', 'Unnamed: 128', 'Unnamed: 129', 'Unnamed: 130', 'Unnamed: 131', 'Unnamed: 132', 'Unnamed: 133', 'Unnamed: 134', 'Unnamed: 135', 'Unnamed: 136', 'Unnamed: 137', 'Unnamed: 138', 'Unnamed: 139', 'Unnamed: 140', 'Unnamed: 141', 'Unnamed: 142', 'Unnamed: 143', 'Unnamed: 144', 'Unnamed: 145', 'Unnamed: 146', 'Unnamed: 147', 'Unnamed: 148', 'Unnamed: 149', 'Unnamed: 150', 'Unnamed: 151', 'Unnamed: 152', 'Unnamed: 153', 'Unnamed: 154', 'Unnamed: 155', 'Unnamed: 156', 'Unnamed: 157', 'Unnamed: 158', 'Unnamed: 159', 'Unnamed: 160', 'Unnamed: 161', 'Unnamed: 162', 'Unnamed: 163', 'Unnamed: 164', 'Unnamed: 165', 'Unnamed: 166', 'Unnamed: 167', 'Unnamed: 168', 'Unnamed: 169', 'Unnamed: 170', 'Unnamed: 171', 'Unnamed: 172', 'Unnamed: 173', 'Unnamed: 174', 'Unnamed: 175', 'Unnamed: 176', 'Unnamed: 177', 'Unnamed: 178', 'Unnamed: 179', 'Unnamed: 180', 'Unnamed: 181', 'Unnamed: 182', 'Unnamed: 183', 'Unnamed: 184', 'Unnamed: 185', 'Unnamed: 186', 'Unnamed: 187', 'Unnamed: 188', 'Unnamed: 189', 'Unnamed: 190', 'Unnamed: 191', 'Unnamed: 192', 'Unnamed: 193', 'Unnamed: 194', 'Unnamed: 195', 'Unnamed: 196', 'Unnamed: 197', 'Unnamed: 198', 'Unnamed: 199', 'Unnamed: 200', 'Unnamed: 201', 'Unnamed: 202', 'Unnamed: 203', 'Unnamed: 204', 'Unnamed: 205', 'Unnamed: 206', 'Unnamed: 207', 'Unnamed: 208', 'Unnamed: 209', 'Unnamed: 210', 'Unnamed: 211', 'Unnamed: 212', 'Unnamed: 213', 'Unnamed: 214', 'Unnamed: 215', 'Unnamed: 216', 'Unnamed: 217', 'Unnamed: 218', 'Unnamed: 219', 'Unnamed: 220', 'Unnamed: 221', 'Unnamed: 222', 'Unnamed: 223', 'Unnamed: 224', 'Unnamed: 225', 'Unnamed: 226', 'Unnamed: 227', 'Unnamed: 228', 'Unnamed: 229', 'Unnamed: 230', 'Unnamed: 231', 'Unnamed: 232', 'Unnamed: 233', 'Unnamed: 234', 'Unnamed: 235', 'Unnamed: 236', 'Unnamed: 237', 'Unnamed: 238', 'Unnamed: 239', 'Unnamed: 240', 'Unnamed: 241', 'Unnamed: 242', 'Unnamed: 243', 'Unnamed: 244', 'Unnamed: 245', 'Unnamed: 246', 'Unnamed: 247', 'Unnamed: 248', 'Unnamed: 249', 'Unnamed: 250', 'Unnamed: 251', 'Unnamed: 252', 'Unnamed: 253', 'Unnamed: 254', 'Unnamed: 255', 'Unnamed: 256', 'Unnamed: 257', 'Unnamed: 258', 'Unnamed: 259', 'Unnamed: 260', 'Unnamed: 261', 'Unnamed: 262', 'Unnamed: 263', 'Unnamed: 264', 'Unnamed: 265', 'Unnamed: 266', 'Unnamed: 267', 'Unnamed: 268', 'Unnamed: 269', 'Unnamed: 270', 'Unnamed: 271', 'Unnamed: 272', 'Unnamed: 273', 'Unnamed: 274', 'Unnamed: 275', 'Unnamed: 276', 'Unnamed: 277', 'Unnamed: 278', 'Unnamed: 279', 'Unnamed: 280', 'Unnamed: 281', 'Unnamed: 282', 'Unnamed: 283', 'Unnamed: 284', 'Unnamed: 285', 'Unnamed: 286', 'Unnamed: 287', 'Unnamed: 288', 'Unnamed: 289', 'Unnamed: 290', 'Unnamed: 291', 'Unnamed: 292', 'Unnamed: 293', 'Unnamed: 294', 'Unnamed: 295', 'Unnamed: 296', 'Unnamed: 297', 'Unnamed: 298', 'Unnamed: 299', 'Unnamed: 300', 'Unnamed: 301', 'Unnamed: 302', 'Unnamed: 303', 'Unnamed: 304', 'Unnamed: 305', 'Unnamed: 306', 'Unnamed: 307', 'Unnamed: 308', 'Unnamed: 309', 'Unnamed: 310', 'Unnamed: 311', 'Unnamed: 312', 'Unnamed: 313', 'Unnamed: 314', 'Unnamed: 315', 'Unnamed: 316', 'Unnamed: 317', 'Unnamed: 318', 'Unnamed: 319', 'Unnamed: 320', 'Unnamed: 321', 'Unnamed: 322', 'Unnamed: 323', 'Unnamed: 324', 'Unnamed: 325', 'Unnamed: 326', 'Unnamed: 327', 'Unnamed: 328', 'Unnamed: 329', 'Unnamed: 330', 'Unnamed: 331', 'Unnamed: 332', 'Unnamed: 333', 'Unnamed: 334', 'Unnamed: 335', 'Unnamed: 336', 'Unnamed: 337', 'Unnamed: 338', 'Unnamed: 339', 'Unnamed: 340', 'Unnamed: 341']\n",
            "\n",
            "==================================================\n",
            "4->17: /content/26.06 new dataset/neiro_01_23.csv\n",
            "<class 'pandas.core.frame.DataFrame'>\n",
            "RangeIndex: 1317 entries, 0 to 1316\n",
            "Columns: 228 entries, 26111b29-0ca7-11ed-8103-0cc47aab8067 to Unnamed: 227\n",
            "dtypes: bool(1), float64(4), object(223)\n",
            "memory usage: 2.3+ MB\n",
            "-------------------------\n",
            "228: ['26111b29-0ca7-11ed-8103-0cc47aab8067', 'a8417fd9-0bc9-11ed-8103-0cc47aab8067', '1996-04-27T00:00:00', 'Мужской', 'Мужской.1', '2022-07-26T00:00:00', 'Периодический', 'Периодический.1', 'false', '00bbe942-2944-11ea-80d7-0cc47aab8067', 'Unnamed: 10', 'Техник по телеметрии', 'Годен', 'Годен к работе в указанных условиях', 'Годен к работе в указанных условиях.1', '4.4,4.9,11.1', '5eb8eb10-4559-4fb1-b6e4-6880d9356129', '2022-07-26T10:58:23', 'Z00.0', 'Общий медицинский осмотр', '[Z00.0] Общий медицинский осмотр\\r\\n', '[Z00.0] Общий медицинский осмотр\\r\\n.1', '3ce81674-5609-4083-947b-8275a7320206', '2022-07-26T11:01:06', 'Z00.0.1', 'Общий медицинский осмотр.1', '[Z00.0] Общий медицинский осмотр\\r\\n.2', '[Z00.0] Общий медицинский осмотр\\r\\n.3', 'e450aae3-0a8e-4bde-9cb6-247d58350a20', '2022-07-26T11:03:50', 'Z00.0.2', 'Общий медицинский осмотр.2', '4012e865-e138-42ef-b677-e2ea71586ee1', '2022-07-26T11:05:19', 'Z00.0.3', 'Общий медицинский осмотр.3', '[Z00.0] Общий медицинский осмотр\\r\\n.4', '[Z00.0] Общий медицинский осмотр\\r\\n.5', '4a43d4b6-6977-42ef-8456-6c046495aa77', '2022-07-26T11:08:13', '1e2d189b-9237-427c-8411-e277b28fe57b', '2022-07-26T11:08:25', 'Z00.0.4', 'Общий медицинский осмотр.4', '[Z00.0] Общий медицинский осмотр\\r\\n.6', '[Z00.0] Общий медицинский осмотр\\r\\n.7', 'c7064d5c-68ea-4be2-9297-7047a11b73ae', '2022-07-26T11:12:47', 'c987312f-09d7-487a-ba44-b8d608ca8791', '2022-07-26T12:39:26', 'f4b54dbb-ed46-467c-a473-ce4ca94410c2', '2022-07-26T12:59:16', 'Z00.0.5', 'Общий медицинский осмотр.5', '97a671f6-b9c2-42ec-beb5-c8a396aeebda', '2022-08-01T09:02:44', 'Z00.0.6', 'Общий медицинский осмотр.6', 'Unnamed: 58', 'Unnamed: 59', 'Unnamed: 60', 'Unnamed: 61', 'Unnamed: 62', 'Unnamed: 63', 'Unnamed: 64', 'Unnamed: 65', 'Unnamed: 66', 'Unnamed: 67', 'Unnamed: 68', 'Unnamed: 69', 'Unnamed: 70', 'Unnamed: 71', 'Unnamed: 72', 'Unnamed: 73', 'Unnamed: 74', 'Unnamed: 75', 'Unnamed: 76', 'Unnamed: 77', 'Unnamed: 78', 'Unnamed: 79', 'Unnamed: 80', 'Unnamed: 81', 'Unnamed: 82', 'Unnamed: 83', 'Unnamed: 84', 'Unnamed: 85', 'Unnamed: 86', 'Unnamed: 87', 'Unnamed: 88', 'Unnamed: 89', 'Unnamed: 90', 'Unnamed: 91', 'Unnamed: 92', 'Unnamed: 93', 'Unnamed: 94', 'Unnamed: 95', 'Unnamed: 96', 'Unnamed: 97', 'Unnamed: 98', 'Unnamed: 99', 'Unnamed: 100', 'Unnamed: 101', 'Unnamed: 102', 'Unnamed: 103', 'Unnamed: 104', 'Unnamed: 105', 'Unnamed: 106', 'Unnamed: 107', 'Unnamed: 108', 'Unnamed: 109', 'Unnamed: 110', 'Unnamed: 111', 'Unnamed: 112', 'Unnamed: 113', 'Unnamed: 114', 'Unnamed: 115', 'Unnamed: 116', 'Unnamed: 117', 'Unnamed: 118', 'Unnamed: 119', 'Unnamed: 120', 'Unnamed: 121', 'Unnamed: 122', 'Unnamed: 123', 'Unnamed: 124', 'Unnamed: 125', 'Unnamed: 126', 'Unnamed: 127', 'Unnamed: 128', 'Unnamed: 129', 'Unnamed: 130', 'Unnamed: 131', 'Unnamed: 132', 'Unnamed: 133', 'Unnamed: 134', 'Unnamed: 135', 'Unnamed: 136', 'Unnamed: 137', 'Unnamed: 138', 'Unnamed: 139', 'Unnamed: 140', 'Unnamed: 141', 'Unnamed: 142', 'Unnamed: 143', 'Unnamed: 144', 'Unnamed: 145', 'Unnamed: 146', 'Unnamed: 147', 'Unnamed: 148', 'Unnamed: 149', 'Unnamed: 150', 'Unnamed: 151', 'Unnamed: 152', 'Unnamed: 153', 'Unnamed: 154', 'Unnamed: 155', 'Unnamed: 156', 'Unnamed: 157', 'Unnamed: 158', 'Unnamed: 159', 'Unnamed: 160', 'Unnamed: 161', 'Unnamed: 162', 'Unnamed: 163', 'Unnamed: 164', 'Unnamed: 165', 'Unnamed: 166', 'Unnamed: 167', 'Unnamed: 168', 'Unnamed: 169', 'Unnamed: 170', 'Unnamed: 171', 'Unnamed: 172', 'Unnamed: 173', 'Unnamed: 174', 'Unnamed: 175', 'Unnamed: 176', 'Unnamed: 177', 'Unnamed: 178', 'Unnamed: 179', 'Unnamed: 180', 'Unnamed: 181', 'Unnamed: 182', 'Unnamed: 183', 'Unnamed: 184', 'Unnamed: 185', 'Unnamed: 186', 'Unnamed: 187', 'Unnamed: 188', 'Unnamed: 189', 'Unnamed: 190', 'Unnamed: 191', 'Unnamed: 192', 'Unnamed: 193', 'Unnamed: 194', 'Unnamed: 195', 'Unnamed: 196', 'Unnamed: 197', 'Unnamed: 198', 'Unnamed: 199', 'Unnamed: 200', 'Unnamed: 201', 'Unnamed: 202', 'Unnamed: 203', 'Unnamed: 204', 'Unnamed: 205', 'Unnamed: 206', 'Unnamed: 207', 'Unnamed: 208', 'Unnamed: 209', 'Unnamed: 210', 'Unnamed: 211', 'Unnamed: 212', 'Unnamed: 213', 'Unnamed: 214', 'Unnamed: 215', 'Unnamed: 216', 'Unnamed: 217', 'Unnamed: 218', 'Unnamed: 219', 'Unnamed: 220', 'Unnamed: 221', 'Unnamed: 222', 'Unnamed: 223', 'Unnamed: 224', 'Unnamed: 225', 'Unnamed: 226', 'Unnamed: 227']\n",
            "\n",
            "==================================================\n",
            "5->17: /content/26.06 new dataset/neiro_02-22.csv\n",
            "<class 'pandas.core.frame.DataFrame'>\n",
            "RangeIndex: 1433 entries, 0 to 1432\n",
            "Columns: 294 entries, 1ab546f9-cc4a-11e8-80ce-0cc47aab8067 to Unnamed: 293\n",
            "dtypes: bool(1), object(293)\n",
            "memory usage: 3.2+ MB\n",
            "-------------------------\n",
            "294: ['1ab546f9-cc4a-11e8-80ce-0cc47aab8067', 'd038b83f-e137-11e6-80d2-708bcd7f83cd', '1984-03-05T00:00:00', 'Мужской', 'Мужской.1', '2018-10-10T00:00:00', 'Периодический', 'Периодический.1', 'false', '3ad89617-15c8-11e6-bae4-60a44c4fed07', 'Подразделение эксплуатации и технического обслуживания объектов Ингка , Уфа', 'Менеджер проектов', 'Годен', 'Годен к работе в указанных условиях', 'Годен к работе в указанных условиях.1', 'Unnamed: 15', 'Unnamed: 16', 'Unnamed: 17', 'Unnamed: 18', 'Unnamed: 19', 'Unnamed: 20', 'Unnamed: 21', 'Unnamed: 22', 'Unnamed: 23', 'Unnamed: 24', 'Unnamed: 25', 'Unnamed: 26', 'Unnamed: 27', 'Unnamed: 28', 'Unnamed: 29', 'Unnamed: 30', 'Unnamed: 31', 'Unnamed: 32', 'Unnamed: 33', 'Unnamed: 34', 'Unnamed: 35', 'Unnamed: 36', 'Unnamed: 37', 'Unnamed: 38', 'Unnamed: 39', 'Unnamed: 40', 'Unnamed: 41', 'Unnamed: 42', 'Unnamed: 43', 'Unnamed: 44', 'Unnamed: 45', 'Unnamed: 46', 'Unnamed: 47', 'Unnamed: 48', 'Unnamed: 49', 'Unnamed: 50', 'Unnamed: 51', 'Unnamed: 52', 'Unnamed: 53', 'Unnamed: 54', 'Unnamed: 55', 'Unnamed: 56', 'Unnamed: 57', 'Unnamed: 58', 'Unnamed: 59', 'Unnamed: 60', 'Unnamed: 61', 'Unnamed: 62', 'Unnamed: 63', 'Unnamed: 64', 'Unnamed: 65', 'Unnamed: 66', 'Unnamed: 67', 'Unnamed: 68', 'Unnamed: 69', 'Unnamed: 70', 'Unnamed: 71', 'Unnamed: 72', 'Unnamed: 73', 'Unnamed: 74', 'Unnamed: 75', 'Unnamed: 76', 'Unnamed: 77', 'Unnamed: 78', 'Unnamed: 79', 'Unnamed: 80', 'Unnamed: 81', 'Unnamed: 82', 'Unnamed: 83', 'Unnamed: 84', 'Unnamed: 85', 'Unnamed: 86', 'Unnamed: 87', 'Unnamed: 88', 'Unnamed: 89', 'Unnamed: 90', 'Unnamed: 91', 'Unnamed: 92', 'Unnamed: 93', 'Unnamed: 94', 'Unnamed: 95', 'Unnamed: 96', 'Unnamed: 97', 'Unnamed: 98', 'Unnamed: 99', 'Unnamed: 100', 'Unnamed: 101', 'Unnamed: 102', 'Unnamed: 103', 'Unnamed: 104', 'Unnamed: 105', 'Unnamed: 106', 'Unnamed: 107', 'Unnamed: 108', 'Unnamed: 109', 'Unnamed: 110', 'Unnamed: 111', 'Unnamed: 112', 'Unnamed: 113', 'Unnamed: 114', 'Unnamed: 115', 'Unnamed: 116', 'Unnamed: 117', 'Unnamed: 118', 'Unnamed: 119', 'Unnamed: 120', 'Unnamed: 121', 'Unnamed: 122', 'Unnamed: 123', 'Unnamed: 124', 'Unnamed: 125', 'Unnamed: 126', 'Unnamed: 127', 'Unnamed: 128', 'Unnamed: 129', 'Unnamed: 130', 'Unnamed: 131', 'Unnamed: 132', 'Unnamed: 133', 'Unnamed: 134', 'Unnamed: 135', 'Unnamed: 136', 'Unnamed: 137', 'Unnamed: 138', 'Unnamed: 139', 'Unnamed: 140', 'Unnamed: 141', 'Unnamed: 142', 'Unnamed: 143', 'Unnamed: 144', 'Unnamed: 145', 'Unnamed: 146', 'Unnamed: 147', 'Unnamed: 148', 'Unnamed: 149', 'Unnamed: 150', 'Unnamed: 151', 'Unnamed: 152', 'Unnamed: 153', 'Unnamed: 154', 'Unnamed: 155', 'Unnamed: 156', 'Unnamed: 157', 'Unnamed: 158', 'Unnamed: 159', 'Unnamed: 160', 'Unnamed: 161', 'Unnamed: 162', 'Unnamed: 163', 'Unnamed: 164', 'Unnamed: 165', 'Unnamed: 166', 'Unnamed: 167', 'Unnamed: 168', 'Unnamed: 169', 'Unnamed: 170', 'Unnamed: 171', 'Unnamed: 172', 'Unnamed: 173', 'Unnamed: 174', 'Unnamed: 175', 'Unnamed: 176', 'Unnamed: 177', 'Unnamed: 178', 'Unnamed: 179', 'Unnamed: 180', 'Unnamed: 181', 'Unnamed: 182', 'Unnamed: 183', 'Unnamed: 184', 'Unnamed: 185', 'Unnamed: 186', 'Unnamed: 187', 'Unnamed: 188', 'Unnamed: 189', 'Unnamed: 190', 'Unnamed: 191', 'Unnamed: 192', 'Unnamed: 193', 'Unnamed: 194', 'Unnamed: 195', 'Unnamed: 196', 'Unnamed: 197', 'Unnamed: 198', 'Unnamed: 199', 'Unnamed: 200', 'Unnamed: 201', 'Unnamed: 202', 'Unnamed: 203', 'Unnamed: 204', 'Unnamed: 205', 'Unnamed: 206', 'Unnamed: 207', 'Unnamed: 208', 'Unnamed: 209', 'Unnamed: 210', 'Unnamed: 211', 'Unnamed: 212', 'Unnamed: 213', 'Unnamed: 214', 'Unnamed: 215', 'Unnamed: 216', 'Unnamed: 217', 'Unnamed: 218', 'Unnamed: 219', 'Unnamed: 220', 'Unnamed: 221', 'Unnamed: 222', 'Unnamed: 223', 'Unnamed: 224', 'Unnamed: 225', 'Unnamed: 226', 'Unnamed: 227', 'Unnamed: 228', 'Unnamed: 229', 'Unnamed: 230', 'Unnamed: 231', 'Unnamed: 232', 'Unnamed: 233', 'Unnamed: 234', 'Unnamed: 235', 'Unnamed: 236', 'Unnamed: 237', 'Unnamed: 238', 'Unnamed: 239', 'Unnamed: 240', 'Unnamed: 241', 'Unnamed: 242', 'Unnamed: 243', 'Unnamed: 244', 'Unnamed: 245', 'Unnamed: 246', 'Unnamed: 247', 'Unnamed: 248', 'Unnamed: 249', 'Unnamed: 250', 'Unnamed: 251', 'Unnamed: 252', 'Unnamed: 253', 'Unnamed: 254', 'Unnamed: 255', 'Unnamed: 256', 'Unnamed: 257', 'Unnamed: 258', 'Unnamed: 259', 'Unnamed: 260', 'Unnamed: 261', 'Unnamed: 262', 'Unnamed: 263', 'Unnamed: 264', 'Unnamed: 265', 'Unnamed: 266', 'Unnamed: 267', 'Unnamed: 268', 'Unnamed: 269', 'Unnamed: 270', 'Unnamed: 271', 'Unnamed: 272', 'Unnamed: 273', 'Unnamed: 274', 'Unnamed: 275', 'Unnamed: 276', 'Unnamed: 277', 'Unnamed: 278', 'Unnamed: 279', 'Unnamed: 280', 'Unnamed: 281', 'Unnamed: 282', 'Unnamed: 283', 'Unnamed: 284', 'Unnamed: 285', 'Unnamed: 286', 'Unnamed: 287', 'Unnamed: 288', 'Unnamed: 289', 'Unnamed: 290', 'Unnamed: 291', 'Unnamed: 292', 'Unnamed: 293']\n",
            "\n",
            "==================================================\n",
            "6->17: /content/26.06 new dataset/neiro_02_23.csv\n",
            "<class 'pandas.core.frame.DataFrame'>\n",
            "RangeIndex: 1362 entries, 0 to 1361\n",
            "Columns: 290 entries, 7497e371-72a4-11ec-80fc-0cc47aab8067 to Unnamed: 289\n",
            "dtypes: bool(1), object(289)\n",
            "memory usage: 3.0+ MB\n",
            "-------------------------\n",
            "290: ['7497e371-72a4-11ec-80fc-0cc47aab8067', 'd295d207-54a6-11eb-80e5-0cc47aab8067', '1988-10-03T00:00:00', 'Мужской', 'Мужской.1', '2022-01-11T00:00:00', 'Периодический', 'Периодический.1', 'true', '5ee47d09-e830-11ea-80e2-0cc47aab8067', 'Unnamed: 10', 'Инженер по телеметрическому сопровождению бурения', 'ГоденСКоррекциейЗрения', 'Годен к работе в указанных условиях (с коррекцией зрения)', 'Годен к работе в указанных условиях (с коррекцией зрения).1', '11.1,11.4,4.2.5', '1db64841-72a9-11ec-80fc-0cc47aab8067', '2022-01-11T11:38:42', '3633bc00-72a9-11ec-80fc-0cc47aab8067', '2022-01-11T11:39:26', 'f22017c4-72a9-11ec-80fc-0cc47aab8067', '2022-01-11T11:44:44', 'Z00.0', 'Общий медицинский осмотр', '[Z00.0] Общий медицинский осмотр\\r\\n', '[Z00.0] Общий медицинский осмотр\\r\\n.1', 'b9f7a1ba-72aa-11ec-80fc-0cc47aab8067', '2022-01-11T11:50:19', 'Z00.0.1', 'Общий медицинский осмотр.1', '[Z00.0] Общий медицинский осмотр\\r\\n.2', '[Z00.0] Общий медицинский осмотр\\r\\n.3', 'db0b6496-72aa-11ec-80fc-0cc47aab8067', '2022-01-11T11:51:16', 'Z00.0.2', 'Общий медицинский осмотр.2', '[Z00.0] Общий медицинский осмотр\\r\\n.4', '[Z00.0] Общий медицинский осмотр\\r\\n.5', 'eba6ea22-72aa-11ec-80fc-0cc47aab8067', '2022-01-11T11:51:44', 'Z00.0.3', 'Общий медицинский осмотр.3', '[Z00.0] Общий медицинский осмотр\\r\\n.6', '[Z00.0] Общий медицинский осмотр\\r\\n.7', '161604a0-72ab-11ec-80fc-0cc47aab8067', '2022-01-11T11:52:52', '889501b8-72ac-11ec-80fc-0cc47aab8067', '2022-01-11T12:03:10', 'Z00.0.4', 'Общий медицинский осмотр.4', '[Z00.0] Общий медицинский осмотр\\r\\n.8', '[Z00.0] Общий медицинский осмотр\\r\\n.9', 'bf940eff-72af-11ec-80fc-0cc47aab8067', '2022-01-11T12:26:11', '251afcc7-72b1-11ec-80fc-0cc47aab8067', '2022-01-11T12:36:18', 'H52.1', 'Миопия', '[H52.1] Миопия\\r\\nОписание: Миопия слабой степени обоих глаз\\r\\n', '[H52.1] Миопия\\r\\nОписание: Миопия слабой степени обоих глаз\\r\\n.1', 'ab29cd1d-72b1-11ec-80fc-0cc47aab8067', '2022-01-11T12:39:57', 'Z00.0.5', 'Общий медицинский осмотр.5', 'Unnamed: 64', 'Unnamed: 65', 'Unnamed: 66', 'Unnamed: 67', 'Unnamed: 68', 'Unnamed: 69', 'Unnamed: 70', 'Unnamed: 71', 'Unnamed: 72', 'Unnamed: 73', 'Unnamed: 74', 'Unnamed: 75', 'Unnamed: 76', 'Unnamed: 77', 'Unnamed: 78', 'Unnamed: 79', 'Unnamed: 80', 'Unnamed: 81', 'Unnamed: 82', 'Unnamed: 83', 'Unnamed: 84', 'Unnamed: 85', 'Unnamed: 86', 'Unnamed: 87', 'Unnamed: 88', 'Unnamed: 89', 'Unnamed: 90', 'Unnamed: 91', 'Unnamed: 92', 'Unnamed: 93', 'Unnamed: 94', 'Unnamed: 95', 'Unnamed: 96', 'Unnamed: 97', 'Unnamed: 98', 'Unnamed: 99', 'Unnamed: 100', 'Unnamed: 101', 'Unnamed: 102', 'Unnamed: 103', 'Unnamed: 104', 'Unnamed: 105', 'Unnamed: 106', 'Unnamed: 107', 'Unnamed: 108', 'Unnamed: 109', 'Unnamed: 110', 'Unnamed: 111', 'Unnamed: 112', 'Unnamed: 113', 'Unnamed: 114', 'Unnamed: 115', 'Unnamed: 116', 'Unnamed: 117', 'Unnamed: 118', 'Unnamed: 119', 'Unnamed: 120', 'Unnamed: 121', 'Unnamed: 122', 'Unnamed: 123', 'Unnamed: 124', 'Unnamed: 125', 'Unnamed: 126', 'Unnamed: 127', 'Unnamed: 128', 'Unnamed: 129', 'Unnamed: 130', 'Unnamed: 131', 'Unnamed: 132', 'Unnamed: 133', 'Unnamed: 134', 'Unnamed: 135', 'Unnamed: 136', 'Unnamed: 137', 'Unnamed: 138', 'Unnamed: 139', 'Unnamed: 140', 'Unnamed: 141', 'Unnamed: 142', 'Unnamed: 143', 'Unnamed: 144', 'Unnamed: 145', 'Unnamed: 146', 'Unnamed: 147', 'Unnamed: 148', 'Unnamed: 149', 'Unnamed: 150', 'Unnamed: 151', 'Unnamed: 152', 'Unnamed: 153', 'Unnamed: 154', 'Unnamed: 155', 'Unnamed: 156', 'Unnamed: 157', 'Unnamed: 158', 'Unnamed: 159', 'Unnamed: 160', 'Unnamed: 161', 'Unnamed: 162', 'Unnamed: 163', 'Unnamed: 164', 'Unnamed: 165', 'Unnamed: 166', 'Unnamed: 167', 'Unnamed: 168', 'Unnamed: 169', 'Unnamed: 170', 'Unnamed: 171', 'Unnamed: 172', 'Unnamed: 173', 'Unnamed: 174', 'Unnamed: 175', 'Unnamed: 176', 'Unnamed: 177', 'Unnamed: 178', 'Unnamed: 179', 'Unnamed: 180', 'Unnamed: 181', 'Unnamed: 182', 'Unnamed: 183', 'Unnamed: 184', 'Unnamed: 185', 'Unnamed: 186', 'Unnamed: 187', 'Unnamed: 188', 'Unnamed: 189', 'Unnamed: 190', 'Unnamed: 191', 'Unnamed: 192', 'Unnamed: 193', 'Unnamed: 194', 'Unnamed: 195', 'Unnamed: 196', 'Unnamed: 197', 'Unnamed: 198', 'Unnamed: 199', 'Unnamed: 200', 'Unnamed: 201', 'Unnamed: 202', 'Unnamed: 203', 'Unnamed: 204', 'Unnamed: 205', 'Unnamed: 206', 'Unnamed: 207', 'Unnamed: 208', 'Unnamed: 209', 'Unnamed: 210', 'Unnamed: 211', 'Unnamed: 212', 'Unnamed: 213', 'Unnamed: 214', 'Unnamed: 215', 'Unnamed: 216', 'Unnamed: 217', 'Unnamed: 218', 'Unnamed: 219', 'Unnamed: 220', 'Unnamed: 221', 'Unnamed: 222', 'Unnamed: 223', 'Unnamed: 224', 'Unnamed: 225', 'Unnamed: 226', 'Unnamed: 227', 'Unnamed: 228', 'Unnamed: 229', 'Unnamed: 230', 'Unnamed: 231', 'Unnamed: 232', 'Unnamed: 233', 'Unnamed: 234', 'Unnamed: 235', 'Unnamed: 236', 'Unnamed: 237', 'Unnamed: 238', 'Unnamed: 239', 'Unnamed: 240', 'Unnamed: 241', 'Unnamed: 242', 'Unnamed: 243', 'Unnamed: 244', 'Unnamed: 245', 'Unnamed: 246', 'Unnamed: 247', 'Unnamed: 248', 'Unnamed: 249', 'Unnamed: 250', 'Unnamed: 251', 'Unnamed: 252', 'Unnamed: 253', 'Unnamed: 254', 'Unnamed: 255', 'Unnamed: 256', 'Unnamed: 257', 'Unnamed: 258', 'Unnamed: 259', 'Unnamed: 260', 'Unnamed: 261', 'Unnamed: 262', 'Unnamed: 263', 'Unnamed: 264', 'Unnamed: 265', 'Unnamed: 266', 'Unnamed: 267', 'Unnamed: 268', 'Unnamed: 269', 'Unnamed: 270', 'Unnamed: 271', 'Unnamed: 272', 'Unnamed: 273', 'Unnamed: 274', 'Unnamed: 275', 'Unnamed: 276', 'Unnamed: 277', 'Unnamed: 278', 'Unnamed: 279', 'Unnamed: 280', 'Unnamed: 281', 'Unnamed: 282', 'Unnamed: 283', 'Unnamed: 284', 'Unnamed: 285', 'Unnamed: 286', 'Unnamed: 287', 'Unnamed: 288', 'Unnamed: 289']\n",
            "\n",
            "==================================================\n",
            "7->17: /content/26.06 new dataset/neiro_03-22.csv\n"
          ]
        },
        {
          "output_type": "stream",
          "name": "stderr",
          "text": [
            "<ipython-input-18-bc8acb739bd6>:14: DtypeWarning: Columns (10,11,12,13,14,22,23,24,25,26,27,32,33,34,35,36,37,38,39,40,41,42,43,50,51,52,53,54,55,80,81,82,83,84,85,88,89,96,97,98,99,108,109,110,111,120,121,122,123,124,125,126,127,128,129,130,131,132,133,134,135,148,149,150,151,152,153,154,155,156,157,158,159,160,161,162,163,166,167,168,169,170,171,180,181,182,183,184,185,186,187,188,189,190,191,192,193,194,195,196,197,198,199,200,201,204,205,206,207,208,209,214,215,218,219,220,221,222,223,224,225,228,229,230,231,232,233,234,235,236,237,238,239,240,241,242,243,244,245,246,247,248,249,250,251,252,253,254,255,256,257,258,259,260,261,262,263,264,265,266,267,268,269,270,271,272,273,274,275,276,277,278,279,280,281,282,283,284,285,286,287,288,289,290,291,292,293,294,295,296,297,298,299,300,301,302,303,304,305,306,307,308,309,310,311,312,313,314,315,316,317,318,319,320,321,322,323,324,325,326,327,328,329,330,331,332,333,334,335,336,337,338,339,340,341,342,343,344,345,346,347,348,349,350,351,352,353,354,355,356,357,358,359,360,361,362,363,364,365,366,367,368,369,370,371,372,373,374,375,376,377,378,379,380,381,382,383,384,385,386,387,388,389,390,391,392,393,394,395,396,397,398,399,400,401,402,403,404,405,406,407,408,409,414,415,416,417,418,419,420,421,424,425,426,427,428,429,432,433,434,435,436,437,438,439,440,441,442,443,444,445) have mixed types. Specify dtype option on import or set low_memory=False.\n",
            "  df17 = pd.read_csv(df17_fn, delimiter=';')\n"
          ]
        },
        {
          "output_type": "stream",
          "name": "stdout",
          "text": [
            "<class 'pandas.core.frame.DataFrame'>\n",
            "RangeIndex: 2116 entries, 0 to 2115\n",
            "Columns: 446 entries, 5f2149e5-334a-11e9-80ce-0cc47aab8067 to Unnamed: 445\n",
            "dtypes: bool(1), object(445)\n",
            "memory usage: 7.2+ MB\n",
            "-------------------------\n",
            "446: ['5f2149e5-334a-11e9-80ce-0cc47aab8067', 'bd882fc0-f2c9-11e8-80ce-0cc47aab8067', '1955-05-07T00:00:00', 'Мужской', 'Мужской.1', '2019-02-18T00:00:00', 'Периодический', 'Периодический.1', 'true', '6e4bb5f7-ee34-11e8-80ce-0cc47aab8067', 'Спортивная школа', 'Тренер', 'Годен', 'Годен к работе в указанных условиях', 'Годен к работе в указанных условиях.1', 'Unnamed: 15', 'c6c56e58-334b-11e9-80ce-0cc47aab8067', '2019-02-18T12:06:57', 'Z00.0', 'Общий медицинский осмотр', '[Z00.0] Общий медицинский осмотр\\r\\n', '[Z00.0] Общий медицинский осмотр\\r\\n.1', 'Unnamed: 22', 'Unnamed: 23', 'Unnamed: 24', 'Unnamed: 25', 'Unnamed: 26', 'Unnamed: 27', 'Unnamed: 28', 'Unnamed: 29', 'Unnamed: 30', 'Unnamed: 31', 'Unnamed: 32', 'Unnamed: 33', 'Unnamed: 34', 'Unnamed: 35', 'Unnamed: 36', 'Unnamed: 37', 'Unnamed: 38', 'Unnamed: 39', 'Unnamed: 40', 'Unnamed: 41', 'Unnamed: 42', 'Unnamed: 43', 'Unnamed: 44', 'Unnamed: 45', 'Unnamed: 46', 'Unnamed: 47', 'Unnamed: 48', 'Unnamed: 49', 'Unnamed: 50', 'Unnamed: 51', 'Unnamed: 52', 'Unnamed: 53', 'Unnamed: 54', 'Unnamed: 55', 'Unnamed: 56', 'Unnamed: 57', 'Unnamed: 58', 'Unnamed: 59', 'Unnamed: 60', 'Unnamed: 61', 'Unnamed: 62', 'Unnamed: 63', 'Unnamed: 64', 'Unnamed: 65', 'Unnamed: 66', 'Unnamed: 67', 'Unnamed: 68', 'Unnamed: 69', 'Unnamed: 70', 'Unnamed: 71', 'Unnamed: 72', 'Unnamed: 73', 'Unnamed: 74', 'Unnamed: 75', 'Unnamed: 76', 'Unnamed: 77', 'Unnamed: 78', 'Unnamed: 79', 'Unnamed: 80', 'Unnamed: 81', 'Unnamed: 82', 'Unnamed: 83', 'Unnamed: 84', 'Unnamed: 85', 'Unnamed: 86', 'Unnamed: 87', 'Unnamed: 88', 'Unnamed: 89', 'Unnamed: 90', 'Unnamed: 91', 'Unnamed: 92', 'Unnamed: 93', 'Unnamed: 94', 'Unnamed: 95', 'Unnamed: 96', 'Unnamed: 97', 'Unnamed: 98', 'Unnamed: 99', 'Unnamed: 100', 'Unnamed: 101', 'Unnamed: 102', 'Unnamed: 103', 'Unnamed: 104', 'Unnamed: 105', 'Unnamed: 106', 'Unnamed: 107', 'Unnamed: 108', 'Unnamed: 109', 'Unnamed: 110', 'Unnamed: 111', 'Unnamed: 112', 'Unnamed: 113', 'Unnamed: 114', 'Unnamed: 115', 'Unnamed: 116', 'Unnamed: 117', 'Unnamed: 118', 'Unnamed: 119', 'Unnamed: 120', 'Unnamed: 121', 'Unnamed: 122', 'Unnamed: 123', 'Unnamed: 124', 'Unnamed: 125', 'Unnamed: 126', 'Unnamed: 127', 'Unnamed: 128', 'Unnamed: 129', 'Unnamed: 130', 'Unnamed: 131', 'Unnamed: 132', 'Unnamed: 133', 'Unnamed: 134', 'Unnamed: 135', 'Unnamed: 136', 'Unnamed: 137', 'Unnamed: 138', 'Unnamed: 139', 'Unnamed: 140', 'Unnamed: 141', 'Unnamed: 142', 'Unnamed: 143', 'Unnamed: 144', 'Unnamed: 145', 'Unnamed: 146', 'Unnamed: 147', 'Unnamed: 148', 'Unnamed: 149', 'Unnamed: 150', 'Unnamed: 151', 'Unnamed: 152', 'Unnamed: 153', 'Unnamed: 154', 'Unnamed: 155', 'Unnamed: 156', 'Unnamed: 157', 'Unnamed: 158', 'Unnamed: 159', 'Unnamed: 160', 'Unnamed: 161', 'Unnamed: 162', 'Unnamed: 163', 'Unnamed: 164', 'Unnamed: 165', 'Unnamed: 166', 'Unnamed: 167', 'Unnamed: 168', 'Unnamed: 169', 'Unnamed: 170', 'Unnamed: 171', 'Unnamed: 172', 'Unnamed: 173', 'Unnamed: 174', 'Unnamed: 175', 'Unnamed: 176', 'Unnamed: 177', 'Unnamed: 178', 'Unnamed: 179', 'Unnamed: 180', 'Unnamed: 181', 'Unnamed: 182', 'Unnamed: 183', 'Unnamed: 184', 'Unnamed: 185', 'Unnamed: 186', 'Unnamed: 187', 'Unnamed: 188', 'Unnamed: 189', 'Unnamed: 190', 'Unnamed: 191', 'Unnamed: 192', 'Unnamed: 193', 'Unnamed: 194', 'Unnamed: 195', 'Unnamed: 196', 'Unnamed: 197', 'Unnamed: 198', 'Unnamed: 199', 'Unnamed: 200', 'Unnamed: 201', 'Unnamed: 202', 'Unnamed: 203', 'Unnamed: 204', 'Unnamed: 205', 'Unnamed: 206', 'Unnamed: 207', 'Unnamed: 208', 'Unnamed: 209', 'Unnamed: 210', 'Unnamed: 211', 'Unnamed: 212', 'Unnamed: 213', 'Unnamed: 214', 'Unnamed: 215', 'Unnamed: 216', 'Unnamed: 217', 'Unnamed: 218', 'Unnamed: 219', 'Unnamed: 220', 'Unnamed: 221', 'Unnamed: 222', 'Unnamed: 223', 'Unnamed: 224', 'Unnamed: 225', 'Unnamed: 226', 'Unnamed: 227', 'Unnamed: 228', 'Unnamed: 229', 'Unnamed: 230', 'Unnamed: 231', 'Unnamed: 232', 'Unnamed: 233', 'Unnamed: 234', 'Unnamed: 235', 'Unnamed: 236', 'Unnamed: 237', 'Unnamed: 238', 'Unnamed: 239', 'Unnamed: 240', 'Unnamed: 241', 'Unnamed: 242', 'Unnamed: 243', 'Unnamed: 244', 'Unnamed: 245', 'Unnamed: 246', 'Unnamed: 247', 'Unnamed: 248', 'Unnamed: 249', 'Unnamed: 250', 'Unnamed: 251', 'Unnamed: 252', 'Unnamed: 253', 'Unnamed: 254', 'Unnamed: 255', 'Unnamed: 256', 'Unnamed: 257', 'Unnamed: 258', 'Unnamed: 259', 'Unnamed: 260', 'Unnamed: 261', 'Unnamed: 262', 'Unnamed: 263', 'Unnamed: 264', 'Unnamed: 265', 'Unnamed: 266', 'Unnamed: 267', 'Unnamed: 268', 'Unnamed: 269', 'Unnamed: 270', 'Unnamed: 271', 'Unnamed: 272', 'Unnamed: 273', 'Unnamed: 274', 'Unnamed: 275', 'Unnamed: 276', 'Unnamed: 277', 'Unnamed: 278', 'Unnamed: 279', 'Unnamed: 280', 'Unnamed: 281', 'Unnamed: 282', 'Unnamed: 283', 'Unnamed: 284', 'Unnamed: 285', 'Unnamed: 286', 'Unnamed: 287', 'Unnamed: 288', 'Unnamed: 289', 'Unnamed: 290', 'Unnamed: 291', 'Unnamed: 292', 'Unnamed: 293', 'Unnamed: 294', 'Unnamed: 295', 'Unnamed: 296', 'Unnamed: 297', 'Unnamed: 298', 'Unnamed: 299', 'Unnamed: 300', 'Unnamed: 301', 'Unnamed: 302', 'Unnamed: 303', 'Unnamed: 304', 'Unnamed: 305', 'Unnamed: 306', 'Unnamed: 307', 'Unnamed: 308', 'Unnamed: 309', 'Unnamed: 310', 'Unnamed: 311', 'Unnamed: 312', 'Unnamed: 313', 'Unnamed: 314', 'Unnamed: 315', 'Unnamed: 316', 'Unnamed: 317', 'Unnamed: 318', 'Unnamed: 319', 'Unnamed: 320', 'Unnamed: 321', 'Unnamed: 322', 'Unnamed: 323', 'Unnamed: 324', 'Unnamed: 325', 'Unnamed: 326', 'Unnamed: 327', 'Unnamed: 328', 'Unnamed: 329', 'Unnamed: 330', 'Unnamed: 331', 'Unnamed: 332', 'Unnamed: 333', 'Unnamed: 334', 'Unnamed: 335', 'Unnamed: 336', 'Unnamed: 337', 'Unnamed: 338', 'Unnamed: 339', 'Unnamed: 340', 'Unnamed: 341', 'Unnamed: 342', 'Unnamed: 343', 'Unnamed: 344', 'Unnamed: 345', 'Unnamed: 346', 'Unnamed: 347', 'Unnamed: 348', 'Unnamed: 349', 'Unnamed: 350', 'Unnamed: 351', 'Unnamed: 352', 'Unnamed: 353', 'Unnamed: 354', 'Unnamed: 355', 'Unnamed: 356', 'Unnamed: 357', 'Unnamed: 358', 'Unnamed: 359', 'Unnamed: 360', 'Unnamed: 361', 'Unnamed: 362', 'Unnamed: 363', 'Unnamed: 364', 'Unnamed: 365', 'Unnamed: 366', 'Unnamed: 367', 'Unnamed: 368', 'Unnamed: 369', 'Unnamed: 370', 'Unnamed: 371', 'Unnamed: 372', 'Unnamed: 373', 'Unnamed: 374', 'Unnamed: 375', 'Unnamed: 376', 'Unnamed: 377', 'Unnamed: 378', 'Unnamed: 379', 'Unnamed: 380', 'Unnamed: 381', 'Unnamed: 382', 'Unnamed: 383', 'Unnamed: 384', 'Unnamed: 385', 'Unnamed: 386', 'Unnamed: 387', 'Unnamed: 388', 'Unnamed: 389', 'Unnamed: 390', 'Unnamed: 391', 'Unnamed: 392', 'Unnamed: 393', 'Unnamed: 394', 'Unnamed: 395', 'Unnamed: 396', 'Unnamed: 397', 'Unnamed: 398', 'Unnamed: 399', 'Unnamed: 400', 'Unnamed: 401', 'Unnamed: 402', 'Unnamed: 403', 'Unnamed: 404', 'Unnamed: 405', 'Unnamed: 406', 'Unnamed: 407', 'Unnamed: 408', 'Unnamed: 409', 'Unnamed: 410', 'Unnamed: 411', 'Unnamed: 412', 'Unnamed: 413', 'Unnamed: 414', 'Unnamed: 415', 'Unnamed: 416', 'Unnamed: 417', 'Unnamed: 418', 'Unnamed: 419', 'Unnamed: 420', 'Unnamed: 421', 'Unnamed: 422', 'Unnamed: 423', 'Unnamed: 424', 'Unnamed: 425', 'Unnamed: 426', 'Unnamed: 427', 'Unnamed: 428', 'Unnamed: 429', 'Unnamed: 430', 'Unnamed: 431', 'Unnamed: 432', 'Unnamed: 433', 'Unnamed: 434', 'Unnamed: 435', 'Unnamed: 436', 'Unnamed: 437', 'Unnamed: 438', 'Unnamed: 439', 'Unnamed: 440', 'Unnamed: 441', 'Unnamed: 442', 'Unnamed: 443', 'Unnamed: 444', 'Unnamed: 445']\n",
            "\n",
            "==================================================\n",
            "8->17: /content/26.06 new dataset/neiro_03_23.csv\n",
            "<class 'pandas.core.frame.DataFrame'>\n",
            "RangeIndex: 1501 entries, 0 to 1500\n",
            "Columns: 430 entries, 215b0216-7512-11ec-80fc-0cc47aab8067 to Unnamed: 429\n",
            "dtypes: bool(1), float64(9), object(420)\n",
            "memory usage: 4.9+ MB\n",
            "-------------------------\n",
            "430: ['215b0216-7512-11ec-80fc-0cc47aab8067', 'e1bac74a-a979-11eb-80f3-0cc47aab8067', '1966-03-14T00:00:00', 'Женский', 'Женский.1', '2022-01-14T00:00:00', 'Периодический', 'Периодический.1', 'false', '07f73f26-a63e-11eb-80f3-0cc47aab8067', 'Unnamed: 10', 'Уборщик производственных помещений 2 разряда', 'Годен', 'Годен к работе в указанных условиях', 'Годен к работе в указанных условиях.1', '23', '47c0a2b1-7513-11ec-80fc-0cc47aab8067', '2022-01-14T13:23:42', 'Z00.0', 'Общий медицинский осмотр', '[Z00.0] Общий медицинский осмотр\\r\\n', '[Z00.0] Общий медицинский осмотр\\r\\n.1', '7a41776f-7513-11ec-80fc-0cc47aab8067', '2022-01-14T13:25:06', 'Z00.0.1', 'Общий медицинский осмотр.1', '[Z00.0] Общий медицинский осмотр\\r\\n.2', '[Z00.0] Общий медицинский осмотр\\r\\n.3', '8747b1a4-7516-11ec-80fc-0cc47aab8067', '2022-01-14T13:46:57', 'Z00.0.2', 'Общий медицинский осмотр.2', '[Z00.0] Общий медицинский осмотр\\r\\n.4', '[Z00.0] Общий медицинский осмотр\\r\\n.5', 'acc2ca2e-7516-11ec-80fc-0cc47aab8067', '2022-01-14T13:48:00', 'Z00.0.3', 'Общий медицинский осмотр.3', '[Z00.0] Общий медицинский осмотр\\r\\n.6', '[Z00.0] Общий медицинский осмотр\\r\\n.7', 'd6817aee-7516-11ec-80fc-0cc47aab8067', '2022-01-14T13:49:18', 'Z00.0.4', 'Общий медицинский осмотр.4', '[Z00.0] Общий медицинский осмотр\\r\\n.8', '[Z00.0] Общий медицинский осмотр\\r\\n.9', 'cb360dcb-7517-11ec-80fc-0cc47aab8067', '2022-01-14T13:56:09', '[N95.2] постменопаузальный атрофический кольпит\\r\\n', '[N95.2] постменопаузальный атрофический кольпит\\r\\n.1', '3f591860-7519-11ec-80fc-0cc47aab8067', '2022-01-14T14:06:30', 'ed767a7e-751a-11ec-80fc-0cc47aab8067', '2022-01-14T14:18:27', '6cf9de9e-751d-11ec-80fc-0cc47aab8067', '2022-01-14T14:36:22', 'Z00.0.5', 'Общий медицинский осмотр.5', 'Unnamed: 58', 'Unnamed: 59', 'Unnamed: 60', 'Unnamed: 61', 'Unnamed: 62', 'Unnamed: 63', 'Unnamed: 64', 'Unnamed: 65', 'Unnamed: 66', 'Unnamed: 67', 'Unnamed: 68', 'Unnamed: 69', 'Unnamed: 70', 'Unnamed: 71', 'Unnamed: 72', 'Unnamed: 73', 'Unnamed: 74', 'Unnamed: 75', 'Unnamed: 76', 'Unnamed: 77', 'Unnamed: 78', 'Unnamed: 79', 'Unnamed: 80', 'Unnamed: 81', 'Unnamed: 82', 'Unnamed: 83', 'Unnamed: 84', 'Unnamed: 85', 'Unnamed: 86', 'Unnamed: 87', 'Unnamed: 88', 'Unnamed: 89', 'Unnamed: 90', 'Unnamed: 91', 'Unnamed: 92', 'Unnamed: 93', 'Unnamed: 94', 'Unnamed: 95', 'Unnamed: 96', 'Unnamed: 97', 'Unnamed: 98', 'Unnamed: 99', 'Unnamed: 100', 'Unnamed: 101', 'Unnamed: 102', 'Unnamed: 103', 'Unnamed: 104', 'Unnamed: 105', 'Unnamed: 106', 'Unnamed: 107', 'Unnamed: 108', 'Unnamed: 109', 'Unnamed: 110', 'Unnamed: 111', 'Unnamed: 112', 'Unnamed: 113', 'Unnamed: 114', 'Unnamed: 115', 'Unnamed: 116', 'Unnamed: 117', 'Unnamed: 118', 'Unnamed: 119', 'Unnamed: 120', 'Unnamed: 121', 'Unnamed: 122', 'Unnamed: 123', 'Unnamed: 124', 'Unnamed: 125', 'Unnamed: 126', 'Unnamed: 127', 'Unnamed: 128', 'Unnamed: 129', 'Unnamed: 130', 'Unnamed: 131', 'Unnamed: 132', 'Unnamed: 133', 'Unnamed: 134', 'Unnamed: 135', 'Unnamed: 136', 'Unnamed: 137', 'Unnamed: 138', 'Unnamed: 139', 'Unnamed: 140', 'Unnamed: 141', 'Unnamed: 142', 'Unnamed: 143', 'Unnamed: 144', 'Unnamed: 145', 'Unnamed: 146', 'Unnamed: 147', 'Unnamed: 148', 'Unnamed: 149', 'Unnamed: 150', 'Unnamed: 151', 'Unnamed: 152', 'Unnamed: 153', 'Unnamed: 154', 'Unnamed: 155', 'Unnamed: 156', 'Unnamed: 157', 'Unnamed: 158', 'Unnamed: 159', 'Unnamed: 160', 'Unnamed: 161', 'Unnamed: 162', 'Unnamed: 163', 'Unnamed: 164', 'Unnamed: 165', 'Unnamed: 166', 'Unnamed: 167', 'Unnamed: 168', 'Unnamed: 169', 'Unnamed: 170', 'Unnamed: 171', 'Unnamed: 172', 'Unnamed: 173', 'Unnamed: 174', 'Unnamed: 175', 'Unnamed: 176', 'Unnamed: 177', 'Unnamed: 178', 'Unnamed: 179', 'Unnamed: 180', 'Unnamed: 181', 'Unnamed: 182', 'Unnamed: 183', 'Unnamed: 184', 'Unnamed: 185', 'Unnamed: 186', 'Unnamed: 187', 'Unnamed: 188', 'Unnamed: 189', 'Unnamed: 190', 'Unnamed: 191', 'Unnamed: 192', 'Unnamed: 193', 'Unnamed: 194', 'Unnamed: 195', 'Unnamed: 196', 'Unnamed: 197', 'Unnamed: 198', 'Unnamed: 199', 'Unnamed: 200', 'Unnamed: 201', 'Unnamed: 202', 'Unnamed: 203', 'Unnamed: 204', 'Unnamed: 205', 'Unnamed: 206', 'Unnamed: 207', 'Unnamed: 208', 'Unnamed: 209', 'Unnamed: 210', 'Unnamed: 211', 'Unnamed: 212', 'Unnamed: 213', 'Unnamed: 214', 'Unnamed: 215', 'Unnamed: 216', 'Unnamed: 217', 'Unnamed: 218', 'Unnamed: 219', 'Unnamed: 220', 'Unnamed: 221', 'Unnamed: 222', 'Unnamed: 223', 'Unnamed: 224', 'Unnamed: 225', 'Unnamed: 226', 'Unnamed: 227', 'Unnamed: 228', 'Unnamed: 229', 'Unnamed: 230', 'Unnamed: 231', 'Unnamed: 232', 'Unnamed: 233', 'Unnamed: 234', 'Unnamed: 235', 'Unnamed: 236', 'Unnamed: 237', 'Unnamed: 238', 'Unnamed: 239', 'Unnamed: 240', 'Unnamed: 241', 'Unnamed: 242', 'Unnamed: 243', 'Unnamed: 244', 'Unnamed: 245', 'Unnamed: 246', 'Unnamed: 247', 'Unnamed: 248', 'Unnamed: 249', 'Unnamed: 250', 'Unnamed: 251', 'Unnamed: 252', 'Unnamed: 253', 'Unnamed: 254', 'Unnamed: 255', 'Unnamed: 256', 'Unnamed: 257', 'Unnamed: 258', 'Unnamed: 259', 'Unnamed: 260', 'Unnamed: 261', 'Unnamed: 262', 'Unnamed: 263', 'Unnamed: 264', 'Unnamed: 265', 'Unnamed: 266', 'Unnamed: 267', 'Unnamed: 268', 'Unnamed: 269', 'Unnamed: 270', 'Unnamed: 271', 'Unnamed: 272', 'Unnamed: 273', 'Unnamed: 274', 'Unnamed: 275', 'Unnamed: 276', 'Unnamed: 277', 'Unnamed: 278', 'Unnamed: 279', 'Unnamed: 280', 'Unnamed: 281', 'Unnamed: 282', 'Unnamed: 283', 'Unnamed: 284', 'Unnamed: 285', 'Unnamed: 286', 'Unnamed: 287', 'Unnamed: 288', 'Unnamed: 289', 'Unnamed: 290', 'Unnamed: 291', 'Unnamed: 292', 'Unnamed: 293', 'Unnamed: 294', 'Unnamed: 295', 'Unnamed: 296', 'Unnamed: 297', 'Unnamed: 298', 'Unnamed: 299', 'Unnamed: 300', 'Unnamed: 301', 'Unnamed: 302', 'Unnamed: 303', 'Unnamed: 304', 'Unnamed: 305', 'Unnamed: 306', 'Unnamed: 307', 'Unnamed: 308', 'Unnamed: 309', 'Unnamed: 310', 'Unnamed: 311', 'Unnamed: 312', 'Unnamed: 313', 'Unnamed: 314', 'Unnamed: 315', 'Unnamed: 316', 'Unnamed: 317', 'Unnamed: 318', 'Unnamed: 319', 'Unnamed: 320', 'Unnamed: 321', 'Unnamed: 322', 'Unnamed: 323', 'Unnamed: 324', 'Unnamed: 325', 'Unnamed: 326', 'Unnamed: 327', 'Unnamed: 328', 'Unnamed: 329', 'Unnamed: 330', 'Unnamed: 331', 'Unnamed: 332', 'Unnamed: 333', 'Unnamed: 334', 'Unnamed: 335', 'Unnamed: 336', 'Unnamed: 337', 'Unnamed: 338', 'Unnamed: 339', 'Unnamed: 340', 'Unnamed: 341', 'Unnamed: 342', 'Unnamed: 343', 'Unnamed: 344', 'Unnamed: 345', 'Unnamed: 346', 'Unnamed: 347', 'Unnamed: 348', 'Unnamed: 349', 'Unnamed: 350', 'Unnamed: 351', 'Unnamed: 352', 'Unnamed: 353', 'Unnamed: 354', 'Unnamed: 355', 'Unnamed: 356', 'Unnamed: 357', 'Unnamed: 358', 'Unnamed: 359', 'Unnamed: 360', 'Unnamed: 361', 'Unnamed: 362', 'Unnamed: 363', 'Unnamed: 364', 'Unnamed: 365', 'Unnamed: 366', 'Unnamed: 367', 'Unnamed: 368', 'Unnamed: 369', 'Unnamed: 370', 'Unnamed: 371', 'Unnamed: 372', 'Unnamed: 373', 'Unnamed: 374', 'Unnamed: 375', 'Unnamed: 376', 'Unnamed: 377', 'Unnamed: 378', 'Unnamed: 379', 'Unnamed: 380', 'Unnamed: 381', 'Unnamed: 382', 'Unnamed: 383', 'Unnamed: 384', 'Unnamed: 385', 'Unnamed: 386', 'Unnamed: 387', 'Unnamed: 388', 'Unnamed: 389', 'Unnamed: 390', 'Unnamed: 391', 'Unnamed: 392', 'Unnamed: 393', 'Unnamed: 394', 'Unnamed: 395', 'Unnamed: 396', 'Unnamed: 397', 'Unnamed: 398', 'Unnamed: 399', 'Unnamed: 400', 'Unnamed: 401', 'Unnamed: 402', 'Unnamed: 403', 'Unnamed: 404', 'Unnamed: 405', 'Unnamed: 406', 'Unnamed: 407', 'Unnamed: 408', 'Unnamed: 409', 'Unnamed: 410', 'Unnamed: 411', 'Unnamed: 412', 'Unnamed: 413', 'Unnamed: 414', 'Unnamed: 415', 'Unnamed: 416', 'Unnamed: 417', 'Unnamed: 418', 'Unnamed: 419', 'Unnamed: 420', 'Unnamed: 421', 'Unnamed: 422', 'Unnamed: 423', 'Unnamed: 424', 'Unnamed: 425', 'Unnamed: 426', 'Unnamed: 427', 'Unnamed: 428', 'Unnamed: 429']\n",
            "\n",
            "==================================================\n",
            "9->17: /content/26.06 new dataset/neiro_04-22.csv\n",
            "<class 'pandas.core.frame.DataFrame'>\n",
            "RangeIndex: 1849 entries, 0 to 1848\n",
            "Columns: 306 entries, e65c8268-bce3-11ea-80dd-0cc47aab8067 to Unnamed: 305\n",
            "dtypes: bool(1), object(305)\n",
            "memory usage: 4.3+ MB\n",
            "-------------------------\n",
            "306: ['e65c8268-bce3-11ea-80dd-0cc47aab8067', '07fb0c57-bb5e-11ea-80dd-0cc47aab8067', '1973-08-09T00:00:00', 'Мужской', 'Мужской.1', '2020-07-03T00:00:00', 'Периодический', 'Периодический.1', 'false', 'ecd13032-9457-11e7-80db-708bcd7f83cd', 'Unnamed: 10', 'токарь 6 р.', 'ГоденСКоррекциейЗрения', 'Годен к работе в указанных условиях (с коррекцией зрения)', 'Годен к работе в указанных условиях (с коррекцией зрения).1', 'Unnamed: 15', 'Unnamed: 16', 'Unnamed: 17', 'Unnamed: 18', 'Unnamed: 19', 'Unnamed: 20', 'Unnamed: 21', 'Unnamed: 22', 'Unnamed: 23', 'Unnamed: 24', 'Unnamed: 25', 'Unnamed: 26', 'Unnamed: 27', 'Unnamed: 28', 'Unnamed: 29', 'Unnamed: 30', 'Unnamed: 31', 'Unnamed: 32', 'Unnamed: 33', 'Unnamed: 34', 'Unnamed: 35', 'Unnamed: 36', 'Unnamed: 37', 'Unnamed: 38', 'Unnamed: 39', 'Unnamed: 40', 'Unnamed: 41', 'Unnamed: 42', 'Unnamed: 43', 'Unnamed: 44', 'Unnamed: 45', 'Unnamed: 46', 'Unnamed: 47', 'Unnamed: 48', 'Unnamed: 49', 'Unnamed: 50', 'Unnamed: 51', 'Unnamed: 52', 'Unnamed: 53', 'Unnamed: 54', 'Unnamed: 55', 'Unnamed: 56', 'Unnamed: 57', 'Unnamed: 58', 'Unnamed: 59', 'Unnamed: 60', 'Unnamed: 61', 'Unnamed: 62', 'Unnamed: 63', 'Unnamed: 64', 'Unnamed: 65', 'Unnamed: 66', 'Unnamed: 67', 'Unnamed: 68', 'Unnamed: 69', 'Unnamed: 70', 'Unnamed: 71', 'Unnamed: 72', 'Unnamed: 73', 'Unnamed: 74', 'Unnamed: 75', 'Unnamed: 76', 'Unnamed: 77', 'Unnamed: 78', 'Unnamed: 79', 'Unnamed: 80', 'Unnamed: 81', 'Unnamed: 82', 'Unnamed: 83', 'Unnamed: 84', 'Unnamed: 85', 'Unnamed: 86', 'Unnamed: 87', 'Unnamed: 88', 'Unnamed: 89', 'Unnamed: 90', 'Unnamed: 91', 'Unnamed: 92', 'Unnamed: 93', 'Unnamed: 94', 'Unnamed: 95', 'Unnamed: 96', 'Unnamed: 97', 'Unnamed: 98', 'Unnamed: 99', 'Unnamed: 100', 'Unnamed: 101', 'Unnamed: 102', 'Unnamed: 103', 'Unnamed: 104', 'Unnamed: 105', 'Unnamed: 106', 'Unnamed: 107', 'Unnamed: 108', 'Unnamed: 109', 'Unnamed: 110', 'Unnamed: 111', 'Unnamed: 112', 'Unnamed: 113', 'Unnamed: 114', 'Unnamed: 115', 'Unnamed: 116', 'Unnamed: 117', 'Unnamed: 118', 'Unnamed: 119', 'Unnamed: 120', 'Unnamed: 121', 'Unnamed: 122', 'Unnamed: 123', 'Unnamed: 124', 'Unnamed: 125', 'Unnamed: 126', 'Unnamed: 127', 'Unnamed: 128', 'Unnamed: 129', 'Unnamed: 130', 'Unnamed: 131', 'Unnamed: 132', 'Unnamed: 133', 'Unnamed: 134', 'Unnamed: 135', 'Unnamed: 136', 'Unnamed: 137', 'Unnamed: 138', 'Unnamed: 139', 'Unnamed: 140', 'Unnamed: 141', 'Unnamed: 142', 'Unnamed: 143', 'Unnamed: 144', 'Unnamed: 145', 'Unnamed: 146', 'Unnamed: 147', 'Unnamed: 148', 'Unnamed: 149', 'Unnamed: 150', 'Unnamed: 151', 'Unnamed: 152', 'Unnamed: 153', 'Unnamed: 154', 'Unnamed: 155', 'Unnamed: 156', 'Unnamed: 157', 'Unnamed: 158', 'Unnamed: 159', 'Unnamed: 160', 'Unnamed: 161', 'Unnamed: 162', 'Unnamed: 163', 'Unnamed: 164', 'Unnamed: 165', 'Unnamed: 166', 'Unnamed: 167', 'Unnamed: 168', 'Unnamed: 169', 'Unnamed: 170', 'Unnamed: 171', 'Unnamed: 172', 'Unnamed: 173', 'Unnamed: 174', 'Unnamed: 175', 'Unnamed: 176', 'Unnamed: 177', 'Unnamed: 178', 'Unnamed: 179', 'Unnamed: 180', 'Unnamed: 181', 'Unnamed: 182', 'Unnamed: 183', 'Unnamed: 184', 'Unnamed: 185', 'Unnamed: 186', 'Unnamed: 187', 'Unnamed: 188', 'Unnamed: 189', 'Unnamed: 190', 'Unnamed: 191', 'Unnamed: 192', 'Unnamed: 193', 'Unnamed: 194', 'Unnamed: 195', 'Unnamed: 196', 'Unnamed: 197', 'Unnamed: 198', 'Unnamed: 199', 'Unnamed: 200', 'Unnamed: 201', 'Unnamed: 202', 'Unnamed: 203', 'Unnamed: 204', 'Unnamed: 205', 'Unnamed: 206', 'Unnamed: 207', 'Unnamed: 208', 'Unnamed: 209', 'Unnamed: 210', 'Unnamed: 211', 'Unnamed: 212', 'Unnamed: 213', 'Unnamed: 214', 'Unnamed: 215', 'Unnamed: 216', 'Unnamed: 217', 'Unnamed: 218', 'Unnamed: 219', 'Unnamed: 220', 'Unnamed: 221', 'Unnamed: 222', 'Unnamed: 223', 'Unnamed: 224', 'Unnamed: 225', 'Unnamed: 226', 'Unnamed: 227', 'Unnamed: 228', 'Unnamed: 229', 'Unnamed: 230', 'Unnamed: 231', 'Unnamed: 232', 'Unnamed: 233', 'Unnamed: 234', 'Unnamed: 235', 'Unnamed: 236', 'Unnamed: 237', 'Unnamed: 238', 'Unnamed: 239', 'Unnamed: 240', 'Unnamed: 241', 'Unnamed: 242', 'Unnamed: 243', 'Unnamed: 244', 'Unnamed: 245', 'Unnamed: 246', 'Unnamed: 247', 'Unnamed: 248', 'Unnamed: 249', 'Unnamed: 250', 'Unnamed: 251', 'Unnamed: 252', 'Unnamed: 253', 'Unnamed: 254', 'Unnamed: 255', 'Unnamed: 256', 'Unnamed: 257', 'Unnamed: 258', 'Unnamed: 259', 'Unnamed: 260', 'Unnamed: 261', 'Unnamed: 262', 'Unnamed: 263', 'Unnamed: 264', 'Unnamed: 265', 'Unnamed: 266', 'Unnamed: 267', 'Unnamed: 268', 'Unnamed: 269', 'Unnamed: 270', 'Unnamed: 271', 'Unnamed: 272', 'Unnamed: 273', 'Unnamed: 274', 'Unnamed: 275', 'Unnamed: 276', 'Unnamed: 277', 'Unnamed: 278', 'Unnamed: 279', 'Unnamed: 280', 'Unnamed: 281', 'Unnamed: 282', 'Unnamed: 283', 'Unnamed: 284', 'Unnamed: 285', 'Unnamed: 286', 'Unnamed: 287', 'Unnamed: 288', 'Unnamed: 289', 'Unnamed: 290', 'Unnamed: 291', 'Unnamed: 292', 'Unnamed: 293', 'Unnamed: 294', 'Unnamed: 295', 'Unnamed: 296', 'Unnamed: 297', 'Unnamed: 298', 'Unnamed: 299', 'Unnamed: 300', 'Unnamed: 301', 'Unnamed: 302', 'Unnamed: 303', 'Unnamed: 304', 'Unnamed: 305']\n",
            "\n",
            "==================================================\n",
            "10->17: /content/26.06 new dataset/neiro_04_23.csv\n",
            "<class 'pandas.core.frame.DataFrame'>\n",
            "RangeIndex: 1420 entries, 0 to 1419\n",
            "Columns: 266 entries, b2ada667-afed-11ec-8100-0cc47aab8067 to Unnamed: 265\n",
            "dtypes: bool(1), object(265)\n",
            "memory usage: 2.9+ MB\n",
            "-------------------------\n",
            "266: ['b2ada667-afed-11ec-8100-0cc47aab8067', '7c3f0d9b-ae7b-11ec-8100-0cc47aab8067', '1978-09-21T00:00:00', 'Мужской', 'Мужской.1', '2022-03-30T00:00:00', 'Периодический', 'Периодический.1', 'false', '44194a15-5dd4-11ea-80db-0cc47aab8067', 'Без отдела', 'Учитель', 'Годен', 'Годен к работе в указанных условиях', 'Годен к работе в указанных условиях.1', '25', '03871d85-afee-11ec-8100-0cc47aab8067', '2022-03-30T10:55:35', '90c14724-afee-11ec-8100-0cc47aab8067', '2022-03-30T10:59:39', 'Z00.0', 'Общий медицинский осмотр', '[Z00.0] Общий медицинский осмотр\\r\\n', '[Z00.0] Общий медицинский осмотр\\r\\n.1', '8efdb7f8-aff0-11ec-8100-0cc47aab8067', '2022-03-30T11:13:55', 'Z00.0.1', 'Общий медицинский осмотр.1', '[Z00.0] Общий медицинский осмотр\\r\\n.2', '[Z00.0] Общий медицинский осмотр\\r\\n.3', '3aac8064-aff1-11ec-8100-0cc47aab8067', '2022-03-30T11:18:41', 'Z00.0.2', 'Общий медицинский осмотр.2', '[Z00.0] Общий медицинский осмотр\\r\\n.4', '[Z00.0] Общий медицинский осмотр\\r\\n.5', '3df7183f-aff2-11ec-8100-0cc47aab8067', '2022-03-30T11:25:58', 'Z00.0.3', 'Общий медицинский осмотр.3', '[Z00.0] Общий медицинский осмотр\\r\\n.6', '[Z00.0] Общий медицинский осмотр\\r\\n.7', '4a4899cf-aff2-11ec-8100-0cc47aab8067', '2022-03-30T11:26:20', 'Z00.0.4', 'Общий медицинский осмотр.4', '[Z00.0] Общий медицинский осмотр\\r\\n.8', '[Z00.0] Общий медицинский осмотр\\r\\n.9', '339bc05b-aff5-11ec-8100-0cc47aab8067', '2022-03-30T11:47:07', '6bffa161-aff8-11ec-8100-0cc47aab8067', '2022-03-30T12:10:06', '51ab0be1-aff9-11ec-8100-0cc47aab8067', '2022-03-30T12:16:34', 'Z00.0.5', 'Общий медицинский осмотр.5', '[Z00.0] Общий медицинский осмотр\\r\\n.10', '[Z00.0] Общий медицинский осмотр\\r\\n.11', 'Unnamed: 58', 'Unnamed: 59', 'Unnamed: 60', 'Unnamed: 61', 'Unnamed: 62', 'Unnamed: 63', 'Unnamed: 64', 'Unnamed: 65', 'Unnamed: 66', 'Unnamed: 67', 'Unnamed: 68', 'Unnamed: 69', 'Unnamed: 70', 'Unnamed: 71', 'Unnamed: 72', 'Unnamed: 73', 'Unnamed: 74', 'Unnamed: 75', 'Unnamed: 76', 'Unnamed: 77', 'Unnamed: 78', 'Unnamed: 79', 'Unnamed: 80', 'Unnamed: 81', 'Unnamed: 82', 'Unnamed: 83', 'Unnamed: 84', 'Unnamed: 85', 'Unnamed: 86', 'Unnamed: 87', 'Unnamed: 88', 'Unnamed: 89', 'Unnamed: 90', 'Unnamed: 91', 'Unnamed: 92', 'Unnamed: 93', 'Unnamed: 94', 'Unnamed: 95', 'Unnamed: 96', 'Unnamed: 97', 'Unnamed: 98', 'Unnamed: 99', 'Unnamed: 100', 'Unnamed: 101', 'Unnamed: 102', 'Unnamed: 103', 'Unnamed: 104', 'Unnamed: 105', 'Unnamed: 106', 'Unnamed: 107', 'Unnamed: 108', 'Unnamed: 109', 'Unnamed: 110', 'Unnamed: 111', 'Unnamed: 112', 'Unnamed: 113', 'Unnamed: 114', 'Unnamed: 115', 'Unnamed: 116', 'Unnamed: 117', 'Unnamed: 118', 'Unnamed: 119', 'Unnamed: 120', 'Unnamed: 121', 'Unnamed: 122', 'Unnamed: 123', 'Unnamed: 124', 'Unnamed: 125', 'Unnamed: 126', 'Unnamed: 127', 'Unnamed: 128', 'Unnamed: 129', 'Unnamed: 130', 'Unnamed: 131', 'Unnamed: 132', 'Unnamed: 133', 'Unnamed: 134', 'Unnamed: 135', 'Unnamed: 136', 'Unnamed: 137', 'Unnamed: 138', 'Unnamed: 139', 'Unnamed: 140', 'Unnamed: 141', 'Unnamed: 142', 'Unnamed: 143', 'Unnamed: 144', 'Unnamed: 145', 'Unnamed: 146', 'Unnamed: 147', 'Unnamed: 148', 'Unnamed: 149', 'Unnamed: 150', 'Unnamed: 151', 'Unnamed: 152', 'Unnamed: 153', 'Unnamed: 154', 'Unnamed: 155', 'Unnamed: 156', 'Unnamed: 157', 'Unnamed: 158', 'Unnamed: 159', 'Unnamed: 160', 'Unnamed: 161', 'Unnamed: 162', 'Unnamed: 163', 'Unnamed: 164', 'Unnamed: 165', 'Unnamed: 166', 'Unnamed: 167', 'Unnamed: 168', 'Unnamed: 169', 'Unnamed: 170', 'Unnamed: 171', 'Unnamed: 172', 'Unnamed: 173', 'Unnamed: 174', 'Unnamed: 175', 'Unnamed: 176', 'Unnamed: 177', 'Unnamed: 178', 'Unnamed: 179', 'Unnamed: 180', 'Unnamed: 181', 'Unnamed: 182', 'Unnamed: 183', 'Unnamed: 184', 'Unnamed: 185', 'Unnamed: 186', 'Unnamed: 187', 'Unnamed: 188', 'Unnamed: 189', 'Unnamed: 190', 'Unnamed: 191', 'Unnamed: 192', 'Unnamed: 193', 'Unnamed: 194', 'Unnamed: 195', 'Unnamed: 196', 'Unnamed: 197', 'Unnamed: 198', 'Unnamed: 199', 'Unnamed: 200', 'Unnamed: 201', 'Unnamed: 202', 'Unnamed: 203', 'Unnamed: 204', 'Unnamed: 205', 'Unnamed: 206', 'Unnamed: 207', 'Unnamed: 208', 'Unnamed: 209', 'Unnamed: 210', 'Unnamed: 211', 'Unnamed: 212', 'Unnamed: 213', 'Unnamed: 214', 'Unnamed: 215', 'Unnamed: 216', 'Unnamed: 217', 'Unnamed: 218', 'Unnamed: 219', 'Unnamed: 220', 'Unnamed: 221', 'Unnamed: 222', 'Unnamed: 223', 'Unnamed: 224', 'Unnamed: 225', 'Unnamed: 226', 'Unnamed: 227', 'Unnamed: 228', 'Unnamed: 229', 'Unnamed: 230', 'Unnamed: 231', 'Unnamed: 232', 'Unnamed: 233', 'Unnamed: 234', 'Unnamed: 235', 'Unnamed: 236', 'Unnamed: 237', 'Unnamed: 238', 'Unnamed: 239', 'Unnamed: 240', 'Unnamed: 241', 'Unnamed: 242', 'Unnamed: 243', 'Unnamed: 244', 'Unnamed: 245', 'Unnamed: 246', 'Unnamed: 247', 'Unnamed: 248', 'Unnamed: 249', 'Unnamed: 250', 'Unnamed: 251', 'Unnamed: 252', 'Unnamed: 253', 'Unnamed: 254', 'Unnamed: 255', 'Unnamed: 256', 'Unnamed: 257', 'Unnamed: 258', 'Unnamed: 259', 'Unnamed: 260', 'Unnamed: 261', 'Unnamed: 262', 'Unnamed: 263', 'Unnamed: 264', 'Unnamed: 265']\n",
            "\n",
            "==================================================\n",
            "11->17: /content/26.06 new dataset/neiro_05-22.csv\n",
            "<class 'pandas.core.frame.DataFrame'>\n",
            "RangeIndex: 1831 entries, 0 to 1830\n",
            "Columns: 262 entries, b63a0570-5346-11ec-80fc-0cc47aab8067 to Unnamed: 261\n",
            "dtypes: bool(1), object(261)\n",
            "memory usage: 3.6+ MB\n",
            "-------------------------\n",
            "262: ['b63a0570-5346-11ec-80fc-0cc47aab8067', '110848a2-5102-11ec-80fc-0cc47aab8067', '1988-11-08T00:00:00', 'Женский', 'Женский.1', '2021-12-02T00:00:00', 'Периодический', 'Периодический.1', 'false', '8a311b09-8de2-11eb-80e8-0cc47aab8067', 'Unnamed: 10', 'Товаровед', 'Годен', 'Годен к работе в указанных условиях', 'Годен к работе в указанных условиях.1', '23', 'b62edd51-5347-11ec-80fc-0cc47aab8067', '2021-12-02T13:13:22', 'cdde6c3f-5348-11ec-80fc-0cc47aab8067', '2021-12-02T13:21:15', 'Z00.0', 'Общий медицинский осмотр', '[Z00.0] Общий медицинский осмотр\\r\\n', '[Z00.0] Общий медицинский осмотр\\r\\n.1', '29b21e12-5349-11ec-80fc-0cc47aab8067', '2021-12-02T13:23:45', 'Z00.0.1', 'Общий медицинский осмотр.1', '[Z00.0] Общий медицинский осмотр\\r\\n.2', '[Z00.0] Общий медицинский осмотр\\r\\n.3', '91dd20ed-5349-11ec-80fc-0cc47aab8067', '2021-12-02T13:26:48', 'Z00.0.2', 'Общий медицинский осмотр.2', '[Z00.0] Общий медицинский осмотр\\r\\n.4', '[Z00.0] Общий медицинский осмотр\\r\\n.5', '35f93ca5-534a-11ec-80fc-0cc47aab8067', '2021-12-02T13:31:16', 'Z00.0.3', 'Общий медицинский осмотр.3', '[Z00.0] Общий медицинский осмотр\\r\\n.6', '[Z00.0] Общий медицинский осмотр\\r\\n.7', '6be3b7a8-534a-11ec-80fc-0cc47aab8067', '2021-12-02T13:32:55', '392f1825-534b-11ec-80fc-0cc47aab8067', '2021-12-02T13:38:39', 'Z00.0.4', 'Общий медицинский осмотр.4', '8d81fbcc-534d-11ec-80fc-0cc47aab8067', '2021-12-02T13:55:13', '1c87fdb2-534e-11ec-80fc-0cc47aab8067', '2021-12-02T13:59:19', 'Z00.0.5', 'Общий медицинский осмотр.5', 'Unnamed: 54', 'Unnamed: 55', 'Unnamed: 56', 'Unnamed: 57', 'Unnamed: 58', 'Unnamed: 59', 'Unnamed: 60', 'Unnamed: 61', 'Unnamed: 62', 'Unnamed: 63', 'Unnamed: 64', 'Unnamed: 65', 'Unnamed: 66', 'Unnamed: 67', 'Unnamed: 68', 'Unnamed: 69', 'Unnamed: 70', 'Unnamed: 71', 'Unnamed: 72', 'Unnamed: 73', 'Unnamed: 74', 'Unnamed: 75', 'Unnamed: 76', 'Unnamed: 77', 'Unnamed: 78', 'Unnamed: 79', 'Unnamed: 80', 'Unnamed: 81', 'Unnamed: 82', 'Unnamed: 83', 'Unnamed: 84', 'Unnamed: 85', 'Unnamed: 86', 'Unnamed: 87', 'Unnamed: 88', 'Unnamed: 89', 'Unnamed: 90', 'Unnamed: 91', 'Unnamed: 92', 'Unnamed: 93', 'Unnamed: 94', 'Unnamed: 95', 'Unnamed: 96', 'Unnamed: 97', 'Unnamed: 98', 'Unnamed: 99', 'Unnamed: 100', 'Unnamed: 101', 'Unnamed: 102', 'Unnamed: 103', 'Unnamed: 104', 'Unnamed: 105', 'Unnamed: 106', 'Unnamed: 107', 'Unnamed: 108', 'Unnamed: 109', 'Unnamed: 110', 'Unnamed: 111', 'Unnamed: 112', 'Unnamed: 113', 'Unnamed: 114', 'Unnamed: 115', 'Unnamed: 116', 'Unnamed: 117', 'Unnamed: 118', 'Unnamed: 119', 'Unnamed: 120', 'Unnamed: 121', 'Unnamed: 122', 'Unnamed: 123', 'Unnamed: 124', 'Unnamed: 125', 'Unnamed: 126', 'Unnamed: 127', 'Unnamed: 128', 'Unnamed: 129', 'Unnamed: 130', 'Unnamed: 131', 'Unnamed: 132', 'Unnamed: 133', 'Unnamed: 134', 'Unnamed: 135', 'Unnamed: 136', 'Unnamed: 137', 'Unnamed: 138', 'Unnamed: 139', 'Unnamed: 140', 'Unnamed: 141', 'Unnamed: 142', 'Unnamed: 143', 'Unnamed: 144', 'Unnamed: 145', 'Unnamed: 146', 'Unnamed: 147', 'Unnamed: 148', 'Unnamed: 149', 'Unnamed: 150', 'Unnamed: 151', 'Unnamed: 152', 'Unnamed: 153', 'Unnamed: 154', 'Unnamed: 155', 'Unnamed: 156', 'Unnamed: 157', 'Unnamed: 158', 'Unnamed: 159', 'Unnamed: 160', 'Unnamed: 161', 'Unnamed: 162', 'Unnamed: 163', 'Unnamed: 164', 'Unnamed: 165', 'Unnamed: 166', 'Unnamed: 167', 'Unnamed: 168', 'Unnamed: 169', 'Unnamed: 170', 'Unnamed: 171', 'Unnamed: 172', 'Unnamed: 173', 'Unnamed: 174', 'Unnamed: 175', 'Unnamed: 176', 'Unnamed: 177', 'Unnamed: 178', 'Unnamed: 179', 'Unnamed: 180', 'Unnamed: 181', 'Unnamed: 182', 'Unnamed: 183', 'Unnamed: 184', 'Unnamed: 185', 'Unnamed: 186', 'Unnamed: 187', 'Unnamed: 188', 'Unnamed: 189', 'Unnamed: 190', 'Unnamed: 191', 'Unnamed: 192', 'Unnamed: 193', 'Unnamed: 194', 'Unnamed: 195', 'Unnamed: 196', 'Unnamed: 197', 'Unnamed: 198', 'Unnamed: 199', 'Unnamed: 200', 'Unnamed: 201', 'Unnamed: 202', 'Unnamed: 203', 'Unnamed: 204', 'Unnamed: 205', 'Unnamed: 206', 'Unnamed: 207', 'Unnamed: 208', 'Unnamed: 209', 'Unnamed: 210', 'Unnamed: 211', 'Unnamed: 212', 'Unnamed: 213', 'Unnamed: 214', 'Unnamed: 215', 'Unnamed: 216', 'Unnamed: 217', 'Unnamed: 218', 'Unnamed: 219', 'Unnamed: 220', 'Unnamed: 221', 'Unnamed: 222', 'Unnamed: 223', 'Unnamed: 224', 'Unnamed: 225', 'Unnamed: 226', 'Unnamed: 227', 'Unnamed: 228', 'Unnamed: 229', 'Unnamed: 230', 'Unnamed: 231', 'Unnamed: 232', 'Unnamed: 233', 'Unnamed: 234', 'Unnamed: 235', 'Unnamed: 236', 'Unnamed: 237', 'Unnamed: 238', 'Unnamed: 239', 'Unnamed: 240', 'Unnamed: 241', 'Unnamed: 242', 'Unnamed: 243', 'Unnamed: 244', 'Unnamed: 245', 'Unnamed: 246', 'Unnamed: 247', 'Unnamed: 248', 'Unnamed: 249', 'Unnamed: 250', 'Unnamed: 251', 'Unnamed: 252', 'Unnamed: 253', 'Unnamed: 254', 'Unnamed: 255', 'Unnamed: 256', 'Unnamed: 257', 'Unnamed: 258', 'Unnamed: 259', 'Unnamed: 260', 'Unnamed: 261']\n",
            "\n",
            "==================================================\n",
            "12->17: /content/26.06 new dataset/neiro_05_23.csv\n"
          ]
        },
        {
          "output_type": "stream",
          "name": "stderr",
          "text": [
            "<ipython-input-18-bc8acb739bd6>:14: DtypeWarning: Columns (54,80,81,82,83,84,85,98,99,100,101,102,103,106,107,110,111,112,113,114,115,116,117,118,119,120,121,122,123,124,125,126,127,128,129,130,131,132,133,134,135,136,137,138,139,140,141,142,143,144,145,146,147,148,149,150,151,152,153,154,155,156,157,158,159,160,161,162,163,164,165,166,167,168,169,170,171,172,173,174,175,176,177,178,179,180,181,182,183,184,185,186,187,188,189,190,191,192,193,194,195,206,207,208,209,210,211,212,213,214,215,216,217,218,219,220,221,222,223,224,225,226,227,228,229,230,231,232,233,234,235,236,237,238,239,240,241,242,243,244,245,246,247,248,249,250,251,252,253,254,255,256,257,258,259,260,261,262,263,264,265,266,267,268,269,270,271,272,273,274,275,276,277,278,279,280,281,282,283,284,285,286,287,288,289,290,291,292,293,294,295) have mixed types. Specify dtype option on import or set low_memory=False.\n",
            "  df17 = pd.read_csv(df17_fn, delimiter=';')\n"
          ]
        },
        {
          "output_type": "stream",
          "name": "stdout",
          "text": [
            "<class 'pandas.core.frame.DataFrame'>\n",
            "RangeIndex: 2532 entries, 0 to 2531\n",
            "Columns: 296 entries, 7a6ea4a3-e278-11ed-812b-0cc47aab8067 to Unnamed: 295\n",
            "dtypes: bool(1), object(295)\n",
            "memory usage: 5.7+ MB\n",
            "-------------------------\n",
            "296: ['7a6ea4a3-e278-11ed-812b-0cc47aab8067', '004fd33f-e04a-11ed-812a-0cc47aab8067', '1989-10-27T00:00:00', 'Мужской', 'Мужской.1', '2023-03-27T00:00:00', 'Периодический', 'Периодический.1', 'false', '4eb0abf2-85e0-11ed-810a-0cc47aab8067', 'ДМС', 'Водитель самосвала', 'Годен', 'Годен к работе в указанных условиях', 'Годен к работе в указанных условиях.1', '4.3.2,11.1,11.3,11.4,18.2', 'f089c6c7-1775-4562-93b3-1b83d5f83371', '2023-04-24T13:21:48', 'Z00.0', 'Общий медицинский осмотр', '831f1bab-4208-42c6-8d8e-dfee5268e8dc', '2023-04-24T13:23:16', 'Z00.0.1', 'Общий медицинский осмотр.1', '[Z00.0] Общий медицинский осмотр\\r\\n', '[Z00.0] Общий медицинский осмотр\\r\\n.1', '0f7b876c-7550-4f1d-ac06-dd4dcf87fff0', '2023-04-24T13:27:02', 'Z00.0.2', 'Общий медицинский осмотр.2', 'df75298f-693c-437f-a5b2-0bdc83b25bfa', '2023-04-24T13:33:51', 'd675dcb2-8b56-4951-8a8c-4b18ead1e58c', '2023-04-24T13:36:50', 'Z00.0.3', 'Общий медицинский осмотр.3', '[Z00.0] Общий медицинский осмотр\\r\\n.2', '[Z00.0] Общий медицинский осмотр\\r\\n.3', '75492e67-5b9d-4804-aee9-3fc9a29016ce', '2023-04-24T13:37:11', 'Z00.0.4', 'Общий медицинский осмотр.4', '[Z00.0] Общий медицинский осмотр\\r\\n.4', '[Z00.0] Общий медицинский осмотр\\r\\n.5', 'd02baa99-187d-4882-ba28-6bc0ee71465e', '2023-04-24T13:47:01', 'b6a3d5cb-bbb9-415a-b0ff-d1d0d980c5f5', '2023-04-24T13:50:06', 'Z00.0.5', 'Общий медицинский осмотр.5', '[Z00.0] Общий медицинский осмотр\\r\\n.6', '[Z00.0] Общий медицинский осмотр\\r\\n.7', '59baf0af-690a-4df8-b7ff-83e0deaf57ca', '2023-04-24T13:50:56', 'Unnamed: 54', '<>', 'a69ffa71-2f5b-4cf0-8641-e3ff316be377', '2023-04-24T13:56:06', 'Z00.0.6', 'Общий медицинский осмотр.6', '[Z00.0] Общий медицинский осмотр\\r\\n.8', '[Z00.0] Общий медицинский осмотр\\r\\n.9', '22f0f9af-9d8b-4967-a325-ba9b370c30d8', '2023-04-24T13:56:19', 'Z00.0.7', 'Общий медицинский осмотр.7', '[Z00.0] Общий медицинский осмотр\\r\\n.10', '[Z00.0] Общий медицинский осмотр\\r\\n.11', 'd3213947-b05b-4485-92f4-f1e3e4f6e8c3', '2023-04-24T14:04:53', 'Z00.0.8', 'Общий медицинский осмотр.8', '38f35f3f-99b4-4daa-84ef-934e5a64d6f6', '2023-04-24T14:33:04', 'Z00.0.9', 'Общий медицинский осмотр.9', '[Z00.0] Общий медицинский осмотр\\r\\n.12', '[Z00.0] Общий медицинский осмотр\\r\\n.13', 'Unnamed: 78', 'Unnamed: 79', 'Unnamed: 80', 'Unnamed: 81', 'Unnamed: 82', 'Unnamed: 83', 'Unnamed: 84', 'Unnamed: 85', 'Unnamed: 86', 'Unnamed: 87', 'Unnamed: 88', 'Unnamed: 89', 'Unnamed: 90', 'Unnamed: 91', 'Unnamed: 92', 'Unnamed: 93', 'Unnamed: 94', 'Unnamed: 95', 'Unnamed: 96', 'Unnamed: 97', 'Unnamed: 98', 'Unnamed: 99', 'Unnamed: 100', 'Unnamed: 101', 'Unnamed: 102', 'Unnamed: 103', 'Unnamed: 104', 'Unnamed: 105', 'Unnamed: 106', 'Unnamed: 107', 'Unnamed: 108', 'Unnamed: 109', 'Unnamed: 110', 'Unnamed: 111', 'Unnamed: 112', 'Unnamed: 113', 'Unnamed: 114', 'Unnamed: 115', 'Unnamed: 116', 'Unnamed: 117', 'Unnamed: 118', 'Unnamed: 119', 'Unnamed: 120', 'Unnamed: 121', 'Unnamed: 122', 'Unnamed: 123', 'Unnamed: 124', 'Unnamed: 125', 'Unnamed: 126', 'Unnamed: 127', 'Unnamed: 128', 'Unnamed: 129', 'Unnamed: 130', 'Unnamed: 131', 'Unnamed: 132', 'Unnamed: 133', 'Unnamed: 134', 'Unnamed: 135', 'Unnamed: 136', 'Unnamed: 137', 'Unnamed: 138', 'Unnamed: 139', 'Unnamed: 140', 'Unnamed: 141', 'Unnamed: 142', 'Unnamed: 143', 'Unnamed: 144', 'Unnamed: 145', 'Unnamed: 146', 'Unnamed: 147', 'Unnamed: 148', 'Unnamed: 149', 'Unnamed: 150', 'Unnamed: 151', 'Unnamed: 152', 'Unnamed: 153', 'Unnamed: 154', 'Unnamed: 155', 'Unnamed: 156', 'Unnamed: 157', 'Unnamed: 158', 'Unnamed: 159', 'Unnamed: 160', 'Unnamed: 161', 'Unnamed: 162', 'Unnamed: 163', 'Unnamed: 164', 'Unnamed: 165', 'Unnamed: 166', 'Unnamed: 167', 'Unnamed: 168', 'Unnamed: 169', 'Unnamed: 170', 'Unnamed: 171', 'Unnamed: 172', 'Unnamed: 173', 'Unnamed: 174', 'Unnamed: 175', 'Unnamed: 176', 'Unnamed: 177', 'Unnamed: 178', 'Unnamed: 179', 'Unnamed: 180', 'Unnamed: 181', 'Unnamed: 182', 'Unnamed: 183', 'Unnamed: 184', 'Unnamed: 185', 'Unnamed: 186', 'Unnamed: 187', 'Unnamed: 188', 'Unnamed: 189', 'Unnamed: 190', 'Unnamed: 191', 'Unnamed: 192', 'Unnamed: 193', 'Unnamed: 194', 'Unnamed: 195', 'Unnamed: 196', 'Unnamed: 197', 'Unnamed: 198', 'Unnamed: 199', 'Unnamed: 200', 'Unnamed: 201', 'Unnamed: 202', 'Unnamed: 203', 'Unnamed: 204', 'Unnamed: 205', 'Unnamed: 206', 'Unnamed: 207', 'Unnamed: 208', 'Unnamed: 209', 'Unnamed: 210', 'Unnamed: 211', 'Unnamed: 212', 'Unnamed: 213', 'Unnamed: 214', 'Unnamed: 215', 'Unnamed: 216', 'Unnamed: 217', 'Unnamed: 218', 'Unnamed: 219', 'Unnamed: 220', 'Unnamed: 221', 'Unnamed: 222', 'Unnamed: 223', 'Unnamed: 224', 'Unnamed: 225', 'Unnamed: 226', 'Unnamed: 227', 'Unnamed: 228', 'Unnamed: 229', 'Unnamed: 230', 'Unnamed: 231', 'Unnamed: 232', 'Unnamed: 233', 'Unnamed: 234', 'Unnamed: 235', 'Unnamed: 236', 'Unnamed: 237', 'Unnamed: 238', 'Unnamed: 239', 'Unnamed: 240', 'Unnamed: 241', 'Unnamed: 242', 'Unnamed: 243', 'Unnamed: 244', 'Unnamed: 245', 'Unnamed: 246', 'Unnamed: 247', 'Unnamed: 248', 'Unnamed: 249', 'Unnamed: 250', 'Unnamed: 251', 'Unnamed: 252', 'Unnamed: 253', 'Unnamed: 254', 'Unnamed: 255', 'Unnamed: 256', 'Unnamed: 257', 'Unnamed: 258', 'Unnamed: 259', 'Unnamed: 260', 'Unnamed: 261', 'Unnamed: 262', 'Unnamed: 263', 'Unnamed: 264', 'Unnamed: 265', 'Unnamed: 266', 'Unnamed: 267', 'Unnamed: 268', 'Unnamed: 269', 'Unnamed: 270', 'Unnamed: 271', 'Unnamed: 272', 'Unnamed: 273', 'Unnamed: 274', 'Unnamed: 275', 'Unnamed: 276', 'Unnamed: 277', 'Unnamed: 278', 'Unnamed: 279', 'Unnamed: 280', 'Unnamed: 281', 'Unnamed: 282', 'Unnamed: 283', 'Unnamed: 284', 'Unnamed: 285', 'Unnamed: 286', 'Unnamed: 287', 'Unnamed: 288', 'Unnamed: 289', 'Unnamed: 290', 'Unnamed: 291', 'Unnamed: 292', 'Unnamed: 293', 'Unnamed: 294', 'Unnamed: 295']\n",
            "\n",
            "==================================================\n",
            "13->17: /content/26.06 new dataset/neiro_06-22.csv\n",
            "<class 'pandas.core.frame.DataFrame'>\n",
            "RangeIndex: 1890 entries, 0 to 1889\n",
            "Columns: 458 entries, d1245c91-b1d9-11ea-80dd-0cc47aab8067 to Unnamed: 457\n",
            "dtypes: bool(1), object(457)\n",
            "memory usage: 6.6+ MB\n",
            "-------------------------\n",
            "458: ['d1245c91-b1d9-11ea-80dd-0cc47aab8067', '4c1ff6c3-7a93-11e8-80ce-0cc47aab8067', '1988-06-06T00:00:00', 'Мужской', 'Мужской.1', '2020-06-19T00:00:00', 'Периодический', 'Периодический.1', 'false', '36ced484-5281-11e8-80cc-0cc47aab8067', 'Технический отдел', 'Монтажник', 'Годен', 'Годен к работе в указанных условиях', 'Годен к работе в указанных условиях.1', 'Unnamed: 15', '744c9880-b1db-11ea-80dd-0cc47aab8067', '2020-06-19T08:17:50', 'Z00.0', 'Общий медицинский осмотр', '[Z00.0] Общий медицинский осмотр\\r\\n', '[Z00.0] Общий медицинский осмотр\\r\\n.1', 'Unnamed: 22', 'Unnamed: 23', 'Unnamed: 24', 'Unnamed: 25', 'Unnamed: 26', 'Unnamed: 27', 'Unnamed: 28', 'Unnamed: 29', 'Unnamed: 30', 'Unnamed: 31', 'Unnamed: 32', 'Unnamed: 33', 'Unnamed: 34', 'Unnamed: 35', 'Unnamed: 36', 'Unnamed: 37', 'Unnamed: 38', 'Unnamed: 39', 'Unnamed: 40', 'Unnamed: 41', 'Unnamed: 42', 'Unnamed: 43', 'Unnamed: 44', 'Unnamed: 45', 'Unnamed: 46', 'Unnamed: 47', 'Unnamed: 48', 'Unnamed: 49', 'Unnamed: 50', 'Unnamed: 51', 'Unnamed: 52', 'Unnamed: 53', 'Unnamed: 54', 'Unnamed: 55', 'Unnamed: 56', 'Unnamed: 57', 'Unnamed: 58', 'Unnamed: 59', 'Unnamed: 60', 'Unnamed: 61', 'Unnamed: 62', 'Unnamed: 63', 'Unnamed: 64', 'Unnamed: 65', 'Unnamed: 66', 'Unnamed: 67', 'Unnamed: 68', 'Unnamed: 69', 'Unnamed: 70', 'Unnamed: 71', 'Unnamed: 72', 'Unnamed: 73', 'Unnamed: 74', 'Unnamed: 75', 'Unnamed: 76', 'Unnamed: 77', 'Unnamed: 78', 'Unnamed: 79', 'Unnamed: 80', 'Unnamed: 81', 'Unnamed: 82', 'Unnamed: 83', 'Unnamed: 84', 'Unnamed: 85', 'Unnamed: 86', 'Unnamed: 87', 'Unnamed: 88', 'Unnamed: 89', 'Unnamed: 90', 'Unnamed: 91', 'Unnamed: 92', 'Unnamed: 93', 'Unnamed: 94', 'Unnamed: 95', 'Unnamed: 96', 'Unnamed: 97', 'Unnamed: 98', 'Unnamed: 99', 'Unnamed: 100', 'Unnamed: 101', 'Unnamed: 102', 'Unnamed: 103', 'Unnamed: 104', 'Unnamed: 105', 'Unnamed: 106', 'Unnamed: 107', 'Unnamed: 108', 'Unnamed: 109', 'Unnamed: 110', 'Unnamed: 111', 'Unnamed: 112', 'Unnamed: 113', 'Unnamed: 114', 'Unnamed: 115', 'Unnamed: 116', 'Unnamed: 117', 'Unnamed: 118', 'Unnamed: 119', 'Unnamed: 120', 'Unnamed: 121', 'Unnamed: 122', 'Unnamed: 123', 'Unnamed: 124', 'Unnamed: 125', 'Unnamed: 126', 'Unnamed: 127', 'Unnamed: 128', 'Unnamed: 129', 'Unnamed: 130', 'Unnamed: 131', 'Unnamed: 132', 'Unnamed: 133', 'Unnamed: 134', 'Unnamed: 135', 'Unnamed: 136', 'Unnamed: 137', 'Unnamed: 138', 'Unnamed: 139', 'Unnamed: 140', 'Unnamed: 141', 'Unnamed: 142', 'Unnamed: 143', 'Unnamed: 144', 'Unnamed: 145', 'Unnamed: 146', 'Unnamed: 147', 'Unnamed: 148', 'Unnamed: 149', 'Unnamed: 150', 'Unnamed: 151', 'Unnamed: 152', 'Unnamed: 153', 'Unnamed: 154', 'Unnamed: 155', 'Unnamed: 156', 'Unnamed: 157', 'Unnamed: 158', 'Unnamed: 159', 'Unnamed: 160', 'Unnamed: 161', 'Unnamed: 162', 'Unnamed: 163', 'Unnamed: 164', 'Unnamed: 165', 'Unnamed: 166', 'Unnamed: 167', 'Unnamed: 168', 'Unnamed: 169', 'Unnamed: 170', 'Unnamed: 171', 'Unnamed: 172', 'Unnamed: 173', 'Unnamed: 174', 'Unnamed: 175', 'Unnamed: 176', 'Unnamed: 177', 'Unnamed: 178', 'Unnamed: 179', 'Unnamed: 180', 'Unnamed: 181', 'Unnamed: 182', 'Unnamed: 183', 'Unnamed: 184', 'Unnamed: 185', 'Unnamed: 186', 'Unnamed: 187', 'Unnamed: 188', 'Unnamed: 189', 'Unnamed: 190', 'Unnamed: 191', 'Unnamed: 192', 'Unnamed: 193', 'Unnamed: 194', 'Unnamed: 195', 'Unnamed: 196', 'Unnamed: 197', 'Unnamed: 198', 'Unnamed: 199', 'Unnamed: 200', 'Unnamed: 201', 'Unnamed: 202', 'Unnamed: 203', 'Unnamed: 204', 'Unnamed: 205', 'Unnamed: 206', 'Unnamed: 207', 'Unnamed: 208', 'Unnamed: 209', 'Unnamed: 210', 'Unnamed: 211', 'Unnamed: 212', 'Unnamed: 213', 'Unnamed: 214', 'Unnamed: 215', 'Unnamed: 216', 'Unnamed: 217', 'Unnamed: 218', 'Unnamed: 219', 'Unnamed: 220', 'Unnamed: 221', 'Unnamed: 222', 'Unnamed: 223', 'Unnamed: 224', 'Unnamed: 225', 'Unnamed: 226', 'Unnamed: 227', 'Unnamed: 228', 'Unnamed: 229', 'Unnamed: 230', 'Unnamed: 231', 'Unnamed: 232', 'Unnamed: 233', 'Unnamed: 234', 'Unnamed: 235', 'Unnamed: 236', 'Unnamed: 237', 'Unnamed: 238', 'Unnamed: 239', 'Unnamed: 240', 'Unnamed: 241', 'Unnamed: 242', 'Unnamed: 243', 'Unnamed: 244', 'Unnamed: 245', 'Unnamed: 246', 'Unnamed: 247', 'Unnamed: 248', 'Unnamed: 249', 'Unnamed: 250', 'Unnamed: 251', 'Unnamed: 252', 'Unnamed: 253', 'Unnamed: 254', 'Unnamed: 255', 'Unnamed: 256', 'Unnamed: 257', 'Unnamed: 258', 'Unnamed: 259', 'Unnamed: 260', 'Unnamed: 261', 'Unnamed: 262', 'Unnamed: 263', 'Unnamed: 264', 'Unnamed: 265', 'Unnamed: 266', 'Unnamed: 267', 'Unnamed: 268', 'Unnamed: 269', 'Unnamed: 270', 'Unnamed: 271', 'Unnamed: 272', 'Unnamed: 273', 'Unnamed: 274', 'Unnamed: 275', 'Unnamed: 276', 'Unnamed: 277', 'Unnamed: 278', 'Unnamed: 279', 'Unnamed: 280', 'Unnamed: 281', 'Unnamed: 282', 'Unnamed: 283', 'Unnamed: 284', 'Unnamed: 285', 'Unnamed: 286', 'Unnamed: 287', 'Unnamed: 288', 'Unnamed: 289', 'Unnamed: 290', 'Unnamed: 291', 'Unnamed: 292', 'Unnamed: 293', 'Unnamed: 294', 'Unnamed: 295', 'Unnamed: 296', 'Unnamed: 297', 'Unnamed: 298', 'Unnamed: 299', 'Unnamed: 300', 'Unnamed: 301', 'Unnamed: 302', 'Unnamed: 303', 'Unnamed: 304', 'Unnamed: 305', 'Unnamed: 306', 'Unnamed: 307', 'Unnamed: 308', 'Unnamed: 309', 'Unnamed: 310', 'Unnamed: 311', 'Unnamed: 312', 'Unnamed: 313', 'Unnamed: 314', 'Unnamed: 315', 'Unnamed: 316', 'Unnamed: 317', 'Unnamed: 318', 'Unnamed: 319', 'Unnamed: 320', 'Unnamed: 321', 'Unnamed: 322', 'Unnamed: 323', 'Unnamed: 324', 'Unnamed: 325', 'Unnamed: 326', 'Unnamed: 327', 'Unnamed: 328', 'Unnamed: 329', 'Unnamed: 330', 'Unnamed: 331', 'Unnamed: 332', 'Unnamed: 333', 'Unnamed: 334', 'Unnamed: 335', 'Unnamed: 336', 'Unnamed: 337', 'Unnamed: 338', 'Unnamed: 339', 'Unnamed: 340', 'Unnamed: 341', 'Unnamed: 342', 'Unnamed: 343', 'Unnamed: 344', 'Unnamed: 345', 'Unnamed: 346', 'Unnamed: 347', 'Unnamed: 348', 'Unnamed: 349', 'Unnamed: 350', 'Unnamed: 351', 'Unnamed: 352', 'Unnamed: 353', 'Unnamed: 354', 'Unnamed: 355', 'Unnamed: 356', 'Unnamed: 357', 'Unnamed: 358', 'Unnamed: 359', 'Unnamed: 360', 'Unnamed: 361', 'Unnamed: 362', 'Unnamed: 363', 'Unnamed: 364', 'Unnamed: 365', 'Unnamed: 366', 'Unnamed: 367', 'Unnamed: 368', 'Unnamed: 369', 'Unnamed: 370', 'Unnamed: 371', 'Unnamed: 372', 'Unnamed: 373', 'Unnamed: 374', 'Unnamed: 375', 'Unnamed: 376', 'Unnamed: 377', 'Unnamed: 378', 'Unnamed: 379', 'Unnamed: 380', 'Unnamed: 381', 'Unnamed: 382', 'Unnamed: 383', 'Unnamed: 384', 'Unnamed: 385', 'Unnamed: 386', 'Unnamed: 387', 'Unnamed: 388', 'Unnamed: 389', 'Unnamed: 390', 'Unnamed: 391', 'Unnamed: 392', 'Unnamed: 393', 'Unnamed: 394', 'Unnamed: 395', 'Unnamed: 396', 'Unnamed: 397', 'Unnamed: 398', 'Unnamed: 399', 'Unnamed: 400', 'Unnamed: 401', 'Unnamed: 402', 'Unnamed: 403', 'Unnamed: 404', 'Unnamed: 405', 'Unnamed: 406', 'Unnamed: 407', 'Unnamed: 408', 'Unnamed: 409', 'Unnamed: 410', 'Unnamed: 411', 'Unnamed: 412', 'Unnamed: 413', 'Unnamed: 414', 'Unnamed: 415', 'Unnamed: 416', 'Unnamed: 417', 'Unnamed: 418', 'Unnamed: 419', 'Unnamed: 420', 'Unnamed: 421', 'Unnamed: 422', 'Unnamed: 423', 'Unnamed: 424', 'Unnamed: 425', 'Unnamed: 426', 'Unnamed: 427', 'Unnamed: 428', 'Unnamed: 429', 'Unnamed: 430', 'Unnamed: 431', 'Unnamed: 432', 'Unnamed: 433', 'Unnamed: 434', 'Unnamed: 435', 'Unnamed: 436', 'Unnamed: 437', 'Unnamed: 438', 'Unnamed: 439', 'Unnamed: 440', 'Unnamed: 441', 'Unnamed: 442', 'Unnamed: 443', 'Unnamed: 444', 'Unnamed: 445', 'Unnamed: 446', 'Unnamed: 447', 'Unnamed: 448', 'Unnamed: 449', 'Unnamed: 450', 'Unnamed: 451', 'Unnamed: 452', 'Unnamed: 453', 'Unnamed: 454', 'Unnamed: 455', 'Unnamed: 456', 'Unnamed: 457']\n",
            "\n",
            "==================================================\n",
            "14->17: /content/26.06 new dataset/neiro_06-23.csv\n",
            "<class 'pandas.core.frame.DataFrame'>\n",
            "RangeIndex: 1041 entries, 0 to 1040\n",
            "Columns: 190 entries, ДокументПрохождениеМедосмотра to Хирургия2_Диагноз_ЗначениеПредставление\n",
            "dtypes: bool(1), object(189)\n",
            "memory usage: 1.5+ MB\n",
            "-------------------------\n",
            "190: ['ДокументПрохождениеМедосмотра', 'Клиент', 'КлиентДатаРождения', 'КлиентПол', 'КлиентПолПредставление', 'ДатаЗавершенияМедосмотра', 'ТипМедосмотра', 'ТипМедосмотраПредставление', 'ПсихОсвидетельствование', 'Контрагент', 'Цех', 'Профессия', 'ЗаключениеМК', 'ЗаключениеМКПредставление', 'Заключение', 'ВредныеФакторы', 'Стоматология1_ДокументПрием', 'Стоматология1_ДатаПриема', 'Стоматология1_МКБ101', 'Стоматология1_ДиагнозПредставление1', 'Стоматология1_Диагноз_Значение', 'Стоматология1_Диагноз_ЗначениеПредставление', 'ПроцедурнаяМедсестра1_ДокументПрием', 'ПроцедурнаяМедсестра1_ДатаПриема', 'ПроцедурнаяМедсестра1_МКБ101', 'ПроцедурнаяМедсестра1_ДиагнозПредставление1', 'ПсихиатрияНаркология1_ДокументПрием', 'ПсихиатрияНаркология1_ДатаПриема', 'ПсихиатрияНаркология1_МКБ101', 'ПсихиатрияНаркология1_ДиагнозПредставление1', 'ПсихиатрияНаркология1_Диагноз_Значение', 'ПсихиатрияНаркология1_Диагноз_ЗначениеПредставление', 'Неврология1_ДокументПрием', 'Неврология1_ДатаПриема', 'Неврология1_МКБ101', 'Неврология1_ДиагнозПредставление1', 'Неврология1_Диагноз_Значение', 'Неврология1_Диагноз_ЗначениеПредставление', 'ФункциональнаяДиагностика1_ДокументПрием', 'ФункциональнаяДиагностика1_ДатаПриема', 'Хирургия1_ДокументПрием', 'Хирургия1_ДатаПриема', 'Хирургия1_МКБ101', 'Хирургия1_ДиагнозПредставление1', 'Хирургия1_Диагноз_Значение', 'Хирургия1_Диагноз_ЗначениеПредставление', 'Гинекология1_ДокументПрием', 'Гинекология1_ДатаПриема', 'Гинекология1_МКБ101', 'Гинекология1_ДиагнозПредставление1', 'Гинекология1_Диагноз_Значение', 'Гинекология1_Диагноз_ЗначениеПредставление', 'Оториноларингология1_ДокументПрием', 'Оториноларингология1_ДатаПриема', 'Оториноларингология1_МКБ101', 'Оториноларингология1_ДиагнозПредставление1', 'Оториноларингология1_Диагноз_Значение', 'Оториноларингология1_Диагноз_ЗначениеПредставление', 'УЗИДиагностика1_ДокументПрием', 'УЗИДиагностика1_ДатаПриема', 'Терапия1_ДокументПрием', 'Терапия1_ДатаПриема', 'Терапия1_МКБ101', 'Терапия1_ДиагнозПредставление1', 'Терапия1_Диагноз_Значение', 'Терапия1_Диагноз_ЗначениеПредставление', 'УЗИДиагностика1_МКБ101', 'УЗИДиагностика1_ДиагнозПредставление1', 'Дерматовенерология1_ДокументПрием', 'Дерматовенерология1_ДатаПриема', 'Дерматовенерология1_МКБ101', 'Дерматовенерология1_ДиагнозПредставление1', 'Дерматовенерология1_Диагноз_Значение', 'Дерматовенерология1_Диагноз_ЗначениеПредставление', 'Офтальмология1_ДокументПрием', 'Офтальмология1_ДатаПриема', 'Офтальмология1_МКБ101', 'Офтальмология1_ДиагнозПредставление1', 'Офтальмология1_Диагноз_Значение', 'Офтальмология1_Диагноз_ЗначениеПредставление', 'ФункциональнаяДиагностика1_МКБ101', 'ФункциональнаяДиагностика1_ДиагнозПредставление1', 'Рентгенология1_ДокументПрием', 'Рентгенология1_ДатаПриема', 'Рентгенология1_МКБ101', 'Рентгенология1_ДиагнозПредставление1', 'Терапия2_ДокументПрием', 'Терапия2_ДатаПриема', 'Терапия2_МКБ101', 'Терапия2_ДиагнозПредставление1', 'Терапия2_Диагноз_Значение', 'Терапия2_Диагноз_ЗначениеПредставление', 'Терапия1_МКБ102', 'Терапия1_ДиагнозПредставление2', 'Эндоскопия1_ДокументПрием', 'Эндоскопия1_ДатаПриема', 'ЛабораторнаяДиагностика1_ДокументПрием', 'ЛабораторнаяДиагностика1_ДатаПриема', 'ЛабораторнаяДиагностика2_ДокументПрием', 'ЛабораторнаяДиагностика2_ДатаПриема', 'ЛабораторнаяДиагностика3_ДокументПрием', 'ЛабораторнаяДиагностика3_ДатаПриема', 'Офтальмология1_МКБ102', 'Офтальмология1_ДиагнозПредставление2', 'ПсихиатрияНаркология2_ДокументПрием', 'ПсихиатрияНаркология2_ДатаПриема', 'ПсихиатрияНаркология2_МКБ101', 'ПсихиатрияНаркология2_ДиагнозПредставление1', 'ПсихиатрияНаркология2_Диагноз_Значение', 'ПсихиатрияНаркология2_Диагноз_ЗначениеПредставление', 'Психиатрия1_ДокументПрием', 'Психиатрия1_ДатаПриема', 'Стоматология2_ДокументПрием', 'Стоматология2_ДатаПриема', 'Дерматовенерология2_ДокументПрием', 'Дерматовенерология2_ДатаПриема', 'Дерматовенерология2_МКБ101', 'Дерматовенерология2_ДиагнозПредставление1', 'Дерматовенерология2_Диагноз_Значение', 'Дерматовенерология2_Диагноз_ЗначениеПредставление', 'Неврология1_МКБ102', 'Неврология1_ДиагнозПредставление2', 'Неврология1_МКБ103', 'Неврология1_ДиагнозПредставление3', 'Неврология2_ДокументПрием', 'Неврология2_ДатаПриема', 'Неврология2_МКБ101', 'Неврология2_ДиагнозПредставление1', 'Неврология2_Диагноз_Значение', 'Неврология2_Диагноз_ЗначениеПредставление', 'Терапия1_МКБ103', 'Терапия1_ДиагнозПредставление3', 'Стоматология2_МКБ101', 'Стоматология2_ДиагнозПредставление1', 'Стоматология2_Диагноз_Значение', 'Стоматология2_Диагноз_ЗначениеПредставление', 'ЛабораторнаяДиагностика4_ДокументПрием', 'ЛабораторнаяДиагностика4_ДатаПриема', 'Эндоскопия2_ДокументПрием', 'Эндоскопия2_ДатаПриема', 'Стоматология1_МКБ102', 'Стоматология1_ДиагнозПредставление2', 'Стоматология1_МКБ103', 'Стоматология1_ДиагнозПредставление3', 'Гинекология2_ДокументПрием', 'Гинекология2_ДатаПриема', 'Гинекология2_МКБ101', 'Гинекология2_ДиагнозПредставление1', 'Гинекология2_Диагноз_Значение', 'Гинекология2_Диагноз_ЗначениеПредставление', 'Офтальмология2_ДокументПрием', 'Офтальмология2_ДатаПриема', 'Офтальмология2_МКБ101', 'Офтальмология2_ДиагнозПредставление1', 'Офтальмология2_Диагноз_Значение', 'Офтальмология2_Диагноз_ЗначениеПредставление', 'ЛабораторнаяДиагностика1_МКБ101', 'ЛабораторнаяДиагностика1_ДиагнозПредставление1', 'ЛабораторнаяДиагностика2_МКБ101', 'ЛабораторнаяДиагностика2_ДиагнозПредставление1', 'ПроцедурнаяМедсестра2_ДокументПрием', 'ПроцедурнаяМедсестра2_ДатаПриема', 'ПроцедурнаяМедсестра2_МКБ101', 'ПроцедурнаяМедсестра2_ДиагнозПредставление1', 'Терапия3_ДокументПрием', 'Терапия3_ДатаПриема', 'Терапия3_МКБ101', 'Терапия3_ДиагнозПредставление1', 'Терапия3_Диагноз_Значение', 'Терапия3_Диагноз_ЗначениеПредставление', 'УЗИДиагностика2_ДокументПрием', 'УЗИДиагностика2_ДатаПриема', 'УЗИДиагностика2_МКБ101', 'УЗИДиагностика2_ДиагнозПредставление1', 'Стоматология3_ДокументПрием', 'Стоматология3_ДатаПриема', 'Психиатрия1_МКБ101', 'Психиатрия1_ДиагнозПредставление1', 'Психиатрия1_Диагноз_Значение', 'Психиатрия1_Диагноз_ЗначениеПредставление', 'Стоматология3_МКБ101', 'Стоматология3_ДиагнозПредставление1', 'Стоматология3_Диагноз_Значение', 'Стоматология3_Диагноз_ЗначениеПредставление', 'Хирургия2_ДокументПрием', 'Хирургия2_ДатаПриема', 'Хирургия2_МКБ101', 'Хирургия2_ДиагнозПредставление1', 'Хирургия2_Диагноз_Значение', 'Хирургия2_Диагноз_ЗначениеПредставление']\n",
            "\n",
            "==================================================\n",
            "15->17: /content/26.06 new dataset/neiro_07-22.csv\n",
            "<class 'pandas.core.frame.DataFrame'>\n",
            "RangeIndex: 1069 entries, 0 to 1068\n",
            "Columns: 218 entries, 0d68a019-a35a-11ec-80ff-0cc47aab8067 to Unnamed: 217\n",
            "dtypes: bool(1), object(217)\n",
            "memory usage: 1.8+ MB\n",
            "-------------------------\n",
            "218: ['0d68a019-a35a-11ec-80ff-0cc47aab8067', '6c03bb03-46b7-11e8-80cb-0cc47aab8067', '1991-05-28T00:00:00', 'Мужской', 'Мужской.1', '2022-03-14T00:00:00', 'Периодический', 'Периодический.1', 'false', '23c173a7-30d9-11e7-80d8-708bcd7f83cd', 'Unnamed: 10', 'Ведущий специалист по организации обучения', 'Годен', 'Годен к работе в указанных условиях', 'Годен к работе в указанных условиях.1', '4.2.5,11.1', '940330fa-a35a-11ec-80ff-0cc47aab8067', '2022-03-14T10:50:00', 'Z00.0', 'Общий медицинский осмотр', '[Z00.0] Общий медицинский осмотр\\r\\n', '[Z00.0] Общий медицинский осмотр\\r\\n.1', '28df1070-a35b-11ec-80ff-0cc47aab8067', '2022-03-14T10:54:09', '7da50676-a35c-11ec-80ff-0cc47aab8067', '2022-03-14T11:03:39', 'Z00.0.1', 'Общий медицинский осмотр.1', '[Z00.0] Общий медицинский осмотр\\r\\n.2', '[Z00.0] Общий медицинский осмотр\\r\\n.3', 'bb9b5f0a-a35c-11ec-80ff-0cc47aab8067', '2022-03-14T11:05:32', 'Z00.0.2', 'Общий медицинский осмотр.2', '[Z00.0] Общий медицинский осмотр\\r\\n.4', '[Z00.0] Общий медицинский осмотр\\r\\n.5', 'c7a258e0-a35c-11ec-80ff-0cc47aab8067', '2022-03-14T11:05:43', 'Z00.0.3', 'Общий медицинский осмотр.3', '[Z00.0] Общий медицинский осмотр\\r\\n.6', '[Z00.0] Общий медицинский осмотр\\r\\n.7', '1a6d4586-a35e-11ec-80ff-0cc47aab8067', '2022-03-14T11:15:11', '8c8e4b28-a35e-11ec-80ff-0cc47aab8067', '2022-03-14T11:18:23', 'Z00.0.4', 'Общий медицинский осмотр.4', '[Z00.0] Общий медицинский осмотр\\r\\n.8', '[Z00.0] Общий медицинский осмотр\\r\\n.9', '8c8e4b29-a35e-11ec-80ff-0cc47aab8067', '2022-03-14T11:18:27', 'Z00.0.5', 'Общий медицинский осмотр.5', '[Z00.0] Общий медицинский осмотр\\r\\n.10', '[Z00.0] Общий медицинский осмотр\\r\\n.11', '2d82109e-a35f-11ec-80ff-0cc47aab8067', '2022-03-14T11:22:53', 'Z00.0.6', 'Общий медицинский осмотр.6', '[Z00.0] Общий медицинский осмотр\\r\\n.12', '[Z00.0] Общий медицинский осмотр\\r\\n.13', '105021d6-a362-11ec-80ff-0cc47aab8067', '2022-03-14T11:43:41', '68cff529-a362-11ec-80ff-0cc47aab8067', '2022-03-14T11:46:06', '5f6f3675-a366-11ec-80ff-0cc47aab8067', '2022-03-14T12:14:23', 'Z00.0.7', 'Общий медицинский осмотр.7', 'Unnamed: 70', 'Unnamed: 71', 'Unnamed: 72', 'Unnamed: 73', 'Unnamed: 74', 'Unnamed: 75', 'Unnamed: 76', 'Unnamed: 77', 'Unnamed: 78', 'Unnamed: 79', 'Unnamed: 80', 'Unnamed: 81', 'Unnamed: 82', 'Unnamed: 83', 'Unnamed: 84', 'Unnamed: 85', 'Unnamed: 86', 'Unnamed: 87', 'Unnamed: 88', 'Unnamed: 89', 'Unnamed: 90', 'Unnamed: 91', 'Unnamed: 92', 'Unnamed: 93', 'Unnamed: 94', 'Unnamed: 95', 'Unnamed: 96', 'Unnamed: 97', 'Unnamed: 98', 'Unnamed: 99', 'Unnamed: 100', 'Unnamed: 101', 'Unnamed: 102', 'Unnamed: 103', 'Unnamed: 104', 'Unnamed: 105', 'Unnamed: 106', 'Unnamed: 107', 'Unnamed: 108', 'Unnamed: 109', 'Unnamed: 110', 'Unnamed: 111', 'Unnamed: 112', 'Unnamed: 113', 'Unnamed: 114', 'Unnamed: 115', 'Unnamed: 116', 'Unnamed: 117', 'Unnamed: 118', 'Unnamed: 119', 'Unnamed: 120', 'Unnamed: 121', 'Unnamed: 122', 'Unnamed: 123', 'Unnamed: 124', 'Unnamed: 125', 'Unnamed: 126', 'Unnamed: 127', 'Unnamed: 128', 'Unnamed: 129', 'Unnamed: 130', 'Unnamed: 131', 'Unnamed: 132', 'Unnamed: 133', 'Unnamed: 134', 'Unnamed: 135', 'Unnamed: 136', 'Unnamed: 137', 'Unnamed: 138', 'Unnamed: 139', 'Unnamed: 140', 'Unnamed: 141', 'Unnamed: 142', 'Unnamed: 143', 'Unnamed: 144', 'Unnamed: 145', 'Unnamed: 146', 'Unnamed: 147', 'Unnamed: 148', 'Unnamed: 149', 'Unnamed: 150', 'Unnamed: 151', 'Unnamed: 152', 'Unnamed: 153', 'Unnamed: 154', 'Unnamed: 155', 'Unnamed: 156', 'Unnamed: 157', 'Unnamed: 158', 'Unnamed: 159', 'Unnamed: 160', 'Unnamed: 161', 'Unnamed: 162', 'Unnamed: 163', 'Unnamed: 164', 'Unnamed: 165', 'Unnamed: 166', 'Unnamed: 167', 'Unnamed: 168', 'Unnamed: 169', 'Unnamed: 170', 'Unnamed: 171', 'Unnamed: 172', 'Unnamed: 173', 'Unnamed: 174', 'Unnamed: 175', 'Unnamed: 176', 'Unnamed: 177', 'Unnamed: 178', 'Unnamed: 179', 'Unnamed: 180', 'Unnamed: 181', 'Unnamed: 182', 'Unnamed: 183', 'Unnamed: 184', 'Unnamed: 185', 'Unnamed: 186', 'Unnamed: 187', 'Unnamed: 188', 'Unnamed: 189', 'Unnamed: 190', 'Unnamed: 191', 'Unnamed: 192', 'Unnamed: 193', 'Unnamed: 194', 'Unnamed: 195', 'Unnamed: 196', 'Unnamed: 197', 'Unnamed: 198', 'Unnamed: 199', 'Unnamed: 200', 'Unnamed: 201', 'Unnamed: 202', 'Unnamed: 203', 'Unnamed: 204', 'Unnamed: 205', 'Unnamed: 206', 'Unnamed: 207', 'Unnamed: 208', 'Unnamed: 209', 'Unnamed: 210', 'Unnamed: 211', 'Unnamed: 212', 'Unnamed: 213', 'Unnamed: 214', 'Unnamed: 215', 'Unnamed: 216', 'Unnamed: 217']\n",
            "\n",
            "==================================================\n",
            "16->17: /content/26.06 new dataset/neiro_12-22.csv\n",
            "<class 'pandas.core.frame.DataFrame'>\n",
            "RangeIndex: 1235 entries, 0 to 1234\n",
            "Columns: 222 entries, f59699df-7e64-11ec-80fc-0cc47aab8067 to Unnamed: 221\n",
            "dtypes: bool(1), object(221)\n",
            "memory usage: 2.1+ MB\n",
            "-------------------------\n",
            "222: ['f59699df-7e64-11ec-80fc-0cc47aab8067', '260fef51-5f96-11eb-80e5-0cc47aab8067', '1992-04-18T00:00:00', 'Мужской', 'Мужской.1', '2022-01-26T00:00:00', 'Периодический', 'Периодический.1', 'false', 'd1e3472c-a1f5-11e9-80cf-0cc47aab8067', 'Unnamed: 10', 'Монтажник', 'Годен', 'Годен к работе в указанных условиях', 'Годен к работе в указанных условиях.1', '9,6.1', 'b1707ab5-7e65-11ec-80fc-0cc47aab8067', '2022-01-26T10:06:21', 'Z00.0', 'Общий медицинский осмотр', '[Z00.0] Общий медицинский осмотр\\r\\n', '[Z00.0] Общий медицинский осмотр\\r\\n.1', 'db56e260-7e65-11ec-80fc-0cc47aab8067', '2022-01-26T10:07:32', 'Z00.0.1', 'Общий медицинский осмотр.1', '[Z00.0] Общий медицинский осмотр\\r\\n.2', '[Z00.0] Общий медицинский осмотр\\r\\n.3', '13e2276b-7e66-11ec-80fc-0cc47aab8067', '2022-01-26T10:09:12', 'afccc2c4-7e66-11ec-80fc-0cc47aab8067', '2022-01-26T10:13:25', 'Z00.0.2', 'Общий медицинский осмотр.2', '[Z00.0] Общий медицинский осмотр\\r\\n.4', '[Z00.0] Общий медицинский осмотр\\r\\n.5', 'afccc2c5-7e66-11ec-80fc-0cc47aab8067', '2022-01-26T10:13:26', 'Z00.0.3', 'Общий медицинский осмотр.3', '[Z00.0] Общий медицинский осмотр\\r\\n.6', '[Z00.0] Общий медицинский осмотр\\r\\n.7', '1a3ca7d7-7e67-11ec-80fc-0cc47aab8067', '2022-01-26T10:16:24', 'Z00.0.4', 'Общий медицинский осмотр.4', 'bc624454-7e68-11ec-80fc-0cc47aab8067', '2022-01-26T10:28:08', 'H52.1', 'Миопия', '[H52.1] Миопия\\r\\nОписание: Миопия слабой степени обоих глаз.\\r\\n', '[H52.1] Миопия\\r\\nОписание: Миопия слабой степени обоих глаз.\\r\\n.1', 'c565ccd5-7e69-11ec-80fc-0cc47aab8067', '2022-01-26T10:35:34', '129c4664-7e6b-11ec-80fc-0cc47aab8067', '2022-01-26T10:44:52', 'Z00.0.5', 'Общий медицинский осмотр.5', 'Unnamed: 58', 'Unnamed: 59', 'Unnamed: 60', 'Unnamed: 61', 'Unnamed: 62', 'Unnamed: 63', 'Unnamed: 64', 'Unnamed: 65', 'Unnamed: 66', 'Unnamed: 67', 'Unnamed: 68', 'Unnamed: 69', 'Unnamed: 70', 'Unnamed: 71', 'Unnamed: 72', 'Unnamed: 73', 'Unnamed: 74', 'Unnamed: 75', 'Unnamed: 76', 'Unnamed: 77', 'Unnamed: 78', 'Unnamed: 79', 'Unnamed: 80', 'Unnamed: 81', 'Unnamed: 82', 'Unnamed: 83', 'Unnamed: 84', 'Unnamed: 85', 'Unnamed: 86', 'Unnamed: 87', 'Unnamed: 88', 'Unnamed: 89', 'Unnamed: 90', 'Unnamed: 91', 'Unnamed: 92', 'Unnamed: 93', 'Unnamed: 94', 'Unnamed: 95', 'Unnamed: 96', 'Unnamed: 97', 'Unnamed: 98', 'Unnamed: 99', 'Unnamed: 100', 'Unnamed: 101', 'Unnamed: 102', 'Unnamed: 103', 'Unnamed: 104', 'Unnamed: 105', 'Unnamed: 106', 'Unnamed: 107', 'Unnamed: 108', 'Unnamed: 109', 'Unnamed: 110', 'Unnamed: 111', 'Unnamed: 112', 'Unnamed: 113', 'Unnamed: 114', 'Unnamed: 115', 'Unnamed: 116', 'Unnamed: 117', 'Unnamed: 118', 'Unnamed: 119', 'Unnamed: 120', 'Unnamed: 121', 'Unnamed: 122', 'Unnamed: 123', 'Unnamed: 124', 'Unnamed: 125', 'Unnamed: 126', 'Unnamed: 127', 'Unnamed: 128', 'Unnamed: 129', 'Unnamed: 130', 'Unnamed: 131', 'Unnamed: 132', 'Unnamed: 133', 'Unnamed: 134', 'Unnamed: 135', 'Unnamed: 136', 'Unnamed: 137', 'Unnamed: 138', 'Unnamed: 139', 'Unnamed: 140', 'Unnamed: 141', 'Unnamed: 142', 'Unnamed: 143', 'Unnamed: 144', 'Unnamed: 145', 'Unnamed: 146', 'Unnamed: 147', 'Unnamed: 148', 'Unnamed: 149', 'Unnamed: 150', 'Unnamed: 151', 'Unnamed: 152', 'Unnamed: 153', 'Unnamed: 154', 'Unnamed: 155', 'Unnamed: 156', 'Unnamed: 157', 'Unnamed: 158', 'Unnamed: 159', 'Unnamed: 160', 'Unnamed: 161', 'Unnamed: 162', 'Unnamed: 163', 'Unnamed: 164', 'Unnamed: 165', 'Unnamed: 166', 'Unnamed: 167', 'Unnamed: 168', 'Unnamed: 169', 'Unnamed: 170', 'Unnamed: 171', 'Unnamed: 172', 'Unnamed: 173', 'Unnamed: 174', 'Unnamed: 175', 'Unnamed: 176', 'Unnamed: 177', 'Unnamed: 178', 'Unnamed: 179', 'Unnamed: 180', 'Unnamed: 181', 'Unnamed: 182', 'Unnamed: 183', 'Unnamed: 184', 'Unnamed: 185', 'Unnamed: 186', 'Unnamed: 187', 'Unnamed: 188', 'Unnamed: 189', 'Unnamed: 190', 'Unnamed: 191', 'Unnamed: 192', 'Unnamed: 193', 'Unnamed: 194', 'Unnamed: 195', 'Unnamed: 196', 'Unnamed: 197', 'Unnamed: 198', 'Unnamed: 199', 'Unnamed: 200', 'Unnamed: 201', 'Unnamed: 202', 'Unnamed: 203', 'Unnamed: 204', 'Unnamed: 205', 'Unnamed: 206', 'Unnamed: 207', 'Unnamed: 208', 'Unnamed: 209', 'Unnamed: 210', 'Unnamed: 211', 'Unnamed: 212', 'Unnamed: 213', 'Unnamed: 214', 'Unnamed: 215', 'Unnamed: 216', 'Unnamed: 217', 'Unnamed: 218', 'Unnamed: 219', 'Unnamed: 220', 'Unnamed: 221']\n"
          ]
        }
      ]
    },
    {
      "cell_type": "markdown",
      "source": [
        "**Выводы:**\n",
        "\n",
        "1. **Количество колонок и типы данных разные.**\n",
        "\n",
        "2. **В файле 'neiro-10-22.csv' в разных строках содержится разное количество колонок.**\n",
        "\n",
        "3. **Названия колонок есть только в файле 'neiro_06-23.csv'.**\n",
        "\n",
        "4. **Совмещение таблиц с разным количеством колонок без названий скорее всего приведет к смешиванию данных по смыслу и в итоге к отрицательному результату. Крайне желательно объединять таблицы с подписанными колонками.**"
      ],
      "metadata": {
        "id": "UGj9VjfFm5Uy"
      }
    },
    {
      "cell_type": "markdown",
      "source": [
        "\n",
        "**Начинаю обработку с файла, в котором колонки подписаны - 'neiro_06-23.csv'.**"
      ],
      "metadata": {
        "id": "JtJTnRBJqBrL"
      }
    },
    {
      "cell_type": "code",
      "source": [
        "# # Чтение данных (df - DataFrame)\n",
        "# df1 = pd.read_excel(url2)"
      ],
      "metadata": {
        "id": "n6_-QUl1qgWN"
      },
      "execution_count": 19,
      "outputs": []
    },
    {
      "cell_type": "code",
      "source": [
        "# # Выведем информацию о заполненности ячеек каждого признака\n",
        "# df1.info()"
      ],
      "metadata": {
        "id": "i3c5nT8vqs6b"
      },
      "execution_count": 20,
      "outputs": []
    },
    {
      "cell_type": "code",
      "source": [
        "# print(f'размеры датафрейма: df1: {df1.shape}')"
      ],
      "metadata": {
        "id": "rbPsA_pYq00w"
      },
      "execution_count": 21,
      "outputs": []
    },
    {
      "cell_type": "code",
      "source": [
        "# # общее количество пропусков во всей таблице\n",
        "# nan_cell_count = df1.isna().sum().sum()\n",
        "# # Переведем полученное значение в проценты. Для этого поделим количество пропусков на количество ячеек и умножим на 100:\n",
        "# nan_cell_count_proc = nan_cell_count*100/df1.size\n",
        "# print(f'общее количество пропусков во всей таблице: {nan_cell_count}, {round(nan_cell_count_proc, 2)}%')"
      ],
      "metadata": {
        "id": "FtHHCzeGq66F"
      },
      "execution_count": 22,
      "outputs": []
    },
    {
      "cell_type": "code",
      "source": [
        "#14->17: /content/26.06 new dataset/neiro_06-23.csv\n",
        "inx = 14\n",
        "df17_fn = dir_dataset2606 + '/' + files2606[inx]\n",
        "print(f'{inx}->{len(files2606)}: {df17_fn}')\n",
        "df1 = pd.read_csv(df17_fn, delimiter=';')\n",
        "print('='*50)\n",
        "df1.info()\n",
        "print('='*50)\n",
        "print(f'df17_14 число строк: {df1.shape[0]}')\n",
        "print(f'df17_14 число колонок: {df1.shape[1]}')\n",
        "nan_cell_count = df1.isna().sum().sum()\n",
        "nan_cell_count_proc = nan_cell_count*100/df1.size\n",
        "print(f'общее количество пропусков во всей таблице df17_14: {nan_cell_count}, {round(nan_cell_count_proc, 2)}%')\n",
        "print('='*50)\n",
        "print('индекс - название - тип колонки:')\n",
        "print('-'*50)\n",
        "for j in range(df1.shape[1]):\n",
        "  jcol = df1.columns[j]\n",
        "  jcol_type = df1.dtypes[j]\n",
        "  print(f'{j}->{df1.shape[1]}: {jcol} - {jcol_type}')"
      ],
      "metadata": {
        "colab": {
          "base_uri": "https://localhost:8080/"
        },
        "id": "yzCKGJ02kZsV",
        "outputId": "b4818259-3d89-4f86-8d05-0522602a16da"
      },
      "execution_count": 23,
      "outputs": [
        {
          "output_type": "stream",
          "name": "stdout",
          "text": [
            "14->17: /content/26.06 new dataset/neiro_06-23.csv\n",
            "==================================================\n",
            "<class 'pandas.core.frame.DataFrame'>\n",
            "RangeIndex: 1041 entries, 0 to 1040\n",
            "Columns: 190 entries, ДокументПрохождениеМедосмотра to Хирургия2_Диагноз_ЗначениеПредставление\n",
            "dtypes: bool(1), object(189)\n",
            "memory usage: 1.5+ MB\n",
            "==================================================\n",
            "df17_14 число строк: 1041\n",
            "df17_14 число колонок: 190\n",
            "общее количество пропусков во всей таблице df17_14: 136994, 69.26%\n",
            "==================================================\n",
            "индекс - название - тип колонки:\n",
            "--------------------------------------------------\n",
            "0->190: ДокументПрохождениеМедосмотра - object\n",
            "1->190: Клиент - object\n",
            "2->190: КлиентДатаРождения - object\n",
            "3->190: КлиентПол - object\n",
            "4->190: КлиентПолПредставление - object\n",
            "5->190: ДатаЗавершенияМедосмотра - object\n",
            "6->190: ТипМедосмотра - object\n",
            "7->190: ТипМедосмотраПредставление - object\n",
            "8->190: ПсихОсвидетельствование - bool\n",
            "9->190: Контрагент - object\n",
            "10->190: Цех - object\n",
            "11->190: Профессия - object\n",
            "12->190: ЗаключениеМК - object\n",
            "13->190: ЗаключениеМКПредставление - object\n",
            "14->190: Заключение - object\n",
            "15->190: ВредныеФакторы - object\n",
            "16->190: Стоматология1_ДокументПрием - object\n",
            "17->190: Стоматология1_ДатаПриема - object\n",
            "18->190: Стоматология1_МКБ101 - object\n",
            "19->190: Стоматология1_ДиагнозПредставление1 - object\n",
            "20->190: Стоматология1_Диагноз_Значение - object\n",
            "21->190: Стоматология1_Диагноз_ЗначениеПредставление - object\n",
            "22->190: ПроцедурнаяМедсестра1_ДокументПрием - object\n",
            "23->190: ПроцедурнаяМедсестра1_ДатаПриема - object\n",
            "24->190: ПроцедурнаяМедсестра1_МКБ101 - object\n",
            "25->190: ПроцедурнаяМедсестра1_ДиагнозПредставление1 - object\n",
            "26->190: ПсихиатрияНаркология1_ДокументПрием - object\n",
            "27->190: ПсихиатрияНаркология1_ДатаПриема - object\n",
            "28->190: ПсихиатрияНаркология1_МКБ101 - object\n",
            "29->190: ПсихиатрияНаркология1_ДиагнозПредставление1 - object\n",
            "30->190: ПсихиатрияНаркология1_Диагноз_Значение - object\n",
            "31->190: ПсихиатрияНаркология1_Диагноз_ЗначениеПредставление - object\n",
            "32->190: Неврология1_ДокументПрием - object\n",
            "33->190: Неврология1_ДатаПриема - object\n",
            "34->190: Неврология1_МКБ101 - object\n",
            "35->190: Неврология1_ДиагнозПредставление1 - object\n",
            "36->190: Неврология1_Диагноз_Значение - object\n",
            "37->190: Неврология1_Диагноз_ЗначениеПредставление - object\n",
            "38->190: ФункциональнаяДиагностика1_ДокументПрием - object\n",
            "39->190: ФункциональнаяДиагностика1_ДатаПриема - object\n",
            "40->190: Хирургия1_ДокументПрием - object\n",
            "41->190: Хирургия1_ДатаПриема - object\n",
            "42->190: Хирургия1_МКБ101 - object\n",
            "43->190: Хирургия1_ДиагнозПредставление1 - object\n",
            "44->190: Хирургия1_Диагноз_Значение - object\n",
            "45->190: Хирургия1_Диагноз_ЗначениеПредставление - object\n",
            "46->190: Гинекология1_ДокументПрием - object\n",
            "47->190: Гинекология1_ДатаПриема - object\n",
            "48->190: Гинекология1_МКБ101 - object\n",
            "49->190: Гинекология1_ДиагнозПредставление1 - object\n",
            "50->190: Гинекология1_Диагноз_Значение - object\n",
            "51->190: Гинекология1_Диагноз_ЗначениеПредставление - object\n",
            "52->190: Оториноларингология1_ДокументПрием - object\n",
            "53->190: Оториноларингология1_ДатаПриема - object\n",
            "54->190: Оториноларингология1_МКБ101 - object\n",
            "55->190: Оториноларингология1_ДиагнозПредставление1 - object\n",
            "56->190: Оториноларингология1_Диагноз_Значение - object\n",
            "57->190: Оториноларингология1_Диагноз_ЗначениеПредставление - object\n",
            "58->190: УЗИДиагностика1_ДокументПрием - object\n",
            "59->190: УЗИДиагностика1_ДатаПриема - object\n",
            "60->190: Терапия1_ДокументПрием - object\n",
            "61->190: Терапия1_ДатаПриема - object\n",
            "62->190: Терапия1_МКБ101 - object\n",
            "63->190: Терапия1_ДиагнозПредставление1 - object\n",
            "64->190: Терапия1_Диагноз_Значение - object\n",
            "65->190: Терапия1_Диагноз_ЗначениеПредставление - object\n",
            "66->190: УЗИДиагностика1_МКБ101 - object\n",
            "67->190: УЗИДиагностика1_ДиагнозПредставление1 - object\n",
            "68->190: Дерматовенерология1_ДокументПрием - object\n",
            "69->190: Дерматовенерология1_ДатаПриема - object\n",
            "70->190: Дерматовенерология1_МКБ101 - object\n",
            "71->190: Дерматовенерология1_ДиагнозПредставление1 - object\n",
            "72->190: Дерматовенерология1_Диагноз_Значение - object\n",
            "73->190: Дерматовенерология1_Диагноз_ЗначениеПредставление - object\n",
            "74->190: Офтальмология1_ДокументПрием - object\n",
            "75->190: Офтальмология1_ДатаПриема - object\n",
            "76->190: Офтальмология1_МКБ101 - object\n",
            "77->190: Офтальмология1_ДиагнозПредставление1 - object\n",
            "78->190: Офтальмология1_Диагноз_Значение - object\n",
            "79->190: Офтальмология1_Диагноз_ЗначениеПредставление - object\n",
            "80->190: ФункциональнаяДиагностика1_МКБ101 - object\n",
            "81->190: ФункциональнаяДиагностика1_ДиагнозПредставление1 - object\n",
            "82->190: Рентгенология1_ДокументПрием - object\n",
            "83->190: Рентгенология1_ДатаПриема - object\n",
            "84->190: Рентгенология1_МКБ101 - object\n",
            "85->190: Рентгенология1_ДиагнозПредставление1 - object\n",
            "86->190: Терапия2_ДокументПрием - object\n",
            "87->190: Терапия2_ДатаПриема - object\n",
            "88->190: Терапия2_МКБ101 - object\n",
            "89->190: Терапия2_ДиагнозПредставление1 - object\n",
            "90->190: Терапия2_Диагноз_Значение - object\n",
            "91->190: Терапия2_Диагноз_ЗначениеПредставление - object\n",
            "92->190: Терапия1_МКБ102 - object\n",
            "93->190: Терапия1_ДиагнозПредставление2 - object\n",
            "94->190: Эндоскопия1_ДокументПрием - object\n",
            "95->190: Эндоскопия1_ДатаПриема - object\n",
            "96->190: ЛабораторнаяДиагностика1_ДокументПрием - object\n",
            "97->190: ЛабораторнаяДиагностика1_ДатаПриема - object\n",
            "98->190: ЛабораторнаяДиагностика2_ДокументПрием - object\n",
            "99->190: ЛабораторнаяДиагностика2_ДатаПриема - object\n",
            "100->190: ЛабораторнаяДиагностика3_ДокументПрием - object\n",
            "101->190: ЛабораторнаяДиагностика3_ДатаПриема - object\n",
            "102->190: Офтальмология1_МКБ102 - object\n",
            "103->190: Офтальмология1_ДиагнозПредставление2 - object\n",
            "104->190: ПсихиатрияНаркология2_ДокументПрием - object\n",
            "105->190: ПсихиатрияНаркология2_ДатаПриема - object\n",
            "106->190: ПсихиатрияНаркология2_МКБ101 - object\n",
            "107->190: ПсихиатрияНаркология2_ДиагнозПредставление1 - object\n",
            "108->190: ПсихиатрияНаркология2_Диагноз_Значение - object\n",
            "109->190: ПсихиатрияНаркология2_Диагноз_ЗначениеПредставление - object\n",
            "110->190: Психиатрия1_ДокументПрием - object\n",
            "111->190: Психиатрия1_ДатаПриема - object\n",
            "112->190: Стоматология2_ДокументПрием - object\n",
            "113->190: Стоматология2_ДатаПриема - object\n",
            "114->190: Дерматовенерология2_ДокументПрием - object\n",
            "115->190: Дерматовенерология2_ДатаПриема - object\n",
            "116->190: Дерматовенерология2_МКБ101 - object\n",
            "117->190: Дерматовенерология2_ДиагнозПредставление1 - object\n",
            "118->190: Дерматовенерология2_Диагноз_Значение - object\n",
            "119->190: Дерматовенерология2_Диагноз_ЗначениеПредставление - object\n",
            "120->190: Неврология1_МКБ102 - object\n",
            "121->190: Неврология1_ДиагнозПредставление2 - object\n",
            "122->190: Неврология1_МКБ103 - object\n",
            "123->190: Неврология1_ДиагнозПредставление3 - object\n",
            "124->190: Неврология2_ДокументПрием - object\n",
            "125->190: Неврология2_ДатаПриема - object\n",
            "126->190: Неврология2_МКБ101 - object\n",
            "127->190: Неврология2_ДиагнозПредставление1 - object\n",
            "128->190: Неврология2_Диагноз_Значение - object\n",
            "129->190: Неврология2_Диагноз_ЗначениеПредставление - object\n",
            "130->190: Терапия1_МКБ103 - object\n",
            "131->190: Терапия1_ДиагнозПредставление3 - object\n",
            "132->190: Стоматология2_МКБ101 - object\n",
            "133->190: Стоматология2_ДиагнозПредставление1 - object\n",
            "134->190: Стоматология2_Диагноз_Значение - object\n",
            "135->190: Стоматология2_Диагноз_ЗначениеПредставление - object\n",
            "136->190: ЛабораторнаяДиагностика4_ДокументПрием - object\n",
            "137->190: ЛабораторнаяДиагностика4_ДатаПриема - object\n",
            "138->190: Эндоскопия2_ДокументПрием - object\n",
            "139->190: Эндоскопия2_ДатаПриема - object\n",
            "140->190: Стоматология1_МКБ102 - object\n",
            "141->190: Стоматология1_ДиагнозПредставление2 - object\n",
            "142->190: Стоматология1_МКБ103 - object\n",
            "143->190: Стоматология1_ДиагнозПредставление3 - object\n",
            "144->190: Гинекология2_ДокументПрием - object\n",
            "145->190: Гинекология2_ДатаПриема - object\n",
            "146->190: Гинекология2_МКБ101 - object\n",
            "147->190: Гинекология2_ДиагнозПредставление1 - object\n",
            "148->190: Гинекология2_Диагноз_Значение - object\n",
            "149->190: Гинекология2_Диагноз_ЗначениеПредставление - object\n",
            "150->190: Офтальмология2_ДокументПрием - object\n",
            "151->190: Офтальмология2_ДатаПриема - object\n",
            "152->190: Офтальмология2_МКБ101 - object\n",
            "153->190: Офтальмология2_ДиагнозПредставление1 - object\n",
            "154->190: Офтальмология2_Диагноз_Значение - object\n",
            "155->190: Офтальмология2_Диагноз_ЗначениеПредставление - object\n",
            "156->190: ЛабораторнаяДиагностика1_МКБ101 - object\n",
            "157->190: ЛабораторнаяДиагностика1_ДиагнозПредставление1 - object\n",
            "158->190: ЛабораторнаяДиагностика2_МКБ101 - object\n",
            "159->190: ЛабораторнаяДиагностика2_ДиагнозПредставление1 - object\n",
            "160->190: ПроцедурнаяМедсестра2_ДокументПрием - object\n",
            "161->190: ПроцедурнаяМедсестра2_ДатаПриема - object\n",
            "162->190: ПроцедурнаяМедсестра2_МКБ101 - object\n",
            "163->190: ПроцедурнаяМедсестра2_ДиагнозПредставление1 - object\n",
            "164->190: Терапия3_ДокументПрием - object\n",
            "165->190: Терапия3_ДатаПриема - object\n",
            "166->190: Терапия3_МКБ101 - object\n",
            "167->190: Терапия3_ДиагнозПредставление1 - object\n",
            "168->190: Терапия3_Диагноз_Значение - object\n",
            "169->190: Терапия3_Диагноз_ЗначениеПредставление - object\n",
            "170->190: УЗИДиагностика2_ДокументПрием - object\n",
            "171->190: УЗИДиагностика2_ДатаПриема - object\n",
            "172->190: УЗИДиагностика2_МКБ101 - object\n",
            "173->190: УЗИДиагностика2_ДиагнозПредставление1 - object\n",
            "174->190: Стоматология3_ДокументПрием - object\n",
            "175->190: Стоматология3_ДатаПриема - object\n",
            "176->190: Психиатрия1_МКБ101 - object\n",
            "177->190: Психиатрия1_ДиагнозПредставление1 - object\n",
            "178->190: Психиатрия1_Диагноз_Значение - object\n",
            "179->190: Психиатрия1_Диагноз_ЗначениеПредставление - object\n",
            "180->190: Стоматология3_МКБ101 - object\n",
            "181->190: Стоматология3_ДиагнозПредставление1 - object\n",
            "182->190: Стоматология3_Диагноз_Значение - object\n",
            "183->190: Стоматология3_Диагноз_ЗначениеПредставление - object\n",
            "184->190: Хирургия2_ДокументПрием - object\n",
            "185->190: Хирургия2_ДатаПриема - object\n",
            "186->190: Хирургия2_МКБ101 - object\n",
            "187->190: Хирургия2_ДиагнозПредставление1 - object\n",
            "188->190: Хирургия2_Диагноз_Значение - object\n",
            "189->190: Хирургия2_Диагноз_ЗначениеПредставление - object\n"
          ]
        }
      ]
    },
    {
      "cell_type": "markdown",
      "source": [
        "# Балансировка датасета Resample, графическое представление"
      ],
      "metadata": {
        "id": "q-yFxZpa0Kh0"
      }
    },
    {
      "cell_type": "code",
      "source": [
        "# Целевая колонка 'ЗаключениеМК'\n",
        "nan_lst = df1[df1['ЗаключениеМК'].isnull()].index\n",
        "print(f'\"ЗаключениеМК\": число строк с пустыми значениями: {len(nan_lst)}')\n",
        "u_lst = df1['ЗаключениеМК'].unique().tolist()\n",
        "print(f'{len(u_lst)}: {u_lst}')"
      ],
      "metadata": {
        "colab": {
          "base_uri": "https://localhost:8080/"
        },
        "id": "75Nyi2580YHa",
        "outputId": "8305601f-a864-4a04-a516-75bf8fd0656e"
      },
      "execution_count": 24,
      "outputs": [
        {
          "output_type": "stream",
          "name": "stdout",
          "text": [
            "\"ЗаключениеМК\": число строк с пустыми значениями: 792\n",
            "6: ['Годен', 'ГоденСКоррекциейЗрения', 'ВременноНегоден', 'ГоденБезРаботНаВысотах', nan, 'НуждаетсяВДообследованииИЛечении']\n"
          ]
        }
      ]
    },
    {
      "cell_type": "code",
      "source": [
        "# Подсчитаем число строк по каждому целевому значению\n",
        "# Получаем список значений колонки\n",
        "col_inx = df1.columns.get_loc('ЗаключениеМК')\n",
        "col_lst = df1.iloc[:, col_inx].tolist()\n",
        "# print(f'df1.shape[0]: {df1.shape[0]}: len(col_lst): {len(col_lst)}, col_lst: {col_lst}')\n",
        "\n",
        "#~arch 6: ['Годен', 'ГоденСКоррекциейЗрения', 'ГоденБезРаботНаВысотах', 'НуждаетсяВДообследованииИЛечении', 'ВременноНегоден', 'ОграниченноГоден']\n",
        "# 6: ['Годен', 'ГоденСКоррекциейЗрения', 'ВременноНегоден', 'ГоденБезРаботНаВысотах', nan, 'НуждаетсяВДообследованииИЛечении']\n",
        "\n",
        "lst0 = list() #0 - ВременноНегоден\n",
        "lst1 = list() #1 - ГоденСКоррекциейЗрения\n",
        "lst2 = list() #2 - ГоденБезРаботНаВысотах\n",
        "lst3 = list() #3 - НуждаетсяВДообследованииИЛечении\n",
        "lst4 = list() #4~ - ОграниченноГоден\n",
        "lst5 = list() #5 - Годен\n",
        "\n",
        "lst_nan = list() #nan\n",
        "\n",
        "# Подсчитываем число целевых значений по категориям\n",
        "# и заполняем списки индексов соответствующих значений\n",
        "# Пробегаем по всем строкам текущей колонки\n",
        "for i in range(df1.shape[0]):\n",
        "  i_elem = col_lst[i]\n",
        "  # print(f'{i}->{df1.shape[0]}: i_elem: {i_elem}')\n",
        "  # проверяем на nan\n",
        "  if (i_elem == i_elem):\n",
        "    # проверяем, что строка не пустая\n",
        "    if i_elem:\n",
        "      if not (('машинист бульдозера' == i_elem) or ('Газоспасатель' == i_elem) or (' Газоспасатель' == i_elem)):\n",
        "        # print(f'{i}=>{df1.shape[0]}: i_elem: {i_elem}')\n",
        "        if 'ВременноНегоден' == i_elem:\n",
        "          lst0.append(i)\n",
        "        elif 'ГоденСКоррекциейЗрения' == i_elem:\n",
        "          lst1.append(i)\n",
        "        elif 'ГоденБезРаботНаВысотах' == i_elem:\n",
        "          lst2.append(i)\n",
        "        elif 'НуждаетсяВДообследованииИЛечении' == i_elem:\n",
        "          lst3.append(i)\n",
        "        elif 'ОграниченноГоден' == i_elem:\n",
        "          lst4.append(i)\n",
        "        elif 'Годен' == i_elem:\n",
        "          lst5.append(i)\n",
        "        else:\n",
        "          print(f'{i}->{df1.shape[0]}: i_elem: {i_elem} -> НЕИЗВЕСТНЫЙ ИНДЕКС-ТИП')\n",
        "    else:\n",
        "      lst_nan.append(i)\n",
        "  else:\n",
        "    lst_nan.append(i)\n",
        "\n",
        "print(f'df1 число строк: {df1.shape[0]}')\n",
        "\n",
        "print(f'0: ВременноНегоден: {len(lst0)}')\n",
        "print(f'1: ГоденСКоррекциейЗрения: {len(lst1)}')\n",
        "print(f'2: ГоденБезРаботНаВысотах: {len(lst2)}')\n",
        "print(f'3: НуждаетсяВДообследованииИЛечении: {len(lst3)}')\n",
        "print(f'4: ОграниченноГоден: {len(lst4)}')\n",
        "print(f'5: Годен: {len(lst5)}')\n",
        "\n",
        "print()\n",
        "row_val_count = len(lst0)+len(lst1)+len(lst2)+len(lst3)+len(lst4)+len(lst5)\n",
        "print(f'число строк со значениями: {row_val_count} - {round(row_val_count/df1.shape[0], 2)}%')\n",
        "print(f'число пустых строк: {len(lst_nan)} - {round(len(lst_nan)/df1.shape[0], 2)}%')"
      ],
      "metadata": {
        "colab": {
          "base_uri": "https://localhost:8080/"
        },
        "id": "wXEp2MC_0RyS",
        "outputId": "3968b317-c691-46b7-b3f1-9117748fb95b"
      },
      "execution_count": 25,
      "outputs": [
        {
          "output_type": "stream",
          "name": "stdout",
          "text": [
            "df1 число строк: 1041\n",
            "0: ВременноНегоден: 3\n",
            "1: ГоденСКоррекциейЗрения: 11\n",
            "2: ГоденБезРаботНаВысотах: 1\n",
            "3: НуждаетсяВДообследованииИЛечении: 1\n",
            "4: ОграниченноГоден: 0\n",
            "5: Годен: 233\n",
            "\n",
            "число строк со значениями: 249 - 0.24%\n",
            "число пустых строк: 792 - 0.76%\n"
          ]
        }
      ]
    },
    {
      "cell_type": "markdown",
      "source": [
        "**Удаляю из датафрейма строки с пустыми целевыми значениями.**"
      ],
      "metadata": {
        "id": "rL3-G1LfvaUC"
      }
    },
    {
      "cell_type": "code",
      "source": [
        "# Удаляем строки с пустыми в целевой колонке 'ЗаключениеМК'\n",
        "df1 = df1.drop(df1[(df1['ЗаключениеМК'].isnull())].index)\n",
        "print(f'размеры датафрейма после удаления строк: {df1.shape}')\n",
        "u_lst = df1['ЗаключениеМК'].unique().tolist()\n",
        "print(f'{len(u_lst)}: {u_lst}')"
      ],
      "metadata": {
        "colab": {
          "base_uri": "https://localhost:8080/"
        },
        "id": "IOKicGAuyhBJ",
        "outputId": "4a435dab-f87e-44ba-b5ec-16405d003515"
      },
      "execution_count": 26,
      "outputs": [
        {
          "output_type": "stream",
          "name": "stdout",
          "text": [
            "размеры датафрейма после удаления строк: (249, 190)\n",
            "5: ['Годен', 'ГоденСКоррекциейЗрения', 'ВременноНегоден', 'ГоденБезРаботНаВысотах', 'НуждаетсяВДообследованииИЛечении']\n"
          ]
        }
      ]
    },
    {
      "cell_type": "code",
      "source": [
        "# Визуальная оценка сбалансированности датасета до ресемплинга\n",
        "\n",
        "from matplotlib.patches import Patch\n",
        "\n",
        "conclusion_lst = ['не годен', 'ограниченно годен', 'годен']\n",
        "\n",
        "conclusion_count_arr = np.zeros(3, dtype=int)\n",
        "# не годен\n",
        "conclusion_count_arr[0] = len(lst0)\n",
        "# ограниченно годен\n",
        "conclusion_count_arr[1] = len(lst1)+len(lst2)+len(lst3)+len(lst4)\n",
        "# годен\n",
        "conclusion_count_arr[2] = len(lst5)\n",
        "\n",
        "print(f'0: не годен: {conclusion_count_arr[0]}')\n",
        "print(f'1: ограниченно годен: {conclusion_count_arr[1]}')\n",
        "print(f'2: годен: {conclusion_count_arr[2]}')\n",
        "\n",
        "plt.figure(figsize=(10, 5))\n",
        "plot0 = sns.barplot(x=conclusion_lst, y=conclusion_count_arr, palette=[\"red\", \"yellow\", \"green\"])\n",
        "plt.xlabel(\"Заключение МК\")\n",
        "plt.ylabel(\"Число значений\")\n",
        "legend_elements = [Patch(facecolor='red', edgecolor='black', label='не годен'),\n",
        "                   Patch(facecolor='yellow', edgecolor='black', label='ограниченно годен'),\n",
        "                   Patch(facecolor='green', edgecolor='black', label='годен')]\n",
        "plt.legend(handles=legend_elements, title=\"Заключение МК\")\n",
        "# выводим значения над столбиками\n",
        "for p in plot0.patches:\n",
        "  plot0.annotate(text='{}'.format(int(p.get_height())),xy=(p.get_x() + 0.05, p.get_height() + 7.5))\n",
        "plt.show()"
      ],
      "metadata": {
        "colab": {
          "base_uri": "https://localhost:8080/",
          "height": 106
        },
        "id": "XowGsddOjT64",
        "outputId": "e0cdfa0e-511a-4ff0-8054-772ebdc28a6f"
      },
      "execution_count": 27,
      "outputs": [
        {
          "output_type": "stream",
          "name": "stdout",
          "text": [
            "0: не годен: 3\n",
            "1: ограниченно годен: 13\n",
            "2: годен: 233\n"
          ]
        },
        {
          "output_type": "display_data",
          "data": {
            "text/plain": [
              "<Figure size 1000x500 with 1 Axes>"
            ],
            "image/png": "[encoded data removed]"
          },
          "metadata": {}
        }
      ]
    },
    {
      "cell_type": "markdown",
      "source": [
        "**2023.06.24. не балансирую датасет в ожидании файлов с подписанными колонками.**"
      ],
      "metadata": {
        "id": "js5SKu3CzePD"
      }
    },
    {
      "cell_type": "code",
      "source": [
        "# # создаем копию нужных строк и добавляем их в отдельный df\n",
        "# adf0 = df1.loc[lst0].copy()\n",
        "# print(f'размеры датафрейма adf0: {adf0.shape}, len(lst0): {len(lst0)}')\n",
        "\n",
        "# adf1 = df1.loc[lst1].copy()\n",
        "# print(f'размеры датафрейма adf1: {adf1.shape}, len(lst1): {len(lst1)}')\n",
        "\n",
        "# adf2 = df1.loc[lst2].copy()\n",
        "# print(f'размеры датафрейма adf2: {adf2.shape}, len(lst2): {len(lst2)}')\n",
        "\n",
        "# adf3 = df1.loc[lst3].copy()\n",
        "# print(f'размеры датафрейма adf3: {adf3.shape}, len(lst3): {len(lst3)}')\n",
        "\n",
        "# adf4 = df1.loc[lst4].copy()\n",
        "# print(f'размеры датафрейма adf4: {adf4.shape}, len(lst4): {len(lst4)}')"
      ],
      "metadata": {
        "id": "ZYWXudY27WyQ"
      },
      "execution_count": 28,
      "outputs": []
    },
    {
      "cell_type": "code",
      "source": [
        "# print(f'размеры датафрейма: df1: {df1.shape}')\n",
        "\n",
        "# # добавляем новый df в исходный df\n",
        "\n",
        "# # for i in range(2):\n",
        "# for i in range(1):\n",
        "#   for j in range(80):\n",
        "#     df1 = pd.concat([df1, adf0], ignore_index=True)\n",
        "#   df1 = pd.concat([df1, adf1], ignore_index=True)\n",
        "#   for j in range(200):\n",
        "#     df1 = pd.concat([df1, adf2], ignore_index=True)\n",
        "#   for j in range(100):\n",
        "#     df1 = pd.concat([df1, adf3], ignore_index=True)\n",
        "#     df1 = pd.concat([df1, adf4], ignore_index=True)\n",
        "\n",
        "# print('='*50)\n",
        "# print(f'размеры датафрейма: df1: {df1.shape}')"
      ],
      "metadata": {
        "id": "DOsRMIWC-98t"
      },
      "execution_count": 29,
      "outputs": []
    },
    {
      "cell_type": "code",
      "source": [
        "# # Смотрим новые значения целевой колонки\n",
        "# lst0.clear()\n",
        "# lst1.clear()\n",
        "# lst2.clear()\n",
        "# lst3.clear()\n",
        "# lst4.clear()\n",
        "# lst5.clear()\n",
        "\n",
        "# col_lst = df1.iloc[:, col_inx].tolist()\n",
        "# for i in range(df1.shape[0]):\n",
        "#   i_elem = col_lst[i]\n",
        "#   if (i_elem == i_elem):\n",
        "#     if i_elem:\n",
        "#       if not (('машинист бульдозера' == i_elem) or ('Газоспасатель' == i_elem) or (' Газоспасатель' == i_elem)):\n",
        "#         if 'ВременноНегоден' == i_elem:\n",
        "#           lst0.append(i)\n",
        "#         elif 'ГоденСКоррекциейЗрения' == i_elem:\n",
        "#           lst1.append(i)\n",
        "#         elif 'ГоденБезРаботНаВысотах' == i_elem:\n",
        "#           lst2.append(i)\n",
        "#         elif 'НуждаетсяВДообследованииИЛечении' == i_elem:\n",
        "#           lst3.append(i)\n",
        "#         elif 'ОграниченноГоден' == i_elem:\n",
        "#           lst4.append(i)\n",
        "#         elif 'Годен' == i_elem:\n",
        "#           lst5.append(i)\n",
        "#         else:\n",
        "#           print(f'{i}->{df1.shape[0]}: i_elem: {i_elem} -> НЕИЗВЕСТНЫЙ ИНДЕКС-ТИП')\n",
        "\n",
        "# print(f'df1 число строк: {df1.shape[0]}')\n",
        "\n",
        "# print(f'0: ВременноНегоден: {len(lst0)}')\n",
        "# print(f'1: ГоденСКоррекциейЗрения: {len(lst1)}')\n",
        "# print(f'2: ГоденБезРаботНаВысотах: {len(lst2)}')\n",
        "# print(f'3: НуждаетсяВДообследованииИЛечении: {len(lst3)}')\n",
        "# print(f'4: ОграниченноГоден: {len(lst4)}')\n",
        "# print(f'5: Годен: {len(lst5)}')\n",
        "\n",
        "# print('проверочная сумма по отдельным значениям, c учетом nan и запрещенных значений:')\n",
        "# print(f'  {df1.shape[0]} -> {len(lst0)+len(lst1)+len(lst2)+len(lst3)+len(lst4)+len(lst5)}')\n",
        "# print(f'  Годен: {len(lst5)}')\n",
        "# print(f'  Негоден, Ограниченно годен: {len(lst0)+len(lst1)+len(lst2)+len(lst3)+len(lst4)}')"
      ],
      "metadata": {
        "id": "dFLopL0QCnjt"
      },
      "execution_count": 30,
      "outputs": []
    },
    {
      "cell_type": "code",
      "source": [
        "# # Визуальная оценка сбалансированности датасета после ресемплинга\n",
        "\n",
        "# # не годен\n",
        "# conclusion_count_arr[0] = len(lst0)\n",
        "# # ограниченно годен\n",
        "# conclusion_count_arr[1] = len(lst1)+len(lst2)+len(lst3)+len(lst4)\n",
        "# # годен\n",
        "# conclusion_count_arr[2] = len(lst5)\n",
        "\n",
        "# print(f'0: не годен: {conclusion_count_arr[0]}')\n",
        "# print(f'1: ограниченно годен: {conclusion_count_arr[1]}')\n",
        "# print(f'2: годен: {conclusion_count_arr[2]}')\n",
        "\n",
        "# plt.figure(figsize=(10, 5))\n",
        "# plot1 = sns.barplot(x=conclusion_lst, y=conclusion_count_arr, palette=[\"red\", \"yellow\", \"green\"])\n",
        "# plt.xlabel(\"Заключение МК\")\n",
        "# plt.ylabel(\"Число значений\")\n",
        "# legend_elements = [Patch(facecolor='red', edgecolor='black', label='не годен'),\n",
        "#                    Patch(facecolor='yellow', edgecolor='black', label='ограниченно годен'),\n",
        "#                    Patch(facecolor='green', edgecolor='black', label='годен')]\n",
        "# plt.legend(handles=legend_elements, title=\"Заключение МК\")\n",
        "# # выводим значения над столбиками\n",
        "# for p in plot1.patches:\n",
        "#   plot1.annotate(text='{}'.format(int(p.get_height())),xy=(p.get_x() + 0.05, p.get_height() + 7.5))\n",
        "# plt.show()"
      ],
      "metadata": {
        "id": "2eoob3w3ysmn"
      },
      "execution_count": 31,
      "outputs": []
    },
    {
      "cell_type": "code",
      "source": [
        "del lst0\n",
        "del lst1\n",
        "del lst2\n",
        "del lst3\n",
        "del lst4\n",
        "del lst5\n",
        "\n",
        "# del adf0\n",
        "# del adf1\n",
        "# del adf2\n",
        "# del adf3\n",
        "# del adf4\n",
        "\n",
        "del conclusion_count_arr"
      ],
      "metadata": {
        "id": "DM4nGUDfCADk"
      },
      "execution_count": 32,
      "outputs": []
    },
    {
      "cell_type": "markdown",
      "source": [
        "# Удаление из датафрейма строк с пустыми и ошибочными целевыми значениями"
      ],
      "metadata": {
        "id": "ZJNfW435ddAN"
      }
    },
    {
      "cell_type": "code",
      "source": [
        "#2023.06.24 использовалось в первом датасете\n",
        "\n",
        "# # Целевая колонка 'ЗаключениеМК'\n",
        "# nan_lst = df1[df1['ЗаключениеМК'].isnull()].index\n",
        "# print(f'\"ЗаключениеМК\": число строк с пустыми значениями: {len(nan_lst)}')\n",
        "# u_lst = df1['ЗаключениеМК'].unique().tolist()\n",
        "# print(f'{len(u_lst)}: {u_lst}')"
      ],
      "metadata": {
        "id": "ktKeL0_rN8GU"
      },
      "execution_count": 33,
      "outputs": []
    },
    {
      "cell_type": "code",
      "source": [
        "# # Удаляем строки с пустыми и запрещенными значениями в целевой колонке 'ЗаключениеМК'\n",
        "# # nan, 'машинист бульдозера', 'Газоспасатель', ' Газоспасатель'\n",
        "# df1 = df1.drop(df1[(df1['ЗаключениеМК'].isnull()) | (df1['ЗаключениеМК'] == 'машинист бульдозера') | (df1['ЗаключениеМК'] == 'Газоспасатель') | (df1['ЗаключениеМК'] == ' Газоспасатель') ].index)\n",
        "# print(f'размеры датафрейма после удаления строк: {df1.shape}')\n",
        "# u_lst = df1['ЗаключениеМК'].unique().tolist()\n",
        "# print(f'{len(u_lst)}: {u_lst}')"
      ],
      "metadata": {
        "id": "-bfQxSeAAo-6"
      },
      "execution_count": 34,
      "outputs": []
    },
    {
      "cell_type": "markdown",
      "source": [
        "# Создаем второй датафрейм для обучения нейросети"
      ],
      "metadata": {
        "id": "KRYITxYqFAd6"
      }
    },
    {
      "cell_type": "code",
      "source": [
        "# Заполняем колонку ЗаключениеМКК категориальными признаками\n",
        "# по данным колонки ЗаключениеМК\n",
        "# 0 - не годен, 1 - ограниченно годен, 2 - годен\n",
        "#~~~~~~~~~~~~~~~~~~~~~~~~\n",
        "# Получение категориального кода 'ЗаключениеМК'\n",
        "#~~~~~~~~~~~~~~~~~~~~~~~~\n",
        "def getConclusionCategory(arg):\n",
        "  '''\n",
        "    Получение целевого категориального значения по текстовому описанию\n",
        "    вход:\n",
        "        arg: ['Годен', 'ГоденСКоррекциейЗрения', 'ГоденБезРаботНаВысотах', 'НуждаетсяВДообследованииИЛечении', 'ВременноНегоден', 'ОграниченноГоден']\n",
        "    выход:\n",
        "        0 - не годен, 1 - ограниченно годен, 2 - годен\n",
        "  '''\n",
        "  if ('ГоденСКоррекциейЗрения' == arg) or ('ГоденБезРаботНаВысотах' == arg) or ('ОграниченноГоден' == arg):\n",
        "    retVal = 1\n",
        "  elif ('НуждаетсяВДообследованииИЛечении' == arg) or ('ВременноНегоден' == arg):\n",
        "    retVal = 0\n",
        "  else:\n",
        "    retVal = 2\n",
        "\n",
        "  return retVal"
      ],
      "metadata": {
        "id": "HSWsI0WXq9Au"
      },
      "execution_count": 35,
      "outputs": []
    },
    {
      "cell_type": "code",
      "source": [
        "# Получаем список значений колонки\n",
        "col_inx = df1.columns.get_loc('ЗаключениеМК')\n",
        "col_lst = df1.iloc[:, col_inx].tolist()\n",
        "\n",
        "# создаем numpy массив integer из нулей, число элементов равно числу строк нашего data frame\n",
        "i_arr = np.zeros(df1.shape[0], dtype=int)\n",
        "\n",
        "# Заполняем массив категориальными индексами\n",
        "for i in range(df1.shape[0]):\n",
        "  i_arr[i] = getConclusionCategory(col_lst[i])\n",
        "\n",
        "# Преобразование массива в формат one_hot_encoding (3-класса)\n",
        "i_arr2 = utils.to_categorical(i_arr, 3)\n",
        "ohe_lst2 = i_arr2.astype(int).tolist()\n",
        "# добавляем новую колонку 'ЗаключениеМКК' в DataFrame 'df1' из массива 'ohe_lst2'\n",
        "df1 = df1.assign(ЗаключениеМКК=ohe_lst2)\n",
        "\n",
        "# создаем новый датафрейм, в который будем заносить колонки для обучения нейросети\n",
        "# и копируем колонку 'ЗаключениеМКК' в новый дата фрэйм\n",
        "df2 = df1[['ЗаключениеМКК']].copy()\n",
        "print(f'размеры датафрейма: df1: {df1.shape}, df2: {df2.shape}')\n",
        "df2.head(3)"
      ],
      "metadata": {
        "colab": {
          "base_uri": "https://localhost:8080/",
          "height": 225
        },
        "id": "jSvsNYXwssee",
        "outputId": "38ad5ca4-bbcf-48b5-fbc2-0f5ab057e5d4"
      },
      "execution_count": 36,
      "outputs": [
        {
          "output_type": "stream",
          "name": "stdout",
          "text": [
            "размеры датафрейма: df1: (249, 191), df2: (249, 1)\n"
          ]
        },
        {
          "output_type": "execute_result",
          "data": {
            "text/plain": [
              "  ЗаключениеМКК\n",
              "0     [0, 0, 1]\n",
              "1     [0, 0, 1]\n",
              "2     [0, 0, 1]"
            ],
            "text/html": [
              "\n",
              "  <div id=\"df-bcd31fd3-b50e-457f-9245-c34512bae90e\">\n",
              "    <div class=\"colab-df-container\">\n",
              "      <div>\n",
              "<style scoped>\n",
              "    .dataframe tbody tr th:only-of-type {\n",
              "        vertical-align: middle;\n",
              "    }\n",
              "\n",
              "    .dataframe tbody tr th {\n",
              "        vertical-align: top;\n",
              "    }\n",
              "\n",
              "    .dataframe thead th {\n",
              "        text-align: right;\n",
              "    }\n",
              "</style>\n",
              "<table border=\"1\" class=\"dataframe\">\n",
              "  <thead>\n",
              "    <tr style=\"text-align: right;\">\n",
              "      <th></th>\n",
              "      <th>ЗаключениеМКК</th>\n",
              "    </tr>\n",
              "  </thead>\n",
              "  <tbody>\n",
              "    <tr>\n",
              "      <th>0</th>\n",
              "      <td>[0, 0, 1]</td>\n",
              "    </tr>\n",
              "    <tr>\n",
              "      <th>1</th>\n",
              "      <td>[0, 0, 1]</td>\n",
              "    </tr>\n",
              "    <tr>\n",
              "      <th>2</th>\n",
              "      <td>[0, 0, 1]</td>\n",
              "    </tr>\n",
              "  </tbody>\n",
              "</table>\n",
              "</div>\n",
              "      <button class=\"colab-df-convert\" onclick=\"convertToInteractive('df-bcd31fd3-b50e-457f-9245-c34512bae90e')\"\n",
              "              title=\"Convert this dataframe to an interactive table.\"\n",
              "              style=\"display:none;\">\n",
              "        \n",
              "  <svg xmlns=\"http://www.w3.org/2000/svg\" height=\"24px\"viewBox=\"0 0 24 24\"\n",
              "       width=\"24px\">\n",
              "    <path d=\"M0 0h24v24H0V0z\" fill=\"none\"/>\n",
              "    <path d=\"M18.56 5.44l.94 2.06.94-2.06 2.06-.94-2.06-.94-.94-2.06-.94 2.06-2.06.94zm-11 1L8.5 8.5l.94-2.06 2.06-.94-2.06-.94L8.5 2.5l-.94 2.06-2.06.94zm10 10l.94 2.06.94-2.06 2.06-.94-2.06-.94-.94-2.06-.94 2.06-2.06.94z\"/><path d=\"M17.41 7.96l-1.37-1.37c-.4-.4-.92-.59-1.43-.59-.52 0-1.04.2-1.43.59L10.3 9.45l-7.72 7.72c-.78.78-.78 2.05 0 2.83L4 21.41c.39.39.9.59 1.41.59.51 0 1.02-.2 1.41-.59l7.78-7.78 2.81-2.81c.8-.78.8-2.07 0-2.86zM5.41 20L4 18.59l7.72-7.72 1.47 1.35L5.41 20z\"/>\n",
              "  </svg>\n",
              "      </button>\n",
              "      \n",
              "  <style>\n",
              "    .colab-df-container {\n",
              "      display:flex;\n",
              "      flex-wrap:wrap;\n",
              "      gap: 12px;\n",
              "    }\n",
              "\n",
              "    .colab-df-convert {\n",
              "      background-color: #E8F0FE;\n",
              "      border: none;\n",
              "      border-radius: 50%;\n",
              "      cursor: pointer;\n",
              "      display: none;\n",
              "      fill: #1967D2;\n",
              "      height: 32px;\n",
              "      padding: 0 0 0 0;\n",
              "      width: 32px;\n",
              "    }\n",
              "\n",
              "    .colab-df-convert:hover {\n",
              "      background-color: #E2EBFA;\n",
              "      box-shadow: 0px 1px 2px rgba(60, 64, 67, 0.3), 0px 1px 3px 1px rgba(60, 64, 67, 0.15);\n",
              "      fill: #174EA6;\n",
              "    }\n",
              "\n",
              "    [theme=dark] .colab-df-convert {\n",
              "      background-color: #3B4455;\n",
              "      fill: #D2E3FC;\n",
              "    }\n",
              "\n",
              "    [theme=dark] .colab-df-convert:hover {\n",
              "      background-color: #434B5C;\n",
              "      box-shadow: 0px 1px 3px 1px rgba(0, 0, 0, 0.15);\n",
              "      filter: drop-shadow(0px 1px 2px rgba(0, 0, 0, 0.3));\n",
              "      fill: #FFFFFF;\n",
              "    }\n",
              "  </style>\n",
              "\n",
              "      <script>\n",
              "        const buttonEl =\n",
              "          document.querySelector('#df-bcd31fd3-b50e-457f-9245-c34512bae90e button.colab-df-convert');\n",
              "        buttonEl.style.display =\n",
              "          google.colab.kernel.accessAllowed ? 'block' : 'none';\n",
              "\n",
              "        async function convertToInteractive(key) {\n",
              "          const element = document.querySelector('#df-bcd31fd3-b50e-457f-9245-c34512bae90e');\n",
              "          const dataTable =\n",
              "            await google.colab.kernel.invokeFunction('convertToInteractive',\n",
              "                                                     [key], {});\n",
              "          if (!dataTable) return;\n",
              "\n",
              "          const docLinkHtml = 'Like what you see? Visit the ' +\n",
              "            '<a target=\"_blank\" href=https://colab.research.google.com/notebooks/data_table.ipynb>data table notebook</a>'\n",
              "            + ' to learn more about interactive tables.';\n",
              "          element.innerHTML = '';\n",
              "          dataTable['output_type'] = 'display_data';\n",
              "          await google.colab.output.renderOutput(dataTable, element);\n",
              "          const docLink = document.createElement('div');\n",
              "          docLink.innerHTML = docLinkHtml;\n",
              "          element.appendChild(docLink);\n",
              "        }\n",
              "      </script>\n",
              "    </div>\n",
              "  </div>\n",
              "  "
            ]
          },
          "metadata": {},
          "execution_count": 36
        }
      ]
    },
    {
      "cell_type": "markdown",
      "source": [
        "# Категориальные признаки"
      ],
      "metadata": {
        "id": "Auak_Y0Y9jID"
      }
    },
    {
      "cell_type": "markdown",
      "source": [
        "## Возраст"
      ],
      "metadata": {
        "id": "crULPocvIVrf"
      }
    },
    {
      "cell_type": "code",
      "source": [
        "# КлиентДатаРождения\n",
        "nan_lst = df1[df1['КлиентДатаРождения'].isnull()].index\n",
        "print(f'\"КлиентДатаРождения\": число строк с пустыми значениями: {len(nan_lst)}')\n",
        "# ДатаЗавершенияМедосмотра\n",
        "nan_lst = df1[df1['ДатаЗавершенияМедосмотра'].isnull()].index\n",
        "print(f'\"ДатаЗавершенияМедосмотра\": число строк с пустыми значениями: {len(nan_lst)}')"
      ],
      "metadata": {
        "colab": {
          "base_uri": "https://localhost:8080/"
        },
        "id": "bgyRqEz4NxRd",
        "outputId": "bf0387f7-364e-4781-9c02-4981fb18f123"
      },
      "execution_count": 37,
      "outputs": [
        {
          "output_type": "stream",
          "name": "stdout",
          "text": [
            "\"КлиентДатаРождения\": число строк с пустыми значениями: 0\n",
            "\"ДатаЗавершенияМедосмотра\": число строк с пустыми значениями: 0\n"
          ]
        }
      ]
    },
    {
      "cell_type": "code",
      "source": [
        "#~~~~~~~~~~~~~~~~~~~~~~~~\n",
        "# Получение категориального кода Возраст клиента\n",
        "#~~~~~~~~~~~~~~~~~~~~~~~~\n",
        "# Возраст клиента = ДатаЗавершенияМедосмотра - КлиентДатаРождения\n",
        "#~~~~~~~~~~~~~~~~~~~~~~~~\n",
        "def getAgeCategory(ageN, ageClassCount):\n",
        "  '''\n",
        "    Возраст превращаем в категориальный: до 18лет, далее через 5, всего 11 классов\n",
        "    вход:\n",
        "        ageN: возраст в годах\n",
        "        ageClassCount: число классов\n",
        "    выход:\n",
        "        retVal: индекс категории: 0-17: 0, 18-22: 1, 23-27: 2, ...., 73..: 10\n",
        "  '''\n",
        "  #age2 = int((arg-13)/5)\n",
        "  age2 = (ageN-13)/5\n",
        "  retVal = max(0, min((ageClassCount-1),age2))\n",
        "  return retVal"
      ],
      "metadata": {
        "id": "r6pt8AcD30TX"
      },
      "execution_count": 38,
      "outputs": []
    },
    {
      "cell_type": "code",
      "source": [
        "age_class_count = 11\n",
        "\n",
        "# КлиентДатаРождения\n",
        "col_inx = df1.columns.get_loc('КлиентДатаРождения')\n",
        "col_lst = df1.iloc[:, col_inx].tolist()\n",
        "datetime_lst1 = []\n",
        "for time_stamp in col_lst:\n",
        "  # 2023.06.24 тип колонки изменен\n",
        "  # datetime_obj = time_stamp.to_pydatetime()\n",
        "  # datetime_lst1.append(datetime_obj)\n",
        "  #~~~\n",
        "  # print(f'time_stamp: {time_stamp}')\n",
        "  # time_stamp: 1979-07-16T00:00:00\n",
        "  datetime_obj = datetime.strptime(time_stamp, '%Y-%m-%dT%H:%M:%S')\n",
        "  datetime_lst1.append(datetime_obj)\n",
        "\n",
        "# ДатаЗавершенияМедосмотра\n",
        "col_inx = df1.columns.get_loc('ДатаЗавершенияМедосмотра')\n",
        "col_lst = df1.iloc[:, col_inx].tolist()\n",
        "datetime_lst2 = []\n",
        "for time_stamp in col_lst:\n",
        "  # # 2023.06.24 тип колонки изменен\n",
        "  # datetime_obj = time_stamp.to_pydatetime()\n",
        "  # datetime_lst2.append(datetime_obj)\n",
        "  #~~~\n",
        "  # print(f'time_stamp: {time_stamp}')\n",
        "  # time_stamp: 2023-05-31T00:00:00\n",
        "  datetime_obj = datetime.strptime(time_stamp, '%Y-%m-%dT%H:%M:%S')\n",
        "  datetime_lst2.append(datetime_obj)\n",
        "\n",
        "# рассчитываю возраст клиента\n",
        "for i in range(df1.shape[0]):\n",
        "  delta_dates21 = datetime_lst2[i].date() - datetime_lst1[i].date()\n",
        "  delta_days21 = delta_dates21.days\n",
        "  delta_years21 = delta_days21 // 365\n",
        "  i_arr[i] = getAgeCategory(delta_years21, age_class_count)\n",
        "\n",
        "# Преобразование массива в формат one_hot_encoding\n",
        "i_arr2 = utils.to_categorical(i_arr, age_class_count)\n",
        "ohe_lst2 = i_arr2.astype(int).tolist()\n",
        "\n",
        "# добавляем новую колонку 'Возраст' в 'df2'\n",
        "df2 = df2.assign(Возраст=ohe_lst2)\n",
        "\n",
        "# удаление переменных, освобождение памяти\n",
        "del datetime_lst1\n",
        "del datetime_lst2\n",
        "\n",
        "print(f'размеры датафрейма: df1: {df1.shape}, df2: {df2.shape}')\n",
        "df2.head(3)"
      ],
      "metadata": {
        "colab": {
          "base_uri": "https://localhost:8080/",
          "height": 381
        },
        "id": "Gxx3AgsFgnjR",
        "outputId": "4bacdb58-948e-4dc1-83a4-571a1ea219ec"
      },
      "execution_count": 39,
      "outputs": [
        {
          "output_type": "stream",
          "name": "stdout",
          "text": [
            "размеры датафрейма: df1: (249, 191), df2: (249, 2)\n"
          ]
        },
        {
          "output_type": "execute_result",
          "data": {
            "text/plain": [
              "  ЗаключениеМКК                            Возраст\n",
              "0     [0, 0, 1]  [0, 0, 0, 0, 0, 1, 0, 0, 0, 0, 0]\n",
              "1     [0, 0, 1]  [0, 0, 0, 0, 1, 0, 0, 0, 0, 0, 0]\n",
              "2     [0, 0, 1]  [0, 0, 0, 0, 0, 1, 0, 0, 0, 0, 0]"
            ],
            "text/html": [
              "\n",
              "  <div id=\"df-123c21f5-b542-4bb1-8377-9527786ae79b\">\n",
              "    <div class=\"colab-df-container\">\n",
              "      <div>\n",
              "<style scoped>\n",
              "    .dataframe tbody tr th:only-of-type {\n",
              "        vertical-align: middle;\n",
              "    }\n",
              "\n",
              "    .dataframe tbody tr th {\n",
              "        vertical-align: top;\n",
              "    }\n",
              "\n",
              "    .dataframe thead th {\n",
              "        text-align: right;\n",
              "    }\n",
              "</style>\n",
              "<table border=\"1\" class=\"dataframe\">\n",
              "  <thead>\n",
              "    <tr style=\"text-align: right;\">\n",
              "      <th></th>\n",
              "      <th>ЗаключениеМКК</th>\n",
              "      <th>Возраст</th>\n",
              "    </tr>\n",
              "  </thead>\n",
              "  <tbody>\n",
              "    <tr>\n",
              "      <th>0</th>\n",
              "      <td>[0, 0, 1]</td>\n",
              "      <td>[0, 0, 0, 0, 0, 1, 0, 0, 0, 0, 0]</td>\n",
              "    </tr>\n",
              "    <tr>\n",
              "      <th>1</th>\n",
              "      <td>[0, 0, 1]</td>\n",
              "      <td>[0, 0, 0, 0, 1, 0, 0, 0, 0, 0, 0]</td>\n",
              "    </tr>\n",
              "    <tr>\n",
              "      <th>2</th>\n",
              "      <td>[0, 0, 1]</td>\n",
              "      <td>[0, 0, 0, 0, 0, 1, 0, 0, 0, 0, 0]</td>\n",
              "    </tr>\n",
              "  </tbody>\n",
              "</table>\n",
              "</div>\n",
              "      <button class=\"colab-df-convert\" onclick=\"convertToInteractive('df-123c21f5-b542-4bb1-8377-9527786ae79b')\"\n",
              "              title=\"Convert this dataframe to an interactive table.\"\n",
              "              style=\"display:none;\">\n",
              "        \n",
              "  <svg xmlns=\"http://www.w3.org/2000/svg\" height=\"24px\"viewBox=\"0 0 24 24\"\n",
              "       width=\"24px\">\n",
              "    <path d=\"M0 0h24v24H0V0z\" fill=\"none\"/>\n",
              "    <path d=\"M18.56 5.44l.94 2.06.94-2.06 2.06-.94-2.06-.94-.94-2.06-.94 2.06-2.06.94zm-11 1L8.5 8.5l.94-2.06 2.06-.94-2.06-.94L8.5 2.5l-.94 2.06-2.06.94zm10 10l.94 2.06.94-2.06 2.06-.94-2.06-.94-.94-2.06-.94 2.06-2.06.94z\"/><path d=\"M17.41 7.96l-1.37-1.37c-.4-.4-.92-.59-1.43-.59-.52 0-1.04.2-1.43.59L10.3 9.45l-7.72 7.72c-.78.78-.78 2.05 0 2.83L4 21.41c.39.39.9.59 1.41.59.51 0 1.02-.2 1.41-.59l7.78-7.78 2.81-2.81c.8-.78.8-2.07 0-2.86zM5.41 20L4 18.59l7.72-7.72 1.47 1.35L5.41 20z\"/>\n",
              "  </svg>\n",
              "      </button>\n",
              "      \n",
              "  <style>\n",
              "    .colab-df-container {\n",
              "      display:flex;\n",
              "      flex-wrap:wrap;\n",
              "      gap: 12px;\n",
              "    }\n",
              "\n",
              "    .colab-df-convert {\n",
              "      background-color: #E8F0FE;\n",
              "      border: none;\n",
              "      border-radius: 50%;\n",
              "      cursor: pointer;\n",
              "      display: none;\n",
              "      fill: #1967D2;\n",
              "      height: 32px;\n",
              "      padding: 0 0 0 0;\n",
              "      width: 32px;\n",
              "    }\n",
              "\n",
              "    .colab-df-convert:hover {\n",
              "      background-color: #E2EBFA;\n",
              "      box-shadow: 0px 1px 2px rgba(60, 64, 67, 0.3), 0px 1px 3px 1px rgba(60, 64, 67, 0.15);\n",
              "      fill: #174EA6;\n",
              "    }\n",
              "\n",
              "    [theme=dark] .colab-df-convert {\n",
              "      background-color: #3B4455;\n",
              "      fill: #D2E3FC;\n",
              "    }\n",
              "\n",
              "    [theme=dark] .colab-df-convert:hover {\n",
              "      background-color: #434B5C;\n",
              "      box-shadow: 0px 1px 3px 1px rgba(0, 0, 0, 0.15);\n",
              "      filter: drop-shadow(0px 1px 2px rgba(0, 0, 0, 0.3));\n",
              "      fill: #FFFFFF;\n",
              "    }\n",
              "  </style>\n",
              "\n",
              "      <script>\n",
              "        const buttonEl =\n",
              "          document.querySelector('#df-123c21f5-b542-4bb1-8377-9527786ae79b button.colab-df-convert');\n",
              "        buttonEl.style.display =\n",
              "          google.colab.kernel.accessAllowed ? 'block' : 'none';\n",
              "\n",
              "        async function convertToInteractive(key) {\n",
              "          const element = document.querySelector('#df-123c21f5-b542-4bb1-8377-9527786ae79b');\n",
              "          const dataTable =\n",
              "            await google.colab.kernel.invokeFunction('convertToInteractive',\n",
              "                                                     [key], {});\n",
              "          if (!dataTable) return;\n",
              "\n",
              "          const docLinkHtml = 'Like what you see? Visit the ' +\n",
              "            '<a target=\"_blank\" href=https://colab.research.google.com/notebooks/data_table.ipynb>data table notebook</a>'\n",
              "            + ' to learn more about interactive tables.';\n",
              "          element.innerHTML = '';\n",
              "          dataTable['output_type'] = 'display_data';\n",
              "          await google.colab.output.renderOutput(dataTable, element);\n",
              "          const docLink = document.createElement('div');\n",
              "          docLink.innerHTML = docLinkHtml;\n",
              "          element.appendChild(docLink);\n",
              "        }\n",
              "      </script>\n",
              "    </div>\n",
              "  </div>\n",
              "  "
            ]
          },
          "metadata": {},
          "execution_count": 39
        }
      ]
    },
    {
      "cell_type": "markdown",
      "source": [
        "## КлиентПол"
      ],
      "metadata": {
        "id": "CywpIEcFIpCX"
      }
    },
    {
      "cell_type": "code",
      "source": [
        "nan_lst = df1[df1['КлиентПол'].isnull()].index\n",
        "print(f'\"КлиентПол\": число строк с пустыми значениями: {len(nan_lst)}')\n",
        "u_lst = df1['КлиентПол'].unique().tolist()\n",
        "print(f'{len(u_lst)}: {u_lst}')"
      ],
      "metadata": {
        "colab": {
          "base_uri": "https://localhost:8080/"
        },
        "id": "qrcZvFu2OgIb",
        "outputId": "640deacc-38e7-4dcb-ed6b-1f365141133e"
      },
      "execution_count": 40,
      "outputs": [
        {
          "output_type": "stream",
          "name": "stdout",
          "text": [
            "\"КлиентПол\": число строк с пустыми значениями: 0\n",
            "2: ['Мужской', 'Женский']\n"
          ]
        }
      ]
    },
    {
      "cell_type": "code",
      "source": [
        "#~~~~~~~~~~~~~~~~~~~~~~~~\n",
        "# Получение категориального кода 'КлиентПол'\n",
        "#~~~~~~~~~~~~~~~~~~~~~~~~\n",
        "def getGenderCategory(arg):\n",
        "  '''\n",
        "    Бинарный пол клиента\n",
        "    вход:\n",
        "        arg: ['Женский', 'Мужской']\n",
        "    выход:\n",
        "        retVal: 0 - Женский, 1 - Мужской\n",
        "  '''\n",
        "  if 'Женский' == arg:\n",
        "    retVal = 0\n",
        "  else:\n",
        "    retVal = 1\n",
        "  return retVal"
      ],
      "metadata": {
        "id": "g71RwRLP6BeO"
      },
      "execution_count": 41,
      "outputs": []
    },
    {
      "cell_type": "code",
      "source": [
        "col_inx = df1.columns.get_loc('КлиентПол')\n",
        "col_lst = df1.iloc[:, col_inx].tolist()\n",
        "\n",
        "for i in range(df1.shape[0]):\n",
        "  i_arr[i] = getGenderCategory(col_lst[i])\n",
        "\n",
        "# Преобразование массива в формат one_hot_encoding не провожу, так как бинарный тип\n",
        "# добавляем новую колонку 'КлиентПол' в 'df2'\n",
        "df2 = df2.assign(КлиентПол=i_arr)\n",
        "\n",
        "print(f'размеры датафрейма: df1: {df1.shape}, df2: {df2.shape}')\n",
        "df2.head(3)"
      ],
      "metadata": {
        "colab": {
          "base_uri": "https://localhost:8080/",
          "height": 381
        },
        "id": "l6W-9LZq-Z5b",
        "outputId": "b0fa7cfc-3543-4de4-e36f-d4027a866cf1"
      },
      "execution_count": 42,
      "outputs": [
        {
          "output_type": "stream",
          "name": "stdout",
          "text": [
            "размеры датафрейма: df1: (249, 191), df2: (249, 3)\n"
          ]
        },
        {
          "output_type": "execute_result",
          "data": {
            "text/plain": [
              "  ЗаключениеМКК                            Возраст  КлиентПол\n",
              "0     [0, 0, 1]  [0, 0, 0, 0, 0, 1, 0, 0, 0, 0, 0]          1\n",
              "1     [0, 0, 1]  [0, 0, 0, 0, 1, 0, 0, 0, 0, 0, 0]          1\n",
              "2     [0, 0, 1]  [0, 0, 0, 0, 0, 1, 0, 0, 0, 0, 0]          1"
            ],
            "text/html": [
              "\n",
              "  <div id=\"df-e2ad6a4a-2913-490a-9b29-e1352f224ec3\">\n",
              "    <div class=\"colab-df-container\">\n",
              "      <div>\n",
              "<style scoped>\n",
              "    .dataframe tbody tr th:only-of-type {\n",
              "        vertical-align: middle;\n",
              "    }\n",
              "\n",
              "    .dataframe tbody tr th {\n",
              "        vertical-align: top;\n",
              "    }\n",
              "\n",
              "    .dataframe thead th {\n",
              "        text-align: right;\n",
              "    }\n",
              "</style>\n",
              "<table border=\"1\" class=\"dataframe\">\n",
              "  <thead>\n",
              "    <tr style=\"text-align: right;\">\n",
              "      <th></th>\n",
              "      <th>ЗаключениеМКК</th>\n",
              "      <th>Возраст</th>\n",
              "      <th>КлиентПол</th>\n",
              "    </tr>\n",
              "  </thead>\n",
              "  <tbody>\n",
              "    <tr>\n",
              "      <th>0</th>\n",
              "      <td>[0, 0, 1]</td>\n",
              "      <td>[0, 0, 0, 0, 0, 1, 0, 0, 0, 0, 0]</td>\n",
              "      <td>1</td>\n",
              "    </tr>\n",
              "    <tr>\n",
              "      <th>1</th>\n",
              "      <td>[0, 0, 1]</td>\n",
              "      <td>[0, 0, 0, 0, 1, 0, 0, 0, 0, 0, 0]</td>\n",
              "      <td>1</td>\n",
              "    </tr>\n",
              "    <tr>\n",
              "      <th>2</th>\n",
              "      <td>[0, 0, 1]</td>\n",
              "      <td>[0, 0, 0, 0, 0, 1, 0, 0, 0, 0, 0]</td>\n",
              "      <td>1</td>\n",
              "    </tr>\n",
              "  </tbody>\n",
              "</table>\n",
              "</div>\n",
              "      <button class=\"colab-df-convert\" onclick=\"convertToInteractive('df-e2ad6a4a-2913-490a-9b29-e1352f224ec3')\"\n",
              "              title=\"Convert this dataframe to an interactive table.\"\n",
              "              style=\"display:none;\">\n",
              "        \n",
              "  <svg xmlns=\"http://www.w3.org/2000/svg\" height=\"24px\"viewBox=\"0 0 24 24\"\n",
              "       width=\"24px\">\n",
              "    <path d=\"M0 0h24v24H0V0z\" fill=\"none\"/>\n",
              "    <path d=\"M18.56 5.44l.94 2.06.94-2.06 2.06-.94-2.06-.94-.94-2.06-.94 2.06-2.06.94zm-11 1L8.5 8.5l.94-2.06 2.06-.94-2.06-.94L8.5 2.5l-.94 2.06-2.06.94zm10 10l.94 2.06.94-2.06 2.06-.94-2.06-.94-.94-2.06-.94 2.06-2.06.94z\"/><path d=\"M17.41 7.96l-1.37-1.37c-.4-.4-.92-.59-1.43-.59-.52 0-1.04.2-1.43.59L10.3 9.45l-7.72 7.72c-.78.78-.78 2.05 0 2.83L4 21.41c.39.39.9.59 1.41.59.51 0 1.02-.2 1.41-.59l7.78-7.78 2.81-2.81c.8-.78.8-2.07 0-2.86zM5.41 20L4 18.59l7.72-7.72 1.47 1.35L5.41 20z\"/>\n",
              "  </svg>\n",
              "      </button>\n",
              "      \n",
              "  <style>\n",
              "    .colab-df-container {\n",
              "      display:flex;\n",
              "      flex-wrap:wrap;\n",
              "      gap: 12px;\n",
              "    }\n",
              "\n",
              "    .colab-df-convert {\n",
              "      background-color: #E8F0FE;\n",
              "      border: none;\n",
              "      border-radius: 50%;\n",
              "      cursor: pointer;\n",
              "      display: none;\n",
              "      fill: #1967D2;\n",
              "      height: 32px;\n",
              "      padding: 0 0 0 0;\n",
              "      width: 32px;\n",
              "    }\n",
              "\n",
              "    .colab-df-convert:hover {\n",
              "      background-color: #E2EBFA;\n",
              "      box-shadow: 0px 1px 2px rgba(60, 64, 67, 0.3), 0px 1px 3px 1px rgba(60, 64, 67, 0.15);\n",
              "      fill: #174EA6;\n",
              "    }\n",
              "\n",
              "    [theme=dark] .colab-df-convert {\n",
              "      background-color: #3B4455;\n",
              "      fill: #D2E3FC;\n",
              "    }\n",
              "\n",
              "    [theme=dark] .colab-df-convert:hover {\n",
              "      background-color: #434B5C;\n",
              "      box-shadow: 0px 1px 3px 1px rgba(0, 0, 0, 0.15);\n",
              "      filter: drop-shadow(0px 1px 2px rgba(0, 0, 0, 0.3));\n",
              "      fill: #FFFFFF;\n",
              "    }\n",
              "  </style>\n",
              "\n",
              "      <script>\n",
              "        const buttonEl =\n",
              "          document.querySelector('#df-e2ad6a4a-2913-490a-9b29-e1352f224ec3 button.colab-df-convert');\n",
              "        buttonEl.style.display =\n",
              "          google.colab.kernel.accessAllowed ? 'block' : 'none';\n",
              "\n",
              "        async function convertToInteractive(key) {\n",
              "          const element = document.querySelector('#df-e2ad6a4a-2913-490a-9b29-e1352f224ec3');\n",
              "          const dataTable =\n",
              "            await google.colab.kernel.invokeFunction('convertToInteractive',\n",
              "                                                     [key], {});\n",
              "          if (!dataTable) return;\n",
              "\n",
              "          const docLinkHtml = 'Like what you see? Visit the ' +\n",
              "            '<a target=\"_blank\" href=https://colab.research.google.com/notebooks/data_table.ipynb>data table notebook</a>'\n",
              "            + ' to learn more about interactive tables.';\n",
              "          element.innerHTML = '';\n",
              "          dataTable['output_type'] = 'display_data';\n",
              "          await google.colab.output.renderOutput(dataTable, element);\n",
              "          const docLink = document.createElement('div');\n",
              "          docLink.innerHTML = docLinkHtml;\n",
              "          element.appendChild(docLink);\n",
              "        }\n",
              "      </script>\n",
              "    </div>\n",
              "  </div>\n",
              "  "
            ]
          },
          "metadata": {},
          "execution_count": 42
        }
      ]
    },
    {
      "cell_type": "markdown",
      "source": [
        "## ТипМедосмотра"
      ],
      "metadata": {
        "id": "0fXR_iNyNNrF"
      }
    },
    {
      "cell_type": "markdown",
      "source": [
        "2023.05.08 - 'Периодический', 'Предварительный'\n",
        "\n",
        "2023.06.26 - 'Периодический'"
      ],
      "metadata": {
        "id": "jSXtO0_Q42xx"
      }
    },
    {
      "cell_type": "code",
      "source": [
        "nan_lst = df1[df1['ТипМедосмотра'].isnull()].index\n",
        "print(f'\"ТипМедосмотра\": число строк с пустыми значениями: {len(nan_lst)}')\n",
        "u_lst = df1['ТипМедосмотра'].unique().tolist()\n",
        "print(f'{len(u_lst)}: {u_lst}')"
      ],
      "metadata": {
        "colab": {
          "base_uri": "https://localhost:8080/"
        },
        "id": "RYOkZYoROjB-",
        "outputId": "87cd9b29-b84b-4ecd-8f5a-22ef75416f67"
      },
      "execution_count": 43,
      "outputs": [
        {
          "output_type": "stream",
          "name": "stdout",
          "text": [
            "\"ТипМедосмотра\": число строк с пустыми значениями: 0\n",
            "1: ['Периодический']\n"
          ]
        }
      ]
    },
    {
      "cell_type": "code",
      "source": [
        "# #~~~~~~~~~~~~~~~~~~~~~~~~\n",
        "# # Получение категориального кода 'ТипМедосмотра'\n",
        "# #~~~~~~~~~~~~~~~~~~~~~~~~\n",
        "# def getTypeMedExaminationCategory(arg):\n",
        "#   '''\n",
        "#     Бинарный Тип Медосмотра\n",
        "#     вход:\n",
        "#         arg: ['Периодический', 'Предварительный']\n",
        "#     выход:\n",
        "#         retVal: 0 - Периодический, 1 - Предварительный\n",
        "#   '''\n",
        "#   if 'Периодический' == arg:\n",
        "#     retVal = 0\n",
        "#   else:\n",
        "#     retVal = 1\n",
        "#   return retVal"
      ],
      "metadata": {
        "id": "Zv5FQzEoNV2c"
      },
      "execution_count": 44,
      "outputs": []
    },
    {
      "cell_type": "code",
      "source": [
        "# col_inx = df1.columns.get_loc('ТипМедосмотра')\n",
        "# col_lst = df1.iloc[:, col_inx].tolist()\n",
        "\n",
        "# for i in range(df1.shape[0]):\n",
        "#   i_arr[i] = getTypeMedExaminationCategory(col_lst[i])\n",
        "\n",
        "# # Преобразование массива в формат one_hot_encoding не провожу, так как бинарный тип\n",
        "# # добавляем новую колонку 'ТипМедосмотра' в 'df2'\n",
        "# df2 = df2.assign(ТипМедосмотра=i_arr)\n",
        "\n",
        "# print(f'размеры датафрейма: df1: {df1.shape}, df2: {df2.shape}')\n",
        "# df2.head(3)"
      ],
      "metadata": {
        "id": "6VBteXeMGNEr"
      },
      "execution_count": 45,
      "outputs": []
    },
    {
      "cell_type": "markdown",
      "source": [
        "## ПсихОсвидетельствование"
      ],
      "metadata": {
        "id": "KQBOw2E-Qhe7"
      }
    },
    {
      "cell_type": "markdown",
      "source": [
        "2023.05.08 - False, True\n",
        "\n",
        "2023.06.26 - False"
      ],
      "metadata": {
        "id": "aT96Qkpm5aMX"
      }
    },
    {
      "cell_type": "code",
      "source": [
        "nan_lst = df1[df1['ПсихОсвидетельствование'].isnull()].index\n",
        "print(f'\"ПсихОсвидетельствование\": число строк с пустыми значениями: {len(nan_lst)}')\n",
        "u_lst = df1['ПсихОсвидетельствование'].unique().tolist()\n",
        "print(f'{len(u_lst)}: {u_lst}')"
      ],
      "metadata": {
        "colab": {
          "base_uri": "https://localhost:8080/"
        },
        "id": "m0u2P3fyQmg7",
        "outputId": "fdaaa0c1-8cfd-499c-f8d6-a61c66f1803d"
      },
      "execution_count": 46,
      "outputs": [
        {
          "output_type": "stream",
          "name": "stdout",
          "text": [
            "\"ПсихОсвидетельствование\": число строк с пустыми значениями: 0\n",
            "1: [False]\n"
          ]
        }
      ]
    },
    {
      "cell_type": "code",
      "source": [
        "# #~~~~~~~~~~~~~~~~~~~~~~~~\n",
        "# # Получение категориального кода 'ПсихОсвидетельствование'\n",
        "# #~~~~~~~~~~~~~~~~~~~~~~~~\n",
        "# def getPsychicExaminationCategory(arg):\n",
        "#   '''\n",
        "#     Бинарный Тип ПсихОсвидетельствование\n",
        "#     вход:\n",
        "#         arg: [False, True]\n",
        "#     выход:\n",
        "#         retVal: 0 - False, 1 - True\n",
        "#   '''\n",
        "#   if False == arg:\n",
        "#     retVal = 0\n",
        "#   else:\n",
        "#     retVal = 1\n",
        "#   return retVal"
      ],
      "metadata": {
        "id": "mooig0UJRMNy"
      },
      "execution_count": 47,
      "outputs": []
    },
    {
      "cell_type": "code",
      "source": [
        "# col_inx = df1.columns.get_loc('ПсихОсвидетельствование')\n",
        "# col_lst = df1.iloc[:, col_inx].tolist()\n",
        "\n",
        "# for i in range(df1.shape[0]):\n",
        "#   i_arr[i] = getPsychicExaminationCategory(col_lst[i])\n",
        "\n",
        "# # Преобразование массива в формат one_hot_encoding не провожу, так как бинарный тип\n",
        "# # добавляем новую колонку 'ПсихОсвидетельствование' в 'df2'\n",
        "# df2 = df2.assign(ПсихОсвидетельствование=i_arr)\n",
        "\n",
        "# print(f'размеры датафрейма: df1: {df1.shape}, df2: {df2.shape}')\n",
        "# df2.head(3)"
      ],
      "metadata": {
        "id": "qQYD1FJ2P_GN"
      },
      "execution_count": 48,
      "outputs": []
    },
    {
      "cell_type": "markdown",
      "source": [
        "## ДиспансернаяГруппа"
      ],
      "metadata": {
        "id": "9f1tmBhhVmOI"
      }
    },
    {
      "cell_type": "markdown",
      "source": [
        "2023.05.08 - ДиспансернаяГруппа\n",
        "\n",
        "2023.06.26 - нет такого поля"
      ],
      "metadata": {
        "id": "IkopExS65v92"
      }
    },
    {
      "cell_type": "code",
      "source": [
        "# nan_lst = df1[df1['ДиспансернаяГруппа'].isnull()].index\n",
        "# print(f'\"ДиспансернаяГруппа\": число строк с пустыми значениями: {len(nan_lst)}')\n",
        "# u_lst = df1['ДиспансернаяГруппа'].unique().tolist()\n",
        "# print(f'{len(u_lst)}: {u_lst}')"
      ],
      "metadata": {
        "id": "SSb-eNndVsAp"
      },
      "execution_count": 49,
      "outputs": []
    },
    {
      "cell_type": "code",
      "source": [
        "# #~~~~~~~~~~~~~~~~~~~~~~~~\n",
        "# # Получение категориального кода 'ДиспансернаяГруппа'\n",
        "# #~~~~~~~~~~~~~~~~~~~~~~~~\n",
        "# def getDispensaryGroupCategory(arg):\n",
        "#   '''\n",
        "#     Категориальный Тип ДиспансернаяГруппа\n",
        "#     вход:\n",
        "#         один из элементов массива уникальных значений: ['I', 'IIIа', 'II', 'IIIб']\n",
        "#     выход:\n",
        "#         retVal: индекс элемента в массиве уникальных значений:\n",
        "#           0 - nan, 1 - 'I', 2 - 'IIIа', 3 - 'II', 4 - 'IIIб'\n",
        "#   '''\n",
        "#   if 'I' == arg:\n",
        "#     retVal = 1\n",
        "#   elif 'IIIа' == arg:\n",
        "#     retVal = 2\n",
        "#   elif 'II' == arg:\n",
        "#     retVal = 3\n",
        "#   elif 'IIIб' == arg:\n",
        "#     retVal = 4\n",
        "#   else:\n",
        "#     retVal = 0\n",
        "\n",
        "#   return retVal"
      ],
      "metadata": {
        "id": "2Dp2jI_tZ2q2"
      },
      "execution_count": 50,
      "outputs": []
    },
    {
      "cell_type": "code",
      "source": [
        "# dispensary_class_count = 5\n",
        "\n",
        "# col_inx = df1.columns.get_loc('ДиспансернаяГруппа')\n",
        "# col_lst = df1.iloc[:, col_inx].tolist()\n",
        "\n",
        "# # Заполняем массив категориальными индексами\n",
        "# for i in range(df1.shape[0]):\n",
        "#   i_arr[i] = getDispensaryGroupCategory(col_lst[i])\n",
        "\n",
        "# # Преобразование массива в формат one_hot_encoding (5-классов)\n",
        "# i_arr2 = utils.to_categorical(i_arr, dispensary_class_count)\n",
        "# ohe_lst2 = i_arr2.astype(int).tolist()\n",
        "\n",
        "# # добавляем новую колонку 'ДиспансернаяГруппа' в 'df2'\n",
        "# df2 = df2.assign(ДиспансернаяГруппа=ohe_lst2)\n",
        "\n",
        "# print(f'размеры датафрейма: df1: {df1.shape}, df2: {df2.shape}')\n",
        "# df2.head(3)"
      ],
      "metadata": {
        "id": "q7WLUc_ga7pJ"
      },
      "execution_count": 51,
      "outputs": []
    },
    {
      "cell_type": "code",
      "source": [
        "# df2.tail(2)"
      ],
      "metadata": {
        "id": "6TyFww6RzJ4s"
      },
      "execution_count": 52,
      "outputs": []
    },
    {
      "cell_type": "markdown",
      "source": [
        "## ВредныеФакторы"
      ],
      "metadata": {
        "id": "9ih0G8rLdTDd"
      }
    },
    {
      "cell_type": "code",
      "source": [
        "an_lst = df1[df1['ВредныеФакторы'].isnull()].index\n",
        "print(f'\"ВредныеФакторы\": число строк с пустыми значениями: {len(nan_lst)}')"
      ],
      "metadata": {
        "colab": {
          "base_uri": "https://localhost:8080/"
        },
        "id": "_QQ6D3l1dY08",
        "outputId": "31cde164-75ad-45f0-c55b-1f43443b76f3"
      },
      "execution_count": 53,
      "outputs": [
        {
          "output_type": "stream",
          "name": "stdout",
          "text": [
            "\"ВредныеФакторы\": число строк с пустыми значениями: 0\n"
          ]
        }
      ]
    },
    {
      "cell_type": "code",
      "source": [
        "#~~~~~~~~~~~~~~~~~~~~~~~~\n",
        "# Расщепление строки по запятым\n",
        "#~~~~~~~~~~~~~~~~~~~~~~~~\n",
        "def comma_string_split(arg):\n",
        "  '''\n",
        "    Расщепление строки по запятым, удаление пробелов перед словом и после\n",
        "    вход:\n",
        "        arg: строка с запятыми или без запятых\n",
        "    выход:\n",
        "        retVal: список строк\n",
        "  '''\n",
        "  # результирующий список\n",
        "  retVal = list()\n",
        "  # проверяем на nan\n",
        "  if (arg == arg):\n",
        "    # проверяем, что строка не пустая\n",
        "    if arg:\n",
        "      # приводим к нижнему регистру, удаляем пробелы в начале и конце слова\n",
        "      #str1 = arg.lower().strip()\n",
        "      str1 = arg.strip()\n",
        "      # разбиваем строку по запятым и возвращаем список\n",
        "      str_lst1 = str1.split(',')\n",
        "      for str_item1 in str_lst1:\n",
        "        str_item2 = str_item1.strip()\n",
        "        # проверяем, что строка не пустая\n",
        "        if str_item2:\n",
        "          retVal.append(str_item2)\n",
        "\n",
        "  return retVal"
      ],
      "metadata": {
        "id": "054PF19td1Ad"
      },
      "execution_count": 54,
      "outputs": []
    },
    {
      "cell_type": "code",
      "source": [
        "# Формируем список уникальных значений вредных факторов\n",
        "# Harmful Factors\n",
        "u_hf_lst = list()\n",
        "\n",
        "col_inx = df1.columns.get_loc('ВредныеФакторы')\n",
        "col_lst = df1.iloc[:, col_inx].tolist()\n",
        "#print(f'df1 число строк: {df1.shape[0]}, len(col_lst): {len(col_lst)}, {col_lst}')\n",
        "\n",
        "for i in range(df1.shape[0]):\n",
        "  i_elem = col_lst[i]\n",
        "  #print(f'{i}->{df1.shape[0]}: i_elem: {i_elem}')\n",
        "  # проверяем на nan\n",
        "  if (i_elem == i_elem):\n",
        "    # проверяем, что строка не пустая\n",
        "    if i_elem:\n",
        "      #print(f'{i}=>{df1.shape[0]}: i_elem: {i_elem}')\n",
        "      #расщепляем по запятым\n",
        "      elem_lst = comma_string_split(i_elem)\n",
        "      #print(f'  {len(elem_lst)}: {elem_lst}')\n",
        "      if len(elem_lst) > 0:\n",
        "        for elem1_lst in elem_lst:\n",
        "          #print(f'    elem1_lst: {elem1_lst}')\n",
        "          if len(u_hf_lst) > 0:\n",
        "            # проверяем, что этого элемента нет в списке\n",
        "            flag_lst = elem1_lst in u_hf_lst\n",
        "            if not flag_lst:\n",
        "              u_hf_lst.append(elem1_lst)\n",
        "          else:\n",
        "            u_hf_lst.append(elem1_lst)\n",
        "\n",
        "#print(f'{len(u_hf_lst)}: u_hf_lst: {u_hf_lst}')"
      ],
      "metadata": {
        "id": "WRU0gO80kryI"
      },
      "execution_count": 55,
      "outputs": []
    },
    {
      "cell_type": "code",
      "source": [
        "# создаем словарь ВредныеФакторы: ключи - названия вредных факторов, значения - число повторений\n",
        "u_hf_dict = {}\n",
        "for i_elem in u_hf_lst:\n",
        "  u_hf_dict[i_elem] = 0\n",
        "\n",
        "# print(f'{len(u_hf_dict)}: u_hf_lst: {u_hf_dict}')\n",
        "\n",
        "# пробегаемся по всем строкам колонки и заполняем словарь\n",
        "for i in range(df1.shape[0]):\n",
        "  i_elem = col_lst[i]\n",
        "  # проверяем на nan\n",
        "  if (i_elem == i_elem):\n",
        "    # проверяем, что строка не пустая\n",
        "    if i_elem:\n",
        "      #расщепляем по запятым\n",
        "      elem_lst = comma_string_split(i_elem)\n",
        "      if len(elem_lst) > 0:\n",
        "        for elem1_lst in elem_lst:\n",
        "          u_hf_dict[elem1_lst] += 1\n",
        "\n",
        "# print(f'{len(u_hf_dict)}: u_hf_lst: {u_hf_dict}')\n",
        "\n",
        "# сортируем словарь по убыванию\n",
        "u_hf_sort_dict = dict(sorted(u_hf_dict.items(), key=lambda x: x[1], reverse=True))\n",
        "\n",
        "# print(f'{len(u_hf_sort_dict)}: u_hf_sort_dict: {u_hf_sort_dict}')"
      ],
      "metadata": {
        "id": "0w_1l0STz3cR"
      },
      "execution_count": 56,
      "outputs": []
    },
    {
      "cell_type": "code",
      "source": [
        "# Отобразим на столбчатую диаграмму - чачтоту использования наших признаков\n",
        "plt.figure(figsize=(20, 5))\n",
        "plt.bar(u_hf_sort_dict.keys(), u_hf_sort_dict.values(), color='blue')\n",
        "plt.xticks(rotation=90)\n",
        "plt.xlabel('Вредные факторы')\n",
        "plt.ylabel('Общее число повторений')\n",
        "plt.gca().set_facecolor('white')\n",
        "plt.show()"
      ],
      "metadata": {
        "colab": {
          "base_uri": "https://localhost:8080/",
          "height": 54
        },
        "id": "NJpUF7Cf51mm",
        "outputId": "2a4b1467-7c2e-44a6-ad27-07658f5268dd"
      },
      "execution_count": 57,
      "outputs": [
        {
          "output_type": "display_data",
          "data": {
            "text/plain": [
              "<Figure size 2000x500 with 1 Axes>"
            ],
            "image/png": "[encoded data removed]"
          },
          "metadata": {}
        }
      ]
    },
    {
      "cell_type": "code",
      "source": [
        "# Формируем список уникальных значений вредных факторов\n",
        "# из наиболее часто встречающихся -> оставим первые 15\n",
        "u_hf_lst = list(u_hf_sort_dict.keys())[:15]\n",
        "del u_hf_dict\n",
        "del u_hf_sort_dict\n",
        "\n",
        "print(f'{len(u_hf_lst)}: u_hf_lst: {u_hf_lst}')"
      ],
      "metadata": {
        "colab": {
          "base_uri": "https://localhost:8080/"
        },
        "id": "59s0eV4k7-_t",
        "outputId": "8c73a630-f8dc-4489-bc2b-81ba721b5ad9"
      },
      "execution_count": 58,
      "outputs": [
        {
          "output_type": "stream",
          "name": "stdout",
          "text": [
            "15: u_hf_lst: ['23', '5.1', '1.50', '4.3.2', '18.2', '4.2.5', '4.4', '11.1', '18.1', '25', '4.7', '6.2', '11.4', '15', '6.1']\n"
          ]
        }
      ]
    },
    {
      "cell_type": "code",
      "source": [
        "#~~~~~~~~~~~~~~~~~~~~~~~~\n",
        "#multi_hot_encoding\n",
        "hf_mhe_lst = list()\n",
        "\n",
        "# число классов\n",
        "harmful_factors_class_count = len(u_hf_lst) + 1\n",
        "# то есть по умолчанию выбираем индекс вредного фактора, которого нет в списке\n",
        "# наших выбранных и ограниченных уникальных вредных факторов\n",
        "nan_inx = len(u_hf_lst)\n",
        "\n",
        "# print(f'{len(col_lst)}: col_lst: {col_lst}')\n",
        "# print(f'{len(u_hf_lst)}: u_hf_lst: {u_hf_lst}')\n",
        "# print(f'harmful_factors_class_count: {harmful_factors_class_count}')\n",
        "# print(f'nan_inx: {nan_inx}')\n",
        "\n",
        "# пробегаемся по всем строкам колонки\n",
        "for i in range(df1.shape[0]):\n",
        "  i_elem = col_lst[i]\n",
        "  # print(f'{i}->{df1.shape[0]}: i_elem: {i_elem}')\n",
        "  # устанавливаем все признаки в нули\n",
        "  i_mhe_lst = [0] * harmful_factors_class_count\n",
        "  # проверяем на nan\n",
        "  if (i_elem == i_elem):\n",
        "    # проверяем, что строка не пустая\n",
        "    if i_elem:\n",
        "      #расщепляем по запятым\n",
        "      elem_lst = comma_string_split(i_elem)\n",
        "      if len(elem_lst) > 0:\n",
        "        for elem1_lst in elem_lst:\n",
        "          # проверяем, есть ли этот элемент в списке\n",
        "          if elem1_lst in u_hf_lst:\n",
        "            inx = u_hf_lst.index(elem1_lst)\n",
        "            i_mhe_lst[inx] = 1\n",
        "          else:\n",
        "            i_mhe_lst[nan_inx] = 1\n",
        "      else:\n",
        "        i_mhe_lst[nan_inx] = 1\n",
        "    else:\n",
        "      i_mhe_lst[nan_inx] = 1\n",
        "  else:\n",
        "    i_mhe_lst[nan_inx] = 1\n",
        "\n",
        "  # print(f'  {len(i_mhe_lst)}: {i_mhe_lst}')\n",
        "  hf_mhe_lst.append(i_mhe_lst)\n",
        "\n",
        "# print(f'{len(hf_mhe_lst)}: hf_mhe_lst: {hf_mhe_lst}')\n",
        "\n",
        "# добавляем новую колонку 'ВредныеФакторы' в 'df2'\n",
        "df2 = df2.assign(ВредныеФакторы=hf_mhe_lst)\n",
        "\n",
        "del hf_mhe_lst\n",
        "\n",
        "print(f'размеры датафрейма: df1: {df1.shape}, df2: {df2.shape}')\n",
        "df2.head(3)"
      ],
      "metadata": {
        "colab": {
          "base_uri": "https://localhost:8080/",
          "height": 381
        },
        "id": "AEc7xqGjWSIs",
        "outputId": "aed830b4-9fbc-4f49-bafd-4c1a7f3f7f26"
      },
      "execution_count": 59,
      "outputs": [
        {
          "output_type": "stream",
          "name": "stdout",
          "text": [
            "размеры датафрейма: df1: (249, 191), df2: (249, 4)\n"
          ]
        },
        {
          "output_type": "execute_result",
          "data": {
            "text/plain": [
              "  ЗаключениеМКК                            Возраст  КлиентПол  \\\n",
              "0     [0, 0, 1]  [0, 0, 0, 0, 0, 1, 0, 0, 0, 0, 0]          1   \n",
              "1     [0, 0, 1]  [0, 0, 0, 0, 1, 0, 0, 0, 0, 0, 0]          1   \n",
              "2     [0, 0, 1]  [0, 0, 0, 0, 0, 1, 0, 0, 0, 0, 0]          1   \n",
              "\n",
              "                                     ВредныеФакторы  \n",
              "0  [1, 1, 1, 1, 1, 0, 0, 0, 0, 0, 0, 0, 0, 0, 0, 0]  \n",
              "1  [1, 1, 1, 1, 1, 0, 0, 0, 0, 0, 0, 0, 0, 0, 0, 0]  \n",
              "2  [1, 1, 1, 1, 1, 0, 0, 0, 0, 0, 0, 0, 0, 0, 0, 0]  "
            ],
            "text/html": [
              "\n",
              "  <div id=\"df-2f902949-45a8-4c9c-ab8e-112ed9a8dc77\">\n",
              "    <div class=\"colab-df-container\">\n",
              "      <div>\n",
              "<style scoped>\n",
              "    .dataframe tbody tr th:only-of-type {\n",
              "        vertical-align: middle;\n",
              "    }\n",
              "\n",
              "    .dataframe tbody tr th {\n",
              "        vertical-align: top;\n",
              "    }\n",
              "\n",
              "    .dataframe thead th {\n",
              "        text-align: right;\n",
              "    }\n",
              "</style>\n",
              "<table border=\"1\" class=\"dataframe\">\n",
              "  <thead>\n",
              "    <tr style=\"text-align: right;\">\n",
              "      <th></th>\n",
              "      <th>ЗаключениеМКК</th>\n",
              "      <th>Возраст</th>\n",
              "      <th>КлиентПол</th>\n",
              "      <th>ВредныеФакторы</th>\n",
              "    </tr>\n",
              "  </thead>\n",
              "  <tbody>\n",
              "    <tr>\n",
              "      <th>0</th>\n",
              "      <td>[0, 0, 1]</td>\n",
              "      <td>[0, 0, 0, 0, 0, 1, 0, 0, 0, 0, 0]</td>\n",
              "      <td>1</td>\n",
              "      <td>[1, 1, 1, 1, 1, 0, 0, 0, 0, 0, 0, 0, 0, 0, 0, 0]</td>\n",
              "    </tr>\n",
              "    <tr>\n",
              "      <th>1</th>\n",
              "      <td>[0, 0, 1]</td>\n",
              "      <td>[0, 0, 0, 0, 1, 0, 0, 0, 0, 0, 0]</td>\n",
              "      <td>1</td>\n",
              "      <td>[1, 1, 1, 1, 1, 0, 0, 0, 0, 0, 0, 0, 0, 0, 0, 0]</td>\n",
              "    </tr>\n",
              "    <tr>\n",
              "      <th>2</th>\n",
              "      <td>[0, 0, 1]</td>\n",
              "      <td>[0, 0, 0, 0, 0, 1, 0, 0, 0, 0, 0]</td>\n",
              "      <td>1</td>\n",
              "      <td>[1, 1, 1, 1, 1, 0, 0, 0, 0, 0, 0, 0, 0, 0, 0, 0]</td>\n",
              "    </tr>\n",
              "  </tbody>\n",
              "</table>\n",
              "</div>\n",
              "      <button class=\"colab-df-convert\" onclick=\"convertToInteractive('df-2f902949-45a8-4c9c-ab8e-112ed9a8dc77')\"\n",
              "              title=\"Convert this dataframe to an interactive table.\"\n",
              "              style=\"display:none;\">\n",
              "        \n",
              "  <svg xmlns=\"http://www.w3.org/2000/svg\" height=\"24px\"viewBox=\"0 0 24 24\"\n",
              "       width=\"24px\">\n",
              "    <path d=\"M0 0h24v24H0V0z\" fill=\"none\"/>\n",
              "    <path d=\"M18.56 5.44l.94 2.06.94-2.06 2.06-.94-2.06-.94-.94-2.06-.94 2.06-2.06.94zm-11 1L8.5 8.5l.94-2.06 2.06-.94-2.06-.94L8.5 2.5l-.94 2.06-2.06.94zm10 10l.94 2.06.94-2.06 2.06-.94-2.06-.94-.94-2.06-.94 2.06-2.06.94z\"/><path d=\"M17.41 7.96l-1.37-1.37c-.4-.4-.92-.59-1.43-.59-.52 0-1.04.2-1.43.59L10.3 9.45l-7.72 7.72c-.78.78-.78 2.05 0 2.83L4 21.41c.39.39.9.59 1.41.59.51 0 1.02-.2 1.41-.59l7.78-7.78 2.81-2.81c.8-.78.8-2.07 0-2.86zM5.41 20L4 18.59l7.72-7.72 1.47 1.35L5.41 20z\"/>\n",
              "  </svg>\n",
              "      </button>\n",
              "      \n",
              "  <style>\n",
              "    .colab-df-container {\n",
              "      display:flex;\n",
              "      flex-wrap:wrap;\n",
              "      gap: 12px;\n",
              "    }\n",
              "\n",
              "    .colab-df-convert {\n",
              "      background-color: #E8F0FE;\n",
              "      border: none;\n",
              "      border-radius: 50%;\n",
              "      cursor: pointer;\n",
              "      display: none;\n",
              "      fill: #1967D2;\n",
              "      height: 32px;\n",
              "      padding: 0 0 0 0;\n",
              "      width: 32px;\n",
              "    }\n",
              "\n",
              "    .colab-df-convert:hover {\n",
              "      background-color: #E2EBFA;\n",
              "      box-shadow: 0px 1px 2px rgba(60, 64, 67, 0.3), 0px 1px 3px 1px rgba(60, 64, 67, 0.15);\n",
              "      fill: #174EA6;\n",
              "    }\n",
              "\n",
              "    [theme=dark] .colab-df-convert {\n",
              "      background-color: #3B4455;\n",
              "      fill: #D2E3FC;\n",
              "    }\n",
              "\n",
              "    [theme=dark] .colab-df-convert:hover {\n",
              "      background-color: #434B5C;\n",
              "      box-shadow: 0px 1px 3px 1px rgba(0, 0, 0, 0.15);\n",
              "      filter: drop-shadow(0px 1px 2px rgba(0, 0, 0, 0.3));\n",
              "      fill: #FFFFFF;\n",
              "    }\n",
              "  </style>\n",
              "\n",
              "      <script>\n",
              "        const buttonEl =\n",
              "          document.querySelector('#df-2f902949-45a8-4c9c-ab8e-112ed9a8dc77 button.colab-df-convert');\n",
              "        buttonEl.style.display =\n",
              "          google.colab.kernel.accessAllowed ? 'block' : 'none';\n",
              "\n",
              "        async function convertToInteractive(key) {\n",
              "          const element = document.querySelector('#df-2f902949-45a8-4c9c-ab8e-112ed9a8dc77');\n",
              "          const dataTable =\n",
              "            await google.colab.kernel.invokeFunction('convertToInteractive',\n",
              "                                                     [key], {});\n",
              "          if (!dataTable) return;\n",
              "\n",
              "          const docLinkHtml = 'Like what you see? Visit the ' +\n",
              "            '<a target=\"_blank\" href=https://colab.research.google.com/notebooks/data_table.ipynb>data table notebook</a>'\n",
              "            + ' to learn more about interactive tables.';\n",
              "          element.innerHTML = '';\n",
              "          dataTable['output_type'] = 'display_data';\n",
              "          await google.colab.output.renderOutput(dataTable, element);\n",
              "          const docLink = document.createElement('div');\n",
              "          docLink.innerHTML = docLinkHtml;\n",
              "          element.appendChild(docLink);\n",
              "        }\n",
              "      </script>\n",
              "    </div>\n",
              "  </div>\n",
              "  "
            ]
          },
          "metadata": {},
          "execution_count": 59
        }
      ]
    },
    {
      "cell_type": "markdown",
      "source": [
        "## МКБ"
      ],
      "metadata": {
        "id": "uXSh4C2YqdVm"
      }
    },
    {
      "cell_type": "code",
      "source": [
        "def getColNamesByFragmentName(str):\n",
        "  '''\n",
        "    Возвращает список названий колонок, в которых содержится заданная строка\n",
        "    вход:\n",
        "        str - часть названия колонки, например мкб\n",
        "    выход:\n",
        "        retVal - список названий колонок, содержащих заданную строку\n",
        "  '''\n",
        "  totalCols = list(df1.columns)\n",
        "  retVal = [col for col in totalCols if str in col]\n",
        "  return retVal"
      ],
      "metadata": {
        "id": "VA-QWhbttXis"
      },
      "execution_count": 60,
      "outputs": []
    },
    {
      "cell_type": "code",
      "source": [
        "# Находим все колонки, в которых присутсвует часть названия '_МКБ'\n",
        "fragment_str = '_МКБ'\n",
        "mkb_cols = getColNamesByFragmentName(fragment_str)\n",
        "print(f'Число колонок, содержащих \"{fragment_str}\": {len(mkb_cols)}')\n",
        "print(f'mkb_cols: {mkb_cols}')"
      ],
      "metadata": {
        "colab": {
          "base_uri": "https://localhost:8080/"
        },
        "id": "cQfnXD9ntgz0",
        "outputId": "b870ba81-d7c1-479b-a644-b02deb427770"
      },
      "execution_count": 61,
      "outputs": [
        {
          "output_type": "stream",
          "name": "stdout",
          "text": [
            "Число колонок, содержащих \"_МКБ\": 35\n",
            "mkb_cols: ['Стоматология1_МКБ101', 'ПроцедурнаяМедсестра1_МКБ101', 'ПсихиатрияНаркология1_МКБ101', 'Неврология1_МКБ101', 'Хирургия1_МКБ101', 'Гинекология1_МКБ101', 'Оториноларингология1_МКБ101', 'Терапия1_МКБ101', 'УЗИДиагностика1_МКБ101', 'Дерматовенерология1_МКБ101', 'Офтальмология1_МКБ101', 'ФункциональнаяДиагностика1_МКБ101', 'Рентгенология1_МКБ101', 'Терапия2_МКБ101', 'Терапия1_МКБ102', 'Офтальмология1_МКБ102', 'ПсихиатрияНаркология2_МКБ101', 'Дерматовенерология2_МКБ101', 'Неврология1_МКБ102', 'Неврология1_МКБ103', 'Неврология2_МКБ101', 'Терапия1_МКБ103', 'Стоматология2_МКБ101', 'Стоматология1_МКБ102', 'Стоматология1_МКБ103', 'Гинекология2_МКБ101', 'Офтальмология2_МКБ101', 'ЛабораторнаяДиагностика1_МКБ101', 'ЛабораторнаяДиагностика2_МКБ101', 'ПроцедурнаяМедсестра2_МКБ101', 'Терапия3_МКБ101', 'УЗИДиагностика2_МКБ101', 'Психиатрия1_МКБ101', 'Стоматология3_МКБ101', 'Хирургия2_МКБ101']\n"
          ]
        }
      ]
    },
    {
      "cell_type": "code",
      "source": [
        "# Формируем список уникальных значений мкб\n",
        "# MKB Factors\n",
        "u_mkb_lst = list()\n",
        "\n",
        "for mkb_col in mkb_cols:\n",
        "  col_inx = df1.columns.get_loc(mkb_col)\n",
        "  col_lst = df1.iloc[:, col_inx].tolist()\n",
        "  # print(f'df1 число строк: {df1.shape[0]}, mkb_col: {mkb_col}')\n",
        "  # print(f'  len(col_lst): {len(col_lst)}, {col_lst}')\n",
        "  # Пробегаем по всем строкам текущей колонки\n",
        "  for i in range(df1.shape[0]):\n",
        "    i_elem = col_lst[i]\n",
        "    # print(f'{i}->{df1.shape[0]}: i_elem: {i_elem}')\n",
        "    # проверяем на nan\n",
        "    if (i_elem == i_elem):\n",
        "      # проверяем, что строка не пустая\n",
        "      if i_elem:\n",
        "        #print(f'{i}=>{df1.shape[0]}: i_elem: {i_elem}')\n",
        "        #расщепляем по запятым\n",
        "        elem_lst = comma_string_split(i_elem)\n",
        "        #print(f'  {len(elem_lst)}: {elem_lst}')\n",
        "        if len(elem_lst) > 0:\n",
        "          for elem1_lst in elem_lst:\n",
        "            #print(f'    elem1_lst: {elem1_lst}')\n",
        "            if len(u_mkb_lst) > 0:\n",
        "              # проверяем, что этого элемента нет в списке\n",
        "              flag_lst = elem1_lst in u_mkb_lst\n",
        "              if not flag_lst:\n",
        "                u_mkb_lst.append(elem1_lst)\n",
        "            else:\n",
        "              u_mkb_lst.append(elem1_lst)\n",
        "\n",
        "# print(f'{len(u_mkb_lst)}: u_mkb_lst: {u_mkb_lst}')"
      ],
      "metadata": {
        "id": "LBVZVZFUd5zE"
      },
      "execution_count": 62,
      "outputs": []
    },
    {
      "cell_type": "code",
      "source": [
        "# создаем словарь МКБ: ключи - МКБ, значения - число повторений\n",
        "u_mkb_dict = {}\n",
        "for i_elem in u_mkb_lst:\n",
        "  u_mkb_dict[i_elem] = 0\n",
        "\n",
        "# print(f'{len(u_mkb_dict)}: u_mkb_lst: {u_mkb_dict}')\n",
        "\n",
        "# пробегаемся по всем строкам колонок и заполняем словарь\n",
        "for mkb_col in mkb_cols:\n",
        "  col_inx = df1.columns.get_loc(mkb_col)\n",
        "  col_lst = df1.iloc[:, col_inx].tolist()\n",
        "  for i in range(df1.shape[0]):\n",
        "    i_elem = col_lst[i]\n",
        "    # проверяем на nan\n",
        "    if (i_elem == i_elem):\n",
        "      # проверяем, что строка не пустая\n",
        "      if i_elem:\n",
        "        #расщепляем по запятым\n",
        "        elem_lst = comma_string_split(i_elem)\n",
        "        if len(elem_lst) > 0:\n",
        "          for elem1_lst in elem_lst:\n",
        "            u_mkb_dict[elem1_lst] += 1\n",
        "\n",
        "# print(f'{len(u_mkb_dict)}: u_mkb_lst: {u_mkb_dict}')\n",
        "\n",
        "# сортируем словарь по убыванию\n",
        "u_mkb_sort_dict = dict(sorted(u_mkb_dict.items(), key=lambda x: x[1], reverse=True))\n",
        "\n",
        "# print(f'{len(u_mkb_sort_dict)}: u_mkb_sort_dict: {u_mkb_sort_dict}')"
      ],
      "metadata": {
        "id": "4mflq318myGo"
      },
      "execution_count": 63,
      "outputs": []
    },
    {
      "cell_type": "code",
      "source": [
        "# Отобразим на столбчатую диаграмму - чачтоту использования наших признаков\n",
        "plt.figure(figsize=(20, 5))\n",
        "plt.bar(u_mkb_sort_dict.keys(), u_mkb_sort_dict.values(), color='blue')\n",
        "plt.xticks(rotation=90)\n",
        "plt.xlabel('МКБ')\n",
        "plt.ylabel('Общее число повторений')\n",
        "plt.gca().set_facecolor('white')\n",
        "plt.show()"
      ],
      "metadata": {
        "colab": {
          "base_uri": "https://localhost:8080/",
          "height": 54
        },
        "id": "LWaiqf4koazP",
        "outputId": "3ac1f29d-b210-419d-fa7b-8ad0f4768702"
      },
      "execution_count": 64,
      "outputs": [
        {
          "output_type": "display_data",
          "data": {
            "text/plain": [
              "<Figure size 2000x500 with 1 Axes>"
            ],
            "image/png": "[encoded data removed]"
          },
          "metadata": {}
        }
      ]
    },
    {
      "cell_type": "code",
      "source": [
        "# Формируем список уникальных значений МКБ\n",
        "# из наиболее часто встречающихся -> оставим первые 3\n",
        "u_mkb_lst = list(u_mkb_sort_dict.keys())[:3]\n",
        "del u_mkb_dict\n",
        "del u_mkb_sort_dict\n",
        "\n",
        "print(f'{len(u_mkb_lst)}: u_mkb_lst: {u_mkb_lst}')"
      ],
      "metadata": {
        "colab": {
          "base_uri": "https://localhost:8080/"
        },
        "id": "Rb8oBBngp9kW",
        "outputId": "890f4cb6-9c60-4420-c568-ae44297de112"
      },
      "execution_count": 65,
      "outputs": [
        {
          "output_type": "stream",
          "name": "stdout",
          "text": [
            "3: u_mkb_lst: ['Z00.0', 'H52.1', 'I11.9']\n"
          ]
        }
      ]
    },
    {
      "cell_type": "code",
      "source": [
        "#~~~~~~~~~~~~~~~~~~~~~~~~\n",
        "#multi_hot_encoding\n",
        "mkb_mhe_lst = list()\n",
        "\n",
        "# число классов\n",
        "mkb_class_count = len(u_mkb_lst) + 1\n",
        "# то есть по умолчанию выбираем индекс мкб, которого нет в списке\n",
        "# наших выбранных и ограниченных мкб факторов\n",
        "nan_inx = len(u_mkb_lst)\n",
        "\n",
        "for i in range(df1.shape[0]):\n",
        "  # устанавливаем все признаки в нули\n",
        "  i_mhe_lst = [0] * mkb_class_count\n",
        "  mkb_mhe_lst.append(i_mhe_lst)\n",
        "\n",
        "# print(f'{len(u_mkb_lst)}: u_mkb_lst: {u_mkb_lst}')\n",
        "# print(f'mkb_class_count: {mkb_class_count}')\n",
        "# print(f'nan_inx: {nan_inx}')\n",
        "# print(f'{len(mkb_mhe_lst)}: mkb_mhe_lst: {mkb_mhe_lst}')\n",
        "\n",
        "# пробегаемся по всем строкам колонок и заполняем словарь\n",
        "for mkb_col in mkb_cols:\n",
        "  col_inx = df1.columns.get_loc(mkb_col)\n",
        "  col_lst = df1.iloc[:, col_inx].tolist()\n",
        "  # пробегаемся по всем строкам колонки\n",
        "  for i in range(df1.shape[0]):\n",
        "    i_elem = col_lst[i]\n",
        "    # print(f'mkb_col: {mkb_col}: {i}->{df1.shape[0]}: i_elem: {i_elem}')\n",
        "    # считываем все признаки\n",
        "    i_mhe_lst = mkb_mhe_lst[i]\n",
        "    # проверяем на nan\n",
        "    if (i_elem == i_elem):\n",
        "      # проверяем, что строка не пустая\n",
        "      if i_elem:\n",
        "        #расщепляем по запятым\n",
        "        elem_lst = comma_string_split(i_elem)\n",
        "        if len(elem_lst) > 0:\n",
        "          for elem1_lst in elem_lst:\n",
        "            # проверяем, есть ли этот элемент в списке\n",
        "            if elem1_lst in u_mkb_lst:\n",
        "              inx = u_mkb_lst.index(elem1_lst)\n",
        "              i_mhe_lst[inx] = 1\n",
        "            else:\n",
        "              i_mhe_lst[nan_inx] = 1\n",
        "        else:\n",
        "          i_mhe_lst[nan_inx] = 1\n",
        "      else:\n",
        "        i_mhe_lst[nan_inx] = 1\n",
        "    else:\n",
        "      i_mhe_lst[nan_inx] = 1\n",
        "\n",
        "  # print(f'  {len(i_mhe_lst)}: {i_mhe_lst}')\n",
        "  mkb_mhe_lst[i] = i_mhe_lst\n",
        "\n",
        "# print(f'{len(mkb_mhe_lst)}: mkb_mhe_lst: {mkb_mhe_lst}')\n",
        "\n",
        "# добавляем новую колонку 'МКБ' в 'df2'\n",
        "df2 = df2.assign(МКБ=mkb_mhe_lst)\n",
        "\n",
        "del mkb_mhe_lst\n",
        "\n",
        "print(f'размеры датафрейма: df1: {df1.shape}, df2: {df2.shape}')\n",
        "df2.head(3)"
      ],
      "metadata": {
        "colab": {
          "base_uri": "https://localhost:8080/",
          "height": 381
        },
        "id": "crmB76f6siVe",
        "outputId": "fc7ff537-4e63-4ffd-b332-be957dd808a2"
      },
      "execution_count": 66,
      "outputs": [
        {
          "output_type": "stream",
          "name": "stdout",
          "text": [
            "размеры датафрейма: df1: (249, 191), df2: (249, 5)\n"
          ]
        },
        {
          "output_type": "execute_result",
          "data": {
            "text/plain": [
              "  ЗаключениеМКК                            Возраст  КлиентПол  \\\n",
              "0     [0, 0, 1]  [0, 0, 0, 0, 0, 1, 0, 0, 0, 0, 0]          1   \n",
              "1     [0, 0, 1]  [0, 0, 0, 0, 1, 0, 0, 0, 0, 0, 0]          1   \n",
              "2     [0, 0, 1]  [0, 0, 0, 0, 0, 1, 0, 0, 0, 0, 0]          1   \n",
              "\n",
              "                                     ВредныеФакторы           МКБ  \n",
              "0  [1, 1, 1, 1, 1, 0, 0, 0, 0, 0, 0, 0, 0, 0, 0, 0]  [0, 0, 0, 1]  \n",
              "1  [1, 1, 1, 1, 1, 0, 0, 0, 0, 0, 0, 0, 0, 0, 0, 0]  [0, 0, 0, 1]  \n",
              "2  [1, 1, 1, 1, 1, 0, 0, 0, 0, 0, 0, 0, 0, 0, 0, 0]  [0, 0, 0, 1]  "
            ],
            "text/html": [
              "\n",
              "  <div id=\"df-050e0fdf-e911-487c-be71-92e60454d655\">\n",
              "    <div class=\"colab-df-container\">\n",
              "      <div>\n",
              "<style scoped>\n",
              "    .dataframe tbody tr th:only-of-type {\n",
              "        vertical-align: middle;\n",
              "    }\n",
              "\n",
              "    .dataframe tbody tr th {\n",
              "        vertical-align: top;\n",
              "    }\n",
              "\n",
              "    .dataframe thead th {\n",
              "        text-align: right;\n",
              "    }\n",
              "</style>\n",
              "<table border=\"1\" class=\"dataframe\">\n",
              "  <thead>\n",
              "    <tr style=\"text-align: right;\">\n",
              "      <th></th>\n",
              "      <th>ЗаключениеМКК</th>\n",
              "      <th>Возраст</th>\n",
              "      <th>КлиентПол</th>\n",
              "      <th>ВредныеФакторы</th>\n",
              "      <th>МКБ</th>\n",
              "    </tr>\n",
              "  </thead>\n",
              "  <tbody>\n",
              "    <tr>\n",
              "      <th>0</th>\n",
              "      <td>[0, 0, 1]</td>\n",
              "      <td>[0, 0, 0, 0, 0, 1, 0, 0, 0, 0, 0]</td>\n",
              "      <td>1</td>\n",
              "      <td>[1, 1, 1, 1, 1, 0, 0, 0, 0, 0, 0, 0, 0, 0, 0, 0]</td>\n",
              "      <td>[0, 0, 0, 1]</td>\n",
              "    </tr>\n",
              "    <tr>\n",
              "      <th>1</th>\n",
              "      <td>[0, 0, 1]</td>\n",
              "      <td>[0, 0, 0, 0, 1, 0, 0, 0, 0, 0, 0]</td>\n",
              "      <td>1</td>\n",
              "      <td>[1, 1, 1, 1, 1, 0, 0, 0, 0, 0, 0, 0, 0, 0, 0, 0]</td>\n",
              "      <td>[0, 0, 0, 1]</td>\n",
              "    </tr>\n",
              "    <tr>\n",
              "      <th>2</th>\n",
              "      <td>[0, 0, 1]</td>\n",
              "      <td>[0, 0, 0, 0, 0, 1, 0, 0, 0, 0, 0]</td>\n",
              "      <td>1</td>\n",
              "      <td>[1, 1, 1, 1, 1, 0, 0, 0, 0, 0, 0, 0, 0, 0, 0, 0]</td>\n",
              "      <td>[0, 0, 0, 1]</td>\n",
              "    </tr>\n",
              "  </tbody>\n",
              "</table>\n",
              "</div>\n",
              "      <button class=\"colab-df-convert\" onclick=\"convertToInteractive('df-050e0fdf-e911-487c-be71-92e60454d655')\"\n",
              "              title=\"Convert this dataframe to an interactive table.\"\n",
              "              style=\"display:none;\">\n",
              "        \n",
              "  <svg xmlns=\"http://www.w3.org/2000/svg\" height=\"24px\"viewBox=\"0 0 24 24\"\n",
              "       width=\"24px\">\n",
              "    <path d=\"M0 0h24v24H0V0z\" fill=\"none\"/>\n",
              "    <path d=\"M18.56 5.44l.94 2.06.94-2.06 2.06-.94-2.06-.94-.94-2.06-.94 2.06-2.06.94zm-11 1L8.5 8.5l.94-2.06 2.06-.94-2.06-.94L8.5 2.5l-.94 2.06-2.06.94zm10 10l.94 2.06.94-2.06 2.06-.94-2.06-.94-.94-2.06-.94 2.06-2.06.94z\"/><path d=\"M17.41 7.96l-1.37-1.37c-.4-.4-.92-.59-1.43-.59-.52 0-1.04.2-1.43.59L10.3 9.45l-7.72 7.72c-.78.78-.78 2.05 0 2.83L4 21.41c.39.39.9.59 1.41.59.51 0 1.02-.2 1.41-.59l7.78-7.78 2.81-2.81c.8-.78.8-2.07 0-2.86zM5.41 20L4 18.59l7.72-7.72 1.47 1.35L5.41 20z\"/>\n",
              "  </svg>\n",
              "      </button>\n",
              "      \n",
              "  <style>\n",
              "    .colab-df-container {\n",
              "      display:flex;\n",
              "      flex-wrap:wrap;\n",
              "      gap: 12px;\n",
              "    }\n",
              "\n",
              "    .colab-df-convert {\n",
              "      background-color: #E8F0FE;\n",
              "      border: none;\n",
              "      border-radius: 50%;\n",
              "      cursor: pointer;\n",
              "      display: none;\n",
              "      fill: #1967D2;\n",
              "      height: 32px;\n",
              "      padding: 0 0 0 0;\n",
              "      width: 32px;\n",
              "    }\n",
              "\n",
              "    .colab-df-convert:hover {\n",
              "      background-color: #E2EBFA;\n",
              "      box-shadow: 0px 1px 2px rgba(60, 64, 67, 0.3), 0px 1px 3px 1px rgba(60, 64, 67, 0.15);\n",
              "      fill: #174EA6;\n",
              "    }\n",
              "\n",
              "    [theme=dark] .colab-df-convert {\n",
              "      background-color: #3B4455;\n",
              "      fill: #D2E3FC;\n",
              "    }\n",
              "\n",
              "    [theme=dark] .colab-df-convert:hover {\n",
              "      background-color: #434B5C;\n",
              "      box-shadow: 0px 1px 3px 1px rgba(0, 0, 0, 0.15);\n",
              "      filter: drop-shadow(0px 1px 2px rgba(0, 0, 0, 0.3));\n",
              "      fill: #FFFFFF;\n",
              "    }\n",
              "  </style>\n",
              "\n",
              "      <script>\n",
              "        const buttonEl =\n",
              "          document.querySelector('#df-050e0fdf-e911-487c-be71-92e60454d655 button.colab-df-convert');\n",
              "        buttonEl.style.display =\n",
              "          google.colab.kernel.accessAllowed ? 'block' : 'none';\n",
              "\n",
              "        async function convertToInteractive(key) {\n",
              "          const element = document.querySelector('#df-050e0fdf-e911-487c-be71-92e60454d655');\n",
              "          const dataTable =\n",
              "            await google.colab.kernel.invokeFunction('convertToInteractive',\n",
              "                                                     [key], {});\n",
              "          if (!dataTable) return;\n",
              "\n",
              "          const docLinkHtml = 'Like what you see? Visit the ' +\n",
              "            '<a target=\"_blank\" href=https://colab.research.google.com/notebooks/data_table.ipynb>data table notebook</a>'\n",
              "            + ' to learn more about interactive tables.';\n",
              "          element.innerHTML = '';\n",
              "          dataTable['output_type'] = 'display_data';\n",
              "          await google.colab.output.renderOutput(dataTable, element);\n",
              "          const docLink = document.createElement('div');\n",
              "          docLink.innerHTML = docLinkHtml;\n",
              "          element.appendChild(docLink);\n",
              "        }\n",
              "      </script>\n",
              "    </div>\n",
              "  </div>\n",
              "  "
            ]
          },
          "metadata": {},
          "execution_count": 66
        }
      ]
    },
    {
      "cell_type": "markdown",
      "source": [
        "## ГоденНегоден"
      ],
      "metadata": {
        "id": "7SHsYNdesoKV"
      }
    },
    {
      "cell_type": "markdown",
      "source": [
        "2023.05.08 - ГоденНегоден\n",
        "\n",
        "2023.06.26 - нет такого поля"
      ],
      "metadata": {
        "id": "9wyPvStQ75ne"
      }
    },
    {
      "cell_type": "code",
      "source": [
        "# Создаем гендерный массив, для обработки колонки Гинекология\n",
        "# 0 - Женский, 1 - Мужской\n",
        "\n",
        "nan_lst = df1[df1['КлиентПол'].isnull()].index\n",
        "print(f'\"КлиентПол\": число строк с пустыми значениями: {len(nan_lst)}')\n",
        "u_lst = df1['КлиентПол'].unique().tolist()\n",
        "print(f'{len(u_lst)}: {u_lst}')\n",
        "\n",
        "col_inx = df1.columns.get_loc('КлиентПол')\n",
        "col_lst = df1.iloc[:, col_inx].tolist()\n",
        "# print(f'{len(col_lst)}: {col_lst}')\n",
        "\n",
        "gender_arr = np.zeros(df1.shape[0], dtype=int)\n",
        "for i in range(df1.shape[0]):\n",
        "  gender_arr[i] = getGenderCategory(col_lst[i])\n",
        "\n",
        "# print(f'{len(col_lst)}: {col_lst}')\n",
        "print(f'gender_arr: {gender_arr.shape}')\n",
        "# print(f'{len(gender_arr)}: {gender_arr}')"
      ],
      "metadata": {
        "colab": {
          "base_uri": "https://localhost:8080/"
        },
        "id": "Mn4RChrrd0rl",
        "outputId": "b0597392-a307-4aa9-f52f-c335c9211a45"
      },
      "execution_count": 67,
      "outputs": [
        {
          "output_type": "stream",
          "name": "stdout",
          "text": [
            "\"КлиентПол\": число строк с пустыми значениями: 0\n",
            "2: ['Мужской', 'Женский']\n",
            "gender_arr: (249,)\n"
          ]
        }
      ]
    },
    {
      "cell_type": "code",
      "source": [
        "# Находим все колонки, в которых присутсвует часть названия '_ГоденНегоден'\n",
        "# Хирургия1_ГоденНегоден_Значение: 4->4457: i_elem: 072d79e3-1cc0-11e8-80c9-0cc47aab8067\n",
        "# fuf_col: Гинекология1_ГоденНегоден_ЗначениеПредставление: 16->4457: i_elem: Годен\n",
        "# fuf_col: Гинекология1_ГоденНегоден_ЗначениеПредставление: 17->4457: i_elem: Не годен\n",
        "#\n",
        "# ПОЭТОМУ БУДЕМ ИСПОЛЬЗОВАТЬ КОЛОНКУ `_ГоденНегоден_ЗначениеПредставление`,\n",
        "# В КОЛОНКЕ `_ГоденНегоден_Значение` ЗАШИФРОВАННЫЕ ЗНАЧЕНИЯ\n",
        "\n",
        "fragment_str = '_ГоденНегоден_ЗначениеПредставление'\n",
        "# fit unfit\n",
        "fuf_cols = getColNamesByFragmentName(fragment_str)\n",
        "# Сортируем список\n",
        "fuf_cols.sort()\n",
        "\n",
        "print(f'Число колонок, содержащих \"{fragment_str}\": {len(fuf_cols)}')\n",
        "print('-'*50)\n",
        "for i in range(len(fuf_cols)):\n",
        "  print(f'{i}: {fuf_cols[i]}')"
      ],
      "metadata": {
        "colab": {
          "base_uri": "https://localhost:8080/"
        },
        "id": "kUYUpTGL89rv",
        "outputId": "d46090ac-6ec8-44a8-cfe9-3538b33c691e"
      },
      "execution_count": 68,
      "outputs": [
        {
          "output_type": "stream",
          "name": "stdout",
          "text": [
            "Число колонок, содержащих \"_ГоденНегоден_ЗначениеПредставление\": 0\n",
            "--------------------------------------------------\n"
          ]
        }
      ]
    },
    {
      "cell_type": "code",
      "source": [
        "# #~~~~~~~~~~~~~~~~~~~~~~~~\n",
        "# # Объединение врач1,врач2,врач3,врач4 в одну колонку\n",
        "# # fit unfit\n",
        "# #~~~~~~~~~~~~~~~~~~~~~~~~\n",
        "# def fuf1234_merge(col_names_lst):\n",
        "#   '''\n",
        "#     Объединение врач1,врач2,врач3,врач4 в одну колонку\n",
        "#     вход:\n",
        "#         colNames1234: список названий колонок для объединения\n",
        "#         df1234: dataframe\n",
        "#     выход:\n",
        "#         retVal: массив 0 - не годен, 1 - ограниченно годен, 2 - годен\n",
        "#   '''\n",
        "#   retVal = np.ones(df1.shape[0], dtype=int)\n",
        "\n",
        "#   # print(f'df1 число строк : {df1.shape[0]}')\n",
        "#   # print(f'df1 число столбцов : {df1.shape[1]}')\n",
        "#   # print(f'{len(col_names_lst)} : {col_names_lst}')\n",
        "#   # print(f'retVal: {retVal.shape}')\n",
        "#   # print(f'{len(retVal)} : {retVal}')\n",
        "\n",
        "#   for j in range(len(col_names_lst)):\n",
        "#     # print(f'{j}: {col_names_lst[j]}')\n",
        "#     col_inx = df1.columns.get_loc(col_names_lst[j])\n",
        "#     col_lst = df1.iloc[:, col_inx].tolist()\n",
        "#     # u_ls = df1[col_names_lst[j]].unique().tolist()\n",
        "#     # print(f'{len(col_lst)}: {u_ls}')\n",
        "#     # print(f'{len(col_lst)}: {col_lst}')\n",
        "#     # пробегаемся по всем строкам колонки\n",
        "#     for i in range(df1.shape[0]):\n",
        "#       i_elem = col_lst[i]\n",
        "#       # print(f'{col_names_lst[j]}: {i}->{df1.shape[0]}: i_elem: {i_elem}')\n",
        "#       # проверяем на nan\n",
        "#       if (i_elem == i_elem):\n",
        "#         # проверяем, что строка не пустая\n",
        "#         if i_elem:\n",
        "#           ui_elem = i_elem.lower()\n",
        "#           # print(f'{col_names_lst[j]}: {i}->{df1.shape[0]}: i_elem: {i_elem}, ui_elem: {ui_elem}')\n",
        "#           # 0 - не годен, 1 - ограниченно годен, 2 - годен\n",
        "#           if 'не годен' == ui_elem:\n",
        "#             retVal[i] = 0\n",
        "#           elif 'годен' == ui_elem:\n",
        "#             if 1 == retVal[i]:\n",
        "#               retVal[i] = 2\n",
        "\n",
        "#   return retVal"
      ],
      "metadata": {
        "id": "4wGsan1ViwaN"
      },
      "execution_count": 69,
      "outputs": []
    },
    {
      "cell_type": "code",
      "source": [
        "# #~~~ 0\n",
        "# # 0: Гинекология1_ГоденНегоден_ЗначениеПредставление\n",
        "# # 1: Гинекология2_ГоденНегоден_ЗначениеПредставление\n",
        "# # 2: Гинекология3_ГоденНегоден_ЗначениеПредставление\n",
        "# # 3: Гинекология4_ГоденНегоден_ЗначениеПредставление\n",
        "# fuf_lst = list()\n",
        "# fuf_lst.append(fuf_cols[0])\n",
        "# fuf_lst.append(fuf_cols[1])\n",
        "# fuf_lst.append(fuf_cols[2])\n",
        "# fuf_lst.append(fuf_cols[3])\n",
        "# print(f'{len(fuf_lst)}: {fuf_lst}')\n",
        "\n",
        "# fuf_arr = fuf1234_merge(fuf_lst)\n",
        "\n",
        "# # print(f'{len(fuf_arr)}: {fuf_arr}')\n",
        "# # print(f'{gender_arr.shape}: {gender_arr}')\n",
        "\n",
        "# # пробегаемся по всем строкам колонки\n",
        "# # исправляем по гендерному признаку: мужчина по определению годен\n",
        "# for i in range(df1.shape[0]):\n",
        "#   if 1 == gender_arr[i]:\n",
        "#     fuf_arr[i] = 2\n",
        "\n",
        "# # Преобразование массива в формат one_hot_encoding (3-класса)\n",
        "# i_arr2 = utils.to_categorical(fuf_arr, 3)\n",
        "# ohe_lst2 = i_arr2.astype(int).tolist()\n",
        "# # добавляем новую колонку 'ГинекологияГНГ' в 'df2'\n",
        "# df2 = df2.assign(ГинекологияГНГ=ohe_lst2)\n",
        "# print(f'размеры датафрейма: df1: {df1.shape}, df2: {df2.shape}')\n",
        "# df2.head(3)"
      ],
      "metadata": {
        "id": "jlBL4uWCkss-"
      },
      "execution_count": 70,
      "outputs": []
    },
    {
      "cell_type": "code",
      "source": [
        "# #~~~ 1\n",
        "# # 4: Дерматовенерология1_ГоденНегоден_ЗначениеПредставление\n",
        "# # 5: Дерматовенерология2_ГоденНегоден_ЗначениеПредставление\n",
        "# fuf_lst.clear()\n",
        "# fuf_lst.append(fuf_cols[4])\n",
        "# fuf_lst.append(fuf_cols[5])\n",
        "# print(f'{len(fuf_lst)}: {fuf_lst}')\n",
        "\n",
        "# fuf_arr = fuf1234_merge(fuf_lst)\n",
        "# # print(f'{len(fuf_arr)}: {fuf_arr}')\n",
        "# # Преобразование массива в формат one_hot_encoding (3-класса)\n",
        "# i_arr2 = utils.to_categorical(fuf_arr, 3)\n",
        "# ohe_lst2 = i_arr2.astype(int).tolist()\n",
        "# # добавляем новую колонку 'ДерматовенерологияГНГ' в 'df2'\n",
        "# df2 = df2.assign(ДерматовенерологияГНГ=ohe_lst2)\n",
        "# print(f'размеры датафрейма: df1: {df1.shape}, df2: {df2.shape}')\n",
        "# df2.head(3)"
      ],
      "metadata": {
        "id": "xqI-7lzSgnW1"
      },
      "execution_count": 71,
      "outputs": []
    },
    {
      "cell_type": "code",
      "source": [
        "# #~~~ 2\n",
        "# # 6: Неврология1_ГоденНегоден_ЗначениеПредставление\n",
        "# # 7: Неврология2_ГоденНегоден_ЗначениеПредставление\n",
        "# fuf_lst.clear()\n",
        "# fuf_lst.append(fuf_cols[6])\n",
        "# fuf_lst.append(fuf_cols[7])\n",
        "# print(f'{len(fuf_lst)}: {fuf_lst}')\n",
        "\n",
        "# fuf_arr = fuf1234_merge(fuf_lst)\n",
        "# # print(f'{len(fuf_arr)}: {fuf_arr}')\n",
        "# # Преобразование массива в формат one_hot_encoding (3-класса)\n",
        "# i_arr2 = utils.to_categorical(fuf_arr, 3)\n",
        "# ohe_lst2 = i_arr2.astype(int).tolist()\n",
        "# # добавляем новую колонку 'НеврологияГНГ' в 'df2'\n",
        "# df2 = df2.assign(НеврологияГНГ=ohe_lst2)\n",
        "# print(f'размеры датафрейма: df1: {df1.shape}, df2: {df2.shape}')\n",
        "# df2.head(3)"
      ],
      "metadata": {
        "id": "MdprwORZiFY7"
      },
      "execution_count": 72,
      "outputs": []
    },
    {
      "cell_type": "code",
      "source": [
        "# #~~~ 3\n",
        "# # 8: Оториноларингология1_ГоденНегоден_ЗначениеПредставление\n",
        "# # 9: Оториноларингология2_ГоденНегоден_ЗначениеПредставление\n",
        "# # 10: Оториноларингология3_ГоденНегоден_ЗначениеПредставление\n",
        "# fuf_lst.clear()\n",
        "# fuf_lst.append(fuf_cols[8])\n",
        "# fuf_lst.append(fuf_cols[9])\n",
        "# fuf_lst.append(fuf_cols[10])\n",
        "# print(f'{len(fuf_lst)}: {fuf_lst}')\n",
        "\n",
        "# fuf_arr = fuf1234_merge(fuf_lst)\n",
        "# # print(f'{len(fuf_arr)}: {fuf_arr}')\n",
        "# # Преобразование массива в формат one_hot_encoding (3-класса)\n",
        "# i_arr2 = utils.to_categorical(fuf_arr, 3)\n",
        "# ohe_lst2 = i_arr2.astype(int).tolist()\n",
        "# # добавляем новую колонку 'ОториноларингологияГНГ' в 'df2'\n",
        "# df2 = df2.assign(ОториноларингологияГНГ=ohe_lst2)\n",
        "# print(f'размеры датафрейма: df1: {df1.shape}, df2: {df2.shape}')\n",
        "# df2.head(3)"
      ],
      "metadata": {
        "id": "8_M1tsQ3ifdj"
      },
      "execution_count": 73,
      "outputs": []
    },
    {
      "cell_type": "code",
      "source": [
        "# #~~~ 4\n",
        "# # 11: Офтальмология1_ГоденНегоден_ЗначениеПредставление\n",
        "# # 12: Офтальмология2_ГоденНегоден_ЗначениеПредставление\n",
        "# fuf_lst.clear()\n",
        "# fuf_lst.append(fuf_cols[11])\n",
        "# fuf_lst.append(fuf_cols[12])\n",
        "# print(f'{len(fuf_lst)}: {fuf_lst}')\n",
        "\n",
        "# fuf_arr = fuf1234_merge(fuf_lst)\n",
        "# # print(f'{len(fuf_arr)}: {fuf_arr}')\n",
        "# # Преобразование массива в формат one_hot_encoding (3-класса)\n",
        "# i_arr2 = utils.to_categorical(fuf_arr, 3)\n",
        "# ohe_lst2 = i_arr2.astype(int).tolist()\n",
        "# # добавляем новую колонку 'ОфтальмологияГНГ' в 'df2'\n",
        "# df2 = df2.assign(ОфтальмологияГНГ=ohe_lst2)\n",
        "# print(f'размеры датафрейма: df1: {df1.shape}, df2: {df2.shape}')\n",
        "# df2.head(3)"
      ],
      "metadata": {
        "id": "5TySp_pAjFR6"
      },
      "execution_count": 74,
      "outputs": []
    },
    {
      "cell_type": "code",
      "source": [
        "# #~~~ 5\n",
        "# # 13: Психиатрия1_ГоденНегоден_ЗначениеПредставление\n",
        "# # 14: Психиатрия2_ГоденНегоден_ЗначениеПредставление\n",
        "# # 15: Психиатрия3_ГоденНегоден_ЗначениеПредставление\n",
        "# # 16: Психиатрия4_ГоденНегоден_ЗначениеПредставление\n",
        "# fuf_lst.clear()\n",
        "# fuf_lst.append(fuf_cols[13])\n",
        "# fuf_lst.append(fuf_cols[14])\n",
        "# fuf_lst.append(fuf_cols[15])\n",
        "# fuf_lst.append(fuf_cols[16])\n",
        "# print(f'{len(fuf_lst)}: {fuf_lst}')\n",
        "\n",
        "# fuf_arr = fuf1234_merge(fuf_lst)\n",
        "# # print(f'{len(fuf_arr)}: {fuf_arr}')\n",
        "# # Преобразование массива в формат one_hot_encoding (3-класса)\n",
        "# i_arr2 = utils.to_categorical(fuf_arr, 3)\n",
        "# ohe_lst2 = i_arr2.astype(int).tolist()\n",
        "# # добавляем новую колонку 'ПсихиатрияГНГ' в 'df2'\n",
        "# df2 = df2.assign(ПсихиатрияГНГ=ohe_lst2)\n",
        "# print(f'размеры датафрейма: df1: {df1.shape}, df2: {df2.shape}')\n",
        "# df2.head(3)"
      ],
      "metadata": {
        "id": "QEXSdsLkjoWL"
      },
      "execution_count": 75,
      "outputs": []
    },
    {
      "cell_type": "code",
      "source": [
        "# #~~~ 6\n",
        "# # 17: ПсихиатрияНаркология1_ГоденНегоден_ЗначениеПредставление\n",
        "# # 18: ПсихиатрияНаркология2_ГоденНегоден_ЗначениеПредставление\n",
        "# fuf_lst.clear()\n",
        "# fuf_lst.append(fuf_cols[17])\n",
        "# fuf_lst.append(fuf_cols[18])\n",
        "# print(f'{len(fuf_lst)}: {fuf_lst}')\n",
        "\n",
        "# fuf_arr = fuf1234_merge(fuf_lst)\n",
        "# # print(f'{len(fuf_arr)}: {fuf_arr}')\n",
        "# # Преобразование массива в формат one_hot_encoding (3-класса)\n",
        "# i_arr2 = utils.to_categorical(fuf_arr, 3)\n",
        "# ohe_lst2 = i_arr2.astype(int).tolist()\n",
        "# # добавляем новую колонку 'ПсихиатрияНаркологияГНГ' в 'df2'\n",
        "# df2 = df2.assign(ПсихиатрияНаркологияГНГ=ohe_lst2)\n",
        "# print(f'размеры датафрейма: df1: {df1.shape}, df2: {df2.shape}')\n",
        "# df2.head(3)"
      ],
      "metadata": {
        "id": "UJbSrxCZSCa7"
      },
      "execution_count": 76,
      "outputs": []
    },
    {
      "cell_type": "code",
      "source": [
        "# #~~~ 7\n",
        "# # 19: Стоматология1_ГоденНегоден_ЗначениеПредставление\n",
        "# # 20: Стоматология2_ГоденНегоден_ЗначениеПредставление\n",
        "# fuf_lst.clear()\n",
        "# fuf_lst.append(fuf_cols[19])\n",
        "# fuf_lst.append(fuf_cols[20])\n",
        "# print(f'{len(fuf_lst)}: {fuf_lst}')\n",
        "\n",
        "# fuf_arr = fuf1234_merge(fuf_lst)\n",
        "# # print(f'{len(fuf_arr)}: {fuf_arr}')\n",
        "# # Преобразование массива в формат one_hot_encoding (3-класса)\n",
        "# i_arr2 = utils.to_categorical(fuf_arr, 3)\n",
        "# ohe_lst2 = i_arr2.astype(int).tolist()\n",
        "# # добавляем новую колонку 'СтоматологияГНГ' в 'df2'\n",
        "# df2 = df2.assign(СтоматологияГНГ=ohe_lst2)\n",
        "# print(f'размеры датафрейма: df1: {df1.shape}, df2: {df2.shape}')\n",
        "# df2.head(3)"
      ],
      "metadata": {
        "id": "g4xw4QK1UakE"
      },
      "execution_count": 77,
      "outputs": []
    },
    {
      "cell_type": "code",
      "source": [
        "# ~~~ 8\n",
        "# 21: ТерапевтНеИсп1_ГоденНегоден_ЗначениеПредставление\n",
        "# col_inx = df1.columns.get_loc(fuf_cols[21])\n",
        "# u_ls = df1[fuf_cols[21]].unique().tolist()\n",
        "# col_lst = df1.iloc[:, col_inx].tolist()\n",
        "\n",
        "# print(f'{fuf_cols[21]}:')\n",
        "# print(f'{len(u_ls)}: {u_ls}')\n",
        "# print(f'{len(col_lst)}: {col_lst}')\n",
        "\n",
        "# ТерапевтНеИсп1_ГоденНегоден_ЗначениеПредставление:\n",
        "# 2: [nan, 'Годен']\n",
        "\n",
        "\n",
        "# ->ТерапевтНеИсп не использую эту колонку"
      ],
      "metadata": {
        "id": "jDUr58lkU9YP"
      },
      "execution_count": 78,
      "outputs": []
    },
    {
      "cell_type": "code",
      "source": [
        "# #~~~ 9\n",
        "# # 22: Терапия1_ГоденНегоден_ЗначениеПредставление\n",
        "# # 23: Терапия2_ГоденНегоден_ЗначениеПредставление\n",
        "# # 24: Терапия3_ГоденНегоден_ЗначениеПредставление\n",
        "# # 25: Терапия4_ГоденНегоден_ЗначениеПредставление\n",
        "# fuf_lst.clear()\n",
        "# fuf_lst.append(fuf_cols[22])\n",
        "# fuf_lst.append(fuf_cols[23])\n",
        "# fuf_lst.append(fuf_cols[24])\n",
        "# fuf_lst.append(fuf_cols[25])\n",
        "# print(f'{len(fuf_lst)}: {fuf_lst}')\n",
        "\n",
        "# fuf_arr = fuf1234_merge(fuf_lst)\n",
        "# # print(f'{len(fuf_arr)}: {fuf_arr}')\n",
        "# # Преобразование массива в формат one_hot_encoding (3-класса)\n",
        "# i_arr2 = utils.to_categorical(fuf_arr, 3)\n",
        "# ohe_lst2 = i_arr2.astype(int).tolist()\n",
        "# # добавляем новую колонку 'ТерапияГНГ' в 'df2'\n",
        "# df2 = df2.assign(ТерапияГНГ=ohe_lst2)\n",
        "# print(f'размеры датафрейма: df1: {df1.shape}, df2: {df2.shape}')\n",
        "# df2.head(3)"
      ],
      "metadata": {
        "id": "LiZjRw0fWCj3"
      },
      "execution_count": 79,
      "outputs": []
    },
    {
      "cell_type": "code",
      "source": [
        "#~~~ 10\n",
        "# 26: ХирургНеИсп1_ГоденНегоден_ЗначениеПредставление\n",
        "# 27: ХирургНеИсп2_ГоденНегоден_ЗначениеПредставление\n",
        "\n",
        "# ->ХирургНеИсп не использую эту колонку"
      ],
      "metadata": {
        "id": "i7CBsvzRWwFO"
      },
      "execution_count": 80,
      "outputs": []
    },
    {
      "cell_type": "code",
      "source": [
        "# #~~~ 11\n",
        "# # 28: Хирургия1_ГоденНегоден_ЗначениеПредставление\n",
        "# # 29: Хирургия2_ГоденНегоден_ЗначениеПредставление\n",
        "# # 30: Хирургия3_ГоденНегоден_ЗначениеПредставление\n",
        "# fuf_lst.clear()\n",
        "# fuf_lst.append(fuf_cols[28])\n",
        "# fuf_lst.append(fuf_cols[29])\n",
        "# fuf_lst.append(fuf_cols[30])\n",
        "# print(f'{len(fuf_lst)}: {fuf_lst}')\n",
        "\n",
        "# fuf_arr = fuf1234_merge(fuf_lst)\n",
        "# # print(f'{len(fuf_arr)}: {fuf_arr}')\n",
        "# # Преобразование массива в формат one_hot_encoding (3-класса)\n",
        "# i_arr2 = utils.to_categorical(fuf_arr, 3)\n",
        "# ohe_lst2 = i_arr2.astype(int).tolist()\n",
        "# # добавляем новую колонку 'ХирургияГНГ' в 'df2'\n",
        "# df2 = df2.assign(ХирургияГНГ=ohe_lst2)\n",
        "# print(f'размеры датафрейма: df1: {df1.shape}, df2: {df2.shape}')\n",
        "# df2.head(3)"
      ],
      "metadata": {
        "id": "x8k8ChOCXZnW"
      },
      "execution_count": 81,
      "outputs": []
    },
    {
      "cell_type": "code",
      "source": [
        "del fuf_cols\n",
        "# del fuf_lst\n",
        "# del fuf_arr"
      ],
      "metadata": {
        "id": "dJW5ws9zZJRF"
      },
      "execution_count": 82,
      "outputs": []
    },
    {
      "cell_type": "markdown",
      "source": [
        "## Диагноз"
      ],
      "metadata": {
        "id": "fhmfJ0WyL2k-"
      }
    },
    {
      "cell_type": "code",
      "source": [
        "# Гендерный массив, для обработки колонки Гинекология\n",
        "# 0 - Женский, 1 - Мужской\n",
        "print(f'gender_arr: {gender_arr.shape}')\n",
        "# print(f'{len(gender_arr)}: {gender_arr}')"
      ],
      "metadata": {
        "colab": {
          "base_uri": "https://localhost:8080/"
        },
        "id": "e-TZe1oyMbam",
        "outputId": "f612c7bb-c47f-4b5f-f25e-45c5261f7222"
      },
      "execution_count": 90,
      "outputs": [
        {
          "output_type": "stream",
          "name": "stdout",
          "text": [
            "gender_arr: (249,)\n"
          ]
        }
      ]
    },
    {
      "cell_type": "code",
      "source": [
        "# Находим все колонки, в которых присутсвует часть названия '_Диагноз'\n",
        "fragment_str = '_Диагноз'\n",
        "# diagnosis\n",
        "dgns_cols = getColNamesByFragmentName(fragment_str)\n",
        "# Сортируем список\n",
        "dgns_cols.sort()\n",
        "\n",
        "print(f'Число колонок, содержащих \"{fragment_str}\": {len(dgns_cols)}')\n",
        "print('-'*50)\n",
        "for i in range(len(dgns_cols)):\n",
        "  print(f'{i}: {dgns_cols[i]}')"
      ],
      "metadata": {
        "colab": {
          "base_uri": "https://localhost:8080/"
        },
        "id": "mAPUse9RMz8z",
        "outputId": "1dffa118-eb8d-498d-902e-2cbc66064459"
      },
      "execution_count": 91,
      "outputs": [
        {
          "output_type": "stream",
          "name": "stdout",
          "text": [
            "Число колонок, содержащих \"_Диагноз\": 75\n",
            "--------------------------------------------------\n",
            "0: Гинекология1_Диагноз_Значение\n",
            "1: Гинекология1_Диагноз_ЗначениеПредставление\n",
            "2: Гинекология1_ДиагнозПредставление1\n",
            "3: Гинекология2_Диагноз_Значение\n",
            "4: Гинекология2_Диагноз_ЗначениеПредставление\n",
            "5: Гинекология2_ДиагнозПредставление1\n",
            "6: Дерматовенерология1_Диагноз_Значение\n",
            "7: Дерматовенерология1_Диагноз_ЗначениеПредставление\n",
            "8: Дерматовенерология1_ДиагнозПредставление1\n",
            "9: Дерматовенерология2_Диагноз_Значение\n",
            "10: Дерматовенерология2_Диагноз_ЗначениеПредставление\n",
            "11: Дерматовенерология2_ДиагнозПредставление1\n",
            "12: ЛабораторнаяДиагностика1_ДиагнозПредставление1\n",
            "13: ЛабораторнаяДиагностика2_ДиагнозПредставление1\n",
            "14: Неврология1_Диагноз_Значение\n",
            "15: Неврология1_Диагноз_ЗначениеПредставление\n",
            "16: Неврология1_ДиагнозПредставление1\n",
            "17: Неврология1_ДиагнозПредставление2\n",
            "18: Неврология1_ДиагнозПредставление3\n",
            "19: Неврология2_Диагноз_Значение\n",
            "20: Неврология2_Диагноз_ЗначениеПредставление\n",
            "21: Неврология2_ДиагнозПредставление1\n",
            "22: Оториноларингология1_Диагноз_Значение\n",
            "23: Оториноларингология1_Диагноз_ЗначениеПредставление\n",
            "24: Оториноларингология1_ДиагнозПредставление1\n",
            "25: Офтальмология1_Диагноз_Значение\n",
            "26: Офтальмология1_Диагноз_ЗначениеПредставление\n",
            "27: Офтальмология1_ДиагнозПредставление1\n",
            "28: Офтальмология1_ДиагнозПредставление2\n",
            "29: Офтальмология2_Диагноз_Значение\n",
            "30: Офтальмология2_Диагноз_ЗначениеПредставление\n",
            "31: Офтальмология2_ДиагнозПредставление1\n",
            "32: ПроцедурнаяМедсестра1_ДиагнозПредставление1\n",
            "33: ПроцедурнаяМедсестра2_ДиагнозПредставление1\n",
            "34: Психиатрия1_Диагноз_Значение\n",
            "35: Психиатрия1_Диагноз_ЗначениеПредставление\n",
            "36: Психиатрия1_ДиагнозПредставление1\n",
            "37: ПсихиатрияНаркология1_Диагноз_Значение\n",
            "38: ПсихиатрияНаркология1_Диагноз_ЗначениеПредставление\n",
            "39: ПсихиатрияНаркология1_ДиагнозПредставление1\n",
            "40: ПсихиатрияНаркология2_Диагноз_Значение\n",
            "41: ПсихиатрияНаркология2_Диагноз_ЗначениеПредставление\n",
            "42: ПсихиатрияНаркология2_ДиагнозПредставление1\n",
            "43: Рентгенология1_ДиагнозПредставление1\n",
            "44: Стоматология1_Диагноз_Значение\n",
            "45: Стоматология1_Диагноз_ЗначениеПредставление\n",
            "46: Стоматология1_ДиагнозПредставление1\n",
            "47: Стоматология1_ДиагнозПредставление2\n",
            "48: Стоматология1_ДиагнозПредставление3\n",
            "49: Стоматология2_Диагноз_Значение\n",
            "50: Стоматология2_Диагноз_ЗначениеПредставление\n",
            "51: Стоматология2_ДиагнозПредставление1\n",
            "52: Стоматология3_Диагноз_Значение\n",
            "53: Стоматология3_Диагноз_ЗначениеПредставление\n",
            "54: Стоматология3_ДиагнозПредставление1\n",
            "55: Терапия1_Диагноз_Значение\n",
            "56: Терапия1_Диагноз_ЗначениеПредставление\n",
            "57: Терапия1_ДиагнозПредставление1\n",
            "58: Терапия1_ДиагнозПредставление2\n",
            "59: Терапия1_ДиагнозПредставление3\n",
            "60: Терапия2_Диагноз_Значение\n",
            "61: Терапия2_Диагноз_ЗначениеПредставление\n",
            "62: Терапия2_ДиагнозПредставление1\n",
            "63: Терапия3_Диагноз_Значение\n",
            "64: Терапия3_Диагноз_ЗначениеПредставление\n",
            "65: Терапия3_ДиагнозПредставление1\n",
            "66: УЗИДиагностика1_ДиагнозПредставление1\n",
            "67: УЗИДиагностика2_ДиагнозПредставление1\n",
            "68: ФункциональнаяДиагностика1_ДиагнозПредставление1\n",
            "69: Хирургия1_Диагноз_Значение\n",
            "70: Хирургия1_Диагноз_ЗначениеПредставление\n",
            "71: Хирургия1_ДиагнозПредставление1\n",
            "72: Хирургия2_Диагноз_Значение\n",
            "73: Хирургия2_Диагноз_ЗначениеПредставление\n",
            "74: Хирургия2_ДиагнозПредставление1\n"
          ]
        }
      ]
    },
    {
      "cell_type": "code",
      "source": [
        "# 0: Гинекология1_Диагноз_Значение\n",
        "  # 16->3014: i_elem: [N95.2] Постменопаузный атрофический вагинит_x000D_\n",
        "  # 17->3014: i_elem: [Z00.0] Общий медицинский осмотр_x000D_\n",
        "  # 23->3014: i_elem: [N95.1]  Менопауза и климактерические состояния у женщины_x000D_\n",
        "  # 70->3014: i_elem: [D25] Лейомиома матки_x000D_\n",
        "  # 71->3014: i_elem: [Z00.0] Общий медицинский осмотр_x000D_\n",
        "  # 82->3014: i_elem: [N95.1]  Менопауза и климактерические состояния у женщины_x000D_\n",
        "#~~~1: Гинекология1_Диагноз_ЗначениеПредставление\n",
        "  # 16->3014: i_elem: [N95.2] Постменопаузный атрофический вагинит_x000D_\n",
        "  # 17->3014: i_elem: [Z00.0] Общий медицинский осмотр_x000D_\n",
        "  # 23->3014: i_elem: [N95.1]  Менопауза и климактерические состояния у женщины_x000D_\n",
        "# 2: Гинекология1_ДиагнозДополнение_Значение\n",
        "  # 16->3014: i_elem: 1. узи омт 2. обследование и лечение гинеколога\n",
        "  # 23->3014: i_elem: 1.узи омт 2. обследование и лечение гинеколога\n",
        "# 3: Гинекология1_ДиагнозДополнение_ЗначениеПредставление\n",
        "  # 16->3014: i_elem: 1. узи омт 2. обследование и лечение гинеколога\n",
        "  # 23->3014: i_elem: 1.узи омт 2. обследование и лечение гинеколога\n",
        "# 4: Гинекология1_ДиагнозПредставление1\n",
        "  # 17->3014: i_elem: Общий медицинский осмотр\n",
        "  # 24->3014: i_elem: Общий медицинский осмотр\n",
        "# 5: Гинекология1_ДиагнозПредставление2\n",
        "  # 66->3014: i_elem: Миопия\n",
        "  # 389->3014: i_elem: Общий медицинский осмотр\n",
        "\n",
        "#~~~~~~~~~~~~~~~~~~~~~~~~\n",
        "# 136: УЗИДиагностика1_ДиагнозПредставление1\n",
        "  # 21->3014: i_elem: Общий медицинский осмотр\n",
        "  # 22->3014: i_elem: Общий медицинский осмотр\n",
        "  # 33->3014: i_elem: Фиброаденоз молочной железы\n",
        "# 137: УЗИДиагностика1_ДиагнозПредставление2\n",
        "  # 172->3014: i_elem: Киста почки\n",
        "  # 375->3014: i_elem: Общий медицинский осмотр\n",
        "  # 376->3014: i_elem: Общий медицинский осмотр\n",
        "# 138: УЗИДиагностика1_ДиагнозПредставление3\n",
        "  # 389->3014: i_elem: Камни желчного пузыря без холецистита\n",
        "  # 398->3014: i_elem: Камни желчного пузыря без холецистита\n",
        "# 139: УЗИДиагностика1_ДиагнозПредставление4\n",
        "  # 389->3014: i_elem: Камни желчного пузыря без холецистита\n",
        "  # 398->3014: i_elem: Камни желчного пузыря без холецистита\n",
        "# 140: УЗИДиагностика2_ДиагнозПредставление1\n",
        "  # 22->3014: i_elem: Общий медицинский осмотр\n",
        "  # 375->3014: i_elem: Общий медицинский осмотр\n",
        "# 141: УЗИДиагностика2_ДиагнозПредставление2\n",
        "  # 375->3014: i_elem: Общий медицинский осмотр\n",
        "  # 376->3014: i_elem: Общий медицинский осмотр\n",
        "# 142: УЗИДиагностика2_ДиагнозПредставление3\n",
        "  # 389->3014: i_elem: Камни желчного пузыря без холецистита\n",
        "  # 398->3014: i_elem: Камни желчного пузыря без холецистита\n",
        "# 143: УЗИДиагностика2_ДиагнозПредставление4\n",
        "  # 389->3014: i_elem: Камни желчного пузыря без холецистита\n",
        "  # 398->3014: i_elem: Камни желчного пузыря без холецистита\n",
        "# 144: ФункциональнаяДиагностика1_ДиагнозПредставление1\n",
        "  # 141->3014: i_elem: Общий медицинский осмотр\n",
        "  # 145->3014: i_elem: Общий медицинский осмотр\n",
        "\n",
        "#~~~~~~~~~~~~~~~~~~~~~~~~\n",
        "# 153: Хирургия1_Диагноз_Значение\n",
        "  # 26->3014: i_elem: [Z00.0] Общий медицинский осмотр_x000D_\n",
        "  # 27->3014: i_elem: [S68.2] Травматическая ампутация двух и более пальцев кисти (полная) (частичная)_x000D_\n",
        "#~~~154: Хирургия1_Диагноз_ЗначениеПредставление\n",
        "  # 26->3014: i_elem: [Z00.0] Общий медицинский осмотр_x000D_\n",
        "  # 27->3014: i_elem: [S68.2] Травматическая ампутация двух и более пальцев кисти (полная) (частичная)_x000D_\n",
        "# 155: Хирургия1_ДиагнозДополнение_Значение\n",
        "  # 1378->3014: i_elem: расширение вен по поверхности голени.\n",
        "# 156: Хирургия1_ДиагнозДополнение_ЗначениеПредставление\n",
        "  # 1378->3014: i_elem: расширение вен по поверхности голени.\n",
        "# 157: Хирургия1_ДиагнозПредставление1\n",
        "  # 4->3014: i_elem: Общий медицинский осмотр\n",
        "  # 5->3014: i_elem: Общий медицинский осмотр\n",
        "# 158: Хирургия1_ДиагнозПредставление2\n",
        "  # 375->3014: i_elem: Односторонняя или неуточненная паховая грыжа без непроходимости или гангрены\n",
        "  # 378->3014: i_elem: Общий медицинский осмотр\n",
        "\n",
        "#~~~~~~~~~~~~~~~~~~~~~~~~\n",
        "# 159: Хирургия2_Диагноз_Значение\n",
        "  # 89->3014: i_elem: [Z00.0] Общий медицинский осмотр_x000D_\n",
        "  # 375->3014: i_elem: [K40.9] Односторонняя или неуточненная паховая грыжа без непроходимости или гангрены_x000D_\n",
        "#~~~160: Хирургия2_Диагноз_ЗначениеПредставление\n",
        "  # 89->3014: i_elem: [Z00.0] Общий медицинский осмотр_x000D_\n",
        "  # 375->3014: i_elem: [K40.9] Односторонняя или неуточненная паховая грыжа без непроходимости или гангрены_x000D_\n",
        "# 161: Хирургия2_ДиагнозДополнение_Значение\n",
        "# 162: Хирургия2_ДиагнозДополнение_ЗначениеПредставление\n",
        "# 163: Хирургия2_ДиагнозПредставление1\n",
        "# 164: Хирургия2_ДиагнозПредставление2\n",
        "# 165: Хирургия3_Диагноз_Значение\n",
        "# 166: Хирургия3_Диагноз_ЗначениеПредставление\n",
        "# 167: Хирургия3_ДиагнозПредставление1\n",
        "\n",
        "#~~~~~~~~~~~~~~~~~~~~~~~~\n",
        "# 116: Терапия1_Диагноз_Значение\n",
        "  # 523->3014: i_elem: [Z00.0] Общий медицинский осмотр_x000D_\n",
        "  # 586->3014: i_elem: [K29.3] Хронический поверхностный гастрит_x000D_\n",
        "  # 601->3014: i_elem: [K29.8] Дуоденит_x000D_\n",
        "  # 613->3014: i_elem: [I11.9] Гипертензивная [гипертоническая] болезнь с преимущественным поражением сердца без (застойной) сердечной недостаточности_x000D_\n",
        "#~~~117: Терапия1_Диагноз_ЗначениеПредставление\n",
        "  # 523->3014: i_elem: [Z00.0] Общий медицинский осмотр_x000D_\n",
        "  # 586->3014: i_elem: [K29.3] Хронический поверхностный гастрит_x000D_\n",
        "  # 601->3014: i_elem: [K29.8] Дуоденит_x000D_\n",
        "  # 613->3014: i_elem: [I11.9] Гипертензивная [гипертоническая] болезнь с преимущественным поражением сердца без (застойной) сердечной недостаточности_x000D_\n",
        "# 118: Терапия1_ДиагнозПредставление1\n",
        "# 119: Терапия1_ДиагнозПредставление2\n",
        "# 120: Терапия1_ДиагнозПредставление3\n",
        "# 121: Терапия1_ДиагнозПредставление4\n",
        "\n",
        "#~~~~~~~~~~~~~~~~~~~~~~~~\n",
        "# 122: Терапия2_Диагноз_Значение\n",
        "#~~~123: Терапия2_Диагноз_ЗначениеПредставление\n",
        "  # 367->3014: i_elem: [Z00.0] Общий медицинский осмотр_x000D_\n",
        "  # 489->3014: i_elem: [K29.3] Хронический поверхностный гастрит_x000D_\n",
        "  # 527->3014: i_elem: [I11.9] Гипертензивная [гипертоническая] болезнь с преимущественным поражением сердца без (застойной) сердечной недостаточности_x000D_\n",
        "# 124: Терапия2_ДиагнозПредставление1\n",
        "# 125: Терапия2_ДиагнозПредставление2\n",
        "# 126: Терапия2_ДиагнозПредставление3\n",
        "# 127: Терапия2_ДиагнозПредставление4\n",
        "\n",
        "#~~~~~~~~~~~~~~~~~~~~~~~~\n",
        "# 128: Терапия3_Диагноз_Значение\n",
        "#~~~129: Терапия3_Диагноз_ЗначениеПредставление\n",
        "  # 388->3014: i_elem: [I11.9] Гипертензивная [гипертоническая] болезнь с преимущественным поражением сердца без (застойной) сердечной недостаточности_x000D_\n",
        "  # 396->3014: i_elem: [I11.9] Гипертензивная [гипертоническая] болезнь с преимущественным поражением сердца без (застойной) сердечной недостаточности_x000D_\n",
        "  # 425->3014: i_elem: [Z00.0] Общий медицинский осмотр_x000D_\n",
        "# 130: Терапия3_ДиагнозПредставление1\n",
        "# 131: Терапия3_ДиагнозПредставление2\n",
        "\n",
        "#~~~~~~~~~~~~~~~~~~~~~~~~\n",
        "# 132: Терапия4_Диагноз_Значение\n",
        "#~~~133: Терапия4_Диагноз_ЗначениеПредставление\n",
        "  # 388->3014: i_elem: [I11.9] Гипертензивная [гипертоническая] болезнь с преимущественным поражением сердца без (застойной) сердечной недостаточности_x000D_\n",
        "  # 396->3014: i_elem: [I11.9] Гипертензивная [гипертоническая] болезнь с преимущественным поражением сердца без (застойной) сердечной недостаточности_x000D_\n",
        "  # 425->3014: i_elem: [Z00.0] Общий медицинский осмотр_x000D_\n",
        "# 134: Терапия4_ДиагнозПредставление1\n",
        "# 135: Терапия4_ДиагнозПредставление2\n",
        "\n",
        "#~~~~~~~~~~~~~~~~~~~~~~~~\n",
        "# dgns_col = 'Терапия4_Диагноз_ЗначениеПредставление'\n",
        "# col_inx = df1.columns.get_loc(dgns_col)\n",
        "# col_lst = df1.iloc[:, col_inx].tolist()\n",
        "# print(f'df1 число строк: {df1.shape[0]}, dgns_col: {dgns_col}')\n",
        "# # print(f'  len(col_lst): {len(col_lst)}, {col_lst}')\n",
        "# print('~'*50)\n",
        "# # Пробегаем по всем строкам текущей колонки\n",
        "# for i in range(df1.shape[0]):\n",
        "#   i_elem = col_lst[i]\n",
        "#   # print(f'{i}->{df1.shape[0]}: i_elem: {i_elem}')\n",
        "#   # проверяем на nan\n",
        "#   if (i_elem == i_elem):\n",
        "#     # проверяем, что строка не пустая\n",
        "#     if i_elem:\n",
        "#       print(f'{i}->{df1.shape[0]}: i_elem: {i_elem}')"
      ],
      "metadata": {
        "id": "XLkbM3NEPE8L"
      },
      "execution_count": 93,
      "outputs": []
    },
    {
      "cell_type": "markdown",
      "source": [
        "Выбираю колонки с кодом болезни от каждого профильного специалиста, то есть колонки, которые содержат '_Диагноз_ЗначениеПредставление'"
      ],
      "metadata": {
        "id": "Jgh7te4Pmt1Q"
      }
    },
    {
      "cell_type": "code",
      "source": [
        "# Находим все колонки, в которых присутсвует часть названия '_Диагноз'\n",
        "fragment_str = '_Диагноз_ЗначениеПредставление'\n",
        "# diagnosis\n",
        "dgns_cols = getColNamesByFragmentName(fragment_str)\n",
        "# Сортируем список\n",
        "dgns_cols.sort()\n",
        "\n",
        "print(f'Число колонок, содержащих \"{fragment_str}\": {len(dgns_cols)}')\n",
        "print('-'*50)\n",
        "for i in range(len(dgns_cols)):\n",
        "  print(f'{i}: {dgns_cols[i]}')"
      ],
      "metadata": {
        "colab": {
          "base_uri": "https://localhost:8080/"
        },
        "id": "op7H75rwnnU-",
        "outputId": "2c270199-aa55-4c0d-a57d-41cbfde9842c"
      },
      "execution_count": 94,
      "outputs": [
        {
          "output_type": "stream",
          "name": "stdout",
          "text": [
            "Число колонок, содержащих \"_Диагноз_ЗначениеПредставление\": 20\n",
            "--------------------------------------------------\n",
            "0: Гинекология1_Диагноз_ЗначениеПредставление\n",
            "1: Гинекология2_Диагноз_ЗначениеПредставление\n",
            "2: Дерматовенерология1_Диагноз_ЗначениеПредставление\n",
            "3: Дерматовенерология2_Диагноз_ЗначениеПредставление\n",
            "4: Неврология1_Диагноз_ЗначениеПредставление\n",
            "5: Неврология2_Диагноз_ЗначениеПредставление\n",
            "6: Оториноларингология1_Диагноз_ЗначениеПредставление\n",
            "7: Офтальмология1_Диагноз_ЗначениеПредставление\n",
            "8: Офтальмология2_Диагноз_ЗначениеПредставление\n",
            "9: Психиатрия1_Диагноз_ЗначениеПредставление\n",
            "10: ПсихиатрияНаркология1_Диагноз_ЗначениеПредставление\n",
            "11: ПсихиатрияНаркология2_Диагноз_ЗначениеПредставление\n",
            "12: Стоматология1_Диагноз_ЗначениеПредставление\n",
            "13: Стоматология2_Диагноз_ЗначениеПредставление\n",
            "14: Стоматология3_Диагноз_ЗначениеПредставление\n",
            "15: Терапия1_Диагноз_ЗначениеПредставление\n",
            "16: Терапия2_Диагноз_ЗначениеПредставление\n",
            "17: Терапия3_Диагноз_ЗначениеПредставление\n",
            "18: Хирургия1_Диагноз_ЗначениеПредставление\n",
            "19: Хирургия2_Диагноз_ЗначениеПредставление\n"
          ]
        }
      ]
    },
    {
      "cell_type": "markdown",
      "source": [
        "Объединяю МКБ-коды профильных врачей в одну колонку: врач1,врач2,врач3,врач4.\n",
        "\n",
        "Формирую список по каждому профильному специалисту из кодов МКБ:\n",
        "Гинекология1_Диагноз_ЗначениеПредставление: 23->3014: i_elem: [N95.1]  Менопауза и климактерические состояния у женщины_x000D_\n",
        "Гинекология1_Диагноз_ЗначениеПредставление: 24->3014: i_elem: [Z00.0] Общий медицинский осмотр_x000D_\n",
        "Гинекология1_Диагноз_ЗначениеПредставление: 25->3014: i_elem: [N86] Эрозия и эктропион шейки матки_x000D_\n",
        "\n",
        "Для пустых значений(nan) резервирую код: MKB_NAN.\n",
        "Также кодом MKB_NAN отмечаю значения, которые не промаркированы, кодом МКБ, например:\n",
        "'Гинекология1_Диагноз_ЗначениеПредставление':\n",
        "'МЕНЗИС', 'мензис_x000D_\\n'\n",
        "\n",
        "Массив уникальных значений кодов МКБ считаю категориальным."
      ],
      "metadata": {
        "id": "OA3jeBKfItUd"
      }
    },
    {
      "cell_type": "code",
      "source": [
        "#~~~~~~~~~~~~~~~~~~~~~~~~\n",
        "# Объединение кодов МКБ врач1,врач2,врач3,врач4 в одну колонку\n",
        "# mkb diagnosis\n",
        "#~~~~~~~~~~~~~~~~~~~~~~~~\n",
        "def mkb_diagnosis1234_merge(col_names_lst):\n",
        "  '''\n",
        "    Объединение врач1,врач2,врач3,врач4 в одну колонку\n",
        "    вход:\n",
        "        col_names_lst: список названий колонок для объединения\n",
        "    выход:\n",
        "        retVal: список mkb-кодов, для пустых значений(nan) резервирую код: MKB_NAN\n",
        "  '''\n",
        "  retVal = list()\n",
        "  retVal = [''] * df1.shape[0]\n",
        "\n",
        "  # print(f'df1 число строк : {df1.shape[0]}')\n",
        "  # print(f'df1 число столбцов : {df1.shape[1]}')\n",
        "  # print(f'{len(col_names_lst)} : {col_names_lst}')\n",
        "  # print(f'{len(retVal)} : {retVal}')\n",
        "\n",
        "  for j in range(len(col_names_lst)):\n",
        "    # print(f'{j}: {col_names_lst[j]}')\n",
        "    col_inx = df1.columns.get_loc(col_names_lst[j])\n",
        "    col_lst = df1.iloc[:, col_inx].tolist()\n",
        "    # пробегаемся по всем строкам колонки\n",
        "    for i in range(df1.shape[0]):\n",
        "      i_elem = col_lst[i]\n",
        "      # print(f'{col_names_lst[j]}: {i}->{df1.shape[0]}: i_elem: {i_elem}')\n",
        "      # проверяем на nan\n",
        "      if (i_elem == i_elem):\n",
        "        # проверяем, что строка не пустая\n",
        "        if i_elem:\n",
        "          # Гинекология1_Диагноз_ЗначениеПредставление: 0->3014: i_elem: [Z00.0] Общий медицинский осмотр_x000D_\n",
        "          # Гинекология1_Диагноз_ЗначениеПредставление: 16->3014: i_elem: [N95.2] Постменопаузный атрофический вагинит_x000D_\n",
        "          # находим позиции скобок [Z00.0], если их нет, например как в'МЕНЗИС', 'мензис_x000D_\\n',\n",
        "          # то обозначаю кодом `MKB_NAN`, как пустую строку.\n",
        "          if \"[\" in i_elem and \"]\" in i_elem:\n",
        "            mkb_start = i_elem.find(\"[\") + 1\n",
        "            mkb_end = i_elem.find(\"]\")\n",
        "            mkb_dgns = i_elem[mkb_start:mkb_end]\n",
        "            # print(f'  mkb_dgns: `{mkb_dgns}`')\n",
        "            #~~~\n",
        "            if \"\" == retVal[i]:\n",
        "              retVal[i] = mkb_dgns\n",
        "            elif not (mkb_dgns in retVal[i]):\n",
        "              retVal[i] += ',' + mkb_dgns\n",
        "              # print(f'{j}: составной МКБ: {retVal[i]}')\n",
        "\n",
        "  # пробегаемся по всем элементам списка, если пустая строка,\n",
        "  # то присваиваю значение 'MKB_NAN'\n",
        "  for i in range(len(retVal)):\n",
        "    if \"\" == retVal[i]:\n",
        "      retVal[i] = 'MKB_NAN'\n",
        "\n",
        "  return retVal"
      ],
      "metadata": {
        "id": "3cTZcq-gZzw0"
      },
      "execution_count": 95,
      "outputs": []
    },
    {
      "cell_type": "code",
      "source": [
        "#~~~~~~~~~~~~~~~~~~~~~~~~\n",
        "# Получение списка уникальных значений кодов МКБ по профильным специалистам:\n",
        "# врач1,врач2,врач3,врач4\n",
        "#~~~~~~~~~~~~~~~~~~~~~~~~\n",
        "def umkb_diagnosis1234(mkb1234_lst):\n",
        "  '''\n",
        "    Получение списка уникальных значений кодов МКБ по профильным специалистам:\n",
        "    врач1,врач2,врач3,врач4\n",
        "    вход:\n",
        "        mkb1234_lst: объединенный список кодов МКБ по профильным специалистам\n",
        "    выход:\n",
        "        retVal: список mkb-кодов, для пустых значений(nan) резервирую код: MKB_NAN\n",
        "  '''\n",
        "  retVal = list()\n",
        "\n",
        "  unzip_lst1 = list()\n",
        "  for i in range(len(mkb1234_lst)):\n",
        "    elem_lst = comma_string_split(mkb1234_lst[i])\n",
        "    # print(f'{i}->{len(mkb1234_lst)}: mkb1234_lst[i]: {mkb1234_lst[i]} -> elem_lst: {elem_lst}')\n",
        "    if len(elem_lst) > 0:\n",
        "      for j in range(len(elem_lst)):\n",
        "        #~~~~~~~\n",
        "        if 0 == len(retVal):\n",
        "          if 'MKB_NAN' == elem_lst[j]:\n",
        "            retVal.append('MKB_NAN')\n",
        "        #~~~~~~~\n",
        "        unzip_lst1.append(elem_lst[j])\n",
        "\n",
        "  sort_lst2 = sorted(unzip_lst1)\n",
        "\n",
        "  for i in range(len(sort_lst2)):\n",
        "    if not (sort_lst2[i] in retVal):\n",
        "      retVal.append(sort_lst2[i])\n",
        "\n",
        "  return retVal"
      ],
      "metadata": {
        "id": "tv9DBsYSqtZL"
      },
      "execution_count": 96,
      "outputs": []
    },
    {
      "cell_type": "code",
      "source": [
        "print(f'список колонок для объединения: {len(dgns_cols)}: {dgns_cols}')\n",
        "\n",
        "dgns_mkb_lst = mkb_diagnosis1234_merge(dgns_cols)\n",
        "print(f'объединенный список (врач1,врач2,врач3,врач4): {len(dgns_mkb_lst)}: {dgns_mkb_lst}')\n",
        "\n",
        "umkb_dgns_lst = umkb_diagnosis1234(dgns_mkb_lst)\n",
        "print(f'список уникальных значений: {len(umkb_dgns_lst)}: {umkb_dgns_lst}')\n",
        "\n",
        "# # создаем numpy массив integer из нулей, число элементов равно числу строк нашего data frame\n",
        "# i_arr = np.zeros(df1.shape[0], dtype=int)\n",
        "# print('Количество осей: ',i_arr.ndim)\n",
        "# print('Форма массива: ',i_arr.shape)\n",
        "# print('Количество значений: ',i_arr.size)\n",
        "\n",
        "# # Считаю umkb_dgns_lst -> массивом категориальных значений\n",
        "# # Заполняю массив категориальными индексами\n",
        "# for i in range(len(dgns_mkb_lst)):\n",
        "#   i_arr[i] = umkb_dgns_lst.index(dgns_mkb_lst[i])\n",
        "#   print(f'{i}->{len(dgns_mkb_lst)}: {dgns_mkb_lst[i]} -> {i_arr[i]}')\n",
        "\n",
        "# # Преобразование массива в формат one_hot_encoding (3-класса)\n",
        "# i_arr2 = utils.to_categorical(i_arr, 3)\n",
        "# ohe_lst2 = i_arr2.astype(int).tolist()\n",
        "# # добавляем новую колонку 'ЗаключениеМКК' в DataFrame 'df1' из массива 'ohe_lst2'\n",
        "# df1 = df1.assign(ЗаключениеМКК=ohe_lst2)\n",
        "\n",
        "# # создаем новый датафрейм, в который будем заносить колонки для обучения нейросети\n",
        "# # и копируем колонку 'ЗаключениеМКК' в новый дата фрэйм\n",
        "# df2 = df1[['ЗаключениеМКК']].copy()\n",
        "# print(f'размеры датафрейма: df1: {df1.shape}, df2: {df2.shape}')\n",
        "# df2.head(3)\n"
      ],
      "metadata": {
        "id": "ZuZTz9f2po5N",
        "colab": {
          "base_uri": "https://localhost:8080/"
        },
        "outputId": "3ed1caef-1e4c-47ad-883b-601c966b1330"
      },
      "execution_count": 98,
      "outputs": [
        {
          "output_type": "stream",
          "name": "stdout",
          "text": [
            "список колонок для объединения: 20: ['Гинекология1_Диагноз_ЗначениеПредставление', 'Гинекология2_Диагноз_ЗначениеПредставление', 'Дерматовенерология1_Диагноз_ЗначениеПредставление', 'Дерматовенерология2_Диагноз_ЗначениеПредставление', 'Неврология1_Диагноз_ЗначениеПредставление', 'Неврология2_Диагноз_ЗначениеПредставление', 'Оториноларингология1_Диагноз_ЗначениеПредставление', 'Офтальмология1_Диагноз_ЗначениеПредставление', 'Офтальмология2_Диагноз_ЗначениеПредставление', 'Психиатрия1_Диагноз_ЗначениеПредставление', 'ПсихиатрияНаркология1_Диагноз_ЗначениеПредставление', 'ПсихиатрияНаркология2_Диагноз_ЗначениеПредставление', 'Стоматология1_Диагноз_ЗначениеПредставление', 'Стоматология2_Диагноз_ЗначениеПредставление', 'Стоматология3_Диагноз_ЗначениеПредставление', 'Терапия1_Диагноз_ЗначениеПредставление', 'Терапия2_Диагноз_ЗначениеПредставление', 'Терапия3_Диагноз_ЗначениеПредставление', 'Хирургия1_Диагноз_ЗначениеПредставление', 'Хирургия2_Диагноз_ЗначениеПредставление']\n",
            "объединенный список (врач1,врач2,врач3,врач4): 249: ['MKB_NAN', 'MKB_NAN', 'MKB_NAN', 'MKB_NAN', 'MKB_NAN', 'MKB_NAN', 'MKB_NAN', 'MKB_NAN', 'MKB_NAN', 'MKB_NAN', 'MKB_NAN', 'MKB_NAN', 'MKB_NAN', 'MKB_NAN', 'MKB_NAN', 'MKB_NAN', 'MKB_NAN', 'N84.1,Z00.0', 'Z00.0,K04.5', 'Z00.0', 'B36.0,Z00.0,I11.9', 'Z00.0,H52.1', 'Z00.0,H52.1', 'Z00.0,H52.2', 'Z00.0,H52.2', 'Z00.0', 'Z00.0,H52.1', 'Z00.0,H52.1', 'Z00.0', 'N95.2,Z00.0', 'Z00.0,H52.2', 'N95.1,Z00.0,I11.9', 'Z00.0,H52.1', 'N95.1,Z00.0,I11.9', 'Z00.0,H26.9,K08.9', 'N95.1,Z00.0,K04.5', 'Z00.0,K02.1', 'Z00.0,K05.3', 'Z00.0,K05.3', 'Z00.0,F06.8,K04.5', 'Z00.0,K02.1', 'N95.2,Z00.0,I11.9', 'Z00.0', 'Z00.0,H52.1', 'N81.2,Z00.0,I11.9', 'L80,Z00.0,H52.1,I11.9', 'Z00.0', 'Z00.0', 'Z00.0', 'N92.6,Z00.0,K05.3', 'Z00.0,K29.5', 'D25.9,Z00.0', 'Z00.0,H52.1', 'Z00.0,K29.5', 'Z00.0', 'Z00.0,H52.1', 'Z00.0,K04.5', 'D25.9,Z00.0,I20.9', 'Z00.0,K02.1', 'Z00.0,H52.1', 'Z00.0,H52.0,I11.9', 'Z00.0,K08.8,I11.9', 'Z00.0,I11.9', 'Z00.0', 'Z00.0,H52.2,F06.8', 'Z00.0,F06.6', 'Z00.0,T90.4', 'MKB_NAN', 'Z00.0,K29.5', 'Z00.0,H52.2,K29.5', 'Z00.0', 'Z00.0', 'Z00.0,H52.0', 'Z00.0', 'Z00.0,H52.0', 'Z00.0,H52.0', 'Z00.0,H52.0', 'Z00.0,K04.5', 'Z00.0,I10,I11.9', 'Z00.0,K05.3', 'Z00.0,I20.9,G90.8', 'Z00.0,H52.1,K04.5', 'Z00.0', 'Z00.0,H52.2', 'Z00.0,H52.1,K05.3', 'Z00.0,F06.6,K04.5', 'Z00.0,F71.0,K40.9', 'N95.1,Z00.0,H52.4,I49.8', 'Z00.0,H52.1,I10', 'N95.1,Z00.0,H52.4,F06.9', 'MKB_NAN', 'MKB_NAN', 'MKB_NAN', 'Z00.0', 'N70.9,Z00.0', 'N86,Z00.0', 'G40.1,F06.8,Z00.0', 'Z00.0,H52.1', 'Z00.0,H52.0,E14.9', 'Z00.0,H90.6,K04.5', 'Z00.0', 'Z00.0,F06.6,K02.1', 'Z00.0,H52.1', 'Z00.0,H52.1,K05.3', 'Z00.0,F20.0', 'Z00.0', 'Z00.0', 'Z00.0', 'Z00.0', 'Z00.0,H52.1', 'Z00.0', 'D25.9,Z00.0', 'Z00.0', 'Z00.0,H52.1', 'Z00.0,H52.1', 'Z00.0,H52.1,I10,K40.9', 'Z00.0', 'Z00.0,H11.0', 'Z00.0,H40.0,I11.9', 'Z00.0', 'Z00.0,H52.1', 'Z00.0,H52.1,I11.9', 'Z00.0', 'Z00.0,H90.4', 'Z00.0', 'Z00.0,H52.1,K29.7', 'Z00.0,H52.2,K29.5', 'Z00.0', 'Z00.0,F10.2', 'Z00.0', 'Z00.0,H53.0,K04.5', 'Z00.0,H52.0,I11.9', 'Z00.0', 'Z00.0,H52.2', 'Z00.0,H52.2,I11.9', 'Z00.0,H50.0,I11.9', 'Z00.0,H52.1', 'N95.1,Z00.0', 'N95.1,Z00.0', 'Z00.0', 'N95.1,Z00.0', 'Z00.0', 'N95.1,Z00.0', 'Z00.0,I11.9', 'Z00.0', 'Z00.0', 'Z00.0', 'Z00.0,K04.5', 'Z00.0,K05.3', 'Z00.0,I11.9', 'Z00.0', 'Z00.0,H52.1', 'Z00.0', 'Z00.0,H52.1', 'N95.2,Z00.0,I11.9', 'Z00.0,H52.0,K29.5', 'N89.8,Z00.0,H52.1,K29.5', 'Z00.0,I67.4,H52.0,I11.9', 'Z00.0', 'Z00.0', 'Z00.0', 'Z00.0,K02.1', 'Z00.0', 'Z00.0', 'Z00.0', 'Z00.0', 'Z00.0,H52.1', 'Z00.0', 'Z00.0', 'N70.9,Z00.0,H27.0,E14.9', 'D25.9,Z00.0,H52.1', 'N86,Z00.0', 'Z00.0', 'Z00.0,H52.1', 'N95.2,Z00.0,H52.0', 'Z00.0,H52.0,I11.9', 'Z00.0,H52.2', 'N86,Z00.0', 'Z00.0,H52.0', 'Z00.0,H52.1,K29.5', 'Z00.0', 'Z00.0,H52.1', 'Z00.0', 'Z00.0', 'Z00.0,H66.9', 'Z00.0,H73.9', 'N86,Z00.0,K02.1', 'Z00.0', 'Z00.0,K05.3,I11.9', 'Z00.0', 'N95.1,Z00.0,H52.1', 'Z00.0,K02.1', 'N95.1,Z00.0,K04.5,I11.9', 'Z00.0', 'Z00.0,K02.1', 'Z00.0,H52.1', 'Z00.0,K04.5,I11.9', 'Z00.0,H52.1', 'Z00.0', 'Z00.0', 'N95.1,Z00.0,K02.1,I11.9', 'Z00.0,H52.1', 'Z00.0', 'Z00.0', 'Z00.0', 'Z00.0', 'MKB_NAN', 'Z00.0', 'Z00.0,K02.1', 'MKB_NAN', 'MKB_NAN', 'MKB_NAN', 'MKB_NAN', 'MKB_NAN', 'MKB_NAN', 'MKB_NAN', 'MKB_NAN', 'MKB_NAN', 'MKB_NAN', 'MKB_NAN', 'MKB_NAN', 'MKB_NAN', 'MKB_NAN', 'MKB_NAN', 'MKB_NAN', 'MKB_NAN', 'MKB_NAN', 'MKB_NAN', 'MKB_NAN', 'MKB_NAN', 'MKB_NAN', 'MKB_NAN', 'MKB_NAN', 'MKB_NAN', 'MKB_NAN', 'MKB_NAN', 'MKB_NAN', 'MKB_NAN', 'MKB_NAN', 'MKB_NAN', 'MKB_NAN', 'MKB_NAN', 'MKB_NAN', 'MKB_NAN', 'MKB_NAN', 'MKB_NAN', 'MKB_NAN', 'MKB_NAN', 'Z00.0,I11.9']\n",
            "список уникальных значений: 50: ['MKB_NAN', 'B36.0', 'D25.9', 'E14.9', 'F06.6', 'F06.8', 'F06.9', 'F10.2', 'F20.0', 'F71.0', 'G40.1', 'G90.8', 'H11.0', 'H26.9', 'H27.0', 'H40.0', 'H50.0', 'H52.0', 'H52.1', 'H52.2', 'H52.4', 'H53.0', 'H66.9', 'H73.9', 'H90.4', 'H90.6', 'I10', 'I11.9', 'I20.9', 'I49.8', 'I67.4', 'K02.1', 'K04.5', 'K05.3', 'K08.8', 'K08.9', 'K29.5', 'K29.7', 'K40.9', 'L80', 'N70.9', 'N81.2', 'N84.1', 'N86', 'N89.8', 'N92.6', 'N95.1', 'N95.2', 'T90.4', 'Z00.0']\n"
          ]
        }
      ]
    },
    {
      "cell_type": "code",
      "source": [
        "#~~~~~~~~~~~~~~~~~~~~~~~~\n",
        "#multi_hot_encoding\n",
        "dgns_mhe_lst = list()\n",
        "\n",
        "# число классов\n",
        "dgns_class_count = len(umkb_dgns_lst)\n",
        "print(f'диагнозы: число классов: {dgns_class_count}')\n",
        "\n",
        "# пробегаемся по всем элементам списка dgns_mkb_lst\n",
        "nan_inx = 0\n",
        "for i in range(len(dgns_mkb_lst)):\n",
        "  i_mhe_lst = [0] * dgns_class_count\n",
        "  i_elem = dgns_mkb_lst[i]\n",
        "  # print(f'{i}->{len(dgns_mkb_lst)}: i_elem: {i_elem}')\n",
        "  #расщепляем по запятым\n",
        "  elem_lst = comma_string_split(i_elem)\n",
        "  if len(elem_lst) > 0:\n",
        "    for elem1_lst in elem_lst:\n",
        "      # проверяем, есть ли этот элемент в списке уникальных\n",
        "      if elem1_lst in umkb_dgns_lst:\n",
        "        inx = umkb_dgns_lst.index(elem1_lst)\n",
        "        i_mhe_lst[inx] = 1\n",
        "      else:\n",
        "        i_mhe_lst[nan_inx] = 1\n",
        "  else:\n",
        "    i_mhe_lst[nan_inx] = 1\n",
        "  # добавляю в массив mhe\n",
        "  dgns_mhe_lst.append(i_mhe_lst)\n",
        "\n",
        "# print(f'{len(umkb_dgns_lst)}: umkb_dgns_lst: {umkb_dgns_lst}')\n",
        "# print(f'dgns_class_count: {dgns_class_count}')\n",
        "# print(f'{len(dgns_mhe_lst)}: dgns_mhe_lst: {dgns_mhe_lst}')\n",
        "\n",
        "# добавляем новую колонку 'ДиагнозМКБ' в 'df2'\n",
        "df2 = df2.assign(ДиагнозМКБ=dgns_mhe_lst)\n",
        "\n",
        "del dgns_mhe_lst\n",
        "\n",
        "print(f'размеры датафрейма: df1: {df1.shape}, df2: {df2.shape}')\n",
        "df2.head(3)"
      ],
      "metadata": {
        "colab": {
          "base_uri": "https://localhost:8080/",
          "height": 178
        },
        "id": "U4ZrZfVn_7GD",
        "outputId": "286dc8bd-74fb-4de0-f4a0-b7f5b5fccb16"
      },
      "execution_count": 99,
      "outputs": [
        {
          "output_type": "stream",
          "name": "stdout",
          "text": [
            "диагнозы: число классов: 50\n",
            "размеры датафрейма: df1: (249, 191), df2: (249, 6)\n"
          ]
        },
        {
          "output_type": "execute_result",
          "data": {
            "text/plain": [
              "  ЗаключениеМКК                            Возраст  КлиентПол  \\\n",
              "0     [0, 0, 1]  [0, 0, 0, 0, 0, 1, 0, 0, 0, 0, 0]          1   \n",
              "1     [0, 0, 1]  [0, 0, 0, 0, 1, 0, 0, 0, 0, 0, 0]          1   \n",
              "2     [0, 0, 1]  [0, 0, 0, 0, 0, 1, 0, 0, 0, 0, 0]          1   \n",
              "\n",
              "                                     ВредныеФакторы           МКБ  \\\n",
              "0  [1, 1, 1, 1, 1, 0, 0, 0, 0, 0, 0, 0, 0, 0, 0, 0]  [0, 0, 0, 1]   \n",
              "1  [1, 1, 1, 1, 1, 0, 0, 0, 0, 0, 0, 0, 0, 0, 0, 0]  [0, 0, 0, 1]   \n",
              "2  [1, 1, 1, 1, 1, 0, 0, 0, 0, 0, 0, 0, 0, 0, 0, 0]  [0, 0, 0, 1]   \n",
              "\n",
              "                                          ДиагнозМКБ  \n",
              "0  [1, 0, 0, 0, 0, 0, 0, 0, 0, 0, 0, 0, 0, 0, 0, ...  \n",
              "1  [1, 0, 0, 0, 0, 0, 0, 0, 0, 0, 0, 0, 0, 0, 0, ...  \n",
              "2  [1, 0, 0, 0, 0, 0, 0, 0, 0, 0, 0, 0, 0, 0, 0, ...  "
            ],
            "text/html": [
              "\n",
              "  <div id=\"df-c5fe5b9f-4ed1-491b-ad80-cf6148ab7b36\">\n",
              "    <div class=\"colab-df-container\">\n",
              "      <div>\n",
              "<style scoped>\n",
              "    .dataframe tbody tr th:only-of-type {\n",
              "        vertical-align: middle;\n",
              "    }\n",
              "\n",
              "    .dataframe tbody tr th {\n",
              "        vertical-align: top;\n",
              "    }\n",
              "\n",
              "    .dataframe thead th {\n",
              "        text-align: right;\n",
              "    }\n",
              "</style>\n",
              "<table border=\"1\" class=\"dataframe\">\n",
              "  <thead>\n",
              "    <tr style=\"text-align: right;\">\n",
              "      <th></th>\n",
              "      <th>ЗаключениеМКК</th>\n",
              "      <th>Возраст</th>\n",
              "      <th>КлиентПол</th>\n",
              "      <th>ВредныеФакторы</th>\n",
              "      <th>МКБ</th>\n",
              "      <th>ДиагнозМКБ</th>\n",
              "    </tr>\n",
              "  </thead>\n",
              "  <tbody>\n",
              "    <tr>\n",
              "      <th>0</th>\n",
              "      <td>[0, 0, 1]</td>\n",
              "      <td>[0, 0, 0, 0, 0, 1, 0, 0, 0, 0, 0]</td>\n",
              "      <td>1</td>\n",
              "      <td>[1, 1, 1, 1, 1, 0, 0, 0, 0, 0, 0, 0, 0, 0, 0, 0]</td>\n",
              "      <td>[0, 0, 0, 1]</td>\n",
              "      <td>[1, 0, 0, 0, 0, 0, 0, 0, 0, 0, 0, 0, 0, 0, 0, ...</td>\n",
              "    </tr>\n",
              "    <tr>\n",
              "      <th>1</th>\n",
              "      <td>[0, 0, 1]</td>\n",
              "      <td>[0, 0, 0, 0, 1, 0, 0, 0, 0, 0, 0]</td>\n",
              "      <td>1</td>\n",
              "      <td>[1, 1, 1, 1, 1, 0, 0, 0, 0, 0, 0, 0, 0, 0, 0, 0]</td>\n",
              "      <td>[0, 0, 0, 1]</td>\n",
              "      <td>[1, 0, 0, 0, 0, 0, 0, 0, 0, 0, 0, 0, 0, 0, 0, ...</td>\n",
              "    </tr>\n",
              "    <tr>\n",
              "      <th>2</th>\n",
              "      <td>[0, 0, 1]</td>\n",
              "      <td>[0, 0, 0, 0, 0, 1, 0, 0, 0, 0, 0]</td>\n",
              "      <td>1</td>\n",
              "      <td>[1, 1, 1, 1, 1, 0, 0, 0, 0, 0, 0, 0, 0, 0, 0, 0]</td>\n",
              "      <td>[0, 0, 0, 1]</td>\n",
              "      <td>[1, 0, 0, 0, 0, 0, 0, 0, 0, 0, 0, 0, 0, 0, 0, ...</td>\n",
              "    </tr>\n",
              "  </tbody>\n",
              "</table>\n",
              "</div>\n",
              "      <button class=\"colab-df-convert\" onclick=\"convertToInteractive('df-c5fe5b9f-4ed1-491b-ad80-cf6148ab7b36')\"\n",
              "              title=\"Convert this dataframe to an interactive table.\"\n",
              "              style=\"display:none;\">\n",
              "        \n",
              "  <svg xmlns=\"http://www.w3.org/2000/svg\" height=\"24px\"viewBox=\"0 0 24 24\"\n",
              "       width=\"24px\">\n",
              "    <path d=\"M0 0h24v24H0V0z\" fill=\"none\"/>\n",
              "    <path d=\"M18.56 5.44l.94 2.06.94-2.06 2.06-.94-2.06-.94-.94-2.06-.94 2.06-2.06.94zm-11 1L8.5 8.5l.94-2.06 2.06-.94-2.06-.94L8.5 2.5l-.94 2.06-2.06.94zm10 10l.94 2.06.94-2.06 2.06-.94-2.06-.94-.94-2.06-.94 2.06-2.06.94z\"/><path d=\"M17.41 7.96l-1.37-1.37c-.4-.4-.92-.59-1.43-.59-.52 0-1.04.2-1.43.59L10.3 9.45l-7.72 7.72c-.78.78-.78 2.05 0 2.83L4 21.41c.39.39.9.59 1.41.59.51 0 1.02-.2 1.41-.59l7.78-7.78 2.81-2.81c.8-.78.8-2.07 0-2.86zM5.41 20L4 18.59l7.72-7.72 1.47 1.35L5.41 20z\"/>\n",
              "  </svg>\n",
              "      </button>\n",
              "      \n",
              "  <style>\n",
              "    .colab-df-container {\n",
              "      display:flex;\n",
              "      flex-wrap:wrap;\n",
              "      gap: 12px;\n",
              "    }\n",
              "\n",
              "    .colab-df-convert {\n",
              "      background-color: #E8F0FE;\n",
              "      border: none;\n",
              "      border-radius: 50%;\n",
              "      cursor: pointer;\n",
              "      display: none;\n",
              "      fill: #1967D2;\n",
              "      height: 32px;\n",
              "      padding: 0 0 0 0;\n",
              "      width: 32px;\n",
              "    }\n",
              "\n",
              "    .colab-df-convert:hover {\n",
              "      background-color: #E2EBFA;\n",
              "      box-shadow: 0px 1px 2px rgba(60, 64, 67, 0.3), 0px 1px 3px 1px rgba(60, 64, 67, 0.15);\n",
              "      fill: #174EA6;\n",
              "    }\n",
              "\n",
              "    [theme=dark] .colab-df-convert {\n",
              "      background-color: #3B4455;\n",
              "      fill: #D2E3FC;\n",
              "    }\n",
              "\n",
              "    [theme=dark] .colab-df-convert:hover {\n",
              "      background-color: #434B5C;\n",
              "      box-shadow: 0px 1px 3px 1px rgba(0, 0, 0, 0.15);\n",
              "      filter: drop-shadow(0px 1px 2px rgba(0, 0, 0, 0.3));\n",
              "      fill: #FFFFFF;\n",
              "    }\n",
              "  </style>\n",
              "\n",
              "      <script>\n",
              "        const buttonEl =\n",
              "          document.querySelector('#df-c5fe5b9f-4ed1-491b-ad80-cf6148ab7b36 button.colab-df-convert');\n",
              "        buttonEl.style.display =\n",
              "          google.colab.kernel.accessAllowed ? 'block' : 'none';\n",
              "\n",
              "        async function convertToInteractive(key) {\n",
              "          const element = document.querySelector('#df-c5fe5b9f-4ed1-491b-ad80-cf6148ab7b36');\n",
              "          const dataTable =\n",
              "            await google.colab.kernel.invokeFunction('convertToInteractive',\n",
              "                                                     [key], {});\n",
              "          if (!dataTable) return;\n",
              "\n",
              "          const docLinkHtml = 'Like what you see? Visit the ' +\n",
              "            '<a target=\"_blank\" href=https://colab.research.google.com/notebooks/data_table.ipynb>data table notebook</a>'\n",
              "            + ' to learn more about interactive tables.';\n",
              "          element.innerHTML = '';\n",
              "          dataTable['output_type'] = 'display_data';\n",
              "          await google.colab.output.renderOutput(dataTable, element);\n",
              "          const docLink = document.createElement('div');\n",
              "          docLink.innerHTML = docLinkHtml;\n",
              "          element.appendChild(docLink);\n",
              "        }\n",
              "      </script>\n",
              "    </div>\n",
              "  </div>\n",
              "  "
            ]
          },
          "metadata": {},
          "execution_count": 99
        }
      ]
    },
    {
      "cell_type": "code",
      "source": [
        "del gender_arr\n",
        "del dgns_cols"
      ],
      "metadata": {
        "id": "XVmSYZ7MMP5h"
      },
      "execution_count": 100,
      "outputs": []
    },
    {
      "cell_type": "markdown",
      "source": [
        "# Числовые признаки"
      ],
      "metadata": {
        "id": "70r2sOfD-GAM"
      }
    },
    {
      "cell_type": "markdown",
      "source": [
        "## Определяем числовые колонки"
      ],
      "metadata": {
        "id": "X9F3GByj_SGU"
      }
    },
    {
      "cell_type": "code",
      "source": [
        "float_cols = list(df1.select_dtypes(include=['float64']).columns)\n",
        "float_cols_count = len(float_cols)\n",
        "\n",
        "print(f'Колоноки типа float: {float_cols_count}')\n",
        "# for i in range(float_cols_count):\n",
        "#   print(f'{i}: {float_cols[i]}')"
      ],
      "metadata": {
        "colab": {
          "base_uri": "https://localhost:8080/"
        },
        "id": "R4HwfQZRAtst",
        "outputId": "3b4bc2f1-2395-413d-e13d-a2f84329a331"
      },
      "execution_count": 101,
      "outputs": [
        {
          "output_type": "stream",
          "name": "stdout",
          "text": [
            "Колоноки типа float: 0\n"
          ]
        }
      ]
    },
    {
      "cell_type": "markdown",
      "source": [
        "## Артериальное давление"
      ],
      "metadata": {
        "id": "m9m4niPGFQsy"
      }
    },
    {
      "cell_type": "markdown",
      "source": [
        "2023.05.08 - _Артер\n",
        "\n",
        "2023.06.26 - нет такого поля"
      ],
      "metadata": {
        "id": "89eupCvTvgv1"
      }
    },
    {
      "cell_type": "code",
      "source": [
        "# # Находим все колонки, в которых присутсвует часть названия '_Артер'(АртериальноеДавление)\n",
        "# fragment_str = '_Артер'\n",
        "# # Arterial pressure\n",
        "# digit_cols = getColNamesByFragmentName(fragment_str)\n",
        "# print(f'Число колонок, содержащих \"{fragment_str}\": {len(digit_cols)}')"
      ],
      "metadata": {
        "id": "SNFyHCf5EIWp"
      },
      "execution_count": 102,
      "outputs": []
    },
    {
      "cell_type": "code",
      "source": [
        "# # пробегаемся по всем строкам колонок и заполняем словарь\n",
        "# for dig_col in digit_cols:\n",
        "#   col_inx = df1.columns.get_loc(dig_col)\n",
        "#   col_lst = df1.iloc[:, col_inx].tolist()\n",
        "\n",
        "#   # print(f'dig_col: {dig_col}')\n",
        "#   # print(f'  len(col_lst): {len(col_lst)}: col_lst: {col_lst}')\n",
        "\n",
        "#   # Терапия1_АртериальноеДавление_Значение\n",
        "#   #   len(col_lst): 1571: col_lst: ['140/100', '150/100', '120/80', '120\\\\80', '110/70', '110/70', '105/70', '120/70', '140/80', '120/80', '120\\\\80', '130\\\\80', '125/85', '130\\\\80', '120\\\\80', '133', '120', '100', '120', '110',\n",
        "\n",
        "#   # dig_col: Терапия1_АртериальноеДавление21_Значение\n",
        "#   #   len(col_lst): 1571: col_lst: [nan, nan, nan, nan, nan, nan, nan, nan, nan, nan, nan, nan, nan, nan, nan, 82.0, 80.0, 80.0, 80.0, 80.0, 80.0, 80.0, 80.0, 80.0, 60.0, 80.0, 70.0, 90.0, 110.0, nan, 70.0, 80.0, 120.0, 70.\n",
        "\n",
        "#    # 2023.06.02. выбираю колонку Терапия1_АртериальноеДавление21_Значение"
      ],
      "metadata": {
        "id": "qTId8jyPFKj5"
      },
      "execution_count": null,
      "outputs": []
    },
    {
      "cell_type": "code",
      "source": [
        "# # Колонка Терапия1_АртериальноеДавление21_Значение\n",
        "# nan_lst = df1[df1['Терапия1_АртериальноеДавление21_Значение'].isnull()].index\n",
        "# nan_lst_count_proc = len(nan_lst)*100/df2.size\n",
        "# print(f'df1 число строк: {df1.shape[0]}')\n",
        "# print(f'\"Терапия1_АртериальноеДавление21_Значение\": число строк с пустыми значениями: {len(nan_lst)}, {round(nan_lst_count_proc, 2)}%')\n",
        "\n",
        "# min_val = df1['Терапия1_АртериальноеДавление21_Значение'].min()\n",
        "# max_val = df1['Терапия1_АртериальноеДавление21_Значение'].max()\n",
        "# mean_val = df1['Терапия1_АртериальноеДавление21_Значение'].mean()\n",
        "# print(f'Значения: min: {round(min_val, 2)}, max: {round(max_val, 2)}, mean: {round(mean_val, 2)}')"
      ],
      "metadata": {
        "id": "0FEnhfsYd7ci"
      },
      "execution_count": 103,
      "outputs": []
    },
    {
      "cell_type": "code",
      "source": [
        "# # Находим минимальное максимальное значения, пустые значения заполняем средним\n",
        "# f_arr = df1['Терапия1_АртериальноеДавление21_Значение'].values.astype('float64')\n",
        "\n",
        "# # f_indices = []\n",
        "# # for i in range(len(f_arr)):\n",
        "# #   if f_arr[i] > 200.0:\n",
        "# #     f_indices.append(i)\n",
        "# # print(f_indices)\n",
        "# # print(f'f_indices[0]: {f_indices[0]}:, {f_arr[f_indices[0]]}')\n",
        "# # print(f'f_indices[1]: {f_indices[1]}:, {f_arr[f_indices[1]]}')\n",
        "# # del f_indices\n",
        "\n",
        "# f_arr_lst = list()\n",
        "# for i in range(len(f_arr)):\n",
        "#   # print(f'{i}: {f_arr[i]}')\n",
        "#   # проверяем на nan\n",
        "#   if (f_arr[i] == f_arr[i]):\n",
        "#     f_arr_lst.append(f_arr[i])\n",
        "\n",
        "# f_arr2 = np.array(f_arr_lst, dtype=np.float64)\n",
        "\n",
        "# # print(f'len(f_arr_lst): {len(f_arr_lst)}:, {f_arr_lst}')\n",
        "# # print(f'len(f_arr2): {len(f_arr2)}:, {f_arr2}')\n",
        "\n",
        "# del f_arr_lst\n",
        "\n",
        "# min_val = np.min(f_arr2)\n",
        "# max_val = np.max(f_arr2)\n",
        "# mean_val = np.mean(f_arr2)\n",
        "# print(f'{f_arr2.shape}: Значения: min: {round(min_val, 2)}, max: {round(max_val, 2)}, mean: {round(mean_val, 2)}')\n",
        "\n",
        "# for i in range(len(f_arr2)):\n",
        "#   if f_arr2[i] > 200.0:\n",
        "#     f_arr2[i] /= 10.0\n",
        "\n",
        "# min_val = np.min(f_arr2)\n",
        "# max_val = np.max(f_arr2)\n",
        "# mean_val = np.mean(f_arr2)\n",
        "# print(f'{f_arr2.shape}: Значения: min: {round(min_val, 2)}, max: {round(max_val, 2)}, mean: {round(mean_val, 2)}')\n",
        "\n",
        "# # Заполняем пустые ячейки и убираем выбросы\n",
        "# for i in range(len(f_arr)):\n",
        "#   # проверяем на nan\n",
        "#   if (f_arr[i] == f_arr[i]):\n",
        "#     if f_arr[i] > 200.0:\n",
        "#       f_arr[i] /= 10.0\n",
        "#   else:\n",
        "#     f_arr[i] = mean_val\n",
        "\n",
        "# del f_arr2\n",
        "\n",
        "# min_val = np.min(f_arr)\n",
        "# max_val = np.max(f_arr)\n",
        "# mean_val = np.mean(f_arr)\n",
        "# max_min_delta = max_val - min_val\n",
        "# print(f'{f_arr.shape}: Значения: min: {round(min_val, 2)}, max: {round(max_val, 2)}, mean: {round(mean_val, 2)}, max_min_delta: {round(max_min_delta, 2)}')\n",
        "\n",
        "# # Проведем min-max нормирвоание\n",
        "# for i in range(len(f_arr)):\n",
        "#   f_arr[i] = (f_arr[i] - min_val)/max_min_delta\n",
        "\n",
        "# min_val = np.min(f_arr)\n",
        "# max_val = np.max(f_arr)\n",
        "# mean_val = np.mean(f_arr)\n",
        "# print(f'{f_arr.shape}: Значения: min: {round(min_val, 2)}, max: {round(max_val, 2)}, mean: {round(mean_val, 2)}')"
      ],
      "metadata": {
        "id": "u75ewmymqokg"
      },
      "execution_count": 104,
      "outputs": []
    },
    {
      "cell_type": "markdown",
      "source": [
        "<!--  -->"
      ],
      "metadata": {
        "id": "xSILBOTYvtvk"
      }
    },
    {
      "cell_type": "code",
      "source": [
        "# # добавляем новую колонку 'АртДавление'('АртериальноеДавление') в 'df2'\n",
        "# df2 = df2.assign(АртДавление=f_arr)\n",
        "# print(f'размеры датафрейма: df1: {df1.shape}, df2: {df2.shape}')\n",
        "# df2.head(3)"
      ],
      "metadata": {
        "id": "Prm-6yHiBPpL"
      },
      "execution_count": 105,
      "outputs": []
    },
    {
      "cell_type": "markdown",
      "source": [
        "## ИМТ - индекс массы тела"
      ],
      "metadata": {
        "id": "kpBs-1q1CMCa"
      }
    },
    {
      "cell_type": "markdown",
      "source": [
        "2023.05.08 - _ИМТ\n",
        "\n",
        "2023.06.26 - нет такого поля"
      ],
      "metadata": {
        "id": "ls1bdEYlv9Sg"
      }
    },
    {
      "cell_type": "code",
      "source": [
        "# Находим все колонки, в которых присутсвует часть названия '_Артер'(АртериальноеДавление)\n",
        "fragment_str = '_ИМТ'\n",
        "# Arterial pressure\n",
        "digit_cols = getColNamesByFragmentName(fragment_str)\n",
        "print(f'Число колонок, содержащих \"{fragment_str}\": {len(digit_cols)}')"
      ],
      "metadata": {
        "colab": {
          "base_uri": "https://localhost:8080/"
        },
        "id": "qicbTen9Cejq",
        "outputId": "674903e7-466f-4499-bab6-49190a595a3f"
      },
      "execution_count": 108,
      "outputs": [
        {
          "output_type": "stream",
          "name": "stdout",
          "text": [
            "Число колонок, содержащих \"_ИМТ\": 0\n"
          ]
        }
      ]
    },
    {
      "cell_type": "code",
      "source": [
        "# # пробегаемся по всем строкам колонок и заполняем словарь\n",
        "# for dig_col in digit_cols:\n",
        "#   col_inx = df1.columns.get_loc(dig_col)\n",
        "#   col_lst = df1.iloc[:, col_inx].tolist()\n",
        "\n",
        "#   print(f'dig_col: {dig_col}')\n",
        "#   print(f'  len(col_lst): {len(col_lst)}: col_lst: {col_lst}')\n",
        "\n",
        "# Терапия1_ИМТ_Значение\n",
        "# len(col_lst): 1571: col_lst: [nan, nan, nan, nan, nan, nan, nan, nan, nan, nan, nan, nan, nan, nan, nan, '22.53', '29.74', '19.92', '29.37', '23.24', '2.52', '30.08'\n",
        "# Терапия1_ИМТ_ЗначениеПредставление\n",
        "# len(col_lst): 1571: col_lst: [nan, nan, nan, nan, nan, nan, nan, nan, nan, nan, nan, nan, nan, nan, nan, 22.53, 29.74, 19.92, 29.37, 23.24, 2.52, 30.08, 24.06, 30.12, 23.92,"
      ],
      "metadata": {
        "id": "61LEHaSYClw7"
      },
      "execution_count": 109,
      "outputs": []
    },
    {
      "cell_type": "code",
      "source": [
        "# df1['Терапия1_ИМТ_Значение'].dtype\n",
        "# dtype('O')\n",
        "\n",
        "# df1['Терапия1_ИМТ_ЗначениеПредставление'].dtype\n",
        "# dtype('float64')"
      ],
      "metadata": {
        "id": "ErvYtM4rEBiD"
      },
      "execution_count": null,
      "outputs": []
    },
    {
      "cell_type": "code",
      "source": [
        "# # Колонка Терапия1_ИМТ_ЗначениеПредставление\n",
        "# nan_lst = df1[df1['Терапия1_ИМТ_ЗначениеПредставление'].isnull()].index\n",
        "# nan_lst_count_proc = len(nan_lst)*100/df2.size\n",
        "# print(f'df1 число строк: {df1.shape[0]}')\n",
        "# print(f'\"Терапия1_ИМТ_ЗначениеПредставление\": число строк с пустыми значениями: {len(nan_lst)}, {round(nan_lst_count_proc, 2)}%')\n",
        "\n",
        "# min_val = df1['Терапия1_ИМТ_ЗначениеПредставление'].min()\n",
        "# max_val = df1['Терапия1_ИМТ_ЗначениеПредставление'].max()\n",
        "# mean_val = df1['Терапия1_ИМТ_ЗначениеПредставление'].mean()\n",
        "# print(f'Значения: min: {round(min_val, 2)}, max: {round(max_val, 2)}, mean: {round(mean_val, 2)}')"
      ],
      "metadata": {
        "id": "AA-3_qfVC9gj"
      },
      "execution_count": 110,
      "outputs": []
    },
    {
      "cell_type": "code",
      "source": [
        "# plt.figure(figsize=(20, 5))\n",
        "# plt.bar(df1.index, df1['Терапия1_ИМТ_ЗначениеПредставление'], color='blue')\n",
        "# #plt.xticks(rotation=90)\n",
        "# plt.xlabel('Индексы строк')\n",
        "# plt.ylabel('ИМТ')\n",
        "# #plt.gca().set_facecolor('white')\n",
        "# plt.rcParams['axes.facecolor'] = 'white'\n",
        "# plt.show()"
      ],
      "metadata": {
        "id": "gQuYOeL-E9kh"
      },
      "execution_count": 111,
      "outputs": []
    },
    {
      "cell_type": "code",
      "source": [
        "# # Находим минимальное максимальное значения, пустые значения заполняем средним\n",
        "# f_arr = df1['Терапия1_ИМТ_ЗначениеПредставление'].values.astype('float64')\n",
        "\n",
        "# f_arr_lst = list()\n",
        "# for i in range(len(f_arr)):\n",
        "#   # проверяем на nan\n",
        "#   if (f_arr[i] == f_arr[i]):\n",
        "#     f_arr_lst.append(f_arr[i])\n",
        "# f_arr2 = np.array(f_arr_lst, dtype=np.float64)\n",
        "# del f_arr_lst\n",
        "\n",
        "# min_val = np.min(f_arr2)\n",
        "# max_val = np.max(f_arr2)\n",
        "# mean_val = np.mean(f_arr2)\n",
        "# print(f'{f_arr2.shape}: Значения: min: {round(min_val, 2)}, max: {round(max_val, 2)}, mean: {round(mean_val, 2)}')\n",
        "\n",
        "# # Заполняем пустые ячейки и убираем выбросы\n",
        "# for i in range(len(f_arr)):\n",
        "#   # проверяем на nan\n",
        "#   if not (f_arr[i] == f_arr[i]):\n",
        "#     f_arr[i] = mean_val\n",
        "# del f_arr2\n",
        "\n",
        "# min_val = np.min(f_arr)\n",
        "# max_val = np.max(f_arr)\n",
        "# mean_val = np.mean(f_arr)\n",
        "# max_min_delta = max_val - min_val\n",
        "# print(f'{f_arr.shape}: Значения: min: {round(min_val, 2)}, max: {round(max_val, 2)}, mean: {round(mean_val, 2)}, max_min_delta: {round(max_min_delta, 2)}')\n",
        "\n",
        "# # Проведем min-max нормирвоание\n",
        "# for i in range(len(f_arr)):\n",
        "#   f_arr[i] = (f_arr[i] - min_val)/max_min_delta\n",
        "\n",
        "# min_val = np.min(f_arr)\n",
        "# max_val = np.max(f_arr)\n",
        "# mean_val = np.mean(f_arr)\n",
        "# print(f'{f_arr.shape}: Значения: min: {round(min_val, 2)}, max: {round(max_val, 2)}, mean: {round(mean_val, 2)}')"
      ],
      "metadata": {
        "id": "sTwUaElSFbxx"
      },
      "execution_count": 112,
      "outputs": []
    },
    {
      "cell_type": "code",
      "source": [
        "# # добавляем новую колонку 'ИМТ' в 'df2'\n",
        "# df2 = df2.assign(ИМТ=f_arr)\n",
        "# print(f'размеры датафрейма: df1: {df1.shape}, df2: {df2.shape}')\n",
        "# df2.head(3)"
      ],
      "metadata": {
        "id": "EeSt_VYfJg4O"
      },
      "execution_count": 113,
      "outputs": []
    },
    {
      "cell_type": "markdown",
      "source": [
        "# Текстовые признаки (Цех+Профессия: Tokenizer-Bag of Words)"
      ],
      "metadata": {
        "id": "TGSEw8mYVVh8"
      }
    },
    {
      "cell_type": "markdown",
      "source": [
        "считаю, что цех и профессию необходимо объединить в один признак"
      ],
      "metadata": {
        "id": "tolnKdlqOT9b"
      }
    },
    {
      "cell_type": "code",
      "source": [
        "print(f'размеры датафрейма: df1: {df1.shape}')\n",
        "nan_lst = df1[df1['Цех'].isnull()].index\n",
        "print(f'\"Цех\": число строк с пустыми значениями: {len(nan_lst)}')\n",
        "u_lst = df1['Цех'].unique().tolist()\n",
        "# print(f'уникальные значения: {len(u_lst)}: {u_lst}')\n",
        "print(f'уникальные значения: {len(u_lst)}')"
      ],
      "metadata": {
        "colab": {
          "base_uri": "https://localhost:8080/"
        },
        "id": "8TmnYBCaoS8I",
        "outputId": "8b4c0f1e-9940-4240-f325-5dc1f90a8426"
      },
      "execution_count": 114,
      "outputs": [
        {
          "output_type": "stream",
          "name": "stdout",
          "text": [
            "размеры датафрейма: df1: (249, 191)\n",
            "\"Цех\": число строк с пустыми значениями: 150\n",
            "уникальные значения: 37\n"
          ]
        }
      ]
    },
    {
      "cell_type": "code",
      "source": [
        "print(f'размеры датафрейма: df1: {df1.shape}')\n",
        "nan_lst = df1[df1['Профессия'].isnull()].index\n",
        "print(f'\"Профессия\": число строк с пустыми значениями: {len(nan_lst)}')\n",
        "u_lst = df1['Профессия'].unique().tolist()\n",
        "# print(f'уникальные значения: {len(u_lst)}: {u_lst}')\n",
        "print(f'уникальные значения: {len(u_lst)}')"
      ],
      "metadata": {
        "colab": {
          "base_uri": "https://localhost:8080/"
        },
        "id": "5M47YC4eNoLE",
        "outputId": "b1944f26-2614-4873-f3f5-8c6936ada8c9"
      },
      "execution_count": 115,
      "outputs": [
        {
          "output_type": "stream",
          "name": "stdout",
          "text": [
            "размеры датафрейма: df1: (249, 191)\n",
            "\"Профессия\": число строк с пустыми значениями: 0\n",
            "уникальные значения: 109\n"
          ]
        }
      ]
    },
    {
      "cell_type": "code",
      "source": [
        "# branch + profession\n",
        "# результирующий список\n",
        "brh_prn_lst = [\"\"] * df1.shape[0]\n",
        "# print(f'df1 число строк: {df1.shape[0]}, len(brh_prn_lst): {len(brh_prn_lst)}, {brh_prn_lst}')\n",
        "\n",
        "#~~~~~~~~~~~~~~~~~~~~~~~~\n",
        "#~~~Цех\n",
        "col_inx = df1.columns.get_loc('Цех')\n",
        "col_lst = df1.iloc[:, col_inx].tolist()\n",
        "# print(f'df1 число строк: {df1.shape[0]}, len(col_lst): {len(col_lst)}, {col_lst}')\n",
        "\n",
        "for i in range(df1.shape[0]):\n",
        "  i_elem = col_lst[i]\n",
        "  # print(f'{i}->{df1.shape[0]}: i_elem: {i_elem}' )\n",
        "  # проверяем на nan\n",
        "  if (i_elem == i_elem):\n",
        "    # проверяем, что строка не пустая\n",
        "    if i_elem:\n",
        "      i_elem2 = i_elem.lower().strip()\n",
        "      # print(f'  i_elem2: {i_elem2}')\n",
        "      brh_prn_lst[i] = i_elem2\n",
        "    else:\n",
        "      brh_prn_lst[i] = 'без отдела'\n",
        "  else:\n",
        "    brh_prn_lst[i] = 'без отдела'\n",
        "\n",
        "# print(f'df1 число строк: {df1.shape[0]}, len(brh_prn_lst): {len(brh_prn_lst)}, {brh_prn_lst}')\n",
        "\n",
        "#~~~~~~~~~~~~~~~~~~~~~~~~\n",
        "#~~~Профессия\n",
        "col_inx = df1.columns.get_loc('Профессия')\n",
        "col_lst = df1.iloc[:, col_inx].tolist()\n",
        "# print(f'df1 число строк: {df1.shape[0]}, len(col_lst): {len(col_lst)}, {col_lst}')\n",
        "\n",
        "for i in range(df1.shape[0]):\n",
        "  i_elem = col_lst[i]\n",
        "  # print(f'{i}->{df1.shape[0]}: i_elem: {i_elem}' )\n",
        "  # проверяем на nan\n",
        "  if (i_elem == i_elem):\n",
        "    # проверяем, что строка не пустая\n",
        "    if i_elem:\n",
        "      i_elem2 = i_elem.lower().strip()\n",
        "      # print(f'  i_elem2: {i_elem2}')\n",
        "      brh_prn_lst[i] += ' ' + i_elem2\n",
        "\n",
        "# print(f'df1 число строк: {df1.shape[0]}, len(brh_prn_lst): {len(brh_prn_lst)}, {brh_prn_lst}')\n",
        "print(f'df1 число строк: {df1.shape[0]}, len(brh_prn_lst): {len(brh_prn_lst)}')\n",
        "# пример цех+профессия 123-ей записи-строки\n",
        "print(brh_prn_lst[123])"
      ],
      "metadata": {
        "colab": {
          "base_uri": "https://localhost:8080/"
        },
        "id": "2TbKdbA5PYij",
        "outputId": "bdf12b47-6de8-4f4c-bec7-80eb4c9153bf"
      },
      "execution_count": 116,
      "outputs": [
        {
          "output_type": "stream",
          "name": "stdout",
          "text": [
            "df1 число строк: 249, len(brh_prn_lst): 249\n",
            "ооо «территория еды 102» повар\n"
          ]
        }
      ]
    },
    {
      "cell_type": "code",
      "source": [
        "#################\n",
        "#Преобразовываем текстовые данные в числовые/векторные для обучения нейросетью\n",
        "#################\n",
        "\n",
        "#определяем макс.кол-во слов/индексов, учитываемое при обучении текстов\n",
        "# maxWordsCount = 10000\n",
        "# число строк: 3014, len(brh_prn_items): 765, [('unknown', 1), ('отдела', 2), ('без', 3), ('разряда', 4), ('водитель', 5), ('автомобиля', 6), ('по', 7), ('слесарь', 8), ('6', 9)\n",
        "maxWordsCount = 765\n",
        "\n",
        "#для этого воспользуемся встроенной в Keras функцией Tokenizer для разбиения текста и превращения в матрицу числовых значений\n",
        "tokenizer = Tokenizer(num_words=maxWordsCount, filters='!\"#$%&()*+,-–—./:;<=>?@[\\\\]^_`{|}~\\t\\n\\xa0', lower=True, split=' ', oov_token='unknown', char_level=False)\n",
        "#выше задаем параметры:\n",
        "#(num_words=maxWordsCount) - определяем макс.кол-во слов/индексов, учитываемое при обучении текстов\n",
        "#(filters='!\"#$%&()*+,-./:;<=>?@[\\\\]^_`{|}~\\t\\n') - избавляемся от ненужных символов\n",
        "#(lower=True) - приводим слова к нижнему регистру\n",
        "#(split=' ') - разделяем слова по пробелу\n",
        "#(char_level=False) - просим токенайзер не удалять однобуквенные слова\n",
        "\n",
        "# \"скармливаем\" наши тексты, т.е даём в обработку методу, который соберет словарь частотности\n",
        "tokenizer.fit_on_texts(brh_prn_lst)\n",
        "\n",
        "#Вытаскиваем индексы слов для просмотра\n",
        "brh_prn_items = list(tokenizer.word_index.items())\n",
        "print(f'df1 число строк: {df1.shape[0]}, len(brh_prn_items): {len(brh_prn_items)}, {brh_prn_items}')"
      ],
      "metadata": {
        "colab": {
          "base_uri": "https://localhost:8080/"
        },
        "id": "vKCfv1VoeVzH",
        "outputId": "ff06d8b6-29d8-4489-e638-44f8b8978955"
      },
      "execution_count": 117,
      "outputs": [
        {
          "output_type": "stream",
          "name": "stdout",
          "text": [
            "df1 число строк: 249, len(brh_prn_items): 213, [('unknown', 1), ('без', 2), ('отдела', 3), ('водитель', 4), ('автомобиля', 5), ('цех', 6), ('мбу', 7), ('и', 8), ('по', 9), ('продавец', 10), ('тренер', 11), ('участок', 12), ('экспедитор', 13), ('инженер', 14), ('сшор', 15), ('литейный', 16), ('ооо', 17), ('«территория', 18), ('еды', 19), ('102»', 20), ('ведущий', 21), ('до', 22), ('сш', 23), ('№28', 24), ('мастер', 25), ('оператор', 26), ('машинист', 27), ('упнр', 28), ('фрти', 29), ('заместитель', 30), ('дворник', 31), ('наладке', 32), ('испытаниям', 33), ('1', 34), ('слесарь', 35), ('преподаватель', 36), ('повар', 37), ('специалист', 38), ('№', 39), ('моп', 40), ('комплектовщик', 41), ('участка', 42), ('3d', 43), ('принтера', 44), ('грузчик', 45), ('организации', 46), ('гибкая', 47), ('насосно', 48), ('компрессорная', 49), ('труба', 50), ('консультант', 51), ('директор', 52), ('ртр', 53), ('инструментальный', 54), ('плавки', 55), ('заливки', 56), ('плавильщик', 57), ('металла', 58), ('сплавов', 59), ('товаровед', 60), ('контролер', 61), ('кухонный', 62), ('работник', 63), ('кассир', 64), ('обучения', 65), ('копровщик', 66), ('крана', 67), ('скважин', 68), ('отдел', 69), ('газодинамических', 70), ('газоконденсатных', 71), ('исследований', 72), ('заведующий', 73), ('погрузчика', 74), ('прессовщик', 75), ('вулканизаторщик', 76), ('с', 77), ('директора', 78), ('аналитико', 79), ('технический', 80), ('центр', 81), ('пто', 82), ('технолог', 83), ('чистильщик', 84), ('продукции', 85), ('уфа', 86), ('базы', 87), ('данных', 88), ('фасовщица', 89), ('управляющий', 90), ('старший', 91), ('оп', 92), ('смр', 93), ('копра', 94), ('начальник', 95), ('начальника', 96), ('помощник', 97), ('кладовщика', 98), ('кат', 99), ('сантехник', 100), ('станков', 101), ('чпу', 102), ('делопроизводитель', 103), ('охране', 104), ('труда', 105), ('хозяйством', 106), ('инструктор', 107), ('научный', 108), ('сотрудник', 109), ('исследованию', 110), ('электросварщик', 111), ('ручной', 112), ('сварки', 113), ('разнорабочий', 114), ('лаборатория', 115), ('лаборант', 116), ('обрубки', 117), ('обрубщик', 118), ('атп', 119), ('приемщик', 120), ('товара', 121), ('консультат', 122), ('мед', 123), ('17', 124), ('г', 125), ('ул', 126), ('м', 127), ('губайдуллина', 128), ('д', 129), ('6', 130), ('упаковочного', 131), ('производства', 132), ('ушмр', 133), ('трубоукладчика', 134), ('сложным', 135), ('работам', 136), ('в', 137), ('бурении', 138), ('капитальном', 139), ('ремонте', 140), ('отряда', 141), ('автомобильного', 142), ('бухгалтер', 143), ('трубоук', 144), ('автокрана', 145), ('на', 146), ('строительных', 147), ('монтажных', 148), ('работ', 149), ('техник', 150), ('гнмц', 151), ('испытательной', 152), ('лаборатории', 153), ('склада', 154), ('складом', 155), ('5', 156), ('разряда', 157), ('главного', 158), ('механика', 159), ('руководителя', 160), ('обособленного', 161), ('подразделения', 162), ('пекарь', 163), ('обученя', 164), ('руководитель', 165), ('электролаборатории', 166), ('шприц', 167), ('машины', 168), ('закупщик', 169), ('моторист', 170), ('ца', 171), ('№1', 172), ('электрогазосварщик', 173), ('переналадки', 174), ('пресс', 175), ('форм', 176), ('заводоуправление', 177), ('сервис', 178), ('администрация', 179), ('№20', 180), ('№3', 181), ('№15', 182), ('№7', 183), ('№6', 184), ('№11', 185), ('№12', 186), ('центра', 187), ('взаимодействию', 188), ('потребителями', 189), ('№21', 190), ('вожатый', 191), ('№5', 192), ('педагог', 193), ('доп', 194), ('образования', 195), ('физкультуре', 196), ('иц', 197), ('промышленной', 198), ('безопасности', 199), ('передвижного', 200), ('компресора', 201), ('главный', 202), ('магазина', 203), ('медицинская', 204), ('сестра', 205), ('администратор', 206), ('обвальщица', 207), ('фасовщик', 208), ('обвальщик', 209), ('мясного', 210), ('цеха', 211), ('газорезчик', 212), ('№2', 213)]\n"
          ]
        }
      ]
    },
    {
      "cell_type": "code",
      "source": [
        "#преобразовываем текст в последовательность индексов согласно частотному словарю\n",
        "#обучающие тесты в индексы\n",
        "brh_prn_inxs = tokenizer.texts_to_sequences(brh_prn_lst)\n",
        "print(f'df1 число строк: {df1.shape[0]}, len(brh_prn_inxs): {len(brh_prn_inxs)}, {brh_prn_inxs}')"
      ],
      "metadata": {
        "colab": {
          "base_uri": "https://localhost:8080/"
        },
        "id": "vxGj73njgU86",
        "outputId": "f3b1ffed-a440-4510-c479-6cd03a13c74f"
      },
      "execution_count": 119,
      "outputs": [
        {
          "output_type": "stream",
          "name": "stdout",
          "text": [
            "df1 число строк: 249, len(brh_prn_inxs): 249, [[2, 3, 4, 13], [2, 3, 4, 5], [2, 3, 4, 5], [2, 3, 4, 5], [2, 3, 4, 5], [2, 3, 4, 5], [2, 3, 4, 5], [2, 3, 4, 5], [2, 3, 4, 5], [2, 3, 4, 5], [2, 3, 4, 5], [2, 3, 4, 5], [2, 3, 4, 5], [2, 3, 4, 5], [2, 3, 4, 5], [2, 3, 4, 5], [2, 3, 4, 5], [2, 3, 10], [2, 3, 114], [16, 6, 12, 55, 8, 56, 57, 58, 8, 59], [16, 6, 12, 55, 8, 56, 57, 58, 8, 59], [16, 6, 25], [16, 6, 115, 116], [16, 6, 12, 55, 8, 56, 57, 58, 8, 59], [16, 6, 12, 43, 44, 26], [16, 6, 12, 117, 118], [16, 6, 12, 43, 44, 84, 85], [16, 6, 12, 43, 44, 84, 85], [16, 6, 12, 43, 44, 26], [2, 3, 10], [119, 86, 4, 13], [2, 3, 120, 121], [2, 3, 26, 87, 88], [2, 3, 60], [2, 3, 45], [2, 3, 60], [2, 3, 10, 61], [2, 3, 122], [2, 3, 89], [17, 18, 19, 20, 62, 63], [17, 18, 19, 20, 37], [2, 3, 10], [2, 3, 64], [17, 18, 19, 20, 90], [123, 10], [2, 3, 21, 38, 9, 46, 65], [17, 18, 19, 20, 37], [2, 3, 4, 13], [2, 3, 4, 13], [2, 3, 91, 10], [47, 48, 49, 50, 4], [92, 39, 124, 125, 86, 126, 127, 128, 129, 130, 10, 51], [2, 3, 26, 131, 132], [133, 25], [2, 3, 4, 13], [2, 3, 21, 38, 9, 46, 65], [2, 3, 10, 51], [2, 3, 10], [2, 3, 10, 61], [2, 3, 27], [2, 3, 4], [2, 3, 25, 93], [2, 3, 66], [2, 3, 27, 67, 134], [2, 3, 27, 94], [2, 3, 66], [2, 3, 27, 94], [47, 48, 49, 50, 25, 9, 135, 136, 137, 138, 8, 139, 140, 68], [69, 70, 8, 71, 72, 95, 141], [47, 48, 49, 50, 27, 67, 142], [2, 3, 4], [17, 18, 19, 20, 143], [2, 3, 66], [2, 3, 4, 13], [2, 3, 27, 67, 144], [2, 3, 27, 145, 146, 12, 147, 8, 148, 149], [2, 3, 4], [2, 3, 25, 93], [2, 3, 4], [2, 3, 150], [2, 3, 4, 13], [17, 18, 19, 20, 90], [2, 3, 52], [92, 151, 30, 96, 152, 153], [2, 3, 61, 154], [2, 3, 73, 155], [40, 31], [40, 31], [2, 3, 31], [40, 31], [2, 3, 4, 5, 156, 157], [2, 3, 30, 158, 159], [2, 3, 30, 160, 161, 162], [2, 3, 163], [2, 3, 62, 63], [2, 3, 31], [40, 31], [40, 31], [2, 3, 21, 38, 9, 46, 164], [2, 3, 4, 74], [2, 3, 41], [2, 3, 45], [2, 3, 97, 98], [2, 3, 41], [2, 3, 41], [2, 3, 4, 13], [2, 3, 10, 64], [2, 3, 4, 13], [28, 14, 9, 32, 8, 33, 34, 99], [28, 165, 166], [28, 14, 9, 32, 8, 33, 34, 99], [2, 3, 10, 51], [6, 29, 25, 42], [2, 3, 35], [2, 3, 35, 100], [53, 35], [6, 29, 25, 42], [6, 29, 75, 76], [6, 29, 27, 167, 168], [6, 29, 25, 42], [6, 29, 75, 76], [6, 29, 75, 76], [17, 18, 19, 20, 37], [17, 18, 19, 20, 37], [2, 3, 169], [2, 3, 170, 171], [28, 21, 14, 9, 32, 8, 33], [53, 35, 100], [53, 35], [7, 15, 172, 11], [53, 35], [54, 6, 173], [2, 3, 4, 13], [54, 6, 26, 101, 77, 102], [54, 6, 26, 101, 77, 102], [54, 6, 25, 42, 174, 175, 176], [177, 178, 14], [179, 30, 78], [7, 15, 180, 11], [7, 15, 181, 52], [7, 15, 182, 11], [7, 15, 183, 103], [7, 15, 184, 38, 9, 104, 105], [7, 15, 185, 11], [7, 15, 186, 11], [2, 3, 60], [2, 3, 41], [2, 3, 45], [2, 3, 4, 74], [2, 3, 4, 74], [2, 3, 97, 98], [2, 3, 41], [2, 3, 10, 64], [28, 21, 14, 9, 32, 8, 33], [17, 18, 19, 20, 62, 63], [28, 21, 14, 9, 32, 8, 33], [79, 80, 81, 30, 96, 187, 9, 188, 77, 189], [28, 21, 14, 9, 32, 8, 33], [7, 15, 190, 11], [2, 3, 191], [7, 15, 192, 73, 106], [2, 3, 10, 51], [2, 3, 30, 78], [2, 3, 193, 194, 195], [2, 3, 107, 9, 196], [2, 3, 4], [2, 3, 4], [2, 3, 4], [2, 3, 4], [82, 14, 83, 197], [82, 14, 83, 29], [17, 18, 19, 20, 37], [2, 3, 4, 13], [79, 80, 81, 108, 109], [2, 3, 21, 14, 9, 198, 199, 8, 104, 105], [28, 21, 14, 9, 32, 8, 33], [47, 48, 49, 50, 27, 200, 201], [7, 22, 23, 24, 11, 36], [2, 3, 21, 38, 9, 46, 65], [69, 70, 8, 71, 72, 26, 9, 110, 68], [82, 202, 83], [2, 3, 26, 87, 88], [2, 3, 10], [2, 3, 52, 203], [2, 3, 89], [7, 22, 23, 24, 11, 36], [7, 22, 23, 24, 11, 36], [7, 22, 23, 24, 11, 36], [7, 22, 23, 24, 30, 78], [2, 3, 11], [7, 22, 23, 24, 103], [7, 22, 23, 24, 73, 106], [7, 22, 23, 24, 204, 205], [7, 22, 23, 24, 11, 36], [7, 22, 23, 24, 11, 36], [2, 3, 206], [2, 3, 4], [2, 3, 207], [2, 3, 52], [2, 3, 45, 208], [2, 3, 209, 210, 211], [69, 70, 8, 71, 72, 26, 9, 110, 68], [12, 39, 34, 212], [12, 39, 34, 111, 112, 113], [12, 39, 34, 95, 42], [12, 39, 34, 111, 112, 113], [2, 3, 4, 5], [79, 80, 81, 91, 108, 109], [2, 3, 4, 5], [2, 3, 4, 5], [2, 3, 107], [2, 3, 4, 5], [2, 3, 4, 5], [2, 3, 4, 5], [2, 3, 4, 5], [2, 3, 4, 5], [2, 3, 4, 5], [2, 3, 4, 5], [2, 3, 4, 5], [2, 3, 4, 5], [2, 3, 4, 5], [2, 3, 4, 5], [2, 3, 4, 5], [2, 3, 4, 5], [2, 3, 4, 5], [2, 3, 4, 5], [2, 3, 4, 5], [2, 3, 4, 5], [2, 3, 4, 5], [2, 3, 4, 5], [2, 3, 4, 5], [2, 3, 4, 5], [2, 3, 4, 5], [2, 3, 4, 5], [2, 3, 4, 5], [2, 3, 4, 5], [2, 3, 4, 5], [2, 3, 4, 5], [2, 3, 4, 5], [2, 3, 4, 5], [2, 3, 4, 5], [2, 3, 4, 5], [2, 3, 4, 5], [2, 3, 4, 5], [2, 3, 4, 5], [2, 3, 4, 5], [2, 3, 4, 5], [2, 3, 4, 5], [7, 15, 213, 11]]\n"
          ]
        }
      ]
    },
    {
      "cell_type": "code",
      "source": [
        "# Преобразовываем полученные выборки из последовательности индексов в матрицы нулей и единиц по принципу Bag of Words\n",
        "# Подаем xTrain в виде списка чтобы метод успешно сработал\n",
        "xTrainProf01 = tokenizer.sequences_to_matrix(brh_prn_inxs)\n",
        "# Размер обучающей выборки, сформированной по Bag of Words\n",
        "print(xTrainProf01.shape)\n",
        "print(f'xTrainProf01 число строк : {xTrainProf01.shape[0]}')\n",
        "print(f'xTrainProf01 число столбцов : {xTrainProf01.shape[1]}')\n",
        "print(xTrainProf01[0][0:100])"
      ],
      "metadata": {
        "colab": {
          "base_uri": "https://localhost:8080/"
        },
        "id": "V-8YKk1QhwWv",
        "outputId": "b7831c1d-1aba-4cc2-b052-a5804846c870"
      },
      "execution_count": 120,
      "outputs": [
        {
          "output_type": "stream",
          "name": "stdout",
          "text": [
            "(249, 765)\n",
            "xTrainProf01 число строк : 249\n",
            "xTrainProf01 число столбцов : 765\n",
            "[0. 0. 1. 1. 1. 0. 0. 0. 0. 0. 0. 0. 0. 1. 0. 0. 0. 0. 0. 0. 0. 0. 0. 0.\n",
            " 0. 0. 0. 0. 0. 0. 0. 0. 0. 0. 0. 0. 0. 0. 0. 0. 0. 0. 0. 0. 0. 0. 0. 0.\n",
            " 0. 0. 0. 0. 0. 0. 0. 0. 0. 0. 0. 0. 0. 0. 0. 0. 0. 0. 0. 0. 0. 0. 0. 0.\n",
            " 0. 0. 0. 0. 0. 0. 0. 0. 0. 0. 0. 0. 0. 0. 0. 0. 0. 0. 0. 0. 0. 0. 0. 0.\n",
            " 0. 0. 0. 0.]\n"
          ]
        }
      ]
    },
    {
      "cell_type": "code",
      "source": [
        "n = 123\n",
        "# Цех+Профессия\n",
        "print(brh_prn_lst[n])\n",
        "# Профессия через индексы\n",
        "print(brh_prn_inxs[n])"
      ],
      "metadata": {
        "colab": {
          "base_uri": "https://localhost:8080/"
        },
        "id": "oPxW5JOUiQMz",
        "outputId": "576ccbd9-2ea3-4eeb-9dd2-f48c7ce8d664"
      },
      "execution_count": 121,
      "outputs": [
        {
          "output_type": "stream",
          "name": "stdout",
          "text": [
            "ооо «территория еды 102» повар\n",
            "[17, 18, 19, 20, 37]\n"
          ]
        }
      ]
    },
    {
      "cell_type": "code",
      "source": [
        "brh_mhe_lst = xTrainProf01.astype(int).tolist()\n",
        "# print(f'df1 число строк: {df1.shape[0]}, len(brh_mhe_lst): {len(brh_mhe_lst)}, {brh_mhe_lst}')\n",
        "\n",
        "# добавляем новую колонку 'ЦехПрофессия' в 'df2'\n",
        "df2 = df2.assign(ЦехПрофессия=brh_mhe_lst)\n",
        "\n",
        "print(f'размеры датафрейма: df1: {df1.shape}, df2: {df2.shape}')\n",
        "df2.head(3)"
      ],
      "metadata": {
        "colab": {
          "base_uri": "https://localhost:8080/",
          "height": 161
        },
        "id": "P3uYqc9oi6H4",
        "outputId": "0454438c-6880-46a1-9fc7-f32af726577c"
      },
      "execution_count": 122,
      "outputs": [
        {
          "output_type": "stream",
          "name": "stdout",
          "text": [
            "размеры датафрейма: df1: (249, 191), df2: (249, 7)\n"
          ]
        },
        {
          "output_type": "execute_result",
          "data": {
            "text/plain": [
              "  ЗаключениеМКК                            Возраст  КлиентПол  \\\n",
              "0     [0, 0, 1]  [0, 0, 0, 0, 0, 1, 0, 0, 0, 0, 0]          1   \n",
              "1     [0, 0, 1]  [0, 0, 0, 0, 1, 0, 0, 0, 0, 0, 0]          1   \n",
              "2     [0, 0, 1]  [0, 0, 0, 0, 0, 1, 0, 0, 0, 0, 0]          1   \n",
              "\n",
              "                                     ВредныеФакторы           МКБ  \\\n",
              "0  [1, 1, 1, 1, 1, 0, 0, 0, 0, 0, 0, 0, 0, 0, 0, 0]  [0, 0, 0, 1]   \n",
              "1  [1, 1, 1, 1, 1, 0, 0, 0, 0, 0, 0, 0, 0, 0, 0, 0]  [0, 0, 0, 1]   \n",
              "2  [1, 1, 1, 1, 1, 0, 0, 0, 0, 0, 0, 0, 0, 0, 0, 0]  [0, 0, 0, 1]   \n",
              "\n",
              "                                          ДиагнозМКБ  \\\n",
              "0  [1, 0, 0, 0, 0, 0, 0, 0, 0, 0, 0, 0, 0, 0, 0, ...   \n",
              "1  [1, 0, 0, 0, 0, 0, 0, 0, 0, 0, 0, 0, 0, 0, 0, ...   \n",
              "2  [1, 0, 0, 0, 0, 0, 0, 0, 0, 0, 0, 0, 0, 0, 0, ...   \n",
              "\n",
              "                                        ЦехПрофессия  \n",
              "0  [0, 0, 1, 1, 1, 0, 0, 0, 0, 0, 0, 0, 0, 1, 0, ...  \n",
              "1  [0, 0, 1, 1, 1, 1, 0, 0, 0, 0, 0, 0, 0, 0, 0, ...  \n",
              "2  [0, 0, 1, 1, 1, 1, 0, 0, 0, 0, 0, 0, 0, 0, 0, ...  "
            ],
            "text/html": [
              "\n",
              "  <div id=\"df-e45ada2c-9a9d-4006-bc9d-e7d833b11b8f\">\n",
              "    <div class=\"colab-df-container\">\n",
              "      <div>\n",
              "<style scoped>\n",
              "    .dataframe tbody tr th:only-of-type {\n",
              "        vertical-align: middle;\n",
              "    }\n",
              "\n",
              "    .dataframe tbody tr th {\n",
              "        vertical-align: top;\n",
              "    }\n",
              "\n",
              "    .dataframe thead th {\n",
              "        text-align: right;\n",
              "    }\n",
              "</style>\n",
              "<table border=\"1\" class=\"dataframe\">\n",
              "  <thead>\n",
              "    <tr style=\"text-align: right;\">\n",
              "      <th></th>\n",
              "      <th>ЗаключениеМКК</th>\n",
              "      <th>Возраст</th>\n",
              "      <th>КлиентПол</th>\n",
              "      <th>ВредныеФакторы</th>\n",
              "      <th>МКБ</th>\n",
              "      <th>ДиагнозМКБ</th>\n",
              "      <th>ЦехПрофессия</th>\n",
              "    </tr>\n",
              "  </thead>\n",
              "  <tbody>\n",
              "    <tr>\n",
              "      <th>0</th>\n",
              "      <td>[0, 0, 1]</td>\n",
              "      <td>[0, 0, 0, 0, 0, 1, 0, 0, 0, 0, 0]</td>\n",
              "      <td>1</td>\n",
              "      <td>[1, 1, 1, 1, 1, 0, 0, 0, 0, 0, 0, 0, 0, 0, 0, 0]</td>\n",
              "      <td>[0, 0, 0, 1]</td>\n",
              "      <td>[1, 0, 0, 0, 0, 0, 0, 0, 0, 0, 0, 0, 0, 0, 0, ...</td>\n",
              "      <td>[0, 0, 1, 1, 1, 0, 0, 0, 0, 0, 0, 0, 0, 1, 0, ...</td>\n",
              "    </tr>\n",
              "    <tr>\n",
              "      <th>1</th>\n",
              "      <td>[0, 0, 1]</td>\n",
              "      <td>[0, 0, 0, 0, 1, 0, 0, 0, 0, 0, 0]</td>\n",
              "      <td>1</td>\n",
              "      <td>[1, 1, 1, 1, 1, 0, 0, 0, 0, 0, 0, 0, 0, 0, 0, 0]</td>\n",
              "      <td>[0, 0, 0, 1]</td>\n",
              "      <td>[1, 0, 0, 0, 0, 0, 0, 0, 0, 0, 0, 0, 0, 0, 0, ...</td>\n",
              "      <td>[0, 0, 1, 1, 1, 1, 0, 0, 0, 0, 0, 0, 0, 0, 0, ...</td>\n",
              "    </tr>\n",
              "    <tr>\n",
              "      <th>2</th>\n",
              "      <td>[0, 0, 1]</td>\n",
              "      <td>[0, 0, 0, 0, 0, 1, 0, 0, 0, 0, 0]</td>\n",
              "      <td>1</td>\n",
              "      <td>[1, 1, 1, 1, 1, 0, 0, 0, 0, 0, 0, 0, 0, 0, 0, 0]</td>\n",
              "      <td>[0, 0, 0, 1]</td>\n",
              "      <td>[1, 0, 0, 0, 0, 0, 0, 0, 0, 0, 0, 0, 0, 0, 0, ...</td>\n",
              "      <td>[0, 0, 1, 1, 1, 1, 0, 0, 0, 0, 0, 0, 0, 0, 0, ...</td>\n",
              "    </tr>\n",
              "  </tbody>\n",
              "</table>\n",
              "</div>\n",
              "      <button class=\"colab-df-convert\" onclick=\"convertToInteractive('df-e45ada2c-9a9d-4006-bc9d-e7d833b11b8f')\"\n",
              "              title=\"Convert this dataframe to an interactive table.\"\n",
              "              style=\"display:none;\">\n",
              "        \n",
              "  <svg xmlns=\"http://www.w3.org/2000/svg\" height=\"24px\"viewBox=\"0 0 24 24\"\n",
              "       width=\"24px\">\n",
              "    <path d=\"M0 0h24v24H0V0z\" fill=\"none\"/>\n",
              "    <path d=\"M18.56 5.44l.94 2.06.94-2.06 2.06-.94-2.06-.94-.94-2.06-.94 2.06-2.06.94zm-11 1L8.5 8.5l.94-2.06 2.06-.94-2.06-.94L8.5 2.5l-.94 2.06-2.06.94zm10 10l.94 2.06.94-2.06 2.06-.94-2.06-.94-.94-2.06-.94 2.06-2.06.94z\"/><path d=\"M17.41 7.96l-1.37-1.37c-.4-.4-.92-.59-1.43-.59-.52 0-1.04.2-1.43.59L10.3 9.45l-7.72 7.72c-.78.78-.78 2.05 0 2.83L4 21.41c.39.39.9.59 1.41.59.51 0 1.02-.2 1.41-.59l7.78-7.78 2.81-2.81c.8-.78.8-2.07 0-2.86zM5.41 20L4 18.59l7.72-7.72 1.47 1.35L5.41 20z\"/>\n",
              "  </svg>\n",
              "      </button>\n",
              "      \n",
              "  <style>\n",
              "    .colab-df-container {\n",
              "      display:flex;\n",
              "      flex-wrap:wrap;\n",
              "      gap: 12px;\n",
              "    }\n",
              "\n",
              "    .colab-df-convert {\n",
              "      background-color: #E8F0FE;\n",
              "      border: none;\n",
              "      border-radius: 50%;\n",
              "      cursor: pointer;\n",
              "      display: none;\n",
              "      fill: #1967D2;\n",
              "      height: 32px;\n",
              "      padding: 0 0 0 0;\n",
              "      width: 32px;\n",
              "    }\n",
              "\n",
              "    .colab-df-convert:hover {\n",
              "      background-color: #E2EBFA;\n",
              "      box-shadow: 0px 1px 2px rgba(60, 64, 67, 0.3), 0px 1px 3px 1px rgba(60, 64, 67, 0.15);\n",
              "      fill: #174EA6;\n",
              "    }\n",
              "\n",
              "    [theme=dark] .colab-df-convert {\n",
              "      background-color: #3B4455;\n",
              "      fill: #D2E3FC;\n",
              "    }\n",
              "\n",
              "    [theme=dark] .colab-df-convert:hover {\n",
              "      background-color: #434B5C;\n",
              "      box-shadow: 0px 1px 3px 1px rgba(0, 0, 0, 0.15);\n",
              "      filter: drop-shadow(0px 1px 2px rgba(0, 0, 0, 0.3));\n",
              "      fill: #FFFFFF;\n",
              "    }\n",
              "  </style>\n",
              "\n",
              "      <script>\n",
              "        const buttonEl =\n",
              "          document.querySelector('#df-e45ada2c-9a9d-4006-bc9d-e7d833b11b8f button.colab-df-convert');\n",
              "        buttonEl.style.display =\n",
              "          google.colab.kernel.accessAllowed ? 'block' : 'none';\n",
              "\n",
              "        async function convertToInteractive(key) {\n",
              "          const element = document.querySelector('#df-e45ada2c-9a9d-4006-bc9d-e7d833b11b8f');\n",
              "          const dataTable =\n",
              "            await google.colab.kernel.invokeFunction('convertToInteractive',\n",
              "                                                     [key], {});\n",
              "          if (!dataTable) return;\n",
              "\n",
              "          const docLinkHtml = 'Like what you see? Visit the ' +\n",
              "            '<a target=\"_blank\" href=https://colab.research.google.com/notebooks/data_table.ipynb>data table notebook</a>'\n",
              "            + ' to learn more about interactive tables.';\n",
              "          element.innerHTML = '';\n",
              "          dataTable['output_type'] = 'display_data';\n",
              "          await google.colab.output.renderOutput(dataTable, element);\n",
              "          const docLink = document.createElement('div');\n",
              "          docLink.innerHTML = docLinkHtml;\n",
              "          element.appendChild(docLink);\n",
              "        }\n",
              "      </script>\n",
              "    </div>\n",
              "  </div>\n",
              "  "
            ]
          },
          "metadata": {},
          "execution_count": 122
        }
      ]
    },
    {
      "cell_type": "code",
      "source": [
        "del brh_prn_lst\n",
        "del brh_prn_inxs\n",
        "del xTrainProf01\n",
        "del brh_mhe_lst"
      ],
      "metadata": {
        "id": "SEUstNHMiy1g"
      },
      "execution_count": 123,
      "outputs": []
    },
    {
      "cell_type": "markdown",
      "source": [
        "# Проверка таблицы на пустые ячейки"
      ],
      "metadata": {
        "id": "a1ZcKAKcRegL"
      }
    },
    {
      "cell_type": "code",
      "source": [
        "print(f'df2 число строк: {df2.shape[0]}')\n",
        "print(f'df2 число колонок: {df2.shape[1]}')\n",
        "\n",
        "nan_cell_count = df2.isna().sum().sum()\n",
        "nan_cell_count_proc = nan_cell_count*100/df2.size\n",
        "print(f'общее количество пропусков во всей таблице df2: {nan_cell_count}, {round(nan_cell_count_proc, 2)}%')"
      ],
      "metadata": {
        "id": "BebmNVEmRkmb",
        "colab": {
          "base_uri": "https://localhost:8080/"
        },
        "outputId": "32b44416-fdd0-4319-d55f-93d750d188fc"
      },
      "execution_count": 124,
      "outputs": [
        {
          "output_type": "stream",
          "name": "stdout",
          "text": [
            "df2 число строк: 249\n",
            "df2 число колонок: 7\n",
            "общее количество пропусков во всей таблице df2: 0, 0.0%\n"
          ]
        }
      ]
    },
    {
      "cell_type": "markdown",
      "source": [
        "# Перемешиваем все строки датафрейма2, это необходимо сделать особенно после добавления строк\n"
      ],
      "metadata": {
        "id": "EnV9-9CqRU6Z"
      }
    },
    {
      "cell_type": "code",
      "source": [
        "print(f'размеры датафрейма df2: {df2.shape}')\n",
        "df2.head(3)"
      ],
      "metadata": {
        "colab": {
          "base_uri": "https://localhost:8080/",
          "height": 161
        },
        "id": "KYXqzIUdhNYw",
        "outputId": "f508a070-94e1-49bc-9a25-05a958493603"
      },
      "execution_count": 125,
      "outputs": [
        {
          "output_type": "stream",
          "name": "stdout",
          "text": [
            "размеры датафрейма df2: (249, 7)\n"
          ]
        },
        {
          "output_type": "execute_result",
          "data": {
            "text/plain": [
              "  ЗаключениеМКК                            Возраст  КлиентПол  \\\n",
              "0     [0, 0, 1]  [0, 0, 0, 0, 0, 1, 0, 0, 0, 0, 0]          1   \n",
              "1     [0, 0, 1]  [0, 0, 0, 0, 1, 0, 0, 0, 0, 0, 0]          1   \n",
              "2     [0, 0, 1]  [0, 0, 0, 0, 0, 1, 0, 0, 0, 0, 0]          1   \n",
              "\n",
              "                                     ВредныеФакторы           МКБ  \\\n",
              "0  [1, 1, 1, 1, 1, 0, 0, 0, 0, 0, 0, 0, 0, 0, 0, 0]  [0, 0, 0, 1]   \n",
              "1  [1, 1, 1, 1, 1, 0, 0, 0, 0, 0, 0, 0, 0, 0, 0, 0]  [0, 0, 0, 1]   \n",
              "2  [1, 1, 1, 1, 1, 0, 0, 0, 0, 0, 0, 0, 0, 0, 0, 0]  [0, 0, 0, 1]   \n",
              "\n",
              "                                          ДиагнозМКБ  \\\n",
              "0  [1, 0, 0, 0, 0, 0, 0, 0, 0, 0, 0, 0, 0, 0, 0, ...   \n",
              "1  [1, 0, 0, 0, 0, 0, 0, 0, 0, 0, 0, 0, 0, 0, 0, ...   \n",
              "2  [1, 0, 0, 0, 0, 0, 0, 0, 0, 0, 0, 0, 0, 0, 0, ...   \n",
              "\n",
              "                                        ЦехПрофессия  \n",
              "0  [0, 0, 1, 1, 1, 0, 0, 0, 0, 0, 0, 0, 0, 1, 0, ...  \n",
              "1  [0, 0, 1, 1, 1, 1, 0, 0, 0, 0, 0, 0, 0, 0, 0, ...  \n",
              "2  [0, 0, 1, 1, 1, 1, 0, 0, 0, 0, 0, 0, 0, 0, 0, ...  "
            ],
            "text/html": [
              "\n",
              "  <div id=\"df-02d2b3d5-0cfd-4c9b-8bf7-6508aff1d148\">\n",
              "    <div class=\"colab-df-container\">\n",
              "      <div>\n",
              "<style scoped>\n",
              "    .dataframe tbody tr th:only-of-type {\n",
              "        vertical-align: middle;\n",
              "    }\n",
              "\n",
              "    .dataframe tbody tr th {\n",
              "        vertical-align: top;\n",
              "    }\n",
              "\n",
              "    .dataframe thead th {\n",
              "        text-align: right;\n",
              "    }\n",
              "</style>\n",
              "<table border=\"1\" class=\"dataframe\">\n",
              "  <thead>\n",
              "    <tr style=\"text-align: right;\">\n",
              "      <th></th>\n",
              "      <th>ЗаключениеМКК</th>\n",
              "      <th>Возраст</th>\n",
              "      <th>КлиентПол</th>\n",
              "      <th>ВредныеФакторы</th>\n",
              "      <th>МКБ</th>\n",
              "      <th>ДиагнозМКБ</th>\n",
              "      <th>ЦехПрофессия</th>\n",
              "    </tr>\n",
              "  </thead>\n",
              "  <tbody>\n",
              "    <tr>\n",
              "      <th>0</th>\n",
              "      <td>[0, 0, 1]</td>\n",
              "      <td>[0, 0, 0, 0, 0, 1, 0, 0, 0, 0, 0]</td>\n",
              "      <td>1</td>\n",
              "      <td>[1, 1, 1, 1, 1, 0, 0, 0, 0, 0, 0, 0, 0, 0, 0, 0]</td>\n",
              "      <td>[0, 0, 0, 1]</td>\n",
              "      <td>[1, 0, 0, 0, 0, 0, 0, 0, 0, 0, 0, 0, 0, 0, 0, ...</td>\n",
              "      <td>[0, 0, 1, 1, 1, 0, 0, 0, 0, 0, 0, 0, 0, 1, 0, ...</td>\n",
              "    </tr>\n",
              "    <tr>\n",
              "      <th>1</th>\n",
              "      <td>[0, 0, 1]</td>\n",
              "      <td>[0, 0, 0, 0, 1, 0, 0, 0, 0, 0, 0]</td>\n",
              "      <td>1</td>\n",
              "      <td>[1, 1, 1, 1, 1, 0, 0, 0, 0, 0, 0, 0, 0, 0, 0, 0]</td>\n",
              "      <td>[0, 0, 0, 1]</td>\n",
              "      <td>[1, 0, 0, 0, 0, 0, 0, 0, 0, 0, 0, 0, 0, 0, 0, ...</td>\n",
              "      <td>[0, 0, 1, 1, 1, 1, 0, 0, 0, 0, 0, 0, 0, 0, 0, ...</td>\n",
              "    </tr>\n",
              "    <tr>\n",
              "      <th>2</th>\n",
              "      <td>[0, 0, 1]</td>\n",
              "      <td>[0, 0, 0, 0, 0, 1, 0, 0, 0, 0, 0]</td>\n",
              "      <td>1</td>\n",
              "      <td>[1, 1, 1, 1, 1, 0, 0, 0, 0, 0, 0, 0, 0, 0, 0, 0]</td>\n",
              "      <td>[0, 0, 0, 1]</td>\n",
              "      <td>[1, 0, 0, 0, 0, 0, 0, 0, 0, 0, 0, 0, 0, 0, 0, ...</td>\n",
              "      <td>[0, 0, 1, 1, 1, 1, 0, 0, 0, 0, 0, 0, 0, 0, 0, ...</td>\n",
              "    </tr>\n",
              "  </tbody>\n",
              "</table>\n",
              "</div>\n",
              "      <button class=\"colab-df-convert\" onclick=\"convertToInteractive('df-02d2b3d5-0cfd-4c9b-8bf7-6508aff1d148')\"\n",
              "              title=\"Convert this dataframe to an interactive table.\"\n",
              "              style=\"display:none;\">\n",
              "        \n",
              "  <svg xmlns=\"http://www.w3.org/2000/svg\" height=\"24px\"viewBox=\"0 0 24 24\"\n",
              "       width=\"24px\">\n",
              "    <path d=\"M0 0h24v24H0V0z\" fill=\"none\"/>\n",
              "    <path d=\"M18.56 5.44l.94 2.06.94-2.06 2.06-.94-2.06-.94-.94-2.06-.94 2.06-2.06.94zm-11 1L8.5 8.5l.94-2.06 2.06-.94-2.06-.94L8.5 2.5l-.94 2.06-2.06.94zm10 10l.94 2.06.94-2.06 2.06-.94-2.06-.94-.94-2.06-.94 2.06-2.06.94z\"/><path d=\"M17.41 7.96l-1.37-1.37c-.4-.4-.92-.59-1.43-.59-.52 0-1.04.2-1.43.59L10.3 9.45l-7.72 7.72c-.78.78-.78 2.05 0 2.83L4 21.41c.39.39.9.59 1.41.59.51 0 1.02-.2 1.41-.59l7.78-7.78 2.81-2.81c.8-.78.8-2.07 0-2.86zM5.41 20L4 18.59l7.72-7.72 1.47 1.35L5.41 20z\"/>\n",
              "  </svg>\n",
              "      </button>\n",
              "      \n",
              "  <style>\n",
              "    .colab-df-container {\n",
              "      display:flex;\n",
              "      flex-wrap:wrap;\n",
              "      gap: 12px;\n",
              "    }\n",
              "\n",
              "    .colab-df-convert {\n",
              "      background-color: #E8F0FE;\n",
              "      border: none;\n",
              "      border-radius: 50%;\n",
              "      cursor: pointer;\n",
              "      display: none;\n",
              "      fill: #1967D2;\n",
              "      height: 32px;\n",
              "      padding: 0 0 0 0;\n",
              "      width: 32px;\n",
              "    }\n",
              "\n",
              "    .colab-df-convert:hover {\n",
              "      background-color: #E2EBFA;\n",
              "      box-shadow: 0px 1px 2px rgba(60, 64, 67, 0.3), 0px 1px 3px 1px rgba(60, 64, 67, 0.15);\n",
              "      fill: #174EA6;\n",
              "    }\n",
              "\n",
              "    [theme=dark] .colab-df-convert {\n",
              "      background-color: #3B4455;\n",
              "      fill: #D2E3FC;\n",
              "    }\n",
              "\n",
              "    [theme=dark] .colab-df-convert:hover {\n",
              "      background-color: #434B5C;\n",
              "      box-shadow: 0px 1px 3px 1px rgba(0, 0, 0, 0.15);\n",
              "      filter: drop-shadow(0px 1px 2px rgba(0, 0, 0, 0.3));\n",
              "      fill: #FFFFFF;\n",
              "    }\n",
              "  </style>\n",
              "\n",
              "      <script>\n",
              "        const buttonEl =\n",
              "          document.querySelector('#df-02d2b3d5-0cfd-4c9b-8bf7-6508aff1d148 button.colab-df-convert');\n",
              "        buttonEl.style.display =\n",
              "          google.colab.kernel.accessAllowed ? 'block' : 'none';\n",
              "\n",
              "        async function convertToInteractive(key) {\n",
              "          const element = document.querySelector('#df-02d2b3d5-0cfd-4c9b-8bf7-6508aff1d148');\n",
              "          const dataTable =\n",
              "            await google.colab.kernel.invokeFunction('convertToInteractive',\n",
              "                                                     [key], {});\n",
              "          if (!dataTable) return;\n",
              "\n",
              "          const docLinkHtml = 'Like what you see? Visit the ' +\n",
              "            '<a target=\"_blank\" href=https://colab.research.google.com/notebooks/data_table.ipynb>data table notebook</a>'\n",
              "            + ' to learn more about interactive tables.';\n",
              "          element.innerHTML = '';\n",
              "          dataTable['output_type'] = 'display_data';\n",
              "          await google.colab.output.renderOutput(dataTable, element);\n",
              "          const docLink = document.createElement('div');\n",
              "          docLink.innerHTML = docLinkHtml;\n",
              "          element.appendChild(docLink);\n",
              "        }\n",
              "      </script>\n",
              "    </div>\n",
              "  </div>\n",
              "  "
            ]
          },
          "metadata": {},
          "execution_count": 125
        }
      ]
    },
    {
      "cell_type": "code",
      "source": [
        "# Перемешиваем строки в нашей таблице\n",
        "df2_shuffle = df2.sample(frac=1).reset_index(drop=True)\n",
        "print(f'размеры датафрейма df2_shuffle: {df2_shuffle.shape}')\n",
        "df2_shuffle.head(3)"
      ],
      "metadata": {
        "colab": {
          "base_uri": "https://localhost:8080/",
          "height": 161
        },
        "id": "NtJeHfZsNfJv",
        "outputId": "e5ecce26-ac60-45a9-b400-609a1ca45bb4"
      },
      "execution_count": 126,
      "outputs": [
        {
          "output_type": "stream",
          "name": "stdout",
          "text": [
            "размеры датафрейма df2_shuffle: (249, 7)\n"
          ]
        },
        {
          "output_type": "execute_result",
          "data": {
            "text/plain": [
              "  ЗаключениеМКК                            Возраст  КлиентПол  \\\n",
              "0     [1, 0, 0]  [0, 0, 0, 0, 0, 0, 0, 0, 0, 0, 1]          1   \n",
              "1     [0, 0, 1]  [0, 0, 0, 0, 0, 0, 0, 1, 0, 0, 0]          1   \n",
              "2     [0, 0, 1]  [0, 0, 0, 0, 0, 0, 1, 0, 0, 0, 0]          1   \n",
              "\n",
              "                                     ВредныеФакторы           МКБ  \\\n",
              "0  [0, 0, 0, 0, 0, 0, 0, 0, 0, 1, 0, 0, 0, 0, 0, 0]  [1, 0, 1, 1]   \n",
              "1  [0, 0, 0, 0, 0, 0, 0, 1, 0, 0, 0, 0, 0, 0, 0, 0]  [1, 0, 0, 1]   \n",
              "2  [1, 1, 1, 1, 1, 0, 0, 0, 0, 0, 0, 0, 0, 0, 0, 0]  [0, 0, 0, 1]   \n",
              "\n",
              "                                          ДиагнозМКБ  \\\n",
              "0  [0, 0, 0, 0, 0, 0, 0, 0, 0, 0, 0, 0, 0, 0, 0, ...   \n",
              "1  [0, 0, 0, 1, 0, 0, 0, 0, 0, 0, 0, 0, 0, 0, 0, ...   \n",
              "2  [1, 0, 0, 0, 0, 0, 0, 0, 0, 0, 0, 0, 0, 0, 0, ...   \n",
              "\n",
              "                                        ЦехПрофессия  \n",
              "0  [0, 0, 0, 0, 0, 0, 0, 1, 0, 0, 0, 1, 0, 0, 0, ...  \n",
              "1  [0, 0, 1, 1, 0, 0, 0, 0, 0, 1, 0, 0, 0, 0, 0, ...  \n",
              "2  [0, 0, 1, 1, 1, 1, 0, 0, 0, 0, 0, 0, 0, 0, 0, ...  "
            ],
            "text/html": [
              "\n",
              "  <div id=\"df-6b2be110-013d-4a9f-be56-43bf66d05e69\">\n",
              "    <div class=\"colab-df-container\">\n",
              "      <div>\n",
              "<style scoped>\n",
              "    .dataframe tbody tr th:only-of-type {\n",
              "        vertical-align: middle;\n",
              "    }\n",
              "\n",
              "    .dataframe tbody tr th {\n",
              "        vertical-align: top;\n",
              "    }\n",
              "\n",
              "    .dataframe thead th {\n",
              "        text-align: right;\n",
              "    }\n",
              "</style>\n",
              "<table border=\"1\" class=\"dataframe\">\n",
              "  <thead>\n",
              "    <tr style=\"text-align: right;\">\n",
              "      <th></th>\n",
              "      <th>ЗаключениеМКК</th>\n",
              "      <th>Возраст</th>\n",
              "      <th>КлиентПол</th>\n",
              "      <th>ВредныеФакторы</th>\n",
              "      <th>МКБ</th>\n",
              "      <th>ДиагнозМКБ</th>\n",
              "      <th>ЦехПрофессия</th>\n",
              "    </tr>\n",
              "  </thead>\n",
              "  <tbody>\n",
              "    <tr>\n",
              "      <th>0</th>\n",
              "      <td>[1, 0, 0]</td>\n",
              "      <td>[0, 0, 0, 0, 0, 0, 0, 0, 0, 0, 1]</td>\n",
              "      <td>1</td>\n",
              "      <td>[0, 0, 0, 0, 0, 0, 0, 0, 0, 1, 0, 0, 0, 0, 0, 0]</td>\n",
              "      <td>[1, 0, 1, 1]</td>\n",
              "      <td>[0, 0, 0, 0, 0, 0, 0, 0, 0, 0, 0, 0, 0, 0, 0, ...</td>\n",
              "      <td>[0, 0, 0, 0, 0, 0, 0, 1, 0, 0, 0, 1, 0, 0, 0, ...</td>\n",
              "    </tr>\n",
              "    <tr>\n",
              "      <th>1</th>\n",
              "      <td>[0, 0, 1]</td>\n",
              "      <td>[0, 0, 0, 0, 0, 0, 0, 1, 0, 0, 0]</td>\n",
              "      <td>1</td>\n",
              "      <td>[0, 0, 0, 0, 0, 0, 0, 1, 0, 0, 0, 0, 0, 0, 0, 0]</td>\n",
              "      <td>[1, 0, 0, 1]</td>\n",
              "      <td>[0, 0, 0, 1, 0, 0, 0, 0, 0, 0, 0, 0, 0, 0, 0, ...</td>\n",
              "      <td>[0, 0, 1, 1, 0, 0, 0, 0, 0, 1, 0, 0, 0, 0, 0, ...</td>\n",
              "    </tr>\n",
              "    <tr>\n",
              "      <th>2</th>\n",
              "      <td>[0, 0, 1]</td>\n",
              "      <td>[0, 0, 0, 0, 0, 0, 1, 0, 0, 0, 0]</td>\n",
              "      <td>1</td>\n",
              "      <td>[1, 1, 1, 1, 1, 0, 0, 0, 0, 0, 0, 0, 0, 0, 0, 0]</td>\n",
              "      <td>[0, 0, 0, 1]</td>\n",
              "      <td>[1, 0, 0, 0, 0, 0, 0, 0, 0, 0, 0, 0, 0, 0, 0, ...</td>\n",
              "      <td>[0, 0, 1, 1, 1, 1, 0, 0, 0, 0, 0, 0, 0, 0, 0, ...</td>\n",
              "    </tr>\n",
              "  </tbody>\n",
              "</table>\n",
              "</div>\n",
              "      <button class=\"colab-df-convert\" onclick=\"convertToInteractive('df-6b2be110-013d-4a9f-be56-43bf66d05e69')\"\n",
              "              title=\"Convert this dataframe to an interactive table.\"\n",
              "              style=\"display:none;\">\n",
              "        \n",
              "  <svg xmlns=\"http://www.w3.org/2000/svg\" height=\"24px\"viewBox=\"0 0 24 24\"\n",
              "       width=\"24px\">\n",
              "    <path d=\"M0 0h24v24H0V0z\" fill=\"none\"/>\n",
              "    <path d=\"M18.56 5.44l.94 2.06.94-2.06 2.06-.94-2.06-.94-.94-2.06-.94 2.06-2.06.94zm-11 1L8.5 8.5l.94-2.06 2.06-.94-2.06-.94L8.5 2.5l-.94 2.06-2.06.94zm10 10l.94 2.06.94-2.06 2.06-.94-2.06-.94-.94-2.06-.94 2.06-2.06.94z\"/><path d=\"M17.41 7.96l-1.37-1.37c-.4-.4-.92-.59-1.43-.59-.52 0-1.04.2-1.43.59L10.3 9.45l-7.72 7.72c-.78.78-.78 2.05 0 2.83L4 21.41c.39.39.9.59 1.41.59.51 0 1.02-.2 1.41-.59l7.78-7.78 2.81-2.81c.8-.78.8-2.07 0-2.86zM5.41 20L4 18.59l7.72-7.72 1.47 1.35L5.41 20z\"/>\n",
              "  </svg>\n",
              "      </button>\n",
              "      \n",
              "  <style>\n",
              "    .colab-df-container {\n",
              "      display:flex;\n",
              "      flex-wrap:wrap;\n",
              "      gap: 12px;\n",
              "    }\n",
              "\n",
              "    .colab-df-convert {\n",
              "      background-color: #E8F0FE;\n",
              "      border: none;\n",
              "      border-radius: 50%;\n",
              "      cursor: pointer;\n",
              "      display: none;\n",
              "      fill: #1967D2;\n",
              "      height: 32px;\n",
              "      padding: 0 0 0 0;\n",
              "      width: 32px;\n",
              "    }\n",
              "\n",
              "    .colab-df-convert:hover {\n",
              "      background-color: #E2EBFA;\n",
              "      box-shadow: 0px 1px 2px rgba(60, 64, 67, 0.3), 0px 1px 3px 1px rgba(60, 64, 67, 0.15);\n",
              "      fill: #174EA6;\n",
              "    }\n",
              "\n",
              "    [theme=dark] .colab-df-convert {\n",
              "      background-color: #3B4455;\n",
              "      fill: #D2E3FC;\n",
              "    }\n",
              "\n",
              "    [theme=dark] .colab-df-convert:hover {\n",
              "      background-color: #434B5C;\n",
              "      box-shadow: 0px 1px 3px 1px rgba(0, 0, 0, 0.15);\n",
              "      filter: drop-shadow(0px 1px 2px rgba(0, 0, 0, 0.3));\n",
              "      fill: #FFFFFF;\n",
              "    }\n",
              "  </style>\n",
              "\n",
              "      <script>\n",
              "        const buttonEl =\n",
              "          document.querySelector('#df-6b2be110-013d-4a9f-be56-43bf66d05e69 button.colab-df-convert');\n",
              "        buttonEl.style.display =\n",
              "          google.colab.kernel.accessAllowed ? 'block' : 'none';\n",
              "\n",
              "        async function convertToInteractive(key) {\n",
              "          const element = document.querySelector('#df-6b2be110-013d-4a9f-be56-43bf66d05e69');\n",
              "          const dataTable =\n",
              "            await google.colab.kernel.invokeFunction('convertToInteractive',\n",
              "                                                     [key], {});\n",
              "          if (!dataTable) return;\n",
              "\n",
              "          const docLinkHtml = 'Like what you see? Visit the ' +\n",
              "            '<a target=\"_blank\" href=https://colab.research.google.com/notebooks/data_table.ipynb>data table notebook</a>'\n",
              "            + ' to learn more about interactive tables.';\n",
              "          element.innerHTML = '';\n",
              "          dataTable['output_type'] = 'display_data';\n",
              "          await google.colab.output.renderOutput(dataTable, element);\n",
              "          const docLink = document.createElement('div');\n",
              "          docLink.innerHTML = docLinkHtml;\n",
              "          element.appendChild(docLink);\n",
              "        }\n",
              "      </script>\n",
              "    </div>\n",
              "  </div>\n",
              "  "
            ]
          },
          "metadata": {},
          "execution_count": 126
        }
      ]
    },
    {
      "cell_type": "markdown",
      "source": [
        "# Обучение Нейросети"
      ],
      "metadata": {
        "id": "9-IXKZPOmTiX"
      }
    },
    {
      "cell_type": "markdown",
      "source": [
        "## Удаляю первый датафрейм, чтобы освободить память"
      ],
      "metadata": {
        "id": "mQrge7PajaqF"
      }
    },
    {
      "cell_type": "code",
      "source": [
        "#del df1"
      ],
      "metadata": {
        "id": "gshnEku4jk_a"
      },
      "execution_count": null,
      "outputs": []
    },
    {
      "cell_type": "markdown",
      "source": [
        "## Разделяем на отдельные выборки"
      ],
      "metadata": {
        "id": "RN7fIBTTmttw"
      }
    },
    {
      "cell_type": "code",
      "source": [
        "# y_data\n",
        "# преобразуем списки в отдельные колонки\n",
        "df_y = df2_shuffle['ЗаключениеМКК'].apply(pd.Series)\n",
        "print(f'размеры датафрейма df_y: {df_y.shape}')\n",
        "# преобразуем в numpy массив типа float\n",
        "y_data = df_y.astype(float).to_numpy()\n",
        "print('Количество осей: ', y_data.ndim)\n",
        "print('Форма массива: ', y_data.shape)\n",
        "print('Количество значений: ', y_data.size)"
      ],
      "metadata": {
        "colab": {
          "base_uri": "https://localhost:8080/"
        },
        "id": "rlzyJATTHOPY",
        "outputId": "924db03d-aebf-4799-b292-b1a7620fc701"
      },
      "execution_count": 127,
      "outputs": [
        {
          "output_type": "stream",
          "name": "stdout",
          "text": [
            "размеры датафрейма df_y: (249, 3)\n",
            "Количество осей:  2\n",
            "Форма массива:  (249, 3)\n",
            "Количество значений:  747\n"
          ]
        }
      ]
    },
    {
      "cell_type": "code",
      "source": [
        "# x1_data -> категориальные признаки\n",
        "# 2023.05.08 - 2023.06.26\n",
        "#df_x1 = df2_shuffle.drop(['ЗаключениеМКК','АртДавление','ИМТ'], axis = 1)\n",
        "df_x1 = df2_shuffle.drop(['ЗаключениеМКК'], axis = 1)\n",
        "df_x1.head(3)"
      ],
      "metadata": {
        "colab": {
          "base_uri": "https://localhost:8080/",
          "height": 143
        },
        "id": "_1y0KZ0H3UCh",
        "outputId": "0412158d-800a-49e9-f505-e44b926cca39"
      },
      "execution_count": 128,
      "outputs": [
        {
          "output_type": "execute_result",
          "data": {
            "text/plain": [
              "                             Возраст  КлиентПол  \\\n",
              "0  [0, 0, 0, 0, 0, 0, 0, 0, 0, 0, 1]          1   \n",
              "1  [0, 0, 0, 0, 0, 0, 0, 1, 0, 0, 0]          1   \n",
              "2  [0, 0, 0, 0, 0, 0, 1, 0, 0, 0, 0]          1   \n",
              "\n",
              "                                     ВредныеФакторы           МКБ  \\\n",
              "0  [0, 0, 0, 0, 0, 0, 0, 0, 0, 1, 0, 0, 0, 0, 0, 0]  [1, 0, 1, 1]   \n",
              "1  [0, 0, 0, 0, 0, 0, 0, 1, 0, 0, 0, 0, 0, 0, 0, 0]  [1, 0, 0, 1]   \n",
              "2  [1, 1, 1, 1, 1, 0, 0, 0, 0, 0, 0, 0, 0, 0, 0, 0]  [0, 0, 0, 1]   \n",
              "\n",
              "                                          ДиагнозМКБ  \\\n",
              "0  [0, 0, 0, 0, 0, 0, 0, 0, 0, 0, 0, 0, 0, 0, 0, ...   \n",
              "1  [0, 0, 0, 1, 0, 0, 0, 0, 0, 0, 0, 0, 0, 0, 0, ...   \n",
              "2  [1, 0, 0, 0, 0, 0, 0, 0, 0, 0, 0, 0, 0, 0, 0, ...   \n",
              "\n",
              "                                        ЦехПрофессия  \n",
              "0  [0, 0, 0, 0, 0, 0, 0, 1, 0, 0, 0, 1, 0, 0, 0, ...  \n",
              "1  [0, 0, 1, 1, 0, 0, 0, 0, 0, 1, 0, 0, 0, 0, 0, ...  \n",
              "2  [0, 0, 1, 1, 1, 1, 0, 0, 0, 0, 0, 0, 0, 0, 0, ...  "
            ],
            "text/html": [
              "\n",
              "  <div id=\"df-ecb15b13-e4a1-401b-914e-313ab60f6dca\">\n",
              "    <div class=\"colab-df-container\">\n",
              "      <div>\n",
              "<style scoped>\n",
              "    .dataframe tbody tr th:only-of-type {\n",
              "        vertical-align: middle;\n",
              "    }\n",
              "\n",
              "    .dataframe tbody tr th {\n",
              "        vertical-align: top;\n",
              "    }\n",
              "\n",
              "    .dataframe thead th {\n",
              "        text-align: right;\n",
              "    }\n",
              "</style>\n",
              "<table border=\"1\" class=\"dataframe\">\n",
              "  <thead>\n",
              "    <tr style=\"text-align: right;\">\n",
              "      <th></th>\n",
              "      <th>Возраст</th>\n",
              "      <th>КлиентПол</th>\n",
              "      <th>ВредныеФакторы</th>\n",
              "      <th>МКБ</th>\n",
              "      <th>ДиагнозМКБ</th>\n",
              "      <th>ЦехПрофессия</th>\n",
              "    </tr>\n",
              "  </thead>\n",
              "  <tbody>\n",
              "    <tr>\n",
              "      <th>0</th>\n",
              "      <td>[0, 0, 0, 0, 0, 0, 0, 0, 0, 0, 1]</td>\n",
              "      <td>1</td>\n",
              "      <td>[0, 0, 0, 0, 0, 0, 0, 0, 0, 1, 0, 0, 0, 0, 0, 0]</td>\n",
              "      <td>[1, 0, 1, 1]</td>\n",
              "      <td>[0, 0, 0, 0, 0, 0, 0, 0, 0, 0, 0, 0, 0, 0, 0, ...</td>\n",
              "      <td>[0, 0, 0, 0, 0, 0, 0, 1, 0, 0, 0, 1, 0, 0, 0, ...</td>\n",
              "    </tr>\n",
              "    <tr>\n",
              "      <th>1</th>\n",
              "      <td>[0, 0, 0, 0, 0, 0, 0, 1, 0, 0, 0]</td>\n",
              "      <td>1</td>\n",
              "      <td>[0, 0, 0, 0, 0, 0, 0, 1, 0, 0, 0, 0, 0, 0, 0, 0]</td>\n",
              "      <td>[1, 0, 0, 1]</td>\n",
              "      <td>[0, 0, 0, 1, 0, 0, 0, 0, 0, 0, 0, 0, 0, 0, 0, ...</td>\n",
              "      <td>[0, 0, 1, 1, 0, 0, 0, 0, 0, 1, 0, 0, 0, 0, 0, ...</td>\n",
              "    </tr>\n",
              "    <tr>\n",
              "      <th>2</th>\n",
              "      <td>[0, 0, 0, 0, 0, 0, 1, 0, 0, 0, 0]</td>\n",
              "      <td>1</td>\n",
              "      <td>[1, 1, 1, 1, 1, 0, 0, 0, 0, 0, 0, 0, 0, 0, 0, 0]</td>\n",
              "      <td>[0, 0, 0, 1]</td>\n",
              "      <td>[1, 0, 0, 0, 0, 0, 0, 0, 0, 0, 0, 0, 0, 0, 0, ...</td>\n",
              "      <td>[0, 0, 1, 1, 1, 1, 0, 0, 0, 0, 0, 0, 0, 0, 0, ...</td>\n",
              "    </tr>\n",
              "  </tbody>\n",
              "</table>\n",
              "</div>\n",
              "      <button class=\"colab-df-convert\" onclick=\"convertToInteractive('df-ecb15b13-e4a1-401b-914e-313ab60f6dca')\"\n",
              "              title=\"Convert this dataframe to an interactive table.\"\n",
              "              style=\"display:none;\">\n",
              "        \n",
              "  <svg xmlns=\"http://www.w3.org/2000/svg\" height=\"24px\"viewBox=\"0 0 24 24\"\n",
              "       width=\"24px\">\n",
              "    <path d=\"M0 0h24v24H0V0z\" fill=\"none\"/>\n",
              "    <path d=\"M18.56 5.44l.94 2.06.94-2.06 2.06-.94-2.06-.94-.94-2.06-.94 2.06-2.06.94zm-11 1L8.5 8.5l.94-2.06 2.06-.94-2.06-.94L8.5 2.5l-.94 2.06-2.06.94zm10 10l.94 2.06.94-2.06 2.06-.94-2.06-.94-.94-2.06-.94 2.06-2.06.94z\"/><path d=\"M17.41 7.96l-1.37-1.37c-.4-.4-.92-.59-1.43-.59-.52 0-1.04.2-1.43.59L10.3 9.45l-7.72 7.72c-.78.78-.78 2.05 0 2.83L4 21.41c.39.39.9.59 1.41.59.51 0 1.02-.2 1.41-.59l7.78-7.78 2.81-2.81c.8-.78.8-2.07 0-2.86zM5.41 20L4 18.59l7.72-7.72 1.47 1.35L5.41 20z\"/>\n",
              "  </svg>\n",
              "      </button>\n",
              "      \n",
              "  <style>\n",
              "    .colab-df-container {\n",
              "      display:flex;\n",
              "      flex-wrap:wrap;\n",
              "      gap: 12px;\n",
              "    }\n",
              "\n",
              "    .colab-df-convert {\n",
              "      background-color: #E8F0FE;\n",
              "      border: none;\n",
              "      border-radius: 50%;\n",
              "      cursor: pointer;\n",
              "      display: none;\n",
              "      fill: #1967D2;\n",
              "      height: 32px;\n",
              "      padding: 0 0 0 0;\n",
              "      width: 32px;\n",
              "    }\n",
              "\n",
              "    .colab-df-convert:hover {\n",
              "      background-color: #E2EBFA;\n",
              "      box-shadow: 0px 1px 2px rgba(60, 64, 67, 0.3), 0px 1px 3px 1px rgba(60, 64, 67, 0.15);\n",
              "      fill: #174EA6;\n",
              "    }\n",
              "\n",
              "    [theme=dark] .colab-df-convert {\n",
              "      background-color: #3B4455;\n",
              "      fill: #D2E3FC;\n",
              "    }\n",
              "\n",
              "    [theme=dark] .colab-df-convert:hover {\n",
              "      background-color: #434B5C;\n",
              "      box-shadow: 0px 1px 3px 1px rgba(0, 0, 0, 0.15);\n",
              "      filter: drop-shadow(0px 1px 2px rgba(0, 0, 0, 0.3));\n",
              "      fill: #FFFFFF;\n",
              "    }\n",
              "  </style>\n",
              "\n",
              "      <script>\n",
              "        const buttonEl =\n",
              "          document.querySelector('#df-ecb15b13-e4a1-401b-914e-313ab60f6dca button.colab-df-convert');\n",
              "        buttonEl.style.display =\n",
              "          google.colab.kernel.accessAllowed ? 'block' : 'none';\n",
              "\n",
              "        async function convertToInteractive(key) {\n",
              "          const element = document.querySelector('#df-ecb15b13-e4a1-401b-914e-313ab60f6dca');\n",
              "          const dataTable =\n",
              "            await google.colab.kernel.invokeFunction('convertToInteractive',\n",
              "                                                     [key], {});\n",
              "          if (!dataTable) return;\n",
              "\n",
              "          const docLinkHtml = 'Like what you see? Visit the ' +\n",
              "            '<a target=\"_blank\" href=https://colab.research.google.com/notebooks/data_table.ipynb>data table notebook</a>'\n",
              "            + ' to learn more about interactive tables.';\n",
              "          element.innerHTML = '';\n",
              "          dataTable['output_type'] = 'display_data';\n",
              "          await google.colab.output.renderOutput(dataTable, element);\n",
              "          const docLink = document.createElement('div');\n",
              "          docLink.innerHTML = docLinkHtml;\n",
              "          element.appendChild(docLink);\n",
              "        }\n",
              "      </script>\n",
              "    </div>\n",
              "  </div>\n",
              "  "
            ]
          },
          "metadata": {},
          "execution_count": 128
        }
      ]
    },
    {
      "cell_type": "code",
      "source": [
        "# x2_data -> числовые признаки\n",
        "# 2023.05.08 - 2023.06.26\n",
        "# df_x2 = df2_shuffle.drop(['ЗаключениеМКК','Возраст','КлиентПол','ТипМедосмотра','ПсихОсвидетельствование','ДиспансернаяГруппа','ВредныеФакторы','МКБ','ГинекологияГНГ','ДерматовенерологияГНГ','НеврологияГНГ','ОториноларингологияГНГ','ОфтальмологияГНГ','ПсихиатрияГНГ','ПсихиатрияНаркологияГНГ','СтоматологияГНГ','ТерапияГНГ','ХирургияГНГ','ЦехПрофессия'], axis = 1)\n",
        "# df_x2.head(3)"
      ],
      "metadata": {
        "id": "ANOusa1KMpb1"
      },
      "execution_count": 129,
      "outputs": []
    },
    {
      "cell_type": "code",
      "source": [
        "# Формируем массив x1_data-категориальные\n",
        "# трансформируем one-hot-encoding списки в отдельные колонки (для df_x1)\n",
        "split_col_names = list()\n",
        "\n",
        "# 2023.05.08 - 2023.06.26\n",
        "#~~~~~~~~~~~~~~~~~~~~~~~~\n",
        "# split_col_names.append('Возраст')\n",
        "# split_col_names.append('ДиспансернаяГруппа')\n",
        "# split_col_names.append('ВредныеФакторы')\n",
        "# split_col_names.append('МКБ')\n",
        "\n",
        "# split_col_names.append('ГинекологияГНГ')\n",
        "# split_col_names.append('ДерматовенерологияГНГ')\n",
        "# split_col_names.append('НеврологияГНГ')\n",
        "# split_col_names.append('ОториноларингологияГНГ')\n",
        "# split_col_names.append('ОфтальмологияГНГ')\n",
        "# split_col_names.append('ПсихиатрияГНГ')\n",
        "# split_col_names.append('ПсихиатрияНаркологияГНГ')\n",
        "# split_col_names.append('СтоматологияГНГ')\n",
        "# split_col_names.append('ТерапияГНГ')\n",
        "# split_col_names.append('ХирургияГНГ')\n",
        "\n",
        "# split_col_names.append('ЦехПрофессия')\n",
        "#~~~~~~~~~~~~~~~~~~~~~~~~\n",
        "split_col_names.append('Возраст')\n",
        "split_col_names.append('ВредныеФакторы')\n",
        "split_col_names.append('МКБ')\n",
        "split_col_names.append('ДиагнозМКБ')\n",
        "split_col_names.append('ЦехПрофессия')\n",
        "#~~~~~~~~~~~~~~~~~~~~~~~~\n",
        "\n",
        "for col_name in split_col_names:\n",
        "  df_x1 = pd.concat([df_x1.drop(col_name, axis=1), df_x1[col_name].apply(pd.Series)], axis=1)\n",
        "\n",
        "# преобразуем в numpy массив типа float\n",
        "x1_data = df_x1.astype(float).to_numpy()\n",
        "print('Количество осей: ', x1_data.ndim)\n",
        "print('Форма массива: ', x1_data.shape)\n",
        "print('Количество значений: ', x1_data.size)"
      ],
      "metadata": {
        "colab": {
          "base_uri": "https://localhost:8080/"
        },
        "id": "WcUw2tiX7-yO",
        "outputId": "650ffb26-ccff-473b-b691-411a766af379"
      },
      "execution_count": 130,
      "outputs": [
        {
          "output_type": "stream",
          "name": "stdout",
          "text": [
            "Количество осей:  2\n",
            "Форма массива:  (249, 847)\n",
            "Количество значений:  210903\n"
          ]
        }
      ]
    },
    {
      "cell_type": "code",
      "source": [
        "# # 2023.05.08 - 2023.06.26\n",
        "# # Формируем массив x2_data-числовые\n",
        "# x2_data = df_x2.astype(float).to_numpy()\n",
        "# print('Количество осей: ', x2_data.ndim)\n",
        "# print('Форма массива: ', x2_data.shape)\n",
        "# print('Количество значений: ', x2_data.size)"
      ],
      "metadata": {
        "id": "tGxLxYTMKeu5"
      },
      "execution_count": 131,
      "outputs": []
    },
    {
      "cell_type": "code",
      "source": [
        "# del df2\n",
        "\n",
        "del df2_shuffle\n",
        "del df_y\n",
        "del df_x1\n",
        "# del df_x2"
      ],
      "metadata": {
        "id": "_UyOlN3qJYf4"
      },
      "execution_count": 132,
      "outputs": []
    },
    {
      "cell_type": "markdown",
      "source": [
        "## Общие настройки и функции"
      ],
      "metadata": {
        "id": "Kx3NwSpgwtXM"
      }
    },
    {
      "cell_type": "code",
      "source": [
        "# Переменные-настройки-параметры-для-обучения-сети\n",
        "LEARNING_RATE = 1e-3\n",
        "BATCH_SIZE = 128\n",
        "EPOCHS = 150\n",
        "VERBOSE = 1\n",
        "#percent: 0..1\n",
        "TEST_DATA_SIZE = 0.15\n",
        "VALID_DATA_SIZE = 0.05\n",
        "\n",
        "#~~~~~~~~~~~~~~~~~~~~~~~~\n",
        "print(f'LEARNING_RATE: {LEARNING_RATE}')\n",
        "print(f'BATCH_SIZE: {BATCH_SIZE}')\n",
        "print(f'EPOCHS: {EPOCHS}')\n",
        "print(f'VERBOSE: {VERBOSE}')\n",
        "print(f'TEST_DATA_SIZE: {TEST_DATA_SIZE}')\n",
        "print(f'VALID_DATA_SIZE: {VALID_DATA_SIZE}')"
      ],
      "metadata": {
        "colab": {
          "base_uri": "https://localhost:8080/"
        },
        "id": "DRPTZgOxxMNU",
        "outputId": "f9c3ab9f-31a9-4b4e-fc2b-920ac2a505f3"
      },
      "execution_count": 141,
      "outputs": [
        {
          "output_type": "stream",
          "name": "stdout",
          "text": [
            "LEARNING_RATE: 0.001\n",
            "BATCH_SIZE: 128\n",
            "EPOCHS: 150\n",
            "VERBOSE: 1\n",
            "TEST_DATA_SIZE: 0.15\n",
            "VALID_DATA_SIZE: 0.05\n"
          ]
        }
      ]
    },
    {
      "cell_type": "code",
      "source": [
        "#~~~~~~~~~~~~~~~~~~~~~~~~\n",
        "# Графическое представление результатов работы нейросети\n",
        "#~~~~~~~~~~~~~~~~~~~~~~~~\n",
        "def printNNChart(history_n):\n",
        "  '''\n",
        "    Отображенние на графике результатов работы нейронной сети (Neural Network)\n",
        "    вход:\n",
        "        history_n: массив результатов работы нейросети\n",
        "  '''\n",
        "  # Создание полотна для рисунка\n",
        "  plt.figure(figsize=(18,5))\n",
        "\n",
        "  # Задание первой (левой) области для построения графиков\n",
        "  plt.subplot(1, 2, 1)\n",
        "  # Отрисовка графиков 'loss' и 'val_loss' из значений словаря history.history\n",
        "  plt.plot(history_n.history['loss'],\n",
        "           color='blue',\n",
        "           label = 'Значение ошибки на обучающем наборе')\n",
        "  plt.plot(history_n.history['val_loss'],\n",
        "           color='red',\n",
        "           label = 'Значение ошибки на проверочном наборе')\n",
        "  # Задание подписей осей\n",
        "  plt.xlabel('Эпоха обучения')\n",
        "  plt.ylabel('Значение ошибки')\n",
        "  plt.legend()\n",
        "  plt.grid(which = 'major', color = 'black', alpha = 0.3)\n",
        "  plt.minorticks_on()\n",
        "  plt.grid(which = 'minor', color = 'gray', linestyle = '--', alpha = 0.3)\n",
        "\n",
        "  # Задание второй (правой) области для построения графиков\n",
        "  plt.subplot(1, 2, 2)\n",
        "  # Отрисовка графиков 'accuracy' и 'val_accuracy' из значений словаря history.history\n",
        "  plt.plot(history_n.history['accuracy'],\n",
        "           color='blue',\n",
        "           label = 'Доля верных ответов на обучающем наборе')\n",
        "  plt.plot(history_n.history['val_accuracy'],\n",
        "           color='red',\n",
        "           label = 'Доля верных ответов на проверочном наборе')\n",
        "  # Задание подписей осей\n",
        "  plt.xlabel('Эпоха обучения')\n",
        "  plt.ylabel('Доля верных ответов')\n",
        "  plt.legend()\n",
        "  plt.grid(which = 'major', color = 'black', alpha = 0.3)\n",
        "  plt.minorticks_on()\n",
        "  plt.grid(which = 'minor', color = 'gray', linestyle = '--', alpha = 0.3)\n",
        "\n",
        "  # Фиксация графиков и рисование всей картинки\n",
        "  plt.show()"
      ],
      "metadata": {
        "id": "9yLaUl0-xgt8"
      },
      "execution_count": 142,
      "outputs": []
    },
    {
      "cell_type": "markdown",
      "source": [
        "## Нейронка1 - категориальные(текстовые трансформированы в категориальные) признаки"
      ],
      "metadata": {
        "id": "EIFcB3oGPJgt"
      }
    },
    {
      "cell_type": "code",
      "source": [
        "# Создание обучающей и тестовой выборки\n",
        "x_train, x_test, y_train, y_test = train_test_split(x1_data, # набор параметров\n",
        "                                                    y_data, # набор меток классов\n",
        "                                                    test_size=TEST_DATA_SIZE, # процент в тестовую\n",
        "                                                    shuffle=True, #  перемешивание\n",
        "                                                    random_state=3) # воспроизводимость\n",
        "# Выведем размерность полученных выборок\n",
        "print('Обучающая выборка параметров', x_train.shape)\n",
        "print('Обучающая выборка меток классов', y_train.shape)\n",
        "print()\n",
        "print('Тестовая выборка параметров', x_test.shape)\n",
        "print('Тестовая выборка меток классов', y_test.shape)"
      ],
      "metadata": {
        "id": "JNGWqEsirY5g",
        "colab": {
          "base_uri": "https://localhost:8080/"
        },
        "outputId": "1ca83a0f-92fd-4f9c-cf02-93da49d85006"
      },
      "execution_count": 143,
      "outputs": [
        {
          "output_type": "stream",
          "name": "stdout",
          "text": [
            "Обучающая выборка параметров (211, 847)\n",
            "Обучающая выборка меток классов (211, 3)\n",
            "\n",
            "Тестовая выборка параметров (38, 847)\n",
            "Тестовая выборка меток классов (38, 3)\n"
          ]
        }
      ]
    },
    {
      "cell_type": "code",
      "source": [
        "# Создание модели\n",
        "model1 = Sequential()\n",
        "\n",
        "# Добавление слоев\n",
        "model1.add(Dense(60, input_dim=x_train.shape[1], activation='relu'))\n",
        "\n",
        "model1.add(BatchNormalization())\n",
        "model1.add(Dropout(0.2))\n",
        "model1.add(Dense(30))\n",
        "\n",
        "model1.add(BatchNormalization())\n",
        "model1.add(Dropout(0.2))\n",
        "model1.add(Dense(10))\n",
        "\n",
        "model1.add(Dense(3, activation = 'softmax'))"
      ],
      "metadata": {
        "id": "gDSNkDBwxiqy"
      },
      "execution_count": 144,
      "outputs": []
    },
    {
      "cell_type": "code",
      "source": [
        "# Компиляция\n",
        "model1.compile(loss='categorical_crossentropy',\n",
        "               optimizer=Adam(learning_rate=LEARNING_RATE),\n",
        "               metrics=['accuracy'])"
      ],
      "metadata": {
        "id": "FW33Z1cyRPir"
      },
      "execution_count": 145,
      "outputs": []
    },
    {
      "cell_type": "code",
      "source": [
        "# Обучение нейронной сети\n",
        "history1 = model1.fit(x_train,                             # Обучающая выборка параметров\n",
        "                      y_train,                             # Обучающая выборка меток класса\n",
        "                      batch_size=BATCH_SIZE,               # Размер батча (пакета)\n",
        "                      epochs=EPOCHS,                       # Количество эпох обучения\n",
        "                      validation_split=VALID_DATA_SIZE,    # Доля проверочной выборки\n",
        "                      verbose=VERBOSE)                     # Отображение хода обучения"
      ],
      "metadata": {
        "colab": {
          "base_uri": "https://localhost:8080/"
        },
        "id": "k62UzzXMQwBT",
        "outputId": "b9a1deac-096b-42ca-a441-2da492a39862"
      },
      "execution_count": 146,
      "outputs": [
        {
          "output_type": "stream",
          "name": "stdout",
          "text": [
            "Epoch 1/150\n",
            "2/2 [==============================] - 2s 298ms/step - loss: 1.7542 - accuracy: 0.3100 - val_loss: 1.0970 - val_accuracy: 0.2727\n",
            "Epoch 2/150\n",
            "2/2 [==============================] - 0s 55ms/step - loss: 1.6655 - accuracy: 0.3100 - val_loss: 1.0805 - val_accuracy: 0.3636\n",
            "Epoch 3/150\n",
            "2/2 [==============================] - 0s 62ms/step - loss: 1.4493 - accuracy: 0.3900 - val_loss: 1.0655 - val_accuracy: 0.4545\n",
            "Epoch 4/150\n",
            "2/2 [==============================] - 0s 64ms/step - loss: 1.4374 - accuracy: 0.3300 - val_loss: 1.0508 - val_accuracy: 0.7273\n",
            "Epoch 5/150\n",
            "2/2 [==============================] - 0s 59ms/step - loss: 1.2842 - accuracy: 0.3800 - val_loss: 1.0357 - val_accuracy: 0.8182\n",
            "Epoch 6/150\n",
            "2/2 [==============================] - 0s 60ms/step - loss: 1.2489 - accuracy: 0.4150 - val_loss: 1.0194 - val_accuracy: 0.8182\n",
            "Epoch 7/150\n",
            "2/2 [==============================] - 0s 60ms/step - loss: 1.1857 - accuracy: 0.4600 - val_loss: 1.0025 - val_accuracy: 0.8182\n",
            "Epoch 8/150\n",
            "2/2 [==============================] - 0s 71ms/step - loss: 1.1995 - accuracy: 0.4550 - val_loss: 0.9875 - val_accuracy: 0.8182\n",
            "Epoch 9/150\n",
            "2/2 [==============================] - 0s 70ms/step - loss: 1.2119 - accuracy: 0.5000 - val_loss: 0.9729 - val_accuracy: 0.9091\n",
            "Epoch 10/150\n",
            "2/2 [==============================] - 0s 64ms/step - loss: 1.1476 - accuracy: 0.4550 - val_loss: 0.9600 - val_accuracy: 0.9091\n",
            "Epoch 11/150\n",
            "2/2 [==============================] - 0s 45ms/step - loss: 1.0857 - accuracy: 0.5450 - val_loss: 0.9480 - val_accuracy: 0.9091\n",
            "Epoch 12/150\n",
            "2/2 [==============================] - 0s 52ms/step - loss: 1.0725 - accuracy: 0.5200 - val_loss: 0.9375 - val_accuracy: 0.9091\n",
            "Epoch 13/150\n",
            "2/2 [==============================] - 0s 60ms/step - loss: 1.0606 - accuracy: 0.5150 - val_loss: 0.9276 - val_accuracy: 0.9091\n",
            "Epoch 14/150\n",
            "2/2 [==============================] - 0s 38ms/step - loss: 1.0002 - accuracy: 0.5650 - val_loss: 0.9180 - val_accuracy: 0.9091\n",
            "Epoch 15/150\n",
            "2/2 [==============================] - 0s 40ms/step - loss: 0.9675 - accuracy: 0.5800 - val_loss: 0.9094 - val_accuracy: 0.9091\n",
            "Epoch 16/150\n",
            "2/2 [==============================] - 0s 62ms/step - loss: 0.9866 - accuracy: 0.5600 - val_loss: 0.9004 - val_accuracy: 0.9091\n",
            "Epoch 17/150\n",
            "2/2 [==============================] - 0s 56ms/step - loss: 0.9623 - accuracy: 0.5700 - val_loss: 0.8921 - val_accuracy: 0.9091\n",
            "Epoch 18/150\n",
            "2/2 [==============================] - 0s 58ms/step - loss: 0.8649 - accuracy: 0.6500 - val_loss: 0.8819 - val_accuracy: 0.9091\n",
            "Epoch 19/150\n",
            "2/2 [==============================] - 0s 43ms/step - loss: 0.9568 - accuracy: 0.5950 - val_loss: 0.8713 - val_accuracy: 0.9091\n",
            "Epoch 20/150\n",
            "2/2 [==============================] - 0s 39ms/step - loss: 0.9340 - accuracy: 0.6500 - val_loss: 0.8604 - val_accuracy: 0.9091\n",
            "Epoch 21/150\n",
            "2/2 [==============================] - 0s 57ms/step - loss: 0.8847 - accuracy: 0.6800 - val_loss: 0.8489 - val_accuracy: 0.9091\n",
            "Epoch 22/150\n",
            "2/2 [==============================] - 0s 55ms/step - loss: 0.9272 - accuracy: 0.6450 - val_loss: 0.8378 - val_accuracy: 0.9091\n",
            "Epoch 23/150\n",
            "2/2 [==============================] - 0s 57ms/step - loss: 0.8750 - accuracy: 0.6700 - val_loss: 0.8249 - val_accuracy: 0.9091\n",
            "Epoch 24/150\n",
            "2/2 [==============================] - 0s 40ms/step - loss: 0.8779 - accuracy: 0.6750 - val_loss: 0.8121 - val_accuracy: 0.9091\n",
            "Epoch 25/150\n",
            "2/2 [==============================] - 0s 42ms/step - loss: 0.7605 - accuracy: 0.7150 - val_loss: 0.7989 - val_accuracy: 0.9091\n",
            "Epoch 26/150\n",
            "2/2 [==============================] - 0s 40ms/step - loss: 0.8129 - accuracy: 0.6800 - val_loss: 0.7864 - val_accuracy: 0.9091\n",
            "Epoch 27/150\n",
            "2/2 [==============================] - 0s 51ms/step - loss: 0.7859 - accuracy: 0.7300 - val_loss: 0.7746 - val_accuracy: 0.9091\n",
            "Epoch 28/150\n",
            "2/2 [==============================] - 0s 42ms/step - loss: 0.7369 - accuracy: 0.7650 - val_loss: 0.7630 - val_accuracy: 0.9091\n",
            "Epoch 29/150\n",
            "2/2 [==============================] - 0s 62ms/step - loss: 0.7645 - accuracy: 0.7000 - val_loss: 0.7521 - val_accuracy: 0.9091\n",
            "Epoch 30/150\n",
            "2/2 [==============================] - 0s 44ms/step - loss: 0.6587 - accuracy: 0.7800 - val_loss: 0.7408 - val_accuracy: 0.9091\n",
            "Epoch 31/150\n",
            "2/2 [==============================] - 0s 42ms/step - loss: 0.7360 - accuracy: 0.7400 - val_loss: 0.7300 - val_accuracy: 0.9091\n",
            "Epoch 32/150\n",
            "2/2 [==============================] - 0s 45ms/step - loss: 0.7120 - accuracy: 0.7900 - val_loss: 0.7191 - val_accuracy: 0.9091\n",
            "Epoch 33/150\n",
            "2/2 [==============================] - 0s 62ms/step - loss: 0.6237 - accuracy: 0.8750 - val_loss: 0.7084 - val_accuracy: 0.9091\n",
            "Epoch 34/150\n",
            "2/2 [==============================] - 0s 65ms/step - loss: 0.6800 - accuracy: 0.8300 - val_loss: 0.6978 - val_accuracy: 0.9091\n",
            "Epoch 35/150\n",
            "2/2 [==============================] - 0s 62ms/step - loss: 0.6714 - accuracy: 0.8400 - val_loss: 0.6888 - val_accuracy: 0.9091\n",
            "Epoch 36/150\n",
            "2/2 [==============================] - 0s 61ms/step - loss: 0.6260 - accuracy: 0.8550 - val_loss: 0.6803 - val_accuracy: 0.9091\n",
            "Epoch 37/150\n",
            "2/2 [==============================] - 0s 58ms/step - loss: 0.5925 - accuracy: 0.8350 - val_loss: 0.6703 - val_accuracy: 0.9091\n",
            "Epoch 38/150\n",
            "2/2 [==============================] - 0s 42ms/step - loss: 0.5722 - accuracy: 0.8850 - val_loss: 0.6605 - val_accuracy: 0.9091\n",
            "Epoch 39/150\n",
            "2/2 [==============================] - 0s 59ms/step - loss: 0.6972 - accuracy: 0.8250 - val_loss: 0.6500 - val_accuracy: 0.9091\n",
            "Epoch 40/150\n",
            "2/2 [==============================] - 0s 63ms/step - loss: 0.5675 - accuracy: 0.8700 - val_loss: 0.6393 - val_accuracy: 0.9091\n",
            "Epoch 41/150\n",
            "2/2 [==============================] - 0s 60ms/step - loss: 0.5196 - accuracy: 0.9050 - val_loss: 0.6291 - val_accuracy: 0.9091\n",
            "Epoch 42/150\n",
            "2/2 [==============================] - 0s 59ms/step - loss: 0.5271 - accuracy: 0.8600 - val_loss: 0.6194 - val_accuracy: 0.9091\n",
            "Epoch 43/150\n",
            "2/2 [==============================] - 0s 63ms/step - loss: 0.5442 - accuracy: 0.8900 - val_loss: 0.6076 - val_accuracy: 0.9091\n",
            "Epoch 44/150\n",
            "2/2 [==============================] - 0s 60ms/step - loss: 0.5087 - accuracy: 0.8950 - val_loss: 0.5977 - val_accuracy: 0.9091\n",
            "Epoch 45/150\n",
            "2/2 [==============================] - 0s 42ms/step - loss: 0.5702 - accuracy: 0.8950 - val_loss: 0.5888 - val_accuracy: 0.9091\n",
            "Epoch 46/150\n",
            "2/2 [==============================] - 0s 46ms/step - loss: 0.5062 - accuracy: 0.8800 - val_loss: 0.5808 - val_accuracy: 0.9091\n",
            "Epoch 47/150\n",
            "2/2 [==============================] - 0s 63ms/step - loss: 0.4593 - accuracy: 0.9150 - val_loss: 0.5727 - val_accuracy: 0.9091\n",
            "Epoch 48/150\n",
            "2/2 [==============================] - 0s 85ms/step - loss: 0.5471 - accuracy: 0.8900 - val_loss: 0.5638 - val_accuracy: 0.9091\n",
            "Epoch 49/150\n",
            "2/2 [==============================] - 0s 59ms/step - loss: 0.4869 - accuracy: 0.9100 - val_loss: 0.5560 - val_accuracy: 0.9091\n",
            "Epoch 50/150\n",
            "2/2 [==============================] - 0s 84ms/step - loss: 0.5007 - accuracy: 0.9150 - val_loss: 0.5495 - val_accuracy: 0.9091\n",
            "Epoch 51/150\n",
            "2/2 [==============================] - 0s 97ms/step - loss: 0.4303 - accuracy: 0.9150 - val_loss: 0.5440 - val_accuracy: 0.9091\n",
            "Epoch 52/150\n",
            "2/2 [==============================] - 0s 64ms/step - loss: 0.4201 - accuracy: 0.9100 - val_loss: 0.5373 - val_accuracy: 0.9091\n",
            "Epoch 53/150\n",
            "2/2 [==============================] - 0s 81ms/step - loss: 0.3800 - accuracy: 0.9300 - val_loss: 0.5285 - val_accuracy: 0.9091\n",
            "Epoch 54/150\n",
            "2/2 [==============================] - 0s 76ms/step - loss: 0.4013 - accuracy: 0.9300 - val_loss: 0.5208 - val_accuracy: 0.9091\n",
            "Epoch 55/150\n",
            "2/2 [==============================] - 0s 61ms/step - loss: 0.4240 - accuracy: 0.9300 - val_loss: 0.5131 - val_accuracy: 0.9091\n",
            "Epoch 56/150\n",
            "2/2 [==============================] - 0s 63ms/step - loss: 0.3643 - accuracy: 0.9500 - val_loss: 0.5063 - val_accuracy: 0.9091\n",
            "Epoch 57/150\n",
            "2/2 [==============================] - 0s 80ms/step - loss: 0.3529 - accuracy: 0.9300 - val_loss: 0.4990 - val_accuracy: 0.9091\n",
            "Epoch 58/150\n",
            "2/2 [==============================] - 0s 90ms/step - loss: 0.3487 - accuracy: 0.9400 - val_loss: 0.4925 - val_accuracy: 0.9091\n",
            "Epoch 59/150\n",
            "2/2 [==============================] - 0s 72ms/step - loss: 0.3875 - accuracy: 0.9250 - val_loss: 0.4849 - val_accuracy: 0.9091\n",
            "Epoch 60/150\n",
            "2/2 [==============================] - 0s 87ms/step - loss: 0.3150 - accuracy: 0.9450 - val_loss: 0.4782 - val_accuracy: 0.9091\n",
            "Epoch 61/150\n",
            "2/2 [==============================] - 0s 85ms/step - loss: 0.3302 - accuracy: 0.9550 - val_loss: 0.4707 - val_accuracy: 0.9091\n",
            "Epoch 62/150\n",
            "2/2 [==============================] - 0s 85ms/step - loss: 0.2720 - accuracy: 0.9650 - val_loss: 0.4648 - val_accuracy: 0.9091\n",
            "Epoch 63/150\n",
            "2/2 [==============================] - 0s 59ms/step - loss: 0.2631 - accuracy: 0.9550 - val_loss: 0.4604 - val_accuracy: 0.9091\n",
            "Epoch 64/150\n",
            "2/2 [==============================] - 0s 72ms/step - loss: 0.2880 - accuracy: 0.9300 - val_loss: 0.4561 - val_accuracy: 0.9091\n",
            "Epoch 65/150\n",
            "2/2 [==============================] - 0s 80ms/step - loss: 0.2501 - accuracy: 0.9750 - val_loss: 0.4512 - val_accuracy: 0.9091\n",
            "Epoch 66/150\n",
            "2/2 [==============================] - 0s 66ms/step - loss: 0.2328 - accuracy: 0.9850 - val_loss: 0.4447 - val_accuracy: 0.9091\n",
            "Epoch 67/150\n",
            "2/2 [==============================] - 0s 64ms/step - loss: 0.2380 - accuracy: 0.9700 - val_loss: 0.4387 - val_accuracy: 0.9091\n",
            "Epoch 68/150\n",
            "2/2 [==============================] - 0s 81ms/step - loss: 0.2010 - accuracy: 0.9750 - val_loss: 0.4352 - val_accuracy: 0.9091\n",
            "Epoch 69/150\n",
            "2/2 [==============================] - 0s 77ms/step - loss: 0.2276 - accuracy: 0.9600 - val_loss: 0.4337 - val_accuracy: 0.9091\n",
            "Epoch 70/150\n",
            "2/2 [==============================] - 0s 74ms/step - loss: 0.1861 - accuracy: 0.9750 - val_loss: 0.4343 - val_accuracy: 0.9091\n",
            "Epoch 71/150\n",
            "2/2 [==============================] - 0s 91ms/step - loss: 0.1830 - accuracy: 0.9850 - val_loss: 0.4347 - val_accuracy: 0.9091\n",
            "Epoch 72/150\n",
            "2/2 [==============================] - 0s 61ms/step - loss: 0.2306 - accuracy: 0.9550 - val_loss: 0.4348 - val_accuracy: 0.9091\n",
            "Epoch 73/150\n",
            "2/2 [==============================] - 0s 78ms/step - loss: 0.2023 - accuracy: 0.9800 - val_loss: 0.4333 - val_accuracy: 0.9091\n",
            "Epoch 74/150\n",
            "2/2 [==============================] - 0s 85ms/step - loss: 0.1963 - accuracy: 0.9650 - val_loss: 0.4296 - val_accuracy: 0.9091\n",
            "Epoch 75/150\n",
            "2/2 [==============================] - 0s 83ms/step - loss: 0.2456 - accuracy: 0.9500 - val_loss: 0.4249 - val_accuracy: 0.9091\n",
            "Epoch 76/150\n",
            "2/2 [==============================] - 0s 83ms/step - loss: 0.1859 - accuracy: 0.9750 - val_loss: 0.4193 - val_accuracy: 0.9091\n",
            "Epoch 77/150\n",
            "2/2 [==============================] - 0s 64ms/step - loss: 0.1562 - accuracy: 0.9850 - val_loss: 0.4149 - val_accuracy: 0.9091\n",
            "Epoch 78/150\n",
            "2/2 [==============================] - 0s 47ms/step - loss: 0.1264 - accuracy: 0.9950 - val_loss: 0.4117 - val_accuracy: 0.9091\n",
            "Epoch 79/150\n",
            "2/2 [==============================] - 0s 43ms/step - loss: 0.2029 - accuracy: 0.9650 - val_loss: 0.4095 - val_accuracy: 0.9091\n",
            "Epoch 80/150\n",
            "2/2 [==============================] - 0s 61ms/step - loss: 0.1611 - accuracy: 0.9700 - val_loss: 0.4068 - val_accuracy: 0.9091\n",
            "Epoch 81/150\n",
            "2/2 [==============================] - 0s 43ms/step - loss: 0.1443 - accuracy: 0.9850 - val_loss: 0.4037 - val_accuracy: 0.9091\n",
            "Epoch 82/150\n",
            "2/2 [==============================] - 0s 63ms/step - loss: 0.1305 - accuracy: 0.9900 - val_loss: 0.4026 - val_accuracy: 0.9091\n",
            "Epoch 83/150\n",
            "2/2 [==============================] - 0s 43ms/step - loss: 0.1551 - accuracy: 0.9750 - val_loss: 0.4032 - val_accuracy: 0.9091\n",
            "Epoch 84/150\n",
            "2/2 [==============================] - 0s 64ms/step - loss: 0.1554 - accuracy: 0.9800 - val_loss: 0.4050 - val_accuracy: 0.9091\n",
            "Epoch 85/150\n",
            "2/2 [==============================] - 0s 62ms/step - loss: 0.1240 - accuracy: 0.9850 - val_loss: 0.4083 - val_accuracy: 0.9091\n",
            "Epoch 86/150\n",
            "2/2 [==============================] - 0s 62ms/step - loss: 0.1061 - accuracy: 0.9900 - val_loss: 0.4106 - val_accuracy: 0.9091\n",
            "Epoch 87/150\n",
            "2/2 [==============================] - 0s 43ms/step - loss: 0.1083 - accuracy: 0.9750 - val_loss: 0.4130 - val_accuracy: 0.9091\n",
            "Epoch 88/150\n",
            "2/2 [==============================] - 0s 58ms/step - loss: 0.0933 - accuracy: 0.9950 - val_loss: 0.4155 - val_accuracy: 0.9091\n",
            "Epoch 89/150\n",
            "2/2 [==============================] - 0s 62ms/step - loss: 0.1257 - accuracy: 0.9700 - val_loss: 0.4181 - val_accuracy: 0.9091\n",
            "Epoch 90/150\n",
            "2/2 [==============================] - 0s 41ms/step - loss: 0.0812 - accuracy: 0.9950 - val_loss: 0.4211 - val_accuracy: 0.9091\n",
            "Epoch 91/150\n",
            "2/2 [==============================] - 0s 58ms/step - loss: 0.1250 - accuracy: 0.9750 - val_loss: 0.4237 - val_accuracy: 0.9091\n",
            "Epoch 92/150\n",
            "2/2 [==============================] - 0s 43ms/step - loss: 0.0996 - accuracy: 0.9900 - val_loss: 0.4249 - val_accuracy: 0.9091\n",
            "Epoch 93/150\n",
            "2/2 [==============================] - 0s 44ms/step - loss: 0.0756 - accuracy: 0.9900 - val_loss: 0.4262 - val_accuracy: 0.9091\n",
            "Epoch 94/150\n",
            "2/2 [==============================] - 0s 57ms/step - loss: 0.1131 - accuracy: 0.9800 - val_loss: 0.4261 - val_accuracy: 0.9091\n",
            "Epoch 95/150\n",
            "2/2 [==============================] - 0s 69ms/step - loss: 0.1075 - accuracy: 0.9800 - val_loss: 0.4258 - val_accuracy: 0.9091\n",
            "Epoch 96/150\n",
            "2/2 [==============================] - 0s 48ms/step - loss: 0.0655 - accuracy: 0.9950 - val_loss: 0.4256 - val_accuracy: 0.9091\n",
            "Epoch 97/150\n",
            "2/2 [==============================] - 0s 45ms/step - loss: 0.0916 - accuracy: 0.9800 - val_loss: 0.4283 - val_accuracy: 0.9091\n",
            "Epoch 98/150\n",
            "2/2 [==============================] - 0s 44ms/step - loss: 0.1046 - accuracy: 0.9850 - val_loss: 0.4321 - val_accuracy: 0.9091\n",
            "Epoch 99/150\n",
            "2/2 [==============================] - 0s 49ms/step - loss: 0.0673 - accuracy: 0.9950 - val_loss: 0.4348 - val_accuracy: 0.9091\n",
            "Epoch 100/150\n",
            "2/2 [==============================] - 0s 59ms/step - loss: 0.0785 - accuracy: 0.9950 - val_loss: 0.4378 - val_accuracy: 0.9091\n",
            "Epoch 101/150\n",
            "2/2 [==============================] - 0s 61ms/step - loss: 0.0747 - accuracy: 0.9850 - val_loss: 0.4405 - val_accuracy: 0.9091\n",
            "Epoch 102/150\n",
            "2/2 [==============================] - 0s 61ms/step - loss: 0.1137 - accuracy: 0.9850 - val_loss: 0.4406 - val_accuracy: 0.9091\n",
            "Epoch 103/150\n",
            "2/2 [==============================] - 0s 64ms/step - loss: 0.0708 - accuracy: 0.9900 - val_loss: 0.4385 - val_accuracy: 0.9091\n",
            "Epoch 104/150\n",
            "2/2 [==============================] - 0s 41ms/step - loss: 0.0522 - accuracy: 0.9950 - val_loss: 0.4360 - val_accuracy: 0.9091\n",
            "Epoch 105/150\n",
            "2/2 [==============================] - 0s 40ms/step - loss: 0.0596 - accuracy: 0.9900 - val_loss: 0.4350 - val_accuracy: 0.9091\n",
            "Epoch 106/150\n",
            "2/2 [==============================] - 0s 38ms/step - loss: 0.0989 - accuracy: 0.9700 - val_loss: 0.4318 - val_accuracy: 0.9091\n",
            "Epoch 107/150\n",
            "2/2 [==============================] - 0s 56ms/step - loss: 0.0660 - accuracy: 0.9950 - val_loss: 0.4262 - val_accuracy: 0.9091\n",
            "Epoch 108/150\n",
            "2/2 [==============================] - 0s 57ms/step - loss: 0.0475 - accuracy: 1.0000 - val_loss: 0.4224 - val_accuracy: 0.9091\n",
            "Epoch 109/150\n",
            "2/2 [==============================] - 0s 55ms/step - loss: 0.0670 - accuracy: 0.9900 - val_loss: 0.4206 - val_accuracy: 0.9091\n",
            "Epoch 110/150\n",
            "2/2 [==============================] - 0s 58ms/step - loss: 0.0714 - accuracy: 0.9950 - val_loss: 0.4196 - val_accuracy: 0.9091\n",
            "Epoch 111/150\n",
            "2/2 [==============================] - 0s 40ms/step - loss: 0.0477 - accuracy: 0.9950 - val_loss: 0.4207 - val_accuracy: 0.9091\n",
            "Epoch 112/150\n",
            "2/2 [==============================] - 0s 41ms/step - loss: 0.0480 - accuracy: 0.9900 - val_loss: 0.4236 - val_accuracy: 0.9091\n",
            "Epoch 113/150\n",
            "2/2 [==============================] - 0s 40ms/step - loss: 0.0663 - accuracy: 0.9850 - val_loss: 0.4279 - val_accuracy: 0.9091\n",
            "Epoch 114/150\n",
            "2/2 [==============================] - 0s 44ms/step - loss: 0.0721 - accuracy: 0.9950 - val_loss: 0.4324 - val_accuracy: 0.9091\n",
            "Epoch 115/150\n",
            "2/2 [==============================] - 0s 62ms/step - loss: 0.0281 - accuracy: 1.0000 - val_loss: 0.4355 - val_accuracy: 0.9091\n",
            "Epoch 116/150\n",
            "2/2 [==============================] - 0s 39ms/step - loss: 0.1021 - accuracy: 0.9700 - val_loss: 0.4358 - val_accuracy: 0.9091\n",
            "Epoch 117/150\n",
            "2/2 [==============================] - 0s 58ms/step - loss: 0.0443 - accuracy: 1.0000 - val_loss: 0.4368 - val_accuracy: 0.9091\n",
            "Epoch 118/150\n",
            "2/2 [==============================] - 0s 41ms/step - loss: 0.0380 - accuracy: 0.9950 - val_loss: 0.4383 - val_accuracy: 0.9091\n",
            "Epoch 119/150\n",
            "2/2 [==============================] - 0s 57ms/step - loss: 0.0315 - accuracy: 1.0000 - val_loss: 0.4399 - val_accuracy: 0.9091\n",
            "Epoch 120/150\n",
            "2/2 [==============================] - 0s 57ms/step - loss: 0.0571 - accuracy: 0.9950 - val_loss: 0.4428 - val_accuracy: 0.9091\n",
            "Epoch 121/150\n",
            "2/2 [==============================] - 0s 38ms/step - loss: 0.0855 - accuracy: 0.9900 - val_loss: 0.4464 - val_accuracy: 0.9091\n",
            "Epoch 122/150\n",
            "2/2 [==============================] - 0s 57ms/step - loss: 0.0318 - accuracy: 1.0000 - val_loss: 0.4496 - val_accuracy: 0.9091\n",
            "Epoch 123/150\n",
            "2/2 [==============================] - 0s 56ms/step - loss: 0.0455 - accuracy: 0.9900 - val_loss: 0.4533 - val_accuracy: 0.9091\n",
            "Epoch 124/150\n",
            "2/2 [==============================] - 0s 40ms/step - loss: 0.0609 - accuracy: 0.9950 - val_loss: 0.4588 - val_accuracy: 0.9091\n",
            "Epoch 125/150\n",
            "2/2 [==============================] - 0s 47ms/step - loss: 0.0379 - accuracy: 0.9950 - val_loss: 0.4663 - val_accuracy: 0.9091\n",
            "Epoch 126/150\n",
            "2/2 [==============================] - 0s 43ms/step - loss: 0.0357 - accuracy: 0.9950 - val_loss: 0.4723 - val_accuracy: 0.9091\n",
            "Epoch 127/150\n",
            "2/2 [==============================] - 0s 39ms/step - loss: 0.0795 - accuracy: 0.9900 - val_loss: 0.4789 - val_accuracy: 0.9091\n",
            "Epoch 128/150\n",
            "2/2 [==============================] - 0s 41ms/step - loss: 0.0285 - accuracy: 0.9950 - val_loss: 0.4841 - val_accuracy: 0.9091\n",
            "Epoch 129/150\n",
            "2/2 [==============================] - 0s 61ms/step - loss: 0.0489 - accuracy: 0.9950 - val_loss: 0.4887 - val_accuracy: 0.9091\n",
            "Epoch 130/150\n",
            "2/2 [==============================] - 0s 40ms/step - loss: 0.0512 - accuracy: 0.9950 - val_loss: 0.4908 - val_accuracy: 0.9091\n",
            "Epoch 131/150\n",
            "2/2 [==============================] - 0s 59ms/step - loss: 0.0226 - accuracy: 1.0000 - val_loss: 0.4916 - val_accuracy: 0.9091\n",
            "Epoch 132/150\n",
            "2/2 [==============================] - 0s 152ms/step - loss: 0.0294 - accuracy: 0.9950 - val_loss: 0.4913 - val_accuracy: 0.9091\n",
            "Epoch 133/150\n",
            "2/2 [==============================] - 0s 193ms/step - loss: 0.0366 - accuracy: 0.9900 - val_loss: 0.4907 - val_accuracy: 0.9091\n",
            "Epoch 134/150\n",
            "2/2 [==============================] - 0s 165ms/step - loss: 0.0446 - accuracy: 0.9900 - val_loss: 0.4893 - val_accuracy: 0.9091\n",
            "Epoch 135/150\n",
            "2/2 [==============================] - 0s 98ms/step - loss: 0.0252 - accuracy: 1.0000 - val_loss: 0.4866 - val_accuracy: 0.9091\n",
            "Epoch 136/150\n",
            "2/2 [==============================] - 0s 60ms/step - loss: 0.0623 - accuracy: 0.9850 - val_loss: 0.4878 - val_accuracy: 0.9091\n",
            "Epoch 137/150\n",
            "2/2 [==============================] - 0s 45ms/step - loss: 0.0288 - accuracy: 0.9950 - val_loss: 0.4939 - val_accuracy: 0.9091\n",
            "Epoch 138/150\n",
            "2/2 [==============================] - 0s 44ms/step - loss: 0.0630 - accuracy: 0.9900 - val_loss: 0.5003 - val_accuracy: 0.9091\n",
            "Epoch 139/150\n",
            "2/2 [==============================] - 0s 58ms/step - loss: 0.0555 - accuracy: 0.9950 - val_loss: 0.5075 - val_accuracy: 0.9091\n",
            "Epoch 140/150\n",
            "2/2 [==============================] - 0s 65ms/step - loss: 0.0338 - accuracy: 0.9950 - val_loss: 0.5157 - val_accuracy: 0.9091\n",
            "Epoch 141/150\n",
            "2/2 [==============================] - 0s 68ms/step - loss: 0.0281 - accuracy: 0.9950 - val_loss: 0.5227 - val_accuracy: 0.9091\n",
            "Epoch 142/150\n",
            "2/2 [==============================] - 0s 209ms/step - loss: 0.0206 - accuracy: 1.0000 - val_loss: 0.5292 - val_accuracy: 0.9091\n",
            "Epoch 143/150\n",
            "2/2 [==============================] - 0s 190ms/step - loss: 0.0345 - accuracy: 1.0000 - val_loss: 0.5364 - val_accuracy: 0.9091\n",
            "Epoch 144/150\n",
            "2/2 [==============================] - 0s 205ms/step - loss: 0.0256 - accuracy: 0.9950 - val_loss: 0.5421 - val_accuracy: 0.9091\n",
            "Epoch 145/150\n",
            "2/2 [==============================] - 0s 75ms/step - loss: 0.0316 - accuracy: 1.0000 - val_loss: 0.5439 - val_accuracy: 0.9091\n",
            "Epoch 146/150\n",
            "2/2 [==============================] - 0s 58ms/step - loss: 0.0194 - accuracy: 1.0000 - val_loss: 0.5455 - val_accuracy: 0.9091\n",
            "Epoch 147/150\n",
            "2/2 [==============================] - 0s 47ms/step - loss: 0.0171 - accuracy: 1.0000 - val_loss: 0.5485 - val_accuracy: 0.9091\n",
            "Epoch 148/150\n",
            "2/2 [==============================] - 0s 60ms/step - loss: 0.0175 - accuracy: 1.0000 - val_loss: 0.5521 - val_accuracy: 0.9091\n",
            "Epoch 149/150\n",
            "2/2 [==============================] - 0s 64ms/step - loss: 0.0601 - accuracy: 0.9850 - val_loss: 0.5552 - val_accuracy: 0.9091\n",
            "Epoch 150/150\n",
            "2/2 [==============================] - 0s 57ms/step - loss: 0.0140 - accuracy: 1.0000 - val_loss: 0.5589 - val_accuracy: 0.9091\n"
          ]
        }
      ]
    },
    {
      "cell_type": "code",
      "source": [
        "# Отобразим результаты на графике\n",
        "printNNChart(history1)"
      ],
      "metadata": {
        "colab": {
          "base_uri": "https://localhost:8080/",
          "height": 421
        },
        "id": "TsYLPRY61WWa",
        "outputId": "f20253d8-4677-423f-8517-a638aee39798"
      },
      "execution_count": 147,
      "outputs": [
        {
          "output_type": "display_data",
          "data": {
            "text/plain": [
              "<Figure size 1800x500 with 2 Axes>"
            ],
            "image/png": "[encoded data removed]"
          },
          "metadata": {}
        }
      ]
    },
    {
      "cell_type": "code",
      "source": [
        "# Оценим результат работы нашей сети.\n",
        "# Применим метод .evaluate() к нашей модели, в качестве параметров\n",
        "# передадим ему тестовые выборки и согласие на отображение хода вычисления.\n",
        "\n",
        "scores1 = model1.evaluate(x_test,\n",
        "                          y_test,\n",
        "                          verbose=1)\n",
        "\n",
        "print('Процент верных ответов на тестовых данных:', round(scores1[1],2) * 100, '%')"
      ],
      "metadata": {
        "colab": {
          "base_uri": "https://localhost:8080/"
        },
        "id": "5pOL29ttV2fB",
        "outputId": "03be43a9-0567-4982-932f-21f6c67b37a3"
      },
      "execution_count": 148,
      "outputs": [
        {
          "output_type": "stream",
          "name": "stdout",
          "text": [
            "2/2 [==============================] - 0s 7ms/step - loss: 0.2971 - accuracy: 0.9211\n",
            "Процент верных ответов на тестовых данных: 92.0 %\n"
          ]
        }
      ]
    },
    {
      "cell_type": "code",
      "source": [
        "# Вывод значения точности распознавания на проверочной выборке по эпохам\n",
        "print(f'Эпохи: {EPOCHS}')\n",
        "print(\"=\"*50)\n",
        "\n",
        "# val_accuracy\n",
        "val_acc1 = history1.history['val_accuracy']\n",
        "i_max = 0\n",
        "val_acc_max = -1.0\n",
        "for i in range(EPOCHS):\n",
        "  # print(f'{i}->{EPOCHS}: {round(val_acc1[i], 3)}%')\n",
        "  if val_acc1[i] > val_acc_max:\n",
        "    val_acc_max = val_acc1[i]\n",
        "    i_max = i\n",
        "\n",
        "print(f'Самая точная нейронка под номером: {i_max} из {EPOCHS} эпох')\n",
        "print(f'  достигла точности: {round(val_acc1[i]*100., 3)}%')"
      ],
      "metadata": {
        "colab": {
          "base_uri": "https://localhost:8080/"
        },
        "id": "QHbWPXgz5LRK",
        "outputId": "c3a05716-53eb-4554-a736-3984dfdcde1f"
      },
      "execution_count": 149,
      "outputs": [
        {
          "output_type": "stream",
          "name": "stdout",
          "text": [
            "Эпохи: 150\n",
            "==================================================\n",
            "Самая точная нейронка под номером: 8 из 150 эпох\n",
            "  достигла точности: 90.909%\n"
          ]
        }
      ]
    },
    {
      "cell_type": "markdown",
      "source": [
        "## F1Score - статистика предсказаний по тестовой выборке"
      ],
      "metadata": {
        "id": "EIZY7qaTFIbC"
      }
    },
    {
      "cell_type": "code",
      "source": [
        "# Распознавание ЗаключениеМК на тестовой выборке\n",
        "# x_test, y_test -> массивы, которые не принимали участия в обучении нейронки\n",
        "print('x_test, y_test -> массивы, которые не принимали участия в обучении нейронки:')\n",
        "print('  x_test:')\n",
        "print('    Количество осей: ',x_test.ndim)\n",
        "print('    Форма массива: ',x_test.shape)\n",
        "print('    Количество значений: ',x_test.size)\n",
        "print('  y_test:')\n",
        "print('    Количество осей: ',y_test.ndim)\n",
        "print('    Форма массива: ',y_test.shape)\n",
        "print('    Количество значений: ',y_test.size)"
      ],
      "metadata": {
        "colab": {
          "base_uri": "https://localhost:8080/"
        },
        "id": "cKO7235TGlaK",
        "outputId": "76fd44d4-75d7-4c7f-8268-43497d8a3044"
      },
      "execution_count": 150,
      "outputs": [
        {
          "output_type": "stream",
          "name": "stdout",
          "text": [
            "x_test, y_test -> массивы, которые не принимали участия в обучении нейронки:\n",
            "  x_test:\n",
            "    Количество осей:  2\n",
            "    Форма массива:  (38, 847)\n",
            "    Количество значений:  32186\n",
            "  y_test:\n",
            "    Количество осей:  2\n",
            "    Форма массива:  (38, 3)\n",
            "    Количество значений:  114\n"
          ]
        }
      ]
    },
    {
      "cell_type": "code",
      "source": [
        "pred1 = model1.predict(x_test)\n",
        "\n",
        "# У нас три класса:\n",
        "# 0 - не годен, 1 - ограниченно годен, 2 - годен\n",
        "# Подсчитаем по каждому верное и неверное предсказания\n",
        "arr_true = np.zeros(3, dtype=int)\n",
        "arr_false = np.zeros(3, dtype=int)\n",
        "\n",
        "for i in range(y_test.shape[0]):\n",
        "  # Получение индекса самого большого элемента\n",
        "  # потому что мы имеем дело с one-hot-encoding, поэтому необходимо\n",
        "  # определить элемент в массиве с максимальным значением,\n",
        "  # индекс этого элемента и будет говорить о верном элементе\n",
        "  #~индекс тестового элемента\n",
        "  y_inx_max = np.argmax(y_test[i,:])\n",
        "  #~индекс предсказанного элемента\n",
        "  pred_inx_max = np.argmax(pred1[i,:])\n",
        "  #~~~\n",
        "  if y_inx_max == pred_inx_max:\n",
        "    # верное предсказание\n",
        "    arr_true[y_inx_max] += 1\n",
        "  else:\n",
        "    # неверное предсказания\n",
        "    arr_false[y_inx_max] += 1\n",
        "\n",
        "# Результаты предсказаний по тестовой выборке\n",
        "print('Результаты предсказаний по тестовой выборке:')\n",
        "print(f'  размер тествой выборки: {y_test.shape[0]}')\n",
        "print(f'  0 - не годен, предсказания:')\n",
        "print(f'     верное: {arr_true[0]}')\n",
        "print(f'     неверное: {arr_false[0]}')\n",
        "print(f'  1 - ограниченно годен, предсказания:')\n",
        "print(f'     верное: {arr_true[1]}')\n",
        "print(f'     неверное: {arr_false[1]}')\n",
        "print(f'  2 - годен:')\n",
        "print(f'     верное: {arr_true[2]}')\n",
        "print(f'     неверное: {arr_false[2]}')\n",
        "\n",
        "print('проверочная сумма:')\n",
        "\n",
        "print(f'  {y_test.shape[0]} -> {arr_true[0]+arr_false[0]+arr_true[1]+arr_false[1]+arr_true[2]+arr_false[2]}')"
      ],
      "metadata": {
        "colab": {
          "base_uri": "https://localhost:8080/"
        },
        "id": "4Vw2hVe0G_kZ",
        "outputId": "b338a1a9-ab66-4bd6-f4d8-66b2040b09e7"
      },
      "execution_count": 151,
      "outputs": [
        {
          "output_type": "stream",
          "name": "stdout",
          "text": [
            "2/2 [==============================] - 0s 5ms/step\n",
            "Результаты предсказаний по тестовой выборке:\n",
            "  размер тествой выборки: 38\n",
            "  0 - не годен, предсказания:\n",
            "     верное: 0\n",
            "     неверное: 1\n",
            "  1 - ограниченно годен, предсказания:\n",
            "     верное: 0\n",
            "     неверное: 1\n",
            "  2 - годен:\n",
            "     верное: 35\n",
            "     неверное: 1\n",
            "проверочная сумма:\n",
            "  38 -> 38\n"
          ]
        }
      ]
    },
    {
      "cell_type": "code",
      "source": [
        "# conclusion_lst = ['не годен', 'ограниченно годен', 'годен']\n",
        "\n",
        "fig, ax = plt.subplots()\n",
        "\n",
        "index = np.arange(len(conclusion_lst))\n",
        "bar_width = 0.35\n",
        "\n",
        "rects1 = ax.bar(index, arr_true, bar_width, color='g', label='Верное предсказание')\n",
        "rects2 = ax.bar(index + bar_width, arr_false, bar_width, color='r', label='Неверное предсказание')\n",
        "\n",
        "ax.set_xlabel('ЗаключениеМК')\n",
        "ax.set_ylabel('Количество ответов')\n",
        "ax.set_title('Статистика ответов-предсказаний предсказаний по тестовой выборке')\n",
        "ax.set_xticks(index + bar_width / 2)\n",
        "ax.set_xticklabels(conclusion_lst)\n",
        "\n",
        "ax.legend()\n",
        "\n",
        "for rect, value in zip(rects1, arr_true):\n",
        "    height = rect.get_height()\n",
        "    ax.annotate('{}'.format(value),\n",
        "                xy=(rect.get_x() + rect.get_width() / 2, height),\n",
        "                xytext=(0, 1),  # 3 points vertical offset\n",
        "                textcoords=\"offset points\",\n",
        "                ha='center', va='bottom')\n",
        "\n",
        "for rect, value in zip(rects2, arr_false):\n",
        "    height = rect.get_height()\n",
        "    ax.annotate('{}'.format(value),\n",
        "                xy=(rect.get_x() + rect.get_width() / 2, height),\n",
        "                xytext=(0, 1),  # 3 points vertical offset\n",
        "                textcoords=\"offset points\",\n",
        "                ha='center', va='bottom')\n",
        "\n",
        "plt.show()"
      ],
      "metadata": {
        "colab": {
          "base_uri": "https://localhost:8080/",
          "height": 472
        },
        "id": "8C86OTm6045W",
        "outputId": "0e9c66da-486f-437c-985b-bb140df96e28"
      },
      "execution_count": 152,
      "outputs": [
        {
          "output_type": "display_data",
          "data": {
            "text/plain": [
              "<Figure size 640x480 with 1 Axes>"
            ],
            "image/png": "[encoded data removed]"
          },
          "metadata": {}
        }
      ]
    },
    {
      "cell_type": "markdown",
      "source": [
        "## Нейронка2 - категориальные+числовые (Модель FunctionalAPI-Составная нейронка)"
      ],
      "metadata": {
        "id": "rDXBs0uwYiHQ"
      }
    },
    {
      "cell_type": "markdown",
      "source": [
        "# 2023.05.08 - 2023.06.26"
      ],
      "metadata": {
        "id": "ITjUTc2ZzvaG"
      }
    },
    {
      "cell_type": "code",
      "source": [
        "# print('y_data:')\n",
        "# print('  Количество осей: ',y_data.ndim)\n",
        "# print('  Форма массива: ',y_data.shape)\n",
        "# print('  Количество значений: ',y_data.size)\n",
        "\n",
        "# print('x1_data:')\n",
        "# print('  Количество осей: ',x1_data.ndim)\n",
        "# print('  Форма массива: ',x1_data.shape)\n",
        "# print('  Количество значений: ',x1_data.size)\n",
        "\n",
        "# print('x2_data:')\n",
        "# print('  Количество осей: ',x2_data.ndim)\n",
        "# print('  Форма массива: ',x2_data.shape)\n",
        "# print('  Количество значений: ',x2_data.size)\n",
        "\n",
        "# #~~~~~~~~~~~~~~~~~~~~~~~~\n",
        "# input1 = Input((x1_data.shape[1],))\n",
        "# input2 = Input((x2_data.shape[1],))\n",
        "\n",
        "# #~~~~~~~~~~~~~~~~~~~~~~~~\n",
        "# # Создаем ветку x1\n",
        "# # x1 = BatchNormalization()(input1) # Создаем ветку x1\n",
        "# # x1 = Dropout(0.5)(x1)\n",
        "# # x1 = Dense(10, activation=\"relu\")(x1)\n",
        "# # x1 = Dense(1000, activation=\"relu\")(x1)\n",
        "# # x1 = Dense(100, activation = \"relu\")(x1)\n",
        "\n",
        "# x1 = Dense(60, activation=\"relu\")(input1)\n",
        "\n",
        "# x1 = BatchNormalization()(x1)\n",
        "# x1 = Dropout(0.2)(x1)\n",
        "# x1 = Dense(30, activation=\"relu\")(x1)\n",
        "\n",
        "# x1 = BatchNormalization()(x1)\n",
        "# x1 = Dropout(0.2)(x1)\n",
        "# x1 = Dense(10, activation=\"relu\")(x1)\n",
        "\n",
        "# #~~~~~~~~~~~~~~~~~~~~~~~~\n",
        "# # Создаем ветку x2\n",
        "# x2 = Dense(60, activation=\"relu\")(input2)\n",
        "\n",
        "# x2 = BatchNormalization()(x2)\n",
        "# x2 = Dropout(0.2)(x2)\n",
        "# x2 = Dense(30, activation=\"relu\")(x2)\n",
        "\n",
        "# x2 = BatchNormalization()(x2)\n",
        "# x2 = Dropout(0.2)(x2)\n",
        "# x2 = Dense(10, activation=\"relu\")(x2)\n",
        "\n",
        "# #~~~~~~~~~~~~~~~~~~~~~~~~\n",
        "# # Объединяем все две(три) ветки\n",
        "# x = concatenate([x1, x2])\n",
        "# x = Dense(5, activation='relu')(x)\n",
        "# x = Dropout(0.5)(x)\n",
        "# # Финальные нейроны\n",
        "# x = Dense(3, activation='softmax')(x)\n",
        "\n",
        "# #~~~~~~~~~~~~~~~~~~~~~~~~\n",
        "# # В Model загружаем стартовые и последнюю точки\n",
        "# model2 = Model((input1, input2), x)\n"
      ],
      "metadata": {
        "colab": {
          "base_uri": "https://localhost:8080/"
        },
        "id": "5QHPAY-uaPgP",
        "outputId": "c311e47e-983a-40f4-ce05-e4c8f838d185"
      },
      "execution_count": null,
      "outputs": [
        {
          "output_type": "stream",
          "name": "stdout",
          "text": [
            "y_data:\n",
            "  Количество осей:  2\n",
            "  Форма массива:  (3014, 3)\n",
            "  Количество значений:  9042\n",
            "x1_data:\n",
            "  Количество осей:  2\n",
            "  Форма массива:  (3014, 834)\n",
            "  Количество значений:  2513676\n",
            "x2_data:\n",
            "  Количество осей:  2\n",
            "  Форма массива:  (3014, 2)\n",
            "  Количество значений:  6028\n"
          ]
        }
      ]
    },
    {
      "cell_type": "code",
      "source": [
        "# # Компиляция\n",
        "# model2.compile(loss='categorical_crossentropy',\n",
        "#                optimizer=Adam(learning_rate=LEARNING_RATE),\n",
        "#                metrics=['accuracy'])"
      ],
      "metadata": {
        "id": "Ys-xgXwneXaV"
      },
      "execution_count": null,
      "outputs": []
    },
    {
      "cell_type": "code",
      "source": [
        "# splitter90 = int(x1_data.shape[0]*(1. - VALID_DATA_SIZE))\n",
        "\n",
        "# print(f'x1_data число строк : {x1_data.shape[0]}')\n",
        "# print(f'x1_data число столбцов : {x1_data.shape[1]}')\n",
        "# print(f'splitter90: {splitter90}')"
      ],
      "metadata": {
        "colab": {
          "base_uri": "https://localhost:8080/"
        },
        "id": "8NF5_Lxrgxjc",
        "outputId": "20c5e49a-1a36-4598-8554-70c6d9d2311a"
      },
      "execution_count": null,
      "outputs": [
        {
          "output_type": "stream",
          "name": "stdout",
          "text": [
            "x1_data число строк : 3014\n",
            "x1_data число столбцов : 834\n",
            "splitter90: 2863\n"
          ]
        }
      ]
    },
    {
      "cell_type": "code",
      "source": [
        "# # history2 = model2.fit([xTrain01[:50000], xTrainRez01[:50000]],\n",
        "# #                     yTrain[:50000],\n",
        "# #                     epochs= 80,\n",
        "# #                     validation_data=([xTrain01[50000:], xTrainRez01[50000:]],\n",
        "# #                     yTrain[50000:]),\n",
        "# #                     verbose=1, shuffle=True)\n",
        "\n",
        "# history2 = model2.fit([x1_data[:splitter90], x2_data[:splitter90]],\n",
        "#                       y_data[:splitter90],\n",
        "#                       epochs= EPOCHS,\n",
        "#                       validation_data=([x1_data[splitter90:], x2_data[splitter90:]],\n",
        "#                       y_data[splitter90:]),\n",
        "#                       verbose=VERBOSE)"
      ],
      "metadata": {
        "id": "3-ESEsgNei5V"
      },
      "execution_count": 153,
      "outputs": []
    },
    {
      "cell_type": "code",
      "source": [
        "# # Отобразим результаты на графике\n",
        "# printNNChart(history2)"
      ],
      "metadata": {
        "id": "SVxD77PbfnBM"
      },
      "execution_count": 154,
      "outputs": []
    },
    {
      "cell_type": "code",
      "source": [
        "# # Вывод значения точности распознавания на проверочной выборке по эпохам\n",
        "# print(f'Эпохи: {EPOCHS}')\n",
        "# print(\"=\"*50)\n",
        "\n",
        "# # val_accuracy\n",
        "# val_acc2 = history2.history['val_accuracy']\n",
        "# i_max = 0\n",
        "# val_acc_max = -1.0\n",
        "# for i in range(EPOCHS):\n",
        "#   # print(f'{i}->{EPOCHS}: {round(val_acc1[i], 3)}%')\n",
        "#   if val_acc2[i] > val_acc_max:\n",
        "#     val_acc_max = val_acc2[2]\n",
        "#     i_max = i\n",
        "\n",
        "# print(f'Самая точная нейронка под номером: {i_max} из {EPOCHS} эпох')\n",
        "# print(f'  достигла точности: {round(val_acc2[i]*100., 3)}%')"
      ],
      "metadata": {
        "id": "JjcpSPVJdgXo"
      },
      "execution_count": 155,
      "outputs": []
    }
  ]
}