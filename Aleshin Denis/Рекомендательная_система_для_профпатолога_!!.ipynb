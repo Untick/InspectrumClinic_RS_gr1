{
  "nbformat": 4,
  "nbformat_minor": 0,
  "metadata": {
    "colab": {
      "provenance": [],
      "toc_visible": true,
      "include_colab_link": true
    },
    "kernelspec": {
      "name": "python3",
      "display_name": "Python 3"
    },
    "language_info": {
      "name": "python"
    }
  },
  "cells": [
    {
      "cell_type": "markdown",
      "metadata": {
        "id": "view-in-github",
        "colab_type": "text"
      },
      "source": [
        "<a href=\"https://colab.research.google.com/github/Untick/InspectrumClinic_RS_gr1/blob/main/Aleshin%20Denis/%D0%A0%D0%B5%D0%BA%D0%BE%D0%BC%D0%B5%D0%BD%D0%B4%D0%B0%D1%82%D0%B5%D0%BB%D1%8C%D0%BD%D0%B0%D1%8F_%D1%81%D0%B8%D1%81%D1%82%D0%B5%D0%BC%D0%B0_%D0%B4%D0%BB%D1%8F_%D0%BF%D1%80%D0%BE%D1%84%D0%BF%D0%B0%D1%82%D0%BE%D0%BB%D0%BE%D0%B3%D0%B0_!!.ipynb\" target=\"_parent\"><img src=\"https://colab.research.google.com/assets/colab-badge.svg\" alt=\"Open In Colab\"/></a>"
      ]
    },
    {
      "cell_type": "markdown",
      "source": [
        "**Рекомендательная система для профпатолога**"
      ],
      "metadata": {
        "id": "CFgT1CGZYW3e"
      }
    },
    {
      "cell_type": "markdown",
      "source": [
        "# Техническое задание"
      ],
      "metadata": {
        "id": "tTuCWsgbYRT3"
      }
    },
    {
      "cell_type": "markdown",
      "source": [
        "**Рекомендательная система для профпатолога (INSPECTRUM CLINIC)**\n",
        "\n",
        "* Цель:\n",
        "\n",
        "  Разработать прототип системы, реализующей функцию рекомендательной системы для врача профпатолога.\n",
        "* Принцип работы:\n",
        "\n",
        "  Система должна помогать врачу вынести решение о том годен, не годен или ограниченно годен человек на определенной должности.\n",
        "  В датасете целевым столбцом для предсказания нейросетью является столбец под названием: “ЗаключениеМК”.\n",
        "  Система может дополнять вердикт мнением, почему человек не годен, или почему ограниченно годен.\n",
        "* Требования интерфейсу:\n",
        "\n",
        "  Минимальный уровень реализации: notebook google colaboratory. Требуется реализовать простой веб-интерфейс для загрузки анализируемого моделью нейросети набора данных и удобным выводом результатов вынесенного решения.\n",
        "Дополнительно: передача продвинутой системы веб-интерфейса, дополняющей вердикт мнением, почему человек не годен, или почему ограниченно годен.\n",
        "* Требования к скорости работы:\n",
        "\n",
        "  Не предъявляются\n",
        "* Требования к тестированию, метрикам качества:\n",
        "\n",
        "  Оценка результатов работы системы производится Заказчиком на тестовом наборе Заказчика. Метрика точности - точность рекомендации должна быть не ниже 95%.\n"
      ],
      "metadata": {
        "id": "IoPXmk3OYNkD"
      }
    },
    {
      "cell_type": "markdown",
      "source": [
        "# Подключение библиотек"
      ],
      "metadata": {
        "id": "uoPXDBa7Y9JN"
      }
    },
    {
      "cell_type": "code",
      "source": [
        "# Загрузка файлов из облака\n",
        "import gdown\n",
        "\n",
        "import numpy as np\n",
        "import pandas as pd\n",
        "import gdown\n",
        "import re\n",
        "import os\n",
        "\n",
        "from tensorflow.keras.preprocessing.text import Tokenizer\n",
        "# Используем для работы с категориальными данными\n",
        "from tensorflow.keras import utils\n",
        "# Для разбивки на выборки\n",
        "from sklearn.model_selection import train_test_split\n",
        "\n",
        "from tensorflow.keras.models import Sequential\n",
        "from tensorflow.keras.layers import concatenate, Input, Dense, Dropout, BatchNormalization, Flatten\n",
        "from tensorflow.keras.optimizers import Adam\n",
        "# Отрисовка изображений\n",
        "import matplotlib.pyplot as plt\n"
      ],
      "metadata": {
        "id": "WNc3slOq86Pg"
      },
      "execution_count": null,
      "outputs": []
    },
    {
      "cell_type": "markdown",
      "source": [],
      "metadata": {
        "id": "7tS5g3wPZtzx"
      }
    },
    {
      "cell_type": "markdown",
      "source": [
        "# Загрузка данных"
      ],
      "metadata": {
        "id": "8PKjAV0FZusL"
      }
    },
    {
      "cell_type": "markdown",
      "source": [
        "## Загружаем последний датасет"
      ],
      "metadata": {
        "id": "vKqlhDQQ_siu"
      }
    },
    {
      "cell_type": "code",
      "execution_count": null,
      "metadata": {
        "id": "d-mXPBl_YJtx",
        "colab": {
          "base_uri": "https://localhost:8080/"
        },
        "outputId": "9cca6fe7-6455-4711-a038-559902895ab2"
      },
      "outputs": [
        {
          "output_type": "stream",
          "name": "stderr",
          "text": [
            "<ipython-input-549-53d87bf80e74>:5: FutureWarning: The error_bad_lines argument has been deprecated and will be removed in a future version. Use on_bad_lines in the future.\n",
            "\n",
            "\n",
            "  df = pd.read_csv(url, sep=';', error_bad_lines=False, encoding='utf-8' )\n",
            "<ipython-input-549-53d87bf80e74>:5: DtypeWarning: Columns (16,18,19,20,22,23,25,26,27,29,30,32,35,36,37,39,40,41,42,43,44,46,47,49,50,52,53,54,55,56,57,58,59,60,61,62,63,64,66,68,70,74,75,77,78,80,81,82,84,85,87,90,91,92,95,96,97,99,100,101,103,104,108,109,114,115,116,120,122,123,124,126,127,128,130,131,133,138,139,142,143,145,146,148,149,153,154,155,157,158,160,161,162,164,165,167,168,170,171,173,175,176,177,178,179,180,181,182,183,184,188,189,191,192,194,195,196,201,202,204,208,209,210,211,214,215,216,217,218,220,221,222,224,225,228,229,230,231,233,234,235,236,240,241,242,243,244,245,246,247,248,250,258,260,262,265,266,269,270,272,273,274,276,277,278,280,281,282,283,284,285,286,287,288) have mixed types. Specify dtype option on import or set low_memory=False.\n",
            "  df = pd.read_csv(url, sep=';', error_bad_lines=False, encoding='utf-8' )\n"
          ]
        },
        {
          "output_type": "stream",
          "name": "stdout",
          "text": [
            "(32686, 289)\n"
          ]
        }
      ],
      "source": [
        "# Загружаем последний датасет\n",
        "\n",
        "url= 'https://storage.yandexcloud.net/terratraineeship/23_InspectrumClinic_RS/datasets/%D0%92%D0%B5%D1%81%D1%8C%20%D0%BF%D0%B5%D1%80%D0%B8%D0%BE%D0%B4.csv'\n",
        "\n",
        "df = pd.read_csv(url, sep=';', error_bad_lines=False, encoding='utf-8' )\n",
        "\n",
        "print(df.shape)"
      ]
    },
    {
      "cell_type": "markdown",
      "source": [
        "## Загрузка файла архива датасетов"
      ],
      "metadata": {
        "id": "oJLFArpB_zV2"
      }
    },
    {
      "cell_type": "code",
      "source": [
        "# Загрузка файла архива датасетов\n",
        "url = 'https://storage.yandexcloud.net/terratraineeship/23_InspectrumClinic_RS/datasets/26.06%20new%20dataset.zip'\n",
        "gdown.download(url, quiet=False)"
      ],
      "metadata": {
        "id": "py6MQykTnke3",
        "colab": {
          "base_uri": "https://localhost:8080/",
          "height": 105
        },
        "outputId": "79fa02b8-4501-471c-9bb2-87e9cdf2d0cb"
      },
      "execution_count": null,
      "outputs": [
        {
          "output_type": "stream",
          "name": "stderr",
          "text": [
            "Downloading...\n",
            "From: https://storage.yandexcloud.net/terratraineeship/23_InspectrumClinic_RS/datasets/26.06%20new%20dataset.zip\n",
            "To: /content/26.06%20new%20dataset.zip\n",
            "100%|██████████| 6.97M/6.97M [00:01<00:00, 4.49MB/s]\n"
          ]
        },
        {
          "output_type": "execute_result",
          "data": {
            "text/plain": [
              "'26.06%20new%20dataset.zip'"
            ],
            "application/vnd.google.colaboratory.intrinsic+json": {
              "type": "string"
            }
          },
          "metadata": {},
          "execution_count": 550
        }
      ]
    },
    {
      "cell_type": "code",
      "source": [
        "!unzip -q /content/26.06%20new%20dataset.zip"
      ],
      "metadata": {
        "id": "NqHHgdXQewZn"
      },
      "execution_count": null,
      "outputs": []
    },
    {
      "cell_type": "code",
      "source": [
        "dirdata = '/content/26.06 new dataset'\n",
        "files = os.listdir(dirdata)\n",
        "print('список файлов:', files)"
      ],
      "metadata": {
        "colab": {
          "base_uri": "https://localhost:8080/"
        },
        "id": "cc5TSEpio16J",
        "outputId": "a3306316-306b-4434-eb05-80879bb8e662"
      },
      "execution_count": null,
      "outputs": [
        {
          "output_type": "stream",
          "name": "stdout",
          "text": [
            "список файлов: ['neiro_06-22.csv', 'neiro_02_23.csv', 'neiro_04-22.csv', 'neiro_03-22.csv', 'neiro_12-22.csv', 'neiro_07-22.csv', 'neiro_06-23.csv', 'neiro_01-22.csv', 'neiro-08-22.csv', 'neiro_02-22.csv', 'neiro_05-22.csv', 'neiro_03_23.csv', 'neiro-09-22 (1).csv', 'neiro_05_23.csv', 'neiro-10-22.csv', 'neiro_04_23.csv', 'neiro_01_23.csv']\n"
          ]
        }
      ]
    },
    {
      "cell_type": "code",
      "source": [
        "#  создаем общий для всех датасетов заголовок\n",
        "header_df = ['ДокументПрохождениеМедосмотра', 'Клиент', 'КлиентДатаРождения', 'КлиентПол', 'КлиентПолПредставление', 'ДатаЗавершенияМедосмотра', 'ТипМедосмотра', 'ТипМедосмотраПредставление', 'ПсихОсвидетельствование', 'Контрагент', 'Цех', 'Профессия', 'ЗаключениеМК', 'ЗаключениеМКПредставление', 'Заключение', 'ВредныеФакторы']\n",
        "for i in range(len(header_df),458):\n",
        "  header_df.append(str(i))\n",
        "\n",
        "print(header_df)\n",
        "print(len(header_df))\n"
      ],
      "metadata": {
        "colab": {
          "base_uri": "https://localhost:8080/"
        },
        "id": "a-nq_uy5Ofw7",
        "outputId": "14da23db-626c-4651-aec9-f9682bd479be"
      },
      "execution_count": null,
      "outputs": [
        {
          "output_type": "stream",
          "name": "stdout",
          "text": [
            "['ДокументПрохождениеМедосмотра', 'Клиент', 'КлиентДатаРождения', 'КлиентПол', 'КлиентПолПредставление', 'ДатаЗавершенияМедосмотра', 'ТипМедосмотра', 'ТипМедосмотраПредставление', 'ПсихОсвидетельствование', 'Контрагент', 'Цех', 'Профессия', 'ЗаключениеМК', 'ЗаключениеМКПредставление', 'Заключение', 'ВредныеФакторы', '16', '17', '18', '19', '20', '21', '22', '23', '24', '25', '26', '27', '28', '29', '30', '31', '32', '33', '34', '35', '36', '37', '38', '39', '40', '41', '42', '43', '44', '45', '46', '47', '48', '49', '50', '51', '52', '53', '54', '55', '56', '57', '58', '59', '60', '61', '62', '63', '64', '65', '66', '67', '68', '69', '70', '71', '72', '73', '74', '75', '76', '77', '78', '79', '80', '81', '82', '83', '84', '85', '86', '87', '88', '89', '90', '91', '92', '93', '94', '95', '96', '97', '98', '99', '100', '101', '102', '103', '104', '105', '106', '107', '108', '109', '110', '111', '112', '113', '114', '115', '116', '117', '118', '119', '120', '121', '122', '123', '124', '125', '126', '127', '128', '129', '130', '131', '132', '133', '134', '135', '136', '137', '138', '139', '140', '141', '142', '143', '144', '145', '146', '147', '148', '149', '150', '151', '152', '153', '154', '155', '156', '157', '158', '159', '160', '161', '162', '163', '164', '165', '166', '167', '168', '169', '170', '171', '172', '173', '174', '175', '176', '177', '178', '179', '180', '181', '182', '183', '184', '185', '186', '187', '188', '189', '190', '191', '192', '193', '194', '195', '196', '197', '198', '199', '200', '201', '202', '203', '204', '205', '206', '207', '208', '209', '210', '211', '212', '213', '214', '215', '216', '217', '218', '219', '220', '221', '222', '223', '224', '225', '226', '227', '228', '229', '230', '231', '232', '233', '234', '235', '236', '237', '238', '239', '240', '241', '242', '243', '244', '245', '246', '247', '248', '249', '250', '251', '252', '253', '254', '255', '256', '257', '258', '259', '260', '261', '262', '263', '264', '265', '266', '267', '268', '269', '270', '271', '272', '273', '274', '275', '276', '277', '278', '279', '280', '281', '282', '283', '284', '285', '286', '287', '288', '289', '290', '291', '292', '293', '294', '295', '296', '297', '298', '299', '300', '301', '302', '303', '304', '305', '306', '307', '308', '309', '310', '311', '312', '313', '314', '315', '316', '317', '318', '319', '320', '321', '322', '323', '324', '325', '326', '327', '328', '329', '330', '331', '332', '333', '334', '335', '336', '337', '338', '339', '340', '341', '342', '343', '344', '345', '346', '347', '348', '349', '350', '351', '352', '353', '354', '355', '356', '357', '358', '359', '360', '361', '362', '363', '364', '365', '366', '367', '368', '369', '370', '371', '372', '373', '374', '375', '376', '377', '378', '379', '380', '381', '382', '383', '384', '385', '386', '387', '388', '389', '390', '391', '392', '393', '394', '395', '396', '397', '398', '399', '400', '401', '402', '403', '404', '405', '406', '407', '408', '409', '410', '411', '412', '413', '414', '415', '416', '417', '418', '419', '420', '421', '422', '423', '424', '425', '426', '427', '428', '429', '430', '431', '432', '433', '434', '435', '436', '437', '438', '439', '440', '441', '442', '443', '444', '445', '446', '447', '448', '449', '450', '451', '452', '453', '454', '455', '456', '457']\n",
            "458\n"
          ]
        }
      ]
    },
    {
      "cell_type": "code",
      "source": [
        "df.columns = header_df[:df.shape[1]]\n",
        "print(f' файл ... записей {df.shape}')\n",
        "\n",
        "for f in files:\n",
        "  url = dirdata +'/'+ f\n",
        "  df1 = pd.read_csv(url, sep=';', error_bad_lines=False, header=None, encoding='utf-8')\n",
        "  df1.columns = header_df[:df1.shape[1]]\n",
        "  print(f'{files.index(f)} файл {f} записей {df1.shape}')\n",
        "  df = pd.concat([df, df1], ignore_index= True )\n",
        "\n",
        "print('-'*30)\n",
        "\n",
        "print(df.info())"
      ],
      "metadata": {
        "colab": {
          "base_uri": "https://localhost:8080/"
        },
        "id": "kTSD3Zc-zZzt",
        "outputId": "03f93899-48cb-4b67-dac2-1fdcb8ec1477"
      },
      "execution_count": null,
      "outputs": [
        {
          "output_type": "stream",
          "name": "stderr",
          "text": [
            "<ipython-input-554-0c106a3b0697>:6: FutureWarning: The error_bad_lines argument has been deprecated and will be removed in a future version. Use on_bad_lines in the future.\n",
            "\n",
            "\n",
            "  df1 = pd.read_csv(url, sep=';', error_bad_lines=False, header=None, encoding='utf-8')\n"
          ]
        },
        {
          "output_type": "stream",
          "name": "stdout",
          "text": [
            " файл ... записей (32686, 289)\n",
            "0 файл neiro_06-22.csv записей (1891, 458)\n"
          ]
        },
        {
          "output_type": "stream",
          "name": "stderr",
          "text": [
            "<ipython-input-554-0c106a3b0697>:6: FutureWarning: The error_bad_lines argument has been deprecated and will be removed in a future version. Use on_bad_lines in the future.\n",
            "\n",
            "\n",
            "  df1 = pd.read_csv(url, sep=';', error_bad_lines=False, header=None, encoding='utf-8')\n"
          ]
        },
        {
          "output_type": "stream",
          "name": "stdout",
          "text": [
            "1 файл neiro_02_23.csv записей (1363, 290)\n"
          ]
        },
        {
          "output_type": "stream",
          "name": "stderr",
          "text": [
            "<ipython-input-554-0c106a3b0697>:6: FutureWarning: The error_bad_lines argument has been deprecated and will be removed in a future version. Use on_bad_lines in the future.\n",
            "\n",
            "\n",
            "  df1 = pd.read_csv(url, sep=';', error_bad_lines=False, header=None, encoding='utf-8')\n"
          ]
        },
        {
          "output_type": "stream",
          "name": "stdout",
          "text": [
            "2 файл neiro_04-22.csv записей (1850, 306)\n"
          ]
        },
        {
          "output_type": "stream",
          "name": "stderr",
          "text": [
            "<ipython-input-554-0c106a3b0697>:6: FutureWarning: The error_bad_lines argument has been deprecated and will be removed in a future version. Use on_bad_lines in the future.\n",
            "\n",
            "\n",
            "  df1 = pd.read_csv(url, sep=';', error_bad_lines=False, header=None, encoding='utf-8')\n",
            "<ipython-input-554-0c106a3b0697>:6: DtypeWarning: Columns (10,11,12,13,14,22,23,24,25,26,27,32,33,34,35,36,37,38,39,40,41,42,43,50,51,52,53,54,55,80,81,82,83,84,85,88,89,96,97,98,99,108,109,110,111,120,121,122,123,124,125,126,127,128,129,130,131,132,133,134,135,148,149,150,151,152,153,154,155,156,157,158,159,160,161,162,163,166,167,168,169,170,171,180,181,182,183,184,185,186,187,188,189,190,191,192,193,194,195,196,197,198,199,200,201,204,205,206,207,208,209,214,215,218,219,220,221,222,223,224,225,228,229,230,231,232,233,234,235,236,237,238,239,240,241,242,243,244,245,246,247,248,249,250,251,252,253,254,255,256,257,258,259,260,261,262,263,264,265,266,267,268,269,270,271,272,273,274,275,276,277,278,279,280,281,282,283,284,285,286,287,288,289,290,291,292,293,294,295,296,297,298,299,300,301,302,303,304,305,306,307,308,309,310,311,312,313,314,315,316,317,318,319,320,321,322,323,324,325,326,327,328,329,330,331,332,333,334,335,336,337,338,339,340,341,342,343,344,345,346,347,348,349,350,351,352,353,354,355,356,357,358,359,360,361,362,363,364,365,366,367,368,369,370,371,372,373,374,375,376,377,378,379,380,381,382,383,384,385,386,387,388,389,390,391,392,393,394,395,396,397,398,399,400,401,402,403,404,405,406,407,408,409,414,415,416,417,418,419,420,421,424,425,426,427,428,429,432,433,434,435,436,437,438,439,440,441,442,443,444,445) have mixed types. Specify dtype option on import or set low_memory=False.\n",
            "  df1 = pd.read_csv(url, sep=';', error_bad_lines=False, header=None, encoding='utf-8')\n"
          ]
        },
        {
          "output_type": "stream",
          "name": "stdout",
          "text": [
            "3 файл neiro_03-22.csv записей (2117, 446)\n"
          ]
        },
        {
          "output_type": "stream",
          "name": "stderr",
          "text": [
            "<ipython-input-554-0c106a3b0697>:6: FutureWarning: The error_bad_lines argument has been deprecated and will be removed in a future version. Use on_bad_lines in the future.\n",
            "\n",
            "\n",
            "  df1 = pd.read_csv(url, sep=';', error_bad_lines=False, header=None, encoding='utf-8')\n"
          ]
        },
        {
          "output_type": "stream",
          "name": "stdout",
          "text": [
            "4 файл neiro_12-22.csv записей (1236, 222)\n"
          ]
        },
        {
          "output_type": "stream",
          "name": "stderr",
          "text": [
            "<ipython-input-554-0c106a3b0697>:6: FutureWarning: The error_bad_lines argument has been deprecated and will be removed in a future version. Use on_bad_lines in the future.\n",
            "\n",
            "\n",
            "  df1 = pd.read_csv(url, sep=';', error_bad_lines=False, header=None, encoding='utf-8')\n"
          ]
        },
        {
          "output_type": "stream",
          "name": "stdout",
          "text": [
            "5 файл neiro_07-22.csv записей (1070, 218)\n"
          ]
        },
        {
          "output_type": "stream",
          "name": "stderr",
          "text": [
            "<ipython-input-554-0c106a3b0697>:6: FutureWarning: The error_bad_lines argument has been deprecated and will be removed in a future version. Use on_bad_lines in the future.\n",
            "\n",
            "\n",
            "  df1 = pd.read_csv(url, sep=';', error_bad_lines=False, header=None, encoding='utf-8')\n"
          ]
        },
        {
          "output_type": "stream",
          "name": "stdout",
          "text": [
            "6 файл neiro_06-23.csv записей (1042, 190)\n"
          ]
        },
        {
          "output_type": "stream",
          "name": "stderr",
          "text": [
            "<ipython-input-554-0c106a3b0697>:6: FutureWarning: The error_bad_lines argument has been deprecated and will be removed in a future version. Use on_bad_lines in the future.\n",
            "\n",
            "\n",
            "  df1 = pd.read_csv(url, sep=';', error_bad_lines=False, header=None, encoding='utf-8')\n"
          ]
        },
        {
          "output_type": "stream",
          "name": "stdout",
          "text": [
            "7 файл neiro_01-22.csv записей (1512, 342)\n"
          ]
        },
        {
          "output_type": "stream",
          "name": "stderr",
          "text": [
            "<ipython-input-554-0c106a3b0697>:6: FutureWarning: The error_bad_lines argument has been deprecated and will be removed in a future version. Use on_bad_lines in the future.\n",
            "\n",
            "\n",
            "  df1 = pd.read_csv(url, sep=';', error_bad_lines=False, header=None, encoding='utf-8')\n"
          ]
        },
        {
          "output_type": "stream",
          "name": "stdout",
          "text": [
            "8 файл neiro-08-22.csv записей (1728, 304)\n"
          ]
        },
        {
          "output_type": "stream",
          "name": "stderr",
          "text": [
            "<ipython-input-554-0c106a3b0697>:6: FutureWarning: The error_bad_lines argument has been deprecated and will be removed in a future version. Use on_bad_lines in the future.\n",
            "\n",
            "\n",
            "  df1 = pd.read_csv(url, sep=';', error_bad_lines=False, header=None, encoding='utf-8')\n"
          ]
        },
        {
          "output_type": "stream",
          "name": "stdout",
          "text": [
            "9 файл neiro_02-22.csv записей (1434, 294)\n"
          ]
        },
        {
          "output_type": "stream",
          "name": "stderr",
          "text": [
            "<ipython-input-554-0c106a3b0697>:6: FutureWarning: The error_bad_lines argument has been deprecated and will be removed in a future version. Use on_bad_lines in the future.\n",
            "\n",
            "\n",
            "  df1 = pd.read_csv(url, sep=';', error_bad_lines=False, header=None, encoding='utf-8')\n"
          ]
        },
        {
          "output_type": "stream",
          "name": "stdout",
          "text": [
            "10 файл neiro_05-22.csv записей (1832, 262)\n"
          ]
        },
        {
          "output_type": "stream",
          "name": "stderr",
          "text": [
            "<ipython-input-554-0c106a3b0697>:6: FutureWarning: The error_bad_lines argument has been deprecated and will be removed in a future version. Use on_bad_lines in the future.\n",
            "\n",
            "\n",
            "  df1 = pd.read_csv(url, sep=';', error_bad_lines=False, header=None, encoding='utf-8')\n"
          ]
        },
        {
          "output_type": "stream",
          "name": "stdout",
          "text": [
            "11 файл neiro_03_23.csv записей (1502, 430)\n"
          ]
        },
        {
          "output_type": "stream",
          "name": "stderr",
          "text": [
            "<ipython-input-554-0c106a3b0697>:6: FutureWarning: The error_bad_lines argument has been deprecated and will be removed in a future version. Use on_bad_lines in the future.\n",
            "\n",
            "\n",
            "  df1 = pd.read_csv(url, sep=';', error_bad_lines=False, header=None, encoding='utf-8')\n"
          ]
        },
        {
          "output_type": "stream",
          "name": "stdout",
          "text": [
            "12 файл neiro-09-22 (1).csv записей (1747, 310)\n"
          ]
        },
        {
          "output_type": "stream",
          "name": "stderr",
          "text": [
            "<ipython-input-554-0c106a3b0697>:6: FutureWarning: The error_bad_lines argument has been deprecated and will be removed in a future version. Use on_bad_lines in the future.\n",
            "\n",
            "\n",
            "  df1 = pd.read_csv(url, sep=';', error_bad_lines=False, header=None, encoding='utf-8')\n",
            "<ipython-input-554-0c106a3b0697>:6: DtypeWarning: Columns (54,80,81,82,83,84,85,98,99,100,101,102,103,106,107,110,111,112,113,114,115,116,117,118,119,120,121,122,123,124,125,126,127,128,129,130,131,132,133,134,135,136,137,138,139,140,141,142,143,144,145,146,147,148,149,150,151,152,153,154,155,156,157,158,159,160,161,162,163,164,165,166,167,168,169,170,171,172,173,174,175,176,177,178,179,180,181,182,183,184,185,186,187,188,189,190,191,192,193,194,195,206,207,208,209,210,211,212,213,214,215,216,217,218,219,220,221,222,223,224,225,226,227,228,229,230,231,232,233,234,235,236,237,238,239,240,241,242,243,244,245,246,247,248,249,250,251,252,253,254,255,256,257,258,259,260,261,262,263,264,265,266,267,268,269,270,271,272,273,274,275,276,277,278,279,280,281,282,283,284,285,286,287,288,289,290,291,292,293,294,295) have mixed types. Specify dtype option on import or set low_memory=False.\n",
            "  df1 = pd.read_csv(url, sep=';', error_bad_lines=False, header=None, encoding='utf-8')\n"
          ]
        },
        {
          "output_type": "stream",
          "name": "stdout",
          "text": [
            "13 файл neiro_05_23.csv записей (2533, 296)\n"
          ]
        },
        {
          "output_type": "stream",
          "name": "stderr",
          "text": [
            "<ipython-input-554-0c106a3b0697>:6: FutureWarning: The error_bad_lines argument has been deprecated and will be removed in a future version. Use on_bad_lines in the future.\n",
            "\n",
            "\n",
            "  df1 = pd.read_csv(url, sep=';', error_bad_lines=False, header=None, encoding='utf-8')\n",
            "Skipping line 1104: expected 258 fields, saw 263\n",
            "\n"
          ]
        },
        {
          "output_type": "stream",
          "name": "stdout",
          "text": [
            "14 файл neiro-10-22.csv записей (1596, 258)\n"
          ]
        },
        {
          "output_type": "stream",
          "name": "stderr",
          "text": [
            "<ipython-input-554-0c106a3b0697>:6: FutureWarning: The error_bad_lines argument has been deprecated and will be removed in a future version. Use on_bad_lines in the future.\n",
            "\n",
            "\n",
            "  df1 = pd.read_csv(url, sep=';', error_bad_lines=False, header=None, encoding='utf-8')\n"
          ]
        },
        {
          "output_type": "stream",
          "name": "stdout",
          "text": [
            "15 файл neiro_04_23.csv записей (1421, 266)\n"
          ]
        },
        {
          "output_type": "stream",
          "name": "stderr",
          "text": [
            "<ipython-input-554-0c106a3b0697>:6: FutureWarning: The error_bad_lines argument has been deprecated and will be removed in a future version. Use on_bad_lines in the future.\n",
            "\n",
            "\n",
            "  df1 = pd.read_csv(url, sep=';', error_bad_lines=False, header=None, encoding='utf-8')\n"
          ]
        },
        {
          "output_type": "stream",
          "name": "stdout",
          "text": [
            "16 файл neiro_01_23.csv записей (1318, 228)\n",
            "------------------------------\n",
            "<class 'pandas.core.frame.DataFrame'>\n",
            "RangeIndex: 59878 entries, 0 to 59877\n",
            "Columns: 458 entries, ДокументПрохождениеМедосмотра to 457\n",
            "dtypes: object(458)\n",
            "memory usage: 209.2+ MB\n",
            "None\n"
          ]
        }
      ]
    },
    {
      "cell_type": "markdown",
      "source": [
        "# Подготовка датасета"
      ],
      "metadata": {
        "id": "OpZ7QOTmcFgE"
      }
    },
    {
      "cell_type": "markdown",
      "source": [
        "## Удаляем полностью пустые столбцы и дубли"
      ],
      "metadata": {
        "id": "Qbiy_5GfMnLx"
      }
    },
    {
      "cell_type": "code",
      "source": [
        "# Удаляем полностью пустые столбцы\n",
        "#df.replace(\"\", np.nan, inplace=True)\n",
        "\n",
        "#df.dropna(how='all', axis=1, inplace=True)\n",
        "\n",
        "# удаляем дубли\n",
        "#df.drop_duplicates(keep='first', inplace=True)"
      ],
      "metadata": {
        "id": "ZwvadyMxEF87"
      },
      "execution_count": null,
      "outputs": []
    },
    {
      "cell_type": "markdown",
      "source": [
        "## приведение к заданному виду 'ЗаключениеМК'"
      ],
      "metadata": {
        "id": "NZJU0zT5MvUA"
      }
    },
    {
      "cell_type": "code",
      "source": [
        "# приведение к заданному виду ЗаключениеМК\n",
        "ncol = 'ЗаключениеМК'\n",
        "new_val = {'ГоденСКоррекциейЗрения':'ОграниченноГоден','ГоденСКоррекциейСлуха':'ОграниченноГоден','ГоденБезРаботНаВысотах':'ОграниченноГоден','НуждаетсяВДообследованииИЛечении':'НеГоден','ВременноНегоден':'НеГоден','Годен':'Годен','ОграниченноГоден':'ОграниченноГоден','НеГоден':'НеГоден'}\n",
        "df[ncol] = df[ncol].map(new_val)\n",
        "df[ncol] = df[ncol].fillna('')\n",
        "\n",
        "# удаление строк без заключения и с некорректными данными\n",
        "aa = len(df.index)\n",
        "\n",
        "df = df[(df[ncol] != '')]\n",
        "\n",
        "bb = len(df.index)\n",
        "print('строк удалено:', aa - bb)\n",
        "print('Количество строк:', bb)\n",
        "\n",
        "print(df[ncol].unique())\n",
        "\n",
        "print('Годен',len(df[df[ncol]=='Годен']))\n",
        "print('ОграниченноГоден',len(df[df[ncol]=='ОграниченноГоден']))\n",
        "print('НеГоден',len(df[df[ncol]=='НеГоден']))"
      ],
      "metadata": {
        "colab": {
          "base_uri": "https://localhost:8080/"
        },
        "id": "J8r-kgnD-8e8",
        "outputId": "f413321d-39d3-451f-dd63-3c78182cc299"
      },
      "execution_count": null,
      "outputs": [
        {
          "output_type": "stream",
          "name": "stdout",
          "text": [
            "строк удалено: 24471\n",
            "Количество строк: 35407\n",
            "['Годен' 'ОграниченноГоден' 'НеГоден']\n",
            "Годен 33107\n",
            "ОграниченноГоден 2159\n",
            "НеГоден 141\n"
          ]
        }
      ]
    },
    {
      "cell_type": "markdown",
      "source": [
        "## Объединение данных с диагнозами"
      ],
      "metadata": {
        "id": "x6hCIZ82BwVq"
      }
    },
    {
      "cell_type": "code",
      "source": [
        "ncol = 'МКБ_'\n",
        "\n",
        "xcols = header_df[16:458]          # заголовки столбцов с диагнозами\n",
        "\n",
        "for i in xcols:\n",
        "  df[i].replace(np.nan, '', inplace=True)   # замена для правильной обработки далее\n",
        "\n",
        "df[ncol] = df[xcols].agg(' '.join, axis= 1)    # объединение значение всех нужных столбцов в один\n",
        "\n",
        "def conv(text):\n",
        "  ss = re.findall(r'\\b([A-Z]\\d\\d(?:\\.\\d)?)', text)\n",
        "  return ' '.join(ss)\n",
        "\n",
        "df[ncol] = df[ncol].apply(conv)     # удаление всего кроме диагнозов (Z00.0, H68.0, ....)\n",
        "\n",
        "#display(df[ncol])"
      ],
      "metadata": {
        "id": "wqok63DA2WCz"
      },
      "execution_count": null,
      "outputs": []
    },
    {
      "cell_type": "code",
      "source": [
        "# удаляем ненужные столбцы\n",
        "\n",
        "df.drop(xcols, axis= 1 , inplace= True )\n",
        "#print(df.columns)"
      ],
      "metadata": {
        "id": "lDVnvsT1Cen1"
      },
      "execution_count": null,
      "outputs": []
    },
    {
      "cell_type": "code",
      "source": [
        "df.info()"
      ],
      "metadata": {
        "colab": {
          "base_uri": "https://localhost:8080/"
        },
        "id": "R96oAvAyEojt",
        "outputId": "c06f8ab6-7a97-488f-cbee-645c84716437"
      },
      "execution_count": null,
      "outputs": [
        {
          "output_type": "stream",
          "name": "stdout",
          "text": [
            "<class 'pandas.core.frame.DataFrame'>\n",
            "Int64Index: 35407 entries, 0 to 59869\n",
            "Data columns (total 17 columns):\n",
            " #   Column                         Non-Null Count  Dtype \n",
            "---  ------                         --------------  ----- \n",
            " 0   ДокументПрохождениеМедосмотра  35407 non-null  object\n",
            " 1   Клиент                         35407 non-null  object\n",
            " 2   КлиентДатаРождения             35188 non-null  object\n",
            " 3   КлиентПол                      35400 non-null  object\n",
            " 4   КлиентПолПредставление         35400 non-null  object\n",
            " 5   ДатаЗавершенияМедосмотра       35407 non-null  object\n",
            " 6   ТипМедосмотра                  35407 non-null  object\n",
            " 7   ТипМедосмотраПредставление     35407 non-null  object\n",
            " 8   ПсихОсвидетельствование        35407 non-null  object\n",
            " 9   Контрагент                     35397 non-null  object\n",
            " 10  Цех                            12547 non-null  object\n",
            " 11  Профессия                      35407 non-null  object\n",
            " 12  ЗаключениеМК                   35407 non-null  object\n",
            " 13  ЗаключениеМКПредставление      35407 non-null  object\n",
            " 14  Заключение                     34511 non-null  object\n",
            " 15  ВредныеФакторы                 34303 non-null  object\n",
            " 16  МКБ_                           35407 non-null  object\n",
            "dtypes: object(17)\n",
            "memory usage: 4.9+ MB\n"
          ]
        }
      ]
    },
    {
      "cell_type": "markdown",
      "source": [
        "## Исправление некорректного преобразования 'ВредныеФакторы'"
      ],
      "metadata": {
        "id": "KQRiPmMgM4BQ"
      }
    },
    {
      "cell_type": "code",
      "source": [
        "# исправление некорректного преобразования 'ВредныеФакторы'\n",
        "ncol = 'ВредныеФакторы'\n",
        "\n",
        "df[ncol].replace(np.nan, '', inplace=True)"
      ],
      "metadata": {
        "id": "MuuMjV5qK6El"
      },
      "execution_count": null,
      "outputs": []
    },
    {
      "cell_type": "code",
      "source": [
        "#  исправление неправильной конвертации (ошибочного преобразования в дату)\n",
        "\n",
        "# замена начальных нулей и 200 (год).\n",
        "def conv(text):\n",
        "  pattern = '(0|200)([1-9])'\n",
        "  repl = r'\\2'\n",
        "  return re.sub(pattern, repl, text)\n",
        "\n",
        "mm = ('янв','фев','мар','апр','май','июн','июл','авг','сен','окт','ноя','дек')\n",
        "\n",
        "for i, val in enumerate(mm, start=1):\n",
        "  df[ncol] = df[ncol].str.replace(val, str(i))\n",
        "\n",
        "df[ncol] = df[ncol].apply(conv)"
      ],
      "metadata": {
        "id": "ZiO8plHDTvgP"
      },
      "execution_count": null,
      "outputs": []
    },
    {
      "cell_type": "code",
      "source": [
        "#-----------------------------\n",
        "#df[ncol].unique()\n",
        "\n",
        "unique = set(df[ncol].str.split(',').sum())\n",
        "\n",
        "print(ncol)\n",
        "print(list(sorted(unique)))\n",
        "print('Уникальных значений:', len(unique))"
      ],
      "metadata": {
        "colab": {
          "base_uri": "https://localhost:8080/"
        },
        "id": "KSZDAo7l3Jwy",
        "outputId": "2f316b29-35c5-483e-a893-8563718f6db6"
      },
      "execution_count": null,
      "outputs": [
        {
          "output_type": "stream",
          "name": "stdout",
          "text": [
            "ВредныеФакторы\n",
            "['', '1.1', '1.10', '1.12', '1.14', '1.14.1', '1.14.2', '1.15', '1.15.1', '1.17', '1.18.3', '1.19.1', '1.2', '1.20', '1.22', '1.23', '1.24', '1.25', '1.27.1', '1.29', '1.29.1', '1.29.2', '1.29.3', '1.29.4', '1.3', '1.30', '1.30.1', '1.34.1', '1.36', '1.36.1', '1.36.2', '1.36.3', '1.37', '1.37.1', '1.37.1.1', '1.37.1.2', '1.37.2', '1.38', '1.39', '1.4', '1.40', '1.42', '1.43', '1.43.1', '1.44', '1.45.1', '1.46', '1.47', '1.47.1', '1.47.7', '1.48', '1.49', '1.49.11', '1.49.14', '1.49.2', '1.49.4', '1.5', '1.5.1', '1.50', '1.51', '1.51.1', '1.51.2', '1.52', '1.52.1', '1.52.5', '1.53.1', '1.53.2', '1.6', '1.7.1', '1.8.1', '1.8.1.1', '1.8.1.2', '1.8.2', '1.8.2.1', '1.8.2.2', '1.8.3', '1.8.3.1', '1.8.3.2', '10', '11', '11.1', '11.2', '11.3', '11.4', '12', '13', '14', '15', '16', '17', '18', '18.1', '18.2', '19.1', '19.2', '2.1', '2.3', '2.4', '2.4.1', '2.4.2', '2.4.3', '2.4.4', '2.4.5', '22', '23', '24', '25', '26', '27', '3.1', '3.1.1', '3.1.10', '3.1.2', '3.1.3', '3.1.5', '3.1.7', '3.1.8', '3.1.8.1', '3.1.8.2', '3.1.8.3', '3.1.9.2', '3.1.9.3', '3.2', '3.3', '3.4', '4.1', '4.10', '4.2', '4.2.1', '4.2.2', '4.2.3', '4.2.4', '4.2.5', '4.3', '4.3.1', '4.3.2', '4.4', '4.5', '4.6', '4.7', '4.8', '4.9', '5.1', '5.2', '5.2.1', '5.2.2', '6', '6.1', '6.2', '7', '8', '9']\n",
            "Уникальных значений: 152\n"
          ]
        }
      ]
    },
    {
      "cell_type": "markdown",
      "source": [
        "## Возраст"
      ],
      "metadata": {
        "id": "_Co9emsFNgFu"
      }
    },
    {
      "cell_type": "code",
      "source": [
        "#   Возраст\n",
        "#   ДатаЗавершенияМедосмотра - КлиентДатаРождения\n",
        "\n",
        "ncol = 'Возраст'\n",
        "ncol1 = 'КлиентДатаРождения'\n",
        "ncol2 = 'ДатаЗавершенияМедосмотра'\n",
        "\n",
        "# преобразование к типу дата\n",
        "df[ncol1]= pd.to_datetime(df[ncol1], errors='coerce')\n",
        "df[ncol2]= pd.to_datetime(df[ncol2], errors='coerce')\n",
        "\n",
        "# вычисление возраста\n",
        "df[ncol] = np.floor((df[ncol2] - df[ncol1]).dt.days / 365.25)\n"
      ],
      "metadata": {
        "id": "aDdnx0fZhrAh"
      },
      "execution_count": null,
      "outputs": []
    },
    {
      "cell_type": "code",
      "source": [
        "# !!! удаление записей с некорректным возрастом (... < 14-98 > ...)\n",
        "aa = len(df.index)\n",
        "\n",
        "df = df[(df[ncol] > 13) & (df[ncol] < 99)]\n",
        "\n",
        "bb = len(df.index)\n",
        "print('строк удалено:', aa - bb)\n"
      ],
      "metadata": {
        "id": "bxIhrNGlFdRr",
        "colab": {
          "base_uri": "https://localhost:8080/"
        },
        "outputId": "633eae0a-1090-4fef-9f6d-18f4dfbb122d"
      },
      "execution_count": null,
      "outputs": [
        {
          "output_type": "stream",
          "name": "stdout",
          "text": [
            "строк удалено: 246\n"
          ]
        }
      ]
    },
    {
      "cell_type": "markdown",
      "source": [
        "## Пол"
      ],
      "metadata": {
        "id": "FesPLRI_Nl_V"
      }
    },
    {
      "cell_type": "code",
      "source": [
        "#   Пол\n",
        "\n",
        "ncol = 'КлиентПол'\n",
        "\n",
        "# !!! удаление неправильных данных\n",
        "aa = len(df.index)\n",
        "\n",
        "df = df[(df[ncol] == 'Мужской') | (df[ncol] == 'Женский')]\n",
        "\n",
        "bb = len(df.index)\n",
        "\n",
        "print('строк удалено:', aa - bb)\n",
        "print(ncol)\n",
        "print(df[ncol].unique())\n"
      ],
      "metadata": {
        "id": "Qfv0XlAhyOF_",
        "colab": {
          "base_uri": "https://localhost:8080/"
        },
        "outputId": "72e517e1-5efc-461d-867e-b923bece78cb"
      },
      "execution_count": null,
      "outputs": [
        {
          "output_type": "stream",
          "name": "stdout",
          "text": [
            "строк удалено: 9\n",
            "КлиентПол\n",
            "['Женский' 'Мужской']\n"
          ]
        }
      ]
    },
    {
      "cell_type": "markdown",
      "source": [
        "## МКБ"
      ],
      "metadata": {
        "id": "EjTcpJAjTn_E"
      }
    },
    {
      "cell_type": "code",
      "source": [
        "# Удаление дублирующихся диагнозов\n",
        "ncol = 'МКБ_'\n",
        "def conv(xx):\n",
        "  aa = set()\n",
        "  aa = set(xx.split())\n",
        "  aa.discard('Z00.0')\n",
        "  return ','.join(aa)\n",
        "\n",
        "# удаляем повторы и Z00.0\n",
        "df[ncol] = df[ncol].apply(conv)"
      ],
      "metadata": {
        "id": "CKPI2WnPHhCX"
      },
      "execution_count": null,
      "outputs": []
    },
    {
      "cell_type": "code",
      "source": [
        "#-----------------------------\n",
        "#print(df[ncol].unique())\n",
        "\n",
        "unique = set(df[ncol].str.split(',').sum())\n",
        "\n",
        "print(list(sorted(unique)))\n",
        "print('Уникальных значений', len(unique))"
      ],
      "metadata": {
        "id": "ByyfAB5jHhCX",
        "colab": {
          "base_uri": "https://localhost:8080/"
        },
        "outputId": "f7c00f07-b41e-4dc3-ab94-89ab40fd9b43"
      },
      "execution_count": null,
      "outputs": [
        {
          "output_type": "stream",
          "name": "stdout",
          "text": [
            "['', 'A15.9', 'A53.9', 'B35.1', 'B35.2', 'B35.6', 'B36.0', 'B37.8', 'B86', 'C03.0', 'C18.4', 'C50.1', 'C50.4', 'C50.9', 'C53.9', 'C71.0', 'C81.9', 'D13.0', 'D13.4', 'D16.0', 'D18.0', 'D22.1', 'D23.1', 'D24', 'D25', 'D25.0', 'D25.9', 'D27', 'D31.5', 'D31.9', 'D33.0', 'D33.2', 'D33.4', 'D35.2', 'D37.1', 'D50.9', 'D68.8', 'D86.0', 'E03.9', 'E04.1', 'E06.3', 'E10', 'E10.8', 'E10.9', 'E11', 'E11.0', 'E11.8', 'E11.9', 'E14', 'E14.8', 'E14.9', 'E22.1', 'E66', 'E66.0', 'E66.9', 'E78.0', 'E78.1', 'E80.4', 'F06.3', 'F06.6', 'F06.7', 'F06.8', 'F06.9', 'F07.0', 'F10.1', 'F10.2', 'F10.3', 'F10.7', 'F20.0', 'F21', 'F41.0', 'F43.2', 'F59', 'F60.3', 'F60.4', 'F60.7', 'F60.8', 'F60.9', 'F70', 'F70.0', 'F71.0', 'F92.9', 'F95.0', 'F98.5', 'F99', 'G12.1', 'G25.0', 'G25.1', 'G25.2', 'G25.9', 'G35', 'G40.1', 'G40.4', 'G40.9', 'G55.1', 'G58.9', 'G63.2', 'G80.1', 'G80.2', 'G80.8', 'G90.8', 'G90.9', 'G93.4', 'G96.9', 'G98', 'G99.0', 'H00.1', 'H01.0', 'H01.9', 'H02.0', 'H02.2', 'H02.4', 'H04.6', 'H11.0', 'H11.1', 'H11.9', 'H17.1', 'H17.8', 'H18.6', 'H18.9', 'H25', 'H25.0', 'H25.1', 'H26.1', 'H26.2', 'H26.9', 'H27.0', 'H27.9', 'H30', 'H31.0', 'H33.0', 'H33.5', 'H34.8', 'H34.9', 'H35.0', 'H35.1', 'H40.0', 'H40.1', 'H40.9', 'H43.2', 'H47.2', 'H50.0', 'H50.1', 'H50.8', 'H50.9', 'H51.9', 'H52.0', 'H52.1', 'H52.2', 'H52.4', 'H52.5', 'H53.0', 'H53.5', 'H53.9', 'H54.1', 'H54.4', 'H55', 'H60.8', 'H61.2', 'H61.8', 'H65.3', 'H66.1', 'H66.2', 'H66.3', 'H66.9', 'H72.9', 'H73.9', 'H74.1', 'H74.8', 'H80.0', 'H80.1', 'H83.8', 'H90.1', 'H90.3', 'H90.4', 'H90.5', 'H90.6', 'H90.8', 'H91.1', 'H91.9', 'H93.0', 'H93.8', 'I05.9', 'I06.8', 'I10', 'I11.0', 'I11.9', 'I12.9', 'I20.8', 'I20.9', 'I25', 'I25.0', 'I25.2', 'I25.8', 'I25.9', 'I34.1', 'I34.9', 'I42.9', 'I44.4', 'I45.0', 'I45.6', 'I45.8', 'I47.9', 'I48', 'I48.0', 'I48.1', 'I48.2', 'I48.9', 'I49', 'I49.8', 'I49.9', 'I50.0', 'I60.9', 'I66.9', 'I67.2', 'I67.4', 'I67.8', 'I67.9', 'I69.3', 'I69.4', 'I70', 'I70.0', 'I70.8', 'I72.1', 'I77.9', 'I83.0', 'I83.9', 'J00', 'J30.1', 'J30.2', 'J30.3', 'J30.4', 'J31', 'J31.0', 'J32.0', 'J33', 'J33.0', 'J33.1', 'J34.2', 'J34.8', 'J35.0', 'J35.8', 'J37.0', 'J37.1', 'J38.0', 'J38.2', 'J40', 'J42', 'J44.9', 'J45', 'J45.0', 'J45.8', 'J45.9', 'J47', 'J84.8', 'K00.0', 'K02.0', 'K02.1', 'K02.2', 'K03.0', 'K03.6', 'K03.7', 'K04.5', 'K05.1', 'K05.2', 'K05.3', 'K05.4', 'K06.0', 'K06.8', 'K08', 'K08.1', 'K08.2', 'K08.8', 'K08.9', 'K09.9', 'K20', 'K21.0', 'K21.9', 'K25.3', 'K25.7', 'K25.9', 'K26.3', 'K26.5', 'K26.7', 'K26.9', 'K29.3', 'K29.4', 'K29.5', 'K29.6', 'K29.7', 'K29.8', 'K29.9', 'K31.7', 'K40.2', 'K40.9', 'K41.9', 'K42.9', 'K43.6', 'K43.9', 'K44.9', 'K50.9', 'K64.1', 'K64.3', 'K76.0', 'K76.6', 'K76.9', 'K80.1', 'K80.2', 'K80.5', 'K81.1', 'K81.8', 'K81.9', 'K82.8', 'K82.9', 'K83.8', 'K86.0', 'K86.1', 'K86.9', 'K91.5', 'L20.8', 'L20.9', 'L21.9', 'L23.5', 'L23.8', 'L28.0', 'L30.0', 'L30.9', 'L40.0', 'L40.5', 'L40.9', 'L71.9', 'L73.0', 'L74.0', 'L80', 'L92.0', 'L94.0', 'L94.8', 'L95.9', 'M05.9', 'M06.9', 'M07.0', 'M07.3', 'M09.0', 'M15.9', 'M17.9', 'M42.1', 'M45.9', 'M51.1', 'M53.9', 'M86.6', 'N00.9', 'N11.8', 'N11.9', 'N20.9', 'N28.1', 'N30.2', 'N30.8', 'N30.9', 'N60.0', 'N60.1', 'N60.2', 'N63', 'N70', 'N70.9', 'N71.9', 'N72', 'N73.9', 'N75.9', 'N76.1', 'N80.0', 'N81', 'N81.1', 'N81.2', 'N81.4', 'N83.2', 'N84.1', 'N84.8', 'N85', 'N86', 'N88.0', 'N88.1', 'N88.4', 'N88.8', 'N89.4', 'N89.8', 'N90.4', 'N90.9', 'N91.2', 'N92.6', 'N94.8', 'N94.9', 'N95.1', 'N95.2', 'N95.3', 'N95.9', 'N97.8', 'O00.0', 'O34.0', 'Q10.0', 'Q12.0', 'Q13.0', 'Q21.1', 'Q25.1', 'Q25.6', 'Q44.6', 'Q80.0', 'R00.0', 'R00.1', 'R25.1', 'R73.9', 'S51.9', 'S54.0', 'S68.2', 'S94.8', 'T90.0', 'T90.2', 'T90.4', 'T90.5', 'T90.9', 'T92.2', 'T92.4', 'T92.9', 'T93.4', 'T94', 'T94.0', 'T95.8', 'T98.0', 'Z00.4', 'Z32.1', 'Z41.2', 'Z76.9', 'Z89.6', 'Z95.2']\n",
            "Уникальных значений 433\n"
          ]
        }
      ]
    },
    {
      "cell_type": "code",
      "source": [
        "# удаляем дубли\n",
        "\n",
        "aa = len(df.index)\n",
        "df.drop_duplicates(keep='first', inplace=True)\n",
        "bb = len(df.index)\n",
        "print('строк удалено:', aa - bb)"
      ],
      "metadata": {
        "colab": {
          "base_uri": "https://localhost:8080/"
        },
        "id": "9mx_YwCCJYzs",
        "outputId": "4acd3709-d09e-4ebb-9874-e1a2af9e73a1"
      },
      "execution_count": null,
      "outputs": [
        {
          "output_type": "stream",
          "name": "stdout",
          "text": [
            "строк удалено: 15733\n"
          ]
        }
      ]
    },
    {
      "cell_type": "markdown",
      "source": [
        "## Сохранение общего подготовленного датасета"
      ],
      "metadata": {
        "id": "1GrBLfRmi5rY"
      }
    },
    {
      "cell_type": "code",
      "source": [
        "#df.to_csv(r'my_data.csv', sep= ';', index= False)"
      ],
      "metadata": {
        "id": "RkbKaW65jJYn"
      },
      "execution_count": null,
      "outputs": []
    },
    {
      "cell_type": "markdown",
      "source": [
        "## Балансировка датасета\n",
        "\n"
      ],
      "metadata": {
        "id": "cGjvx5PfT_AA"
      }
    },
    {
      "cell_type": "markdown",
      "source": [],
      "metadata": {
        "id": "j6CIgKrDUIwQ"
      }
    },
    {
      "cell_type": "code",
      "source": [
        "ncol = 'ЗаключениеМК'\n",
        "nzap = ['Годен','ОграниченноГоден','НеГоден']\n",
        "zap = []\n",
        "for i in nzap:\n",
        "  zap.append(len(df[df[ncol]==i]))\n",
        "\n",
        "#plt.bar(nzap,zap, color=['green','yellow','red'])\n",
        "\n",
        "fig, ax = plt.subplots(figsize=(5,4))\n",
        "bars = plt.bar(nzap,zap, color=['green','yellow','red'])\n",
        "ax.spines[['right', 'top', 'left']].set_visible(False)\n",
        "ax.yaxis.set_visible(False)\n",
        "ax.bar_label(bars)\n",
        "plt.show()"
      ],
      "metadata": {
        "colab": {
          "base_uri": "https://localhost:8080/",
          "height": 368
        },
        "id": "Jv7kqOtiQvUN",
        "outputId": "245e619a-a1d9-4cca-c3c4-41a883ec8f26"
      },
      "execution_count": null,
      "outputs": [
        {
          "output_type": "display_data",
          "data": {
            "text/plain": [
              "<Figure size 500x400 with 1 Axes>"
            ],
            "image/png": "[encoded data removed]"
          },
          "metadata": {}
        }
      ]
    },
    {
      "cell_type": "markdown",
      "source": [
        "Данные очень сильно разбалансированы. Прежде чем приступить к обучению нейронной сети, необходимо скорректировать данные."
      ],
      "metadata": {
        "id": "ZAa3XVwEhOuM"
      }
    },
    {
      "cell_type": "code",
      "source": [
        "# размножим записи с НеГоден и ОграниченноГоден\n",
        "\n",
        "print('Увеличение записей НеГоден')\n",
        "df_0 = df.loc[df['ЗаключениеМК'] == 'НеГоден']\n",
        "print(df_0.shape)\n",
        "df_0 = df_0.loc[np.repeat(df_0.index, 85)].reset_index(drop=True)\n",
        "print(df_0.shape)\n",
        "df = pd.concat([df, df_0], ignore_index=True)\n",
        "\n",
        "print('Увеличение записей ОграниченноГоден')\n",
        "df_1 = df.loc[df['ЗаключениеМК'] == 'ОграниченноГоден']\n",
        "print(df_1.shape)\n",
        "df_1 = df_1.loc[np.repeat(df_1.index, 8)].reset_index(drop=True)\n",
        "print(df_1.shape)\n",
        "df = pd.concat([df, df_1], ignore_index=True)\n",
        "\n",
        "df = df.sample(frac=1).reset_index(drop=True)  # перемешивание строк в итоговом датасете\n",
        "\n",
        "print('Датасет после изменения',df.shape)"
      ],
      "metadata": {
        "id": "i6X5kAfpZfYV",
        "colab": {
          "base_uri": "https://localhost:8080/"
        },
        "outputId": "2921f361-59de-4871-9929-9a0bbb4ddefa"
      },
      "execution_count": null,
      "outputs": [
        {
          "output_type": "stream",
          "name": "stdout",
          "text": [
            "Увеличение записей НеГоден\n",
            "(107, 18)\n",
            "(9095, 18)\n",
            "Увеличение записей ОграниченноГоден\n",
            "(1195, 18)\n",
            "(9560, 18)\n",
            "Датасет после изменения (38074, 18)\n"
          ]
        }
      ]
    },
    {
      "cell_type": "code",
      "source": [
        "ncol = 'ЗаключениеМК'\n",
        "nzap = ['Годен','ОграниченноГоден','НеГоден']\n",
        "zap = []\n",
        "for i in nzap:\n",
        "  zap.append(len(df[df[ncol]==i]))\n",
        "\n",
        "#plt.bar(nzap,zap, color=['green','yellow','red'])\n",
        "\n",
        "fig, ax = plt.subplots(figsize=(5,4))\n",
        "bars = plt.bar(nzap,zap, color=['green','yellow','red'])\n",
        "ax.spines[['right', 'top', 'left']].set_visible(False)\n",
        "ax.yaxis.set_visible(False)\n",
        "ax.bar_label(bars)\n",
        "plt.show()"
      ],
      "metadata": {
        "id": "QcM_Q_tkmh60",
        "colab": {
          "base_uri": "https://localhost:8080/",
          "height": 368
        },
        "outputId": "0e95e77a-b149-4b33-8f2a-e2edf5153bf7"
      },
      "execution_count": null,
      "outputs": [
        {
          "output_type": "display_data",
          "data": {
            "text/plain": [
              "<Figure size 500x400 with 1 Axes>"
            ],
            "image/png": "[encoded data removed]"
          },
          "metadata": {}
        }
      ]
    },
    {
      "cell_type": "markdown",
      "source": [
        "## Создание категориальных колонок"
      ],
      "metadata": {
        "id": "MZIT7ZF7Pw4z"
      }
    },
    {
      "cell_type": "markdown",
      "source": [
        "### Возраст"
      ],
      "metadata": {
        "id": "GHve8v2YY1fX"
      }
    },
    {
      "cell_type": "code",
      "source": [
        "#  добавление категориального возраста  14-18:0, 19-23:1, ... , 94-98:16\n",
        "#df['Возраст_'] = pd.Series(dtype='int')\n",
        "df['Возраст_'] = ((df['Возраст']-14)//5).astype(int)\n",
        "#df['Возраст_'] = (df[ncol]-14)//5\n",
        "\n",
        "print('Категории возраста 14-18:0, 19-23:1, ... , 94-98:16')\n",
        "print(list(sorted(df['Возраст_'].unique())))\n"
      ],
      "metadata": {
        "colab": {
          "base_uri": "https://localhost:8080/"
        },
        "id": "95BzGG7RHFmU",
        "outputId": "1749c47c-1056-44c0-d204-f41e3c6acaf8"
      },
      "execution_count": null,
      "outputs": [
        {
          "output_type": "stream",
          "name": "stdout",
          "text": [
            "Категории возраста 14-18:0, 19-23:1, ... , 94-98:16\n",
            "[0, 1, 2, 3, 4, 5, 6, 7, 8, 9, 10, 11, 12, 13]\n"
          ]
        }
      ]
    },
    {
      "cell_type": "markdown",
      "source": [
        "### Кодирование категориальных данных в один вектор"
      ],
      "metadata": {
        "id": "rOBAWvW7KaA1"
      }
    },
    {
      "cell_type": "code",
      "source": [
        "\n",
        "#  Кодирование категориальных данных (столбцов) в один вектор\n",
        "\n",
        "def labelsToOneHot(column):\n",
        "  vocab, indexes = np.array(np.unique(df[column], return_inverse=True))\n",
        "  oneHotData = utils.to_categorical(indexes.reshape(-1, 1), num_classes = len(vocab))\n",
        "  return oneHotData, vocab.tolist()\n",
        "\n",
        "labelData = ['Возраст_','КлиентПол']\n",
        "\n",
        "oneHotArray = []\n",
        "vocabulary = []\n",
        "oneHot = []\n",
        "\n",
        "for column in labelData: # Проходим по всем столбцам\n",
        "  oneHotData, vocab = labelsToOneHot(column)\n",
        "  vocabulary.append(vocab)\n",
        "  oneHot.append(oneHotData)\n",
        "  oneHotArray = np.concatenate([i for i in oneHot], axis = 1)\n"
      ],
      "metadata": {
        "id": "bxl8E9bq-rYi",
        "colab": {
          "base_uri": "https://localhost:8080/"
        },
        "outputId": "7901672b-69f4-449a-a547-529212026fb3"
      },
      "execution_count": null,
      "outputs": [
        {
          "output_type": "stream",
          "name": "stderr",
          "text": [
            "<ipython-input-574-6bd98cd8bd41>:4: VisibleDeprecationWarning: Creating an ndarray from ragged nested sequences (which is a list-or-tuple of lists-or-tuples-or ndarrays with different lengths or shapes) is deprecated. If you meant to do this, you must specify 'dtype=object' when creating the ndarray.\n",
            "  vocab, indexes = np.array(np.unique(df[column], return_inverse=True))\n"
          ]
        }
      ]
    },
    {
      "cell_type": "code",
      "source": [
        "sum=0\n",
        "\n",
        "for col in range(len(vocabulary)):\n",
        "\n",
        "  print(f'Число уникальных элементов в {labelData[col]}: {len(vocabulary[col])}')\n",
        "  sum += len(vocabulary[col])\n",
        "\n",
        "print('Общий размер вектора', sum)\n",
        "\n",
        "print(oneHotArray.shape)"
      ],
      "metadata": {
        "id": "D23OipuDAPvK",
        "colab": {
          "base_uri": "https://localhost:8080/"
        },
        "outputId": "e6122e85-418c-42ad-f815-3f1b25e46778"
      },
      "execution_count": null,
      "outputs": [
        {
          "output_type": "stream",
          "name": "stdout",
          "text": [
            "Число уникальных элементов в Возраст_: 14\n",
            "Число уникальных элементов в КлиентПол: 2\n",
            "Общий размер вектора 16\n",
            "(38074, 16)\n"
          ]
        }
      ]
    },
    {
      "cell_type": "markdown",
      "source": [
        "### Цех и Профессия"
      ],
      "metadata": {
        "id": "P9drjeV5sYNL"
      }
    },
    {
      "cell_type": "markdown",
      "source": [
        "Для категорирования объединяем значение из 'Цех' и 'Профессия'"
      ],
      "metadata": {
        "id": "m7LXmivuMMzp"
      }
    },
    {
      "cell_type": "code",
      "source": [
        "#\n",
        "ncol = 'Цех'\n",
        "\n",
        "df[ncol].replace(np.nan, '', inplace=True)   # замена для правильной обработки далее\n",
        "df[ncol].replace('Без отдела', '', inplace=True)   # убираем 'без отдела'\n",
        "\n",
        "ncol = 'Профессия'\n",
        "\n",
        "df[ncol].replace(np.nan, '', inplace=True)   # замена для правильной обработки далее\n",
        "\n",
        "#print(df[ncol].unique())\n",
        "\n",
        "ncol = 'ЦехПроф_'\n",
        "df[ncol] = df[['Цех','Профессия']].agg(' '.join, axis= 1)    # объединение значение всех нужных столбцов в один\n",
        "\n",
        "unique = set(df[ncol].str.split(' ').sum())\n",
        "print('Число уникальных слов:',len(unique))"
      ],
      "metadata": {
        "colab": {
          "base_uri": "https://localhost:8080/"
        },
        "id": "VH8qUofeselD",
        "outputId": "46719831-0173-4088-b078-0de377b42724"
      },
      "execution_count": null,
      "outputs": [
        {
          "output_type": "stream",
          "name": "stdout",
          "text": [
            "Число уникальных слов: 3379\n"
          ]
        }
      ]
    },
    {
      "cell_type": "markdown",
      "source": [
        "Токенизируем общее значение для преобразование текстов в последовательности"
      ],
      "metadata": {
        "id": "QJL-g8gMMw10"
      }
    },
    {
      "cell_type": "code",
      "source": [
        "ncol = 'ЦехПроф_'\n",
        "unique = set(df[ncol].str.split(' ').sum())\n",
        "\n",
        "# Токенизатор для преобразование текстов в последовательности\n",
        "VOCAB_SIZE = 2500           #len(unique) +1\n",
        "\n",
        "# Токенизация и построение частотного словаря по обучающим текстам\n",
        "# Используется встроенный в Keras токенизатор для разбиения текста и построения частотного словаря\n",
        "tokenizer = Tokenizer(num_words=VOCAB_SIZE,                                           # Максимальное кол-во слов\n",
        "                      filters='!\"#$%&()*+,-–—./…:;<=>?@[\\\\]^_`{|}~«»\\t\\n\\xa0\\ufeff',  # Фильтры исходного текста\n",
        "                      lower=True,                                                     # Все буквы к нижнему регистру\n",
        "                      split=' ',                                                      # разделение слов пробелом\n",
        "                      oov_token='unknown',                                            # Один лейбл для всех незнакомых слов\n",
        "                      char_level=False)                                               # Без выравнивания символов\n",
        "\n",
        "# Построение частотного словаря по обучающим текстам\n",
        "tokenizer.fit_on_texts(df[ncol])\n",
        "\n",
        "# Построение словаря в виде пар слово - индекс\n",
        "items = list(tokenizer.word_index.items())\n",
        "\n",
        "print(items)\n",
        "\n",
        "# Преобразование входных текстов в последовательности индексов (для архитектур с embedding)\n",
        "# Применено приведение к массиву объектов для дальнейшего разделения на выборки\n",
        "x_data = np.array(tokenizer.texts_to_sequences(df[ncol]), dtype=object)\n",
        "# Вывод формы и примера данных\n",
        "print(x_data.shape)\n",
        "print(x_data[0][:20])\n",
        "\n",
        "# Преобразование входных текстов в разреженную матрицу из векторов Bag of Words\n",
        "x_data_01 = tokenizer.texts_to_matrix(df[ncol])\n",
        "# Вывод формы и примера данных\n",
        "print(x_data_01.shape)\n",
        "print(df[ncol][15])\n",
        "print(x_data_01[15, :])"
      ],
      "metadata": {
        "colab": {
          "base_uri": "https://localhost:8080/"
        },
        "id": "H84M3sdI4x7H",
        "outputId": "8a74377f-4d6b-4bc7-8a8f-a1b70933d01a"
      },
      "execution_count": null,
      "outputs": [
        {
          "output_type": "stream",
          "name": "stdout",
          "text": [
            "[('unknown', 1), ('по', 2), ('и', 3), ('инженер', 4), ('водитель', 5), ('разряда', 6), ('монтажник', 7), ('технологических', 8), ('слесарь', 9), ('скважин', 10), ('автомобиля', 11), ('оператор', 12), ('ремонта', 13), ('специалист', 14), ('отдел', 15), ('участок', 16), ('капитального', 17), ('трубопроводов', 18), ('цех', 19), ('ведущий', 20), ('категории', 21), ('машинист', 22), ('ремонту', 23), ('5', 24), ('уфа', 25), ('6', 26), ('служба', 27), ('повар', 28), ('текущего', 29), ('№2', 30), ('ооо', 31), ('главный', 32), ('1', 33), ('4', 34), ('установок', 35), ('мастер', 36), ('старший', 37), ('работ', 38), ('электромонтер', 39), ('начальник', 40), ('обслуживанию', 41), ('подразделение', 42), ('2', 43), ('электромонтажник', 44), ('вышкомонтажник', 45), ('в', 46), ('помощник', 47), ('менеджер', 48), ('электрогазосварщик', 49), ('электрооборудования', 50), ('экспедитор', 51), ('025', 52), ('продавец', 53), ('производственный', 54), ('работник', 55), ('группа', 56), ('обособленное', 57), ('бурению', 58), ('3', 59), ('на', 60), ('с', 61), ('отдела', 62), ('выгрузке', 63), ('загрузке', 64), ('катализаторов', 65), ('грузчик', 66), ('г', 67), ('конструкций', 68), ('7', 69), ('чистильщик', 70), ('торгового', 71), ('техник', 72), ('бурильщика', 73), ('рабочий', 74), ('наладке', 75), ('геофизик', 76), ('зала', 77), ('администратор', 78), ('стальных', 79), ('железобетонных', 80), ('бухгалтер', 81), ('упнр', 82), ('испытаниям', 83), ('монтажу', 84), ('сервис', 85), ('заместитель', 86), ('тракторист', 87), ('установки', 88), ('бурильщик', 89), ('дворник', 90), ('техносервис', 91), ('разряд', 92), ('дефектоскопист', 93), ('кассир', 94), ('учитель', 95), ('производитель', 96), ('цеха', 97), ('сантехник', 98), ('ванкорский', 99), ('энерго', 100), ('механическая', 101), ('механик', 102), ('рту', 103), ('изолировщик', 104), ('эксплуатации', 105), ('участка', 106), ('работе', 107), ('электросварщик', 108), ('руководитель', 109), ('вс', 110), ('сварки', 111), ('врач', 112), ('ручной', 113), ('центр', 114), ('производство', 115), ('сварщик', 116), ('сетям', 117), ('термоизоляции', 118), ('оборудования', 119), ('стропальщик', 120), ('силовым', 121), ('автомобилей', 122), ('моторист', 123), ('электрооборудованию', 124), ('ткрс', 125), ('крана', 126), ('автомобильного', 127), ('директор', 128), ('сотрудник', 129), ('маляр', 130), ('8', 131), ('агрегата', 132), ('инкассатор', 133), ('директора', 134), ('авиатехник', 135), ('воспитатель', 136), ('передвижной', 137), ('состава', 138), ('мбу', 139), ('подвижного', 140), ('консультант', 141), ('технический', 142), ('супервайзер', 143), ('территория', 144), ('еды', 145), ('102', 146), ('продукции', 147), ('ремонтник', 148), ('№', 149), ('комплектовщик', 150), ('механосборочных', 151), ('безопасности', 152), ('тренер', 153), ('транспортная', 154), ('кладовщик', 155), ('труда', 156), ('цементировочного', 157), ('бригадир', 158), ('подготовке', 159), ('инженерно', 160), ('№1', 161), ('сопровождения', 162), ('мясного', 163), ('благоварское', 164), ('от', 165), ('подъемника', 166), ('гнкт', 167), ('р', 168), ('кухонный', 169), ('заведующий', 170), ('обвальщик', 171), ('ашан', 172), ('сити', 173), ('стоматолог', 174), ('то', 175), ('го', 176), ('погрузчика', 177), ('обеспечения', 178), ('фармацевт', 179), ('транспортного', 180), ('товаровед', 181), ('до', 182), ('склада', 183), ('производственного', 184), ('линии', 185), ('охране', 186), ('сестра', 187), ('коммерцмагазина', 188), ('экскаватора', 189), ('производства', 190), ('административно', 191), ('официант', 192), ('питания', 193), ('программист', 194), ('механический', 195), ('авиамеханик', 196), ('службы', 197), ('энергетик', 198), ('сопровождению', 199), ('электромонтажный', 200), ('медицинская', 201), ('уборщик', 202), ('сшор', 203), ('буровой', 204), ('педагог', 205), ('детский', 206), ('маоу', 207), ('школа', 208), ('группы', 209), ('сейсмической', 210), ('технологии', 211), ('преподаватель', 212), ('нкид', 213), ('сад', 214), ('пид', 215), ('средства', 216), ('медсестра', 217), ('монтажных', 218), ('металлоконструкций', 219), ('сервиса', 220), ('агроном', 221), ('обслуживания', 222), ('фрезеровщик', 223), ('рабочие', 224), ('кат', 225), ('промышленной', 226), ('сборке', 227), ('строительных', 228), ('аирэо', 229), ('товаров', 230), ('проектировщик', 231), ('автоматизации', 232), ('сектора', 233), ('охранник', 234), ('арена', 235), ('партии', 236), ('пекарь', 237), ('пищевой', 238), ('автокрана', 239), ('контролер', 240), ('бортового', 241), ('мбдоу', 242), ('станции', 243), ('наладчик', 244), ('помещений', 245), ('класс', 246), ('подсобный', 247), ('база', 248), ('медицинский', 249), ('логистики', 250), ('смр', 251), ('токарь', 252), ('технолог', 253), ('уфе', 254), ('агрегатов', 255), ('прораб', 256), ('части', 257), ('каротажной', 258), ('хозяйственной', 259), ('начальника', 260), ('организации', 261), ('производственных', 262), ('межрайонный', 263), ('зима', 264), ('клиентского', 265), ('копровщик', 266), ('обучения', 267), ('программного', 268), ('дмш', 269), ('перспективные', 270), ('винтовым', 271), ('двигателям', 272), ('каменщик', 273), ('сектор', 274), ('сп', 275), ('моп', 276), ('долотному', 277), ('департамент', 278), ('управления', 279), ('забойным', 280), ('пр', 281), ('комплектации', 282), ('провизор', 283), ('пластов', 284), ('скания', 285), ('учебно', 286), ('касс', 287), ('гидравлическому', 288), ('разрыву', 289), ('химической', 290), ('нтц', 291), ('зэрс', 292), ('во', 293), ('бузулук', 294), ('комплексной', 295), ('химизации', 296), ('месторождений', 297), ('бригада', 298), ('станков', 299), ('инженерного', 300), ('гдс', 301), ('заканчиванию', 302), ('кладовщика', 303), ('сервисного', 304), ('оп', 305), ('нефтекамск', 306), ('автогидроподъемника', 307), ('администрация', 308), ('электроустановок', 309), ('свыше', 310), ('аптекой', 311), ('директорат', 312), ('дмс', 313), ('лаборатория', 314), ('3900', 315), ('укладчик', 316), ('1000', 317), ('осмр', 318), ('сборочный', 319), ('электоромонтер', 320), ('уса', 321), ('ргг', 322), ('бариста', 323), ('монтажно', 324), ('воспитательной', 325), ('научной', 326), ('варщик', 327), ('диспетчер', 328), ('промышленности', 329), ('подъемных', 330), ('интерьера', 331), ('образования', 332), ('обработке', 333), ('разработки', 334), ('представитель', 335), ('кафе', 336), ('взрывник', 337), ('вездехода', 338), ('сканировщик', 339), ('ул', 340), ('умный', 341), ('ритейл', 342), ('рб', 343), ('механо', 344), ('газорезчик', 345), ('непродовольственных', 346), ('дополнительного', 347), ('хнт', 348), ('служебных', 349), ('технологическая', 350), ('управляющий', 351), ('предприятий', 352), ('нефтяной', 353), ('программным', 354), ('сборщик', 355), ('мойщик', 356), ('электроник', 357), ('управлением', 358), ('зданий', 359), ('персонал', 360), ('уоши', 361), ('плп', 362), ('дорожный', 363), ('охраны', 364), ('электрик', 365), ('терапевт', 366), ('упаковщик', 367), ('приемщик', 368), ('классов', 369), ('электротехники', 370), ('начальных', 371), ('тоир', 372), ('проектирования', 373), ('кипиа', 374), ('плотник', 375), ('системам', 376), ('кассы', 377), ('лаборант', 378), ('дежурный', 379), ('доставки', 380), ('№127', 381), ('производстве', 382), ('27', 383), ('связи', 384), ('№5', 385), ('электротехнике', 386), ('дрс', 387), ('зам', 388), ('асу', 389), ('пкс', 390), ('научный', 391), ('капитальному', 392), ('54', 393), ('районная', 394), ('класса', 395), ('технических', 396), ('занятый', 397), ('тп', 398), ('центра', 399), ('бармен', 400), ('спортивная', 401), ('дезинфектор', 402), ('рентгенлаборант', 403), ('итр', 404), ('ахк', 405), ('бурения', 406), ('окружающей', 407), ('среды', 408), ('хозяйка', 409), ('данных', 410), ('складом', 411), ('машиниста', 412), ('10', 413), ('базы', 414), ('языка', 415), ('чпу', 416), ('младший', 417), ('конструктор', 418), ('нк', 419), ('строительно', 420), ('продаж', 421), ('рэаип', 422), ('урпо', 423), ('систем', 424), ('заказов', 425), ('главного', 426), ('склад', 427), ('химических', 428), ('диагностики', 429), ('металла', 430), ('шеф', 431), ('контроля', 432), ('заготовительный', 433), ('планированию', 434), ('центраторов', 435), ('литейный', 436), ('служба№1', 437), ('металло', 438), ('продажам', 439), ('кондитер', 440), ('транспортный', 441), ('магазина', 442), ('паровой', 443), ('подземному', 444), ('клиентами', 445), ('работах', 446), ('посуды', 447), ('ноябрь', 448), ('процедурной', 449), ('технологического', 450), ('опнр', 451), ('фасовщик', 452), ('монтажный', 453), ('3100', 454), ('станочники', 455), ('делопроизводитель', 456), ('методист', 457), ('готовой', 458), ('гаммаграфирования', 459), ('врачи', 460), ('стоматологи', 461), ('договорной', 462), ('фасовщица', 463), ('башенного', 464), ('рентгено', 465), ('технической', 466), ('аск', 467), ('питаня', 468), ('дпо', 469), ('холодильных', 470), ('лаборатории', 471), ('холодного', 472), ('деталей', 473), ('складской', 474), ('непосредственно', 475), ('бульдозера', 476), ('сотрудники', 477), ('санитарно', 478), ('подразделения', 479), ('пдо', 480), ('дорожной', 481), ('автоматизированным', 482), ('сварке', 483), ('техническая', 484), ('проекта', 485), ('машины', 486), ('руководителя', 487), ('технологическими', 488), ('процессами', 489), ('сервисный', 490), ('разнорабочий', 491), ('осуществляющий', 492), ('перевозку', 493), ('опасного', 494), ('груза', 495), ('сооружений', 496), ('дизайнер', 497), ('инструктор', 498), ('химик', 499), ('стропальщики', 500), ('рентгеногаммаграфирования', 501), ('пто', 502), ('атц', 503), ('технического', 504), ('резчик', 505), ('экономист', 506), ('буровых', 507), ('эксперт', 508), ('сетей', 509), ('торговый', 510), ('аппаратчик', 511), ('зоны', 512), ('геофизических', 513), ('контролю', 514), ('доставке', 515), ('се', 516), ('призабойной', 517), ('нефть', 518), ('газ', 519), ('манипуляторов', 520), ('упаковочного', 521), ('аналитико', 522), ('зав', 523), ('телеоператор', 524), ('электросетей', 525), ('д', 526), ('бнгкм', 527), ('физико', 528), ('ислледований', 529), ('горничная', 530), ('двигателей', 531), ('клепальщик', 532), ('отделение', 533), ('продовольственных', 534), ('категория', 535), ('параллель', 536), ('уфимском', 537), ('не', 538), ('мерчендайзер', 539), ('приборов', 540), ('мбоу', 541), ('старт', 542), ('учету', 543), ('снабжению', 544), ('приволжский', 545), ('филиал', 546), ('фгуп', 547), ('радон', 548), ('благовещенское', 549), ('40', 550), ('хозяйственный', 551), ('сгп', 552), ('внутреннего', 553), ('сгорания', 554), ('геодезист', 555), ('столяр', 556), ('е', 557), ('аптека', 558), ('15', 559), ('товарооборота', 560), ('сети', 561), ('кхм', 562), ('арктик', 563), ('кадров', 564), ('термист', 565), ('электромеханик', 566), ('ца', 567), ('депарафинизационной', 568), ('заведующая', 569), ('сиделка', 570), ('уходу', 571), ('305', 572), ('конструирования', 573), ('302', 574), ('сборки', 575), ('бухгалтерия', 576), ('спорта', 577), ('лесов', 578), ('подмостей', 579), ('автогрейдера', 580), ('кухня', 581), ('топограф', 582), ('финансовый', 583), ('тжк', 584), ('электромонтёр', 585), ('отряда', 586), ('азс', 587), ('узловой', 588), ('станках', 589), ('электромонтажная', 590), ('управление', 591), ('генерального', 592), ('мед', 593), ('технологий', 594), ('дгирс', 595), ('418', 596), ('обрабатывающих', 597), ('центрах', 598), ('воспитателя', 599), ('катка', 600), ('днг', 601), ('грузового', 602), ('направления', 603), ('су', 604), ('20', 605), ('финансовая', 606), ('подключений', 607), ('смены', 608), ('пнр', 609), ('франко', 610), ('7а', 611), ('сборочных', 612), ('испытатели', 613), ('высоким', 614), ('уровнем', 615), ('шума', 616), ('эл', 617), ('эксплуатационного', 618), ('разведочного', 619), ('клининговая', 620), ('хозяйственно', 621), ('ортопед', 622), ('художник', 623), ('кухонь', 624), ('регистратор', 625), ('секретарь', 626), ('3700', 627), ('материально', 628), ('автослесарь', 629), ('упаковщица', 630), ('литья', 631), ('районный', 632), ('самоходного', 633), ('гладкими', 634), ('вальцами', 635), ('заготовщик', 636), ('уборщица', 637), ('санитарка', 638), ('пространства', 639), ('сезонных', 640), ('коллекций', 641), ('производственно', 642), ('котельной', 643), ('межрайонного', 644), ('коммерческий', 645), ('тт', 646), ('математики', 647), ('км', 648), ('электростанции', 649), ('сотрудниками', 650), ('прессовщик', 651), ('врача', 652), ('хладоцентр', 653), ('3d', 654), ('принтера', 655), ('педагогический', 656), ('спасатель', 657), ('комбинированной', 658), ('премиум', 659), ('общественного', 660), ('учебный', 661), ('машин', 662), ('выполняющий', 663), ('работы', 664), ('механика', 665), ('район', 666), ('основное', 667), ('мо', 668), ('персонала', 669), ('лицей', 670), ('62', 671), ('крс', 672), ('развития', 673), ('производственной', 674), ('автобуса', 675), ('электромонтажных', 676), ('психолог', 677), ('маркетинга', 678), ('цтм', 679), ('медицина', 680), ('таттранском', 681), ('1500', 682), ('учета', 683), ('ртр', 684), ('гальваник', 685), ('сторож', 686), ('инженера', 687), ('итс', 688), ('инструментальный', 689), ('системе', 690), ('меркурий', 691), ('важные', 692), ('1гр', 693), ('семеноводству', 694), ('отделом', 695), ('электротехнологий', 696), ('керна', 697), ('охрана', 698), ('обслуживающий', 699), ('полевых', 700), ('ст', 701), ('хгкм', 702), ('логистика', 703), ('изд', 704), ('кафедра', 705), ('курьер', 706), ('электро', 707), ('гостевого', 708), ('штукатур', 709), ('английского', 710), ('пк', 711), ('сш', 712), ('№28', 713), ('метрологии', 714), ('413', 715), ('общепроизводственных', 716), ('операций', 717), ('манипулятора', 718), ('снабжения', 719), ('эмр', 720), ('магистральная', 721), ('аппарат', 722), ('электрохозяйства', 723), ('пожарной', 724), ('керуска', 725), ('нефти', 726), ('гальв', 727), ('печат', 728), ('плат', 729), ('авторского', 730), ('готового', 731), ('продукта', 732), ('экструдера', 733), ('маркетингу', 734), ('бухгалтерского', 735), ('водители', 736), ('монтаж', 737), ('навесной', 738), ('электроизмерительных', 739), ('укладчика', 740), ('асфальтобетона', 741), ('подразделений', 742), ('истории', 743), ('автоматики', 744), ('дневной', 745), ('инженерная', 746), ('посудомойщица', 747), ('энергомеханическая', 748), ('старшая', 749), ('кеско', 750), ('анализа', 751), ('сметно', 752), ('пропитчик', 753), ('техн', 754), ('теории', 755), ('методики', 756), ('зубной', 757), ('надзора', 758), ('осень', 759), ('мтс', 760), ('водетель', 761), ('пир', 762), ('аиэ', 763), ('волс', 764), ('обвальщица', 765), ('бар', 766), ('2022', 767), ('грип', 768), ('вертикального', 769), ('сейсмопрофилирования', 770), ('ассистент', 771), ('1400', 772), ('зал', 773), ('обследования', 774), ('бовс', 775), ('измерительным', 776), ('приборам', 777), ('фрти', 778), ('полуфарикатов', 779), ('генеральный', 780), ('пусконаладочных', 781), ('русского', 782), ('газа', 783), ('шлифовщик', 784), ('пластмасс', 785), ('нагаево', 786), ('кафедры', 787), ('стоматолога', 788), ('отбору', 789), ('декоратор', 790), ('семья', 791), ('состояния', 792), ('хозяйством', 793), ('поддержке', 794), ('разгрузочных', 795), ('строительству', 796), ('контрольно', 797), ('добыче', 798), ('развитию', 799), ('№4', 800), ('взаимодействию', 801), ('сервисная', 802), ('проектов', 803), (\"гальваник'\", 804), ('омед', 805), ('оцин', 806), ('оксид', 807), ('матур', 808), ('универсал', 809), ('м', 810), ('юрисконсульт', 811), ('автоматике', 812), ('энергетика', 813), ('хим', 814), ('леса', 815), ('ремонтный', 816), ('проектами', 817), ('центральная', 818), ('ахч', 819), ('геофизике', 820), ('кадрам', 821), ('слесарный', 822), ('районного', 823), ('12', 824), ('испытаний', 825), ('корпоративными', 826), ('поста', 827), ('стана', 828), ('холодной', 829), ('прокатки', 830), ('промывальщик', 831), ('пропарщик', 832), ('цистерн', 833), ('уршакский', 834), ('мк', 835), ('спортивной', 836), ('аммиачно', 837), ('холодильные', 838), ('революционная', 839), ('исследованию', 840), ('связанных', 841), ('ним', 842), ('дс', 843), ('управлению', 844), ('крановщик', 845), ('управленческий', 846), ('увр', 847), ('вальщик', 848), ('фрезы', 849), ('14', 850), ('быстрого', 851), ('реагирования', 852), ('18', 853), ('сложнокоординационных', 854), ('циклических', 855), ('видов', 856), ('приема', 857), ('техническому', 858), ('цементажу', 859), ('410', 860), ('защите', 861), ('растений', 862), ('офис', 863), ('промывочного', 864), ('мсс', 865), ('электронщик', 866), ('поддержки', 867), ('погрузочно', 868), ('реализации', 869), ('логопед', 870), ('режиму', 871), ('комендант', 872), ('комплектовщики', 873), ('структурного', 874), ('литературы', 875), ('хостес', 876), ('элементов', 877), ('покупателями', 878), ('вредности', 879), ('сектором', 880), ('художественно', 881), ('03', 882), ('стар', 883), ('содержания', 884), ('учетчик', 885), ('электротехническая', 886), ('электротехнического', 887), ('30', 888), ('средний', 889), ('ано', 890), ('волшебный', 891), ('улей', 892), ('9', 893), ('автопогрузчика', 894), ('внедрения', 895), ('орэ', 896), ('дуговой', 897), ('физической', 898), ('горячего', 899), ('5510', 900), ('501', 901), ('штабелера', 902), ('механического', 903), ('к', 904), ('разведочной', 905), ('лабораторией', 906), ('водоснабжения', 907), ('канализации', 908), ('отопления', 909), ('ответственные', 910), ('дизельной', 911), ('товара', 912), ('размещения', 913), ('ночной', 914), ('мелеузовский', 915), ('смм', 916), ('дворец', 917), ('цементно', 918), ('пескосмесительного', 919), ('бизнес', 920), ('средств', 921), ('доцент', 922), ('вахтер', 923), ('атп', 924), ('координатор', 925), ('телеметрическому', 926), ('станочник', 927), ('широкого', 928), ('профиля', 929), ('транспортной', 930), ('крановщики', 931), ('жестянщик', 932), ('303', 933), ('микроэлектроники', 934), ('хэо', 935), ('технолого', 936), ('аналитическая', 937), ('лабораотория', 938), ('подготовки', 939), ('испытанию', 940), ('жбк', 941), ('документации', 942), ('гостиный', 943), ('двор', 944), ('элетротехническая', 945), ('без', 946), ('прав', 947), ('дисциплин', 948), ('повышения', 949), ('процессе', 950), ('электрических', 951), ('социальный', 952), ('ушмр', 953), ('аургазинский', 954), ('36', 955), ('государственным', 956), ('сметчик', 957), ('геофизической', 958), ('оборудование', 959), ('исследований', 960), ('конструкции', 961), ('агент', 962), ('переработчик', 963), ('рао', 964), ('заведущий', 965), ('силикатная', 966), ('бетонщик', 967), ('вышкостроения', 968), ('кухонной', 969), ('логистике', 970), ('восток', 971), ('каротажник', 972), ('земснаряда', 973), ('альшеевский', 974), ('транспортировщик', 975), ('все', 976), ('планово', 977), ('гражданской', 978), ('обороне', 979), ('чрезвычайным', 980), ('автоматических', 981), ('полуавтоматических', 982), ('машинах', 983), ('оформитель', 984), ('21', 985), ('копра', 986), ('а', 987), ('24', 988), ('комплексному', 989), ('гуманитарных', 990), ('естественнонаучных', 991), ('кассовой', 992), ('417', 993), ('постановщик', 994), ('последующим', 995), ('переводом', 996), ('башкирского', 997), ('совм', 998), ('осп', 999), ('связям', 1000), ('общественностью', 1001), ('основные', 1002), ('диагностике', 1003), ('товару', 1004), ('участках', 1005), ('основного', 1006), ('физиологии', 1007), ('медицины', 1008), ('буровзрывных', 1009), ('решений', 1010), ('бухгалтера', 1011), ('энтузиастов', 1012), ('приему', 1013), ('заявок', 1014), ('26', 1015), ('кух', 1016), ('приходов', 1017), ('шатлык', 1018), ('450', 1019), ('стерлитамакский', 1020), ('молоковоза', 1021), ('экструзии', 1022), ('транспор', 1023), ('вып', 1024), ('раб', 1025), ('ручн', 1026), ('1с', 1027), ('тепловоза', 1028), ('культуры', 1029), ('местной', 1030), ('хайбулинский', 1031), ('производственное', 1032), ('пульта', 1033), ('изысканий', 1034), ('производством', 1035), ('2021', 1036), ('ситуациям', 1037), ('департамента', 1038), ('эффективности', 1039), ('процесса', 1040), ('13', 1041), ('метролог', 1042), ('госсектором', 1043), ('уфимский', 1044), ('геофизиком', 1045), ('гс', 1046), ('север', 1047), ('5318', 1048), ('печатник', 1049), ('плоской', 1050), ('печати', 1051), ('ведущийи', 1052), ('хирург', 1053), ('электростанций', 1054), ('аккаунт', 1055), ('узрмк', 1056), ('программному', 1057), ('полевого', 1058), ('вычислительного', 1059), ('17', 1060), ('трансформации', 1061), ('ремонтировщик', 1062), ('инспектор', 1063), ('нуреева', 1064), ('работам', 1065), ('мадоу', 1066), ('35', 1067), ('территориальный', 1068), ('цифровых', 1069), ('ит', 1070), ('бортпроводник', 1071), ('газодинамических', 1072), ('газоконденсатных', 1073), ('строительства', 1074), ('№8', 1075), ('фсо', 1076), ('т', 1077), ('гип', 1078), ('универсама', 1079), ('часть', 1080), ('председатель', 1081), ('товарищества', 1082), ('заправочной', 1083), ('отвественные', 1084), ('тех', 1085), ('топ', 1086), ('санитарный', 1087), ('трубоукладчика', 1088), ('хозяин', 1089), ('корпоративному', 1090), ('сегменту', 1091), ('прямых', 1092), ('соужба', 1093), ('кра', 1094), ('буфетчик', 1095), ('экспертизе', 1096), ('динамического', 1097), ('экономический', 1098), ('4р', 1099), ('радиоизмерениям', 1100), ('погрузочной', 1101), ('кадровая', 1102), ('вспомогательные', 1103), ('испытатель', 1104), ('16', 1105), ('ответственный', 1106), ('погрузчик', 1107), ('кип', 1108), ('радиационному', 1109), ('комерческого', 1110), ('станоков', 1111), ('геофизческих', 1112), ('готовй', 1113), ('ппп', 1114), ('премьера', 1115), ('нир', 1116), ('ремону', 1117), ('татышлинский', 1118), ('добычи', 1119), ('салават', 1120), ('юлаев', 1121), ('биологии', 1122), ('ппу', 1123), ('23', 1124), ('первый', 1125), ('арматурщик', 1126), ('для', 1127), ('ванн', 1128), ('расфасовочно', 1129), ('автомата', 1130), ('системный', 1131), ('гибкая', 1132), ('насосно', 1133), ('компрессорная', 1134), ('труба', 1135), ('дорожно', 1136), ('торговому', 1137), ('25', 1138), ('технологический', 1139), ('линия', 1140), ('порошкового', 1141), ('окрашивания', 1142), ('лпо', 1143), ('основной', 1144), ('сезона', 1145), ('вышкостроении', 1146), ('техники', 1147), ('уц', 1148), ('оборудованию', 1149), ('физики', 1150), ('железобетоных', 1151), ('главной', 1152), ('составитель', 1153), ('поездов', 1154), ('19', 1155), ('буровым', 1156), ('илишевский', 1157), ('калинина', 1158), ('деятельности', 1159), ('методического', 1160), ('методической', 1161), ('персоналу', 1162), ('ремонтам', 1163), ('5100', 1164), ('чувствительных', 1165), ('установках', 1166), ('изготовлению', 1167), ('узлов', 1168), ('вулканизаторщик', 1169), ('персоналом', 1170), ('бронирования', 1171), ('заведующего', 1172), ('интернет', 1173), ('заказам', 1174), ('главная', 1175), ('калькулятор', 1176), ('строительный', 1177), ('автотопливозаправщика', 1178), ('общей', 1179), ('практики', 1180), ('22', 1181), ('штамповщик', 1182), ('манипулятор', 1183), ('внедрению', 1184), ('геолог', 1185), ('качеству', 1186), ('гбр', 1187), ('сервису', 1188), ('товарный', 1189), ('стирке', 1190), ('грузовой', 1191), ('косметолога', 1192), ('постановочная', 1193), ('продуктов', 1194), ('движения', 1195), ('гример', 1196), ('доу', 1197), ('31', 1198), ('числовым', 1199), ('столовой', 1200), ('видеонаблюдения', 1201), ('инженерных', 1202), ('29', 1203), ('музыкальный', 1204), ('призводственного', 1205), ('компрессорных', 1206), ('пунктом', 1207), ('интернату', 1208), ('отк', 1209), ('массажу', 1210), ('48', 1211), ('цюрупы', 1212), ('97', 1213), ('усинск', 1214), ('разря', 1215), ('штамповки', 1216), ('производству', 1217), ('вопросам', 1218), ('мушникова', 1219), ('тракторов', 1220), ('ортодонт', 1221), ('доп', 1222), ('зачистка', 1223), ('срд', 1224), ('рвс', 1225), ('плк', 1226), ('обществознания', 1227), ('кранами', 1228), ('линий', 1229), ('ж', 1230), ('процессах', 1231), ('электропогрузчика', 1232), ('стиральных', 1233), ('подъемников', 1234), ('лифтов', 1235), ('культуре', 1236), ('объектов', 1237), ('дорожного', 1238), ('ремонтно', 1239), ('физкультуре', 1240), ('растворам', 1241), ('дуть', 1242), ('здания', 1243), ('закупок', 1244), ('дент', 1245), ('геоматериалов', 1246), ('стомотолога', 1247), ('светоч', 1248), ('плавки', 1249), ('заливки', 1250), ('плавильщик', 1251), ('сплавов', 1252), ('фармацефт', 1253), ('совмещаемая', 1254), ('угмк', 1255), ('изготовитель', 1256), ('разметки', 1257), ('вст', 1258), ('4500', 1259), ('09', 1260), ('при', 1261), ('307', 1262), ('технологической', 1263), ('аптечным', 1264), ('икеа', 1265), ('освещению', 1266), ('осветительным', 1267), ('вр', 1268), ('тпа', 1269), ('каротажа', 1270), ('аналитической', 1271), ('информации', 1272), ('обмотчик', 1273), ('резке', 1274), ('географии', 1275), ('пб', 1276), ('лдц', 1277), ('мерчейндайзер', 1278), ('11', 1279), ('хранения', 1280), ('ао', 1281), ('страховая', 1282), ('инструментальщик', 1283), ('декорационный', 1284), ('бутафор', 1285), ('камаз', 1286), ('ломовоз', 1287), ('организатор', 1288), ('учесток', 1289), ('транспортировки', 1290), ('складирования', 1291), ('430', 1292), ('лечебных', 1293), ('дез', 1294), ('хозяйственного', 1295), ('аппаратуры', 1296), ('сэмр', 1297), ('са', 1298), ('спецодежды', 1299), ('химии', 1300), ('технологическому', 1301), ('установщик', 1302), ('ппду', 1303), ('кабельных', 1304), ('партнер', 1305), ('автомат', 1306), ('вспомогательный', 1307), ('кармаскалинский', 1308), ('закупщик', 1309), ('промысловых', 1310), ('общежития', 1311), ('области', 1312), ('авиационной', 1313), ('сант', 1314), ('канализ', 1315), ('б', 1316), ('управляющая', 1317), ('гардеробщик', 1318), ('легкового', 1319), ('детских', 1320), ('молочных', 1321), ('мастера', 1322), ('абзелиловский', 1323), ('детского', 1324), ('сада', 1325), ('узд', 1326), ('совмещение', 1327), ('учебной', 1328), ('неразрушающего', 1329), ('сетевых', 1330), ('технологиям', 1331), ('адс', 1332), ('пресс', 1333), ('способом', 1334), ('вожатая', 1335), ('газоэлектросварщик', 1336), ('мто', 1337), ('медицине', 1338), ('цементирования', 1339), ('крепления', 1340), ('микробиолог', 1341), ('установка', 1342), ('вакуумной', 1343), ('за', 1344), ('работу', 1345), ('эму', 1346), ('творожной', 1347), ('робото', 1348), ('комплекс', 1349), ('ртк', 1350), ('робототехнического', 1351), ('комплекса', 1352), ('покупателей', 1353), ('библиотекой', 1354), ('39', 1355), ('жукова', 1356), ('бижбулякский', 1357), ('вышокомонтажник', 1358), ('комплексная', 1359), ('октября', 1360), ('ключевыми', 1361), ('урал', 1362), ('библиотекарь', 1363), ('магнитному', 1364), ('ультразвуковому', 1365), ('подготовительных', 1366), ('109', 1367), ('асфальтового', 1368), ('спортивных', 1369), ('игр', 1370), ('единоборств', 1371), ('созданию', 1372), ('условий', 1373), ('совершения', 1374), ('покупок', 1375), ('отделением', 1376), ('кастелянша', 1377), ('гардеробщица', 1378), ('тхс', 1379), ('заводоуправление', 1380), ('кадровой', 1381), ('сложным', 1382), ('буздякский', 1383), ('мероприятий', 1384), ('вспомогательное', 1385), ('трала', 1386), ('электрослесарь', 1387), ('экологической', 1388), ('соц', 1389), ('слесать', 1390), ('обособленного', 1391), ('советник', 1392), ('кабельщик', 1393), ('автобус', 1394), ('04', 1395), ('06', 1396), ('гусеничного', 1397), ('концертмейстер', 1398), ('заведующей', 1399), ('пескоструйщик', 1400), ('гл', 1401), ('№20', 1402), ('противовыбросовому', 1403), ('замдиректора', 1404), ('кисломолочных', 1405), ('бурового', 1406), ('мну', 1407), ('жарки', 1408), ('консультат', 1409), ('вмс', 1410), ('первичный', 1411), ('маляра', 1412), ('дир', 1413), ('физ', 1414), ('спорт', 1415), ('адаптивной', 1416), ('информационным', 1417), ('сухим', 1418), ('атомобиля', 1419), ('окрасчик', 1420), ('информатики', 1421), ('закупкам', 1422), ('промысловой', 1423), ('передвижного', 1424), ('туймазинский', 1425), ('технологически', 1426), ('взрывным', 1427), ('нефтегазопромыслового', 1428), ('инновационной', 1429), ('овощного', 1430), ('пом', 1431), ('зианчуринский', 1432), ('физкультуры', 1433), ('дежурного', 1434), ('вахта', 1435), ('массажист', 1436), ('логист', 1437), ('й', 1438), ('технопарк', 1439), ('медосмотр', 1440), ('строительного', 1441), ('насосных', 1442), ('давлекановский', 1443), ('объектах', 1444), ('профессия', 1445), ('экспериментального', 1446), ('производственном', 1447), ('офтальмолог', 1448), ('звукооператор', 1449), ('изо', 1450), ('янаульский', 1451), ('продовольственного', 1452), ('сушист', 1453), ('кровельщик', 1454), ('физиотерапии', 1455), ('двс', 1456), ('415', 1457), ('токарно', 1458), ('фрезерный', 1459), ('испытательная', 1460), ('литейных', 1461), ('админ', 1462), ('спецтранс', 1463), ('наружных', 1464), ('качества', 1465), ('качеством', 1466), ('прессах', 1467), ('нормированию', 1468), ('белебеевский', 1469), ('немецкого', 1470), ('окрас', 1471), ('прибор', 1472), ('ресторанного', 1473), ('процедурная', 1474), ('грп', 1475), ('прачка', 1476), ('груз', 1477), ('литейщик', 1478), ('разработок', 1479), ('ртз', 1480), ('№11', 1481), ('бассейна', 1482), ('стикеровщик', 1483), ('транспорту', 1484), ('контролёр', 1485), ('стажер', 1486), ('общим', 1487), ('операционист', 1488), ('материалов', 1489), ('№12', 1490), ('аптеки', 1491), ('хоз', 1492), ('аудитор', 1493), ('мастерской', 1494), ('погрузо', 1495), ('лома', 1496), ('отходов', 1497), ('псу', 1498), ('№15', 1499), ('№3', 1500), ('шприц', 1501), ('01', 1502), ('28', 1503), ('экономической', 1504), ('пилах', 1505), ('ножовках', 1506), ('кумысодел', 1507), ('газового', 1508), ('деканат', 1509), ('обж', 1510), ('лепщица', 1511), ('кму', 1512), ('авиа', 1513), ('компаниями', 1514), ('дмин', 1515), ('фк', 1516), ('кухни', 1517), ('№7', 1518), ('операционной', 1519), ('ту', 1520), ('№21', 1521), ('сыровар', 1522), ('ауп', 1523), ('бр', 1524), ('заказу', 1525), ('приемке', 1526), ('упр', 1527), ('комплексных', 1528), ('геодезических', 1529), ('мойки', 1530), ('полуавтомат', 1531), ('телеметрии', 1532), ('механизации', 1533), ('испытательного', 1534), ('специального', 1535), ('конструкторский', 1536), ('узкопроходного', 1537), ('прибельский', 1538), ('ов', 1539), ('сцены', 1540), ('карщик', 1541), ('паллетировщик', 1542), ('безопасную', 1543), ('этл', 1544), ('потребителями', 1545), ('нанесению', 1546), ('маркировочной', 1547), ('автомобильных', 1548), ('дорог', 1549), ('информационного', 1550), ('научного', 1551), ('балтачевский', 1552), ('№6', 1553), ('макетно', 1554), ('поделочный', 1555), ('макетчик', 1556), ('специалсит', 1557), ('заточник', 1558), ('судио', 1559), ('гнмц', 1560), ('грязелечебницы', 1561), ('гинеколог', 1562), ('тб', 1563), ('автотранспорта', 1564), ('дизайна', 1565), ('силикат', 1566), ('сейсмовибраторам', 1567), ('офп', 1568), ('сливщик', 1569), ('разливщик', 1570), ('сил', 1571), ('осветитель', 1572), ('особо', 1573), ('сложных', 1574), ('ответственных', 1575), ('розлива', 1576), ('обсл', 1577), ('комплек', 1578), ('обс', 1579), ('№14', 1580), ('экономике', 1581), ('разрубщик', 1582), ('гбу', 1583), ('рцппмсп', 1584), ('офтальмохирург', 1585), ('школы', 1586), ('колесных', 1587), ('пар', 1588), ('электролаборатории', 1589), ('мясник', 1590), ('юг', 1591), ('гипермаркета', 1592), ('вент', 1593), ('спо', 1594), ('комплектовчик', 1595), ('вагонного', 1596), ('парка', 1597), ('оос', 1598), ('топографического', 1599), ('калинка', 1600), ('космонавтов', 1601), ('работа', 1602), ('связана', 1603), ('организацией', 1604), ('соединительное', 1605), ('шоссе', 1606), ('депо', 1607), ('автовышки', 1608), ('вагон', 1609), ('апр', 1610), ('теплотехник', 1611), ('корпоративной', 1612), ('кран', 1613), ('северо', 1614), ('восточный', 1615), ('строительстве', 1616), ('хлебу', 1617), ('сварочного', 1618), ('обходчик', 1619), ('линейный', 1620), ('ишимбайский', 1621), ('музыки', 1622), ('цена', 1623), ('акз', 1624), ('инженерной', 1625), ('трафаретов', 1626), ('корректировщик', 1627), ('звбойным', 1628), ('кафедрой', 1629), ('городской', 1630), ('планетарий', 1631), ('кузнец', 1632), ('молотах', 1633), ('корпоративным', 1634), ('долотном', 1635), ('внутр', 1636), ('курасково', 1637), ('стариший', 1638), ('специальных', 1639), ('обучению', 1640), ('новых', 1641), ('cанитарка', 1642), ('бурении', 1643), ('капитальном', 1644), ('ремонте', 1645), ('документообороту', 1646), ('ослуживанию', 1647), ('разделке', 1648), ('рыбы', 1649), ('клинингу', 1650), ('проживанию', 1651), ('иц', 1652), ('секции', 1653), ('спец', 1654), ('футбольная', 1655), ('покрасочной', 1656), ('бакалинская', 1657), ('социальной', 1658), ('мойщика', 1659), ('барменеджер', 1660), ('стомотолог', 1661), ('светорежиссер', 1662), ('цехом', 1663), ('однк', 1664), ('пиццайоло', 1665), ('буровзрывного', 1666), ('бизнеса', 1667), ('полуавт', 1668), ('охлаждением', 1669), ('взрывчатых', 1670), ('конторолер', 1671), ('куханный', 1672), ('тренинг', 1673), ('мрнтажных', 1674), ('волга', 1675), ('совмещением', 1676), ('пп', 1677), ('тсс', 1678), ('сортировщик', 1679), ('строительеных', 1680), ('вратарей', 1681), ('вечерний', 1682), ('асфальтоукладчика', 1683), ('стр', 1684), ('калтасинский', 1685), ('мобильной', 1686), ('исполнительный', 1687), ('пс', 1688), ('об', 1689), ('бухгалер', 1690), ('подъмника', 1691), ('спир', 1692), ('мл', 1693), ('эксплуатационный', 1694), ('грунтового', 1695), ('удаленным', 1696), ('№229', 1697), ('удаленных', 1698), ('проектах', 1699), ('подьемника', 1700), ('сэд', 1701), ('ипц', 1702), ('регулирования', 1703), ('обученя', 1704), ('428', 1705), ('насосной', 1706), ('операционного', 1707), ('водителя', 1708), ('экспедитора', 1709), ('физического', 1710), ('воспитания', 1711), ('самосвала', 1712), ('воды', 1713), ('vладший', 1714), ('региональный', 1715), ('электротехнической', 1716), ('губайдуллина', 1717), ('учебная', 1718), ('обрубки', 1719), ('обрубщик', 1720), ('преподаваиель', 1721), ('атташе', 1722), ('завод', 1723), ('оснастки', 1724), ('клиетами', 1725), ('сб', 1726), ('модельщик', 1727), ('выплавляемых', 1728), ('моделей', 1729), ('колонны', 1730), ('руководство', 1731), ('каротажу', 1732), ('308', 1733), ('станка', 1734), ('учит', 1735), ('нач', 1736), ('эколог', 1737), ('банкетный', 1738), ('компрессора', 1739), ('ресторана', 1740), ('пдп', 1741), ('вап', 1742), ('дизайн', 1743), ('организаций', 1744), ('группой', 1745), ('аптек', 1746), ('сантехсистем', 1747), ('взрывных', 1748), ('приемной', 1749), ('комиссии', 1750), ('сип', 1751), ('помещения', 1752), ('корпусов', 1753), ('культорганизатор', 1754), ('цро', 1755), ('мхк', 1756), ('толпар', 1757), ('ассенизаторская', 1758), ('машина', 1759), ('кабаковский', 1760), ('медиообеспечения', 1761), ('асупип', 1762), ('промышленных', 1763), ('альпинистов', 1764), ('дефектоскопистов', 1765), ('кдл', 1766), ('аст', 1767), ('ахо', 1768), ('рубщик', 1769), ('мяса', 1770), ('баймакский', 1771), ('машини', 1772), ('ста', 1773), ('гусеничными', 1774), ('опытного', 1775), ('менеджера', 1776), ('мониажник', 1777), ('анализам', 1778), ('вк', 1779), ('неразрушающему', 1780), ('2гр', 1781), ('расфасовке', 1782), ('молочной', 1783), ('ритс', 1784), ('визуальный', 1785), ('мастерская', 1786), ('вгэ', 1787), ('заместит', 1788), ('псх', 1789), ('лрк', 1790), ('вожатый', 1791), ('автотранспортный', 1792), ('наземными', 1793), ('транспортными', 1794), ('средствами', 1795), ('проектированию', 1796), ('ттхо', 1797), ('компресора', 1798), ('гфо', 1799), ('пуско', 1800), ('наладочных', 1801), ('смежная', 1802), ('компектовщик', 1803), ('108', 1804), ('гидродинамических', 1805), ('белья', 1806), ('транспортных', 1807), ('высоте', 1808), ('закупу', 1809), ('трубороводов', 1810), ('кумысо', 1811), ('дел', 1812), ('4300', 1813), ('механизированныи', 1814), ('инструментом', 1815), ('маникюру', 1816), ('старшй', 1817), ('испытательной', 1818), ('фш', 1819), ('обжарщик', 1820), ('кофейных', 1821), ('зерен', 1822), ('монтировщик', 1823), ('библиотека', 1824), ('машиист', 1825), ('экономического', 1826), ('техологических', 1827), ('доз', 1828), ('акушер', 1829), ('делопроизводства', 1830), ('информационно', 1831), ('азотно', 1832), ('ск', 1833), ('инжинер', 1834), ('кеонторолер', 1835), ('переналадки', 1836), ('форм', 1837), ('передачи', 1838), ('второй', 1839), ('хостесс', 1840), ('территории', 1841), ('пищевого', 1842), ('420', 1843), ('рекламы', 1844), ('рекламе', 1845), ('предпродажной', 1846), ('малотоннажного', 1847), ('транспорта', 1848), ('мойщица', 1849), ('интеграции', 1850), ('процессов', 1851), ('производств', 1852), ('дсмр', 1853), ('эмц', 1854), ('тсо', 1855), ('футбольной', 1856), ('понтажу', 1857), ('гсм', 1858), ('обустройство', 1859), ('уборкой', 1860), ('туалета', 1861), ('кастелянща', 1862), ('экспл', 1863), ('информационных', 1864), ('рисками', 1865), ('аккумуляторщик', 1866), ('исполнитель', 1867), ('сверке', 1868), ('региональных', 1869), ('обработчик', 1870), ('из', 1871), ('металлорежущих', 1872), ('механике', 1873), ('№230', 1874), ('факультет', 1875), ('сварщика', 1876), ('контроль', 1877), ('экспидитор', 1878), ('5347', 1879), ('рук', 1880), ('дст', 1881), ('мксм', 1882), ('подъёмного', 1883), ('правовой', 1884), ('спектр', 1885), ('вагонов', 1886), ('монажник', 1887), ('скажин', 1888), ('первомайская', 1889), ('допущен', 1890), ('транспортным', 1891), ('средством', 1892), ('физо', 1893), ('организационному', 1894), ('спф', 1895), ('грязелечебница', 1896), ('05', 1897), ('городков', 1898), ('маслоизготовитель', 1899), ('ско', 1900), ('телу', 1901), ('доярка', 1902), ('тнрмич', 1903), ('производст', 1904), ('геодезический', 1905), ('невролог', 1906), ('компания', 1907), ('технотекс', 1908), ('гвардейская', 1909), ('55а', 1910), ('текущему', 1911), ('№9', 1912), ('бвр', 1913), ('стропальщиков', 1914), ('гпм', 1915), ('контрактный', 1916), ('трубоук', 1917), ('426', 1918), ('судового', 1919), ('электромонтажа', 1920), ('судовой', 1921), ('08', 1922), ('столярный', 1923), ('столяров', 1924), ('региональным', 1925), ('рус', 1926), ('3р', 1927), ('доб', 1928), ('химического', 1929), ('нефтеотдачи', 1930), ('№18', 1931), ('инежнер', 1932), ('ермекеевский', 1933), ('тг', 1934), ('куюргазинский', 1935), ('5р', 1936), ('интерната', 1937), ('комплектовщица', 1938), ('итсфз', 1939), ('бортовой', 1940), ('проводник', 1941), ('бренд', 1942), ('всех', 1943), ('категорий', 1944), ('асутп', 1945), ('линейщик', 1946), ('вл', 1947), ('высокого', 1948), ('напряжения', 1949), ('контактной', 1950), ('общежитию', 1951), ('п', 1952), ('ф', 1953), ('федоровский', 1954), ('подрадленения', 1955), ('погркзчика', 1956), ('№13', 1957), ('автомобилч', 1958), ('химич', 1959), ('полуфаб', 1960), ('бсмтс', 1961), ('пициола', 1962), ('разрешительной', 1963), ('документацией', 1964), ('восстановления', 1965), ('вручную', 1966), ('лотерейная', 1967), ('деятельность', 1968), ('лудил', 1969), ('дет', 1970), ('приб', 1971), ('гор', 1972), ('спос', 1973), ('крупному', 1974), ('бизнесу', 1975), ('экипировке', 1976), ('админстратор', 1977), ('эпидемиолог', 1978), ('разделов', 1979), ('рентгенолог', 1980), ('региональному', 1981), ('рентгенограммаграфирования', 1982), ('мелеуз', 1983), ('экономическим', 1984), ('мучного', 1985), ('чаяндинское', 1986), ('высокомонтажник', 1987), ('портье', 1988), ('командир', 1989), ('вахтёр', 1990), ('рег', 1991), ('ин', 1992), ('граждан', 1993), ('ii', 1994), ('уровня', 1995), ('нефтебазы', 1996), ('ответ', 1997), ('лицо', 1998), ('пров', 1999), ('о', 2000), ('рограммист', 2001), ('санитарной', 2002), ('мониторинга', 2003), ('металлообработки', 2004), ('улучшению', 2005), ('операционных', 2006), ('результатов', 2007), ('экпедитор', 2008), ('розничного', 2009), ('пневмоколесными', 2010), ('спайщик', 2011), ('электросвапрщик', 2012), ('пластмас', 2013), ('1979', 2014), ('октябрьский', 2015), ('административный', 2016), ('мониторингу', 2017), ('сеймической', 2018), ('всп', 2019), ('вакуумного', 2020), ('центробежновакуумного', 2021), ('центробежного', 2022), ('оформительской', 2023), ('соп', 2024), ('прм', 2025), ('уфимского', 2026), ('филиала', 2027), ('варки', 2028), ('входному', 2029), ('сушеф', 2030), ('магазином', 2031), ('ос', 2032), ('писп', 2033), ('ингка', 2034), ('помошник', 2035), ('лектор', 2036), ('электроборудования', 2037), ('упго', 2038), ('директрор', 2039), ('референт', 2040), ('автомаьтического', 2041), ('облицовщик', 2042), ('плиточник', 2043), ('совмецением', 2044), ('орган', 2045), ('мсч', 2046), ('закройщик', 2047), ('декан', 2048), ('факультета', 2049), ('ситуация', 2050), ('цткрс', 2051), ('№232', 2052), ('обуения', 2053), ('гигиенист', 2054), ('радиосвязь', 2055), ('системы', 2056), ('синхронизации', 2057), ('геолого', 2058), ('открытой', 2059), ('обслуж', 2060), ('оборуд', 2061), ('бистро', 2062), ('шведских', 2063), ('прачечная', 2064), ('прачечной', 2065), ('планирования', 2066), ('финансовой', 2067), ('начало', 2068), ('режима', 2069), ('дирекции', 2070), ('геофизики', 2071), ('рентгенолаборант', 2072), ('бурильно', 2073), ('крановой', 2074), ('самоходной', 2075), ('дннгб', 2076), ('накладке', 2077), ('подключению', 2078), ('корпоративных', 2079), ('клиентов', 2080), ('операторов', 2081), ('аэрофотосъемки', 2082), ('заведуюший', 2083), ('частью', 2084), ('коммерческой', 2085), ('обд', 2086), ('спортблока', 2087), ('ионно', 2088), ('плазменных', 2089), ('тн', 2090), ('у', 2091), ('геодезического', 2092), ('лицу', 2093), ('кабельный', 2094), ('уч', 2095), ('автомобильной', 2096), ('проектрировщик', 2097), ('вахтового', 2098), ('нальник', 2099), ('медиа', 2100), ('музыкальных', 2101), ('инструментов', 2102), ('численного', 2103), ('моделирования', 2104), ('отчетно', 2105), ('графический', 2106), ('болотохода', 2107), ('учёту', 2108), ('технолгических', 2109), ('6р', 2110), ('радиационной', 2111), ('иженерно', 2112), ('профе', 2113), ('газоречик', 2114), ('непосредстевнно', 2115), ('суши', 2116), ('слесарт', 2117), ('управленческого', 2118), ('корпоративного', 2119), ('строительному', 2120), ('администрации', 2121), ('необязательно', 2122), ('425', 2123), ('монтажа', 2124), ('калибровки', 2125), ('химческой', 2126), ('творога', 2127), ('лифтового', 2128), ('омтс', 2129), ('иженер', 2130), ('вм', 2131), ('переделать', 2132), ('гпд', 2133), ('молодежной', 2134), ('команды', 2135), ('свос', 2136), ('телеметрическая', 2137), ('караидельский', 2138), ('коррекционного', 2139), ('viii', 2140), ('вида', 2141), ('завелующий', 2142), ('культурно', 2143), ('массовой', 2144), ('проектеровщик', 2145), ('№10', 2146), ('косметологии', 2147), ('объекта', 2148), ('нт', 2149), ('телемеханике', 2150), ('выпуска', 2151), ('спецалист', 2152), ('учебного', 2153), ('педиатр', 2154), ('доходами', 2155), ('лицензирования', 2156), ('товоровед', 2157), ('педагок', 2158), ('юридического', 2159), ('дробления', 2160), ('кто', 2161), ('джиректор', 2162), ('токсиколог', 2163), ('центральной', 2164), ('анг', 2165), ('гти', 2166), ('китчен', 2167), ('англ', 2168), ('полировщик', 2169), ('ключевым', 2170), ('клиентам', 2171), ('аналитическим', 2172), ('расточник', 2173), ('кассой', 2174), ('девектоскопист', 2175), ('потник', 2176), ('рентген', 2177), ('флорист', 2178), ('авитехник', 2179), ('службытральной', 2180), ('автлмобиля', 2181), ('ока', 2182), ('автотранспортной', 2183), ('строительной', 2184), ('др', 2185), ('трубоповодов', 2186), ('электрооборужования', 2187), ('нем', 2188), ('отделения', 2189), ('перспективному', 2190), ('стандартам', 2191), ('эхз', 2192), ('оборудованиятжк', 2193), ('ренгеногаммаграфирования', 2194), ('обор', 2195), ('фельдшер', 2196), ('аналитик', 2197), ('мпз', 2198), ('дпг', 2199), ('кислородной', 2200), ('внедорожных', 2201), ('автомототранспортных', 2202), ('третьего', 2203), ('катерогии', 2204), ('янао', 2205), ('харасавэйское', 2206), ('гкм', 2207), ('з', 2208), ('структурное', 2209), ('южная', 2210), ('зпмпк', 2211), ('проектной', 2212), ('электомонтёр', 2213), ('хк', 2214), ('агидель', 2215), ('заведющая', 2216), ('инкасатор', 2217), ('химикатов', 2218), ('железебетонных', 2219), ('спмт', 2220), ('государственных', 2221), ('учреждений', 2222), ('юрист', 2223), ('жкх', 2224), ('птицевод', 2225), ('упо', 2226), ('содержанию', 2227), ('топливозаправщик', 2228), ('труду', 2229), ('формовщик', 2230), ('выплавляемым', 2231), ('моделям', 2232), ('экспедицией', 2233), ('розничных', 2234), ('повижного', 2235), ('серв', 2236), ('технологичекских', 2237), ('звездный', 2238), ('осветительного', 2239), ('договорного', 2240), ('№16', 2241), ('очистки', 2242), ('сточных', 2243), ('вод', 2244), ('пекаря', 2245), ('купажист', 2246), ('ряздяда', 2247), ('гидравлического', 2248), ('разрыва', 2249), ('стротельству', 2250), ('швея', 2251), ('дорожныый', 2252), ('гок', 2253), ('ножницах', 2254), ('ветеринар', 2255), ('оптиков', 2256), ('сварщиков', 2257), ('скк', 2258), ('корпусом', 2259), ('258', 2260), ('аттест', 2261), ('разметчик', 2262), ('групп', 2263), ('высшкомонтажник', 2264), ('автотранспорту', 2265), ('акн', 2266), ('газель', 2267), ('глав', 2268), ('продаже', 2269), ('сервисных', 2270), ('услуг', 2271), ('запасных', 2272), ('частей', 2273), ('архитектор', 2274), ('трубоклад', 2275), ('отруда', 2276), ('общий', 2277), ('cip', 2278), ('огран', 2279), ('ѵііі', 2280), ('общехозяйственные', 2281), ('прививочной', 2282), ('компонентов', 2283), ('компрессорной', 2284), ('домов', 2285), ('приемки', 2286), ('свежих', 2287), ('лит', 2288), ('ры', 2289), ('кив', 2290), ('iii', 2291), ('электробезопасности', 2292), ('нгочной', 2293), ('опир', 2294), ('химиической', 2295), ('тендерной', 2296), ('заправщик', 2297), ('автоматического', 2298), ('ренгено', 2299), ('технолога', 2300), ('профессор', 2301), ('заместиитель', 2302), ('моечной', 2303), ('научно', 2304), ('исследовательской', 2305), ('документационному', 2306), ('обеспечению', 2307), ('заведубщая', 2308), ('здрав', 2309), ('сантехнический', 2310), ('мастерс', 2311), ('медпредставитель', 2312), ('анестезиолог', 2313), ('пециалист', 2314), ('стажёр', 2315), ('сл', 2316), ('механник', 2317), ('рц', 2318), ('пту', 2319), ('дкс', 2320), ('крг', 2321), ('взрывника', 2322), ('сигнализации', 2323), ('железнобетонных', 2324), ('кту', 2325), ('ооператор', 2326), ('внутреннему', 2327), ('первого', 2328), ('грейда', 2329), ('верхнему', 2330), ('выщкомонтажник', 2331), ('машинст', 2332), ('ресайклера', 2333), ('промышленоой', 2334), ('безопастности', 2335), ('спциалист', 2336), ('поиску', 2337), ('аренде', 2338), ('позиций', 2339), ('дробильщик', 2340), ('нижневартовский', 2341), ('коммерческого', 2342), ('нормоконтролер', 2343), ('командира', 2344), ('асб', 2345), ('теплосетей', 2346), ('раствором', 2347), ('эксковатора', 2348), ('торговых', 2349), ('точек', 2350), ('смонтажник', 2351), ('электросвпрщик', 2352), ('рк', 2353), ('электроштабелера', 2354), ('камаза', 2355), ('завхоз', 2356), ('подразделенния', 2357), ('измеритель', 2358), ('лкми', 2359), ('икт', 2360), ('вторичных', 2361), ('гранул', 2362), ('бюро', 2363), ('пропусков', 2364), ('аптеками', 2365), ('станци', 2366), ('мч', 2367), ('проектных', 2368), ('элекромонтажник', 2369), ('розничными', 2370), ('управлен', 2371), ('кассе', 2372), ('судоводитель', 2373), ('маломерного', 2374), ('судна', 2375), ('газоплазморезательного', 2376), ('брат', 2377), ('взд', 2378), ('1й', 2379), ('cлесарь', 2380), ('трубопровдов', 2381), ('травильщик', 2382), ('1000в', 2383), ('хаспп', 2384), ('гидравлик', 2385), ('про', 2386), ('подъемным', 2387), ('агрегатам', 2388), ('архива', 2389), ('экспедиторы', 2390), ('произ', 2391), ('стальным', 2392), ('кровлям', 2393), ('ату', 2394), ('выписке', 2395), ('шев', 2396), ('пневмоколесного', 2397), ('электрогазорсварщик', 2398), ('социально', 2399), ('экологическим', 2400), ('посудомойщик', 2401), ('непродавольственных', 2402), ('правовым', 2403), ('рабочей', 2404), ('сетке', 2405), ('автотехсервис', 2406), ('опс', 2407), ('инструменту', 2408), ('колесного', 2409), ('304', 2410), ('медицинской', 2411), ('ответвенный', 2412), ('колл', 2413), ('геодезиста', 2414), ('большими', 2415), ('данными', 2416), ('бдд', 2417), ('землепользованию', 2418), ('02', 2419), ('технологичсеких', 2420), ('сырья', 2421), ('оэп', 2422), ('дгу', 2423), ('стоительных', 2424), ('ас', 2425), ('сменный', 2426), ('коммерческим', 2427), ('мероприятиям', 2428), ('осуществление', 2429), ('элекрогазосварщик', 2430), ('эструдера', 2431), ('применением', 2432), ('методов', 2433), ('промышленного', 2434), ('альпинизма', 2435), ('здоровья', 2436), ('ямобура', 2437), ('ксо', 2438), ('сорганизацией', 2439), ('бань', 2440), ('вывозке', 2441), ('торговыми', 2442), ('местами', 2443), ('седельный', 2444), ('тягач', 2445), ('предотвращению', 2446), ('внештатных', 2447), ('ситуаций', 2448), ('физкультура', 2449), ('промысле', 2450), ('хозяйства', 2451), ('ремонтного', 2452), ('раздачи', 2453), ('бульдозерист', 2454), ('дистрибуции', 2455), ('бурильшик', 2456), ('растворов', 2457), ('выпуску', 2458), ('атс', 2459), ('транском', 2460), ('архивариус', 2461), ('свервис', 2462), ('рир', 2463), ('скважинных', 2464), ('вертикальному', 2465), ('сейсмопрофилированию', 2466), ('№233', 2467), ('ппдуа', 2468), ('обслуживаю', 2469), ('безопасноти', 2470), ('костюмерной', 2471), ('черчения', 2472), ('пещевой', 2473), ('спп', 2474), ('дерматовенеролог', 2475), ('аренды', 2476), ('тго', 2477), ('№17', 2478), ('графического', 2479), ('плазменной', 2480), ('реки', 2481), ('разярда', 2482), ('дефектолог', 2483), ('узкуопроходного', 2484), ('cу', 2485), ('вычислительной', 2486), ('скл', 2487), ('лудильщик', 2488), ('горячим', 2489), ('маркетолог', 2490), ('№231', 2491), ('телеметрических', 2492), ('монтажной', 2493), ('бригады', 2494), ('погрзучкика', 2495), ('паровых', 2496), ('стерилизаторах', 2497), ('автоклавер', 2498), ('финансам', 2499), ('электрмонтёр', 2500), ('разряла', 2501), ('завсклад', 2502), ('двигательного', 2503), ('кейтерингу', 2504), ('выпускаемой', 2505), ('отд', 2506), ('размещ', 2507), ('дозиметрист', 2508), ('внешним', 2509), ('коммуникациям', 2510), ('геофизического', 2511), ('вышкомантажник', 2512), ('яйца', 2513), ('преподаватедь', 2514), ('монтажного', 2515), ('водовозки', 2516), ('внеш', 2517), ('техничка', 2518), ('упаковке', 2519), ('непродовльственных', 2520), ('механосборчных', 2521), ('огнеупорщик', 2522), ('декораторов', 2523), ('наклонно', 2524), ('направленного', 2525), ('продахам', 2526), ('автомобильнонго', 2527), ('лекового', 2528), ('вентиляции', 2529), ('кондиционирования', 2530), ('оперативного', 2531), ('расчету', 2532), ('ортопедическим', 2533), ('повара', 2534), ('машинистом', 2535), ('огм', 2536), ('генераторов', 2537), ('медицинского', 2538), ('вторичным', 2539), ('цепям', 2540)]\n",
            "(38074,)\n",
            "[5, 51]\n",
            "(38074, 2500)\n",
            " Машинист автокрана автомобильного \n",
            "[0. 0. 0. ... 0. 0. 0.]\n"
          ]
        }
      ]
    },
    {
      "cell_type": "code",
      "source": [
        "#  Добавление в общий вектор\n",
        "oneHotArray = np.concatenate((oneHotArray, x_data_01), axis=1)\n",
        "print(oneHotArray.shape)"
      ],
      "metadata": {
        "colab": {
          "base_uri": "https://localhost:8080/"
        },
        "id": "Z4RHRMZP8qwh",
        "outputId": "d8e6cc3c-84a8-4beb-824c-649c8534d295"
      },
      "execution_count": null,
      "outputs": [
        {
          "output_type": "stream",
          "name": "stdout",
          "text": [
            "(38074, 2516)\n"
          ]
        }
      ]
    },
    {
      "cell_type": "markdown",
      "source": [
        "### Вредные факторы"
      ],
      "metadata": {
        "id": "onKnP3sZTfo9"
      }
    },
    {
      "cell_type": "code",
      "source": [
        "\n",
        "ncol = 'ВредныеФакторы'\n",
        "unique = set(df[ncol].str.split(',').sum())\n",
        "\n",
        "# Токенизатор для преобразование текстов в последовательности\n",
        "VOCAB_SIZE = len(unique) +1\n",
        "\n",
        "# Токенизация и построение частотного словаря по обучающим текстам\n",
        "# Используется встроенный в Keras токенизатор для разбиения текста и построения частотного словаря\n",
        "tokenizer = Tokenizer(num_words=VOCAB_SIZE, filters='', lower=True, split=',', oov_token='?', char_level=False)\n",
        "\n",
        "# Использованы параметры:\n",
        "# num_words   - объем словаря\n",
        "# filters     - убираемые из текста ненужные символы\n",
        "# lower       - приведение слов к нижнему регистру\n",
        "# split       - разделитель слов\n",
        "# char_level  - указание разделять по словам, а не по единичным символам\n",
        "# oov_token   - токен для слов, которые не вошли в словарь\n",
        "\n",
        "# Построение частотного словаря по обучающим текстам\n",
        "tokenizer.fit_on_texts(df[ncol])\n",
        "\n",
        "# Построение словаря в виде пар слово - индекс\n",
        "items = list(tokenizer.word_index.items())\n",
        "\n",
        "print(items)\n",
        "\n",
        "# Преобразование входных текстов в последовательности индексов (для архитектур с embedding)\n",
        "# Применено приведение к массиву объектов для дальнейшего разделения на выборки\n",
        "x_data = np.array(tokenizer.texts_to_sequences(df[ncol]), dtype=object)\n",
        "# Вывод формы и примера данных\n",
        "print(x_data.shape)\n",
        "print(x_data[0][:20])\n",
        "\n",
        "# Преобразование входных текстов в разреженную матрицу из векторов Bag of Words\n",
        "x_data_01 = tokenizer.texts_to_matrix(df[ncol])\n",
        "# Вывод формы и примера данных\n",
        "print(x_data_01.shape)\n",
        "print(df[ncol][15])\n",
        "print(x_data_01[15, :])\n"
      ],
      "metadata": {
        "id": "OmT0mSmNINKD",
        "colab": {
          "base_uri": "https://localhost:8080/"
        },
        "outputId": "db3b17af-5ca2-4d84-bf48-452da9a58501"
      },
      "execution_count": null,
      "outputs": [
        {
          "output_type": "stream",
          "name": "stdout",
          "text": [
            "[('?', 1), ('5.1', 2), ('11.1', 3), ('4.4', 4), ('6.1', 5), ('23', 6), ('4.2.5', 7), ('11.4', 8), ('6.2', 9), ('18.1', 10), ('4.7', 11), ('6', 12), ('15', 13), ('9', 14), ('18.2', 15), ('1.50', 16), ('17', 17), ('4.3.2', 18), ('4.8', 19), ('4.3.1', 20), ('13', 21), ('11.3', 22), ('25', 23), ('11', 24), ('1.1', 25), ('12', 26), ('3.1.7', 27), ('27', 28), ('1.39', 29), ('1.29.2', 30), ('4.1', 31), ('18', 32), ('4.2.1', 33), ('1.30.1', 34), ('3.1.2', 35), ('26', 36), ('1.37.1', 37), ('1.14.2', 38), ('1.23', 39), ('3.1', 40), ('4.9', 41), ('1.5', 42), ('1.3', 43), ('1.37.2', 44), ('1.36.1', 45), ('5.2', 46), ('4.2.3', 47), ('1.34.1', 48), ('22', 49), ('5.2.1', 50), ('1.15', 51), ('4.3', 52), ('1.8.1.1', 53), ('8', 54), ('4.5', 55), ('4.2.4', 56), ('3.4', 57), ('4.2.2', 58), ('2.4.2', 59), ('4.10', 60), ('1.29.1', 61), ('1.17', 62), ('4.2', 63), ('1.2', 64), ('4.6', 65), ('1.48', 66), ('3.1.9.3', 67), ('24', 68), ('1.19.1', 69), ('1.29.4', 70), ('1.8.1.2', 71), ('3.1.1', 72), ('3.1.8.2', 73), ('14', 74), ('1.27.1', 75), ('1.36', 76), ('2.4.3', 77), ('3.1.8', 78), ('1.18.3', 79), ('1.47.7', 80), ('1.8.2.1', 81), ('3.1.8.1', 82), ('3.1.8.3', 83), ('1.5.1', 84), ('10', 85), ('1.37.1.1', 86), ('1.51.1', 87), ('2.4.1', 88), ('2.4.4', 89), ('2.4.5', 90), ('1.8.1', 91), ('3.2', 92), ('1.51.2', 93), ('3.1.3', 94), ('1.42', 95), ('1.24', 96), ('1.51', 97), ('1.4', 98), ('1.8.2.2', 99), ('1.8.3.1', 100), ('1.8.3.2', 101), ('1.37', 102), ('1.49.14', 103), ('1.45.1', 104), ('3.3', 105), ('1.30', 106), ('1.38', 107), ('1.10', 108), ('1.40', 109), ('1.25', 110), ('3.1.5', 111), ('1.49', 112), ('5.2.2', 113), ('1.43.1', 114), ('2.4', 115), ('11.2', 116), ('1.12', 117), ('1.22', 118), ('1.14.1', 119), ('1.49.4', 120), ('1.37.1.2', 121), ('1.53.2', 122), ('1.52', 123), ('1.44', 124), ('16', 125), ('2.1', 126), ('7', 127), ('1.46', 128), ('1.36.3', 129), ('1.53.1', 130), ('1.47.1', 131), ('1.52.1', 132), ('1.7.1', 133), ('1.29.3', 134), ('2.3', 135), ('1.14', 136), ('1.15.1', 137), ('1.36.2', 138), ('1.49.2', 139), ('1.29', 140), ('1.8.2', 141), ('1.8.3', 142), ('1.49.11', 143), ('1.6', 144), ('1.47', 145), ('1.52.5', 146), ('3.1.9.2', 147), ('19.1', 148), ('19.2', 149), ('1.43', 150), ('3.1.10', 151), ('1.20', 152)]\n",
            "(38074,)\n",
            "[25, 43, 45, 29, 16, 20, 18, 65, 2, 15]\n",
            "(38074, 153)\n",
            "1.29.2,4.1,4.3.2,5.1,11.1,11.3,17,18.2\n",
            "[0. 0. 1. 1. 0. 0. 0. 0. 0. 0. 0. 0. 0. 0. 0. 1. 0. 1. 1. 0. 0. 0. 1. 0.\n",
            " 0. 0. 0. 0. 0. 0. 1. 1. 0. 0. 0. 0. 0. 0. 0. 0. 0. 0. 0. 0. 0. 0. 0. 0.\n",
            " 0. 0. 0. 0. 0. 0. 0. 0. 0. 0. 0. 0. 0. 0. 0. 0. 0. 0. 0. 0. 0. 0. 0. 0.\n",
            " 0. 0. 0. 0. 0. 0. 0. 0. 0. 0. 0. 0. 0. 0. 0. 0. 0. 0. 0. 0. 0. 0. 0. 0.\n",
            " 0. 0. 0. 0. 0. 0. 0. 0. 0. 0. 0. 0. 0. 0. 0. 0. 0. 0. 0. 0. 0. 0. 0. 0.\n",
            " 0. 0. 0. 0. 0. 0. 0. 0. 0. 0. 0. 0. 0. 0. 0. 0. 0. 0. 0. 0. 0. 0. 0. 0.\n",
            " 0. 0. 0. 0. 0. 0. 0. 0. 0.]\n"
          ]
        }
      ]
    },
    {
      "cell_type": "code",
      "source": [
        "#  Добавление в общий вектор\n",
        "oneHotArray = np.concatenate((oneHotArray, x_data_01), axis=1)\n",
        "print(oneHotArray.shape)"
      ],
      "metadata": {
        "id": "9CK5ZehKEWkw",
        "colab": {
          "base_uri": "https://localhost:8080/"
        },
        "outputId": "3700d699-69a7-4004-919a-4861b23374b0"
      },
      "execution_count": null,
      "outputs": [
        {
          "output_type": "stream",
          "name": "stdout",
          "text": [
            "(38074, 2669)\n"
          ]
        }
      ]
    },
    {
      "cell_type": "markdown",
      "source": [
        "### MКБ"
      ],
      "metadata": {
        "id": "EvFbR-x_JEaG"
      }
    },
    {
      "cell_type": "code",
      "source": [
        "ncol = 'МКБ_'\n",
        "unique = set(df[ncol].str.split(',').sum())\n",
        "\n",
        "VOCAB_SIZE = len(unique) +1\n",
        "# Токенизация и построение частотного словаря по обучающим текстам\n",
        "# Используется встроенный в Keras токенизатор для разбиения текста и построения частотного словаря\n",
        "tokenizer1 = Tokenizer(num_words=VOCAB_SIZE, filters='', lower=False, split=',', oov_token='?', char_level=False)\n",
        "\n",
        "# Использованы параметры:\n",
        "# num_words   - объем словаря\n",
        "# filters     - убираемые из текста ненужные символы\n",
        "# lower       - приведение слов к нижнему регистру\n",
        "# split       - разделитель слов\n",
        "# char_level  - указание разделять по словам, а не по единичным символам\n",
        "# oov_token   - токен для слов, которые не вошли в словарь\n",
        "\n",
        "# Построение частотного словаря по обучающим текстам\n",
        "tokenizer1.fit_on_texts(df[ncol])\n",
        "\n",
        "# Построение словаря в виде пар слово - индекс\n",
        "items = list(tokenizer1.word_index.items())\n",
        "\n",
        "print(items)\n",
        "\n",
        "# Преобразование входных текстов в последовательности индексов (для архитектур с embedding)\n",
        "# Применено приведение к массиву объектов для дальнейшего разделения на выборки\n",
        "x1_data = np.array(tokenizer1.texts_to_sequences(df[ncol]), dtype=object)\n",
        "# Вывод формы и примера данных\n",
        "print(x1_data.shape)\n",
        "print(x1_data[0][:20])\n",
        "\n",
        "# Преобразование входных текстов в разреженную матрицу из векторов Bag of Words\n",
        "x1_data_01 = tokenizer1.texts_to_matrix(df[ncol])\n",
        "# Вывод формы и примера данных\n",
        "print(x1_data_01.shape)\n",
        "print(df[ncol][7])\n",
        "print(x1_data_01[7, :])"
      ],
      "metadata": {
        "id": "fmjLTsdzkag5",
        "colab": {
          "base_uri": "https://localhost:8080/"
        },
        "outputId": "76dc082b-b211-4d8b-f8c7-643ca93e07b8"
      },
      "execution_count": null,
      "outputs": [
        {
          "output_type": "stream",
          "name": "stdout",
          "text": [
            "[('?', 1), ('H52.1', 2), ('I11.9', 3), ('H52.0', 4), ('H52.2', 5), ('K02.1', 6), ('K29.3', 7), ('K04.5', 8), ('K26.9', 9), ('K29.5', 10), ('R73.9', 11), ('K03.6', 12), ('F10.3', 13), ('K26.3', 14), ('F06.8', 15), ('N95.1', 16), ('N95.2', 17), ('F06.6', 18), ('E14.9', 19), ('K29.6', 20), ('H91.1', 21), ('D25', 22), ('K26.7', 23), ('D25.9', 24), ('K25.3', 25), ('H90.3', 26), ('R25.1', 27), ('J33.0', 28), ('H74.1', 29), ('K05.3', 30), ('I25.9', 31), ('K02.0', 32), ('N86', 33), ('K86.1', 34), ('N90.4', 35), ('K40.2', 36), ('I10', 37), ('H25', 38), ('I45.6', 39), ('H33.0', 40), ('H53.0', 41), ('M42.1', 42), ('K29.8', 43), ('H27.0', 44), ('T90.4', 45), ('I25.2', 46), ('I25.8', 47), ('H11.0', 48), ('H40.1', 49), ('N83.2', 50), ('H50.1', 51), ('I49.9', 52), ('D50.9', 53), ('F60.3', 54), ('K00.0', 55), ('H25.1', 56), ('N70.9', 57), ('E11.9', 58), ('H40.9', 59), ('I49.8', 60), ('F06.9', 61), ('K25.9', 62), ('K40.9', 63), ('K25.7', 64), ('K08.1', 65), ('F70.0', 66), ('F10.2', 67), ('G25.9', 68), ('N28.1', 69), ('I48.2', 70), ('H66.1', 71), ('G40.9', 72), ('H11.1', 73), ('I72.1', 74), ('I77.9', 75), ('G40.1', 76), ('A53.9', 77), ('I48.0', 78), ('E11.0', 79), ('K41.9', 80), ('M53.9', 81), ('F10.1', 82), ('A15.9', 83), ('N60.2', 84), ('I67.2', 85), ('G90.8', 86), ('H90.4', 87), ('H25.0', 88), ('H50.0', 89), ('L40.0', 90), ('G90.9', 91), ('N76.1', 92), ('N84.1', 93), ('K29.7', 94), ('K80.2', 95), ('N80.0', 96), ('I83.9', 97), ('Z32.1', 98), ('H50.8', 99), ('H52.4', 100), ('K29.4', 101), ('G25.0', 102), ('N94.9', 103), ('K20', 104), ('H47.2', 105), ('J45.9', 106), ('H26.9', 107), ('E11.8', 108), ('K80.5', 109), ('K29.9', 110), ('H40.0', 111), ('H53.5', 112), ('K81.1', 113), ('T90.5', 114), ('I67.9', 115), ('I67.4', 116), ('E66.0', 117), ('F07.0', 118), ('K82.8', 119), ('H43.2', 120), ('Z00.4', 121), ('T94.0', 122), ('H01.0', 123), ('S68.2', 124), ('J30.1', 125), ('N81.2', 126), ('L80', 127), ('L40.9', 128), ('K08.8', 129), ('J42', 130), ('H74.8', 131), ('N72', 132), ('D18.0', 133), ('F06.7', 134), ('K86.9', 135), ('H26.1', 136), ('H91.9', 137), ('G99.0', 138), ('K80.1', 139), ('H54.4', 140), ('J30.2', 141), ('N95.9', 142), ('H18.6', 143), ('F99', 144), ('J30.4', 145), ('J00', 146), ('B35.6', 147), ('I11.0', 148), ('H51.9', 149), ('Q13.0', 150), ('I70', 151), ('T90.9', 152), ('I48.9', 153), ('J38.0', 154), ('K05.4', 155), ('J34.2', 156), ('H17.1', 157), ('E10.9', 158), ('I67.8', 159), ('H27.9', 160), ('K81.9', 161), ('I69.3', 162), ('H35.0', 163), ('K76.9', 164), ('J30.3', 165), ('K21.9', 166), ('N91.2', 167), ('K06.0', 168), ('G12.1', 169), ('K86.0', 170), ('K44.9', 171), ('Q25.6', 172), ('B36.0', 173), ('J45.8', 174), ('H50.9', 175), ('L20.8', 176), ('K91.5', 177), ('I20.9', 178), ('I25', 179), ('H55', 180), ('M17.9', 181), ('E78.0', 182), ('L20.9', 183), ('N30.2', 184), ('N11.9', 185), ('F20.0', 186), ('O00.0', 187), ('J31.0', 188), ('F98.5', 189), ('E11', 190), ('E78.1', 191), ('D25.0', 192), ('E66.9', 193), ('C50.9', 194), ('N30.9', 195), ('K42.9', 196), ('J44.9', 197), ('J33', 198), ('J35.0', 199), ('E10.8', 200), ('I25.0', 201), ('K05.1', 202), ('H35.1', 203), ('K08.9', 204), ('M15.9', 205), ('N92.6', 206), ('Z76.9', 207), ('K02.2', 208), ('I69.4', 209), ('I70.0', 210), ('K82.9', 211), ('H61.2', 212), ('D24', 213), ('I48.1', 214), ('Q12.0', 215), ('K50.9', 216), ('F60.4', 217), ('E14', 218), ('G80.8', 219), ('J45.0', 220), ('K08', 221), ('D86.0', 222), ('K83.8', 223), ('T93.4', 224), ('H00.1', 225), ('N85', 226), ('Z89.6', 227), ('C50.4', 228), ('C53.9', 229), ('K08.2', 230), ('K81.8', 231), ('K03.0', 232), ('E14.8', 233), ('H33.5', 234), ('F70', 235), ('H02.4', 236), ('I12.9', 237), ('M51.1', 238), ('D23.1', 239), ('C81.9', 240), ('H73.9', 241), ('M06.9', 242), ('H90.1', 243), ('H53.9', 244), ('N20.9', 245), ('E06.3', 246), ('E80.4', 247), ('K64.3', 248), ('L30.9', 249), ('M86.6', 250), ('O34.0', 251), ('H11.9', 252), ('T92.4', 253), ('N60.1', 254), ('E03.9', 255), ('H66.9', 256), ('L73.0', 257), ('M05.9', 258), ('H80.1', 259), ('I05.9', 260), ('D33.0', 261), ('T92.2', 262), ('D13.0', 263), ('B37.8', 264), ('F06.3', 265), ('H66.3', 266), ('E10', 267), ('G63.2', 268), ('N30.8', 269), ('G40.4', 270), ('N88.4', 271), ('N95.3', 272), ('N63', 273), ('N60.0', 274), ('E66', 275), ('N88.0', 276), ('F41.0', 277), ('D31.5', 278), ('Q25.1', 279), ('J31', 280), ('H90.6', 281), ('R00.0', 282), ('K31.7', 283), ('I49', 284), ('J35.8', 285), ('T90.0', 286), ('K43.6', 287), ('H54.1', 288), ('Q44.6', 289), ('L94.8', 290), ('D22.1', 291), ('F71.0', 292), ('J47', 293), ('L23.5', 294), ('K64.1', 295), ('H17.8', 296), ('I83.0', 297), ('B35.2', 298), ('F60.8', 299), ('N75.9', 300), ('H90.8', 301), ('D31.9', 302), ('N88.1', 303), ('L23.8', 304), ('H66.2', 305), ('H93.0', 306), ('J34.8', 307), ('F43.2', 308), ('H31.0', 309), ('N94.8', 310), ('H18.9', 311), ('J33.1', 312), ('F95.0', 313), ('C71.0', 314), ('I66.9', 315), ('J45', 316), ('D13.4', 317), ('D16.0', 318), ('I48', 319), ('Z41.2', 320), ('K06.8', 321), ('K03.7', 322), ('G25.1', 323), ('G25.2', 324), ('H65.3', 325), ('L28.0', 326), ('H30', 327), ('N89.8', 328), ('L74.0', 329), ('L71.9', 330), ('H93.8', 331), ('D33.2', 332), ('K76.0', 333), ('B86', 334), ('I45.8', 335), ('I34.1', 336), ('I60.9', 337), ('N00.9', 338), ('Q10.0', 339), ('J37.1', 340), ('K05.2', 341), ('M07.3', 342), ('L40.5', 343), ('M07.0', 344), ('M09.0', 345), ('R00.1', 346), ('Q21.1', 347), ('S54.0', 348), ('K21.0', 349), ('K76.6', 350), ('N84.8', 351), ('I45.0', 352), ('N73.9', 353), ('G35', 354), ('H60.8', 355), ('T94', 356), ('I47.9', 357), ('L21.9', 358), ('D33.4', 359), ('E04.1', 360), ('E22.1', 361), ('Q80.0', 362), ('I34.9', 363), ('H83.8', 364), ('T98.0', 365), ('H90.5', 366), ('T92.9', 367), ('G58.9', 368), ('N70', 369), ('Z95.2', 370), ('N71.9', 371), ('N81.4', 372), ('L94.0', 373), ('H52.5', 374), ('J38.2', 375), ('N97.8', 376), ('L30.0', 377), ('F59', 378), ('M45.9', 379), ('H26.2', 380), ('H01.9', 381), ('N89.4', 382), ('T95.8', 383), ('F92.9', 384), ('F21', 385), ('F60.9', 386), ('G80.2', 387), ('K09.9', 388), ('C03.0', 389), ('I50.0', 390), ('J32.0', 391), ('C18.4', 392), ('B35.1', 393), ('I70.8', 394), ('N81.1', 395), ('H80.0', 396), ('H02.0', 397), ('N90.9', 398), ('G98', 399), ('H72.9', 400), ('N81', 401), ('N11.8', 402), ('G55.1', 403), ('K43.9', 404), ('F10.7', 405), ('K26.5', 406), ('D37.1', 407), ('S51.9', 408), ('H34.8', 409), ('G96.9', 410), ('D35.2', 411), ('I42.9', 412), ('N88.8', 413), ('J40', 414), ('J84.8', 415), ('C50.1', 416), ('G80.1', 417), ('I20.8', 418), ('H02.2', 419), ('T90.2', 420), ('L95.9', 421), ('I06.8', 422), ('H04.6', 423), ('G93.4', 424), ('D27', 425), ('H61.8', 426), ('S94.8', 427), ('D68.8', 428), ('L92.0', 429), ('I44.4', 430), ('H34.9', 431), ('J37.0', 432), ('F60.7', 433)]\n",
            "(38074,)\n",
            "[3, 58, 4]\n",
            "(38074, 434)\n",
            "H52.1\n",
            "[0. 0. 1. 0. 0. 0. 0. 0. 0. 0. 0. 0. 0. 0. 0. 0. 0. 0. 0. 0. 0. 0. 0. 0.\n",
            " 0. 0. 0. 0. 0. 0. 0. 0. 0. 0. 0. 0. 0. 0. 0. 0. 0. 0. 0. 0. 0. 0. 0. 0.\n",
            " 0. 0. 0. 0. 0. 0. 0. 0. 0. 0. 0. 0. 0. 0. 0. 0. 0. 0. 0. 0. 0. 0. 0. 0.\n",
            " 0. 0. 0. 0. 0. 0. 0. 0. 0. 0. 0. 0. 0. 0. 0. 0. 0. 0. 0. 0. 0. 0. 0. 0.\n",
            " 0. 0. 0. 0. 0. 0. 0. 0. 0. 0. 0. 0. 0. 0. 0. 0. 0. 0. 0. 0. 0. 0. 0. 0.\n",
            " 0. 0. 0. 0. 0. 0. 0. 0. 0. 0. 0. 0. 0. 0. 0. 0. 0. 0. 0. 0. 0. 0. 0. 0.\n",
            " 0. 0. 0. 0. 0. 0. 0. 0. 0. 0. 0. 0. 0. 0. 0. 0. 0. 0. 0. 0. 0. 0. 0. 0.\n",
            " 0. 0. 0. 0. 0. 0. 0. 0. 0. 0. 0. 0. 0. 0. 0. 0. 0. 0. 0. 0. 0. 0. 0. 0.\n",
            " 0. 0. 0. 0. 0. 0. 0. 0. 0. 0. 0. 0. 0. 0. 0. 0. 0. 0. 0. 0. 0. 0. 0. 0.\n",
            " 0. 0. 0. 0. 0. 0. 0. 0. 0. 0. 0. 0. 0. 0. 0. 0. 0. 0. 0. 0. 0. 0. 0. 0.\n",
            " 0. 0. 0. 0. 0. 0. 0. 0. 0. 0. 0. 0. 0. 0. 0. 0. 0. 0. 0. 0. 0. 0. 0. 0.\n",
            " 0. 0. 0. 0. 0. 0. 0. 0. 0. 0. 0. 0. 0. 0. 0. 0. 0. 0. 0. 0. 0. 0. 0. 0.\n",
            " 0. 0. 0. 0. 0. 0. 0. 0. 0. 0. 0. 0. 0. 0. 0. 0. 0. 0. 0. 0. 0. 0. 0. 0.\n",
            " 0. 0. 0. 0. 0. 0. 0. 0. 0. 0. 0. 0. 0. 0. 0. 0. 0. 0. 0. 0. 0. 0. 0. 0.\n",
            " 0. 0. 0. 0. 0. 0. 0. 0. 0. 0. 0. 0. 0. 0. 0. 0. 0. 0. 0. 0. 0. 0. 0. 0.\n",
            " 0. 0. 0. 0. 0. 0. 0. 0. 0. 0. 0. 0. 0. 0. 0. 0. 0. 0. 0. 0. 0. 0. 0. 0.\n",
            " 0. 0. 0. 0. 0. 0. 0. 0. 0. 0. 0. 0. 0. 0. 0. 0. 0. 0. 0. 0. 0. 0. 0. 0.\n",
            " 0. 0. 0. 0. 0. 0. 0. 0. 0. 0. 0. 0. 0. 0. 0. 0. 0. 0. 0. 0. 0. 0. 0. 0.\n",
            " 0. 0.]\n"
          ]
        }
      ]
    },
    {
      "cell_type": "code",
      "source": [
        "#  Добавление в общий вектор\n",
        "oneHotArray = np.concatenate((oneHotArray, x_data_01), axis=1)\n",
        "print(oneHotArray.shape)"
      ],
      "metadata": {
        "id": "uyei1gGQIXuE",
        "colab": {
          "base_uri": "https://localhost:8080/"
        },
        "outputId": "4a44717a-2207-4c86-cfe5-e76b6a6a3e08"
      },
      "execution_count": null,
      "outputs": [
        {
          "output_type": "stream",
          "name": "stdout",
          "text": [
            "(38074, 2822)\n"
          ]
        }
      ]
    },
    {
      "cell_type": "markdown",
      "source": [
        "### ЗаключениеМК"
      ],
      "metadata": {
        "id": "daLnM3PFKLDI"
      }
    },
    {
      "cell_type": "code",
      "source": [
        "\n",
        "ncol = 'ЗаключениеМК'\n",
        "\n",
        "print(df[ncol].unique())\n",
        "result, y_vocab = labelsToOneHot(ncol)\n",
        "CLASS_COUNT  = result.shape[1]\n",
        "print(result.shape)\n"
      ],
      "metadata": {
        "id": "ediE-59-Xup-",
        "colab": {
          "base_uri": "https://localhost:8080/"
        },
        "outputId": "2fa304c4-60ce-40c1-fbed-e66a58450bb1"
      },
      "execution_count": null,
      "outputs": [
        {
          "output_type": "stream",
          "name": "stdout",
          "text": [
            "['Годен' 'НеГоден' 'ОграниченноГоден']\n",
            "(38074, 3)\n"
          ]
        },
        {
          "output_type": "stream",
          "name": "stderr",
          "text": [
            "<ipython-input-574-6bd98cd8bd41>:4: VisibleDeprecationWarning: Creating an ndarray from ragged nested sequences (which is a list-or-tuple of lists-or-tuples-or ndarrays with different lengths or shapes) is deprecated. If you meant to do this, you must specify 'dtype=object' when creating the ndarray.\n",
            "  vocab, indexes = np.array(np.unique(df[column], return_inverse=True))\n"
          ]
        }
      ]
    },
    {
      "cell_type": "markdown",
      "source": [
        "### Деление датасета на части: тренировочная, тестовая"
      ],
      "metadata": {
        "id": "aEOOehAZleAh"
      }
    },
    {
      "cell_type": "code",
      "source": [
        "# Деление датасета на части: тренировочная, тестовая\n",
        "\n",
        "# x_train, x_test, y_train, y_test = train_test_split(oneHotArray, result, test_size=0.2)\n",
        "nsize = int(oneHotArray.shape[0] * 0.2)     #  20% на тест\n",
        "\n",
        "x_test = oneHotArray[:nsize]\n",
        "y_test = result[:nsize]\n",
        "\n",
        "x_train = oneHotArray[nsize:]\n",
        "y_train = result[nsize:]\n",
        "\n",
        "print('тестовая выборка')\n",
        "print(x_test.shape)\n",
        "print(y_test.shape)\n",
        "print('тренировочная выборка')\n",
        "print(x_train.shape)\n",
        "print(y_train.shape)\n"
      ],
      "metadata": {
        "id": "wOhej8YgP7cQ",
        "colab": {
          "base_uri": "https://localhost:8080/"
        },
        "outputId": "ca35a847-b76a-43d0-a535-85383a480b61"
      },
      "execution_count": null,
      "outputs": [
        {
          "output_type": "stream",
          "name": "stdout",
          "text": [
            "тестовая выборка\n",
            "(7614, 2822)\n",
            "(7614, 3)\n",
            "тренировочная выборка\n",
            "(30460, 2822)\n",
            "(30460, 3)\n"
          ]
        }
      ]
    },
    {
      "cell_type": "markdown",
      "source": [
        "# Создаем нейросеть"
      ],
      "metadata": {
        "id": "jOU-7Lf_Lv-3"
      }
    },
    {
      "cell_type": "code",
      "source": [
        "# Создаем нейросеть\n",
        "\n",
        "model = Sequential()\n",
        "\n",
        "model.add(Dense(200, input_dim=x_train.shape[1], activation='relu'))\n",
        "model.add(BatchNormalization())\n",
        "model.add(Dropout(0.3))\n",
        "model.add(Dense(10))\n",
        "\n",
        "model.add(Dense(3, activation='softmax'))\n",
        "\n",
        "model.compile(optimizer=Adam(learning_rate = 0.0001),\n",
        "              loss='categorical_crossentropy',\n",
        "              metrics=['accuracy'])\n",
        "\n",
        "model.summary()\n",
        "\n",
        "history = model.fit(x_train,\n",
        "                    y_train,\n",
        "                    epochs= 60,\n",
        "                    batch_size= 128,\n",
        "                    validation_data=(x_test, y_test),\n",
        "                    verbose=1,)\n"
      ],
      "metadata": {
        "id": "jBK7lv8ic5sL",
        "colab": {
          "base_uri": "https://localhost:8080/"
        },
        "outputId": "fe934282-6b77-4466-d952-6eaf5c1e0649"
      },
      "execution_count": null,
      "outputs": [
        {
          "output_type": "stream",
          "name": "stdout",
          "text": [
            "Model: \"sequential_13\"\n",
            "_________________________________________________________________\n",
            " Layer (type)                Output Shape              Param #   \n",
            "=================================================================\n",
            " dense_39 (Dense)            (None, 200)               564600    \n",
            "                                                                 \n",
            " batch_normalization_11 (Bat  (None, 200)              800       \n",
            " chNormalization)                                                \n",
            "                                                                 \n",
            " dropout_12 (Dropout)        (None, 200)               0         \n",
            "                                                                 \n",
            " dense_40 (Dense)            (None, 10)                2010      \n",
            "                                                                 \n",
            " dense_41 (Dense)            (None, 3)                 33        \n",
            "                                                                 \n",
            "=================================================================\n",
            "Total params: 567,443\n",
            "Trainable params: 567,043\n",
            "Non-trainable params: 400\n",
            "_________________________________________________________________\n",
            "Epoch 1/60\n",
            "238/238 [==============================] - 6s 20ms/step - loss: 1.0106 - accuracy: 0.5926 - val_loss: 0.8508 - val_accuracy: 0.6336\n",
            "Epoch 2/60\n",
            "238/238 [==============================] - 6s 24ms/step - loss: 0.5973 - accuracy: 0.7522 - val_loss: 0.5434 - val_accuracy: 0.7992\n",
            "Epoch 3/60\n",
            "238/238 [==============================] - 5s 21ms/step - loss: 0.4734 - accuracy: 0.8058 - val_loss: 0.3721 - val_accuracy: 0.8600\n",
            "Epoch 4/60\n",
            "238/238 [==============================] - 5s 20ms/step - loss: 0.4045 - accuracy: 0.8325 - val_loss: 0.3273 - val_accuracy: 0.8729\n",
            "Epoch 5/60\n",
            "238/238 [==============================] - 6s 24ms/step - loss: 0.3586 - accuracy: 0.8530 - val_loss: 0.2947 - val_accuracy: 0.8839\n",
            "Epoch 6/60\n",
            "238/238 [==============================] - 4s 17ms/step - loss: 0.3277 - accuracy: 0.8675 - val_loss: 0.2719 - val_accuracy: 0.8980\n",
            "Epoch 7/60\n",
            "238/238 [==============================] - 5s 20ms/step - loss: 0.3011 - accuracy: 0.8784 - val_loss: 0.2559 - val_accuracy: 0.8997\n",
            "Epoch 8/60\n",
            "238/238 [==============================] - 6s 23ms/step - loss: 0.2779 - accuracy: 0.8891 - val_loss: 0.2432 - val_accuracy: 0.9086\n",
            "Epoch 9/60\n",
            "238/238 [==============================] - 5s 19ms/step - loss: 0.2653 - accuracy: 0.8944 - val_loss: 0.2304 - val_accuracy: 0.9145\n",
            "Epoch 10/60\n",
            "238/238 [==============================] - 6s 24ms/step - loss: 0.2512 - accuracy: 0.9009 - val_loss: 0.2210 - val_accuracy: 0.9209\n",
            "Epoch 11/60\n",
            "238/238 [==============================] - 4s 18ms/step - loss: 0.2391 - accuracy: 0.9061 - val_loss: 0.2114 - val_accuracy: 0.9250\n",
            "Epoch 12/60\n",
            "238/238 [==============================] - 5s 20ms/step - loss: 0.2271 - accuracy: 0.9093 - val_loss: 0.2057 - val_accuracy: 0.9274\n",
            "Epoch 13/60\n",
            "238/238 [==============================] - 6s 26ms/step - loss: 0.2139 - accuracy: 0.9152 - val_loss: 0.1987 - val_accuracy: 0.9301\n",
            "Epoch 14/60\n",
            "238/238 [==============================] - 4s 19ms/step - loss: 0.2049 - accuracy: 0.9218 - val_loss: 0.1947 - val_accuracy: 0.9317\n",
            "Epoch 15/60\n",
            "238/238 [==============================] - 5s 21ms/step - loss: 0.2012 - accuracy: 0.9224 - val_loss: 0.1869 - val_accuracy: 0.9346\n",
            "Epoch 16/60\n",
            "238/238 [==============================] - 5s 21ms/step - loss: 0.1978 - accuracy: 0.9245 - val_loss: 0.1859 - val_accuracy: 0.9358\n",
            "Epoch 17/60\n",
            "238/238 [==============================] - 5s 20ms/step - loss: 0.1874 - accuracy: 0.9280 - val_loss: 0.1798 - val_accuracy: 0.9363\n",
            "Epoch 18/60\n",
            "238/238 [==============================] - 6s 25ms/step - loss: 0.1838 - accuracy: 0.9295 - val_loss: 0.1762 - val_accuracy: 0.9367\n",
            "Epoch 19/60\n",
            "238/238 [==============================] - 5s 19ms/step - loss: 0.1798 - accuracy: 0.9321 - val_loss: 0.1743 - val_accuracy: 0.9385\n",
            "Epoch 20/60\n",
            "238/238 [==============================] - 5s 22ms/step - loss: 0.1719 - accuracy: 0.9354 - val_loss: 0.1728 - val_accuracy: 0.9404\n",
            "Epoch 21/60\n",
            "238/238 [==============================] - 5s 21ms/step - loss: 0.1699 - accuracy: 0.9377 - val_loss: 0.1685 - val_accuracy: 0.9404\n",
            "Epoch 22/60\n",
            "238/238 [==============================] - 5s 20ms/step - loss: 0.1671 - accuracy: 0.9375 - val_loss: 0.1641 - val_accuracy: 0.9414\n",
            "Epoch 23/60\n",
            "238/238 [==============================] - 6s 26ms/step - loss: 0.1662 - accuracy: 0.9382 - val_loss: 0.1680 - val_accuracy: 0.9422\n",
            "Epoch 24/60\n",
            "238/238 [==============================] - 5s 20ms/step - loss: 0.1638 - accuracy: 0.9391 - val_loss: 0.1640 - val_accuracy: 0.9412\n",
            "Epoch 25/60\n",
            "238/238 [==============================] - 5s 19ms/step - loss: 0.1591 - accuracy: 0.9416 - val_loss: 0.1620 - val_accuracy: 0.9429\n",
            "Epoch 26/60\n",
            "238/238 [==============================] - 6s 25ms/step - loss: 0.1580 - accuracy: 0.9424 - val_loss: 0.1571 - val_accuracy: 0.9439\n",
            "Epoch 27/60\n",
            "238/238 [==============================] - 5s 20ms/step - loss: 0.1549 - accuracy: 0.9442 - val_loss: 0.1579 - val_accuracy: 0.9471\n",
            "Epoch 28/60\n",
            "238/238 [==============================] - 5s 22ms/step - loss: 0.1543 - accuracy: 0.9434 - val_loss: 0.1578 - val_accuracy: 0.9447\n",
            "Epoch 29/60\n",
            "238/238 [==============================] - 5s 22ms/step - loss: 0.1506 - accuracy: 0.9442 - val_loss: 0.1544 - val_accuracy: 0.9480\n",
            "Epoch 30/60\n",
            "238/238 [==============================] - 5s 20ms/step - loss: 0.1488 - accuracy: 0.9442 - val_loss: 0.1553 - val_accuracy: 0.9459\n",
            "Epoch 31/60\n",
            "238/238 [==============================] - 6s 24ms/step - loss: 0.1481 - accuracy: 0.9449 - val_loss: 0.1536 - val_accuracy: 0.9464\n",
            "Epoch 32/60\n",
            "238/238 [==============================] - 5s 20ms/step - loss: 0.1463 - accuracy: 0.9462 - val_loss: 0.1508 - val_accuracy: 0.9479\n",
            "Epoch 33/60\n",
            "238/238 [==============================] - 6s 24ms/step - loss: 0.1448 - accuracy: 0.9469 - val_loss: 0.1493 - val_accuracy: 0.9486\n",
            "Epoch 34/60\n",
            "238/238 [==============================] - 5s 22ms/step - loss: 0.1419 - accuracy: 0.9480 - val_loss: 0.1474 - val_accuracy: 0.9494\n",
            "Epoch 35/60\n",
            "238/238 [==============================] - 5s 19ms/step - loss: 0.1422 - accuracy: 0.9475 - val_loss: 0.1510 - val_accuracy: 0.9484\n",
            "Epoch 36/60\n",
            "238/238 [==============================] - 6s 24ms/step - loss: 0.1375 - accuracy: 0.9495 - val_loss: 0.1480 - val_accuracy: 0.9481\n",
            "Epoch 37/60\n",
            "238/238 [==============================] - 5s 19ms/step - loss: 0.1415 - accuracy: 0.9487 - val_loss: 0.1452 - val_accuracy: 0.9489\n",
            "Epoch 38/60\n",
            "238/238 [==============================] - 5s 23ms/step - loss: 0.1362 - accuracy: 0.9496 - val_loss: 0.1481 - val_accuracy: 0.9502\n",
            "Epoch 39/60\n",
            "238/238 [==============================] - 5s 20ms/step - loss: 0.1377 - accuracy: 0.9498 - val_loss: 0.1485 - val_accuracy: 0.9489\n",
            "Epoch 40/60\n",
            "238/238 [==============================] - 5s 20ms/step - loss: 0.1356 - accuracy: 0.9505 - val_loss: 0.1453 - val_accuracy: 0.9489\n",
            "Epoch 41/60\n",
            "238/238 [==============================] - 6s 25ms/step - loss: 0.1379 - accuracy: 0.9486 - val_loss: 0.1460 - val_accuracy: 0.9493\n",
            "Epoch 42/60\n",
            "238/238 [==============================] - 5s 19ms/step - loss: 0.1349 - accuracy: 0.9505 - val_loss: 0.1444 - val_accuracy: 0.9486\n",
            "Epoch 43/60\n",
            "238/238 [==============================] - 5s 20ms/step - loss: 0.1335 - accuracy: 0.9511 - val_loss: 0.1448 - val_accuracy: 0.9496\n",
            "Epoch 44/60\n",
            "238/238 [==============================] - 6s 24ms/step - loss: 0.1329 - accuracy: 0.9511 - val_loss: 0.1424 - val_accuracy: 0.9492\n",
            "Epoch 45/60\n",
            "238/238 [==============================] - 5s 20ms/step - loss: 0.1321 - accuracy: 0.9516 - val_loss: 0.1423 - val_accuracy: 0.9506\n",
            "Epoch 46/60\n",
            "238/238 [==============================] - 6s 26ms/step - loss: 0.1348 - accuracy: 0.9510 - val_loss: 0.1454 - val_accuracy: 0.9488\n",
            "Epoch 47/60\n",
            "238/238 [==============================] - 5s 20ms/step - loss: 0.1300 - accuracy: 0.9523 - val_loss: 0.1420 - val_accuracy: 0.9507\n",
            "Epoch 48/60\n",
            "238/238 [==============================] - 5s 19ms/step - loss: 0.1293 - accuracy: 0.9531 - val_loss: 0.1425 - val_accuracy: 0.9514\n",
            "Epoch 49/60\n",
            "238/238 [==============================] - 6s 25ms/step - loss: 0.1295 - accuracy: 0.9523 - val_loss: 0.1396 - val_accuracy: 0.9511\n",
            "Epoch 50/60\n",
            "238/238 [==============================] - 4s 19ms/step - loss: 0.1295 - accuracy: 0.9529 - val_loss: 0.1400 - val_accuracy: 0.9493\n",
            "Epoch 51/60\n",
            "238/238 [==============================] - 5s 23ms/step - loss: 0.1301 - accuracy: 0.9526 - val_loss: 0.1396 - val_accuracy: 0.9496\n",
            "Epoch 52/60\n",
            "238/238 [==============================] - 5s 20ms/step - loss: 0.1283 - accuracy: 0.9530 - val_loss: 0.1432 - val_accuracy: 0.9506\n",
            "Epoch 53/60\n",
            "238/238 [==============================] - 5s 19ms/step - loss: 0.1291 - accuracy: 0.9526 - val_loss: 0.1411 - val_accuracy: 0.9504\n",
            "Epoch 54/60\n",
            "238/238 [==============================] - 6s 25ms/step - loss: 0.1264 - accuracy: 0.9535 - val_loss: 0.1377 - val_accuracy: 0.9514\n",
            "Epoch 55/60\n",
            "238/238 [==============================] - 5s 19ms/step - loss: 0.1249 - accuracy: 0.9551 - val_loss: 0.1394 - val_accuracy: 0.9506\n",
            "Epoch 56/60\n",
            "238/238 [==============================] - 5s 21ms/step - loss: 0.1275 - accuracy: 0.9532 - val_loss: 0.1369 - val_accuracy: 0.9511\n",
            "Epoch 57/60\n",
            "238/238 [==============================] - 6s 24ms/step - loss: 0.1240 - accuracy: 0.9544 - val_loss: 0.1367 - val_accuracy: 0.9527\n",
            "Epoch 58/60\n",
            "238/238 [==============================] - 5s 21ms/step - loss: 0.1248 - accuracy: 0.9545 - val_loss: 0.1355 - val_accuracy: 0.9531\n",
            "Epoch 59/60\n",
            "238/238 [==============================] - 7s 30ms/step - loss: 0.1249 - accuracy: 0.9550 - val_loss: 0.1386 - val_accuracy: 0.9540\n",
            "Epoch 60/60\n",
            "238/238 [==============================] - 5s 19ms/step - loss: 0.1240 - accuracy: 0.9545 - val_loss: 0.1378 - val_accuracy: 0.9535\n"
          ]
        }
      ]
    },
    {
      "cell_type": "code",
      "source": [
        "print(np.amax(history.history['val_accuracy']))\n",
        "\n",
        "#plt.figure(figsize=(x_size,y_size))\n",
        "plt.plot(history.history['loss'],\n",
        "         label='Ошибка на обучающей выборке')\n",
        "plt.plot(history.history['val_loss'],\n",
        "         label='Ошибка проверочном наборе')\n",
        "plt.xlabel('Эпоха обучения')\n",
        "plt.ylabel('Средняя ошибка')\n",
        "plt.legend()\n",
        "plt.show()"
      ],
      "metadata": {
        "id": "NFHXF48PQGRv",
        "colab": {
          "base_uri": "https://localhost:8080/",
          "height": 466
        },
        "outputId": "2031d69c-0b58-4393-c451-a38e90ea1240"
      },
      "execution_count": null,
      "outputs": [
        {
          "output_type": "stream",
          "name": "stdout",
          "text": [
            "0.9540320634841919\n"
          ]
        },
        {
          "output_type": "display_data",
          "data": {
            "text/plain": [
              "<Figure size 640x480 with 1 Axes>"
            ],
            "image/png": "[encoded data removed]"
          },
          "metadata": {}
        }
      ]
    },
    {
      "cell_type": "markdown",
      "source": [
        "## Проверка результатов"
      ],
      "metadata": {
        "id": "0vEagbTmCyk-"
      }
    },
    {
      "cell_type": "markdown",
      "source": [
        "проверяем результаты предсказания нейросети на тестовой выборке (не участвовшей в обучении)"
      ],
      "metadata": {
        "id": "LASbtrixDyt8"
      }
    },
    {
      "cell_type": "code",
      "source": [
        "y_pred = model.predict(x_test)\n",
        "\n",
        "res = np.zeros((3,2), dtype=int)\n",
        "\n",
        "for i in range(y_test.shape[0]):\n",
        "  if np.argmax(y_test[i,:]) == np.argmax(y_pred[i,:]):\n",
        "    res[np.argmax(y_test[i,:]),0] += 1\n",
        "  else:\n",
        "    res[np.argmax(y_test[i,:]),1] += 1\n",
        "\n",
        "print('Результаты предсказаний по тестовой выборке:')\n",
        "print(f'                  верно  неверно  %')\n",
        "print(f'         не годен {res[0,0]:>5}  {res[0,1]:>5}   {res[0,1]/res[0,0]:.1%}')\n",
        "print(f'ограниченно годен {res[1,0]:>5}  {res[1,1]:>5}   {res[1,1]/res[1,0]:.1%}')\n",
        "print(f'            годен {res[2,0]:>5}  {res[2,1]:>5}   {res[2,1]/res[2,0]:.1%}')\n",
        "print(f'-'*40)\n",
        "print(f'                  {np.sum(res[:,0]):>5}  {np.sum(res[:,1]):>5}   {np.sum(res[:,1])/np.sum(res[:,0]):.1%}')\n",
        "print(f'  размер тестовой выборки: {y_test.shape[0]}')\n"
      ],
      "metadata": {
        "colab": {
          "base_uri": "https://localhost:8080/"
        },
        "id": "A_P-xs9nMlK8",
        "outputId": "5f666000-bc17-4f45-ab21-530bd89794b4"
      },
      "execution_count": null,
      "outputs": [
        {
          "output_type": "stream",
          "name": "stdout",
          "text": [
            "238/238 [==============================] - 2s 9ms/step\n",
            "Результаты предсказаний по тестовой выборке:\n",
            "                  верно  неверно  %\n",
            "         не годен  3330    288   8.6%\n",
            "ограниченно годен  1863      0   0.0%\n",
            "            годен  2067     66   3.2%\n",
            "----------------------------------------\n",
            "                   7260    354   4.9%\n",
            "  размер тестовой выборки: 7614\n"
          ]
        }
      ]
    },
    {
      "cell_type": "markdown",
      "source": [
        "## Вывод информации"
      ],
      "metadata": {
        "id": "o8Zd0-fb0Eg8"
      }
    },
    {
      "cell_type": "code",
      "source": [
        "# загрузка базы МКБ\n",
        "url = 'https://drive.google.com/file/d/1EyCr0naRtgZoePMcfHvGrBAQvmggX43Z/view?usp=sharing'\n",
        "url = 'https://drive.google.com/uc?export=download&id=' + url.split('/')[-2]\n",
        "\n",
        "db_mkb = pd.read_csv(url, sep=';', error_bad_lines=False, encoding='utf-8' )\n"
      ],
      "metadata": {
        "colab": {
          "base_uri": "https://localhost:8080/"
        },
        "id": "qzm9lp1bJJH4",
        "outputId": "19216127-4a96-403c-d954-e5c13d84096f"
      },
      "execution_count": null,
      "outputs": [
        {
          "output_type": "stream",
          "name": "stderr",
          "text": [
            "<ipython-input-588-c0b9530f57af>:5: FutureWarning: The error_bad_lines argument has been deprecated and will be removed in a future version. Use on_bad_lines in the future.\n",
            "\n",
            "\n",
            "  db_mkb = pd.read_csv(url, sep=';', error_bad_lines=False, encoding='utf-8' )\n"
          ]
        }
      ]
    },
    {
      "cell_type": "code",
      "source": [
        "# функция вывода диагноза по коду МКБ\n",
        "# Код диагноза;Название диагноза;Код родителя\n",
        "def info_mkb(kod):\n",
        "  if (db_mkb['Код диагноза'].eq(kod)).any():\n",
        "    diagn = db_mkb[db_mkb['Код диагноза'] == kod].iloc[0]['Название диагноза']\n",
        "  else:\n",
        "    diagn =  'нет в базе :('\n",
        "  return diagn\n"
      ],
      "metadata": {
        "id": "ZsjkdmxZKju6"
      },
      "execution_count": null,
      "outputs": []
    },
    {
      "cell_type": "markdown",
      "source": [
        "вывод полной информации по клиенту из датасета по индексу"
      ],
      "metadata": {
        "id": "9PVwYYjnERre"
      }
    },
    {
      "cell_type": "code",
      "source": [
        "\n",
        "# функция вывода предсказания\n",
        "# если ver=True выводит процентное значение (Годен:99%  Ограниченно годен:0%  Не годен:1%)\n",
        "def clpred(ind, ver=False):\n",
        "  resstr = [ 'Годен', 'Ограниченно годен', 'Не годен']\n",
        "  str= ''\n",
        "  for i in [0,1,2]:\n",
        "    str += '{}:{:.0%}  '.format(resstr[i], all_pred[ind,i])\n",
        "  if not ver:\n",
        "    str = resstr[np.argmax(all_pred[ind,:])]\n",
        "  return str\n",
        "\n",
        "# вывод полной информации\n",
        "def clinfo(ind):\n",
        "  print(f'Документ прохождения медосмотра:',df.iloc[ind]['ДокументПрохождениеМедосмотра'])\n",
        "  print(f'                    Код клиента:',df.iloc[ind]['Клиент'])\n",
        "  print(f'                   ДатаРождения:',df.iloc[ind]['КлиентДатаРождения'].strftime('%d.%m.%Y'))\n",
        "  print(f'                            Пол:',df.iloc[ind]['КлиентПол'])\n",
        "  print(f'     Дата завершения медосмотра:',df.iloc[ind]['ДатаЗавершенияМедосмотра'].strftime('%d.%m.%Y'))\n",
        "  print(f'                        Возраст:',(df.iloc[ind]['Возраст']).astype(int))\n",
        "  print(f'                 Тип медосмотра:',df.iloc[ind]['ТипМедосмотра'])\n",
        "  if df.iloc[ind]['ПсихОсвидетельствование']:\n",
        "    psihosv = 'пройдено'\n",
        "  else:\n",
        "    psihosv = 'нет'\n",
        "  print(f'        Психосвидетельствование:',psihosv)\n",
        "  print(f'                Код контрагента:',df.iloc[ind]['Контрагент'])\n",
        "  print(f'                            Цех:',df.iloc[ind]['Цех'])\n",
        "  print(f'                      Профессия:',df.iloc[ind]['Профессия'])\n",
        "  print(f'                Вредные факторы:',df.iloc[ind]['ВредныеФакторы'])\n",
        "  diagn = []\n",
        "  if df.iloc[ind]['МКБ_'] == '':\n",
        "    diagn = ['Z00.0']\n",
        "  else:\n",
        "    diagn = df.iloc[ind]['МКБ_'].split(',')\n",
        "  print(f'                  Диагноз МКБ10:')\n",
        "  for i in diagn:\n",
        "    print(f'                                 {i:5} {info_mkb(i)}')\n",
        "  print('')\n",
        "  print(f'                  Заключение МК:',df.iloc[ind]['ЗаключениеМК'])\n",
        "  print(f'                     Заключение:',df.iloc[ind]['Заключение'])\n",
        "  print('')\n",
        "  print(f'                   Предсказание:',clpred(ind, ver=True))\n",
        "#  'ДиагнозОписание'"
      ],
      "metadata": {
        "id": "SKU4Jfq50FEf"
      },
      "execution_count": null,
      "outputs": []
    },
    {
      "cell_type": "code",
      "source": [
        "# создание предсказаний для всей базы\n",
        "all_pred = model.predict(oneHotArray)"
      ],
      "metadata": {
        "colab": {
          "base_uri": "https://localhost:8080/"
        },
        "id": "42XMs5JQiXHv",
        "outputId": "2bc2e6b9-e92f-45c0-eeb6-56999c813230"
      },
      "execution_count": null,
      "outputs": [
        {
          "output_type": "stream",
          "name": "stdout",
          "text": [
            "1190/1190 [==============================] - 8s 6ms/step\n"
          ]
        }
      ]
    },
    {
      "cell_type": "code",
      "source": [
        "#  вывод информации по случайному индексу\n",
        "clinfo(3759)\n"
      ],
      "metadata": {
        "colab": {
          "base_uri": "https://localhost:8080/"
        },
        "id": "yt7bPa0bFCpd",
        "outputId": "743e1623-2ee5-406e-f54e-c2508cc08dad"
      },
      "execution_count": null,
      "outputs": [
        {
          "output_type": "stream",
          "name": "stdout",
          "text": [
            "Документ прохождения медосмотра: 69fb8978-0651-11ed-8103-0cc47aab8067\n",
            "                    Код клиента: 071fe3ad-c7ba-11e9-80cf-0cc47aab8067\n",
            "                   ДатаРождения: 17.09.2000\n",
            "                            Пол: Мужской\n",
            "     Дата завершения медосмотра: 18.07.2022\n",
            "                        Возраст: 21\n",
            "                 Тип медосмотра: Периодический\n",
            "        Психосвидетельствование: нет\n",
            "                Код контрагента: 173d6ba7-12fe-11e7-80d3-708bcd7f83cd\n",
            "                            Цех: \n",
            "                      Профессия: Механик\n",
            "                Вредные факторы: 4.2.5,11.1\n",
            "                  Диагноз МКБ10:\n",
            "                                 H52.1 Миопия\n",
            "                                 K29.6 Другие гастриты\n",
            "\n",
            "                  Заключение МК: Годен\n",
            "                     Заключение: Годен к работе в указанных условиях\n",
            "\n",
            "                   Предсказание: Годен:98%  Ограниченно годен:0%  Не годен:2%  \n"
          ]
        }
      ]
    },
    {
      "cell_type": "markdown",
      "source": [
        "# Выводы\n",
        "\n",
        " На основании предоставленных заказчиком данных была создана и обученна нейронная сеть реализующая функцию рекомендательной системы для врача профпатолога. Из полученных нескольких файлов был сформирован общий датасет. Однако данные в нем оказались очень сильно разбалансированы по интересующим нас категориям. Для правильной работы нейросети было произведено дублирование данных необходимых категорий. В результате была достигнута нужная точность более 95%.\n",
        "\n"
      ],
      "metadata": {
        "id": "0Ly0JocSVate"
      }
    },
    {
      "cell_type": "markdown",
      "source": [
        "\n",
        "\n",
        "---\n",
        "---\n",
        "---\n",
        "---\n",
        "\n"
      ],
      "metadata": {
        "id": "F8CT9aeVTcvI"
      }
    },
    {
      "cell_type": "markdown",
      "source": [],
      "metadata": {
        "id": "gqkh7IxTG1K5"
      }
    }
  ]
}