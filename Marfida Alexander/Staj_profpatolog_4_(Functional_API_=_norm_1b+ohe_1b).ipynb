{
  "nbformat": 4,
  "nbformat_minor": 0,
  "metadata": {
    "colab": {
      "provenance": [],
      "gpuType": "T4",
      "toc_visible": true,
      "include_colab_link": true
    },
    "kernelspec": {
      "name": "python3",
      "display_name": "Python 3"
    },
    "language_info": {
      "name": "python"
    },
    "accelerator": "GPU"
  },
  "cells": [
    {
      "cell_type": "markdown",
      "metadata": {
        "id": "view-in-github",
        "colab_type": "text"
      },
      "source": [
        "<a href=\"https://colab.research.google.com/github/Untick/InspectrumClinic_RS_gr1/blob/main/Marfida%20Alexander/Staj_profpatolog_4_(Functional_API_%3D_norm_1b%2Bohe_1b).ipynb\" target=\"_parent\"><img src=\"https://colab.research.google.com/assets/colab-badge.svg\" alt=\"Open In Colab\"/></a>"
      ]
    },
    {
      "cell_type": "markdown",
      "metadata": {
        "id": "j3G8UlvQwOlH"
      },
      "source": [
        "# Стажировка. Профпатолог (INSPECTRUM CLINIC)\n",
        "- Funtcional API для 2-х выборок:\n",
        "  - нормированной и категориальной - без удаления NaN в целевом столбце балансированных дублированием и равномерным перемешиванием.\n",
        "- Целевые категории:\n",
        "  - Годен\n",
        "  - Не годен\n",
        "  - Ограниченно годен\n",
        "  - Недостаточно данных для заключения"
      ]
    },
    {
      "cell_type": "markdown",
      "metadata": {
        "id": "hdc9cx75wWEG"
      },
      "source": [
        "# ЗАГРУЗКА БИБЛИОТЕК И ДАТАСЕТОВ"
      ]
    },
    {
      "cell_type": "code",
      "execution_count": null,
      "metadata": {
        "id": "hKQ4Vl91KMSk"
      },
      "outputs": [],
      "source": [
        "# Подключение библиотек\n",
        "\n",
        "# Работа с массивами данных\n",
        "import numpy as np\n",
        "\n",
        "# Работа с табличными данными\n",
        "import pandas as pd\n",
        "\n",
        "# Функции-утилиты для работы с категориальными данными\n",
        "from keras.api._v2.keras import utils\n",
        "from keras.api._v2.keras.utils import to_categorical\n",
        "\n",
        "# Класс для конструирования последовательной модели нейронной сети\n",
        "from keras.api._v2.keras.models import Sequential, Model\n",
        "\n",
        "# Основные слои\n",
        "from keras.api._v2.keras.layers import Dense, Dropout, SpatialDropout1D, BatchNormalization, Embedding, Flatten, Activation, Input, concatenate\n",
        "from keras.api._v2.keras.layers import SimpleRNN, GRU, LSTM, Bidirectional, Conv1D, MaxPooling1D, GlobalMaxPooling1D\n",
        "\n",
        "# Оптимизаторы\n",
        "from keras.api._v2.keras.optimizers import Adam, Adadelta, SGD, Adagrad, RMSprop\n",
        "\n",
        "# Токенизатор для преобразования текстов в последовательности\n",
        "from keras.api._v2.keras.preprocessing.text import Tokenizer\n",
        "\n",
        "# Предварительная обработка данных\n",
        "# from sklearn import preprocessing\n",
        "\n",
        "# Масштабирование данных\n",
        "from sklearn.preprocessing import StandardScaler\n",
        "\n",
        "#from sklearn.datasets import fetch_openml\n",
        "#from sklearn.model_selection import cross_val_predict\n",
        "#from sklearn.linear_model import SGDClassifier\n",
        "\n",
        "# Загрузка датасетов из облака google\n",
        "import gdown\n",
        "\n",
        "# Регулярные выражения\n",
        "import re\n",
        "\n",
        "# Связь с google-диском\n",
        "from google.colab import files\n",
        "\n",
        "# Отрисовка графиков\n",
        "import matplotlib.pyplot as plt\n",
        "plt.style.use('dark_background')\n",
        "\n",
        "# Создание статистических графиков\n",
        "import seaborn as sns\n",
        "\n",
        "# Табличные данные\n",
        "from fastai.tabular import *\n",
        "\n",
        "# Метрики для расчета ошибок\n",
        "from sklearn.metrics import mean_squared_error, mean_absolute_error\n",
        "\n",
        "# Разделение данных на выборки\n",
        "from sklearn.model_selection import train_test_split\n",
        "\n",
        "# Очистка экрана\n",
        "from IPython.display import clear_output\n",
        "\n",
        "# Отрисовывать изображения в ноутбуке, а не в консоль или файл\n",
        "%matplotlib inline"
      ]
    },
    {
      "cell_type": "code",
      "execution_count": null,
      "metadata": {
        "colab": {
          "base_uri": "https://localhost:8080/"
        },
        "id": "hydfXxNiLWp6",
        "outputId": "a827dfe2-f9ce-4588-a741-b8d138db1358"
      },
      "outputs": [
        {
          "output_type": "stream",
          "name": "stdout",
          "text": [
            "Mounted at /content/drive\n"
          ]
        }
      ],
      "source": [
        "# Монтирование Goodle-диска\n",
        "from google.colab import drive\n",
        "drive.mount('/content/drive')"
      ]
    },
    {
      "cell_type": "markdown",
      "metadata": {
        "id": "Dh86jBHAcTCA"
      },
      "source": [
        "# СЛУЖЕБНЫЕ ФУНКЦИИ"
      ]
    },
    {
      "cell_type": "markdown",
      "source": [
        "## Загрузка датасетов"
      ],
      "metadata": {
        "id": "a9QKhrm-wxlh"
      }
    },
    {
      "cell_type": "code",
      "source": [
        "x_train_norm_1b = np.load('/content/drive/MyDrive/УИИ(marphida)/Стажировка_Профпатолог/x_train_norm_1b.npy')\n",
        "x_train_ohe_1b = np.load('/content/drive/MyDrive/УИИ(marphida)/Стажировка_Профпатолог/x_train_ohe_1b.npy')\n",
        "y_train_ohe_1b = np.load('/content/drive/MyDrive/УИИ(marphida)/Стажировка_Профпатолог/y_train_ohe_1b.npy')\n",
        "print(x_train_norm_1b.shape)\n",
        "print(x_train_ohe_1b.shape)\n",
        "print(y_train_ohe_1b.shape)"
      ],
      "metadata": {
        "id": "GZ7V6t42whoF",
        "colab": {
          "base_uri": "https://localhost:8080/"
        },
        "outputId": "51bd76e5-e2b3-4832-cfca-8233bf88d2be"
      },
      "execution_count": null,
      "outputs": [
        {
          "output_type": "stream",
          "name": "stdout",
          "text": [
            "(5730, 69)\n",
            "(5730, 1987)\n",
            "(5730, 4)\n"
          ]
        }
      ]
    },
    {
      "cell_type": "markdown",
      "source": [
        "## Функция графиков обучения"
      ],
      "metadata": {
        "id": "M1WquRL_dN8i"
      }
    },
    {
      "cell_type": "code",
      "source": [
        "def graphic(loss, accuracy, valloss, valaccuracy, scor, scorloss, exp, param):\n",
        "  print(\n",
        "    f'Входных Нейронов: {param[0]}\\n',\n",
        "    f'Значение Dropout: {param[1]}\\n',\n",
        "    f'BatchNormalization: {param[2]}\\n',\n",
        "    f'Средние потери: {param[3]}\\n',\n",
        "    f'Средняя точность на тестовой выборке: {param[4]}\\n'\n",
        "  )\n",
        "  print('↓↓↓↓↓↓↓↓↓↓↓↓↓↓↓↓↓↓↓↓↓↓↓↓')\n",
        "\n",
        "  plt.figure(1, figsize=(20, 5))\n",
        "\n",
        "  plt.subplot(1, 2, 1)\n",
        "  plt.plot(accuracy, label='Доля верных ответов(train)')\n",
        "  plt.plot(valaccuracy, label='Доля верных ответов(val)')\n",
        "#  plt.scatter(19, scor/100, c='r')\n",
        "  plt.title(f'Опыт№ {exp+1}. Параметры модели: {param}')\n",
        "  plt.xlabel('Эпоха обучения')\n",
        "  plt.ylabel('Доля верных ответов')\n",
        "  plt.grid(color='gray', linestyle=':')\n",
        "  plt.legend()\n",
        "\n",
        "  plt.subplot(1, 2, 2)\n",
        "  plt.plot(loss, label='train_loss')\n",
        "  plt.plot(valloss, label='val_loss')\n",
        "#  plt.scatter(19, scorloss, c='r')\n",
        "  plt.title(f'Опыт№ {exp+1}, loss')\n",
        "  plt.xlabel('Эпоха обучения')\n",
        "  plt.ylabel('Ошибка')\n",
        "  plt.legend()\n",
        "  plt.grid(color='gray',linestyle=':')\n",
        "  print()\n",
        "  plt.show()"
      ],
      "metadata": {
        "id": "OJ6sQy6uc89M"
      },
      "execution_count": null,
      "outputs": []
    },
    {
      "cell_type": "markdown",
      "source": [
        "## Функция создания модели"
      ],
      "metadata": {
        "id": "A3LLE7rreq2p"
      }
    },
    {
      "cell_type": "code",
      "source": [
        "def сreatModel(numN, drop, norm=False, layer2=0, layer3=0):\n",
        "\n",
        "    # Создание последовательной модели\n",
        "    model = Sequential()\n",
        "\n",
        "    if norm:\n",
        "        model.add(BatchNormalization(input_shape=(x_train.shape[1], )))\n",
        "        model.add(Dense(numN, activation=\"relu\"))\n",
        "    else:\n",
        "        model.add(Dense(numN, input_dim=x_train.shape[1], activation=\"relu\"))\n",
        "\n",
        "    if layer2 > 0:\n",
        "      model.add(Dense(numN*layer2, input_dim=x_train.shape[1], activation=\"relu\"))\n",
        "    elif layer2 < 0:\n",
        "      model.add(Dense(int(numN/(-layer2)), input_dim=x_train.shape[1], activation=\"relu\"))\n",
        "\n",
        "    if layer3 > 0:\n",
        "      model.add(Dense(numN*layer2, input_dim=x_train.shape[1], activation=\"relu\"))\n",
        "    elif layer3 < 0:\n",
        "      model.add(Dense(int(numN/(-layer2)), input_dim=x_train.shape[1], activation=\"relu\"))\n",
        "\n",
        "    model.add(Dropout(drop))\n",
        "    model.add(Dense(4, activation=\"softmax\")) #\n",
        "\n",
        "    # Компиляция модели\n",
        "    model.compile(loss=\"categorical_crossentropy\",\n",
        "                    optimizer=\"adam\",\n",
        "                    metrics=[\"accuracy\"])\n",
        "    return model"
      ],
      "metadata": {
        "id": "e5b-1lFY6YJd"
      },
      "execution_count": null,
      "outputs": []
    },
    {
      "cell_type": "markdown",
      "source": [
        "## Функция обучения и тестирования модели"
      ],
      "metadata": {
        "id": "0fc3LiBvfeqy"
      }
    },
    {
      "cell_type": "code",
      "source": [
        "def training(dense_list, drop_list, norm_list, layer2=0, layer3=0):\n",
        "\n",
        "  parameters = []\n",
        "  val_accuracy= []\n",
        "  val_loss_ = []\n",
        "  accuracy= []\n",
        "  loss_ = []\n",
        "\n",
        "  for numN in dense_list:\n",
        "    for norm in norm_list:\n",
        "      for drop in drop_list:\n",
        "\n",
        "        print('Параметры модели: вх.нейр.=', numN, '; откл.нейр.=', drop, '; BatchNormalization=', norm)\n",
        "\n",
        "        # Создание последовательной модели\n",
        "        model = сreatModel(numN, drop, norm=norm, layer2=layer2, layer3=layer3)\n",
        "\n",
        "        # Обучение модели\n",
        "        history = model.fit(x_train,    # обучающая выборка экземпляры класса\n",
        "                  y_train,              # обучающая выборка метки класса\n",
        "                  batch_size=128,       # размер батча\n",
        "                  epochs=20,            # количество эпох\n",
        "                  verbose=1,            # 0 - не показывать ход обучения, 1 - показывать\n",
        "                  validation_data=(x_val, y_val) # выборка для валидации\n",
        "                  )\n",
        "        scores = model.evaluate(x_test, y_test)\n",
        "        print('Точность на тестовой выборке:', scores[1] )\n",
        "\n",
        "        parameters.append([numN, drop, norm, round(scores[0], 4), round(scores[1], 4)*100])\n",
        "        val_accuracy.append(history.history['val_accuracy'])\n",
        "        val_loss_.append(history.history['val_loss'])\n",
        "        accuracy.append(history.history['accuracy'])\n",
        "        loss_.append(history.history['loss'])\n",
        "\n",
        "  return parameters, accuracy, loss_, val_accuracy, val_loss_"
      ],
      "metadata": {
        "id": "QXMt0Jtc6SVP"
      },
      "execution_count": null,
      "outputs": []
    },
    {
      "cell_type": "markdown",
      "source": [
        "## Разделение на обучающую, валидационную и тестовую выборки"
      ],
      "metadata": {
        "id": "4L9WyhE3lG_1"
      }
    },
    {
      "cell_type": "code",
      "source": [
        "X_tr_n = x_train_norm_1b.copy()\n",
        "X_tr_o = x_train_ohe_1b.copy()\n",
        "Y_tr_o = y_train_ohe_1b.copy()"
      ],
      "metadata": {
        "id": "bmow-EYl1XKu"
      },
      "execution_count": null,
      "outputs": []
    },
    {
      "cell_type": "markdown",
      "source": [
        "### Для модели с нормированными и категориальными данными"
      ],
      "metadata": {
        "id": "YDGHmiXHlKeH"
      }
    },
    {
      "cell_type": "code",
      "source": [
        "train_sep = int(X_tr_n.shape[0] * 0.9)\n",
        "\n",
        "print('X_tr_n.shape = ', X_tr_n.shape)\n",
        "print('X_tr_o.shape = ', X_tr_o.shape)\n",
        "print('Y_tr_o.shape = ', Y_tr_o.shape)\n",
        "print()\n",
        "\n",
        "x_train_n, x_test_n, x_train_o, x_test_o, y_train, y_test =  \\\n",
        "  X_tr_n[:train_sep], X_tr_n[train_sep:], X_tr_o[:train_sep], X_tr_o[train_sep:], Y_tr_o[:train_sep], Y_tr_o[train_sep:]\n",
        "\n",
        "print('x_train_n.shape = ', x_train_n.shape)\n",
        "print('x_train_o.shape = ', x_train_o.shape)\n",
        "print('y_train.shape = ', y_train.shape)\n",
        "print('x_test_n.shape = ', x_test_n.shape)\n",
        "print('x_test_o.shape = ', x_test_o.shape)\n",
        "print('y_test.shape', y_test.shape)\n",
        "print()\n",
        "val_sep = int(x_train_n.shape[0] * 0.8)\n",
        "\n",
        "x_train_n, x_train_o, x_val_n, x_val_o, y_train, y_val = \\\n",
        "  x_train_n[:val_sep], x_train_o[:val_sep], x_train_n[val_sep:], x_train_o[val_sep:], y_train[:val_sep], y_train[val_sep:]\n",
        "\n",
        "print('x_train_n.shape = ', x_train_n.shape)\n",
        "print('x_train_o.shape = ', x_train_o.shape)\n",
        "print('y_train.shape = ', y_train.shape)\n",
        "print('x_val_n.shape = ', x_val_n.shape)\n",
        "print('x_val_o.shape = ', x_val_o.shape)\n",
        "print('y_val.shape', y_val.shape)\n"
      ],
      "metadata": {
        "colab": {
          "base_uri": "https://localhost:8080/"
        },
        "id": "-Se0U3cs0khc",
        "outputId": "819e6dd9-526f-4719-faf6-285d95bd2cdf"
      },
      "execution_count": null,
      "outputs": [
        {
          "output_type": "stream",
          "name": "stdout",
          "text": [
            "X_tr_n.shape =  (5730, 69)\n",
            "X_tr_o.shape =  (5730, 1987)\n",
            "Y_tr_o.shape =  (5730, 4)\n",
            "\n",
            "x_train_n.shape =  (5157, 69)\n",
            "x_train_o.shape =  (5157, 1987)\n",
            "y_train.shape =  (5157, 4)\n",
            "x_test_n.shape =  (573, 69)\n",
            "x_test_o.shape =  (573, 1987)\n",
            "y_test.shape (573, 4)\n",
            "\n",
            "x_train_n.shape =  (4125, 69)\n",
            "x_train_o.shape =  (4125, 1987)\n",
            "y_train.shape =  (4125, 4)\n",
            "x_val_n.shape =  (1032, 69)\n",
            "x_val_o.shape =  (1032, 1987)\n",
            "y_val.shape (1032, 4)\n"
          ]
        }
      ]
    },
    {
      "cell_type": "markdown",
      "source": [
        "### Для модели только с категориальными данными\n"
      ],
      "metadata": {
        "id": "LdbpBORwleFm"
      }
    },
    {
      "cell_type": "code",
      "source": [
        "train_sep = int(X_tr_n.shape[0] * 0.8901)\n",
        "print('train_sep = ', train_sep)\n",
        "tr_05 = int(train_sep / 2)\n",
        "print('tr_05 = ', tr_05)\n",
        "\n",
        "x_train_o, x_test_o = X_tr_o[:train_sep], X_tr_o[train_sep:]\n",
        "print('x_train_o.shape = ', x_train_o.shape)\n",
        "print('x_test_o.shape = ', x_test_o.shape)\n",
        "\n",
        "x_train_o_1, x_train_o_2 = x_train_o[:tr_05], x_train_o[tr_05:]\n",
        "print('x_train_o_1.shape = ', x_train_o_1.shape)\n",
        "print('x_train_o_2.shape = ', x_train_o_2.shape)\n",
        "\n",
        "y_train, y_test = Y_tr_o[:train_sep], Y_tr_o[train_sep:]\n",
        "print('y_train.shape = ', y_train.shape)\n",
        "print('y_test.shape = ', y_test.shape)\n"
      ],
      "metadata": {
        "id": "7T8bLUsdlk_K"
      },
      "execution_count": null,
      "outputs": []
    },
    {
      "cell_type": "code",
      "source": [
        "print('x_train_n.shape = ', x_train_n.shape)\n",
        "#x_train_n_o = x_train_n.reshape(-1)\n",
        "#print('x_train_n_o.shape = ', x_train_n_o.shape)\n",
        "x_train_n_o = to_categorical(x_train_n)\n",
        "#x_train_n_o = x_train_n.reshape(3667, -1)\n",
        "print('x_train_n_o.shape = ', x_train_n_o.shape)\n",
        "x_train_n_o = x_train_n.reshape(4125, -1)\n",
        "print('x_train_n_o.shape = ', x_train_n_o.shape)\n"
      ],
      "metadata": {
        "colab": {
          "base_uri": "https://localhost:8080/"
        },
        "id": "fNAfAcemui7_",
        "outputId": "1c08f566-de93-4f13-c089-eedf9aead83c"
      },
      "execution_count": null,
      "outputs": [
        {
          "output_type": "stream",
          "name": "stdout",
          "text": [
            "x_train_n.shape =  (4125, 69)\n",
            "x_train_n_o.shape =  (4125, 69, 1)\n",
            "x_train_n_o.shape =  (4125, 69)\n"
          ]
        }
      ]
    },
    {
      "cell_type": "markdown",
      "source": [
        "## Построение модели Functional API"
      ],
      "metadata": {
        "id": "26UBiWB3pi2w"
      }
    },
    {
      "cell_type": "code",
      "source": [
        "# input1 = Input((x_train_n_o.shape[1],))\n",
        "input1 = Input((x_train_n.shape[1],))\n",
        "#print('x_train_n_o.shape[1] = ', x_train_n_o.shape[1])\n",
        "print('x_train_n.shape[1] = ', x_train_n.shape[1])\n",
        "#input1 = Input((x_val_o.shape[1],))\n",
        "input2 = Input((x_train_o.shape[1],))\n",
        "print('x_train_o.shape[1] = ', x_train_o.shape[1])\n",
        "\n",
        "x1 = input1                               # Ветка 1\n",
        "x1 = Dense(64, activation=\"relu\")(x1)\n",
        "# x1 = Dense(32, activation=\"linear\")(x1)\n",
        "\n",
        "x2 = input2                               # Ветка 2\n",
        "x2 = Dense(64, activation=\"relu\")(x2)\n",
        "\n",
        "x = concatenate([x1, x2])             # Объединение веток\n",
        "\n",
        "x = Dense(64, activation='relu')(x)       # Промежуточный слой\n",
        "# x = Dense(32, activation='linear')(x)       # Промежуточный слой\n",
        "x = Dropout(0.5)(x)\n",
        "x = Dense(4, activation='softmax')(x)      # Финальный регрессирующий нейрон\n",
        "\n",
        "model_final = Model((input1, input2), x)"
      ],
      "metadata": {
        "id": "HwqcDQxApJgp",
        "colab": {
          "base_uri": "https://localhost:8080/"
        },
        "outputId": "611cf06f-2117-4f45-d28d-fb0a9d1ca5b1"
      },
      "execution_count": null,
      "outputs": [
        {
          "output_type": "stream",
          "name": "stdout",
          "text": [
            "x_train_n.shape[1] =  69\n",
            "x_train_o.shape[1] =  1987\n"
          ]
        }
      ]
    },
    {
      "cell_type": "code",
      "source": [
        "model_final.compile(optimizer=Adam(learning_rate=1e-3),\n",
        "                    # loss=\"categorical_crossentropy\",\n",
        "                    # loss=\"sparse_categorical_crossentropy\",\n",
        "                    loss=['mse', 'hinge'],\n",
        "                    metrics=['accuracy', 'mae']\n",
        "                    # loss='mse'\n",
        "                    # metrics=['mae']\n",
        "                    )\n",
        "\n",
        "history = model_final.fit([x_train_n, x_train_o],\n",
        "# history = model_final.fit([x_train_n_o, x_train_o],\n",
        "# history = model_final.fit([x_train_n_o, x_train_o], [x_train_o, x_train_n_o],\n",
        "# history = model_final.fit([x_val_o, x_train_o],\n",
        "                           y_train,\n",
        "                           batch_size=128,\n",
        "                           epochs=20,\n",
        "                           validation_split=0.15,\n",
        "#                           validation_data=(x_val_o, y_val),\n",
        "                           verbose=1)\n"
      ],
      "metadata": {
        "colab": {
          "base_uri": "https://localhost:8080/"
        },
        "id": "Z8K4YhVe_xez",
        "outputId": "5df348e9-6736-47f7-e9ee-f82fb533e094"
      },
      "execution_count": null,
      "outputs": [
        {
          "output_type": "stream",
          "name": "stdout",
          "text": [
            "Epoch 1/20\n",
            "28/28 [==============================] - 6s 13ms/step - loss: 0.1294 - accuracy: 0.6594 - mae: 0.2854 - val_loss: 0.0690 - val_accuracy: 0.8837 - val_mae: 0.1829\n",
            "Epoch 2/20\n",
            "28/28 [==============================] - 0s 6ms/step - loss: 0.0517 - accuracy: 0.8965 - mae: 0.1382 - val_loss: 0.0414 - val_accuracy: 0.9015 - val_mae: 0.0878\n",
            "Epoch 3/20\n",
            "28/28 [==============================] - 0s 6ms/step - loss: 0.0287 - accuracy: 0.9395 - mae: 0.0771 - val_loss: 0.0357 - val_accuracy: 0.9031 - val_mae: 0.0674\n",
            "Epoch 4/20\n",
            "28/28 [==============================] - 0s 6ms/step - loss: 0.0217 - accuracy: 0.9527 - mae: 0.0624 - val_loss: 0.0283 - val_accuracy: 0.9257 - val_mae: 0.0565\n",
            "Epoch 5/20\n",
            "28/28 [==============================] - 0s 6ms/step - loss: 0.0164 - accuracy: 0.9649 - mae: 0.0486 - val_loss: 0.0254 - val_accuracy: 0.9402 - val_mae: 0.0476\n",
            "Epoch 6/20\n",
            "28/28 [==============================] - 0s 6ms/step - loss: 0.0126 - accuracy: 0.9720 - mae: 0.0381 - val_loss: 0.0227 - val_accuracy: 0.9418 - val_mae: 0.0413\n",
            "Epoch 7/20\n",
            "28/28 [==============================] - 0s 6ms/step - loss: 0.0103 - accuracy: 0.9795 - mae: 0.0327 - val_loss: 0.0197 - val_accuracy: 0.9467 - val_mae: 0.0409\n",
            "Epoch 8/20\n",
            "28/28 [==============================] - 0s 6ms/step - loss: 0.0082 - accuracy: 0.9840 - mae: 0.0286 - val_loss: 0.0186 - val_accuracy: 0.9515 - val_mae: 0.0350\n",
            "Epoch 9/20\n",
            "28/28 [==============================] - 0s 6ms/step - loss: 0.0059 - accuracy: 0.9894 - mae: 0.0232 - val_loss: 0.0187 - val_accuracy: 0.9499 - val_mae: 0.0316\n",
            "Epoch 10/20\n",
            "28/28 [==============================] - 0s 6ms/step - loss: 0.0055 - accuracy: 0.9892 - mae: 0.0214 - val_loss: 0.0167 - val_accuracy: 0.9628 - val_mae: 0.0287\n",
            "Epoch 11/20\n",
            "28/28 [==============================] - 0s 6ms/step - loss: 0.0037 - accuracy: 0.9940 - mae: 0.0170 - val_loss: 0.0156 - val_accuracy: 0.9612 - val_mae: 0.0274\n",
            "Epoch 12/20\n",
            "28/28 [==============================] - 0s 6ms/step - loss: 0.0031 - accuracy: 0.9937 - mae: 0.0140 - val_loss: 0.0156 - val_accuracy: 0.9596 - val_mae: 0.0266\n",
            "Epoch 13/20\n",
            "28/28 [==============================] - 0s 6ms/step - loss: 0.0023 - accuracy: 0.9957 - mae: 0.0118 - val_loss: 0.0168 - val_accuracy: 0.9612 - val_mae: 0.0243\n",
            "Epoch 14/20\n",
            "28/28 [==============================] - 0s 6ms/step - loss: 0.0025 - accuracy: 0.9952 - mae: 0.0116 - val_loss: 0.0156 - val_accuracy: 0.9564 - val_mae: 0.0270\n",
            "Epoch 15/20\n",
            "28/28 [==============================] - 0s 6ms/step - loss: 0.0026 - accuracy: 0.9952 - mae: 0.0112 - val_loss: 0.0160 - val_accuracy: 0.9645 - val_mae: 0.0235\n",
            "Epoch 16/20\n",
            "28/28 [==============================] - 0s 6ms/step - loss: 0.0018 - accuracy: 0.9971 - mae: 0.0091 - val_loss: 0.0145 - val_accuracy: 0.9580 - val_mae: 0.0241\n",
            "Epoch 17/20\n",
            "28/28 [==============================] - 0s 6ms/step - loss: 0.0015 - accuracy: 0.9980 - mae: 0.0079 - val_loss: 0.0158 - val_accuracy: 0.9596 - val_mae: 0.0227\n",
            "Epoch 18/20\n",
            "28/28 [==============================] - 0s 6ms/step - loss: 0.0015 - accuracy: 0.9974 - mae: 0.0073 - val_loss: 0.0151 - val_accuracy: 0.9645 - val_mae: 0.0223\n",
            "Epoch 19/20\n",
            "28/28 [==============================] - 0s 6ms/step - loss: 0.0010 - accuracy: 0.9989 - mae: 0.0060 - val_loss: 0.0155 - val_accuracy: 0.9628 - val_mae: 0.0219\n",
            "Epoch 20/20\n",
            "28/28 [==============================] - 0s 6ms/step - loss: 0.0012 - accuracy: 0.9980 - mae: 0.0058 - val_loss: 0.0156 - val_accuracy: 0.9628 - val_mae: 0.0216\n"
          ]
        }
      ]
    },
    {
      "cell_type": "code",
      "source": [
        "scores = model_final.evaluate(x_test_o, y_test)\n",
        "# print(model_final.predict(x_test_o[1], y_test[1]))\n",
        "# print('Точность на тестовой выборке:', scores[1] )\n"
      ],
      "metadata": {
        "colab": {
          "base_uri": "https://localhost:8080/",
          "height": 624
        },
        "id": "slWU3SKiRz20",
        "outputId": "6c6a5e0a-fd89-43d8-c2fe-6311f00ed6d9"
      },
      "execution_count": null,
      "outputs": [
        {
          "output_type": "error",
          "ename": "ValueError",
          "evalue": "ignored",
          "traceback": [
            "\u001b[0;31m---------------------------------------------------------------------------\u001b[0m",
            "\u001b[0;31mValueError\u001b[0m                                Traceback (most recent call last)",
            "\u001b[0;32m<ipython-input-15-2799f7972f78>\u001b[0m in \u001b[0;36m<cell line: 1>\u001b[0;34m()\u001b[0m\n\u001b[0;32m----> 1\u001b[0;31m \u001b[0mscores\u001b[0m \u001b[0;34m=\u001b[0m \u001b[0mmodel_final\u001b[0m\u001b[0;34m.\u001b[0m\u001b[0mevaluate\u001b[0m\u001b[0;34m(\u001b[0m\u001b[0mx_test_o\u001b[0m\u001b[0;34m,\u001b[0m \u001b[0my_test\u001b[0m\u001b[0;34m)\u001b[0m\u001b[0;34m\u001b[0m\u001b[0;34m\u001b[0m\u001b[0m\n\u001b[0m\u001b[1;32m      2\u001b[0m \u001b[0;31m# print(model_final.predict(x_test_o[1], y_test[1]))\u001b[0m\u001b[0;34m\u001b[0m\u001b[0;34m\u001b[0m\u001b[0m\n\u001b[1;32m      3\u001b[0m \u001b[0;31m# print('Точность на тестовой выборке:', scores[1] )\u001b[0m\u001b[0;34m\u001b[0m\u001b[0;34m\u001b[0m\u001b[0m\n",
            "\u001b[0;32m/usr/local/lib/python3.10/dist-packages/keras/utils/traceback_utils.py\u001b[0m in \u001b[0;36merror_handler\u001b[0;34m(*args, **kwargs)\u001b[0m\n\u001b[1;32m     68\u001b[0m             \u001b[0;31m# To get the full stack trace, call:\u001b[0m\u001b[0;34m\u001b[0m\u001b[0;34m\u001b[0m\u001b[0m\n\u001b[1;32m     69\u001b[0m             \u001b[0;31m# `tf.debugging.disable_traceback_filtering()`\u001b[0m\u001b[0;34m\u001b[0m\u001b[0;34m\u001b[0m\u001b[0m\n\u001b[0;32m---> 70\u001b[0;31m             \u001b[0;32mraise\u001b[0m \u001b[0me\u001b[0m\u001b[0;34m.\u001b[0m\u001b[0mwith_traceback\u001b[0m\u001b[0;34m(\u001b[0m\u001b[0mfiltered_tb\u001b[0m\u001b[0;34m)\u001b[0m \u001b[0;32mfrom\u001b[0m \u001b[0;32mNone\u001b[0m\u001b[0;34m\u001b[0m\u001b[0;34m\u001b[0m\u001b[0m\n\u001b[0m\u001b[1;32m     71\u001b[0m         \u001b[0;32mfinally\u001b[0m\u001b[0;34m:\u001b[0m\u001b[0;34m\u001b[0m\u001b[0;34m\u001b[0m\u001b[0m\n\u001b[1;32m     72\u001b[0m             \u001b[0;32mdel\u001b[0m \u001b[0mfiltered_tb\u001b[0m\u001b[0;34m\u001b[0m\u001b[0;34m\u001b[0m\u001b[0m\n",
            "\u001b[0;32m/usr/local/lib/python3.10/dist-packages/keras/engine/training.py\u001b[0m in \u001b[0;36mtf__test_function\u001b[0;34m(iterator)\u001b[0m\n\u001b[1;32m     13\u001b[0m                 \u001b[0;32mtry\u001b[0m\u001b[0;34m:\u001b[0m\u001b[0;34m\u001b[0m\u001b[0;34m\u001b[0m\u001b[0m\n\u001b[1;32m     14\u001b[0m                     \u001b[0mdo_return\u001b[0m \u001b[0;34m=\u001b[0m \u001b[0;32mTrue\u001b[0m\u001b[0;34m\u001b[0m\u001b[0;34m\u001b[0m\u001b[0m\n\u001b[0;32m---> 15\u001b[0;31m                     \u001b[0mretval_\u001b[0m \u001b[0;34m=\u001b[0m \u001b[0mag__\u001b[0m\u001b[0;34m.\u001b[0m\u001b[0mconverted_call\u001b[0m\u001b[0;34m(\u001b[0m\u001b[0mag__\u001b[0m\u001b[0;34m.\u001b[0m\u001b[0mld\u001b[0m\u001b[0;34m(\u001b[0m\u001b[0mstep_function\u001b[0m\u001b[0;34m)\u001b[0m\u001b[0;34m,\u001b[0m \u001b[0;34m(\u001b[0m\u001b[0mag__\u001b[0m\u001b[0;34m.\u001b[0m\u001b[0mld\u001b[0m\u001b[0;34m(\u001b[0m\u001b[0mself\u001b[0m\u001b[0;34m)\u001b[0m\u001b[0;34m,\u001b[0m \u001b[0mag__\u001b[0m\u001b[0;34m.\u001b[0m\u001b[0mld\u001b[0m\u001b[0;34m(\u001b[0m\u001b[0miterator\u001b[0m\u001b[0;34m)\u001b[0m\u001b[0;34m)\u001b[0m\u001b[0;34m,\u001b[0m \u001b[0;32mNone\u001b[0m\u001b[0;34m,\u001b[0m \u001b[0mfscope\u001b[0m\u001b[0;34m)\u001b[0m\u001b[0;34m\u001b[0m\u001b[0;34m\u001b[0m\u001b[0m\n\u001b[0m\u001b[1;32m     16\u001b[0m                 \u001b[0;32mexcept\u001b[0m\u001b[0;34m:\u001b[0m\u001b[0;34m\u001b[0m\u001b[0;34m\u001b[0m\u001b[0m\n\u001b[1;32m     17\u001b[0m                     \u001b[0mdo_return\u001b[0m \u001b[0;34m=\u001b[0m \u001b[0;32mFalse\u001b[0m\u001b[0;34m\u001b[0m\u001b[0;34m\u001b[0m\u001b[0m\n",
            "\u001b[0;31mValueError\u001b[0m: in user code:\n\n    File \"/usr/local/lib/python3.10/dist-packages/keras/engine/training.py\", line 1852, in test_function  *\n        return step_function(self, iterator)\n    File \"/usr/local/lib/python3.10/dist-packages/keras/engine/training.py\", line 1836, in step_function  **\n        outputs = model.distribute_strategy.run(run_step, args=(data,))\n    File \"/usr/local/lib/python3.10/dist-packages/keras/engine/training.py\", line 1824, in run_step  **\n        outputs = model.test_step(data)\n    File \"/usr/local/lib/python3.10/dist-packages/keras/engine/training.py\", line 1788, in test_step\n        y_pred = self(x, training=False)\n    File \"/usr/local/lib/python3.10/dist-packages/keras/utils/traceback_utils.py\", line 70, in error_handler\n        raise e.with_traceback(filtered_tb) from None\n    File \"/usr/local/lib/python3.10/dist-packages/keras/engine/input_spec.py\", line 219, in assert_input_compatibility\n        raise ValueError(\n\n    ValueError: Layer \"model\" expects 2 input(s), but it received 1 input tensors. Inputs received: [<tf.Tensor 'IteratorGetNext:0' shape=(None, 1987) dtype=float32>]\n"
          ]
        }
      ]
    },
    {
      "cell_type": "markdown",
      "source": [
        "### Схема модели"
      ],
      "metadata": {
        "id": "q8hXAjlzp64I"
      }
    },
    {
      "cell_type": "code",
      "source": [
        "utils.plot_model(model_final, dpi=60)"
      ],
      "metadata": {
        "colab": {
          "base_uri": "https://localhost:8080/",
          "height": 359
        },
        "id": "isUyfDVq_jRC",
        "outputId": "705dbf80-1b9d-43e6-e33c-5e1efb6e36f7"
      },
      "execution_count": null,
      "outputs": [
        {
          "output_type": "execute_result",
          "data": {
            "image/png": "[encoded data removed]",
            "text/plain": [
              "<IPython.core.display.Image object>"
            ]
          },
          "metadata": {},
          "execution_count": 16
        }
      ]
    },
    {
      "cell_type": "markdown",
      "source": [
        "==============================================================================================================="
      ],
      "metadata": {
        "id": "DoIsS24S_yu7"
      }
    }
  ]
}