{
  "cells": [
    {
      "cell_type": "markdown",
      "metadata": {
        "id": "view-in-github",
        "colab_type": "text"
      },
      "source": [
        "<a href=\"https://colab.research.google.com/github/Untick/InspectrumClinic_RS_gr1/blob/main/Marfida%20Alexander/A_Marfida_stajirovka_profpatolog_2.ipynb\" target=\"_parent\"><img src=\"https://colab.research.google.com/assets/colab-badge.svg\" alt=\"Open In Colab\"/></a>"
      ]
    },
    {
      "cell_type": "markdown",
      "metadata": {
        "id": "j3G8UlvQwOlH"
      },
      "source": [
        "# Стажировка. Профпатолог (INSPECTRUM CLINIC)\n",
        "- Подготовка датасетов обучения"
      ]
    },
    {
      "cell_type": "markdown",
      "metadata": {
        "id": "hdc9cx75wWEG"
      },
      "source": [
        "# ЗАГРУЗКА ДАТАФРЕЙМА ИСХОДНЫХ ДАННЫХ"
      ]
    },
    {
      "cell_type": "code",
      "execution_count": null,
      "metadata": {
        "id": "hKQ4Vl91KMSk"
      },
      "outputs": [],
      "source": [
        "# Подключение библиотек\n",
        "\n",
        "# Работа с массивами данных\n",
        "import numpy as np\n",
        "\n",
        "# Работа с табличными данными\n",
        "import pandas as pd\n",
        "\n",
        "# Функции-утилиты для работы с категориальными данными\n",
        "from tensorflow.keras import utils\n",
        "\n",
        "# Класс для конструирования последовательной модели нейронной сети\n",
        "from tensorflow.keras.models import Sequential, Model\n",
        "\n",
        "# Основные слои\n",
        "from tensorflow.keras.layers import Dense, Dropout, SpatialDropout1D, BatchNormalization, Embedding, Flatten, Activation, Input, concatenate\n",
        "from tensorflow.keras.layers import SimpleRNN, GRU, LSTM, Bidirectional, Conv1D, MaxPooling1D, GlobalMaxPooling1D\n",
        "\n",
        "# Оптимизаторы\n",
        "from tensorflow.keras.optimizers import Adam, Adadelta, SGD, Adagrad, RMSprop\n",
        "\n",
        "# Токенизатор для преобразования текстов в последовательности\n",
        "from tensorflow.keras.preprocessing.text import Tokenizer\n",
        "\n",
        "# Масштабирование данных\n",
        "from sklearn.preprocessing import StandardScaler\n",
        "\n",
        "# Загрузка датасетов из облака google\n",
        "import gdown\n",
        "\n",
        "# Регулярные выражения\n",
        "import re\n",
        "\n",
        "# Отрисовка графиков\n",
        "import matplotlib.pyplot as plt\n",
        "plt.style.use('dark_background')\n",
        "\n",
        "# Создание статистических графиков\n",
        "import seaborn as sns\n",
        "\n",
        "# Табличные данные\n",
        "from fastai.tabular import *\n",
        "\n",
        "# Метрики для расчета ошибок\n",
        "from sklearn.metrics import mean_squared_error, mean_absolute_error\n",
        "\n",
        "%matplotlib inline"
      ]
    },
    {
      "cell_type": "code",
      "execution_count": null,
      "metadata": {
        "colab": {
          "base_uri": "https://localhost:8080/"
        },
        "id": "hydfXxNiLWp6",
        "outputId": "9c24e1e2-fc95-44f1-b1ad-317fafd07ca9"
      },
      "outputs": [
        {
          "output_type": "stream",
          "name": "stdout",
          "text": [
            "Mounted at /content/drive\n"
          ]
        }
      ],
      "source": [
        "# Монтирование Goodle-диска\n",
        "from google.colab import drive\n",
        "drive.mount('/content/drive')"
      ]
    },
    {
      "cell_type": "code",
      "source": [
        "import pandas as pd\n",
        "df_save = pd.read_excel('/content/drive/MyDrive/УИИ(marphida)/Стажировка Профпатолог/ICdata_I(71).xlsx')\n",
        "dfb = pd.read_excel('/content/drive/MyDrive/УИИ(marphida)/Стажировка Профпатолог/ICdata_I(71)b.xlsx')\n",
        "df0 = pd.read_excel('/content/drive/MyDrive/УИИ(marphida)/Стажировка Профпатолог/ICdata_I(71)0.xlsx')\n",
        "dfb0 = pd.read_excel('/content/drive/MyDrive/УИИ(marphida)/Стажировка Профпатолог/ICdata_I(71)0b.xlsx')"
      ],
      "metadata": {
        "id": "594RoaJL7iNj"
      },
      "execution_count": null,
      "outputs": []
    },
    {
      "cell_type": "code",
      "source": [
        "df = df_save.copy()"
      ],
      "metadata": {
        "id": "ILD4S5lL9DNC"
      },
      "execution_count": null,
      "outputs": []
    },
    {
      "cell_type": "markdown",
      "metadata": {
        "id": "Dh86jBHAcTCA"
      },
      "source": [
        "# СЛУЖЕБНЫЕ ФУНКЦИИ"
      ]
    },
    {
      "cell_type": "code",
      "execution_count": null,
      "metadata": {
        "id": "umEXFoQVY3u5"
      },
      "outputs": [],
      "source": [
        "# Глобальные переменные\n",
        "EMPTY_FIELDS = 'не определено'\n",
        "### Параметр отступа от границ единичного интервала нормирования\n",
        "DELTA_NORM = 0.01"
      ]
    },
    {
      "cell_type": "markdown",
      "metadata": {
        "id": "JJIF0wYQeubC"
      },
      "source": [
        "## Функции подсчёта заполненности колонок"
      ]
    },
    {
      "cell_type": "code",
      "execution_count": null,
      "metadata": {
        "id": "HVO5GPB_XvJL"
      },
      "outputs": [],
      "source": [
        "# Аргументы - датафрейм и список наименований столбцов\n",
        "# Исключения: NaN или EMPTY_FIELDS (\"Не определено\")\n",
        "#\n",
        "def count_columns_fill(df, arg_list):\n",
        "  count_list = 0\n",
        "  print('Текущая структура датафрейма: ', df.shape, '\\n')\n",
        "  for col_name in arg_list:\n",
        "    count_list += 1\n",
        "    print(f'*** {col_name}: ***')\n",
        "#    print('Количество непустых элементов: ', len(df[df[col_name] != EMPTY_FIELDS]) )\n",
        "#    print('Количество уникальных элементов: ', len(df.loc[df[col_name] != EMPTY_FIELDS, col_name].unique()), '\\n')\n",
        "    if len(df[col_name].isna()) == 0:\n",
        "      print('Количество непустых элементов: ', len(df[col_name] != EMPTY_FIELDS))\n",
        "#      print('Количество уникальных элементов: ', len(df.loc[df[col_name] != EMPTY_FIELDS, col_name].unique()), '\\n')\n",
        "      print('Количество уникальных элементов: ', df[col_name].nunique(), '\\n')\n",
        "    else:\n",
        "      print('Количество непустых элементов: ', len(df[~df[col_name].isna()]))\n",
        "#      print('Количество уникальных элементов: ', len(df.loc[~df[col_name].isnull(), col_name].unique()), '\\n')\n",
        "      print('Количество уникальных элементов: ', df[col_name].nunique(), '\\n')\n",
        "  print('Количество столбцов: ', count_list)"
      ]
    },
    {
      "cell_type": "markdown",
      "metadata": {
        "id": "hycJBkZda0gO"
      },
      "source": [
        "## Функция, возвращающая количество значащих записей и уникальных элементов в столбце"
      ]
    },
    {
      "cell_type": "code",
      "execution_count": null,
      "metadata": {
        "id": "1y8k1m0ZZsXf"
      },
      "outputs": [],
      "source": [
        "'''\n",
        "# Аргументы - датафрейм и строка наименования столбца\n",
        "# return: count_fills, count_unique\n",
        "#\n",
        "def count_fill_and_unique(df, col_name):\n",
        "#  return len(df[df[col_name] != EMPTY_FIELDS]), len(df.loc[df[col_name] != EMPTY_FIELDS, col_name].unique())\n",
        "  return len(df[df[col_name] != EMPTY_FIELDS]), df[col_name].nunique()\n",
        "'''"
      ]
    },
    {
      "cell_type": "markdown",
      "metadata": {
        "id": "A0FKGhK6EMMF"
      },
      "source": [
        "## Функция просмотра содержания ненулевых уникальных значений полей в выбранных столбцах"
      ]
    },
    {
      "cell_type": "code",
      "execution_count": null,
      "metadata": {
        "id": "IIpl8SFV7YLK"
      },
      "outputs": [],
      "source": [
        "# arg - наименования столбцов\n",
        "def prn_unique_in_col(df, *arg, sort_asc = False):\n",
        "  for colname in arg:\n",
        "#    unique_in_column_list = df.loc[~df[colname].isnull(), colname].unique().astype(str)\n",
        "    unique_in_column_list = df[colname].unique().astype(str)\n",
        "#    count_unique_in_column_list = len(unique_in_column_list)\n",
        "    count_unique_in_column_list = df[colname].nunique()\n",
        "    print(f'*** \"{colname}\" ({count_unique_in_column_list} уникальных из {len(df[df[colname] != EMPTY_FIELDS])} непустых): ***')\n",
        "    to_join = sorted(unique_in_column_list) if sort_asc else unique_in_column_list\n",
        "    print('; '.join(to_join))\n",
        "    print()"
      ]
    },
    {
      "cell_type": "markdown",
      "metadata": {
        "id": "jzkY-iDR37IS"
      },
      "source": [
        "## Функция получения списка уникальных записей столбца исходных данных и их количества"
      ]
    },
    {
      "cell_type": "code",
      "execution_count": null,
      "metadata": {
        "id": "GSROQ8Xf31Dq"
      },
      "outputs": [],
      "source": [
        "'''\n",
        "# arg - наименования столбцов\n",
        "def get_unique_in_col(df, colname): ##, sort_asc = False):\n",
        "#  unique_in_column_list = df.loc[~df[colname].isnull(), colname].unique().astype(str)\n",
        "#  count_unique_in_column_list = len(unique_in_column_list)\n",
        "  unique_in_column_list = df[colname].unique().astype(str)\n",
        "  count_unique_in_column_list = df[colname].nunique()\n",
        "#  print('\\n'.join(to_join))\n",
        "#  print()\n",
        "  return count_unique_in_column_list, unique_in_column_list\n",
        "'''"
      ]
    },
    {
      "cell_type": "markdown",
      "metadata": {
        "id": "29GMgdmG9s0_"
      },
      "source": [
        "# ПОДГОТОВКА ДАТАФРЕЙМОВ С ДАННЫМИ ДЛЯ СОЗДАНИЯ ОБУЧАЮЩИХ ВЫБОРОК\n",
        "- df - обработанный датафрейм исходных данных обучения\n",
        "- dfcd - датафрейм рассчитываемых категориальных и нормировочных параметров для формирования обучающих датасетов"
      ]
    },
    {
      "cell_type": "markdown",
      "source": [
        "#### Заменим все NaN на 'Не определено'"
      ],
      "metadata": {
        "id": "rD4DsC5mIHZG"
      }
    },
    {
      "cell_type": "code",
      "source": [
        "df.shape"
      ],
      "metadata": {
        "colab": {
          "base_uri": "https://localhost:8080/"
        },
        "id": "DfIHA4PG-LmA",
        "outputId": "6ec3e0d9-969a-4488-da7a-274dcd0bca92"
      },
      "execution_count": null,
      "outputs": [
        {
          "output_type": "execute_result",
          "data": {
            "text/plain": [
              "(1922, 71)"
            ]
          },
          "metadata": {},
          "execution_count": 8
        }
      ]
    },
    {
      "cell_type": "code",
      "source": [
        "df.isna().sum().sum()"
      ],
      "metadata": {
        "colab": {
          "base_uri": "https://localhost:8080/"
        },
        "id": "KzLm7G2yPfzs",
        "outputId": "1ccab886-f934-4044-c706-fd7b0943116b"
      },
      "execution_count": null,
      "outputs": [
        {
          "output_type": "execute_result",
          "data": {
            "text/plain": [
              "85613"
            ]
          },
          "metadata": {},
          "execution_count": 9
        }
      ]
    },
    {
      "cell_type": "code",
      "source": [
        "df = df.fillna('Не определено')"
      ],
      "metadata": {
        "id": "1scUNbnBMyjm"
      },
      "execution_count": null,
      "outputs": []
    },
    {
      "cell_type": "code",
      "source": [
        "df.isna().sum().sum()"
      ],
      "metadata": {
        "colab": {
          "base_uri": "https://localhost:8080/"
        },
        "id": "dJJHlL9uP1oD",
        "outputId": "6f0baf20-d09e-4042-966c-f4e441adea17"
      },
      "execution_count": null,
      "outputs": [
        {
          "output_type": "execute_result",
          "data": {
            "text/plain": [
              "0"
            ]
          },
          "metadata": {},
          "execution_count": 11
        }
      ]
    },
    {
      "cell_type": "code",
      "source": [
        "df_save = df_save.fillna('Не определено')\n",
        "dfb = dfb.fillna('Не определено')\n",
        "df0 = df0.fillna('Не определено')\n",
        "dfb0 = dfb0.fillna('Не определено')"
      ],
      "metadata": {
        "id": "EeJM2UdLNwxb"
      },
      "execution_count": null,
      "outputs": []
    },
    {
      "cell_type": "markdown",
      "metadata": {
        "id": "751C3AVDqW-P"
      },
      "source": [
        "## Очистка строковых записей датафрейма от служебных символов и концевых пробелов\n",
        "- + замена \"временно не годен\" на \"не годен\""
      ]
    },
    {
      "cell_type": "code",
      "source": [
        "def clear_df(df):\n",
        "  for i in range(df.shape[0]): #iterate over rows\n",
        "    if df.dtypes[1] != 'O':\n",
        "      continue\n",
        "    for j in range(df.shape[1]): #iterate over columns\n",
        "      value = df.iloc[i, j] #get cell value\n",
        "      if isinstance(value, str):\n",
        "        value_n = value.replace('\\n', ' ').replace('\\xa0', '').strip().lower()\n",
        "        if value_n == 'временно не годен':\n",
        "          df.iloc[i, j] = 'не годен'\n",
        "        elif value != value_n:\n",
        "          df.iloc[i, j] = value_n\n",
        "  return df"
      ],
      "metadata": {
        "id": "X-jenrLZ16mK"
      },
      "execution_count": null,
      "outputs": []
    },
    {
      "cell_type": "markdown",
      "metadata": {
        "id": "wAbCmxUUFSJF"
      },
      "source": [
        "## Структура датафрейма для сборки данных формирования датасетов обучения"
      ]
    },
    {
      "cell_type": "code",
      "execution_count": null,
      "metadata": {
        "id": "kFmo11zEF8H8"
      },
      "outputs": [],
      "source": [
        "df_col_data = {\n",
        "    'name':[],  # Наименование колонки\n",
        "    'ind_col':[], # Индекс колонки в датафрейме исходных данных\n",
        "    'fill_cnt':[], # Количество полей в колонке, имеющих определённое значение, кроме 'не определено'\n",
        "    'unique_cnt':[], # Количество уникальных полей в колонке, исключая 'не определено'\n",
        "    'data_type':[], # Тип данных колонки\n",
        "    'df_tr':[] # Имя датафрейма с нормированными и one hot encoding значениями уникальных элементов для обучения\n",
        "}\n",
        "dfcd = pd.DataFrame(df_col_data)"
      ]
    },
    {
      "cell_type": "markdown",
      "metadata": {
        "id": "5Q1tqDm17rAL"
      },
      "source": [
        "## Создание датафрейма для сборки данных формирования датасетов обучения\n",
        "- последняя колонка - датасеты с категориальными и нормировочными данными для каждого параметра исходных данных (столбца df) обучающей выборки"
      ]
    },
    {
      "cell_type": "code",
      "execution_count": null,
      "metadata": {
        "colab": {
          "base_uri": "https://localhost:8080/",
          "height": 478
        },
        "id": "yYpRsutcf9ZA",
        "outputId": "05052fcf-50ac-495c-9757-b6fe9846d361"
      },
      "outputs": [
        {
          "output_type": "stream",
          "name": "stderr",
          "text": [
            "/usr/local/lib/python3.10/dist-packages/pandas/core/dtypes/cast.py:948: VisibleDeprecationWarning: Creating an ndarray from ragged nested sequences (which is a list-or-tuple of lists-or-tuples-or ndarrays with different lengths or shapes) is deprecated. If you meant to do this, you must specify 'dtype=object' when creating the ndarray.\n",
            "  element = np.asarray(element)\n"
          ]
        },
        {
          "output_type": "execute_result",
          "data": {
            "text/plain": [
              "                                                 name  ind_col  fill_cnt  \\\n",
              "0                                  КлиентДатаРождения        0      1922   \n",
              "1                                           КлиентПол        1      1922   \n",
              "2                                          Контрагент        2      1922   \n",
              "3                                           Профессия        3      1922   \n",
              "4                                        ЗаключениеМК        4      1922   \n",
              "..                                                ...      ...       ...   \n",
              "66  Офтальмология2_ПрофнепригодностьВременнаяПредс...       66      1922   \n",
              "67  Офтальмология2_ПрофнепригодностьВременнаяПредс...       67      1922   \n",
              "68       Офтальмология2_Диагноз_ЗначениеПредставление       68      1922   \n",
              "69  Терапия2_ПрофнепригодностьВременнаяПредставление2       69      1922   \n",
              "70             Терапия1_Диагноз_ЗначениеПредставление       70      1922   \n",
              "\n",
              "    unique_cnt       data_type  \\\n",
              "0         1794  datetime64[ns]   \n",
              "1            2          object   \n",
              "2          177          object   \n",
              "3          598          object   \n",
              "4            4          object   \n",
              "..         ...             ...   \n",
              "66           3          object   \n",
              "67           3          object   \n",
              "68          18          object   \n",
              "69           4          object   \n",
              "70          18          object   \n",
              "\n",
              "                                                df_tr  \n",
              "0   Empty DataFrame\n",
              "Columns: [col_name, d_norm, d_...  \n",
              "1   Empty DataFrame\n",
              "Columns: [col_name, d_norm, d_...  \n",
              "2   Empty DataFrame\n",
              "Columns: [col_name, d_norm, d_...  \n",
              "3   Empty DataFrame\n",
              "Columns: [col_name, d_norm, d_...  \n",
              "4   Empty DataFrame\n",
              "Columns: [col_name, d_norm, d_...  \n",
              "..                                                ...  \n",
              "66  Empty DataFrame\n",
              "Columns: [col_name, d_norm, d_...  \n",
              "67  Empty DataFrame\n",
              "Columns: [col_name, d_norm, d_...  \n",
              "68  Empty DataFrame\n",
              "Columns: [col_name, d_norm, d_...  \n",
              "69  Empty DataFrame\n",
              "Columns: [col_name, d_norm, d_...  \n",
              "70  Empty DataFrame\n",
              "Columns: [col_name, d_norm, d_...  \n",
              "\n",
              "[71 rows x 6 columns]"
            ],
            "text/html": [
              "\n",
              "  <div id=\"df-9b39abc8-210e-4537-88cf-4e31aff39c90\">\n",
              "    <div class=\"colab-df-container\">\n",
              "      <div>\n",
              "<style scoped>\n",
              "    .dataframe tbody tr th:only-of-type {\n",
              "        vertical-align: middle;\n",
              "    }\n",
              "\n",
              "    .dataframe tbody tr th {\n",
              "        vertical-align: top;\n",
              "    }\n",
              "\n",
              "    .dataframe thead th {\n",
              "        text-align: right;\n",
              "    }\n",
              "</style>\n",
              "<table border=\"1\" class=\"dataframe\">\n",
              "  <thead>\n",
              "    <tr style=\"text-align: right;\">\n",
              "      <th></th>\n",
              "      <th>name</th>\n",
              "      <th>ind_col</th>\n",
              "      <th>fill_cnt</th>\n",
              "      <th>unique_cnt</th>\n",
              "      <th>data_type</th>\n",
              "      <th>df_tr</th>\n",
              "    </tr>\n",
              "  </thead>\n",
              "  <tbody>\n",
              "    <tr>\n",
              "      <th>0</th>\n",
              "      <td>КлиентДатаРождения</td>\n",
              "      <td>0</td>\n",
              "      <td>1922</td>\n",
              "      <td>1794</td>\n",
              "      <td>datetime64[ns]</td>\n",
              "      <td>Empty DataFrame\n",
              "Columns: [col_name, d_norm, d_...</td>\n",
              "    </tr>\n",
              "    <tr>\n",
              "      <th>1</th>\n",
              "      <td>КлиентПол</td>\n",
              "      <td>1</td>\n",
              "      <td>1922</td>\n",
              "      <td>2</td>\n",
              "      <td>object</td>\n",
              "      <td>Empty DataFrame\n",
              "Columns: [col_name, d_norm, d_...</td>\n",
              "    </tr>\n",
              "    <tr>\n",
              "      <th>2</th>\n",
              "      <td>Контрагент</td>\n",
              "      <td>2</td>\n",
              "      <td>1922</td>\n",
              "      <td>177</td>\n",
              "      <td>object</td>\n",
              "      <td>Empty DataFrame\n",
              "Columns: [col_name, d_norm, d_...</td>\n",
              "    </tr>\n",
              "    <tr>\n",
              "      <th>3</th>\n",
              "      <td>Профессия</td>\n",
              "      <td>3</td>\n",
              "      <td>1922</td>\n",
              "      <td>598</td>\n",
              "      <td>object</td>\n",
              "      <td>Empty DataFrame\n",
              "Columns: [col_name, d_norm, d_...</td>\n",
              "    </tr>\n",
              "    <tr>\n",
              "      <th>4</th>\n",
              "      <td>ЗаключениеМК</td>\n",
              "      <td>4</td>\n",
              "      <td>1922</td>\n",
              "      <td>4</td>\n",
              "      <td>object</td>\n",
              "      <td>Empty DataFrame\n",
              "Columns: [col_name, d_norm, d_...</td>\n",
              "    </tr>\n",
              "    <tr>\n",
              "      <th>...</th>\n",
              "      <td>...</td>\n",
              "      <td>...</td>\n",
              "      <td>...</td>\n",
              "      <td>...</td>\n",
              "      <td>...</td>\n",
              "      <td>...</td>\n",
              "    </tr>\n",
              "    <tr>\n",
              "      <th>66</th>\n",
              "      <td>Офтальмология2_ПрофнепригодностьВременнаяПредс...</td>\n",
              "      <td>66</td>\n",
              "      <td>1922</td>\n",
              "      <td>3</td>\n",
              "      <td>object</td>\n",
              "      <td>Empty DataFrame\n",
              "Columns: [col_name, d_norm, d_...</td>\n",
              "    </tr>\n",
              "    <tr>\n",
              "      <th>67</th>\n",
              "      <td>Офтальмология2_ПрофнепригодностьВременнаяПредс...</td>\n",
              "      <td>67</td>\n",
              "      <td>1922</td>\n",
              "      <td>3</td>\n",
              "      <td>object</td>\n",
              "      <td>Empty DataFrame\n",
              "Columns: [col_name, d_norm, d_...</td>\n",
              "    </tr>\n",
              "    <tr>\n",
              "      <th>68</th>\n",
              "      <td>Офтальмология2_Диагноз_ЗначениеПредставление</td>\n",
              "      <td>68</td>\n",
              "      <td>1922</td>\n",
              "      <td>18</td>\n",
              "      <td>object</td>\n",
              "      <td>Empty DataFrame\n",
              "Columns: [col_name, d_norm, d_...</td>\n",
              "    </tr>\n",
              "    <tr>\n",
              "      <th>69</th>\n",
              "      <td>Терапия2_ПрофнепригодностьВременнаяПредставление2</td>\n",
              "      <td>69</td>\n",
              "      <td>1922</td>\n",
              "      <td>4</td>\n",
              "      <td>object</td>\n",
              "      <td>Empty DataFrame\n",
              "Columns: [col_name, d_norm, d_...</td>\n",
              "    </tr>\n",
              "    <tr>\n",
              "      <th>70</th>\n",
              "      <td>Терапия1_Диагноз_ЗначениеПредставление</td>\n",
              "      <td>70</td>\n",
              "      <td>1922</td>\n",
              "      <td>18</td>\n",
              "      <td>object</td>\n",
              "      <td>Empty DataFrame\n",
              "Columns: [col_name, d_norm, d_...</td>\n",
              "    </tr>\n",
              "  </tbody>\n",
              "</table>\n",
              "<p>71 rows × 6 columns</p>\n",
              "</div>\n",
              "      <button class=\"colab-df-convert\" onclick=\"convertToInteractive('df-9b39abc8-210e-4537-88cf-4e31aff39c90')\"\n",
              "              title=\"Convert this dataframe to an interactive table.\"\n",
              "              style=\"display:none;\">\n",
              "        \n",
              "  <svg xmlns=\"http://www.w3.org/2000/svg\" height=\"24px\"viewBox=\"0 0 24 24\"\n",
              "       width=\"24px\">\n",
              "    <path d=\"M0 0h24v24H0V0z\" fill=\"none\"/>\n",
              "    <path d=\"M18.56 5.44l.94 2.06.94-2.06 2.06-.94-2.06-.94-.94-2.06-.94 2.06-2.06.94zm-11 1L8.5 8.5l.94-2.06 2.06-.94-2.06-.94L8.5 2.5l-.94 2.06-2.06.94zm10 10l.94 2.06.94-2.06 2.06-.94-2.06-.94-.94-2.06-.94 2.06-2.06.94z\"/><path d=\"M17.41 7.96l-1.37-1.37c-.4-.4-.92-.59-1.43-.59-.52 0-1.04.2-1.43.59L10.3 9.45l-7.72 7.72c-.78.78-.78 2.05 0 2.83L4 21.41c.39.39.9.59 1.41.59.51 0 1.02-.2 1.41-.59l7.78-7.78 2.81-2.81c.8-.78.8-2.07 0-2.86zM5.41 20L4 18.59l7.72-7.72 1.47 1.35L5.41 20z\"/>\n",
              "  </svg>\n",
              "      </button>\n",
              "      \n",
              "  <style>\n",
              "    .colab-df-container {\n",
              "      display:flex;\n",
              "      flex-wrap:wrap;\n",
              "      gap: 12px;\n",
              "    }\n",
              "\n",
              "    .colab-df-convert {\n",
              "      background-color: #E8F0FE;\n",
              "      border: none;\n",
              "      border-radius: 50%;\n",
              "      cursor: pointer;\n",
              "      display: none;\n",
              "      fill: #1967D2;\n",
              "      height: 32px;\n",
              "      padding: 0 0 0 0;\n",
              "      width: 32px;\n",
              "    }\n",
              "\n",
              "    .colab-df-convert:hover {\n",
              "      background-color: #E2EBFA;\n",
              "      box-shadow: 0px 1px 2px rgba(60, 64, 67, 0.3), 0px 1px 3px 1px rgba(60, 64, 67, 0.15);\n",
              "      fill: #174EA6;\n",
              "    }\n",
              "\n",
              "    [theme=dark] .colab-df-convert {\n",
              "      background-color: #3B4455;\n",
              "      fill: #D2E3FC;\n",
              "    }\n",
              "\n",
              "    [theme=dark] .colab-df-convert:hover {\n",
              "      background-color: #434B5C;\n",
              "      box-shadow: 0px 1px 3px 1px rgba(0, 0, 0, 0.15);\n",
              "      filter: drop-shadow(0px 1px 2px rgba(0, 0, 0, 0.3));\n",
              "      fill: #FFFFFF;\n",
              "    }\n",
              "  </style>\n",
              "\n",
              "      <script>\n",
              "        const buttonEl =\n",
              "          document.querySelector('#df-9b39abc8-210e-4537-88cf-4e31aff39c90 button.colab-df-convert');\n",
              "        buttonEl.style.display =\n",
              "          google.colab.kernel.accessAllowed ? 'block' : 'none';\n",
              "\n",
              "        async function convertToInteractive(key) {\n",
              "          const element = document.querySelector('#df-9b39abc8-210e-4537-88cf-4e31aff39c90');\n",
              "          const dataTable =\n",
              "            await google.colab.kernel.invokeFunction('convertToInteractive',\n",
              "                                                     [key], {});\n",
              "          if (!dataTable) return;\n",
              "\n",
              "          const docLinkHtml = 'Like what you see? Visit the ' +\n",
              "            '<a target=\"_blank\" href=https://colab.research.google.com/notebooks/data_table.ipynb>data table notebook</a>'\n",
              "            + ' to learn more about interactive tables.';\n",
              "          element.innerHTML = '';\n",
              "          dataTable['output_type'] = 'display_data';\n",
              "          await google.colab.output.renderOutput(dataTable, element);\n",
              "          const docLink = document.createElement('div');\n",
              "          docLink.innerHTML = docLinkHtml;\n",
              "          element.appendChild(docLink);\n",
              "        }\n",
              "      </script>\n",
              "    </div>\n",
              "  </div>\n",
              "  "
            ]
          },
          "metadata": {},
          "execution_count": 15
        }
      ],
      "source": [
        "for col in df:\n",
        "  d_col = pd.DataFrame(columns=np.asarray(['col_name', 'd_norm', 'd_ohe'], dtype='object'))\n",
        "  dfcd.loc[len(dfcd.index)] = [\n",
        "    col,\n",
        "    df.columns.get_loc(col),\n",
        "    len(df[df[col] != EMPTY_FIELDS]),\n",
        "    # len(df.loc[df[col] != EMPTY_FIELDS, col].unique()),\n",
        "    df[col].nunique(),\n",
        "    df[col].dtype,\n",
        "#    'dftr' + str(df.columns.get_loc(col))\n",
        "    d_col\n",
        "  ]\n",
        "dfcd"
      ]
    },
    {
      "cell_type": "markdown",
      "metadata": {
        "id": "-ggZD8Bx85ZI"
      },
      "source": [
        "## Формирование нормированных и категориальных данных из обработанного датафрейма исходных данных для обучения"
      ]
    },
    {
      "cell_type": "code",
      "execution_count": null,
      "metadata": {
        "colab": {
          "base_uri": "https://localhost:8080/"
        },
        "id": "V7_KE-79kKm_",
        "outputId": "1b82e70b-cb25-4df1-ddea-8c1492967eec"
      },
      "outputs": [
        {
          "output_type": "execute_result",
          "data": {
            "text/plain": [
              "(1922, 71)"
            ]
          },
          "metadata": {},
          "execution_count": 16
        }
      ],
      "source": [
        "df.shape"
      ]
    },
    {
      "cell_type": "code",
      "execution_count": null,
      "metadata": {
        "colab": {
          "base_uri": "https://localhost:8080/"
        },
        "id": "5S5R2dzwPSpR",
        "outputId": "8204034f-d6fc-4d96-cd4f-605c29f5661b"
      },
      "outputs": [
        {
          "output_type": "execute_result",
          "data": {
            "text/plain": [
              "(71, 6)"
            ]
          },
          "metadata": {},
          "execution_count": 17
        }
      ],
      "source": [
        "dfcd.shape"
      ]
    },
    {
      "cell_type": "code",
      "execution_count": null,
      "metadata": {
        "colab": {
          "base_uri": "https://localhost:8080/"
        },
        "id": "MvrJcOb_x2J-",
        "outputId": "1a603637-3188-4f99-ea2a-e095ef1bc260"
      },
      "outputs": [
        {
          "output_type": "stream",
          "name": "stdout",
          "text": [
            "*** КлиентПол (уникальных записей: 3); всего записей: 1922 ***\n",
            "*** Контрагент (уникальных записей: 178); всего записей: 1922 ***\n",
            "*** Профессия (уникальных записей: 597); всего записей: 1922 ***\n",
            "*** ЗаключениеМК (уникальных записей: 4); всего записей: 1515 ***\n",
            "*** ВредныеФакторы (уникальных записей: 513); всего записей: 1922 ***\n",
            "*** ПсихиатрияНаркология1_МКБ101 (уникальных записей: 10); всего записей: 1468 ***\n",
            "*** ПсихиатрияНаркология1_ПрофнепригодностьВременнаяПредставление1 (уникальных записей: 4); всего записей: 1466 ***\n",
            "*** ПсихиатрияНаркология1_ГоденНегоден_ЗначениеПредставление (уникальных записей: 3); всего записей: 1478 ***\n",
            "*** ПсихиатрияНаркология1_Диагноз_ЗначениеПредставление (уникальных записей: 14); всего записей: 1429 ***\n",
            "*** Офтальмология1_МКБ101 (уникальных записей: 20); всего записей: 1169 ***\n",
            "*** Офтальмология1_ПрофнепригодностьВременнаяПредставление1 (уникальных записей: 4); всего записей: 1158 ***\n",
            "*** Офтальмология1_Диагноз_ЗначениеПредставление (уникальных записей: 128); всего записей: 1167 ***\n",
            "*** Оториноларингология1_МКБ101 (уникальных записей: 13); всего записей: 1514 ***\n",
            "*** Оториноларингология1_ПрофнепригодностьВременнаяПредставление1 (уникальных записей: 4); всего записей: 1510 ***\n",
            "*** Оториноларингология1_ГоденНегоден_ЗначениеПредставление (уникальных записей: 3); всего записей: 1520 ***\n",
            "*** Оториноларингология1_Диагноз_ЗначениеПредставление (уникальных записей: 13); всего записей: 1517 ***\n",
            "*** Гинекология1_МКБ101 (уникальных записей: 7); всего записей: 415 ***\n",
            "*** Гинекология1_ПрофнепригодностьВременнаяПредставление1 (уникальных записей: 3); всего записей: 415 ***\n",
            "*** Гинекология1_ГоденНегоден_ЗначениеПредставление (уникальных записей: 3); всего записей: 453 ***\n",
            "*** Гинекология1_Диагноз_ЗначениеПредставление (уникальных записей: 16); всего записей: 199 ***\n",
            "*** Стоматология1_МКБ101 (уникальных записей: 12); всего записей: 559 ***\n",
            "*** Стоматология1_ПрофнепригодностьВременнаяПредставление1 (уникальных записей: 3); всего записей: 543 ***\n",
            "*** Стоматология1_Диагноз_ЗначениеПредставление (уникальных записей: 14); всего записей: 830 ***\n",
            "*** Терапия1_ГоденНегоден_ЗначениеПредставление (уникальных записей: 3); всего записей: 1686 ***\n",
            "*** Дерматовенерология1_МКБ101 (уникальных записей: 3); всего записей: 882 ***\n",
            "*** Дерматовенерология1_ПрофнепригодностьВременнаяПредставление1 (уникальных записей: 3); всего записей: 882 ***\n",
            "*** Дерматовенерология1_Диагноз_ЗначениеПредставление (уникальных записей: 5); всего записей: 881 ***\n",
            "*** Неврология1_МКБ101 (уникальных записей: 13); всего записей: 1645 ***\n",
            "*** Неврология1_ПрофнепригодностьВременнаяПредставление1 (уникальных записей: 4); всего записей: 1644 ***\n",
            "*** Неврология1_ГоденНегоден_ЗначениеПредставление (уникальных записей: 3); всего записей: 1651 ***\n",
            "*** Неврология1_Диагноз_ЗначениеПредставление (уникальных записей: 14); всего записей: 1626 ***\n",
            "*** Терапия1_МКБ101 (уникальных записей: 28); всего записей: 1646 ***\n",
            "*** Терапия1_ПрофнепригодностьВременнаяПредставление1 (уникальных записей: 3); всего записей: 1627 ***\n",
            "*** УЗИДиагностика1_Заключение_ЗначениеПредставление (уникальных записей: 167); всего записей: 403 ***\n",
            "*** Хирургия1_МКБ101 (уникальных записей: 6); всего записей: 1011 ***\n",
            "*** Хирургия1_ПрофнепригодностьВременнаяПредставление1 (уникальных записей: 4); всего записей: 1010 ***\n",
            "*** Хирургия1_Диагноз_ЗначениеПредставление (уникальных записей: 6); всего записей: 1007 ***\n",
            "*** Офтальмология1_ПрофнепригодностьВременнаяПредставление2 (уникальных записей: 3); всего записей: 55 ***\n",
            "*** Терапия2_МКБ101 (уникальных записей: 4); всего записей: 111 ***\n",
            "*** Терапия2_ПрофнепригодностьВременнаяПредставление1 (уникальных записей: 4); всего записей: 111 ***\n",
            "*** Терапия2_ГоденНегоден_ЗначениеПредставление (уникальных записей: 3); всего записей: 116 ***\n",
            "*** Неврология2_МКБ101 (уникальных записей: 3); всего записей: 83 ***\n",
            "*** Неврология2_ПрофнепригодностьВременнаяПредставление1 (уникальных записей: 3); всего записей: 83 ***\n",
            "*** Неврология2_Диагноз_ЗначениеПредставление (уникальных записей: 3); всего записей: 83 ***\n",
            "*** УЗИДиагностика2_Заключение_ЗначениеПредставление (уникальных записей: 10); всего записей: 16 ***\n",
            "*** УЗИДиагностика1_МКБ101 (уникальных записей: 8); всего записей: 197 ***\n",
            "*** ПсихиатрияНаркология2_МКБ101 (уникальных записей: 3); всего записей: 75 ***\n",
            "*** ПсихиатрияНаркология2_Диагноз_ЗначениеПредставление (уникальных записей: 3); всего записей: 73 ***\n",
            "*** Терапия1_ПрофнепригодностьВременнаяПредставление2 (уникальных записей: 3); всего записей: 89 ***\n",
            "*** Гинекология2_МКБ101 (уникальных записей: 3); всего записей: 17 ***\n",
            "*** Гинекология2_Диагноз_ЗначениеПредставление (уникальных записей: 5); всего записей: 12 ***\n",
            "*** Хирургия2_МКБ101 (уникальных записей: 3); всего записей: 78 ***\n",
            "*** Хирургия2_ПрофнепригодностьВременнаяПредставление1 (уникальных записей: 3); всего записей: 78 ***\n",
            "*** Хирургия2_Диагноз_ЗначениеПредставление (уникальных записей: 3); всего записей: 79 ***\n",
            "*** ПроцедурнаяМедсестра1_МКБ101 (уникальных записей: 3); всего записей: 75 ***\n",
            "*** Стоматология2_МКБ101 (уникальных записей: 4); всего записей: 27 ***\n",
            "*** Стоматология2_Диагноз_ЗначениеПредставление (уникальных записей: 5); всего записей: 30 ***\n",
            "*** Оториноларингология2_МКБ101 (уникальных записей: 4); всего записей: 72 ***\n",
            "*** Оториноларингология2_Диагноз_ЗначениеПредставление (уникальных записей: 4); всего записей: 72 ***\n",
            "*** Дерматовенерология2_МКБ101 (уникальных записей: 3); всего записей: 51 ***\n",
            "*** Дерматовенерология2_Диагноз_ЗначениеПредставление (уникальных записей: 3); всего записей: 50 ***\n",
            "*** Терапия2_Диагноз_ЗначениеПредставление (уникальных записей: 5); всего записей: 61 ***\n",
            "*** Хирургия1_ПрофнепригодностьВременнаяПредставление2 (уникальных записей: 3); всего записей: 30 ***\n",
            "*** Хирургия2_ПрофнепригодностьВременнаяПредставление2 (уникальных записей: 3); всего записей: 30 ***\n",
            "*** Офтальмология2_МКБ101 (уникальных записей: 11); всего записей: 50 ***\n",
            "*** Офтальмология2_ПрофнепригодностьВременнаяПредставление1 (уникальных записей: 3); всего записей: 48 ***\n",
            "*** Офтальмология2_ПрофнепригодностьВременнаяПредставление2 (уникальных записей: 3); всего записей: 45 ***\n",
            "*** Офтальмология2_Диагноз_ЗначениеПредставление (уникальных записей: 18); всего записей: 51 ***\n",
            "*** Терапия2_ПрофнепригодностьВременнаяПредставление2 (уникальных записей: 3); всего записей: 73 ***\n",
            "*** Терапия1_Диагноз_ЗначениеПредставление (уникальных записей: 18); всего записей: 1192 ***\n"
          ]
        }
      ],
      "source": [
        "###\n",
        "df = clear_df(df)\n",
        "# Обход всех столбцов датафрейма c исходными данными и\n",
        "# формирование датасетов обучения\n",
        "for col in df.columns:\n",
        "  # count_unique_recs, unique_recs_list = get_unique_in_col(df, col)\n",
        "  #\n",
        "  if col == 'КлиентДатаРождения':\n",
        "    continue\n",
        "  # Введём переменные доступа к датафрейму параметров обучения для обрабатываемого столбца исходного датафрейма\n",
        "  #\n",
        "  # Индекс строки в dfcd с именем столбца из df\n",
        "  dfcd_index = dfcd[dfcd['name']==col].index[0]\n",
        "  #\n",
        "  # Датафрейм параметров обучения для столбца из df - находится в ячейке столбца df_tr датафрейма dfcd\n",
        "  # Столбцы аккумулируют информацию для обучения:\n",
        "  # col_name - копии всех уникальных значений по текущему столбцу исходных данных обучения (из df)\n",
        "  # d_norm - нормированный параметр для каждого уникального значения (в X_TRAIN)\n",
        "  # d_ohe - ohe-массив для каждого уникального значения (в X_TRAIN)\n",
        "  dfcd_tr = dfcd['df_tr'][dfcd_index]\n",
        "  #\n",
        "  # Сбрасываем датафрейм параметров обучения на случай повтороного вхождения в данную процедуру\n",
        "  dfcd_tr.drop(dfcd_tr.index, inplace=True)\n",
        "  #\n",
        "  # Изменяем тип данных столбца нормировочных данных\n",
        "  dfcd_tr[['d_norm']].astype(float)\n",
        "  #\n",
        "  # Получение списка и количества уникальных записей в столбце\n",
        "#  unique_count, unique_list = get_unique_in_col(df, col)\n",
        "  unique_list = df[col].unique().astype(str) # Получение списка уникальных записей в столбце\n",
        "  unique_count = df[col].nunique() # Получение количества уникальных записей в столбце\n",
        "  # Если среди уникальных нет \"не определено\", добавим\n",
        "  if EMPTY_FIELDS not in unique_list:\n",
        "    unique_list = np.append(unique_list, EMPTY_FIELDS)\n",
        "    unique_count += 1\n",
        "  #\n",
        "  print(f'*** {col} (уникальных записей: {unique_count}); всего записей: {len(df[df[col] != EMPTY_FIELDS])} ***')\n",
        "\n",
        "  #\n",
        "  # Шаг нормирования для текущего параметра\n",
        "  step_norm = (1 - 2 * DELTA_NORM)/(unique_count - 1)\n",
        "  #\n",
        "  # Стартовое значение параметра нормирования на каждой итерации обхода уникальных элементов\n",
        "  next = DELTA_NORM\n",
        "  #\n",
        "  # Переменная для обработки ситуации когда \"не определено\" идёт не сначала\n",
        "  next_unique = ''\n",
        "  # Цикл формирования параметров обучения (нормирование и ohe) всех уникальных\n",
        "  # значений текущего столбца исходных данных\n",
        "  for i in range(unique_count):\n",
        "    # dfcd_tr ['col_name', 'd_norm', 'd_ohe'] - заполняемый датафрейм параметров обучения\n",
        "    col_name_cur = unique_list[i] # 'col_name'\n",
        "    if i == 0: # Вставляем везде \"не определено\" на первое место\n",
        "      if col_name_cur != EMPTY_FIELDS:\n",
        "        next_unique = col_name_cur\n",
        "        col_name_cur = EMPTY_FIELDS\n",
        "    else:\n",
        "      if next_unique:\n",
        "        if col_name_cur == EMPTY_FIELDS:\n",
        "          col_name_cur = next_unique\n",
        "          next_unique = ''\n",
        "          # continue\n",
        "        else:\n",
        "          save_unique = col_name_cur\n",
        "          col_name_cur = next_unique\n",
        "          next_unique = save_unique\n",
        "    d_norm_cur = next\n",
        "    next += step_norm\n",
        "    d_ohe_cur = np.zeros((unique_count))\n",
        "    d_ohe_cur[i] = 1\n",
        "    dfcd_tr.loc[len(dfcd_tr.index )] = [col_name_cur, d_norm_cur, d_ohe_cur]\n",
        "#"
      ]
    },
    {
      "cell_type": "markdown",
      "source": [
        "###  Сохранение параметров обучающих выборок"
      ],
      "metadata": {
        "id": "Ja9XlSAJ_ggW"
      }
    },
    {
      "cell_type": "code",
      "source": [
        "dfcd.to_excel('/content/drive/MyDrive/УИИ(marphida)/Стажировка Профпатолог/ICdata_I(71)dfcd.xlsx', index=False)"
      ],
      "metadata": {
        "id": "3st47QT__uFV"
      },
      "execution_count": null,
      "outputs": []
    },
    {
      "cell_type": "markdown",
      "metadata": {
        "id": "q7_Df--nhe5V"
      },
      "source": [
        "## Проверка нескольких таблиц с подготовленными данными для датасетов"
      ]
    },
    {
      "cell_type": "code",
      "execution_count": null,
      "metadata": {
        "colab": {
          "base_uri": "https://localhost:8080/",
          "height": 631
        },
        "id": "eSha3GaUYFNO",
        "outputId": "73885520-3730-49bd-dc24-5e4ce1e541c1"
      },
      "outputs": [
        {
          "output_type": "stream",
          "name": "stdout",
          "text": [
            "Офтальмология2_Диагноз_ЗначениеПредставление\n"
          ]
        },
        {
          "output_type": "execute_result",
          "data": {
            "text/plain": [
              "                                             col_name    d_norm  \\\n",
              "0                                       не определено  0.010000   \n",
              "1                        [h52.0] гиперметропия_x000d_  0.067647   \n",
              "2   [h52.2] астигматизм_x000d_ описание: астигмати...  0.125294   \n",
              "3             [z00.0] общий медицинский осмотр_x000d_  0.182941   \n",
              "4                               [h52.1] миопия_x000d_  0.240588   \n",
              "5              [h50.9] косоглазие неуточненное_x000d_  0.298235   \n",
              "6   [t94.0] последствия травм, захватывающих неско...  0.355882   \n",
              "7   _x000d_ _x000d_ 1. [h52.0] гиперметропия_x000d...  0.413529   \n",
              "8                          [h52.2] астигматизм_x000d_  0.471176   \n",
              "9   [h52.2] астигматизм_x000d_ описание: сложный м...  0.528824   \n",
              "10  [h52.2] астигматизм_x000d_ описание: сложный м...  0.586471   \n",
              "11  [h52.2] астигматизм_x000d_ описание: ос смешан...  0.644118   \n",
              "12  [h52.1] миопия_x000d_ описание: миопия ср ст о...  0.701765   \n",
              "13  [h53.0] амблиопия вследствие анопсии_x000d_ оп...  0.759412   \n",
              "14  _x000d_ _x000d_ 1. [h25.0] начальная старческа...  0.817059   \n",
              "15  [h52.1] миопия_x000d_ описание: миопия ср ст о...  0.874706   \n",
              "16  _x000d_ _x000d_ 1. [h52.2] астигматизм_x000d_ ...  0.932353   \n",
              "17           [h47.2] атрофия зрительного нерва_x000d_  0.990000   \n",
              "\n",
              "                                                d_ohe  \n",
              "0   [1.0, 0.0, 0.0, 0.0, 0.0, 0.0, 0.0, 0.0, 0.0, ...  \n",
              "1   [0.0, 1.0, 0.0, 0.0, 0.0, 0.0, 0.0, 0.0, 0.0, ...  \n",
              "2   [0.0, 0.0, 1.0, 0.0, 0.0, 0.0, 0.0, 0.0, 0.0, ...  \n",
              "3   [0.0, 0.0, 0.0, 1.0, 0.0, 0.0, 0.0, 0.0, 0.0, ...  \n",
              "4   [0.0, 0.0, 0.0, 0.0, 1.0, 0.0, 0.0, 0.0, 0.0, ...  \n",
              "5   [0.0, 0.0, 0.0, 0.0, 0.0, 1.0, 0.0, 0.0, 0.0, ...  \n",
              "6   [0.0, 0.0, 0.0, 0.0, 0.0, 0.0, 1.0, 0.0, 0.0, ...  \n",
              "7   [0.0, 0.0, 0.0, 0.0, 0.0, 0.0, 0.0, 1.0, 0.0, ...  \n",
              "8   [0.0, 0.0, 0.0, 0.0, 0.0, 0.0, 0.0, 0.0, 1.0, ...  \n",
              "9   [0.0, 0.0, 0.0, 0.0, 0.0, 0.0, 0.0, 0.0, 0.0, ...  \n",
              "10  [0.0, 0.0, 0.0, 0.0, 0.0, 0.0, 0.0, 0.0, 0.0, ...  \n",
              "11  [0.0, 0.0, 0.0, 0.0, 0.0, 0.0, 0.0, 0.0, 0.0, ...  \n",
              "12  [0.0, 0.0, 0.0, 0.0, 0.0, 0.0, 0.0, 0.0, 0.0, ...  \n",
              "13  [0.0, 0.0, 0.0, 0.0, 0.0, 0.0, 0.0, 0.0, 0.0, ...  \n",
              "14  [0.0, 0.0, 0.0, 0.0, 0.0, 0.0, 0.0, 0.0, 0.0, ...  \n",
              "15  [0.0, 0.0, 0.0, 0.0, 0.0, 0.0, 0.0, 0.0, 0.0, ...  \n",
              "16  [0.0, 0.0, 0.0, 0.0, 0.0, 0.0, 0.0, 0.0, 0.0, ...  \n",
              "17  [0.0, 0.0, 0.0, 0.0, 0.0, 0.0, 0.0, 0.0, 0.0, ...  "
            ],
            "text/html": [
              "\n",
              "  <div id=\"df-97bc0088-8f7b-4a97-a90c-632395cfa74e\">\n",
              "    <div class=\"colab-df-container\">\n",
              "      <div>\n",
              "<style scoped>\n",
              "    .dataframe tbody tr th:only-of-type {\n",
              "        vertical-align: middle;\n",
              "    }\n",
              "\n",
              "    .dataframe tbody tr th {\n",
              "        vertical-align: top;\n",
              "    }\n",
              "\n",
              "    .dataframe thead th {\n",
              "        text-align: right;\n",
              "    }\n",
              "</style>\n",
              "<table border=\"1\" class=\"dataframe\">\n",
              "  <thead>\n",
              "    <tr style=\"text-align: right;\">\n",
              "      <th></th>\n",
              "      <th>col_name</th>\n",
              "      <th>d_norm</th>\n",
              "      <th>d_ohe</th>\n",
              "    </tr>\n",
              "  </thead>\n",
              "  <tbody>\n",
              "    <tr>\n",
              "      <th>0</th>\n",
              "      <td>не определено</td>\n",
              "      <td>0.010000</td>\n",
              "      <td>[1.0, 0.0, 0.0, 0.0, 0.0, 0.0, 0.0, 0.0, 0.0, ...</td>\n",
              "    </tr>\n",
              "    <tr>\n",
              "      <th>1</th>\n",
              "      <td>[h52.0] гиперметропия_x000d_</td>\n",
              "      <td>0.067647</td>\n",
              "      <td>[0.0, 1.0, 0.0, 0.0, 0.0, 0.0, 0.0, 0.0, 0.0, ...</td>\n",
              "    </tr>\n",
              "    <tr>\n",
              "      <th>2</th>\n",
              "      <td>[h52.2] астигматизм_x000d_ описание: астигмати...</td>\n",
              "      <td>0.125294</td>\n",
              "      <td>[0.0, 0.0, 1.0, 0.0, 0.0, 0.0, 0.0, 0.0, 0.0, ...</td>\n",
              "    </tr>\n",
              "    <tr>\n",
              "      <th>3</th>\n",
              "      <td>[z00.0] общий медицинский осмотр_x000d_</td>\n",
              "      <td>0.182941</td>\n",
              "      <td>[0.0, 0.0, 0.0, 1.0, 0.0, 0.0, 0.0, 0.0, 0.0, ...</td>\n",
              "    </tr>\n",
              "    <tr>\n",
              "      <th>4</th>\n",
              "      <td>[h52.1] миопия_x000d_</td>\n",
              "      <td>0.240588</td>\n",
              "      <td>[0.0, 0.0, 0.0, 0.0, 1.0, 0.0, 0.0, 0.0, 0.0, ...</td>\n",
              "    </tr>\n",
              "    <tr>\n",
              "      <th>5</th>\n",
              "      <td>[h50.9] косоглазие неуточненное_x000d_</td>\n",
              "      <td>0.298235</td>\n",
              "      <td>[0.0, 0.0, 0.0, 0.0, 0.0, 1.0, 0.0, 0.0, 0.0, ...</td>\n",
              "    </tr>\n",
              "    <tr>\n",
              "      <th>6</th>\n",
              "      <td>[t94.0] последствия травм, захватывающих неско...</td>\n",
              "      <td>0.355882</td>\n",
              "      <td>[0.0, 0.0, 0.0, 0.0, 0.0, 0.0, 1.0, 0.0, 0.0, ...</td>\n",
              "    </tr>\n",
              "    <tr>\n",
              "      <th>7</th>\n",
              "      <td>_x000d_ _x000d_ 1. [h52.0] гиперметропия_x000d...</td>\n",
              "      <td>0.413529</td>\n",
              "      <td>[0.0, 0.0, 0.0, 0.0, 0.0, 0.0, 0.0, 1.0, 0.0, ...</td>\n",
              "    </tr>\n",
              "    <tr>\n",
              "      <th>8</th>\n",
              "      <td>[h52.2] астигматизм_x000d_</td>\n",
              "      <td>0.471176</td>\n",
              "      <td>[0.0, 0.0, 0.0, 0.0, 0.0, 0.0, 0.0, 0.0, 1.0, ...</td>\n",
              "    </tr>\n",
              "    <tr>\n",
              "      <th>9</th>\n",
              "      <td>[h52.2] астигматизм_x000d_ описание: сложный м...</td>\n",
              "      <td>0.528824</td>\n",
              "      <td>[0.0, 0.0, 0.0, 0.0, 0.0, 0.0, 0.0, 0.0, 0.0, ...</td>\n",
              "    </tr>\n",
              "    <tr>\n",
              "      <th>10</th>\n",
              "      <td>[h52.2] астигматизм_x000d_ описание: сложный м...</td>\n",
              "      <td>0.586471</td>\n",
              "      <td>[0.0, 0.0, 0.0, 0.0, 0.0, 0.0, 0.0, 0.0, 0.0, ...</td>\n",
              "    </tr>\n",
              "    <tr>\n",
              "      <th>11</th>\n",
              "      <td>[h52.2] астигматизм_x000d_ описание: ос смешан...</td>\n",
              "      <td>0.644118</td>\n",
              "      <td>[0.0, 0.0, 0.0, 0.0, 0.0, 0.0, 0.0, 0.0, 0.0, ...</td>\n",
              "    </tr>\n",
              "    <tr>\n",
              "      <th>12</th>\n",
              "      <td>[h52.1] миопия_x000d_ описание: миопия ср ст о...</td>\n",
              "      <td>0.701765</td>\n",
              "      <td>[0.0, 0.0, 0.0, 0.0, 0.0, 0.0, 0.0, 0.0, 0.0, ...</td>\n",
              "    </tr>\n",
              "    <tr>\n",
              "      <th>13</th>\n",
              "      <td>[h53.0] амблиопия вследствие анопсии_x000d_ оп...</td>\n",
              "      <td>0.759412</td>\n",
              "      <td>[0.0, 0.0, 0.0, 0.0, 0.0, 0.0, 0.0, 0.0, 0.0, ...</td>\n",
              "    </tr>\n",
              "    <tr>\n",
              "      <th>14</th>\n",
              "      <td>_x000d_ _x000d_ 1. [h25.0] начальная старческа...</td>\n",
              "      <td>0.817059</td>\n",
              "      <td>[0.0, 0.0, 0.0, 0.0, 0.0, 0.0, 0.0, 0.0, 0.0, ...</td>\n",
              "    </tr>\n",
              "    <tr>\n",
              "      <th>15</th>\n",
              "      <td>[h52.1] миопия_x000d_ описание: миопия ср ст о...</td>\n",
              "      <td>0.874706</td>\n",
              "      <td>[0.0, 0.0, 0.0, 0.0, 0.0, 0.0, 0.0, 0.0, 0.0, ...</td>\n",
              "    </tr>\n",
              "    <tr>\n",
              "      <th>16</th>\n",
              "      <td>_x000d_ _x000d_ 1. [h52.2] астигматизм_x000d_ ...</td>\n",
              "      <td>0.932353</td>\n",
              "      <td>[0.0, 0.0, 0.0, 0.0, 0.0, 0.0, 0.0, 0.0, 0.0, ...</td>\n",
              "    </tr>\n",
              "    <tr>\n",
              "      <th>17</th>\n",
              "      <td>[h47.2] атрофия зрительного нерва_x000d_</td>\n",
              "      <td>0.990000</td>\n",
              "      <td>[0.0, 0.0, 0.0, 0.0, 0.0, 0.0, 0.0, 0.0, 0.0, ...</td>\n",
              "    </tr>\n",
              "  </tbody>\n",
              "</table>\n",
              "</div>\n",
              "      <button class=\"colab-df-convert\" onclick=\"convertToInteractive('df-97bc0088-8f7b-4a97-a90c-632395cfa74e')\"\n",
              "              title=\"Convert this dataframe to an interactive table.\"\n",
              "              style=\"display:none;\">\n",
              "        \n",
              "  <svg xmlns=\"http://www.w3.org/2000/svg\" height=\"24px\"viewBox=\"0 0 24 24\"\n",
              "       width=\"24px\">\n",
              "    <path d=\"M0 0h24v24H0V0z\" fill=\"none\"/>\n",
              "    <path d=\"M18.56 5.44l.94 2.06.94-2.06 2.06-.94-2.06-.94-.94-2.06-.94 2.06-2.06.94zm-11 1L8.5 8.5l.94-2.06 2.06-.94-2.06-.94L8.5 2.5l-.94 2.06-2.06.94zm10 10l.94 2.06.94-2.06 2.06-.94-2.06-.94-.94-2.06-.94 2.06-2.06.94z\"/><path d=\"M17.41 7.96l-1.37-1.37c-.4-.4-.92-.59-1.43-.59-.52 0-1.04.2-1.43.59L10.3 9.45l-7.72 7.72c-.78.78-.78 2.05 0 2.83L4 21.41c.39.39.9.59 1.41.59.51 0 1.02-.2 1.41-.59l7.78-7.78 2.81-2.81c.8-.78.8-2.07 0-2.86zM5.41 20L4 18.59l7.72-7.72 1.47 1.35L5.41 20z\"/>\n",
              "  </svg>\n",
              "      </button>\n",
              "      \n",
              "  <style>\n",
              "    .colab-df-container {\n",
              "      display:flex;\n",
              "      flex-wrap:wrap;\n",
              "      gap: 12px;\n",
              "    }\n",
              "\n",
              "    .colab-df-convert {\n",
              "      background-color: #E8F0FE;\n",
              "      border: none;\n",
              "      border-radius: 50%;\n",
              "      cursor: pointer;\n",
              "      display: none;\n",
              "      fill: #1967D2;\n",
              "      height: 32px;\n",
              "      padding: 0 0 0 0;\n",
              "      width: 32px;\n",
              "    }\n",
              "\n",
              "    .colab-df-convert:hover {\n",
              "      background-color: #E2EBFA;\n",
              "      box-shadow: 0px 1px 2px rgba(60, 64, 67, 0.3), 0px 1px 3px 1px rgba(60, 64, 67, 0.15);\n",
              "      fill: #174EA6;\n",
              "    }\n",
              "\n",
              "    [theme=dark] .colab-df-convert {\n",
              "      background-color: #3B4455;\n",
              "      fill: #D2E3FC;\n",
              "    }\n",
              "\n",
              "    [theme=dark] .colab-df-convert:hover {\n",
              "      background-color: #434B5C;\n",
              "      box-shadow: 0px 1px 3px 1px rgba(0, 0, 0, 0.15);\n",
              "      filter: drop-shadow(0px 1px 2px rgba(0, 0, 0, 0.3));\n",
              "      fill: #FFFFFF;\n",
              "    }\n",
              "  </style>\n",
              "\n",
              "      <script>\n",
              "        const buttonEl =\n",
              "          document.querySelector('#df-97bc0088-8f7b-4a97-a90c-632395cfa74e button.colab-df-convert');\n",
              "        buttonEl.style.display =\n",
              "          google.colab.kernel.accessAllowed ? 'block' : 'none';\n",
              "\n",
              "        async function convertToInteractive(key) {\n",
              "          const element = document.querySelector('#df-97bc0088-8f7b-4a97-a90c-632395cfa74e');\n",
              "          const dataTable =\n",
              "            await google.colab.kernel.invokeFunction('convertToInteractive',\n",
              "                                                     [key], {});\n",
              "          if (!dataTable) return;\n",
              "\n",
              "          const docLinkHtml = 'Like what you see? Visit the ' +\n",
              "            '<a target=\"_blank\" href=https://colab.research.google.com/notebooks/data_table.ipynb>data table notebook</a>'\n",
              "            + ' to learn more about interactive tables.';\n",
              "          element.innerHTML = '';\n",
              "          dataTable['output_type'] = 'display_data';\n",
              "          await google.colab.output.renderOutput(dataTable, element);\n",
              "          const docLink = document.createElement('div');\n",
              "          docLink.innerHTML = docLinkHtml;\n",
              "          element.appendChild(docLink);\n",
              "        }\n",
              "      </script>\n",
              "    </div>\n",
              "  </div>\n",
              "  "
            ]
          },
          "metadata": {},
          "execution_count": 25
        }
      ],
      "source": [
        "print(dfcd.iloc[68]['name'])\n",
        "dfcd['df_tr'][68]"
      ]
    },
    {
      "cell_type": "code",
      "execution_count": null,
      "metadata": {
        "colab": {
          "base_uri": "https://localhost:8080/",
          "height": 161
        },
        "id": "-in6pe_Dic1x",
        "outputId": "2b699066-b981-4553-d02b-324be1763528"
      },
      "outputs": [
        {
          "output_type": "stream",
          "name": "stdout",
          "text": [
            "Терапия2_ПрофнепригодностьВременнаяПредставление2\n"
          ]
        },
        {
          "output_type": "execute_result",
          "data": {
            "text/plain": [
              "        col_name  d_norm            d_ohe\n",
              "0  не определено    0.01  [1.0, 0.0, 0.0]\n",
              "1       не годен    0.50  [0.0, 1.0, 0.0]\n",
              "2          годен    0.99  [0.0, 0.0, 1.0]"
            ],
            "text/html": [
              "\n",
              "  <div id=\"df-0d31bc5a-0117-442d-a948-3e5f6c4e00ad\">\n",
              "    <div class=\"colab-df-container\">\n",
              "      <div>\n",
              "<style scoped>\n",
              "    .dataframe tbody tr th:only-of-type {\n",
              "        vertical-align: middle;\n",
              "    }\n",
              "\n",
              "    .dataframe tbody tr th {\n",
              "        vertical-align: top;\n",
              "    }\n",
              "\n",
              "    .dataframe thead th {\n",
              "        text-align: right;\n",
              "    }\n",
              "</style>\n",
              "<table border=\"1\" class=\"dataframe\">\n",
              "  <thead>\n",
              "    <tr style=\"text-align: right;\">\n",
              "      <th></th>\n",
              "      <th>col_name</th>\n",
              "      <th>d_norm</th>\n",
              "      <th>d_ohe</th>\n",
              "    </tr>\n",
              "  </thead>\n",
              "  <tbody>\n",
              "    <tr>\n",
              "      <th>0</th>\n",
              "      <td>не определено</td>\n",
              "      <td>0.01</td>\n",
              "      <td>[1.0, 0.0, 0.0]</td>\n",
              "    </tr>\n",
              "    <tr>\n",
              "      <th>1</th>\n",
              "      <td>не годен</td>\n",
              "      <td>0.50</td>\n",
              "      <td>[0.0, 1.0, 0.0]</td>\n",
              "    </tr>\n",
              "    <tr>\n",
              "      <th>2</th>\n",
              "      <td>годен</td>\n",
              "      <td>0.99</td>\n",
              "      <td>[0.0, 0.0, 1.0]</td>\n",
              "    </tr>\n",
              "  </tbody>\n",
              "</table>\n",
              "</div>\n",
              "      <button class=\"colab-df-convert\" onclick=\"convertToInteractive('df-0d31bc5a-0117-442d-a948-3e5f6c4e00ad')\"\n",
              "              title=\"Convert this dataframe to an interactive table.\"\n",
              "              style=\"display:none;\">\n",
              "        \n",
              "  <svg xmlns=\"http://www.w3.org/2000/svg\" height=\"24px\"viewBox=\"0 0 24 24\"\n",
              "       width=\"24px\">\n",
              "    <path d=\"M0 0h24v24H0V0z\" fill=\"none\"/>\n",
              "    <path d=\"M18.56 5.44l.94 2.06.94-2.06 2.06-.94-2.06-.94-.94-2.06-.94 2.06-2.06.94zm-11 1L8.5 8.5l.94-2.06 2.06-.94-2.06-.94L8.5 2.5l-.94 2.06-2.06.94zm10 10l.94 2.06.94-2.06 2.06-.94-2.06-.94-.94-2.06-.94 2.06-2.06.94z\"/><path d=\"M17.41 7.96l-1.37-1.37c-.4-.4-.92-.59-1.43-.59-.52 0-1.04.2-1.43.59L10.3 9.45l-7.72 7.72c-.78.78-.78 2.05 0 2.83L4 21.41c.39.39.9.59 1.41.59.51 0 1.02-.2 1.41-.59l7.78-7.78 2.81-2.81c.8-.78.8-2.07 0-2.86zM5.41 20L4 18.59l7.72-7.72 1.47 1.35L5.41 20z\"/>\n",
              "  </svg>\n",
              "      </button>\n",
              "      \n",
              "  <style>\n",
              "    .colab-df-container {\n",
              "      display:flex;\n",
              "      flex-wrap:wrap;\n",
              "      gap: 12px;\n",
              "    }\n",
              "\n",
              "    .colab-df-convert {\n",
              "      background-color: #E8F0FE;\n",
              "      border: none;\n",
              "      border-radius: 50%;\n",
              "      cursor: pointer;\n",
              "      display: none;\n",
              "      fill: #1967D2;\n",
              "      height: 32px;\n",
              "      padding: 0 0 0 0;\n",
              "      width: 32px;\n",
              "    }\n",
              "\n",
              "    .colab-df-convert:hover {\n",
              "      background-color: #E2EBFA;\n",
              "      box-shadow: 0px 1px 2px rgba(60, 64, 67, 0.3), 0px 1px 3px 1px rgba(60, 64, 67, 0.15);\n",
              "      fill: #174EA6;\n",
              "    }\n",
              "\n",
              "    [theme=dark] .colab-df-convert {\n",
              "      background-color: #3B4455;\n",
              "      fill: #D2E3FC;\n",
              "    }\n",
              "\n",
              "    [theme=dark] .colab-df-convert:hover {\n",
              "      background-color: #434B5C;\n",
              "      box-shadow: 0px 1px 3px 1px rgba(0, 0, 0, 0.15);\n",
              "      filter: drop-shadow(0px 1px 2px rgba(0, 0, 0, 0.3));\n",
              "      fill: #FFFFFF;\n",
              "    }\n",
              "  </style>\n",
              "\n",
              "      <script>\n",
              "        const buttonEl =\n",
              "          document.querySelector('#df-0d31bc5a-0117-442d-a948-3e5f6c4e00ad button.colab-df-convert');\n",
              "        buttonEl.style.display =\n",
              "          google.colab.kernel.accessAllowed ? 'block' : 'none';\n",
              "\n",
              "        async function convertToInteractive(key) {\n",
              "          const element = document.querySelector('#df-0d31bc5a-0117-442d-a948-3e5f6c4e00ad');\n",
              "          const dataTable =\n",
              "            await google.colab.kernel.invokeFunction('convertToInteractive',\n",
              "                                                     [key], {});\n",
              "          if (!dataTable) return;\n",
              "\n",
              "          const docLinkHtml = 'Like what you see? Visit the ' +\n",
              "            '<a target=\"_blank\" href=https://colab.research.google.com/notebooks/data_table.ipynb>data table notebook</a>'\n",
              "            + ' to learn more about interactive tables.';\n",
              "          element.innerHTML = '';\n",
              "          dataTable['output_type'] = 'display_data';\n",
              "          await google.colab.output.renderOutput(dataTable, element);\n",
              "          const docLink = document.createElement('div');\n",
              "          docLink.innerHTML = docLinkHtml;\n",
              "          element.appendChild(docLink);\n",
              "        }\n",
              "      </script>\n",
              "    </div>\n",
              "  </div>\n",
              "  "
            ]
          },
          "metadata": {},
          "execution_count": 26
        }
      ],
      "source": [
        "print(dfcd.iloc[69]['name'])\n",
        "dfcd['df_tr'][69]"
      ]
    },
    {
      "cell_type": "markdown",
      "metadata": {
        "id": "mmGmqng7mKqj"
      },
      "source": [
        "# ФОРМИРОВАНИЕ ОБУЧАЮЩИХ ВЫБОРОК"
      ]
    },
    {
      "cell_type": "code",
      "source": [
        "print(dfcd.iloc[4]['name'])\n",
        "dfcd['df_tr'][4]\n",
        "#df"
      ],
      "metadata": {
        "colab": {
          "base_uri": "https://localhost:8080/",
          "height": 192
        },
        "id": "PnyZSE2SUMDD",
        "outputId": "c96b46fc-8336-4eca-e97d-8471792dddc2"
      },
      "execution_count": null,
      "outputs": [
        {
          "output_type": "stream",
          "name": "stdout",
          "text": [
            "ЗаключениеМК\n"
          ]
        },
        {
          "output_type": "execute_result",
          "data": {
            "text/plain": [
              "            col_name    d_norm                 d_ohe\n",
              "0      не определено  0.010000  [1.0, 0.0, 0.0, 0.0]\n",
              "1              годен  0.336667  [0.0, 1.0, 0.0, 0.0]\n",
              "2           не годен  0.663333  [0.0, 0.0, 1.0, 0.0]\n",
              "3  ограниченно годен  0.990000  [0.0, 0.0, 0.0, 1.0]"
            ],
            "text/html": [
              "\n",
              "  <div id=\"df-58982b3f-5711-42b2-88be-3fd079d6b512\">\n",
              "    <div class=\"colab-df-container\">\n",
              "      <div>\n",
              "<style scoped>\n",
              "    .dataframe tbody tr th:only-of-type {\n",
              "        vertical-align: middle;\n",
              "    }\n",
              "\n",
              "    .dataframe tbody tr th {\n",
              "        vertical-align: top;\n",
              "    }\n",
              "\n",
              "    .dataframe thead th {\n",
              "        text-align: right;\n",
              "    }\n",
              "</style>\n",
              "<table border=\"1\" class=\"dataframe\">\n",
              "  <thead>\n",
              "    <tr style=\"text-align: right;\">\n",
              "      <th></th>\n",
              "      <th>col_name</th>\n",
              "      <th>d_norm</th>\n",
              "      <th>d_ohe</th>\n",
              "    </tr>\n",
              "  </thead>\n",
              "  <tbody>\n",
              "    <tr>\n",
              "      <th>0</th>\n",
              "      <td>не определено</td>\n",
              "      <td>0.010000</td>\n",
              "      <td>[1.0, 0.0, 0.0, 0.0]</td>\n",
              "    </tr>\n",
              "    <tr>\n",
              "      <th>1</th>\n",
              "      <td>годен</td>\n",
              "      <td>0.336667</td>\n",
              "      <td>[0.0, 1.0, 0.0, 0.0]</td>\n",
              "    </tr>\n",
              "    <tr>\n",
              "      <th>2</th>\n",
              "      <td>не годен</td>\n",
              "      <td>0.663333</td>\n",
              "      <td>[0.0, 0.0, 1.0, 0.0]</td>\n",
              "    </tr>\n",
              "    <tr>\n",
              "      <th>3</th>\n",
              "      <td>ограниченно годен</td>\n",
              "      <td>0.990000</td>\n",
              "      <td>[0.0, 0.0, 0.0, 1.0]</td>\n",
              "    </tr>\n",
              "  </tbody>\n",
              "</table>\n",
              "</div>\n",
              "      <button class=\"colab-df-convert\" onclick=\"convertToInteractive('df-58982b3f-5711-42b2-88be-3fd079d6b512')\"\n",
              "              title=\"Convert this dataframe to an interactive table.\"\n",
              "              style=\"display:none;\">\n",
              "        \n",
              "  <svg xmlns=\"http://www.w3.org/2000/svg\" height=\"24px\"viewBox=\"0 0 24 24\"\n",
              "       width=\"24px\">\n",
              "    <path d=\"M0 0h24v24H0V0z\" fill=\"none\"/>\n",
              "    <path d=\"M18.56 5.44l.94 2.06.94-2.06 2.06-.94-2.06-.94-.94-2.06-.94 2.06-2.06.94zm-11 1L8.5 8.5l.94-2.06 2.06-.94-2.06-.94L8.5 2.5l-.94 2.06-2.06.94zm10 10l.94 2.06.94-2.06 2.06-.94-2.06-.94-.94-2.06-.94 2.06-2.06.94z\"/><path d=\"M17.41 7.96l-1.37-1.37c-.4-.4-.92-.59-1.43-.59-.52 0-1.04.2-1.43.59L10.3 9.45l-7.72 7.72c-.78.78-.78 2.05 0 2.83L4 21.41c.39.39.9.59 1.41.59.51 0 1.02-.2 1.41-.59l7.78-7.78 2.81-2.81c.8-.78.8-2.07 0-2.86zM5.41 20L4 18.59l7.72-7.72 1.47 1.35L5.41 20z\"/>\n",
              "  </svg>\n",
              "      </button>\n",
              "      \n",
              "  <style>\n",
              "    .colab-df-container {\n",
              "      display:flex;\n",
              "      flex-wrap:wrap;\n",
              "      gap: 12px;\n",
              "    }\n",
              "\n",
              "    .colab-df-convert {\n",
              "      background-color: #E8F0FE;\n",
              "      border: none;\n",
              "      border-radius: 50%;\n",
              "      cursor: pointer;\n",
              "      display: none;\n",
              "      fill: #1967D2;\n",
              "      height: 32px;\n",
              "      padding: 0 0 0 0;\n",
              "      width: 32px;\n",
              "    }\n",
              "\n",
              "    .colab-df-convert:hover {\n",
              "      background-color: #E2EBFA;\n",
              "      box-shadow: 0px 1px 2px rgba(60, 64, 67, 0.3), 0px 1px 3px 1px rgba(60, 64, 67, 0.15);\n",
              "      fill: #174EA6;\n",
              "    }\n",
              "\n",
              "    [theme=dark] .colab-df-convert {\n",
              "      background-color: #3B4455;\n",
              "      fill: #D2E3FC;\n",
              "    }\n",
              "\n",
              "    [theme=dark] .colab-df-convert:hover {\n",
              "      background-color: #434B5C;\n",
              "      box-shadow: 0px 1px 3px 1px rgba(0, 0, 0, 0.15);\n",
              "      filter: drop-shadow(0px 1px 2px rgba(0, 0, 0, 0.3));\n",
              "      fill: #FFFFFF;\n",
              "    }\n",
              "  </style>\n",
              "\n",
              "      <script>\n",
              "        const buttonEl =\n",
              "          document.querySelector('#df-58982b3f-5711-42b2-88be-3fd079d6b512 button.colab-df-convert');\n",
              "        buttonEl.style.display =\n",
              "          google.colab.kernel.accessAllowed ? 'block' : 'none';\n",
              "\n",
              "        async function convertToInteractive(key) {\n",
              "          const element = document.querySelector('#df-58982b3f-5711-42b2-88be-3fd079d6b512');\n",
              "          const dataTable =\n",
              "            await google.colab.kernel.invokeFunction('convertToInteractive',\n",
              "                                                     [key], {});\n",
              "          if (!dataTable) return;\n",
              "\n",
              "          const docLinkHtml = 'Like what you see? Visit the ' +\n",
              "            '<a target=\"_blank\" href=https://colab.research.google.com/notebooks/data_table.ipynb>data table notebook</a>'\n",
              "            + ' to learn more about interactive tables.';\n",
              "          element.innerHTML = '';\n",
              "          dataTable['output_type'] = 'display_data';\n",
              "          await google.colab.output.renderOutput(dataTable, element);\n",
              "          const docLink = document.createElement('div');\n",
              "          docLink.innerHTML = docLinkHtml;\n",
              "          element.appendChild(docLink);\n",
              "        }\n",
              "      </script>\n",
              "    </div>\n",
              "  </div>\n",
              "  "
            ]
          },
          "metadata": {},
          "execution_count": 27
        }
      ]
    },
    {
      "cell_type": "markdown",
      "source": [
        "## Функция создания обучающих выборок"
      ],
      "metadata": {
        "id": "DXqJmrDJ5x3I"
      }
    },
    {
      "cell_type": "code",
      "execution_count": null,
      "metadata": {
        "id": "holXQIp4nGP2"
      },
      "outputs": [],
      "source": [
        "# Создание выборок из глобального датафрейма *df* и датафрейма параметров обучения *dfcd*\n",
        "def make_tr_arrays(df, zmk_no = True): # zmk_no \"ЗаключениеМК\": True  - с учётом \"Не определено\"\n",
        "  #                                                             False - без \"Не определено\"\n",
        "  # Заготовки массивов обучения\n",
        "  x_train_norm = []\n",
        "  y_train_norm = []\n",
        "  x_train_ohe = []\n",
        "  y_train_ohe = []\n",
        "  ###\n",
        "  for index, row in df.iterrows(): # Обход всех строк и столбцов исходного датафрейма\n",
        "#    print('index=', index)\n",
        "    # Индекс столбца\n",
        "    df_col_index = 0\n",
        "    # Списки накопления текущей строки выборок обучения\n",
        "    x_norm = []\n",
        "    x_ohe = []\n",
        "    y_norm = []\n",
        "    y_ohe = []\n",
        "    for df_col_data in row:\n",
        "      if df_col_index == 0: # тип \"Дата\" пока не участвует в обучении\n",
        "        df_col_index += 1\n",
        "        continue\n",
        "      #\n",
        "      # Выделяем датафрейм с готовыми обучающими выборками для текущего слолбца (переменной обучения из df) из dfcd['df_tr']\n",
        "      #\n",
        "      # col_name - все уникальные значения по текущему столбцу исходных данных обучения (из df)\n",
        "      # d_norm - нормированный параметр для каждого уникального значения\n",
        "      # d_ohe - ohe-массив для каждого уникального значения\n",
        "      dfcd_tr = dfcd['df_tr'][dfcd[dfcd['ind_col']==df_col_index].index[0]]\n",
        "\n",
        "  #    print('Формирование выборки для \"', row.index[df_col_index], '\"')\n",
        "\n",
        "      # Обращение за \"d_norm\" по текущему значению параметра обучения\n",
        "      try:\n",
        "        par_norm_ = dfcd_tr[dfcd_tr.col_name==df_col_data].iloc[0, 1] # достаём значение \"d_norm\"\n",
        "        par_ohe_ = dfcd_tr[dfcd_tr.col_name==df_col_data].iloc[0, 2] # достаём значение \"d_ohe\"\n",
        "      except IndexError:\n",
        "        print('↓↓↓↓↓↓↓↓↓↓↓↓↓↓↓↓↓↓↓')\n",
        "        print('Формирование выборки для \"', row.index[df_col_index], '\"')\n",
        "        print(f'Значение \"{df_col_data}\" отсутствует в обученной модели')\n",
        "        print(f'Вносим параметры значения \"{EMPTY_FIELDS}\". (Сохранить текущие данные по \"{row.index[df_col_index]}\" для дообучения...)')\n",
        "        print('↑↑↑↑↑↑↑↑↑↑↑↑↑↑↑↑↑↑↑')\n",
        "        par_norm_ = dfcd_tr[dfcd_tr.col_name==EMPTY_FIELDS].iloc[0, 1] # достаём значение \"d_norm\"\n",
        "        par_ohe_ = dfcd_tr[dfcd_tr.col_name==EMPTY_FIELDS].iloc[0, 2] # достаём значение \"d_ohe\"\n",
        "\n",
        "      if df_col_index == 4: # тип \"ЗаключениеМК\" целевой, формируется отдельно\n",
        "        if zmk_no == False: # Для датасета, очищенного от \"Не определено\" - оставить только \"Годен\", \"Не годен\", \"Ограниченно годен\"\n",
        "          if par_norm_ < 0.5:\n",
        "            par_norm_ = DELTA_NORM\n",
        "          elif 0.9 > par_norm_ > 0.5:\n",
        "            par_norm_ = 0.5\n",
        "          par_ohe_ = np.delete(par_ohe_, 0)\n",
        "        y_norm.append(par_norm_)\n",
        "        y_ohe.append(par_ohe_)\n",
        "\n",
        "      else:\n",
        "        x_norm.append(par_norm_)\n",
        "        x_ohe.append(par_ohe_)\n",
        "      df_col_index += 1\n",
        "    ###\n",
        "    x_item_norm = np.hstack(x_norm)\n",
        "    x_item_ohe = np.hstack(x_ohe)\n",
        "    y_item_norm = np.hstack(y_norm)\n",
        "    y_item_ohe = np.hstack(y_ohe)\n",
        "\n",
        "    x_train_norm.append(x_item_norm)\n",
        "    x_train_ohe.append(x_item_ohe)\n",
        "    y_train_norm.append(y_item_norm)\n",
        "    y_train_ohe.append(y_item_ohe)\n",
        "  ###\n",
        "  return np.array(x_train_norm), np.array(x_train_ohe), np.array(y_train_norm), np.array(y_train_ohe)"
      ]
    },
    {
      "cell_type": "markdown",
      "source": [
        "### Создание выборок по исходникам"
      ],
      "metadata": {
        "id": "vCuhmQW3Bbtj"
      }
    },
    {
      "cell_type": "code",
      "source": [
        "###\n",
        "\n",
        "df_save = df_save.fillna('Не определено')\n",
        "dfb = dfb.fillna('Не определено')\n",
        "df0 = df0.fillna('Не определено')\n",
        "dfb0 = dfb0.fillna('Не определено')\n",
        "###\n",
        "print('df_save.shape = ', df_save.shape)\n",
        "print('dfb.shape = ', dfb.shape)\n",
        "print('df0.shape = ', df0.shape)\n",
        "print('dfb0.shape = ', dfb0.shape)\n",
        "###\n",
        "df_save = clear_df(df_save)\n",
        "dfb = clear_df(dfb)\n",
        "df0 = clear_df(df0)\n",
        "fgb0 = clear_df(dfb0)\n",
        "###\n",
        "\n",
        "x_train_norm_1, x_train_ohe_1, y_train_norm_1, y_train_ohe_1 = make_tr_arrays(df_save)\n",
        "print('x_train_norm_1.shape = ', x_train_norm_1.shape)\n",
        "print('x_train_ohe_1.shape = ', x_train_ohe_1.shape)\n",
        "print('y_train_norm_1.shape = ', y_train_norm_1.shape)\n",
        "print('y_train_ohe_1.shape = ', y_train_ohe_1.shape)\n",
        "\n",
        "x_train_norm_1b, x_train_ohe_1b, y_train_norm_1b, y_train_ohe_1b = make_tr_arrays(dfb)\n",
        "print('x_train_norm_1b.shape = ', x_train_norm_1b.shape)\n",
        "print('x_train_ohe_1b.shape = ', x_train_ohe_1b.shape)\n",
        "print('y_train_norm_1b.shape = ', y_train_norm_1b.shape)\n",
        "print('y_train_ohe_1b.shape = ', y_train_ohe_1b.shape)\n",
        "\n",
        "x_train_norm_0, x_train_ohe_0, y_train_norm_0, y_train_ohe_0 = make_tr_arrays(df0, zmk_no = False)\n",
        "print('x_train_norm_0.shape = ', x_train_norm_0.shape)\n",
        "print('x_train_ohe_0.shape = ', x_train_ohe_0.shape)\n",
        "print('y_train_norm_0.shape = ', y_train_norm_0.shape)\n",
        "print('y_train_ohe_0.shape = ', y_train_ohe_0.shape)\n",
        "\n",
        "x_train_norm_0b, x_train_ohe_0b, y_train_norm_0b, y_train_ohe_0b = make_tr_arrays(dfb0, zmk_no = False)\n",
        "print('x_train_norm_0b.shape = ', x_train_norm_0b.shape)\n",
        "print('x_train_ohe_0b.shape = ', x_train_ohe_0b.shape)\n",
        "print('y_train_norm_0b.shape = ', y_train_norm_0b.shape)\n",
        "print('y_train_ohe_0b.shape = ', y_train_ohe_0b.shape)\n",
        "\n",
        "#x_train_norm = np.array(x_train_norm)\n",
        "#x_train_ohe = np.array(x_train_ohe)\n",
        "#y_train_norm = np.array(y_train_norm)\n",
        "#y_train_ohe = np.array(y_train_ohe)\n",
        "\n",
        "#print(x_train_norm.shape)\n",
        "#print(x_train_ohe.shape)\n",
        "#print(y_train_norm.shape)\n",
        "#print(y_train_ohe.shape)\n",
        "\n",
        "np.save('/content/drive/MyDrive/УИИ(marphida)/Стажировка Профпатолог/x_train_norm_1.npy', x_train_norm_1)\n",
        "np.save('/content/drive/MyDrive/УИИ(marphida)/Стажировка Профпатолог/x_train_ohe_1.npy', x_train_ohe_1)\n",
        "np.save('/content/drive/MyDrive/УИИ(marphida)/Стажировка Профпатолог/y_train_norm_1.npy', y_train_norm_1)\n",
        "np.save('/content/drive/MyDrive/УИИ(marphida)/Стажировка Профпатолог/y_train_ohe_1.npy', y_train_ohe_1)\n",
        "\n",
        "np.save('/content/drive/MyDrive/УИИ(marphida)/Стажировка Профпатолог/x_train_norm_1b.npy', x_train_norm_1b)\n",
        "np.save('/content/drive/MyDrive/УИИ(marphida)/Стажировка Профпатолог/x_train_ohe_1b.npy', x_train_ohe_1b)\n",
        "np.save('/content/drive/MyDrive/УИИ(marphida)/Стажировка Профпатолог/y_train_norm_1b.npy', y_train_norm_1b)\n",
        "np.save('/content/drive/MyDrive/УИИ(marphida)/Стажировка Профпатолог/y_train_ohe_1b.npy', y_train_ohe_1b)\n",
        "\n",
        "np.save('/content/drive/MyDrive/УИИ(marphida)/Стажировка Профпатолог/x_train_norm_0.npy', x_train_norm_0)\n",
        "np.save('/content/drive/MyDrive/УИИ(marphida)/Стажировка Профпатолог/x_train_ohe_0.npy', x_train_ohe_0)\n",
        "np.save('/content/drive/MyDrive/УИИ(marphida)/Стажировка Профпатолог/y_train_norm_0.npy', y_train_norm_0)\n",
        "np.save('/content/drive/MyDrive/УИИ(marphida)/Стажировка Профпатолог/y_train_ohe_0.npy', y_train_ohe_0)\n",
        "\n",
        "np.save('/content/drive/MyDrive/УИИ(marphida)/Стажировка Профпатолог/x_train_norm_0b.npy', x_train_norm_0b)\n",
        "np.save('/content/drive/MyDrive/УИИ(marphida)/Стажировка Профпатолог/x_train_ohe_0b.npy', x_train_ohe_0b)\n",
        "np.save('/content/drive/MyDrive/УИИ(marphida)/Стажировка Профпатолог/y_train_norm_0b.npy', y_train_norm_0b)\n",
        "np.save('/content/drive/MyDrive/УИИ(marphida)/Стажировка Профпатолог/y_train_ohe_0b.npy', y_train_ohe_0b)\n",
        "\n"
      ],
      "metadata": {
        "colab": {
          "base_uri": "https://localhost:8080/"
        },
        "id": "LU24_tYL--3K",
        "outputId": "46bb6779-c63f-41ee-ed51-82ccc9920c4f"
      },
      "execution_count": null,
      "outputs": [
        {
          "output_type": "stream",
          "name": "stdout",
          "text": [
            "x_train_norm_0.shape =  (1503, 69)\n",
            "x_train_ohe_0.shape =  (1503, 1987)\n",
            "y_train_norm_0.shape =  (1503, 1)\n",
            "y_train_ohe_0.shape =  (1503, 3)\n",
            "x_train_norm_0b.shape =  (4509, 69)\n",
            "x_train_ohe_0b.shape =  (4509, 1987)\n",
            "y_train_norm_0b.shape =  (4509, 1)\n",
            "y_train_ohe_0b.shape =  (4509, 3)\n"
          ]
        }
      ]
    },
    {
      "cell_type": "code",
      "source": [
        "len(y_train_ohe_0b[0])\n",
        "y_train_ohe_0b[3]"
      ],
      "metadata": {
        "colab": {
          "base_uri": "https://localhost:8080/"
        },
        "id": "kgFpv9uBaGTu",
        "outputId": "e35573ac-1d2e-4d9c-b8e7-5b2ef7d4febb"
      },
      "execution_count": null,
      "outputs": [
        {
          "output_type": "execute_result",
          "data": {
            "text/plain": [
              "array([0., 1., 0., 0.])"
            ]
          },
          "metadata": {},
          "execution_count": 39
        }
      ]
    },
    {
      "cell_type": "code",
      "source": [
        "a = np.array(['a', 'b', 'c'])\n",
        "a = np.delete(a, 0)\n",
        "a"
      ],
      "metadata": {
        "colab": {
          "base_uri": "https://localhost:8080/"
        },
        "id": "KWaZ0IbRbL_u",
        "outputId": "a18ca2a3-467f-426c-ad19-28326bb22322"
      },
      "execution_count": null,
      "outputs": [
        {
          "output_type": "execute_result",
          "data": {
            "text/plain": [
              "array(['b', 'c'], dtype='<U1')"
            ]
          },
          "metadata": {},
          "execution_count": 42
        }
      ]
    },
    {
      "cell_type": "code",
      "source": [
        "# Пример обработанных данных\n",
        "n = 0\n",
        "print(x_train_norm[n])\n",
        "print(y_train_norm[n])"
      ],
      "metadata": {
        "colab": {
          "base_uri": "https://localhost:8080/"
        },
        "id": "2uUhRexLDjfy",
        "outputId": "928068a8-6055-44bd-93fe-0dc9789d0145"
      },
      "execution_count": null,
      "outputs": [
        {
          "output_type": "stream",
          "name": "stdout",
          "text": [
            "[0.5        0.01553672 0.01162791 0.01191406 0.11888889 0.01\n",
            " 0.5        0.08538462 0.06157895 0.01       0.01771654 0.09166667\n",
            " 0.01       0.5        0.09166667 0.17333333 0.5        0.5\n",
            " 0.07533333 0.09909091 0.01       0.08538462 0.5        0.01\n",
            " 0.01       0.01       0.01       0.01       0.01       0.01\n",
            " 0.01       0.01       0.01       0.01       0.01       0.01\n",
            " 0.01       0.01       0.01       0.01       0.01       0.01\n",
            " 0.01       0.01       0.01       0.01       0.01       0.01\n",
            " 0.01       0.01       0.01       0.01       0.01       0.01\n",
            " 0.01       0.01       0.01       0.01       0.01       0.01\n",
            " 0.01       0.01       0.01       0.01       0.01       0.01\n",
            " 0.01       0.01       0.01      ]\n",
            "[0.33666667]\n"
          ]
        }
      ]
    },
    {
      "cell_type": "code",
      "source": [
        "# Пример обработанных данных\n",
        "n = 0\n",
        "print(x_train_ohe[n], f'| {len(x_train_ohe[n])} раз')\n",
        "print(y_train_ohe[n])"
      ],
      "metadata": {
        "colab": {
          "base_uri": "https://localhost:8080/"
        },
        "id": "ReoQGMkbFaQ-",
        "outputId": "4a7f24c1-44d5-43ac-c164-a4be42ad74ea"
      },
      "execution_count": null,
      "outputs": [
        {
          "output_type": "stream",
          "name": "stdout",
          "text": [
            "[0. 1. 0. ... 0. 0. 0.] | 1993 раз\n",
            "[0. 1. 0. 0.]\n"
          ]
        }
      ]
    },
    {
      "cell_type": "markdown",
      "source": [
        "## Сохранение обучающих выборок"
      ],
      "metadata": {
        "id": "ac946ccq4fcc"
      }
    },
    {
      "cell_type": "code",
      "source": [
        "np.save('/content/drive/MyDrive/УИИ(marphida)/Стажировка Профпатолог/x_train_norm.npy', x_train_norm)\n",
        "np.save('/content/drive/MyDrive/УИИ(marphida)/Стажировка Профпатолог/x_train_ohe.npy', x_train_ohe)\n",
        "np.save('/content/drive/MyDrive/УИИ(marphida)/Стажировка Профпатолог/y_train_norm.npy', y_train_norm)\n",
        "np.save('/content/drive/MyDrive/УИИ(marphida)/Стажировка Профпатолог/y_train_ohe.npy', y_train_ohe)"
      ],
      "metadata": {
        "id": "f3XBkDXXG4pa"
      },
      "execution_count": null,
      "outputs": []
    },
    {
      "cell_type": "code",
      "source": [],
      "metadata": {
        "id": "7XwH685rNGtI"
      },
      "execution_count": null,
      "outputs": []
    },
    {
      "cell_type": "code",
      "source": [
        "x_train_norm = np.load('/content/drive/MyDrive/УИИ(marphida)/Стажировка Профпатолог/x_train_norm.npy')\n",
        "x_train_ohe = np.load('/content/drive/MyDrive/УИИ(marphida)/Стажировка Профпатолог/x_train_ohe.npy')\n",
        "y_train_norm = np.load('/content/drive/MyDrive/УИИ(marphida)/Стажировка Профпатолог/y_train_norm.npy')\n",
        "y_train_ohe = np.load('/content/drive/MyDrive/УИИ(marphida)/Стажировка Профпатолог/y_train_ohe.npy')"
      ],
      "metadata": {
        "id": "pcDP5f2IKqbF"
      },
      "execution_count": null,
      "outputs": []
    },
    {
      "cell_type": "code",
      "source": [
        "df['Профессия'].where(df['Профессия'] >= 'ведущий специалист по организации обучения')"
      ],
      "metadata": {
        "colab": {
          "base_uri": "https://localhost:8080/"
        },
        "id": "5IO-h6yaJvtw",
        "outputId": "9e8b1857-cab5-4e3f-818d-3372c3992d89"
      },
      "execution_count": null,
      "outputs": [
        {
          "output_type": "execute_result",
          "data": {
            "text/plain": [
              "0          ведущий специалист по организации обучения\n",
              "1                                                 NaN\n",
              "2                                    главный менеджер\n",
              "3                                  главный специалист\n",
              "4                                  старший специалист\n",
              "                            ...                      \n",
              "1917                        директор по строительству\n",
              "1918    начальник производственно-технического отдела\n",
              "1919                              помощник кладовщика\n",
              "1920                                            повар\n",
              "1921                                              NaN\n",
              "Name: Профессия, Length: 1922, dtype: object"
            ]
          },
          "metadata": {},
          "execution_count": 23
        }
      ]
    },
    {
      "cell_type": "code",
      "source": [
        "np.min(x_val)\n",
        "y_train = utils.to_categorical(y_train, 10)\n",
        "y_test = utils.to_categorical(y_test, 10)\n",
        "y_val = utils.to_categorical(y_val, 10)\n"
      ],
      "metadata": {
        "id": "YFQDYWaH3vWn"
      },
      "execution_count": null,
      "outputs": []
    },
    {
      "cell_type": "code",
      "source": [
        "for index, row in df.iterrows():\n",
        "  print(index)\n",
        "  print(row[4])\n",
        "  break"
      ],
      "metadata": {
        "colab": {
          "base_uri": "https://localhost:8080/"
        },
        "id": "fCzCKuruZnYF",
        "outputId": "d3085f01-9b6c-47ea-e37e-1ebaa0e6f16d"
      },
      "execution_count": null,
      "outputs": [
        {
          "output_type": "stream",
          "name": "stdout",
          "text": [
            "0\n",
            "годен\n"
          ]
        }
      ]
    },
    {
      "cell_type": "code",
      "source": [
        "j = 0\n",
        "for index, row in df.iterrows(): # Обход всех строк и столбцов исходного датафрейма\n",
        "  i = 0\n",
        "  j += 1\n",
        "  print(index)\n",
        "  if j >= 4:\n",
        "    break\n",
        "  for col in row:\n",
        "    print(df[])\n",
        "    print(col)\n",
        "    i += 1\n",
        "    if i >= 5:\n",
        "      print('-----')\n",
        "      break"
      ],
      "metadata": {
        "colab": {
          "base_uri": "https://localhost:8080/",
          "height": 131
        },
        "id": "XWvmNUHqi5p9",
        "outputId": "71863eac-b295-4930-b8ab-48b184b48475"
      },
      "execution_count": null,
      "outputs": [
        {
          "output_type": "error",
          "ename": "SyntaxError",
          "evalue": "ignored",
          "traceback": [
            "\u001b[0;36m  File \u001b[0;32m\"<ipython-input-1-8db676181a27>\"\u001b[0;36m, line \u001b[0;32m9\u001b[0m\n\u001b[0;31m    print(df[])\u001b[0m\n\u001b[0m          ^\u001b[0m\n\u001b[0;31mSyntaxError\u001b[0m\u001b[0;31m:\u001b[0m invalid syntax. Perhaps you forgot a comma?\n"
          ]
        }
      ]
    },
    {
      "cell_type": "code",
      "source": [
        "df[4]"
      ],
      "metadata": {
        "id": "NELhCloNYXQt"
      },
      "execution_count": null,
      "outputs": []
    },
    {
      "cell_type": "code",
      "source": [
        "dfcd_tr = dfcd['df_tr'][dfcd[dfcd['name']=='ЗаключениеМК'].index[0]]\n",
        "dfcd_tr"
      ],
      "metadata": {
        "colab": {
          "base_uri": "https://localhost:8080/",
          "height": 175
        },
        "id": "ujETyU79RyL4",
        "outputId": "f63c966a-f0b4-4998-bf78-a4c2a74fdb5e"
      },
      "execution_count": null,
      "outputs": [
        {
          "output_type": "execute_result",
          "data": {
            "text/plain": [
              "            col_name    d_norm                 d_ohe\n",
              "0              годен  0.010000  [1.0, 0.0, 0.0, 0.0]\n",
              "1           не годен  0.336667  [0.0, 1.0, 0.0, 0.0]\n",
              "2  ограниченно годен  0.663333  [0.0, 0.0, 1.0, 0.0]\n",
              "3      не определено  0.990000  [0.0, 0.0, 0.0, 1.0]"
            ],
            "text/html": [
              "\n",
              "  <div id=\"df-a5a0024c-401a-4282-9188-a8d4a15d8b71\">\n",
              "    <div class=\"colab-df-container\">\n",
              "      <div>\n",
              "<style scoped>\n",
              "    .dataframe tbody tr th:only-of-type {\n",
              "        vertical-align: middle;\n",
              "    }\n",
              "\n",
              "    .dataframe tbody tr th {\n",
              "        vertical-align: top;\n",
              "    }\n",
              "\n",
              "    .dataframe thead th {\n",
              "        text-align: right;\n",
              "    }\n",
              "</style>\n",
              "<table border=\"1\" class=\"dataframe\">\n",
              "  <thead>\n",
              "    <tr style=\"text-align: right;\">\n",
              "      <th></th>\n",
              "      <th>col_name</th>\n",
              "      <th>d_norm</th>\n",
              "      <th>d_ohe</th>\n",
              "    </tr>\n",
              "  </thead>\n",
              "  <tbody>\n",
              "    <tr>\n",
              "      <th>0</th>\n",
              "      <td>годен</td>\n",
              "      <td>0.010000</td>\n",
              "      <td>[1.0, 0.0, 0.0, 0.0]</td>\n",
              "    </tr>\n",
              "    <tr>\n",
              "      <th>1</th>\n",
              "      <td>не годен</td>\n",
              "      <td>0.336667</td>\n",
              "      <td>[0.0, 1.0, 0.0, 0.0]</td>\n",
              "    </tr>\n",
              "    <tr>\n",
              "      <th>2</th>\n",
              "      <td>ограниченно годен</td>\n",
              "      <td>0.663333</td>\n",
              "      <td>[0.0, 0.0, 1.0, 0.0]</td>\n",
              "    </tr>\n",
              "    <tr>\n",
              "      <th>3</th>\n",
              "      <td>не определено</td>\n",
              "      <td>0.990000</td>\n",
              "      <td>[0.0, 0.0, 0.0, 1.0]</td>\n",
              "    </tr>\n",
              "  </tbody>\n",
              "</table>\n",
              "</div>\n",
              "      <button class=\"colab-df-convert\" onclick=\"convertToInteractive('df-a5a0024c-401a-4282-9188-a8d4a15d8b71')\"\n",
              "              title=\"Convert this dataframe to an interactive table.\"\n",
              "              style=\"display:none;\">\n",
              "        \n",
              "  <svg xmlns=\"http://www.w3.org/2000/svg\" height=\"24px\"viewBox=\"0 0 24 24\"\n",
              "       width=\"24px\">\n",
              "    <path d=\"M0 0h24v24H0V0z\" fill=\"none\"/>\n",
              "    <path d=\"M18.56 5.44l.94 2.06.94-2.06 2.06-.94-2.06-.94-.94-2.06-.94 2.06-2.06.94zm-11 1L8.5 8.5l.94-2.06 2.06-.94-2.06-.94L8.5 2.5l-.94 2.06-2.06.94zm10 10l.94 2.06.94-2.06 2.06-.94-2.06-.94-.94-2.06-.94 2.06-2.06.94z\"/><path d=\"M17.41 7.96l-1.37-1.37c-.4-.4-.92-.59-1.43-.59-.52 0-1.04.2-1.43.59L10.3 9.45l-7.72 7.72c-.78.78-.78 2.05 0 2.83L4 21.41c.39.39.9.59 1.41.59.51 0 1.02-.2 1.41-.59l7.78-7.78 2.81-2.81c.8-.78.8-2.07 0-2.86zM5.41 20L4 18.59l7.72-7.72 1.47 1.35L5.41 20z\"/>\n",
              "  </svg>\n",
              "      </button>\n",
              "      \n",
              "  <style>\n",
              "    .colab-df-container {\n",
              "      display:flex;\n",
              "      flex-wrap:wrap;\n",
              "      gap: 12px;\n",
              "    }\n",
              "\n",
              "    .colab-df-convert {\n",
              "      background-color: #E8F0FE;\n",
              "      border: none;\n",
              "      border-radius: 50%;\n",
              "      cursor: pointer;\n",
              "      display: none;\n",
              "      fill: #1967D2;\n",
              "      height: 32px;\n",
              "      padding: 0 0 0 0;\n",
              "      width: 32px;\n",
              "    }\n",
              "\n",
              "    .colab-df-convert:hover {\n",
              "      background-color: #E2EBFA;\n",
              "      box-shadow: 0px 1px 2px rgba(60, 64, 67, 0.3), 0px 1px 3px 1px rgba(60, 64, 67, 0.15);\n",
              "      fill: #174EA6;\n",
              "    }\n",
              "\n",
              "    [theme=dark] .colab-df-convert {\n",
              "      background-color: #3B4455;\n",
              "      fill: #D2E3FC;\n",
              "    }\n",
              "\n",
              "    [theme=dark] .colab-df-convert:hover {\n",
              "      background-color: #434B5C;\n",
              "      box-shadow: 0px 1px 3px 1px rgba(0, 0, 0, 0.15);\n",
              "      filter: drop-shadow(0px 1px 2px rgba(0, 0, 0, 0.3));\n",
              "      fill: #FFFFFF;\n",
              "    }\n",
              "  </style>\n",
              "\n",
              "      <script>\n",
              "        const buttonEl =\n",
              "          document.querySelector('#df-a5a0024c-401a-4282-9188-a8d4a15d8b71 button.colab-df-convert');\n",
              "        buttonEl.style.display =\n",
              "          google.colab.kernel.accessAllowed ? 'block' : 'none';\n",
              "\n",
              "        async function convertToInteractive(key) {\n",
              "          const element = document.querySelector('#df-a5a0024c-401a-4282-9188-a8d4a15d8b71');\n",
              "          const dataTable =\n",
              "            await google.colab.kernel.invokeFunction('convertToInteractive',\n",
              "                                                     [key], {});\n",
              "          if (!dataTable) return;\n",
              "\n",
              "          const docLinkHtml = 'Like what you see? Visit the ' +\n",
              "            '<a target=\"_blank\" href=https://colab.research.google.com/notebooks/data_table.ipynb>data table notebook</a>'\n",
              "            + ' to learn more about interactive tables.';\n",
              "          element.innerHTML = '';\n",
              "          dataTable['output_type'] = 'display_data';\n",
              "          await google.colab.output.renderOutput(dataTable, element);\n",
              "          const docLink = document.createElement('div');\n",
              "          docLink.innerHTML = docLinkHtml;\n",
              "          element.appendChild(docLink);\n",
              "        }\n",
              "      </script>\n",
              "    </div>\n",
              "  </div>\n",
              "  "
            ]
          },
          "metadata": {},
          "execution_count": 57
        }
      ]
    },
    {
      "cell_type": "code",
      "source": [
        "dfcd"
      ],
      "metadata": {
        "colab": {
          "base_uri": "https://localhost:8080/",
          "height": 502
        },
        "id": "owZxe6wgPkR4",
        "outputId": "41296b84-eb85-4de9-9ff4-eab789186a62"
      },
      "execution_count": null,
      "outputs": [
        {
          "output_type": "execute_result",
          "data": {
            "text/plain": [
              "                                                 name  ind_col  fill_cnt  \\\n",
              "0                                  КлиентДатаРождения        0      1922   \n",
              "1                                           КлиентПол        1      1922   \n",
              "2                                          Контрагент        2      1922   \n",
              "3                                           Профессия        3      1922   \n",
              "4                                        ЗаключениеМК        4      1515   \n",
              "..                                                ...      ...       ...   \n",
              "66  Офтальмология2_ПрофнепригодностьВременнаяПредс...       66        48   \n",
              "67  Офтальмология2_ПрофнепригодностьВременнаяПредс...       67        45   \n",
              "68       Офтальмология2_Диагноз_ЗначениеПредставление       68        51   \n",
              "69  Терапия2_ПрофнепригодностьВременнаяПредставление2       69        73   \n",
              "70             Терапия1_Диагноз_ЗначениеПредставление       70      1192   \n",
              "\n",
              "    unique_cnt       data_type  \\\n",
              "0         1794  datetime64[ns]   \n",
              "1            2          object   \n",
              "2          177          object   \n",
              "3          602          object   \n",
              "4            3          object   \n",
              "..         ...             ...   \n",
              "66           2          object   \n",
              "67           2          object   \n",
              "68          17          object   \n",
              "69           3          object   \n",
              "70          17          object   \n",
              "\n",
              "                                                df_tr  \n",
              "0   Empty DataFrame\n",
              "Columns: [col_name, d_norm, d_...  \n",
              "1     col_name  d_norm       d_ohe\n",
              "0  женский    0...  \n",
              "2                                    col_name    d...  \n",
              "3                                             col_...  \n",
              "4               col_name    d_norm                ...  \n",
              "..                                                ...  \n",
              "66            col_name  d_norm            d_ohe\n",
              "0 ...  \n",
              "67            col_name  d_norm            d_ohe\n",
              "0 ...  \n",
              "68                                               c...  \n",
              "69              col_name    d_norm                ...  \n",
              "70                                               c...  \n",
              "\n",
              "[71 rows x 6 columns]"
            ],
            "text/html": [
              "\n",
              "  <div id=\"df-350b3661-0740-4f17-b75f-938726a44df1\">\n",
              "    <div class=\"colab-df-container\">\n",
              "      <div>\n",
              "<style scoped>\n",
              "    .dataframe tbody tr th:only-of-type {\n",
              "        vertical-align: middle;\n",
              "    }\n",
              "\n",
              "    .dataframe tbody tr th {\n",
              "        vertical-align: top;\n",
              "    }\n",
              "\n",
              "    .dataframe thead th {\n",
              "        text-align: right;\n",
              "    }\n",
              "</style>\n",
              "<table border=\"1\" class=\"dataframe\">\n",
              "  <thead>\n",
              "    <tr style=\"text-align: right;\">\n",
              "      <th></th>\n",
              "      <th>name</th>\n",
              "      <th>ind_col</th>\n",
              "      <th>fill_cnt</th>\n",
              "      <th>unique_cnt</th>\n",
              "      <th>data_type</th>\n",
              "      <th>df_tr</th>\n",
              "    </tr>\n",
              "  </thead>\n",
              "  <tbody>\n",
              "    <tr>\n",
              "      <th>0</th>\n",
              "      <td>КлиентДатаРождения</td>\n",
              "      <td>0</td>\n",
              "      <td>1922</td>\n",
              "      <td>1794</td>\n",
              "      <td>datetime64[ns]</td>\n",
              "      <td>Empty DataFrame\n",
              "Columns: [col_name, d_norm, d_...</td>\n",
              "    </tr>\n",
              "    <tr>\n",
              "      <th>1</th>\n",
              "      <td>КлиентПол</td>\n",
              "      <td>1</td>\n",
              "      <td>1922</td>\n",
              "      <td>2</td>\n",
              "      <td>object</td>\n",
              "      <td>col_name  d_norm       d_ohe\n",
              "0  женский    0...</td>\n",
              "    </tr>\n",
              "    <tr>\n",
              "      <th>2</th>\n",
              "      <td>Контрагент</td>\n",
              "      <td>2</td>\n",
              "      <td>1922</td>\n",
              "      <td>177</td>\n",
              "      <td>object</td>\n",
              "      <td>col_name    d...</td>\n",
              "    </tr>\n",
              "    <tr>\n",
              "      <th>3</th>\n",
              "      <td>Профессия</td>\n",
              "      <td>3</td>\n",
              "      <td>1922</td>\n",
              "      <td>602</td>\n",
              "      <td>object</td>\n",
              "      <td>col_...</td>\n",
              "    </tr>\n",
              "    <tr>\n",
              "      <th>4</th>\n",
              "      <td>ЗаключениеМК</td>\n",
              "      <td>4</td>\n",
              "      <td>1515</td>\n",
              "      <td>3</td>\n",
              "      <td>object</td>\n",
              "      <td>col_name    d_norm                ...</td>\n",
              "    </tr>\n",
              "    <tr>\n",
              "      <th>...</th>\n",
              "      <td>...</td>\n",
              "      <td>...</td>\n",
              "      <td>...</td>\n",
              "      <td>...</td>\n",
              "      <td>...</td>\n",
              "      <td>...</td>\n",
              "    </tr>\n",
              "    <tr>\n",
              "      <th>66</th>\n",
              "      <td>Офтальмология2_ПрофнепригодностьВременнаяПредс...</td>\n",
              "      <td>66</td>\n",
              "      <td>48</td>\n",
              "      <td>2</td>\n",
              "      <td>object</td>\n",
              "      <td>col_name  d_norm            d_ohe\n",
              "0 ...</td>\n",
              "    </tr>\n",
              "    <tr>\n",
              "      <th>67</th>\n",
              "      <td>Офтальмология2_ПрофнепригодностьВременнаяПредс...</td>\n",
              "      <td>67</td>\n",
              "      <td>45</td>\n",
              "      <td>2</td>\n",
              "      <td>object</td>\n",
              "      <td>col_name  d_norm            d_ohe\n",
              "0 ...</td>\n",
              "    </tr>\n",
              "    <tr>\n",
              "      <th>68</th>\n",
              "      <td>Офтальмология2_Диагноз_ЗначениеПредставление</td>\n",
              "      <td>68</td>\n",
              "      <td>51</td>\n",
              "      <td>17</td>\n",
              "      <td>object</td>\n",
              "      <td>c...</td>\n",
              "    </tr>\n",
              "    <tr>\n",
              "      <th>69</th>\n",
              "      <td>Терапия2_ПрофнепригодностьВременнаяПредставление2</td>\n",
              "      <td>69</td>\n",
              "      <td>73</td>\n",
              "      <td>3</td>\n",
              "      <td>object</td>\n",
              "      <td>col_name    d_norm                ...</td>\n",
              "    </tr>\n",
              "    <tr>\n",
              "      <th>70</th>\n",
              "      <td>Терапия1_Диагноз_ЗначениеПредставление</td>\n",
              "      <td>70</td>\n",
              "      <td>1192</td>\n",
              "      <td>17</td>\n",
              "      <td>object</td>\n",
              "      <td>c...</td>\n",
              "    </tr>\n",
              "  </tbody>\n",
              "</table>\n",
              "<p>71 rows × 6 columns</p>\n",
              "</div>\n",
              "      <button class=\"colab-df-convert\" onclick=\"convertToInteractive('df-350b3661-0740-4f17-b75f-938726a44df1')\"\n",
              "              title=\"Convert this dataframe to an interactive table.\"\n",
              "              style=\"display:none;\">\n",
              "        \n",
              "  <svg xmlns=\"http://www.w3.org/2000/svg\" height=\"24px\"viewBox=\"0 0 24 24\"\n",
              "       width=\"24px\">\n",
              "    <path d=\"M0 0h24v24H0V0z\" fill=\"none\"/>\n",
              "    <path d=\"M18.56 5.44l.94 2.06.94-2.06 2.06-.94-2.06-.94-.94-2.06-.94 2.06-2.06.94zm-11 1L8.5 8.5l.94-2.06 2.06-.94-2.06-.94L8.5 2.5l-.94 2.06-2.06.94zm10 10l.94 2.06.94-2.06 2.06-.94-2.06-.94-.94-2.06-.94 2.06-2.06.94z\"/><path d=\"M17.41 7.96l-1.37-1.37c-.4-.4-.92-.59-1.43-.59-.52 0-1.04.2-1.43.59L10.3 9.45l-7.72 7.72c-.78.78-.78 2.05 0 2.83L4 21.41c.39.39.9.59 1.41.59.51 0 1.02-.2 1.41-.59l7.78-7.78 2.81-2.81c.8-.78.8-2.07 0-2.86zM5.41 20L4 18.59l7.72-7.72 1.47 1.35L5.41 20z\"/>\n",
              "  </svg>\n",
              "      </button>\n",
              "      \n",
              "  <style>\n",
              "    .colab-df-container {\n",
              "      display:flex;\n",
              "      flex-wrap:wrap;\n",
              "      gap: 12px;\n",
              "    }\n",
              "\n",
              "    .colab-df-convert {\n",
              "      background-color: #E8F0FE;\n",
              "      border: none;\n",
              "      border-radius: 50%;\n",
              "      cursor: pointer;\n",
              "      display: none;\n",
              "      fill: #1967D2;\n",
              "      height: 32px;\n",
              "      padding: 0 0 0 0;\n",
              "      width: 32px;\n",
              "    }\n",
              "\n",
              "    .colab-df-convert:hover {\n",
              "      background-color: #E2EBFA;\n",
              "      box-shadow: 0px 1px 2px rgba(60, 64, 67, 0.3), 0px 1px 3px 1px rgba(60, 64, 67, 0.15);\n",
              "      fill: #174EA6;\n",
              "    }\n",
              "\n",
              "    [theme=dark] .colab-df-convert {\n",
              "      background-color: #3B4455;\n",
              "      fill: #D2E3FC;\n",
              "    }\n",
              "\n",
              "    [theme=dark] .colab-df-convert:hover {\n",
              "      background-color: #434B5C;\n",
              "      box-shadow: 0px 1px 3px 1px rgba(0, 0, 0, 0.15);\n",
              "      filter: drop-shadow(0px 1px 2px rgba(0, 0, 0, 0.3));\n",
              "      fill: #FFFFFF;\n",
              "    }\n",
              "  </style>\n",
              "\n",
              "      <script>\n",
              "        const buttonEl =\n",
              "          document.querySelector('#df-350b3661-0740-4f17-b75f-938726a44df1 button.colab-df-convert');\n",
              "        buttonEl.style.display =\n",
              "          google.colab.kernel.accessAllowed ? 'block' : 'none';\n",
              "\n",
              "        async function convertToInteractive(key) {\n",
              "          const element = document.querySelector('#df-350b3661-0740-4f17-b75f-938726a44df1');\n",
              "          const dataTable =\n",
              "            await google.colab.kernel.invokeFunction('convertToInteractive',\n",
              "                                                     [key], {});\n",
              "          if (!dataTable) return;\n",
              "\n",
              "          const docLinkHtml = 'Like what you see? Visit the ' +\n",
              "            '<a target=\"_blank\" href=https://colab.research.google.com/notebooks/data_table.ipynb>data table notebook</a>'\n",
              "            + ' to learn more about interactive tables.';\n",
              "          element.innerHTML = '';\n",
              "          dataTable['output_type'] = 'display_data';\n",
              "          await google.colab.output.renderOutput(dataTable, element);\n",
              "          const docLink = document.createElement('div');\n",
              "          docLink.innerHTML = docLinkHtml;\n",
              "          element.appendChild(docLink);\n",
              "        }\n",
              "      </script>\n",
              "    </div>\n",
              "  </div>\n",
              "  "
            ]
          },
          "metadata": {},
          "execution_count": 56
        }
      ]
    }
  ],
  "metadata": {
    "colab": {
      "provenance": [],
      "toc_visible": true,
      "authorship_tag": "ABX9TyNhss0GEG2d2zT37g9XKCls",
      "include_colab_link": true
    },
    "kernelspec": {
      "display_name": "Python 3",
      "name": "python3"
    },
    "language_info": {
      "name": "python"
    }
  },
  "nbformat": 4,
  "nbformat_minor": 0
}