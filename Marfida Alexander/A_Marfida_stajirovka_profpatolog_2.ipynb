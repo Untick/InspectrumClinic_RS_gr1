{
  "nbformat": 4,
  "nbformat_minor": 0,
  "metadata": {
    "colab": {
      "provenance": [],
      "authorship_tag": "ABX9TyOImxDLGEdq0Iuoael7came",
      "include_colab_link": true
    },
    "kernelspec": {
      "name": "python3",
      "display_name": "Python 3"
    },
    "language_info": {
      "name": "python"
    }
  },
  "cells": [
    {
      "cell_type": "markdown",
      "metadata": {
        "id": "view-in-github",
        "colab_type": "text"
      },
      "source": [
        "<a href=\"https://colab.research.google.com/github/Untick/InspectrumClinic_RS_gr1/blob/main/Marfida%20Alexander/A_Marfida_stajirovka_profpatolog_2.ipynb\" target=\"_parent\"><img src=\"https://colab.research.google.com/assets/colab-badge.svg\" alt=\"Open In Colab\"/></a>"
      ]
    },
    {
      "cell_type": "code",
      "execution_count": null,
      "metadata": {
        "id": "_Mwp95k8OA-0"
      },
      "outputs": [],
      "source": []
    },
    {
      "cell_type": "markdown",
      "source": [
        "# Стажировка. Профпатолог (INSPECTRUM CLINIC)\n",
        "- Подготовка датасетов"
      ],
      "metadata": {
        "id": "j3G8UlvQwOlH"
      }
    },
    {
      "cell_type": "markdown",
      "source": [
        "## Загрузка датафрейма"
      ],
      "metadata": {
        "id": "hdc9cx75wWEG"
      }
    },
    {
      "cell_type": "code",
      "source": [],
      "metadata": {
        "id": "co8P5nfcCEIB"
      },
      "execution_count": null,
      "outputs": []
    },
    {
      "cell_type": "code",
      "source": [
        "# Подключение библиотек\n",
        "\n",
        "# Работа с массивами данных\n",
        "import numpy as np \n",
        "\n",
        "# Работа с табличными данными\n",
        "import pandas as pd\n",
        "\n",
        "# Функции-утилиты для работы с категориальными данными\n",
        "from tensorflow.keras import utils\n",
        "\n",
        "# Класс для конструирования последовательной модели нейронной сети\n",
        "from tensorflow.keras.models import Sequential, Model\n",
        "\n",
        "# Основные слои\n",
        "from tensorflow.keras.layers import Dense, Dropout, SpatialDropout1D, BatchNormalization, Embedding, Flatten, Activation, Input, concatenate\n",
        "from tensorflow.keras.layers import SimpleRNN, GRU, LSTM, Bidirectional, Conv1D, MaxPooling1D, GlobalMaxPooling1D\n",
        "\n",
        "# Оптимизаторы\n",
        "from tensorflow.keras.optimizers import Adam, Adadelta, SGD, Adagrad, RMSprop\n",
        "\n",
        "# Токенизатор для преобразования текстов в последовательности\n",
        "from tensorflow.keras.preprocessing.text import Tokenizer\n",
        "\n",
        "# Масштабирование данных\n",
        "from sklearn.preprocessing import StandardScaler\n",
        "\n",
        "# Загрузка датасетов из облака google\n",
        "import gdown\n",
        "\n",
        "# Регулярные выражения\n",
        "import re\n",
        "\n",
        "# Отрисовка графиков\n",
        "import matplotlib.pyplot as plt\n",
        "plt.style.use('dark_background')\n",
        "\n",
        "# Создание статистических графиков\n",
        "import seaborn as sns\n",
        "\n",
        "# Табличные данные\n",
        "from fastai.tabular import *\n",
        "\n",
        "# Метрики для расчета ошибок\n",
        "from sklearn.metrics import mean_squared_error, mean_absolute_error\n",
        "\n",
        "%matplotlib inline"
      ],
      "metadata": {
        "id": "hKQ4Vl91KMSk"
      },
      "execution_count": null,
      "outputs": []
    },
    {
      "cell_type": "code",
      "source": [
        "# Монтирование Goodle-диска\n",
        "from google.colab import drive\n",
        "drive.mount('/content/drive')"
      ],
      "metadata": {
        "colab": {
          "base_uri": "https://localhost:8080/"
        },
        "id": "hydfXxNiLWp6",
        "outputId": "dfbb7c62-e123-441e-fc21-be28db799771"
      },
      "execution_count": null,
      "outputs": [
        {
          "output_type": "stream",
          "name": "stdout",
          "text": [
            "Mounted at /content/drive\n"
          ]
        }
      ]
    },
    {
      "cell_type": "code",
      "source": [
        "df_backup = pd.read_excel('/content/drive/MyDrive/УИИ(marphida)/Стажировка Профпатолог/ICdata_I(71).xlsx')"
      ],
      "metadata": {
        "id": "6dTai89WCxWx"
      },
      "execution_count": null,
      "outputs": []
    },
    {
      "cell_type": "code",
      "source": [
        "# Создание рабочей копии датафрейма\n",
        "df = df_backup.copy()"
      ],
      "metadata": {
        "id": "oHj6363SLxcP"
      },
      "execution_count": null,
      "outputs": []
    },
    {
      "cell_type": "markdown",
      "source": [
        "## Служебные функции"
      ],
      "metadata": {
        "id": "Dh86jBHAcTCA"
      }
    },
    {
      "cell_type": "code",
      "source": [
        "# Глобальные переменные\n",
        "EMPTY_FIELDS = 'Не определено'"
      ],
      "metadata": {
        "id": "umEXFoQVY3u5"
      },
      "execution_count": null,
      "outputs": []
    },
    {
      "cell_type": "markdown",
      "source": [
        "### Функции подсчёта заполненности колонок"
      ],
      "metadata": {
        "id": "JJIF0wYQeubC"
      }
    },
    {
      "cell_type": "code",
      "source": [
        "# Аргументы - датафрейм и список наименований столбцов\n",
        "# Исключения: NaN\n",
        "#\n",
        "def count_columns_fill_not_na(df, arg_list):\n",
        "  count_list = 0\n",
        "  print('Текущая структура датафрейма: ', df.shape, '\\n')\n",
        "  for col_name in arg_list:\n",
        "    count_list += 1\n",
        "    print(f'*** {col_name}: ***') \n",
        "    print('Количество непустых элементов: ', len(df[~df[col_name].isna()]) )\n",
        "    print('Количество уникальных элементов: ', len(df.loc[~df[col_name].isnull(), col_name].unique()), '\\n')\n",
        "  print('Количество столбцов: ', count_list)"
      ],
      "metadata": {
        "id": "wxr_OnVEeq26"
      },
      "execution_count": null,
      "outputs": []
    },
    {
      "cell_type": "code",
      "source": [
        "# Аргументы - датафрейм и список наименований столбцов\n",
        "# Исключения: EMPTY_FIELDS (\"Не определено\")\n",
        "#\n",
        "def count_columns_fill(df, arg_list):\n",
        "  count_list = 0\n",
        "  print('Текущая структура датафрейма: ', df.shape, '\\n')\n",
        "  for col_name in arg_list:\n",
        "    count_list += 1\n",
        "    print(f'*** {col_name}: ***') \n",
        "    print('Количество непустых элементов: ', len(df[df[col_name] != EMPTY_FIELDS]) )\n",
        "    print('Количество уникальных элементов: ', len(df.loc[df[col_name] != EMPTY_FIELDS, col_name].unique()), '\\n')\n",
        "  print('Количество столбцов: ', count_list)"
      ],
      "metadata": {
        "id": "HVO5GPB_XvJL"
      },
      "execution_count": null,
      "outputs": []
    },
    {
      "cell_type": "markdown",
      "source": [
        "### Функция, возвращающая количество значащих записей и уникальных элементов в столбце"
      ],
      "metadata": {
        "id": "hycJBkZda0gO"
      }
    },
    {
      "cell_type": "code",
      "source": [
        "# Аргументы - датафрейм и строка наименования столбца\n",
        "# return: count_fills, count_unique\n",
        "# \n",
        "def count_fill_and_unique(df, col_name):\n",
        "  return len(df[df[col_name] != EMPTY_FIELDS]), len(df.loc[df[col_name] != EMPTY_FIELDS, col_name].unique())\n"
      ],
      "metadata": {
        "id": "1y8k1m0ZZsXf"
      },
      "execution_count": null,
      "outputs": []
    },
    {
      "cell_type": "markdown",
      "source": [
        "### Функция просмотра содержания ненулевых уникальных значений полей в выбранных колонках"
      ],
      "metadata": {
        "id": "A0FKGhK6EMMF"
      }
    },
    {
      "cell_type": "code",
      "source": [
        "def prn_unique_txt_col(df, *arg, sort_asc = False):\n",
        "  for colname in arg:\n",
        "    column_list = list(df.loc[~df[colname].isnull(), colname].unique())\n",
        "    count_list = len(column_list)\n",
        "    print(f'*** {colname}({count_list} уникальных, вкючая не заданные): ***')\n",
        "    to_join = sorted(column_list) if sort_asc else column_list\n",
        "    print('\\n'.join(to_join))\n",
        "    print()"
      ],
      "metadata": {
        "id": "_UnPdL-GENMP"
      },
      "execution_count": null,
      "outputs": []
    },
    {
      "cell_type": "markdown",
      "source": [
        "### Датафрейм исходных данных для сборок датасетов обучения"
      ],
      "metadata": {
        "id": "wAbCmxUUFSJF"
      }
    },
    {
      "cell_type": "code",
      "source": [
        "dfc_data = {\n",
        "    'name':[],\n",
        "    'index':[],\n",
        "    'fill_cnt':[],\n",
        "    'unique_cnt':[],\n",
        "    'data_type':[],\n",
        "    'train_sets':[]\n",
        "}\n",
        "dfc = pd.DataFrame(dfc_data)"
      ],
      "metadata": {
        "id": "kFmo11zEF8H8"
      },
      "execution_count": null,
      "outputs": []
    },
    {
      "cell_type": "code",
      "source": [
        "for col in df:\n",
        "  dfc.loc[len(dfc.index)] = [\n",
        "    col,\n",
        "    df.columns.get_loc(col),\n",
        "    len(df[df[col] != EMPTY_FIELDS]),\n",
        "    len(df.loc[df[col] != EMPTY_FIELDS, col].unique()),\n",
        "    df[col].dtype,\n",
        "    0\n",
        "  ]\n",
        "dfc"
      ],
      "metadata": {
        "colab": {
          "base_uri": "https://localhost:8080/",
          "height": 687
        },
        "id": "yYpRsutcf9ZA",
        "outputId": "8f6e0139-e84d-47e3-b87f-cb5dcc57688a"
      },
      "execution_count": null,
      "outputs": [
        {
          "output_type": "execute_result",
          "data": {
            "text/plain": [
              "                                                 name  index  fill_cnt  \\\n",
              "0                                  КлиентДатаРождения      0      1922   \n",
              "1                                           КлиентПол      1      1922   \n",
              "2                                          Контрагент      2      1922   \n",
              "3                                           Профессия      3      1922   \n",
              "4                                        ЗаключениеМК      4      1515   \n",
              "..                                                ...    ...       ...   \n",
              "66  Офтальмология2_ПрофнепригодностьВременнаяПредс...     66        48   \n",
              "67  Офтальмология2_ПрофнепригодностьВременнаяПредс...     67        45   \n",
              "68       Офтальмология2_Диагноз_ЗначениеПредставление     68        51   \n",
              "69  Терапия2_ПрофнепригодностьВременнаяПредставление2     69        73   \n",
              "70             Терапия1_Диагноз_ЗначениеПредставление     70      1192   \n",
              "\n",
              "    unique_cnt       data_type  train_sets  \n",
              "0         1794  datetime64[ns]           0  \n",
              "1            2          object           0  \n",
              "2          177          object           0  \n",
              "3          623          object           0  \n",
              "4            3          object           0  \n",
              "..         ...             ...         ...  \n",
              "66           2          object           0  \n",
              "67           2          object           0  \n",
              "68          17          object           0  \n",
              "69           3          object           0  \n",
              "70          17          object           0  \n",
              "\n",
              "[71 rows x 6 columns]"
            ],
            "text/html": [
              "\n",
              "  <div id=\"df-c474c223-94a9-4e0c-94fe-cba1b41c4b6f\">\n",
              "    <div class=\"colab-df-container\">\n",
              "      <div>\n",
              "<style scoped>\n",
              "    .dataframe tbody tr th:only-of-type {\n",
              "        vertical-align: middle;\n",
              "    }\n",
              "\n",
              "    .dataframe tbody tr th {\n",
              "        vertical-align: top;\n",
              "    }\n",
              "\n",
              "    .dataframe thead th {\n",
              "        text-align: right;\n",
              "    }\n",
              "</style>\n",
              "<table border=\"1\" class=\"dataframe\">\n",
              "  <thead>\n",
              "    <tr style=\"text-align: right;\">\n",
              "      <th></th>\n",
              "      <th>name</th>\n",
              "      <th>index</th>\n",
              "      <th>fill_cnt</th>\n",
              "      <th>unique_cnt</th>\n",
              "      <th>data_type</th>\n",
              "      <th>train_sets</th>\n",
              "    </tr>\n",
              "  </thead>\n",
              "  <tbody>\n",
              "    <tr>\n",
              "      <th>0</th>\n",
              "      <td>КлиентДатаРождения</td>\n",
              "      <td>0</td>\n",
              "      <td>1922</td>\n",
              "      <td>1794</td>\n",
              "      <td>datetime64[ns]</td>\n",
              "      <td>0</td>\n",
              "    </tr>\n",
              "    <tr>\n",
              "      <th>1</th>\n",
              "      <td>КлиентПол</td>\n",
              "      <td>1</td>\n",
              "      <td>1922</td>\n",
              "      <td>2</td>\n",
              "      <td>object</td>\n",
              "      <td>0</td>\n",
              "    </tr>\n",
              "    <tr>\n",
              "      <th>2</th>\n",
              "      <td>Контрагент</td>\n",
              "      <td>2</td>\n",
              "      <td>1922</td>\n",
              "      <td>177</td>\n",
              "      <td>object</td>\n",
              "      <td>0</td>\n",
              "    </tr>\n",
              "    <tr>\n",
              "      <th>3</th>\n",
              "      <td>Профессия</td>\n",
              "      <td>3</td>\n",
              "      <td>1922</td>\n",
              "      <td>623</td>\n",
              "      <td>object</td>\n",
              "      <td>0</td>\n",
              "    </tr>\n",
              "    <tr>\n",
              "      <th>4</th>\n",
              "      <td>ЗаключениеМК</td>\n",
              "      <td>4</td>\n",
              "      <td>1515</td>\n",
              "      <td>3</td>\n",
              "      <td>object</td>\n",
              "      <td>0</td>\n",
              "    </tr>\n",
              "    <tr>\n",
              "      <th>...</th>\n",
              "      <td>...</td>\n",
              "      <td>...</td>\n",
              "      <td>...</td>\n",
              "      <td>...</td>\n",
              "      <td>...</td>\n",
              "      <td>...</td>\n",
              "    </tr>\n",
              "    <tr>\n",
              "      <th>66</th>\n",
              "      <td>Офтальмология2_ПрофнепригодностьВременнаяПредс...</td>\n",
              "      <td>66</td>\n",
              "      <td>48</td>\n",
              "      <td>2</td>\n",
              "      <td>object</td>\n",
              "      <td>0</td>\n",
              "    </tr>\n",
              "    <tr>\n",
              "      <th>67</th>\n",
              "      <td>Офтальмология2_ПрофнепригодностьВременнаяПредс...</td>\n",
              "      <td>67</td>\n",
              "      <td>45</td>\n",
              "      <td>2</td>\n",
              "      <td>object</td>\n",
              "      <td>0</td>\n",
              "    </tr>\n",
              "    <tr>\n",
              "      <th>68</th>\n",
              "      <td>Офтальмология2_Диагноз_ЗначениеПредставление</td>\n",
              "      <td>68</td>\n",
              "      <td>51</td>\n",
              "      <td>17</td>\n",
              "      <td>object</td>\n",
              "      <td>0</td>\n",
              "    </tr>\n",
              "    <tr>\n",
              "      <th>69</th>\n",
              "      <td>Терапия2_ПрофнепригодностьВременнаяПредставление2</td>\n",
              "      <td>69</td>\n",
              "      <td>73</td>\n",
              "      <td>3</td>\n",
              "      <td>object</td>\n",
              "      <td>0</td>\n",
              "    </tr>\n",
              "    <tr>\n",
              "      <th>70</th>\n",
              "      <td>Терапия1_Диагноз_ЗначениеПредставление</td>\n",
              "      <td>70</td>\n",
              "      <td>1192</td>\n",
              "      <td>17</td>\n",
              "      <td>object</td>\n",
              "      <td>0</td>\n",
              "    </tr>\n",
              "  </tbody>\n",
              "</table>\n",
              "<p>71 rows × 6 columns</p>\n",
              "</div>\n",
              "      <button class=\"colab-df-convert\" onclick=\"convertToInteractive('df-c474c223-94a9-4e0c-94fe-cba1b41c4b6f')\"\n",
              "              title=\"Convert this dataframe to an interactive table.\"\n",
              "              style=\"display:none;\">\n",
              "        \n",
              "  <svg xmlns=\"http://www.w3.org/2000/svg\" height=\"24px\"viewBox=\"0 0 24 24\"\n",
              "       width=\"24px\">\n",
              "    <path d=\"M0 0h24v24H0V0z\" fill=\"none\"/>\n",
              "    <path d=\"M18.56 5.44l.94 2.06.94-2.06 2.06-.94-2.06-.94-.94-2.06-.94 2.06-2.06.94zm-11 1L8.5 8.5l.94-2.06 2.06-.94-2.06-.94L8.5 2.5l-.94 2.06-2.06.94zm10 10l.94 2.06.94-2.06 2.06-.94-2.06-.94-.94-2.06-.94 2.06-2.06.94z\"/><path d=\"M17.41 7.96l-1.37-1.37c-.4-.4-.92-.59-1.43-.59-.52 0-1.04.2-1.43.59L10.3 9.45l-7.72 7.72c-.78.78-.78 2.05 0 2.83L4 21.41c.39.39.9.59 1.41.59.51 0 1.02-.2 1.41-.59l7.78-7.78 2.81-2.81c.8-.78.8-2.07 0-2.86zM5.41 20L4 18.59l7.72-7.72 1.47 1.35L5.41 20z\"/>\n",
              "  </svg>\n",
              "      </button>\n",
              "      \n",
              "  <style>\n",
              "    .colab-df-container {\n",
              "      display:flex;\n",
              "      flex-wrap:wrap;\n",
              "      gap: 12px;\n",
              "    }\n",
              "\n",
              "    .colab-df-convert {\n",
              "      background-color: #E8F0FE;\n",
              "      border: none;\n",
              "      border-radius: 50%;\n",
              "      cursor: pointer;\n",
              "      display: none;\n",
              "      fill: #1967D2;\n",
              "      height: 32px;\n",
              "      padding: 0 0 0 0;\n",
              "      width: 32px;\n",
              "    }\n",
              "\n",
              "    .colab-df-convert:hover {\n",
              "      background-color: #E2EBFA;\n",
              "      box-shadow: 0px 1px 2px rgba(60, 64, 67, 0.3), 0px 1px 3px 1px rgba(60, 64, 67, 0.15);\n",
              "      fill: #174EA6;\n",
              "    }\n",
              "\n",
              "    [theme=dark] .colab-df-convert {\n",
              "      background-color: #3B4455;\n",
              "      fill: #D2E3FC;\n",
              "    }\n",
              "\n",
              "    [theme=dark] .colab-df-convert:hover {\n",
              "      background-color: #434B5C;\n",
              "      box-shadow: 0px 1px 3px 1px rgba(0, 0, 0, 0.15);\n",
              "      filter: drop-shadow(0px 1px 2px rgba(0, 0, 0, 0.3));\n",
              "      fill: #FFFFFF;\n",
              "    }\n",
              "  </style>\n",
              "\n",
              "      <script>\n",
              "        const buttonEl =\n",
              "          document.querySelector('#df-c474c223-94a9-4e0c-94fe-cba1b41c4b6f button.colab-df-convert');\n",
              "        buttonEl.style.display =\n",
              "          google.colab.kernel.accessAllowed ? 'block' : 'none';\n",
              "\n",
              "        async function convertToInteractive(key) {\n",
              "          const element = document.querySelector('#df-c474c223-94a9-4e0c-94fe-cba1b41c4b6f');\n",
              "          const dataTable =\n",
              "            await google.colab.kernel.invokeFunction('convertToInteractive',\n",
              "                                                     [key], {});\n",
              "          if (!dataTable) return;\n",
              "\n",
              "          const docLinkHtml = 'Like what you see? Visit the ' +\n",
              "            '<a target=\"_blank\" href=https://colab.research.google.com/notebooks/data_table.ipynb>data table notebook</a>'\n",
              "            + ' to learn more about interactive tables.';\n",
              "          element.innerHTML = '';\n",
              "          dataTable['output_type'] = 'display_data';\n",
              "          await google.colab.output.renderOutput(dataTable, element);\n",
              "          const docLink = document.createElement('div');\n",
              "          docLink.innerHTML = docLinkHtml;\n",
              "          element.appendChild(docLink);\n",
              "        }\n",
              "      </script>\n",
              "    </div>\n",
              "  </div>\n",
              "  "
            ]
          },
          "metadata": {},
          "execution_count": 39
        }
      ]
    },
    {
      "cell_type": "code",
      "source": [
        "count_columns_fill(df, ['ПроцедурнаяМедсестра1_МКБ101'])"
      ],
      "metadata": {
        "colab": {
          "base_uri": "https://localhost:8080/"
        },
        "id": "ybenP17ZCjba",
        "outputId": "be553d04-e34f-45b8-e636-0f6ba0f1ecc0"
      },
      "execution_count": null,
      "outputs": [
        {
          "output_type": "stream",
          "name": "stdout",
          "text": [
            "Текущая структура датафрейма:  (1922, 71) \n",
            "\n",
            "*** ПроцедурнаяМедсестра1_МКБ101: ***\n",
            "Количество непустых элементов:  75\n",
            "Количество уникальных элементов:  2 \n",
            "\n",
            "Количество столбцов:  1\n"
          ]
        }
      ]
    },
    {
      "cell_type": "code",
      "source": [
        "prn_unique_txt_col(df, 'ПроцедурнаяМедсестра1_МКБ101')"
      ],
      "metadata": {
        "colab": {
          "base_uri": "https://localhost:8080/"
        },
        "id": "5SZL4S_rEiLu",
        "outputId": "09c22171-91cf-4ead-e1c5-db052eb89624"
      },
      "execution_count": null,
      "outputs": [
        {
          "output_type": "stream",
          "name": "stdout",
          "text": [
            "*** ПроцедурнаяМедсестра1_МКБ101(3 уникальных, вкючая \"Не определено\"): ***\n",
            "Не определено\n",
            "Z00.0\n",
            "H52.1\n",
            "\n"
          ]
        }
      ]
    },
    {
      "cell_type": "code",
      "source": [
        "df"
      ],
      "metadata": {
        "colab": {
          "base_uri": "https://localhost:8080/",
          "height": 1964
        },
        "id": "Q0HxB0HhJceM",
        "outputId": "4570d500-d339-49d0-9e8a-1302dafd894c"
      },
      "execution_count": null,
      "outputs": [
        {
          "output_type": "execute_result",
          "data": {
            "text/plain": [
              "     КлиентДатаРождения КлиентПол                            Контрагент  \\\n",
              "0            1976-10-24   Женский  23c173a7-30d9-11e7-80d8-708bcd7f83cd   \n",
              "1            1987-11-18   Мужской  a6d559b0-7835-11eb-80e8-0cc47aab8067   \n",
              "2            1985-09-08   Мужской  a6d559b0-7835-11eb-80e8-0cc47aab8067   \n",
              "3            1988-04-25   Мужской  a6d559b0-7835-11eb-80e8-0cc47aab8067   \n",
              "4            1984-04-17   Мужской  a6d559b0-7835-11eb-80e8-0cc47aab8067   \n",
              "...                 ...       ...                                   ...   \n",
              "1917         1972-11-12   Мужской  a9f70e4c-707f-11ed-8109-0cc47aab8067   \n",
              "1918         1986-07-09   Мужской  a9f70e4c-707f-11ed-8109-0cc47aab8067   \n",
              "1919         1994-05-12   Мужской  e689a382-17b2-11e9-80ce-0cc47aab8067   \n",
              "1920         1972-04-17   Женский  21f2a93d-68f9-11e6-82dc-d897ba0a5c60   \n",
              "1921         1971-09-14   Мужской  4826f33a-06b9-11ea-80d3-0cc47aab8067   \n",
              "\n",
              "                                          Профессия   ЗаключениеМК  \\\n",
              "0        Ведущий специалист по организации обучения          Годен   \n",
              "1                                Ведущий специалист          Годен   \n",
              "2                                  Главный менеджер          Годен   \n",
              "3                                Главный специалист          Годен   \n",
              "4                                Старший специалист          Годен   \n",
              "...                                             ...            ...   \n",
              "1917                      Директор по строительству  Не определено   \n",
              "1918  Начальник производственно-технического отдела  Не определено   \n",
              "1919                            Помощник кладовщика  Не определено   \n",
              "1920                                          Повар  Не определено   \n",
              "1921                                   Анестезиолог          Годен   \n",
              "\n",
              "     ВредныеФакторы ПсихиатрияНаркология1_МКБ101  \\\n",
              "0              11.4                        Z00.0   \n",
              "1             4.2.5                        Z00.0   \n",
              "2             4.2.5                        Z00.0   \n",
              "3              11.1                Не определено   \n",
              "4              11.1                Не определено   \n",
              "...             ...                          ...   \n",
              "1917            6.1                Не определено   \n",
              "1918            6.1                Не определено   \n",
              "1919         5.1,23                        Z00.0   \n",
              "1920             23                        Z00.0   \n",
              "1921             27                        Z00.0   \n",
              "\n",
              "     ПсихиатрияНаркология1_ПрофнепригодностьВременнаяПредставление1  \\\n",
              "0                                         Не определено               \n",
              "1                                                 Годен               \n",
              "2                                                 Годен               \n",
              "3                                         Не определено               \n",
              "4                                         Не определено               \n",
              "...                                                 ...               \n",
              "1917                                      Не определено               \n",
              "1918                                      Не определено               \n",
              "1919                                              Годен               \n",
              "1920                                              Годен               \n",
              "1921                                              Годен               \n",
              "\n",
              "     ПсихиатрияНаркология1_ГоденНегоден_ЗначениеПредставление  \\\n",
              "0                                                 Годен         \n",
              "1                                                 Годен         \n",
              "2                                                 Годен         \n",
              "3                                         Не определено         \n",
              "4                                         Не определено         \n",
              "...                                                 ...         \n",
              "1917                                      Не определено         \n",
              "1918                                      Не определено         \n",
              "1919                                              Годен         \n",
              "1920                                              Годен         \n",
              "1921                                              Годен         \n",
              "\n",
              "     ПсихиатрияНаркология1_Диагноз_ЗначениеПредставление  ...  \\\n",
              "0             [Z00.0] Общий медицинский осмотр_x000D_\\n   ...   \n",
              "1             [Z00.0] Общий медицинский осмотр_x000D_\\n   ...   \n",
              "2             [Z00.0] Общий медицинский осмотр_x000D_\\n   ...   \n",
              "3                                         Не определено   ...   \n",
              "4                                         Не определено   ...   \n",
              "...                                                 ...   ...   \n",
              "1917                                      Не определено   ...   \n",
              "1918                                      Не определено   ...   \n",
              "1919          [Z00.0] Общий медицинский осмотр_x000D_\\n   ...   \n",
              "1920          [Z00.0] Общий медицинский осмотр_x000D_\\n   ...   \n",
              "1921          [Z00.0] Общий медицинский осмотр_x000D_\\n   ...   \n",
              "\n",
              "     Дерматовенерология2_Диагноз_ЗначениеПредставление  \\\n",
              "0                                        Не определено   \n",
              "1                                        Не определено   \n",
              "2                                        Не определено   \n",
              "3                                        Не определено   \n",
              "4                                        Не определено   \n",
              "...                                                ...   \n",
              "1917                                     Не определено   \n",
              "1918                                     Не определено   \n",
              "1919                                     Не определено   \n",
              "1920                                     Не определено   \n",
              "1921                                     Не определено   \n",
              "\n",
              "     Терапия2_Диагноз_ЗначениеПредставление  \\\n",
              "0                             Не определено   \n",
              "1                             Не определено   \n",
              "2                             Не определено   \n",
              "3                             Не определено   \n",
              "4                             Не определено   \n",
              "...                                     ...   \n",
              "1917                          Не определено   \n",
              "1918                          Не определено   \n",
              "1919                          Не определено   \n",
              "1920                          Не определено   \n",
              "1921                          Не определено   \n",
              "\n",
              "     Хирургия1_ПрофнепригодностьВременнаяПредставление2  \\\n",
              "0                                         Не определено   \n",
              "1                                         Не определено   \n",
              "2                                         Не определено   \n",
              "3                                         Не определено   \n",
              "4                                         Не определено   \n",
              "...                                                 ...   \n",
              "1917                                      Не определено   \n",
              "1918                                      Не определено   \n",
              "1919                                      Не определено   \n",
              "1920                                      Не определено   \n",
              "1921                                      Не определено   \n",
              "\n",
              "     Хирургия2_ПрофнепригодностьВременнаяПредставление2 Офтальмология2_МКБ101  \\\n",
              "0                                         Не определено         Не определено   \n",
              "1                                         Не определено         Не определено   \n",
              "2                                         Не определено         Не определено   \n",
              "3                                         Не определено         Не определено   \n",
              "4                                         Не определено         Не определено   \n",
              "...                                                 ...                   ...   \n",
              "1917                                      Не определено         Не определено   \n",
              "1918                                      Не определено         Не определено   \n",
              "1919                                      Не определено         Не определено   \n",
              "1920                                      Не определено         Не определено   \n",
              "1921                                      Не определено         Не определено   \n",
              "\n",
              "     Офтальмология2_ПрофнепригодностьВременнаяПредставление1  \\\n",
              "0                                         Не определено        \n",
              "1                                         Не определено        \n",
              "2                                         Не определено        \n",
              "3                                         Не определено        \n",
              "4                                         Не определено        \n",
              "...                                                 ...        \n",
              "1917                                      Не определено        \n",
              "1918                                      Не определено        \n",
              "1919                                      Не определено        \n",
              "1920                                      Не определено        \n",
              "1921                                      Не определено        \n",
              "\n",
              "     Офтальмология2_ПрофнепригодностьВременнаяПредставление2  \\\n",
              "0                                         Не определено        \n",
              "1                                         Не определено        \n",
              "2                                         Не определено        \n",
              "3                                         Не определено        \n",
              "4                                         Не определено        \n",
              "...                                                 ...        \n",
              "1917                                      Не определено        \n",
              "1918                                      Не определено        \n",
              "1919                                      Не определено        \n",
              "1920                                      Не определено        \n",
              "1921                                      Не определено        \n",
              "\n",
              "     Офтальмология2_Диагноз_ЗначениеПредставление  \\\n",
              "0                                   Не определено   \n",
              "1                                   Не определено   \n",
              "2                                   Не определено   \n",
              "3                                   Не определено   \n",
              "4                                   Не определено   \n",
              "...                                           ...   \n",
              "1917                                Не определено   \n",
              "1918                                Не определено   \n",
              "1919                                Не определено   \n",
              "1920                                Не определено   \n",
              "1921                                Не определено   \n",
              "\n",
              "     Терапия2_ПрофнепригодностьВременнаяПредставление2  \\\n",
              "0                                        Не определено   \n",
              "1                                        Не определено   \n",
              "2                                        Не определено   \n",
              "3                                        Не определено   \n",
              "4                                        Не определено   \n",
              "...                                                ...   \n",
              "1917                                     Не определено   \n",
              "1918                                     Не определено   \n",
              "1919                                     Не определено   \n",
              "1920                                     Не определено   \n",
              "1921                                     Не определено   \n",
              "\n",
              "         Терапия1_Диагноз_ЗначениеПредставление  \n",
              "0                                 Не определено  \n",
              "1                                 Не определено  \n",
              "2                                 Не определено  \n",
              "3                                 Не определено  \n",
              "4                                 Не определено  \n",
              "...                                         ...  \n",
              "1917                              Не определено  \n",
              "1918                              Не определено  \n",
              "1919  [Z00.0] Общий медицинский осмотр_x000D_\\n  \n",
              "1920  [Z00.0] Общий медицинский осмотр_x000D_\\n  \n",
              "1921  [Z00.0] Общий медицинский осмотр_x000D_\\n  \n",
              "\n",
              "[1922 rows x 71 columns]"
            ],
            "text/html": [
              "\n",
              "  <div id=\"df-5bc4e43a-389a-4897-a4ba-ec5faaad1cd6\">\n",
              "    <div class=\"colab-df-container\">\n",
              "      <div>\n",
              "<style scoped>\n",
              "    .dataframe tbody tr th:only-of-type {\n",
              "        vertical-align: middle;\n",
              "    }\n",
              "\n",
              "    .dataframe tbody tr th {\n",
              "        vertical-align: top;\n",
              "    }\n",
              "\n",
              "    .dataframe thead th {\n",
              "        text-align: right;\n",
              "    }\n",
              "</style>\n",
              "<table border=\"1\" class=\"dataframe\">\n",
              "  <thead>\n",
              "    <tr style=\"text-align: right;\">\n",
              "      <th></th>\n",
              "      <th>КлиентДатаРождения</th>\n",
              "      <th>КлиентПол</th>\n",
              "      <th>Контрагент</th>\n",
              "      <th>Профессия</th>\n",
              "      <th>ЗаключениеМК</th>\n",
              "      <th>ВредныеФакторы</th>\n",
              "      <th>ПсихиатрияНаркология1_МКБ101</th>\n",
              "      <th>ПсихиатрияНаркология1_ПрофнепригодностьВременнаяПредставление1</th>\n",
              "      <th>ПсихиатрияНаркология1_ГоденНегоден_ЗначениеПредставление</th>\n",
              "      <th>ПсихиатрияНаркология1_Диагноз_ЗначениеПредставление</th>\n",
              "      <th>...</th>\n",
              "      <th>Дерматовенерология2_Диагноз_ЗначениеПредставление</th>\n",
              "      <th>Терапия2_Диагноз_ЗначениеПредставление</th>\n",
              "      <th>Хирургия1_ПрофнепригодностьВременнаяПредставление2</th>\n",
              "      <th>Хирургия2_ПрофнепригодностьВременнаяПредставление2</th>\n",
              "      <th>Офтальмология2_МКБ101</th>\n",
              "      <th>Офтальмология2_ПрофнепригодностьВременнаяПредставление1</th>\n",
              "      <th>Офтальмология2_ПрофнепригодностьВременнаяПредставление2</th>\n",
              "      <th>Офтальмология2_Диагноз_ЗначениеПредставление</th>\n",
              "      <th>Терапия2_ПрофнепригодностьВременнаяПредставление2</th>\n",
              "      <th>Терапия1_Диагноз_ЗначениеПредставление</th>\n",
              "    </tr>\n",
              "  </thead>\n",
              "  <tbody>\n",
              "    <tr>\n",
              "      <th>0</th>\n",
              "      <td>1976-10-24</td>\n",
              "      <td>Женский</td>\n",
              "      <td>23c173a7-30d9-11e7-80d8-708bcd7f83cd</td>\n",
              "      <td>Ведущий специалист по организации обучения</td>\n",
              "      <td>Годен</td>\n",
              "      <td>11.4</td>\n",
              "      <td>Z00.0</td>\n",
              "      <td>Не определено</td>\n",
              "      <td>Годен</td>\n",
              "      <td>[Z00.0] Общий медицинский осмотр_x000D_\\n</td>\n",
              "      <td>...</td>\n",
              "      <td>Не определено</td>\n",
              "      <td>Не определено</td>\n",
              "      <td>Не определено</td>\n",
              "      <td>Не определено</td>\n",
              "      <td>Не определено</td>\n",
              "      <td>Не определено</td>\n",
              "      <td>Не определено</td>\n",
              "      <td>Не определено</td>\n",
              "      <td>Не определено</td>\n",
              "      <td>Не определено</td>\n",
              "    </tr>\n",
              "    <tr>\n",
              "      <th>1</th>\n",
              "      <td>1987-11-18</td>\n",
              "      <td>Мужской</td>\n",
              "      <td>a6d559b0-7835-11eb-80e8-0cc47aab8067</td>\n",
              "      <td>Ведущий специалист</td>\n",
              "      <td>Годен</td>\n",
              "      <td>4.2.5</td>\n",
              "      <td>Z00.0</td>\n",
              "      <td>Годен</td>\n",
              "      <td>Годен</td>\n",
              "      <td>[Z00.0] Общий медицинский осмотр_x000D_\\n</td>\n",
              "      <td>...</td>\n",
              "      <td>Не определено</td>\n",
              "      <td>Не определено</td>\n",
              "      <td>Не определено</td>\n",
              "      <td>Не определено</td>\n",
              "      <td>Не определено</td>\n",
              "      <td>Не определено</td>\n",
              "      <td>Не определено</td>\n",
              "      <td>Не определено</td>\n",
              "      <td>Не определено</td>\n",
              "      <td>Не определено</td>\n",
              "    </tr>\n",
              "    <tr>\n",
              "      <th>2</th>\n",
              "      <td>1985-09-08</td>\n",
              "      <td>Мужской</td>\n",
              "      <td>a6d559b0-7835-11eb-80e8-0cc47aab8067</td>\n",
              "      <td>Главный менеджер</td>\n",
              "      <td>Годен</td>\n",
              "      <td>4.2.5</td>\n",
              "      <td>Z00.0</td>\n",
              "      <td>Годен</td>\n",
              "      <td>Годен</td>\n",
              "      <td>[Z00.0] Общий медицинский осмотр_x000D_\\n</td>\n",
              "      <td>...</td>\n",
              "      <td>Не определено</td>\n",
              "      <td>Не определено</td>\n",
              "      <td>Не определено</td>\n",
              "      <td>Не определено</td>\n",
              "      <td>Не определено</td>\n",
              "      <td>Не определено</td>\n",
              "      <td>Не определено</td>\n",
              "      <td>Не определено</td>\n",
              "      <td>Не определено</td>\n",
              "      <td>Не определено</td>\n",
              "    </tr>\n",
              "    <tr>\n",
              "      <th>3</th>\n",
              "      <td>1988-04-25</td>\n",
              "      <td>Мужской</td>\n",
              "      <td>a6d559b0-7835-11eb-80e8-0cc47aab8067</td>\n",
              "      <td>Главный специалист</td>\n",
              "      <td>Годен</td>\n",
              "      <td>11.1</td>\n",
              "      <td>Не определено</td>\n",
              "      <td>Не определено</td>\n",
              "      <td>Не определено</td>\n",
              "      <td>Не определено</td>\n",
              "      <td>...</td>\n",
              "      <td>Не определено</td>\n",
              "      <td>Не определено</td>\n",
              "      <td>Не определено</td>\n",
              "      <td>Не определено</td>\n",
              "      <td>Не определено</td>\n",
              "      <td>Не определено</td>\n",
              "      <td>Не определено</td>\n",
              "      <td>Не определено</td>\n",
              "      <td>Не определено</td>\n",
              "      <td>Не определено</td>\n",
              "    </tr>\n",
              "    <tr>\n",
              "      <th>4</th>\n",
              "      <td>1984-04-17</td>\n",
              "      <td>Мужской</td>\n",
              "      <td>a6d559b0-7835-11eb-80e8-0cc47aab8067</td>\n",
              "      <td>Старший специалист</td>\n",
              "      <td>Годен</td>\n",
              "      <td>11.1</td>\n",
              "      <td>Не определено</td>\n",
              "      <td>Не определено</td>\n",
              "      <td>Не определено</td>\n",
              "      <td>Не определено</td>\n",
              "      <td>...</td>\n",
              "      <td>Не определено</td>\n",
              "      <td>Не определено</td>\n",
              "      <td>Не определено</td>\n",
              "      <td>Не определено</td>\n",
              "      <td>Не определено</td>\n",
              "      <td>Не определено</td>\n",
              "      <td>Не определено</td>\n",
              "      <td>Не определено</td>\n",
              "      <td>Не определено</td>\n",
              "      <td>Не определено</td>\n",
              "    </tr>\n",
              "    <tr>\n",
              "      <th>...</th>\n",
              "      <td>...</td>\n",
              "      <td>...</td>\n",
              "      <td>...</td>\n",
              "      <td>...</td>\n",
              "      <td>...</td>\n",
              "      <td>...</td>\n",
              "      <td>...</td>\n",
              "      <td>...</td>\n",
              "      <td>...</td>\n",
              "      <td>...</td>\n",
              "      <td>...</td>\n",
              "      <td>...</td>\n",
              "      <td>...</td>\n",
              "      <td>...</td>\n",
              "      <td>...</td>\n",
              "      <td>...</td>\n",
              "      <td>...</td>\n",
              "      <td>...</td>\n",
              "      <td>...</td>\n",
              "      <td>...</td>\n",
              "      <td>...</td>\n",
              "    </tr>\n",
              "    <tr>\n",
              "      <th>1917</th>\n",
              "      <td>1972-11-12</td>\n",
              "      <td>Мужской</td>\n",
              "      <td>a9f70e4c-707f-11ed-8109-0cc47aab8067</td>\n",
              "      <td>Директор по строительству</td>\n",
              "      <td>Не определено</td>\n",
              "      <td>6.1</td>\n",
              "      <td>Не определено</td>\n",
              "      <td>Не определено</td>\n",
              "      <td>Не определено</td>\n",
              "      <td>Не определено</td>\n",
              "      <td>...</td>\n",
              "      <td>Не определено</td>\n",
              "      <td>Не определено</td>\n",
              "      <td>Не определено</td>\n",
              "      <td>Не определено</td>\n",
              "      <td>Не определено</td>\n",
              "      <td>Не определено</td>\n",
              "      <td>Не определено</td>\n",
              "      <td>Не определено</td>\n",
              "      <td>Не определено</td>\n",
              "      <td>Не определено</td>\n",
              "    </tr>\n",
              "    <tr>\n",
              "      <th>1918</th>\n",
              "      <td>1986-07-09</td>\n",
              "      <td>Мужской</td>\n",
              "      <td>a9f70e4c-707f-11ed-8109-0cc47aab8067</td>\n",
              "      <td>Начальник производственно-технического отдела</td>\n",
              "      <td>Не определено</td>\n",
              "      <td>6.1</td>\n",
              "      <td>Не определено</td>\n",
              "      <td>Не определено</td>\n",
              "      <td>Не определено</td>\n",
              "      <td>Не определено</td>\n",
              "      <td>...</td>\n",
              "      <td>Не определено</td>\n",
              "      <td>Не определено</td>\n",
              "      <td>Не определено</td>\n",
              "      <td>Не определено</td>\n",
              "      <td>Не определено</td>\n",
              "      <td>Не определено</td>\n",
              "      <td>Не определено</td>\n",
              "      <td>Не определено</td>\n",
              "      <td>Не определено</td>\n",
              "      <td>Не определено</td>\n",
              "    </tr>\n",
              "    <tr>\n",
              "      <th>1919</th>\n",
              "      <td>1994-05-12</td>\n",
              "      <td>Мужской</td>\n",
              "      <td>e689a382-17b2-11e9-80ce-0cc47aab8067</td>\n",
              "      <td>Помощник кладовщика</td>\n",
              "      <td>Не определено</td>\n",
              "      <td>5.1,23</td>\n",
              "      <td>Z00.0</td>\n",
              "      <td>Годен</td>\n",
              "      <td>Годен</td>\n",
              "      <td>[Z00.0] Общий медицинский осмотр_x000D_\\n</td>\n",
              "      <td>...</td>\n",
              "      <td>Не определено</td>\n",
              "      <td>Не определено</td>\n",
              "      <td>Не определено</td>\n",
              "      <td>Не определено</td>\n",
              "      <td>Не определено</td>\n",
              "      <td>Не определено</td>\n",
              "      <td>Не определено</td>\n",
              "      <td>Не определено</td>\n",
              "      <td>Не определено</td>\n",
              "      <td>[Z00.0] Общий медицинский осмотр_x000D_\\n</td>\n",
              "    </tr>\n",
              "    <tr>\n",
              "      <th>1920</th>\n",
              "      <td>1972-04-17</td>\n",
              "      <td>Женский</td>\n",
              "      <td>21f2a93d-68f9-11e6-82dc-d897ba0a5c60</td>\n",
              "      <td>Повар</td>\n",
              "      <td>Не определено</td>\n",
              "      <td>23</td>\n",
              "      <td>Z00.0</td>\n",
              "      <td>Годен</td>\n",
              "      <td>Годен</td>\n",
              "      <td>[Z00.0] Общий медицинский осмотр_x000D_\\n</td>\n",
              "      <td>...</td>\n",
              "      <td>Не определено</td>\n",
              "      <td>Не определено</td>\n",
              "      <td>Не определено</td>\n",
              "      <td>Не определено</td>\n",
              "      <td>Не определено</td>\n",
              "      <td>Не определено</td>\n",
              "      <td>Не определено</td>\n",
              "      <td>Не определено</td>\n",
              "      <td>Не определено</td>\n",
              "      <td>[Z00.0] Общий медицинский осмотр_x000D_\\n</td>\n",
              "    </tr>\n",
              "    <tr>\n",
              "      <th>1921</th>\n",
              "      <td>1971-09-14</td>\n",
              "      <td>Мужской</td>\n",
              "      <td>4826f33a-06b9-11ea-80d3-0cc47aab8067</td>\n",
              "      <td>Анестезиолог</td>\n",
              "      <td>Годен</td>\n",
              "      <td>27</td>\n",
              "      <td>Z00.0</td>\n",
              "      <td>Годен</td>\n",
              "      <td>Годен</td>\n",
              "      <td>[Z00.0] Общий медицинский осмотр_x000D_\\n</td>\n",
              "      <td>...</td>\n",
              "      <td>Не определено</td>\n",
              "      <td>Не определено</td>\n",
              "      <td>Не определено</td>\n",
              "      <td>Не определено</td>\n",
              "      <td>Не определено</td>\n",
              "      <td>Не определено</td>\n",
              "      <td>Не определено</td>\n",
              "      <td>Не определено</td>\n",
              "      <td>Не определено</td>\n",
              "      <td>[Z00.0] Общий медицинский осмотр_x000D_\\n</td>\n",
              "    </tr>\n",
              "  </tbody>\n",
              "</table>\n",
              "<p>1922 rows × 71 columns</p>\n",
              "</div>\n",
              "      <button class=\"colab-df-convert\" onclick=\"convertToInteractive('df-5bc4e43a-389a-4897-a4ba-ec5faaad1cd6')\"\n",
              "              title=\"Convert this dataframe to an interactive table.\"\n",
              "              style=\"display:none;\">\n",
              "        \n",
              "  <svg xmlns=\"http://www.w3.org/2000/svg\" height=\"24px\"viewBox=\"0 0 24 24\"\n",
              "       width=\"24px\">\n",
              "    <path d=\"M0 0h24v24H0V0z\" fill=\"none\"/>\n",
              "    <path d=\"M18.56 5.44l.94 2.06.94-2.06 2.06-.94-2.06-.94-.94-2.06-.94 2.06-2.06.94zm-11 1L8.5 8.5l.94-2.06 2.06-.94-2.06-.94L8.5 2.5l-.94 2.06-2.06.94zm10 10l.94 2.06.94-2.06 2.06-.94-2.06-.94-.94-2.06-.94 2.06-2.06.94z\"/><path d=\"M17.41 7.96l-1.37-1.37c-.4-.4-.92-.59-1.43-.59-.52 0-1.04.2-1.43.59L10.3 9.45l-7.72 7.72c-.78.78-.78 2.05 0 2.83L4 21.41c.39.39.9.59 1.41.59.51 0 1.02-.2 1.41-.59l7.78-7.78 2.81-2.81c.8-.78.8-2.07 0-2.86zM5.41 20L4 18.59l7.72-7.72 1.47 1.35L5.41 20z\"/>\n",
              "  </svg>\n",
              "      </button>\n",
              "      \n",
              "  <style>\n",
              "    .colab-df-container {\n",
              "      display:flex;\n",
              "      flex-wrap:wrap;\n",
              "      gap: 12px;\n",
              "    }\n",
              "\n",
              "    .colab-df-convert {\n",
              "      background-color: #E8F0FE;\n",
              "      border: none;\n",
              "      border-radius: 50%;\n",
              "      cursor: pointer;\n",
              "      display: none;\n",
              "      fill: #1967D2;\n",
              "      height: 32px;\n",
              "      padding: 0 0 0 0;\n",
              "      width: 32px;\n",
              "    }\n",
              "\n",
              "    .colab-df-convert:hover {\n",
              "      background-color: #E2EBFA;\n",
              "      box-shadow: 0px 1px 2px rgba(60, 64, 67, 0.3), 0px 1px 3px 1px rgba(60, 64, 67, 0.15);\n",
              "      fill: #174EA6;\n",
              "    }\n",
              "\n",
              "    [theme=dark] .colab-df-convert {\n",
              "      background-color: #3B4455;\n",
              "      fill: #D2E3FC;\n",
              "    }\n",
              "\n",
              "    [theme=dark] .colab-df-convert:hover {\n",
              "      background-color: #434B5C;\n",
              "      box-shadow: 0px 1px 3px 1px rgba(0, 0, 0, 0.15);\n",
              "      filter: drop-shadow(0px 1px 2px rgba(0, 0, 0, 0.3));\n",
              "      fill: #FFFFFF;\n",
              "    }\n",
              "  </style>\n",
              "\n",
              "      <script>\n",
              "        const buttonEl =\n",
              "          document.querySelector('#df-5bc4e43a-389a-4897-a4ba-ec5faaad1cd6 button.colab-df-convert');\n",
              "        buttonEl.style.display =\n",
              "          google.colab.kernel.accessAllowed ? 'block' : 'none';\n",
              "\n",
              "        async function convertToInteractive(key) {\n",
              "          const element = document.querySelector('#df-5bc4e43a-389a-4897-a4ba-ec5faaad1cd6');\n",
              "          const dataTable =\n",
              "            await google.colab.kernel.invokeFunction('convertToInteractive',\n",
              "                                                     [key], {});\n",
              "          if (!dataTable) return;\n",
              "\n",
              "          const docLinkHtml = 'Like what you see? Visit the ' +\n",
              "            '<a target=\"_blank\" href=https://colab.research.google.com/notebooks/data_table.ipynb>data table notebook</a>'\n",
              "            + ' to learn more about interactive tables.';\n",
              "          element.innerHTML = '';\n",
              "          dataTable['output_type'] = 'display_data';\n",
              "          await google.colab.output.renderOutput(dataTable, element);\n",
              "          const docLink = document.createElement('div');\n",
              "          docLink.innerHTML = docLinkHtml;\n",
              "          element.appendChild(docLink);\n",
              "        }\n",
              "      </script>\n",
              "    </div>\n",
              "  </div>\n",
              "  "
            ]
          },
          "metadata": {},
          "execution_count": 40
        },
        {
          "output_type": "stream",
          "name": "stdout",
          "text": [
            "Warning: Total number of columns (71) exceeds max_columns (20) limiting to first (20) columns.\n"
          ]
        }
      ]
    },
    {
      "cell_type": "code",
      "source": [
        "pip install thefuzz[speedup]"
      ],
      "metadata": {
        "colab": {
          "base_uri": "https://localhost:8080/"
        },
        "id": "aoNzxBgryYHs",
        "outputId": "ccd45adc-e926-4f22-b90e-bb52e65d48ea"
      },
      "execution_count": null,
      "outputs": [
        {
          "output_type": "stream",
          "name": "stdout",
          "text": [
            "Looking in indexes: https://pypi.org/simple, https://us-python.pkg.dev/colab-wheels/public/simple/\n",
            "Collecting thefuzz[speedup]\n",
            "  Downloading thefuzz-0.19.0-py2.py3-none-any.whl (17 kB)\n",
            "Collecting python-levenshtein>=0.12 (from thefuzz[speedup])\n",
            "  Downloading python_Levenshtein-0.21.0-py3-none-any.whl (9.4 kB)\n",
            "Collecting Levenshtein==0.21.0 (from python-levenshtein>=0.12->thefuzz[speedup])\n",
            "  Downloading Levenshtein-0.21.0-cp310-cp310-manylinux_2_17_x86_64.manylinux2014_x86_64.whl (174 kB)\n",
            "\u001b[2K     \u001b[90m━━━━━━━━━━━━━━━━━━━━━━━━━━━━━━━━━━━━━━━\u001b[0m \u001b[32m174.1/174.1 kB\u001b[0m \u001b[31m8.9 MB/s\u001b[0m eta \u001b[36m0:00:00\u001b[0m\n",
            "\u001b[?25hCollecting rapidfuzz<4.0.0,>=2.3.0 (from Levenshtein==0.21.0->python-levenshtein>=0.12->thefuzz[speedup])\n",
            "  Downloading rapidfuzz-3.1.0-cp310-cp310-manylinux_2_17_x86_64.manylinux2014_x86_64.whl (3.0 MB)\n",
            "\u001b[2K     \u001b[90m━━━━━━━━━━━━━━━━━━━━━━━━━━━━━━━━━━━━━━━━\u001b[0m \u001b[32m3.0/3.0 MB\u001b[0m \u001b[31m26.4 MB/s\u001b[0m eta \u001b[36m0:00:00\u001b[0m\n",
            "\u001b[?25hInstalling collected packages: thefuzz, rapidfuzz, Levenshtein, python-levenshtein\n",
            "Successfully installed Levenshtein-0.21.0 python-levenshtein-0.21.0 rapidfuzz-3.1.0 thefuzz-0.19.0\n"
          ]
        }
      ]
    },
    {
      "cell_type": "code",
      "source": [
        "from thefuzz import fuzz\n",
        "from thefuzz import process"
      ],
      "metadata": {
        "id": "06fktz7Kyr3b"
      },
      "execution_count": null,
      "outputs": []
    },
    {
      "cell_type": "code",
      "source": [
        "#fuzz.ratio(\"\t[Z00.0] Общий медицинский осмотр_x000D_\", \"\t[Z00.0]\")\n",
        "fuzz.ratio(\"4.2.5,1.29.2,4.1,4.7,4.4,6.2,11.1\", \"4.2.5,11.1,11.4,13\")"
      ],
      "metadata": {
        "colab": {
          "base_uri": "https://localhost:8080/"
        },
        "id": "2PgKI1rsyf5z",
        "outputId": "f691f9f4-1d2b-425e-f7d3-16de250bd98f"
      },
      "execution_count": null,
      "outputs": [
        {
          "output_type": "execute_result",
          "data": {
            "text/plain": [
              "54"
            ]
          },
          "metadata": {},
          "execution_count": 62
        }
      ]
    },
    {
      "cell_type": "code",
      "source": [
        "#fuzz.partial_ratio(\"\t[Z00.0] Общий медицинский осмотр_x000D_\", \"\t[Z00.0]\")\n",
        "fuzz.partial_ratio(\"4.2.5,1.29.2,4.1,4.7,4.4,6.2,11.1\", \"4.2.5,11.1,11.4,13\")"
      ],
      "metadata": {
        "colab": {
          "base_uri": "https://localhost:8080/"
        },
        "id": "Z8XXyHKKzwQr",
        "outputId": "f00354dc-160c-4bd7-e298-e68702ce4651"
      },
      "execution_count": null,
      "outputs": [
        {
          "output_type": "execute_result",
          "data": {
            "text/plain": [
              "61"
            ]
          },
          "metadata": {},
          "execution_count": 63
        }
      ]
    },
    {
      "cell_type": "code",
      "source": [
        "#fuzz.token_sort_ratio(\"[Z00.0] Общий медицинский осмотр_x000D_\", \"Общий медицинский осмотр_x000D_\")\n",
        "fuzz.token_sort_ratio(\"4.2.5,1.29.2,4.1,4.7,4.4,6.2,11.1\", \"4.2.5,11.1,11.4,13\")"
      ],
      "metadata": {
        "colab": {
          "base_uri": "https://localhost:8080/"
        },
        "id": "Vyw43GtyzyW7",
        "outputId": "8e1444e2-79fd-4d78-e688-747b925abfd9"
      },
      "execution_count": null,
      "outputs": [
        {
          "output_type": "execute_result",
          "data": {
            "text/plain": [
              "63"
            ]
          },
          "metadata": {},
          "execution_count": 64
        }
      ]
    },
    {
      "cell_type": "code",
      "source": [
        "pip install python-Levenshtein"
      ],
      "metadata": {
        "colab": {
          "base_uri": "https://localhost:8080/"
        },
        "id": "nNunM7lr3OB7",
        "outputId": "89b4fb65-c2cf-430e-b1f2-1543f147194b"
      },
      "execution_count": null,
      "outputs": [
        {
          "output_type": "stream",
          "name": "stdout",
          "text": [
            "Looking in indexes: https://pypi.org/simple, https://us-python.pkg.dev/colab-wheels/public/simple/\n",
            "Requirement already satisfied: python-Levenshtein in /usr/local/lib/python3.10/dist-packages (0.21.0)\n",
            "Requirement already satisfied: Levenshtein==0.21.0 in /usr/local/lib/python3.10/dist-packages (from python-Levenshtein) (0.21.0)\n",
            "Requirement already satisfied: rapidfuzz<4.0.0,>=2.3.0 in /usr/local/lib/python3.10/dist-packages (from Levenshtein==0.21.0->python-Levenshtein) (3.1.0)\n"
          ]
        }
      ]
    },
    {
      "cell_type": "code",
      "source": [
        "import Levenshtein"
      ],
      "metadata": {
        "id": "Zv3sKi0P3Vv1"
      },
      "execution_count": null,
      "outputs": []
    },
    {
      "cell_type": "code",
      "source": [
        "Levenshtein.distance(\n",
        "    '4.2.5,1.29.2,4.1,4.7,4.4,6.2,11.1',\n",
        "    '4.2.5,11.1,11.4,13'\n",
        ")"
      ],
      "metadata": {
        "colab": {
          "base_uri": "https://localhost:8080/"
        },
        "id": "7ndSHTHo3bvT",
        "outputId": "dbaa844d-1eab-4f07-ab93-e0c8e48a80b3"
      },
      "execution_count": null,
      "outputs": [
        {
          "output_type": "execute_result",
          "data": {
            "text/plain": [
              "19"
            ]
          },
          "metadata": {},
          "execution_count": 66
        }
      ]
    },
    {
      "cell_type": "markdown",
      "source": [
        "----"
      ],
      "metadata": {
        "id": "t0YyVf0LH8kX"
      }
    },
    {
      "cell_type": "code",
      "source": [
        "df.shape"
      ],
      "metadata": {
        "colab": {
          "base_uri": "https://localhost:8080/"
        },
        "id": "Ln8gWJdID5mu",
        "outputId": "43fd7cdd-d7ec-4f5b-9d19-22961610b8f8"
      },
      "execution_count": null,
      "outputs": [
        {
          "output_type": "execute_result",
          "data": {
            "text/plain": [
              "(1922, 71)"
            ]
          },
          "metadata": {},
          "execution_count": 16
        }
      ]
    },
    {
      "cell_type": "markdown",
      "source": [
        "#### Заменим все NaN на 'Не определено'"
      ],
      "metadata": {
        "id": "rD4DsC5mIHZG"
      }
    },
    {
      "cell_type": "code",
      "source": [
        "df.describe(include = \"all\")"
      ],
      "metadata": {
        "id": "JwifIriEIUce"
      },
      "execution_count": null,
      "outputs": []
    },
    {
      "cell_type": "code",
      "source": [
        "df.isna().sum().sum()"
      ],
      "metadata": {
        "colab": {
          "base_uri": "https://localhost:8080/"
        },
        "id": "KzLm7G2yPfzs",
        "outputId": "56dfd4ec-0206-4c32-9c4b-346e95763c19"
      },
      "execution_count": null,
      "outputs": [
        {
          "output_type": "execute_result",
          "data": {
            "text/plain": [
              "85613"
            ]
          },
          "metadata": {},
          "execution_count": 9
        }
      ]
    },
    {
      "cell_type": "code",
      "source": [
        "df = df.fillna('Не определено')"
      ],
      "metadata": {
        "id": "1scUNbnBMyjm"
      },
      "execution_count": null,
      "outputs": []
    },
    {
      "cell_type": "code",
      "source": [
        "df.isna().sum().sum()"
      ],
      "metadata": {
        "colab": {
          "base_uri": "https://localhost:8080/"
        },
        "id": "dJJHlL9uP1oD",
        "outputId": "bd63e448-d001-42bf-b738-80df08629c85"
      },
      "execution_count": null,
      "outputs": [
        {
          "output_type": "execute_result",
          "data": {
            "text/plain": [
              "0"
            ]
          },
          "metadata": {},
          "execution_count": 11
        }
      ]
    },
    {
      "cell_type": "markdown",
      "source": [
        "### Подготовка глобальных данных и разбивка на блоки"
      ],
      "metadata": {
        "id": "KoNtbMN8deR0"
      }
    },
    {
      "cell_type": "code",
      "source": [
        "df.shape"
      ],
      "metadata": {
        "colab": {
          "base_uri": "https://localhost:8080/"
        },
        "id": "rcoEVRH6d0w7",
        "outputId": "88e72b1f-6f21-479c-9a9f-d486a21589a6"
      },
      "execution_count": null,
      "outputs": [
        {
          "output_type": "execute_result",
          "data": {
            "text/plain": [
              "(1922, 71)"
            ]
          },
          "metadata": {},
          "execution_count": 14
        }
      ]
    },
    {
      "cell_type": "code",
      "source": [
        "df.info()"
      ],
      "metadata": {
        "colab": {
          "base_uri": "https://localhost:8080/"
        },
        "id": "OonULoDqeJ7m",
        "outputId": "a6ac69e5-6941-436a-e3ee-e2b640be0708"
      },
      "execution_count": null,
      "outputs": [
        {
          "output_type": "stream",
          "name": "stdout",
          "text": [
            "<class 'pandas.core.frame.DataFrame'>\n",
            "RangeIndex: 1922 entries, 0 to 1921\n",
            "Data columns (total 71 columns):\n",
            " #   Column                                                          Non-Null Count  Dtype         \n",
            "---  ------                                                          --------------  -----         \n",
            " 0   КлиентДатаРождения                                              1922 non-null   datetime64[ns]\n",
            " 1   КлиентПол                                                       1922 non-null   object        \n",
            " 2   Контрагент                                                      1922 non-null   object        \n",
            " 3   Профессия                                                       1922 non-null   object        \n",
            " 4   ЗаключениеМК                                                    1922 non-null   object        \n",
            " 5   ВредныеФакторы                                                  1922 non-null   object        \n",
            " 6   ПсихиатрияНаркология1_МКБ101                                    1922 non-null   object        \n",
            " 7   ПсихиатрияНаркология1_ПрофнепригодностьВременнаяПредставление1  1922 non-null   object        \n",
            " 8   ПсихиатрияНаркология1_ГоденНегоден_ЗначениеПредставление        1922 non-null   object        \n",
            " 9   ПсихиатрияНаркология1_Диагноз_ЗначениеПредставление             1922 non-null   object        \n",
            " 10  Офтальмология1_МКБ101                                           1922 non-null   object        \n",
            " 11  Офтальмология1_ПрофнепригодностьВременнаяПредставление1         1922 non-null   object        \n",
            " 12  Офтальмология1_Диагноз_ЗначениеПредставление                    1922 non-null   object        \n",
            " 13  Оториноларингология1_МКБ101                                     1922 non-null   object        \n",
            " 14  Оториноларингология1_ПрофнепригодностьВременнаяПредставление1   1922 non-null   object        \n",
            " 15  Оториноларингология1_ГоденНегоден_ЗначениеПредставление         1922 non-null   object        \n",
            " 16  Оториноларингология1_Диагноз_ЗначениеПредставление              1922 non-null   object        \n",
            " 17  Гинекология1_МКБ101                                             1922 non-null   object        \n",
            " 18  Гинекология1_ПрофнепригодностьВременнаяПредставление1           1922 non-null   object        \n",
            " 19  Гинекология1_ГоденНегоден_ЗначениеПредставление                 1922 non-null   object        \n",
            " 20  Гинекология1_Диагноз_ЗначениеПредставление                      1922 non-null   object        \n",
            " 21  Стоматология1_МКБ101                                            1922 non-null   object        \n",
            " 22  Стоматология1_ПрофнепригодностьВременнаяПредставление1          1922 non-null   object        \n",
            " 23  Стоматология1_Диагноз_ЗначениеПредставление                     1922 non-null   object        \n",
            " 24  Терапия1_ГоденНегоден_ЗначениеПредставление                     1922 non-null   object        \n",
            " 25  Дерматовенерология1_МКБ101                                      1922 non-null   object        \n",
            " 26  Дерматовенерология1_ПрофнепригодностьВременнаяПредставление1    1922 non-null   object        \n",
            " 27  Дерматовенерология1_Диагноз_ЗначениеПредставление               1922 non-null   object        \n",
            " 28  Неврология1_МКБ101                                              1922 non-null   object        \n",
            " 29  Неврология1_ПрофнепригодностьВременнаяПредставление1            1922 non-null   object        \n",
            " 30  Неврология1_ГоденНегоден_ЗначениеПредставление                  1922 non-null   object        \n",
            " 31  Неврология1_Диагноз_ЗначениеПредставление                       1922 non-null   object        \n",
            " 32  Терапия1_МКБ101                                                 1922 non-null   object        \n",
            " 33  Терапия1_ПрофнепригодностьВременнаяПредставление1               1922 non-null   object        \n",
            " 34  УЗИДиагностика1_Заключение_ЗначениеПредставление                1922 non-null   object        \n",
            " 35  Хирургия1_МКБ101                                                1922 non-null   object        \n",
            " 36  Хирургия1_ПрофнепригодностьВременнаяПредставление1              1922 non-null   object        \n",
            " 37  Хирургия1_Диагноз_ЗначениеПредставление                         1922 non-null   object        \n",
            " 38  Офтальмология1_ПрофнепригодностьВременнаяПредставление2         1922 non-null   object        \n",
            " 39  Терапия2_МКБ101                                                 1922 non-null   object        \n",
            " 40  Терапия2_ПрофнепригодностьВременнаяПредставление1               1922 non-null   object        \n",
            " 41  Терапия2_ГоденНегоден_ЗначениеПредставление                     1922 non-null   object        \n",
            " 42  Неврология2_МКБ101                                              1922 non-null   object        \n",
            " 43  Неврология2_ПрофнепригодностьВременнаяПредставление1            1922 non-null   object        \n",
            " 44  Неврология2_Диагноз_ЗначениеПредставление                       1922 non-null   object        \n",
            " 45  УЗИДиагностика2_Заключение_ЗначениеПредставление                1922 non-null   object        \n",
            " 46  УЗИДиагностика1_МКБ101                                          1922 non-null   object        \n",
            " 47  ПсихиатрияНаркология2_МКБ101                                    1922 non-null   object        \n",
            " 48  ПсихиатрияНаркология2_Диагноз_ЗначениеПредставление             1922 non-null   object        \n",
            " 49  Терапия1_ПрофнепригодностьВременнаяПредставление2               1922 non-null   object        \n",
            " 50  Гинекология2_МКБ101                                             1922 non-null   object        \n",
            " 51  Гинекология2_Диагноз_ЗначениеПредставление                      1922 non-null   object        \n",
            " 52  Хирургия2_МКБ101                                                1922 non-null   object        \n",
            " 53  Хирургия2_ПрофнепригодностьВременнаяПредставление1              1922 non-null   object        \n",
            " 54  Хирургия2_Диагноз_ЗначениеПредставление                         1922 non-null   object        \n",
            " 55  ПроцедурнаяМедсестра1_МКБ101                                    1922 non-null   object        \n",
            " 56  Стоматология2_МКБ101                                            1922 non-null   object        \n",
            " 57  Стоматология2_Диагноз_ЗначениеПредставление                     1922 non-null   object        \n",
            " 58  Оториноларингология2_МКБ101                                     1922 non-null   object        \n",
            " 59  Оториноларингология2_Диагноз_ЗначениеПредставление              1922 non-null   object        \n",
            " 60  Дерматовенерология2_МКБ101                                      1922 non-null   object        \n",
            " 61  Дерматовенерология2_Диагноз_ЗначениеПредставление               1922 non-null   object        \n",
            " 62  Терапия2_Диагноз_ЗначениеПредставление                          1922 non-null   object        \n",
            " 63  Хирургия1_ПрофнепригодностьВременнаяПредставление2              1922 non-null   object        \n",
            " 64  Хирургия2_ПрофнепригодностьВременнаяПредставление2              1922 non-null   object        \n",
            " 65  Офтальмология2_МКБ101                                           1922 non-null   object        \n",
            " 66  Офтальмология2_ПрофнепригодностьВременнаяПредставление1         1922 non-null   object        \n",
            " 67  Офтальмология2_ПрофнепригодностьВременнаяПредставление2         1922 non-null   object        \n",
            " 68  Офтальмология2_Диагноз_ЗначениеПредставление                    1922 non-null   object        \n",
            " 69  Терапия2_ПрофнепригодностьВременнаяПредставление2               1922 non-null   object        \n",
            " 70  Терапия1_Диагноз_ЗначениеПредставление                          1922 non-null   object        \n",
            "dtypes: datetime64[ns](1), object(70)\n",
            "memory usage: 1.0+ MB\n"
          ]
        }
      ]
    },
    {
      "cell_type": "code",
      "source": [
        "count_columns_fill(df, list(df.columns))"
      ],
      "metadata": {
        "colab": {
          "base_uri": "https://localhost:8080/"
        },
        "id": "zCb0VghFe-Fq",
        "outputId": "40d5fb02-b7d9-4571-af29-393d6baa44f6"
      },
      "execution_count": null,
      "outputs": [
        {
          "output_type": "stream",
          "name": "stdout",
          "text": [
            "Текущая структура датафрейма:  (1922, 71) \n",
            "\n",
            "*** КлиентДатаРождения: ***\n",
            "Количество непустых элементов:  1922\n",
            "Количество уникальных элементов:  1794 \n",
            "\n",
            "*** КлиентПол: ***\n",
            "Количество непустых элементов:  1922\n",
            "Количество уникальных элементов:  2 \n",
            "\n",
            "*** Контрагент: ***\n",
            "Количество непустых элементов:  1922\n",
            "Количество уникальных элементов:  177 \n",
            "\n",
            "*** Профессия: ***\n",
            "Количество непустых элементов:  1922\n",
            "Количество уникальных элементов:  623 \n",
            "\n",
            "*** ЗаключениеМК: ***\n",
            "Количество непустых элементов:  1922\n",
            "Количество уникальных элементов:  4 \n",
            "\n",
            "*** ВредныеФакторы: ***\n",
            "Количество непустых элементов:  1922\n",
            "Количество уникальных элементов:  512 \n",
            "\n",
            "*** ПсихиатрияНаркология1_МКБ101: ***\n",
            "Количество непустых элементов:  1922\n",
            "Количество уникальных элементов:  10 \n",
            "\n",
            "*** ПсихиатрияНаркология1_ПрофнепригодностьВременнаяПредставление1: ***\n",
            "Количество непустых элементов:  1922\n",
            "Количество уникальных элементов:  5 \n",
            "\n",
            "*** ПсихиатрияНаркология1_ГоденНегоден_ЗначениеПредставление: ***\n",
            "Количество непустых элементов:  1922\n",
            "Количество уникальных элементов:  3 \n",
            "\n",
            "*** ПсихиатрияНаркология1_Диагноз_ЗначениеПредставление: ***\n",
            "Количество непустых элементов:  1922\n",
            "Количество уникальных элементов:  14 \n",
            "\n",
            "*** Офтальмология1_МКБ101: ***\n",
            "Количество непустых элементов:  1922\n",
            "Количество уникальных элементов:  20 \n",
            "\n",
            "*** Офтальмология1_ПрофнепригодностьВременнаяПредставление1: ***\n",
            "Количество непустых элементов:  1922\n",
            "Количество уникальных элементов:  4 \n",
            "\n",
            "*** Офтальмология1_Диагноз_ЗначениеПредставление: ***\n",
            "Количество непустых элементов:  1922\n",
            "Количество уникальных элементов:  130 \n",
            "\n",
            "*** Оториноларингология1_МКБ101: ***\n",
            "Количество непустых элементов:  1922\n",
            "Количество уникальных элементов:  13 \n",
            "\n",
            "*** Оториноларингология1_ПрофнепригодностьВременнаяПредставление1: ***\n",
            "Количество непустых элементов:  1922\n",
            "Количество уникальных элементов:  4 \n",
            "\n",
            "*** Оториноларингология1_ГоденНегоден_ЗначениеПредставление: ***\n",
            "Количество непустых элементов:  1922\n",
            "Количество уникальных элементов:  3 \n",
            "\n",
            "*** Оториноларингология1_Диагноз_ЗначениеПредставление: ***\n",
            "Количество непустых элементов:  1922\n",
            "Количество уникальных элементов:  13 \n",
            "\n",
            "*** Гинекология1_МКБ101: ***\n",
            "Количество непустых элементов:  1922\n",
            "Количество уникальных элементов:  7 \n",
            "\n",
            "*** Гинекология1_ПрофнепригодностьВременнаяПредставление1: ***\n",
            "Количество непустых элементов:  1922\n",
            "Количество уникальных элементов:  3 \n",
            "\n",
            "*** Гинекология1_ГоденНегоден_ЗначениеПредставление: ***\n",
            "Количество непустых элементов:  1922\n",
            "Количество уникальных элементов:  3 \n",
            "\n",
            "*** Гинекология1_Диагноз_ЗначениеПредставление: ***\n",
            "Количество непустых элементов:  1922\n",
            "Количество уникальных элементов:  17 \n",
            "\n",
            "*** Стоматология1_МКБ101: ***\n",
            "Количество непустых элементов:  1922\n",
            "Количество уникальных элементов:  12 \n",
            "\n",
            "*** Стоматология1_ПрофнепригодностьВременнаяПредставление1: ***\n",
            "Количество непустых элементов:  1922\n",
            "Количество уникальных элементов:  3 \n",
            "\n",
            "*** Стоматология1_Диагноз_ЗначениеПредставление: ***\n",
            "Количество непустых элементов:  1922\n",
            "Количество уникальных элементов:  14 \n",
            "\n",
            "*** Терапия1_ГоденНегоден_ЗначениеПредставление: ***\n",
            "Количество непустых элементов:  1922\n",
            "Количество уникальных элементов:  3 \n",
            "\n",
            "*** Дерматовенерология1_МКБ101: ***\n",
            "Количество непустых элементов:  1922\n",
            "Количество уникальных элементов:  3 \n",
            "\n",
            "*** Дерматовенерология1_ПрофнепригодностьВременнаяПредставление1: ***\n",
            "Количество непустых элементов:  1922\n",
            "Количество уникальных элементов:  3 \n",
            "\n",
            "*** Дерматовенерология1_Диагноз_ЗначениеПредставление: ***\n",
            "Количество непустых элементов:  1922\n",
            "Количество уникальных элементов:  5 \n",
            "\n",
            "*** Неврология1_МКБ101: ***\n",
            "Количество непустых элементов:  1922\n",
            "Количество уникальных элементов:  13 \n",
            "\n",
            "*** Неврология1_ПрофнепригодностьВременнаяПредставление1: ***\n",
            "Количество непустых элементов:  1922\n",
            "Количество уникальных элементов:  4 \n",
            "\n",
            "*** Неврология1_ГоденНегоден_ЗначениеПредставление: ***\n",
            "Количество непустых элементов:  1922\n",
            "Количество уникальных элементов:  3 \n",
            "\n",
            "*** Неврология1_Диагноз_ЗначениеПредставление: ***\n",
            "Количество непустых элементов:  1922\n",
            "Количество уникальных элементов:  14 \n",
            "\n",
            "*** Терапия1_МКБ101: ***\n",
            "Количество непустых элементов:  1922\n",
            "Количество уникальных элементов:  28 \n",
            "\n",
            "*** Терапия1_ПрофнепригодностьВременнаяПредставление1: ***\n",
            "Количество непустых элементов:  1922\n",
            "Количество уникальных элементов:  4 \n",
            "\n",
            "*** УЗИДиагностика1_Заключение_ЗначениеПредставление: ***\n",
            "Количество непустых элементов:  1922\n",
            "Количество уникальных элементов:  178 \n",
            "\n",
            "*** Хирургия1_МКБ101: ***\n",
            "Количество непустых элементов:  1922\n",
            "Количество уникальных элементов:  6 \n",
            "\n",
            "*** Хирургия1_ПрофнепригодностьВременнаяПредставление1: ***\n",
            "Количество непустых элементов:  1922\n",
            "Количество уникальных элементов:  5 \n",
            "\n",
            "*** Хирургия1_Диагноз_ЗначениеПредставление: ***\n",
            "Количество непустых элементов:  1922\n",
            "Количество уникальных элементов:  6 \n",
            "\n",
            "*** Офтальмология1_ПрофнепригодностьВременнаяПредставление2: ***\n",
            "Количество непустых элементов:  1922\n",
            "Количество уникальных элементов:  3 \n",
            "\n",
            "*** Терапия2_МКБ101: ***\n",
            "Количество непустых элементов:  1922\n",
            "Количество уникальных элементов:  4 \n",
            "\n",
            "*** Терапия2_ПрофнепригодностьВременнаяПредставление1: ***\n",
            "Количество непустых элементов:  1922\n",
            "Количество уникальных элементов:  5 \n",
            "\n",
            "*** Терапия2_ГоденНегоден_ЗначениеПредставление: ***\n",
            "Количество непустых элементов:  1922\n",
            "Количество уникальных элементов:  3 \n",
            "\n",
            "*** Неврология2_МКБ101: ***\n",
            "Количество непустых элементов:  1922\n",
            "Количество уникальных элементов:  3 \n",
            "\n",
            "*** Неврология2_ПрофнепригодностьВременнаяПредставление1: ***\n",
            "Количество непустых элементов:  1922\n",
            "Количество уникальных элементов:  3 \n",
            "\n",
            "*** Неврология2_Диагноз_ЗначениеПредставление: ***\n",
            "Количество непустых элементов:  1922\n",
            "Количество уникальных элементов:  3 \n",
            "\n",
            "*** УЗИДиагностика2_Заключение_ЗначениеПредставление: ***\n",
            "Количество непустых элементов:  1922\n",
            "Количество уникальных элементов:  11 \n",
            "\n",
            "*** УЗИДиагностика1_МКБ101: ***\n",
            "Количество непустых элементов:  1922\n",
            "Количество уникальных элементов:  8 \n",
            "\n",
            "*** ПсихиатрияНаркология2_МКБ101: ***\n",
            "Количество непустых элементов:  1922\n",
            "Количество уникальных элементов:  3 \n",
            "\n",
            "*** ПсихиатрияНаркология2_Диагноз_ЗначениеПредставление: ***\n",
            "Количество непустых элементов:  1922\n",
            "Количество уникальных элементов:  3 \n",
            "\n",
            "*** Терапия1_ПрофнепригодностьВременнаяПредставление2: ***\n",
            "Количество непустых элементов:  1922\n",
            "Количество уникальных элементов:  4 \n",
            "\n",
            "*** Гинекология2_МКБ101: ***\n",
            "Количество непустых элементов:  1922\n",
            "Количество уникальных элементов:  3 \n",
            "\n",
            "*** Гинекология2_Диагноз_ЗначениеПредставление: ***\n",
            "Количество непустых элементов:  1922\n",
            "Количество уникальных элементов:  5 \n",
            "\n",
            "*** Хирургия2_МКБ101: ***\n",
            "Количество непустых элементов:  1922\n",
            "Количество уникальных элементов:  3 \n",
            "\n",
            "*** Хирургия2_ПрофнепригодностьВременнаяПредставление1: ***\n",
            "Количество непустых элементов:  1922\n",
            "Количество уникальных элементов:  3 \n",
            "\n",
            "*** Хирургия2_Диагноз_ЗначениеПредставление: ***\n",
            "Количество непустых элементов:  1922\n",
            "Количество уникальных элементов:  3 \n",
            "\n",
            "*** ПроцедурнаяМедсестра1_МКБ101: ***\n",
            "Количество непустых элементов:  1922\n",
            "Количество уникальных элементов:  3 \n",
            "\n",
            "*** Стоматология2_МКБ101: ***\n",
            "Количество непустых элементов:  1922\n",
            "Количество уникальных элементов:  4 \n",
            "\n",
            "*** Стоматология2_Диагноз_ЗначениеПредставление: ***\n",
            "Количество непустых элементов:  1922\n",
            "Количество уникальных элементов:  5 \n",
            "\n",
            "*** Оториноларингология2_МКБ101: ***\n",
            "Количество непустых элементов:  1922\n",
            "Количество уникальных элементов:  4 \n",
            "\n",
            "*** Оториноларингология2_Диагноз_ЗначениеПредставление: ***\n",
            "Количество непустых элементов:  1922\n",
            "Количество уникальных элементов:  4 \n",
            "\n",
            "*** Дерматовенерология2_МКБ101: ***\n",
            "Количество непустых элементов:  1922\n",
            "Количество уникальных элементов:  3 \n",
            "\n",
            "*** Дерматовенерология2_Диагноз_ЗначениеПредставление: ***\n",
            "Количество непустых элементов:  1922\n",
            "Количество уникальных элементов:  3 \n",
            "\n",
            "*** Терапия2_Диагноз_ЗначениеПредставление: ***\n",
            "Количество непустых элементов:  1922\n",
            "Количество уникальных элементов:  5 \n",
            "\n",
            "*** Хирургия1_ПрофнепригодностьВременнаяПредставление2: ***\n",
            "Количество непустых элементов:  1922\n",
            "Количество уникальных элементов:  3 \n",
            "\n",
            "*** Хирургия2_ПрофнепригодностьВременнаяПредставление2: ***\n",
            "Количество непустых элементов:  1922\n",
            "Количество уникальных элементов:  3 \n",
            "\n",
            "*** Офтальмология2_МКБ101: ***\n",
            "Количество непустых элементов:  1922\n",
            "Количество уникальных элементов:  11 \n",
            "\n",
            "*** Офтальмология2_ПрофнепригодностьВременнаяПредставление1: ***\n",
            "Количество непустых элементов:  1922\n",
            "Количество уникальных элементов:  3 \n",
            "\n",
            "*** Офтальмология2_ПрофнепригодностьВременнаяПредставление2: ***\n",
            "Количество непустых элементов:  1922\n",
            "Количество уникальных элементов:  3 \n",
            "\n",
            "*** Офтальмология2_Диагноз_ЗначениеПредставление: ***\n",
            "Количество непустых элементов:  1922\n",
            "Количество уникальных элементов:  18 \n",
            "\n",
            "*** Терапия2_ПрофнепригодностьВременнаяПредставление2: ***\n",
            "Количество непустых элементов:  1922\n",
            "Количество уникальных элементов:  4 \n",
            "\n",
            "*** Терапия1_Диагноз_ЗначениеПредставление: ***\n",
            "Количество непустых элементов:  1922\n",
            "Количество уникальных элементов:  18 \n",
            "\n",
            "Количество столбцов:  71\n"
          ]
        }
      ]
    },
    {
      "cell_type": "code",
      "source": [
        "dnm = 'df'\n",
        "cmd = dnm + \"['ПроцедурнаяМедсестра1_МКБ101']\"\n",
        "eval(cmd)"
      ],
      "metadata": {
        "colab": {
          "base_uri": "https://localhost:8080/"
        },
        "id": "EiQG9YiW1zWH",
        "outputId": "3e4875de-169a-454b-90fc-1c9c5e38e960"
      },
      "execution_count": null,
      "outputs": [
        {
          "output_type": "execute_result",
          "data": {
            "text/plain": [
              "0       Не определено\n",
              "1       Не определено\n",
              "2       Не определено\n",
              "3       Не определено\n",
              "4       Не определено\n",
              "            ...      \n",
              "1917    Не определено\n",
              "1918    Не определено\n",
              "1919    Не определено\n",
              "1920    Не определено\n",
              "1921    Не определено\n",
              "Name: ПроцедурнаяМедсестра1_МКБ101, Length: 1922, dtype: object"
            ]
          },
          "metadata": {},
          "execution_count": 72
        }
      ]
    },
    {
      "cell_type": "markdown",
      "source": [
        "### Сборка словаря со сводными данными для формирования датасетов"
      ],
      "metadata": {
        "id": "ToEnbvAFiQW8"
      }
    },
    {
      "cell_type": "code",
      "source": [],
      "metadata": {
        "id": "a8BwN3R-g0RA"
      },
      "execution_count": null,
      "outputs": []
    },
    {
      "cell_type": "code",
      "source": [
        "df.to_excel('/content/drive/MyDrive/УИИ(marphida)/Стажировка Профпатолог/ICdata_I(71)_1.xlsx', index=False)"
      ],
      "metadata": {
        "id": "5_wHY5f9kTTE"
      },
      "execution_count": null,
      "outputs": []
    }
  ]
}