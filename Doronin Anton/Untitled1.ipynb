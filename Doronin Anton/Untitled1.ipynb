{
  "nbformat": 4,
  "nbformat_minor": 0,
  "metadata": {
    "colab": {
      "provenance": [],
      "mount_file_id": "1jACBzGpcFzct-tKP3ySZaXm2GsS1ONhI",
      "authorship_tag": "ABX9TyNPTgQWGTCsM0ToonSyz9hY",
      "include_colab_link": true
    },
    "kernelspec": {
      "name": "python3",
      "display_name": "Python 3"
    },
    "language_info": {
      "name": "python"
    }
  },
  "cells": [
    {
      "cell_type": "markdown",
      "metadata": {
        "id": "view-in-github",
        "colab_type": "text"
      },
      "source": [
        "<a href=\"https://colab.research.google.com/github/Untick/InspectrumClinic_RS_gr1/blob/main/Doronin%20Anton/Untitled1.ipynb\" target=\"_parent\"><img src=\"https://colab.research.google.com/assets/colab-badge.svg\" alt=\"Open In Colab\"/></a>"
      ]
    },
    {
      "cell_type": "markdown",
      "source": [
        "###Стажировка Профпатолог"
      ],
      "metadata": {
        "id": "mFfbT56LzlvY"
      }
    },
    {
      "cell_type": "code",
      "source": [
        "import pandas as pd\n",
        "import numpy as np\n",
        "import matplotlib.pyplot as plt \n",
        "import os \n",
        "%matplotlib inline"
      ],
      "metadata": {
        "id": "3-gxa7zpzsI1"
      },
      "execution_count": 1,
      "outputs": []
    },
    {
      "cell_type": "code",
      "source": [
        "df_orginal = pd.read_excel('/content/drive/MyDrive/Profpatolog/датасет профпатолог часть.xlsx')\n",
        "df_orginal.head()"
      ],
      "metadata": {
        "colab": {
          "base_uri": "https://localhost:8080/",
          "height": 560
        },
        "id": "Hy9eTAqo0wk4",
        "outputId": "b46007cf-76df-4b0e-ec0c-307881553860"
      },
      "execution_count": 2,
      "outputs": [
        {
          "output_type": "execute_result",
          "data": {
            "text/plain": [
              "          ДокументПрохождениеМедосмотра                                Клиент  \\\n",
              "0  7f41ca7e-7dac-11ec-80fc-0cc47aab8067  c91e3407-b81f-11e9-80cf-0cc47aab8067   \n",
              "1  2ee1f9ac-83dd-11ec-80fc-0cc47aab8067  1a1a5fea-8b7f-11eb-80e8-0cc47aab8067   \n",
              "2  9cbb191e-8e24-11ec-80fe-0cc47aab8067  7fe324e0-fa51-11eb-80f6-0cc47aab8067   \n",
              "3  b8a33910-8eec-11ec-80fe-0cc47aab8067  98f9d761-8d65-11ec-80fe-0cc47aab8067   \n",
              "4  0bb0d181-938c-11ec-80fe-0cc47aab8067  009aac7d-7bcf-11eb-80e8-0cc47aab8067   \n",
              "\n",
              "  КлиентДатаРождения КлиентПол КлиентПолПредставление  \\\n",
              "0         1976-10-24   Женский                Женский   \n",
              "1         1987-11-18   Мужской                Мужской   \n",
              "2         1985-09-08   Мужской                Мужской   \n",
              "3         1988-04-25   Мужской                Мужской   \n",
              "4         1984-04-17   Мужской                Мужской   \n",
              "\n",
              "  ДатаЗавершенияМедосмотра  ТипМедосмотра ТипМедосмотраПредставление  \\\n",
              "0               2022-01-25  Периодический              Периодический   \n",
              "1               2022-02-02  Периодический              Периодический   \n",
              "2               2022-02-15  Периодический              Периодический   \n",
              "3               2022-02-16  Периодический              Периодический   \n",
              "4               2022-02-22  Периодический              Периодический   \n",
              "\n",
              "   ПсихОсвидетельствование                            Контрагент  ...  \\\n",
              "0                    False  23c173a7-30d9-11e7-80d8-708bcd7f83cd  ...   \n",
              "1                    False  a6d559b0-7835-11eb-80e8-0cc47aab8067  ...   \n",
              "2                    False  a6d559b0-7835-11eb-80e8-0cc47aab8067  ...   \n",
              "3                    False  a6d559b0-7835-11eb-80e8-0cc47aab8067  ...   \n",
              "4                    False  a6d559b0-7835-11eb-80e8-0cc47aab8067  ...   \n",
              "\n",
              "  Оториноларингология3_Аудиометрия1_Значение  \\\n",
              "0                                        NaN   \n",
              "1                                        NaN   \n",
              "2                                        NaN   \n",
              "3                                        NaN   \n",
              "4                                        NaN   \n",
              "\n",
              "  Оториноларингология3_Аудиометрия1_ЗначениеПредставление  \\\n",
              "0                                                NaN        \n",
              "1                                                NaN        \n",
              "2                                                NaN        \n",
              "3                                                NaN        \n",
              "4                                                NaN        \n",
              "\n",
              "  Оториноларингология1_ЖалобыДополнение_Значение  \\\n",
              "0                                            NaN   \n",
              "1                                            NaN   \n",
              "2                                            NaN   \n",
              "3                                            NaN   \n",
              "4                                            NaN   \n",
              "\n",
              "  Оториноларингология1_ЖалобыДополнение_ЗначениеПредставление  \\\n",
              "0                                                NaN            \n",
              "1                                                NaN            \n",
              "2                                                NaN            \n",
              "3                                                NaN            \n",
              "4                                                NaN            \n",
              "\n",
              "  Стоматология2_ВП2_Значение Стоматология2_ВП2_ЗначениеПредставление  \\\n",
              "0                        NaN                                     NaN   \n",
              "1                        NaN                                     NaN   \n",
              "2                        NaN                                     NaN   \n",
              "3                        NaN                                     NaN   \n",
              "4                        NaN                                     NaN   \n",
              "\n",
              "  Терапия2_ЗаключениеФОГК_Значение  \\\n",
              "0                              NaN   \n",
              "1                              NaN   \n",
              "2                              NaN   \n",
              "3                              NaN   \n",
              "4                              NaN   \n",
              "\n",
              "  Терапия2_ЗаключениеФОГК_ЗначениеПредставление  \\\n",
              "0                                           NaN   \n",
              "1                                           NaN   \n",
              "2                                           NaN   \n",
              "3                                           NaN   \n",
              "4                                           NaN   \n",
              "\n",
              "  Офтальмология1_ДвигательныйАппаратГлазДополнение_Значение  \\\n",
              "0                                                NaN          \n",
              "1                                                NaN          \n",
              "2                                                NaN          \n",
              "3                                                NaN          \n",
              "4                                                NaN          \n",
              "\n",
              "  Офтальмология1_ДвигательныйАппаратГлазДополнение_ЗначениеПредставление  \n",
              "0                                                NaN                      \n",
              "1                                                NaN                      \n",
              "2                                                NaN                      \n",
              "3                                                NaN                      \n",
              "4                                                NaN                      \n",
              "\n",
              "[5 rows x 4587 columns]"
            ],
            "text/html": [
              "\n",
              "  <div id=\"df-350c21e8-b2b9-4824-b68b-0d35f03c5722\">\n",
              "    <div class=\"colab-df-container\">\n",
              "      <div>\n",
              "<style scoped>\n",
              "    .dataframe tbody tr th:only-of-type {\n",
              "        vertical-align: middle;\n",
              "    }\n",
              "\n",
              "    .dataframe tbody tr th {\n",
              "        vertical-align: top;\n",
              "    }\n",
              "\n",
              "    .dataframe thead th {\n",
              "        text-align: right;\n",
              "    }\n",
              "</style>\n",
              "<table border=\"1\" class=\"dataframe\">\n",
              "  <thead>\n",
              "    <tr style=\"text-align: right;\">\n",
              "      <th></th>\n",
              "      <th>ДокументПрохождениеМедосмотра</th>\n",
              "      <th>Клиент</th>\n",
              "      <th>КлиентДатаРождения</th>\n",
              "      <th>КлиентПол</th>\n",
              "      <th>КлиентПолПредставление</th>\n",
              "      <th>ДатаЗавершенияМедосмотра</th>\n",
              "      <th>ТипМедосмотра</th>\n",
              "      <th>ТипМедосмотраПредставление</th>\n",
              "      <th>ПсихОсвидетельствование</th>\n",
              "      <th>Контрагент</th>\n",
              "      <th>...</th>\n",
              "      <th>Оториноларингология3_Аудиометрия1_Значение</th>\n",
              "      <th>Оториноларингология3_Аудиометрия1_ЗначениеПредставление</th>\n",
              "      <th>Оториноларингология1_ЖалобыДополнение_Значение</th>\n",
              "      <th>Оториноларингология1_ЖалобыДополнение_ЗначениеПредставление</th>\n",
              "      <th>Стоматология2_ВП2_Значение</th>\n",
              "      <th>Стоматология2_ВП2_ЗначениеПредставление</th>\n",
              "      <th>Терапия2_ЗаключениеФОГК_Значение</th>\n",
              "      <th>Терапия2_ЗаключениеФОГК_ЗначениеПредставление</th>\n",
              "      <th>Офтальмология1_ДвигательныйАппаратГлазДополнение_Значение</th>\n",
              "      <th>Офтальмология1_ДвигательныйАппаратГлазДополнение_ЗначениеПредставление</th>\n",
              "    </tr>\n",
              "  </thead>\n",
              "  <tbody>\n",
              "    <tr>\n",
              "      <th>0</th>\n",
              "      <td>7f41ca7e-7dac-11ec-80fc-0cc47aab8067</td>\n",
              "      <td>c91e3407-b81f-11e9-80cf-0cc47aab8067</td>\n",
              "      <td>1976-10-24</td>\n",
              "      <td>Женский</td>\n",
              "      <td>Женский</td>\n",
              "      <td>2022-01-25</td>\n",
              "      <td>Периодический</td>\n",
              "      <td>Периодический</td>\n",
              "      <td>False</td>\n",
              "      <td>23c173a7-30d9-11e7-80d8-708bcd7f83cd</td>\n",
              "      <td>...</td>\n",
              "      <td>NaN</td>\n",
              "      <td>NaN</td>\n",
              "      <td>NaN</td>\n",
              "      <td>NaN</td>\n",
              "      <td>NaN</td>\n",
              "      <td>NaN</td>\n",
              "      <td>NaN</td>\n",
              "      <td>NaN</td>\n",
              "      <td>NaN</td>\n",
              "      <td>NaN</td>\n",
              "    </tr>\n",
              "    <tr>\n",
              "      <th>1</th>\n",
              "      <td>2ee1f9ac-83dd-11ec-80fc-0cc47aab8067</td>\n",
              "      <td>1a1a5fea-8b7f-11eb-80e8-0cc47aab8067</td>\n",
              "      <td>1987-11-18</td>\n",
              "      <td>Мужской</td>\n",
              "      <td>Мужской</td>\n",
              "      <td>2022-02-02</td>\n",
              "      <td>Периодический</td>\n",
              "      <td>Периодический</td>\n",
              "      <td>False</td>\n",
              "      <td>a6d559b0-7835-11eb-80e8-0cc47aab8067</td>\n",
              "      <td>...</td>\n",
              "      <td>NaN</td>\n",
              "      <td>NaN</td>\n",
              "      <td>NaN</td>\n",
              "      <td>NaN</td>\n",
              "      <td>NaN</td>\n",
              "      <td>NaN</td>\n",
              "      <td>NaN</td>\n",
              "      <td>NaN</td>\n",
              "      <td>NaN</td>\n",
              "      <td>NaN</td>\n",
              "    </tr>\n",
              "    <tr>\n",
              "      <th>2</th>\n",
              "      <td>9cbb191e-8e24-11ec-80fe-0cc47aab8067</td>\n",
              "      <td>7fe324e0-fa51-11eb-80f6-0cc47aab8067</td>\n",
              "      <td>1985-09-08</td>\n",
              "      <td>Мужской</td>\n",
              "      <td>Мужской</td>\n",
              "      <td>2022-02-15</td>\n",
              "      <td>Периодический</td>\n",
              "      <td>Периодический</td>\n",
              "      <td>False</td>\n",
              "      <td>a6d559b0-7835-11eb-80e8-0cc47aab8067</td>\n",
              "      <td>...</td>\n",
              "      <td>NaN</td>\n",
              "      <td>NaN</td>\n",
              "      <td>NaN</td>\n",
              "      <td>NaN</td>\n",
              "      <td>NaN</td>\n",
              "      <td>NaN</td>\n",
              "      <td>NaN</td>\n",
              "      <td>NaN</td>\n",
              "      <td>NaN</td>\n",
              "      <td>NaN</td>\n",
              "    </tr>\n",
              "    <tr>\n",
              "      <th>3</th>\n",
              "      <td>b8a33910-8eec-11ec-80fe-0cc47aab8067</td>\n",
              "      <td>98f9d761-8d65-11ec-80fe-0cc47aab8067</td>\n",
              "      <td>1988-04-25</td>\n",
              "      <td>Мужской</td>\n",
              "      <td>Мужской</td>\n",
              "      <td>2022-02-16</td>\n",
              "      <td>Периодический</td>\n",
              "      <td>Периодический</td>\n",
              "      <td>False</td>\n",
              "      <td>a6d559b0-7835-11eb-80e8-0cc47aab8067</td>\n",
              "      <td>...</td>\n",
              "      <td>NaN</td>\n",
              "      <td>NaN</td>\n",
              "      <td>NaN</td>\n",
              "      <td>NaN</td>\n",
              "      <td>NaN</td>\n",
              "      <td>NaN</td>\n",
              "      <td>NaN</td>\n",
              "      <td>NaN</td>\n",
              "      <td>NaN</td>\n",
              "      <td>NaN</td>\n",
              "    </tr>\n",
              "    <tr>\n",
              "      <th>4</th>\n",
              "      <td>0bb0d181-938c-11ec-80fe-0cc47aab8067</td>\n",
              "      <td>009aac7d-7bcf-11eb-80e8-0cc47aab8067</td>\n",
              "      <td>1984-04-17</td>\n",
              "      <td>Мужской</td>\n",
              "      <td>Мужской</td>\n",
              "      <td>2022-02-22</td>\n",
              "      <td>Периодический</td>\n",
              "      <td>Периодический</td>\n",
              "      <td>False</td>\n",
              "      <td>a6d559b0-7835-11eb-80e8-0cc47aab8067</td>\n",
              "      <td>...</td>\n",
              "      <td>NaN</td>\n",
              "      <td>NaN</td>\n",
              "      <td>NaN</td>\n",
              "      <td>NaN</td>\n",
              "      <td>NaN</td>\n",
              "      <td>NaN</td>\n",
              "      <td>NaN</td>\n",
              "      <td>NaN</td>\n",
              "      <td>NaN</td>\n",
              "      <td>NaN</td>\n",
              "    </tr>\n",
              "  </tbody>\n",
              "</table>\n",
              "<p>5 rows × 4587 columns</p>\n",
              "</div>\n",
              "      <button class=\"colab-df-convert\" onclick=\"convertToInteractive('df-350c21e8-b2b9-4824-b68b-0d35f03c5722')\"\n",
              "              title=\"Convert this dataframe to an interactive table.\"\n",
              "              style=\"display:none;\">\n",
              "        \n",
              "  <svg xmlns=\"http://www.w3.org/2000/svg\" height=\"24px\"viewBox=\"0 0 24 24\"\n",
              "       width=\"24px\">\n",
              "    <path d=\"M0 0h24v24H0V0z\" fill=\"none\"/>\n",
              "    <path d=\"M18.56 5.44l.94 2.06.94-2.06 2.06-.94-2.06-.94-.94-2.06-.94 2.06-2.06.94zm-11 1L8.5 8.5l.94-2.06 2.06-.94-2.06-.94L8.5 2.5l-.94 2.06-2.06.94zm10 10l.94 2.06.94-2.06 2.06-.94-2.06-.94-.94-2.06-.94 2.06-2.06.94z\"/><path d=\"M17.41 7.96l-1.37-1.37c-.4-.4-.92-.59-1.43-.59-.52 0-1.04.2-1.43.59L10.3 9.45l-7.72 7.72c-.78.78-.78 2.05 0 2.83L4 21.41c.39.39.9.59 1.41.59.51 0 1.02-.2 1.41-.59l7.78-7.78 2.81-2.81c.8-.78.8-2.07 0-2.86zM5.41 20L4 18.59l7.72-7.72 1.47 1.35L5.41 20z\"/>\n",
              "  </svg>\n",
              "      </button>\n",
              "      \n",
              "  <style>\n",
              "    .colab-df-container {\n",
              "      display:flex;\n",
              "      flex-wrap:wrap;\n",
              "      gap: 12px;\n",
              "    }\n",
              "\n",
              "    .colab-df-convert {\n",
              "      background-color: #E8F0FE;\n",
              "      border: none;\n",
              "      border-radius: 50%;\n",
              "      cursor: pointer;\n",
              "      display: none;\n",
              "      fill: #1967D2;\n",
              "      height: 32px;\n",
              "      padding: 0 0 0 0;\n",
              "      width: 32px;\n",
              "    }\n",
              "\n",
              "    .colab-df-convert:hover {\n",
              "      background-color: #E2EBFA;\n",
              "      box-shadow: 0px 1px 2px rgba(60, 64, 67, 0.3), 0px 1px 3px 1px rgba(60, 64, 67, 0.15);\n",
              "      fill: #174EA6;\n",
              "    }\n",
              "\n",
              "    [theme=dark] .colab-df-convert {\n",
              "      background-color: #3B4455;\n",
              "      fill: #D2E3FC;\n",
              "    }\n",
              "\n",
              "    [theme=dark] .colab-df-convert:hover {\n",
              "      background-color: #434B5C;\n",
              "      box-shadow: 0px 1px 3px 1px rgba(0, 0, 0, 0.15);\n",
              "      filter: drop-shadow(0px 1px 2px rgba(0, 0, 0, 0.3));\n",
              "      fill: #FFFFFF;\n",
              "    }\n",
              "  </style>\n",
              "\n",
              "      <script>\n",
              "        const buttonEl =\n",
              "          document.querySelector('#df-350c21e8-b2b9-4824-b68b-0d35f03c5722 button.colab-df-convert');\n",
              "        buttonEl.style.display =\n",
              "          google.colab.kernel.accessAllowed ? 'block' : 'none';\n",
              "\n",
              "        async function convertToInteractive(key) {\n",
              "          const element = document.querySelector('#df-350c21e8-b2b9-4824-b68b-0d35f03c5722');\n",
              "          const dataTable =\n",
              "            await google.colab.kernel.invokeFunction('convertToInteractive',\n",
              "                                                     [key], {});\n",
              "          if (!dataTable) return;\n",
              "\n",
              "          const docLinkHtml = 'Like what you see? Visit the ' +\n",
              "            '<a target=\"_blank\" href=https://colab.research.google.com/notebooks/data_table.ipynb>data table notebook</a>'\n",
              "            + ' to learn more about interactive tables.';\n",
              "          element.innerHTML = '';\n",
              "          dataTable['output_type'] = 'display_data';\n",
              "          await google.colab.output.renderOutput(dataTable, element);\n",
              "          const docLink = document.createElement('div');\n",
              "          docLink.innerHTML = docLinkHtml;\n",
              "          element.appendChild(docLink);\n",
              "        }\n",
              "      </script>\n",
              "    </div>\n",
              "  </div>\n",
              "  "
            ]
          },
          "metadata": {},
          "execution_count": 2
        }
      ]
    },
    {
      "cell_type": "code",
      "source": [
        "df_orginal.shape\n"
      ],
      "metadata": {
        "colab": {
          "base_uri": "https://localhost:8080/"
        },
        "id": "XloENjyi76J9",
        "outputId": "6232dbf5-1b2d-402d-b51a-714703737f17"
      },
      "execution_count": 3,
      "outputs": [
        {
          "output_type": "execute_result",
          "data": {
            "text/plain": [
              "(1982, 4587)"
            ]
          },
          "metadata": {},
          "execution_count": 3
        }
      ]
    },
    {
      "cell_type": "code",
      "source": [
        "df_my = df_orginal.copy()\n",
        "df_my.shape"
      ],
      "metadata": {
        "colab": {
          "base_uri": "https://localhost:8080/"
        },
        "id": "SzNG9bgs51PE",
        "outputId": "10046b75-4fe2-47fb-96b3-9dcc3ae42a07"
      },
      "execution_count": 4,
      "outputs": [
        {
          "output_type": "execute_result",
          "data": {
            "text/plain": [
              "(1982, 4587)"
            ]
          },
          "metadata": {},
          "execution_count": 4
        }
      ]
    },
    {
      "cell_type": "code",
      "source": [
        "#Удалим строки с ошибками заполнения\n",
        "count_ind = df_my.shape[0]\n",
        "for str1 in ('машинист бульдозера', 'Газоспасатель',' Газоспасатель'):\n",
        "    df_my = df_my.drop(df_my[df_my['ЗаключениеМК'] == str1].index)\n",
        "df_my.shape"
      ],
      "metadata": {
        "colab": {
          "base_uri": "https://localhost:8080/"
        },
        "id": "kHY9bO0zVEKg",
        "outputId": "adae0375-5cdf-4e32-9ac5-af44d5374ae5"
      },
      "execution_count": 5,
      "outputs": [
        {
          "output_type": "execute_result",
          "data": {
            "text/plain": [
              "(1978, 4587)"
            ]
          },
          "metadata": {},
          "execution_count": 5
        }
      ]
    },
    {
      "cell_type": "code",
      "source": [
        " # Удаляю пустые строки \n",
        "df_my = df_my.drop(df_my[df_my['ЗаключениеМК'].isna()].index)\n",
        "df_my.shape"
      ],
      "metadata": {
        "colab": {
          "base_uri": "https://localhost:8080/"
        },
        "id": "W50rlWqdMlJf",
        "outputId": "6cb46f73-a0da-42a5-c888-8e1b7c0f190d"
      },
      "execution_count": 6,
      "outputs": [
        {
          "output_type": "execute_result",
          "data": {
            "text/plain": [
              "(1571, 4587)"
            ]
          },
          "metadata": {},
          "execution_count": 6
        }
      ]
    },
    {
      "cell_type": "code",
      "source": [
        "\n",
        "#Удаляю пустые столбцы\n",
        "df_my.dropna(axis=1, how='all', inplace = True)\n",
        "df_my.shape"
      ],
      "metadata": {
        "colab": {
          "base_uri": "https://localhost:8080/"
        },
        "id": "l4w0125D8tQb",
        "outputId": "37b645ae-193c-45a0-d236-a93f31081d2c"
      },
      "execution_count": 7,
      "outputs": [
        {
          "output_type": "execute_result",
          "data": {
            "text/plain": [
              "(1571, 3578)"
            ]
          },
          "metadata": {},
          "execution_count": 7
        }
      ]
    },
    {
      "cell_type": "code",
      "source": [
        " # Удаляю строки из основного набора\n",
        "df_my.drop(['Клиент', 'ДокументПрохождениеМедосмотра', 'ТипМедосмотра', 'ТипМедосмотраПредставление', 'ПсихОсвидетельствование', 'Контрагент',  'Рентгенология1_ДатаПриема', 'Рентгенология2_ДатаПриема', 'ПсихиатрияНаркология1_ДатаПриема', 'Терапия1_Врач_Значение', 'Терапия1_ПовышеннойВлажности_Значение', 'Терапия1_Сухие_Значение', 'Терапия1_Бледные_Значение', 'Терапия1_Чистый_Значение', 'Терапия1_ОбложенБелым_Значение', 'Терапия1_ОбложенЖелтоватоБелымНалетом_Значение', 'Терапия1_ОбложенЖелтоватоЗеленымНалетом_Значение', 'Терапия1_Гиперемированный_Значение', 'Терапия1_Отечный_Значение', 'Терапия1_Везикулярное_Значение', 'Терапия1_Жесткое_Значение', 'Терапия1_Ослабленное_Значение', 'Терапия1_Нет_Значение', 'Терапия1_Разнокалиберные_Значение', 'Терапия1_Мелкопузырчатые_Значение', 'Терапия1_Крупнопузырчатые_Значение', 'Терапия1_Крепетирующие_Значение', 'Терапия1_Ритмичные_Значение', 'Терапия1_Аритмичные_Значение', 'Терапия1_Ясные_Значение', 'Терапия1_Приглушенные_Значение', 'Терапия1_Болезненный_Значение', 'Терапия1_Безболезненный_Значение', 'Терапия1_Мягкий_Значение'], axis= 1 , inplace= True )\n",
        "df_my.shape"
      ],
      "metadata": {
        "colab": {
          "base_uri": "https://localhost:8080/"
        },
        "id": "t5h66VpURAEs",
        "outputId": "feebc557-52c0-4c6a-840c-76fb32685a2e"
      },
      "execution_count": 9,
      "outputs": [
        {
          "output_type": "execute_result",
          "data": {
            "text/plain": [
              "(1571, 3544)"
            ]
          },
          "metadata": {},
          "execution_count": 9
        }
      ]
    },
    {
      "cell_type": "code",
      "source": [
        "# Удаляю все стобцы с \"Представление\" в названии\n",
        "for col in df_my.columns:\n",
        "    if \"Представление\" in col:\n",
        "      df_my.pop(col)\n",
        "df_my.shape\n",
        "\n"
      ],
      "metadata": {
        "id": "a8JmW_EJfTap",
        "colab": {
          "base_uri": "https://localhost:8080/"
        },
        "outputId": "f11d219c-18b2-4999-b31a-081687513f5d"
      },
      "execution_count": 10,
      "outputs": [
        {
          "output_type": "execute_result",
          "data": {
            "text/plain": [
              "(1571, 1864)"
            ]
          },
          "metadata": {},
          "execution_count": 10
        }
      ]
    },
    {
      "cell_type": "code",
      "source": [
        "df_my['ДатаЗавершенияМедосмотра']"
      ],
      "metadata": {
        "colab": {
          "base_uri": "https://localhost:8080/"
        },
        "id": "DdkQTxxK4BwK",
        "outputId": "adce5f81-c0f2-4e5a-e537-0171f7d93e30"
      },
      "execution_count": 11,
      "outputs": [
        {
          "output_type": "execute_result",
          "data": {
            "text/plain": [
              "0      2022-01-25\n",
              "1      2022-02-02\n",
              "2      2022-02-15\n",
              "3      2022-02-16\n",
              "4      2022-02-22\n",
              "          ...    \n",
              "1961   2022-11-30\n",
              "1962   2022-11-30\n",
              "1972   2022-11-30\n",
              "1973   2022-11-30\n",
              "1981   2022-12-02\n",
              "Name: ДатаЗавершенияМедосмотра, Length: 1571, dtype: datetime64[ns]"
            ]
          },
          "metadata": {},
          "execution_count": 11
        }
      ]
    },
    {
      "cell_type": "code",
      "source": [
        "# Удаляю все стобцы с \"Дата\" в названии кроме 'ДатаЗавершенияМедосмотра'\n",
        "i = 0\n",
        "for col in df_my.columns:\n",
        "    if (\"Дата\" in col) and (col != 'ДатаЗавершенияМедосмотра') :\n",
        "      df_my.pop(col)\n",
        "df_my.shape"
      ],
      "metadata": {
        "colab": {
          "base_uri": "https://localhost:8080/"
        },
        "id": "vF2rVV_53kqW",
        "outputId": "acda01fa-8e79-4a0a-a601-b81ccac64472"
      },
      "execution_count": 12,
      "outputs": [
        {
          "output_type": "execute_result",
          "data": {
            "text/plain": [
              "(1571, 1792)"
            ]
          },
          "metadata": {},
          "execution_count": 12
        }
      ]
    },
    {
      "cell_type": "code",
      "source": [
        "# Выгружаю \n",
        "df_my.to_excel('df_my.xlsx')"
      ],
      "metadata": {
        "id": "_0VoYHkwOB6R"
      },
      "execution_count": null,
      "outputs": []
    },
    {
      "cell_type": "markdown",
      "source": [
        "Дальше работал в ручную с оставлимся списком. Удалял столбцы которые не просто мало заполнены, но и по смыслу не имеют значения. Прямым перебором"
      ],
      "metadata": {
        "id": "G6iaVMAMVuWu"
      }
    },
    {
      "cell_type": "markdown",
      "source": [
        "Давление - можно регулярками отобрать только верхнее, т.к. нижнее в больштнстве строк не указано\n",
        "\n",
        "Нужна ли колонка \"Клиент\"???\n",
        "В некоторых столбцах есть редкие заключения, но они могут же сразу иметь противопоказания к работе. Что с ними делать? С одной стороны это для НС выглядит как выброс, а с другой это может быть четким противопоказанием.\n",
        "\n",
        "По персональному заданию- корреляция.. работает только на цифровые значения, которых я таблице практически нет."
      ],
      "metadata": {
        "id": "DJ8zftkuSDCb"
      }
    },
    {
      "cell_type": "markdown",
      "source": [
        "## Третья неделя"
      ],
      "metadata": {
        "id": "DCQLXviLdZug"
      }
    },
    {
      "cell_type": "code",
      "source": [
        "#Просмотрим числовые данные \n",
        "num_df = df_my.select_dtypes(include = ['float64', 'int64'])\n",
        "num_df"
      ],
      "metadata": {
        "colab": {
          "base_uri": "https://localhost:8080/",
          "height": 488
        },
        "id": "RUqnwAPjHT7z",
        "outputId": "ab4e7149-d35b-46ae-8847-34169694da8e"
      },
      "execution_count": 15,
      "outputs": [
        {
          "output_type": "execute_result",
          "data": {
            "text/plain": [
              "      ПсихиатрияНаркология1_Профессиональное1  \\\n",
              "0                                         0.0   \n",
              "1                                         0.0   \n",
              "2                                         0.0   \n",
              "3                                         NaN   \n",
              "4                                         NaN   \n",
              "...                                       ...   \n",
              "1961                                      0.0   \n",
              "1962                                      0.0   \n",
              "1972                                      0.0   \n",
              "1973                                      0.0   \n",
              "1981                                      0.0   \n",
              "\n",
              "      ПсихиатрияНаркология1_Чистая_Значение  \\\n",
              "0                                       1.0   \n",
              "1                                       1.0   \n",
              "2                                       NaN   \n",
              "3                                       NaN   \n",
              "4                                       NaN   \n",
              "...                                     ...   \n",
              "1961                                    NaN   \n",
              "1962                                    NaN   \n",
              "1972                                    NaN   \n",
              "1973                                    NaN   \n",
              "1981                                    NaN   \n",
              "\n",
              "      ПсихиатрияНаркология1_СоСледамиВВИнъекций_Значение  \\\n",
              "0                                                   0.0    \n",
              "1                                                   0.0    \n",
              "2                                                   NaN    \n",
              "3                                                   NaN    \n",
              "4                                                   NaN    \n",
              "...                                                 ...    \n",
              "1961                                                NaN    \n",
              "1962                                                NaN    \n",
              "1972                                                NaN    \n",
              "1973                                                NaN    \n",
              "1981                                                NaN    \n",
              "\n",
              "      ПсихиатрияНаркология1_Контактен_Значение  \\\n",
              "0                                          0.0   \n",
              "1                                          1.0   \n",
              "2                                          0.0   \n",
              "3                                          NaN   \n",
              "4                                          NaN   \n",
              "...                                        ...   \n",
              "1961                                       NaN   \n",
              "1962                                       NaN   \n",
              "1972                                       NaN   \n",
              "1973                                       NaN   \n",
              "1981                                       NaN   \n",
              "\n",
              "      ПсихиатрияНаркология1_НеКонтактен_Значение  \\\n",
              "0                                            0.0   \n",
              "1                                            0.0   \n",
              "2                                            0.0   \n",
              "3                                            NaN   \n",
              "4                                            NaN   \n",
              "...                                          ...   \n",
              "1961                                         NaN   \n",
              "1962                                         NaN   \n",
              "1972                                         NaN   \n",
              "1973                                         NaN   \n",
              "1981                                         NaN   \n",
              "\n",
              "      ПсихиатрияНаркология1_Адекватен_Значение  \\\n",
              "0                                          0.0   \n",
              "1                                          1.0   \n",
              "2                                          0.0   \n",
              "3                                          NaN   \n",
              "4                                          NaN   \n",
              "...                                        ...   \n",
              "1961                                       NaN   \n",
              "1962                                       NaN   \n",
              "1972                                       NaN   \n",
              "1973                                       NaN   \n",
              "1981                                       NaN   \n",
              "\n",
              "      ПсихиатрияНаркология1_НеАдекватен_Значение  \\\n",
              "0                                            0.0   \n",
              "1                                            0.0   \n",
              "2                                            0.0   \n",
              "3                                            NaN   \n",
              "4                                            NaN   \n",
              "...                                          ...   \n",
              "1961                                         NaN   \n",
              "1962                                         NaN   \n",
              "1972                                         NaN   \n",
              "1973                                         NaN   \n",
              "1981                                         NaN   \n",
              "\n",
              "      Офтальмология1_Профессиональное1  \\\n",
              "0                                  0.0   \n",
              "1                                  0.0   \n",
              "2                                  0.0   \n",
              "3                                  0.0   \n",
              "4                                  0.0   \n",
              "...                                ...   \n",
              "1961                               0.0   \n",
              "1962                               NaN   \n",
              "1972                               0.0   \n",
              "1973                               0.0   \n",
              "1981                               NaN   \n",
              "\n",
              "      Офтальмология1_ДискиЗрительныхНервовБледноРозовые_Значение  \\\n",
              "0                                                   0.0            \n",
              "1                                                   1.0            \n",
              "2                                                   0.0            \n",
              "3                                                   0.0            \n",
              "4                                                   0.0            \n",
              "...                                                 ...            \n",
              "1961                                                0.0            \n",
              "1962                                                NaN            \n",
              "1972                                                0.0            \n",
              "1973                                                0.0            \n",
              "1981                                                NaN            \n",
              "\n",
              "      Офтальмология1_ГраницыЧеткие_Значение  ...  ТерапевтНеИсп1_П_Значение  \\\n",
              "0                                       0.0  ...                        NaN   \n",
              "1                                       1.0  ...                        NaN   \n",
              "2                                       0.0  ...                        NaN   \n",
              "3                                       0.0  ...                        NaN   \n",
              "4                                       0.0  ...                        NaN   \n",
              "...                                     ...  ...                        ...   \n",
              "1961                                    0.0  ...                        NaN   \n",
              "1962                                    NaN  ...                        NaN   \n",
              "1972                                    0.0  ...                        NaN   \n",
              "1973                                    0.0  ...                        NaN   \n",
              "1981                                    NaN  ...                        NaN   \n",
              "\n",
              "      ТерапевтНеИсп1_Рост_Значение  ТерапевтНеИсп1_Вес_Значение  \\\n",
              "0                              NaN                          NaN   \n",
              "1                              NaN                          NaN   \n",
              "2                              NaN                          NaN   \n",
              "3                              NaN                          NaN   \n",
              "4                              NaN                          NaN   \n",
              "...                            ...                          ...   \n",
              "1961                           NaN                          NaN   \n",
              "1962                           NaN                          NaN   \n",
              "1972                           NaN                          NaN   \n",
              "1973                           NaN                          NaN   \n",
              "1981                           NaN                          NaN   \n",
              "\n",
              "      ТерапевтНеИсп1_ТемператураТелаТерапевт_Значение  \\\n",
              "0                                                 NaN   \n",
              "1                                                 NaN   \n",
              "2                                                 NaN   \n",
              "3                                                 NaN   \n",
              "4                                                 NaN   \n",
              "...                                               ...   \n",
              "1961                                              NaN   \n",
              "1962                                              NaN   \n",
              "1972                                              NaN   \n",
              "1973                                              NaN   \n",
              "1981                                              NaN   \n",
              "\n",
              "      ТерапевтНеИсп1_ИМТ_Значение  \\\n",
              "0                             NaN   \n",
              "1                             NaN   \n",
              "2                             NaN   \n",
              "3                             NaN   \n",
              "4                             NaN   \n",
              "...                           ...   \n",
              "1961                          NaN   \n",
              "1962                          NaN   \n",
              "1972                          NaN   \n",
              "1973                          NaN   \n",
              "1981                          NaN   \n",
              "\n",
              "      ТерапевтНеИсп1_АртериальноеДавление21_Значение  \\\n",
              "0                                                NaN   \n",
              "1                                                NaN   \n",
              "2                                                NaN   \n",
              "3                                                NaN   \n",
              "4                                                NaN   \n",
              "...                                              ...   \n",
              "1961                                             NaN   \n",
              "1962                                             NaN   \n",
              "1972                                             NaN   \n",
              "1973                                             NaN   \n",
              "1981                                             NaN   \n",
              "\n",
              "      ТерапевтНеИсп1_Сатурация_Значение  Терапия3_ОбщийХолестерин_Значение  \\\n",
              "0                                   NaN                                NaN   \n",
              "1                                   NaN                                NaN   \n",
              "2                                   NaN                                NaN   \n",
              "3                                   NaN                                NaN   \n",
              "4                                   NaN                                NaN   \n",
              "...                                 ...                                ...   \n",
              "1961                                NaN                                NaN   \n",
              "1962                                NaN                                NaN   \n",
              "1972                                NaN                                NaN   \n",
              "1973                                NaN                                NaN   \n",
              "1981                                NaN                                NaN   \n",
              "\n",
              "      Терапия4_ОбщийХолестерин_Значение  Гинекология2_Выкидышей_Значение  \n",
              "0                                   NaN                              NaN  \n",
              "1                                   NaN                              NaN  \n",
              "2                                   NaN                              NaN  \n",
              "3                                   NaN                              NaN  \n",
              "4                                   NaN                              NaN  \n",
              "...                                 ...                              ...  \n",
              "1961                                NaN                              NaN  \n",
              "1962                                NaN                              NaN  \n",
              "1972                                NaN                              NaN  \n",
              "1973                                NaN                              NaN  \n",
              "1981                                NaN                              NaN  \n",
              "\n",
              "[1571 rows x 260 columns]"
            ],
            "text/html": [
              "\n",
              "  <div id=\"df-28207089-1c48-47b9-b01c-9f7c92d97920\">\n",
              "    <div class=\"colab-df-container\">\n",
              "      <div>\n",
              "<style scoped>\n",
              "    .dataframe tbody tr th:only-of-type {\n",
              "        vertical-align: middle;\n",
              "    }\n",
              "\n",
              "    .dataframe tbody tr th {\n",
              "        vertical-align: top;\n",
              "    }\n",
              "\n",
              "    .dataframe thead th {\n",
              "        text-align: right;\n",
              "    }\n",
              "</style>\n",
              "<table border=\"1\" class=\"dataframe\">\n",
              "  <thead>\n",
              "    <tr style=\"text-align: right;\">\n",
              "      <th></th>\n",
              "      <th>ПсихиатрияНаркология1_Профессиональное1</th>\n",
              "      <th>ПсихиатрияНаркология1_Чистая_Значение</th>\n",
              "      <th>ПсихиатрияНаркология1_СоСледамиВВИнъекций_Значение</th>\n",
              "      <th>ПсихиатрияНаркология1_Контактен_Значение</th>\n",
              "      <th>ПсихиатрияНаркология1_НеКонтактен_Значение</th>\n",
              "      <th>ПсихиатрияНаркология1_Адекватен_Значение</th>\n",
              "      <th>ПсихиатрияНаркология1_НеАдекватен_Значение</th>\n",
              "      <th>Офтальмология1_Профессиональное1</th>\n",
              "      <th>Офтальмология1_ДискиЗрительныхНервовБледноРозовые_Значение</th>\n",
              "      <th>Офтальмология1_ГраницыЧеткие_Значение</th>\n",
              "      <th>...</th>\n",
              "      <th>ТерапевтНеИсп1_П_Значение</th>\n",
              "      <th>ТерапевтНеИсп1_Рост_Значение</th>\n",
              "      <th>ТерапевтНеИсп1_Вес_Значение</th>\n",
              "      <th>ТерапевтНеИсп1_ТемператураТелаТерапевт_Значение</th>\n",
              "      <th>ТерапевтНеИсп1_ИМТ_Значение</th>\n",
              "      <th>ТерапевтНеИсп1_АртериальноеДавление21_Значение</th>\n",
              "      <th>ТерапевтНеИсп1_Сатурация_Значение</th>\n",
              "      <th>Терапия3_ОбщийХолестерин_Значение</th>\n",
              "      <th>Терапия4_ОбщийХолестерин_Значение</th>\n",
              "      <th>Гинекология2_Выкидышей_Значение</th>\n",
              "    </tr>\n",
              "  </thead>\n",
              "  <tbody>\n",
              "    <tr>\n",
              "      <th>0</th>\n",
              "      <td>0.0</td>\n",
              "      <td>1.0</td>\n",
              "      <td>0.0</td>\n",
              "      <td>0.0</td>\n",
              "      <td>0.0</td>\n",
              "      <td>0.0</td>\n",
              "      <td>0.0</td>\n",
              "      <td>0.0</td>\n",
              "      <td>0.0</td>\n",
              "      <td>0.0</td>\n",
              "      <td>...</td>\n",
              "      <td>NaN</td>\n",
              "      <td>NaN</td>\n",
              "      <td>NaN</td>\n",
              "      <td>NaN</td>\n",
              "      <td>NaN</td>\n",
              "      <td>NaN</td>\n",
              "      <td>NaN</td>\n",
              "      <td>NaN</td>\n",
              "      <td>NaN</td>\n",
              "      <td>NaN</td>\n",
              "    </tr>\n",
              "    <tr>\n",
              "      <th>1</th>\n",
              "      <td>0.0</td>\n",
              "      <td>1.0</td>\n",
              "      <td>0.0</td>\n",
              "      <td>1.0</td>\n",
              "      <td>0.0</td>\n",
              "      <td>1.0</td>\n",
              "      <td>0.0</td>\n",
              "      <td>0.0</td>\n",
              "      <td>1.0</td>\n",
              "      <td>1.0</td>\n",
              "      <td>...</td>\n",
              "      <td>NaN</td>\n",
              "      <td>NaN</td>\n",
              "      <td>NaN</td>\n",
              "      <td>NaN</td>\n",
              "      <td>NaN</td>\n",
              "      <td>NaN</td>\n",
              "      <td>NaN</td>\n",
              "      <td>NaN</td>\n",
              "      <td>NaN</td>\n",
              "      <td>NaN</td>\n",
              "    </tr>\n",
              "    <tr>\n",
              "      <th>2</th>\n",
              "      <td>0.0</td>\n",
              "      <td>NaN</td>\n",
              "      <td>NaN</td>\n",
              "      <td>0.0</td>\n",
              "      <td>0.0</td>\n",
              "      <td>0.0</td>\n",
              "      <td>0.0</td>\n",
              "      <td>0.0</td>\n",
              "      <td>0.0</td>\n",
              "      <td>0.0</td>\n",
              "      <td>...</td>\n",
              "      <td>NaN</td>\n",
              "      <td>NaN</td>\n",
              "      <td>NaN</td>\n",
              "      <td>NaN</td>\n",
              "      <td>NaN</td>\n",
              "      <td>NaN</td>\n",
              "      <td>NaN</td>\n",
              "      <td>NaN</td>\n",
              "      <td>NaN</td>\n",
              "      <td>NaN</td>\n",
              "    </tr>\n",
              "    <tr>\n",
              "      <th>3</th>\n",
              "      <td>NaN</td>\n",
              "      <td>NaN</td>\n",
              "      <td>NaN</td>\n",
              "      <td>NaN</td>\n",
              "      <td>NaN</td>\n",
              "      <td>NaN</td>\n",
              "      <td>NaN</td>\n",
              "      <td>0.0</td>\n",
              "      <td>0.0</td>\n",
              "      <td>0.0</td>\n",
              "      <td>...</td>\n",
              "      <td>NaN</td>\n",
              "      <td>NaN</td>\n",
              "      <td>NaN</td>\n",
              "      <td>NaN</td>\n",
              "      <td>NaN</td>\n",
              "      <td>NaN</td>\n",
              "      <td>NaN</td>\n",
              "      <td>NaN</td>\n",
              "      <td>NaN</td>\n",
              "      <td>NaN</td>\n",
              "    </tr>\n",
              "    <tr>\n",
              "      <th>4</th>\n",
              "      <td>NaN</td>\n",
              "      <td>NaN</td>\n",
              "      <td>NaN</td>\n",
              "      <td>NaN</td>\n",
              "      <td>NaN</td>\n",
              "      <td>NaN</td>\n",
              "      <td>NaN</td>\n",
              "      <td>0.0</td>\n",
              "      <td>0.0</td>\n",
              "      <td>0.0</td>\n",
              "      <td>...</td>\n",
              "      <td>NaN</td>\n",
              "      <td>NaN</td>\n",
              "      <td>NaN</td>\n",
              "      <td>NaN</td>\n",
              "      <td>NaN</td>\n",
              "      <td>NaN</td>\n",
              "      <td>NaN</td>\n",
              "      <td>NaN</td>\n",
              "      <td>NaN</td>\n",
              "      <td>NaN</td>\n",
              "    </tr>\n",
              "    <tr>\n",
              "      <th>...</th>\n",
              "      <td>...</td>\n",
              "      <td>...</td>\n",
              "      <td>...</td>\n",
              "      <td>...</td>\n",
              "      <td>...</td>\n",
              "      <td>...</td>\n",
              "      <td>...</td>\n",
              "      <td>...</td>\n",
              "      <td>...</td>\n",
              "      <td>...</td>\n",
              "      <td>...</td>\n",
              "      <td>...</td>\n",
              "      <td>...</td>\n",
              "      <td>...</td>\n",
              "      <td>...</td>\n",
              "      <td>...</td>\n",
              "      <td>...</td>\n",
              "      <td>...</td>\n",
              "      <td>...</td>\n",
              "      <td>...</td>\n",
              "      <td>...</td>\n",
              "    </tr>\n",
              "    <tr>\n",
              "      <th>1961</th>\n",
              "      <td>0.0</td>\n",
              "      <td>NaN</td>\n",
              "      <td>NaN</td>\n",
              "      <td>NaN</td>\n",
              "      <td>NaN</td>\n",
              "      <td>NaN</td>\n",
              "      <td>NaN</td>\n",
              "      <td>0.0</td>\n",
              "      <td>0.0</td>\n",
              "      <td>0.0</td>\n",
              "      <td>...</td>\n",
              "      <td>NaN</td>\n",
              "      <td>NaN</td>\n",
              "      <td>NaN</td>\n",
              "      <td>NaN</td>\n",
              "      <td>NaN</td>\n",
              "      <td>NaN</td>\n",
              "      <td>NaN</td>\n",
              "      <td>NaN</td>\n",
              "      <td>NaN</td>\n",
              "      <td>NaN</td>\n",
              "    </tr>\n",
              "    <tr>\n",
              "      <th>1962</th>\n",
              "      <td>0.0</td>\n",
              "      <td>NaN</td>\n",
              "      <td>NaN</td>\n",
              "      <td>NaN</td>\n",
              "      <td>NaN</td>\n",
              "      <td>NaN</td>\n",
              "      <td>NaN</td>\n",
              "      <td>NaN</td>\n",
              "      <td>NaN</td>\n",
              "      <td>NaN</td>\n",
              "      <td>...</td>\n",
              "      <td>NaN</td>\n",
              "      <td>NaN</td>\n",
              "      <td>NaN</td>\n",
              "      <td>NaN</td>\n",
              "      <td>NaN</td>\n",
              "      <td>NaN</td>\n",
              "      <td>NaN</td>\n",
              "      <td>NaN</td>\n",
              "      <td>NaN</td>\n",
              "      <td>NaN</td>\n",
              "    </tr>\n",
              "    <tr>\n",
              "      <th>1972</th>\n",
              "      <td>0.0</td>\n",
              "      <td>NaN</td>\n",
              "      <td>NaN</td>\n",
              "      <td>NaN</td>\n",
              "      <td>NaN</td>\n",
              "      <td>NaN</td>\n",
              "      <td>NaN</td>\n",
              "      <td>0.0</td>\n",
              "      <td>0.0</td>\n",
              "      <td>0.0</td>\n",
              "      <td>...</td>\n",
              "      <td>NaN</td>\n",
              "      <td>NaN</td>\n",
              "      <td>NaN</td>\n",
              "      <td>NaN</td>\n",
              "      <td>NaN</td>\n",
              "      <td>NaN</td>\n",
              "      <td>NaN</td>\n",
              "      <td>NaN</td>\n",
              "      <td>NaN</td>\n",
              "      <td>NaN</td>\n",
              "    </tr>\n",
              "    <tr>\n",
              "      <th>1973</th>\n",
              "      <td>0.0</td>\n",
              "      <td>NaN</td>\n",
              "      <td>NaN</td>\n",
              "      <td>NaN</td>\n",
              "      <td>NaN</td>\n",
              "      <td>NaN</td>\n",
              "      <td>NaN</td>\n",
              "      <td>0.0</td>\n",
              "      <td>0.0</td>\n",
              "      <td>0.0</td>\n",
              "      <td>...</td>\n",
              "      <td>NaN</td>\n",
              "      <td>NaN</td>\n",
              "      <td>NaN</td>\n",
              "      <td>NaN</td>\n",
              "      <td>NaN</td>\n",
              "      <td>NaN</td>\n",
              "      <td>NaN</td>\n",
              "      <td>NaN</td>\n",
              "      <td>NaN</td>\n",
              "      <td>NaN</td>\n",
              "    </tr>\n",
              "    <tr>\n",
              "      <th>1981</th>\n",
              "      <td>0.0</td>\n",
              "      <td>NaN</td>\n",
              "      <td>NaN</td>\n",
              "      <td>NaN</td>\n",
              "      <td>NaN</td>\n",
              "      <td>NaN</td>\n",
              "      <td>NaN</td>\n",
              "      <td>NaN</td>\n",
              "      <td>NaN</td>\n",
              "      <td>NaN</td>\n",
              "      <td>...</td>\n",
              "      <td>NaN</td>\n",
              "      <td>NaN</td>\n",
              "      <td>NaN</td>\n",
              "      <td>NaN</td>\n",
              "      <td>NaN</td>\n",
              "      <td>NaN</td>\n",
              "      <td>NaN</td>\n",
              "      <td>NaN</td>\n",
              "      <td>NaN</td>\n",
              "      <td>NaN</td>\n",
              "    </tr>\n",
              "  </tbody>\n",
              "</table>\n",
              "<p>1571 rows × 260 columns</p>\n",
              "</div>\n",
              "      <button class=\"colab-df-convert\" onclick=\"convertToInteractive('df-28207089-1c48-47b9-b01c-9f7c92d97920')\"\n",
              "              title=\"Convert this dataframe to an interactive table.\"\n",
              "              style=\"display:none;\">\n",
              "        \n",
              "  <svg xmlns=\"http://www.w3.org/2000/svg\" height=\"24px\"viewBox=\"0 0 24 24\"\n",
              "       width=\"24px\">\n",
              "    <path d=\"M0 0h24v24H0V0z\" fill=\"none\"/>\n",
              "    <path d=\"M18.56 5.44l.94 2.06.94-2.06 2.06-.94-2.06-.94-.94-2.06-.94 2.06-2.06.94zm-11 1L8.5 8.5l.94-2.06 2.06-.94-2.06-.94L8.5 2.5l-.94 2.06-2.06.94zm10 10l.94 2.06.94-2.06 2.06-.94-2.06-.94-.94-2.06-.94 2.06-2.06.94z\"/><path d=\"M17.41 7.96l-1.37-1.37c-.4-.4-.92-.59-1.43-.59-.52 0-1.04.2-1.43.59L10.3 9.45l-7.72 7.72c-.78.78-.78 2.05 0 2.83L4 21.41c.39.39.9.59 1.41.59.51 0 1.02-.2 1.41-.59l7.78-7.78 2.81-2.81c.8-.78.8-2.07 0-2.86zM5.41 20L4 18.59l7.72-7.72 1.47 1.35L5.41 20z\"/>\n",
              "  </svg>\n",
              "      </button>\n",
              "      \n",
              "  <style>\n",
              "    .colab-df-container {\n",
              "      display:flex;\n",
              "      flex-wrap:wrap;\n",
              "      gap: 12px;\n",
              "    }\n",
              "\n",
              "    .colab-df-convert {\n",
              "      background-color: #E8F0FE;\n",
              "      border: none;\n",
              "      border-radius: 50%;\n",
              "      cursor: pointer;\n",
              "      display: none;\n",
              "      fill: #1967D2;\n",
              "      height: 32px;\n",
              "      padding: 0 0 0 0;\n",
              "      width: 32px;\n",
              "    }\n",
              "\n",
              "    .colab-df-convert:hover {\n",
              "      background-color: #E2EBFA;\n",
              "      box-shadow: 0px 1px 2px rgba(60, 64, 67, 0.3), 0px 1px 3px 1px rgba(60, 64, 67, 0.15);\n",
              "      fill: #174EA6;\n",
              "    }\n",
              "\n",
              "    [theme=dark] .colab-df-convert {\n",
              "      background-color: #3B4455;\n",
              "      fill: #D2E3FC;\n",
              "    }\n",
              "\n",
              "    [theme=dark] .colab-df-convert:hover {\n",
              "      background-color: #434B5C;\n",
              "      box-shadow: 0px 1px 3px 1px rgba(0, 0, 0, 0.15);\n",
              "      filter: drop-shadow(0px 1px 2px rgba(0, 0, 0, 0.3));\n",
              "      fill: #FFFFFF;\n",
              "    }\n",
              "  </style>\n",
              "\n",
              "      <script>\n",
              "        const buttonEl =\n",
              "          document.querySelector('#df-28207089-1c48-47b9-b01c-9f7c92d97920 button.colab-df-convert');\n",
              "        buttonEl.style.display =\n",
              "          google.colab.kernel.accessAllowed ? 'block' : 'none';\n",
              "\n",
              "        async function convertToInteractive(key) {\n",
              "          const element = document.querySelector('#df-28207089-1c48-47b9-b01c-9f7c92d97920');\n",
              "          const dataTable =\n",
              "            await google.colab.kernel.invokeFunction('convertToInteractive',\n",
              "                                                     [key], {});\n",
              "          if (!dataTable) return;\n",
              "\n",
              "          const docLinkHtml = 'Like what you see? Visit the ' +\n",
              "            '<a target=\"_blank\" href=https://colab.research.google.com/notebooks/data_table.ipynb>data table notebook</a>'\n",
              "            + ' to learn more about interactive tables.';\n",
              "          element.innerHTML = '';\n",
              "          dataTable['output_type'] = 'display_data';\n",
              "          await google.colab.output.renderOutput(dataTable, element);\n",
              "          const docLink = document.createElement('div');\n",
              "          docLink.innerHTML = docLinkHtml;\n",
              "          element.appendChild(docLink);\n",
              "        }\n",
              "      </script>\n",
              "    </div>\n",
              "  </div>\n",
              "  "
            ]
          },
          "metadata": {},
          "execution_count": 15
        }
      ]
    },
    {
      "cell_type": "code",
      "source": [
        "mk_df = df_my.copy()\n",
        "print(mk_df.shape)\n",
        "\n",
        "mk_df['ЗаключениеМК'].unique()\n"
      ],
      "metadata": {
        "colab": {
          "base_uri": "https://localhost:8080/"
        },
        "id": "m8DX509bKaDs",
        "outputId": "ed2b962f-3fd4-417b-f02e-dead7f9a9136"
      },
      "execution_count": 32,
      "outputs": [
        {
          "output_type": "stream",
          "name": "stdout",
          "text": [
            "(1571, 1792)\n"
          ]
        },
        {
          "output_type": "execute_result",
          "data": {
            "text/plain": [
              "array(['Годен', 'ГоденСКоррекциейЗрения', 'ГоденБезРаботНаВысотах',\n",
              "       'НуждаетсяВДообследованииИЛечении', 'ВременноНегоден',\n",
              "       'ОграниченноГоден'], dtype=object)"
            ]
          },
          "metadata": {},
          "execution_count": 32
        }
      ]
    },
    {
      "cell_type": "code",
      "source": [
        "# Заменяю значения в стобце 'ЗаключениеМК' на 1 и 0   для просмотра кореляции \n",
        "mk_df.loc[ mk_df['ЗаключениеМК'] == 'Годен', 'ЗаключениеМК'] = 1\n",
        "mk_df.loc[ mk_df['ЗаключениеМК'] != 1, 'ЗаключениеМК'] = 0\n",
        "num_df = num_df.astype({\"ЗаключениеМК\": int})\n",
        "print(mk_df.shape)\n",
        "print(mk_df['ЗаключениеМК'])"
      ],
      "metadata": {
        "colab": {
          "base_uri": "https://localhost:8080/"
        },
        "id": "A9Go2HTyMYOG",
        "outputId": "0a49dc62-6d6e-4615-fe9b-85a3bfdd96d1"
      },
      "execution_count": 34,
      "outputs": [
        {
          "output_type": "stream",
          "name": "stdout",
          "text": [
            "(1571, 1792)\n",
            "0       1\n",
            "1       1\n",
            "2       0\n",
            "3       1\n",
            "4       0\n",
            "       ..\n",
            "1961    1\n",
            "1962    1\n",
            "1972    1\n",
            "1973    1\n",
            "1981    1\n",
            "Name: ЗаключениеМК, Length: 1571, dtype: object\n"
          ]
        }
      ]
    },
    {
      "cell_type": "code",
      "source": [
        "'''\n",
        "num_df['ЗаключениеМК'] = mk_df['ЗаключениеМК']\n",
        "num_df.dtypes\n",
        "cor_df = num_df.corr()\n",
        "cor_df\n",
        "'''"
      ],
      "metadata": {
        "id": "zdrBm2YXO6q7"
      },
      "execution_count": null,
      "outputs": []
    },
    {
      "cell_type": "code",
      "source": [
        "# Корреляция столбца 'ЗаключениеМК'  с другими столбцами имеющими числовые значения\n",
        "# Кендалл \n",
        "cor_df = num_df.corrwith(num_df['ЗаключениеМК'], method = 'kendall')\n",
        "print(cor_df.shape)\n",
        "kendall_df = cor_df.dropna(axis=0, how='all', inplace = False)\n",
        "print(kendall_df.shape)\n",
        "display(kendall_df)"
      ],
      "metadata": {
        "colab": {
          "base_uri": "https://localhost:8080/",
          "height": 260
        },
        "id": "0ZVMKoKRXytb",
        "outputId": "93c4b17b-69f5-4e04-d29d-0ec52b26cd99"
      },
      "execution_count": 67,
      "outputs": [
        {
          "output_type": "stream",
          "name": "stdout",
          "text": [
            "(261,)\n",
            "(72,)\n"
          ]
        },
        {
          "output_type": "display_data",
          "data": {
            "text/plain": [
              "ПсихиатрияНаркология1_Контактен_Значение                      0.333333\n",
              "ПсихиатрияНаркология1_Адекватен_Значение                      0.333333\n",
              "Офтальмология1_ДискиЗрительныхНервовБледноРозовые_Значение    0.009568\n",
              "Офтальмология1_ГраницыЧеткие_Значение                         0.009568\n",
              "Оториноларингология1_ЗаДужками_Значение                      -0.019501\n",
              "                                                                ...   \n",
              "ТерапевтНеИсп1_Рост_Значение                                  0.212132\n",
              "ТерапевтНеИсп1_Вес_Значение                                   0.000000\n",
              "ТерапевтНеИсп1_ИМТ_Значение                                  -0.276026\n",
              "ТерапевтНеИсп1_АртериальноеДавление21_Значение               -0.300000\n",
              "ЗаключениеМК                                                  1.000000\n",
              "Length: 72, dtype: float64"
            ]
          },
          "metadata": {}
        }
      ]
    },
    {
      "cell_type": "code",
      "source": [
        "# Спирмена \n",
        "cor_df = num_df.corrwith(num_df['ЗаключениеМК'], method = 'spearman')\n",
        "print(cor_df.shape)\n",
        "spearman_df = cor_df.dropna(axis=0, how='all', inplace = False)\n",
        "print(spearman_df.shape)\n",
        "display(spearman_df)"
      ],
      "metadata": {
        "colab": {
          "base_uri": "https://localhost:8080/",
          "height": 295
        },
        "id": "zvVxX24Vb5jO",
        "outputId": "0f7201f1-271d-4b39-c043-d7613d83f625"
      },
      "execution_count": 68,
      "outputs": [
        {
          "output_type": "stream",
          "name": "stdout",
          "text": [
            "(261,)\n",
            "(72,)\n"
          ]
        },
        {
          "output_type": "stream",
          "name": "stderr",
          "text": [
            "/usr/local/lib/python3.10/dist-packages/scipy/stats/_stats_py.py:4916: ConstantInputWarning: An input array is constant; the correlation coefficient is not defined.\n",
            "  warnings.warn(stats.ConstantInputWarning(warn_msg))\n"
          ]
        },
        {
          "output_type": "display_data",
          "data": {
            "text/plain": [
              "ПсихиатрияНаркология1_Контактен_Значение                      0.333333\n",
              "ПсихиатрияНаркология1_Адекватен_Значение                      0.333333\n",
              "Офтальмология1_ДискиЗрительныхНервовБледноРозовые_Значение    0.009568\n",
              "Офтальмология1_ГраницыЧеткие_Значение                         0.009568\n",
              "Оториноларингология1_ЗаДужками_Значение                      -0.019501\n",
              "                                                                ...   \n",
              "ТерапевтНеИсп1_Рост_Значение                                  0.239317\n",
              "ТерапевтНеИсп1_Вес_Значение                                   0.000000\n",
              "ТерапевтНеИсп1_ИМТ_Значение                                  -0.316228\n",
              "ТерапевтНеИсп1_АртериальноеДавление21_Значение               -0.300000\n",
              "ЗаключениеМК                                                  1.000000\n",
              "Length: 72, dtype: float64"
            ]
          },
          "metadata": {}
        }
      ]
    },
    {
      "cell_type": "code",
      "source": [
        "# Пирсон  \n",
        "cor_df = num_df.corrwith(num_df['ЗаключениеМК'], method = 'pearson')\n",
        "print(cor_df.shape)\n",
        "pearson_df = cor_df.dropna(axis=0, how='all', inplace = False)\n",
        "print(pearson_df.shape)\n",
        "display(pearson_df)"
      ],
      "metadata": {
        "colab": {
          "base_uri": "https://localhost:8080/",
          "height": 329
        },
        "id": "Wmhb0lYecuIm",
        "outputId": "5d861f2b-8869-41ac-caa7-7e96c56d74bc"
      },
      "execution_count": 69,
      "outputs": [
        {
          "output_type": "stream",
          "name": "stdout",
          "text": [
            "(261,)\n",
            "(73,)\n"
          ]
        },
        {
          "output_type": "stream",
          "name": "stderr",
          "text": [
            "/usr/local/lib/python3.10/dist-packages/numpy/lib/function_base.py:2821: RuntimeWarning: Degrees of freedom <= 0 for slice\n",
            "  c = cov(x, y, rowvar, dtype=dtype)\n",
            "/usr/local/lib/python3.10/dist-packages/numpy/lib/function_base.py:2680: RuntimeWarning: divide by zero encountered in true_divide\n",
            "  c *= np.true_divide(1, fact)\n"
          ]
        },
        {
          "output_type": "display_data",
          "data": {
            "text/plain": [
              "ПсихиатрияНаркология1_Контактен_Значение                      0.333333\n",
              "ПсихиатрияНаркология1_Адекватен_Значение                      0.333333\n",
              "Офтальмология1_ДискиЗрительныхНервовБледноРозовые_Значение    0.009568\n",
              "Офтальмология1_ГраницыЧеткие_Значение                         0.009568\n",
              "Оториноларингология1_ЗаДужками_Значение                      -0.019501\n",
              "                                                                ...   \n",
              "ТерапевтНеИсп1_Рост_Значение                                  0.217609\n",
              "ТерапевтНеИсп1_Вес_Значение                                  -0.012771\n",
              "ТерапевтНеИсп1_ИМТ_Значение                                  -0.441009\n",
              "ТерапевтНеИсп1_АртериальноеДавление21_Значение               -0.300000\n",
              "ЗаключениеМК                                                  1.000000\n",
              "Length: 73, dtype: float64"
            ]
          },
          "metadata": {}
        }
      ]
    },
    {
      "cell_type": "code",
      "source": [
        "cor_df.to_excel('cor_df.xlsx')"
      ],
      "metadata": {
        "id": "vVd-5Td6T0k9"
      },
      "execution_count": 59,
      "outputs": []
    }
  ]
}