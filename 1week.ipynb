{
  "nbformat": 4,
  "nbformat_minor": 0,
  "metadata": {
    "colab": {
      "provenance": [],
      "mount_file_id": "1jACBzGpcFzct-tKP3ySZaXm2GsS1ONhI",
      "authorship_tag": "ABX9TyPrbDvnrLoOaWkoMEooMCxZ",
      "include_colab_link": true
    },
    "kernelspec": {
      "name": "python3",
      "display_name": "Python 3"
    },
    "language_info": {
      "name": "python"
    }
  },
  "cells": [
    {
      "cell_type": "markdown",
      "metadata": {
        "id": "view-in-github",
        "colab_type": "text"
      },
      "source": [
        "<a href=\"https://colab.research.google.com/github/Untick/InspectrumClinic_RS_gr1/blob/Doronin-Anton-folder/1week.ipynb\" target=\"_parent\"><img src=\"https://colab.research.google.com/assets/colab-badge.svg\" alt=\"Open In Colab\"/></a>"
      ]
    },
    {
      "cell_type": "markdown",
      "source": [
        "###Стажировка Профпатолог"
      ],
      "metadata": {
        "id": "mFfbT56LzlvY"
      }
    },
    {
      "cell_type": "code",
      "source": [
        "import pandas as pd\n",
        "import numpy as np\n",
        "import matplotlib.pyplot as plt \n",
        "import os \n",
        "%matplotlib inline"
      ],
      "metadata": {
        "id": "3-gxa7zpzsI1"
      },
      "execution_count": null,
      "outputs": []
    },
    {
      "cell_type": "code",
      "source": [
        "df_orginal = pd.read_excel('/content/drive/MyDrive/Profpatolog/датасет профпатолог часть.xlsx')\n",
        "df_orginal.head()"
      ],
      "metadata": {
        "colab": {
          "base_uri": "https://localhost:8080/",
          "height": 560
        },
        "id": "Hy9eTAqo0wk4",
        "outputId": "976e9682-db0a-42bb-fe34-6f898d4414d3"
      },
      "execution_count": null,
      "outputs": [
        {
          "output_type": "execute_result",
          "data": {
            "text/plain": [
              "          ДокументПрохождениеМедосмотра                                Клиент  \\\n",
              "0  7f41ca7e-7dac-11ec-80fc-0cc47aab8067  c91e3407-b81f-11e9-80cf-0cc47aab8067   \n",
              "1  2ee1f9ac-83dd-11ec-80fc-0cc47aab8067  1a1a5fea-8b7f-11eb-80e8-0cc47aab8067   \n",
              "2  9cbb191e-8e24-11ec-80fe-0cc47aab8067  7fe324e0-fa51-11eb-80f6-0cc47aab8067   \n",
              "3  b8a33910-8eec-11ec-80fe-0cc47aab8067  98f9d761-8d65-11ec-80fe-0cc47aab8067   \n",
              "4  0bb0d181-938c-11ec-80fe-0cc47aab8067  009aac7d-7bcf-11eb-80e8-0cc47aab8067   \n",
              "\n",
              "  КлиентДатаРождения КлиентПол КлиентПолПредставление  \\\n",
              "0         1976-10-24   Женский                Женский   \n",
              "1         1987-11-18   Мужской                Мужской   \n",
              "2         1985-09-08   Мужской                Мужской   \n",
              "3         1988-04-25   Мужской                Мужской   \n",
              "4         1984-04-17   Мужской                Мужской   \n",
              "\n",
              "  ДатаЗавершенияМедосмотра  ТипМедосмотра ТипМедосмотраПредставление  \\\n",
              "0               2022-01-25  Периодический              Периодический   \n",
              "1               2022-02-02  Периодический              Периодический   \n",
              "2               2022-02-15  Периодический              Периодический   \n",
              "3               2022-02-16  Периодический              Периодический   \n",
              "4               2022-02-22  Периодический              Периодический   \n",
              "\n",
              "   ПсихОсвидетельствование                            Контрагент  ...  \\\n",
              "0                    False  23c173a7-30d9-11e7-80d8-708bcd7f83cd  ...   \n",
              "1                    False  a6d559b0-7835-11eb-80e8-0cc47aab8067  ...   \n",
              "2                    False  a6d559b0-7835-11eb-80e8-0cc47aab8067  ...   \n",
              "3                    False  a6d559b0-7835-11eb-80e8-0cc47aab8067  ...   \n",
              "4                    False  a6d559b0-7835-11eb-80e8-0cc47aab8067  ...   \n",
              "\n",
              "  Оториноларингология3_Аудиометрия1_Значение  \\\n",
              "0                                        NaN   \n",
              "1                                        NaN   \n",
              "2                                        NaN   \n",
              "3                                        NaN   \n",
              "4                                        NaN   \n",
              "\n",
              "  Оториноларингология3_Аудиометрия1_ЗначениеПредставление  \\\n",
              "0                                                NaN        \n",
              "1                                                NaN        \n",
              "2                                                NaN        \n",
              "3                                                NaN        \n",
              "4                                                NaN        \n",
              "\n",
              "  Оториноларингология1_ЖалобыДополнение_Значение  \\\n",
              "0                                            NaN   \n",
              "1                                            NaN   \n",
              "2                                            NaN   \n",
              "3                                            NaN   \n",
              "4                                            NaN   \n",
              "\n",
              "  Оториноларингология1_ЖалобыДополнение_ЗначениеПредставление  \\\n",
              "0                                                NaN            \n",
              "1                                                NaN            \n",
              "2                                                NaN            \n",
              "3                                                NaN            \n",
              "4                                                NaN            \n",
              "\n",
              "  Стоматология2_ВП2_Значение Стоматология2_ВП2_ЗначениеПредставление  \\\n",
              "0                        NaN                                     NaN   \n",
              "1                        NaN                                     NaN   \n",
              "2                        NaN                                     NaN   \n",
              "3                        NaN                                     NaN   \n",
              "4                        NaN                                     NaN   \n",
              "\n",
              "  Терапия2_ЗаключениеФОГК_Значение  \\\n",
              "0                              NaN   \n",
              "1                              NaN   \n",
              "2                              NaN   \n",
              "3                              NaN   \n",
              "4                              NaN   \n",
              "\n",
              "  Терапия2_ЗаключениеФОГК_ЗначениеПредставление  \\\n",
              "0                                           NaN   \n",
              "1                                           NaN   \n",
              "2                                           NaN   \n",
              "3                                           NaN   \n",
              "4                                           NaN   \n",
              "\n",
              "  Офтальмология1_ДвигательныйАппаратГлазДополнение_Значение  \\\n",
              "0                                                NaN          \n",
              "1                                                NaN          \n",
              "2                                                NaN          \n",
              "3                                                NaN          \n",
              "4                                                NaN          \n",
              "\n",
              "  Офтальмология1_ДвигательныйАппаратГлазДополнение_ЗначениеПредставление  \n",
              "0                                                NaN                      \n",
              "1                                                NaN                      \n",
              "2                                                NaN                      \n",
              "3                                                NaN                      \n",
              "4                                                NaN                      \n",
              "\n",
              "[5 rows x 4587 columns]"
            ],
            "text/html": [
              "\n",
              "  <div id=\"df-6758d3e4-2fbc-415a-85dc-b623a6daadf4\">\n",
              "    <div class=\"colab-df-container\">\n",
              "      <div>\n",
              "<style scoped>\n",
              "    .dataframe tbody tr th:only-of-type {\n",
              "        vertical-align: middle;\n",
              "    }\n",
              "\n",
              "    .dataframe tbody tr th {\n",
              "        vertical-align: top;\n",
              "    }\n",
              "\n",
              "    .dataframe thead th {\n",
              "        text-align: right;\n",
              "    }\n",
              "</style>\n",
              "<table border=\"1\" class=\"dataframe\">\n",
              "  <thead>\n",
              "    <tr style=\"text-align: right;\">\n",
              "      <th></th>\n",
              "      <th>ДокументПрохождениеМедосмотра</th>\n",
              "      <th>Клиент</th>\n",
              "      <th>КлиентДатаРождения</th>\n",
              "      <th>КлиентПол</th>\n",
              "      <th>КлиентПолПредставление</th>\n",
              "      <th>ДатаЗавершенияМедосмотра</th>\n",
              "      <th>ТипМедосмотра</th>\n",
              "      <th>ТипМедосмотраПредставление</th>\n",
              "      <th>ПсихОсвидетельствование</th>\n",
              "      <th>Контрагент</th>\n",
              "      <th>...</th>\n",
              "      <th>Оториноларингология3_Аудиометрия1_Значение</th>\n",
              "      <th>Оториноларингология3_Аудиометрия1_ЗначениеПредставление</th>\n",
              "      <th>Оториноларингология1_ЖалобыДополнение_Значение</th>\n",
              "      <th>Оториноларингология1_ЖалобыДополнение_ЗначениеПредставление</th>\n",
              "      <th>Стоматология2_ВП2_Значение</th>\n",
              "      <th>Стоматология2_ВП2_ЗначениеПредставление</th>\n",
              "      <th>Терапия2_ЗаключениеФОГК_Значение</th>\n",
              "      <th>Терапия2_ЗаключениеФОГК_ЗначениеПредставление</th>\n",
              "      <th>Офтальмология1_ДвигательныйАппаратГлазДополнение_Значение</th>\n",
              "      <th>Офтальмология1_ДвигательныйАппаратГлазДополнение_ЗначениеПредставление</th>\n",
              "    </tr>\n",
              "  </thead>\n",
              "  <tbody>\n",
              "    <tr>\n",
              "      <th>0</th>\n",
              "      <td>7f41ca7e-7dac-11ec-80fc-0cc47aab8067</td>\n",
              "      <td>c91e3407-b81f-11e9-80cf-0cc47aab8067</td>\n",
              "      <td>1976-10-24</td>\n",
              "      <td>Женский</td>\n",
              "      <td>Женский</td>\n",
              "      <td>2022-01-25</td>\n",
              "      <td>Периодический</td>\n",
              "      <td>Периодический</td>\n",
              "      <td>False</td>\n",
              "      <td>23c173a7-30d9-11e7-80d8-708bcd7f83cd</td>\n",
              "      <td>...</td>\n",
              "      <td>NaN</td>\n",
              "      <td>NaN</td>\n",
              "      <td>NaN</td>\n",
              "      <td>NaN</td>\n",
              "      <td>NaN</td>\n",
              "      <td>NaN</td>\n",
              "      <td>NaN</td>\n",
              "      <td>NaN</td>\n",
              "      <td>NaN</td>\n",
              "      <td>NaN</td>\n",
              "    </tr>\n",
              "    <tr>\n",
              "      <th>1</th>\n",
              "      <td>2ee1f9ac-83dd-11ec-80fc-0cc47aab8067</td>\n",
              "      <td>1a1a5fea-8b7f-11eb-80e8-0cc47aab8067</td>\n",
              "      <td>1987-11-18</td>\n",
              "      <td>Мужской</td>\n",
              "      <td>Мужской</td>\n",
              "      <td>2022-02-02</td>\n",
              "      <td>Периодический</td>\n",
              "      <td>Периодический</td>\n",
              "      <td>False</td>\n",
              "      <td>a6d559b0-7835-11eb-80e8-0cc47aab8067</td>\n",
              "      <td>...</td>\n",
              "      <td>NaN</td>\n",
              "      <td>NaN</td>\n",
              "      <td>NaN</td>\n",
              "      <td>NaN</td>\n",
              "      <td>NaN</td>\n",
              "      <td>NaN</td>\n",
              "      <td>NaN</td>\n",
              "      <td>NaN</td>\n",
              "      <td>NaN</td>\n",
              "      <td>NaN</td>\n",
              "    </tr>\n",
              "    <tr>\n",
              "      <th>2</th>\n",
              "      <td>9cbb191e-8e24-11ec-80fe-0cc47aab8067</td>\n",
              "      <td>7fe324e0-fa51-11eb-80f6-0cc47aab8067</td>\n",
              "      <td>1985-09-08</td>\n",
              "      <td>Мужской</td>\n",
              "      <td>Мужской</td>\n",
              "      <td>2022-02-15</td>\n",
              "      <td>Периодический</td>\n",
              "      <td>Периодический</td>\n",
              "      <td>False</td>\n",
              "      <td>a6d559b0-7835-11eb-80e8-0cc47aab8067</td>\n",
              "      <td>...</td>\n",
              "      <td>NaN</td>\n",
              "      <td>NaN</td>\n",
              "      <td>NaN</td>\n",
              "      <td>NaN</td>\n",
              "      <td>NaN</td>\n",
              "      <td>NaN</td>\n",
              "      <td>NaN</td>\n",
              "      <td>NaN</td>\n",
              "      <td>NaN</td>\n",
              "      <td>NaN</td>\n",
              "    </tr>\n",
              "    <tr>\n",
              "      <th>3</th>\n",
              "      <td>b8a33910-8eec-11ec-80fe-0cc47aab8067</td>\n",
              "      <td>98f9d761-8d65-11ec-80fe-0cc47aab8067</td>\n",
              "      <td>1988-04-25</td>\n",
              "      <td>Мужской</td>\n",
              "      <td>Мужской</td>\n",
              "      <td>2022-02-16</td>\n",
              "      <td>Периодический</td>\n",
              "      <td>Периодический</td>\n",
              "      <td>False</td>\n",
              "      <td>a6d559b0-7835-11eb-80e8-0cc47aab8067</td>\n",
              "      <td>...</td>\n",
              "      <td>NaN</td>\n",
              "      <td>NaN</td>\n",
              "      <td>NaN</td>\n",
              "      <td>NaN</td>\n",
              "      <td>NaN</td>\n",
              "      <td>NaN</td>\n",
              "      <td>NaN</td>\n",
              "      <td>NaN</td>\n",
              "      <td>NaN</td>\n",
              "      <td>NaN</td>\n",
              "    </tr>\n",
              "    <tr>\n",
              "      <th>4</th>\n",
              "      <td>0bb0d181-938c-11ec-80fe-0cc47aab8067</td>\n",
              "      <td>009aac7d-7bcf-11eb-80e8-0cc47aab8067</td>\n",
              "      <td>1984-04-17</td>\n",
              "      <td>Мужской</td>\n",
              "      <td>Мужской</td>\n",
              "      <td>2022-02-22</td>\n",
              "      <td>Периодический</td>\n",
              "      <td>Периодический</td>\n",
              "      <td>False</td>\n",
              "      <td>a6d559b0-7835-11eb-80e8-0cc47aab8067</td>\n",
              "      <td>...</td>\n",
              "      <td>NaN</td>\n",
              "      <td>NaN</td>\n",
              "      <td>NaN</td>\n",
              "      <td>NaN</td>\n",
              "      <td>NaN</td>\n",
              "      <td>NaN</td>\n",
              "      <td>NaN</td>\n",
              "      <td>NaN</td>\n",
              "      <td>NaN</td>\n",
              "      <td>NaN</td>\n",
              "    </tr>\n",
              "  </tbody>\n",
              "</table>\n",
              "<p>5 rows × 4587 columns</p>\n",
              "</div>\n",
              "      <button class=\"colab-df-convert\" onclick=\"convertToInteractive('df-6758d3e4-2fbc-415a-85dc-b623a6daadf4')\"\n",
              "              title=\"Convert this dataframe to an interactive table.\"\n",
              "              style=\"display:none;\">\n",
              "        \n",
              "  <svg xmlns=\"http://www.w3.org/2000/svg\" height=\"24px\"viewBox=\"0 0 24 24\"\n",
              "       width=\"24px\">\n",
              "    <path d=\"M0 0h24v24H0V0z\" fill=\"none\"/>\n",
              "    <path d=\"M18.56 5.44l.94 2.06.94-2.06 2.06-.94-2.06-.94-.94-2.06-.94 2.06-2.06.94zm-11 1L8.5 8.5l.94-2.06 2.06-.94-2.06-.94L8.5 2.5l-.94 2.06-2.06.94zm10 10l.94 2.06.94-2.06 2.06-.94-2.06-.94-.94-2.06-.94 2.06-2.06.94z\"/><path d=\"M17.41 7.96l-1.37-1.37c-.4-.4-.92-.59-1.43-.59-.52 0-1.04.2-1.43.59L10.3 9.45l-7.72 7.72c-.78.78-.78 2.05 0 2.83L4 21.41c.39.39.9.59 1.41.59.51 0 1.02-.2 1.41-.59l7.78-7.78 2.81-2.81c.8-.78.8-2.07 0-2.86zM5.41 20L4 18.59l7.72-7.72 1.47 1.35L5.41 20z\"/>\n",
              "  </svg>\n",
              "      </button>\n",
              "      \n",
              "  <style>\n",
              "    .colab-df-container {\n",
              "      display:flex;\n",
              "      flex-wrap:wrap;\n",
              "      gap: 12px;\n",
              "    }\n",
              "\n",
              "    .colab-df-convert {\n",
              "      background-color: #E8F0FE;\n",
              "      border: none;\n",
              "      border-radius: 50%;\n",
              "      cursor: pointer;\n",
              "      display: none;\n",
              "      fill: #1967D2;\n",
              "      height: 32px;\n",
              "      padding: 0 0 0 0;\n",
              "      width: 32px;\n",
              "    }\n",
              "\n",
              "    .colab-df-convert:hover {\n",
              "      background-color: #E2EBFA;\n",
              "      box-shadow: 0px 1px 2px rgba(60, 64, 67, 0.3), 0px 1px 3px 1px rgba(60, 64, 67, 0.15);\n",
              "      fill: #174EA6;\n",
              "    }\n",
              "\n",
              "    [theme=dark] .colab-df-convert {\n",
              "      background-color: #3B4455;\n",
              "      fill: #D2E3FC;\n",
              "    }\n",
              "\n",
              "    [theme=dark] .colab-df-convert:hover {\n",
              "      background-color: #434B5C;\n",
              "      box-shadow: 0px 1px 3px 1px rgba(0, 0, 0, 0.15);\n",
              "      filter: drop-shadow(0px 1px 2px rgba(0, 0, 0, 0.3));\n",
              "      fill: #FFFFFF;\n",
              "    }\n",
              "  </style>\n",
              "\n",
              "      <script>\n",
              "        const buttonEl =\n",
              "          document.querySelector('#df-6758d3e4-2fbc-415a-85dc-b623a6daadf4 button.colab-df-convert');\n",
              "        buttonEl.style.display =\n",
              "          google.colab.kernel.accessAllowed ? 'block' : 'none';\n",
              "\n",
              "        async function convertToInteractive(key) {\n",
              "          const element = document.querySelector('#df-6758d3e4-2fbc-415a-85dc-b623a6daadf4');\n",
              "          const dataTable =\n",
              "            await google.colab.kernel.invokeFunction('convertToInteractive',\n",
              "                                                     [key], {});\n",
              "          if (!dataTable) return;\n",
              "\n",
              "          const docLinkHtml = 'Like what you see? Visit the ' +\n",
              "            '<a target=\"_blank\" href=https://colab.research.google.com/notebooks/data_table.ipynb>data table notebook</a>'\n",
              "            + ' to learn more about interactive tables.';\n",
              "          element.innerHTML = '';\n",
              "          dataTable['output_type'] = 'display_data';\n",
              "          await google.colab.output.renderOutput(dataTable, element);\n",
              "          const docLink = document.createElement('div');\n",
              "          docLink.innerHTML = docLinkHtml;\n",
              "          element.appendChild(docLink);\n",
              "        }\n",
              "      </script>\n",
              "    </div>\n",
              "  </div>\n",
              "  "
            ]
          },
          "metadata": {},
          "execution_count": 2
        }
      ]
    },
    {
      "cell_type": "code",
      "source": [
        "df_orginal.shape\n"
      ],
      "metadata": {
        "colab": {
          "base_uri": "https://localhost:8080/"
        },
        "id": "XloENjyi76J9",
        "outputId": "8203abd7-c220-4142-af35-40fade59d7bd"
      },
      "execution_count": null,
      "outputs": [
        {
          "output_type": "execute_result",
          "data": {
            "text/plain": [
              "(1982, 4587)"
            ]
          },
          "metadata": {},
          "execution_count": 3
        }
      ]
    },
    {
      "cell_type": "code",
      "source": [
        "df_my = df_orginal.copy()\n",
        "df_my.shape"
      ],
      "metadata": {
        "colab": {
          "base_uri": "https://localhost:8080/"
        },
        "id": "SzNG9bgs51PE",
        "outputId": "832e946d-fa08-4ca2-8179-e364c3757ff7"
      },
      "execution_count": null,
      "outputs": [
        {
          "output_type": "execute_result",
          "data": {
            "text/plain": [
              "(1982, 4587)"
            ]
          },
          "metadata": {},
          "execution_count": 4
        }
      ]
    },
    {
      "cell_type": "code",
      "source": [
        "#Удалим строки с ошибками заполнения\n",
        "count_ind = df_my.shape[0]\n",
        "for str1 in ('машинист бульдозера', 'Газоспасатель',' Газоспасатель'):\n",
        "    df_my = df_my.drop(df_my[df_my['ЗаключениеМК'] == str1].index)\n",
        "df_my.shape"
      ],
      "metadata": {
        "colab": {
          "base_uri": "https://localhost:8080/"
        },
        "id": "kHY9bO0zVEKg",
        "outputId": "8927b427-692b-4669-ae2a-96baf5a5c6f9"
      },
      "execution_count": null,
      "outputs": [
        {
          "output_type": "execute_result",
          "data": {
            "text/plain": [
              "(1978, 4587)"
            ]
          },
          "metadata": {},
          "execution_count": 5
        }
      ]
    },
    {
      "cell_type": "code",
      "source": [
        " # Удаляю пустые строки \n",
        "df_my = df_my.drop(df_my[df_my['ЗаключениеМК'].isna()].index)\n",
        "df_my.shape"
      ],
      "metadata": {
        "colab": {
          "base_uri": "https://localhost:8080/"
        },
        "id": "W50rlWqdMlJf",
        "outputId": "b9733927-6077-4283-fc9d-bf0494694480"
      },
      "execution_count": null,
      "outputs": [
        {
          "output_type": "execute_result",
          "data": {
            "text/plain": [
              "(1571, 4587)"
            ]
          },
          "metadata": {},
          "execution_count": 6
        }
      ]
    },
    {
      "cell_type": "code",
      "source": [
        "\n",
        "#Удаляю пустые столбцы\n",
        "df_my.dropna(axis=1, how='all', inplace = True)\n",
        "df_my.shape"
      ],
      "metadata": {
        "colab": {
          "base_uri": "https://localhost:8080/"
        },
        "id": "l4w0125D8tQb",
        "outputId": "89b3d9d1-70fd-4840-d911-2ddcdb96d39d"
      },
      "execution_count": null,
      "outputs": [
        {
          "output_type": "execute_result",
          "data": {
            "text/plain": [
              "(1571, 3578)"
            ]
          },
          "metadata": {},
          "execution_count": 7
        }
      ]
    },
    {
      "cell_type": "code",
      "source": [
        " # Удаляю строки из основного набора\n",
        "df_my.drop(['Клиент', 'ДокументПрохождениеМедосмотра', 'ТипМедосмотра', 'ТипМедосмотраПредставление', 'ПсихОсвидетельствование', 'Контрагент',  'Рентгенология1_ДатаПриема', 'Рентгенология2_ДатаПриема', 'ПсихиатрияНаркология1_ДатаПриема', 'Терапия1_Врач_Значение', 'Терапия1_ПовышеннойВлажности_Значение', 'Терапия1_Сухие_Значение', 'Терапия1_Бледные_Значение', 'Терапия1_Чистый_Значение', 'Терапия1_ОбложенБелым_Значение', 'Терапия1_ОбложенЖелтоватоБелымНалетом_Значение', 'Терапия1_ОбложенЖелтоватоЗеленымНалетом_Значение', 'Терапия1_Гиперемированный_Значение', 'Терапия1_Отечный_Значение', 'Терапия1_Везикулярное_Значение', 'Терапия1_Жесткое_Значение', 'Терапия1_Ослабленное_Значение', 'Терапия1_Нет_Значение', 'Терапия1_Разнокалиберные_Значение', 'Терапия1_Мелкопузырчатые_Значение', 'Терапия1_Крупнопузырчатые_Значение', 'Терапия1_Крепетирующие_Значение', 'Терапия1_Ритмичные_Значение', 'Терапия1_Аритмичные_Значение', 'Терапия1_Ясные_Значение', 'Терапия1_Приглушенные_Значение', 'Терапия1_Болезненный_Значение', 'Терапия1_Безболезненный_Значение', 'Терапия1_Мягкий_Значение', '1111', '1111', '1111', '1111', '1111', '1111', '1111', '1111', '1111', '1111', '1111', '1111', '1111', '1111', '1111', '1111'], axis= 1 , inplace= True )\n",
        "df_my.shape"
      ],
      "metadata": {
        "colab": {
          "base_uri": "https://localhost:8080/"
        },
        "id": "t5h66VpURAEs",
        "outputId": "f6f6a615-7ea4-41e6-a20c-bb635a89d08b"
      },
      "execution_count": null,
      "outputs": [
        {
          "output_type": "execute_result",
          "data": {
            "text/plain": [
              "(1571, 3569)"
            ]
          },
          "metadata": {},
          "execution_count": 8
        }
      ]
    },
    {
      "cell_type": "code",
      "source": [
        "# Удаляю все стобцы с \"Представление\" в названии\n",
        "for col in df_my.columns:\n",
        "    if \"Представление\" in col:\n",
        "      df_my.pop(col)\n",
        "df_my.shape\n",
        "\n"
      ],
      "metadata": {
        "id": "a8JmW_EJfTap",
        "colab": {
          "base_uri": "https://localhost:8080/"
        },
        "outputId": "a0b378db-4aaf-4f9a-8d9f-a6924bb8b22d"
      },
      "execution_count": null,
      "outputs": [
        {
          "output_type": "execute_result",
          "data": {
            "text/plain": [
              "(1571, 1889)"
            ]
          },
          "metadata": {},
          "execution_count": 9
        }
      ]
    },
    {
      "cell_type": "code",
      "source": [
        "df_my['ДатаЗавершенияМедосмотра']"
      ],
      "metadata": {
        "colab": {
          "base_uri": "https://localhost:8080/"
        },
        "id": "DdkQTxxK4BwK",
        "outputId": "0652e879-9077-436c-b343-6c7f75fb5922"
      },
      "execution_count": null,
      "outputs": [
        {
          "output_type": "execute_result",
          "data": {
            "text/plain": [
              "0      2022-01-25\n",
              "1      2022-02-02\n",
              "2      2022-02-15\n",
              "3      2022-02-16\n",
              "4      2022-02-22\n",
              "          ...    \n",
              "1961   2022-11-30\n",
              "1962   2022-11-30\n",
              "1972   2022-11-30\n",
              "1973   2022-11-30\n",
              "1981   2022-12-02\n",
              "Name: ДатаЗавершенияМедосмотра, Length: 1571, dtype: datetime64[ns]"
            ]
          },
          "metadata": {},
          "execution_count": 10
        }
      ]
    },
    {
      "cell_type": "code",
      "source": [
        "# Удаляю все стобцы с \"Представление\" в названии\n",
        "i = 0\n",
        "for col in df_my.columns:\n",
        "    if (\"Дата\" in col) and (col != 'ДатаЗавершенияМедосмотра') :\n",
        "      df_my.pop(col)\n",
        "df_my.shape"
      ],
      "metadata": {
        "colab": {
          "base_uri": "https://localhost:8080/"
        },
        "id": "vF2rVV_53kqW",
        "outputId": "ae259b13-5394-452a-de59-14c9b4b34caa"
      },
      "execution_count": null,
      "outputs": [
        {
          "output_type": "execute_result",
          "data": {
            "text/plain": [
              "(1571, 1817)"
            ]
          },
          "metadata": {},
          "execution_count": 16
        }
      ]
    },
    {
      "cell_type": "code",
      "source": [
        "# Выгружаю \n",
        "df_my.to_excel('df_my.xlsx')"
      ],
      "metadata": {
        "id": "_0VoYHkwOB6R"
      },
      "execution_count": null,
      "outputs": []
    },
    {
      "cell_type": "markdown",
      "source": [
        "Дальше работал в ручную с оставлимся списком. Удалял столбцы которые не просто мало заполнены, но и по смыслу не имеют значения. Прямым перебором"
      ],
      "metadata": {
        "id": "G6iaVMAMVuWu"
      }
    },
    {
      "cell_type": "markdown",
      "source": [
        "Давление - можно регулярками отобрать только верхнее, т.к. нижнее в больштнстве строк не указано\n",
        "\n",
        "Нужна ли колонка \"Клиент\"???\n",
        "В некоторых столбцах есть редкие заключения, но они могут же сразу иметь противопоказания к работе. Что с ними делать? С одной стороны это для НС выглядит как выброс, а с другой это может быть четким противопоказанием.\n",
        "\n",
        "По персональному заданию- корреляция.. работает только на цифровые значения, которых я таблице практически нет."
      ],
      "metadata": {
        "id": "DJ8zftkuSDCb"
      }
    }
  ]
}