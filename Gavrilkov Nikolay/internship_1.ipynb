{
  "nbformat": 4,
  "nbformat_minor": 0,
  "metadata": {
    "colab": {
      "provenance": [],
      "collapsed_sections": [
        "lHBc0blc8Kne",
        "sF_YZObo8qD3",
        "wGMF7n9l2HlS",
        "n_9SOnjO2c1L",
        "U6BcjjVR8JNq",
        "3uwUVf4IAs88",
        "RVZpr1bVqfMx",
        "1gUoFS9Yu2Jt",
        "3UxtHaA-xcyb",
        "OGBGqOBDzu4Y",
        "ZaHQN1dg3IBj",
        "0MZdhdII5kr_",
        "MPdJMxDM-Qr9"
      ],
      "mount_file_id": "1M9SzOscE4NNedwyRf7FOT-c5y-gavIJD",
      "authorship_tag": "ABX9TyMcRmvvj8bAoaH+SG8y9yUa",
      "include_colab_link": true
    },
    "kernelspec": {
      "name": "python3",
      "display_name": "Python 3"
    },
    "language_info": {
      "name": "python"
    },
    "gpuClass": "standard"
  },
  "cells": [
    {
      "cell_type": "markdown",
      "metadata": {
        "id": "view-in-github",
        "colab_type": "text"
      },
      "source": [
        "<a href=\"https://colab.research.google.com/github/Untick/InspectrumClinic_RS_gr1/blob/Gavrilkov-Nikolay-folder/Gavrilkov%20Nikolay/internship_1.ipynb\" target=\"_parent\"><img src=\"https://colab.research.google.com/assets/colab-badge.svg\" alt=\"Open In Colab\"/></a>"
      ]
    },
    {
      "cell_type": "markdown",
      "source": [
        "##1-я стажировка \"Профпатолог\""
      ],
      "metadata": {
        "id": "Nx1FO2WiLaFe"
      }
    },
    {
      "cell_type": "code",
      "execution_count": 64,
      "metadata": {
        "id": "leXKwzjELBsy"
      },
      "outputs": [],
      "source": [
        "# Импорт библиотек\n",
        "import pandas as pd\n",
        "import numpy as np\n",
        "\n",
        "from tensorflow.keras.preprocessing.text import Tokenizer\n",
        "from tensorflow.keras.models import Sequential\n",
        "from tensorflow.keras.layers import Dense, Dropout, BatchNormalization\n",
        "\n",
        "# Дополнительные инструменты\n",
        "from sklearn.preprocessing import LabelEncoder\n",
        "from tensorflow.keras import utils\n",
        "from sklearn.metrics import confusion_matrix, ConfusionMatrixDisplay\n",
        "from sklearn.model_selection import train_test_split\n",
        "import matplotlib.pyplot as plt \n",
        "\n",
        "import random \n",
        "import math \n",
        "import os \n",
        "import re \n",
        "%matplotlib inline"
      ]
    },
    {
      "cell_type": "markdown",
      "source": [
        "## Загрузка и предварительная обработка"
      ],
      "metadata": {
        "id": "lHBc0blc8Kne"
      }
    },
    {
      "cell_type": "code",
      "source": [
        "df_stock = pd.read_excel('/content/drive/MyDrive/profpatolog/датасет профпатолог часть.xlsx')\n",
        "df_stock.head()"
      ],
      "metadata": {
        "colab": {
          "base_uri": "https://localhost:8080/"
        },
        "id": "W4HMBFU-NcD2",
        "outputId": "6f5a3bd3-48cf-4d49-da58-be26dc1d3d52"
      },
      "execution_count": null,
      "outputs": [
        {
          "output_type": "stream",
          "name": "stderr",
          "text": [
            "Exception ignored in: <function _xla_gc_callback at 0x7f95c07929e0>\n",
            "Traceback (most recent call last):\n",
            "  File \"/usr/local/lib/python3.10/dist-packages/jax/_src/lib/__init__.py\", line 97, in _xla_gc_callback\n",
            "    def _xla_gc_callback(*args):\n",
            "KeyboardInterrupt: \n"
          ]
        }
      ]
    },
    {
      "cell_type": "code",
      "source": [
        "df_stock.isna().sum().sum()"
      ],
      "metadata": {
        "id": "K9k83jziBmxu"
      },
      "execution_count": null,
      "outputs": []
    },
    {
      "cell_type": "code",
      "source": [
        "df_stock.isna().sum().sum() *100 / df_stock.size"
      ],
      "metadata": {
        "id": "b81u4_EhCFmO"
      },
      "execution_count": null,
      "outputs": []
    },
    {
      "cell_type": "code",
      "source": [
        "df_stock.shape"
      ],
      "metadata": {
        "id": "WqGydV3ZPe_e"
      },
      "execution_count": null,
      "outputs": []
    },
    {
      "cell_type": "code",
      "source": [
        "df_cor = df_stock.copy()"
      ],
      "metadata": {
        "id": "COPbbRsFJvHP"
      },
      "execution_count": null,
      "outputs": []
    },
    {
      "cell_type": "code",
      "source": [
        "# Анализ целевого столбца \"ЗаключениеМК\"\n",
        "print(f\"заполненных строк - {df_cor['ЗаключениеМК'].count()}, не заполнено - {df_cor['ЗаключениеМК'].isna().sum()}\")\n",
        "print(f\"Количество уникальных записей - {df_cor['ЗаключениеМК'].nunique()}\")\n",
        "df_cor['ЗаключениеМК'].unique()"
      ],
      "metadata": {
        "id": "SGtqOP5goVlI"
      },
      "execution_count": null,
      "outputs": []
    },
    {
      "cell_type": "code",
      "source": [
        "#Удалим строки с ошибками заполнения\n",
        "count_ind = df_cor.shape[0]\n",
        "for str1 in ('машинист бульдозера', 'Газоспасатель',' Газоспасатель'):\n",
        "    df_cor = df_cor.drop(df_cor[df_cor['ЗаключениеМК'] == str1].index)\n",
        "print(f'Удалено {count_ind - df_cor.shape[0]} строк(и)')\n",
        "df_cor.shape"
      ],
      "metadata": {
        "id": "xWF1Xq-Jggt9"
      },
      "execution_count": null,
      "outputs": []
    },
    {
      "cell_type": "code",
      "source": [
        "# Строки с незаполненным столбцом выделим в отдельный датафрейм\n",
        "df_NAN = df_cor[df_cor['ЗаключениеМК'].isna()]\n",
        "df_NAN.shape"
      ],
      "metadata": {
        "id": "Z9r2bTJld2EC"
      },
      "execution_count": null,
      "outputs": []
    },
    {
      "cell_type": "code",
      "source": [
        " # Удалим строки из основного набора\n",
        "df_cor = df_cor.drop(df_cor[df_cor['ЗаключениеМК'].isna()].index)\n",
        "df_cor.shape"
      ],
      "metadata": {
        "id": "eYlIIRHCn0T8"
      },
      "execution_count": null,
      "outputs": []
    },
    {
      "cell_type": "code",
      "source": [
        "#Удалим колонки не имеющие записей\n",
        "print(f'Размер до - {df_cor.shape}')\n",
        "df_cor = df_cor.dropna(axis=1, how='all')\n",
        "print(f'Размер после - {df_cor.shape}')"
      ],
      "metadata": {
        "id": "zT6qZkYbQ8Hu"
      },
      "execution_count": null,
      "outputs": []
    },
    {
      "cell_type": "code",
      "source": [
        "# процет незаполненных ячеек\n",
        "df_cor.isna().sum().sum() * 100 / df_cor.size"
      ],
      "metadata": {
        "id": "DDybRzxaCX9G"
      },
      "execution_count": null,
      "outputs": []
    },
    {
      "cell_type": "code",
      "source": [
        "df_cor['ЗаключениеМК'].value_counts()"
      ],
      "metadata": {
        "id": "_eWvn6HUH0Na"
      },
      "execution_count": null,
      "outputs": []
    },
    {
      "cell_type": "code",
      "source": [
        "# Приведение к 3 классам\n",
        "new_val = {'ГоденСКоррекциейЗрения':'ОграниченноГоден','ГоденБезРаботНаВысотах':'ОграниченноГоден','НуждаетсяВДообследованииИЛечении':'НеГоден','ВременноНегоден':'НеГоден','Годен':'Годен','ОграниченноГоден':'ОграниченноГоден'}\n",
        "df_cor['ЗаключениеМК'] = df_cor['ЗаключениеМК'].map(new_val)"
      ],
      "metadata": {
        "id": "M9kdBk3IJSdU"
      },
      "execution_count": null,
      "outputs": []
    },
    {
      "cell_type": "code",
      "source": [
        "df_cor['ЗаключениеМК'].value_counts()"
      ],
      "metadata": {
        "id": "Poi9MSDlKdki"
      },
      "execution_count": null,
      "outputs": []
    },
    {
      "cell_type": "code",
      "source": [
        "# Анализ данных\n",
        "counts = df_cor.count(axis=0)\n",
        "unikues = df_cor.nunique(axis=0)\n",
        "types = df_cor.dtypes\n",
        "df_x = pd.concat([counts.to_frame(name='count'), unikues.to_frame(name='unikue'), types.to_frame(name='type')], axis= 1 )"
      ],
      "metadata": {
        "id": "FRwLtc2kUPmQ"
      },
      "execution_count": null,
      "outputs": []
    },
    {
      "cell_type": "code",
      "source": [
        "df_x"
      ],
      "metadata": {
        "id": "vBA7YhGbdQZj"
      },
      "execution_count": null,
      "outputs": []
    },
    {
      "cell_type": "code",
      "source": [
        "# Составим список удаляемых колонок\n",
        "del_col = ['ДокументПрохождениеМедосмотра','Клиент','КлиентПолПредставление','ЗаключениеМКПредставление','Заключение','ДиспансернаяГруппаПредставление',\n",
        "           'ДатаЗавершенияМедосмотра','ТипМедосмотраПредставление','Контрагент','Цех']"
      ],
      "metadata": {
        "id": "d6v0DMbC9wiJ"
      },
      "execution_count": null,
      "outputs": []
    },
    {
      "cell_type": "code",
      "source": [
        "# Добавим некоторые колонки по условию\n",
        "col_list = list(df_cor.columns)\n",
        "for elem in col_list:\n",
        "    if 'ДокументПрием' in elem or 'ДатаПриема' in elem:\n",
        "        del_col.append(elem)\n",
        "        continue\n",
        "    if 'Салон' in elem or 'ЛабораторныеИсследования' in elem:    \n",
        "        del_col.append(elem)\n",
        "        continue\n",
        "    if 'Врач' in elem or 'Специализация' in elem:\n",
        "        del_col.append(elem)\n",
        "        continue\n",
        "    if 'Серд' in elem or 'Рост' in elem or 'Вес' in elem:\n",
        "        del_col.append(elem)\n",
        "        continue\n",
        "\n",
        "print(len(del_col))\n",
        "print(del_col)"
      ],
      "metadata": {
        "id": "jeKPbF5N_b9M"
      },
      "execution_count": null,
      "outputs": []
    },
    {
      "cell_type": "code",
      "source": [
        "df_cor = df_cor.drop(del_col, axis=1)"
      ],
      "metadata": {
        "id": "2qspjsKhP5UC"
      },
      "execution_count": null,
      "outputs": []
    },
    {
      "cell_type": "code",
      "source": [
        "df_cor.shape"
      ],
      "metadata": {
        "id": "tZQeohK-QX4H"
      },
      "execution_count": null,
      "outputs": []
    },
    {
      "cell_type": "code",
      "source": [
        "# Проверка результата\n",
        "counts = df_cor.count(axis=0)\n",
        "unikues = df_cor.nunique(axis=0)\n",
        "types = df_cor.dtypes\n",
        "df_x = pd.concat([counts.to_frame(name='count'), unikues.to_frame(name='unikue'), types.to_frame(name='type')], axis= 1 )"
      ],
      "metadata": {
        "id": "BeSHxqrK1tfv"
      },
      "execution_count": null,
      "outputs": []
    },
    {
      "cell_type": "code",
      "source": [
        "df_x[df_x['unikue']==1]"
      ],
      "metadata": {
        "id": "SXN7oV_0fuY7"
      },
      "execution_count": null,
      "outputs": []
    },
    {
      "cell_type": "code",
      "source": [
        "df_cor['Офтальмология1_Детализация1'].unique()"
      ],
      "metadata": {
        "id": "vprXQGWuSkq2"
      },
      "execution_count": null,
      "outputs": []
    },
    {
      "cell_type": "code",
      "source": [
        "# Выведем наименее заполненные колонки и колонки заполненные одним значением\n",
        "rez_col = list(df_x[((df_x['count'] <= 30) & (df_x['unikue'] < 10)) | (df_x['unikue'] == 1)].index)\n",
        "print(len(rez_col))\n",
        "print(rez_col)"
      ],
      "metadata": {
        "id": "66YmsZiL13mf"
      },
      "execution_count": null,
      "outputs": []
    },
    {
      "cell_type": "code",
      "source": [
        "# отделим колонки в отдельный датафрейм\n",
        "df_rez = df_cor[rez_col]\n",
        "df_rez.shape"
      ],
      "metadata": {
        "id": "wRdYcEYgoCeR"
      },
      "execution_count": null,
      "outputs": []
    },
    {
      "cell_type": "code",
      "source": [
        "# очистим датасет\n",
        "df_cor = df_cor.drop(rez_col, axis=1)\n",
        "df_cor.shape"
      ],
      "metadata": {
        "id": "w5SQIuS5og0p"
      },
      "execution_count": null,
      "outputs": []
    },
    {
      "cell_type": "code",
      "source": [
        "# Сохранение текущих датафреймов\n",
        "df_cor.to_csv('/content/drive/MyDrive/profpatolog/df_cor.csv', index=False)\n",
        "df_NAN.to_csv('/content/drive/MyDrive/profpatolog/df_NAN.csv', index=False)\n",
        "df_rez.to_csv('/content/drive/MyDrive/profpatolog/df_rez.csv', index=False)"
      ],
      "metadata": {
        "id": "dxFLuCbRWc5G"
      },
      "execution_count": null,
      "outputs": []
    },
    {
      "cell_type": "markdown",
      "source": [
        "## 2-й этап"
      ],
      "metadata": {
        "id": "sF_YZObo8qD3"
      }
    },
    {
      "cell_type": "code",
      "source": [
        "# Загрузка сохраненных ранее датафреймов\n",
        "df_cor = pd.read_csv('/content/drive/MyDrive/profpatolog/df_cor.csv')"
      ],
      "metadata": {
        "id": "4lpNhbJa7XfF",
        "colab": {
          "base_uri": "https://localhost:8080/"
        },
        "outputId": "5270a3eb-cee2-4a2f-ea22-0fcef1520f9b"
      },
      "execution_count": null,
      "outputs": [
        {
          "output_type": "stream",
          "name": "stderr",
          "text": [
            "<ipython-input-2-38e2b18a2eb2>:2: DtypeWarning: Columns (91,92,101,102,140,141,251,252,255,256,259,260,302,314,315,343,344,353,354,355,356,357,358,369,370,423,424,507,508,525,526,527,528,611,612,623,624) have mixed types. Specify dtype option on import or set low_memory=False.\n",
            "  df_cor = pd.read_csv('/content/drive/MyDrive/profpatolog/df_cor.csv')\n"
          ]
        }
      ]
    },
    {
      "cell_type": "code",
      "source": [
        "df_cor.shape"
      ],
      "metadata": {
        "colab": {
          "base_uri": "https://localhost:8080/"
        },
        "id": "tibyibJgg9GQ",
        "outputId": "cc2e3911-8c0c-4c64-d251-5d825845e4d5"
      },
      "execution_count": null,
      "outputs": [
        {
          "output_type": "execute_result",
          "data": {
            "text/plain": [
              "(1571, 631)"
            ]
          },
          "metadata": {},
          "execution_count": 150
        }
      ]
    },
    {
      "cell_type": "code",
      "source": [
        "col_list = df_cor.columns.tolist()\n",
        "col_ter = []\n",
        "col_psn = []\n",
        "col_gin = []\n",
        "col_oft = []\n",
        "col_lor = []\n",
        "col_sto = []\n",
        "col_hir = []\n",
        "col_nvr = []\n",
        "col_drv = []\n",
        "col_uzi = []\n",
        "col_end = []\n",
        "col_prm = []\n",
        "col_all = []\n",
        "for elem in col_list:\n",
        "    if 'Терапия' in elem:\n",
        "        col_ter.append(elem)\n",
        "        col_all.append(elem)\n",
        "    if 'Психиатрия' in elem:\n",
        "        col_psn.append(elem)\n",
        "        col_all.append(elem)\n",
        "    if 'Гинеколог' in elem:\n",
        "        col_gin.append(elem)\n",
        "        col_all.append(elem)\n",
        "    if 'Офтальм' in elem:\n",
        "        col_oft.append(elem)\n",
        "        col_all.append(elem)\n",
        "    if 'Оторинол' in elem:\n",
        "        col_lor.append(elem)\n",
        "        col_all.append(elem)\n",
        "    if 'Стоматол' in elem:\n",
        "        col_sto.append(elem)\n",
        "        col_all.append(elem)\n",
        "    if 'Хирург' in elem:\n",
        "        col_hir.append(elem)\n",
        "        col_all.append(elem)\n",
        "    if 'Неврол' in elem:\n",
        "        col_nvr.append(elem)\n",
        "        col_all.append(elem)\n",
        "    if 'Дермато' in elem:\n",
        "        col_drv.append(elem)\n",
        "        col_all.append(elem)\n",
        "    if 'УЗИД' in elem:\n",
        "        col_uzi.append(elem)\n",
        "        col_all.append(elem)\n",
        "    if 'Процедур' in elem:\n",
        "        col_prm.append(elem)\n",
        "        col_all.append(elem)\n",
        "    if 'Эндос' in elem:\n",
        "        col_end.append(elem)\n",
        "        col_all.append(elem)\n",
        "print(len(col_ter))\n",
        "print(col_ter[:5])        \n",
        "print(len(col_psn))\n",
        "print(col_psn[:5])        \n",
        "print(len(col_gin))\n",
        "print(col_gin[:5])        \n",
        "print(len(col_oft))\n",
        "print(col_oft[:5])        \n",
        "print(len(col_lor))\n",
        "print(col_lor[:5])        \n",
        "print(len(col_sto))\n",
        "print(col_sto[:5])        \n",
        "print(len(col_hir))\n",
        "print(col_hir[:5])        \n",
        "print(len(col_nvr))\n",
        "print(col_nvr[:5])        \n",
        "print(len(col_drv))\n",
        "print(col_drv[:5])        \n",
        "print(len(col_uzi))\n",
        "print(col_uzi[:5])        \n",
        "print(len(col_prm))\n",
        "print(col_prm[:5])        \n",
        "print(len(col_end))\n",
        "print(col_end[:5])        \n",
        "\n",
        "print(len(col_all))\n",
        "\n",
        "col_ost = []\n",
        "for elem in col_list:\n",
        "    if elem not in col_all:\n",
        "        col_ost.append(elem)\n",
        "\n",
        "print(len(col_ost))"
      ],
      "metadata": {
        "colab": {
          "base_uri": "https://localhost:8080/"
        },
        "id": "7Q5h-txnyaGg",
        "outputId": "ac8689fe-759e-4259-ab05-31da3026fc73"
      },
      "execution_count": null,
      "outputs": [
        {
          "output_type": "stream",
          "name": "stdout",
          "text": [
            "93\n",
            "['Терапия1_ХР_Рекомендация1', 'Терапия1_ХР_Рекомендация1Представление', 'Терапия1_ХР_Рекомендация2', 'Терапия1_ХР_Рекомендация2Представление', 'Терапия1_АртериальноеДавление_Значение']\n",
            "62\n",
            "['ПсихиатрияНаркология1_ХР_РекомендацияСтр', 'ПсихиатрияНаркология1_МКБ101', 'ПсихиатрияНаркология1_ДиагнозПредставление1', 'ПсихиатрияНаркология1_ПрофнепригодностьВременная1', 'ПсихиатрияНаркология1_ПрофнепригодностьВременнаяПредставление1']\n",
            "78\n",
            "['Гинекология1_ХР_Рекомендация1', 'Гинекология1_ХР_Рекомендация1Представление', 'Гинекология1_МКБ101', 'Гинекология1_ДиагнозПредставление1', 'Гинекология1_ПрофнепригодностьВременная1']\n",
            "102\n",
            "['Офтальмология1_ХР_Рекомендация1', 'Офтальмология1_ХР_Рекомендация1Представление', 'Офтальмология1_МКБ101', 'Офтальмология1_ДиагнозПредставление1', 'Офтальмология1_Детализация1']\n",
            "41\n",
            "['Оториноларингология1_МКБ101', 'Оториноларингология1_ДиагнозПредставление1', 'Оториноларингология1_Детализация1', 'Оториноларингология1_ПрофнепригодностьВременная1', 'Оториноларингология1_ПрофнепригодностьВременнаяПредставление1']\n",
            "73\n",
            "['Стоматология1_ХР_Рекомендация1', 'Стоматология1_ХР_Рекомендация1Представление', 'Стоматология1_МКБ101', 'Стоматология1_ДиагнозПредставление1', 'Стоматология1_Прикус_Значение']\n",
            "20\n",
            "['Хирургия1_МКБ101', 'Хирургия1_ДиагнозПредставление1', 'Хирургия1_ПрофнепригодностьВременная1', 'Хирургия1_ПрофнепригодностьВременнаяПредставление1', 'Хирургия1_Диагноз_Значение']\n",
            "40\n",
            "['Неврология1_МКБ101', 'Неврология1_ДиагнозПредставление1', 'Неврология1_ПрофнепригодностьВременная1', 'Неврология1_ПрофнепригодностьВременнаяПредставление1', 'Неврология1_ГоденНегоден_Значение']\n",
            "12\n",
            "['Дерматовенерология1_МКБ101', 'Дерматовенерология1_ДиагнозПредставление1', 'Дерматовенерология1_ПрофнепригодностьВременная1', 'Дерматовенерология1_ПрофнепригодностьВременнаяПредставление1', 'Дерматовенерология1_Диагноз_Значение']\n",
            "88\n",
            "['УЗИДиагностика1_Заключение_Значение', 'УЗИДиагностика1_Заключение_ЗначениеПредставление', 'УЗИДиагностика1_Размеры_Значение', 'УЗИДиагностика1_Контуры_Значение', 'УЗИДиагностика1_Контуры_ЗначениеПредставление']\n",
            "8\n",
            "['ПроцедурнаяМедсестра1_МазокИзЗеваИНоса_Значение', 'ПроцедурнаяМедсестра1_МазокИзЗеваИНоса_ЗначениеПредставление', 'ПроцедурнаяМедсестра1_Кал_Значение', 'ПроцедурнаяМедсестра1_Кал_ЗначениеПредставление', 'ПроцедурнаяМедсестра1_RW_Значение']\n",
            "2\n",
            "['Эндоскопия1_ЖалобыДополнение_Значение', 'Эндоскопия1_ЖалобыДополнение_ЗначениеПредставление']\n",
            "619\n",
            "12\n"
          ]
        }
      ]
    },
    {
      "cell_type": "code",
      "source": [
        "# небольшая ф-ция по слиянию колонок\n",
        "def col_concat (row, list_row):\n",
        "    for row1 in list_row:\n",
        "        print(f'{row} было заполнено - {df_cor[row].count()}')\n",
        "        df_cor.loc[df_cor[row].isna(),[row]] = df_cor[row1]\n",
        "        print(f'{row} стало - {df_cor[row].count()}')\n",
        "    return"
      ],
      "metadata": {
        "id": "tw7Mjhn1hGQa"
      },
      "execution_count": null,
      "outputs": []
    },
    {
      "cell_type": "markdown",
      "source": [
        "## Раздел Терапии"
      ],
      "metadata": {
        "id": "wGMF7n9l2HlS"
      }
    },
    {
      "cell_type": "code",
      "source": [
        "#df_cor['Терапия1_П_Значение'] = df_cor['Терапия1_П_Значение'].fillna(0)\n",
        "print(df_cor['Терапия1_П_Значение'].count())\n",
        "df_cor['Терапия1_П_Значение'].unique()"
      ],
      "metadata": {
        "colab": {
          "base_uri": "https://localhost:8080/"
        },
        "id": "2jxi870D6j6W",
        "outputId": "6f42d888-f262-4d2b-f4fa-fc01f8f4de7e"
      },
      "execution_count": null,
      "outputs": [
        {
          "output_type": "stream",
          "name": "stdout",
          "text": [
            "1380\n"
          ]
        },
        {
          "output_type": "execute_result",
          "data": {
            "text/plain": [
              "array([ 76.,  65.,  66.,  80.,  70.,  77.,  74.,  75.,  nan,  69.,  82.,\n",
              "       100.,  64.,  67.,  78.,  79.,  57.,  72.,  60.,  58.,  68.,  73.,\n",
              "        59.,  63.,  85.,  86.,  89.,  83.,  84.,  48.,  50.,  87.,  53.,\n",
              "        96.,  97.,  81.,  54.,  88.,  92.,  61.,  52.,  98.,  93., 101.,\n",
              "        94.,   8.,  91., 104., 102.,  90.,  71.,  62., 127., 103., 122.,\n",
              "       118.,  56., 108.,  95., 110.,  55., 109.,  51., 134.,  99., 107.,\n",
              "         2.])"
            ]
          },
          "metadata": {},
          "execution_count": 36
        }
      ]
    },
    {
      "cell_type": "code",
      "source": [
        "# Приведем в порядок колонку 'Терапия1_АртериальноеДавление_Значение'\n",
        "map_x = lambda x: x if len(str(x)) <= 3 else str(x)[:3]\n",
        "df_cor['Терапия1_АртериальноеДавление_Значение'] = df_cor['Терапия1_АртериальноеДавление_Значение'].map(map_x)\n",
        "df_cor['Терапия2_АртериальноеДавление_Значение'] = df_cor['Терапия2_АртериальноеДавление_Значение'].map(map_x)\n",
        "# И переведем её в float формат\n",
        "df_cor = df_cor.astype({'Терапия1_АртериальноеДавление_Значение': np.float64})\n",
        "df_cor = df_cor.astype({'Терапия2_АртериальноеДавление_Значение': np.float64})\n",
        "#df_cor['Терапия1_АртериальноеДавление_Значение'] = df_cor['Терапия1_АртериальноеДавление_Значение'].fillna(0)\n",
        "print(df_cor['Терапия1_АртериальноеДавление_Значение'].count())\n",
        "df_cor['Терапия1_АртериальноеДавление_Значение'].unique()"
      ],
      "metadata": {
        "id": "osX_qplmmMsH",
        "colab": {
          "base_uri": "https://localhost:8080/"
        },
        "outputId": "fd0ec05b-c570-4364-81b5-27c62b6c97ee"
      },
      "execution_count": null,
      "outputs": [
        {
          "output_type": "stream",
          "name": "stdout",
          "text": [
            "1389\n"
          ]
        },
        {
          "output_type": "execute_result",
          "data": {
            "text/plain": [
              "array([140., 150., 120., 110., 105., 130., 125., 133., 100., 160.,  nan,\n",
              "       180., 115.,  90., 135., 128., 138., 112., 129., 118., 155., 102.,\n",
              "       144., 107., 141., 182., 145., 131., 123., 193., 121., 127., 113.,\n",
              "       132., 109., 117., 137., 124., 116., 171., 151., 142., 134., 146.,\n",
              "       168., 119., 111., 177., 165., 122., 153., 159., 143., 147., 148.,\n",
              "       167., 136., 139., 189., 166., 162., 158., 172., 169., 152., 126.,\n",
              "       198., 161., 174., 175., 186., 108., 106., 170., 154., 149., 173.,\n",
              "       157., 114., 163.,  95., 101.])"
            ]
          },
          "metadata": {},
          "execution_count": 49
        }
      ]
    },
    {
      "cell_type": "code",
      "source": [
        "#df_cor['Терапия1_АртериальноеДавление21_ЗначениеПредставление'] = df_cor['Терапия1_АртериальноеДавление21_ЗначениеПредставление'].fillna(0)"
      ],
      "metadata": {
        "id": "W6u-QjeGh8sG"
      },
      "execution_count": null,
      "outputs": []
    },
    {
      "cell_type": "markdown",
      "source": [
        "Список полей \"Терапия\":\n",
        "\n",
        "'Терапия1_П_Значение', 'Терапия1_АртериальноеДавление_Значение', 'Терапия1_АртериальноеДавление21_ЗначениеПредставление', 'Терапия1_ПрофнепригодностьВременнаяПредставление1', 'Терапия1_ДиагнозПредставление1', 'Терапия1_ИМТ_ЗначениеПредставление', 'Терапия1_ХР_Рекомендация1Представление'"
      ],
      "metadata": {
        "id": "SzE1soX5ryx8"
      }
    },
    {
      "cell_type": "code",
      "source": [
        "# Дозаполним колонки с одинаковыми данными\n",
        "print(df_cor['Терапия1_ИМТ_ЗначениеПредставление'].count())\n",
        "df_cor.loc[df_cor['Терапия1_ИМТ_ЗначениеПредставление'].isna(),['Терапия1_ИМТ_ЗначениеПредставление']] = df_cor['Терапия2_ИМТ_ЗначениеПредставление']\n",
        "print(df_cor['Терапия1_ИМТ_ЗначениеПредставление'].count())\n",
        "print(df_cor['Терапия1_ХР_Рекомендация1Представление'].count())\n",
        "df_cor.loc[df_cor['Терапия1_ХР_Рекомендация1Представление'].isna(),['Терапия1_ХР_Рекомендация1Представление']] = df_cor['Терапия1_ХР_Рекомендация2Представление']\n",
        "print(df_cor['Терапия1_ХР_Рекомендация1Представление'].count())"
      ],
      "metadata": {
        "id": "3pjrFmqkeDbR",
        "colab": {
          "base_uri": "https://localhost:8080/"
        },
        "outputId": "d5999c19-9fef-4747-cf38-ff2bd3c1e4dc"
      },
      "execution_count": null,
      "outputs": [
        {
          "output_type": "stream",
          "name": "stdout",
          "text": [
            "1313\n",
            "1320\n",
            "185\n",
            "185\n"
          ]
        }
      ]
    },
    {
      "cell_type": "code",
      "source": [
        "# небольшая ф-ция по слиянию колонок\n",
        "def col_concat (row, list_row):\n",
        "    for row1 in list_row:\n",
        "        print(f'{row} было заполнено - {df_cor[row].count()}')\n",
        "        df_cor.loc[df_cor[row].isna(),[row]] = df_cor[row1]\n",
        "        print(f'{row} стало - {df_cor[row].count()}')\n",
        "    return\n"
      ],
      "metadata": {
        "id": "06kfmFlhk15B"
      },
      "execution_count": null,
      "outputs": []
    },
    {
      "cell_type": "code",
      "source": [
        "col_to_cnc = ['Терапия1_АнамнезДополнение_ЗначениеПредставление','Терапия2_ДиагнозПредставление1','Терапия1_ДиагнозПредставление2','Терапия1_Детализация1',\n",
        "              'Терапия2_Диагноз_ЗначениеПредставление','Терапия2_АнамнезДополнение_ЗначениеПредставление','Терапия1_Диагноз_ЗначениеПредставление']\n",
        "col_concat('Терапия1_ДиагнозПредставление1', col_to_cnc)"
      ],
      "metadata": {
        "colab": {
          "base_uri": "https://localhost:8080/"
        },
        "id": "Px6mWMcLjeFR",
        "outputId": "748df15b-6ae3-4124-804a-756dc777fdb0"
      },
      "execution_count": null,
      "outputs": [
        {
          "output_type": "stream",
          "name": "stdout",
          "text": [
            "Терапия1_ДиагнозПредставление1 было заполнено - 1358\n",
            "Терапия1_ДиагнозПредставление1 стало - 1369\n",
            "Терапия1_ДиагнозПредставление1 было заполнено - 1369\n",
            "Терапия1_ДиагнозПредставление1 стало - 1376\n",
            "Терапия1_ДиагнозПредставление1 было заполнено - 1376\n",
            "Терапия1_ДиагнозПредставление1 стало - 1376\n",
            "Терапия1_ДиагнозПредставление1 было заполнено - 1376\n",
            "Терапия1_ДиагнозПредставление1 стало - 1376\n",
            "Терапия1_ДиагнозПредставление1 было заполнено - 1376\n",
            "Терапия1_ДиагнозПредставление1 стало - 1376\n",
            "Терапия1_ДиагнозПредставление1 было заполнено - 1376\n",
            "Терапия1_ДиагнозПредставление1 стало - 1382\n"
          ]
        }
      ]
    },
    {
      "cell_type": "code",
      "source": [
        "col_to_cnc = ['Терапия1_ГоденНегоден_ЗначениеПредставление','Терапия2_ГоденНегоден_ЗначениеПредставление',\n",
        "              'Терапия1_ПрофнепригодностьВременнаяПредставление2','Терапия2_ПрофнепригодностьВременнаяПредставление2']\n",
        "col_concat('Терапия1_ПрофнепригодностьВременнаяПредставление1', col_to_cnc)"
      ],
      "metadata": {
        "colab": {
          "base_uri": "https://localhost:8080/"
        },
        "id": "imq8vYs1txd2",
        "outputId": "1980885a-67f3-4a44-bf5f-85477c7c48cd"
      },
      "execution_count": null,
      "outputs": [
        {
          "output_type": "stream",
          "name": "stdout",
          "text": [
            "Терапия1_ПрофнепригодностьВременнаяПредставление1 было заполнено - 1343\n",
            "Терапия1_ПрофнепригодностьВременнаяПредставление1 стало - 1394\n",
            "Терапия1_ПрофнепригодностьВременнаяПредставление1 было заполнено - 1394\n",
            "Терапия1_ПрофнепригодностьВременнаяПредставление1 стало - 1397\n",
            "Терапия1_ПрофнепригодностьВременнаяПредставление1 было заполнено - 1397\n",
            "Терапия1_ПрофнепригодностьВременнаяПредставление1 стало - 1397\n",
            "Терапия1_ПрофнепригодностьВременнаяПредставление1 было заполнено - 1397\n",
            "Терапия1_ПрофнепригодностьВременнаяПредставление1 стало - 1397\n"
          ]
        }
      ]
    },
    {
      "cell_type": "code",
      "source": [
        "# Проверка результата\n",
        "counts = df_cor[col_ter].count(axis=0)\n",
        "uniques = df_cor[col_ter].nunique(axis=0)\n",
        "types = df_cor[col_ter].dtypes\n",
        "df_x = pd.concat([counts.to_frame(name='count'), uniques.to_frame(name='unique'), types.to_frame(name='type')], axis= 1 )"
      ],
      "metadata": {
        "id": "GYJbfbIhpA3i"
      },
      "execution_count": null,
      "outputs": []
    },
    {
      "cell_type": "code",
      "source": [
        "#df_x.sort_values(by=['count'])[60:]\n",
        "df_x[:30]"
      ],
      "metadata": {
        "colab": {
          "base_uri": "https://localhost:8080/",
          "height": 990
        },
        "id": "bVFCHWEGyOP6",
        "outputId": "01fd4ef4-34d2-4ae5-881b-232968e4d3c9"
      },
      "execution_count": null,
      "outputs": [
        {
          "output_type": "execute_result",
          "data": {
            "text/plain": [
              "                                                    count  unique     type\n",
              "Терапия1_ХР_Рекомендация1                             185       4   object\n",
              "Терапия1_ХР_Рекомендация1Представление                185       4   object\n",
              "Терапия1_ХР_Рекомендация2                             150       3   object\n",
              "Терапия1_ХР_Рекомендация2Представление                150       3   object\n",
              "Терапия1_АртериальноеДавление_Значение               1389      81  float64\n",
              "Терапия1_АртериальноеДавление_ЗначениеПредставл...   1389     142   object\n",
              "Терапия1_П_Значение                                  1380      66  float64\n",
              "Терапия1_П_ЗначениеПредставление                     1380      66  float64\n",
              "Терапия1_АнамнезДополнение_Значение                   265     215   object\n",
              "Терапия1_АнамнезДополнение_ЗначениеПредставление      265     215   object\n",
              "Терапия1_ГоденНегоден_Значение                       1394       2   object\n",
              "Терапия1_ГоденНегоден_ЗначениеПредставление          1394       2   object\n",
              "Терапия1_Жалобы_Значение                             1394       2   object\n",
              "Терапия1_Жалобы_ЗначениеПредставление                1394       2   object\n",
              "Терапия1_Анамнез_Значение                            1394       2   object\n",
              "Терапия1_Анамнез_ЗначениеПредставление               1394       2   object\n",
              "Терапия1_СВысыпаниями_Значение                       1394       3   object\n",
              "Терапия1_СВысыпаниями_ЗначениеПредставление          1394       3   object\n",
              "Терапия1_МКБ101                                      1358      24   object\n",
              "Терапия1_ДиагнозПредставление1                       1382      36   object\n",
              "Терапия1_Детализация1                                  17      15   object\n",
              "Терапия1_Классификация11                              116       2   object\n",
              "Терапия1_Классификация1Представление1                 116       2   object\n",
              "Терапия1_ПрофнепригодностьВременная1                 1343       3   object\n",
              "Терапия1_ПрофнепригодностьВременнаяПредставление1    1397       3   object\n",
              "Терапия1_ЖалобыДополнение_Значение                     58      38   object\n",
              "Терапия1_ЖалобыДополнение_ЗначениеПредставление        58      38   object\n",
              "Терапия2_ХР_Рекомендация1                              39       3   object\n",
              "Терапия2_ХР_Рекомендация1Представление                 39       3   object\n",
              "Терапия2_ХР_Рекомендация2                              36       2   object"
            ],
            "text/html": [
              "\n",
              "  <div id=\"df-cdef6454-e38d-4e3b-94cb-167df73f0aaa\">\n",
              "    <div class=\"colab-df-container\">\n",
              "      <div>\n",
              "<style scoped>\n",
              "    .dataframe tbody tr th:only-of-type {\n",
              "        vertical-align: middle;\n",
              "    }\n",
              "\n",
              "    .dataframe tbody tr th {\n",
              "        vertical-align: top;\n",
              "    }\n",
              "\n",
              "    .dataframe thead th {\n",
              "        text-align: right;\n",
              "    }\n",
              "</style>\n",
              "<table border=\"1\" class=\"dataframe\">\n",
              "  <thead>\n",
              "    <tr style=\"text-align: right;\">\n",
              "      <th></th>\n",
              "      <th>count</th>\n",
              "      <th>unique</th>\n",
              "      <th>type</th>\n",
              "    </tr>\n",
              "  </thead>\n",
              "  <tbody>\n",
              "    <tr>\n",
              "      <th>Терапия1_ХР_Рекомендация1</th>\n",
              "      <td>185</td>\n",
              "      <td>4</td>\n",
              "      <td>object</td>\n",
              "    </tr>\n",
              "    <tr>\n",
              "      <th>Терапия1_ХР_Рекомендация1Представление</th>\n",
              "      <td>185</td>\n",
              "      <td>4</td>\n",
              "      <td>object</td>\n",
              "    </tr>\n",
              "    <tr>\n",
              "      <th>Терапия1_ХР_Рекомендация2</th>\n",
              "      <td>150</td>\n",
              "      <td>3</td>\n",
              "      <td>object</td>\n",
              "    </tr>\n",
              "    <tr>\n",
              "      <th>Терапия1_ХР_Рекомендация2Представление</th>\n",
              "      <td>150</td>\n",
              "      <td>3</td>\n",
              "      <td>object</td>\n",
              "    </tr>\n",
              "    <tr>\n",
              "      <th>Терапия1_АртериальноеДавление_Значение</th>\n",
              "      <td>1389</td>\n",
              "      <td>81</td>\n",
              "      <td>float64</td>\n",
              "    </tr>\n",
              "    <tr>\n",
              "      <th>Терапия1_АртериальноеДавление_ЗначениеПредставление</th>\n",
              "      <td>1389</td>\n",
              "      <td>142</td>\n",
              "      <td>object</td>\n",
              "    </tr>\n",
              "    <tr>\n",
              "      <th>Терапия1_П_Значение</th>\n",
              "      <td>1380</td>\n",
              "      <td>66</td>\n",
              "      <td>float64</td>\n",
              "    </tr>\n",
              "    <tr>\n",
              "      <th>Терапия1_П_ЗначениеПредставление</th>\n",
              "      <td>1380</td>\n",
              "      <td>66</td>\n",
              "      <td>float64</td>\n",
              "    </tr>\n",
              "    <tr>\n",
              "      <th>Терапия1_АнамнезДополнение_Значение</th>\n",
              "      <td>265</td>\n",
              "      <td>215</td>\n",
              "      <td>object</td>\n",
              "    </tr>\n",
              "    <tr>\n",
              "      <th>Терапия1_АнамнезДополнение_ЗначениеПредставление</th>\n",
              "      <td>265</td>\n",
              "      <td>215</td>\n",
              "      <td>object</td>\n",
              "    </tr>\n",
              "    <tr>\n",
              "      <th>Терапия1_ГоденНегоден_Значение</th>\n",
              "      <td>1394</td>\n",
              "      <td>2</td>\n",
              "      <td>object</td>\n",
              "    </tr>\n",
              "    <tr>\n",
              "      <th>Терапия1_ГоденНегоден_ЗначениеПредставление</th>\n",
              "      <td>1394</td>\n",
              "      <td>2</td>\n",
              "      <td>object</td>\n",
              "    </tr>\n",
              "    <tr>\n",
              "      <th>Терапия1_Жалобы_Значение</th>\n",
              "      <td>1394</td>\n",
              "      <td>2</td>\n",
              "      <td>object</td>\n",
              "    </tr>\n",
              "    <tr>\n",
              "      <th>Терапия1_Жалобы_ЗначениеПредставление</th>\n",
              "      <td>1394</td>\n",
              "      <td>2</td>\n",
              "      <td>object</td>\n",
              "    </tr>\n",
              "    <tr>\n",
              "      <th>Терапия1_Анамнез_Значение</th>\n",
              "      <td>1394</td>\n",
              "      <td>2</td>\n",
              "      <td>object</td>\n",
              "    </tr>\n",
              "    <tr>\n",
              "      <th>Терапия1_Анамнез_ЗначениеПредставление</th>\n",
              "      <td>1394</td>\n",
              "      <td>2</td>\n",
              "      <td>object</td>\n",
              "    </tr>\n",
              "    <tr>\n",
              "      <th>Терапия1_СВысыпаниями_Значение</th>\n",
              "      <td>1394</td>\n",
              "      <td>3</td>\n",
              "      <td>object</td>\n",
              "    </tr>\n",
              "    <tr>\n",
              "      <th>Терапия1_СВысыпаниями_ЗначениеПредставление</th>\n",
              "      <td>1394</td>\n",
              "      <td>3</td>\n",
              "      <td>object</td>\n",
              "    </tr>\n",
              "    <tr>\n",
              "      <th>Терапия1_МКБ101</th>\n",
              "      <td>1358</td>\n",
              "      <td>24</td>\n",
              "      <td>object</td>\n",
              "    </tr>\n",
              "    <tr>\n",
              "      <th>Терапия1_ДиагнозПредставление1</th>\n",
              "      <td>1382</td>\n",
              "      <td>36</td>\n",
              "      <td>object</td>\n",
              "    </tr>\n",
              "    <tr>\n",
              "      <th>Терапия1_Детализация1</th>\n",
              "      <td>17</td>\n",
              "      <td>15</td>\n",
              "      <td>object</td>\n",
              "    </tr>\n",
              "    <tr>\n",
              "      <th>Терапия1_Классификация11</th>\n",
              "      <td>116</td>\n",
              "      <td>2</td>\n",
              "      <td>object</td>\n",
              "    </tr>\n",
              "    <tr>\n",
              "      <th>Терапия1_Классификация1Представление1</th>\n",
              "      <td>116</td>\n",
              "      <td>2</td>\n",
              "      <td>object</td>\n",
              "    </tr>\n",
              "    <tr>\n",
              "      <th>Терапия1_ПрофнепригодностьВременная1</th>\n",
              "      <td>1343</td>\n",
              "      <td>3</td>\n",
              "      <td>object</td>\n",
              "    </tr>\n",
              "    <tr>\n",
              "      <th>Терапия1_ПрофнепригодностьВременнаяПредставление1</th>\n",
              "      <td>1397</td>\n",
              "      <td>3</td>\n",
              "      <td>object</td>\n",
              "    </tr>\n",
              "    <tr>\n",
              "      <th>Терапия1_ЖалобыДополнение_Значение</th>\n",
              "      <td>58</td>\n",
              "      <td>38</td>\n",
              "      <td>object</td>\n",
              "    </tr>\n",
              "    <tr>\n",
              "      <th>Терапия1_ЖалобыДополнение_ЗначениеПредставление</th>\n",
              "      <td>58</td>\n",
              "      <td>38</td>\n",
              "      <td>object</td>\n",
              "    </tr>\n",
              "    <tr>\n",
              "      <th>Терапия2_ХР_Рекомендация1</th>\n",
              "      <td>39</td>\n",
              "      <td>3</td>\n",
              "      <td>object</td>\n",
              "    </tr>\n",
              "    <tr>\n",
              "      <th>Терапия2_ХР_Рекомендация1Представление</th>\n",
              "      <td>39</td>\n",
              "      <td>3</td>\n",
              "      <td>object</td>\n",
              "    </tr>\n",
              "    <tr>\n",
              "      <th>Терапия2_ХР_Рекомендация2</th>\n",
              "      <td>36</td>\n",
              "      <td>2</td>\n",
              "      <td>object</td>\n",
              "    </tr>\n",
              "  </tbody>\n",
              "</table>\n",
              "</div>\n",
              "      <button class=\"colab-df-convert\" onclick=\"convertToInteractive('df-cdef6454-e38d-4e3b-94cb-167df73f0aaa')\"\n",
              "              title=\"Convert this dataframe to an interactive table.\"\n",
              "              style=\"display:none;\">\n",
              "        \n",
              "  <svg xmlns=\"http://www.w3.org/2000/svg\" height=\"24px\"viewBox=\"0 0 24 24\"\n",
              "       width=\"24px\">\n",
              "    <path d=\"M0 0h24v24H0V0z\" fill=\"none\"/>\n",
              "    <path d=\"M18.56 5.44l.94 2.06.94-2.06 2.06-.94-2.06-.94-.94-2.06-.94 2.06-2.06.94zm-11 1L8.5 8.5l.94-2.06 2.06-.94-2.06-.94L8.5 2.5l-.94 2.06-2.06.94zm10 10l.94 2.06.94-2.06 2.06-.94-2.06-.94-.94-2.06-.94 2.06-2.06.94z\"/><path d=\"M17.41 7.96l-1.37-1.37c-.4-.4-.92-.59-1.43-.59-.52 0-1.04.2-1.43.59L10.3 9.45l-7.72 7.72c-.78.78-.78 2.05 0 2.83L4 21.41c.39.39.9.59 1.41.59.51 0 1.02-.2 1.41-.59l7.78-7.78 2.81-2.81c.8-.78.8-2.07 0-2.86zM5.41 20L4 18.59l7.72-7.72 1.47 1.35L5.41 20z\"/>\n",
              "  </svg>\n",
              "      </button>\n",
              "      \n",
              "  <style>\n",
              "    .colab-df-container {\n",
              "      display:flex;\n",
              "      flex-wrap:wrap;\n",
              "      gap: 12px;\n",
              "    }\n",
              "\n",
              "    .colab-df-convert {\n",
              "      background-color: #E8F0FE;\n",
              "      border: none;\n",
              "      border-radius: 50%;\n",
              "      cursor: pointer;\n",
              "      display: none;\n",
              "      fill: #1967D2;\n",
              "      height: 32px;\n",
              "      padding: 0 0 0 0;\n",
              "      width: 32px;\n",
              "    }\n",
              "\n",
              "    .colab-df-convert:hover {\n",
              "      background-color: #E2EBFA;\n",
              "      box-shadow: 0px 1px 2px rgba(60, 64, 67, 0.3), 0px 1px 3px 1px rgba(60, 64, 67, 0.15);\n",
              "      fill: #174EA6;\n",
              "    }\n",
              "\n",
              "    [theme=dark] .colab-df-convert {\n",
              "      background-color: #3B4455;\n",
              "      fill: #D2E3FC;\n",
              "    }\n",
              "\n",
              "    [theme=dark] .colab-df-convert:hover {\n",
              "      background-color: #434B5C;\n",
              "      box-shadow: 0px 1px 3px 1px rgba(0, 0, 0, 0.15);\n",
              "      filter: drop-shadow(0px 1px 2px rgba(0, 0, 0, 0.3));\n",
              "      fill: #FFFFFF;\n",
              "    }\n",
              "  </style>\n",
              "\n",
              "      <script>\n",
              "        const buttonEl =\n",
              "          document.querySelector('#df-cdef6454-e38d-4e3b-94cb-167df73f0aaa button.colab-df-convert');\n",
              "        buttonEl.style.display =\n",
              "          google.colab.kernel.accessAllowed ? 'block' : 'none';\n",
              "\n",
              "        async function convertToInteractive(key) {\n",
              "          const element = document.querySelector('#df-cdef6454-e38d-4e3b-94cb-167df73f0aaa');\n",
              "          const dataTable =\n",
              "            await google.colab.kernel.invokeFunction('convertToInteractive',\n",
              "                                                     [key], {});\n",
              "          if (!dataTable) return;\n",
              "\n",
              "          const docLinkHtml = 'Like what you see? Visit the ' +\n",
              "            '<a target=\"_blank\" href=https://colab.research.google.com/notebooks/data_table.ipynb>data table notebook</a>'\n",
              "            + ' to learn more about interactive tables.';\n",
              "          element.innerHTML = '';\n",
              "          dataTable['output_type'] = 'display_data';\n",
              "          await google.colab.output.renderOutput(dataTable, element);\n",
              "          const docLink = document.createElement('div');\n",
              "          docLink.innerHTML = docLinkHtml;\n",
              "          element.appendChild(docLink);\n",
              "        }\n",
              "      </script>\n",
              "    </div>\n",
              "  </div>\n",
              "  "
            ]
          },
          "metadata": {},
          "execution_count": 54
        }
      ]
    },
    {
      "cell_type": "code",
      "source": [
        "print(df_cor['Терапия2_АртериальноеДавление_Значение'].count())\n",
        "df_cor['Терапия2_АртериальноеДавление_Значение'].value_counts()"
      ],
      "metadata": {
        "id": "noWuh_wFuyBu"
      },
      "execution_count": null,
      "outputs": []
    },
    {
      "cell_type": "code",
      "source": [
        "col_to_cnc = ['Терапия1_ЧССТерапевт_Значение','Терапия2_П_Значение']\n",
        "col_concat('Терапия1_П_Значение',col_to_cnc)"
      ],
      "metadata": {
        "colab": {
          "base_uri": "https://localhost:8080/"
        },
        "id": "fYAbSxJT0FL_",
        "outputId": "36db96f8-660f-41ed-cf98-e26947f7e885"
      },
      "execution_count": null,
      "outputs": [
        {
          "output_type": "stream",
          "name": "stdout",
          "text": [
            "Терапия1_П_Значение было заполнено - 1380\n",
            "Терапия1_П_Значение стало - 1380\n",
            "Терапия1_П_Значение было заполнено - 1380\n",
            "Терапия1_П_Значение стало - 1386\n"
          ]
        }
      ]
    },
    {
      "cell_type": "code",
      "source": [
        "df_cor.to_csv('/content/drive/MyDrive/profpatolog/df_cor_ter.csv')"
      ],
      "metadata": {
        "id": "EDbO47IR2qR7"
      },
      "execution_count": null,
      "outputs": []
    },
    {
      "cell_type": "markdown",
      "source": [
        "## Раздел психиатрии"
      ],
      "metadata": {
        "id": "n_9SOnjO2c1L"
      }
    },
    {
      "cell_type": "code",
      "source": [
        "# очистим датасет\n",
        "#df_cor = df_cor.drop(col_to_del, axis=1)\n",
        "df_cor.shape"
      ],
      "metadata": {
        "colab": {
          "base_uri": "https://localhost:8080/"
        },
        "id": "KZr6Wku-ejQv",
        "outputId": "722e26c0-fbaf-46d4-ad46-c57c3e59ab21"
      },
      "execution_count": null,
      "outputs": [
        {
          "output_type": "execute_result",
          "data": {
            "text/plain": [
              "(1571, 631)"
            ]
          },
          "metadata": {},
          "execution_count": 57
        }
      ]
    },
    {
      "cell_type": "code",
      "source": [
        "counts = df_cor[col_psn].count(axis=0)\n",
        "uniques = df_cor[col_psn].nunique(axis=0)\n",
        "types = df_cor[col_psn].dtypes\n",
        "df_x = pd.concat([counts.to_frame(name='count'), uniques.to_frame(name='unique'), types.to_frame(name='type')], axis= 1 )"
      ],
      "metadata": {
        "id": "GJVmGpwf3K-Y"
      },
      "execution_count": null,
      "outputs": []
    },
    {
      "cell_type": "code",
      "source": [
        "df_x[30:]"
      ],
      "metadata": {
        "colab": {
          "base_uri": "https://localhost:8080/",
          "height": 1000
        },
        "id": "rUXfd_5X3bgY",
        "outputId": "def5f7a6-7add-4a8b-e1ab-fbf9ffad5c6d"
      },
      "execution_count": null,
      "outputs": [
        {
          "output_type": "execute_result",
          "data": {
            "text/plain": [
              "                                                    count  unique    type\n",
              "ПсихиатрияНаркология1_Диагноз_ЗначениеПредставл...   1175      11  object\n",
              "ПсихиатрияНаркология1_БезСледовСамопорезов_Знач...   1213       2  object\n",
              "ПсихиатрияНаркология1_БезСледовСамопорезов_Знач...   1213       2  object\n",
              "ПсихиатрияНаркология1_МышлениеКонкретное_Значение    1211       2  object\n",
              "ПсихиатрияНаркология1_МышлениеКонкретное_Значен...   1211       2  object\n",
              "ПсихиатрияНаркология1_ДанныхЗаНаркологическуюПа...   1211       3  object\n",
              "ПсихиатрияНаркология1_ДанныхЗаНаркологическуюПа...   1211       3  object\n",
              "ПсихиатрияНаркология2_ХР_РекомендацияСтр               37       2  object\n",
              "ПсихиатрияНаркология2_МКБ101                          113       2  object\n",
              "ПсихиатрияНаркология2_ДиагнозПредставление1           113       2  object\n",
              "ПсихиатрияНаркология2_Анамнез_Значение                113       2  object\n",
              "ПсихиатрияНаркология2_Анамнез_ЗначениеПредставл...    113       2  object\n",
              "ПсихиатрияНаркология2_Внимание_Значение               113      23  object\n",
              "ПсихиатрияНаркология2_Внимание_ЗначениеПредстав...    113      23  object\n",
              "ПсихиатрияНаркология2_Эмоционально_Значение           113       2  object\n",
              "ПсихиатрияНаркология2_Эмоционально_ЗначениеПред...    113       2  object\n",
              "ПсихиатрияНаркология2_НаДУчетеСоСлов_Значение         113       2  object\n",
              "ПсихиатрияНаркология2_НаДУчетеСоСлов_ЗначениеПр...    113       2  object\n",
              "ПсихиатрияНаркология2_Диагноз_Значение                110       2  object\n",
              "ПсихиатрияНаркология2_Диагноз_ЗначениеПредставл...    110       2  object\n",
              "ПсихиатрияНаркология2_БезСледовСамопорезов_Знач...    113       2  object\n",
              "ПсихиатрияНаркология2_БезСледовСамопорезов_Знач...    113       2  object\n",
              "ПсихиатрияНаркология2_МышлениеВ_Значение              113       2  object\n",
              "ПсихиатрияНаркология2_МышлениеВ_ЗначениеПредста...    113       2  object\n",
              "ПсихиатрияНаркология2_ДанныхЗаНаркологическуюПа...    113       3  object\n",
              "ПсихиатрияНаркология2_ДанныхЗаНаркологическуюПа...    113       3  object\n",
              "ПсихиатрияНаркология1_ДиагнозДополнение_Значение      394      78  object\n",
              "ПсихиатрияНаркология1_ДиагнозДополнение_Значени...    394      78  object\n",
              "ПсихиатрияНаркология1_АнамнезДополнение_Значение       32      19  object\n",
              "ПсихиатрияНаркология1_АнамнезДополнение_Значени...     32      19  object\n",
              "ПсихиатрияНаркология2_ДиагнозДополнение_Значение       71       7  object\n",
              "ПсихиатрияНаркология2_ДиагнозДополнение_Значени...     71       7  object"
            ],
            "text/html": [
              "\n",
              "  <div id=\"df-e339a667-83e2-4b9f-80d1-f4fca13bacb5\">\n",
              "    <div class=\"colab-df-container\">\n",
              "      <div>\n",
              "<style scoped>\n",
              "    .dataframe tbody tr th:only-of-type {\n",
              "        vertical-align: middle;\n",
              "    }\n",
              "\n",
              "    .dataframe tbody tr th {\n",
              "        vertical-align: top;\n",
              "    }\n",
              "\n",
              "    .dataframe thead th {\n",
              "        text-align: right;\n",
              "    }\n",
              "</style>\n",
              "<table border=\"1\" class=\"dataframe\">\n",
              "  <thead>\n",
              "    <tr style=\"text-align: right;\">\n",
              "      <th></th>\n",
              "      <th>count</th>\n",
              "      <th>unique</th>\n",
              "      <th>type</th>\n",
              "    </tr>\n",
              "  </thead>\n",
              "  <tbody>\n",
              "    <tr>\n",
              "      <th>ПсихиатрияНаркология1_Диагноз_ЗначениеПредставление</th>\n",
              "      <td>1175</td>\n",
              "      <td>11</td>\n",
              "      <td>object</td>\n",
              "    </tr>\n",
              "    <tr>\n",
              "      <th>ПсихиатрияНаркология1_БезСледовСамопорезов_Значение</th>\n",
              "      <td>1213</td>\n",
              "      <td>2</td>\n",
              "      <td>object</td>\n",
              "    </tr>\n",
              "    <tr>\n",
              "      <th>ПсихиатрияНаркология1_БезСледовСамопорезов_ЗначениеПредставление</th>\n",
              "      <td>1213</td>\n",
              "      <td>2</td>\n",
              "      <td>object</td>\n",
              "    </tr>\n",
              "    <tr>\n",
              "      <th>ПсихиатрияНаркология1_МышлениеКонкретное_Значение</th>\n",
              "      <td>1211</td>\n",
              "      <td>2</td>\n",
              "      <td>object</td>\n",
              "    </tr>\n",
              "    <tr>\n",
              "      <th>ПсихиатрияНаркология1_МышлениеКонкретное_ЗначениеПредставление</th>\n",
              "      <td>1211</td>\n",
              "      <td>2</td>\n",
              "      <td>object</td>\n",
              "    </tr>\n",
              "    <tr>\n",
              "      <th>ПсихиатрияНаркология1_ДанныхЗаНаркологическуюПатологиюНаМоментОсмотра_Значение</th>\n",
              "      <td>1211</td>\n",
              "      <td>3</td>\n",
              "      <td>object</td>\n",
              "    </tr>\n",
              "    <tr>\n",
              "      <th>ПсихиатрияНаркология1_ДанныхЗаНаркологическуюПатологиюНаМоментОсмотра_ЗначениеПредставление</th>\n",
              "      <td>1211</td>\n",
              "      <td>3</td>\n",
              "      <td>object</td>\n",
              "    </tr>\n",
              "    <tr>\n",
              "      <th>ПсихиатрияНаркология2_ХР_РекомендацияСтр</th>\n",
              "      <td>37</td>\n",
              "      <td>2</td>\n",
              "      <td>object</td>\n",
              "    </tr>\n",
              "    <tr>\n",
              "      <th>ПсихиатрияНаркология2_МКБ101</th>\n",
              "      <td>113</td>\n",
              "      <td>2</td>\n",
              "      <td>object</td>\n",
              "    </tr>\n",
              "    <tr>\n",
              "      <th>ПсихиатрияНаркология2_ДиагнозПредставление1</th>\n",
              "      <td>113</td>\n",
              "      <td>2</td>\n",
              "      <td>object</td>\n",
              "    </tr>\n",
              "    <tr>\n",
              "      <th>ПсихиатрияНаркология2_Анамнез_Значение</th>\n",
              "      <td>113</td>\n",
              "      <td>2</td>\n",
              "      <td>object</td>\n",
              "    </tr>\n",
              "    <tr>\n",
              "      <th>ПсихиатрияНаркология2_Анамнез_ЗначениеПредставление</th>\n",
              "      <td>113</td>\n",
              "      <td>2</td>\n",
              "      <td>object</td>\n",
              "    </tr>\n",
              "    <tr>\n",
              "      <th>ПсихиатрияНаркология2_Внимание_Значение</th>\n",
              "      <td>113</td>\n",
              "      <td>23</td>\n",
              "      <td>object</td>\n",
              "    </tr>\n",
              "    <tr>\n",
              "      <th>ПсихиатрияНаркология2_Внимание_ЗначениеПредставление</th>\n",
              "      <td>113</td>\n",
              "      <td>23</td>\n",
              "      <td>object</td>\n",
              "    </tr>\n",
              "    <tr>\n",
              "      <th>ПсихиатрияНаркология2_Эмоционально_Значение</th>\n",
              "      <td>113</td>\n",
              "      <td>2</td>\n",
              "      <td>object</td>\n",
              "    </tr>\n",
              "    <tr>\n",
              "      <th>ПсихиатрияНаркология2_Эмоционально_ЗначениеПредставление</th>\n",
              "      <td>113</td>\n",
              "      <td>2</td>\n",
              "      <td>object</td>\n",
              "    </tr>\n",
              "    <tr>\n",
              "      <th>ПсихиатрияНаркология2_НаДУчетеСоСлов_Значение</th>\n",
              "      <td>113</td>\n",
              "      <td>2</td>\n",
              "      <td>object</td>\n",
              "    </tr>\n",
              "    <tr>\n",
              "      <th>ПсихиатрияНаркология2_НаДУчетеСоСлов_ЗначениеПредставление</th>\n",
              "      <td>113</td>\n",
              "      <td>2</td>\n",
              "      <td>object</td>\n",
              "    </tr>\n",
              "    <tr>\n",
              "      <th>ПсихиатрияНаркология2_Диагноз_Значение</th>\n",
              "      <td>110</td>\n",
              "      <td>2</td>\n",
              "      <td>object</td>\n",
              "    </tr>\n",
              "    <tr>\n",
              "      <th>ПсихиатрияНаркология2_Диагноз_ЗначениеПредставление</th>\n",
              "      <td>110</td>\n",
              "      <td>2</td>\n",
              "      <td>object</td>\n",
              "    </tr>\n",
              "    <tr>\n",
              "      <th>ПсихиатрияНаркология2_БезСледовСамопорезов_Значение</th>\n",
              "      <td>113</td>\n",
              "      <td>2</td>\n",
              "      <td>object</td>\n",
              "    </tr>\n",
              "    <tr>\n",
              "      <th>ПсихиатрияНаркология2_БезСледовСамопорезов_ЗначениеПредставление</th>\n",
              "      <td>113</td>\n",
              "      <td>2</td>\n",
              "      <td>object</td>\n",
              "    </tr>\n",
              "    <tr>\n",
              "      <th>ПсихиатрияНаркология2_МышлениеВ_Значение</th>\n",
              "      <td>113</td>\n",
              "      <td>2</td>\n",
              "      <td>object</td>\n",
              "    </tr>\n",
              "    <tr>\n",
              "      <th>ПсихиатрияНаркология2_МышлениеВ_ЗначениеПредставление</th>\n",
              "      <td>113</td>\n",
              "      <td>2</td>\n",
              "      <td>object</td>\n",
              "    </tr>\n",
              "    <tr>\n",
              "      <th>ПсихиатрияНаркология2_ДанныхЗаНаркологическуюПатологиюНаМоментОсмотра_Значение</th>\n",
              "      <td>113</td>\n",
              "      <td>3</td>\n",
              "      <td>object</td>\n",
              "    </tr>\n",
              "    <tr>\n",
              "      <th>ПсихиатрияНаркология2_ДанныхЗаНаркологическуюПатологиюНаМоментОсмотра_ЗначениеПредставление</th>\n",
              "      <td>113</td>\n",
              "      <td>3</td>\n",
              "      <td>object</td>\n",
              "    </tr>\n",
              "    <tr>\n",
              "      <th>ПсихиатрияНаркология1_ДиагнозДополнение_Значение</th>\n",
              "      <td>394</td>\n",
              "      <td>78</td>\n",
              "      <td>object</td>\n",
              "    </tr>\n",
              "    <tr>\n",
              "      <th>ПсихиатрияНаркология1_ДиагнозДополнение_ЗначениеПредставление</th>\n",
              "      <td>394</td>\n",
              "      <td>78</td>\n",
              "      <td>object</td>\n",
              "    </tr>\n",
              "    <tr>\n",
              "      <th>ПсихиатрияНаркология1_АнамнезДополнение_Значение</th>\n",
              "      <td>32</td>\n",
              "      <td>19</td>\n",
              "      <td>object</td>\n",
              "    </tr>\n",
              "    <tr>\n",
              "      <th>ПсихиатрияНаркология1_АнамнезДополнение_ЗначениеПредставление</th>\n",
              "      <td>32</td>\n",
              "      <td>19</td>\n",
              "      <td>object</td>\n",
              "    </tr>\n",
              "    <tr>\n",
              "      <th>ПсихиатрияНаркология2_ДиагнозДополнение_Значение</th>\n",
              "      <td>71</td>\n",
              "      <td>7</td>\n",
              "      <td>object</td>\n",
              "    </tr>\n",
              "    <tr>\n",
              "      <th>ПсихиатрияНаркология2_ДиагнозДополнение_ЗначениеПредставление</th>\n",
              "      <td>71</td>\n",
              "      <td>7</td>\n",
              "      <td>object</td>\n",
              "    </tr>\n",
              "  </tbody>\n",
              "</table>\n",
              "</div>\n",
              "      <button class=\"colab-df-convert\" onclick=\"convertToInteractive('df-e339a667-83e2-4b9f-80d1-f4fca13bacb5')\"\n",
              "              title=\"Convert this dataframe to an interactive table.\"\n",
              "              style=\"display:none;\">\n",
              "        \n",
              "  <svg xmlns=\"http://www.w3.org/2000/svg\" height=\"24px\"viewBox=\"0 0 24 24\"\n",
              "       width=\"24px\">\n",
              "    <path d=\"M0 0h24v24H0V0z\" fill=\"none\"/>\n",
              "    <path d=\"M18.56 5.44l.94 2.06.94-2.06 2.06-.94-2.06-.94-.94-2.06-.94 2.06-2.06.94zm-11 1L8.5 8.5l.94-2.06 2.06-.94-2.06-.94L8.5 2.5l-.94 2.06-2.06.94zm10 10l.94 2.06.94-2.06 2.06-.94-2.06-.94-.94-2.06-.94 2.06-2.06.94z\"/><path d=\"M17.41 7.96l-1.37-1.37c-.4-.4-.92-.59-1.43-.59-.52 0-1.04.2-1.43.59L10.3 9.45l-7.72 7.72c-.78.78-.78 2.05 0 2.83L4 21.41c.39.39.9.59 1.41.59.51 0 1.02-.2 1.41-.59l7.78-7.78 2.81-2.81c.8-.78.8-2.07 0-2.86zM5.41 20L4 18.59l7.72-7.72 1.47 1.35L5.41 20z\"/>\n",
              "  </svg>\n",
              "      </button>\n",
              "      \n",
              "  <style>\n",
              "    .colab-df-container {\n",
              "      display:flex;\n",
              "      flex-wrap:wrap;\n",
              "      gap: 12px;\n",
              "    }\n",
              "\n",
              "    .colab-df-convert {\n",
              "      background-color: #E8F0FE;\n",
              "      border: none;\n",
              "      border-radius: 50%;\n",
              "      cursor: pointer;\n",
              "      display: none;\n",
              "      fill: #1967D2;\n",
              "      height: 32px;\n",
              "      padding: 0 0 0 0;\n",
              "      width: 32px;\n",
              "    }\n",
              "\n",
              "    .colab-df-convert:hover {\n",
              "      background-color: #E2EBFA;\n",
              "      box-shadow: 0px 1px 2px rgba(60, 64, 67, 0.3), 0px 1px 3px 1px rgba(60, 64, 67, 0.15);\n",
              "      fill: #174EA6;\n",
              "    }\n",
              "\n",
              "    [theme=dark] .colab-df-convert {\n",
              "      background-color: #3B4455;\n",
              "      fill: #D2E3FC;\n",
              "    }\n",
              "\n",
              "    [theme=dark] .colab-df-convert:hover {\n",
              "      background-color: #434B5C;\n",
              "      box-shadow: 0px 1px 3px 1px rgba(0, 0, 0, 0.15);\n",
              "      filter: drop-shadow(0px 1px 2px rgba(0, 0, 0, 0.3));\n",
              "      fill: #FFFFFF;\n",
              "    }\n",
              "  </style>\n",
              "\n",
              "      <script>\n",
              "        const buttonEl =\n",
              "          document.querySelector('#df-e339a667-83e2-4b9f-80d1-f4fca13bacb5 button.colab-df-convert');\n",
              "        buttonEl.style.display =\n",
              "          google.colab.kernel.accessAllowed ? 'block' : 'none';\n",
              "\n",
              "        async function convertToInteractive(key) {\n",
              "          const element = document.querySelector('#df-e339a667-83e2-4b9f-80d1-f4fca13bacb5');\n",
              "          const dataTable =\n",
              "            await google.colab.kernel.invokeFunction('convertToInteractive',\n",
              "                                                     [key], {});\n",
              "          if (!dataTable) return;\n",
              "\n",
              "          const docLinkHtml = 'Like what you see? Visit the ' +\n",
              "            '<a target=\"_blank\" href=https://colab.research.google.com/notebooks/data_table.ipynb>data table notebook</a>'\n",
              "            + ' to learn more about interactive tables.';\n",
              "          element.innerHTML = '';\n",
              "          dataTable['output_type'] = 'display_data';\n",
              "          await google.colab.output.renderOutput(dataTable, element);\n",
              "          const docLink = document.createElement('div');\n",
              "          docLink.innerHTML = docLinkHtml;\n",
              "          element.appendChild(docLink);\n",
              "        }\n",
              "      </script>\n",
              "    </div>\n",
              "  </div>\n",
              "  "
            ]
          },
          "metadata": {},
          "execution_count": 78
        }
      ]
    },
    {
      "cell_type": "markdown",
      "source": [
        "Колонки \"Психиатр\":\n",
        "\n",
        "'ПсихиатрияНаркология1_ПрофнепригодностьВременнаяПредставление1', 'ПсихиатрияНаркология1_ДиагнозПредставление1'"
      ],
      "metadata": {
        "id": "_havaN5L7OQw"
      }
    },
    {
      "cell_type": "code",
      "source": [
        "print(df_cor['ПсихиатрияНаркология1_Эмоционально_ЗначениеПредставление'].count())\n",
        "df_cor['ПсихиатрияНаркология1_Эмоционально_ЗначениеПредставление'].value_counts()"
      ],
      "metadata": {
        "colab": {
          "base_uri": "https://localhost:8080/"
        },
        "id": "h6MNn4C436A6",
        "outputId": "45c8193d-b36c-43fe-f158-eac30063b52b"
      },
      "execution_count": null,
      "outputs": [
        {
          "output_type": "stream",
          "name": "stdout",
          "text": [
            "1215\n"
          ]
        },
        {
          "output_type": "execute_result",
          "data": {
            "text/plain": [
              "стабилен                                                        1204\n",
              "астеничен                                                          3\n",
              "лабилен,ригиден. На коррекцию раздражителен                        2\n",
              "легко аффектируется. На критику реагирует правильно.               1\n",
              "излишне тревожен, лябилен, подозрителен                            1\n",
              "астеничен, медлителен                                              1\n",
              "ригиден                                                            1\n",
              "лабилен, протестен, груб,на коррекцию реагирует раздражением       1\n",
              "лабилен, протестен, на коррекцию реагирует алекватно               1\n",
              "Name: ПсихиатрияНаркология1_Эмоционально_ЗначениеПредставление, dtype: int64"
            ]
          },
          "metadata": {},
          "execution_count": 76
        }
      ]
    },
    {
      "cell_type": "code",
      "source": [
        "col_to_cnc = ['ПсихиатрияНаркология1_ГоденНегоден_ЗначениеПредставление']\n",
        "col_concat('ПсихиатрияНаркология1_ПрофнепригодностьВременнаяПредставление1',col_to_cnc)"
      ],
      "metadata": {
        "colab": {
          "base_uri": "https://localhost:8080/"
        },
        "id": "0W3AyLLu52c1",
        "outputId": "78cd07eb-68ba-400b-cada-10fac741f485"
      },
      "execution_count": null,
      "outputs": [
        {
          "output_type": "stream",
          "name": "stdout",
          "text": [
            "ПсихиатрияНаркология1_ПрофнепригодностьВременнаяПредставление1 было заполнено - 1207\n",
            "ПсихиатрияНаркология1_ПрофнепригодностьВременнаяПредставление1 стало - 1217\n"
          ]
        }
      ]
    },
    {
      "cell_type": "code",
      "source": [
        "col_to_cnc = ['ПсихиатрияНаркология1_Диагноз_ЗначениеПредставление','ПсихиатрияНаркология2_ДиагнозПредставление1',\n",
        "              'ПсихиатрияНаркология2_ДиагнозДополнение_ЗначениеПредставление']\n",
        "col_concat('ПсихиатрияНаркология1_ДиагнозПредставление1',col_to_cnc)"
      ],
      "metadata": {
        "colab": {
          "base_uri": "https://localhost:8080/"
        },
        "id": "fN-211cx6iKW",
        "outputId": "239a23a7-cf65-41f9-a8bc-e0b39f9ff12c"
      },
      "execution_count": null,
      "outputs": [
        {
          "output_type": "stream",
          "name": "stdout",
          "text": [
            "ПсихиатрияНаркология1_ДиагнозПредставление1 было заполнено - 1208\n",
            "ПсихиатрияНаркология1_ДиагнозПредставление1 стало - 1213\n",
            "ПсихиатрияНаркология1_ДиагнозПредставление1 было заполнено - 1213\n",
            "ПсихиатрияНаркология1_ДиагнозПредставление1 стало - 1214\n",
            "ПсихиатрияНаркология1_ДиагнозПредставление1 было заполнено - 1214\n",
            "ПсихиатрияНаркология1_ДиагнозПредставление1 стало - 1214\n"
          ]
        }
      ]
    },
    {
      "cell_type": "code",
      "source": [
        "df_cor.to_csv('/content/drive/MyDrive/profpatolog/df_cor_ter_psn.csv')"
      ],
      "metadata": {
        "id": "rhAw4FBJ7q-R"
      },
      "execution_count": null,
      "outputs": []
    },
    {
      "cell_type": "markdown",
      "source": [
        "## Раздел Гинекологии"
      ],
      "metadata": {
        "id": "U6BcjjVR8JNq"
      }
    },
    {
      "cell_type": "code",
      "source": [
        "counts = df_cor[col_gin].count(axis=0)\n",
        "uniques = df_cor[col_gin].nunique(axis=0)\n",
        "types = df_cor[col_gin].dtypes\n",
        "df_x = pd.concat([counts.to_frame(name='count'), uniques.to_frame(name='unique'), types.to_frame(name='type')], axis= 1 )"
      ],
      "metadata": {
        "id": "uxZmo-UQ8ZTx"
      },
      "execution_count": null,
      "outputs": []
    },
    {
      "cell_type": "code",
      "source": [
        "df_x[:40]"
      ],
      "metadata": {
        "colab": {
          "base_uri": "https://localhost:8080/",
          "height": 1000
        },
        "id": "NUyqZaj28kwD",
        "outputId": "363ade89-708a-4083-efab-8a71bb989bf5"
      },
      "execution_count": null,
      "outputs": [
        {
          "output_type": "execute_result",
          "data": {
            "text/plain": [
              "                                                    count  unique     type\n",
              "Гинекология1_ХР_Рекомендация1                          47       4   object\n",
              "Гинекология1_ХР_Рекомендация1Представление             47       4   object\n",
              "Гинекология1_МКБ101                                   363       6   object\n",
              "Гинекология1_ДиагнозПредставление1                    363       6   object\n",
              "Гинекология1_ПрофнепригодностьВременная1              363       2   object\n",
              "Гинекология1_ПрофнепригодностьВременнаяПредстав...    363       2   object\n",
              "Гинекология1_ГоденНегоден_Значение                    402       2   object\n",
              "Гинекология1_ГоденНегоден_ЗначениеПредставление       402       2   object\n",
              "Гинекология1_Анамнез_Значение                         402       2   object\n",
              "Гинекология1_Анамнез_ЗначениеПредставление            402       2   object\n",
              "Гинекология1_ДлительностьЦикла_Значение               197      22   object\n",
              "Гинекология1_ДлительностьЦикла_ЗначениеПредстав...    197      22   object\n",
              "Гинекология1_МолочныеЖелезы_Значение                  402       3   object\n",
              "Гинекология1_МолочныеЖелезы_ЗначениеПредставление     402       3   object\n",
              "Гинекология1_Влагалище_Значение                       402       2   object\n",
              "Гинекология1_Влагалище_ЗначениеПредставление          402       2   object\n",
              "Гинекология1_ВыделенияИзПоловыхПутей_Значение         402       4   object\n",
              "Гинекология1_ВыделенияИзПоловыхПутей_ЗначениеПр...    402       4   object\n",
              "Гинекология1_Плотная_Значение                         402       2  float64\n",
              "Гинекология1_Плотная_ЗначениеПредставление            402       2   object\n",
              "Гинекология1_Эрозирована_Значение                     402       2  float64\n",
              "Гинекология1_Эрозирована_ЗначениеПредставление        402       2   object\n",
              "Гинекология1_РубцовоИзменена_Значение                 402       2  float64\n",
              "Гинекология1_РубцовоИзменена_ЗначениеПредставление    402       2   object\n",
              "Гинекология1_ФормаШейкиМатки_Значение                 402       2   object\n",
              "Гинекология1_ФормаШейкиМатки_ЗначениеПредставление    402       2   object\n",
              "Гинекология1_D1_Значение                              402       2   object\n",
              "Гинекология1_D1_ЗначениеПредставление                 402       2   object\n",
              "Гинекология1_D2_Значение                              402       2   object\n",
              "Гинекология1_D2_ЗначениеПредставление                 402       2   object\n",
              "Гинекология1_Диагноз_Значение                         176      16   object\n",
              "Гинекология1_Диагноз_ЗначениеПредставление            176      16   object\n",
              "Гинекология1_АнамнезДополнение_Значение                50      33   object\n",
              "Гинекология1_АнамнезДополнение_ЗначениеПредстав...     50      33   object\n",
              "Гинекология1_ДиагнозДополнение_Значение                86      62   object\n",
              "Гинекология1_ДиагнозДополнение_ЗначениеПредстав...     86      62   object\n",
              "Гинекология1_МенопаузаС_Значение                      116      21  float64\n",
              "Гинекология1_МенопаузаС_ЗначениеПредставление         116      21  float64\n",
              "Гинекология1_Родов_Значение                           280       5  float64\n",
              "Гинекология1_Родов_ЗначениеПредставление              280       5  float64"
            ],
            "text/html": [
              "\n",
              "  <div id=\"df-b1eb97c4-7e46-4751-a218-c12df266096a\">\n",
              "    <div class=\"colab-df-container\">\n",
              "      <div>\n",
              "<style scoped>\n",
              "    .dataframe tbody tr th:only-of-type {\n",
              "        vertical-align: middle;\n",
              "    }\n",
              "\n",
              "    .dataframe tbody tr th {\n",
              "        vertical-align: top;\n",
              "    }\n",
              "\n",
              "    .dataframe thead th {\n",
              "        text-align: right;\n",
              "    }\n",
              "</style>\n",
              "<table border=\"1\" class=\"dataframe\">\n",
              "  <thead>\n",
              "    <tr style=\"text-align: right;\">\n",
              "      <th></th>\n",
              "      <th>count</th>\n",
              "      <th>unique</th>\n",
              "      <th>type</th>\n",
              "    </tr>\n",
              "  </thead>\n",
              "  <tbody>\n",
              "    <tr>\n",
              "      <th>Гинекология1_ХР_Рекомендация1</th>\n",
              "      <td>47</td>\n",
              "      <td>4</td>\n",
              "      <td>object</td>\n",
              "    </tr>\n",
              "    <tr>\n",
              "      <th>Гинекология1_ХР_Рекомендация1Представление</th>\n",
              "      <td>47</td>\n",
              "      <td>4</td>\n",
              "      <td>object</td>\n",
              "    </tr>\n",
              "    <tr>\n",
              "      <th>Гинекология1_МКБ101</th>\n",
              "      <td>363</td>\n",
              "      <td>6</td>\n",
              "      <td>object</td>\n",
              "    </tr>\n",
              "    <tr>\n",
              "      <th>Гинекология1_ДиагнозПредставление1</th>\n",
              "      <td>363</td>\n",
              "      <td>6</td>\n",
              "      <td>object</td>\n",
              "    </tr>\n",
              "    <tr>\n",
              "      <th>Гинекология1_ПрофнепригодностьВременная1</th>\n",
              "      <td>363</td>\n",
              "      <td>2</td>\n",
              "      <td>object</td>\n",
              "    </tr>\n",
              "    <tr>\n",
              "      <th>Гинекология1_ПрофнепригодностьВременнаяПредставление1</th>\n",
              "      <td>363</td>\n",
              "      <td>2</td>\n",
              "      <td>object</td>\n",
              "    </tr>\n",
              "    <tr>\n",
              "      <th>Гинекология1_ГоденНегоден_Значение</th>\n",
              "      <td>402</td>\n",
              "      <td>2</td>\n",
              "      <td>object</td>\n",
              "    </tr>\n",
              "    <tr>\n",
              "      <th>Гинекология1_ГоденНегоден_ЗначениеПредставление</th>\n",
              "      <td>402</td>\n",
              "      <td>2</td>\n",
              "      <td>object</td>\n",
              "    </tr>\n",
              "    <tr>\n",
              "      <th>Гинекология1_Анамнез_Значение</th>\n",
              "      <td>402</td>\n",
              "      <td>2</td>\n",
              "      <td>object</td>\n",
              "    </tr>\n",
              "    <tr>\n",
              "      <th>Гинекология1_Анамнез_ЗначениеПредставление</th>\n",
              "      <td>402</td>\n",
              "      <td>2</td>\n",
              "      <td>object</td>\n",
              "    </tr>\n",
              "    <tr>\n",
              "      <th>Гинекология1_ДлительностьЦикла_Значение</th>\n",
              "      <td>197</td>\n",
              "      <td>22</td>\n",
              "      <td>object</td>\n",
              "    </tr>\n",
              "    <tr>\n",
              "      <th>Гинекология1_ДлительностьЦикла_ЗначениеПредставление</th>\n",
              "      <td>197</td>\n",
              "      <td>22</td>\n",
              "      <td>object</td>\n",
              "    </tr>\n",
              "    <tr>\n",
              "      <th>Гинекология1_МолочныеЖелезы_Значение</th>\n",
              "      <td>402</td>\n",
              "      <td>3</td>\n",
              "      <td>object</td>\n",
              "    </tr>\n",
              "    <tr>\n",
              "      <th>Гинекология1_МолочныеЖелезы_ЗначениеПредставление</th>\n",
              "      <td>402</td>\n",
              "      <td>3</td>\n",
              "      <td>object</td>\n",
              "    </tr>\n",
              "    <tr>\n",
              "      <th>Гинекология1_Влагалище_Значение</th>\n",
              "      <td>402</td>\n",
              "      <td>2</td>\n",
              "      <td>object</td>\n",
              "    </tr>\n",
              "    <tr>\n",
              "      <th>Гинекология1_Влагалище_ЗначениеПредставление</th>\n",
              "      <td>402</td>\n",
              "      <td>2</td>\n",
              "      <td>object</td>\n",
              "    </tr>\n",
              "    <tr>\n",
              "      <th>Гинекология1_ВыделенияИзПоловыхПутей_Значение</th>\n",
              "      <td>402</td>\n",
              "      <td>4</td>\n",
              "      <td>object</td>\n",
              "    </tr>\n",
              "    <tr>\n",
              "      <th>Гинекология1_ВыделенияИзПоловыхПутей_ЗначениеПредставление</th>\n",
              "      <td>402</td>\n",
              "      <td>4</td>\n",
              "      <td>object</td>\n",
              "    </tr>\n",
              "    <tr>\n",
              "      <th>Гинекология1_Плотная_Значение</th>\n",
              "      <td>402</td>\n",
              "      <td>2</td>\n",
              "      <td>float64</td>\n",
              "    </tr>\n",
              "    <tr>\n",
              "      <th>Гинекология1_Плотная_ЗначениеПредставление</th>\n",
              "      <td>402</td>\n",
              "      <td>2</td>\n",
              "      <td>object</td>\n",
              "    </tr>\n",
              "    <tr>\n",
              "      <th>Гинекология1_Эрозирована_Значение</th>\n",
              "      <td>402</td>\n",
              "      <td>2</td>\n",
              "      <td>float64</td>\n",
              "    </tr>\n",
              "    <tr>\n",
              "      <th>Гинекология1_Эрозирована_ЗначениеПредставление</th>\n",
              "      <td>402</td>\n",
              "      <td>2</td>\n",
              "      <td>object</td>\n",
              "    </tr>\n",
              "    <tr>\n",
              "      <th>Гинекология1_РубцовоИзменена_Значение</th>\n",
              "      <td>402</td>\n",
              "      <td>2</td>\n",
              "      <td>float64</td>\n",
              "    </tr>\n",
              "    <tr>\n",
              "      <th>Гинекология1_РубцовоИзменена_ЗначениеПредставление</th>\n",
              "      <td>402</td>\n",
              "      <td>2</td>\n",
              "      <td>object</td>\n",
              "    </tr>\n",
              "    <tr>\n",
              "      <th>Гинекология1_ФормаШейкиМатки_Значение</th>\n",
              "      <td>402</td>\n",
              "      <td>2</td>\n",
              "      <td>object</td>\n",
              "    </tr>\n",
              "    <tr>\n",
              "      <th>Гинекология1_ФормаШейкиМатки_ЗначениеПредставление</th>\n",
              "      <td>402</td>\n",
              "      <td>2</td>\n",
              "      <td>object</td>\n",
              "    </tr>\n",
              "    <tr>\n",
              "      <th>Гинекология1_D1_Значение</th>\n",
              "      <td>402</td>\n",
              "      <td>2</td>\n",
              "      <td>object</td>\n",
              "    </tr>\n",
              "    <tr>\n",
              "      <th>Гинекология1_D1_ЗначениеПредставление</th>\n",
              "      <td>402</td>\n",
              "      <td>2</td>\n",
              "      <td>object</td>\n",
              "    </tr>\n",
              "    <tr>\n",
              "      <th>Гинекология1_D2_Значение</th>\n",
              "      <td>402</td>\n",
              "      <td>2</td>\n",
              "      <td>object</td>\n",
              "    </tr>\n",
              "    <tr>\n",
              "      <th>Гинекология1_D2_ЗначениеПредставление</th>\n",
              "      <td>402</td>\n",
              "      <td>2</td>\n",
              "      <td>object</td>\n",
              "    </tr>\n",
              "    <tr>\n",
              "      <th>Гинекология1_Диагноз_Значение</th>\n",
              "      <td>176</td>\n",
              "      <td>16</td>\n",
              "      <td>object</td>\n",
              "    </tr>\n",
              "    <tr>\n",
              "      <th>Гинекология1_Диагноз_ЗначениеПредставление</th>\n",
              "      <td>176</td>\n",
              "      <td>16</td>\n",
              "      <td>object</td>\n",
              "    </tr>\n",
              "    <tr>\n",
              "      <th>Гинекология1_АнамнезДополнение_Значение</th>\n",
              "      <td>50</td>\n",
              "      <td>33</td>\n",
              "      <td>object</td>\n",
              "    </tr>\n",
              "    <tr>\n",
              "      <th>Гинекология1_АнамнезДополнение_ЗначениеПредставление</th>\n",
              "      <td>50</td>\n",
              "      <td>33</td>\n",
              "      <td>object</td>\n",
              "    </tr>\n",
              "    <tr>\n",
              "      <th>Гинекология1_ДиагнозДополнение_Значение</th>\n",
              "      <td>86</td>\n",
              "      <td>62</td>\n",
              "      <td>object</td>\n",
              "    </tr>\n",
              "    <tr>\n",
              "      <th>Гинекология1_ДиагнозДополнение_ЗначениеПредставление</th>\n",
              "      <td>86</td>\n",
              "      <td>62</td>\n",
              "      <td>object</td>\n",
              "    </tr>\n",
              "    <tr>\n",
              "      <th>Гинекология1_МенопаузаС_Значение</th>\n",
              "      <td>116</td>\n",
              "      <td>21</td>\n",
              "      <td>float64</td>\n",
              "    </tr>\n",
              "    <tr>\n",
              "      <th>Гинекология1_МенопаузаС_ЗначениеПредставление</th>\n",
              "      <td>116</td>\n",
              "      <td>21</td>\n",
              "      <td>float64</td>\n",
              "    </tr>\n",
              "    <tr>\n",
              "      <th>Гинекология1_Родов_Значение</th>\n",
              "      <td>280</td>\n",
              "      <td>5</td>\n",
              "      <td>float64</td>\n",
              "    </tr>\n",
              "    <tr>\n",
              "      <th>Гинекология1_Родов_ЗначениеПредставление</th>\n",
              "      <td>280</td>\n",
              "      <td>5</td>\n",
              "      <td>float64</td>\n",
              "    </tr>\n",
              "  </tbody>\n",
              "</table>\n",
              "</div>\n",
              "      <button class=\"colab-df-convert\" onclick=\"convertToInteractive('df-b1eb97c4-7e46-4751-a218-c12df266096a')\"\n",
              "              title=\"Convert this dataframe to an interactive table.\"\n",
              "              style=\"display:none;\">\n",
              "        \n",
              "  <svg xmlns=\"http://www.w3.org/2000/svg\" height=\"24px\"viewBox=\"0 0 24 24\"\n",
              "       width=\"24px\">\n",
              "    <path d=\"M0 0h24v24H0V0z\" fill=\"none\"/>\n",
              "    <path d=\"M18.56 5.44l.94 2.06.94-2.06 2.06-.94-2.06-.94-.94-2.06-.94 2.06-2.06.94zm-11 1L8.5 8.5l.94-2.06 2.06-.94-2.06-.94L8.5 2.5l-.94 2.06-2.06.94zm10 10l.94 2.06.94-2.06 2.06-.94-2.06-.94-.94-2.06-.94 2.06-2.06.94z\"/><path d=\"M17.41 7.96l-1.37-1.37c-.4-.4-.92-.59-1.43-.59-.52 0-1.04.2-1.43.59L10.3 9.45l-7.72 7.72c-.78.78-.78 2.05 0 2.83L4 21.41c.39.39.9.59 1.41.59.51 0 1.02-.2 1.41-.59l7.78-7.78 2.81-2.81c.8-.78.8-2.07 0-2.86zM5.41 20L4 18.59l7.72-7.72 1.47 1.35L5.41 20z\"/>\n",
              "  </svg>\n",
              "      </button>\n",
              "      \n",
              "  <style>\n",
              "    .colab-df-container {\n",
              "      display:flex;\n",
              "      flex-wrap:wrap;\n",
              "      gap: 12px;\n",
              "    }\n",
              "\n",
              "    .colab-df-convert {\n",
              "      background-color: #E8F0FE;\n",
              "      border: none;\n",
              "      border-radius: 50%;\n",
              "      cursor: pointer;\n",
              "      display: none;\n",
              "      fill: #1967D2;\n",
              "      height: 32px;\n",
              "      padding: 0 0 0 0;\n",
              "      width: 32px;\n",
              "    }\n",
              "\n",
              "    .colab-df-convert:hover {\n",
              "      background-color: #E2EBFA;\n",
              "      box-shadow: 0px 1px 2px rgba(60, 64, 67, 0.3), 0px 1px 3px 1px rgba(60, 64, 67, 0.15);\n",
              "      fill: #174EA6;\n",
              "    }\n",
              "\n",
              "    [theme=dark] .colab-df-convert {\n",
              "      background-color: #3B4455;\n",
              "      fill: #D2E3FC;\n",
              "    }\n",
              "\n",
              "    [theme=dark] .colab-df-convert:hover {\n",
              "      background-color: #434B5C;\n",
              "      box-shadow: 0px 1px 3px 1px rgba(0, 0, 0, 0.15);\n",
              "      filter: drop-shadow(0px 1px 2px rgba(0, 0, 0, 0.3));\n",
              "      fill: #FFFFFF;\n",
              "    }\n",
              "  </style>\n",
              "\n",
              "      <script>\n",
              "        const buttonEl =\n",
              "          document.querySelector('#df-b1eb97c4-7e46-4751-a218-c12df266096a button.colab-df-convert');\n",
              "        buttonEl.style.display =\n",
              "          google.colab.kernel.accessAllowed ? 'block' : 'none';\n",
              "\n",
              "        async function convertToInteractive(key) {\n",
              "          const element = document.querySelector('#df-b1eb97c4-7e46-4751-a218-c12df266096a');\n",
              "          const dataTable =\n",
              "            await google.colab.kernel.invokeFunction('convertToInteractive',\n",
              "                                                     [key], {});\n",
              "          if (!dataTable) return;\n",
              "\n",
              "          const docLinkHtml = 'Like what you see? Visit the ' +\n",
              "            '<a target=\"_blank\" href=https://colab.research.google.com/notebooks/data_table.ipynb>data table notebook</a>'\n",
              "            + ' to learn more about interactive tables.';\n",
              "          element.innerHTML = '';\n",
              "          dataTable['output_type'] = 'display_data';\n",
              "          await google.colab.output.renderOutput(dataTable, element);\n",
              "          const docLink = document.createElement('div');\n",
              "          docLink.innerHTML = docLinkHtml;\n",
              "          element.appendChild(docLink);\n",
              "        }\n",
              "      </script>\n",
              "    </div>\n",
              "  </div>\n",
              "  "
            ]
          },
          "metadata": {},
          "execution_count": 95
        }
      ]
    },
    {
      "cell_type": "markdown",
      "source": [
        "Колонки \"Гинекологи\":\n",
        "\n",
        "'Гинекология1_ДиагнозПредставление1', 'Гинекология1_ГоденНегоден_ЗначениеПредставление'"
      ],
      "metadata": {
        "id": "sRModHuY_dHI"
      }
    },
    {
      "cell_type": "code",
      "source": [
        "print(df_cor['Гинекология1_ХР_Рекомендация1Представление'].count())\n",
        "df_cor['Гинекология1_ХР_Рекомендация1Представление'].value_counts()"
      ],
      "metadata": {
        "colab": {
          "base_uri": "https://localhost:8080/"
        },
        "id": "04-T9lf897zt",
        "outputId": "110446c7-3a5e-4bd3-efd2-c170de69ef43"
      },
      "execution_count": null,
      "outputs": [
        {
          "output_type": "stream",
          "name": "stdout",
          "text": [
            "47\n"
          ]
        },
        {
          "output_type": "execute_result",
          "data": {
            "text/plain": [
              "УЗИ органов малого таза на 6-10 день м.ц.    26\n",
              "Диспансерное наблюдение гинеколога           10\n",
              "Консультация маммолога                        8\n",
              "Проведение кольпоскопии                       3\n",
              "Name: Гинекология1_ХР_Рекомендация1Представление, dtype: int64"
            ]
          },
          "metadata": {},
          "execution_count": 97
        }
      ]
    },
    {
      "cell_type": "code",
      "source": [
        "col_to_cnc = ['Гинекология1_ДиагнозДополнение_ЗначениеПредставление','Гинекология1_Диагноз_ЗначениеПредставление',\n",
        "              'Гинекология1_АнамнезДополнение_ЗначениеПредставление','Гинекология1_Анамнез_ЗначениеПредставление']\n",
        "col_concat('Гинекология1_ДиагнозПредставление1',col_to_cnc)"
      ],
      "metadata": {
        "colab": {
          "base_uri": "https://localhost:8080/"
        },
        "id": "WzTnd6O6-47R",
        "outputId": "f3744859-1208-49b2-cedd-13a346816999"
      },
      "execution_count": null,
      "outputs": [
        {
          "output_type": "stream",
          "name": "stdout",
          "text": [
            "Гинекология1_ДиагнозПредставление1 было заполнено - 363\n",
            "Гинекология1_ДиагнозПредставление1 стало - 386\n",
            "Гинекология1_ДиагнозПредставление1 было заполнено - 386\n",
            "Гинекология1_ДиагнозПредставление1 стало - 399\n",
            "Гинекология1_ДиагнозПредставление1 было заполнено - 399\n",
            "Гинекология1_ДиагнозПредставление1 стало - 399\n",
            "Гинекология1_ДиагнозПредставление1 было заполнено - 399\n",
            "Гинекология1_ДиагнозПредставление1 стало - 402\n"
          ]
        }
      ]
    },
    {
      "cell_type": "code",
      "source": [
        "col_to_cnc = ['Гинекология1_ПрофнепригодностьВременнаяПредставление1']\n",
        "col_concat('Гинекология1_ГоденНегоден_ЗначениеПредставление',col_to_cnc)"
      ],
      "metadata": {
        "colab": {
          "base_uri": "https://localhost:8080/"
        },
        "id": "V5BFfRSt_v0Y",
        "outputId": "c18f09fc-c3de-4c1e-9645-fe135c8c186a"
      },
      "execution_count": null,
      "outputs": [
        {
          "output_type": "stream",
          "name": "stdout",
          "text": [
            "Гинекология1_ГоденНегоден_ЗначениеПредставление было заполнено - 402\n",
            "Гинекология1_ГоденНегоден_ЗначениеПредставление стало - 402\n"
          ]
        }
      ]
    },
    {
      "cell_type": "code",
      "source": [
        "df_cor.to_csv('/content/drive/MyDrive/profpatolog/df_cor_ter_psn_gin.csv')"
      ],
      "metadata": {
        "id": "dRch7NghAZWK"
      },
      "execution_count": null,
      "outputs": []
    },
    {
      "cell_type": "markdown",
      "source": [
        "## Раздел \"Офтальмология\""
      ],
      "metadata": {
        "id": "3uwUVf4IAs88"
      }
    },
    {
      "cell_type": "code",
      "source": [
        "df_cor = pd.read_csv('/content/drive/MyDrive/profpatolog/df_cor_ter_psn_gin.csv',index_col=0)\n",
        "df_cor.shape"
      ],
      "metadata": {
        "colab": {
          "base_uri": "https://localhost:8080/"
        },
        "id": "oDWiPwEXXY0B",
        "outputId": "1c43dbc9-8e56-46bb-ee47-c6352404c2ca"
      },
      "execution_count": null,
      "outputs": [
        {
          "output_type": "stream",
          "name": "stderr",
          "text": [
            "<ipython-input-4-75a93f0f5cd0>:2: DtypeWarning: Columns (92,93,102,103,142,252,253,256,257,261,303,315,316,344,345,354,355,356,357,358,359,370,371,424,425,508,509,526,527,528,529,612,613,624,625) have mixed types. Specify dtype option on import or set low_memory=False.\n",
            "  df_cor = pd.read_csv('/content/drive/MyDrive/profpatolog/df_cor_ter_psn_gin.csv',index_col=0)\n"
          ]
        },
        {
          "output_type": "execute_result",
          "data": {
            "text/plain": [
              "(1571, 631)"
            ]
          },
          "metadata": {},
          "execution_count": 4
        }
      ]
    },
    {
      "cell_type": "code",
      "source": [
        "counts = df_cor[col_oft].count(axis=0)\n",
        "uniques = df_cor[col_oft].nunique(axis=0)\n",
        "types = df_cor[col_oft].dtypes\n",
        "df_x = pd.concat([counts.to_frame(name='count'), uniques.to_frame(name='unique'), types.to_frame(name='type')], axis= 1 )"
      ],
      "metadata": {
        "id": "uuKzUOSAA0Nr"
      },
      "execution_count": null,
      "outputs": []
    },
    {
      "cell_type": "code",
      "source": [
        "df_x[:35]"
      ],
      "metadata": {
        "colab": {
          "base_uri": "https://localhost:8080/",
          "height": 1000
        },
        "id": "lQcxRUT-BQ0D",
        "outputId": "37b59e35-53cd-4795-c458-9554e6605cad"
      },
      "execution_count": null,
      "outputs": [
        {
          "output_type": "execute_result",
          "data": {
            "text/plain": [
              "                                                    count  unique     type\n",
              "Офтальмология1_ХР_Рекомендация1                       342       6   object\n",
              "Офтальмология1_ХР_Рекомендация1Представление          342       6   object\n",
              "Офтальмология1_МКБ101                                1005      18   object\n",
              "Офтальмология1_ДиагнозПредставление1                 1005      18   object\n",
              "Офтальмология1_Детализация1                           336     131   object\n",
              "Офтальмология1_Классификация11                         98       2   object\n",
              "Офтальмология1_Классификация1Представление1            98       2   object\n",
              "Офтальмология1_Классификация21                         90       2   object\n",
              "Офтальмология1_Классификация2Представление1            90       2   object\n",
              "Офтальмология1_ПрофнепригодностьВременная1            993       3   object\n",
              "Офтальмология1_ПрофнепригодностьВременнаяПредст...    993       3   object\n",
              "Офтальмология1_Жалобы_Значение                       1010       2   object\n",
              "Офтальмология1_Жалобы_ЗначениеПредставление          1010       2   object\n",
              "Офтальмология1_Анамнез_Значение                      1010       2   object\n",
              "Офтальмология1_Анамнез_ЗначениеПредставление         1010       2   object\n",
              "Офтальмология1_Цветовосприятие_Значение              1010       3   object\n",
              "Офтальмология1_Цветовосприятие_ЗначениеПредстав...   1010       3   object\n",
              "Офтальмология1_OD_Значение                           1010       8   object\n",
              "Офтальмология1_OD_ЗначениеПредставление              1010       8   object\n",
              "Офтальмология1_OS_Значение                           1010      10   object\n",
              "Офтальмология1_OS_ЗначениеПредставление              1010      10   object\n",
              "Офтальмология1_ДвигательныйАппаратГлаз_Значение      1010       2   object\n",
              "Офтальмология1_ДвигательныйАппаратГлаз_Значение...   1010       2   object\n",
              "Офтальмология1_ДискиЗрительныхНервовБледноРозов...   1010       2  float64\n",
              "Офтальмология1_ДискиЗрительныхНервовБледноРозов...   1010       2   object\n",
              "Офтальмология1_ГраницыЧеткие_Значение                1010       2  float64\n",
              "Офтальмология1_ГраницыЧеткие_ЗначениеПредставление   1010       2   object\n",
              "Офтальмология1_Диагноз_Значение                      1003     119   object\n",
              "Офтальмология1_Диагноз_ЗначениеПредставление         1003     119   object\n",
              "Офтальмология1_АнамнезДополнение_Значение             157     114   object\n",
              "Офтальмология1_АнамнезДополнение_ЗначениеПредст...    157     114   object\n",
              "Офтальмология1_ODДополнение_Значение                  315      20   object\n",
              "Офтальмология1_ODДополнение_ЗначениеПредставление     315      20   object\n",
              "Офтальмология1_OSДополнение_Значение                  307      22   object\n",
              "Офтальмология1_OSДополнение_ЗначениеПредставление     307      22   object"
            ],
            "text/html": [
              "\n",
              "  <div id=\"df-744a2dc3-39df-406a-bb4a-e7d083953011\">\n",
              "    <div class=\"colab-df-container\">\n",
              "      <div>\n",
              "<style scoped>\n",
              "    .dataframe tbody tr th:only-of-type {\n",
              "        vertical-align: middle;\n",
              "    }\n",
              "\n",
              "    .dataframe tbody tr th {\n",
              "        vertical-align: top;\n",
              "    }\n",
              "\n",
              "    .dataframe thead th {\n",
              "        text-align: right;\n",
              "    }\n",
              "</style>\n",
              "<table border=\"1\" class=\"dataframe\">\n",
              "  <thead>\n",
              "    <tr style=\"text-align: right;\">\n",
              "      <th></th>\n",
              "      <th>count</th>\n",
              "      <th>unique</th>\n",
              "      <th>type</th>\n",
              "    </tr>\n",
              "  </thead>\n",
              "  <tbody>\n",
              "    <tr>\n",
              "      <th>Офтальмология1_ХР_Рекомендация1</th>\n",
              "      <td>342</td>\n",
              "      <td>6</td>\n",
              "      <td>object</td>\n",
              "    </tr>\n",
              "    <tr>\n",
              "      <th>Офтальмология1_ХР_Рекомендация1Представление</th>\n",
              "      <td>342</td>\n",
              "      <td>6</td>\n",
              "      <td>object</td>\n",
              "    </tr>\n",
              "    <tr>\n",
              "      <th>Офтальмология1_МКБ101</th>\n",
              "      <td>1005</td>\n",
              "      <td>18</td>\n",
              "      <td>object</td>\n",
              "    </tr>\n",
              "    <tr>\n",
              "      <th>Офтальмология1_ДиагнозПредставление1</th>\n",
              "      <td>1005</td>\n",
              "      <td>18</td>\n",
              "      <td>object</td>\n",
              "    </tr>\n",
              "    <tr>\n",
              "      <th>Офтальмология1_Детализация1</th>\n",
              "      <td>336</td>\n",
              "      <td>131</td>\n",
              "      <td>object</td>\n",
              "    </tr>\n",
              "    <tr>\n",
              "      <th>Офтальмология1_Классификация11</th>\n",
              "      <td>98</td>\n",
              "      <td>2</td>\n",
              "      <td>object</td>\n",
              "    </tr>\n",
              "    <tr>\n",
              "      <th>Офтальмология1_Классификация1Представление1</th>\n",
              "      <td>98</td>\n",
              "      <td>2</td>\n",
              "      <td>object</td>\n",
              "    </tr>\n",
              "    <tr>\n",
              "      <th>Офтальмология1_Классификация21</th>\n",
              "      <td>90</td>\n",
              "      <td>2</td>\n",
              "      <td>object</td>\n",
              "    </tr>\n",
              "    <tr>\n",
              "      <th>Офтальмология1_Классификация2Представление1</th>\n",
              "      <td>90</td>\n",
              "      <td>2</td>\n",
              "      <td>object</td>\n",
              "    </tr>\n",
              "    <tr>\n",
              "      <th>Офтальмология1_ПрофнепригодностьВременная1</th>\n",
              "      <td>993</td>\n",
              "      <td>3</td>\n",
              "      <td>object</td>\n",
              "    </tr>\n",
              "    <tr>\n",
              "      <th>Офтальмология1_ПрофнепригодностьВременнаяПредставление1</th>\n",
              "      <td>993</td>\n",
              "      <td>3</td>\n",
              "      <td>object</td>\n",
              "    </tr>\n",
              "    <tr>\n",
              "      <th>Офтальмология1_Жалобы_Значение</th>\n",
              "      <td>1010</td>\n",
              "      <td>2</td>\n",
              "      <td>object</td>\n",
              "    </tr>\n",
              "    <tr>\n",
              "      <th>Офтальмология1_Жалобы_ЗначениеПредставление</th>\n",
              "      <td>1010</td>\n",
              "      <td>2</td>\n",
              "      <td>object</td>\n",
              "    </tr>\n",
              "    <tr>\n",
              "      <th>Офтальмология1_Анамнез_Значение</th>\n",
              "      <td>1010</td>\n",
              "      <td>2</td>\n",
              "      <td>object</td>\n",
              "    </tr>\n",
              "    <tr>\n",
              "      <th>Офтальмология1_Анамнез_ЗначениеПредставление</th>\n",
              "      <td>1010</td>\n",
              "      <td>2</td>\n",
              "      <td>object</td>\n",
              "    </tr>\n",
              "    <tr>\n",
              "      <th>Офтальмология1_Цветовосприятие_Значение</th>\n",
              "      <td>1010</td>\n",
              "      <td>3</td>\n",
              "      <td>object</td>\n",
              "    </tr>\n",
              "    <tr>\n",
              "      <th>Офтальмология1_Цветовосприятие_ЗначениеПредставление</th>\n",
              "      <td>1010</td>\n",
              "      <td>3</td>\n",
              "      <td>object</td>\n",
              "    </tr>\n",
              "    <tr>\n",
              "      <th>Офтальмология1_OD_Значение</th>\n",
              "      <td>1010</td>\n",
              "      <td>8</td>\n",
              "      <td>object</td>\n",
              "    </tr>\n",
              "    <tr>\n",
              "      <th>Офтальмология1_OD_ЗначениеПредставление</th>\n",
              "      <td>1010</td>\n",
              "      <td>8</td>\n",
              "      <td>object</td>\n",
              "    </tr>\n",
              "    <tr>\n",
              "      <th>Офтальмология1_OS_Значение</th>\n",
              "      <td>1010</td>\n",
              "      <td>10</td>\n",
              "      <td>object</td>\n",
              "    </tr>\n",
              "    <tr>\n",
              "      <th>Офтальмология1_OS_ЗначениеПредставление</th>\n",
              "      <td>1010</td>\n",
              "      <td>10</td>\n",
              "      <td>object</td>\n",
              "    </tr>\n",
              "    <tr>\n",
              "      <th>Офтальмология1_ДвигательныйАппаратГлаз_Значение</th>\n",
              "      <td>1010</td>\n",
              "      <td>2</td>\n",
              "      <td>object</td>\n",
              "    </tr>\n",
              "    <tr>\n",
              "      <th>Офтальмология1_ДвигательныйАппаратГлаз_ЗначениеПредставление</th>\n",
              "      <td>1010</td>\n",
              "      <td>2</td>\n",
              "      <td>object</td>\n",
              "    </tr>\n",
              "    <tr>\n",
              "      <th>Офтальмология1_ДискиЗрительныхНервовБледноРозовые_Значение</th>\n",
              "      <td>1010</td>\n",
              "      <td>2</td>\n",
              "      <td>float64</td>\n",
              "    </tr>\n",
              "    <tr>\n",
              "      <th>Офтальмология1_ДискиЗрительныхНервовБледноРозовые_ЗначениеПредставление</th>\n",
              "      <td>1010</td>\n",
              "      <td>2</td>\n",
              "      <td>object</td>\n",
              "    </tr>\n",
              "    <tr>\n",
              "      <th>Офтальмология1_ГраницыЧеткие_Значение</th>\n",
              "      <td>1010</td>\n",
              "      <td>2</td>\n",
              "      <td>float64</td>\n",
              "    </tr>\n",
              "    <tr>\n",
              "      <th>Офтальмология1_ГраницыЧеткие_ЗначениеПредставление</th>\n",
              "      <td>1010</td>\n",
              "      <td>2</td>\n",
              "      <td>object</td>\n",
              "    </tr>\n",
              "    <tr>\n",
              "      <th>Офтальмология1_Диагноз_Значение</th>\n",
              "      <td>1003</td>\n",
              "      <td>119</td>\n",
              "      <td>object</td>\n",
              "    </tr>\n",
              "    <tr>\n",
              "      <th>Офтальмология1_Диагноз_ЗначениеПредставление</th>\n",
              "      <td>1003</td>\n",
              "      <td>119</td>\n",
              "      <td>object</td>\n",
              "    </tr>\n",
              "    <tr>\n",
              "      <th>Офтальмология1_АнамнезДополнение_Значение</th>\n",
              "      <td>157</td>\n",
              "      <td>114</td>\n",
              "      <td>object</td>\n",
              "    </tr>\n",
              "    <tr>\n",
              "      <th>Офтальмология1_АнамнезДополнение_ЗначениеПредставление</th>\n",
              "      <td>157</td>\n",
              "      <td>114</td>\n",
              "      <td>object</td>\n",
              "    </tr>\n",
              "    <tr>\n",
              "      <th>Офтальмология1_ODДополнение_Значение</th>\n",
              "      <td>315</td>\n",
              "      <td>20</td>\n",
              "      <td>object</td>\n",
              "    </tr>\n",
              "    <tr>\n",
              "      <th>Офтальмология1_ODДополнение_ЗначениеПредставление</th>\n",
              "      <td>315</td>\n",
              "      <td>20</td>\n",
              "      <td>object</td>\n",
              "    </tr>\n",
              "    <tr>\n",
              "      <th>Офтальмология1_OSДополнение_Значение</th>\n",
              "      <td>307</td>\n",
              "      <td>22</td>\n",
              "      <td>object</td>\n",
              "    </tr>\n",
              "    <tr>\n",
              "      <th>Офтальмология1_OSДополнение_ЗначениеПредставление</th>\n",
              "      <td>307</td>\n",
              "      <td>22</td>\n",
              "      <td>object</td>\n",
              "    </tr>\n",
              "  </tbody>\n",
              "</table>\n",
              "</div>\n",
              "      <button class=\"colab-df-convert\" onclick=\"convertToInteractive('df-744a2dc3-39df-406a-bb4a-e7d083953011')\"\n",
              "              title=\"Convert this dataframe to an interactive table.\"\n",
              "              style=\"display:none;\">\n",
              "        \n",
              "  <svg xmlns=\"http://www.w3.org/2000/svg\" height=\"24px\"viewBox=\"0 0 24 24\"\n",
              "       width=\"24px\">\n",
              "    <path d=\"M0 0h24v24H0V0z\" fill=\"none\"/>\n",
              "    <path d=\"M18.56 5.44l.94 2.06.94-2.06 2.06-.94-2.06-.94-.94-2.06-.94 2.06-2.06.94zm-11 1L8.5 8.5l.94-2.06 2.06-.94-2.06-.94L8.5 2.5l-.94 2.06-2.06.94zm10 10l.94 2.06.94-2.06 2.06-.94-2.06-.94-.94-2.06-.94 2.06-2.06.94z\"/><path d=\"M17.41 7.96l-1.37-1.37c-.4-.4-.92-.59-1.43-.59-.52 0-1.04.2-1.43.59L10.3 9.45l-7.72 7.72c-.78.78-.78 2.05 0 2.83L4 21.41c.39.39.9.59 1.41.59.51 0 1.02-.2 1.41-.59l7.78-7.78 2.81-2.81c.8-.78.8-2.07 0-2.86zM5.41 20L4 18.59l7.72-7.72 1.47 1.35L5.41 20z\"/>\n",
              "  </svg>\n",
              "      </button>\n",
              "      \n",
              "  <style>\n",
              "    .colab-df-container {\n",
              "      display:flex;\n",
              "      flex-wrap:wrap;\n",
              "      gap: 12px;\n",
              "    }\n",
              "\n",
              "    .colab-df-convert {\n",
              "      background-color: #E8F0FE;\n",
              "      border: none;\n",
              "      border-radius: 50%;\n",
              "      cursor: pointer;\n",
              "      display: none;\n",
              "      fill: #1967D2;\n",
              "      height: 32px;\n",
              "      padding: 0 0 0 0;\n",
              "      width: 32px;\n",
              "    }\n",
              "\n",
              "    .colab-df-convert:hover {\n",
              "      background-color: #E2EBFA;\n",
              "      box-shadow: 0px 1px 2px rgba(60, 64, 67, 0.3), 0px 1px 3px 1px rgba(60, 64, 67, 0.15);\n",
              "      fill: #174EA6;\n",
              "    }\n",
              "\n",
              "    [theme=dark] .colab-df-convert {\n",
              "      background-color: #3B4455;\n",
              "      fill: #D2E3FC;\n",
              "    }\n",
              "\n",
              "    [theme=dark] .colab-df-convert:hover {\n",
              "      background-color: #434B5C;\n",
              "      box-shadow: 0px 1px 3px 1px rgba(0, 0, 0, 0.15);\n",
              "      filter: drop-shadow(0px 1px 2px rgba(0, 0, 0, 0.3));\n",
              "      fill: #FFFFFF;\n",
              "    }\n",
              "  </style>\n",
              "\n",
              "      <script>\n",
              "        const buttonEl =\n",
              "          document.querySelector('#df-744a2dc3-39df-406a-bb4a-e7d083953011 button.colab-df-convert');\n",
              "        buttonEl.style.display =\n",
              "          google.colab.kernel.accessAllowed ? 'block' : 'none';\n",
              "\n",
              "        async function convertToInteractive(key) {\n",
              "          const element = document.querySelector('#df-744a2dc3-39df-406a-bb4a-e7d083953011');\n",
              "          const dataTable =\n",
              "            await google.colab.kernel.invokeFunction('convertToInteractive',\n",
              "                                                     [key], {});\n",
              "          if (!dataTable) return;\n",
              "\n",
              "          const docLinkHtml = 'Like what you see? Visit the ' +\n",
              "            '<a target=\"_blank\" href=https://colab.research.google.com/notebooks/data_table.ipynb>data table notebook</a>'\n",
              "            + ' to learn more about interactive tables.';\n",
              "          element.innerHTML = '';\n",
              "          dataTable['output_type'] = 'display_data';\n",
              "          await google.colab.output.renderOutput(dataTable, element);\n",
              "          const docLink = document.createElement('div');\n",
              "          docLink.innerHTML = docLinkHtml;\n",
              "          element.appendChild(docLink);\n",
              "        }\n",
              "      </script>\n",
              "    </div>\n",
              "  </div>\n",
              "  "
            ]
          },
          "metadata": {},
          "execution_count": 35
        }
      ]
    },
    {
      "cell_type": "markdown",
      "source": [
        "Колонки \"Офтальмогогия\":\n",
        "\n",
        "'Офтальмология1_ДиагнозПредставление1', 'Офтальмология1_ХР_Рекомендация1Представление', 'Офтальмология1_ПрофнепригодностьВременнаяПредставление1'"
      ],
      "metadata": {
        "id": "ZjM2VObDhNSy"
      }
    },
    {
      "cell_type": "code",
      "source": [
        "print(df_cor['Офтальмология2_ПрофнепригодностьВременнаяПредставление2'].count())\n",
        "df_cor['Офтальмология2_ПрофнепригодностьВременнаяПредставление2'].value_counts()"
      ],
      "metadata": {
        "colab": {
          "base_uri": "https://localhost:8080/"
        },
        "id": "1DordhPiA6m8",
        "outputId": "bbb2b9a0-9934-412a-b91d-b5a509d37351"
      },
      "execution_count": null,
      "outputs": [
        {
          "output_type": "stream",
          "name": "stdout",
          "text": [
            "78\n"
          ]
        },
        {
          "output_type": "execute_result",
          "data": {
            "text/plain": [
              "Годен              76\n",
              "Годен, кроме п.     2\n",
              "Name: Офтальмология2_ПрофнепригодностьВременнаяПредставление2, dtype: int64"
            ]
          },
          "metadata": {},
          "execution_count": 33
        }
      ]
    },
    {
      "cell_type": "code",
      "source": [
        "col_to_cnc = ['Офтальмология1_ПрофнепригодностьВременнаяПредставление2','Офтальмология2_ПрофнепригодностьВременнаяПредставление1',\n",
        "              'Офтальмология2_ПрофнепригодностьВременнаяПредставление2']\n",
        "col_concat('Офтальмология1_ПрофнепригодностьВременнаяПредставление1',col_to_cnc)"
      ],
      "metadata": {
        "id": "_B3DQGZtBCuD",
        "colab": {
          "base_uri": "https://localhost:8080/"
        },
        "outputId": "3356c5d0-3398-4134-b51c-d8011dc5d0e4"
      },
      "execution_count": null,
      "outputs": [
        {
          "output_type": "stream",
          "name": "stdout",
          "text": [
            "Офтальмология1_ПрофнепригодностьВременнаяПредставление1 было заполнено - 993\n",
            "Офтальмология1_ПрофнепригодностьВременнаяПредставление1 стало - 1000\n",
            "Офтальмология1_ПрофнепригодностьВременнаяПредставление1 было заполнено - 1000\n",
            "Офтальмология1_ПрофнепригодностьВременнаяПредставление1 стало - 1002\n",
            "Офтальмология1_ПрофнепригодностьВременнаяПредставление1 было заполнено - 1002\n",
            "Офтальмология1_ПрофнепригодностьВременнаяПредставление1 стало - 1002\n"
          ]
        }
      ]
    },
    {
      "cell_type": "code",
      "source": [
        "df_cor.to_csv('/content/drive/MyDrive/profpatolog/df_cor__oft.csv', index=False)"
      ],
      "metadata": {
        "id": "fVYkozVUnH8B"
      },
      "execution_count": null,
      "outputs": []
    },
    {
      "cell_type": "markdown",
      "source": [
        "## Раздел \"Оториноларингология\""
      ],
      "metadata": {
        "id": "RVZpr1bVqfMx"
      }
    },
    {
      "cell_type": "code",
      "source": [
        "df_cor = pd.read_csv('/content/drive/MyDrive/profpatolog/df_cor__oft.csv')\n",
        "df_cor.shape"
      ],
      "metadata": {
        "colab": {
          "base_uri": "https://localhost:8080/"
        },
        "id": "cRcu7ibQq132",
        "outputId": "891a7d71-0232-4a8c-f1ef-e607508b560a"
      },
      "execution_count": null,
      "outputs": [
        {
          "output_type": "stream",
          "name": "stderr",
          "text": [
            "<ipython-input-37-fcaa82f1afa7>:1: DtypeWarning: Columns (91,92,101,102,141,251,252,255,256,260,302,314,315,343,344,353,354,355,356,357,358,369,370,423,424,507,508,525,526,527,528,611,612,623,624) have mixed types. Specify dtype option on import or set low_memory=False.\n",
            "  df_cor = pd.read_csv('/content/drive/MyDrive/profpatolog/df_cor__oft.csv')\n"
          ]
        },
        {
          "output_type": "execute_result",
          "data": {
            "text/plain": [
              "(1571, 631)"
            ]
          },
          "metadata": {},
          "execution_count": 37
        }
      ]
    },
    {
      "cell_type": "code",
      "source": [
        "counts = df_cor[col_lor].count(axis=0)\n",
        "uniques = df_cor[col_lor].nunique(axis=0)\n",
        "types = df_cor[col_lor].dtypes\n",
        "df_x = pd.concat([counts.to_frame(name='count'), uniques.to_frame(name='unique'), types.to_frame(name='type')], axis= 1 )"
      ],
      "metadata": {
        "id": "aOtqCat-rCRU"
      },
      "execution_count": null,
      "outputs": []
    },
    {
      "cell_type": "code",
      "source": [
        "df_x"
      ],
      "metadata": {
        "colab": {
          "base_uri": "https://localhost:8080/",
          "height": 1000
        },
        "id": "GXroEDC5rN_B",
        "outputId": "0ab0a3ce-1701-46e1-c298-1e778b8b8592"
      },
      "execution_count": null,
      "outputs": [
        {
          "output_type": "execute_result",
          "data": {
            "text/plain": [
              "                                                    count  unique     type\n",
              "Оториноларингология1_МКБ101                          1221      12   object\n",
              "Оториноларингология1_ДиагнозПредставление1           1221      12   object\n",
              "Оториноларингология1_Детализация1                      26      22   object\n",
              "Оториноларингология1_ПрофнепригодностьВременная1     1218       3   object\n",
              "Оториноларингология1_ПрофнепригодностьВременная...   1218       3   object\n",
              "Оториноларингология1_НосоваяПерегородка_Значение     1227       3   object\n",
              "Оториноларингология1_НосоваяПерегородка_Значени...   1227       3   object\n",
              "Оториноларингология1_НосовоеДыхание_Значение         1227       2   object\n",
              "Оториноларингология1_НосовоеДыхание_ЗначениеПре...   1227       2   object\n",
              "Оториноларингология1_ЗаДужками_Значение               769       2  float64\n",
              "Оториноларингология1_ЗаДужками_ЗначениеПредстав...    769       2   object\n",
              "Оториноларингология1_Отсутствуют_Значение             769       2  float64\n",
              "Оториноларингология1_Отсутствуют_ЗначениеПредст...    769       2   object\n",
              "Оториноларингология1_Увеличены_Значение               769       2  float64\n",
              "Оториноларингология1_Увеличены_ЗначениеПредстав...    769       2   object\n",
              "Оториноларингология1_D_Значение                      1015      13   object\n",
              "Оториноларингология1_D_ЗначениеПредставление         1015      13   object\n",
              "Оториноларингология1_S_Значение                      1014      16   object\n",
              "Оториноларингология1_S_ЗначениеПредставление         1014      16   object\n",
              "Оториноларингология1_Аудиометрия_Значение             769      25   object\n",
              "Оториноларингология1_Аудиометрия_ЗначениеПредст...    769      25   object\n",
              "Оториноларингология1_Диагноз_Значение                1224      12   object\n",
              "Оториноларингология1_Диагноз_ЗначениеПредставление   1224      12   object\n",
              "Оториноларингология1_Аудиометрия1_Значение            458       2   object\n",
              "Оториноларингология1_Аудиометрия1_ЗначениеПредс...    458       2   object\n",
              "Оториноларингология2_МКБ101                           115       3   object\n",
              "Оториноларингология2_ДиагнозПредставление1            115       3   object\n",
              "Оториноларингология2_Диагноз_Значение                 115       3   object\n",
              "Оториноларингология2_Диагноз_ЗначениеПредставление    115       3   object\n",
              "Оториноларингология1_МКБ102                           108       5   object\n",
              "Оториноларингология1_ДиагнозПредставление2            108       5   object\n",
              "Оториноларингология2_МКБ102                           104       3   object\n",
              "Оториноларингология2_ДиагнозПредставление2            104       3   object\n",
              "Оториноларингология2_D_Значение                       104       3  float64\n",
              "Оториноларингология2_D_ЗначениеПредставление          104       3  float64\n",
              "Оториноларингология2_S_Значение                       104       3  float64\n",
              "Оториноларингология2_S_ЗначениеПредставление          104       3  float64\n",
              "Оториноларингология2_ЗаДужками_Значение                44       2   object\n",
              "Оториноларингология2_ЗаДужками_ЗначениеПредстав...     44       2   object\n",
              "Оториноларингология2_Аудиометрия_Значение              44       3   object\n",
              "Оториноларингология2_Аудиометрия_ЗначениеПредст...     44       3   object"
            ],
            "text/html": [
              "\n",
              "  <div id=\"df-9526dd23-fb92-4340-ad9d-55c8033c8ee6\">\n",
              "    <div class=\"colab-df-container\">\n",
              "      <div>\n",
              "<style scoped>\n",
              "    .dataframe tbody tr th:only-of-type {\n",
              "        vertical-align: middle;\n",
              "    }\n",
              "\n",
              "    .dataframe tbody tr th {\n",
              "        vertical-align: top;\n",
              "    }\n",
              "\n",
              "    .dataframe thead th {\n",
              "        text-align: right;\n",
              "    }\n",
              "</style>\n",
              "<table border=\"1\" class=\"dataframe\">\n",
              "  <thead>\n",
              "    <tr style=\"text-align: right;\">\n",
              "      <th></th>\n",
              "      <th>count</th>\n",
              "      <th>unique</th>\n",
              "      <th>type</th>\n",
              "    </tr>\n",
              "  </thead>\n",
              "  <tbody>\n",
              "    <tr>\n",
              "      <th>Оториноларингология1_МКБ101</th>\n",
              "      <td>1221</td>\n",
              "      <td>12</td>\n",
              "      <td>object</td>\n",
              "    </tr>\n",
              "    <tr>\n",
              "      <th>Оториноларингология1_ДиагнозПредставление1</th>\n",
              "      <td>1221</td>\n",
              "      <td>12</td>\n",
              "      <td>object</td>\n",
              "    </tr>\n",
              "    <tr>\n",
              "      <th>Оториноларингология1_Детализация1</th>\n",
              "      <td>26</td>\n",
              "      <td>22</td>\n",
              "      <td>object</td>\n",
              "    </tr>\n",
              "    <tr>\n",
              "      <th>Оториноларингология1_ПрофнепригодностьВременная1</th>\n",
              "      <td>1218</td>\n",
              "      <td>3</td>\n",
              "      <td>object</td>\n",
              "    </tr>\n",
              "    <tr>\n",
              "      <th>Оториноларингология1_ПрофнепригодностьВременнаяПредставление1</th>\n",
              "      <td>1218</td>\n",
              "      <td>3</td>\n",
              "      <td>object</td>\n",
              "    </tr>\n",
              "    <tr>\n",
              "      <th>Оториноларингология1_НосоваяПерегородка_Значение</th>\n",
              "      <td>1227</td>\n",
              "      <td>3</td>\n",
              "      <td>object</td>\n",
              "    </tr>\n",
              "    <tr>\n",
              "      <th>Оториноларингология1_НосоваяПерегородка_ЗначениеПредставление</th>\n",
              "      <td>1227</td>\n",
              "      <td>3</td>\n",
              "      <td>object</td>\n",
              "    </tr>\n",
              "    <tr>\n",
              "      <th>Оториноларингология1_НосовоеДыхание_Значение</th>\n",
              "      <td>1227</td>\n",
              "      <td>2</td>\n",
              "      <td>object</td>\n",
              "    </tr>\n",
              "    <tr>\n",
              "      <th>Оториноларингология1_НосовоеДыхание_ЗначениеПредставление</th>\n",
              "      <td>1227</td>\n",
              "      <td>2</td>\n",
              "      <td>object</td>\n",
              "    </tr>\n",
              "    <tr>\n",
              "      <th>Оториноларингология1_ЗаДужками_Значение</th>\n",
              "      <td>769</td>\n",
              "      <td>2</td>\n",
              "      <td>float64</td>\n",
              "    </tr>\n",
              "    <tr>\n",
              "      <th>Оториноларингология1_ЗаДужками_ЗначениеПредставление</th>\n",
              "      <td>769</td>\n",
              "      <td>2</td>\n",
              "      <td>object</td>\n",
              "    </tr>\n",
              "    <tr>\n",
              "      <th>Оториноларингология1_Отсутствуют_Значение</th>\n",
              "      <td>769</td>\n",
              "      <td>2</td>\n",
              "      <td>float64</td>\n",
              "    </tr>\n",
              "    <tr>\n",
              "      <th>Оториноларингология1_Отсутствуют_ЗначениеПредставление</th>\n",
              "      <td>769</td>\n",
              "      <td>2</td>\n",
              "      <td>object</td>\n",
              "    </tr>\n",
              "    <tr>\n",
              "      <th>Оториноларингология1_Увеличены_Значение</th>\n",
              "      <td>769</td>\n",
              "      <td>2</td>\n",
              "      <td>float64</td>\n",
              "    </tr>\n",
              "    <tr>\n",
              "      <th>Оториноларингология1_Увеличены_ЗначениеПредставление</th>\n",
              "      <td>769</td>\n",
              "      <td>2</td>\n",
              "      <td>object</td>\n",
              "    </tr>\n",
              "    <tr>\n",
              "      <th>Оториноларингология1_D_Значение</th>\n",
              "      <td>1015</td>\n",
              "      <td>13</td>\n",
              "      <td>object</td>\n",
              "    </tr>\n",
              "    <tr>\n",
              "      <th>Оториноларингология1_D_ЗначениеПредставление</th>\n",
              "      <td>1015</td>\n",
              "      <td>13</td>\n",
              "      <td>object</td>\n",
              "    </tr>\n",
              "    <tr>\n",
              "      <th>Оториноларингология1_S_Значение</th>\n",
              "      <td>1014</td>\n",
              "      <td>16</td>\n",
              "      <td>object</td>\n",
              "    </tr>\n",
              "    <tr>\n",
              "      <th>Оториноларингология1_S_ЗначениеПредставление</th>\n",
              "      <td>1014</td>\n",
              "      <td>16</td>\n",
              "      <td>object</td>\n",
              "    </tr>\n",
              "    <tr>\n",
              "      <th>Оториноларингология1_Аудиометрия_Значение</th>\n",
              "      <td>769</td>\n",
              "      <td>25</td>\n",
              "      <td>object</td>\n",
              "    </tr>\n",
              "    <tr>\n",
              "      <th>Оториноларингология1_Аудиометрия_ЗначениеПредставление</th>\n",
              "      <td>769</td>\n",
              "      <td>25</td>\n",
              "      <td>object</td>\n",
              "    </tr>\n",
              "    <tr>\n",
              "      <th>Оториноларингология1_Диагноз_Значение</th>\n",
              "      <td>1224</td>\n",
              "      <td>12</td>\n",
              "      <td>object</td>\n",
              "    </tr>\n",
              "    <tr>\n",
              "      <th>Оториноларингология1_Диагноз_ЗначениеПредставление</th>\n",
              "      <td>1224</td>\n",
              "      <td>12</td>\n",
              "      <td>object</td>\n",
              "    </tr>\n",
              "    <tr>\n",
              "      <th>Оториноларингология1_Аудиометрия1_Значение</th>\n",
              "      <td>458</td>\n",
              "      <td>2</td>\n",
              "      <td>object</td>\n",
              "    </tr>\n",
              "    <tr>\n",
              "      <th>Оториноларингология1_Аудиометрия1_ЗначениеПредставление</th>\n",
              "      <td>458</td>\n",
              "      <td>2</td>\n",
              "      <td>object</td>\n",
              "    </tr>\n",
              "    <tr>\n",
              "      <th>Оториноларингология2_МКБ101</th>\n",
              "      <td>115</td>\n",
              "      <td>3</td>\n",
              "      <td>object</td>\n",
              "    </tr>\n",
              "    <tr>\n",
              "      <th>Оториноларингология2_ДиагнозПредставление1</th>\n",
              "      <td>115</td>\n",
              "      <td>3</td>\n",
              "      <td>object</td>\n",
              "    </tr>\n",
              "    <tr>\n",
              "      <th>Оториноларингология2_Диагноз_Значение</th>\n",
              "      <td>115</td>\n",
              "      <td>3</td>\n",
              "      <td>object</td>\n",
              "    </tr>\n",
              "    <tr>\n",
              "      <th>Оториноларингология2_Диагноз_ЗначениеПредставление</th>\n",
              "      <td>115</td>\n",
              "      <td>3</td>\n",
              "      <td>object</td>\n",
              "    </tr>\n",
              "    <tr>\n",
              "      <th>Оториноларингология1_МКБ102</th>\n",
              "      <td>108</td>\n",
              "      <td>5</td>\n",
              "      <td>object</td>\n",
              "    </tr>\n",
              "    <tr>\n",
              "      <th>Оториноларингология1_ДиагнозПредставление2</th>\n",
              "      <td>108</td>\n",
              "      <td>5</td>\n",
              "      <td>object</td>\n",
              "    </tr>\n",
              "    <tr>\n",
              "      <th>Оториноларингология2_МКБ102</th>\n",
              "      <td>104</td>\n",
              "      <td>3</td>\n",
              "      <td>object</td>\n",
              "    </tr>\n",
              "    <tr>\n",
              "      <th>Оториноларингология2_ДиагнозПредставление2</th>\n",
              "      <td>104</td>\n",
              "      <td>3</td>\n",
              "      <td>object</td>\n",
              "    </tr>\n",
              "    <tr>\n",
              "      <th>Оториноларингология2_D_Значение</th>\n",
              "      <td>104</td>\n",
              "      <td>3</td>\n",
              "      <td>float64</td>\n",
              "    </tr>\n",
              "    <tr>\n",
              "      <th>Оториноларингология2_D_ЗначениеПредставление</th>\n",
              "      <td>104</td>\n",
              "      <td>3</td>\n",
              "      <td>float64</td>\n",
              "    </tr>\n",
              "    <tr>\n",
              "      <th>Оториноларингология2_S_Значение</th>\n",
              "      <td>104</td>\n",
              "      <td>3</td>\n",
              "      <td>float64</td>\n",
              "    </tr>\n",
              "    <tr>\n",
              "      <th>Оториноларингология2_S_ЗначениеПредставление</th>\n",
              "      <td>104</td>\n",
              "      <td>3</td>\n",
              "      <td>float64</td>\n",
              "    </tr>\n",
              "    <tr>\n",
              "      <th>Оториноларингология2_ЗаДужками_Значение</th>\n",
              "      <td>44</td>\n",
              "      <td>2</td>\n",
              "      <td>object</td>\n",
              "    </tr>\n",
              "    <tr>\n",
              "      <th>Оториноларингология2_ЗаДужками_ЗначениеПредставление</th>\n",
              "      <td>44</td>\n",
              "      <td>2</td>\n",
              "      <td>object</td>\n",
              "    </tr>\n",
              "    <tr>\n",
              "      <th>Оториноларингология2_Аудиометрия_Значение</th>\n",
              "      <td>44</td>\n",
              "      <td>3</td>\n",
              "      <td>object</td>\n",
              "    </tr>\n",
              "    <tr>\n",
              "      <th>Оториноларингология2_Аудиометрия_ЗначениеПредставление</th>\n",
              "      <td>44</td>\n",
              "      <td>3</td>\n",
              "      <td>object</td>\n",
              "    </tr>\n",
              "  </tbody>\n",
              "</table>\n",
              "</div>\n",
              "      <button class=\"colab-df-convert\" onclick=\"convertToInteractive('df-9526dd23-fb92-4340-ad9d-55c8033c8ee6')\"\n",
              "              title=\"Convert this dataframe to an interactive table.\"\n",
              "              style=\"display:none;\">\n",
              "        \n",
              "  <svg xmlns=\"http://www.w3.org/2000/svg\" height=\"24px\"viewBox=\"0 0 24 24\"\n",
              "       width=\"24px\">\n",
              "    <path d=\"M0 0h24v24H0V0z\" fill=\"none\"/>\n",
              "    <path d=\"M18.56 5.44l.94 2.06.94-2.06 2.06-.94-2.06-.94-.94-2.06-.94 2.06-2.06.94zm-11 1L8.5 8.5l.94-2.06 2.06-.94-2.06-.94L8.5 2.5l-.94 2.06-2.06.94zm10 10l.94 2.06.94-2.06 2.06-.94-2.06-.94-.94-2.06-.94 2.06-2.06.94z\"/><path d=\"M17.41 7.96l-1.37-1.37c-.4-.4-.92-.59-1.43-.59-.52 0-1.04.2-1.43.59L10.3 9.45l-7.72 7.72c-.78.78-.78 2.05 0 2.83L4 21.41c.39.39.9.59 1.41.59.51 0 1.02-.2 1.41-.59l7.78-7.78 2.81-2.81c.8-.78.8-2.07 0-2.86zM5.41 20L4 18.59l7.72-7.72 1.47 1.35L5.41 20z\"/>\n",
              "  </svg>\n",
              "      </button>\n",
              "      \n",
              "  <style>\n",
              "    .colab-df-container {\n",
              "      display:flex;\n",
              "      flex-wrap:wrap;\n",
              "      gap: 12px;\n",
              "    }\n",
              "\n",
              "    .colab-df-convert {\n",
              "      background-color: #E8F0FE;\n",
              "      border: none;\n",
              "      border-radius: 50%;\n",
              "      cursor: pointer;\n",
              "      display: none;\n",
              "      fill: #1967D2;\n",
              "      height: 32px;\n",
              "      padding: 0 0 0 0;\n",
              "      width: 32px;\n",
              "    }\n",
              "\n",
              "    .colab-df-convert:hover {\n",
              "      background-color: #E2EBFA;\n",
              "      box-shadow: 0px 1px 2px rgba(60, 64, 67, 0.3), 0px 1px 3px 1px rgba(60, 64, 67, 0.15);\n",
              "      fill: #174EA6;\n",
              "    }\n",
              "\n",
              "    [theme=dark] .colab-df-convert {\n",
              "      background-color: #3B4455;\n",
              "      fill: #D2E3FC;\n",
              "    }\n",
              "\n",
              "    [theme=dark] .colab-df-convert:hover {\n",
              "      background-color: #434B5C;\n",
              "      box-shadow: 0px 1px 3px 1px rgba(0, 0, 0, 0.15);\n",
              "      filter: drop-shadow(0px 1px 2px rgba(0, 0, 0, 0.3));\n",
              "      fill: #FFFFFF;\n",
              "    }\n",
              "  </style>\n",
              "\n",
              "      <script>\n",
              "        const buttonEl =\n",
              "          document.querySelector('#df-9526dd23-fb92-4340-ad9d-55c8033c8ee6 button.colab-df-convert');\n",
              "        buttonEl.style.display =\n",
              "          google.colab.kernel.accessAllowed ? 'block' : 'none';\n",
              "\n",
              "        async function convertToInteractive(key) {\n",
              "          const element = document.querySelector('#df-9526dd23-fb92-4340-ad9d-55c8033c8ee6');\n",
              "          const dataTable =\n",
              "            await google.colab.kernel.invokeFunction('convertToInteractive',\n",
              "                                                     [key], {});\n",
              "          if (!dataTable) return;\n",
              "\n",
              "          const docLinkHtml = 'Like what you see? Visit the ' +\n",
              "            '<a target=\"_blank\" href=https://colab.research.google.com/notebooks/data_table.ipynb>data table notebook</a>'\n",
              "            + ' to learn more about interactive tables.';\n",
              "          element.innerHTML = '';\n",
              "          dataTable['output_type'] = 'display_data';\n",
              "          await google.colab.output.renderOutput(dataTable, element);\n",
              "          const docLink = document.createElement('div');\n",
              "          docLink.innerHTML = docLinkHtml;\n",
              "          element.appendChild(docLink);\n",
              "        }\n",
              "      </script>\n",
              "    </div>\n",
              "  </div>\n",
              "  "
            ]
          },
          "metadata": {},
          "execution_count": 40
        }
      ]
    },
    {
      "cell_type": "markdown",
      "source": [
        "Колонки \"ЛОР\":\n",
        "\n",
        "'Оториноларингология1_ДиагнозПредставление1', 'Оториноларингология1_ПрофнепригодностьВременнаяПредставление1'"
      ],
      "metadata": {
        "id": "7Pl6Vvxzr8Yw"
      }
    },
    {
      "cell_type": "code",
      "source": [
        "print(df_cor['Оториноларингология1_ПрофнепригодностьВременнаяПредставление1'].count())\n",
        "df_cor['Оториноларингология1_ПрофнепригодностьВременнаяПредставление1'].value_counts()"
      ],
      "metadata": {
        "colab": {
          "base_uri": "https://localhost:8080/"
        },
        "id": "fVIcJ7N4rRlu",
        "outputId": "c564523c-cbfc-4548-b8a1-404d60dbc776"
      },
      "execution_count": null,
      "outputs": [
        {
          "output_type": "stream",
          "name": "stdout",
          "text": [
            "1218\n"
          ]
        },
        {
          "output_type": "execute_result",
          "data": {
            "text/plain": [
              "Годен                1216\n",
              "Временно не годен       1\n",
              "Годен, кроме п.         1\n",
              "Name: Оториноларингология1_ПрофнепригодностьВременнаяПредставление1, dtype: int64"
            ]
          },
          "metadata": {},
          "execution_count": 53
        }
      ]
    },
    {
      "cell_type": "code",
      "source": [
        "col_to_cnc = ['Оториноларингология1_Детализация1','Оториноларингология1_Аудиометрия_ЗначениеПредставление','Оториноларингология1_Диагноз_ЗначениеПредставление',\n",
        "              'Оториноларингология2_ДиагнозПредставление1','Оториноларингология2_Диагноз_ЗначениеПредставление','Оториноларингология2_ДиагнозПредставление2',\n",
        "              'Оториноларингология2_Аудиометрия_ЗначениеПредставление']\n",
        "col_concat('Оториноларингология1_ДиагнозПредставление1',col_to_cnc)"
      ],
      "metadata": {
        "colab": {
          "base_uri": "https://localhost:8080/"
        },
        "id": "FEIV5EuNrUia",
        "outputId": "afbee381-9ad9-44b9-c8a7-1c68bc64aa3a"
      },
      "execution_count": null,
      "outputs": [
        {
          "output_type": "stream",
          "name": "stdout",
          "text": [
            "Оториноларингология1_ДиагнозПредставление1 было заполнено - 1221\n",
            "Оториноларингология1_ДиагнозПредставление1 стало - 1221\n",
            "Оториноларингология1_ДиагнозПредставление1 было заполнено - 1221\n",
            "Оториноларингология1_ДиагнозПредставление1 стало - 1222\n",
            "Оториноларингология1_ДиагнозПредставление1 было заполнено - 1222\n",
            "Оториноларингология1_ДиагнозПредставление1 стало - 1227\n",
            "Оториноларингология1_ДиагнозПредставление1 было заполнено - 1227\n",
            "Оториноларингология1_ДиагнозПредставление1 стало - 1228\n",
            "Оториноларингология1_ДиагнозПредставление1 было заполнено - 1228\n",
            "Оториноларингология1_ДиагнозПредставление1 стало - 1228\n",
            "Оториноларингология1_ДиагнозПредставление1 было заполнено - 1228\n",
            "Оториноларингология1_ДиагнозПредставление1 стало - 1228\n",
            "Оториноларингология1_ДиагнозПредставление1 было заполнено - 1228\n",
            "Оториноларингология1_ДиагнозПредставление1 стало - 1228\n"
          ]
        }
      ]
    },
    {
      "cell_type": "code",
      "source": [
        "df_cor.to_csv('/content/drive/MyDrive/profpatolog/df_cor__lor.csv', index=False)"
      ],
      "metadata": {
        "id": "X7Px43ipuptG"
      },
      "execution_count": null,
      "outputs": []
    },
    {
      "cell_type": "markdown",
      "source": [
        "## Раздел \"Стоматология\""
      ],
      "metadata": {
        "id": "1gUoFS9Yu2Jt"
      }
    },
    {
      "cell_type": "code",
      "source": [
        "df_cor = pd.read_csv('/content/drive/MyDrive/profpatolog/df_cor__lor.csv')\n",
        "df_cor.shape"
      ],
      "metadata": {
        "colab": {
          "base_uri": "https://localhost:8080/"
        },
        "id": "kKy8h0aiu7Y-",
        "outputId": "e4d3c9f2-60b9-43cc-daec-32cd35e8f0d7"
      },
      "execution_count": null,
      "outputs": [
        {
          "output_type": "stream",
          "name": "stderr",
          "text": [
            "<ipython-input-55-bb5166c156ea>:1: DtypeWarning: Columns (91,92,101,102,141,251,252,255,256,260,302,314,315,343,344,353,354,355,356,357,358,369,370,423,424,507,508,525,526,527,528,611,612,623,624) have mixed types. Specify dtype option on import or set low_memory=False.\n",
            "  df_cor = pd.read_csv('/content/drive/MyDrive/profpatolog/df_cor__lor.csv')\n"
          ]
        },
        {
          "output_type": "execute_result",
          "data": {
            "text/plain": [
              "(1571, 631)"
            ]
          },
          "metadata": {},
          "execution_count": 55
        }
      ]
    },
    {
      "cell_type": "code",
      "source": [
        "counts = df_cor[col_sto].count(axis=0)\n",
        "uniques = df_cor[col_sto].nunique(axis=0)\n",
        "types = df_cor[col_sto].dtypes\n",
        "df_x = pd.concat([counts.to_frame(name='count'), uniques.to_frame(name='unique'), types.to_frame(name='type')], axis= 1 )"
      ],
      "metadata": {
        "id": "5tkaQZXgvEjX"
      },
      "execution_count": null,
      "outputs": []
    },
    {
      "cell_type": "code",
      "source": [
        "df_x[35:]"
      ],
      "metadata": {
        "colab": {
          "base_uri": "https://localhost:8080/",
          "height": 1000
        },
        "id": "3dHZyc7hvMx2",
        "outputId": "63372400-645e-4cf2-a7ae-4a0c9333d2e6"
      },
      "execution_count": null,
      "outputs": [
        {
          "output_type": "execute_result",
          "data": {
            "text/plain": [
              "                                                count  unique    type\n",
              "Стоматология1_НП6_Значение                        163       9  object\n",
              "Стоматология1_НП6_ЗначениеПредставление           163       9  object\n",
              "Стоматология1_НП7_Значение                        147      10  object\n",
              "Стоматология1_НП7_ЗначениеПредставление           147      10  object\n",
              "Стоматология1_ВЛ8_Значение                        119       8  object\n",
              "Стоматология1_ВЛ8_ЗначениеПредставление           119       8  object\n",
              "Стоматология1_ВП8_Значение                        130       7  object\n",
              "Стоматология1_ВП8_ЗначениеПредставление           130       7  object\n",
              "Стоматология1_НЛ8_Значение                        169       8  object\n",
              "Стоматология1_НЛ8_ЗначениеПредставление           169       8  object\n",
              "Стоматология1_НП8_Значение                        144      10  object\n",
              "Стоматология1_НП8_ЗначениеПредставление           144      10  object\n",
              "Стоматология1_ВП6_Значение                        147      10  object\n",
              "Стоматология1_ВП6_ЗначениеПредставление           147      10  object\n",
              "Стоматология1_ВП7_Значение                        116       8  object\n",
              "Стоматология1_ВП7_ЗначениеПредставление           116       8  object\n",
              "Стоматология1_ВЛ4_Значение                         68       9  object\n",
              "Стоматология1_ВЛ4_ЗначениеПредставление            68       9  object\n",
              "Стоматология1_ВП4_Значение                         70       8  object\n",
              "Стоматология1_ВП4_ЗначениеПредставление            70       8  object\n",
              "Стоматология1_ВП5_Значение                        118       7  object\n",
              "Стоматология1_ВП5_ЗначениеПредставление           118       7  object\n",
              "Стоматология1_ВЛ3_Значение                         31       5  object\n",
              "Стоматология1_ВЛ3_ЗначениеПредставление            31       5  object\n",
              "Стоматология1_ВЛ2_Значение                         37       8  object\n",
              "Стоматология1_ВЛ2_ЗначениеПредставление            37       8  object\n",
              "Стоматология1_ВЛ1_Значение                         43       9  object\n",
              "Стоматология1_ВЛ1_ЗначениеПредставление            43       9  object\n",
              "Стоматология1_ВП1_Значение                         47       9  object\n",
              "Стоматология1_ВП1_ЗначениеПредставление            47       9  object\n",
              "Стоматология2_МКБ101                               38       2  object\n",
              "Стоматология2_ДиагнозПредставление1                38       2  object\n",
              "Стоматология2_Диагноз_Значение                     43       4  object\n",
              "Стоматология2_Диагноз_ЗначениеПредставление        43       4  object\n",
              "Стоматология2_ПолостьРта_Значение                  44       2  object\n",
              "Стоматология2_ПолостьРта_ЗначениеПредставление     44       2  object\n",
              "Стоматология1_МКБ102                               38       2  object\n",
              "Стоматология1_ДиагнозПредставление2                38       2  object"
            ],
            "text/html": [
              "\n",
              "  <div id=\"df-371656de-7c53-4cc6-9012-e8cc567d5a1b\">\n",
              "    <div class=\"colab-df-container\">\n",
              "      <div>\n",
              "<style scoped>\n",
              "    .dataframe tbody tr th:only-of-type {\n",
              "        vertical-align: middle;\n",
              "    }\n",
              "\n",
              "    .dataframe tbody tr th {\n",
              "        vertical-align: top;\n",
              "    }\n",
              "\n",
              "    .dataframe thead th {\n",
              "        text-align: right;\n",
              "    }\n",
              "</style>\n",
              "<table border=\"1\" class=\"dataframe\">\n",
              "  <thead>\n",
              "    <tr style=\"text-align: right;\">\n",
              "      <th></th>\n",
              "      <th>count</th>\n",
              "      <th>unique</th>\n",
              "      <th>type</th>\n",
              "    </tr>\n",
              "  </thead>\n",
              "  <tbody>\n",
              "    <tr>\n",
              "      <th>Стоматология1_НП6_Значение</th>\n",
              "      <td>163</td>\n",
              "      <td>9</td>\n",
              "      <td>object</td>\n",
              "    </tr>\n",
              "    <tr>\n",
              "      <th>Стоматология1_НП6_ЗначениеПредставление</th>\n",
              "      <td>163</td>\n",
              "      <td>9</td>\n",
              "      <td>object</td>\n",
              "    </tr>\n",
              "    <tr>\n",
              "      <th>Стоматология1_НП7_Значение</th>\n",
              "      <td>147</td>\n",
              "      <td>10</td>\n",
              "      <td>object</td>\n",
              "    </tr>\n",
              "    <tr>\n",
              "      <th>Стоматология1_НП7_ЗначениеПредставление</th>\n",
              "      <td>147</td>\n",
              "      <td>10</td>\n",
              "      <td>object</td>\n",
              "    </tr>\n",
              "    <tr>\n",
              "      <th>Стоматология1_ВЛ8_Значение</th>\n",
              "      <td>119</td>\n",
              "      <td>8</td>\n",
              "      <td>object</td>\n",
              "    </tr>\n",
              "    <tr>\n",
              "      <th>Стоматология1_ВЛ8_ЗначениеПредставление</th>\n",
              "      <td>119</td>\n",
              "      <td>8</td>\n",
              "      <td>object</td>\n",
              "    </tr>\n",
              "    <tr>\n",
              "      <th>Стоматология1_ВП8_Значение</th>\n",
              "      <td>130</td>\n",
              "      <td>7</td>\n",
              "      <td>object</td>\n",
              "    </tr>\n",
              "    <tr>\n",
              "      <th>Стоматология1_ВП8_ЗначениеПредставление</th>\n",
              "      <td>130</td>\n",
              "      <td>7</td>\n",
              "      <td>object</td>\n",
              "    </tr>\n",
              "    <tr>\n",
              "      <th>Стоматология1_НЛ8_Значение</th>\n",
              "      <td>169</td>\n",
              "      <td>8</td>\n",
              "      <td>object</td>\n",
              "    </tr>\n",
              "    <tr>\n",
              "      <th>Стоматология1_НЛ8_ЗначениеПредставление</th>\n",
              "      <td>169</td>\n",
              "      <td>8</td>\n",
              "      <td>object</td>\n",
              "    </tr>\n",
              "    <tr>\n",
              "      <th>Стоматология1_НП8_Значение</th>\n",
              "      <td>144</td>\n",
              "      <td>10</td>\n",
              "      <td>object</td>\n",
              "    </tr>\n",
              "    <tr>\n",
              "      <th>Стоматология1_НП8_ЗначениеПредставление</th>\n",
              "      <td>144</td>\n",
              "      <td>10</td>\n",
              "      <td>object</td>\n",
              "    </tr>\n",
              "    <tr>\n",
              "      <th>Стоматология1_ВП6_Значение</th>\n",
              "      <td>147</td>\n",
              "      <td>10</td>\n",
              "      <td>object</td>\n",
              "    </tr>\n",
              "    <tr>\n",
              "      <th>Стоматология1_ВП6_ЗначениеПредставление</th>\n",
              "      <td>147</td>\n",
              "      <td>10</td>\n",
              "      <td>object</td>\n",
              "    </tr>\n",
              "    <tr>\n",
              "      <th>Стоматология1_ВП7_Значение</th>\n",
              "      <td>116</td>\n",
              "      <td>8</td>\n",
              "      <td>object</td>\n",
              "    </tr>\n",
              "    <tr>\n",
              "      <th>Стоматология1_ВП7_ЗначениеПредставление</th>\n",
              "      <td>116</td>\n",
              "      <td>8</td>\n",
              "      <td>object</td>\n",
              "    </tr>\n",
              "    <tr>\n",
              "      <th>Стоматология1_ВЛ4_Значение</th>\n",
              "      <td>68</td>\n",
              "      <td>9</td>\n",
              "      <td>object</td>\n",
              "    </tr>\n",
              "    <tr>\n",
              "      <th>Стоматология1_ВЛ4_ЗначениеПредставление</th>\n",
              "      <td>68</td>\n",
              "      <td>9</td>\n",
              "      <td>object</td>\n",
              "    </tr>\n",
              "    <tr>\n",
              "      <th>Стоматология1_ВП4_Значение</th>\n",
              "      <td>70</td>\n",
              "      <td>8</td>\n",
              "      <td>object</td>\n",
              "    </tr>\n",
              "    <tr>\n",
              "      <th>Стоматология1_ВП4_ЗначениеПредставление</th>\n",
              "      <td>70</td>\n",
              "      <td>8</td>\n",
              "      <td>object</td>\n",
              "    </tr>\n",
              "    <tr>\n",
              "      <th>Стоматология1_ВП5_Значение</th>\n",
              "      <td>118</td>\n",
              "      <td>7</td>\n",
              "      <td>object</td>\n",
              "    </tr>\n",
              "    <tr>\n",
              "      <th>Стоматология1_ВП5_ЗначениеПредставление</th>\n",
              "      <td>118</td>\n",
              "      <td>7</td>\n",
              "      <td>object</td>\n",
              "    </tr>\n",
              "    <tr>\n",
              "      <th>Стоматология1_ВЛ3_Значение</th>\n",
              "      <td>31</td>\n",
              "      <td>5</td>\n",
              "      <td>object</td>\n",
              "    </tr>\n",
              "    <tr>\n",
              "      <th>Стоматология1_ВЛ3_ЗначениеПредставление</th>\n",
              "      <td>31</td>\n",
              "      <td>5</td>\n",
              "      <td>object</td>\n",
              "    </tr>\n",
              "    <tr>\n",
              "      <th>Стоматология1_ВЛ2_Значение</th>\n",
              "      <td>37</td>\n",
              "      <td>8</td>\n",
              "      <td>object</td>\n",
              "    </tr>\n",
              "    <tr>\n",
              "      <th>Стоматология1_ВЛ2_ЗначениеПредставление</th>\n",
              "      <td>37</td>\n",
              "      <td>8</td>\n",
              "      <td>object</td>\n",
              "    </tr>\n",
              "    <tr>\n",
              "      <th>Стоматология1_ВЛ1_Значение</th>\n",
              "      <td>43</td>\n",
              "      <td>9</td>\n",
              "      <td>object</td>\n",
              "    </tr>\n",
              "    <tr>\n",
              "      <th>Стоматология1_ВЛ1_ЗначениеПредставление</th>\n",
              "      <td>43</td>\n",
              "      <td>9</td>\n",
              "      <td>object</td>\n",
              "    </tr>\n",
              "    <tr>\n",
              "      <th>Стоматология1_ВП1_Значение</th>\n",
              "      <td>47</td>\n",
              "      <td>9</td>\n",
              "      <td>object</td>\n",
              "    </tr>\n",
              "    <tr>\n",
              "      <th>Стоматология1_ВП1_ЗначениеПредставление</th>\n",
              "      <td>47</td>\n",
              "      <td>9</td>\n",
              "      <td>object</td>\n",
              "    </tr>\n",
              "    <tr>\n",
              "      <th>Стоматология2_МКБ101</th>\n",
              "      <td>38</td>\n",
              "      <td>2</td>\n",
              "      <td>object</td>\n",
              "    </tr>\n",
              "    <tr>\n",
              "      <th>Стоматология2_ДиагнозПредставление1</th>\n",
              "      <td>38</td>\n",
              "      <td>2</td>\n",
              "      <td>object</td>\n",
              "    </tr>\n",
              "    <tr>\n",
              "      <th>Стоматология2_Диагноз_Значение</th>\n",
              "      <td>43</td>\n",
              "      <td>4</td>\n",
              "      <td>object</td>\n",
              "    </tr>\n",
              "    <tr>\n",
              "      <th>Стоматология2_Диагноз_ЗначениеПредставление</th>\n",
              "      <td>43</td>\n",
              "      <td>4</td>\n",
              "      <td>object</td>\n",
              "    </tr>\n",
              "    <tr>\n",
              "      <th>Стоматология2_ПолостьРта_Значение</th>\n",
              "      <td>44</td>\n",
              "      <td>2</td>\n",
              "      <td>object</td>\n",
              "    </tr>\n",
              "    <tr>\n",
              "      <th>Стоматология2_ПолостьРта_ЗначениеПредставление</th>\n",
              "      <td>44</td>\n",
              "      <td>2</td>\n",
              "      <td>object</td>\n",
              "    </tr>\n",
              "    <tr>\n",
              "      <th>Стоматология1_МКБ102</th>\n",
              "      <td>38</td>\n",
              "      <td>2</td>\n",
              "      <td>object</td>\n",
              "    </tr>\n",
              "    <tr>\n",
              "      <th>Стоматология1_ДиагнозПредставление2</th>\n",
              "      <td>38</td>\n",
              "      <td>2</td>\n",
              "      <td>object</td>\n",
              "    </tr>\n",
              "  </tbody>\n",
              "</table>\n",
              "</div>\n",
              "      <button class=\"colab-df-convert\" onclick=\"convertToInteractive('df-371656de-7c53-4cc6-9012-e8cc567d5a1b')\"\n",
              "              title=\"Convert this dataframe to an interactive table.\"\n",
              "              style=\"display:none;\">\n",
              "        \n",
              "  <svg xmlns=\"http://www.w3.org/2000/svg\" height=\"24px\"viewBox=\"0 0 24 24\"\n",
              "       width=\"24px\">\n",
              "    <path d=\"M0 0h24v24H0V0z\" fill=\"none\"/>\n",
              "    <path d=\"M18.56 5.44l.94 2.06.94-2.06 2.06-.94-2.06-.94-.94-2.06-.94 2.06-2.06.94zm-11 1L8.5 8.5l.94-2.06 2.06-.94-2.06-.94L8.5 2.5l-.94 2.06-2.06.94zm10 10l.94 2.06.94-2.06 2.06-.94-2.06-.94-.94-2.06-.94 2.06-2.06.94z\"/><path d=\"M17.41 7.96l-1.37-1.37c-.4-.4-.92-.59-1.43-.59-.52 0-1.04.2-1.43.59L10.3 9.45l-7.72 7.72c-.78.78-.78 2.05 0 2.83L4 21.41c.39.39.9.59 1.41.59.51 0 1.02-.2 1.41-.59l7.78-7.78 2.81-2.81c.8-.78.8-2.07 0-2.86zM5.41 20L4 18.59l7.72-7.72 1.47 1.35L5.41 20z\"/>\n",
              "  </svg>\n",
              "      </button>\n",
              "      \n",
              "  <style>\n",
              "    .colab-df-container {\n",
              "      display:flex;\n",
              "      flex-wrap:wrap;\n",
              "      gap: 12px;\n",
              "    }\n",
              "\n",
              "    .colab-df-convert {\n",
              "      background-color: #E8F0FE;\n",
              "      border: none;\n",
              "      border-radius: 50%;\n",
              "      cursor: pointer;\n",
              "      display: none;\n",
              "      fill: #1967D2;\n",
              "      height: 32px;\n",
              "      padding: 0 0 0 0;\n",
              "      width: 32px;\n",
              "    }\n",
              "\n",
              "    .colab-df-convert:hover {\n",
              "      background-color: #E2EBFA;\n",
              "      box-shadow: 0px 1px 2px rgba(60, 64, 67, 0.3), 0px 1px 3px 1px rgba(60, 64, 67, 0.15);\n",
              "      fill: #174EA6;\n",
              "    }\n",
              "\n",
              "    [theme=dark] .colab-df-convert {\n",
              "      background-color: #3B4455;\n",
              "      fill: #D2E3FC;\n",
              "    }\n",
              "\n",
              "    [theme=dark] .colab-df-convert:hover {\n",
              "      background-color: #434B5C;\n",
              "      box-shadow: 0px 1px 3px 1px rgba(0, 0, 0, 0.15);\n",
              "      filter: drop-shadow(0px 1px 2px rgba(0, 0, 0, 0.3));\n",
              "      fill: #FFFFFF;\n",
              "    }\n",
              "  </style>\n",
              "\n",
              "      <script>\n",
              "        const buttonEl =\n",
              "          document.querySelector('#df-371656de-7c53-4cc6-9012-e8cc567d5a1b button.colab-df-convert');\n",
              "        buttonEl.style.display =\n",
              "          google.colab.kernel.accessAllowed ? 'block' : 'none';\n",
              "\n",
              "        async function convertToInteractive(key) {\n",
              "          const element = document.querySelector('#df-371656de-7c53-4cc6-9012-e8cc567d5a1b');\n",
              "          const dataTable =\n",
              "            await google.colab.kernel.invokeFunction('convertToInteractive',\n",
              "                                                     [key], {});\n",
              "          if (!dataTable) return;\n",
              "\n",
              "          const docLinkHtml = 'Like what you see? Visit the ' +\n",
              "            '<a target=\"_blank\" href=https://colab.research.google.com/notebooks/data_table.ipynb>data table notebook</a>'\n",
              "            + ' to learn more about interactive tables.';\n",
              "          element.innerHTML = '';\n",
              "          dataTable['output_type'] = 'display_data';\n",
              "          await google.colab.output.renderOutput(dataTable, element);\n",
              "          const docLink = document.createElement('div');\n",
              "          docLink.innerHTML = docLinkHtml;\n",
              "          element.appendChild(docLink);\n",
              "        }\n",
              "      </script>\n",
              "    </div>\n",
              "  </div>\n",
              "  "
            ]
          },
          "metadata": {},
          "execution_count": 69
        }
      ]
    },
    {
      "cell_type": "markdown",
      "source": [
        "Колонки \"Стоматология\":\n",
        "\n",
        "'Стоматология1_ДиагнозПредставление1', 'Стоматология1_ХР_Рекомендация1Представление'"
      ],
      "metadata": {
        "id": "fQ8AZ9zxvYcq"
      }
    },
    {
      "cell_type": "code",
      "source": [
        "print(df_cor['Стоматология1_ХР_Рекомендация1Представление'].count())\n",
        "df_cor['Стоматология1_ХР_Рекомендация1Представление'].value_counts()"
      ],
      "metadata": {
        "colab": {
          "base_uri": "https://localhost:8080/"
        },
        "id": "NSvviAlOvfH4",
        "outputId": "58fc41e4-9dff-44f7-bda3-fa197c99731c"
      },
      "execution_count": null,
      "outputs": [
        {
          "output_type": "stream",
          "name": "stdout",
          "text": [
            "84\n"
          ]
        },
        {
          "output_type": "execute_result",
          "data": {
            "text/plain": [
              "Консультация стоматолога-хирурга       54\n",
              "Санация полости рта                    24\n",
              "Снятие зубных отложений                 5\n",
              "Профессинальная гигиена полости рта     1\n",
              "Name: Стоматология1_ХР_Рекомендация1Представление, dtype: int64"
            ]
          },
          "metadata": {},
          "execution_count": 68
        }
      ]
    },
    {
      "cell_type": "code",
      "source": [
        "col_to_cnc = ['Стоматология1_Диагноз_ЗначениеПредставление','Стоматология2_ДиагнозПредставление1','Стоматология2_Диагноз_ЗначениеПредставление',\n",
        "              'Стоматология1_ДиагнозПредставление2']\n",
        "col_concat('Стоматология1_ДиагнозПредставление1',col_to_cnc)"
      ],
      "metadata": {
        "colab": {
          "base_uri": "https://localhost:8080/"
        },
        "id": "bUwd1KV8vk1Y",
        "outputId": "6ab3ff5f-751a-420a-b2c7-223ec9b79836"
      },
      "execution_count": null,
      "outputs": [
        {
          "output_type": "stream",
          "name": "stdout",
          "text": [
            "Стоматология1_ДиагнозПредставление1 было заполнено - 321\n",
            "Стоматология1_ДиагнозПредставление1 стало - 546\n",
            "Стоматология1_ДиагнозПредставление1 было заполнено - 546\n",
            "Стоматология1_ДиагнозПредставление1 стало - 547\n",
            "Стоматология1_ДиагнозПредставление1 было заполнено - 547\n",
            "Стоматология1_ДиагнозПредставление1 стало - 548\n",
            "Стоматология1_ДиагнозПредставление1 было заполнено - 548\n",
            "Стоматология1_ДиагнозПредставление1 стало - 548\n"
          ]
        }
      ]
    },
    {
      "cell_type": "code",
      "source": [
        "df_cor.to_csv('/content/drive/MyDrive/profpatolog/df_cor__sto.csv', index=False)"
      ],
      "metadata": {
        "id": "27o4jSvEvlmv"
      },
      "execution_count": null,
      "outputs": []
    },
    {
      "cell_type": "markdown",
      "source": [
        "## Раздел \"Хирургия\""
      ],
      "metadata": {
        "id": "3UxtHaA-xcyb"
      }
    },
    {
      "cell_type": "code",
      "source": [
        "df_cor = pd.read_csv('/content/drive/MyDrive/profpatolog/df_cor__sto.csv')\n",
        "df_cor.shape"
      ],
      "metadata": {
        "colab": {
          "base_uri": "https://localhost:8080/"
        },
        "id": "nnGOFHosxndL",
        "outputId": "4d60db1d-70d0-482e-a27a-384b255e4ebd"
      },
      "execution_count": null,
      "outputs": [
        {
          "output_type": "stream",
          "name": "stderr",
          "text": [
            "<ipython-input-71-d1313339ba1b>:1: DtypeWarning: Columns (91,92,101,102,141,251,252,255,256,260,302,314,315,343,344,353,354,355,356,357,358,369,370,423,424,507,508,525,526,527,528,611,612,623,624) have mixed types. Specify dtype option on import or set low_memory=False.\n",
            "  df_cor = pd.read_csv('/content/drive/MyDrive/profpatolog/df_cor__sto.csv')\n"
          ]
        },
        {
          "output_type": "execute_result",
          "data": {
            "text/plain": [
              "(1571, 631)"
            ]
          },
          "metadata": {},
          "execution_count": 71
        }
      ]
    },
    {
      "cell_type": "code",
      "source": [
        "counts = df_cor[col_hir].count(axis=0)\n",
        "uniques = df_cor[col_hir].nunique(axis=0)\n",
        "types = df_cor[col_hir].dtypes\n",
        "df_x = pd.concat([counts.to_frame(name='count'), uniques.to_frame(name='unique'), types.to_frame(name='type')], axis= 1 )"
      ],
      "metadata": {
        "id": "qqnFGoC2xrtT"
      },
      "execution_count": null,
      "outputs": []
    },
    {
      "cell_type": "code",
      "source": [
        "df_x"
      ],
      "metadata": {
        "colab": {
          "base_uri": "https://localhost:8080/",
          "height": 677
        },
        "id": "zI-fh-Wax8PO",
        "outputId": "2b46816c-3fd3-471a-833f-0e1ad0333359"
      },
      "execution_count": null,
      "outputs": [
        {
          "output_type": "execute_result",
          "data": {
            "text/plain": [
              "                                                    count  unique    type\n",
              "Хирургия1_МКБ101                                      785       4  object\n",
              "Хирургия1_ДиагнозПредставление1                       785       4  object\n",
              "Хирургия1_ПрофнепригодностьВременная1                 785       4  object\n",
              "Хирургия1_ПрофнепригодностьВременнаяПредставление1    785       4  object\n",
              "Хирургия1_Диагноз_Значение                            781       4  object\n",
              "Хирургия1_Диагноз_ЗначениеПредставление               781       4  object\n",
              "Хирургия2_МКБ101                                       82       2  object\n",
              "Хирургия2_ДиагнозПредставление1                        82       2  object\n",
              "Хирургия2_ПрофнепригодностьВременная1                  82       2  object\n",
              "Хирургия2_ПрофнепригодностьВременнаяПредставление1     82       2  object\n",
              "Хирургия2_Диагноз_Значение                             83       2  object\n",
              "Хирургия2_Диагноз_ЗначениеПредставление                83       2  object\n",
              "Хирургия1_МКБ102                                       54       2  object\n",
              "Хирургия1_ДиагнозПредставление2                        54       2  object\n",
              "Хирургия1_ПрофнепригодностьВременная2                  54       2  object\n",
              "Хирургия1_ПрофнепригодностьВременнаяПредставление2     54       2  object\n",
              "Хирургия2_МКБ102                                       54       2  object\n",
              "Хирургия2_ДиагнозПредставление2                        54       2  object\n",
              "Хирургия2_ПрофнепригодностьВременная2                  54       2  object\n",
              "Хирургия2_ПрофнепригодностьВременнаяПредставление2     54       2  object"
            ],
            "text/html": [
              "\n",
              "  <div id=\"df-e7ba1e11-9c84-4f7d-b558-c75238fb552d\">\n",
              "    <div class=\"colab-df-container\">\n",
              "      <div>\n",
              "<style scoped>\n",
              "    .dataframe tbody tr th:only-of-type {\n",
              "        vertical-align: middle;\n",
              "    }\n",
              "\n",
              "    .dataframe tbody tr th {\n",
              "        vertical-align: top;\n",
              "    }\n",
              "\n",
              "    .dataframe thead th {\n",
              "        text-align: right;\n",
              "    }\n",
              "</style>\n",
              "<table border=\"1\" class=\"dataframe\">\n",
              "  <thead>\n",
              "    <tr style=\"text-align: right;\">\n",
              "      <th></th>\n",
              "      <th>count</th>\n",
              "      <th>unique</th>\n",
              "      <th>type</th>\n",
              "    </tr>\n",
              "  </thead>\n",
              "  <tbody>\n",
              "    <tr>\n",
              "      <th>Хирургия1_МКБ101</th>\n",
              "      <td>785</td>\n",
              "      <td>4</td>\n",
              "      <td>object</td>\n",
              "    </tr>\n",
              "    <tr>\n",
              "      <th>Хирургия1_ДиагнозПредставление1</th>\n",
              "      <td>785</td>\n",
              "      <td>4</td>\n",
              "      <td>object</td>\n",
              "    </tr>\n",
              "    <tr>\n",
              "      <th>Хирургия1_ПрофнепригодностьВременная1</th>\n",
              "      <td>785</td>\n",
              "      <td>4</td>\n",
              "      <td>object</td>\n",
              "    </tr>\n",
              "    <tr>\n",
              "      <th>Хирургия1_ПрофнепригодностьВременнаяПредставление1</th>\n",
              "      <td>785</td>\n",
              "      <td>4</td>\n",
              "      <td>object</td>\n",
              "    </tr>\n",
              "    <tr>\n",
              "      <th>Хирургия1_Диагноз_Значение</th>\n",
              "      <td>781</td>\n",
              "      <td>4</td>\n",
              "      <td>object</td>\n",
              "    </tr>\n",
              "    <tr>\n",
              "      <th>Хирургия1_Диагноз_ЗначениеПредставление</th>\n",
              "      <td>781</td>\n",
              "      <td>4</td>\n",
              "      <td>object</td>\n",
              "    </tr>\n",
              "    <tr>\n",
              "      <th>Хирургия2_МКБ101</th>\n",
              "      <td>82</td>\n",
              "      <td>2</td>\n",
              "      <td>object</td>\n",
              "    </tr>\n",
              "    <tr>\n",
              "      <th>Хирургия2_ДиагнозПредставление1</th>\n",
              "      <td>82</td>\n",
              "      <td>2</td>\n",
              "      <td>object</td>\n",
              "    </tr>\n",
              "    <tr>\n",
              "      <th>Хирургия2_ПрофнепригодностьВременная1</th>\n",
              "      <td>82</td>\n",
              "      <td>2</td>\n",
              "      <td>object</td>\n",
              "    </tr>\n",
              "    <tr>\n",
              "      <th>Хирургия2_ПрофнепригодностьВременнаяПредставление1</th>\n",
              "      <td>82</td>\n",
              "      <td>2</td>\n",
              "      <td>object</td>\n",
              "    </tr>\n",
              "    <tr>\n",
              "      <th>Хирургия2_Диагноз_Значение</th>\n",
              "      <td>83</td>\n",
              "      <td>2</td>\n",
              "      <td>object</td>\n",
              "    </tr>\n",
              "    <tr>\n",
              "      <th>Хирургия2_Диагноз_ЗначениеПредставление</th>\n",
              "      <td>83</td>\n",
              "      <td>2</td>\n",
              "      <td>object</td>\n",
              "    </tr>\n",
              "    <tr>\n",
              "      <th>Хирургия1_МКБ102</th>\n",
              "      <td>54</td>\n",
              "      <td>2</td>\n",
              "      <td>object</td>\n",
              "    </tr>\n",
              "    <tr>\n",
              "      <th>Хирургия1_ДиагнозПредставление2</th>\n",
              "      <td>54</td>\n",
              "      <td>2</td>\n",
              "      <td>object</td>\n",
              "    </tr>\n",
              "    <tr>\n",
              "      <th>Хирургия1_ПрофнепригодностьВременная2</th>\n",
              "      <td>54</td>\n",
              "      <td>2</td>\n",
              "      <td>object</td>\n",
              "    </tr>\n",
              "    <tr>\n",
              "      <th>Хирургия1_ПрофнепригодностьВременнаяПредставление2</th>\n",
              "      <td>54</td>\n",
              "      <td>2</td>\n",
              "      <td>object</td>\n",
              "    </tr>\n",
              "    <tr>\n",
              "      <th>Хирургия2_МКБ102</th>\n",
              "      <td>54</td>\n",
              "      <td>2</td>\n",
              "      <td>object</td>\n",
              "    </tr>\n",
              "    <tr>\n",
              "      <th>Хирургия2_ДиагнозПредставление2</th>\n",
              "      <td>54</td>\n",
              "      <td>2</td>\n",
              "      <td>object</td>\n",
              "    </tr>\n",
              "    <tr>\n",
              "      <th>Хирургия2_ПрофнепригодностьВременная2</th>\n",
              "      <td>54</td>\n",
              "      <td>2</td>\n",
              "      <td>object</td>\n",
              "    </tr>\n",
              "    <tr>\n",
              "      <th>Хирургия2_ПрофнепригодностьВременнаяПредставление2</th>\n",
              "      <td>54</td>\n",
              "      <td>2</td>\n",
              "      <td>object</td>\n",
              "    </tr>\n",
              "  </tbody>\n",
              "</table>\n",
              "</div>\n",
              "      <button class=\"colab-df-convert\" onclick=\"convertToInteractive('df-e7ba1e11-9c84-4f7d-b558-c75238fb552d')\"\n",
              "              title=\"Convert this dataframe to an interactive table.\"\n",
              "              style=\"display:none;\">\n",
              "        \n",
              "  <svg xmlns=\"http://www.w3.org/2000/svg\" height=\"24px\"viewBox=\"0 0 24 24\"\n",
              "       width=\"24px\">\n",
              "    <path d=\"M0 0h24v24H0V0z\" fill=\"none\"/>\n",
              "    <path d=\"M18.56 5.44l.94 2.06.94-2.06 2.06-.94-2.06-.94-.94-2.06-.94 2.06-2.06.94zm-11 1L8.5 8.5l.94-2.06 2.06-.94-2.06-.94L8.5 2.5l-.94 2.06-2.06.94zm10 10l.94 2.06.94-2.06 2.06-.94-2.06-.94-.94-2.06-.94 2.06-2.06.94z\"/><path d=\"M17.41 7.96l-1.37-1.37c-.4-.4-.92-.59-1.43-.59-.52 0-1.04.2-1.43.59L10.3 9.45l-7.72 7.72c-.78.78-.78 2.05 0 2.83L4 21.41c.39.39.9.59 1.41.59.51 0 1.02-.2 1.41-.59l7.78-7.78 2.81-2.81c.8-.78.8-2.07 0-2.86zM5.41 20L4 18.59l7.72-7.72 1.47 1.35L5.41 20z\"/>\n",
              "  </svg>\n",
              "      </button>\n",
              "      \n",
              "  <style>\n",
              "    .colab-df-container {\n",
              "      display:flex;\n",
              "      flex-wrap:wrap;\n",
              "      gap: 12px;\n",
              "    }\n",
              "\n",
              "    .colab-df-convert {\n",
              "      background-color: #E8F0FE;\n",
              "      border: none;\n",
              "      border-radius: 50%;\n",
              "      cursor: pointer;\n",
              "      display: none;\n",
              "      fill: #1967D2;\n",
              "      height: 32px;\n",
              "      padding: 0 0 0 0;\n",
              "      width: 32px;\n",
              "    }\n",
              "\n",
              "    .colab-df-convert:hover {\n",
              "      background-color: #E2EBFA;\n",
              "      box-shadow: 0px 1px 2px rgba(60, 64, 67, 0.3), 0px 1px 3px 1px rgba(60, 64, 67, 0.15);\n",
              "      fill: #174EA6;\n",
              "    }\n",
              "\n",
              "    [theme=dark] .colab-df-convert {\n",
              "      background-color: #3B4455;\n",
              "      fill: #D2E3FC;\n",
              "    }\n",
              "\n",
              "    [theme=dark] .colab-df-convert:hover {\n",
              "      background-color: #434B5C;\n",
              "      box-shadow: 0px 1px 3px 1px rgba(0, 0, 0, 0.15);\n",
              "      filter: drop-shadow(0px 1px 2px rgba(0, 0, 0, 0.3));\n",
              "      fill: #FFFFFF;\n",
              "    }\n",
              "  </style>\n",
              "\n",
              "      <script>\n",
              "        const buttonEl =\n",
              "          document.querySelector('#df-e7ba1e11-9c84-4f7d-b558-c75238fb552d button.colab-df-convert');\n",
              "        buttonEl.style.display =\n",
              "          google.colab.kernel.accessAllowed ? 'block' : 'none';\n",
              "\n",
              "        async function convertToInteractive(key) {\n",
              "          const element = document.querySelector('#df-e7ba1e11-9c84-4f7d-b558-c75238fb552d');\n",
              "          const dataTable =\n",
              "            await google.colab.kernel.invokeFunction('convertToInteractive',\n",
              "                                                     [key], {});\n",
              "          if (!dataTable) return;\n",
              "\n",
              "          const docLinkHtml = 'Like what you see? Visit the ' +\n",
              "            '<a target=\"_blank\" href=https://colab.research.google.com/notebooks/data_table.ipynb>data table notebook</a>'\n",
              "            + ' to learn more about interactive tables.';\n",
              "          element.innerHTML = '';\n",
              "          dataTable['output_type'] = 'display_data';\n",
              "          await google.colab.output.renderOutput(dataTable, element);\n",
              "          const docLink = document.createElement('div');\n",
              "          docLink.innerHTML = docLinkHtml;\n",
              "          element.appendChild(docLink);\n",
              "        }\n",
              "      </script>\n",
              "    </div>\n",
              "  </div>\n",
              "  "
            ]
          },
          "metadata": {},
          "execution_count": 73
        }
      ]
    },
    {
      "cell_type": "markdown",
      "source": [
        "Колонки \"Хирургия\":\n",
        "\n",
        "'Хирургия1_ДиагнозПредставление1', 'Хирургия1_ПрофнепригодностьВременнаяПредставление1', "
      ],
      "metadata": {
        "id": "DjfL6MwXx-F8"
      }
    },
    {
      "cell_type": "code",
      "source": [
        "print(df_cor['Хирургия2_ПрофнепригодностьВременнаяПредставление2'].count())\n",
        "df_cor['Хирургия2_ПрофнепригодностьВременнаяПредставление2'].value_counts()"
      ],
      "metadata": {
        "colab": {
          "base_uri": "https://localhost:8080/"
        },
        "id": "l6LpCXfnyEUc",
        "outputId": "8d13039c-8728-4879-c89e-570bdeee5e6c"
      },
      "execution_count": null,
      "outputs": [
        {
          "output_type": "stream",
          "name": "stdout",
          "text": [
            "54\n"
          ]
        },
        {
          "output_type": "execute_result",
          "data": {
            "text/plain": [
              "Годен                52\n",
              "Временно не годен     2\n",
              "Name: Хирургия2_ПрофнепригодностьВременнаяПредставление2, dtype: int64"
            ]
          },
          "metadata": {},
          "execution_count": 84
        }
      ]
    },
    {
      "cell_type": "code",
      "source": [
        "col_to_cnc = ['Хирургия2_ПрофнепригодностьВременнаяПредставление1','Хирургия1_ПрофнепригодностьВременнаяПредставление2','Хирургия2_ПрофнепригодностьВременнаяПредставление2']\n",
        "col_concat('Хирургия1_ПрофнепригодностьВременнаяПредставление1',col_to_cnc)"
      ],
      "metadata": {
        "colab": {
          "base_uri": "https://localhost:8080/"
        },
        "id": "Ymb9DMTgyLmt",
        "outputId": "49ed5f81-6ef3-4d82-b38f-3dbe6e0cf1a7"
      },
      "execution_count": null,
      "outputs": [
        {
          "output_type": "stream",
          "name": "stdout",
          "text": [
            "Хирургия1_ПрофнепригодностьВременнаяПредставление1 было заполнено - 785\n",
            "Хирургия1_ПрофнепригодностьВременнаяПредставление1 стало - 786\n",
            "Хирургия1_ПрофнепригодностьВременнаяПредставление1 было заполнено - 786\n",
            "Хирургия1_ПрофнепригодностьВременнаяПредставление1 стало - 786\n",
            "Хирургия1_ПрофнепригодностьВременнаяПредставление1 было заполнено - 786\n",
            "Хирургия1_ПрофнепригодностьВременнаяПредставление1 стало - 786\n"
          ]
        }
      ]
    },
    {
      "cell_type": "code",
      "source": [
        "df_cor.to_csv('/content/drive/MyDrive/profpatolog/df_cor__hir.csv', index=False)"
      ],
      "metadata": {
        "id": "8GWCBEx4yW_U"
      },
      "execution_count": null,
      "outputs": []
    },
    {
      "cell_type": "markdown",
      "source": [
        "## Раздел \"Неврология\""
      ],
      "metadata": {
        "id": "OGBGqOBDzu4Y"
      }
    },
    {
      "cell_type": "code",
      "source": [
        "df_cor = pd.read_csv('/content/drive/MyDrive/profpatolog/df_cor__hir.csv')\n",
        "df_cor.shape"
      ],
      "metadata": {
        "colab": {
          "base_uri": "https://localhost:8080/"
        },
        "id": "JJ0DhoY50ISG",
        "outputId": "2efe2c2e-8a09-4726-976b-f852edf8547e"
      },
      "execution_count": null,
      "outputs": [
        {
          "output_type": "stream",
          "name": "stderr",
          "text": [
            "<ipython-input-109-49bf4f3bb524>:1: DtypeWarning: Columns (91,92,101,102,141,251,252,255,256,260,302,314,315,343,344,353,354,355,356,357,358,369,370,423,424,507,508,525,526,527,528,611,612,623,624) have mixed types. Specify dtype option on import or set low_memory=False.\n",
            "  df_cor = pd.read_csv('/content/drive/MyDrive/profpatolog/df_cor__hir.csv')\n"
          ]
        },
        {
          "output_type": "execute_result",
          "data": {
            "text/plain": [
              "(1571, 631)"
            ]
          },
          "metadata": {},
          "execution_count": 109
        }
      ]
    },
    {
      "cell_type": "code",
      "source": [
        "counts = df_cor[col_nvr].count(axis=0)\n",
        "uniques = df_cor[col_nvr].nunique(axis=0)\n",
        "types = df_cor[col_nvr].dtypes\n",
        "df_x = pd.concat([counts.to_frame(name='count'), uniques.to_frame(name='unique'), types.to_frame(name='type')], axis= 1 )"
      ],
      "metadata": {
        "id": "kAsmZ3Ic0RMo"
      },
      "execution_count": null,
      "outputs": []
    },
    {
      "cell_type": "code",
      "source": [
        "df_x"
      ],
      "metadata": {
        "colab": {
          "base_uri": "https://localhost:8080/",
          "height": 1000
        },
        "id": "g--cO7BQ0ZEI",
        "outputId": "b412f167-7227-4e78-adfb-2a547e593875"
      },
      "execution_count": null,
      "outputs": [
        {
          "output_type": "execute_result",
          "data": {
            "text/plain": [
              "                                                    count  unique     type\n",
              "Неврология1_МКБ101                                   1355      11   object\n",
              "Неврология1_ДиагнозПредставление1                    1355      11   object\n",
              "Неврология1_ПрофнепригодностьВременная1              1354       3   object\n",
              "Неврология1_ПрофнепригодностьВременнаяПредставл...   1354       3   object\n",
              "Неврология1_ГоденНегоден_Значение                    1361       2   object\n",
              "Неврология1_ГоденНегоден_ЗначениеПредставление       1361       2   object\n",
              "Неврология1_Анамнез_Значение                         1361       2   object\n",
              "Неврология1_Анамнез_ЗначениеПредставление            1361       2   object\n",
              "Неврология1_ВПолномОбъеме_Значение                   1361       2  float64\n",
              "Неврология1_ВПолномОбъеме_ЗначениеПредставление      1361       2   object\n",
              "Неврология1_ОграниченоВниз_Значение                  1361       2  float64\n",
              "Неврология1_ОграниченоВниз_ЗначениеПредставление     1361       2   object\n",
              "Неврология1_Нет_Значение                             1361       2  float64\n",
              "Неврология1_Нет_ЗначениеПредставление                1361       2   object\n",
              "Неврология1_Горизонтальный_Значение                  1361       2  float64\n",
              "Неврология1_Горизонтальный_ЗначениеПредставление     1361       2   object\n",
              "Неврология1_D_Значение                               1361       3   object\n",
              "Неврология1_D_ЗначениеПредставление                  1361       3   object\n",
              "Неврология1_S_Значение                               1361       3   object\n",
              "Неврология1_S_ЗначениеПредставление                  1361       3   object\n",
              "Неврология1_Дермографизм_Значение                    1361       2   object\n",
              "Неврология1_Дермографизм_ЗначениеПредставление       1361       2   object\n",
              "Неврология1_ПатологическиеИМенингиальныеЗнаки_З...   1361       2   object\n",
              "Неврология1_ПатологическиеИМенингиальныеЗнаки_З...   1361       2   object\n",
              "Неврология1_Диагноз_Значение                         1345      11   object\n",
              "Неврология1_Диагноз_ЗначениеПредставление            1345      11   object\n",
              "Неврология2_МКБ101                                    128       2   object\n",
              "Неврология2_ДиагнозПредставление1                     128       2   object\n",
              "Неврология2_ВПолномОбъеме_Значение                    128       2  float64\n",
              "Неврология2_ВПолномОбъеме_ЗначениеПредставление       128       2   object\n",
              "Неврология2_Нет_Значение                              128       2  float64\n",
              "Неврология2_Нет_ЗначениеПредставление                 128       2   object\n",
              "Неврология2_Диагноз_Значение                          128       2   object\n",
              "Неврология2_Диагноз_ЗначениеПредставление             128       2   object\n",
              "Неврология1_OD_Значение                               391       4   object\n",
              "Неврология1_OD_ЗначениеПредставление                  391       4   object\n",
              "Неврология1_ГоденНегоденДополнение_Значение            15      11   object\n",
              "Неврология1_ГоденНегоденДополнение_ЗначениеПред...     15      11   object\n",
              "Неврология1_МКБ102                                    123       4   object\n",
              "Неврология1_ДиагнозПредставление2                     123       4   object"
            ],
            "text/html": [
              "\n",
              "  <div id=\"df-63159a74-d3e8-4751-9367-df4c48d0a056\">\n",
              "    <div class=\"colab-df-container\">\n",
              "      <div>\n",
              "<style scoped>\n",
              "    .dataframe tbody tr th:only-of-type {\n",
              "        vertical-align: middle;\n",
              "    }\n",
              "\n",
              "    .dataframe tbody tr th {\n",
              "        vertical-align: top;\n",
              "    }\n",
              "\n",
              "    .dataframe thead th {\n",
              "        text-align: right;\n",
              "    }\n",
              "</style>\n",
              "<table border=\"1\" class=\"dataframe\">\n",
              "  <thead>\n",
              "    <tr style=\"text-align: right;\">\n",
              "      <th></th>\n",
              "      <th>count</th>\n",
              "      <th>unique</th>\n",
              "      <th>type</th>\n",
              "    </tr>\n",
              "  </thead>\n",
              "  <tbody>\n",
              "    <tr>\n",
              "      <th>Неврология1_МКБ101</th>\n",
              "      <td>1355</td>\n",
              "      <td>11</td>\n",
              "      <td>object</td>\n",
              "    </tr>\n",
              "    <tr>\n",
              "      <th>Неврология1_ДиагнозПредставление1</th>\n",
              "      <td>1355</td>\n",
              "      <td>11</td>\n",
              "      <td>object</td>\n",
              "    </tr>\n",
              "    <tr>\n",
              "      <th>Неврология1_ПрофнепригодностьВременная1</th>\n",
              "      <td>1354</td>\n",
              "      <td>3</td>\n",
              "      <td>object</td>\n",
              "    </tr>\n",
              "    <tr>\n",
              "      <th>Неврология1_ПрофнепригодностьВременнаяПредставление1</th>\n",
              "      <td>1354</td>\n",
              "      <td>3</td>\n",
              "      <td>object</td>\n",
              "    </tr>\n",
              "    <tr>\n",
              "      <th>Неврология1_ГоденНегоден_Значение</th>\n",
              "      <td>1361</td>\n",
              "      <td>2</td>\n",
              "      <td>object</td>\n",
              "    </tr>\n",
              "    <tr>\n",
              "      <th>Неврология1_ГоденНегоден_ЗначениеПредставление</th>\n",
              "      <td>1361</td>\n",
              "      <td>2</td>\n",
              "      <td>object</td>\n",
              "    </tr>\n",
              "    <tr>\n",
              "      <th>Неврология1_Анамнез_Значение</th>\n",
              "      <td>1361</td>\n",
              "      <td>2</td>\n",
              "      <td>object</td>\n",
              "    </tr>\n",
              "    <tr>\n",
              "      <th>Неврология1_Анамнез_ЗначениеПредставление</th>\n",
              "      <td>1361</td>\n",
              "      <td>2</td>\n",
              "      <td>object</td>\n",
              "    </tr>\n",
              "    <tr>\n",
              "      <th>Неврология1_ВПолномОбъеме_Значение</th>\n",
              "      <td>1361</td>\n",
              "      <td>2</td>\n",
              "      <td>float64</td>\n",
              "    </tr>\n",
              "    <tr>\n",
              "      <th>Неврология1_ВПолномОбъеме_ЗначениеПредставление</th>\n",
              "      <td>1361</td>\n",
              "      <td>2</td>\n",
              "      <td>object</td>\n",
              "    </tr>\n",
              "    <tr>\n",
              "      <th>Неврология1_ОграниченоВниз_Значение</th>\n",
              "      <td>1361</td>\n",
              "      <td>2</td>\n",
              "      <td>float64</td>\n",
              "    </tr>\n",
              "    <tr>\n",
              "      <th>Неврология1_ОграниченоВниз_ЗначениеПредставление</th>\n",
              "      <td>1361</td>\n",
              "      <td>2</td>\n",
              "      <td>object</td>\n",
              "    </tr>\n",
              "    <tr>\n",
              "      <th>Неврология1_Нет_Значение</th>\n",
              "      <td>1361</td>\n",
              "      <td>2</td>\n",
              "      <td>float64</td>\n",
              "    </tr>\n",
              "    <tr>\n",
              "      <th>Неврология1_Нет_ЗначениеПредставление</th>\n",
              "      <td>1361</td>\n",
              "      <td>2</td>\n",
              "      <td>object</td>\n",
              "    </tr>\n",
              "    <tr>\n",
              "      <th>Неврология1_Горизонтальный_Значение</th>\n",
              "      <td>1361</td>\n",
              "      <td>2</td>\n",
              "      <td>float64</td>\n",
              "    </tr>\n",
              "    <tr>\n",
              "      <th>Неврология1_Горизонтальный_ЗначениеПредставление</th>\n",
              "      <td>1361</td>\n",
              "      <td>2</td>\n",
              "      <td>object</td>\n",
              "    </tr>\n",
              "    <tr>\n",
              "      <th>Неврология1_D_Значение</th>\n",
              "      <td>1361</td>\n",
              "      <td>3</td>\n",
              "      <td>object</td>\n",
              "    </tr>\n",
              "    <tr>\n",
              "      <th>Неврология1_D_ЗначениеПредставление</th>\n",
              "      <td>1361</td>\n",
              "      <td>3</td>\n",
              "      <td>object</td>\n",
              "    </tr>\n",
              "    <tr>\n",
              "      <th>Неврология1_S_Значение</th>\n",
              "      <td>1361</td>\n",
              "      <td>3</td>\n",
              "      <td>object</td>\n",
              "    </tr>\n",
              "    <tr>\n",
              "      <th>Неврология1_S_ЗначениеПредставление</th>\n",
              "      <td>1361</td>\n",
              "      <td>3</td>\n",
              "      <td>object</td>\n",
              "    </tr>\n",
              "    <tr>\n",
              "      <th>Неврология1_Дермографизм_Значение</th>\n",
              "      <td>1361</td>\n",
              "      <td>2</td>\n",
              "      <td>object</td>\n",
              "    </tr>\n",
              "    <tr>\n",
              "      <th>Неврология1_Дермографизм_ЗначениеПредставление</th>\n",
              "      <td>1361</td>\n",
              "      <td>2</td>\n",
              "      <td>object</td>\n",
              "    </tr>\n",
              "    <tr>\n",
              "      <th>Неврология1_ПатологическиеИМенингиальныеЗнаки_Значение</th>\n",
              "      <td>1361</td>\n",
              "      <td>2</td>\n",
              "      <td>object</td>\n",
              "    </tr>\n",
              "    <tr>\n",
              "      <th>Неврология1_ПатологическиеИМенингиальныеЗнаки_ЗначениеПредставление</th>\n",
              "      <td>1361</td>\n",
              "      <td>2</td>\n",
              "      <td>object</td>\n",
              "    </tr>\n",
              "    <tr>\n",
              "      <th>Неврология1_Диагноз_Значение</th>\n",
              "      <td>1345</td>\n",
              "      <td>11</td>\n",
              "      <td>object</td>\n",
              "    </tr>\n",
              "    <tr>\n",
              "      <th>Неврология1_Диагноз_ЗначениеПредставление</th>\n",
              "      <td>1345</td>\n",
              "      <td>11</td>\n",
              "      <td>object</td>\n",
              "    </tr>\n",
              "    <tr>\n",
              "      <th>Неврология2_МКБ101</th>\n",
              "      <td>128</td>\n",
              "      <td>2</td>\n",
              "      <td>object</td>\n",
              "    </tr>\n",
              "    <tr>\n",
              "      <th>Неврология2_ДиагнозПредставление1</th>\n",
              "      <td>128</td>\n",
              "      <td>2</td>\n",
              "      <td>object</td>\n",
              "    </tr>\n",
              "    <tr>\n",
              "      <th>Неврология2_ВПолномОбъеме_Значение</th>\n",
              "      <td>128</td>\n",
              "      <td>2</td>\n",
              "      <td>float64</td>\n",
              "    </tr>\n",
              "    <tr>\n",
              "      <th>Неврология2_ВПолномОбъеме_ЗначениеПредставление</th>\n",
              "      <td>128</td>\n",
              "      <td>2</td>\n",
              "      <td>object</td>\n",
              "    </tr>\n",
              "    <tr>\n",
              "      <th>Неврология2_Нет_Значение</th>\n",
              "      <td>128</td>\n",
              "      <td>2</td>\n",
              "      <td>float64</td>\n",
              "    </tr>\n",
              "    <tr>\n",
              "      <th>Неврология2_Нет_ЗначениеПредставление</th>\n",
              "      <td>128</td>\n",
              "      <td>2</td>\n",
              "      <td>object</td>\n",
              "    </tr>\n",
              "    <tr>\n",
              "      <th>Неврология2_Диагноз_Значение</th>\n",
              "      <td>128</td>\n",
              "      <td>2</td>\n",
              "      <td>object</td>\n",
              "    </tr>\n",
              "    <tr>\n",
              "      <th>Неврология2_Диагноз_ЗначениеПредставление</th>\n",
              "      <td>128</td>\n",
              "      <td>2</td>\n",
              "      <td>object</td>\n",
              "    </tr>\n",
              "    <tr>\n",
              "      <th>Неврология1_OD_Значение</th>\n",
              "      <td>391</td>\n",
              "      <td>4</td>\n",
              "      <td>object</td>\n",
              "    </tr>\n",
              "    <tr>\n",
              "      <th>Неврология1_OD_ЗначениеПредставление</th>\n",
              "      <td>391</td>\n",
              "      <td>4</td>\n",
              "      <td>object</td>\n",
              "    </tr>\n",
              "    <tr>\n",
              "      <th>Неврология1_ГоденНегоденДополнение_Значение</th>\n",
              "      <td>15</td>\n",
              "      <td>11</td>\n",
              "      <td>object</td>\n",
              "    </tr>\n",
              "    <tr>\n",
              "      <th>Неврология1_ГоденНегоденДополнение_ЗначениеПредставление</th>\n",
              "      <td>15</td>\n",
              "      <td>11</td>\n",
              "      <td>object</td>\n",
              "    </tr>\n",
              "    <tr>\n",
              "      <th>Неврология1_МКБ102</th>\n",
              "      <td>123</td>\n",
              "      <td>4</td>\n",
              "      <td>object</td>\n",
              "    </tr>\n",
              "    <tr>\n",
              "      <th>Неврология1_ДиагнозПредставление2</th>\n",
              "      <td>123</td>\n",
              "      <td>4</td>\n",
              "      <td>object</td>\n",
              "    </tr>\n",
              "  </tbody>\n",
              "</table>\n",
              "</div>\n",
              "      <button class=\"colab-df-convert\" onclick=\"convertToInteractive('df-63159a74-d3e8-4751-9367-df4c48d0a056')\"\n",
              "              title=\"Convert this dataframe to an interactive table.\"\n",
              "              style=\"display:none;\">\n",
              "        \n",
              "  <svg xmlns=\"http://www.w3.org/2000/svg\" height=\"24px\"viewBox=\"0 0 24 24\"\n",
              "       width=\"24px\">\n",
              "    <path d=\"M0 0h24v24H0V0z\" fill=\"none\"/>\n",
              "    <path d=\"M18.56 5.44l.94 2.06.94-2.06 2.06-.94-2.06-.94-.94-2.06-.94 2.06-2.06.94zm-11 1L8.5 8.5l.94-2.06 2.06-.94-2.06-.94L8.5 2.5l-.94 2.06-2.06.94zm10 10l.94 2.06.94-2.06 2.06-.94-2.06-.94-.94-2.06-.94 2.06-2.06.94z\"/><path d=\"M17.41 7.96l-1.37-1.37c-.4-.4-.92-.59-1.43-.59-.52 0-1.04.2-1.43.59L10.3 9.45l-7.72 7.72c-.78.78-.78 2.05 0 2.83L4 21.41c.39.39.9.59 1.41.59.51 0 1.02-.2 1.41-.59l7.78-7.78 2.81-2.81c.8-.78.8-2.07 0-2.86zM5.41 20L4 18.59l7.72-7.72 1.47 1.35L5.41 20z\"/>\n",
              "  </svg>\n",
              "      </button>\n",
              "      \n",
              "  <style>\n",
              "    .colab-df-container {\n",
              "      display:flex;\n",
              "      flex-wrap:wrap;\n",
              "      gap: 12px;\n",
              "    }\n",
              "\n",
              "    .colab-df-convert {\n",
              "      background-color: #E8F0FE;\n",
              "      border: none;\n",
              "      border-radius: 50%;\n",
              "      cursor: pointer;\n",
              "      display: none;\n",
              "      fill: #1967D2;\n",
              "      height: 32px;\n",
              "      padding: 0 0 0 0;\n",
              "      width: 32px;\n",
              "    }\n",
              "\n",
              "    .colab-df-convert:hover {\n",
              "      background-color: #E2EBFA;\n",
              "      box-shadow: 0px 1px 2px rgba(60, 64, 67, 0.3), 0px 1px 3px 1px rgba(60, 64, 67, 0.15);\n",
              "      fill: #174EA6;\n",
              "    }\n",
              "\n",
              "    [theme=dark] .colab-df-convert {\n",
              "      background-color: #3B4455;\n",
              "      fill: #D2E3FC;\n",
              "    }\n",
              "\n",
              "    [theme=dark] .colab-df-convert:hover {\n",
              "      background-color: #434B5C;\n",
              "      box-shadow: 0px 1px 3px 1px rgba(0, 0, 0, 0.15);\n",
              "      filter: drop-shadow(0px 1px 2px rgba(0, 0, 0, 0.3));\n",
              "      fill: #FFFFFF;\n",
              "    }\n",
              "  </style>\n",
              "\n",
              "      <script>\n",
              "        const buttonEl =\n",
              "          document.querySelector('#df-63159a74-d3e8-4751-9367-df4c48d0a056 button.colab-df-convert');\n",
              "        buttonEl.style.display =\n",
              "          google.colab.kernel.accessAllowed ? 'block' : 'none';\n",
              "\n",
              "        async function convertToInteractive(key) {\n",
              "          const element = document.querySelector('#df-63159a74-d3e8-4751-9367-df4c48d0a056');\n",
              "          const dataTable =\n",
              "            await google.colab.kernel.invokeFunction('convertToInteractive',\n",
              "                                                     [key], {});\n",
              "          if (!dataTable) return;\n",
              "\n",
              "          const docLinkHtml = 'Like what you see? Visit the ' +\n",
              "            '<a target=\"_blank\" href=https://colab.research.google.com/notebooks/data_table.ipynb>data table notebook</a>'\n",
              "            + ' to learn more about interactive tables.';\n",
              "          element.innerHTML = '';\n",
              "          dataTable['output_type'] = 'display_data';\n",
              "          await google.colab.output.renderOutput(dataTable, element);\n",
              "          const docLink = document.createElement('div');\n",
              "          docLink.innerHTML = docLinkHtml;\n",
              "          element.appendChild(docLink);\n",
              "        }\n",
              "      </script>\n",
              "    </div>\n",
              "  </div>\n",
              "  "
            ]
          },
          "metadata": {},
          "execution_count": 111
        }
      ]
    },
    {
      "cell_type": "markdown",
      "source": [
        "Колонки \"Неврология\":\n",
        "\n",
        "'Неврология1_ДиагнозПредставление1', 'Неврология1_ПрофнепригодностьВременнаяПредставление1'"
      ],
      "metadata": {
        "id": "EuOSrWxq0b9g"
      }
    },
    {
      "cell_type": "code",
      "source": [
        "print(df_cor['Неврология1_ПрофнепригодностьВременнаяПредставление1'].count())\n",
        "df_cor['Неврология1_ПрофнепригодностьВременнаяПредставление1'].value_counts()"
      ],
      "metadata": {
        "colab": {
          "base_uri": "https://localhost:8080/"
        },
        "id": "8sLraorz0bBC",
        "outputId": "4b4129ab-6bd3-4dd3-cdde-925f97da5ac1"
      },
      "execution_count": null,
      "outputs": [
        {
          "output_type": "stream",
          "name": "stdout",
          "text": [
            "1354\n"
          ]
        },
        {
          "output_type": "execute_result",
          "data": {
            "text/plain": [
              "Годен                1350\n",
              "Годен, кроме п.         2\n",
              "Временно не годен       2\n",
              "Name: Неврология1_ПрофнепригодностьВременнаяПредставление1, dtype: int64"
            ]
          },
          "metadata": {},
          "execution_count": 112
        }
      ]
    },
    {
      "cell_type": "code",
      "source": [
        "col_to_cnc = ['Неврология1_ГоденНегоденДополнение_Значение']\n",
        "col_concat('Неврология1_ДиагнозПредставление1',col_to_cnc)"
      ],
      "metadata": {
        "colab": {
          "base_uri": "https://localhost:8080/"
        },
        "id": "sWaI_RV30ny4",
        "outputId": "0181c2db-8184-446c-8b35-314b431277a6"
      },
      "execution_count": null,
      "outputs": [
        {
          "output_type": "stream",
          "name": "stdout",
          "text": [
            "Неврология1_ДиагнозПредставление1 было заполнено - 1355\n",
            "Неврология1_ДиагнозПредставление1 стало - 1355\n"
          ]
        }
      ]
    },
    {
      "cell_type": "code",
      "source": [
        "df_cor.to_csv('/content/drive/MyDrive/profpatolog/df_cor__nvr.csv', index=False)"
      ],
      "metadata": {
        "id": "7ihj23Gt0pqn"
      },
      "execution_count": null,
      "outputs": []
    },
    {
      "cell_type": "markdown",
      "source": [
        "## Раздел \"ДерматоВенерологии\""
      ],
      "metadata": {
        "id": "ZaHQN1dg3IBj"
      }
    },
    {
      "cell_type": "code",
      "source": [
        "df_cor = pd.read_csv('/content/drive/MyDrive/profpatolog/df_cor__nvr.csv')\n",
        "df_cor.shape"
      ],
      "metadata": {
        "colab": {
          "base_uri": "https://localhost:8080/"
        },
        "id": "FXFxvQbB3Z9-",
        "outputId": "1190fb8a-02cf-4a1c-ed34-f610684d8345"
      },
      "execution_count": null,
      "outputs": [
        {
          "output_type": "stream",
          "name": "stderr",
          "text": [
            "<ipython-input-115-a9cfb855d35c>:1: DtypeWarning: Columns (91,92,101,102,141,251,252,255,256,260,302,314,315,343,344,353,354,355,356,357,358,369,370,423,424,507,508,525,526,527,528,611,612,623,624) have mixed types. Specify dtype option on import or set low_memory=False.\n",
            "  df_cor = pd.read_csv('/content/drive/MyDrive/profpatolog/df_cor__nvr.csv')\n"
          ]
        },
        {
          "output_type": "execute_result",
          "data": {
            "text/plain": [
              "(1571, 631)"
            ]
          },
          "metadata": {},
          "execution_count": 115
        }
      ]
    },
    {
      "cell_type": "code",
      "source": [
        "counts = df_cor[col_drv].count(axis=0)\n",
        "uniques = df_cor[col_drv].nunique(axis=0)\n",
        "types = df_cor[col_drv].dtypes\n",
        "df_x = pd.concat([counts.to_frame(name='count'), uniques.to_frame(name='unique'), types.to_frame(name='type')], axis= 1 )"
      ],
      "metadata": {
        "id": "2ZJCy2Zm3jYD"
      },
      "execution_count": null,
      "outputs": []
    },
    {
      "cell_type": "code",
      "source": [
        "df_x"
      ],
      "metadata": {
        "colab": {
          "base_uri": "https://localhost:8080/",
          "height": 426
        },
        "id": "iEEdiGvT3tiE",
        "outputId": "6096f332-13f5-41f1-941b-9b660a8b1dce"
      },
      "execution_count": null,
      "outputs": [
        {
          "output_type": "execute_result",
          "data": {
            "text/plain": [
              "                                                    count  unique    type\n",
              "Дерматовенерология1_МКБ101                            754       2  object\n",
              "Дерматовенерология1_ДиагнозПредставление1             754       2  object\n",
              "Дерматовенерология1_ПрофнепригодностьВременная1       754       2  object\n",
              "Дерматовенерология1_ПрофнепригодностьВременнаяП...    754       2  object\n",
              "Дерматовенерология1_Диагноз_Значение                  752       4  object\n",
              "Дерматовенерология1_Диагноз_ЗначениеПредставление     752       4  object\n",
              "Дерматовенерология1_МКБ102                             83       2  object\n",
              "Дерматовенерология1_ДиагнозПредставление2              83       2  object\n",
              "Дерматовенерология2_МКБ101                             84       2  object\n",
              "Дерматовенерология2_ДиагнозПредставление1              84       2  object\n",
              "Дерматовенерология2_Диагноз_Значение                   82       2  object\n",
              "Дерматовенерология2_Диагноз_ЗначениеПредставление      82       2  object"
            ],
            "text/html": [
              "\n",
              "  <div id=\"df-f2ccff37-a402-4003-a571-a5ea57a85b72\">\n",
              "    <div class=\"colab-df-container\">\n",
              "      <div>\n",
              "<style scoped>\n",
              "    .dataframe tbody tr th:only-of-type {\n",
              "        vertical-align: middle;\n",
              "    }\n",
              "\n",
              "    .dataframe tbody tr th {\n",
              "        vertical-align: top;\n",
              "    }\n",
              "\n",
              "    .dataframe thead th {\n",
              "        text-align: right;\n",
              "    }\n",
              "</style>\n",
              "<table border=\"1\" class=\"dataframe\">\n",
              "  <thead>\n",
              "    <tr style=\"text-align: right;\">\n",
              "      <th></th>\n",
              "      <th>count</th>\n",
              "      <th>unique</th>\n",
              "      <th>type</th>\n",
              "    </tr>\n",
              "  </thead>\n",
              "  <tbody>\n",
              "    <tr>\n",
              "      <th>Дерматовенерология1_МКБ101</th>\n",
              "      <td>754</td>\n",
              "      <td>2</td>\n",
              "      <td>object</td>\n",
              "    </tr>\n",
              "    <tr>\n",
              "      <th>Дерматовенерология1_ДиагнозПредставление1</th>\n",
              "      <td>754</td>\n",
              "      <td>2</td>\n",
              "      <td>object</td>\n",
              "    </tr>\n",
              "    <tr>\n",
              "      <th>Дерматовенерология1_ПрофнепригодностьВременная1</th>\n",
              "      <td>754</td>\n",
              "      <td>2</td>\n",
              "      <td>object</td>\n",
              "    </tr>\n",
              "    <tr>\n",
              "      <th>Дерматовенерология1_ПрофнепригодностьВременнаяПредставление1</th>\n",
              "      <td>754</td>\n",
              "      <td>2</td>\n",
              "      <td>object</td>\n",
              "    </tr>\n",
              "    <tr>\n",
              "      <th>Дерматовенерология1_Диагноз_Значение</th>\n",
              "      <td>752</td>\n",
              "      <td>4</td>\n",
              "      <td>object</td>\n",
              "    </tr>\n",
              "    <tr>\n",
              "      <th>Дерматовенерология1_Диагноз_ЗначениеПредставление</th>\n",
              "      <td>752</td>\n",
              "      <td>4</td>\n",
              "      <td>object</td>\n",
              "    </tr>\n",
              "    <tr>\n",
              "      <th>Дерматовенерология1_МКБ102</th>\n",
              "      <td>83</td>\n",
              "      <td>2</td>\n",
              "      <td>object</td>\n",
              "    </tr>\n",
              "    <tr>\n",
              "      <th>Дерматовенерология1_ДиагнозПредставление2</th>\n",
              "      <td>83</td>\n",
              "      <td>2</td>\n",
              "      <td>object</td>\n",
              "    </tr>\n",
              "    <tr>\n",
              "      <th>Дерматовенерология2_МКБ101</th>\n",
              "      <td>84</td>\n",
              "      <td>2</td>\n",
              "      <td>object</td>\n",
              "    </tr>\n",
              "    <tr>\n",
              "      <th>Дерматовенерология2_ДиагнозПредставление1</th>\n",
              "      <td>84</td>\n",
              "      <td>2</td>\n",
              "      <td>object</td>\n",
              "    </tr>\n",
              "    <tr>\n",
              "      <th>Дерматовенерология2_Диагноз_Значение</th>\n",
              "      <td>82</td>\n",
              "      <td>2</td>\n",
              "      <td>object</td>\n",
              "    </tr>\n",
              "    <tr>\n",
              "      <th>Дерматовенерология2_Диагноз_ЗначениеПредставление</th>\n",
              "      <td>82</td>\n",
              "      <td>2</td>\n",
              "      <td>object</td>\n",
              "    </tr>\n",
              "  </tbody>\n",
              "</table>\n",
              "</div>\n",
              "      <button class=\"colab-df-convert\" onclick=\"convertToInteractive('df-f2ccff37-a402-4003-a571-a5ea57a85b72')\"\n",
              "              title=\"Convert this dataframe to an interactive table.\"\n",
              "              style=\"display:none;\">\n",
              "        \n",
              "  <svg xmlns=\"http://www.w3.org/2000/svg\" height=\"24px\"viewBox=\"0 0 24 24\"\n",
              "       width=\"24px\">\n",
              "    <path d=\"M0 0h24v24H0V0z\" fill=\"none\"/>\n",
              "    <path d=\"M18.56 5.44l.94 2.06.94-2.06 2.06-.94-2.06-.94-.94-2.06-.94 2.06-2.06.94zm-11 1L8.5 8.5l.94-2.06 2.06-.94-2.06-.94L8.5 2.5l-.94 2.06-2.06.94zm10 10l.94 2.06.94-2.06 2.06-.94-2.06-.94-.94-2.06-.94 2.06-2.06.94z\"/><path d=\"M17.41 7.96l-1.37-1.37c-.4-.4-.92-.59-1.43-.59-.52 0-1.04.2-1.43.59L10.3 9.45l-7.72 7.72c-.78.78-.78 2.05 0 2.83L4 21.41c.39.39.9.59 1.41.59.51 0 1.02-.2 1.41-.59l7.78-7.78 2.81-2.81c.8-.78.8-2.07 0-2.86zM5.41 20L4 18.59l7.72-7.72 1.47 1.35L5.41 20z\"/>\n",
              "  </svg>\n",
              "      </button>\n",
              "      \n",
              "  <style>\n",
              "    .colab-df-container {\n",
              "      display:flex;\n",
              "      flex-wrap:wrap;\n",
              "      gap: 12px;\n",
              "    }\n",
              "\n",
              "    .colab-df-convert {\n",
              "      background-color: #E8F0FE;\n",
              "      border: none;\n",
              "      border-radius: 50%;\n",
              "      cursor: pointer;\n",
              "      display: none;\n",
              "      fill: #1967D2;\n",
              "      height: 32px;\n",
              "      padding: 0 0 0 0;\n",
              "      width: 32px;\n",
              "    }\n",
              "\n",
              "    .colab-df-convert:hover {\n",
              "      background-color: #E2EBFA;\n",
              "      box-shadow: 0px 1px 2px rgba(60, 64, 67, 0.3), 0px 1px 3px 1px rgba(60, 64, 67, 0.15);\n",
              "      fill: #174EA6;\n",
              "    }\n",
              "\n",
              "    [theme=dark] .colab-df-convert {\n",
              "      background-color: #3B4455;\n",
              "      fill: #D2E3FC;\n",
              "    }\n",
              "\n",
              "    [theme=dark] .colab-df-convert:hover {\n",
              "      background-color: #434B5C;\n",
              "      box-shadow: 0px 1px 3px 1px rgba(0, 0, 0, 0.15);\n",
              "      filter: drop-shadow(0px 1px 2px rgba(0, 0, 0, 0.3));\n",
              "      fill: #FFFFFF;\n",
              "    }\n",
              "  </style>\n",
              "\n",
              "      <script>\n",
              "        const buttonEl =\n",
              "          document.querySelector('#df-f2ccff37-a402-4003-a571-a5ea57a85b72 button.colab-df-convert');\n",
              "        buttonEl.style.display =\n",
              "          google.colab.kernel.accessAllowed ? 'block' : 'none';\n",
              "\n",
              "        async function convertToInteractive(key) {\n",
              "          const element = document.querySelector('#df-f2ccff37-a402-4003-a571-a5ea57a85b72');\n",
              "          const dataTable =\n",
              "            await google.colab.kernel.invokeFunction('convertToInteractive',\n",
              "                                                     [key], {});\n",
              "          if (!dataTable) return;\n",
              "\n",
              "          const docLinkHtml = 'Like what you see? Visit the ' +\n",
              "            '<a target=\"_blank\" href=https://colab.research.google.com/notebooks/data_table.ipynb>data table notebook</a>'\n",
              "            + ' to learn more about interactive tables.';\n",
              "          element.innerHTML = '';\n",
              "          dataTable['output_type'] = 'display_data';\n",
              "          await google.colab.output.renderOutput(dataTable, element);\n",
              "          const docLink = document.createElement('div');\n",
              "          docLink.innerHTML = docLinkHtml;\n",
              "          element.appendChild(docLink);\n",
              "        }\n",
              "      </script>\n",
              "    </div>\n",
              "  </div>\n",
              "  "
            ]
          },
          "metadata": {},
          "execution_count": 117
        }
      ]
    },
    {
      "cell_type": "markdown",
      "source": [
        "Колонки \"ВурматоВенерологии\":\n",
        "\n",
        "'Дерматовенерология1_ДиагнозПредставление1', 'Дерматовенерология1_ПрофнепригодностьВременнаяПредставление1'"
      ],
      "metadata": {
        "id": "3GHfBATA3vDV"
      }
    },
    {
      "cell_type": "code",
      "source": [
        "print(df_cor['Дерматовенерология1_ПрофнепригодностьВременнаяПредставление1'].count())\n",
        "df_cor['Дерматовенерология1_ПрофнепригодностьВременнаяПредставление1'].value_counts()"
      ],
      "metadata": {
        "colab": {
          "base_uri": "https://localhost:8080/"
        },
        "id": "dAoGpdKm31m8",
        "outputId": "7658a7c7-d105-4334-84ca-053bfba353ff"
      },
      "execution_count": null,
      "outputs": [
        {
          "output_type": "stream",
          "name": "stdout",
          "text": [
            "754\n"
          ]
        },
        {
          "output_type": "execute_result",
          "data": {
            "text/plain": [
              "Годен                752\n",
              "Временно не годен      2\n",
              "Name: Дерматовенерология1_ПрофнепригодностьВременнаяПредставление1, dtype: int64"
            ]
          },
          "metadata": {},
          "execution_count": 123
        }
      ]
    },
    {
      "cell_type": "code",
      "source": [
        "col_to_cnc = ['Дерматовенерология1_Диагноз_ЗначениеПредставление','Дерматовенерология2_ДиагнозПредставление1','Дерматовенерология2_Диагноз_ЗначениеПредставление']\n",
        "col_concat('Дерматовенерология1_ДиагнозПредставление1',col_to_cnc)"
      ],
      "metadata": {
        "colab": {
          "base_uri": "https://localhost:8080/"
        },
        "id": "_-eTFzy636Es",
        "outputId": "082ecf57-749d-459b-b4e5-0e040ecf2f12"
      },
      "execution_count": null,
      "outputs": [
        {
          "output_type": "stream",
          "name": "stdout",
          "text": [
            "Дерматовенерология1_ДиагнозПредставление1 было заполнено - 754\n",
            "Дерматовенерология1_ДиагнозПредставление1 стало - 756\n",
            "Дерматовенерология1_ДиагнозПредставление1 было заполнено - 756\n",
            "Дерматовенерология1_ДиагнозПредставление1 стало - 756\n",
            "Дерматовенерология1_ДиагнозПредставление1 было заполнено - 756\n",
            "Дерматовенерология1_ДиагнозПредставление1 стало - 756\n"
          ]
        }
      ]
    },
    {
      "cell_type": "code",
      "source": [
        "df_cor.to_csv('/content/drive/MyDrive/profpatolog/df_cor__drv.csv', index=False)"
      ],
      "metadata": {
        "id": "mzZe_XDR3_Ql"
      },
      "execution_count": null,
      "outputs": []
    },
    {
      "cell_type": "markdown",
      "source": [
        "## Раздел \"УЗИ\""
      ],
      "metadata": {
        "id": "0MZdhdII5kr_"
      }
    },
    {
      "cell_type": "code",
      "source": [
        "df_cor = pd.read_csv('/content/drive/MyDrive/profpatolog/df_cor__drv.csv')\n",
        "df_cor.shape"
      ],
      "metadata": {
        "colab": {
          "base_uri": "https://localhost:8080/"
        },
        "id": "WFvAtLET5pYf",
        "outputId": "47786b9a-5828-4f04-8378-11ba4d21dff3"
      },
      "execution_count": null,
      "outputs": [
        {
          "output_type": "stream",
          "name": "stderr",
          "text": [
            "<ipython-input-125-70d664856b03>:1: DtypeWarning: Columns (91,92,101,102,141,251,252,255,256,260,302,314,315,343,344,353,354,355,356,357,358,369,370,423,424,507,508,525,526,527,528,611,612,623,624) have mixed types. Specify dtype option on import or set low_memory=False.\n",
            "  df_cor = pd.read_csv('/content/drive/MyDrive/profpatolog/df_cor__drv.csv')\n"
          ]
        },
        {
          "output_type": "execute_result",
          "data": {
            "text/plain": [
              "(1571, 631)"
            ]
          },
          "metadata": {},
          "execution_count": 125
        }
      ]
    },
    {
      "cell_type": "code",
      "source": [
        "counts = df_cor[col_uzi].count(axis=0)\n",
        "uniques = df_cor[col_uzi].nunique(axis=0)\n",
        "types = df_cor[col_uzi].dtypes\n",
        "df_x = pd.concat([counts.to_frame(name='count'), uniques.to_frame(name='unique'), types.to_frame(name='type')], axis= 1 )"
      ],
      "metadata": {
        "id": "9_o-siGd5vng"
      },
      "execution_count": null,
      "outputs": []
    },
    {
      "cell_type": "code",
      "source": [
        "df_x[44:]"
      ],
      "metadata": {
        "colab": {
          "base_uri": "https://localhost:8080/",
          "height": 1000
        },
        "id": "D2X4hM2053LA",
        "outputId": "46a69c6b-19f9-4e95-c4d9-ec067aadb742"
      },
      "execution_count": null,
      "outputs": [
        {
          "output_type": "execute_result",
          "data": {
            "text/plain": [
              "                                                    count  unique     type\n",
              "УЗИДиагностика1_АкустическоеОкно_ЗначениеПредст...    323       2   object\n",
              "УЗИДиагностика1_Матка_Значение                        323       2   object\n",
              "УЗИДиагностика1_Матка_ЗначениеПредставление           323       2   object\n",
              "УЗИДиагностика1_Контуры1_Значение                     364       3   object\n",
              "УЗИДиагностика1_РазмерыДлина_Значение                 240      45  float64\n",
              "УЗИДиагностика1_РазмерыДлина_ЗначениеПредставление    240      45  float64\n",
              "УЗИДиагностика1_ПереднеЗадний_Значение                241      40  float64\n",
              "УЗИДиагностика1_ПереднеЗадний_ЗначениеПредставл...    241      40  float64\n",
              "УЗИДиагностика1_Ширина_Значение                       241      49   object\n",
              "УЗИДиагностика1_Ширина_ЗначениеПредставление          241      49   object\n",
              "УЗИДиагностика1_ЭндометрийТолщиной_Значение           237     116   object\n",
              "УЗИДиагностика1_ЭндометрийТолщиной_ЗначениеПред...    237     116   object\n",
              "УЗИДиагностика1_ПравыйЯичник_Значение                 323       2   object\n",
              "УЗИДиагностика1_ПравыйЯичник_ЗначениеПредставление    323       2   object\n",
              "УЗИДиагностика1_ДлинаПравыйЯичник_Значение            156      43   object\n",
              "УЗИДиагностика1_ДлинаПравыйЯичник_ЗначениеПредс...    156      43   object\n",
              "УЗИДиагностика1_ТолщинаПравыйЯичник_Значение          140      42   object\n",
              "УЗИДиагностика1_ТолщинаПравыйЯичник_ЗначениеПре...    140      28   object\n",
              "УЗИДиагностика1_СтруктураПравыйЯичник_Значение        323       2   object\n",
              "УЗИДиагностика1_СтруктураПравыйЯичник_ЗначениеП...    323       2   object\n",
              "УЗИДиагностика1_ТолщинаЛевыйЯичник_Значение           119      19  float64\n",
              "УЗИДиагностика1_ТолщинаЛевыйЯичник_ЗначениеПред...    119      19  float64\n",
              "УЗИДиагностика1_ЛевыйЯичник_Значение                  323       2   object\n",
              "УЗИДиагностика1_ЛевыйЯичник_ЗначениеПредставление     323       2   object\n",
              "УЗИДиагностика1_ДлинаЛевыйЯичник_Значение             119      25  float64\n",
              "УЗИДиагностика1_ДлинаЛевыйЯичник_ЗначениеПредст...    119      25  float64\n",
              "УЗИДиагностика1_ЭхокартинаНаМоментОсмотра_Значение    310     107   object\n",
              "УЗИДиагностика1_ЭхокартинаНаМоментОсмотра_Значе...    310     107   object\n",
              "УЗИДиагностика2_Заключение_Значение                    26      10   object\n",
              "УЗИДиагностика2_Заключение_ЗначениеПредставление       26      10   object\n",
              "УЗИДиагностика2_Контуры_Значение                       54       4   object\n",
              "УЗИДиагностика2_Структура_Значение                     54       5   object\n",
              "УЗИДиагностика2_Структура_ЗначениеПредставление        54       2   object\n",
              "УЗИДиагностика1_Образования_Значение                   42       2   object\n",
              "УЗИДиагностика1_Образования_ЗначениеПредставление      42       2   object\n",
              "УЗИДиагностика1_МКБ101                                171       4   object\n",
              "УЗИДиагностика1_ДиагнозПредставление1                 171       4   object\n",
              "УЗИДиагностика2_Контуры1_Значение                      38       3   object\n",
              "УЗИДиагностика1_ШиринаЛевыйЯичник_Значение             85      81   object\n",
              "УЗИДиагностика1_ШиринаЛевыйЯичник_ЗначениеПредс...     85      81   object\n",
              "УЗИДиагностика1_ШиринаПравыйЯичник_Значение            57      53   object\n",
              "УЗИДиагностика1_ШиринаПравыйЯичник_ЗначениеПред...     57      53   object\n",
              "УЗИДиагностика1_МКБ102                                 43       2   object\n",
              "УЗИДиагностика1_ДиагнозПредставление2                  43       2   object"
            ],
            "text/html": [
              "\n",
              "  <div id=\"df-4804067b-d51f-4977-9bc1-7d067356942d\">\n",
              "    <div class=\"colab-df-container\">\n",
              "      <div>\n",
              "<style scoped>\n",
              "    .dataframe tbody tr th:only-of-type {\n",
              "        vertical-align: middle;\n",
              "    }\n",
              "\n",
              "    .dataframe tbody tr th {\n",
              "        vertical-align: top;\n",
              "    }\n",
              "\n",
              "    .dataframe thead th {\n",
              "        text-align: right;\n",
              "    }\n",
              "</style>\n",
              "<table border=\"1\" class=\"dataframe\">\n",
              "  <thead>\n",
              "    <tr style=\"text-align: right;\">\n",
              "      <th></th>\n",
              "      <th>count</th>\n",
              "      <th>unique</th>\n",
              "      <th>type</th>\n",
              "    </tr>\n",
              "  </thead>\n",
              "  <tbody>\n",
              "    <tr>\n",
              "      <th>УЗИДиагностика1_АкустическоеОкно_ЗначениеПредставление</th>\n",
              "      <td>323</td>\n",
              "      <td>2</td>\n",
              "      <td>object</td>\n",
              "    </tr>\n",
              "    <tr>\n",
              "      <th>УЗИДиагностика1_Матка_Значение</th>\n",
              "      <td>323</td>\n",
              "      <td>2</td>\n",
              "      <td>object</td>\n",
              "    </tr>\n",
              "    <tr>\n",
              "      <th>УЗИДиагностика1_Матка_ЗначениеПредставление</th>\n",
              "      <td>323</td>\n",
              "      <td>2</td>\n",
              "      <td>object</td>\n",
              "    </tr>\n",
              "    <tr>\n",
              "      <th>УЗИДиагностика1_Контуры1_Значение</th>\n",
              "      <td>364</td>\n",
              "      <td>3</td>\n",
              "      <td>object</td>\n",
              "    </tr>\n",
              "    <tr>\n",
              "      <th>УЗИДиагностика1_РазмерыДлина_Значение</th>\n",
              "      <td>240</td>\n",
              "      <td>45</td>\n",
              "      <td>float64</td>\n",
              "    </tr>\n",
              "    <tr>\n",
              "      <th>УЗИДиагностика1_РазмерыДлина_ЗначениеПредставление</th>\n",
              "      <td>240</td>\n",
              "      <td>45</td>\n",
              "      <td>float64</td>\n",
              "    </tr>\n",
              "    <tr>\n",
              "      <th>УЗИДиагностика1_ПереднеЗадний_Значение</th>\n",
              "      <td>241</td>\n",
              "      <td>40</td>\n",
              "      <td>float64</td>\n",
              "    </tr>\n",
              "    <tr>\n",
              "      <th>УЗИДиагностика1_ПереднеЗадний_ЗначениеПредставление</th>\n",
              "      <td>241</td>\n",
              "      <td>40</td>\n",
              "      <td>float64</td>\n",
              "    </tr>\n",
              "    <tr>\n",
              "      <th>УЗИДиагностика1_Ширина_Значение</th>\n",
              "      <td>241</td>\n",
              "      <td>49</td>\n",
              "      <td>object</td>\n",
              "    </tr>\n",
              "    <tr>\n",
              "      <th>УЗИДиагностика1_Ширина_ЗначениеПредставление</th>\n",
              "      <td>241</td>\n",
              "      <td>49</td>\n",
              "      <td>object</td>\n",
              "    </tr>\n",
              "    <tr>\n",
              "      <th>УЗИДиагностика1_ЭндометрийТолщиной_Значение</th>\n",
              "      <td>237</td>\n",
              "      <td>116</td>\n",
              "      <td>object</td>\n",
              "    </tr>\n",
              "    <tr>\n",
              "      <th>УЗИДиагностика1_ЭндометрийТолщиной_ЗначениеПредставление</th>\n",
              "      <td>237</td>\n",
              "      <td>116</td>\n",
              "      <td>object</td>\n",
              "    </tr>\n",
              "    <tr>\n",
              "      <th>УЗИДиагностика1_ПравыйЯичник_Значение</th>\n",
              "      <td>323</td>\n",
              "      <td>2</td>\n",
              "      <td>object</td>\n",
              "    </tr>\n",
              "    <tr>\n",
              "      <th>УЗИДиагностика1_ПравыйЯичник_ЗначениеПредставление</th>\n",
              "      <td>323</td>\n",
              "      <td>2</td>\n",
              "      <td>object</td>\n",
              "    </tr>\n",
              "    <tr>\n",
              "      <th>УЗИДиагностика1_ДлинаПравыйЯичник_Значение</th>\n",
              "      <td>156</td>\n",
              "      <td>43</td>\n",
              "      <td>object</td>\n",
              "    </tr>\n",
              "    <tr>\n",
              "      <th>УЗИДиагностика1_ДлинаПравыйЯичник_ЗначениеПредставление</th>\n",
              "      <td>156</td>\n",
              "      <td>43</td>\n",
              "      <td>object</td>\n",
              "    </tr>\n",
              "    <tr>\n",
              "      <th>УЗИДиагностика1_ТолщинаПравыйЯичник_Значение</th>\n",
              "      <td>140</td>\n",
              "      <td>42</td>\n",
              "      <td>object</td>\n",
              "    </tr>\n",
              "    <tr>\n",
              "      <th>УЗИДиагностика1_ТолщинаПравыйЯичник_ЗначениеПредставление</th>\n",
              "      <td>140</td>\n",
              "      <td>28</td>\n",
              "      <td>object</td>\n",
              "    </tr>\n",
              "    <tr>\n",
              "      <th>УЗИДиагностика1_СтруктураПравыйЯичник_Значение</th>\n",
              "      <td>323</td>\n",
              "      <td>2</td>\n",
              "      <td>object</td>\n",
              "    </tr>\n",
              "    <tr>\n",
              "      <th>УЗИДиагностика1_СтруктураПравыйЯичник_ЗначениеПредставление</th>\n",
              "      <td>323</td>\n",
              "      <td>2</td>\n",
              "      <td>object</td>\n",
              "    </tr>\n",
              "    <tr>\n",
              "      <th>УЗИДиагностика1_ТолщинаЛевыйЯичник_Значение</th>\n",
              "      <td>119</td>\n",
              "      <td>19</td>\n",
              "      <td>float64</td>\n",
              "    </tr>\n",
              "    <tr>\n",
              "      <th>УЗИДиагностика1_ТолщинаЛевыйЯичник_ЗначениеПредставление</th>\n",
              "      <td>119</td>\n",
              "      <td>19</td>\n",
              "      <td>float64</td>\n",
              "    </tr>\n",
              "    <tr>\n",
              "      <th>УЗИДиагностика1_ЛевыйЯичник_Значение</th>\n",
              "      <td>323</td>\n",
              "      <td>2</td>\n",
              "      <td>object</td>\n",
              "    </tr>\n",
              "    <tr>\n",
              "      <th>УЗИДиагностика1_ЛевыйЯичник_ЗначениеПредставление</th>\n",
              "      <td>323</td>\n",
              "      <td>2</td>\n",
              "      <td>object</td>\n",
              "    </tr>\n",
              "    <tr>\n",
              "      <th>УЗИДиагностика1_ДлинаЛевыйЯичник_Значение</th>\n",
              "      <td>119</td>\n",
              "      <td>25</td>\n",
              "      <td>float64</td>\n",
              "    </tr>\n",
              "    <tr>\n",
              "      <th>УЗИДиагностика1_ДлинаЛевыйЯичник_ЗначениеПредставление</th>\n",
              "      <td>119</td>\n",
              "      <td>25</td>\n",
              "      <td>float64</td>\n",
              "    </tr>\n",
              "    <tr>\n",
              "      <th>УЗИДиагностика1_ЭхокартинаНаМоментОсмотра_Значение</th>\n",
              "      <td>310</td>\n",
              "      <td>107</td>\n",
              "      <td>object</td>\n",
              "    </tr>\n",
              "    <tr>\n",
              "      <th>УЗИДиагностика1_ЭхокартинаНаМоментОсмотра_ЗначениеПредставление</th>\n",
              "      <td>310</td>\n",
              "      <td>107</td>\n",
              "      <td>object</td>\n",
              "    </tr>\n",
              "    <tr>\n",
              "      <th>УЗИДиагностика2_Заключение_Значение</th>\n",
              "      <td>26</td>\n",
              "      <td>10</td>\n",
              "      <td>object</td>\n",
              "    </tr>\n",
              "    <tr>\n",
              "      <th>УЗИДиагностика2_Заключение_ЗначениеПредставление</th>\n",
              "      <td>26</td>\n",
              "      <td>10</td>\n",
              "      <td>object</td>\n",
              "    </tr>\n",
              "    <tr>\n",
              "      <th>УЗИДиагностика2_Контуры_Значение</th>\n",
              "      <td>54</td>\n",
              "      <td>4</td>\n",
              "      <td>object</td>\n",
              "    </tr>\n",
              "    <tr>\n",
              "      <th>УЗИДиагностика2_Структура_Значение</th>\n",
              "      <td>54</td>\n",
              "      <td>5</td>\n",
              "      <td>object</td>\n",
              "    </tr>\n",
              "    <tr>\n",
              "      <th>УЗИДиагностика2_Структура_ЗначениеПредставление</th>\n",
              "      <td>54</td>\n",
              "      <td>2</td>\n",
              "      <td>object</td>\n",
              "    </tr>\n",
              "    <tr>\n",
              "      <th>УЗИДиагностика1_Образования_Значение</th>\n",
              "      <td>42</td>\n",
              "      <td>2</td>\n",
              "      <td>object</td>\n",
              "    </tr>\n",
              "    <tr>\n",
              "      <th>УЗИДиагностика1_Образования_ЗначениеПредставление</th>\n",
              "      <td>42</td>\n",
              "      <td>2</td>\n",
              "      <td>object</td>\n",
              "    </tr>\n",
              "    <tr>\n",
              "      <th>УЗИДиагностика1_МКБ101</th>\n",
              "      <td>171</td>\n",
              "      <td>4</td>\n",
              "      <td>object</td>\n",
              "    </tr>\n",
              "    <tr>\n",
              "      <th>УЗИДиагностика1_ДиагнозПредставление1</th>\n",
              "      <td>171</td>\n",
              "      <td>4</td>\n",
              "      <td>object</td>\n",
              "    </tr>\n",
              "    <tr>\n",
              "      <th>УЗИДиагностика2_Контуры1_Значение</th>\n",
              "      <td>38</td>\n",
              "      <td>3</td>\n",
              "      <td>object</td>\n",
              "    </tr>\n",
              "    <tr>\n",
              "      <th>УЗИДиагностика1_ШиринаЛевыйЯичник_Значение</th>\n",
              "      <td>85</td>\n",
              "      <td>81</td>\n",
              "      <td>object</td>\n",
              "    </tr>\n",
              "    <tr>\n",
              "      <th>УЗИДиагностика1_ШиринаЛевыйЯичник_ЗначениеПредставление</th>\n",
              "      <td>85</td>\n",
              "      <td>81</td>\n",
              "      <td>object</td>\n",
              "    </tr>\n",
              "    <tr>\n",
              "      <th>УЗИДиагностика1_ШиринаПравыйЯичник_Значение</th>\n",
              "      <td>57</td>\n",
              "      <td>53</td>\n",
              "      <td>object</td>\n",
              "    </tr>\n",
              "    <tr>\n",
              "      <th>УЗИДиагностика1_ШиринаПравыйЯичник_ЗначениеПредставление</th>\n",
              "      <td>57</td>\n",
              "      <td>53</td>\n",
              "      <td>object</td>\n",
              "    </tr>\n",
              "    <tr>\n",
              "      <th>УЗИДиагностика1_МКБ102</th>\n",
              "      <td>43</td>\n",
              "      <td>2</td>\n",
              "      <td>object</td>\n",
              "    </tr>\n",
              "    <tr>\n",
              "      <th>УЗИДиагностика1_ДиагнозПредставление2</th>\n",
              "      <td>43</td>\n",
              "      <td>2</td>\n",
              "      <td>object</td>\n",
              "    </tr>\n",
              "  </tbody>\n",
              "</table>\n",
              "</div>\n",
              "      <button class=\"colab-df-convert\" onclick=\"convertToInteractive('df-4804067b-d51f-4977-9bc1-7d067356942d')\"\n",
              "              title=\"Convert this dataframe to an interactive table.\"\n",
              "              style=\"display:none;\">\n",
              "        \n",
              "  <svg xmlns=\"http://www.w3.org/2000/svg\" height=\"24px\"viewBox=\"0 0 24 24\"\n",
              "       width=\"24px\">\n",
              "    <path d=\"M0 0h24v24H0V0z\" fill=\"none\"/>\n",
              "    <path d=\"M18.56 5.44l.94 2.06.94-2.06 2.06-.94-2.06-.94-.94-2.06-.94 2.06-2.06.94zm-11 1L8.5 8.5l.94-2.06 2.06-.94-2.06-.94L8.5 2.5l-.94 2.06-2.06.94zm10 10l.94 2.06.94-2.06 2.06-.94-2.06-.94-.94-2.06-.94 2.06-2.06.94z\"/><path d=\"M17.41 7.96l-1.37-1.37c-.4-.4-.92-.59-1.43-.59-.52 0-1.04.2-1.43.59L10.3 9.45l-7.72 7.72c-.78.78-.78 2.05 0 2.83L4 21.41c.39.39.9.59 1.41.59.51 0 1.02-.2 1.41-.59l7.78-7.78 2.81-2.81c.8-.78.8-2.07 0-2.86zM5.41 20L4 18.59l7.72-7.72 1.47 1.35L5.41 20z\"/>\n",
              "  </svg>\n",
              "      </button>\n",
              "      \n",
              "  <style>\n",
              "    .colab-df-container {\n",
              "      display:flex;\n",
              "      flex-wrap:wrap;\n",
              "      gap: 12px;\n",
              "    }\n",
              "\n",
              "    .colab-df-convert {\n",
              "      background-color: #E8F0FE;\n",
              "      border: none;\n",
              "      border-radius: 50%;\n",
              "      cursor: pointer;\n",
              "      display: none;\n",
              "      fill: #1967D2;\n",
              "      height: 32px;\n",
              "      padding: 0 0 0 0;\n",
              "      width: 32px;\n",
              "    }\n",
              "\n",
              "    .colab-df-convert:hover {\n",
              "      background-color: #E2EBFA;\n",
              "      box-shadow: 0px 1px 2px rgba(60, 64, 67, 0.3), 0px 1px 3px 1px rgba(60, 64, 67, 0.15);\n",
              "      fill: #174EA6;\n",
              "    }\n",
              "\n",
              "    [theme=dark] .colab-df-convert {\n",
              "      background-color: #3B4455;\n",
              "      fill: #D2E3FC;\n",
              "    }\n",
              "\n",
              "    [theme=dark] .colab-df-convert:hover {\n",
              "      background-color: #434B5C;\n",
              "      box-shadow: 0px 1px 3px 1px rgba(0, 0, 0, 0.15);\n",
              "      filter: drop-shadow(0px 1px 2px rgba(0, 0, 0, 0.3));\n",
              "      fill: #FFFFFF;\n",
              "    }\n",
              "  </style>\n",
              "\n",
              "      <script>\n",
              "        const buttonEl =\n",
              "          document.querySelector('#df-4804067b-d51f-4977-9bc1-7d067356942d button.colab-df-convert');\n",
              "        buttonEl.style.display =\n",
              "          google.colab.kernel.accessAllowed ? 'block' : 'none';\n",
              "\n",
              "        async function convertToInteractive(key) {\n",
              "          const element = document.querySelector('#df-4804067b-d51f-4977-9bc1-7d067356942d');\n",
              "          const dataTable =\n",
              "            await google.colab.kernel.invokeFunction('convertToInteractive',\n",
              "                                                     [key], {});\n",
              "          if (!dataTable) return;\n",
              "\n",
              "          const docLinkHtml = 'Like what you see? Visit the ' +\n",
              "            '<a target=\"_blank\" href=https://colab.research.google.com/notebooks/data_table.ipynb>data table notebook</a>'\n",
              "            + ' to learn more about interactive tables.';\n",
              "          element.innerHTML = '';\n",
              "          dataTable['output_type'] = 'display_data';\n",
              "          await google.colab.output.renderOutput(dataTable, element);\n",
              "          const docLink = document.createElement('div');\n",
              "          docLink.innerHTML = docLinkHtml;\n",
              "          element.appendChild(docLink);\n",
              "        }\n",
              "      </script>\n",
              "    </div>\n",
              "  </div>\n",
              "  "
            ]
          },
          "metadata": {},
          "execution_count": 136
        }
      ]
    },
    {
      "cell_type": "markdown",
      "source": [
        "Колонки \"УЗИ\":\n",
        "\n",
        "'УЗИДиагностика1_ДиагнозПредставление1', "
      ],
      "metadata": {
        "id": "5mhqv6vV54pZ"
      }
    },
    {
      "cell_type": "code",
      "source": [
        "print(df_cor['УЗИДиагностика1_ДиагнозПредставление2'].count())\n",
        "df_cor['УЗИДиагностика1_ДиагнозПредставление2'].value_counts()"
      ],
      "metadata": {
        "colab": {
          "base_uri": "https://localhost:8080/"
        },
        "id": "JUY7YiD97S47",
        "outputId": "c7908aba-b19f-4dab-ddf7-fd7ae3ffd10b"
      },
      "execution_count": null,
      "outputs": [
        {
          "output_type": "stream",
          "name": "stdout",
          "text": [
            "43\n"
          ]
        },
        {
          "output_type": "execute_result",
          "data": {
            "text/plain": [
              "Общий медицинский осмотр    42\n",
              "Киста почки                  1\n",
              "Name: УЗИДиагностика1_ДиагнозПредставление2, dtype: int64"
            ]
          },
          "metadata": {},
          "execution_count": 138
        }
      ]
    },
    {
      "cell_type": "code",
      "source": [
        "col_to_cnc = ['УЗИДиагностика1_ДиагнозПредставление2']\n",
        "col_concat('УЗИДиагностика1_ДиагнозПредставление1',col_to_cnc)"
      ],
      "metadata": {
        "colab": {
          "base_uri": "https://localhost:8080/"
        },
        "id": "f2TJExtV7VzK",
        "outputId": "e47e4b1e-9db9-4d92-fbab-4228a0f345e0"
      },
      "execution_count": null,
      "outputs": [
        {
          "output_type": "stream",
          "name": "stdout",
          "text": [
            "УЗИДиагностика1_ДиагнозПредставление1 было заполнено - 171\n",
            "УЗИДиагностика1_ДиагнозПредставление1 стало - 171\n"
          ]
        }
      ]
    },
    {
      "cell_type": "code",
      "source": [
        "df_cor.to_csv('/content/drive/MyDrive/profpatolog/df_cor__uzi.csv', index=False)"
      ],
      "metadata": {
        "id": "cEX_6syD7Yxz"
      },
      "execution_count": null,
      "outputs": []
    },
    {
      "cell_type": "markdown",
      "source": [
        "## Остальное"
      ],
      "metadata": {
        "id": "MPdJMxDM-Qr9"
      }
    },
    {
      "cell_type": "code",
      "source": [
        "df_cor = pd.read_csv('/content/drive/MyDrive/profpatolog/df_cor__uzi.csv')\n",
        "df_cor.shape"
      ],
      "metadata": {
        "colab": {
          "base_uri": "https://localhost:8080/"
        },
        "id": "cuuGfi_Q-Vnt",
        "outputId": "a6e0175f-281c-41fa-b4df-a91545eb99dd"
      },
      "execution_count": null,
      "outputs": [
        {
          "output_type": "stream",
          "name": "stderr",
          "text": [
            "<ipython-input-141-74e866452ae7>:1: DtypeWarning: Columns (91,92,101,102,141,251,252,255,256,260,302,314,315,343,344,353,354,355,356,357,358,369,370,423,424,507,508,525,526,527,528,611,612,623,624) have mixed types. Specify dtype option on import or set low_memory=False.\n",
            "  df_cor = pd.read_csv('/content/drive/MyDrive/profpatolog/df_cor__uzi.csv')\n"
          ]
        },
        {
          "output_type": "execute_result",
          "data": {
            "text/plain": [
              "(1571, 631)"
            ]
          },
          "metadata": {},
          "execution_count": 141
        }
      ]
    },
    {
      "cell_type": "code",
      "source": [
        "counts = df_cor[col_end].count(axis=0)\n",
        "uniques = df_cor[col_end].nunique(axis=0)\n",
        "types = df_cor[col_end].dtypes\n",
        "df_x = pd.concat([counts.to_frame(name='count'), uniques.to_frame(name='unique'), types.to_frame(name='type')], axis= 1 )"
      ],
      "metadata": {
        "id": "vgT0nCFG-cTo"
      },
      "execution_count": null,
      "outputs": []
    },
    {
      "cell_type": "code",
      "source": [
        "df_x"
      ],
      "metadata": {
        "colab": {
          "base_uri": "https://localhost:8080/",
          "height": 112
        },
        "id": "ii8GSHiI-jxq",
        "outputId": "4d4bcb3c-942c-43f9-8016-5f78a38d185c"
      },
      "execution_count": null,
      "outputs": [
        {
          "output_type": "execute_result",
          "data": {
            "text/plain": [
              "                                                    count  unique    type\n",
              "Эндоскопия1_ЖалобыДополнение_Значение                 189      58  object\n",
              "Эндоскопия1_ЖалобыДополнение_ЗначениеПредставление    189      58  object"
            ],
            "text/html": [
              "\n",
              "  <div id=\"df-ee54e25d-b36c-495e-a39e-c1a6dd07adde\">\n",
              "    <div class=\"colab-df-container\">\n",
              "      <div>\n",
              "<style scoped>\n",
              "    .dataframe tbody tr th:only-of-type {\n",
              "        vertical-align: middle;\n",
              "    }\n",
              "\n",
              "    .dataframe tbody tr th {\n",
              "        vertical-align: top;\n",
              "    }\n",
              "\n",
              "    .dataframe thead th {\n",
              "        text-align: right;\n",
              "    }\n",
              "</style>\n",
              "<table border=\"1\" class=\"dataframe\">\n",
              "  <thead>\n",
              "    <tr style=\"text-align: right;\">\n",
              "      <th></th>\n",
              "      <th>count</th>\n",
              "      <th>unique</th>\n",
              "      <th>type</th>\n",
              "    </tr>\n",
              "  </thead>\n",
              "  <tbody>\n",
              "    <tr>\n",
              "      <th>Эндоскопия1_ЖалобыДополнение_Значение</th>\n",
              "      <td>189</td>\n",
              "      <td>58</td>\n",
              "      <td>object</td>\n",
              "    </tr>\n",
              "    <tr>\n",
              "      <th>Эндоскопия1_ЖалобыДополнение_ЗначениеПредставление</th>\n",
              "      <td>189</td>\n",
              "      <td>58</td>\n",
              "      <td>object</td>\n",
              "    </tr>\n",
              "  </tbody>\n",
              "</table>\n",
              "</div>\n",
              "      <button class=\"colab-df-convert\" onclick=\"convertToInteractive('df-ee54e25d-b36c-495e-a39e-c1a6dd07adde')\"\n",
              "              title=\"Convert this dataframe to an interactive table.\"\n",
              "              style=\"display:none;\">\n",
              "        \n",
              "  <svg xmlns=\"http://www.w3.org/2000/svg\" height=\"24px\"viewBox=\"0 0 24 24\"\n",
              "       width=\"24px\">\n",
              "    <path d=\"M0 0h24v24H0V0z\" fill=\"none\"/>\n",
              "    <path d=\"M18.56 5.44l.94 2.06.94-2.06 2.06-.94-2.06-.94-.94-2.06-.94 2.06-2.06.94zm-11 1L8.5 8.5l.94-2.06 2.06-.94-2.06-.94L8.5 2.5l-.94 2.06-2.06.94zm10 10l.94 2.06.94-2.06 2.06-.94-2.06-.94-.94-2.06-.94 2.06-2.06.94z\"/><path d=\"M17.41 7.96l-1.37-1.37c-.4-.4-.92-.59-1.43-.59-.52 0-1.04.2-1.43.59L10.3 9.45l-7.72 7.72c-.78.78-.78 2.05 0 2.83L4 21.41c.39.39.9.59 1.41.59.51 0 1.02-.2 1.41-.59l7.78-7.78 2.81-2.81c.8-.78.8-2.07 0-2.86zM5.41 20L4 18.59l7.72-7.72 1.47 1.35L5.41 20z\"/>\n",
              "  </svg>\n",
              "      </button>\n",
              "      \n",
              "  <style>\n",
              "    .colab-df-container {\n",
              "      display:flex;\n",
              "      flex-wrap:wrap;\n",
              "      gap: 12px;\n",
              "    }\n",
              "\n",
              "    .colab-df-convert {\n",
              "      background-color: #E8F0FE;\n",
              "      border: none;\n",
              "      border-radius: 50%;\n",
              "      cursor: pointer;\n",
              "      display: none;\n",
              "      fill: #1967D2;\n",
              "      height: 32px;\n",
              "      padding: 0 0 0 0;\n",
              "      width: 32px;\n",
              "    }\n",
              "\n",
              "    .colab-df-convert:hover {\n",
              "      background-color: #E2EBFA;\n",
              "      box-shadow: 0px 1px 2px rgba(60, 64, 67, 0.3), 0px 1px 3px 1px rgba(60, 64, 67, 0.15);\n",
              "      fill: #174EA6;\n",
              "    }\n",
              "\n",
              "    [theme=dark] .colab-df-convert {\n",
              "      background-color: #3B4455;\n",
              "      fill: #D2E3FC;\n",
              "    }\n",
              "\n",
              "    [theme=dark] .colab-df-convert:hover {\n",
              "      background-color: #434B5C;\n",
              "      box-shadow: 0px 1px 3px 1px rgba(0, 0, 0, 0.15);\n",
              "      filter: drop-shadow(0px 1px 2px rgba(0, 0, 0, 0.3));\n",
              "      fill: #FFFFFF;\n",
              "    }\n",
              "  </style>\n",
              "\n",
              "      <script>\n",
              "        const buttonEl =\n",
              "          document.querySelector('#df-ee54e25d-b36c-495e-a39e-c1a6dd07adde button.colab-df-convert');\n",
              "        buttonEl.style.display =\n",
              "          google.colab.kernel.accessAllowed ? 'block' : 'none';\n",
              "\n",
              "        async function convertToInteractive(key) {\n",
              "          const element = document.querySelector('#df-ee54e25d-b36c-495e-a39e-c1a6dd07adde');\n",
              "          const dataTable =\n",
              "            await google.colab.kernel.invokeFunction('convertToInteractive',\n",
              "                                                     [key], {});\n",
              "          if (!dataTable) return;\n",
              "\n",
              "          const docLinkHtml = 'Like what you see? Visit the ' +\n",
              "            '<a target=\"_blank\" href=https://colab.research.google.com/notebooks/data_table.ipynb>data table notebook</a>'\n",
              "            + ' to learn more about interactive tables.';\n",
              "          element.innerHTML = '';\n",
              "          dataTable['output_type'] = 'display_data';\n",
              "          await google.colab.output.renderOutput(dataTable, element);\n",
              "          const docLink = document.createElement('div');\n",
              "          docLink.innerHTML = docLinkHtml;\n",
              "          element.appendChild(docLink);\n",
              "        }\n",
              "      </script>\n",
              "    </div>\n",
              "  </div>\n",
              "  "
            ]
          },
          "metadata": {},
          "execution_count": 146
        }
      ]
    },
    {
      "cell_type": "markdown",
      "source": [
        "Колонки:\n",
        "\n",
        "'ПроцедурнаяМедсестра1_ДиагнозПредставление1', 'Эндоскопия1_ЖалобыДополнение_ЗначениеПредставление'"
      ],
      "metadata": {
        "id": "3KjtpSrY-w_n"
      }
    },
    {
      "cell_type": "code",
      "source": [
        "print(df_cor['ПроцедурнаяМедсестра1_ДиагнозПредставление1'].count())\n",
        "df_cor['ПроцедурнаяМедсестра1_ДиагнозПредставление1'].value_counts()"
      ],
      "metadata": {
        "colab": {
          "base_uri": "https://localhost:8080/"
        },
        "id": "HHypcMMa-08H",
        "outputId": "a6e34b2a-ec61-4415-dc78-8c99390c2c03"
      },
      "execution_count": null,
      "outputs": [
        {
          "output_type": "stream",
          "name": "stdout",
          "text": [
            "75\n"
          ]
        },
        {
          "output_type": "execute_result",
          "data": {
            "text/plain": [
              "Общий медицинский осмотр    74\n",
              "Миопия                       1\n",
              "Name: ПроцедурнаяМедсестра1_ДиагнозПредставление1, dtype: int64"
            ]
          },
          "metadata": {},
          "execution_count": 157
        }
      ]
    },
    {
      "cell_type": "code",
      "source": [
        "df_cor.to_csv('/content/drive/MyDrive/profpatolog/df_cor_all.csv', index=False)"
      ],
      "metadata": {
        "id": "Rt8jvrnr-6-R"
      },
      "execution_count": null,
      "outputs": []
    },
    {
      "cell_type": "markdown",
      "source": [
        "## Общий раздел"
      ],
      "metadata": {
        "id": "KrUnXq9A99oV"
      }
    },
    {
      "cell_type": "code",
      "source": [
        "df_cor = pd.read_csv('/content/drive/MyDrive/profpatolog/df_cor_all.csv')\n",
        "df_cor.shape"
      ],
      "metadata": {
        "colab": {
          "base_uri": "https://localhost:8080/"
        },
        "id": "c-tBv8A2EWsF",
        "outputId": "639247b5-533f-42aa-b1b1-c736d0546414"
      },
      "execution_count": 2,
      "outputs": [
        {
          "output_type": "stream",
          "name": "stderr",
          "text": [
            "<ipython-input-2-843cccce3f6d>:1: DtypeWarning: Columns (91,92,101,102,141,251,252,255,256,260,302,314,315,343,344,353,354,355,356,357,358,369,370,423,424,507,508,525,526,527,528,611,612,623,624) have mixed types. Specify dtype option on import or set low_memory=False.\n",
            "  df_cor = pd.read_csv('/content/drive/MyDrive/profpatolog/df_cor_all.csv')\n"
          ]
        },
        {
          "output_type": "execute_result",
          "data": {
            "text/plain": [
              "(1571, 631)"
            ]
          },
          "metadata": {},
          "execution_count": 2
        }
      ]
    },
    {
      "cell_type": "code",
      "source": [
        "counts = df_cor[col_ost].count(axis=0)\n",
        "uniques = df_cor[col_ost].nunique(axis=0)\n",
        "types = df_cor[col_ost].dtypes\n",
        "df_x = pd.concat([counts.to_frame(name='count'), uniques.to_frame(name='unique'), types.to_frame(name='type')], axis= 1 )"
      ],
      "metadata": {
        "id": "XD3pydCjEh5r"
      },
      "execution_count": null,
      "outputs": []
    },
    {
      "cell_type": "code",
      "source": [
        "df_x"
      ],
      "metadata": {
        "colab": {
          "base_uri": "https://localhost:8080/",
          "height": 426
        },
        "id": "GdIaNKeFEuKe",
        "outputId": "ca2f8ee9-cfde-42fd-d76b-e4f641b5dc3b"
      },
      "execution_count": null,
      "outputs": [
        {
          "output_type": "execute_result",
          "data": {
            "text/plain": [
              "                                                    count  unique     type\n",
              "КлиентДатаРождения                                   1571    1426   object\n",
              "КлиентПол                                            1571       2   object\n",
              "ТипМедосмотра                                        1571       2   object\n",
              "ПсихОсвидетельствование                              1571       2     bool\n",
              "Профессия                                            1571     557   object\n",
              "ЗаключениеМК                                         1571       3   object\n",
              "ДиспансернаяГруппа                                   1562       4   object\n",
              "ВредныеФакторы                                       1571     388   object\n",
              "ФункциональнаяДиагностика1_ЭКГПроведено_Значение      973       2  float64\n",
              "ФункциональнаяДиагностика1_ЭКГПроведено_Значени...    973       2   object\n",
              "ФункциональнаяДиагностика2_ЭКГПроведено_Значение       57       2   object\n",
              "ФункциональнаяДиагностика2_ЭКГПроведено_Значени...     57       2   object"
            ],
            "text/html": [
              "\n",
              "  <div id=\"df-6aa980c2-cec4-4e72-af89-fdd46cb91d70\">\n",
              "    <div class=\"colab-df-container\">\n",
              "      <div>\n",
              "<style scoped>\n",
              "    .dataframe tbody tr th:only-of-type {\n",
              "        vertical-align: middle;\n",
              "    }\n",
              "\n",
              "    .dataframe tbody tr th {\n",
              "        vertical-align: top;\n",
              "    }\n",
              "\n",
              "    .dataframe thead th {\n",
              "        text-align: right;\n",
              "    }\n",
              "</style>\n",
              "<table border=\"1\" class=\"dataframe\">\n",
              "  <thead>\n",
              "    <tr style=\"text-align: right;\">\n",
              "      <th></th>\n",
              "      <th>count</th>\n",
              "      <th>unique</th>\n",
              "      <th>type</th>\n",
              "    </tr>\n",
              "  </thead>\n",
              "  <tbody>\n",
              "    <tr>\n",
              "      <th>КлиентДатаРождения</th>\n",
              "      <td>1571</td>\n",
              "      <td>1426</td>\n",
              "      <td>object</td>\n",
              "    </tr>\n",
              "    <tr>\n",
              "      <th>КлиентПол</th>\n",
              "      <td>1571</td>\n",
              "      <td>2</td>\n",
              "      <td>object</td>\n",
              "    </tr>\n",
              "    <tr>\n",
              "      <th>ТипМедосмотра</th>\n",
              "      <td>1571</td>\n",
              "      <td>2</td>\n",
              "      <td>object</td>\n",
              "    </tr>\n",
              "    <tr>\n",
              "      <th>ПсихОсвидетельствование</th>\n",
              "      <td>1571</td>\n",
              "      <td>2</td>\n",
              "      <td>bool</td>\n",
              "    </tr>\n",
              "    <tr>\n",
              "      <th>Профессия</th>\n",
              "      <td>1571</td>\n",
              "      <td>557</td>\n",
              "      <td>object</td>\n",
              "    </tr>\n",
              "    <tr>\n",
              "      <th>ЗаключениеМК</th>\n",
              "      <td>1571</td>\n",
              "      <td>3</td>\n",
              "      <td>object</td>\n",
              "    </tr>\n",
              "    <tr>\n",
              "      <th>ДиспансернаяГруппа</th>\n",
              "      <td>1562</td>\n",
              "      <td>4</td>\n",
              "      <td>object</td>\n",
              "    </tr>\n",
              "    <tr>\n",
              "      <th>ВредныеФакторы</th>\n",
              "      <td>1571</td>\n",
              "      <td>388</td>\n",
              "      <td>object</td>\n",
              "    </tr>\n",
              "    <tr>\n",
              "      <th>ФункциональнаяДиагностика1_ЭКГПроведено_Значение</th>\n",
              "      <td>973</td>\n",
              "      <td>2</td>\n",
              "      <td>float64</td>\n",
              "    </tr>\n",
              "    <tr>\n",
              "      <th>ФункциональнаяДиагностика1_ЭКГПроведено_ЗначениеПредставление</th>\n",
              "      <td>973</td>\n",
              "      <td>2</td>\n",
              "      <td>object</td>\n",
              "    </tr>\n",
              "    <tr>\n",
              "      <th>ФункциональнаяДиагностика2_ЭКГПроведено_Значение</th>\n",
              "      <td>57</td>\n",
              "      <td>2</td>\n",
              "      <td>object</td>\n",
              "    </tr>\n",
              "    <tr>\n",
              "      <th>ФункциональнаяДиагностика2_ЭКГПроведено_ЗначениеПредставление</th>\n",
              "      <td>57</td>\n",
              "      <td>2</td>\n",
              "      <td>object</td>\n",
              "    </tr>\n",
              "  </tbody>\n",
              "</table>\n",
              "</div>\n",
              "      <button class=\"colab-df-convert\" onclick=\"convertToInteractive('df-6aa980c2-cec4-4e72-af89-fdd46cb91d70')\"\n",
              "              title=\"Convert this dataframe to an interactive table.\"\n",
              "              style=\"display:none;\">\n",
              "        \n",
              "  <svg xmlns=\"http://www.w3.org/2000/svg\" height=\"24px\"viewBox=\"0 0 24 24\"\n",
              "       width=\"24px\">\n",
              "    <path d=\"M0 0h24v24H0V0z\" fill=\"none\"/>\n",
              "    <path d=\"M18.56 5.44l.94 2.06.94-2.06 2.06-.94-2.06-.94-.94-2.06-.94 2.06-2.06.94zm-11 1L8.5 8.5l.94-2.06 2.06-.94-2.06-.94L8.5 2.5l-.94 2.06-2.06.94zm10 10l.94 2.06.94-2.06 2.06-.94-2.06-.94-.94-2.06-.94 2.06-2.06.94z\"/><path d=\"M17.41 7.96l-1.37-1.37c-.4-.4-.92-.59-1.43-.59-.52 0-1.04.2-1.43.59L10.3 9.45l-7.72 7.72c-.78.78-.78 2.05 0 2.83L4 21.41c.39.39.9.59 1.41.59.51 0 1.02-.2 1.41-.59l7.78-7.78 2.81-2.81c.8-.78.8-2.07 0-2.86zM5.41 20L4 18.59l7.72-7.72 1.47 1.35L5.41 20z\"/>\n",
              "  </svg>\n",
              "      </button>\n",
              "      \n",
              "  <style>\n",
              "    .colab-df-container {\n",
              "      display:flex;\n",
              "      flex-wrap:wrap;\n",
              "      gap: 12px;\n",
              "    }\n",
              "\n",
              "    .colab-df-convert {\n",
              "      background-color: #E8F0FE;\n",
              "      border: none;\n",
              "      border-radius: 50%;\n",
              "      cursor: pointer;\n",
              "      display: none;\n",
              "      fill: #1967D2;\n",
              "      height: 32px;\n",
              "      padding: 0 0 0 0;\n",
              "      width: 32px;\n",
              "    }\n",
              "\n",
              "    .colab-df-convert:hover {\n",
              "      background-color: #E2EBFA;\n",
              "      box-shadow: 0px 1px 2px rgba(60, 64, 67, 0.3), 0px 1px 3px 1px rgba(60, 64, 67, 0.15);\n",
              "      fill: #174EA6;\n",
              "    }\n",
              "\n",
              "    [theme=dark] .colab-df-convert {\n",
              "      background-color: #3B4455;\n",
              "      fill: #D2E3FC;\n",
              "    }\n",
              "\n",
              "    [theme=dark] .colab-df-convert:hover {\n",
              "      background-color: #434B5C;\n",
              "      box-shadow: 0px 1px 3px 1px rgba(0, 0, 0, 0.15);\n",
              "      filter: drop-shadow(0px 1px 2px rgba(0, 0, 0, 0.3));\n",
              "      fill: #FFFFFF;\n",
              "    }\n",
              "  </style>\n",
              "\n",
              "      <script>\n",
              "        const buttonEl =\n",
              "          document.querySelector('#df-6aa980c2-cec4-4e72-af89-fdd46cb91d70 button.colab-df-convert');\n",
              "        buttonEl.style.display =\n",
              "          google.colab.kernel.accessAllowed ? 'block' : 'none';\n",
              "\n",
              "        async function convertToInteractive(key) {\n",
              "          const element = document.querySelector('#df-6aa980c2-cec4-4e72-af89-fdd46cb91d70');\n",
              "          const dataTable =\n",
              "            await google.colab.kernel.invokeFunction('convertToInteractive',\n",
              "                                                     [key], {});\n",
              "          if (!dataTable) return;\n",
              "\n",
              "          const docLinkHtml = 'Like what you see? Visit the ' +\n",
              "            '<a target=\"_blank\" href=https://colab.research.google.com/notebooks/data_table.ipynb>data table notebook</a>'\n",
              "            + ' to learn more about interactive tables.';\n",
              "          element.innerHTML = '';\n",
              "          dataTable['output_type'] = 'display_data';\n",
              "          await google.colab.output.renderOutput(dataTable, element);\n",
              "          const docLink = document.createElement('div');\n",
              "          docLink.innerHTML = docLinkHtml;\n",
              "          element.appendChild(docLink);\n",
              "        }\n",
              "      </script>\n",
              "    </div>\n",
              "  </div>\n",
              "  "
            ]
          },
          "metadata": {},
          "execution_count": 164
        }
      ]
    },
    {
      "cell_type": "code",
      "source": [
        "print(df_cor['ВредныеФакторы'].count())\n",
        "df_cor['ВредныеФакторы'].value_counts()"
      ],
      "metadata": {
        "colab": {
          "base_uri": "https://localhost:8080/"
        },
        "id": "hLtIv8dVEv3T",
        "outputId": "6d03965d-4620-4fe9-ce3f-39dc6135aecb"
      },
      "execution_count": null,
      "outputs": [
        {
          "output_type": "stream",
          "name": "stdout",
          "text": [
            "1571\n"
          ]
        },
        {
          "output_type": "execute_result",
          "data": {
            "text/plain": [
              "23                                   178\n",
              "4.2.5                                106\n",
              "25,25                                 40\n",
              "27                                    37\n",
              "11.1                                  36\n",
              "                                    ... \n",
              "4.3.1,4.4,6.1,11.1,18.1                1\n",
              "4.4,11.1,11.4,18                       1\n",
              "1.3,1.14.2,1.50,5.1,6.1,11.1,18.1      1\n",
              "11.1,11.4                              1\n",
              "4.2.5,6.1                              1\n",
              "Name: ВредныеФакторы, Length: 388, dtype: int64"
            ]
          },
          "metadata": {},
          "execution_count": 156
        }
      ]
    },
    {
      "cell_type": "markdown",
      "source": [
        "'КлиентПол', 'ТипМедосмотра', 'Профессия', 'ДиспансернаяГруппа', 'ВредныеФакторы', 'Терапия1_П_Значение', 'Терапия1_АртериальноеДавление_Значение', 'Терапия1_АртериальноеДавление21_ЗначениеПредставление', 'Терапия1_ПрофнепригодностьВременнаяПредставление1', 'Терапия1_ДиагнозПредставление1', 'Терапия1_ИМТ_ЗначениеПредставление', 'Терапия1_ХР_Рекомендация1Представление', 'ПсихиатрияНаркология1_ПрофнепригодностьВременнаяПредставление1', 'ПсихиатрияНаркология1_ДиагнозПредставление1', 'Гинекология1_ДиагнозПредставление1', 'Гинекология1_ГоденНегоден_ЗначениеПредставление', 'Офтальмология1_ДиагнозПредставление1', 'Офтальмология1_ХР_Рекомендация1Представление', 'Офтальмология1_ПрофнепригодностьВременнаяПредставление1', 'Оториноларингология1_ДиагнозПредставление1', 'Оториноларингология1_ПрофнепригодностьВременнаяПредставление1', 'Стоматология1_ДиагнозПредставление1', 'Стоматология1_ХР_Рекомендация1Представление', 'Хирургия1_ДиагнозПредставление1', 'Хирургия1_ПрофнепригодностьВременнаяПредставление1', 'Неврология1_ДиагнозПредставление1', 'Неврология1_ПрофнепригодностьВременнаяПредставление1', 'Дерматовенерология1_ДиагнозПредставление1', 'Дерматовенерология1_ПрофнепригодностьВременнаяПредставление1', 'УЗИДиагностика1_ДиагнозПредставление1', 'ПроцедурнаяМедсестра1_ДиагнозПредставление1', 'Эндоскопия1_ЖалобыДополнение_ЗначениеПредставление'"
      ],
      "metadata": {
        "id": "8JnIt-8eHJUS"
      }
    },
    {
      "cell_type": "code",
      "source": [
        "col_row = ['КлиентПол','ТипМедосмотра','Профессия', 'ДиспансернаяГруппа', 'ВредныеФакторы', 'Терапия1_П_Значение', 'ЗаключениеМК',\n",
        "           'Терапия1_АртериальноеДавление_Значение', 'Терапия1_АртериальноеДавление21_ЗначениеПредставление', \n",
        "           'Терапия1_ПрофнепригодностьВременнаяПредставление1', 'Терапия1_ДиагнозПредставление1', 'Терапия1_ИМТ_ЗначениеПредставление', \n",
        "           'Терапия1_ХР_Рекомендация1Представление', 'ПсихиатрияНаркология1_ПрофнепригодностьВременнаяПредставление1', \n",
        "           'ПсихиатрияНаркология1_ДиагнозПредставление1', 'Гинекология1_ДиагнозПредставление1', 'Гинекология1_ГоденНегоден_ЗначениеПредставление', \n",
        "           'Офтальмология1_ДиагнозПредставление1', 'Офтальмология1_ХР_Рекомендация1Представление', 'Офтальмология1_ПрофнепригодностьВременнаяПредставление1', \n",
        "           'Оториноларингология1_ДиагнозПредставление1', 'Оториноларингология1_ПрофнепригодностьВременнаяПредставление1', 'Стоматология1_ДиагнозПредставление1', \n",
        "           'Стоматология1_ХР_Рекомендация1Представление', 'Хирургия1_ДиагнозПредставление1', 'Хирургия1_ПрофнепригодностьВременнаяПредставление1', \n",
        "           'Неврология1_ДиагнозПредставление1', 'Неврология1_ПрофнепригодностьВременнаяПредставление1', 'Дерматовенерология1_ДиагнозПредставление1', \n",
        "           'Дерматовенерология1_ПрофнепригодностьВременнаяПредставление1', 'УЗИДиагностика1_ДиагнозПредставление1', 'ПроцедурнаяМедсестра1_ДиагнозПредставление1', \n",
        "           'Эндоскопия1_ЖалобыДополнение_ЗначениеПредставление']\n",
        "\n",
        "col_bow = ['Терапия1_ДиагнозПредставление1','Терапия1_ХР_Рекомендация1Представление','ПсихиатрияНаркология1_ДиагнозПредставление1',\n",
        "           'Гинекология1_ДиагнозПредставление1','Офтальмология1_ДиагнозПредставление1','Офтальмология1_ХР_Рекомендация1Представление',\n",
        "           'Оториноларингология1_ДиагнозПредставление1','Стоматология1_ДиагнозПредставление1','Стоматология1_ХР_Рекомендация1Представление',\n",
        "           'Хирургия1_ДиагнозПредставление1','Неврология1_ДиагнозПредставление1','Дерматовенерология1_ДиагнозПредставление1',\n",
        "           'УЗИДиагностика1_ДиагнозПредставление1','ПроцедурнаяМедсестра1_ДиагнозПредставление1','Эндоскопия1_ЖалобыДополнение_ЗначениеПредставление']\n",
        "\n",
        "col_ohe = ['КлиентПол','ТипМедосмотра','ДиспансернаяГруппа','Терапия1_ПрофнепригодностьВременнаяПредставление1',\n",
        "           'ПсихиатрияНаркология1_ПрофнепригодностьВременнаяПредставление1','Гинекология1_ГоденНегоден_ЗначениеПредставление',\n",
        "           'Офтальмология1_ПрофнепригодностьВременнаяПредставление1','Оториноларингология1_ПрофнепригодностьВременнаяПредставление1',\n",
        "           'Хирургия1_ПрофнепригодностьВременнаяПредставление1','Неврология1_ПрофнепригодностьВременнаяПредставление1',\n",
        "           'Дерматовенерология1_ПрофнепригодностьВременнаяПредставление1']\n",
        "col_dig = ['Терапия1_П_Значение','Терапия1_АртериальноеДавление_Значение','Терапия1_АртериальноеДавление21_ЗначениеПредставление',\n",
        "           'Терапия1_ИМТ_ЗначениеПредставление']\n",
        "print(f'Всего отбрано колонок - {len(col_row)}, под BagOfWords - {len(col_bow)}, под OHE - {len(col_ohe)}, Числовые данные - {len(col_dig)}')\n"
      ],
      "metadata": {
        "colab": {
          "base_uri": "https://localhost:8080/"
        },
        "id": "PD5dW4s1qvad",
        "outputId": "fe5682ba-1891-41b5-b57d-6a0a4cc58ca2"
      },
      "execution_count": 5,
      "outputs": [
        {
          "output_type": "stream",
          "name": "stdout",
          "text": [
            "Всего отбрано колонок - 33, под BagOfWords - 15, под OHE - 11, Числовые данные - 4\n"
          ]
        }
      ]
    },
    {
      "cell_type": "code",
      "source": [
        "# Выделим отобранные колонки в отдельный датафрейм\n",
        "df_data = df_cor[col_row]\n",
        "df_data.shape"
      ],
      "metadata": {
        "colab": {
          "base_uri": "https://localhost:8080/"
        },
        "id": "smWx40AKhO7D",
        "outputId": "602353ab-e669-4785-a3c0-857d7ed1fa04"
      },
      "execution_count": 6,
      "outputs": [
        {
          "output_type": "execute_result",
          "data": {
            "text/plain": [
              "(1571, 33)"
            ]
          },
          "metadata": {},
          "execution_count": 6
        }
      ]
    },
    {
      "cell_type": "code",
      "source": [
        "df_data.isna().sum().sum() *100 / df_data.size"
      ],
      "metadata": {
        "colab": {
          "base_uri": "https://localhost:8080/"
        },
        "id": "qhr1P8LIiPZA",
        "outputId": "fd1899e9-00f2-4548-a22c-535b1c21999b"
      },
      "execution_count": 7,
      "outputs": [
        {
          "output_type": "execute_result",
          "data": {
            "text/plain": [
              "36.838145940628436"
            ]
          },
          "metadata": {},
          "execution_count": 7
        }
      ]
    },
    {
      "cell_type": "code",
      "source": [
        "# Почти 37 % незаполнено дополним нейтральными значениями\n",
        "df_data[col_bow] = df_data[col_bow].fillna('НетДанных')\n",
        "df_data[col_ohe] = df_data[col_ohe].fillna('БезКатегории')\n",
        "df_data[col_dig] = df_data[col_dig].fillna(0)"
      ],
      "metadata": {
        "id": "uYc8NxAEI339",
        "colab": {
          "base_uri": "https://localhost:8080/"
        },
        "outputId": "ef4a6557-f615-4a41-ccad-faef5940abc2"
      },
      "execution_count": 8,
      "outputs": [
        {
          "output_type": "stream",
          "name": "stderr",
          "text": [
            "<ipython-input-8-d279da4cb684>:2: SettingWithCopyWarning: \n",
            "A value is trying to be set on a copy of a slice from a DataFrame.\n",
            "Try using .loc[row_indexer,col_indexer] = value instead\n",
            "\n",
            "See the caveats in the documentation: https://pandas.pydata.org/pandas-docs/stable/user_guide/indexing.html#returning-a-view-versus-a-copy\n",
            "  df_data[col_bow] = df_data[col_bow].fillna('НетДанных')\n",
            "<ipython-input-8-d279da4cb684>:3: SettingWithCopyWarning: \n",
            "A value is trying to be set on a copy of a slice from a DataFrame.\n",
            "Try using .loc[row_indexer,col_indexer] = value instead\n",
            "\n",
            "See the caveats in the documentation: https://pandas.pydata.org/pandas-docs/stable/user_guide/indexing.html#returning-a-view-versus-a-copy\n",
            "  df_data[col_ohe] = df_data[col_ohe].fillna('БезКатегории')\n",
            "<ipython-input-8-d279da4cb684>:4: SettingWithCopyWarning: \n",
            "A value is trying to be set on a copy of a slice from a DataFrame.\n",
            "Try using .loc[row_indexer,col_indexer] = value instead\n",
            "\n",
            "See the caveats in the documentation: https://pandas.pydata.org/pandas-docs/stable/user_guide/indexing.html#returning-a-view-versus-a-copy\n",
            "  df_data[col_dig] = df_data[col_dig].fillna(0)\n"
          ]
        }
      ]
    },
    {
      "cell_type": "code",
      "source": [
        "df_data.isna().sum().sum() *100 / df_data.size"
      ],
      "metadata": {
        "colab": {
          "base_uri": "https://localhost:8080/"
        },
        "id": "ElbIya5Ii3QM",
        "outputId": "4808d277-cb5b-4dc3-c888-2b70b152cf3f"
      },
      "execution_count": 9,
      "outputs": [
        {
          "output_type": "execute_result",
          "data": {
            "text/plain": [
              "0.0"
            ]
          },
          "metadata": {},
          "execution_count": 9
        }
      ]
    },
    {
      "cell_type": "code",
      "source": [
        "# Оценка колонки \"Профессия\"\n",
        "print(f\"незаполненных строк - {df_data['Профессия'].isna().sum()}\")\n",
        "print(f\"Количество уникальных записей - {df_data['Профессия'].nunique()} из {df_data['Профессия'].count()}\") #\n",
        "df_data['Профессия'].unique()[:20]"
      ],
      "metadata": {
        "colab": {
          "base_uri": "https://localhost:8080/"
        },
        "id": "P86fW47EP0B3",
        "outputId": "3feecd52-52e4-4ac8-ac04-f5fffefcf43d"
      },
      "execution_count": 10,
      "outputs": [
        {
          "output_type": "stream",
          "name": "stdout",
          "text": [
            "незаполненных строк - 0\n",
            "Количество уникальных записей - 557 из 1571\n"
          ]
        },
        {
          "output_type": "execute_result",
          "data": {
            "text/plain": [
              "array(['Ведущий специалист по организации обуения', 'Ведущий специалист',\n",
              "       'Главный менеджер', 'Главный специалист', 'Старший специалист',\n",
              "       'Начальник отдела', 'Старший инженер', 'Ведущий инженер ',\n",
              "       'Специалист ', 'Специалист', 'Ведущий специалист ',\n",
              "       'Мойщик ВС 2 разряда', 'Кладовщик-комплектовщик',\n",
              "       'Кладовщик комплектовщик', 'Мойщик службы БОВС',\n",
              "       'Старший кладовщик', 'Комплектовщик',\n",
              "       'Уборщик производственных помещений', 'Агент-комплектовщик',\n",
              "       'Уборщик производственных помещений '], dtype=object)"
            ]
          },
          "metadata": {},
          "execution_count": 10
        }
      ]
    },
    {
      "cell_type": "code",
      "source": [
        "# Проведем колонку через токенайзер\n",
        "tokenizer_spec = Tokenizer(num_words=510, filters='i1234567890!\"#$%&()*+,-–—./…:;<=>?@[\\\\]^_`{|}~«»\\t\\n\\xa0\\ufeff', lower=True, split=' ', oov_token='неизвестное_слово', char_level=False)\n",
        "tokenizer_spec.fit_on_texts(df_data['Профессия'].tolist())"
      ],
      "metadata": {
        "id": "24_KrEsQmys3"
      },
      "execution_count": 11,
      "outputs": []
    },
    {
      "cell_type": "code",
      "source": [
        "max(tokenizer_spec.word_index.values())"
      ],
      "metadata": {
        "colab": {
          "base_uri": "https://localhost:8080/"
        },
        "id": "XQJRtYsRnu_f",
        "outputId": "3e923b44-0ad1-476b-f680-0c37490461ec"
      },
      "execution_count": 12,
      "outputs": [
        {
          "output_type": "execute_result",
          "data": {
            "text/plain": [
              "508"
            ]
          },
          "metadata": {},
          "execution_count": 12
        }
      ]
    },
    {
      "cell_type": "code",
      "source": [
        "# Оценка колонки \"ВредныеФакторы\"\n",
        "print(f\"незаполненных строк - {df_data['ВредныеФакторы'].isna().sum()}\")\n",
        "print(f\"Количество уникальных записей - {df_data['ВредныеФакторы'].nunique()} из {df_data['ВредныеФакторы'].count()}\") #\n",
        "df_data['ВредныеФакторы'].unique()[:20]"
      ],
      "metadata": {
        "colab": {
          "base_uri": "https://localhost:8080/"
        },
        "id": "LRgBHhpf7TlU",
        "outputId": "69922d14-2cd7-410c-f0ac-eb3be154f2e0"
      },
      "execution_count": 13,
      "outputs": [
        {
          "output_type": "stream",
          "name": "stdout",
          "text": [
            "незаполненных строк - 0\n",
            "Количество уникальных записей - 388 из 1571\n"
          ]
        },
        {
          "output_type": "execute_result",
          "data": {
            "text/plain": [
              "array(['11.4', '4.2.5', '11.1', '4.3.1,10,11.1', '1.50,4.2.5,4.1,1.8.1.1',\n",
              "       '1.30.1,1.34.1,1.37.1', '5.1,6.1,6.2', '5.1,6', '5.1,6.2,6.1',\n",
              "       '5.1', '6.1,6.2,15', '6.1,6.2',\n",
              "       '1.8.1.1,1.8.2.1,1.14.2,1.19.1,1.34.1,1.37.1,1.50',\n",
              "       '1.34.1,1.19.1,1.14.2,1.50,1.37.1,1.8.1.1,1.8.2.1',\n",
              "       '1.8.1.1,1.8.2.1,1.14.2,1.19.1,1.37.1,1.50,1.34.1',\n",
              "       '1.8.1.1,1.8.2.1,1.14.2,1.34.1,1.37.1,1.50,1.19.1', '23', '4.4',\n",
              "       '1.23,1.46,3.4', '1.50,1.34.1,1.37.1'], dtype=object)"
            ]
          },
          "metadata": {},
          "execution_count": 13
        }
      ]
    },
    {
      "cell_type": "code",
      "source": [
        "bed_list = list(df_data['ВредныеФакторы'].unique())\n",
        "bed_list_n = []\n",
        "for elem in bed_list:\n",
        "    elem_1 = elem.split(',')\n",
        "    for i in range(len(elem_1)):\n",
        "        if elem_1[i] not in bed_list_n:\n",
        "            bed_list_n.append(elem_1[i])\n",
        "print(len(bed_list_n))\n",
        "print(bed_list_n[:30])"
      ],
      "metadata": {
        "colab": {
          "base_uri": "https://localhost:8080/"
        },
        "id": "YMQ7gSpHPOD6",
        "outputId": "10db0c3a-c3dd-4865-e98d-d002565a66a3"
      },
      "execution_count": null,
      "outputs": [
        {
          "output_type": "stream",
          "name": "stdout",
          "text": [
            "91\n",
            "['11.4', '4.2.5', '11.1', '4.3.1', '10', '1.50', '4.1', '1.8.1.1', '1.30.1', '1.34.1', '1.37.1', '5.1', '6.1', '6.2', '6', '15', '1.8.2.1', '1.14.2', '1.19.1', '23', '4.4', '1.23', '1.46', '3.4', '1.1', '1.8.1.2', '1.18.3', '1.29.1', '1.29.2', '1.36.1']\n"
          ]
        }
      ]
    },
    {
      "cell_type": "code",
      "source": [
        "tokenizer_bed = Tokenizer(num_words=92, filters='i!\"#$%&()*+,-–—/…:;<=>?@[\\\\]^_`{|}~«»\\t\\n\\xa0\\ufeff', lower=True, split=' ', oov_token='0.0.0', char_level=False)\n",
        "tokenizer_bed.fit_on_texts(list(df_data['ВредныеФакторы']))\n",
        "max(tokenizer_bed.word_index.values())"
      ],
      "metadata": {
        "colab": {
          "base_uri": "https://localhost:8080/"
        },
        "id": "nQ3gDElAnusO",
        "outputId": "b81a1917-3d5f-47bd-e86c-8ecdcd5b6467"
      },
      "execution_count": 14,
      "outputs": [
        {
          "output_type": "execute_result",
          "data": {
            "text/plain": [
              "92"
            ]
          },
          "metadata": {},
          "execution_count": 14
        }
      ]
    },
    {
      "cell_type": "markdown",
      "source": [
        "Получился список из 91 вредного фактора можно использовать BagOfWords до 100 слов с перенастроенным фильтром"
      ],
      "metadata": {
        "id": "5mDRyd-rT7rb"
      }
    },
    {
      "cell_type": "code",
      "source": [
        "# \n",
        "col_diag = []\n",
        "col_rec = []\n",
        "for elem in col_bow:\n",
        "    if 'Рекоменд' in elem:\n",
        "        col_rec.append(elem)\n",
        "    else:\n",
        "        col_diag.append(elem)\n",
        "\n",
        "print(f'Рекомендации - {len(col_rec)}, Заключения и диагнозы - {len(col_diag)}')"
      ],
      "metadata": {
        "colab": {
          "base_uri": "https://localhost:8080/"
        },
        "id": "CVkzAWgWn1Os",
        "outputId": "3d1ea130-9bd0-4de3-d181-29d60b540998"
      },
      "execution_count": 15,
      "outputs": [
        {
          "output_type": "stream",
          "name": "stdout",
          "text": [
            "Рекомендации - 3, Заключения и диагнозы - 12\n"
          ]
        }
      ]
    },
    {
      "cell_type": "code",
      "source": [
        "lst_diag = list(df_data[col_diag].values.tolist())\n",
        "print(len(lst_diag))\n",
        "print(lst_diag[7])\n",
        "print(type(lst_diag[1]))"
      ],
      "metadata": {
        "colab": {
          "base_uri": "https://localhost:8080/"
        },
        "id": "3EXszMV8m-9E",
        "outputId": "07340dbb-b058-45c2-a637-6da4ccaa7952"
      },
      "execution_count": 17,
      "outputs": [
        {
          "output_type": "stream",
          "name": "stdout",
          "text": [
            "1571\n",
            "['Общий медицинский осмотр', 'НетДанных', 'НетДанных', 'Астигматизм', 'Общий медицинский осмотр', 'Общий медицинский осмотр', 'Общий медицинский осмотр', 'Общий медицинский осмотр', 'НетДанных', 'НетДанных', 'НетДанных', 'Эрозивный гастрит. ']\n",
            "<class 'list'>\n"
          ]
        }
      ]
    },
    {
      "cell_type": "code",
      "source": [
        "tokenizer_diag = Tokenizer(num_words=185, filters='ZHMKD1234567890!\"#$%&()*+,-–—./…:;<=>?@[\\\\]^_`{|}~«»\\t\\n\\xa0\\ufeff', lower=True, split=' ', oov_token='неизвестное_слово', char_level=False)\n",
        "tokenizer_diag.fit_on_texts(lst_diag)\n",
        "max(tokenizer_diag.word_index.values())"
      ],
      "metadata": {
        "colab": {
          "base_uri": "https://localhost:8080/"
        },
        "id": "mYRQ07PcnAcC",
        "outputId": "dbae3b1f-5b64-4ec8-e68f-e65cd9adb41a"
      },
      "execution_count": 18,
      "outputs": [
        {
          "output_type": "execute_result",
          "data": {
            "text/plain": [
              "183"
            ]
          },
          "metadata": {},
          "execution_count": 18
        }
      ]
    },
    {
      "cell_type": "code",
      "source": [
        "lst_rec = list(df_data[col_rec].values.tolist())\n",
        "print(len(lst_rec))\n",
        "print(lst_rec[12])\n",
        "print(type(lst_rec[1]))"
      ],
      "metadata": {
        "colab": {
          "base_uri": "https://localhost:8080/"
        },
        "id": "7rMLeO1Irsee",
        "outputId": "00f48678-4a3c-4d52-e1e5-9bec429b14a0"
      },
      "execution_count": 19,
      "outputs": [
        {
          "output_type": "stream",
          "name": "stdout",
          "text": [
            "1571\n",
            "['НетДанных', 'Использование средств оптической коррекции зрения', 'НетДанных']\n",
            "<class 'list'>\n"
          ]
        }
      ]
    },
    {
      "cell_type": "code",
      "source": [
        "tokenizer_rec = Tokenizer(num_words=16, filters='ZHMKD1234567890!\"#$%&()*+,-–—./…:;<=>?@[\\\\]^_`{|}~«»\\t\\n\\xa0\\ufeff', lower=True, split=' ', oov_token='неизвестное_слово', char_level=False)\n",
        "tokenizer_rec.fit_on_texts(lst_rec)\n",
        "max(tokenizer_rec.word_index.values())"
      ],
      "metadata": {
        "colab": {
          "base_uri": "https://localhost:8080/"
        },
        "id": "zCKwDZtsNJMU",
        "outputId": "49596880-7515-42a8-e9c9-2d5014fe10f3"
      },
      "execution_count": 20,
      "outputs": [
        {
          "output_type": "execute_result",
          "data": {
            "text/plain": [
              "15"
            ]
          },
          "metadata": {},
          "execution_count": 20
        }
      ]
    },
    {
      "cell_type": "code",
      "source": [
        "# Для примера выведем некотрые строки\n",
        "df_tmp = df_cor[(df_cor['Терапия1_АртериальноеДавление_ЗначениеПредставление'] == '193') | (df_cor['Терапия1_АртериальноеДавление_ЗначениеПредставление'] == '120\\\\80') |  (df_cor['Терапия1_АртериальноеДавление_ЗначениеПредставление'] == '140/100')]\n",
        "df_tmp[['ЗаключениеМК','Терапия1_П_ЗначениеПредставление','Терапия1_АртериальноеДавление_ЗначениеПредставление','Терапия1_АртериальноеДавление21_ЗначениеПредставление']]"
      ],
      "metadata": {
        "colab": {
          "base_uri": "https://localhost:8080/",
          "height": 217
        },
        "id": "iEWt8fXu1Aj7",
        "outputId": "49534f41-42e6-4a28-ffee-8872ab32041e"
      },
      "execution_count": null,
      "outputs": [
        {
          "output_type": "execute_result",
          "data": {
            "text/plain": [
              "               ЗаключениеМК  Терапия1_П_ЗначениеПредставление  \\\n",
              "0                     Годен                              76.0   \n",
              "3                     Годен                              80.0   \n",
              "10   ГоденСКоррекциейЗрения                              80.0   \n",
              "14                    Годен                              80.0   \n",
              "214                   Годен                              69.0   \n",
              "\n",
              "    Терапия1_АртериальноеДавление_ЗначениеПредставление  \\\n",
              "0                                              140/100    \n",
              "3                                               120\\80    \n",
              "10                                              120\\80    \n",
              "14                                              120\\80    \n",
              "214                                                193    \n",
              "\n",
              "     Терапия1_АртериальноеДавление21_ЗначениеПредставление  \n",
              "0                                                  NaN      \n",
              "3                                                  NaN      \n",
              "10                                                 NaN      \n",
              "14                                                 NaN      \n",
              "214                                              100.0      "
            ],
            "text/html": [
              "\n",
              "  <div id=\"df-f0455e0c-ec16-48d2-80d3-abc3e3c33c52\">\n",
              "    <div class=\"colab-df-container\">\n",
              "      <div>\n",
              "<style scoped>\n",
              "    .dataframe tbody tr th:only-of-type {\n",
              "        vertical-align: middle;\n",
              "    }\n",
              "\n",
              "    .dataframe tbody tr th {\n",
              "        vertical-align: top;\n",
              "    }\n",
              "\n",
              "    .dataframe thead th {\n",
              "        text-align: right;\n",
              "    }\n",
              "</style>\n",
              "<table border=\"1\" class=\"dataframe\">\n",
              "  <thead>\n",
              "    <tr style=\"text-align: right;\">\n",
              "      <th></th>\n",
              "      <th>ЗаключениеМК</th>\n",
              "      <th>Терапия1_П_ЗначениеПредставление</th>\n",
              "      <th>Терапия1_АртериальноеДавление_ЗначениеПредставление</th>\n",
              "      <th>Терапия1_АртериальноеДавление21_ЗначениеПредставление</th>\n",
              "    </tr>\n",
              "  </thead>\n",
              "  <tbody>\n",
              "    <tr>\n",
              "      <th>0</th>\n",
              "      <td>Годен</td>\n",
              "      <td>76.0</td>\n",
              "      <td>140/100</td>\n",
              "      <td>NaN</td>\n",
              "    </tr>\n",
              "    <tr>\n",
              "      <th>3</th>\n",
              "      <td>Годен</td>\n",
              "      <td>80.0</td>\n",
              "      <td>120\\80</td>\n",
              "      <td>NaN</td>\n",
              "    </tr>\n",
              "    <tr>\n",
              "      <th>10</th>\n",
              "      <td>ГоденСКоррекциейЗрения</td>\n",
              "      <td>80.0</td>\n",
              "      <td>120\\80</td>\n",
              "      <td>NaN</td>\n",
              "    </tr>\n",
              "    <tr>\n",
              "      <th>14</th>\n",
              "      <td>Годен</td>\n",
              "      <td>80.0</td>\n",
              "      <td>120\\80</td>\n",
              "      <td>NaN</td>\n",
              "    </tr>\n",
              "    <tr>\n",
              "      <th>214</th>\n",
              "      <td>Годен</td>\n",
              "      <td>69.0</td>\n",
              "      <td>193</td>\n",
              "      <td>100.0</td>\n",
              "    </tr>\n",
              "  </tbody>\n",
              "</table>\n",
              "</div>\n",
              "      <button class=\"colab-df-convert\" onclick=\"convertToInteractive('df-f0455e0c-ec16-48d2-80d3-abc3e3c33c52')\"\n",
              "              title=\"Convert this dataframe to an interactive table.\"\n",
              "              style=\"display:none;\">\n",
              "        \n",
              "  <svg xmlns=\"http://www.w3.org/2000/svg\" height=\"24px\"viewBox=\"0 0 24 24\"\n",
              "       width=\"24px\">\n",
              "    <path d=\"M0 0h24v24H0V0z\" fill=\"none\"/>\n",
              "    <path d=\"M18.56 5.44l.94 2.06.94-2.06 2.06-.94-2.06-.94-.94-2.06-.94 2.06-2.06.94zm-11 1L8.5 8.5l.94-2.06 2.06-.94-2.06-.94L8.5 2.5l-.94 2.06-2.06.94zm10 10l.94 2.06.94-2.06 2.06-.94-2.06-.94-.94-2.06-.94 2.06-2.06.94z\"/><path d=\"M17.41 7.96l-1.37-1.37c-.4-.4-.92-.59-1.43-.59-.52 0-1.04.2-1.43.59L10.3 9.45l-7.72 7.72c-.78.78-.78 2.05 0 2.83L4 21.41c.39.39.9.59 1.41.59.51 0 1.02-.2 1.41-.59l7.78-7.78 2.81-2.81c.8-.78.8-2.07 0-2.86zM5.41 20L4 18.59l7.72-7.72 1.47 1.35L5.41 20z\"/>\n",
              "  </svg>\n",
              "      </button>\n",
              "      \n",
              "  <style>\n",
              "    .colab-df-container {\n",
              "      display:flex;\n",
              "      flex-wrap:wrap;\n",
              "      gap: 12px;\n",
              "    }\n",
              "\n",
              "    .colab-df-convert {\n",
              "      background-color: #E8F0FE;\n",
              "      border: none;\n",
              "      border-radius: 50%;\n",
              "      cursor: pointer;\n",
              "      display: none;\n",
              "      fill: #1967D2;\n",
              "      height: 32px;\n",
              "      padding: 0 0 0 0;\n",
              "      width: 32px;\n",
              "    }\n",
              "\n",
              "    .colab-df-convert:hover {\n",
              "      background-color: #E2EBFA;\n",
              "      box-shadow: 0px 1px 2px rgba(60, 64, 67, 0.3), 0px 1px 3px 1px rgba(60, 64, 67, 0.15);\n",
              "      fill: #174EA6;\n",
              "    }\n",
              "\n",
              "    [theme=dark] .colab-df-convert {\n",
              "      background-color: #3B4455;\n",
              "      fill: #D2E3FC;\n",
              "    }\n",
              "\n",
              "    [theme=dark] .colab-df-convert:hover {\n",
              "      background-color: #434B5C;\n",
              "      box-shadow: 0px 1px 3px 1px rgba(0, 0, 0, 0.15);\n",
              "      filter: drop-shadow(0px 1px 2px rgba(0, 0, 0, 0.3));\n",
              "      fill: #FFFFFF;\n",
              "    }\n",
              "  </style>\n",
              "\n",
              "      <script>\n",
              "        const buttonEl =\n",
              "          document.querySelector('#df-f0455e0c-ec16-48d2-80d3-abc3e3c33c52 button.colab-df-convert');\n",
              "        buttonEl.style.display =\n",
              "          google.colab.kernel.accessAllowed ? 'block' : 'none';\n",
              "\n",
              "        async function convertToInteractive(key) {\n",
              "          const element = document.querySelector('#df-f0455e0c-ec16-48d2-80d3-abc3e3c33c52');\n",
              "          const dataTable =\n",
              "            await google.colab.kernel.invokeFunction('convertToInteractive',\n",
              "                                                     [key], {});\n",
              "          if (!dataTable) return;\n",
              "\n",
              "          const docLinkHtml = 'Like what you see? Visit the ' +\n",
              "            '<a target=\"_blank\" href=https://colab.research.google.com/notebooks/data_table.ipynb>data table notebook</a>'\n",
              "            + ' to learn more about interactive tables.';\n",
              "          element.innerHTML = '';\n",
              "          dataTable['output_type'] = 'display_data';\n",
              "          await google.colab.output.renderOutput(dataTable, element);\n",
              "          const docLink = document.createElement('div');\n",
              "          docLink.innerHTML = docLinkHtml;\n",
              "          element.appendChild(docLink);\n",
              "        }\n",
              "      </script>\n",
              "    </div>\n",
              "  </div>\n",
              "  "
            ]
          },
          "metadata": {},
          "execution_count": 34
        }
      ]
    },
    {
      "cell_type": "markdown",
      "source": [
        "Вывод: колонка 'Терапия1_АртериальноеДавление_ЗначениеПредставление' должна содержать верхнюю гр. арт. давления, однако в некоторых лучаях заполнена не корректно (иногда сожедит и данные о нижней границе при этом вторая колонка остается незаполненной) при получении данных из неё нужен разбор по элементам.\n"
      ],
      "metadata": {
        "id": "uJklRwr5pj-b"
      }
    },
    {
      "cell_type": "markdown",
      "source": [
        "## формирование Dataseta создание модели"
      ],
      "metadata": {
        "id": "qIBmfXFRsliX"
      }
    },
    {
      "cell_type": "code",
      "source": [
        "def df_to_ohe(lstrow):\n",
        "    encoder = LabelEncoder()\n",
        "    list_names = []\n",
        "    for i in range(len(lstrow)):\n",
        "        list_names.append('label_'+str(i))\n",
        "        list_names[i] = utils.to_categorical(encoder.fit_transform(df_data[lstrow[i]].tolist()),df_data[lstrow[i]].nunique())\n",
        "    x_data = np.hstack(list_names)\n",
        "    return x_data\n"
      ],
      "metadata": {
        "id": "_3czSXPdsyK_"
      },
      "execution_count": 21,
      "outputs": []
    },
    {
      "cell_type": "code",
      "source": [
        "x_data1 = df_to_ohe(col_ohe)\n",
        "print(x_data1.shape)\n",
        "print(x_data1[7])"
      ],
      "metadata": {
        "colab": {
          "base_uri": "https://localhost:8080/"
        },
        "id": "PP8z-_eZ3Z4P",
        "outputId": "26e50366-f4c5-4520-e601-8a63c6acd550"
      },
      "execution_count": 22,
      "outputs": [
        {
          "output_type": "stream",
          "name": "stdout",
          "text": [
            "(1571, 40)\n",
            "[0. 1. 1. 0. 0. 1. 0. 0. 0. 0. 0. 1. 0. 1. 0. 0. 0. 1. 0. 0. 0. 1. 0. 0.\n",
            " 0. 0. 1. 0. 0. 0. 1. 0. 0. 0. 0. 1. 0. 1. 0. 0.]\n"
          ]
        }
      ]
    },
    {
      "cell_type": "code",
      "source": [
        "y_data = df_to_ohe(['ЗаключениеМК'])\n",
        "print(y_data.shape)\n",
        "print(y_data[7])"
      ],
      "metadata": {
        "colab": {
          "base_uri": "https://localhost:8080/"
        },
        "id": "xUvxX9wvAVfo",
        "outputId": "fef2612c-dce9-45d7-bc81-a8ed2b5ff617"
      },
      "execution_count": 23,
      "outputs": [
        {
          "output_type": "stream",
          "name": "stdout",
          "text": [
            "(1571, 3)\n",
            "[1. 0. 0.]\n"
          ]
        }
      ]
    },
    {
      "cell_type": "code",
      "source": [
        "bow_spec = tokenizer_spec.texts_to_matrix(df_data['Профессия'].tolist())\n",
        "bow_rec = tokenizer_rec.texts_to_matrix(df_data[col_rec].values.tolist())\n",
        "bow_bed = tokenizer_bed.texts_to_matrix(df_data['ВредныеФакторы'].tolist())\n",
        "bow_diag = tokenizer_diag.texts_to_matrix(df_data[col_diag].values.tolist())\n",
        "print(bow_spec.shape, bow_rec.shape, bow_bed.shape, bow_diag.shape, sep='\\n')"
      ],
      "metadata": {
        "colab": {
          "base_uri": "https://localhost:8080/"
        },
        "id": "p18Fu_YhA9Rn",
        "outputId": "cc4c4ada-0d38-425b-e37b-ab439cc392ae"
      },
      "execution_count": 24,
      "outputs": [
        {
          "output_type": "stream",
          "name": "stdout",
          "text": [
            "(1571, 510)\n",
            "(1571, 16)\n",
            "(1571, 92)\n",
            "(1571, 185)\n"
          ]
        }
      ]
    },
    {
      "cell_type": "code",
      "source": [
        "x_data2 = np.hstack([bow_spec, bow_rec, bow_bed, bow_diag])\n",
        "x_data2.shape"
      ],
      "metadata": {
        "colab": {
          "base_uri": "https://localhost:8080/"
        },
        "id": "M71hVTkcD_e-",
        "outputId": "38ed4fa1-0562-4e2c-fe41-8d14b46dc90a"
      },
      "execution_count": 25,
      "outputs": [
        {
          "output_type": "execute_result",
          "data": {
            "text/plain": [
              "(1571, 803)"
            ]
          },
          "metadata": {},
          "execution_count": 25
        }
      ]
    },
    {
      "cell_type": "code",
      "source": [
        "x_data3 = np.array(df_data[col_dig].values)\n",
        "print(x_data3.shape)\n",
        "print(x_data3[10:20])\n",
        "print(x_data3.max())"
      ],
      "metadata": {
        "colab": {
          "base_uri": "https://localhost:8080/"
        },
        "id": "9Nfn4gmDb6Ft",
        "outputId": "645e9105-3522-4457-88db-ee6a9c447c74"
      },
      "execution_count": 51,
      "outputs": [
        {
          "output_type": "stream",
          "name": "stdout",
          "text": [
            "(1571, 4)\n",
            "[[ 80.   120.     0.     0.  ]\n",
            " [ 80.   130.     0.     0.  ]\n",
            " [ 66.   125.     0.     0.  ]\n",
            " [ 80.   130.     0.     0.  ]\n",
            " [ 80.   120.     0.     0.  ]\n",
            " [ 75.   133.    82.    22.53]\n",
            " [ 80.   120.    80.    29.74]\n",
            " [  0.   100.    80.    19.92]\n",
            " [ 80.   120.    80.    29.37]\n",
            " [ 80.   110.    80.    23.24]]\n",
            "805.0\n"
          ]
        }
      ]
    },
    {
      "cell_type": "code",
      "source": [
        "# Корректировка выбросов\n",
        "np.where(x_data3 == 805)"
      ],
      "metadata": {
        "colab": {
          "base_uri": "https://localhost:8080/"
        },
        "id": "lXqcTe_XkXbg",
        "outputId": "49aad694-56a7-4f70-e2f4-e2a922f91a3e"
      },
      "execution_count": 52,
      "outputs": [
        {
          "output_type": "execute_result",
          "data": {
            "text/plain": [
              "(array([620]), array([2]))"
            ]
          },
          "metadata": {},
          "execution_count": 52
        }
      ]
    },
    {
      "cell_type": "code",
      "source": [
        "x_data3[620,2] = 80\n",
        "print(x_data3.max())"
      ],
      "metadata": {
        "colab": {
          "base_uri": "https://localhost:8080/"
        },
        "id": "xx8t6d9lkiIi",
        "outputId": "eec082b8-91f1-4edf-dea6-74bbb5fda603"
      },
      "execution_count": 54,
      "outputs": [
        {
          "output_type": "stream",
          "name": "stdout",
          "text": [
            "801.0\n"
          ]
        }
      ]
    },
    {
      "cell_type": "code",
      "source": [
        "np.where(x_data3 == 801)"
      ],
      "metadata": {
        "colab": {
          "base_uri": "https://localhost:8080/"
        },
        "id": "vRWsCDB-jCXt",
        "outputId": "bb8080e1-8bb7-43d2-af14-76a7144abbb1"
      },
      "execution_count": 55,
      "outputs": [
        {
          "output_type": "execute_result",
          "data": {
            "text/plain": [
              "(array([268]), array([2]))"
            ]
          },
          "metadata": {},
          "execution_count": 55
        }
      ]
    },
    {
      "cell_type": "code",
      "source": [
        "x_data3[268,2] = 80\n",
        "print(x_data3.max())"
      ],
      "metadata": {
        "colab": {
          "base_uri": "https://localhost:8080/"
        },
        "id": "7J1ypsEKjQNc",
        "outputId": "820a1370-58c9-4381-a57a-0178bf141655"
      },
      "execution_count": 57,
      "outputs": [
        {
          "output_type": "stream",
          "name": "stdout",
          "text": [
            "198.0\n"
          ]
        }
      ]
    },
    {
      "cell_type": "code",
      "source": [
        "# Нормализация\n",
        "x_data3 = x_data3 / 198.0\n",
        "print(x_data3.max())"
      ],
      "metadata": {
        "colab": {
          "base_uri": "https://localhost:8080/"
        },
        "id": "x3kPX2FXkFlc",
        "outputId": "092e854b-2a03-455e-ebe8-acef81aef0d4"
      },
      "execution_count": 58,
      "outputs": [
        {
          "output_type": "stream",
          "name": "stdout",
          "text": [
            "1.0\n"
          ]
        }
      ]
    },
    {
      "cell_type": "code",
      "source": [
        "# Объединение всех данных\n",
        "x_data = np.hstack([x_data1, x_data2, x_data3])\n",
        "x_data.shape"
      ],
      "metadata": {
        "colab": {
          "base_uri": "https://localhost:8080/"
        },
        "id": "D84vxLr1lbAr",
        "outputId": "a7ef17a6-a0eb-4e2a-d925-08a6ec4f3033"
      },
      "execution_count": 60,
      "outputs": [
        {
          "output_type": "execute_result",
          "data": {
            "text/plain": [
              "(1571, 847)"
            ]
          },
          "metadata": {},
          "execution_count": 60
        }
      ]
    },
    {
      "cell_type": "code",
      "source": [
        "model1 = Sequential()\n",
        "\n",
        "model1.add(Dense(850, input_dim=847, activation='relu'))\n",
        "model1.add(BatchNormalization())\n",
        "model1.add(Dropout(0.4))\n",
        "model1.add(Dense(1500, activation='relu'))\n",
        "model1.add(Dropout(0.5))\n",
        "model1.add(Dense(200, activation='relu'))\n",
        "model1.add(Dropout(0.4))\n",
        "model1.add(Dense(3, activation = 'softmax'))\n",
        "\n",
        "model1.compile(loss='categorical_crossentropy', optimizer='adam', metrics=['accuracy'])\n",
        "\n",
        "history = model1.fit(x_data, y_data, batch_size=128, validation_split=0.15, epochs=20, verbose=1)"
      ],
      "metadata": {
        "colab": {
          "base_uri": "https://localhost:8080/"
        },
        "id": "qmRs1d9embzi",
        "outputId": "bfdc9123-2b5e-4f0e-a12d-384b8d6ad0e2"
      },
      "execution_count": 81,
      "outputs": [
        {
          "output_type": "stream",
          "name": "stdout",
          "text": [
            "Epoch 1/20\n",
            "11/11 [==============================] - 4s 92ms/step - loss: 0.7665 - accuracy: 0.8217 - val_loss: 0.6379 - val_accuracy: 0.9068\n",
            "Epoch 2/20\n",
            "11/11 [==============================] - 1s 74ms/step - loss: 0.2932 - accuracy: 0.8989 - val_loss: 0.5514 - val_accuracy: 0.9322\n",
            "Epoch 3/20\n",
            "11/11 [==============================] - 1s 71ms/step - loss: 0.1848 - accuracy: 0.9386 - val_loss: 0.6109 - val_accuracy: 0.9449\n",
            "Epoch 4/20\n",
            "11/11 [==============================] - 1s 67ms/step - loss: 0.1536 - accuracy: 0.9378 - val_loss: 0.5484 - val_accuracy: 0.9492\n",
            "Epoch 5/20\n",
            "11/11 [==============================] - 1s 72ms/step - loss: 0.1175 - accuracy: 0.9461 - val_loss: 0.5019 - val_accuracy: 0.9492\n",
            "Epoch 6/20\n",
            "11/11 [==============================] - 1s 68ms/step - loss: 0.0989 - accuracy: 0.9625 - val_loss: 0.4365 - val_accuracy: 0.9492\n",
            "Epoch 7/20\n",
            "11/11 [==============================] - 1s 67ms/step - loss: 0.0866 - accuracy: 0.9603 - val_loss: 0.4116 - val_accuracy: 0.9449\n",
            "Epoch 8/20\n",
            "11/11 [==============================] - 1s 71ms/step - loss: 0.0744 - accuracy: 0.9655 - val_loss: 0.3565 - val_accuracy: 0.9449\n",
            "Epoch 9/20\n",
            "11/11 [==============================] - 1s 72ms/step - loss: 0.0496 - accuracy: 0.9835 - val_loss: 0.3455 - val_accuracy: 0.9492\n",
            "Epoch 10/20\n",
            "11/11 [==============================] - 3s 254ms/step - loss: 0.0521 - accuracy: 0.9798 - val_loss: 0.3255 - val_accuracy: 0.9492\n",
            "Epoch 11/20\n",
            "11/11 [==============================] - 1s 113ms/step - loss: 0.0444 - accuracy: 0.9813 - val_loss: 0.3217 - val_accuracy: 0.9407\n",
            "Epoch 12/20\n",
            "11/11 [==============================] - 1s 112ms/step - loss: 0.0463 - accuracy: 0.9783 - val_loss: 0.3061 - val_accuracy: 0.9449\n",
            "Epoch 13/20\n",
            "11/11 [==============================] - 1s 77ms/step - loss: 0.0406 - accuracy: 0.9858 - val_loss: 0.2767 - val_accuracy: 0.9364\n",
            "Epoch 14/20\n",
            "11/11 [==============================] - 1s 70ms/step - loss: 0.0407 - accuracy: 0.9865 - val_loss: 0.2649 - val_accuracy: 0.9449\n",
            "Epoch 15/20\n",
            "11/11 [==============================] - 1s 69ms/step - loss: 0.0300 - accuracy: 0.9895 - val_loss: 0.2311 - val_accuracy: 0.9407\n",
            "Epoch 16/20\n",
            "11/11 [==============================] - 1s 73ms/step - loss: 0.0521 - accuracy: 0.9798 - val_loss: 0.2212 - val_accuracy: 0.9364\n",
            "Epoch 17/20\n",
            "11/11 [==============================] - 1s 70ms/step - loss: 0.0402 - accuracy: 0.9858 - val_loss: 0.2575 - val_accuracy: 0.9237\n",
            "Epoch 18/20\n",
            "11/11 [==============================] - 1s 70ms/step - loss: 0.0411 - accuracy: 0.9865 - val_loss: 0.1981 - val_accuracy: 0.9492\n",
            "Epoch 19/20\n",
            "11/11 [==============================] - 1s 70ms/step - loss: 0.0365 - accuracy: 0.9858 - val_loss: 0.1863 - val_accuracy: 0.9492\n",
            "Epoch 20/20\n",
            "11/11 [==============================] - 1s 71ms/step - loss: 0.0282 - accuracy: 0.9910 - val_loss: 0.2033 - val_accuracy: 0.9407\n"
          ]
        }
      ]
    },
    {
      "cell_type": "code",
      "source": [
        "plt.figure(figsize = (7, 3))\n",
        "plt.plot(history.history['loss'], \n",
        "         label='Значение ошибки на обучающем наборе')\n",
        "plt.plot(history.history['val_loss'], \n",
        "         label='Значение ошибки на проверочном наборе')\n",
        "plt.xlabel('Эпоха обучения')\n",
        "plt.ylabel('Значение ошибки')\n",
        "plt.legend()\n",
        "plt.show()\n",
        "\n",
        "# Строим график для отображения динамики обучения и точности предсказания сети\n",
        "plt.figure(figsize = (7, 3))\n",
        "plt.plot(history.history['accuracy'], \n",
        "         label='Доля верных ответов на обучающем наборе')\n",
        "plt.plot(history.history['val_accuracy'], \n",
        "         label='Доля верных ответов на проверочном наборе')\n",
        "plt.xlabel('Эпоха обучения')\n",
        "plt.ylabel('Доля верных ответов')\n",
        "plt.legend()\n",
        "plt.show()"
      ],
      "metadata": {
        "colab": {
          "base_uri": "https://localhost:8080/",
          "height": 609
        },
        "id": "8__cJ4WUr52v",
        "outputId": "1fea9ebe-19e5-4284-a683-2f4afc8cbd7f"
      },
      "execution_count": 82,
      "outputs": [
        {
          "output_type": "display_data",
          "data": {
            "text/plain": [
              "<Figure size 700x300 with 1 Axes>"
            ],
            "image/png": "[encoded data removed]"
          },
          "metadata": {}
        },
        {
          "output_type": "display_data",
          "data": {
            "text/plain": [
              "<Figure size 700x300 with 1 Axes>"
            ],
            "image/png": "[encoded data removed]"
          },
          "metadata": {}
        }
      ]
    }
  ]
}